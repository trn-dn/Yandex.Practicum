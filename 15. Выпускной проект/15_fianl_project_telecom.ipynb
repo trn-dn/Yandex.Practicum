{
 "cells": [
  {
   "cell_type": "markdown",
   "metadata": {
    "toc": true
   },
   "source": [
    "<h1>Содержание<span class=\"tocSkip\"></span></h1>\n",
    "<div class=\"toc\"><ul class=\"toc-item\"><li><span><a href=\"#Описание-данных-и-план-работы\" data-toc-modified-id=\"Описание-данных-и-план-работы-1\"><span class=\"toc-item-num\">1&nbsp;&nbsp;</span>Описание данных и план работы</a></span></li><li><span><a href=\"#Загрузка-и-ознакомление-с-датасетами\" data-toc-modified-id=\"Загрузка-и-ознакомление-с-датасетами-2\"><span class=\"toc-item-num\">2&nbsp;&nbsp;</span>Загрузка и ознакомление с датасетами</a></span></li><li><span><a href=\"#Предобработка-данных\" data-toc-modified-id=\"Предобработка-данных-3\"><span class=\"toc-item-num\">3&nbsp;&nbsp;</span>Предобработка данных</a></span></li><li><span><a href=\"#Исследовательский-анализ-данных\" data-toc-modified-id=\"Исследовательский-анализ-данных-4\"><span class=\"toc-item-num\">4&nbsp;&nbsp;</span>Исследовательский анализ данных</a></span></li><li><span><a href=\"#Подготовка-признаков-к-обучению\" data-toc-modified-id=\"Подготовка-признаков-к-обучению-5\"><span class=\"toc-item-num\">5&nbsp;&nbsp;</span>Подготовка признаков к обучению</a></span></li><li><span><a href=\"#Обучение-моделей-на-обучающей-выборке\" data-toc-modified-id=\"Обучение-моделей-на-обучающей-выборке-6\"><span class=\"toc-item-num\">6&nbsp;&nbsp;</span>Обучение моделей на обучающей выборке</a></span></li><li><span><a href=\"#Тестирование-моделей\" data-toc-modified-id=\"Тестирование-моделей-7\"><span class=\"toc-item-num\">7&nbsp;&nbsp;</span>Тестирование моделей</a></span></li><li><span><a href=\"#Вывод\" data-toc-modified-id=\"Вывод-8\"><span class=\"toc-item-num\">8&nbsp;&nbsp;</span>Вывод</a></span></li><li><span><a href=\"#Отчёт-по-решению\" data-toc-modified-id=\"Отчёт-по-решению-9\"><span class=\"toc-item-num\">9&nbsp;&nbsp;</span>Отчёт по решению</a></span></li></ul></div>"
   ]
  },
  {
   "cell_type": "markdown",
   "metadata": {},
   "source": [
    "# Телеком — задача проекта"
   ]
  },
  {
   "cell_type": "markdown",
   "metadata": {},
   "source": [
    "## Описание данных и план работы"
   ]
  },
  {
   "cell_type": "markdown",
   "metadata": {},
   "source": [
    "Оператор связи «Ниединогоразрыва.ком» хочет научиться прогнозировать отток клиентов. Если выяснится, что пользователь планирует уйти, ему будут предложены промокоды и специальные условия. Команда оператора собрала персональные данные о некоторых клиентах, информацию об их тарифах и договорах.\n",
    "\n",
    "**Описание услуг**\n",
    "\n",
    "Оператор предоставляет два основных типа услуг: \n",
    "\n",
    "1. Стационарную телефонную связь. Возможно подключение телефонного аппарата к нескольким линиям одновременно.\n",
    "2. Интернет. Подключение может быть двух типов: через телефонную линию (DSL*,* от англ. *digital subscriber line*, «цифровая абонентская линия») или оптоволоконный кабель (*Fiber optic*).\n",
    "\n",
    "Также доступны такие услуги:\n",
    "\n",
    "- Интернет-безопасность: антивирус (*DeviceProtection*) и блокировка небезопасных сайтов (*OnlineSecurity*);\n",
    "- Выделенная линия технической поддержки (*TechSupport*);\n",
    "- Облачное хранилище файлов для резервного копирования данных (*OnlineBackup*);\n",
    "- Стриминговое телевидение (*StreamingTV*) и каталог фильмов (*StreamingMovies*).\n",
    "\n",
    "За услуги клиенты могут платить каждый месяц или заключить договор на 1–2 года. Доступны различные способы расчёта и возможность получения электронного чека.\n",
    "\n",
    "**Описание данных**\n",
    "\n",
    "Данные состоят из файлов, полученных из разных источников:\n",
    "\n",
    "- `contract.csv` — информация о договоре;\n",
    "- `personal.csv` — персональные данные клиента;\n",
    "- `internet.csv` — информация об интернет-услугах;\n",
    "- `phone.csv` — информация об услугах телефонии.\n",
    "\n",
    "Во всех файлах столбец `customerID` содержит код клиента.\n",
    "\n",
    "Информация о договорах актуальна на 1 февраля 2020.\n"
   ]
  },
  {
   "cell_type": "markdown",
   "metadata": {},
   "source": [
    "**План работы над проектом**\n",
    "\n",
    "- Условие задачи, постановка задачи, описание данных \n",
    "- Загрузка и первчиное ознакомление с данными \n",
    "- Предобработка данных \n",
    "    - Проверка на дубликаты и пропуски, привидение к корректному типу данных, удаление лишних данных и тд.\n",
    "    - Выделение целевого признака \n",
    "    - Объединение датасетов\n",
    "- Исследовательский анализ данных\n",
    "- Подготовка данных к обучению \n",
    "    - Разделение данных на обучающую и тестовую выборку \n",
    "    - Выделение признаков и целевого признака (features и target)\n",
    "    - Кодирование \n",
    "    - Масштабирование \n",
    "- Обучение различных моделей на обучающей выборке и выбор наилучшей модели (данный пункт также включает в себя подбор гиперпараметров, используя кросс-валидацию)\n",
    "- Обучение лучшей модели на тестовой выборке \n",
    "- Выводы по обучению, итоги проекта "
   ]
  },
  {
   "cell_type": "markdown",
   "metadata": {},
   "source": [
    "## Загрузка и ознакомление с датасетами"
   ]
  },
  {
   "cell_type": "markdown",
   "metadata": {},
   "source": [
    "Импортируем библиотеки, которые нам понадобятся для нашей работы:"
   ]
  },
  {
   "cell_type": "code",
   "execution_count": 1,
   "metadata": {},
   "outputs": [],
   "source": [
    "import pandas as pd\n",
    "import matplotlib.pyplot as plt\n",
    "import seaborn as sns\n",
    "from sklearn.model_selection import train_test_split, GridSearchCV\n",
    "from sklearn.preprocessing import StandardScaler\n",
    "from sklearn.linear_model import LogisticRegression\n",
    "from lightgbm import LGBMClassifier\n",
    "from catboost import CatBoostClassifier\n",
    "from sklearn.metrics import roc_auc_score, accuracy_score, roc_curve\n",
    "\n",
    "import warnings\n",
    "warnings.filterwarnings('ignore')"
   ]
  },
  {
   "cell_type": "markdown",
   "metadata": {},
   "source": [
    "Далее откроем наши датасеты."
   ]
  },
  {
   "cell_type": "code",
   "execution_count": 2,
   "metadata": {},
   "outputs": [],
   "source": [
    "try:\n",
    "    df_contract = pd.read_csv('/datasets/final_provider/contract.csv')\n",
    "    df_internet = pd.read_csv('/datasets/final_provider/internet.csv')\n",
    "    df_personal = pd.read_csv('/datasets/final_provider/personal.csv')\n",
    "    df_phone = pd.read_csv('/datasets/final_provider/phone.csv')\n",
    "\n",
    "except:\n",
    "    df_contract = pd.read_csv('/Users/trndn/Desktop/DataScience/projects/final_provider/contract.csv')\n",
    "    df_internet = pd.read_csv('/Users/trndn/Desktop/DataScience/projects/final_provider/internet.csv')\n",
    "    df_personal = pd.read_csv('/Users/trndn/Desktop/DataScience/projects/final_provider/personal.csv')\n",
    "    df_phone = pd.read_csv('/Users/trndn/Desktop/DataScience/projects/final_provider/phone.csv')\n",
    "\n",
    "pd.options.display.max_columns = None"
   ]
  },
  {
   "cell_type": "markdown",
   "metadata": {},
   "source": [
    "Изучим первоначальную информацию о наших датасетах: выведем на экран первые пять строк, общую информацию о датасете и уникальные значения, которые содержат каждый столбец датасета (для этого для начала напишем отдельную функцию)."
   ]
  },
  {
   "cell_type": "code",
   "execution_count": 3,
   "metadata": {
    "scrolled": false
   },
   "outputs": [
    {
     "data": {
      "text/html": [
       "<div>\n",
       "<style scoped>\n",
       "    .dataframe tbody tr th:only-of-type {\n",
       "        vertical-align: middle;\n",
       "    }\n",
       "\n",
       "    .dataframe tbody tr th {\n",
       "        vertical-align: top;\n",
       "    }\n",
       "\n",
       "    .dataframe thead th {\n",
       "        text-align: right;\n",
       "    }\n",
       "</style>\n",
       "<table border=\"1\" class=\"dataframe\">\n",
       "  <thead>\n",
       "    <tr style=\"text-align: right;\">\n",
       "      <th></th>\n",
       "      <th>customerID</th>\n",
       "      <th>BeginDate</th>\n",
       "      <th>EndDate</th>\n",
       "      <th>Type</th>\n",
       "      <th>PaperlessBilling</th>\n",
       "      <th>PaymentMethod</th>\n",
       "      <th>MonthlyCharges</th>\n",
       "      <th>TotalCharges</th>\n",
       "    </tr>\n",
       "  </thead>\n",
       "  <tbody>\n",
       "    <tr>\n",
       "      <th>0</th>\n",
       "      <td>7590-VHVEG</td>\n",
       "      <td>2020-01-01</td>\n",
       "      <td>No</td>\n",
       "      <td>Month-to-month</td>\n",
       "      <td>Yes</td>\n",
       "      <td>Electronic check</td>\n",
       "      <td>29.85</td>\n",
       "      <td>29.85</td>\n",
       "    </tr>\n",
       "    <tr>\n",
       "      <th>1</th>\n",
       "      <td>5575-GNVDE</td>\n",
       "      <td>2017-04-01</td>\n",
       "      <td>No</td>\n",
       "      <td>One year</td>\n",
       "      <td>No</td>\n",
       "      <td>Mailed check</td>\n",
       "      <td>56.95</td>\n",
       "      <td>1889.5</td>\n",
       "    </tr>\n",
       "    <tr>\n",
       "      <th>2</th>\n",
       "      <td>3668-QPYBK</td>\n",
       "      <td>2019-10-01</td>\n",
       "      <td>2019-12-01 00:00:00</td>\n",
       "      <td>Month-to-month</td>\n",
       "      <td>Yes</td>\n",
       "      <td>Mailed check</td>\n",
       "      <td>53.85</td>\n",
       "      <td>108.15</td>\n",
       "    </tr>\n",
       "    <tr>\n",
       "      <th>3</th>\n",
       "      <td>7795-CFOCW</td>\n",
       "      <td>2016-05-01</td>\n",
       "      <td>No</td>\n",
       "      <td>One year</td>\n",
       "      <td>No</td>\n",
       "      <td>Bank transfer (automatic)</td>\n",
       "      <td>42.30</td>\n",
       "      <td>1840.75</td>\n",
       "    </tr>\n",
       "    <tr>\n",
       "      <th>4</th>\n",
       "      <td>9237-HQITU</td>\n",
       "      <td>2019-09-01</td>\n",
       "      <td>2019-11-01 00:00:00</td>\n",
       "      <td>Month-to-month</td>\n",
       "      <td>Yes</td>\n",
       "      <td>Electronic check</td>\n",
       "      <td>70.70</td>\n",
       "      <td>151.65</td>\n",
       "    </tr>\n",
       "  </tbody>\n",
       "</table>\n",
       "</div>"
      ],
      "text/plain": [
       "   customerID   BeginDate              EndDate            Type  \\\n",
       "0  7590-VHVEG  2020-01-01                   No  Month-to-month   \n",
       "1  5575-GNVDE  2017-04-01                   No        One year   \n",
       "2  3668-QPYBK  2019-10-01  2019-12-01 00:00:00  Month-to-month   \n",
       "3  7795-CFOCW  2016-05-01                   No        One year   \n",
       "4  9237-HQITU  2019-09-01  2019-11-01 00:00:00  Month-to-month   \n",
       "\n",
       "  PaperlessBilling              PaymentMethod  MonthlyCharges TotalCharges  \n",
       "0              Yes           Electronic check           29.85        29.85  \n",
       "1               No               Mailed check           56.95       1889.5  \n",
       "2              Yes               Mailed check           53.85       108.15  \n",
       "3               No  Bank transfer (automatic)           42.30      1840.75  \n",
       "4              Yes           Electronic check           70.70       151.65  "
      ]
     },
     "metadata": {},
     "output_type": "display_data"
    },
    {
     "name": "stdout",
     "output_type": "stream",
     "text": [
      "<class 'pandas.core.frame.DataFrame'>\n",
      "RangeIndex: 7043 entries, 0 to 7042\n",
      "Data columns (total 8 columns):\n",
      " #   Column            Non-Null Count  Dtype  \n",
      "---  ------            --------------  -----  \n",
      " 0   customerID        7043 non-null   object \n",
      " 1   BeginDate         7043 non-null   object \n",
      " 2   EndDate           7043 non-null   object \n",
      " 3   Type              7043 non-null   object \n",
      " 4   PaperlessBilling  7043 non-null   object \n",
      " 5   PaymentMethod     7043 non-null   object \n",
      " 6   MonthlyCharges    7043 non-null   float64\n",
      " 7   TotalCharges      7043 non-null   object \n",
      "dtypes: float64(1), object(7)\n",
      "memory usage: 440.3+ KB\n",
      "Уникальные значения столбца customerID\n",
      "['0002-ORFBO' '0003-MKNFE' '0004-TLHLJ' ... '9992-UJOEL' '9993-LHIEB'\n",
      " '9995-HOTOH']\n",
      "Уникальные значения столбца BeginDate\n",
      "['2013-10-01' '2013-11-01' '2013-12-01' '2014-01-01' '2014-02-01'\n",
      " '2014-03-01' '2014-04-01' '2014-05-01' '2014-06-01' '2014-07-01'\n",
      " '2014-08-01' '2014-09-01' '2014-10-01' '2014-11-01' '2014-12-01'\n",
      " '2015-01-01' '2015-02-01' '2015-03-01' '2015-04-01' '2015-05-01'\n",
      " '2015-06-01' '2015-07-01' '2015-08-01' '2015-09-01' '2015-10-01'\n",
      " '2015-11-01' '2015-12-01' '2016-01-01' '2016-02-01' '2016-03-01'\n",
      " '2016-04-01' '2016-05-01' '2016-06-01' '2016-07-01' '2016-08-01'\n",
      " '2016-09-01' '2016-10-01' '2016-11-01' '2016-12-01' '2017-01-01'\n",
      " '2017-02-01' '2017-03-01' '2017-04-01' '2017-05-01' '2017-06-01'\n",
      " '2017-07-01' '2017-08-01' '2017-09-01' '2017-10-01' '2017-11-01'\n",
      " '2017-12-01' '2018-01-01' '2018-02-01' '2018-03-01' '2018-04-01'\n",
      " '2018-05-01' '2018-06-01' '2018-07-01' '2018-08-01' '2018-09-01'\n",
      " '2018-10-01' '2018-11-01' '2018-12-01' '2019-01-01' '2019-02-01'\n",
      " '2019-03-01' '2019-04-01' '2019-05-01' '2019-06-01' '2019-07-01'\n",
      " '2019-08-01' '2019-09-01' '2019-10-01' '2019-11-01' '2019-12-01'\n",
      " '2020-01-01' '2020-02-01']\n",
      "Уникальные значения столбца EndDate\n",
      "['2019-10-01 00:00:00' '2019-11-01 00:00:00' '2019-12-01 00:00:00'\n",
      " '2020-01-01 00:00:00' 'No']\n",
      "Уникальные значения столбца Type\n",
      "['Month-to-month' 'One year' 'Two year']\n",
      "Уникальные значения столбца PaperlessBilling\n",
      "['No' 'Yes']\n",
      "Уникальные значения столбца PaymentMethod\n",
      "['Bank transfer (automatic)' 'Credit card (automatic)' 'Electronic check'\n",
      " 'Mailed check']\n",
      "Уникальные значения столбца MonthlyCharges\n",
      "[ 18.25  18.4   18.55 ... 118.6  118.65 118.75]\n",
      "Уникальные значения столбца TotalCharges\n",
      "[' ' '100.2' '100.25' ... '999.45' '999.8' '999.9']\n",
      "-------------------------------------------------------------------------------------------\n"
     ]
    },
    {
     "data": {
      "text/html": [
       "<div>\n",
       "<style scoped>\n",
       "    .dataframe tbody tr th:only-of-type {\n",
       "        vertical-align: middle;\n",
       "    }\n",
       "\n",
       "    .dataframe tbody tr th {\n",
       "        vertical-align: top;\n",
       "    }\n",
       "\n",
       "    .dataframe thead th {\n",
       "        text-align: right;\n",
       "    }\n",
       "</style>\n",
       "<table border=\"1\" class=\"dataframe\">\n",
       "  <thead>\n",
       "    <tr style=\"text-align: right;\">\n",
       "      <th></th>\n",
       "      <th>customerID</th>\n",
       "      <th>InternetService</th>\n",
       "      <th>OnlineSecurity</th>\n",
       "      <th>OnlineBackup</th>\n",
       "      <th>DeviceProtection</th>\n",
       "      <th>TechSupport</th>\n",
       "      <th>StreamingTV</th>\n",
       "      <th>StreamingMovies</th>\n",
       "    </tr>\n",
       "  </thead>\n",
       "  <tbody>\n",
       "    <tr>\n",
       "      <th>0</th>\n",
       "      <td>7590-VHVEG</td>\n",
       "      <td>DSL</td>\n",
       "      <td>No</td>\n",
       "      <td>Yes</td>\n",
       "      <td>No</td>\n",
       "      <td>No</td>\n",
       "      <td>No</td>\n",
       "      <td>No</td>\n",
       "    </tr>\n",
       "    <tr>\n",
       "      <th>1</th>\n",
       "      <td>5575-GNVDE</td>\n",
       "      <td>DSL</td>\n",
       "      <td>Yes</td>\n",
       "      <td>No</td>\n",
       "      <td>Yes</td>\n",
       "      <td>No</td>\n",
       "      <td>No</td>\n",
       "      <td>No</td>\n",
       "    </tr>\n",
       "    <tr>\n",
       "      <th>2</th>\n",
       "      <td>3668-QPYBK</td>\n",
       "      <td>DSL</td>\n",
       "      <td>Yes</td>\n",
       "      <td>Yes</td>\n",
       "      <td>No</td>\n",
       "      <td>No</td>\n",
       "      <td>No</td>\n",
       "      <td>No</td>\n",
       "    </tr>\n",
       "    <tr>\n",
       "      <th>3</th>\n",
       "      <td>7795-CFOCW</td>\n",
       "      <td>DSL</td>\n",
       "      <td>Yes</td>\n",
       "      <td>No</td>\n",
       "      <td>Yes</td>\n",
       "      <td>Yes</td>\n",
       "      <td>No</td>\n",
       "      <td>No</td>\n",
       "    </tr>\n",
       "    <tr>\n",
       "      <th>4</th>\n",
       "      <td>9237-HQITU</td>\n",
       "      <td>Fiber optic</td>\n",
       "      <td>No</td>\n",
       "      <td>No</td>\n",
       "      <td>No</td>\n",
       "      <td>No</td>\n",
       "      <td>No</td>\n",
       "      <td>No</td>\n",
       "    </tr>\n",
       "  </tbody>\n",
       "</table>\n",
       "</div>"
      ],
      "text/plain": [
       "   customerID InternetService OnlineSecurity OnlineBackup DeviceProtection  \\\n",
       "0  7590-VHVEG             DSL             No          Yes               No   \n",
       "1  5575-GNVDE             DSL            Yes           No              Yes   \n",
       "2  3668-QPYBK             DSL            Yes          Yes               No   \n",
       "3  7795-CFOCW             DSL            Yes           No              Yes   \n",
       "4  9237-HQITU     Fiber optic             No           No               No   \n",
       "\n",
       "  TechSupport StreamingTV StreamingMovies  \n",
       "0          No          No              No  \n",
       "1          No          No              No  \n",
       "2          No          No              No  \n",
       "3         Yes          No              No  \n",
       "4          No          No              No  "
      ]
     },
     "metadata": {},
     "output_type": "display_data"
    },
    {
     "name": "stdout",
     "output_type": "stream",
     "text": [
      "<class 'pandas.core.frame.DataFrame'>\n",
      "RangeIndex: 5517 entries, 0 to 5516\n",
      "Data columns (total 8 columns):\n",
      " #   Column            Non-Null Count  Dtype \n",
      "---  ------            --------------  ----- \n",
      " 0   customerID        5517 non-null   object\n",
      " 1   InternetService   5517 non-null   object\n",
      " 2   OnlineSecurity    5517 non-null   object\n",
      " 3   OnlineBackup      5517 non-null   object\n",
      " 4   DeviceProtection  5517 non-null   object\n",
      " 5   TechSupport       5517 non-null   object\n",
      " 6   StreamingTV       5517 non-null   object\n",
      " 7   StreamingMovies   5517 non-null   object\n",
      "dtypes: object(8)\n",
      "memory usage: 344.9+ KB\n",
      "Уникальные значения столбца customerID\n",
      "['0002-ORFBO' '0003-MKNFE' '0004-TLHLJ' ... '9992-UJOEL' '9993-LHIEB'\n",
      " '9995-HOTOH']\n",
      "Уникальные значения столбца InternetService\n",
      "['DSL' 'Fiber optic']\n",
      "Уникальные значения столбца OnlineSecurity\n",
      "['No' 'Yes']\n",
      "Уникальные значения столбца OnlineBackup\n",
      "['No' 'Yes']\n",
      "Уникальные значения столбца DeviceProtection\n",
      "['No' 'Yes']\n",
      "Уникальные значения столбца TechSupport\n",
      "['No' 'Yes']\n",
      "Уникальные значения столбца StreamingTV\n",
      "['No' 'Yes']\n",
      "Уникальные значения столбца StreamingMovies\n",
      "['No' 'Yes']\n",
      "-------------------------------------------------------------------------------------------\n"
     ]
    },
    {
     "data": {
      "text/html": [
       "<div>\n",
       "<style scoped>\n",
       "    .dataframe tbody tr th:only-of-type {\n",
       "        vertical-align: middle;\n",
       "    }\n",
       "\n",
       "    .dataframe tbody tr th {\n",
       "        vertical-align: top;\n",
       "    }\n",
       "\n",
       "    .dataframe thead th {\n",
       "        text-align: right;\n",
       "    }\n",
       "</style>\n",
       "<table border=\"1\" class=\"dataframe\">\n",
       "  <thead>\n",
       "    <tr style=\"text-align: right;\">\n",
       "      <th></th>\n",
       "      <th>customerID</th>\n",
       "      <th>gender</th>\n",
       "      <th>SeniorCitizen</th>\n",
       "      <th>Partner</th>\n",
       "      <th>Dependents</th>\n",
       "    </tr>\n",
       "  </thead>\n",
       "  <tbody>\n",
       "    <tr>\n",
       "      <th>0</th>\n",
       "      <td>7590-VHVEG</td>\n",
       "      <td>Female</td>\n",
       "      <td>0</td>\n",
       "      <td>Yes</td>\n",
       "      <td>No</td>\n",
       "    </tr>\n",
       "    <tr>\n",
       "      <th>1</th>\n",
       "      <td>5575-GNVDE</td>\n",
       "      <td>Male</td>\n",
       "      <td>0</td>\n",
       "      <td>No</td>\n",
       "      <td>No</td>\n",
       "    </tr>\n",
       "    <tr>\n",
       "      <th>2</th>\n",
       "      <td>3668-QPYBK</td>\n",
       "      <td>Male</td>\n",
       "      <td>0</td>\n",
       "      <td>No</td>\n",
       "      <td>No</td>\n",
       "    </tr>\n",
       "    <tr>\n",
       "      <th>3</th>\n",
       "      <td>7795-CFOCW</td>\n",
       "      <td>Male</td>\n",
       "      <td>0</td>\n",
       "      <td>No</td>\n",
       "      <td>No</td>\n",
       "    </tr>\n",
       "    <tr>\n",
       "      <th>4</th>\n",
       "      <td>9237-HQITU</td>\n",
       "      <td>Female</td>\n",
       "      <td>0</td>\n",
       "      <td>No</td>\n",
       "      <td>No</td>\n",
       "    </tr>\n",
       "  </tbody>\n",
       "</table>\n",
       "</div>"
      ],
      "text/plain": [
       "   customerID  gender  SeniorCitizen Partner Dependents\n",
       "0  7590-VHVEG  Female              0     Yes         No\n",
       "1  5575-GNVDE    Male              0      No         No\n",
       "2  3668-QPYBK    Male              0      No         No\n",
       "3  7795-CFOCW    Male              0      No         No\n",
       "4  9237-HQITU  Female              0      No         No"
      ]
     },
     "metadata": {},
     "output_type": "display_data"
    },
    {
     "name": "stdout",
     "output_type": "stream",
     "text": [
      "<class 'pandas.core.frame.DataFrame'>\n",
      "RangeIndex: 7043 entries, 0 to 7042\n",
      "Data columns (total 5 columns):\n",
      " #   Column         Non-Null Count  Dtype \n",
      "---  ------         --------------  ----- \n",
      " 0   customerID     7043 non-null   object\n",
      " 1   gender         7043 non-null   object\n",
      " 2   SeniorCitizen  7043 non-null   int64 \n",
      " 3   Partner        7043 non-null   object\n",
      " 4   Dependents     7043 non-null   object\n",
      "dtypes: int64(1), object(4)\n",
      "memory usage: 275.2+ KB\n",
      "Уникальные значения столбца customerID\n",
      "['0002-ORFBO' '0003-MKNFE' '0004-TLHLJ' ... '9992-UJOEL' '9993-LHIEB'\n",
      " '9995-HOTOH']\n",
      "Уникальные значения столбца gender\n",
      "['Female' 'Male']\n",
      "Уникальные значения столбца SeniorCitizen\n",
      "[0 1]\n",
      "Уникальные значения столбца Partner\n",
      "['No' 'Yes']\n",
      "Уникальные значения столбца Dependents\n",
      "['No' 'Yes']\n",
      "-------------------------------------------------------------------------------------------\n"
     ]
    },
    {
     "data": {
      "text/html": [
       "<div>\n",
       "<style scoped>\n",
       "    .dataframe tbody tr th:only-of-type {\n",
       "        vertical-align: middle;\n",
       "    }\n",
       "\n",
       "    .dataframe tbody tr th {\n",
       "        vertical-align: top;\n",
       "    }\n",
       "\n",
       "    .dataframe thead th {\n",
       "        text-align: right;\n",
       "    }\n",
       "</style>\n",
       "<table border=\"1\" class=\"dataframe\">\n",
       "  <thead>\n",
       "    <tr style=\"text-align: right;\">\n",
       "      <th></th>\n",
       "      <th>customerID</th>\n",
       "      <th>MultipleLines</th>\n",
       "    </tr>\n",
       "  </thead>\n",
       "  <tbody>\n",
       "    <tr>\n",
       "      <th>0</th>\n",
       "      <td>5575-GNVDE</td>\n",
       "      <td>No</td>\n",
       "    </tr>\n",
       "    <tr>\n",
       "      <th>1</th>\n",
       "      <td>3668-QPYBK</td>\n",
       "      <td>No</td>\n",
       "    </tr>\n",
       "    <tr>\n",
       "      <th>2</th>\n",
       "      <td>9237-HQITU</td>\n",
       "      <td>No</td>\n",
       "    </tr>\n",
       "    <tr>\n",
       "      <th>3</th>\n",
       "      <td>9305-CDSKC</td>\n",
       "      <td>Yes</td>\n",
       "    </tr>\n",
       "    <tr>\n",
       "      <th>4</th>\n",
       "      <td>1452-KIOVK</td>\n",
       "      <td>Yes</td>\n",
       "    </tr>\n",
       "  </tbody>\n",
       "</table>\n",
       "</div>"
      ],
      "text/plain": [
       "   customerID MultipleLines\n",
       "0  5575-GNVDE            No\n",
       "1  3668-QPYBK            No\n",
       "2  9237-HQITU            No\n",
       "3  9305-CDSKC           Yes\n",
       "4  1452-KIOVK           Yes"
      ]
     },
     "metadata": {},
     "output_type": "display_data"
    },
    {
     "name": "stdout",
     "output_type": "stream",
     "text": [
      "<class 'pandas.core.frame.DataFrame'>\n",
      "RangeIndex: 6361 entries, 0 to 6360\n",
      "Data columns (total 2 columns):\n",
      " #   Column         Non-Null Count  Dtype \n",
      "---  ------         --------------  ----- \n",
      " 0   customerID     6361 non-null   object\n",
      " 1   MultipleLines  6361 non-null   object\n",
      "dtypes: object(2)\n",
      "memory usage: 99.5+ KB\n",
      "Уникальные значения столбца customerID\n",
      "['0002-ORFBO' '0003-MKNFE' '0004-TLHLJ' ... '9992-RRAMN' '9992-UJOEL'\n",
      " '9993-LHIEB']\n",
      "Уникальные значения столбца MultipleLines\n",
      "['No' 'Yes']\n",
      "-------------------------------------------------------------------------------------------\n"
     ]
    }
   ],
   "source": [
    "def unique_values(dataset):\n",
    "    for column in dataset.columns:\n",
    "        print('Уникальные значения столбца', column)\n",
    "        print(dataset[column].sort_values().unique())\n",
    "\n",
    "\n",
    "for data in [df_contract, df_internet, df_personal, df_phone]:\n",
    "    display(data.head())\n",
    "    data.info()\n",
    "    unique_values(data)\n",
    "    print('-------------------------------------------------------------------------------------------')"
   ]
  },
  {
   "cell_type": "markdown",
   "metadata": {},
   "source": [
    "Далее приведём написание столбцов к корректной одинаковой записи. "
   ]
  },
  {
   "cell_type": "code",
   "execution_count": 4,
   "metadata": {},
   "outputs": [],
   "source": [
    "df_contract = df_contract.rename(columns={\n",
    "                                          'customerID':'customer_id', \n",
    "                                          'BeginDate':'begin_date', \n",
    "                                          'EndDate':'end_date', \n",
    "                                          'Type':'type', \n",
    "                                          'PaperlessBilling':'paperless_billing',\n",
    "                                          'PaymentMethod':'payment_method',\n",
    "                                          'MonthlyCharges':'monthly_charges',\n",
    "                                          'TotalCharges':'total_charges'\n",
    "})\n",
    "\n",
    "df_internet = df_internet.rename(columns={'customerID':'customer_id', \n",
    "                                          'InternetService':'internet_service', \n",
    "                                          'OnlineSecurity':'online_security', \n",
    "                                          'OnlineBackup':'online_backup',\n",
    "                                          'DeviceProtection':'device_protection', \n",
    "                                          'TechSupport':'tech_support', \n",
    "                                          'StreamingTV':'streaming_tv', \n",
    "                                          'StreamingMovies':'streaming_movies'                     \n",
    "})\n",
    "\n",
    "df_personal = df_personal.rename(columns={'customerID':'customer_id', \n",
    "                                          'SeniorCitizen':'senior_citizen', \n",
    "                                          'Partner':'partner', \n",
    "                                          'Dependents':'dependents'  \n",
    "})\n",
    "\n",
    "df_phone = df_phone.rename(columns={'customerID':'customer_id', \n",
    "                                    'MultipleLines':'multiple_lines'\n",
    "})"
   ]
  },
  {
   "cell_type": "markdown",
   "metadata": {},
   "source": [
    "Документации к данным у нас не было. Постараемся самостоятельно определить описание столбцов."
   ]
  },
  {
   "cell_type": "markdown",
   "metadata": {},
   "source": [
    "**Датасет df_contract**\n",
    "- `customer_id` - код клиента\n",
    "- `begin_date` - дата начала пользования услугами \n",
    "- `end_date` - дата окончания пользования услугами \n",
    "- `type` - тип договора: ежемесячный, годовой и т.д.\n",
    "- `paperless_billing` - факт выставления счёта на электронную почту \n",
    "- `payment_method` - способ оплаты\n",
    "- `monthly_charges` - ежемесячные траты на услуги \n",
    "- `total_charges` - всего потрачено денег на услуги\n",
    "\n",
    "**Датасет df_internet**\n",
    "- `customer_id` - код клиента \n",
    "- `internet_service` - тип подключения Интернета\n",
    "- `online_security` - наличие блокировки небезопасных сайтов\n",
    "- `online_backup` - наличие блачного хранилища файлов для резервного копирования данных\n",
    "- `device_protection` - наличие антивируса\n",
    "- `tech_support` - наличие выделенной линии технической поддержки\n",
    "- `streaming_tv` - наличие стримингового телевидения\n",
    "- `streaming_movies` - наличие стриминговых каталогов фильмов\n",
    "\n",
    "**Датасет df_personal**\n",
    "- `customer_id` - код клиента \n",
    "- `gender` - пол клиента \n",
    "- `senior_citizen` - наличие пенсионного статуса по возрасту \n",
    "- `partner` - наличие супруга(и)\n",
    "- `dependents` - налчие иждивенцев\n",
    "\n",
    "**Датасет df_phone**\n",
    "- `customer_id` - код клиента\n",
    "- `multiple_lines` - наличие возможности ведения параллельных линий во время звонка "
   ]
  },
  {
   "cell_type": "markdown",
   "metadata": {},
   "source": [
    "Изучив первоначальную информацию о датасете, мы можем отметить, что у нас есть информация о 7043 пользователях, которые пользуются услугами компании «Ниединогоразрыва.ком». Из них 5517 полузуются услугами Интернета и 6361 - стационарным телефоном. \n",
    "\n",
    "Также стоит отметить: вывев на экран первоначальную информацию о датасете, можно заметить, что в данных нет пропусков. \n",
    "\n",
    "В данной задаче нам необходимо спрогнозировать уход клиента (уйдет/не уйдёт). Отсюда следует, что будет решаться задача классификации. "
   ]
  },
  {
   "cell_type": "markdown",
   "metadata": {},
   "source": [
    "## Предобработка данных"
   ]
  },
  {
   "cell_type": "markdown",
   "metadata": {},
   "source": [
    "Далее проведём предобработку данных по каждому датасету. В конце объединим их в один общий датасет по `customer_id` и выделим целевой признак. "
   ]
  },
  {
   "cell_type": "markdown",
   "metadata": {},
   "source": [
    "**df_contract**"
   ]
  },
  {
   "cell_type": "markdown",
   "metadata": {},
   "source": [
    "Напишем функцию, которая будет сразу проверять датасет на наличие пропусков и дубликатов."
   ]
  },
  {
   "cell_type": "code",
   "execution_count": 5,
   "metadata": {},
   "outputs": [],
   "source": [
    "def isna_duplicate_check (data):\n",
    "    print('Количество пропусков')\n",
    "    print(data.isna().sum())\n",
    "    print('Количество дубликатов')\n",
    "    print(data.duplicated().sum())"
   ]
  },
  {
   "cell_type": "code",
   "execution_count": 6,
   "metadata": {
    "scrolled": true
   },
   "outputs": [
    {
     "name": "stdout",
     "output_type": "stream",
     "text": [
      "Количество пропусков\n",
      "customer_id          0\n",
      "begin_date           0\n",
      "end_date             0\n",
      "type                 0\n",
      "paperless_billing    0\n",
      "payment_method       0\n",
      "monthly_charges      0\n",
      "total_charges        0\n",
      "dtype: int64\n",
      "Количество дубликатов\n",
      "0\n"
     ]
    }
   ],
   "source": [
    "isna_duplicate_check(df_contract)"
   ]
  },
  {
   "cell_type": "markdown",
   "metadata": {},
   "source": [
    "Далее удалим столбец `paperless_billing`, т.к. данный признак не будет оказывать влияния на целевой. Вряд ли от способа получения чека будет зависеть уход клиента. "
   ]
  },
  {
   "cell_type": "code",
   "execution_count": 7,
   "metadata": {},
   "outputs": [],
   "source": [
    "del df_contract['paperless_billing']"
   ]
  },
  {
   "cell_type": "markdown",
   "metadata": {},
   "source": [
    "Скорректируем типы данных:"
   ]
  },
  {
   "cell_type": "code",
   "execution_count": 8,
   "metadata": {},
   "outputs": [],
   "source": [
    "df_contract['begin_date'] = pd.to_datetime(df_contract['begin_date'], format='%Y-%m-%d')\n",
    "df_contract['total_charges'] = df_contract['total_charges'].apply(lambda x: 0 if x == ' ' else x).astype(float)"
   ]
  },
  {
   "cell_type": "markdown",
   "metadata": {},
   "source": [
    "Стоит отметить, что в столбце `total_charges` есть незаполненные значения, которые мы заменили кодом выше на 0. Посмтроим, что это за строки."
   ]
  },
  {
   "cell_type": "code",
   "execution_count": 9,
   "metadata": {},
   "outputs": [
    {
     "data": {
      "text/html": [
       "<div>\n",
       "<style scoped>\n",
       "    .dataframe tbody tr th:only-of-type {\n",
       "        vertical-align: middle;\n",
       "    }\n",
       "\n",
       "    .dataframe tbody tr th {\n",
       "        vertical-align: top;\n",
       "    }\n",
       "\n",
       "    .dataframe thead th {\n",
       "        text-align: right;\n",
       "    }\n",
       "</style>\n",
       "<table border=\"1\" class=\"dataframe\">\n",
       "  <thead>\n",
       "    <tr style=\"text-align: right;\">\n",
       "      <th></th>\n",
       "      <th>customer_id</th>\n",
       "      <th>begin_date</th>\n",
       "      <th>end_date</th>\n",
       "      <th>type</th>\n",
       "      <th>payment_method</th>\n",
       "      <th>monthly_charges</th>\n",
       "      <th>total_charges</th>\n",
       "    </tr>\n",
       "  </thead>\n",
       "  <tbody>\n",
       "    <tr>\n",
       "      <th>488</th>\n",
       "      <td>4472-LVYGI</td>\n",
       "      <td>2020-02-01</td>\n",
       "      <td>No</td>\n",
       "      <td>Two year</td>\n",
       "      <td>Bank transfer (automatic)</td>\n",
       "      <td>52.55</td>\n",
       "      <td>0.0</td>\n",
       "    </tr>\n",
       "    <tr>\n",
       "      <th>753</th>\n",
       "      <td>3115-CZMZD</td>\n",
       "      <td>2020-02-01</td>\n",
       "      <td>No</td>\n",
       "      <td>Two year</td>\n",
       "      <td>Mailed check</td>\n",
       "      <td>20.25</td>\n",
       "      <td>0.0</td>\n",
       "    </tr>\n",
       "    <tr>\n",
       "      <th>936</th>\n",
       "      <td>5709-LVOEQ</td>\n",
       "      <td>2020-02-01</td>\n",
       "      <td>No</td>\n",
       "      <td>Two year</td>\n",
       "      <td>Mailed check</td>\n",
       "      <td>80.85</td>\n",
       "      <td>0.0</td>\n",
       "    </tr>\n",
       "    <tr>\n",
       "      <th>1082</th>\n",
       "      <td>4367-NUYAO</td>\n",
       "      <td>2020-02-01</td>\n",
       "      <td>No</td>\n",
       "      <td>Two year</td>\n",
       "      <td>Mailed check</td>\n",
       "      <td>25.75</td>\n",
       "      <td>0.0</td>\n",
       "    </tr>\n",
       "    <tr>\n",
       "      <th>1340</th>\n",
       "      <td>1371-DWPAZ</td>\n",
       "      <td>2020-02-01</td>\n",
       "      <td>No</td>\n",
       "      <td>Two year</td>\n",
       "      <td>Credit card (automatic)</td>\n",
       "      <td>56.05</td>\n",
       "      <td>0.0</td>\n",
       "    </tr>\n",
       "    <tr>\n",
       "      <th>3331</th>\n",
       "      <td>7644-OMVMY</td>\n",
       "      <td>2020-02-01</td>\n",
       "      <td>No</td>\n",
       "      <td>Two year</td>\n",
       "      <td>Mailed check</td>\n",
       "      <td>19.85</td>\n",
       "      <td>0.0</td>\n",
       "    </tr>\n",
       "    <tr>\n",
       "      <th>3826</th>\n",
       "      <td>3213-VVOLG</td>\n",
       "      <td>2020-02-01</td>\n",
       "      <td>No</td>\n",
       "      <td>Two year</td>\n",
       "      <td>Mailed check</td>\n",
       "      <td>25.35</td>\n",
       "      <td>0.0</td>\n",
       "    </tr>\n",
       "    <tr>\n",
       "      <th>4380</th>\n",
       "      <td>2520-SGTTA</td>\n",
       "      <td>2020-02-01</td>\n",
       "      <td>No</td>\n",
       "      <td>Two year</td>\n",
       "      <td>Mailed check</td>\n",
       "      <td>20.00</td>\n",
       "      <td>0.0</td>\n",
       "    </tr>\n",
       "    <tr>\n",
       "      <th>5218</th>\n",
       "      <td>2923-ARZLG</td>\n",
       "      <td>2020-02-01</td>\n",
       "      <td>No</td>\n",
       "      <td>One year</td>\n",
       "      <td>Mailed check</td>\n",
       "      <td>19.70</td>\n",
       "      <td>0.0</td>\n",
       "    </tr>\n",
       "    <tr>\n",
       "      <th>6670</th>\n",
       "      <td>4075-WKNIU</td>\n",
       "      <td>2020-02-01</td>\n",
       "      <td>No</td>\n",
       "      <td>Two year</td>\n",
       "      <td>Mailed check</td>\n",
       "      <td>73.35</td>\n",
       "      <td>0.0</td>\n",
       "    </tr>\n",
       "    <tr>\n",
       "      <th>6754</th>\n",
       "      <td>2775-SEFEE</td>\n",
       "      <td>2020-02-01</td>\n",
       "      <td>No</td>\n",
       "      <td>Two year</td>\n",
       "      <td>Bank transfer (automatic)</td>\n",
       "      <td>61.90</td>\n",
       "      <td>0.0</td>\n",
       "    </tr>\n",
       "  </tbody>\n",
       "</table>\n",
       "</div>"
      ],
      "text/plain": [
       "     customer_id begin_date end_date      type             payment_method  \\\n",
       "488   4472-LVYGI 2020-02-01       No  Two year  Bank transfer (automatic)   \n",
       "753   3115-CZMZD 2020-02-01       No  Two year               Mailed check   \n",
       "936   5709-LVOEQ 2020-02-01       No  Two year               Mailed check   \n",
       "1082  4367-NUYAO 2020-02-01       No  Two year               Mailed check   \n",
       "1340  1371-DWPAZ 2020-02-01       No  Two year    Credit card (automatic)   \n",
       "3331  7644-OMVMY 2020-02-01       No  Two year               Mailed check   \n",
       "3826  3213-VVOLG 2020-02-01       No  Two year               Mailed check   \n",
       "4380  2520-SGTTA 2020-02-01       No  Two year               Mailed check   \n",
       "5218  2923-ARZLG 2020-02-01       No  One year               Mailed check   \n",
       "6670  4075-WKNIU 2020-02-01       No  Two year               Mailed check   \n",
       "6754  2775-SEFEE 2020-02-01       No  Two year  Bank transfer (automatic)   \n",
       "\n",
       "      monthly_charges  total_charges  \n",
       "488             52.55            0.0  \n",
       "753             20.25            0.0  \n",
       "936             80.85            0.0  \n",
       "1082            25.75            0.0  \n",
       "1340            56.05            0.0  \n",
       "3331            19.85            0.0  \n",
       "3826            25.35            0.0  \n",
       "4380            20.00            0.0  \n",
       "5218            19.70            0.0  \n",
       "6670            73.35            0.0  \n",
       "6754            61.90            0.0  "
      ]
     },
     "execution_count": 9,
     "metadata": {},
     "output_type": "execute_result"
    }
   ],
   "source": [
    "df_contract[df_contract['total_charges'] == 0]"
   ]
  },
  {
   "cell_type": "markdown",
   "metadata": {},
   "source": [
    "Отюсда мы видим, почему имелись пропуски в столбце `total_charges`. Информация о договорах актуальна на 1 февраля 2020. Все клиенты выше оформили договор как раз на момент 1 февраля 2020 г., поэтому информация о сумме потраченных денег на услуги отсутсвует. Вместо 0 заполним данный пропуск значением из столбца `monthly_charges`."
   ]
  },
  {
   "cell_type": "code",
   "execution_count": 10,
   "metadata": {},
   "outputs": [],
   "source": [
    "df_contract.loc[df_contract['total_charges'] == 0, 'total_charges'] = df_contract['monthly_charges']"
   ]
  },
  {
   "cell_type": "markdown",
   "metadata": {},
   "source": [
    "Далее предлагается из столбца `end_date` сделать целевой признак и назвать его `exited`. Если в столбце `end_date` будет значение с датой, то это означает, что клиент перестал пользоваться услугами компании, и тогда `exited` примет значение 1. Если в `end_date` значение No - `exited` прмиет значение 0."
   ]
  },
  {
   "cell_type": "code",
   "execution_count": 11,
   "metadata": {},
   "outputs": [],
   "source": [
    "df_contract['exited'] = 1\n",
    "df_contract.loc[df_contract['end_date'] == 'No', 'exited'] = 0"
   ]
  },
  {
   "cell_type": "markdown",
   "metadata": {},
   "source": [
    "Поработает со столбцами `begin_date` и `end_date`. Посчитаем общее количество месяцев сколько клиент полузуется услуга на дату 1 февраля 2020г. А далее столбцы `begin_date` и `end_date` удалим. "
   ]
  },
  {
   "cell_type": "code",
   "execution_count": 12,
   "metadata": {},
   "outputs": [],
   "source": [
    "df_contract['end_date'] =df_contract['end_date'].apply(lambda x: '2020-02-01' if x == 'No' else x)\n",
    "\n",
    "df_contract['begin_year'] = pd.DatetimeIndex(df_contract['begin_date']).year\n",
    "df_contract['end_year'] = pd.DatetimeIndex(df_contract['end_date']).year\n",
    "df_contract['begin_month'] = pd.DatetimeIndex(df_contract['begin_date']).month\n",
    "df_contract['end_month'] = pd.DatetimeIndex(df_contract['end_date']).month\n",
    "\n",
    "df_contract['month_used'] = (df_contract['end_year'] - df_contract['begin_year']) * 12 + (df_contract['end_month'] - df_contract['begin_month'])\n",
    "\n",
    "df_contract = df_contract.drop(['end_date', 'begin_date', 'begin_year', 'end_year', 'begin_month', 'end_month'], axis=1)"
   ]
  },
  {
   "cell_type": "code",
   "execution_count": 13,
   "metadata": {},
   "outputs": [
    {
     "data": {
      "text/html": [
       "<div>\n",
       "<style scoped>\n",
       "    .dataframe tbody tr th:only-of-type {\n",
       "        vertical-align: middle;\n",
       "    }\n",
       "\n",
       "    .dataframe tbody tr th {\n",
       "        vertical-align: top;\n",
       "    }\n",
       "\n",
       "    .dataframe thead th {\n",
       "        text-align: right;\n",
       "    }\n",
       "</style>\n",
       "<table border=\"1\" class=\"dataframe\">\n",
       "  <thead>\n",
       "    <tr style=\"text-align: right;\">\n",
       "      <th></th>\n",
       "      <th>customer_id</th>\n",
       "      <th>type</th>\n",
       "      <th>payment_method</th>\n",
       "      <th>monthly_charges</th>\n",
       "      <th>total_charges</th>\n",
       "      <th>exited</th>\n",
       "      <th>month_used</th>\n",
       "    </tr>\n",
       "  </thead>\n",
       "  <tbody>\n",
       "    <tr>\n",
       "      <th>0</th>\n",
       "      <td>7590-VHVEG</td>\n",
       "      <td>Month-to-month</td>\n",
       "      <td>Electronic check</td>\n",
       "      <td>29.85</td>\n",
       "      <td>29.85</td>\n",
       "      <td>0</td>\n",
       "      <td>1</td>\n",
       "    </tr>\n",
       "    <tr>\n",
       "      <th>1</th>\n",
       "      <td>5575-GNVDE</td>\n",
       "      <td>One year</td>\n",
       "      <td>Mailed check</td>\n",
       "      <td>56.95</td>\n",
       "      <td>1889.50</td>\n",
       "      <td>0</td>\n",
       "      <td>34</td>\n",
       "    </tr>\n",
       "    <tr>\n",
       "      <th>2</th>\n",
       "      <td>3668-QPYBK</td>\n",
       "      <td>Month-to-month</td>\n",
       "      <td>Mailed check</td>\n",
       "      <td>53.85</td>\n",
       "      <td>108.15</td>\n",
       "      <td>1</td>\n",
       "      <td>2</td>\n",
       "    </tr>\n",
       "    <tr>\n",
       "      <th>3</th>\n",
       "      <td>7795-CFOCW</td>\n",
       "      <td>One year</td>\n",
       "      <td>Bank transfer (automatic)</td>\n",
       "      <td>42.30</td>\n",
       "      <td>1840.75</td>\n",
       "      <td>0</td>\n",
       "      <td>45</td>\n",
       "    </tr>\n",
       "    <tr>\n",
       "      <th>4</th>\n",
       "      <td>9237-HQITU</td>\n",
       "      <td>Month-to-month</td>\n",
       "      <td>Electronic check</td>\n",
       "      <td>70.70</td>\n",
       "      <td>151.65</td>\n",
       "      <td>1</td>\n",
       "      <td>2</td>\n",
       "    </tr>\n",
       "  </tbody>\n",
       "</table>\n",
       "</div>"
      ],
      "text/plain": [
       "  customer_id            type             payment_method  monthly_charges  \\\n",
       "0  7590-VHVEG  Month-to-month           Electronic check            29.85   \n",
       "1  5575-GNVDE        One year               Mailed check            56.95   \n",
       "2  3668-QPYBK  Month-to-month               Mailed check            53.85   \n",
       "3  7795-CFOCW        One year  Bank transfer (automatic)            42.30   \n",
       "4  9237-HQITU  Month-to-month           Electronic check            70.70   \n",
       "\n",
       "   total_charges  exited  month_used  \n",
       "0          29.85       0           1  \n",
       "1        1889.50       0          34  \n",
       "2         108.15       1           2  \n",
       "3        1840.75       0          45  \n",
       "4         151.65       1           2  "
      ]
     },
     "execution_count": 13,
     "metadata": {},
     "output_type": "execute_result"
    }
   ],
   "source": [
    "df_contract.head()"
   ]
  },
  {
   "cell_type": "markdown",
   "metadata": {},
   "source": [
    "**df_internet**"
   ]
  },
  {
   "cell_type": "code",
   "execution_count": 14,
   "metadata": {},
   "outputs": [
    {
     "name": "stdout",
     "output_type": "stream",
     "text": [
      "Количество пропусков\n",
      "customer_id        0\n",
      "type               0\n",
      "payment_method     0\n",
      "monthly_charges    0\n",
      "total_charges      0\n",
      "exited             0\n",
      "month_used         0\n",
      "dtype: int64\n",
      "Количество дубликатов\n",
      "0\n"
     ]
    }
   ],
   "source": [
    "isna_duplicate_check(df_contract)"
   ]
  },
  {
   "cell_type": "markdown",
   "metadata": {},
   "source": [
    "Далее в столбцах `online_security`, `online_backup`, `device_protection`, `tech_support`, `streaming_tv`, `streaming_movies` заменим значения Yes и No на 1 и 0 соответсвенно."
   ]
  },
  {
   "cell_type": "code",
   "execution_count": 15,
   "metadata": {},
   "outputs": [],
   "source": [
    "df_internet['online_security'] = df_internet['online_security'].map({'Yes':1, 'No':0})\n",
    "df_internet['online_backup'] = df_internet['online_backup'].map({'Yes':1, 'No':0})\n",
    "df_internet['device_protection'] = df_internet['device_protection'].map({'Yes':1, 'No':0})\n",
    "df_internet['tech_support'] = df_internet['tech_support'].map({'Yes':1, 'No':0})\n",
    "df_internet['streaming_tv'] = df_internet['streaming_tv'].map({'Yes':1, 'No':0})\n",
    "df_internet['streaming_movies'] = df_internet['streaming_movies'].map({'Yes':1, 'No':0})"
   ]
  },
  {
   "cell_type": "markdown",
   "metadata": {},
   "source": [
    "**df_personal**"
   ]
  },
  {
   "cell_type": "code",
   "execution_count": 16,
   "metadata": {},
   "outputs": [
    {
     "name": "stdout",
     "output_type": "stream",
     "text": [
      "Количество пропусков\n",
      "customer_id       0\n",
      "gender            0\n",
      "senior_citizen    0\n",
      "partner           0\n",
      "dependents        0\n",
      "dtype: int64\n",
      "Количество дубликатов\n",
      "0\n"
     ]
    }
   ],
   "source": [
    "isna_duplicate_check(df_personal)"
   ]
  },
  {
   "cell_type": "markdown",
   "metadata": {},
   "source": [
    "Аналогично действиям с предыдущим датасетом заменим значения Yes и No на 1 и 0 соответсвенно."
   ]
  },
  {
   "cell_type": "code",
   "execution_count": 17,
   "metadata": {},
   "outputs": [],
   "source": [
    "df_personal['partner'] = df_personal['partner'].map({'Yes':1, 'No':0})\n",
    "df_personal['dependents'] = df_personal['dependents'].map({'Yes':1, 'No':0})"
   ]
  },
  {
   "cell_type": "markdown",
   "metadata": {},
   "source": [
    "**df_phone**"
   ]
  },
  {
   "cell_type": "code",
   "execution_count": 18,
   "metadata": {},
   "outputs": [
    {
     "name": "stdout",
     "output_type": "stream",
     "text": [
      "Количество пропусков\n",
      "customer_id       0\n",
      "gender            0\n",
      "senior_citizen    0\n",
      "partner           0\n",
      "dependents        0\n",
      "dtype: int64\n",
      "Количество дубликатов\n",
      "0\n"
     ]
    }
   ],
   "source": [
    "isna_duplicate_check(df_personal)"
   ]
  },
  {
   "cell_type": "markdown",
   "metadata": {},
   "source": [
    "Аналогично действиям с предыдущим датасетом заменим значения Yes и No на 1 и 0 соответсвенно."
   ]
  },
  {
   "cell_type": "code",
   "execution_count": 19,
   "metadata": {},
   "outputs": [],
   "source": [
    "df_phone['multiple_lines'] = df_phone['multiple_lines'].map({'Yes':1, 'No':0})"
   ]
  },
  {
   "cell_type": "markdown",
   "metadata": {},
   "source": [
    "Данные преобработали. Теперь можно приступать к объединению таблиц по столбцу `customer_id`."
   ]
  },
  {
   "cell_type": "code",
   "execution_count": 20,
   "metadata": {},
   "outputs": [],
   "source": [
    "df = df_contract.merge(df_internet, \n",
    "                      how='left', on='customer_id').merge(df_personal, \n",
    "                      how='left', on='customer_id').merge(df_phone, \n",
    "                      how='left', on='customer_id') "
   ]
  },
  {
   "cell_type": "code",
   "execution_count": 21,
   "metadata": {},
   "outputs": [
    {
     "name": "stdout",
     "output_type": "stream",
     "text": [
      "<class 'pandas.core.frame.DataFrame'>\n",
      "Int64Index: 7043 entries, 0 to 7042\n",
      "Data columns (total 19 columns):\n",
      " #   Column             Non-Null Count  Dtype  \n",
      "---  ------             --------------  -----  \n",
      " 0   customer_id        7043 non-null   object \n",
      " 1   type               7043 non-null   object \n",
      " 2   payment_method     7043 non-null   object \n",
      " 3   monthly_charges    7043 non-null   float64\n",
      " 4   total_charges      7043 non-null   float64\n",
      " 5   exited             7043 non-null   int64  \n",
      " 6   month_used         7043 non-null   int64  \n",
      " 7   internet_service   5517 non-null   object \n",
      " 8   online_security    5517 non-null   float64\n",
      " 9   online_backup      5517 non-null   float64\n",
      " 10  device_protection  5517 non-null   float64\n",
      " 11  tech_support       5517 non-null   float64\n",
      " 12  streaming_tv       5517 non-null   float64\n",
      " 13  streaming_movies   5517 non-null   float64\n",
      " 14  gender             7043 non-null   object \n",
      " 15  senior_citizen     7043 non-null   int64  \n",
      " 16  partner            7043 non-null   int64  \n",
      " 17  dependents         7043 non-null   int64  \n",
      " 18  multiple_lines     6361 non-null   float64\n",
      "dtypes: float64(9), int64(5), object(5)\n",
      "memory usage: 1.1+ MB\n"
     ]
    }
   ],
   "source": [
    "df.info()"
   ]
  },
  {
   "cell_type": "markdown",
   "metadata": {},
   "source": [
    "Соедиинили наши датасеты в один общий. Появились пропуски. Они логичны, тк не все клиенты будут пользоваться обеими услугами. Поэтому наши пропуски заменим на значение 0, что означает, что клиент не использует данную услугу. Также будет логично заменить пропуски в столбце `internet_service` на значение `Do not use Internet`, тк тип данных в данной столбце - object, поэтому заменить на ноль будет не корректно. "
   ]
  },
  {
   "cell_type": "code",
   "execution_count": 22,
   "metadata": {},
   "outputs": [],
   "source": [
    "df['internet_service'] = df['internet_service'].fillna('Do not use Internet')\n",
    "df = df.fillna(0)"
   ]
  },
  {
   "cell_type": "markdown",
   "metadata": {},
   "source": [
    "Ниже корректировка типов данных. "
   ]
  },
  {
   "cell_type": "code",
   "execution_count": 23,
   "metadata": {},
   "outputs": [],
   "source": [
    "df['online_security'] = df['online_security'].astype(int)\n",
    "df['online_backup'] = df['online_backup'].astype(int)\n",
    "df['tech_support'] = df['tech_support'].astype(int)\n",
    "df['device_protection'] = df['device_protection'].astype(int)\n",
    "df['streaming_tv'] = df['streaming_tv'].astype(int)\n",
    "df['streaming_movies'] = df['streaming_movies'].astype(int)\n",
    "df['multiple_lines'] = df['multiple_lines'].astype(int)"
   ]
  },
  {
   "cell_type": "markdown",
   "metadata": {},
   "source": [
    "Также для дальнейшего обучения не понадобится столбец `customer_id`. Удалим его."
   ]
  },
  {
   "cell_type": "code",
   "execution_count": 24,
   "metadata": {},
   "outputs": [],
   "source": [
    "df = df.drop('customer_id', axis=1)"
   ]
  },
  {
   "cell_type": "markdown",
   "metadata": {},
   "source": [
    "Предобработка данных выполнена. Можно переходить к следующему шагу - Исследовательский анализ данных."
   ]
  },
  {
   "cell_type": "markdown",
   "metadata": {},
   "source": [
    "## Исследовательский анализ данных "
   ]
  },
  {
   "cell_type": "markdown",
   "metadata": {},
   "source": [
    "Для начала посмотрим на общий портер клиента. "
   ]
  },
  {
   "cell_type": "code",
   "execution_count": 25,
   "metadata": {},
   "outputs": [
    {
     "data": {
      "image/png": "[encoded data removed]",
      "text/plain": [
       "<Figure size 1080x720 with 4 Axes>"
      ]
     },
     "metadata": {
      "needs_background": "light"
     },
     "output_type": "display_data"
    }
   ],
   "source": [
    "client_portrait = ['gender', 'senior_citizen', 'partner', 'dependents']\n",
    "\n",
    "fig = plt.figure(figsize=(15,10)) \n",
    "for i, column in enumerate(client_portrait):\n",
    "    plt.subplot(2,2,i+1)\n",
    "    data = df[column].groupby(df['exited']).value_counts().rename('count').reset_index()\n",
    "    sns.barplot(x=column, y='count', hue='exited', data=data)"
   ]
  },
  {
   "cell_type": "markdown",
   "metadata": {},
   "source": [
    "Выведя данные диаграммы на экран, можно сделать следующий выводы:\n",
    "- не прослеживается зависимость по гендерной принадлежности. Также можно отметить, что в выборке почти равное количество мужчин и женщин \n",
    "- касательно возраста клиентов: клиентов, не достигших пенсионного возраста больше (около 6 тыс.)\n",
    "- также почти в равном количестве клиенты имеющие и не имеющие супруга(и). Клиенты, не имеющие партнёра, чаще расторгают догвор об оказании услуг\n",
    "- Клиентов, не имеющих иждивенцев больше (их около 5000). Также эта категория чаще расторгает договор."
   ]
  },
  {
   "cell_type": "markdown",
   "metadata": {},
   "source": [
    "Далее посмотим на зависимости от типа договора и методов оплаты."
   ]
  },
  {
   "cell_type": "code",
   "execution_count": 26,
   "metadata": {},
   "outputs": [
    {
     "data": {
      "image/png": "[encoded data removed]",
      "text/plain": [
       "<Figure size 720x720 with 2 Axes>"
      ]
     },
     "metadata": {
      "needs_background": "light"
     },
     "output_type": "display_data"
    }
   ],
   "source": [
    "contract = ['type', 'payment_method']\n",
    "\n",
    "fig = plt.figure(figsize=(10,10)) \n",
    "for i, column in enumerate(contract):\n",
    "    plt.subplot(2,1,i+1)\n",
    "    data = df[column].groupby(df['exited']).value_counts().rename('count').reset_index()\n",
    "    sns.barplot(x=column, y='count', hue='exited', data=data)"
   ]
  },
  {
   "cell_type": "markdown",
   "metadata": {},
   "source": [
    "Здесь можно сделать следующие выводы:\n",
    "- Больше всего клиентов с помесячной оплатой услуг (~ 4000)\n",
    "- Клиенты с помесячной оплатой услуг чаще расторгают договор. Вероятнее всего, клиенты, заключающие договор на 1 год и более удовлетворены сервисом компании и уверены в ней.\n",
    "- У клиентов предпочтительный метод оплаты - электронный чек (~2500). Но клиенты, относящиеся к данной категории, больше прерывают договор."
   ]
  },
  {
   "cell_type": "markdown",
   "metadata": {},
   "source": [
    "Следующим шагом посмотрим на графики дополнительных услуг:"
   ]
  },
  {
   "cell_type": "code",
   "execution_count": 27,
   "metadata": {},
   "outputs": [
    {
     "data": {
      "image/png": "[encoded data removed]",
      "text/plain": [
       "<Figure size 1080x1080 with 7 Axes>"
      ]
     },
     "metadata": {
      "needs_background": "light"
     },
     "output_type": "display_data"
    }
   ],
   "source": [
    "internet = ['internet_service', 'online_security', 'online_backup', 'device_protection', 'tech_support',\n",
    "       'streaming_tv', 'streaming_movies']\n",
    "\n",
    "fig = plt.figure(figsize=(15,15)) \n",
    "for i, column in enumerate(internet):\n",
    "    plt.subplot(4,2,i+1)\n",
    "    data = df[column].groupby(df['exited']).value_counts().rename('count').reset_index()\n",
    "    sns.barplot(x=column, y='count', hue='exited', data=data)"
   ]
  },
  {
   "cell_type": "markdown",
   "metadata": {},
   "source": [
    "По данным графикам можно сделать следующие выводы:\n",
    "- Клиенты больше предпочитают подключение к Интернету с помощью оптоволоконного кабеля. Но здесь также стоит отметить, что отток клиентов, использующих данный тип подключения больше, нежели через телефонную линию.\n",
    "- Если смотреть про дополнительные услуги, то прмиерно равное количество клиентов используют каждый вид дополнительной услуги.\n",
    "- Чаще всего отказываются от услуг компании клиенты, дополнительно подключившие услуги стримингового ТВ и киносервиса. "
   ]
  },
  {
   "cell_type": "markdown",
   "metadata": {},
   "source": [
    "Далее посмотрим на распределения оплат и периода пользования услугами компании. Построим гистограммы и ящики с усами."
   ]
  },
  {
   "cell_type": "code",
   "execution_count": 28,
   "metadata": {},
   "outputs": [
    {
     "data": {
      "image/png": "[encoded data removed]",
      "text/plain": [
       "<Figure size 1080x1080 with 3 Axes>"
      ]
     },
     "metadata": {
      "needs_background": "light"
     },
     "output_type": "display_data"
    }
   ],
   "source": [
    "numeric = ['monthly_charges', 'total_charges', 'month_used']\n",
    "\n",
    "fig = plt.figure(figsize=(15,15)) \n",
    "for i, column in enumerate(numeric):\n",
    "    plt.subplot(3,1,i+1)\n",
    "    plt.hist(df[column])\n",
    "    plt.title(column)"
   ]
  },
  {
   "cell_type": "code",
   "execution_count": 29,
   "metadata": {},
   "outputs": [
    {
     "data": {
      "image/png": "[encoded data removed]",
      "text/plain": [
       "<Figure size 720x720 with 3 Axes>"
      ]
     },
     "metadata": {
      "needs_background": "light"
     },
     "output_type": "display_data"
    }
   ],
   "source": [
    "fig = plt.figure(figsize=(10, 10)) \n",
    "for i, column in enumerate(numeric):\n",
    "    plt.subplot(3,1,i+1)\n",
    "    sns.boxplot(df[column])"
   ]
  },
  {
   "cell_type": "markdown",
   "metadata": {},
   "source": [
    "По результатам вывода данных графиков можно сделать следующие выводы:\n",
    "- Половина клиентов пользователей в месяц платят по тарифу от 40 до 90 д.е. за услуги. Здесь же отметим, что около 1500 клиентов платят по тарифу в месяц 20-25 д.е. Скорее всего, это люди, не подключившие никакие дополнительные услуги. \n",
    "- Говоря про длиетнльность пользования услугами компании, можно сказать, что в среднем срок договора составляет от 10 до 55 месяцев. Также примерно 1600 человек пользовались услугами около полугода, а далее контракт был расторгнут. Скоре всего, это можно объяснить тем, что клиенты могли быть не довольны услугами компании или нашли более подходящие/выгодные для них условия в других фирмах.\n",
    "- В среднем общие выплаты за весь период использования составляет примерно 400 - 3800 д.е. "
   ]
  },
  {
   "cell_type": "markdown",
   "metadata": {},
   "source": [
    "Далее проверим наши количественные признаки на корреляцию."
   ]
  },
  {
   "cell_type": "code",
   "execution_count": 30,
   "metadata": {},
   "outputs": [
    {
     "data": {
      "text/html": [
       "<div>\n",
       "<style scoped>\n",
       "    .dataframe tbody tr th:only-of-type {\n",
       "        vertical-align: middle;\n",
       "    }\n",
       "\n",
       "    .dataframe tbody tr th {\n",
       "        vertical-align: top;\n",
       "    }\n",
       "\n",
       "    .dataframe thead th {\n",
       "        text-align: right;\n",
       "    }\n",
       "</style>\n",
       "<table border=\"1\" class=\"dataframe\">\n",
       "  <thead>\n",
       "    <tr style=\"text-align: right;\">\n",
       "      <th></th>\n",
       "      <th>monthly_charges</th>\n",
       "      <th>total_charges</th>\n",
       "      <th>month_used</th>\n",
       "    </tr>\n",
       "  </thead>\n",
       "  <tbody>\n",
       "    <tr>\n",
       "      <th>monthly_charges</th>\n",
       "      <td>1.000000</td>\n",
       "      <td>0.651182</td>\n",
       "      <td>0.247900</td>\n",
       "    </tr>\n",
       "    <tr>\n",
       "      <th>total_charges</th>\n",
       "      <td>0.651182</td>\n",
       "      <td>1.000000</td>\n",
       "      <td>0.826164</td>\n",
       "    </tr>\n",
       "    <tr>\n",
       "      <th>month_used</th>\n",
       "      <td>0.247900</td>\n",
       "      <td>0.826164</td>\n",
       "      <td>1.000000</td>\n",
       "    </tr>\n",
       "  </tbody>\n",
       "</table>\n",
       "</div>"
      ],
      "text/plain": [
       "                 monthly_charges  total_charges  month_used\n",
       "monthly_charges         1.000000       0.651182    0.247900\n",
       "total_charges           0.651182       1.000000    0.826164\n",
       "month_used              0.247900       0.826164    1.000000"
      ]
     },
     "execution_count": 30,
     "metadata": {},
     "output_type": "execute_result"
    }
   ],
   "source": [
    "df[numeric].corr()"
   ]
  },
  {
   "cell_type": "markdown",
   "metadata": {},
   "source": [
    "По результатам проверки, можно отметить, что коэффициент корреляции высок у признаков `total_charges` и `month_used`. Это легко объяснить тем, что от продолжительности пользования зависит общая сумма выплат: тем больше используешь, тем больше заплатил. \n",
    "\n",
    "Поэтому следующим шагом удалим признак `total_charges`."
   ]
  },
  {
   "cell_type": "code",
   "execution_count": 31,
   "metadata": {},
   "outputs": [],
   "source": [
    "df = df.drop('total_charges', axis=1)"
   ]
  },
  {
   "cell_type": "markdown",
   "metadata": {},
   "source": [
    "## Подготовка признаков к обучению"
   ]
  },
  {
   "cell_type": "markdown",
   "metadata": {},
   "source": [
    "Для обучения будем использовать следующие модели:\n",
    "- Логистическая регрессия (LogisticRegression)\n",
    "- LightGBM\n",
    "- CatBoost\n",
    "\n",
    "Выбраны следующие метрики качества модели:\n",
    "- AUC-ROC (основная)\n",
    "- Accuracy (вспомогательная)\n",
    "\n",
    "Но для начала надо подготовить наш датасет к обучению."
   ]
  },
  {
   "cell_type": "markdown",
   "metadata": {},
   "source": [
    "Сперва проверим целевой признак на баланс."
   ]
  },
  {
   "cell_type": "code",
   "execution_count": 32,
   "metadata": {},
   "outputs": [
    {
     "data": {
      "text/plain": [
       "0    0.73463\n",
       "1    0.26537\n",
       "Name: exited, dtype: float64"
      ]
     },
     "execution_count": 32,
     "metadata": {},
     "output_type": "execute_result"
    }
   ],
   "source": [
    "df['exited'].value_counts(normalize=True)"
   ]
  },
  {
   "cell_type": "markdown",
   "metadata": {},
   "source": [
    "Явно присутствует дисбаланс классов (3:4). Далее при обучении моделей будем указывать аргумент `class_weight = 'balanced'`"
   ]
  },
  {
   "cell_type": "markdown",
   "metadata": {},
   "source": [
    "Как известно LightGBM и Catboost работают с категориальными признаками, а вот для LogisticRegression требуется кодирование и стандартизация. "
   ]
  },
  {
   "cell_type": "code",
   "execution_count": 33,
   "metadata": {},
   "outputs": [],
   "source": [
    "df_ohe = pd.get_dummies(df, drop_first=True)"
   ]
  },
  {
   "cell_type": "markdown",
   "metadata": {},
   "source": [
    "Разделим наши данные на признаки и целевой признак. Целевым признаком будет `exited`."
   ]
  },
  {
   "cell_type": "code",
   "execution_count": 34,
   "metadata": {},
   "outputs": [],
   "source": [
    "target = df['exited']\n",
    "features = df.drop(['exited'], axis=1)\n",
    "\n",
    "target_ohe = df_ohe['exited']\n",
    "features_ohe = df_ohe.drop(['exited'], axis=1)\n",
    "\n",
    "features_train, features_test, target_train, target_test = train_test_split(features, \n",
    "                                                                             target, \n",
    "                                                                             test_size=0.25, \n",
    "                                                                             random_state=250722)\n",
    "\n",
    "features_train_ohe, features_test_ohe, target_train_ohe, target_test_ohe = train_test_split(features_ohe, \n",
    "                                                                             target_ohe, \n",
    "                                                                             test_size=0.25, \n",
    "                                                                             random_state=250722)"
   ]
  },
  {
   "cell_type": "markdown",
   "metadata": {},
   "source": [
    "Т.к. в данных присутствуют количественные признаки с разными разбросами значений, то следует привести эти признаки к одному масштабу. Один из методов масштабирования - стандартизация данных. Применем его."
   ]
  },
  {
   "cell_type": "code",
   "execution_count": 35,
   "metadata": {},
   "outputs": [],
   "source": [
    "numeric = ['monthly_charges', 'month_used']\n",
    "\n",
    "scaler = StandardScaler()\n",
    "scaler.fit(features_train_ohe[numeric])\n",
    "\n",
    "features_train_ohe[numeric] = scaler.transform(features_train_ohe[numeric])\n",
    "features_test_ohe[numeric] = scaler.transform(features_test_ohe[numeric])\n",
    "\n",
    "pd.options.mode.chained_assignment = None"
   ]
  },
  {
   "cell_type": "markdown",
   "metadata": {},
   "source": [
    "Данные подготовлены. Можно приступать к обучению моделей. "
   ]
  },
  {
   "cell_type": "markdown",
   "metadata": {},
   "source": [
    "## Обучение моделей на обучающей выборке "
   ]
  },
  {
   "cell_type": "markdown",
   "metadata": {},
   "source": [
    "**LogisticRegression**"
   ]
  },
  {
   "cell_type": "code",
   "execution_count": 36,
   "metadata": {},
   "outputs": [
    {
     "name": "stdout",
     "output_type": "stream",
     "text": [
      "{'C': 100, 'max_iter': 50, 'solver': 'liblinear'}\n",
      "AUC-ROC: 0.8449352690346403\n",
      "Accuracy: 0.7464975388110564\n",
      "CPU times: user 7.37 s, sys: 75.3 ms, total: 7.44 s\n",
      "Wall time: 1.88 s\n"
     ]
    }
   ],
   "source": [
    "%%time\n",
    "\n",
    "param_grid = {'C': [0.1,1,10,100],\n",
    "              'solver':['liblinear', 'lbfgs'],\n",
    "              'max_iter': range(50, 200, 50)\n",
    "}\n",
    "\n",
    "model = LogisticRegression(random_state=250722, class_weight='balanced')\n",
    "lr = GridSearchCV(model, param_grid, scoring = 'roc_auc', cv = 5)\n",
    "lr.fit(features_train_ohe, target_train_ohe)\n",
    "\n",
    "predictions_train = lr.predict(features_train_ohe)\n",
    "probabilities_train = lr.predict_proba(features_train_ohe)\n",
    "probabilities_one_train = probabilities_train[:, 1]\n",
    "\n",
    "auc_roc = roc_auc_score(target_train_ohe, probabilities_one_train)\n",
    "accuracy = accuracy_score(target_train_ohe, predictions_train)\n",
    "\n",
    "print(lr.best_params_)\n",
    "print('AUC-ROC:', auc_roc)\n",
    "print('Accuracy:', accuracy)"
   ]
  },
  {
   "cell_type": "markdown",
   "metadata": {},
   "source": [
    "**CatBoost**"
   ]
  },
  {
   "cell_type": "code",
   "execution_count": 37,
   "metadata": {},
   "outputs": [],
   "source": [
    "categorical = ['type', 'payment_method', 'internet_service', 'gender']"
   ]
  },
  {
   "cell_type": "code",
   "execution_count": 38,
   "metadata": {},
   "outputs": [
    {
     "name": "stdout",
     "output_type": "stream",
     "text": [
      "{'iterations': 200, 'learning_rate': 0.1, 'max_depth': 5}\n",
      "AUC-ROC: 0.875628901441885\n",
      "Accuracy: 0.7822794396062097\n",
      "CPU times: user 23min 55s, sys: 1min 22s, total: 25min 17s\n",
      "Wall time: 5min 52s\n"
     ]
    }
   ],
   "source": [
    "%%time\n",
    "\n",
    "param_grid = {\n",
    "    'learning_rate': [0.1, 0.2, 0.3],\n",
    "    'iterations': range(100, 600, 100),\n",
    "    'max_depth': range(5, 9)\n",
    "}\n",
    "\n",
    "model = CatBoostClassifier(random_state=250722, verbose=False, class_weights = [0.73463,0.26537], cat_features=categorical)\n",
    "cat = GridSearchCV(model, param_grid, scoring='roc_auc', cv=5)\n",
    "cat.fit(features_train, target_train)\n",
    "\n",
    "predictions_train = cat.predict(features_train)\n",
    "probabilities_train = cat.predict_proba(features_train)\n",
    "probabilities_one_train = probabilities_train[:, 1]\n",
    "\n",
    "auc_roc = roc_auc_score(target_train, probabilities_one_train)\n",
    "accuracy = accuracy_score(target_train, predictions_train)\n",
    "\n",
    "print(cat.best_params_)\n",
    "print('AUC-ROC:', auc_roc)\n",
    "print('Accuracy:', accuracy)"
   ]
  },
  {
   "cell_type": "markdown",
   "metadata": {},
   "source": [
    "**LightGBM**"
   ]
  },
  {
   "cell_type": "code",
   "execution_count": 39,
   "metadata": {},
   "outputs": [],
   "source": [
    "features_train[categorical] = features_train[categorical].astype('category')\n",
    "features_test[categorical] = features_test[categorical].astype('category')"
   ]
  },
  {
   "cell_type": "code",
   "execution_count": 40,
   "metadata": {},
   "outputs": [
    {
     "name": "stdout",
     "output_type": "stream",
     "text": [
      "{'learning_rate': 0.1, 'max_depth': 8, 'n_estimators': 50, 'num_leaves': 13, 'reg_alpha': 0}\n",
      "AUC-ROC: 0.8770482569896255\n",
      "Accuracy: 0.7781143506247633\n",
      "CPU times: user 16min 9s, sys: 7.53 s, total: 16min 17s\n",
      "Wall time: 2min 3s\n"
     ]
    }
   ],
   "source": [
    "%%time\n",
    "\n",
    "param_grid = {'num_leaves':range(13, 100, 13), \n",
    "              'max_depth': range(5, 9),\n",
    "              'learning_rate':[0.1,0.3],\n",
    "              'n_estimators': range(20, 60, 10),\n",
    "              'reg_alpha':[0,0.01,0.03]}\n",
    "\n",
    "model = LGBMClassifier(random_state=250722, class_weight = 'balanced')\n",
    "\n",
    "lgbm = GridSearchCV(model, param_grid, scoring='roc_auc', cv=5)\n",
    "lgbm.fit(features_train, target_train)\n",
    "\n",
    "predictions_train = lgbm.predict(features_train)\n",
    "probabilities_train = lgbm.predict_proba(features_train)\n",
    "probabilities_one_train = probabilities_train[:, 1]\n",
    "\n",
    "auc_roc = roc_auc_score(target_train, probabilities_one_train)\n",
    "accuracy = accuracy_score(target_train, predictions_train)\n",
    "\n",
    "print(lgbm.best_params_)\n",
    "print('AUC-ROC:', auc_roc)\n",
    "print('Accuracy:', accuracy)"
   ]
  },
  {
   "cell_type": "markdown",
   "metadata": {},
   "source": [
    "В результате обучения трёх моделей (LogisticRegression, CatBoost и LightGBM) мы получили следующие результаты:\n",
    "\n",
    "|                   |AUC-ROC|Accuracy|\n",
    "|:------------------|:-----:|:------:|\n",
    "| LogisticRegression|0.8449 |0.7665  |\n",
    "| CatBoost          |0.8756 |0.7823  |\n",
    "| LightGBM          |0.8770 |0.7781  |\n",
    "\n",
    "Лучше всего себя показали модели градиентного бустинга. \n",
    "\n",
    "Далее помотрим, что покажут эти модели на тестовой выборке. "
   ]
  },
  {
   "cell_type": "markdown",
   "metadata": {},
   "source": [
    "## Тестирование моделей"
   ]
  },
  {
   "cell_type": "markdown",
   "metadata": {},
   "source": [
    "**LogisticRegression**"
   ]
  },
  {
   "cell_type": "code",
   "execution_count": 41,
   "metadata": {},
   "outputs": [
    {
     "name": "stdout",
     "output_type": "stream",
     "text": [
      "AUC-ROC: 0.8439563400031459\n",
      "Accuracy: 0.7450312322544009\n"
     ]
    }
   ],
   "source": [
    "predictions_test = lr.predict(features_test_ohe)\n",
    "probabilities_test = lr.predict_proba(features_test_ohe)\n",
    "probabilities_one_test = probabilities_test[:, 1]\n",
    "\n",
    "auc_roc = roc_auc_score(target_test_ohe, probabilities_one_test)\n",
    "accuracy = accuracy_score(target_test_ohe, predictions_test)\n",
    "\n",
    "print('AUC-ROC:', auc_roc)\n",
    "print('Accuracy:', accuracy)"
   ]
  },
  {
   "cell_type": "markdown",
   "metadata": {},
   "source": [
    "**CatBoost**"
   ]
  },
  {
   "cell_type": "code",
   "execution_count": 42,
   "metadata": {},
   "outputs": [
    {
     "name": "stdout",
     "output_type": "stream",
     "text": [
      "AUC-ROC: 0.8531051608217959\n",
      "Accuracy: 0.787052810902896\n"
     ]
    }
   ],
   "source": [
    "predictions_test = cat.predict(features_test)\n",
    "probabilities_test = cat.predict_proba(features_test)\n",
    "probabilities_one_test = probabilities_test[:, 1]\n",
    "\n",
    "auc_roc = roc_auc_score(target_test, probabilities_one_test)\n",
    "accuracy = accuracy_score(target_test, predictions_test)\n",
    "\n",
    "print('AUC-ROC:', auc_roc)\n",
    "print('Accuracy:', accuracy)"
   ]
  },
  {
   "cell_type": "markdown",
   "metadata": {},
   "source": [
    "**LightGBM**"
   ]
  },
  {
   "cell_type": "code",
   "execution_count": 43,
   "metadata": {},
   "outputs": [
    {
     "name": "stdout",
     "output_type": "stream",
     "text": [
      "AUC-ROC: 0.8506554354119187\n",
      "Accuracy: 0.7541169789892107\n"
     ]
    }
   ],
   "source": [
    "predictions_test = lgbm.predict(features_test)\n",
    "probabilities_test = lgbm.predict_proba(features_test)\n",
    "probabilities_one_test = probabilities_test[:, 1]\n",
    "\n",
    "auc_roc = roc_auc_score(target_test, probabilities_one_test)\n",
    "accuracy = accuracy_score(target_test, predictions_test)\n",
    "\n",
    "print('AUC-ROC:', auc_roc)\n",
    "print('Accuracy:', accuracy)"
   ]
  },
  {
   "cell_type": "code",
   "execution_count": 44,
   "metadata": {},
   "outputs": [
    {
     "data": {
      "image/png": "[encoded data removed]",
      "text/plain": [
       "<Figure size 432x288 with 1 Axes>"
      ]
     },
     "metadata": {
      "needs_background": "light"
     },
     "output_type": "display_data"
    }
   ],
   "source": [
    "probabilities_test_cat = cat.predict_proba(features_test)\n",
    "fpr, tpr, thresholds = roc_curve(target_test, probabilities_test_cat[:, 1])\n",
    "\n",
    "plt.figure()\n",
    "plt.plot(fpr, tpr)\n",
    "plt.xlim([0.0, 1.0])\n",
    "plt.ylim([0.0, 1.0])\n",
    "plt.xlabel('False Positive Rate')\n",
    "plt.ylabel('True Positive Rate')\n",
    "plt.title('ROC-кривая')\n",
    "plt.plot([0, 1], [0, 1], linestyle='--')\n",
    "plt.show()"
   ]
  },
  {
   "cell_type": "markdown",
   "metadata": {},
   "source": [
    "Выше построили график ROC-AUC. В результате мы видим, что наша модель показала себя намного лучше, чем случайно построенная."
   ]
  },
  {
   "cell_type": "markdown",
   "metadata": {},
   "source": [
    "## Вывод"
   ]
  },
  {
   "cell_type": "markdown",
   "metadata": {},
   "source": [
    "Было проведено исследование по прогнозированию расторгнет ли клиент договор с телеком компанией. \n",
    "\n",
    "В нашем распоряжении была информация о 7043 клиентах. Из них 5517 полузуются услугами Интернета и 6361 - стационарным телефоном.\n",
    "\n",
    "Перед началом обучения мы подготовили и исследовали наши данные. Это являлось важным этапом, тк от этого завсит качество модели. Также было важно было не допустить утчеки данных. \n",
    "\n",
    "После данных этапов, прситупили к подготовке данных для обучения: проверили целевой признак на дисбаланс, выделили целевой признак, разделили выборку на обучающую и тестовую, кодировали и масштабировали данные.\n",
    "\n",
    "Для обучения были выбраны три модели: логистическая регрессия и модели градиентного бустинга (CatBoost и LightGBM). Основной метрикой качества модели была выбрана AUC-ROC, accuracy взяли как вспомогательную. В итоге обучения и подбора гиперпараметров лучшие результаты показали модели градиентного бустинга.\n",
    "\n",
    "Далее протестирлвали модели на тестовой выборке. Лучший результат отмечается у модели CatBoost:\n",
    "\n",
    "|        |AUC-ROC|Accuracy|\n",
    "|:-------|:-----:|:------:|\n",
    "|CatBoost|0.8531 |0.7870  |"
   ]
  },
  {
   "cell_type": "markdown",
   "metadata": {},
   "source": [
    "## Отчёт по решению"
   ]
  },
  {
   "cell_type": "markdown",
   "metadata": {},
   "source": [
    "Было проведено исследование для телеком-компании. Данный проект заключался в том, чтобы спрогнозировать, расторгнет ли клиент договор с компанией. \n",
    "\n",
    "1.Для начала были описаны исходящие данные, услуги компании. Здесь же была поставлена задача нашего проекта. Далее составили план проекта, которого далее придерживались в ходе исследования.\n",
    "\n",
    "2.Следующим шагом загрузили данные, ознакомились с ними (посмотрели на первые 5 строк датасета, вывели на экран первичную информацию о данных, посмотрели на возможные значения, которые могут принимать признаки). Далее поработали со столбцами: привели их названия к корректному написаю и дали им описание, тк документаци у нас не было. После сделали вывод о том, с чем нам предстоит работать: у нас есть информация о 7043 пользователях, которые пользуются услугами компании «Ниединогоразрыва.ком». Из них 5517 полузуются услугами Интернета и 6361 - стационарным телефоном. Здесь же определили, что будет решаться задача бинарной классификации.\n",
    "\n",
    "3.Получив первоначальную информацию о датасете, приступили к предобработке. В начале предобработка отдельно по каждому из 4 датасетов:\n",
    "- `df_contract`: проверили датасет на пропуски и дубликаты. Удалили столбец `paperless_billing`, тк посчитали, что вряд ли от способа получения чека будет зависеть уход клиента. Затем скорректировали типы данных в столбцах `begin_date` и `total_charges`. В последнем были замечены пустые значения. Оказалось, что пустые значения были у клиентов, которые начали пользоваться услугами на момент выгрзуки данных, те не прошёл меясц с момента оформления договора. Пустые значения в столбце `total_charges` заменили на значения ежемесячной платы. Следующим шагом сделали из столбца `end_date` целевой признак, обозначив его `exited`(если в `end_date` была дата, то `exited` принимало значения 1, No - 0). Далее посчитали кол-во месяцев сколько клиент пользуется/пользовался услгами компании. Тем самым столбцы `end_date` и `begin_date` перестали быть необходимыми.\n",
    "- `df_internet`: проверили датасет на пропуски и дубликаты. Далее в столбцах `online_security`, `online_backup`, `device_protection`, `tech_support`, `streaming_tv`, `streaming_movies` заменили значения Yes и No на 1 и 0 соответсвенно.\n",
    "- `df_contract`: проверили датасет на пропуски и дубликаты. Далее в столбцах `partner`, `dependets` заменили значения Yes и No на 1 и 0 соответсвенно.\n",
    "- `df_phone`: проверили датасет на пропуски и дубликаты. Далее в столбце `multiple_lines` заменили значения Yes и No на 1 и 0 соответсвенно.\n",
    "\n",
    "Далее объединили 4 датасета в один общий методом merge по столбцу `customer_id`. После объединения подкорректировали типы данных, где это было необходимо. В конце данного пункта удалили столбец `customer_id`, тк для обучения модели он не понадобится. \n",
    "\n",
    "4.После предобработки данных провели исследовательский анализ данных. \n",
    "\n",
    "Сначала изучили общий портер клиента. Получили:\n",
    "- не прослеживается зависимость по гендерной принадлежности. Также можно отметить, что в выборке почти равное количество мужчин и женщин \n",
    "- касательно возраста клиентов: клиентов, не достигших пенсионного возраста больше (около 6 тыс.)\n",
    "- также почти в равном количестве клиенты имеющие и не имеющие супруга(и). Клиенты, не имеющие партнёра, чаще расторгают догвор об оказании услуг\n",
    "- Клиентов, не имеющих иждивенцев больше (их около 5000). Также эта категория чаще расторгает договор.\n",
    "\n",
    "Следующим шагом исследовали зависимости от типа договора и методов оплаты. В итоге получили следующее:\n",
    "- Больше всего клиентов с помесячной оплатой услуг (~ 4000)\n",
    "- Клиенты с помесячной оплатой услуг чаще расторгают договор. Вероятнее всего, клиенты, заключающие договор на 1 год и более удовлетворены сервисом компании и уверены в ней.\n",
    "- У клиентов предпочтительный метод оплаты - электронный чек (~2500). Но клиенты, относящиеся к данной категории, больше прерывают договор.\n",
    "\n",
    "Далее изучили поведение клиентоа относительно дополнительныз услуг. Результатом стало следующее:\n",
    "- Клиенты больше предпочитают подключение к Интернету с помощью оптоволоконного кабеля. Но здесь также стоит отметить, что отток клиентов, использующих данный тип подключения больше, нежели через телефонную линию.\n",
    "- Если смотреть про дополнительные услуги, то прмиерно равное количество клиентов используют каждый вид дополнительной услуги.\n",
    "- Чаще всего отказываются от услуг компании клиенты, дополнительно подключившие услуги стримингового ТВ и киносервиса. \n",
    "\n",
    "Далее посмотрели на распределения оплат и периода пользования услугами компании. Построили гистограммы и ящики с усами. По результатам вывода данных графиков можно сделать следующие выводы:\n",
    "- Половина клиентов пользователей в месяц платят по тарифу от 40 до 90 д.е. за услуги. Здесь же отметим, что около 1500 клиентов платят по тарифу в месяц 20-25 д.е. Скорее всего, это люди, не подключившие никакие дополнительные услуги. \n",
    "- Говоря про длиетнльность пользования услугами компании, можно сказать, что в среднем срок договора составляет от 10 до 55 месяцев. Также примерно 1600 человек пользовались услугами около полугода, а далее контракт был расторгнут. Скоре всего, это можно объяснить тем, что клиенты могли быть не довольны услугами компании или нашли более подходящие/выгодные для них условия в других фирмах.\n",
    "- В среднем общие выплаты за весь период использования составляет примерно 400 - 3800 д.е.\n",
    "\n",
    "Далее проверили количественные признаки на мултиколлинеарность. В резьутате получили, что признаки `total_charges` и `month_used` сильно коррелируют между собой. Это легко объяснить тем, что от продолжительности пользования зависит общая сумма выплат: тем больше используешь, тем больше заплатил. Поэтому следующим шагом удалили признак `total_charges`. Данный шаг был очень важен, тк если упустить его, то можно допустить утчеки данных, которая могла в дальнейшем повлиять на качество модели.\n",
    "\n",
    "5.Далее приступили к подготовке наших данных к обучению. В начале проверили наш целевой признак `exited` на баланс. В итоге у нас имелся дсбаланс признаков (~ 3:4). Поэтому далее при обучении моделей будем указывать аргумент class_weight = 'balanced'. Далее закодировали нашу выборку, используя метод One-Hot Encoding. Следующим шагом разделили нашу выборку на обучающую и тестовую в соотношении 3:4. Т.к. в данных присутствуют количественные признаки с разными разбросами значений, то следом привели эти признаки к одному масштабу. Использовали один из методов масштабирования - стандартизация данных.\n",
    "\n",
    "6.После всех манипуляций с данными приступили к обучению моделей на обучающей выборке. Были выбраны три модели: LogisticRegression и две модели градиентного спуска - CatBoost и LightGBM. Основной метрикой качества модели была выбрана AUC-ROC. Accuracy была выбрана как вспомогательная. При обучении моделей был произведён подбор гиперпараметров с помощью GridSearchCV, который также включает в себя кросс-валидацию. \n",
    "\n",
    "В результате обучения трёх моделей (LogisticRegression, CatBoost и LightGBM) мы получили следующие результаты:\n",
    "\n",
    "|                   |AUC-ROC|Accuracy|\n",
    "|:------------------|:-----:|:------:|\n",
    "| LogisticRegression|0.8449 |0.7665  |\n",
    "| CatBoost          |0.8756 |0.7823  |\n",
    "| LightGBM          |0.8770 |0.7781  |\n",
    "\n",
    "Лучше всего себя показали модели градиентного бустинга. \n",
    "\n",
    "7.Затем перешли к тестированию моделей. В итоге лучший результат показала модель градиентного спуска CatBoost\n",
    "\n",
    "|        |AUC-ROC|Accuracy|\n",
    "|:-------|:-----:|:------:|\n",
    "|CatBoost|0.8531 |0.7870  |\n",
    "\n",
    "Также построили график ROC-AUC, в результате которого мы видим, что наша модель показала себя намного лучше, чем случайно построенная.\n",
    "\n",
    "Поставленная задача выполнена. В ходе выполнения данного проекта придерживались первоначального плана работы, пункты которого в итоге все были выполнены. "
   ]
  }
 ],
 "metadata": {
  "ExecuteTimeLog": [
   {
    "duration": 393,
    "start_time": "2022-07-26T20:51:03.424Z"
   },
   {
    "duration": 298,
    "start_time": "2022-07-26T20:52:19.052Z"
   },
   {
    "duration": 60,
    "start_time": "2022-07-26T20:56:38.555Z"
   },
   {
    "duration": 60,
    "start_time": "2022-07-26T20:57:30.690Z"
   },
   {
    "duration": 413,
    "start_time": "2022-07-27T20:00:18.663Z"
   },
   {
    "duration": 403,
    "start_time": "2022-07-27T20:00:19.078Z"
   },
   {
    "duration": 152,
    "start_time": "2022-07-27T20:00:19.482Z"
   },
   {
    "duration": 156,
    "start_time": "2022-07-27T20:02:21.727Z"
   },
   {
    "duration": 160,
    "start_time": "2022-07-27T20:02:30.340Z"
   },
   {
    "duration": 3,
    "start_time": "2022-07-27T20:06:26.600Z"
   },
   {
    "duration": 4,
    "start_time": "2022-07-27T20:18:19.612Z"
   },
   {
    "duration": 3,
    "start_time": "2022-07-27T20:18:20.324Z"
   },
   {
    "duration": 4,
    "start_time": "2022-07-27T20:19:27.681Z"
   },
   {
    "duration": 5,
    "start_time": "2022-07-27T20:26:09.006Z"
   },
   {
    "duration": 5,
    "start_time": "2022-07-27T20:26:11.562Z"
   },
   {
    "duration": 3,
    "start_time": "2022-07-27T20:26:40.712Z"
   },
   {
    "duration": 7,
    "start_time": "2022-07-27T20:28:40.104Z"
   },
   {
    "duration": 4,
    "start_time": "2022-07-27T20:28:41.906Z"
   },
   {
    "duration": 4,
    "start_time": "2022-07-27T20:28:55.053Z"
   },
   {
    "duration": 8,
    "start_time": "2022-07-27T20:30:10.593Z"
   },
   {
    "duration": 3,
    "start_time": "2022-07-27T20:30:11.554Z"
   },
   {
    "duration": 4,
    "start_time": "2022-07-27T20:30:25.619Z"
   },
   {
    "duration": 4,
    "start_time": "2022-07-27T20:37:03.962Z"
   },
   {
    "duration": 3,
    "start_time": "2022-07-27T20:43:18.185Z"
   },
   {
    "duration": 4,
    "start_time": "2022-07-27T20:45:59.193Z"
   },
   {
    "duration": 423,
    "start_time": "2022-07-27T21:11:57.322Z"
   },
   {
    "duration": 114,
    "start_time": "2022-07-27T21:11:57.747Z"
   },
   {
    "duration": 160,
    "start_time": "2022-07-27T21:11:57.862Z"
   },
   {
    "duration": 11,
    "start_time": "2022-07-27T21:11:58.040Z"
   },
   {
    "duration": 4,
    "start_time": "2022-07-27T21:16:39.763Z"
   },
   {
    "duration": 12,
    "start_time": "2022-07-27T21:16:56.563Z"
   },
   {
    "duration": 4,
    "start_time": "2022-07-27T21:20:39.589Z"
   },
   {
    "duration": 9,
    "start_time": "2022-07-27T21:20:59.265Z"
   },
   {
    "duration": 12,
    "start_time": "2022-07-27T21:21:05.070Z"
   },
   {
    "duration": 35,
    "start_time": "2022-07-27T21:21:29.182Z"
   },
   {
    "duration": 6,
    "start_time": "2022-07-27T21:24:42.481Z"
   },
   {
    "duration": 10,
    "start_time": "2022-07-27T21:24:50.449Z"
   },
   {
    "duration": 1288,
    "start_time": "2022-07-27T21:28:26.718Z"
   },
   {
    "duration": 43,
    "start_time": "2022-07-27T21:28:38.326Z"
   },
   {
    "duration": 10,
    "start_time": "2022-07-27T21:28:40.299Z"
   },
   {
    "duration": 299,
    "start_time": "2022-07-27T21:29:48.220Z"
   },
   {
    "duration": 6,
    "start_time": "2022-07-27T21:30:09.989Z"
   },
   {
    "duration": 17,
    "start_time": "2022-07-27T21:30:16.807Z"
   },
   {
    "duration": 31,
    "start_time": "2022-07-27T21:31:57.416Z"
   },
   {
    "duration": 32,
    "start_time": "2022-07-27T21:32:47.472Z"
   },
   {
    "duration": 18,
    "start_time": "2022-07-27T21:32:59.853Z"
   },
   {
    "duration": 351,
    "start_time": "2022-07-27T21:33:05.491Z"
   },
   {
    "duration": 106,
    "start_time": "2022-07-27T21:33:05.844Z"
   },
   {
    "duration": 159,
    "start_time": "2022-07-27T21:33:05.951Z"
   },
   {
    "duration": 28,
    "start_time": "2022-07-27T21:33:06.112Z"
   },
   {
    "duration": 4,
    "start_time": "2022-07-27T21:33:06.142Z"
   },
   {
    "duration": 33,
    "start_time": "2022-07-27T21:33:06.148Z"
   },
   {
    "duration": 5,
    "start_time": "2022-07-27T21:33:06.183Z"
   },
   {
    "duration": 22,
    "start_time": "2022-07-27T21:33:06.189Z"
   },
   {
    "duration": 40,
    "start_time": "2022-07-27T21:33:06.213Z"
   },
   {
    "duration": 86,
    "start_time": "2022-07-27T21:33:06.256Z"
   },
   {
    "duration": 0,
    "start_time": "2022-07-27T21:33:06.344Z"
   },
   {
    "duration": 0,
    "start_time": "2022-07-27T21:33:06.345Z"
   },
   {
    "duration": 12,
    "start_time": "2022-07-27T21:33:36.879Z"
   },
   {
    "duration": 15,
    "start_time": "2022-07-27T21:36:20.455Z"
   },
   {
    "duration": 57,
    "start_time": "2022-07-27T21:38:57.400Z"
   },
   {
    "duration": 66,
    "start_time": "2022-07-27T21:39:00.421Z"
   },
   {
    "duration": 48,
    "start_time": "2022-07-27T21:39:05.984Z"
   },
   {
    "duration": 70,
    "start_time": "2022-07-27T21:39:08.724Z"
   },
   {
    "duration": 180,
    "start_time": "2022-07-27T21:39:15.147Z"
   },
   {
    "duration": 52,
    "start_time": "2022-07-27T21:40:20.980Z"
   },
   {
    "duration": 355,
    "start_time": "2022-07-27T21:40:27.292Z"
   },
   {
    "duration": 113,
    "start_time": "2022-07-27T21:40:27.649Z"
   },
   {
    "duration": 146,
    "start_time": "2022-07-27T21:40:27.764Z"
   },
   {
    "duration": 23,
    "start_time": "2022-07-27T21:40:27.912Z"
   },
   {
    "duration": 7,
    "start_time": "2022-07-27T21:40:27.946Z"
   },
   {
    "duration": 15,
    "start_time": "2022-07-27T21:40:27.955Z"
   },
   {
    "duration": 6,
    "start_time": "2022-07-27T21:40:27.972Z"
   },
   {
    "duration": 12,
    "start_time": "2022-07-27T21:40:27.979Z"
   },
   {
    "duration": 54,
    "start_time": "2022-07-27T21:40:27.992Z"
   },
   {
    "duration": 9,
    "start_time": "2022-07-27T21:40:28.049Z"
   },
   {
    "duration": 19,
    "start_time": "2022-07-27T21:40:28.060Z"
   },
   {
    "duration": 47,
    "start_time": "2022-07-27T21:40:28.081Z"
   },
   {
    "duration": 0,
    "start_time": "2022-07-27T21:40:28.129Z"
   },
   {
    "duration": 0,
    "start_time": "2022-07-27T21:40:28.131Z"
   },
   {
    "duration": 63,
    "start_time": "2022-07-27T21:40:42.709Z"
   },
   {
    "duration": 54,
    "start_time": "2022-07-27T21:40:46.508Z"
   },
   {
    "duration": 63,
    "start_time": "2022-07-27T21:41:23.491Z"
   },
   {
    "duration": 79,
    "start_time": "2022-07-27T21:43:02.190Z"
   },
   {
    "duration": 73,
    "start_time": "2022-07-27T21:43:08.527Z"
   },
   {
    "duration": 57,
    "start_time": "2022-07-27T21:43:12.123Z"
   },
   {
    "duration": 122,
    "start_time": "2022-07-27T21:43:15.159Z"
   },
   {
    "duration": 50,
    "start_time": "2022-07-27T21:43:19.254Z"
   },
   {
    "duration": 45,
    "start_time": "2022-07-27T21:43:23.176Z"
   },
   {
    "duration": 49,
    "start_time": "2022-07-27T21:44:06.762Z"
   },
   {
    "duration": 68,
    "start_time": "2022-07-27T21:45:29.925Z"
   },
   {
    "duration": 65,
    "start_time": "2022-07-27T21:47:27.346Z"
   },
   {
    "duration": 4,
    "start_time": "2022-07-27T21:47:42.267Z"
   },
   {
    "duration": 14,
    "start_time": "2022-07-27T21:47:53.317Z"
   },
   {
    "duration": 4,
    "start_time": "2022-07-27T21:48:37.577Z"
   },
   {
    "duration": 16,
    "start_time": "2022-07-27T21:48:47.322Z"
   },
   {
    "duration": 371,
    "start_time": "2022-07-27T21:49:41.691Z"
   },
   {
    "duration": 105,
    "start_time": "2022-07-27T21:49:42.064Z"
   },
   {
    "duration": 146,
    "start_time": "2022-07-27T21:49:42.171Z"
   },
   {
    "duration": 29,
    "start_time": "2022-07-27T21:49:42.320Z"
   },
   {
    "duration": 6,
    "start_time": "2022-07-27T21:49:42.351Z"
   },
   {
    "duration": 14,
    "start_time": "2022-07-27T21:49:42.359Z"
   },
   {
    "duration": 4,
    "start_time": "2022-07-27T21:49:42.375Z"
   },
   {
    "duration": 13,
    "start_time": "2022-07-27T21:49:42.380Z"
   },
   {
    "duration": 61,
    "start_time": "2022-07-27T21:49:42.395Z"
   },
   {
    "duration": 9,
    "start_time": "2022-07-27T21:49:42.459Z"
   },
   {
    "duration": 55,
    "start_time": "2022-07-27T21:49:42.470Z"
   },
   {
    "duration": 33,
    "start_time": "2022-07-27T21:49:42.528Z"
   },
   {
    "duration": 30,
    "start_time": "2022-07-27T21:49:42.563Z"
   },
   {
    "duration": 18,
    "start_time": "2022-07-27T21:49:42.595Z"
   },
   {
    "duration": 21,
    "start_time": "2022-07-27T21:50:18.926Z"
   },
   {
    "duration": 3,
    "start_time": "2022-07-27T21:54:23.912Z"
   },
   {
    "duration": 401,
    "start_time": "2022-07-27T21:54:28.613Z"
   },
   {
    "duration": 108,
    "start_time": "2022-07-27T21:54:29.016Z"
   },
   {
    "duration": 165,
    "start_time": "2022-07-27T21:54:29.125Z"
   },
   {
    "duration": 9,
    "start_time": "2022-07-27T21:54:29.291Z"
   },
   {
    "duration": 9,
    "start_time": "2022-07-27T21:54:29.301Z"
   },
   {
    "duration": 33,
    "start_time": "2022-07-27T21:54:29.311Z"
   },
   {
    "duration": 4,
    "start_time": "2022-07-27T21:54:29.346Z"
   },
   {
    "duration": 14,
    "start_time": "2022-07-27T21:54:29.352Z"
   },
   {
    "duration": 33,
    "start_time": "2022-07-27T21:54:29.367Z"
   },
   {
    "duration": 9,
    "start_time": "2022-07-27T21:54:29.402Z"
   },
   {
    "duration": 34,
    "start_time": "2022-07-27T21:54:29.412Z"
   },
   {
    "duration": 14,
    "start_time": "2022-07-27T21:54:29.448Z"
   },
   {
    "duration": 10,
    "start_time": "2022-07-27T21:54:29.464Z"
   },
   {
    "duration": 12,
    "start_time": "2022-07-27T21:54:29.476Z"
   },
   {
    "duration": 318,
    "start_time": "2022-07-27T22:01:49.681Z"
   },
   {
    "duration": 5,
    "start_time": "2022-07-27T22:01:57.746Z"
   },
   {
    "duration": 40,
    "start_time": "2022-07-27T22:02:36.047Z"
   },
   {
    "duration": 400,
    "start_time": "2022-07-27T22:06:29.363Z"
   },
   {
    "duration": 105,
    "start_time": "2022-07-27T22:06:29.765Z"
   },
   {
    "duration": 165,
    "start_time": "2022-07-27T22:06:29.871Z"
   },
   {
    "duration": 15,
    "start_time": "2022-07-27T22:06:30.039Z"
   },
   {
    "duration": 15,
    "start_time": "2022-07-27T22:06:30.055Z"
   },
   {
    "duration": 18,
    "start_time": "2022-07-27T22:06:30.071Z"
   },
   {
    "duration": 4,
    "start_time": "2022-07-27T22:06:30.090Z"
   },
   {
    "duration": 24,
    "start_time": "2022-07-27T22:06:30.096Z"
   },
   {
    "duration": 36,
    "start_time": "2022-07-27T22:06:30.137Z"
   },
   {
    "duration": 9,
    "start_time": "2022-07-27T22:06:30.176Z"
   },
   {
    "duration": 34,
    "start_time": "2022-07-27T22:06:30.186Z"
   },
   {
    "duration": 11,
    "start_time": "2022-07-27T22:06:30.221Z"
   },
   {
    "duration": 30,
    "start_time": "2022-07-27T22:06:30.238Z"
   },
   {
    "duration": 29,
    "start_time": "2022-07-27T22:06:30.270Z"
   },
   {
    "duration": 42,
    "start_time": "2022-07-28T17:46:50.909Z"
   },
   {
    "duration": 327,
    "start_time": "2022-07-28T17:46:56.478Z"
   },
   {
    "duration": 316,
    "start_time": "2022-07-28T17:46:56.807Z"
   },
   {
    "duration": 133,
    "start_time": "2022-07-28T17:46:57.125Z"
   },
   {
    "duration": 6,
    "start_time": "2022-07-28T17:46:57.260Z"
   },
   {
    "duration": 6,
    "start_time": "2022-07-28T17:46:57.268Z"
   },
   {
    "duration": 13,
    "start_time": "2022-07-28T17:46:57.275Z"
   },
   {
    "duration": 3,
    "start_time": "2022-07-28T17:46:57.289Z"
   },
   {
    "duration": 14,
    "start_time": "2022-07-28T17:46:57.294Z"
   },
   {
    "duration": 49,
    "start_time": "2022-07-28T17:46:57.309Z"
   },
   {
    "duration": 9,
    "start_time": "2022-07-28T17:46:57.360Z"
   },
   {
    "duration": 26,
    "start_time": "2022-07-28T17:46:57.370Z"
   },
   {
    "duration": 4,
    "start_time": "2022-07-28T17:46:57.398Z"
   },
   {
    "duration": 78,
    "start_time": "2022-07-28T17:46:57.404Z"
   },
   {
    "duration": 0,
    "start_time": "2022-07-28T17:46:57.484Z"
   },
   {
    "duration": 4,
    "start_time": "2022-07-28T17:50:02.629Z"
   },
   {
    "duration": 11,
    "start_time": "2022-07-28T17:50:05.211Z"
   },
   {
    "duration": 10,
    "start_time": "2022-07-28T17:50:47.422Z"
   },
   {
    "duration": 156,
    "start_time": "2022-07-28T18:26:33.133Z"
   },
   {
    "duration": 6,
    "start_time": "2022-07-28T18:26:39.937Z"
   },
   {
    "duration": 19,
    "start_time": "2022-07-28T18:26:57.819Z"
   },
   {
    "duration": 13,
    "start_time": "2022-07-28T18:27:17.312Z"
   },
   {
    "duration": 12,
    "start_time": "2022-07-28T18:41:30.015Z"
   },
   {
    "duration": 17,
    "start_time": "2022-07-28T18:41:33.328Z"
   },
   {
    "duration": 17,
    "start_time": "2022-07-28T18:44:37.792Z"
   },
   {
    "duration": 13,
    "start_time": "2022-07-28T18:44:38.198Z"
   },
   {
    "duration": 12,
    "start_time": "2022-07-28T18:46:30.017Z"
   },
   {
    "duration": 12,
    "start_time": "2022-07-28T18:46:42.518Z"
   },
   {
    "duration": 12,
    "start_time": "2022-07-28T18:48:06.841Z"
   },
   {
    "duration": 10,
    "start_time": "2022-07-28T18:48:19.542Z"
   },
   {
    "duration": 11,
    "start_time": "2022-07-28T18:48:25.388Z"
   },
   {
    "duration": 11,
    "start_time": "2022-07-28T18:48:47.441Z"
   },
   {
    "duration": 23,
    "start_time": "2022-07-28T18:49:28.736Z"
   },
   {
    "duration": 5,
    "start_time": "2022-07-28T18:54:41.144Z"
   },
   {
    "duration": 6,
    "start_time": "2022-07-28T18:54:59.379Z"
   },
   {
    "duration": 408,
    "start_time": "2022-07-28T18:57:00.658Z"
   },
   {
    "duration": 98,
    "start_time": "2022-07-28T18:57:01.068Z"
   },
   {
    "duration": 131,
    "start_time": "2022-07-28T18:57:01.167Z"
   },
   {
    "duration": 6,
    "start_time": "2022-07-28T18:57:01.300Z"
   },
   {
    "duration": 27,
    "start_time": "2022-07-28T18:57:01.308Z"
   },
   {
    "duration": 16,
    "start_time": "2022-07-28T18:57:01.337Z"
   },
   {
    "duration": 3,
    "start_time": "2022-07-28T18:57:01.354Z"
   },
   {
    "duration": 17,
    "start_time": "2022-07-28T18:57:01.359Z"
   },
   {
    "duration": 14,
    "start_time": "2022-07-28T18:57:01.378Z"
   },
   {
    "duration": 4,
    "start_time": "2022-07-28T18:57:01.393Z"
   },
   {
    "duration": 10,
    "start_time": "2022-07-28T18:57:01.399Z"
   },
   {
    "duration": 19,
    "start_time": "2022-07-28T18:57:01.410Z"
   },
   {
    "duration": 11,
    "start_time": "2022-07-28T18:57:01.431Z"
   },
   {
    "duration": 11,
    "start_time": "2022-07-28T18:57:01.445Z"
   },
   {
    "duration": 13,
    "start_time": "2022-07-28T18:57:01.458Z"
   },
   {
    "duration": 8,
    "start_time": "2022-07-28T18:57:01.473Z"
   },
   {
    "duration": 12,
    "start_time": "2022-07-28T18:57:01.482Z"
   },
   {
    "duration": 45,
    "start_time": "2022-07-28T18:57:01.495Z"
   },
   {
    "duration": 58,
    "start_time": "2022-07-28T18:58:13.460Z"
   },
   {
    "duration": 13,
    "start_time": "2022-07-28T18:58:17.931Z"
   },
   {
    "duration": 17,
    "start_time": "2022-07-28T18:58:31.146Z"
   },
   {
    "duration": 8,
    "start_time": "2022-07-28T18:58:58.277Z"
   },
   {
    "duration": 9,
    "start_time": "2022-07-28T18:59:26.557Z"
   },
   {
    "duration": 11,
    "start_time": "2022-07-28T19:08:52.958Z"
   },
   {
    "duration": 16,
    "start_time": "2022-07-28T19:08:53.616Z"
   },
   {
    "duration": 25,
    "start_time": "2022-07-28T19:08:55.852Z"
   },
   {
    "duration": 7,
    "start_time": "2022-07-28T19:08:57.953Z"
   },
   {
    "duration": 10,
    "start_time": "2022-07-28T19:09:22.495Z"
   },
   {
    "duration": 11,
    "start_time": "2022-07-28T19:09:28.284Z"
   },
   {
    "duration": 8,
    "start_time": "2022-07-28T19:09:34.763Z"
   },
   {
    "duration": 8,
    "start_time": "2022-07-28T19:09:51.318Z"
   },
   {
    "duration": 1149,
    "start_time": "2022-07-28T19:10:29.787Z"
   },
   {
    "duration": 6,
    "start_time": "2022-07-28T19:10:37.029Z"
   },
   {
    "duration": 391,
    "start_time": "2022-07-28T19:10:42.408Z"
   },
   {
    "duration": 96,
    "start_time": "2022-07-28T19:10:42.801Z"
   },
   {
    "duration": 140,
    "start_time": "2022-07-28T19:10:42.899Z"
   },
   {
    "duration": 7,
    "start_time": "2022-07-28T19:10:43.041Z"
   },
   {
    "duration": 7,
    "start_time": "2022-07-28T19:10:43.049Z"
   },
   {
    "duration": 13,
    "start_time": "2022-07-28T19:10:43.057Z"
   },
   {
    "duration": 2,
    "start_time": "2022-07-28T19:10:43.072Z"
   },
   {
    "duration": 9,
    "start_time": "2022-07-28T19:10:43.076Z"
   },
   {
    "duration": 13,
    "start_time": "2022-07-28T19:10:43.087Z"
   },
   {
    "duration": 4,
    "start_time": "2022-07-28T19:10:43.133Z"
   },
   {
    "duration": 6,
    "start_time": "2022-07-28T19:10:43.139Z"
   },
   {
    "duration": 16,
    "start_time": "2022-07-28T19:10:43.147Z"
   },
   {
    "duration": 10,
    "start_time": "2022-07-28T19:10:43.164Z"
   },
   {
    "duration": 12,
    "start_time": "2022-07-28T19:10:43.175Z"
   },
   {
    "duration": 11,
    "start_time": "2022-07-28T19:10:43.188Z"
   },
   {
    "duration": 38,
    "start_time": "2022-07-28T19:10:43.200Z"
   },
   {
    "duration": 6,
    "start_time": "2022-07-28T19:10:43.239Z"
   },
   {
    "duration": 11,
    "start_time": "2022-07-28T19:10:43.246Z"
   },
   {
    "duration": 4,
    "start_time": "2022-07-28T19:10:43.258Z"
   },
   {
    "duration": 11,
    "start_time": "2022-07-28T19:10:43.263Z"
   },
   {
    "duration": 11,
    "start_time": "2022-07-28T19:10:43.276Z"
   },
   {
    "duration": 5,
    "start_time": "2022-07-28T19:10:43.289Z"
   },
   {
    "duration": 62,
    "start_time": "2022-07-28T19:17:16.600Z"
   },
   {
    "duration": 27,
    "start_time": "2022-07-28T19:17:34.765Z"
   },
   {
    "duration": 14,
    "start_time": "2022-07-28T19:17:42.363Z"
   },
   {
    "duration": 10,
    "start_time": "2022-07-28T19:21:52.756Z"
   },
   {
    "duration": 21,
    "start_time": "2022-07-28T19:21:56.942Z"
   },
   {
    "duration": 95,
    "start_time": "2022-07-28T20:02:18.369Z"
   }
  ],
  "kernelspec": {
   "display_name": "Python 3 (ipykernel)",
   "language": "python",
   "name": "python3"
  },
  "language_info": {
   "codemirror_mode": {
    "name": "ipython",
    "version": 3
   },
   "file_extension": ".py",
   "mimetype": "text/x-python",
   "name": "python",
   "nbconvert_exporter": "python",
   "pygments_lexer": "ipython3",
   "version": "3.9.7"
  },
  "toc": {
   "base_numbering": 1,
   "nav_menu": {},
   "number_sections": true,
   "sideBar": true,
   "skip_h1_title": true,
   "title_cell": "Содержание",
   "title_sidebar": "Contents",
   "toc_cell": true,
   "toc_position": {
    "height": "calc(100% - 180px)",
    "left": "10px",
    "top": "150px",
    "width": "165px"
   },
   "toc_section_display": true,
   "toc_window_display": true
  }
 },
 "nbformat": 4,
 "nbformat_minor": 2
}
