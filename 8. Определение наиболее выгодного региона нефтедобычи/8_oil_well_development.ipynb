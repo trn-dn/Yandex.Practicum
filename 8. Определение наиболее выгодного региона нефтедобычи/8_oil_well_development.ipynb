{
 "cells": [
  {
   "cell_type": "markdown",
   "metadata": {
    "toc": true
   },
   "source": [
    "<h1>Содержание<span class=\"tocSkip\"></span></h1>\n",
    "<div class=\"toc\"><ul class=\"toc-item\"><li><span><a href=\"#Загрузка-и-подготовка-данных\" data-toc-modified-id=\"Загрузка-и-подготовка-данных-1\"><span class=\"toc-item-num\">1&nbsp;&nbsp;</span>Загрузка и подготовка данных</a></span><ul class=\"toc-item\"><li><span><a href=\"#Ознакомление-с-датасетом\" data-toc-modified-id=\"Ознакомление-с-датасетом-1.1\"><span class=\"toc-item-num\">1.1&nbsp;&nbsp;</span>Ознакомление с датасетом</a></span></li><li><span><a href=\"#Подготовка-и-предобработка-данных\" data-toc-modified-id=\"Подготовка-и-предобработка-данных-1.2\"><span class=\"toc-item-num\">1.2&nbsp;&nbsp;</span>Подготовка и предобработка данных</a></span></li></ul></li><li><span><a href=\"#Обучение-и-проверка-модели\" data-toc-modified-id=\"Обучение-и-проверка-модели-2\"><span class=\"toc-item-num\">2&nbsp;&nbsp;</span>Обучение и проверка модели</a></span><ul class=\"toc-item\"><li><span><a href=\"#Деление-данных-на-обучающую-и-валидационную-выборки\" data-toc-modified-id=\"Деление-данных-на-обучающую-и-валидационную-выборки-2.1\"><span class=\"toc-item-num\">2.1&nbsp;&nbsp;</span>Деление данных на обучающую и валидационную выборки</a></span></li><li><span><a href=\"#Обучение-модели-и-предсказания-на-валидационной-выборке\" data-toc-modified-id=\"Обучение-модели-и-предсказания-на-валидационной-выборке-2.2\"><span class=\"toc-item-num\">2.2&nbsp;&nbsp;</span>Обучение модели и предсказания на валидационной выборке</a></span></li></ul></li><li><span><a href=\"#Подготовка-к-расчёту-прибыли\" data-toc-modified-id=\"Подготовка-к-расчёту-прибыли-3\"><span class=\"toc-item-num\">3&nbsp;&nbsp;</span>Подготовка к расчёту прибыли</a></span></li><li><span><a href=\"#Расчёт-прибыли-и-рисков\" data-toc-modified-id=\"Расчёт-прибыли-и-рисков-4\"><span class=\"toc-item-num\">4&nbsp;&nbsp;</span>Расчёт прибыли и рисков</a></span></li><li><span><a href=\"#Вывод\" data-toc-modified-id=\"Вывод-5\"><span class=\"toc-item-num\">5&nbsp;&nbsp;</span>Вывод</a></span></li></ul></div>"
   ]
  },
  {
   "cell_type": "markdown",
   "metadata": {},
   "source": [
    "# Выбор локации для скважины"
   ]
  },
  {
   "cell_type": "markdown",
   "metadata": {},
   "source": [
    "Допустим, мы работаем в добывающей компании «ГлавРосГосНефть». Нужно решить, где бурить новую скважину.\n",
    "\n",
    "Нам предоставлены пробы нефти в трёх регионах: в каждом 10 000 месторождений, где измерили качество нефти и объём её запасов. Необходимо построить модель машинного обучения, которая поможет определить регион, где добыча принесёт наибольшую прибыль. Необходимо проанализировать возможную прибыль и риски техникой *Bootstrap.*\n",
    "\n",
    "Шаги для выбора локации:\n",
    "\n",
    "- В избранном регионе ищут месторождения, для каждого определяют значения признаков;\n",
    "- Строят модель и оценивают объём запасов;\n",
    "- Выбирают месторождения с самым высокими оценками значений. Количество месторождений зависит от бюджета компании и стоимости разработки одной скважины;\n",
    "- Прибыль равна суммарной прибыли отобранных месторождений."
   ]
  },
  {
   "cell_type": "markdown",
   "metadata": {},
   "source": [
    "## Загрузка и подготовка данных"
   ]
  },
  {
   "cell_type": "markdown",
   "metadata": {},
   "source": [
    "### Ознакомление с датасетом"
   ]
  },
  {
   "cell_type": "markdown",
   "metadata": {},
   "source": [
    "Импортируем библиотеки, которые нам понадобятся для дальнейшей работы"
   ]
  },
  {
   "cell_type": "code",
   "execution_count": 1,
   "metadata": {},
   "outputs": [],
   "source": [
    "import pandas as pd\n",
    "import numpy as np\n",
    "from sklearn.model_selection import train_test_split\n",
    "from sklearn.linear_model import LinearRegression\n",
    "from sklearn.metrics import mean_squared_error\n",
    "from scipy import stats as st"
   ]
  },
  {
   "cell_type": "markdown",
   "metadata": {},
   "source": [
    "Откроем наши датасеты. Посмторим на на первые пять строк кажддого из них, также изучим общую информацию о них. "
   ]
  },
  {
   "cell_type": "code",
   "execution_count": 2,
   "metadata": {},
   "outputs": [],
   "source": [
    "df0 = pd.read_csv('/datasets/geo_data_0.csv')\n",
    "df1 = pd.read_csv('/datasets/geo_data_1.csv')\n",
    "df2 = pd.read_csv('/datasets/geo_data_2.csv')"
   ]
  },
  {
   "cell_type": "code",
   "execution_count": 3,
   "metadata": {},
   "outputs": [
    {
     "data": {
      "text/html": [
       "<div>\n",
       "<style scoped>\n",
       "    .dataframe tbody tr th:only-of-type {\n",
       "        vertical-align: middle;\n",
       "    }\n",
       "\n",
       "    .dataframe tbody tr th {\n",
       "        vertical-align: top;\n",
       "    }\n",
       "\n",
       "    .dataframe thead th {\n",
       "        text-align: right;\n",
       "    }\n",
       "</style>\n",
       "<table border=\"1\" class=\"dataframe\">\n",
       "  <thead>\n",
       "    <tr style=\"text-align: right;\">\n",
       "      <th></th>\n",
       "      <th>id</th>\n",
       "      <th>f0</th>\n",
       "      <th>f1</th>\n",
       "      <th>f2</th>\n",
       "      <th>product</th>\n",
       "    </tr>\n",
       "  </thead>\n",
       "  <tbody>\n",
       "    <tr>\n",
       "      <th>0</th>\n",
       "      <td>txEyH</td>\n",
       "      <td>0.705745</td>\n",
       "      <td>-0.497823</td>\n",
       "      <td>1.221170</td>\n",
       "      <td>105.280062</td>\n",
       "    </tr>\n",
       "    <tr>\n",
       "      <th>1</th>\n",
       "      <td>2acmU</td>\n",
       "      <td>1.334711</td>\n",
       "      <td>-0.340164</td>\n",
       "      <td>4.365080</td>\n",
       "      <td>73.037750</td>\n",
       "    </tr>\n",
       "    <tr>\n",
       "      <th>2</th>\n",
       "      <td>409Wp</td>\n",
       "      <td>1.022732</td>\n",
       "      <td>0.151990</td>\n",
       "      <td>1.419926</td>\n",
       "      <td>85.265647</td>\n",
       "    </tr>\n",
       "    <tr>\n",
       "      <th>3</th>\n",
       "      <td>iJLyR</td>\n",
       "      <td>-0.032172</td>\n",
       "      <td>0.139033</td>\n",
       "      <td>2.978566</td>\n",
       "      <td>168.620776</td>\n",
       "    </tr>\n",
       "    <tr>\n",
       "      <th>4</th>\n",
       "      <td>Xdl7t</td>\n",
       "      <td>1.988431</td>\n",
       "      <td>0.155413</td>\n",
       "      <td>4.751769</td>\n",
       "      <td>154.036647</td>\n",
       "    </tr>\n",
       "  </tbody>\n",
       "</table>\n",
       "</div>"
      ],
      "text/plain": [
       "      id        f0        f1        f2     product\n",
       "0  txEyH  0.705745 -0.497823  1.221170  105.280062\n",
       "1  2acmU  1.334711 -0.340164  4.365080   73.037750\n",
       "2  409Wp  1.022732  0.151990  1.419926   85.265647\n",
       "3  iJLyR -0.032172  0.139033  2.978566  168.620776\n",
       "4  Xdl7t  1.988431  0.155413  4.751769  154.036647"
      ]
     },
     "metadata": {},
     "output_type": "display_data"
    },
    {
     "name": "stdout",
     "output_type": "stream",
     "text": [
      "<class 'pandas.core.frame.DataFrame'>\n",
      "RangeIndex: 100000 entries, 0 to 99999\n",
      "Data columns (total 5 columns):\n",
      " #   Column   Non-Null Count   Dtype  \n",
      "---  ------   --------------   -----  \n",
      " 0   id       100000 non-null  object \n",
      " 1   f0       100000 non-null  float64\n",
      " 2   f1       100000 non-null  float64\n",
      " 3   f2       100000 non-null  float64\n",
      " 4   product  100000 non-null  float64\n",
      "dtypes: float64(4), object(1)\n",
      "memory usage: 3.8+ MB\n",
      "----------------------------------------\n"
     ]
    },
    {
     "data": {
      "text/html": [
       "<div>\n",
       "<style scoped>\n",
       "    .dataframe tbody tr th:only-of-type {\n",
       "        vertical-align: middle;\n",
       "    }\n",
       "\n",
       "    .dataframe tbody tr th {\n",
       "        vertical-align: top;\n",
       "    }\n",
       "\n",
       "    .dataframe thead th {\n",
       "        text-align: right;\n",
       "    }\n",
       "</style>\n",
       "<table border=\"1\" class=\"dataframe\">\n",
       "  <thead>\n",
       "    <tr style=\"text-align: right;\">\n",
       "      <th></th>\n",
       "      <th>id</th>\n",
       "      <th>f0</th>\n",
       "      <th>f1</th>\n",
       "      <th>f2</th>\n",
       "      <th>product</th>\n",
       "    </tr>\n",
       "  </thead>\n",
       "  <tbody>\n",
       "    <tr>\n",
       "      <th>0</th>\n",
       "      <td>kBEdx</td>\n",
       "      <td>-15.001348</td>\n",
       "      <td>-8.276000</td>\n",
       "      <td>-0.005876</td>\n",
       "      <td>3.179103</td>\n",
       "    </tr>\n",
       "    <tr>\n",
       "      <th>1</th>\n",
       "      <td>62mP7</td>\n",
       "      <td>14.272088</td>\n",
       "      <td>-3.475083</td>\n",
       "      <td>0.999183</td>\n",
       "      <td>26.953261</td>\n",
       "    </tr>\n",
       "    <tr>\n",
       "      <th>2</th>\n",
       "      <td>vyE1P</td>\n",
       "      <td>6.263187</td>\n",
       "      <td>-5.948386</td>\n",
       "      <td>5.001160</td>\n",
       "      <td>134.766305</td>\n",
       "    </tr>\n",
       "    <tr>\n",
       "      <th>3</th>\n",
       "      <td>KcrkZ</td>\n",
       "      <td>-13.081196</td>\n",
       "      <td>-11.506057</td>\n",
       "      <td>4.999415</td>\n",
       "      <td>137.945408</td>\n",
       "    </tr>\n",
       "    <tr>\n",
       "      <th>4</th>\n",
       "      <td>AHL4O</td>\n",
       "      <td>12.702195</td>\n",
       "      <td>-8.147433</td>\n",
       "      <td>5.004363</td>\n",
       "      <td>134.766305</td>\n",
       "    </tr>\n",
       "  </tbody>\n",
       "</table>\n",
       "</div>"
      ],
      "text/plain": [
       "      id         f0         f1        f2     product\n",
       "0  kBEdx -15.001348  -8.276000 -0.005876    3.179103\n",
       "1  62mP7  14.272088  -3.475083  0.999183   26.953261\n",
       "2  vyE1P   6.263187  -5.948386  5.001160  134.766305\n",
       "3  KcrkZ -13.081196 -11.506057  4.999415  137.945408\n",
       "4  AHL4O  12.702195  -8.147433  5.004363  134.766305"
      ]
     },
     "metadata": {},
     "output_type": "display_data"
    },
    {
     "name": "stdout",
     "output_type": "stream",
     "text": [
      "<class 'pandas.core.frame.DataFrame'>\n",
      "RangeIndex: 100000 entries, 0 to 99999\n",
      "Data columns (total 5 columns):\n",
      " #   Column   Non-Null Count   Dtype  \n",
      "---  ------   --------------   -----  \n",
      " 0   id       100000 non-null  object \n",
      " 1   f0       100000 non-null  float64\n",
      " 2   f1       100000 non-null  float64\n",
      " 3   f2       100000 non-null  float64\n",
      " 4   product  100000 non-null  float64\n",
      "dtypes: float64(4), object(1)\n",
      "memory usage: 3.8+ MB\n",
      "----------------------------------------\n"
     ]
    },
    {
     "data": {
      "text/html": [
       "<div>\n",
       "<style scoped>\n",
       "    .dataframe tbody tr th:only-of-type {\n",
       "        vertical-align: middle;\n",
       "    }\n",
       "\n",
       "    .dataframe tbody tr th {\n",
       "        vertical-align: top;\n",
       "    }\n",
       "\n",
       "    .dataframe thead th {\n",
       "        text-align: right;\n",
       "    }\n",
       "</style>\n",
       "<table border=\"1\" class=\"dataframe\">\n",
       "  <thead>\n",
       "    <tr style=\"text-align: right;\">\n",
       "      <th></th>\n",
       "      <th>id</th>\n",
       "      <th>f0</th>\n",
       "      <th>f1</th>\n",
       "      <th>f2</th>\n",
       "      <th>product</th>\n",
       "    </tr>\n",
       "  </thead>\n",
       "  <tbody>\n",
       "    <tr>\n",
       "      <th>0</th>\n",
       "      <td>fwXo0</td>\n",
       "      <td>-1.146987</td>\n",
       "      <td>0.963328</td>\n",
       "      <td>-0.828965</td>\n",
       "      <td>27.758673</td>\n",
       "    </tr>\n",
       "    <tr>\n",
       "      <th>1</th>\n",
       "      <td>WJtFt</td>\n",
       "      <td>0.262778</td>\n",
       "      <td>0.269839</td>\n",
       "      <td>-2.530187</td>\n",
       "      <td>56.069697</td>\n",
       "    </tr>\n",
       "    <tr>\n",
       "      <th>2</th>\n",
       "      <td>ovLUW</td>\n",
       "      <td>0.194587</td>\n",
       "      <td>0.289035</td>\n",
       "      <td>-5.586433</td>\n",
       "      <td>62.871910</td>\n",
       "    </tr>\n",
       "    <tr>\n",
       "      <th>3</th>\n",
       "      <td>q6cA6</td>\n",
       "      <td>2.236060</td>\n",
       "      <td>-0.553760</td>\n",
       "      <td>0.930038</td>\n",
       "      <td>114.572842</td>\n",
       "    </tr>\n",
       "    <tr>\n",
       "      <th>4</th>\n",
       "      <td>WPMUX</td>\n",
       "      <td>-0.515993</td>\n",
       "      <td>1.716266</td>\n",
       "      <td>5.899011</td>\n",
       "      <td>149.600746</td>\n",
       "    </tr>\n",
       "  </tbody>\n",
       "</table>\n",
       "</div>"
      ],
      "text/plain": [
       "      id        f0        f1        f2     product\n",
       "0  fwXo0 -1.146987  0.963328 -0.828965   27.758673\n",
       "1  WJtFt  0.262778  0.269839 -2.530187   56.069697\n",
       "2  ovLUW  0.194587  0.289035 -5.586433   62.871910\n",
       "3  q6cA6  2.236060 -0.553760  0.930038  114.572842\n",
       "4  WPMUX -0.515993  1.716266  5.899011  149.600746"
      ]
     },
     "metadata": {},
     "output_type": "display_data"
    },
    {
     "name": "stdout",
     "output_type": "stream",
     "text": [
      "<class 'pandas.core.frame.DataFrame'>\n",
      "RangeIndex: 100000 entries, 0 to 99999\n",
      "Data columns (total 5 columns):\n",
      " #   Column   Non-Null Count   Dtype  \n",
      "---  ------   --------------   -----  \n",
      " 0   id       100000 non-null  object \n",
      " 1   f0       100000 non-null  float64\n",
      " 2   f1       100000 non-null  float64\n",
      " 3   f2       100000 non-null  float64\n",
      " 4   product  100000 non-null  float64\n",
      "dtypes: float64(4), object(1)\n",
      "memory usage: 3.8+ MB\n",
      "----------------------------------------\n"
     ]
    }
   ],
   "source": [
    "for data in [df0, df1, df2]:\n",
    "    display(data.head())\n",
    "    data.info()\n",
    "    print('----------------------------------------')"
   ]
  },
  {
   "cell_type": "markdown",
   "metadata": {},
   "source": [
    "Согласно документации к данным:\n",
    "\n",
    "* `id` — уникальный идентификатор скважины;\n",
    "* `f0`, `f1`, `f2` — три признака точек (неважно, что они означают, но сами признаки значимы);\n",
    "* `product` — объём запасов в скважине (тыс. баррелей)."
   ]
  },
  {
   "cell_type": "markdown",
   "metadata": {},
   "source": [
    "В результате первоначального ознакомления с датасетом, мы можем отметить, что каждый датасет состоит из 10 тыс. объектов и 5 признаков. Столбец `product` будет являться целевым признаком. Т. к. целевой признак количественный, то будет решаться задача регрессии.\n",
    "\n",
    "Стоит отметить, признак `id` не будет влиять на обучение модели. В дальнейшей обработке данных, данный столбец будет удален. Также проверим наши данные на пропуски и дубликаты и посмотрим на основные статистические характеристики."
   ]
  },
  {
   "cell_type": "markdown",
   "metadata": {},
   "source": [
    "### Подготовка и предобработка данных"
   ]
  },
  {
   "cell_type": "markdown",
   "metadata": {},
   "source": [
    "Удалим столбец `id`. Он не будут влиять на дальнейшее решение задачи."
   ]
  },
  {
   "cell_type": "code",
   "execution_count": 4,
   "metadata": {},
   "outputs": [],
   "source": [
    "def drop_id (data):\n",
    "    del data['id']\n",
    "    \n",
    "for i in [df0, df1, df2]:\n",
    "    drop_id(i)"
   ]
  },
  {
   "cell_type": "markdown",
   "metadata": {},
   "source": [
    "Проверим наши данные на пропуски и дубликаты:"
   ]
  },
  {
   "cell_type": "code",
   "execution_count": 5,
   "metadata": {},
   "outputs": [
    {
     "name": "stdout",
     "output_type": "stream",
     "text": [
      "Количество пропусков\n",
      "f0         0\n",
      "f1         0\n",
      "f2         0\n",
      "product    0\n",
      "dtype: int64\n",
      "Количество дубликатов\n",
      "0\n",
      "---------------------------------\n",
      "Количество пропусков\n",
      "f0         0\n",
      "f1         0\n",
      "f2         0\n",
      "product    0\n",
      "dtype: int64\n",
      "Количество дубликатов\n",
      "0\n",
      "---------------------------------\n",
      "Количество пропусков\n",
      "f0         0\n",
      "f1         0\n",
      "f2         0\n",
      "product    0\n",
      "dtype: int64\n",
      "Количество дубликатов\n",
      "0\n",
      "---------------------------------\n"
     ]
    }
   ],
   "source": [
    "def isna_duplicate_check (data):\n",
    "    print('Количество пропусков')\n",
    "    print(data.isna().sum())\n",
    "    print('Количество дубликатов')\n",
    "    print(data.duplicated().sum())\n",
    "    print('---------------------------------')\n",
    "\n",
    "for i in [df0, df1, df2]:\n",
    "    isna_duplicate_check(i)"
   ]
  },
  {
   "cell_type": "markdown",
   "metadata": {},
   "source": [
    "Отлично! Дубликатов и пропусков не обнаружено"
   ]
  },
  {
   "cell_type": "markdown",
   "metadata": {},
   "source": [
    "Далее посмотрим на статистические характеристики, дающие представление о выборке."
   ]
  },
  {
   "cell_type": "code",
   "execution_count": 6,
   "metadata": {},
   "outputs": [
    {
     "name": "stdout",
     "output_type": "stream",
     "text": [
      "                  f0             f1             f2        product\n",
      "count  100000.000000  100000.000000  100000.000000  100000.000000\n",
      "mean        0.500419       0.250143       2.502647      92.500000\n",
      "std         0.871832       0.504433       3.248248      44.288691\n",
      "min        -1.408605      -0.848218     -12.088328       0.000000\n",
      "25%        -0.072580      -0.200881       0.287748      56.497507\n",
      "50%         0.502360       0.250252       2.515969      91.849972\n",
      "75%         1.073581       0.700646       4.715088     128.564089\n",
      "max         2.362331       1.343769      16.003790     185.364347\n",
      "--------------------------------------------------------------------\n",
      "                  f0             f1             f2        product\n",
      "count  100000.000000  100000.000000  100000.000000  100000.000000\n",
      "mean        1.141296      -4.796579       2.494541      68.825000\n",
      "std         8.965932       5.119872       1.703572      45.944423\n",
      "min       -31.609576     -26.358598      -0.018144       0.000000\n",
      "25%        -6.298551      -8.267985       1.000021      26.953261\n",
      "50%         1.153055      -4.813172       2.011479      57.085625\n",
      "75%         8.621015      -1.332816       3.999904     107.813044\n",
      "max        29.421755      18.734063       5.019721     137.945408\n",
      "--------------------------------------------------------------------\n",
      "                  f0             f1             f2        product\n",
      "count  100000.000000  100000.000000  100000.000000  100000.000000\n",
      "mean        0.002023      -0.002081       2.495128      95.000000\n",
      "std         1.732045       1.730417       3.473445      44.749921\n",
      "min        -8.760004      -7.084020     -11.970335       0.000000\n",
      "25%        -1.162288      -1.174820       0.130359      59.450441\n",
      "50%         0.009424      -0.009482       2.484236      94.925613\n",
      "75%         1.158535       1.163678       4.858794     130.595027\n",
      "max         7.238262       7.844801      16.739402     190.029838\n",
      "--------------------------------------------------------------------\n"
     ]
    }
   ],
   "source": [
    "def data_describe (data):\n",
    "    print(data.describe())\n",
    "    print('--------------------------------------------------------------------')\n",
    "\n",
    "for i in [df0, df1, df2]:\n",
    "    data_describe(i)"
   ]
  },
  {
   "cell_type": "markdown",
   "metadata": {},
   "source": [
    "Данные изучены и подготовлены. Можно приступать к работе"
   ]
  },
  {
   "cell_type": "markdown",
   "metadata": {},
   "source": [
    "## Обучение и проверка модели"
   ]
  },
  {
   "cell_type": "markdown",
   "metadata": {},
   "source": [
    "### Деление данных на обучающую и валидационную выборки "
   ]
  },
  {
   "cell_type": "markdown",
   "metadata": {},
   "source": [
    "Разобьём наши данные на обучающую и валидационные выборки в соотношении 75:25."
   ]
  },
  {
   "cell_type": "code",
   "execution_count": 7,
   "metadata": {},
   "outputs": [
    {
     "name": "stdout",
     "output_type": "stream",
     "text": [
      "(75000, 3)\n",
      "(75000, 3)\n",
      "(75000, 3)\n"
     ]
    }
   ],
   "source": [
    "target_0 = df0['product']\n",
    "target_1 = df1['product']\n",
    "target_2 = df2['product']\n",
    "features_0 = df0.drop(['product'], axis=1)\n",
    "features_1 = df1.drop(['product'], axis=1)\n",
    "features_2 = df2.drop(['product'], axis=1)\n",
    "\n",
    "features_train_0, features_valid_0, target_train_0, target_valid_0 = train_test_split(\n",
    "    features_0, target_0, test_size=0.25, random_state=12345\n",
    ")\n",
    "features_train_1, features_valid_1, target_train_1, target_valid_1 = train_test_split(\n",
    "    features_1, target_1, test_size=0.25, random_state=12345\n",
    ")\n",
    "features_train_2, features_valid_2, target_train_2, target_valid_2 = train_test_split(\n",
    "    features_2, target_2, test_size=0.25, random_state=12345\n",
    ")\n",
    "\n",
    "for i in [features_train_0, features_train_1, features_train_2]:\n",
    "    print(i.shape)"
   ]
  },
  {
   "cell_type": "markdown",
   "metadata": {},
   "source": [
    "### Обучение модели и предсказания на валидационной выборке"
   ]
  },
  {
   "cell_type": "markdown",
   "metadata": {},
   "source": [
    "**Месторождение в 1-ом регионе**"
   ]
  },
  {
   "cell_type": "code",
   "execution_count": 8,
   "metadata": {},
   "outputs": [
    {
     "name": "stdout",
     "output_type": "stream",
     "text": [
      "Средний запас предсказанного сырья: 92.59256778438035\n",
      "Средний запас фактического сырья: 92.07859674082927\n",
      "RMSE модели: 37.5794217150813\n"
     ]
    }
   ],
   "source": [
    "model = LinearRegression()\n",
    "model.fit(features_train_0, target_train_0)\n",
    "predictions_0 = model.predict(features_valid_0)\n",
    "answers_0 = target_valid_0\n",
    "\n",
    "print('Средний запас предсказанного сырья:', predictions_0.mean())\n",
    "print('Средний запас фактического сырья:', answers_0.mean())\n",
    "print('RMSE модели:', mean_squared_error(answers_0, predictions_0)** 0.5)"
   ]
  },
  {
   "cell_type": "markdown",
   "metadata": {},
   "source": [
    "**Месторождение во 2-ом регионе**"
   ]
  },
  {
   "cell_type": "code",
   "execution_count": 9,
   "metadata": {},
   "outputs": [
    {
     "name": "stdout",
     "output_type": "stream",
     "text": [
      "Средний запас предсказанного сырья: 68.728546895446\n",
      "Средний запас фактического сырья: 68.72313602435997\n",
      "RMSE модели: 0.893099286775617\n"
     ]
    }
   ],
   "source": [
    "model = LinearRegression()\n",
    "model.fit(features_train_1, target_train_1)\n",
    "predictions_1 = model.predict(features_valid_1)\n",
    "answers_1 = target_valid_1\n",
    "\n",
    "print('Средний запас предсказанного сырья:', predictions_1.mean())\n",
    "print('Средний запас фактического сырья:', answers_1.mean())\n",
    "print('RMSE модели:', mean_squared_error(answers_1, predictions_1)** 0.5)"
   ]
  },
  {
   "cell_type": "markdown",
   "metadata": {},
   "source": [
    "**Месторождение в 3-ем регионе**"
   ]
  },
  {
   "cell_type": "code",
   "execution_count": 10,
   "metadata": {},
   "outputs": [
    {
     "name": "stdout",
     "output_type": "stream",
     "text": [
      "Средний запас предсказанного сырья: 94.96504596800489\n",
      "Средний запас фактического сырья: 94.88423280885438\n",
      "RMSE модели: 40.02970873393434\n"
     ]
    }
   ],
   "source": [
    "model = LinearRegression()\n",
    "model.fit(features_train_2, target_train_2)\n",
    "predictions_2 = model.predict(features_valid_2)\n",
    "answers_2 = target_valid_2\n",
    "\n",
    "print('Средний запас предсказанного сырья:', predictions_2.mean())\n",
    "print('Средний запас фактического сырья:', answers_2.mean())\n",
    "print('RMSE модели:', mean_squared_error(answers_2, predictions_2)** 0.5)"
   ]
  },
  {
   "cell_type": "markdown",
   "metadata": {},
   "source": [
    "Отсюда мы видим, что месторождение во втором регионе уступает по запасам сырья двум другим регионам, но по результатам метрки RMSE оно является самым выгодным и перспективным."
   ]
  },
  {
   "cell_type": "markdown",
   "metadata": {},
   "source": [
    "## Подготовка к расчёту прибыли"
   ]
  },
  {
   "cell_type": "markdown",
   "metadata": {},
   "source": [
    "По условию залачи с помощью машинного обучения выбирают 200 лучших точек для разработки. Бюджет на разработку скважин в регионе - 10 млрд рублей. Посчитаем сколько придётся денег на разработку одной скважины, сохранив в переменной `budget_per_oil_well`."
   ]
  },
  {
   "cell_type": "code",
   "execution_count": 11,
   "metadata": {},
   "outputs": [
    {
     "name": "stdout",
     "output_type": "stream",
     "text": [
      "Бюджет на разработку одной скважины: 50000000.0\n"
     ]
    }
   ],
   "source": [
    "development_budget = 10000000000 \n",
    "budget_per_oil_well = development_budget / 200\n",
    "print('Бюджет на разработку одной скважины:', budget_per_oil_well)"
   ]
  },
  {
   "cell_type": "markdown",
   "metadata": {},
   "source": [
    "Также по условию сказано, что доход с каждой единицы продукта составляет 450 тыс. рублей. Далее посчитаем объём сырья, который необходим, чтобы окупить затраты, и выведем полученный результат на экран."
   ]
  },
  {
   "cell_type": "code",
   "execution_count": 12,
   "metadata": {},
   "outputs": [
    {
     "name": "stdout",
     "output_type": "stream",
     "text": [
      "Достаточный объём сырья для безубыточной разаработки новой скважины: 111.11111111111111\n"
     ]
    }
   ],
   "source": [
    "revenue_per_unit_of_product = 450000\n",
    "breakeven_point = budget_per_oil_well / revenue_per_unit_of_product   #точка безубыточности\n",
    "\n",
    "print('Достаточный объём сырья для безубыточной разаработки новой скважины:', breakeven_point)"
   ]
  },
  {
   "cell_type": "markdown",
   "metadata": {},
   "source": [
    "Сравним полученный объем сырья со средним запасом в каждом регионе"
   ]
  },
  {
   "cell_type": "code",
   "execution_count": 13,
   "metadata": {},
   "outputs": [
    {
     "name": "stdout",
     "output_type": "stream",
     "text": [
      "Объём сырья для безубыточной разработки новой скважины 1 месторождения: -19.032514370281845\n",
      "Объём сырья для безубыточной разработки новой скважины 2 месторождения: -42.38797508675114\n",
      "Объём сырья для безубыточной разработки новой скважины 3 месторождения: -16.226878302256736\n"
     ]
    }
   ],
   "source": [
    "print('Объём сырья для безубыточной разработки новой скважины 1 месторождения:', answers_0.mean() - breakeven_point)\n",
    "print('Объём сырья для безубыточной разработки новой скважины 2 месторождения:', answers_1.mean() - breakeven_point)\n",
    "print('Объём сырья для безубыточной разработки новой скважины 3 месторождения:', answers_2.mean() - breakeven_point)"
   ]
  },
  {
   "cell_type": "markdown",
   "metadata": {},
   "source": [
    "По результатам наших расчётов мы видим, что самая затратная скважина будет находиться во 2-ом регионе. Необходимо больше времени для того, чтобы окупить вложеннный бюджет для разработки. Для скважин в 1-ом и 3-ем регионах срок окупаемости в 2 раза меньше."
   ]
  },
  {
   "cell_type": "markdown",
   "metadata": {},
   "source": [
    "## Расчёт прибыли и рисков "
   ]
  },
  {
   "cell_type": "markdown",
   "metadata": {},
   "source": [
    "Напишем функцию для расчёта прибыли по выбранным скважинам (топ-200) и предсказаниям модели:"
   ]
  },
  {
   "cell_type": "code",
   "execution_count": 14,
   "metadata": {},
   "outputs": [],
   "source": [
    "def revenue(target, predictions):\n",
    "    target = pd.Series(target).reset_index(drop=True)\n",
    "    predictions = pd.Series(predictions).reset_index(drop=True)\n",
    "    predictions_sorted = predictions.sort_values(ascending=False)[:200].index\n",
    "    selected = target[predictions_sorted]\n",
    "    revenue = selected.sum() * revenue_per_unit_of_product - development_budget\n",
    "    return (revenue / 1000000).round(2)"
   ]
  },
  {
   "cell_type": "markdown",
   "metadata": {},
   "source": [
    "Посчитаем прибыль для каждого региона:"
   ]
  },
  {
   "cell_type": "code",
   "execution_count": 15,
   "metadata": {},
   "outputs": [
    {
     "name": "stdout",
     "output_type": "stream",
     "text": [
      "Средняя прогнозная прибыль в 1-ом регионе: 3320.83 млн руб.\n",
      "Средняя прогнозная прибыль во 2-ом регионе: 2415.09 млн руб.\n",
      "Средняя прогнозная прибыль в 3-ем регионе: 2710.35 млн руб.\n"
     ]
    }
   ],
   "source": [
    "revenue_0 = revenue(answers_0, predictions_0)\n",
    "revenue_1 = revenue(answers_1, predictions_1)\n",
    "revenue_2 = revenue(answers_2, predictions_2)\n",
    "print('Средняя прогнозная прибыль в 1-ом регионе:', revenue_0, 'млн руб.')\n",
    "print('Средняя прогнозная прибыль во 2-ом регионе:', revenue_1, 'млн руб.')\n",
    "print('Средняя прогнозная прибыль в 3-ем регионе:', revenue_2, 'млн руб.')"
   ]
  },
  {
   "cell_type": "markdown",
   "metadata": {},
   "source": [
    "Далее при помощи техники Bootstrap найдём среднюю прибыль, 95-% доверительный интервал и риск убытков."
   ]
  },
  {
   "cell_type": "code",
   "execution_count": 16,
   "metadata": {},
   "outputs": [],
   "source": [
    "def bootstrap(target, predictions, iterations, sample_size):\n",
    "    state = np.random.RandomState(12345)\n",
    "    values = []\n",
    "    for i in range(iterations):\n",
    "        target_subsample = target.sample(n=sample_size, random_state=state, replace=True)\n",
    "        pred_subsample = predictions[target_subsample.index]\n",
    "        values.append(revenue(target_subsample, pred_subsample))\n",
    "\n",
    "    values = pd.Series(values)\n",
    "    mean = values.mean()\n",
    "    risk = (values < 0).mean()\n",
    "    confidence_interval = st.t.interval(0.95, len(values)-1, loc=values.mean(), scale=values.sem())\n",
    "    \n",
    "    lower = values.quantile(0.025)\n",
    "    upper = values.quantile(0.975)\n",
    "    quantile_interval = (lower, upper)\n",
    "    return round(mean,2), confidence_interval, (risk*100).round(2), quantile_interval"
   ]
  },
  {
   "cell_type": "code",
   "execution_count": 17,
   "metadata": {},
   "outputs": [
    {
     "name": "stdout",
     "output_type": "stream",
     "text": [
      "Средняя прибыль в 1-ом регионе: 396.17\n",
      "95 %ый доверительный интервал по стьюденту в 1-ом регионе: (379.62035601496876, 412.70970398503124)\n",
      "95 %ый доверительный интервал по квантилям в 1-ом регионе: (-111.21425, 909.7642499999998)\n",
      "Риск убытков в 1-ом регионе: 6.9 %\n"
     ]
    }
   ],
   "source": [
    "mean_0, interval_0, risk_0, quantile_0 = bootstrap(answers_0.reset_index(drop=True), predictions_0, 1000, 500)\n",
    "print(f'Средняя прибыль в 1-ом регионе: {mean_0}')\n",
    "print(f'95 %ый доверительный интервал по стьюденту в 1-ом регионе: {interval_0}')\n",
    "print(f'95 %ый доверительный интервал по квантилям в 1-ом регионе: {quantile_0}')\n",
    "print(f'Риск убытков в 1-ом регионе: {risk_0} %')"
   ]
  },
  {
   "cell_type": "code",
   "execution_count": 18,
   "metadata": {},
   "outputs": [
    {
     "name": "stdout",
     "output_type": "stream",
     "text": [
      "Средняя прибыль во 2-ом регионе: 456.05\n",
      "95 %ый доверительный интервал по стьюденту во 2-ом регионе: (443.1472043267659, 468.9429356732341)\n",
      "95 %ый доверительный интервал по квантилям во 2-ом регионе: (33.82000000000001, 852.28575)\n",
      "Риск убытков во 2-ом регионе: 1.5 %\n"
     ]
    }
   ],
   "source": [
    "mean_1, interval_1, risk_1, quantile_1 = bootstrap(answers_1.reset_index(drop=True), predictions_1, 1000, 500)\n",
    "print(f'Средняя прибыль во 2-ом регионе: {mean_1}')\n",
    "print(f'95 %ый доверительный интервал по стьюденту во 2-ом регионе: {interval_1}')\n",
    "print(f'95 %ый доверительный интервал по квантилям во 2-ом регионе: {quantile_1}')\n",
    "print(f'Риск убытков во 2-ом регионе: {risk_1} %')"
   ]
  },
  {
   "cell_type": "code",
   "execution_count": 19,
   "metadata": {},
   "outputs": [
    {
     "name": "stdout",
     "output_type": "stream",
     "text": [
      "Средняя прибыль в 3-ем регионе: 404.4\n",
      "95 %ый доверительный интервал по стьюденту в 3-ем регионе: (387.44576760085766, 421.3618923991423)\n",
      "95 %ый доверительный интервал по квантилям в 3-ем регионе: (-163.34949999999998, 950.36325)\n",
      "Риск убытков в 3-ем регионе: 7.6 %\n"
     ]
    }
   ],
   "source": [
    "mean_2, interval_2, risk_2, quantile_2 = bootstrap(answers_2.reset_index(drop=True), predictions_2, 1000, 500)\n",
    "print(f'Средняя прибыль в 3-ем регионе: {mean_2}')\n",
    "print(f'95 %ый доверительный интервал по стьюденту в 3-ем регионе: {interval_2}')\n",
    "print(f'95 %ый доверительный интервал по квантилям в 3-ем регионе: {quantile_2}')\n",
    "print(f'Риск убытков в 3-ем регионе: {risk_2} %')"
   ]
  },
  {
   "cell_type": "markdown",
   "metadata": {},
   "source": [
    "## Вывод"
   ]
  },
  {
   "cell_type": "markdown",
   "metadata": {},
   "source": [
    "По резульататам исследования, рекомендовано произвести разработку скважин во 2-ом регионе. Данный выбор обоснован тем, что в данном регионе отмечается высокий уровень средней прибыли. Также стоит отметить, что риски убытков в данном регионе минимальные из трёх возможных."
   ]
  }
 ],
 "metadata": {
  "ExecuteTimeLog": [
   {
    "duration": 249,
    "start_time": "2022-04-12T17:25:44.049Z"
   },
   {
    "duration": 1213,
    "start_time": "2022-04-12T17:25:50.128Z"
   },
   {
    "duration": 101,
    "start_time": "2022-04-12T17:27:54.193Z"
   },
   {
    "duration": 791,
    "start_time": "2022-04-12T17:29:21.784Z"
   },
   {
    "duration": 64,
    "start_time": "2022-04-12T17:29:53.647Z"
   },
   {
    "duration": 10,
    "start_time": "2022-04-12T17:32:02.356Z"
   },
   {
    "duration": 184,
    "start_time": "2022-04-12T17:32:02.964Z"
   },
   {
    "duration": 80,
    "start_time": "2022-04-12T17:32:03.463Z"
   },
   {
    "duration": 92,
    "start_time": "2022-04-12T17:33:08.177Z"
   },
   {
    "duration": 17,
    "start_time": "2022-04-12T17:34:56.697Z"
   },
   {
    "duration": 42,
    "start_time": "2022-04-12T17:35:20.397Z"
   },
   {
    "duration": 17,
    "start_time": "2022-04-12T17:39:36.069Z"
   },
   {
    "duration": 15,
    "start_time": "2022-04-12T17:39:36.812Z"
   },
   {
    "duration": 14,
    "start_time": "2022-04-12T17:39:37.558Z"
   },
   {
    "duration": 2,
    "start_time": "2022-04-12T17:49:53.495Z"
   },
   {
    "duration": 4,
    "start_time": "2022-04-12T17:50:05.052Z"
   },
   {
    "duration": 3,
    "start_time": "2022-04-12T17:53:01.275Z"
   },
   {
    "duration": 3,
    "start_time": "2022-04-12T18:08:47.823Z"
   },
   {
    "duration": 4,
    "start_time": "2022-04-12T18:09:40.443Z"
   },
   {
    "duration": 5,
    "start_time": "2022-04-12T18:12:52.409Z"
   },
   {
    "duration": 4,
    "start_time": "2022-04-12T18:14:46.248Z"
   },
   {
    "duration": 9,
    "start_time": "2022-04-12T18:16:57.811Z"
   },
   {
    "duration": 4,
    "start_time": "2022-04-12T18:17:04.569Z"
   },
   {
    "duration": 6,
    "start_time": "2022-04-12T18:17:26.402Z"
   },
   {
    "duration": 3,
    "start_time": "2022-04-12T20:05:00.627Z"
   },
   {
    "duration": 14,
    "start_time": "2022-04-12T20:09:57.696Z"
   },
   {
    "duration": 14,
    "start_time": "2022-04-12T20:10:16.981Z"
   },
   {
    "duration": 8,
    "start_time": "2022-04-12T20:10:29.852Z"
   },
   {
    "duration": 31,
    "start_time": "2022-04-12T20:10:35.569Z"
   },
   {
    "duration": 18,
    "start_time": "2022-04-12T20:10:39.880Z"
   },
   {
    "duration": 53,
    "start_time": "2022-04-12T20:11:17.315Z"
   },
   {
    "duration": 18,
    "start_time": "2022-04-12T20:11:22.381Z"
   },
   {
    "duration": 84,
    "start_time": "2022-04-12T20:11:42.172Z"
   },
   {
    "duration": 27,
    "start_time": "2022-04-12T20:12:08.684Z"
   },
   {
    "duration": 4,
    "start_time": "2022-04-12T20:12:12.738Z"
   },
   {
    "duration": 12,
    "start_time": "2022-04-12T20:12:14.023Z"
   },
   {
    "duration": 1463,
    "start_time": "2022-04-12T20:12:21.282Z"
   },
   {
    "duration": 462,
    "start_time": "2022-04-12T20:12:22.747Z"
   },
   {
    "duration": 93,
    "start_time": "2022-04-12T20:12:23.211Z"
   },
   {
    "duration": 11,
    "start_time": "2022-04-12T20:12:23.305Z"
   },
   {
    "duration": 106,
    "start_time": "2022-04-12T20:12:23.318Z"
   },
   {
    "duration": 98,
    "start_time": "2022-04-12T20:12:23.426Z"
   },
   {
    "duration": 62,
    "start_time": "2022-04-12T20:12:23.526Z"
   },
   {
    "duration": 71,
    "start_time": "2022-04-12T20:12:23.590Z"
   },
   {
    "duration": 104,
    "start_time": "2022-04-12T20:12:23.663Z"
   },
   {
    "duration": 194,
    "start_time": "2022-04-12T20:12:23.770Z"
   },
   {
    "duration": 12,
    "start_time": "2022-04-12T20:12:23.965Z"
   },
   {
    "duration": 130,
    "start_time": "2022-04-12T20:12:23.986Z"
   },
   {
    "duration": 8,
    "start_time": "2022-04-12T20:12:24.118Z"
   },
   {
    "duration": 6,
    "start_time": "2022-04-12T20:12:24.128Z"
   },
   {
    "duration": 158,
    "start_time": "2022-04-12T20:12:24.135Z"
   },
   {
    "duration": 13,
    "start_time": "2022-04-12T20:12:43.294Z"
   },
   {
    "duration": 18,
    "start_time": "2022-04-12T20:13:25.111Z"
   },
   {
    "duration": 64,
    "start_time": "2022-04-12T20:13:31.140Z"
   },
   {
    "duration": 56,
    "start_time": "2022-04-12T20:14:04.705Z"
   },
   {
    "duration": 13,
    "start_time": "2022-04-12T20:14:11.731Z"
   },
   {
    "duration": 7,
    "start_time": "2022-04-12T20:15:17.261Z"
   },
   {
    "duration": 8,
    "start_time": "2022-04-12T20:16:31.543Z"
   },
   {
    "duration": 17,
    "start_time": "2022-04-12T20:17:05.609Z"
   },
   {
    "duration": 1323,
    "start_time": "2022-04-12T20:17:11.219Z"
   },
   {
    "duration": 449,
    "start_time": "2022-04-12T20:17:12.545Z"
   },
   {
    "duration": 109,
    "start_time": "2022-04-12T20:17:12.996Z"
   },
   {
    "duration": 13,
    "start_time": "2022-04-12T20:17:13.107Z"
   },
   {
    "duration": 118,
    "start_time": "2022-04-12T20:17:13.122Z"
   },
   {
    "duration": 123,
    "start_time": "2022-04-12T20:17:13.242Z"
   },
   {
    "duration": 52,
    "start_time": "2022-04-12T20:17:13.367Z"
   },
   {
    "duration": 48,
    "start_time": "2022-04-12T20:17:13.422Z"
   },
   {
    "duration": 125,
    "start_time": "2022-04-12T20:17:13.471Z"
   },
   {
    "duration": 106,
    "start_time": "2022-04-12T20:17:13.663Z"
   },
   {
    "duration": 10,
    "start_time": "2022-04-12T20:17:13.773Z"
   },
   {
    "duration": 104,
    "start_time": "2022-04-12T20:17:13.786Z"
   },
   {
    "duration": 19,
    "start_time": "2022-04-12T20:17:13.893Z"
   },
   {
    "duration": 4,
    "start_time": "2022-04-12T20:17:13.914Z"
   },
   {
    "duration": 149,
    "start_time": "2022-04-12T20:17:13.919Z"
   },
   {
    "duration": 0,
    "start_time": "2022-04-12T20:17:14.071Z"
   },
   {
    "duration": 12,
    "start_time": "2022-04-12T20:17:48.537Z"
   },
   {
    "duration": 12,
    "start_time": "2022-04-12T20:18:41.442Z"
   },
   {
    "duration": 5,
    "start_time": "2022-04-12T20:18:59.083Z"
   },
   {
    "duration": 10,
    "start_time": "2022-04-12T20:19:01.803Z"
   },
   {
    "duration": 17,
    "start_time": "2022-04-12T20:19:21.184Z"
   },
   {
    "duration": 13,
    "start_time": "2022-04-12T20:19:23.737Z"
   },
   {
    "duration": 5,
    "start_time": "2022-04-12T20:19:26.001Z"
   },
   {
    "duration": 16,
    "start_time": "2022-04-12T20:19:26.361Z"
   },
   {
    "duration": 349,
    "start_time": "2022-04-12T20:19:26.879Z"
   },
   {
    "duration": 4,
    "start_time": "2022-04-12T20:19:38.803Z"
   },
   {
    "duration": 8,
    "start_time": "2022-04-12T20:19:40.215Z"
   },
   {
    "duration": 28,
    "start_time": "2022-04-12T20:19:40.484Z"
   },
   {
    "duration": 22,
    "start_time": "2022-04-12T20:20:36.583Z"
   },
   {
    "duration": 10,
    "start_time": "2022-04-12T20:21:19.107Z"
   },
   {
    "duration": 29,
    "start_time": "2022-04-12T20:21:20.686Z"
   },
   {
    "duration": 15,
    "start_time": "2022-04-12T20:21:57.392Z"
   },
   {
    "duration": 4,
    "start_time": "2022-04-12T20:22:04.343Z"
   },
   {
    "duration": 3,
    "start_time": "2022-04-12T20:22:04.731Z"
   },
   {
    "duration": 21,
    "start_time": "2022-04-12T20:22:05.130Z"
   },
   {
    "duration": 4,
    "start_time": "2022-04-12T20:34:03.585Z"
   },
   {
    "duration": 8,
    "start_time": "2022-04-12T20:34:30.645Z"
   },
   {
    "duration": 15,
    "start_time": "2022-04-12T20:34:36.173Z"
   },
   {
    "duration": 24,
    "start_time": "2022-04-12T20:34:46.151Z"
   },
   {
    "duration": 3,
    "start_time": "2022-04-12T20:38:53.689Z"
   },
   {
    "duration": 12,
    "start_time": "2022-04-12T20:39:01.690Z"
   },
   {
    "duration": 6,
    "start_time": "2022-04-12T20:39:09.821Z"
   },
   {
    "duration": 1556,
    "start_time": "2022-04-12T20:39:42.427Z"
   },
   {
    "duration": 450,
    "start_time": "2022-04-12T20:39:43.985Z"
   },
   {
    "duration": 85,
    "start_time": "2022-04-12T20:39:44.436Z"
   },
   {
    "duration": 9,
    "start_time": "2022-04-12T20:39:44.524Z"
   },
   {
    "duration": 118,
    "start_time": "2022-04-12T20:39:44.534Z"
   },
   {
    "duration": 118,
    "start_time": "2022-04-12T20:39:44.654Z"
   },
   {
    "duration": 49,
    "start_time": "2022-04-12T20:39:44.775Z"
   },
   {
    "duration": 37,
    "start_time": "2022-04-12T20:39:44.826Z"
   },
   {
    "duration": 101,
    "start_time": "2022-04-12T20:39:44.865Z"
   },
   {
    "duration": 132,
    "start_time": "2022-04-12T20:39:44.978Z"
   },
   {
    "duration": 56,
    "start_time": "2022-04-12T20:39:45.112Z"
   },
   {
    "duration": 94,
    "start_time": "2022-04-12T20:39:45.170Z"
   },
   {
    "duration": 43,
    "start_time": "2022-04-12T20:39:45.269Z"
   },
   {
    "duration": 4,
    "start_time": "2022-04-12T20:39:45.313Z"
   },
   {
    "duration": 131,
    "start_time": "2022-04-12T20:39:45.319Z"
   },
   {
    "duration": 0,
    "start_time": "2022-04-12T20:39:45.451Z"
   },
   {
    "duration": 0,
    "start_time": "2022-04-12T20:39:45.453Z"
   },
   {
    "duration": 21,
    "start_time": "2022-04-12T20:39:51.553Z"
   },
   {
    "duration": 3,
    "start_time": "2022-04-12T20:39:59.827Z"
   },
   {
    "duration": 9,
    "start_time": "2022-04-12T20:40:05.408Z"
   },
   {
    "duration": 14,
    "start_time": "2022-04-12T20:40:33.752Z"
   },
   {
    "duration": 9,
    "start_time": "2022-04-12T20:40:52.380Z"
   },
   {
    "duration": 11,
    "start_time": "2022-04-12T20:40:55.440Z"
   },
   {
    "duration": 9,
    "start_time": "2022-04-12T20:41:04.829Z"
   },
   {
    "duration": 11,
    "start_time": "2022-04-12T20:41:10.864Z"
   },
   {
    "duration": 9,
    "start_time": "2022-04-12T20:41:15.311Z"
   },
   {
    "duration": 4,
    "start_time": "2022-04-12T20:45:49.917Z"
   },
   {
    "duration": 4,
    "start_time": "2022-04-12T20:47:27.682Z"
   },
   {
    "duration": 22,
    "start_time": "2022-04-12T20:47:31.049Z"
   },
   {
    "duration": 1230,
    "start_time": "2022-04-12T20:47:45.728Z"
   },
   {
    "duration": 422,
    "start_time": "2022-04-12T20:47:46.961Z"
   },
   {
    "duration": 76,
    "start_time": "2022-04-12T20:47:47.385Z"
   },
   {
    "duration": 15,
    "start_time": "2022-04-12T20:47:47.463Z"
   },
   {
    "duration": 88,
    "start_time": "2022-04-12T20:47:47.480Z"
   },
   {
    "duration": 88,
    "start_time": "2022-04-12T20:47:47.575Z"
   },
   {
    "duration": 46,
    "start_time": "2022-04-12T20:47:47.665Z"
   },
   {
    "duration": 49,
    "start_time": "2022-04-12T20:47:47.713Z"
   },
   {
    "duration": 107,
    "start_time": "2022-04-12T20:47:47.768Z"
   },
   {
    "duration": 138,
    "start_time": "2022-04-12T20:47:47.955Z"
   },
   {
    "duration": 62,
    "start_time": "2022-04-12T20:47:48.096Z"
   },
   {
    "duration": 128,
    "start_time": "2022-04-12T20:47:48.160Z"
   },
   {
    "duration": 11,
    "start_time": "2022-04-12T20:47:48.290Z"
   },
   {
    "duration": 4,
    "start_time": "2022-04-12T20:47:48.302Z"
   },
   {
    "duration": 13,
    "start_time": "2022-04-12T20:47:48.307Z"
   },
   {
    "duration": 13,
    "start_time": "2022-04-12T20:47:48.322Z"
   },
   {
    "duration": 112,
    "start_time": "2022-04-12T20:47:55.980Z"
   },
   {
    "duration": 1210,
    "start_time": "2022-04-12T20:48:15.322Z"
   },
   {
    "duration": 376,
    "start_time": "2022-04-12T20:48:16.534Z"
   },
   {
    "duration": 74,
    "start_time": "2022-04-12T20:48:16.911Z"
   },
   {
    "duration": 13,
    "start_time": "2022-04-12T20:48:16.991Z"
   },
   {
    "duration": 122,
    "start_time": "2022-04-12T20:48:17.006Z"
   },
   {
    "duration": 95,
    "start_time": "2022-04-12T20:48:17.130Z"
   },
   {
    "duration": 58,
    "start_time": "2022-04-12T20:48:17.226Z"
   },
   {
    "duration": 72,
    "start_time": "2022-04-12T20:48:17.286Z"
   },
   {
    "duration": 101,
    "start_time": "2022-04-12T20:48:17.360Z"
   },
   {
    "duration": 130,
    "start_time": "2022-04-12T20:48:17.464Z"
   },
   {
    "duration": 64,
    "start_time": "2022-04-12T20:48:17.596Z"
   },
   {
    "duration": 123,
    "start_time": "2022-04-12T20:48:17.662Z"
   },
   {
    "duration": 8,
    "start_time": "2022-04-12T20:48:17.786Z"
   },
   {
    "duration": 6,
    "start_time": "2022-04-12T20:48:17.796Z"
   },
   {
    "duration": 10,
    "start_time": "2022-04-12T20:48:17.804Z"
   },
   {
    "duration": 10,
    "start_time": "2022-04-12T20:48:28.352Z"
   },
   {
    "duration": 4,
    "start_time": "2022-04-12T20:49:02.508Z"
   },
   {
    "duration": 7,
    "start_time": "2022-04-12T20:49:02.783Z"
   },
   {
    "duration": 4,
    "start_time": "2022-04-12T20:49:41.712Z"
   },
   {
    "duration": 10,
    "start_time": "2022-04-12T20:49:42.675Z"
   },
   {
    "duration": 5,
    "start_time": "2022-04-12T20:50:01.480Z"
   },
   {
    "duration": 4,
    "start_time": "2022-04-12T20:50:08.480Z"
   },
   {
    "duration": 7,
    "start_time": "2022-04-12T20:50:08.812Z"
   },
   {
    "duration": 7,
    "start_time": "2022-04-12T20:52:17.693Z"
   },
   {
    "duration": 8,
    "start_time": "2022-04-12T20:52:32.511Z"
   },
   {
    "duration": 17,
    "start_time": "2022-04-12T20:53:23.787Z"
   },
   {
    "duration": 5,
    "start_time": "2022-04-12T21:07:50.618Z"
   },
   {
    "duration": 109,
    "start_time": "2022-04-12T21:11:37.110Z"
   },
   {
    "duration": 5,
    "start_time": "2022-04-12T21:11:57.378Z"
   },
   {
    "duration": 13,
    "start_time": "2022-04-12T21:11:57.807Z"
   },
   {
    "duration": 4,
    "start_time": "2022-04-12T21:12:47.279Z"
   },
   {
    "duration": 14,
    "start_time": "2022-04-12T21:12:48.081Z"
   },
   {
    "duration": 17,
    "start_time": "2022-04-12T21:12:53.340Z"
   },
   {
    "duration": 27,
    "start_time": "2022-04-12T21:12:59.649Z"
   },
   {
    "duration": 4,
    "start_time": "2022-04-12T21:13:03.129Z"
   },
   {
    "duration": 894,
    "start_time": "2022-04-12T21:13:05.497Z"
   },
   {
    "duration": 3,
    "start_time": "2022-04-12T21:13:38.419Z"
   },
   {
    "duration": 5,
    "start_time": "2022-04-12T21:13:43.293Z"
   },
   {
    "duration": 902,
    "start_time": "2022-04-12T21:13:43.726Z"
   },
   {
    "duration": 892,
    "start_time": "2022-04-12T21:14:58.711Z"
   },
   {
    "duration": 1090,
    "start_time": "2022-04-12T21:16:13.445Z"
   },
   {
    "duration": 5,
    "start_time": "2022-04-12T21:16:55.521Z"
   },
   {
    "duration": 873,
    "start_time": "2022-04-12T21:16:55.874Z"
   },
   {
    "duration": 948,
    "start_time": "2022-04-12T21:18:30.935Z"
   },
   {
    "duration": 882,
    "start_time": "2022-04-12T21:19:07.618Z"
   },
   {
    "duration": 903,
    "start_time": "2022-04-12T21:19:47.115Z"
   },
   {
    "duration": 837,
    "start_time": "2022-04-12T21:20:49.802Z"
   },
   {
    "duration": 821,
    "start_time": "2022-04-12T21:21:31.978Z"
   },
   {
    "duration": 809,
    "start_time": "2022-04-12T21:22:06.277Z"
   },
   {
    "duration": 835,
    "start_time": "2022-04-12T21:22:23.536Z"
   },
   {
    "duration": 845,
    "start_time": "2022-04-12T21:22:24.372Z"
   },
   {
    "duration": 835,
    "start_time": "2022-04-12T21:22:25.219Z"
   },
   {
    "duration": 1212,
    "start_time": "2022-04-12T21:22:44.099Z"
   },
   {
    "duration": 468,
    "start_time": "2022-04-12T21:22:45.313Z"
   },
   {
    "duration": 71,
    "start_time": "2022-04-12T21:22:45.783Z"
   },
   {
    "duration": 12,
    "start_time": "2022-04-12T21:22:45.857Z"
   },
   {
    "duration": 98,
    "start_time": "2022-04-12T21:22:45.871Z"
   },
   {
    "duration": 104,
    "start_time": "2022-04-12T21:22:45.972Z"
   },
   {
    "duration": 41,
    "start_time": "2022-04-12T21:22:46.078Z"
   },
   {
    "duration": 41,
    "start_time": "2022-04-12T21:22:46.120Z"
   },
   {
    "duration": 193,
    "start_time": "2022-04-12T21:22:46.163Z"
   },
   {
    "duration": 129,
    "start_time": "2022-04-12T21:22:46.360Z"
   },
   {
    "duration": 176,
    "start_time": "2022-04-12T21:22:46.491Z"
   },
   {
    "duration": 18,
    "start_time": "2022-04-12T21:22:46.669Z"
   },
   {
    "duration": 32,
    "start_time": "2022-04-12T21:22:46.689Z"
   },
   {
    "duration": 26,
    "start_time": "2022-04-12T21:22:46.722Z"
   },
   {
    "duration": 46,
    "start_time": "2022-04-12T21:22:46.749Z"
   },
   {
    "duration": 21,
    "start_time": "2022-04-12T21:22:46.797Z"
   },
   {
    "duration": 932,
    "start_time": "2022-04-12T21:22:46.820Z"
   },
   {
    "duration": 896,
    "start_time": "2022-04-12T21:22:47.754Z"
   },
   {
    "duration": 854,
    "start_time": "2022-04-12T21:22:48.657Z"
   },
   {
    "duration": 1362,
    "start_time": "2022-04-12T21:28:03.040Z"
   },
   {
    "duration": 366,
    "start_time": "2022-04-12T21:28:04.404Z"
   },
   {
    "duration": 56,
    "start_time": "2022-04-12T21:28:04.772Z"
   },
   {
    "duration": 29,
    "start_time": "2022-04-12T21:28:04.830Z"
   },
   {
    "duration": 86,
    "start_time": "2022-04-12T21:28:04.862Z"
   },
   {
    "duration": 83,
    "start_time": "2022-04-12T21:28:04.955Z"
   },
   {
    "duration": 44,
    "start_time": "2022-04-12T21:28:05.055Z"
   },
   {
    "duration": 57,
    "start_time": "2022-04-12T21:28:05.101Z"
   },
   {
    "duration": 111,
    "start_time": "2022-04-12T21:28:05.160Z"
   },
   {
    "duration": 193,
    "start_time": "2022-04-12T21:28:05.275Z"
   },
   {
    "duration": 8,
    "start_time": "2022-04-12T21:28:05.471Z"
   },
   {
    "duration": 92,
    "start_time": "2022-04-12T21:28:05.566Z"
   },
   {
    "duration": 9,
    "start_time": "2022-04-12T21:28:05.666Z"
   },
   {
    "duration": 4,
    "start_time": "2022-04-12T21:28:05.676Z"
   },
   {
    "duration": 18,
    "start_time": "2022-04-12T21:28:05.682Z"
   },
   {
    "duration": 4,
    "start_time": "2022-04-12T21:28:05.702Z"
   },
   {
    "duration": 896,
    "start_time": "2022-04-12T21:28:05.708Z"
   },
   {
    "duration": 876,
    "start_time": "2022-04-12T21:28:06.605Z"
   },
   {
    "duration": 862,
    "start_time": "2022-04-12T21:28:07.483Z"
   },
   {
    "duration": 1255,
    "start_time": "2022-04-12T21:29:17.230Z"
   },
   {
    "duration": 385,
    "start_time": "2022-04-12T21:29:18.487Z"
   },
   {
    "duration": 63,
    "start_time": "2022-04-12T21:29:18.874Z"
   },
   {
    "duration": 15,
    "start_time": "2022-04-12T21:29:18.955Z"
   },
   {
    "duration": 106,
    "start_time": "2022-04-12T21:29:18.972Z"
   },
   {
    "duration": 103,
    "start_time": "2022-04-12T21:29:19.079Z"
   },
   {
    "duration": 41,
    "start_time": "2022-04-12T21:29:19.183Z"
   },
   {
    "duration": 33,
    "start_time": "2022-04-12T21:29:19.225Z"
   },
   {
    "duration": 113,
    "start_time": "2022-04-12T21:29:19.259Z"
   },
   {
    "duration": 201,
    "start_time": "2022-04-12T21:29:19.457Z"
   },
   {
    "duration": 90,
    "start_time": "2022-04-12T21:29:19.668Z"
   },
   {
    "duration": 6,
    "start_time": "2022-04-12T21:29:19.761Z"
   },
   {
    "duration": 6,
    "start_time": "2022-04-12T21:29:19.769Z"
   },
   {
    "duration": 3,
    "start_time": "2022-04-12T21:29:19.777Z"
   },
   {
    "duration": 32,
    "start_time": "2022-04-12T21:29:19.782Z"
   },
   {
    "duration": 4,
    "start_time": "2022-04-12T21:29:19.816Z"
   },
   {
    "duration": 869,
    "start_time": "2022-04-12T21:29:19.822Z"
   },
   {
    "duration": 834,
    "start_time": "2022-04-12T21:29:20.693Z"
   },
   {
    "duration": 952,
    "start_time": "2022-04-12T21:29:21.529Z"
   }
  ],
  "kernelspec": {
   "display_name": "Python 3 (ipykernel)",
   "language": "python",
   "name": "python3"
  },
  "language_info": {
   "codemirror_mode": {
    "name": "ipython",
    "version": 3
   },
   "file_extension": ".py",
   "mimetype": "text/x-python",
   "name": "python",
   "nbconvert_exporter": "python",
   "pygments_lexer": "ipython3",
   "version": "3.9.7"
  },
  "toc": {
   "base_numbering": 1,
   "nav_menu": {},
   "number_sections": true,
   "sideBar": true,
   "skip_h1_title": true,
   "title_cell": "Содержание",
   "title_sidebar": "Contents",
   "toc_cell": true,
   "toc_position": {},
   "toc_section_display": true,
   "toc_window_display": true
  }
 },
 "nbformat": 4,
 "nbformat_minor": 2
}
