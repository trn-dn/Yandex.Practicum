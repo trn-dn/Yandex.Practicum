{
 "cells": [
  {
   "cell_type": "markdown",
   "metadata": {
    "toc": true
   },
   "source": [
    "<h1>Содержание<span class=\"tocSkip\"></span></h1>\n",
    "<div class=\"toc\"><ul class=\"toc-item\"><li><span><a href=\"#Подготовка-данных\" data-toc-modified-id=\"Подготовка-данных-1\"><span class=\"toc-item-num\">1&nbsp;&nbsp;</span>Подготовка данных</a></span><ul class=\"toc-item\"><li><span><a href=\"#Открытие-и-изучение-данных\" data-toc-modified-id=\"Открытие-и-изучение-данных-1.1\"><span class=\"toc-item-num\">1.1&nbsp;&nbsp;</span>Открытие и изучение данных</a></span></li><li><span><a href=\"#Проверка-того,-что-эффективность-обогащения-рассчитана-правильно\" data-toc-modified-id=\"Проверка-того,-что-эффективность-обогащения-рассчитана-правильно-1.2\"><span class=\"toc-item-num\">1.2&nbsp;&nbsp;</span>Проверка того, что эффективность обогащения рассчитана правильно</a></span></li><li><span><a href=\"#Анализ-признаков,-недоступных-в-тестовой-выборке\" data-toc-modified-id=\"Анализ-признаков,-недоступных-в-тестовой-выборке-1.3\"><span class=\"toc-item-num\">1.3&nbsp;&nbsp;</span>Анализ признаков, недоступных в тестовой выборке</a></span></li><li><span><a href=\"#Предобработка-данных\" data-toc-modified-id=\"Предобработка-данных-1.4\"><span class=\"toc-item-num\">1.4&nbsp;&nbsp;</span>Предобработка данных</a></span></li></ul></li><li><span><a href=\"#Анализ-данных\" data-toc-modified-id=\"Анализ-данных-2\"><span class=\"toc-item-num\">2&nbsp;&nbsp;</span>Анализ данных</a></span><ul class=\"toc-item\"><li><span><a href=\"#Изменение-концентрации-металлов-(Au,-Ag,-Pb)-на-различных-этапах-очистки\" data-toc-modified-id=\"Изменение-концентрации-металлов-(Au,-Ag,-Pb)-на-различных-этапах-очистки-2.1\"><span class=\"toc-item-num\">2.1&nbsp;&nbsp;</span>Изменение концентрации металлов (Au, Ag, Pb) на различных этапах очистки</a></span></li><li><span><a href=\"#Сравнение-распредления-размеров-гранул-сырья-на-обучающей-и-тестовой-выборках\" data-toc-modified-id=\"Сравнение-распредления-размеров-гранул-сырья-на-обучающей-и-тестовой-выборках-2.2\"><span class=\"toc-item-num\">2.2&nbsp;&nbsp;</span>Сравнение распредления размеров гранул сырья на обучающей и тестовой выборках</a></span></li><li><span><a href=\"#Исседование-суммарной-концентрации-всех-веществ-на-разных-стадиях\" data-toc-modified-id=\"Исседование-суммарной-концентрации-всех-веществ-на-разных-стадиях-2.3\"><span class=\"toc-item-num\">2.3&nbsp;&nbsp;</span>Исседование суммарной концентрации всех веществ на разных стадиях</a></span></li></ul></li><li><span><a href=\"#Модель\" data-toc-modified-id=\"Модель-3\"><span class=\"toc-item-num\">3&nbsp;&nbsp;</span>Модель</a></span><ul class=\"toc-item\"><li><span><a href=\"#Функция-для-вычисления--sMAPE\" data-toc-modified-id=\"Функция-для-вычисления--sMAPE-3.1\"><span class=\"toc-item-num\">3.1&nbsp;&nbsp;</span>Функция для вычисления  sMAPE</a></span></li><li><span><a href=\"#Обучение-разных-моделей-и-оценка-их-качества-кросс-валидацией.-Выборр-лучшей-модели-и-проверка-её-на-тестовой-выборке.\" data-toc-modified-id=\"Обучение-разных-моделей-и-оценка-их-качества-кросс-валидацией.-Выборр-лучшей-модели-и-проверка-её-на-тестовой-выборке.-3.2\"><span class=\"toc-item-num\">3.2&nbsp;&nbsp;</span>Обучение разных моделей и оценка их качества кросс-валидацией. Выборр лучшей модели и проверка её на тестовой выборке.</a></span></li></ul></li></ul></div>"
   ]
  },
  {
   "cell_type": "markdown",
   "metadata": {},
   "source": [
    "# Восстановление золота из руды"
   ]
  },
  {
   "cell_type": "markdown",
   "metadata": {},
   "source": [
    "Необходимо подготовить прототип модели машинного обучения для «Цифры». Компания разрабатывает решения для эффективной работы промышленных предприятий.\n",
    "\n",
    "Модель должна предсказать коэффициент восстановления золота из золотосодержащей руды. Необходимо использовать данные с параметрами добычи и очистки. \n",
    "\n",
    "Модель поможет оптимизировать производство, чтобы не запускать предприятие с убыточными характеристиками.\n",
    "\n",
    "Нам необходимо нужно:\n",
    "\n",
    "1. Подготовить данные;\n",
    "2. Провести исследовательский анализ данных;\n",
    "3. Построить и обучить модель."
   ]
  },
  {
   "cell_type": "markdown",
   "metadata": {},
   "source": [
    "## Подготовка данных"
   ]
  },
  {
   "cell_type": "markdown",
   "metadata": {},
   "source": [
    "### Открытие и изучение данных"
   ]
  },
  {
   "cell_type": "markdown",
   "metadata": {},
   "source": [
    "Импортируем библиотеки, которые нам понадобятся в дальнейшем"
   ]
  },
  {
   "cell_type": "code",
   "execution_count": 1,
   "metadata": {},
   "outputs": [],
   "source": [
    "import pandas as pd\n",
    "import numpy as np\n",
    "from sklearn.metrics import mean_absolute_error, make_scorer\n",
    "import seaborn as sns\n",
    "import matplotlib.pyplot as plt\n",
    "from sklearn.model_selection import cross_val_score\n",
    "from sklearn.ensemble import RandomForestRegressor\n",
    "from sklearn.linear_model import LinearRegression\n",
    "from sklearn.model_selection import GridSearchCV\n",
    "from sklearn.model_selection import RandomizedSearchCV\n",
    "\n",
    "import warnings\n",
    "warnings.filterwarnings('ignore')"
   ]
  },
  {
   "cell_type": "markdown",
   "metadata": {},
   "source": [
    "Откроем наши датасеты, сохранив их в переменнные `df_train`, `df_test` и `df_full`."
   ]
  },
  {
   "cell_type": "code",
   "execution_count": 2,
   "metadata": {},
   "outputs": [],
   "source": [
    "df_train = pd.read_csv('/datasets/gold_recovery_train_new.csv', index_col='date')\n",
    "df_test = pd.read_csv('/datasets/gold_recovery_test_new.csv', index_col='date')\n",
    "df_full = pd.read_csv('/datasets/gold_recovery_full_new.csv', index_col='date')\n",
    "\n",
    "pd.options.display.max_columns = None  #отображение всех столбцов датафрейма"
   ]
  },
  {
   "cell_type": "markdown",
   "metadata": {},
   "source": [
    "Далее напишем цикл, который выведет информацию по каждому датасету: первые пять строк, сводная информация о датасете и список характерных значений."
   ]
  },
  {
   "cell_type": "code",
   "execution_count": 3,
   "metadata": {},
   "outputs": [],
   "source": [
    "df_total = [df_train, df_test, df_full]"
   ]
  },
  {
   "cell_type": "code",
   "execution_count": 4,
   "metadata": {
    "scrolled": false
   },
   "outputs": [
    {
     "data": {
      "text/html": [
       "<div>\n",
       "<style scoped>\n",
       "    .dataframe tbody tr th:only-of-type {\n",
       "        vertical-align: middle;\n",
       "    }\n",
       "\n",
       "    .dataframe tbody tr th {\n",
       "        vertical-align: top;\n",
       "    }\n",
       "\n",
       "    .dataframe thead th {\n",
       "        text-align: right;\n",
       "    }\n",
       "</style>\n",
       "<table border=\"1\" class=\"dataframe\">\n",
       "  <thead>\n",
       "    <tr style=\"text-align: right;\">\n",
       "      <th></th>\n",
       "      <th>final.output.concentrate_ag</th>\n",
       "      <th>final.output.concentrate_pb</th>\n",
       "      <th>final.output.concentrate_sol</th>\n",
       "      <th>final.output.concentrate_au</th>\n",
       "      <th>final.output.recovery</th>\n",
       "      <th>final.output.tail_ag</th>\n",
       "      <th>final.output.tail_pb</th>\n",
       "      <th>final.output.tail_sol</th>\n",
       "      <th>final.output.tail_au</th>\n",
       "      <th>primary_cleaner.input.sulfate</th>\n",
       "      <th>primary_cleaner.input.depressant</th>\n",
       "      <th>primary_cleaner.input.feed_size</th>\n",
       "      <th>primary_cleaner.input.xanthate</th>\n",
       "      <th>primary_cleaner.output.concentrate_ag</th>\n",
       "      <th>primary_cleaner.output.concentrate_pb</th>\n",
       "      <th>primary_cleaner.output.concentrate_sol</th>\n",
       "      <th>primary_cleaner.output.concentrate_au</th>\n",
       "      <th>primary_cleaner.output.tail_ag</th>\n",
       "      <th>primary_cleaner.output.tail_pb</th>\n",
       "      <th>primary_cleaner.output.tail_sol</th>\n",
       "      <th>primary_cleaner.output.tail_au</th>\n",
       "      <th>primary_cleaner.state.floatbank8_a_air</th>\n",
       "      <th>primary_cleaner.state.floatbank8_a_level</th>\n",
       "      <th>primary_cleaner.state.floatbank8_b_air</th>\n",
       "      <th>primary_cleaner.state.floatbank8_b_level</th>\n",
       "      <th>primary_cleaner.state.floatbank8_c_air</th>\n",
       "      <th>primary_cleaner.state.floatbank8_c_level</th>\n",
       "      <th>primary_cleaner.state.floatbank8_d_air</th>\n",
       "      <th>primary_cleaner.state.floatbank8_d_level</th>\n",
       "      <th>rougher.calculation.sulfate_to_au_concentrate</th>\n",
       "      <th>rougher.calculation.floatbank10_sulfate_to_au_feed</th>\n",
       "      <th>rougher.calculation.floatbank11_sulfate_to_au_feed</th>\n",
       "      <th>rougher.calculation.au_pb_ratio</th>\n",
       "      <th>rougher.input.feed_ag</th>\n",
       "      <th>rougher.input.feed_pb</th>\n",
       "      <th>rougher.input.feed_rate</th>\n",
       "      <th>rougher.input.feed_size</th>\n",
       "      <th>rougher.input.feed_sol</th>\n",
       "      <th>rougher.input.feed_au</th>\n",
       "      <th>rougher.input.floatbank10_sulfate</th>\n",
       "      <th>rougher.input.floatbank10_xanthate</th>\n",
       "      <th>rougher.input.floatbank11_sulfate</th>\n",
       "      <th>rougher.input.floatbank11_xanthate</th>\n",
       "      <th>rougher.output.concentrate_ag</th>\n",
       "      <th>rougher.output.concentrate_pb</th>\n",
       "      <th>rougher.output.concentrate_sol</th>\n",
       "      <th>rougher.output.concentrate_au</th>\n",
       "      <th>rougher.output.recovery</th>\n",
       "      <th>rougher.output.tail_ag</th>\n",
       "      <th>rougher.output.tail_pb</th>\n",
       "      <th>rougher.output.tail_sol</th>\n",
       "      <th>rougher.output.tail_au</th>\n",
       "      <th>rougher.state.floatbank10_a_air</th>\n",
       "      <th>rougher.state.floatbank10_a_level</th>\n",
       "      <th>rougher.state.floatbank10_b_air</th>\n",
       "      <th>rougher.state.floatbank10_b_level</th>\n",
       "      <th>rougher.state.floatbank10_c_air</th>\n",
       "      <th>rougher.state.floatbank10_c_level</th>\n",
       "      <th>rougher.state.floatbank10_d_air</th>\n",
       "      <th>rougher.state.floatbank10_d_level</th>\n",
       "      <th>rougher.state.floatbank10_e_air</th>\n",
       "      <th>rougher.state.floatbank10_e_level</th>\n",
       "      <th>rougher.state.floatbank10_f_air</th>\n",
       "      <th>rougher.state.floatbank10_f_level</th>\n",
       "      <th>secondary_cleaner.output.tail_ag</th>\n",
       "      <th>secondary_cleaner.output.tail_pb</th>\n",
       "      <th>secondary_cleaner.output.tail_sol</th>\n",
       "      <th>secondary_cleaner.output.tail_au</th>\n",
       "      <th>secondary_cleaner.state.floatbank2_a_air</th>\n",
       "      <th>secondary_cleaner.state.floatbank2_a_level</th>\n",
       "      <th>secondary_cleaner.state.floatbank2_b_air</th>\n",
       "      <th>secondary_cleaner.state.floatbank2_b_level</th>\n",
       "      <th>secondary_cleaner.state.floatbank3_a_air</th>\n",
       "      <th>secondary_cleaner.state.floatbank3_a_level</th>\n",
       "      <th>secondary_cleaner.state.floatbank3_b_air</th>\n",
       "      <th>secondary_cleaner.state.floatbank3_b_level</th>\n",
       "      <th>secondary_cleaner.state.floatbank4_a_air</th>\n",
       "      <th>secondary_cleaner.state.floatbank4_a_level</th>\n",
       "      <th>secondary_cleaner.state.floatbank4_b_air</th>\n",
       "      <th>secondary_cleaner.state.floatbank4_b_level</th>\n",
       "      <th>secondary_cleaner.state.floatbank5_a_air</th>\n",
       "      <th>secondary_cleaner.state.floatbank5_a_level</th>\n",
       "      <th>secondary_cleaner.state.floatbank5_b_air</th>\n",
       "      <th>secondary_cleaner.state.floatbank5_b_level</th>\n",
       "      <th>secondary_cleaner.state.floatbank6_a_air</th>\n",
       "      <th>secondary_cleaner.state.floatbank6_a_level</th>\n",
       "    </tr>\n",
       "    <tr>\n",
       "      <th>date</th>\n",
       "      <th></th>\n",
       "      <th></th>\n",
       "      <th></th>\n",
       "      <th></th>\n",
       "      <th></th>\n",
       "      <th></th>\n",
       "      <th></th>\n",
       "      <th></th>\n",
       "      <th></th>\n",
       "      <th></th>\n",
       "      <th></th>\n",
       "      <th></th>\n",
       "      <th></th>\n",
       "      <th></th>\n",
       "      <th></th>\n",
       "      <th></th>\n",
       "      <th></th>\n",
       "      <th></th>\n",
       "      <th></th>\n",
       "      <th></th>\n",
       "      <th></th>\n",
       "      <th></th>\n",
       "      <th></th>\n",
       "      <th></th>\n",
       "      <th></th>\n",
       "      <th></th>\n",
       "      <th></th>\n",
       "      <th></th>\n",
       "      <th></th>\n",
       "      <th></th>\n",
       "      <th></th>\n",
       "      <th></th>\n",
       "      <th></th>\n",
       "      <th></th>\n",
       "      <th></th>\n",
       "      <th></th>\n",
       "      <th></th>\n",
       "      <th></th>\n",
       "      <th></th>\n",
       "      <th></th>\n",
       "      <th></th>\n",
       "      <th></th>\n",
       "      <th></th>\n",
       "      <th></th>\n",
       "      <th></th>\n",
       "      <th></th>\n",
       "      <th></th>\n",
       "      <th></th>\n",
       "      <th></th>\n",
       "      <th></th>\n",
       "      <th></th>\n",
       "      <th></th>\n",
       "      <th></th>\n",
       "      <th></th>\n",
       "      <th></th>\n",
       "      <th></th>\n",
       "      <th></th>\n",
       "      <th></th>\n",
       "      <th></th>\n",
       "      <th></th>\n",
       "      <th></th>\n",
       "      <th></th>\n",
       "      <th></th>\n",
       "      <th></th>\n",
       "      <th></th>\n",
       "      <th></th>\n",
       "      <th></th>\n",
       "      <th></th>\n",
       "      <th></th>\n",
       "      <th></th>\n",
       "      <th></th>\n",
       "      <th></th>\n",
       "      <th></th>\n",
       "      <th></th>\n",
       "      <th></th>\n",
       "      <th></th>\n",
       "      <th></th>\n",
       "      <th></th>\n",
       "      <th></th>\n",
       "      <th></th>\n",
       "      <th></th>\n",
       "      <th></th>\n",
       "      <th></th>\n",
       "      <th></th>\n",
       "      <th></th>\n",
       "      <th></th>\n",
       "    </tr>\n",
       "  </thead>\n",
       "  <tbody>\n",
       "    <tr>\n",
       "      <th>2016-01-15 00:00:00</th>\n",
       "      <td>6.055403</td>\n",
       "      <td>9.889648</td>\n",
       "      <td>5.507324</td>\n",
       "      <td>42.192020</td>\n",
       "      <td>70.541216</td>\n",
       "      <td>10.411962</td>\n",
       "      <td>0.895447</td>\n",
       "      <td>16.904297</td>\n",
       "      <td>2.143149</td>\n",
       "      <td>127.092003</td>\n",
       "      <td>10.128295</td>\n",
       "      <td>7.25</td>\n",
       "      <td>0.988759</td>\n",
       "      <td>8.547551</td>\n",
       "      <td>10.389648</td>\n",
       "      <td>19.529297</td>\n",
       "      <td>34.174427</td>\n",
       "      <td>14.936526</td>\n",
       "      <td>2.534912</td>\n",
       "      <td>7.476074</td>\n",
       "      <td>2.106679</td>\n",
       "      <td>1549.775757</td>\n",
       "      <td>-498.912140</td>\n",
       "      <td>1551.434204</td>\n",
       "      <td>-516.403442</td>\n",
       "      <td>1549.873901</td>\n",
       "      <td>-498.666595</td>\n",
       "      <td>1554.367432</td>\n",
       "      <td>-493.428131</td>\n",
       "      <td>41885.707031</td>\n",
       "      <td>3481.779053</td>\n",
       "      <td>3520.337158</td>\n",
       "      <td>2.838687</td>\n",
       "      <td>6.100378</td>\n",
       "      <td>2.284912</td>\n",
       "      <td>523.546326</td>\n",
       "      <td>55.486599</td>\n",
       "      <td>36.808594</td>\n",
       "      <td>6.486150</td>\n",
       "      <td>11.986616</td>\n",
       "      <td>6.007990</td>\n",
       "      <td>11.836743</td>\n",
       "      <td>6.005818</td>\n",
       "      <td>11.500771</td>\n",
       "      <td>7.101074</td>\n",
       "      <td>28.029297</td>\n",
       "      <td>19.793808</td>\n",
       "      <td>87.107763</td>\n",
       "      <td>5.008018</td>\n",
       "      <td>0.508728</td>\n",
       "      <td>19.154297</td>\n",
       "      <td>1.170244</td>\n",
       "      <td>999.706909</td>\n",
       "      <td>-404.066986</td>\n",
       "      <td>1603.011353</td>\n",
       "      <td>-434.715027</td>\n",
       "      <td>1602.375000</td>\n",
       "      <td>-442.204468</td>\n",
       "      <td>1598.937256</td>\n",
       "      <td>-451.294128</td>\n",
       "      <td>1404.472046</td>\n",
       "      <td>-455.462982</td>\n",
       "      <td>1416.354980</td>\n",
       "      <td>-451.939636</td>\n",
       "      <td>14.500184</td>\n",
       "      <td>4.694824</td>\n",
       "      <td>8.764648</td>\n",
       "      <td>2.606185</td>\n",
       "      <td>25.853109</td>\n",
       "      <td>-498.526489</td>\n",
       "      <td>23.893660</td>\n",
       "      <td>-501.406281</td>\n",
       "      <td>23.961798</td>\n",
       "      <td>-495.262817</td>\n",
       "      <td>21.940409</td>\n",
       "      <td>-499.340973</td>\n",
       "      <td>14.016835</td>\n",
       "      <td>-502.488007</td>\n",
       "      <td>12.099931</td>\n",
       "      <td>-504.715942</td>\n",
       "      <td>9.925633</td>\n",
       "      <td>-498.310211</td>\n",
       "      <td>8.079666</td>\n",
       "      <td>-500.470978</td>\n",
       "      <td>14.151341</td>\n",
       "      <td>-605.841980</td>\n",
       "    </tr>\n",
       "    <tr>\n",
       "      <th>2016-01-15 01:00:00</th>\n",
       "      <td>6.029369</td>\n",
       "      <td>9.968944</td>\n",
       "      <td>5.257781</td>\n",
       "      <td>42.701629</td>\n",
       "      <td>69.266198</td>\n",
       "      <td>10.462676</td>\n",
       "      <td>0.927452</td>\n",
       "      <td>16.634514</td>\n",
       "      <td>2.224930</td>\n",
       "      <td>125.629232</td>\n",
       "      <td>10.296251</td>\n",
       "      <td>7.25</td>\n",
       "      <td>1.002663</td>\n",
       "      <td>8.558743</td>\n",
       "      <td>10.497069</td>\n",
       "      <td>19.369147</td>\n",
       "      <td>34.118526</td>\n",
       "      <td>16.250511</td>\n",
       "      <td>3.049646</td>\n",
       "      <td>6.733907</td>\n",
       "      <td>2.353017</td>\n",
       "      <td>1576.166671</td>\n",
       "      <td>-500.904965</td>\n",
       "      <td>1575.950626</td>\n",
       "      <td>-499.865889</td>\n",
       "      <td>1575.994189</td>\n",
       "      <td>-499.315107</td>\n",
       "      <td>1574.479259</td>\n",
       "      <td>-498.931665</td>\n",
       "      <td>42050.861809</td>\n",
       "      <td>3498.370979</td>\n",
       "      <td>3489.981857</td>\n",
       "      <td>2.858998</td>\n",
       "      <td>6.161113</td>\n",
       "      <td>2.266033</td>\n",
       "      <td>525.290581</td>\n",
       "      <td>57.278666</td>\n",
       "      <td>35.753385</td>\n",
       "      <td>6.478583</td>\n",
       "      <td>11.971193</td>\n",
       "      <td>6.005766</td>\n",
       "      <td>11.996163</td>\n",
       "      <td>6.012594</td>\n",
       "      <td>11.615865</td>\n",
       "      <td>7.278807</td>\n",
       "      <td>28.067063</td>\n",
       "      <td>20.050975</td>\n",
       "      <td>86.843261</td>\n",
       "      <td>4.955378</td>\n",
       "      <td>0.536689</td>\n",
       "      <td>18.965234</td>\n",
       "      <td>1.184827</td>\n",
       "      <td>1000.286398</td>\n",
       "      <td>-400.065196</td>\n",
       "      <td>1600.754587</td>\n",
       "      <td>-449.953435</td>\n",
       "      <td>1600.479580</td>\n",
       "      <td>-449.830646</td>\n",
       "      <td>1600.527589</td>\n",
       "      <td>-449.953649</td>\n",
       "      <td>1399.227084</td>\n",
       "      <td>-450.869848</td>\n",
       "      <td>1399.719514</td>\n",
       "      <td>-450.119001</td>\n",
       "      <td>14.265474</td>\n",
       "      <td>4.592547</td>\n",
       "      <td>9.001494</td>\n",
       "      <td>2.488248</td>\n",
       "      <td>25.880539</td>\n",
       "      <td>-499.989656</td>\n",
       "      <td>23.889530</td>\n",
       "      <td>-500.372428</td>\n",
       "      <td>23.970550</td>\n",
       "      <td>-500.085473</td>\n",
       "      <td>22.085714</td>\n",
       "      <td>-499.446897</td>\n",
       "      <td>13.992281</td>\n",
       "      <td>-505.503262</td>\n",
       "      <td>11.950531</td>\n",
       "      <td>-501.331529</td>\n",
       "      <td>10.039245</td>\n",
       "      <td>-500.169983</td>\n",
       "      <td>7.984757</td>\n",
       "      <td>-500.582168</td>\n",
       "      <td>13.998353</td>\n",
       "      <td>-599.787184</td>\n",
       "    </tr>\n",
       "    <tr>\n",
       "      <th>2016-01-15 02:00:00</th>\n",
       "      <td>6.055926</td>\n",
       "      <td>10.213995</td>\n",
       "      <td>5.383759</td>\n",
       "      <td>42.657501</td>\n",
       "      <td>68.116445</td>\n",
       "      <td>10.507046</td>\n",
       "      <td>0.953716</td>\n",
       "      <td>16.208849</td>\n",
       "      <td>2.257889</td>\n",
       "      <td>123.819808</td>\n",
       "      <td>11.316280</td>\n",
       "      <td>7.25</td>\n",
       "      <td>0.991265</td>\n",
       "      <td>8.603505</td>\n",
       "      <td>10.354494</td>\n",
       "      <td>19.167579</td>\n",
       "      <td>33.969464</td>\n",
       "      <td>16.491823</td>\n",
       "      <td>3.124664</td>\n",
       "      <td>6.471768</td>\n",
       "      <td>2.416800</td>\n",
       "      <td>1601.556163</td>\n",
       "      <td>-499.997791</td>\n",
       "      <td>1600.386685</td>\n",
       "      <td>-500.607762</td>\n",
       "      <td>1602.003542</td>\n",
       "      <td>-500.870069</td>\n",
       "      <td>1599.541515</td>\n",
       "      <td>-499.827444</td>\n",
       "      <td>42018.101184</td>\n",
       "      <td>3495.348910</td>\n",
       "      <td>3502.359819</td>\n",
       "      <td>2.945989</td>\n",
       "      <td>6.116455</td>\n",
       "      <td>2.159622</td>\n",
       "      <td>530.026610</td>\n",
       "      <td>57.510649</td>\n",
       "      <td>35.971630</td>\n",
       "      <td>6.362222</td>\n",
       "      <td>11.920603</td>\n",
       "      <td>6.197377</td>\n",
       "      <td>11.920305</td>\n",
       "      <td>6.204633</td>\n",
       "      <td>11.695753</td>\n",
       "      <td>7.216833</td>\n",
       "      <td>27.454037</td>\n",
       "      <td>19.737170</td>\n",
       "      <td>86.842308</td>\n",
       "      <td>4.843460</td>\n",
       "      <td>0.546416</td>\n",
       "      <td>18.808533</td>\n",
       "      <td>1.162562</td>\n",
       "      <td>999.719565</td>\n",
       "      <td>-400.074028</td>\n",
       "      <td>1599.337330</td>\n",
       "      <td>-450.008530</td>\n",
       "      <td>1599.672797</td>\n",
       "      <td>-449.954491</td>\n",
       "      <td>1599.849325</td>\n",
       "      <td>-449.954185</td>\n",
       "      <td>1399.180945</td>\n",
       "      <td>-449.937588</td>\n",
       "      <td>1400.316682</td>\n",
       "      <td>-450.527147</td>\n",
       "      <td>14.115662</td>\n",
       "      <td>4.624775</td>\n",
       "      <td>8.842896</td>\n",
       "      <td>2.458187</td>\n",
       "      <td>26.005245</td>\n",
       "      <td>-499.929616</td>\n",
       "      <td>23.886657</td>\n",
       "      <td>-499.951928</td>\n",
       "      <td>23.913535</td>\n",
       "      <td>-499.442343</td>\n",
       "      <td>23.957717</td>\n",
       "      <td>-499.901982</td>\n",
       "      <td>14.015015</td>\n",
       "      <td>-502.520901</td>\n",
       "      <td>11.912783</td>\n",
       "      <td>-501.133383</td>\n",
       "      <td>10.070913</td>\n",
       "      <td>-500.129135</td>\n",
       "      <td>8.013877</td>\n",
       "      <td>-500.517572</td>\n",
       "      <td>14.028663</td>\n",
       "      <td>-601.427363</td>\n",
       "    </tr>\n",
       "    <tr>\n",
       "      <th>2016-01-15 03:00:00</th>\n",
       "      <td>6.047977</td>\n",
       "      <td>9.977019</td>\n",
       "      <td>4.858634</td>\n",
       "      <td>42.689819</td>\n",
       "      <td>68.347543</td>\n",
       "      <td>10.422762</td>\n",
       "      <td>0.883763</td>\n",
       "      <td>16.532835</td>\n",
       "      <td>2.146849</td>\n",
       "      <td>122.270188</td>\n",
       "      <td>11.322140</td>\n",
       "      <td>7.25</td>\n",
       "      <td>0.996739</td>\n",
       "      <td>7.221879</td>\n",
       "      <td>8.496563</td>\n",
       "      <td>15.978538</td>\n",
       "      <td>28.260743</td>\n",
       "      <td>16.024359</td>\n",
       "      <td>2.960362</td>\n",
       "      <td>6.843791</td>\n",
       "      <td>2.262051</td>\n",
       "      <td>1599.968720</td>\n",
       "      <td>-500.951778</td>\n",
       "      <td>1600.659236</td>\n",
       "      <td>-499.677094</td>\n",
       "      <td>1600.304144</td>\n",
       "      <td>-500.727997</td>\n",
       "      <td>1600.449520</td>\n",
       "      <td>-500.052575</td>\n",
       "      <td>42029.447991</td>\n",
       "      <td>3498.578313</td>\n",
       "      <td>3499.162912</td>\n",
       "      <td>3.002340</td>\n",
       "      <td>6.043309</td>\n",
       "      <td>2.037807</td>\n",
       "      <td>542.590390</td>\n",
       "      <td>57.792734</td>\n",
       "      <td>36.862241</td>\n",
       "      <td>6.118189</td>\n",
       "      <td>11.630094</td>\n",
       "      <td>6.203177</td>\n",
       "      <td>11.692450</td>\n",
       "      <td>6.196578</td>\n",
       "      <td>11.915047</td>\n",
       "      <td>7.175616</td>\n",
       "      <td>27.341277</td>\n",
       "      <td>19.320810</td>\n",
       "      <td>87.226430</td>\n",
       "      <td>4.655288</td>\n",
       "      <td>0.542525</td>\n",
       "      <td>19.330200</td>\n",
       "      <td>1.079755</td>\n",
       "      <td>999.814770</td>\n",
       "      <td>-400.200179</td>\n",
       "      <td>1600.059442</td>\n",
       "      <td>-450.619948</td>\n",
       "      <td>1600.012842</td>\n",
       "      <td>-449.910497</td>\n",
       "      <td>1597.725177</td>\n",
       "      <td>-450.130127</td>\n",
       "      <td>1400.943157</td>\n",
       "      <td>-450.030142</td>\n",
       "      <td>1400.234743</td>\n",
       "      <td>-449.790835</td>\n",
       "      <td>13.732071</td>\n",
       "      <td>4.482453</td>\n",
       "      <td>9.122857</td>\n",
       "      <td>2.322062</td>\n",
       "      <td>25.942508</td>\n",
       "      <td>-499.176749</td>\n",
       "      <td>23.955516</td>\n",
       "      <td>-499.848796</td>\n",
       "      <td>23.966838</td>\n",
       "      <td>-500.008812</td>\n",
       "      <td>23.954443</td>\n",
       "      <td>-499.944710</td>\n",
       "      <td>14.036510</td>\n",
       "      <td>-500.857308</td>\n",
       "      <td>11.999550</td>\n",
       "      <td>-501.193686</td>\n",
       "      <td>9.970366</td>\n",
       "      <td>-499.201640</td>\n",
       "      <td>7.977324</td>\n",
       "      <td>-500.255908</td>\n",
       "      <td>14.005551</td>\n",
       "      <td>-599.996129</td>\n",
       "    </tr>\n",
       "    <tr>\n",
       "      <th>2016-01-15 04:00:00</th>\n",
       "      <td>6.148599</td>\n",
       "      <td>10.142511</td>\n",
       "      <td>4.939416</td>\n",
       "      <td>42.774141</td>\n",
       "      <td>66.927016</td>\n",
       "      <td>10.360302</td>\n",
       "      <td>0.792826</td>\n",
       "      <td>16.525686</td>\n",
       "      <td>2.055292</td>\n",
       "      <td>117.988169</td>\n",
       "      <td>11.913613</td>\n",
       "      <td>7.25</td>\n",
       "      <td>1.009869</td>\n",
       "      <td>9.089428</td>\n",
       "      <td>9.986786</td>\n",
       "      <td>19.199864</td>\n",
       "      <td>33.044932</td>\n",
       "      <td>16.480185</td>\n",
       "      <td>3.112100</td>\n",
       "      <td>6.550154</td>\n",
       "      <td>2.277073</td>\n",
       "      <td>1601.339707</td>\n",
       "      <td>-498.975456</td>\n",
       "      <td>1601.437854</td>\n",
       "      <td>-500.323246</td>\n",
       "      <td>1599.581894</td>\n",
       "      <td>-500.888152</td>\n",
       "      <td>1602.649541</td>\n",
       "      <td>-500.593010</td>\n",
       "      <td>42125.354245</td>\n",
       "      <td>3494.800771</td>\n",
       "      <td>3506.679315</td>\n",
       "      <td>3.169615</td>\n",
       "      <td>6.060915</td>\n",
       "      <td>1.786875</td>\n",
       "      <td>540.531893</td>\n",
       "      <td>56.047189</td>\n",
       "      <td>34.347666</td>\n",
       "      <td>5.663707</td>\n",
       "      <td>10.957755</td>\n",
       "      <td>6.198826</td>\n",
       "      <td>10.960521</td>\n",
       "      <td>6.194897</td>\n",
       "      <td>12.411054</td>\n",
       "      <td>7.240205</td>\n",
       "      <td>27.041023</td>\n",
       "      <td>19.216101</td>\n",
       "      <td>86.688794</td>\n",
       "      <td>4.552800</td>\n",
       "      <td>0.515438</td>\n",
       "      <td>19.267422</td>\n",
       "      <td>1.012642</td>\n",
       "      <td>999.678690</td>\n",
       "      <td>-399.752729</td>\n",
       "      <td>1600.208824</td>\n",
       "      <td>-449.599614</td>\n",
       "      <td>1600.357732</td>\n",
       "      <td>-450.034364</td>\n",
       "      <td>1599.759049</td>\n",
       "      <td>-449.909799</td>\n",
       "      <td>1401.560902</td>\n",
       "      <td>-448.877187</td>\n",
       "      <td>1401.160227</td>\n",
       "      <td>-450.407128</td>\n",
       "      <td>14.079996</td>\n",
       "      <td>4.470737</td>\n",
       "      <td>8.871028</td>\n",
       "      <td>2.330448</td>\n",
       "      <td>26.024787</td>\n",
       "      <td>-500.279091</td>\n",
       "      <td>23.955345</td>\n",
       "      <td>-500.593614</td>\n",
       "      <td>23.985703</td>\n",
       "      <td>-500.083811</td>\n",
       "      <td>23.958945</td>\n",
       "      <td>-499.990309</td>\n",
       "      <td>14.027298</td>\n",
       "      <td>-499.838632</td>\n",
       "      <td>11.953070</td>\n",
       "      <td>-501.053894</td>\n",
       "      <td>9.925709</td>\n",
       "      <td>-501.686727</td>\n",
       "      <td>7.894242</td>\n",
       "      <td>-500.356035</td>\n",
       "      <td>13.996647</td>\n",
       "      <td>-601.496691</td>\n",
       "    </tr>\n",
       "  </tbody>\n",
       "</table>\n",
       "</div>"
      ],
      "text/plain": [
       "                     final.output.concentrate_ag  final.output.concentrate_pb  \\\n",
       "date                                                                            \n",
       "2016-01-15 00:00:00                     6.055403                     9.889648   \n",
       "2016-01-15 01:00:00                     6.029369                     9.968944   \n",
       "2016-01-15 02:00:00                     6.055926                    10.213995   \n",
       "2016-01-15 03:00:00                     6.047977                     9.977019   \n",
       "2016-01-15 04:00:00                     6.148599                    10.142511   \n",
       "\n",
       "                     final.output.concentrate_sol  \\\n",
       "date                                                \n",
       "2016-01-15 00:00:00                      5.507324   \n",
       "2016-01-15 01:00:00                      5.257781   \n",
       "2016-01-15 02:00:00                      5.383759   \n",
       "2016-01-15 03:00:00                      4.858634   \n",
       "2016-01-15 04:00:00                      4.939416   \n",
       "\n",
       "                     final.output.concentrate_au  final.output.recovery  \\\n",
       "date                                                                      \n",
       "2016-01-15 00:00:00                    42.192020              70.541216   \n",
       "2016-01-15 01:00:00                    42.701629              69.266198   \n",
       "2016-01-15 02:00:00                    42.657501              68.116445   \n",
       "2016-01-15 03:00:00                    42.689819              68.347543   \n",
       "2016-01-15 04:00:00                    42.774141              66.927016   \n",
       "\n",
       "                     final.output.tail_ag  final.output.tail_pb  \\\n",
       "date                                                              \n",
       "2016-01-15 00:00:00             10.411962              0.895447   \n",
       "2016-01-15 01:00:00             10.462676              0.927452   \n",
       "2016-01-15 02:00:00             10.507046              0.953716   \n",
       "2016-01-15 03:00:00             10.422762              0.883763   \n",
       "2016-01-15 04:00:00             10.360302              0.792826   \n",
       "\n",
       "                     final.output.tail_sol  final.output.tail_au  \\\n",
       "date                                                               \n",
       "2016-01-15 00:00:00              16.904297              2.143149   \n",
       "2016-01-15 01:00:00              16.634514              2.224930   \n",
       "2016-01-15 02:00:00              16.208849              2.257889   \n",
       "2016-01-15 03:00:00              16.532835              2.146849   \n",
       "2016-01-15 04:00:00              16.525686              2.055292   \n",
       "\n",
       "                     primary_cleaner.input.sulfate  \\\n",
       "date                                                 \n",
       "2016-01-15 00:00:00                     127.092003   \n",
       "2016-01-15 01:00:00                     125.629232   \n",
       "2016-01-15 02:00:00                     123.819808   \n",
       "2016-01-15 03:00:00                     122.270188   \n",
       "2016-01-15 04:00:00                     117.988169   \n",
       "\n",
       "                     primary_cleaner.input.depressant  \\\n",
       "date                                                    \n",
       "2016-01-15 00:00:00                         10.128295   \n",
       "2016-01-15 01:00:00                         10.296251   \n",
       "2016-01-15 02:00:00                         11.316280   \n",
       "2016-01-15 03:00:00                         11.322140   \n",
       "2016-01-15 04:00:00                         11.913613   \n",
       "\n",
       "                     primary_cleaner.input.feed_size  \\\n",
       "date                                                   \n",
       "2016-01-15 00:00:00                             7.25   \n",
       "2016-01-15 01:00:00                             7.25   \n",
       "2016-01-15 02:00:00                             7.25   \n",
       "2016-01-15 03:00:00                             7.25   \n",
       "2016-01-15 04:00:00                             7.25   \n",
       "\n",
       "                     primary_cleaner.input.xanthate  \\\n",
       "date                                                  \n",
       "2016-01-15 00:00:00                        0.988759   \n",
       "2016-01-15 01:00:00                        1.002663   \n",
       "2016-01-15 02:00:00                        0.991265   \n",
       "2016-01-15 03:00:00                        0.996739   \n",
       "2016-01-15 04:00:00                        1.009869   \n",
       "\n",
       "                     primary_cleaner.output.concentrate_ag  \\\n",
       "date                                                         \n",
       "2016-01-15 00:00:00                               8.547551   \n",
       "2016-01-15 01:00:00                               8.558743   \n",
       "2016-01-15 02:00:00                               8.603505   \n",
       "2016-01-15 03:00:00                               7.221879   \n",
       "2016-01-15 04:00:00                               9.089428   \n",
       "\n",
       "                     primary_cleaner.output.concentrate_pb  \\\n",
       "date                                                         \n",
       "2016-01-15 00:00:00                              10.389648   \n",
       "2016-01-15 01:00:00                              10.497069   \n",
       "2016-01-15 02:00:00                              10.354494   \n",
       "2016-01-15 03:00:00                               8.496563   \n",
       "2016-01-15 04:00:00                               9.986786   \n",
       "\n",
       "                     primary_cleaner.output.concentrate_sol  \\\n",
       "date                                                          \n",
       "2016-01-15 00:00:00                               19.529297   \n",
       "2016-01-15 01:00:00                               19.369147   \n",
       "2016-01-15 02:00:00                               19.167579   \n",
       "2016-01-15 03:00:00                               15.978538   \n",
       "2016-01-15 04:00:00                               19.199864   \n",
       "\n",
       "                     primary_cleaner.output.concentrate_au  \\\n",
       "date                                                         \n",
       "2016-01-15 00:00:00                              34.174427   \n",
       "2016-01-15 01:00:00                              34.118526   \n",
       "2016-01-15 02:00:00                              33.969464   \n",
       "2016-01-15 03:00:00                              28.260743   \n",
       "2016-01-15 04:00:00                              33.044932   \n",
       "\n",
       "                     primary_cleaner.output.tail_ag  \\\n",
       "date                                                  \n",
       "2016-01-15 00:00:00                       14.936526   \n",
       "2016-01-15 01:00:00                       16.250511   \n",
       "2016-01-15 02:00:00                       16.491823   \n",
       "2016-01-15 03:00:00                       16.024359   \n",
       "2016-01-15 04:00:00                       16.480185   \n",
       "\n",
       "                     primary_cleaner.output.tail_pb  \\\n",
       "date                                                  \n",
       "2016-01-15 00:00:00                        2.534912   \n",
       "2016-01-15 01:00:00                        3.049646   \n",
       "2016-01-15 02:00:00                        3.124664   \n",
       "2016-01-15 03:00:00                        2.960362   \n",
       "2016-01-15 04:00:00                        3.112100   \n",
       "\n",
       "                     primary_cleaner.output.tail_sol  \\\n",
       "date                                                   \n",
       "2016-01-15 00:00:00                         7.476074   \n",
       "2016-01-15 01:00:00                         6.733907   \n",
       "2016-01-15 02:00:00                         6.471768   \n",
       "2016-01-15 03:00:00                         6.843791   \n",
       "2016-01-15 04:00:00                         6.550154   \n",
       "\n",
       "                     primary_cleaner.output.tail_au  \\\n",
       "date                                                  \n",
       "2016-01-15 00:00:00                        2.106679   \n",
       "2016-01-15 01:00:00                        2.353017   \n",
       "2016-01-15 02:00:00                        2.416800   \n",
       "2016-01-15 03:00:00                        2.262051   \n",
       "2016-01-15 04:00:00                        2.277073   \n",
       "\n",
       "                     primary_cleaner.state.floatbank8_a_air  \\\n",
       "date                                                          \n",
       "2016-01-15 00:00:00                             1549.775757   \n",
       "2016-01-15 01:00:00                             1576.166671   \n",
       "2016-01-15 02:00:00                             1601.556163   \n",
       "2016-01-15 03:00:00                             1599.968720   \n",
       "2016-01-15 04:00:00                             1601.339707   \n",
       "\n",
       "                     primary_cleaner.state.floatbank8_a_level  \\\n",
       "date                                                            \n",
       "2016-01-15 00:00:00                               -498.912140   \n",
       "2016-01-15 01:00:00                               -500.904965   \n",
       "2016-01-15 02:00:00                               -499.997791   \n",
       "2016-01-15 03:00:00                               -500.951778   \n",
       "2016-01-15 04:00:00                               -498.975456   \n",
       "\n",
       "                     primary_cleaner.state.floatbank8_b_air  \\\n",
       "date                                                          \n",
       "2016-01-15 00:00:00                             1551.434204   \n",
       "2016-01-15 01:00:00                             1575.950626   \n",
       "2016-01-15 02:00:00                             1600.386685   \n",
       "2016-01-15 03:00:00                             1600.659236   \n",
       "2016-01-15 04:00:00                             1601.437854   \n",
       "\n",
       "                     primary_cleaner.state.floatbank8_b_level  \\\n",
       "date                                                            \n",
       "2016-01-15 00:00:00                               -516.403442   \n",
       "2016-01-15 01:00:00                               -499.865889   \n",
       "2016-01-15 02:00:00                               -500.607762   \n",
       "2016-01-15 03:00:00                               -499.677094   \n",
       "2016-01-15 04:00:00                               -500.323246   \n",
       "\n",
       "                     primary_cleaner.state.floatbank8_c_air  \\\n",
       "date                                                          \n",
       "2016-01-15 00:00:00                             1549.873901   \n",
       "2016-01-15 01:00:00                             1575.994189   \n",
       "2016-01-15 02:00:00                             1602.003542   \n",
       "2016-01-15 03:00:00                             1600.304144   \n",
       "2016-01-15 04:00:00                             1599.581894   \n",
       "\n",
       "                     primary_cleaner.state.floatbank8_c_level  \\\n",
       "date                                                            \n",
       "2016-01-15 00:00:00                               -498.666595   \n",
       "2016-01-15 01:00:00                               -499.315107   \n",
       "2016-01-15 02:00:00                               -500.870069   \n",
       "2016-01-15 03:00:00                               -500.727997   \n",
       "2016-01-15 04:00:00                               -500.888152   \n",
       "\n",
       "                     primary_cleaner.state.floatbank8_d_air  \\\n",
       "date                                                          \n",
       "2016-01-15 00:00:00                             1554.367432   \n",
       "2016-01-15 01:00:00                             1574.479259   \n",
       "2016-01-15 02:00:00                             1599.541515   \n",
       "2016-01-15 03:00:00                             1600.449520   \n",
       "2016-01-15 04:00:00                             1602.649541   \n",
       "\n",
       "                     primary_cleaner.state.floatbank8_d_level  \\\n",
       "date                                                            \n",
       "2016-01-15 00:00:00                               -493.428131   \n",
       "2016-01-15 01:00:00                               -498.931665   \n",
       "2016-01-15 02:00:00                               -499.827444   \n",
       "2016-01-15 03:00:00                               -500.052575   \n",
       "2016-01-15 04:00:00                               -500.593010   \n",
       "\n",
       "                     rougher.calculation.sulfate_to_au_concentrate  \\\n",
       "date                                                                 \n",
       "2016-01-15 00:00:00                                   41885.707031   \n",
       "2016-01-15 01:00:00                                   42050.861809   \n",
       "2016-01-15 02:00:00                                   42018.101184   \n",
       "2016-01-15 03:00:00                                   42029.447991   \n",
       "2016-01-15 04:00:00                                   42125.354245   \n",
       "\n",
       "                     rougher.calculation.floatbank10_sulfate_to_au_feed  \\\n",
       "date                                                                      \n",
       "2016-01-15 00:00:00                                        3481.779053    \n",
       "2016-01-15 01:00:00                                        3498.370979    \n",
       "2016-01-15 02:00:00                                        3495.348910    \n",
       "2016-01-15 03:00:00                                        3498.578313    \n",
       "2016-01-15 04:00:00                                        3494.800771    \n",
       "\n",
       "                     rougher.calculation.floatbank11_sulfate_to_au_feed  \\\n",
       "date                                                                      \n",
       "2016-01-15 00:00:00                                        3520.337158    \n",
       "2016-01-15 01:00:00                                        3489.981857    \n",
       "2016-01-15 02:00:00                                        3502.359819    \n",
       "2016-01-15 03:00:00                                        3499.162912    \n",
       "2016-01-15 04:00:00                                        3506.679315    \n",
       "\n",
       "                     rougher.calculation.au_pb_ratio  rougher.input.feed_ag  \\\n",
       "date                                                                          \n",
       "2016-01-15 00:00:00                         2.838687               6.100378   \n",
       "2016-01-15 01:00:00                         2.858998               6.161113   \n",
       "2016-01-15 02:00:00                         2.945989               6.116455   \n",
       "2016-01-15 03:00:00                         3.002340               6.043309   \n",
       "2016-01-15 04:00:00                         3.169615               6.060915   \n",
       "\n",
       "                     rougher.input.feed_pb  rougher.input.feed_rate  \\\n",
       "date                                                                  \n",
       "2016-01-15 00:00:00               2.284912               523.546326   \n",
       "2016-01-15 01:00:00               2.266033               525.290581   \n",
       "2016-01-15 02:00:00               2.159622               530.026610   \n",
       "2016-01-15 03:00:00               2.037807               542.590390   \n",
       "2016-01-15 04:00:00               1.786875               540.531893   \n",
       "\n",
       "                     rougher.input.feed_size  rougher.input.feed_sol  \\\n",
       "date                                                                   \n",
       "2016-01-15 00:00:00                55.486599               36.808594   \n",
       "2016-01-15 01:00:00                57.278666               35.753385   \n",
       "2016-01-15 02:00:00                57.510649               35.971630   \n",
       "2016-01-15 03:00:00                57.792734               36.862241   \n",
       "2016-01-15 04:00:00                56.047189               34.347666   \n",
       "\n",
       "                     rougher.input.feed_au  rougher.input.floatbank10_sulfate  \\\n",
       "date                                                                            \n",
       "2016-01-15 00:00:00               6.486150                          11.986616   \n",
       "2016-01-15 01:00:00               6.478583                          11.971193   \n",
       "2016-01-15 02:00:00               6.362222                          11.920603   \n",
       "2016-01-15 03:00:00               6.118189                          11.630094   \n",
       "2016-01-15 04:00:00               5.663707                          10.957755   \n",
       "\n",
       "                     rougher.input.floatbank10_xanthate  \\\n",
       "date                                                      \n",
       "2016-01-15 00:00:00                            6.007990   \n",
       "2016-01-15 01:00:00                            6.005766   \n",
       "2016-01-15 02:00:00                            6.197377   \n",
       "2016-01-15 03:00:00                            6.203177   \n",
       "2016-01-15 04:00:00                            6.198826   \n",
       "\n",
       "                     rougher.input.floatbank11_sulfate  \\\n",
       "date                                                     \n",
       "2016-01-15 00:00:00                          11.836743   \n",
       "2016-01-15 01:00:00                          11.996163   \n",
       "2016-01-15 02:00:00                          11.920305   \n",
       "2016-01-15 03:00:00                          11.692450   \n",
       "2016-01-15 04:00:00                          10.960521   \n",
       "\n",
       "                     rougher.input.floatbank11_xanthate  \\\n",
       "date                                                      \n",
       "2016-01-15 00:00:00                            6.005818   \n",
       "2016-01-15 01:00:00                            6.012594   \n",
       "2016-01-15 02:00:00                            6.204633   \n",
       "2016-01-15 03:00:00                            6.196578   \n",
       "2016-01-15 04:00:00                            6.194897   \n",
       "\n",
       "                     rougher.output.concentrate_ag  \\\n",
       "date                                                 \n",
       "2016-01-15 00:00:00                      11.500771   \n",
       "2016-01-15 01:00:00                      11.615865   \n",
       "2016-01-15 02:00:00                      11.695753   \n",
       "2016-01-15 03:00:00                      11.915047   \n",
       "2016-01-15 04:00:00                      12.411054   \n",
       "\n",
       "                     rougher.output.concentrate_pb  \\\n",
       "date                                                 \n",
       "2016-01-15 00:00:00                       7.101074   \n",
       "2016-01-15 01:00:00                       7.278807   \n",
       "2016-01-15 02:00:00                       7.216833   \n",
       "2016-01-15 03:00:00                       7.175616   \n",
       "2016-01-15 04:00:00                       7.240205   \n",
       "\n",
       "                     rougher.output.concentrate_sol  \\\n",
       "date                                                  \n",
       "2016-01-15 00:00:00                       28.029297   \n",
       "2016-01-15 01:00:00                       28.067063   \n",
       "2016-01-15 02:00:00                       27.454037   \n",
       "2016-01-15 03:00:00                       27.341277   \n",
       "2016-01-15 04:00:00                       27.041023   \n",
       "\n",
       "                     rougher.output.concentrate_au  rougher.output.recovery  \\\n",
       "date                                                                          \n",
       "2016-01-15 00:00:00                      19.793808                87.107763   \n",
       "2016-01-15 01:00:00                      20.050975                86.843261   \n",
       "2016-01-15 02:00:00                      19.737170                86.842308   \n",
       "2016-01-15 03:00:00                      19.320810                87.226430   \n",
       "2016-01-15 04:00:00                      19.216101                86.688794   \n",
       "\n",
       "                     rougher.output.tail_ag  rougher.output.tail_pb  \\\n",
       "date                                                                  \n",
       "2016-01-15 00:00:00                5.008018                0.508728   \n",
       "2016-01-15 01:00:00                4.955378                0.536689   \n",
       "2016-01-15 02:00:00                4.843460                0.546416   \n",
       "2016-01-15 03:00:00                4.655288                0.542525   \n",
       "2016-01-15 04:00:00                4.552800                0.515438   \n",
       "\n",
       "                     rougher.output.tail_sol  rougher.output.tail_au  \\\n",
       "date                                                                   \n",
       "2016-01-15 00:00:00                19.154297                1.170244   \n",
       "2016-01-15 01:00:00                18.965234                1.184827   \n",
       "2016-01-15 02:00:00                18.808533                1.162562   \n",
       "2016-01-15 03:00:00                19.330200                1.079755   \n",
       "2016-01-15 04:00:00                19.267422                1.012642   \n",
       "\n",
       "                     rougher.state.floatbank10_a_air  \\\n",
       "date                                                   \n",
       "2016-01-15 00:00:00                       999.706909   \n",
       "2016-01-15 01:00:00                      1000.286398   \n",
       "2016-01-15 02:00:00                       999.719565   \n",
       "2016-01-15 03:00:00                       999.814770   \n",
       "2016-01-15 04:00:00                       999.678690   \n",
       "\n",
       "                     rougher.state.floatbank10_a_level  \\\n",
       "date                                                     \n",
       "2016-01-15 00:00:00                        -404.066986   \n",
       "2016-01-15 01:00:00                        -400.065196   \n",
       "2016-01-15 02:00:00                        -400.074028   \n",
       "2016-01-15 03:00:00                        -400.200179   \n",
       "2016-01-15 04:00:00                        -399.752729   \n",
       "\n",
       "                     rougher.state.floatbank10_b_air  \\\n",
       "date                                                   \n",
       "2016-01-15 00:00:00                      1603.011353   \n",
       "2016-01-15 01:00:00                      1600.754587   \n",
       "2016-01-15 02:00:00                      1599.337330   \n",
       "2016-01-15 03:00:00                      1600.059442   \n",
       "2016-01-15 04:00:00                      1600.208824   \n",
       "\n",
       "                     rougher.state.floatbank10_b_level  \\\n",
       "date                                                     \n",
       "2016-01-15 00:00:00                        -434.715027   \n",
       "2016-01-15 01:00:00                        -449.953435   \n",
       "2016-01-15 02:00:00                        -450.008530   \n",
       "2016-01-15 03:00:00                        -450.619948   \n",
       "2016-01-15 04:00:00                        -449.599614   \n",
       "\n",
       "                     rougher.state.floatbank10_c_air  \\\n",
       "date                                                   \n",
       "2016-01-15 00:00:00                      1602.375000   \n",
       "2016-01-15 01:00:00                      1600.479580   \n",
       "2016-01-15 02:00:00                      1599.672797   \n",
       "2016-01-15 03:00:00                      1600.012842   \n",
       "2016-01-15 04:00:00                      1600.357732   \n",
       "\n",
       "                     rougher.state.floatbank10_c_level  \\\n",
       "date                                                     \n",
       "2016-01-15 00:00:00                        -442.204468   \n",
       "2016-01-15 01:00:00                        -449.830646   \n",
       "2016-01-15 02:00:00                        -449.954491   \n",
       "2016-01-15 03:00:00                        -449.910497   \n",
       "2016-01-15 04:00:00                        -450.034364   \n",
       "\n",
       "                     rougher.state.floatbank10_d_air  \\\n",
       "date                                                   \n",
       "2016-01-15 00:00:00                      1598.937256   \n",
       "2016-01-15 01:00:00                      1600.527589   \n",
       "2016-01-15 02:00:00                      1599.849325   \n",
       "2016-01-15 03:00:00                      1597.725177   \n",
       "2016-01-15 04:00:00                      1599.759049   \n",
       "\n",
       "                     rougher.state.floatbank10_d_level  \\\n",
       "date                                                     \n",
       "2016-01-15 00:00:00                        -451.294128   \n",
       "2016-01-15 01:00:00                        -449.953649   \n",
       "2016-01-15 02:00:00                        -449.954185   \n",
       "2016-01-15 03:00:00                        -450.130127   \n",
       "2016-01-15 04:00:00                        -449.909799   \n",
       "\n",
       "                     rougher.state.floatbank10_e_air  \\\n",
       "date                                                   \n",
       "2016-01-15 00:00:00                      1404.472046   \n",
       "2016-01-15 01:00:00                      1399.227084   \n",
       "2016-01-15 02:00:00                      1399.180945   \n",
       "2016-01-15 03:00:00                      1400.943157   \n",
       "2016-01-15 04:00:00                      1401.560902   \n",
       "\n",
       "                     rougher.state.floatbank10_e_level  \\\n",
       "date                                                     \n",
       "2016-01-15 00:00:00                        -455.462982   \n",
       "2016-01-15 01:00:00                        -450.869848   \n",
       "2016-01-15 02:00:00                        -449.937588   \n",
       "2016-01-15 03:00:00                        -450.030142   \n",
       "2016-01-15 04:00:00                        -448.877187   \n",
       "\n",
       "                     rougher.state.floatbank10_f_air  \\\n",
       "date                                                   \n",
       "2016-01-15 00:00:00                      1416.354980   \n",
       "2016-01-15 01:00:00                      1399.719514   \n",
       "2016-01-15 02:00:00                      1400.316682   \n",
       "2016-01-15 03:00:00                      1400.234743   \n",
       "2016-01-15 04:00:00                      1401.160227   \n",
       "\n",
       "                     rougher.state.floatbank10_f_level  \\\n",
       "date                                                     \n",
       "2016-01-15 00:00:00                        -451.939636   \n",
       "2016-01-15 01:00:00                        -450.119001   \n",
       "2016-01-15 02:00:00                        -450.527147   \n",
       "2016-01-15 03:00:00                        -449.790835   \n",
       "2016-01-15 04:00:00                        -450.407128   \n",
       "\n",
       "                     secondary_cleaner.output.tail_ag  \\\n",
       "date                                                    \n",
       "2016-01-15 00:00:00                         14.500184   \n",
       "2016-01-15 01:00:00                         14.265474   \n",
       "2016-01-15 02:00:00                         14.115662   \n",
       "2016-01-15 03:00:00                         13.732071   \n",
       "2016-01-15 04:00:00                         14.079996   \n",
       "\n",
       "                     secondary_cleaner.output.tail_pb  \\\n",
       "date                                                    \n",
       "2016-01-15 00:00:00                          4.694824   \n",
       "2016-01-15 01:00:00                          4.592547   \n",
       "2016-01-15 02:00:00                          4.624775   \n",
       "2016-01-15 03:00:00                          4.482453   \n",
       "2016-01-15 04:00:00                          4.470737   \n",
       "\n",
       "                     secondary_cleaner.output.tail_sol  \\\n",
       "date                                                     \n",
       "2016-01-15 00:00:00                           8.764648   \n",
       "2016-01-15 01:00:00                           9.001494   \n",
       "2016-01-15 02:00:00                           8.842896   \n",
       "2016-01-15 03:00:00                           9.122857   \n",
       "2016-01-15 04:00:00                           8.871028   \n",
       "\n",
       "                     secondary_cleaner.output.tail_au  \\\n",
       "date                                                    \n",
       "2016-01-15 00:00:00                          2.606185   \n",
       "2016-01-15 01:00:00                          2.488248   \n",
       "2016-01-15 02:00:00                          2.458187   \n",
       "2016-01-15 03:00:00                          2.322062   \n",
       "2016-01-15 04:00:00                          2.330448   \n",
       "\n",
       "                     secondary_cleaner.state.floatbank2_a_air  \\\n",
       "date                                                            \n",
       "2016-01-15 00:00:00                                 25.853109   \n",
       "2016-01-15 01:00:00                                 25.880539   \n",
       "2016-01-15 02:00:00                                 26.005245   \n",
       "2016-01-15 03:00:00                                 25.942508   \n",
       "2016-01-15 04:00:00                                 26.024787   \n",
       "\n",
       "                     secondary_cleaner.state.floatbank2_a_level  \\\n",
       "date                                                              \n",
       "2016-01-15 00:00:00                                 -498.526489   \n",
       "2016-01-15 01:00:00                                 -499.989656   \n",
       "2016-01-15 02:00:00                                 -499.929616   \n",
       "2016-01-15 03:00:00                                 -499.176749   \n",
       "2016-01-15 04:00:00                                 -500.279091   \n",
       "\n",
       "                     secondary_cleaner.state.floatbank2_b_air  \\\n",
       "date                                                            \n",
       "2016-01-15 00:00:00                                 23.893660   \n",
       "2016-01-15 01:00:00                                 23.889530   \n",
       "2016-01-15 02:00:00                                 23.886657   \n",
       "2016-01-15 03:00:00                                 23.955516   \n",
       "2016-01-15 04:00:00                                 23.955345   \n",
       "\n",
       "                     secondary_cleaner.state.floatbank2_b_level  \\\n",
       "date                                                              \n",
       "2016-01-15 00:00:00                                 -501.406281   \n",
       "2016-01-15 01:00:00                                 -500.372428   \n",
       "2016-01-15 02:00:00                                 -499.951928   \n",
       "2016-01-15 03:00:00                                 -499.848796   \n",
       "2016-01-15 04:00:00                                 -500.593614   \n",
       "\n",
       "                     secondary_cleaner.state.floatbank3_a_air  \\\n",
       "date                                                            \n",
       "2016-01-15 00:00:00                                 23.961798   \n",
       "2016-01-15 01:00:00                                 23.970550   \n",
       "2016-01-15 02:00:00                                 23.913535   \n",
       "2016-01-15 03:00:00                                 23.966838   \n",
       "2016-01-15 04:00:00                                 23.985703   \n",
       "\n",
       "                     secondary_cleaner.state.floatbank3_a_level  \\\n",
       "date                                                              \n",
       "2016-01-15 00:00:00                                 -495.262817   \n",
       "2016-01-15 01:00:00                                 -500.085473   \n",
       "2016-01-15 02:00:00                                 -499.442343   \n",
       "2016-01-15 03:00:00                                 -500.008812   \n",
       "2016-01-15 04:00:00                                 -500.083811   \n",
       "\n",
       "                     secondary_cleaner.state.floatbank3_b_air  \\\n",
       "date                                                            \n",
       "2016-01-15 00:00:00                                 21.940409   \n",
       "2016-01-15 01:00:00                                 22.085714   \n",
       "2016-01-15 02:00:00                                 23.957717   \n",
       "2016-01-15 03:00:00                                 23.954443   \n",
       "2016-01-15 04:00:00                                 23.958945   \n",
       "\n",
       "                     secondary_cleaner.state.floatbank3_b_level  \\\n",
       "date                                                              \n",
       "2016-01-15 00:00:00                                 -499.340973   \n",
       "2016-01-15 01:00:00                                 -499.446897   \n",
       "2016-01-15 02:00:00                                 -499.901982   \n",
       "2016-01-15 03:00:00                                 -499.944710   \n",
       "2016-01-15 04:00:00                                 -499.990309   \n",
       "\n",
       "                     secondary_cleaner.state.floatbank4_a_air  \\\n",
       "date                                                            \n",
       "2016-01-15 00:00:00                                 14.016835   \n",
       "2016-01-15 01:00:00                                 13.992281   \n",
       "2016-01-15 02:00:00                                 14.015015   \n",
       "2016-01-15 03:00:00                                 14.036510   \n",
       "2016-01-15 04:00:00                                 14.027298   \n",
       "\n",
       "                     secondary_cleaner.state.floatbank4_a_level  \\\n",
       "date                                                              \n",
       "2016-01-15 00:00:00                                 -502.488007   \n",
       "2016-01-15 01:00:00                                 -505.503262   \n",
       "2016-01-15 02:00:00                                 -502.520901   \n",
       "2016-01-15 03:00:00                                 -500.857308   \n",
       "2016-01-15 04:00:00                                 -499.838632   \n",
       "\n",
       "                     secondary_cleaner.state.floatbank4_b_air  \\\n",
       "date                                                            \n",
       "2016-01-15 00:00:00                                 12.099931   \n",
       "2016-01-15 01:00:00                                 11.950531   \n",
       "2016-01-15 02:00:00                                 11.912783   \n",
       "2016-01-15 03:00:00                                 11.999550   \n",
       "2016-01-15 04:00:00                                 11.953070   \n",
       "\n",
       "                     secondary_cleaner.state.floatbank4_b_level  \\\n",
       "date                                                              \n",
       "2016-01-15 00:00:00                                 -504.715942   \n",
       "2016-01-15 01:00:00                                 -501.331529   \n",
       "2016-01-15 02:00:00                                 -501.133383   \n",
       "2016-01-15 03:00:00                                 -501.193686   \n",
       "2016-01-15 04:00:00                                 -501.053894   \n",
       "\n",
       "                     secondary_cleaner.state.floatbank5_a_air  \\\n",
       "date                                                            \n",
       "2016-01-15 00:00:00                                  9.925633   \n",
       "2016-01-15 01:00:00                                 10.039245   \n",
       "2016-01-15 02:00:00                                 10.070913   \n",
       "2016-01-15 03:00:00                                  9.970366   \n",
       "2016-01-15 04:00:00                                  9.925709   \n",
       "\n",
       "                     secondary_cleaner.state.floatbank5_a_level  \\\n",
       "date                                                              \n",
       "2016-01-15 00:00:00                                 -498.310211   \n",
       "2016-01-15 01:00:00                                 -500.169983   \n",
       "2016-01-15 02:00:00                                 -500.129135   \n",
       "2016-01-15 03:00:00                                 -499.201640   \n",
       "2016-01-15 04:00:00                                 -501.686727   \n",
       "\n",
       "                     secondary_cleaner.state.floatbank5_b_air  \\\n",
       "date                                                            \n",
       "2016-01-15 00:00:00                                  8.079666   \n",
       "2016-01-15 01:00:00                                  7.984757   \n",
       "2016-01-15 02:00:00                                  8.013877   \n",
       "2016-01-15 03:00:00                                  7.977324   \n",
       "2016-01-15 04:00:00                                  7.894242   \n",
       "\n",
       "                     secondary_cleaner.state.floatbank5_b_level  \\\n",
       "date                                                              \n",
       "2016-01-15 00:00:00                                 -500.470978   \n",
       "2016-01-15 01:00:00                                 -500.582168   \n",
       "2016-01-15 02:00:00                                 -500.517572   \n",
       "2016-01-15 03:00:00                                 -500.255908   \n",
       "2016-01-15 04:00:00                                 -500.356035   \n",
       "\n",
       "                     secondary_cleaner.state.floatbank6_a_air  \\\n",
       "date                                                            \n",
       "2016-01-15 00:00:00                                 14.151341   \n",
       "2016-01-15 01:00:00                                 13.998353   \n",
       "2016-01-15 02:00:00                                 14.028663   \n",
       "2016-01-15 03:00:00                                 14.005551   \n",
       "2016-01-15 04:00:00                                 13.996647   \n",
       "\n",
       "                     secondary_cleaner.state.floatbank6_a_level  \n",
       "date                                                             \n",
       "2016-01-15 00:00:00                                 -605.841980  \n",
       "2016-01-15 01:00:00                                 -599.787184  \n",
       "2016-01-15 02:00:00                                 -601.427363  \n",
       "2016-01-15 03:00:00                                 -599.996129  \n",
       "2016-01-15 04:00:00                                 -601.496691  "
      ]
     },
     "metadata": {},
     "output_type": "display_data"
    },
    {
     "name": "stdout",
     "output_type": "stream",
     "text": [
      "<class 'pandas.core.frame.DataFrame'>\n",
      "Index: 14149 entries, 2016-01-15 00:00:00 to 2018-08-18 10:59:59\n",
      "Data columns (total 86 columns):\n",
      " #   Column                                              Non-Null Count  Dtype  \n",
      "---  ------                                              --------------  -----  \n",
      " 0   final.output.concentrate_ag                         14148 non-null  float64\n",
      " 1   final.output.concentrate_pb                         14148 non-null  float64\n",
      " 2   final.output.concentrate_sol                        13938 non-null  float64\n",
      " 3   final.output.concentrate_au                         14149 non-null  float64\n",
      " 4   final.output.recovery                               14149 non-null  float64\n",
      " 5   final.output.tail_ag                                14149 non-null  float64\n",
      " 6   final.output.tail_pb                                14049 non-null  float64\n",
      " 7   final.output.tail_sol                               14144 non-null  float64\n",
      " 8   final.output.tail_au                                14149 non-null  float64\n",
      " 9   primary_cleaner.input.sulfate                       14129 non-null  float64\n",
      " 10  primary_cleaner.input.depressant                    14117 non-null  float64\n",
      " 11  primary_cleaner.input.feed_size                     14149 non-null  float64\n",
      " 12  primary_cleaner.input.xanthate                      14049 non-null  float64\n",
      " 13  primary_cleaner.output.concentrate_ag               14149 non-null  float64\n",
      " 14  primary_cleaner.output.concentrate_pb               14063 non-null  float64\n",
      " 15  primary_cleaner.output.concentrate_sol              13863 non-null  float64\n",
      " 16  primary_cleaner.output.concentrate_au               14149 non-null  float64\n",
      " 17  primary_cleaner.output.tail_ag                      14148 non-null  float64\n",
      " 18  primary_cleaner.output.tail_pb                      14134 non-null  float64\n",
      " 19  primary_cleaner.output.tail_sol                     14103 non-null  float64\n",
      " 20  primary_cleaner.output.tail_au                      14149 non-null  float64\n",
      " 21  primary_cleaner.state.floatbank8_a_air              14145 non-null  float64\n",
      " 22  primary_cleaner.state.floatbank8_a_level            14148 non-null  float64\n",
      " 23  primary_cleaner.state.floatbank8_b_air              14145 non-null  float64\n",
      " 24  primary_cleaner.state.floatbank8_b_level            14148 non-null  float64\n",
      " 25  primary_cleaner.state.floatbank8_c_air              14147 non-null  float64\n",
      " 26  primary_cleaner.state.floatbank8_c_level            14148 non-null  float64\n",
      " 27  primary_cleaner.state.floatbank8_d_air              14146 non-null  float64\n",
      " 28  primary_cleaner.state.floatbank8_d_level            14148 non-null  float64\n",
      " 29  rougher.calculation.sulfate_to_au_concentrate       14148 non-null  float64\n",
      " 30  rougher.calculation.floatbank10_sulfate_to_au_feed  14148 non-null  float64\n",
      " 31  rougher.calculation.floatbank11_sulfate_to_au_feed  14148 non-null  float64\n",
      " 32  rougher.calculation.au_pb_ratio                     14149 non-null  float64\n",
      " 33  rougher.input.feed_ag                               14149 non-null  float64\n",
      " 34  rougher.input.feed_pb                               14049 non-null  float64\n",
      " 35  rougher.input.feed_rate                             14141 non-null  float64\n",
      " 36  rougher.input.feed_size                             14005 non-null  float64\n",
      " 37  rougher.input.feed_sol                              14071 non-null  float64\n",
      " 38  rougher.input.feed_au                               14149 non-null  float64\n",
      " 39  rougher.input.floatbank10_sulfate                   14120 non-null  float64\n",
      " 40  rougher.input.floatbank10_xanthate                  14141 non-null  float64\n",
      " 41  rougher.input.floatbank11_sulfate                   14113 non-null  float64\n",
      " 42  rougher.input.floatbank11_xanthate                  13721 non-null  float64\n",
      " 43  rougher.output.concentrate_ag                       14149 non-null  float64\n",
      " 44  rougher.output.concentrate_pb                       14149 non-null  float64\n",
      " 45  rougher.output.concentrate_sol                      14127 non-null  float64\n",
      " 46  rougher.output.concentrate_au                       14149 non-null  float64\n",
      " 47  rougher.output.recovery                             14149 non-null  float64\n",
      " 48  rougher.output.tail_ag                              14148 non-null  float64\n",
      " 49  rougher.output.tail_pb                              14149 non-null  float64\n",
      " 50  rougher.output.tail_sol                             14149 non-null  float64\n",
      " 51  rougher.output.tail_au                              14149 non-null  float64\n",
      " 52  rougher.state.floatbank10_a_air                     14148 non-null  float64\n",
      " 53  rougher.state.floatbank10_a_level                   14148 non-null  float64\n",
      " 54  rougher.state.floatbank10_b_air                     14148 non-null  float64\n",
      " 55  rougher.state.floatbank10_b_level                   14148 non-null  float64\n",
      " 56  rougher.state.floatbank10_c_air                     14148 non-null  float64\n",
      " 57  rougher.state.floatbank10_c_level                   14148 non-null  float64\n",
      " 58  rougher.state.floatbank10_d_air                     14149 non-null  float64\n",
      " 59  rougher.state.floatbank10_d_level                   14149 non-null  float64\n",
      " 60  rougher.state.floatbank10_e_air                     13713 non-null  float64\n",
      " 61  rougher.state.floatbank10_e_level                   14149 non-null  float64\n",
      " 62  rougher.state.floatbank10_f_air                     14149 non-null  float64\n",
      " 63  rougher.state.floatbank10_f_level                   14149 non-null  float64\n",
      " 64  secondary_cleaner.output.tail_ag                    14147 non-null  float64\n",
      " 65  secondary_cleaner.output.tail_pb                    14139 non-null  float64\n",
      " 66  secondary_cleaner.output.tail_sol                   12544 non-null  float64\n",
      " 67  secondary_cleaner.output.tail_au                    14149 non-null  float64\n",
      " 68  secondary_cleaner.state.floatbank2_a_air            13932 non-null  float64\n",
      " 69  secondary_cleaner.state.floatbank2_a_level          14148 non-null  float64\n",
      " 70  secondary_cleaner.state.floatbank2_b_air            14128 non-null  float64\n",
      " 71  secondary_cleaner.state.floatbank2_b_level          14148 non-null  float64\n",
      " 72  secondary_cleaner.state.floatbank3_a_air            14145 non-null  float64\n",
      " 73  secondary_cleaner.state.floatbank3_a_level          14148 non-null  float64\n",
      " 74  secondary_cleaner.state.floatbank3_b_air            14148 non-null  float64\n",
      " 75  secondary_cleaner.state.floatbank3_b_level          14148 non-null  float64\n",
      " 76  secondary_cleaner.state.floatbank4_a_air            14143 non-null  float64\n",
      " 77  secondary_cleaner.state.floatbank4_a_level          14148 non-null  float64\n",
      " 78  secondary_cleaner.state.floatbank4_b_air            14148 non-null  float64\n",
      " 79  secondary_cleaner.state.floatbank4_b_level          14148 non-null  float64\n",
      " 80  secondary_cleaner.state.floatbank5_a_air            14148 non-null  float64\n",
      " 81  secondary_cleaner.state.floatbank5_a_level          14148 non-null  float64\n",
      " 82  secondary_cleaner.state.floatbank5_b_air            14148 non-null  float64\n",
      " 83  secondary_cleaner.state.floatbank5_b_level          14148 non-null  float64\n",
      " 84  secondary_cleaner.state.floatbank6_a_air            14147 non-null  float64\n",
      " 85  secondary_cleaner.state.floatbank6_a_level          14148 non-null  float64\n",
      "dtypes: float64(86)\n",
      "memory usage: 9.4+ MB\n"
     ]
    },
    {
     "data": {
      "text/html": [
       "<div>\n",
       "<style scoped>\n",
       "    .dataframe tbody tr th:only-of-type {\n",
       "        vertical-align: middle;\n",
       "    }\n",
       "\n",
       "    .dataframe tbody tr th {\n",
       "        vertical-align: top;\n",
       "    }\n",
       "\n",
       "    .dataframe thead th {\n",
       "        text-align: right;\n",
       "    }\n",
       "</style>\n",
       "<table border=\"1\" class=\"dataframe\">\n",
       "  <thead>\n",
       "    <tr style=\"text-align: right;\">\n",
       "      <th></th>\n",
       "      <th>final.output.concentrate_ag</th>\n",
       "      <th>final.output.concentrate_pb</th>\n",
       "      <th>final.output.concentrate_sol</th>\n",
       "      <th>final.output.concentrate_au</th>\n",
       "      <th>final.output.recovery</th>\n",
       "      <th>final.output.tail_ag</th>\n",
       "      <th>final.output.tail_pb</th>\n",
       "      <th>final.output.tail_sol</th>\n",
       "      <th>final.output.tail_au</th>\n",
       "      <th>primary_cleaner.input.sulfate</th>\n",
       "      <th>primary_cleaner.input.depressant</th>\n",
       "      <th>primary_cleaner.input.feed_size</th>\n",
       "      <th>primary_cleaner.input.xanthate</th>\n",
       "      <th>primary_cleaner.output.concentrate_ag</th>\n",
       "      <th>primary_cleaner.output.concentrate_pb</th>\n",
       "      <th>primary_cleaner.output.concentrate_sol</th>\n",
       "      <th>primary_cleaner.output.concentrate_au</th>\n",
       "      <th>primary_cleaner.output.tail_ag</th>\n",
       "      <th>primary_cleaner.output.tail_pb</th>\n",
       "      <th>primary_cleaner.output.tail_sol</th>\n",
       "      <th>primary_cleaner.output.tail_au</th>\n",
       "      <th>primary_cleaner.state.floatbank8_a_air</th>\n",
       "      <th>primary_cleaner.state.floatbank8_a_level</th>\n",
       "      <th>primary_cleaner.state.floatbank8_b_air</th>\n",
       "      <th>primary_cleaner.state.floatbank8_b_level</th>\n",
       "      <th>primary_cleaner.state.floatbank8_c_air</th>\n",
       "      <th>primary_cleaner.state.floatbank8_c_level</th>\n",
       "      <th>primary_cleaner.state.floatbank8_d_air</th>\n",
       "      <th>primary_cleaner.state.floatbank8_d_level</th>\n",
       "      <th>rougher.calculation.sulfate_to_au_concentrate</th>\n",
       "      <th>rougher.calculation.floatbank10_sulfate_to_au_feed</th>\n",
       "      <th>rougher.calculation.floatbank11_sulfate_to_au_feed</th>\n",
       "      <th>rougher.calculation.au_pb_ratio</th>\n",
       "      <th>rougher.input.feed_ag</th>\n",
       "      <th>rougher.input.feed_pb</th>\n",
       "      <th>rougher.input.feed_rate</th>\n",
       "      <th>rougher.input.feed_size</th>\n",
       "      <th>rougher.input.feed_sol</th>\n",
       "      <th>rougher.input.feed_au</th>\n",
       "      <th>rougher.input.floatbank10_sulfate</th>\n",
       "      <th>rougher.input.floatbank10_xanthate</th>\n",
       "      <th>rougher.input.floatbank11_sulfate</th>\n",
       "      <th>rougher.input.floatbank11_xanthate</th>\n",
       "      <th>rougher.output.concentrate_ag</th>\n",
       "      <th>rougher.output.concentrate_pb</th>\n",
       "      <th>rougher.output.concentrate_sol</th>\n",
       "      <th>rougher.output.concentrate_au</th>\n",
       "      <th>rougher.output.recovery</th>\n",
       "      <th>rougher.output.tail_ag</th>\n",
       "      <th>rougher.output.tail_pb</th>\n",
       "      <th>rougher.output.tail_sol</th>\n",
       "      <th>rougher.output.tail_au</th>\n",
       "      <th>rougher.state.floatbank10_a_air</th>\n",
       "      <th>rougher.state.floatbank10_a_level</th>\n",
       "      <th>rougher.state.floatbank10_b_air</th>\n",
       "      <th>rougher.state.floatbank10_b_level</th>\n",
       "      <th>rougher.state.floatbank10_c_air</th>\n",
       "      <th>rougher.state.floatbank10_c_level</th>\n",
       "      <th>rougher.state.floatbank10_d_air</th>\n",
       "      <th>rougher.state.floatbank10_d_level</th>\n",
       "      <th>rougher.state.floatbank10_e_air</th>\n",
       "      <th>rougher.state.floatbank10_e_level</th>\n",
       "      <th>rougher.state.floatbank10_f_air</th>\n",
       "      <th>rougher.state.floatbank10_f_level</th>\n",
       "      <th>secondary_cleaner.output.tail_ag</th>\n",
       "      <th>secondary_cleaner.output.tail_pb</th>\n",
       "      <th>secondary_cleaner.output.tail_sol</th>\n",
       "      <th>secondary_cleaner.output.tail_au</th>\n",
       "      <th>secondary_cleaner.state.floatbank2_a_air</th>\n",
       "      <th>secondary_cleaner.state.floatbank2_a_level</th>\n",
       "      <th>secondary_cleaner.state.floatbank2_b_air</th>\n",
       "      <th>secondary_cleaner.state.floatbank2_b_level</th>\n",
       "      <th>secondary_cleaner.state.floatbank3_a_air</th>\n",
       "      <th>secondary_cleaner.state.floatbank3_a_level</th>\n",
       "      <th>secondary_cleaner.state.floatbank3_b_air</th>\n",
       "      <th>secondary_cleaner.state.floatbank3_b_level</th>\n",
       "      <th>secondary_cleaner.state.floatbank4_a_air</th>\n",
       "      <th>secondary_cleaner.state.floatbank4_a_level</th>\n",
       "      <th>secondary_cleaner.state.floatbank4_b_air</th>\n",
       "      <th>secondary_cleaner.state.floatbank4_b_level</th>\n",
       "      <th>secondary_cleaner.state.floatbank5_a_air</th>\n",
       "      <th>secondary_cleaner.state.floatbank5_a_level</th>\n",
       "      <th>secondary_cleaner.state.floatbank5_b_air</th>\n",
       "      <th>secondary_cleaner.state.floatbank5_b_level</th>\n",
       "      <th>secondary_cleaner.state.floatbank6_a_air</th>\n",
       "      <th>secondary_cleaner.state.floatbank6_a_level</th>\n",
       "    </tr>\n",
       "  </thead>\n",
       "  <tbody>\n",
       "    <tr>\n",
       "      <th>count</th>\n",
       "      <td>14148.000000</td>\n",
       "      <td>14148.000000</td>\n",
       "      <td>13938.000000</td>\n",
       "      <td>14149.000000</td>\n",
       "      <td>14149.000000</td>\n",
       "      <td>14149.000000</td>\n",
       "      <td>14049.000000</td>\n",
       "      <td>14144.000000</td>\n",
       "      <td>14149.000000</td>\n",
       "      <td>14129.000000</td>\n",
       "      <td>14117.000000</td>\n",
       "      <td>14149.000000</td>\n",
       "      <td>14049.000000</td>\n",
       "      <td>14149.000000</td>\n",
       "      <td>14063.000000</td>\n",
       "      <td>13863.000000</td>\n",
       "      <td>14149.000000</td>\n",
       "      <td>14148.000000</td>\n",
       "      <td>14134.000000</td>\n",
       "      <td>14103.000000</td>\n",
       "      <td>14149.000000</td>\n",
       "      <td>14145.000000</td>\n",
       "      <td>14148.000000</td>\n",
       "      <td>14145.000000</td>\n",
       "      <td>14148.000000</td>\n",
       "      <td>14147.000000</td>\n",
       "      <td>14148.000000</td>\n",
       "      <td>14146.000000</td>\n",
       "      <td>14148.000000</td>\n",
       "      <td>1.414800e+04</td>\n",
       "      <td>14148.000000</td>\n",
       "      <td>14148.000000</td>\n",
       "      <td>14149.000000</td>\n",
       "      <td>14149.000000</td>\n",
       "      <td>14049.000000</td>\n",
       "      <td>14141.000000</td>\n",
       "      <td>14005.000000</td>\n",
       "      <td>14071.000000</td>\n",
       "      <td>14149.000000</td>\n",
       "      <td>14120.000000</td>\n",
       "      <td>14141.000000</td>\n",
       "      <td>14113.000000</td>\n",
       "      <td>13721.000000</td>\n",
       "      <td>14149.000000</td>\n",
       "      <td>14149.000000</td>\n",
       "      <td>14127.000000</td>\n",
       "      <td>14149.000000</td>\n",
       "      <td>14149.000000</td>\n",
       "      <td>14148.000000</td>\n",
       "      <td>14149.000000</td>\n",
       "      <td>14149.000000</td>\n",
       "      <td>14149.000000</td>\n",
       "      <td>14148.000000</td>\n",
       "      <td>14148.000000</td>\n",
       "      <td>14148.000000</td>\n",
       "      <td>14148.000000</td>\n",
       "      <td>14148.000000</td>\n",
       "      <td>14148.000000</td>\n",
       "      <td>14149.000000</td>\n",
       "      <td>14149.000000</td>\n",
       "      <td>13713.000000</td>\n",
       "      <td>14149.000000</td>\n",
       "      <td>14149.000000</td>\n",
       "      <td>14149.000000</td>\n",
       "      <td>14147.000000</td>\n",
       "      <td>14139.000000</td>\n",
       "      <td>12544.000000</td>\n",
       "      <td>14149.000000</td>\n",
       "      <td>13932.000000</td>\n",
       "      <td>14148.000000</td>\n",
       "      <td>14128.000000</td>\n",
       "      <td>14148.000000</td>\n",
       "      <td>14145.000000</td>\n",
       "      <td>14148.000000</td>\n",
       "      <td>14148.000000</td>\n",
       "      <td>14148.000000</td>\n",
       "      <td>14143.000000</td>\n",
       "      <td>14148.000000</td>\n",
       "      <td>14148.000000</td>\n",
       "      <td>14148.000000</td>\n",
       "      <td>14148.000000</td>\n",
       "      <td>14148.000000</td>\n",
       "      <td>14148.000000</td>\n",
       "      <td>14148.000000</td>\n",
       "      <td>14147.000000</td>\n",
       "      <td>14148.000000</td>\n",
       "    </tr>\n",
       "    <tr>\n",
       "      <th>mean</th>\n",
       "      <td>5.142034</td>\n",
       "      <td>10.132960</td>\n",
       "      <td>9.202849</td>\n",
       "      <td>44.003792</td>\n",
       "      <td>66.518832</td>\n",
       "      <td>9.607035</td>\n",
       "      <td>2.597298</td>\n",
       "      <td>10.512122</td>\n",
       "      <td>2.918421</td>\n",
       "      <td>133.320659</td>\n",
       "      <td>8.866996</td>\n",
       "      <td>7.322310</td>\n",
       "      <td>0.885588</td>\n",
       "      <td>8.200916</td>\n",
       "      <td>9.588862</td>\n",
       "      <td>10.114745</td>\n",
       "      <td>32.386836</td>\n",
       "      <td>16.303929</td>\n",
       "      <td>3.443398</td>\n",
       "      <td>7.533566</td>\n",
       "      <td>3.839637</td>\n",
       "      <td>1608.000064</td>\n",
       "      <td>-488.775525</td>\n",
       "      <td>1608.610983</td>\n",
       "      <td>-489.171786</td>\n",
       "      <td>1608.879407</td>\n",
       "      <td>-489.605549</td>\n",
       "      <td>1542.189963</td>\n",
       "      <td>-483.462423</td>\n",
       "      <td>4.038265e+04</td>\n",
       "      <td>3456.608298</td>\n",
       "      <td>3253.356387</td>\n",
       "      <td>2.367314</td>\n",
       "      <td>8.579195</td>\n",
       "      <td>3.522778</td>\n",
       "      <td>474.027714</td>\n",
       "      <td>60.110518</td>\n",
       "      <td>36.312593</td>\n",
       "      <td>7.866577</td>\n",
       "      <td>11.764931</td>\n",
       "      <td>5.854529</td>\n",
       "      <td>11.368685</td>\n",
       "      <td>5.894176</td>\n",
       "      <td>11.775812</td>\n",
       "      <td>7.664555</td>\n",
       "      <td>28.302715</td>\n",
       "      <td>19.439958</td>\n",
       "      <td>82.704502</td>\n",
       "      <td>5.567124</td>\n",
       "      <td>0.653277</td>\n",
       "      <td>17.882853</td>\n",
       "      <td>1.757473</td>\n",
       "      <td>1124.726280</td>\n",
       "      <td>-369.460950</td>\n",
       "      <td>1320.705069</td>\n",
       "      <td>-464.258983</td>\n",
       "      <td>1299.360578</td>\n",
       "      <td>-465.054849</td>\n",
       "      <td>1210.335236</td>\n",
       "      <td>-465.457377</td>\n",
       "      <td>1090.213187</td>\n",
       "      <td>-464.919119</td>\n",
       "      <td>1035.490299</td>\n",
       "      <td>-464.688631</td>\n",
       "      <td>14.281629</td>\n",
       "      <td>5.848863</td>\n",
       "      <td>6.938693</td>\n",
       "      <td>4.246961</td>\n",
       "      <td>29.613649</td>\n",
       "      <td>-502.223914</td>\n",
       "      <td>24.914403</td>\n",
       "      <td>-503.695706</td>\n",
       "      <td>29.243372</td>\n",
       "      <td>-478.244059</td>\n",
       "      <td>22.656261</td>\n",
       "      <td>-488.924046</td>\n",
       "      <td>19.985454</td>\n",
       "      <td>-478.696836</td>\n",
       "      <td>15.487065</td>\n",
       "      <td>-460.229416</td>\n",
       "      <td>16.775136</td>\n",
       "      <td>-483.956022</td>\n",
       "      <td>13.064590</td>\n",
       "      <td>-483.966564</td>\n",
       "      <td>19.577539</td>\n",
       "      <td>-506.798480</td>\n",
       "    </tr>\n",
       "    <tr>\n",
       "      <th>std</th>\n",
       "      <td>1.369586</td>\n",
       "      <td>1.654930</td>\n",
       "      <td>2.790516</td>\n",
       "      <td>4.905261</td>\n",
       "      <td>10.295402</td>\n",
       "      <td>2.319069</td>\n",
       "      <td>0.971843</td>\n",
       "      <td>3.003617</td>\n",
       "      <td>0.903712</td>\n",
       "      <td>39.431659</td>\n",
       "      <td>3.361589</td>\n",
       "      <td>0.614062</td>\n",
       "      <td>0.372714</td>\n",
       "      <td>2.005185</td>\n",
       "      <td>2.694296</td>\n",
       "      <td>4.064076</td>\n",
       "      <td>5.798843</td>\n",
       "      <td>3.739843</td>\n",
       "      <td>1.490106</td>\n",
       "      <td>2.133220</td>\n",
       "      <td>1.603544</td>\n",
       "      <td>128.394355</td>\n",
       "      <td>35.704184</td>\n",
       "      <td>131.112729</td>\n",
       "      <td>33.604449</td>\n",
       "      <td>134.266898</td>\n",
       "      <td>35.624002</td>\n",
       "      <td>278.316132</td>\n",
       "      <td>47.100934</td>\n",
       "      <td>3.801436e+05</td>\n",
       "      <td>5772.510248</td>\n",
       "      <td>6753.290662</td>\n",
       "      <td>0.873551</td>\n",
       "      <td>1.896284</td>\n",
       "      <td>1.073394</td>\n",
       "      <td>104.039838</td>\n",
       "      <td>22.418485</td>\n",
       "      <td>4.956057</td>\n",
       "      <td>1.919506</td>\n",
       "      <td>3.278813</td>\n",
       "      <td>1.104263</td>\n",
       "      <td>3.743672</td>\n",
       "      <td>1.124233</td>\n",
       "      <td>2.731747</td>\n",
       "      <td>1.856279</td>\n",
       "      <td>6.102982</td>\n",
       "      <td>3.765192</td>\n",
       "      <td>14.479156</td>\n",
       "      <td>1.039136</td>\n",
       "      <td>0.263766</td>\n",
       "      <td>3.432859</td>\n",
       "      <td>0.713187</td>\n",
       "      <td>169.310825</td>\n",
       "      <td>93.952787</td>\n",
       "      <td>183.155975</td>\n",
       "      <td>57.401954</td>\n",
       "      <td>213.404094</td>\n",
       "      <td>55.904716</td>\n",
       "      <td>210.431555</td>\n",
       "      <td>55.771393</td>\n",
       "      <td>184.610118</td>\n",
       "      <td>56.602962</td>\n",
       "      <td>175.052279</td>\n",
       "      <td>56.645965</td>\n",
       "      <td>4.477126</td>\n",
       "      <td>2.861799</td>\n",
       "      <td>4.155487</td>\n",
       "      <td>2.389060</td>\n",
       "      <td>5.800494</td>\n",
       "      <td>60.281705</td>\n",
       "      <td>5.994959</td>\n",
       "      <td>62.837357</td>\n",
       "      <td>5.637309</td>\n",
       "      <td>54.655143</td>\n",
       "      <td>4.996017</td>\n",
       "      <td>41.928112</td>\n",
       "      <td>5.657723</td>\n",
       "      <td>50.736021</td>\n",
       "      <td>5.255655</td>\n",
       "      <td>58.843586</td>\n",
       "      <td>5.831906</td>\n",
       "      <td>37.892788</td>\n",
       "      <td>5.765617</td>\n",
       "      <td>39.207913</td>\n",
       "      <td>5.764417</td>\n",
       "      <td>37.079249</td>\n",
       "    </tr>\n",
       "    <tr>\n",
       "      <th>min</th>\n",
       "      <td>0.000000</td>\n",
       "      <td>0.000000</td>\n",
       "      <td>0.000000</td>\n",
       "      <td>0.000000</td>\n",
       "      <td>0.000000</td>\n",
       "      <td>0.000000</td>\n",
       "      <td>0.000000</td>\n",
       "      <td>0.000000</td>\n",
       "      <td>0.000000</td>\n",
       "      <td>0.003112</td>\n",
       "      <td>0.000000</td>\n",
       "      <td>1.080000</td>\n",
       "      <td>0.000005</td>\n",
       "      <td>0.000000</td>\n",
       "      <td>0.000000</td>\n",
       "      <td>0.000000</td>\n",
       "      <td>0.000000</td>\n",
       "      <td>0.000000</td>\n",
       "      <td>0.000000</td>\n",
       "      <td>0.000000</td>\n",
       "      <td>0.000000</td>\n",
       "      <td>0.006352</td>\n",
       "      <td>-798.641662</td>\n",
       "      <td>0.008700</td>\n",
       "      <td>-740.122129</td>\n",
       "      <td>0.015159</td>\n",
       "      <td>-799.803073</td>\n",
       "      <td>0.008655</td>\n",
       "      <td>-799.788598</td>\n",
       "      <td>-4.223520e+07</td>\n",
       "      <td>-486.598675</td>\n",
       "      <td>-264.982785</td>\n",
       "      <td>-0.010548</td>\n",
       "      <td>0.010000</td>\n",
       "      <td>0.010000</td>\n",
       "      <td>0.012786</td>\n",
       "      <td>9.659576</td>\n",
       "      <td>0.010000</td>\n",
       "      <td>0.010000</td>\n",
       "      <td>0.001083</td>\n",
       "      <td>0.001428</td>\n",
       "      <td>0.000098</td>\n",
       "      <td>0.000290</td>\n",
       "      <td>0.000000</td>\n",
       "      <td>0.000000</td>\n",
       "      <td>0.000000</td>\n",
       "      <td>0.000000</td>\n",
       "      <td>0.000000</td>\n",
       "      <td>0.594562</td>\n",
       "      <td>0.007566</td>\n",
       "      <td>10.014648</td>\n",
       "      <td>0.020676</td>\n",
       "      <td>-0.041078</td>\n",
       "      <td>-650.202881</td>\n",
       "      <td>-0.653384</td>\n",
       "      <td>-650.260008</td>\n",
       "      <td>-0.035112</td>\n",
       "      <td>-640.995627</td>\n",
       "      <td>-0.554299</td>\n",
       "      <td>-640.519003</td>\n",
       "      <td>-1.970275</td>\n",
       "      <td>-649.443911</td>\n",
       "      <td>-2.430587</td>\n",
       "      <td>-649.880981</td>\n",
       "      <td>0.000000</td>\n",
       "      <td>0.000000</td>\n",
       "      <td>0.000000</td>\n",
       "      <td>0.000000</td>\n",
       "      <td>0.077503</td>\n",
       "      <td>-799.606441</td>\n",
       "      <td>0.000000</td>\n",
       "      <td>-799.873878</td>\n",
       "      <td>0.000000</td>\n",
       "      <td>-799.613013</td>\n",
       "      <td>0.000000</td>\n",
       "      <td>-759.177381</td>\n",
       "      <td>0.000000</td>\n",
       "      <td>-799.709069</td>\n",
       "      <td>0.000000</td>\n",
       "      <td>-799.889113</td>\n",
       "      <td>-0.372054</td>\n",
       "      <td>-797.142475</td>\n",
       "      <td>0.646208</td>\n",
       "      <td>-800.006180</td>\n",
       "      <td>0.195324</td>\n",
       "      <td>-809.398668</td>\n",
       "    </tr>\n",
       "    <tr>\n",
       "      <th>25%</th>\n",
       "      <td>4.211620</td>\n",
       "      <td>9.297355</td>\n",
       "      <td>7.484645</td>\n",
       "      <td>43.276111</td>\n",
       "      <td>62.545817</td>\n",
       "      <td>7.997429</td>\n",
       "      <td>1.905973</td>\n",
       "      <td>8.811324</td>\n",
       "      <td>2.368607</td>\n",
       "      <td>107.006651</td>\n",
       "      <td>6.040604</td>\n",
       "      <td>6.960000</td>\n",
       "      <td>0.607021</td>\n",
       "      <td>7.107126</td>\n",
       "      <td>8.333489</td>\n",
       "      <td>7.488139</td>\n",
       "      <td>30.857764</td>\n",
       "      <td>13.873147</td>\n",
       "      <td>2.420259</td>\n",
       "      <td>6.332548</td>\n",
       "      <td>2.867957</td>\n",
       "      <td>1595.695815</td>\n",
       "      <td>-500.287952</td>\n",
       "      <td>1558.959943</td>\n",
       "      <td>-500.375645</td>\n",
       "      <td>1549.871886</td>\n",
       "      <td>-500.601718</td>\n",
       "      <td>1452.678767</td>\n",
       "      <td>-500.459917</td>\n",
       "      <td>3.999430e+04</td>\n",
       "      <td>2527.093354</td>\n",
       "      <td>2512.200873</td>\n",
       "      <td>1.999588</td>\n",
       "      <td>7.132802</td>\n",
       "      <td>2.780010</td>\n",
       "      <td>420.781913</td>\n",
       "      <td>48.973027</td>\n",
       "      <td>34.117635</td>\n",
       "      <td>6.596217</td>\n",
       "      <td>9.861100</td>\n",
       "      <td>5.117359</td>\n",
       "      <td>9.505507</td>\n",
       "      <td>5.199168</td>\n",
       "      <td>10.486871</td>\n",
       "      <td>6.850501</td>\n",
       "      <td>26.703554</td>\n",
       "      <td>18.432161</td>\n",
       "      <td>79.993067</td>\n",
       "      <td>4.921647</td>\n",
       "      <td>0.474047</td>\n",
       "      <td>15.688727</td>\n",
       "      <td>1.310800</td>\n",
       "      <td>999.799166</td>\n",
       "      <td>-499.787867</td>\n",
       "      <td>1199.366448</td>\n",
       "      <td>-500.183028</td>\n",
       "      <td>1103.095071</td>\n",
       "      <td>-500.211863</td>\n",
       "      <td>1059.708509</td>\n",
       "      <td>-500.359197</td>\n",
       "      <td>997.183864</td>\n",
       "      <td>-500.250033</td>\n",
       "      <td>900.966986</td>\n",
       "      <td>-500.476526</td>\n",
       "      <td>12.177364</td>\n",
       "      <td>3.982298</td>\n",
       "      <td>3.225486</td>\n",
       "      <td>3.153122</td>\n",
       "      <td>25.099584</td>\n",
       "      <td>-500.248814</td>\n",
       "      <td>22.048294</td>\n",
       "      <td>-500.270997</td>\n",
       "      <td>24.991662</td>\n",
       "      <td>-500.175065</td>\n",
       "      <td>19.948436</td>\n",
       "      <td>-500.110581</td>\n",
       "      <td>14.990775</td>\n",
       "      <td>-500.628656</td>\n",
       "      <td>11.894558</td>\n",
       "      <td>-500.149000</td>\n",
       "      <td>11.083980</td>\n",
       "      <td>-500.363177</td>\n",
       "      <td>8.994405</td>\n",
       "      <td>-500.105994</td>\n",
       "      <td>14.989304</td>\n",
       "      <td>-500.745104</td>\n",
       "    </tr>\n",
       "    <tr>\n",
       "      <th>50%</th>\n",
       "      <td>4.994652</td>\n",
       "      <td>10.297144</td>\n",
       "      <td>8.845462</td>\n",
       "      <td>44.872436</td>\n",
       "      <td>67.432775</td>\n",
       "      <td>9.480270</td>\n",
       "      <td>2.592022</td>\n",
       "      <td>10.514621</td>\n",
       "      <td>2.851025</td>\n",
       "      <td>133.018328</td>\n",
       "      <td>8.035811</td>\n",
       "      <td>7.290000</td>\n",
       "      <td>0.888749</td>\n",
       "      <td>8.226247</td>\n",
       "      <td>9.933520</td>\n",
       "      <td>9.726566</td>\n",
       "      <td>33.225835</td>\n",
       "      <td>15.800604</td>\n",
       "      <td>3.218374</td>\n",
       "      <td>7.714419</td>\n",
       "      <td>3.510337</td>\n",
       "      <td>1601.824410</td>\n",
       "      <td>-499.909375</td>\n",
       "      <td>1601.818514</td>\n",
       "      <td>-499.938003</td>\n",
       "      <td>1601.574628</td>\n",
       "      <td>-499.871346</td>\n",
       "      <td>1600.168346</td>\n",
       "      <td>-499.831833</td>\n",
       "      <td>4.368431e+04</td>\n",
       "      <td>2975.892211</td>\n",
       "      <td>2899.807724</td>\n",
       "      <td>2.249275</td>\n",
       "      <td>8.156092</td>\n",
       "      <td>3.422677</td>\n",
       "      <td>499.454777</td>\n",
       "      <td>55.373885</td>\n",
       "      <td>37.020345</td>\n",
       "      <td>7.649138</td>\n",
       "      <td>11.688702</td>\n",
       "      <td>5.951071</td>\n",
       "      <td>11.384283</td>\n",
       "      <td>5.998460</td>\n",
       "      <td>11.747362</td>\n",
       "      <td>7.760435</td>\n",
       "      <td>29.257545</td>\n",
       "      <td>19.947312</td>\n",
       "      <td>85.299462</td>\n",
       "      <td>5.722018</td>\n",
       "      <td>0.625805</td>\n",
       "      <td>18.015894</td>\n",
       "      <td>1.745513</td>\n",
       "      <td>1001.685708</td>\n",
       "      <td>-300.175125</td>\n",
       "      <td>1301.365123</td>\n",
       "      <td>-499.764620</td>\n",
       "      <td>1300.213385</td>\n",
       "      <td>-499.682528</td>\n",
       "      <td>1200.744308</td>\n",
       "      <td>-499.465285</td>\n",
       "      <td>1050.496363</td>\n",
       "      <td>-499.611447</td>\n",
       "      <td>1000.053757</td>\n",
       "      <td>-499.364335</td>\n",
       "      <td>15.357951</td>\n",
       "      <td>5.442310</td>\n",
       "      <td>7.302639</td>\n",
       "      <td>3.980210</td>\n",
       "      <td>30.027721</td>\n",
       "      <td>-499.959206</td>\n",
       "      <td>27.022783</td>\n",
       "      <td>-500.014092</td>\n",
       "      <td>28.016530</td>\n",
       "      <td>-499.877837</td>\n",
       "      <td>22.037270</td>\n",
       "      <td>-499.966809</td>\n",
       "      <td>20.001789</td>\n",
       "      <td>-499.681450</td>\n",
       "      <td>14.975536</td>\n",
       "      <td>-499.388738</td>\n",
       "      <td>17.932223</td>\n",
       "      <td>-499.702452</td>\n",
       "      <td>11.997547</td>\n",
       "      <td>-499.914556</td>\n",
       "      <td>19.984175</td>\n",
       "      <td>-500.061431</td>\n",
       "    </tr>\n",
       "    <tr>\n",
       "      <th>75%</th>\n",
       "      <td>5.859540</td>\n",
       "      <td>11.170603</td>\n",
       "      <td>10.487508</td>\n",
       "      <td>46.166425</td>\n",
       "      <td>72.346428</td>\n",
       "      <td>11.003707</td>\n",
       "      <td>3.241723</td>\n",
       "      <td>11.933009</td>\n",
       "      <td>3.434764</td>\n",
       "      <td>159.825396</td>\n",
       "      <td>11.522173</td>\n",
       "      <td>7.700000</td>\n",
       "      <td>1.100933</td>\n",
       "      <td>9.504924</td>\n",
       "      <td>11.310817</td>\n",
       "      <td>13.052807</td>\n",
       "      <td>35.330145</td>\n",
       "      <td>18.450109</td>\n",
       "      <td>4.253218</td>\n",
       "      <td>8.910664</td>\n",
       "      <td>4.492470</td>\n",
       "      <td>1699.716408</td>\n",
       "      <td>-499.378551</td>\n",
       "      <td>1700.215351</td>\n",
       "      <td>-499.389658</td>\n",
       "      <td>1700.464037</td>\n",
       "      <td>-498.801774</td>\n",
       "      <td>1699.358771</td>\n",
       "      <td>-498.480341</td>\n",
       "      <td>4.776041e+04</td>\n",
       "      <td>3716.360822</td>\n",
       "      <td>3596.534806</td>\n",
       "      <td>2.660896</td>\n",
       "      <td>9.918304</td>\n",
       "      <td>4.226107</td>\n",
       "      <td>547.334973</td>\n",
       "      <td>66.080172</td>\n",
       "      <td>39.423265</td>\n",
       "      <td>9.066976</td>\n",
       "      <td>13.607115</td>\n",
       "      <td>6.602533</td>\n",
       "      <td>13.497134</td>\n",
       "      <td>6.699006</td>\n",
       "      <td>13.426419</td>\n",
       "      <td>8.601927</td>\n",
       "      <td>31.743913</td>\n",
       "      <td>21.392714</td>\n",
       "      <td>90.165021</td>\n",
       "      <td>6.310633</td>\n",
       "      <td>0.794326</td>\n",
       "      <td>19.938672</td>\n",
       "      <td>2.186790</td>\n",
       "      <td>1299.505513</td>\n",
       "      <td>-299.963153</td>\n",
       "      <td>1449.553689</td>\n",
       "      <td>-400.425493</td>\n",
       "      <td>1450.350668</td>\n",
       "      <td>-400.664736</td>\n",
       "      <td>1344.378462</td>\n",
       "      <td>-401.052891</td>\n",
       "      <td>1200.047746</td>\n",
       "      <td>-400.596104</td>\n",
       "      <td>1100.165435</td>\n",
       "      <td>-401.014951</td>\n",
       "      <td>17.230151</td>\n",
       "      <td>7.797948</td>\n",
       "      <td>10.547068</td>\n",
       "      <td>4.883943</td>\n",
       "      <td>34.893057</td>\n",
       "      <td>-499.593198</td>\n",
       "      <td>28.939454</td>\n",
       "      <td>-499.764112</td>\n",
       "      <td>34.990095</td>\n",
       "      <td>-436.923166</td>\n",
       "      <td>25.970365</td>\n",
       "      <td>-499.757501</td>\n",
       "      <td>24.990826</td>\n",
       "      <td>-477.472413</td>\n",
       "      <td>20.059375</td>\n",
       "      <td>-400.039008</td>\n",
       "      <td>21.346550</td>\n",
       "      <td>-487.712108</td>\n",
       "      <td>17.982903</td>\n",
       "      <td>-453.186936</td>\n",
       "      <td>24.991623</td>\n",
       "      <td>-499.536466</td>\n",
       "    </tr>\n",
       "    <tr>\n",
       "      <th>max</th>\n",
       "      <td>16.001945</td>\n",
       "      <td>17.031899</td>\n",
       "      <td>18.124851</td>\n",
       "      <td>52.756638</td>\n",
       "      <td>100.000000</td>\n",
       "      <td>19.552149</td>\n",
       "      <td>5.639565</td>\n",
       "      <td>22.317730</td>\n",
       "      <td>8.197408</td>\n",
       "      <td>250.127834</td>\n",
       "      <td>20.052255</td>\n",
       "      <td>10.470000</td>\n",
       "      <td>2.512968</td>\n",
       "      <td>16.081632</td>\n",
       "      <td>17.081278</td>\n",
       "      <td>22.280845</td>\n",
       "      <td>45.933934</td>\n",
       "      <td>29.459575</td>\n",
       "      <td>9.634565</td>\n",
       "      <td>20.620833</td>\n",
       "      <td>17.788925</td>\n",
       "      <td>2079.531340</td>\n",
       "      <td>-330.134203</td>\n",
       "      <td>2114.906758</td>\n",
       "      <td>-347.354380</td>\n",
       "      <td>2013.156457</td>\n",
       "      <td>-346.653450</td>\n",
       "      <td>2398.903635</td>\n",
       "      <td>-30.601828</td>\n",
       "      <td>3.428099e+06</td>\n",
       "      <td>629638.977914</td>\n",
       "      <td>718684.955855</td>\n",
       "      <td>39.379272</td>\n",
       "      <td>14.596026</td>\n",
       "      <td>7.142594</td>\n",
       "      <td>717.508837</td>\n",
       "      <td>484.967466</td>\n",
       "      <td>48.363177</td>\n",
       "      <td>13.126043</td>\n",
       "      <td>36.118275</td>\n",
       "      <td>9.703448</td>\n",
       "      <td>37.980648</td>\n",
       "      <td>9.698407</td>\n",
       "      <td>24.480271</td>\n",
       "      <td>13.617072</td>\n",
       "      <td>38.351193</td>\n",
       "      <td>28.146838</td>\n",
       "      <td>100.000000</td>\n",
       "      <td>12.719177</td>\n",
       "      <td>3.778064</td>\n",
       "      <td>66.117188</td>\n",
       "      <td>9.688980</td>\n",
       "      <td>1521.980372</td>\n",
       "      <td>-281.039299</td>\n",
       "      <td>1809.194008</td>\n",
       "      <td>-296.383080</td>\n",
       "      <td>2499.129174</td>\n",
       "      <td>-292.155509</td>\n",
       "      <td>1817.199290</td>\n",
       "      <td>-208.330673</td>\n",
       "      <td>1922.636637</td>\n",
       "      <td>-272.199598</td>\n",
       "      <td>1706.307502</td>\n",
       "      <td>-191.718480</td>\n",
       "      <td>23.264738</td>\n",
       "      <td>17.042505</td>\n",
       "      <td>17.976171</td>\n",
       "      <td>26.811643</td>\n",
       "      <td>52.651399</td>\n",
       "      <td>-127.875565</td>\n",
       "      <td>35.152122</td>\n",
       "      <td>-212.064665</td>\n",
       "      <td>44.260464</td>\n",
       "      <td>-191.678810</td>\n",
       "      <td>35.072841</td>\n",
       "      <td>-159.742331</td>\n",
       "      <td>30.115735</td>\n",
       "      <td>-245.239184</td>\n",
       "      <td>24.007913</td>\n",
       "      <td>-145.071088</td>\n",
       "      <td>43.709931</td>\n",
       "      <td>-275.073125</td>\n",
       "      <td>27.926001</td>\n",
       "      <td>-157.396071</td>\n",
       "      <td>32.188906</td>\n",
       "      <td>-104.427459</td>\n",
       "    </tr>\n",
       "  </tbody>\n",
       "</table>\n",
       "</div>"
      ],
      "text/plain": [
       "       final.output.concentrate_ag  final.output.concentrate_pb  \\\n",
       "count                 14148.000000                 14148.000000   \n",
       "mean                      5.142034                    10.132960   \n",
       "std                       1.369586                     1.654930   \n",
       "min                       0.000000                     0.000000   \n",
       "25%                       4.211620                     9.297355   \n",
       "50%                       4.994652                    10.297144   \n",
       "75%                       5.859540                    11.170603   \n",
       "max                      16.001945                    17.031899   \n",
       "\n",
       "       final.output.concentrate_sol  final.output.concentrate_au  \\\n",
       "count                  13938.000000                 14149.000000   \n",
       "mean                       9.202849                    44.003792   \n",
       "std                        2.790516                     4.905261   \n",
       "min                        0.000000                     0.000000   \n",
       "25%                        7.484645                    43.276111   \n",
       "50%                        8.845462                    44.872436   \n",
       "75%                       10.487508                    46.166425   \n",
       "max                       18.124851                    52.756638   \n",
       "\n",
       "       final.output.recovery  final.output.tail_ag  final.output.tail_pb  \\\n",
       "count           14149.000000          14149.000000          14049.000000   \n",
       "mean               66.518832              9.607035              2.597298   \n",
       "std                10.295402              2.319069              0.971843   \n",
       "min                 0.000000              0.000000              0.000000   \n",
       "25%                62.545817              7.997429              1.905973   \n",
       "50%                67.432775              9.480270              2.592022   \n",
       "75%                72.346428             11.003707              3.241723   \n",
       "max               100.000000             19.552149              5.639565   \n",
       "\n",
       "       final.output.tail_sol  final.output.tail_au  \\\n",
       "count           14144.000000          14149.000000   \n",
       "mean               10.512122              2.918421   \n",
       "std                 3.003617              0.903712   \n",
       "min                 0.000000              0.000000   \n",
       "25%                 8.811324              2.368607   \n",
       "50%                10.514621              2.851025   \n",
       "75%                11.933009              3.434764   \n",
       "max                22.317730              8.197408   \n",
       "\n",
       "       primary_cleaner.input.sulfate  primary_cleaner.input.depressant  \\\n",
       "count                   14129.000000                      14117.000000   \n",
       "mean                      133.320659                          8.866996   \n",
       "std                        39.431659                          3.361589   \n",
       "min                         0.003112                          0.000000   \n",
       "25%                       107.006651                          6.040604   \n",
       "50%                       133.018328                          8.035811   \n",
       "75%                       159.825396                         11.522173   \n",
       "max                       250.127834                         20.052255   \n",
       "\n",
       "       primary_cleaner.input.feed_size  primary_cleaner.input.xanthate  \\\n",
       "count                     14149.000000                    14049.000000   \n",
       "mean                          7.322310                        0.885588   \n",
       "std                           0.614062                        0.372714   \n",
       "min                           1.080000                        0.000005   \n",
       "25%                           6.960000                        0.607021   \n",
       "50%                           7.290000                        0.888749   \n",
       "75%                           7.700000                        1.100933   \n",
       "max                          10.470000                        2.512968   \n",
       "\n",
       "       primary_cleaner.output.concentrate_ag  \\\n",
       "count                           14149.000000   \n",
       "mean                                8.200916   \n",
       "std                                 2.005185   \n",
       "min                                 0.000000   \n",
       "25%                                 7.107126   \n",
       "50%                                 8.226247   \n",
       "75%                                 9.504924   \n",
       "max                                16.081632   \n",
       "\n",
       "       primary_cleaner.output.concentrate_pb  \\\n",
       "count                           14063.000000   \n",
       "mean                                9.588862   \n",
       "std                                 2.694296   \n",
       "min                                 0.000000   \n",
       "25%                                 8.333489   \n",
       "50%                                 9.933520   \n",
       "75%                                11.310817   \n",
       "max                                17.081278   \n",
       "\n",
       "       primary_cleaner.output.concentrate_sol  \\\n",
       "count                            13863.000000   \n",
       "mean                                10.114745   \n",
       "std                                  4.064076   \n",
       "min                                  0.000000   \n",
       "25%                                  7.488139   \n",
       "50%                                  9.726566   \n",
       "75%                                 13.052807   \n",
       "max                                 22.280845   \n",
       "\n",
       "       primary_cleaner.output.concentrate_au  primary_cleaner.output.tail_ag  \\\n",
       "count                           14149.000000                    14148.000000   \n",
       "mean                               32.386836                       16.303929   \n",
       "std                                 5.798843                        3.739843   \n",
       "min                                 0.000000                        0.000000   \n",
       "25%                                30.857764                       13.873147   \n",
       "50%                                33.225835                       15.800604   \n",
       "75%                                35.330145                       18.450109   \n",
       "max                                45.933934                       29.459575   \n",
       "\n",
       "       primary_cleaner.output.tail_pb  primary_cleaner.output.tail_sol  \\\n",
       "count                    14134.000000                     14103.000000   \n",
       "mean                         3.443398                         7.533566   \n",
       "std                          1.490106                         2.133220   \n",
       "min                          0.000000                         0.000000   \n",
       "25%                          2.420259                         6.332548   \n",
       "50%                          3.218374                         7.714419   \n",
       "75%                          4.253218                         8.910664   \n",
       "max                          9.634565                        20.620833   \n",
       "\n",
       "       primary_cleaner.output.tail_au  primary_cleaner.state.floatbank8_a_air  \\\n",
       "count                    14149.000000                            14145.000000   \n",
       "mean                         3.839637                             1608.000064   \n",
       "std                          1.603544                              128.394355   \n",
       "min                          0.000000                                0.006352   \n",
       "25%                          2.867957                             1595.695815   \n",
       "50%                          3.510337                             1601.824410   \n",
       "75%                          4.492470                             1699.716408   \n",
       "max                         17.788925                             2079.531340   \n",
       "\n",
       "       primary_cleaner.state.floatbank8_a_level  \\\n",
       "count                              14148.000000   \n",
       "mean                                -488.775525   \n",
       "std                                   35.704184   \n",
       "min                                 -798.641662   \n",
       "25%                                 -500.287952   \n",
       "50%                                 -499.909375   \n",
       "75%                                 -499.378551   \n",
       "max                                 -330.134203   \n",
       "\n",
       "       primary_cleaner.state.floatbank8_b_air  \\\n",
       "count                            14145.000000   \n",
       "mean                              1608.610983   \n",
       "std                                131.112729   \n",
       "min                                  0.008700   \n",
       "25%                               1558.959943   \n",
       "50%                               1601.818514   \n",
       "75%                               1700.215351   \n",
       "max                               2114.906758   \n",
       "\n",
       "       primary_cleaner.state.floatbank8_b_level  \\\n",
       "count                              14148.000000   \n",
       "mean                                -489.171786   \n",
       "std                                   33.604449   \n",
       "min                                 -740.122129   \n",
       "25%                                 -500.375645   \n",
       "50%                                 -499.938003   \n",
       "75%                                 -499.389658   \n",
       "max                                 -347.354380   \n",
       "\n",
       "       primary_cleaner.state.floatbank8_c_air  \\\n",
       "count                            14147.000000   \n",
       "mean                              1608.879407   \n",
       "std                                134.266898   \n",
       "min                                  0.015159   \n",
       "25%                               1549.871886   \n",
       "50%                               1601.574628   \n",
       "75%                               1700.464037   \n",
       "max                               2013.156457   \n",
       "\n",
       "       primary_cleaner.state.floatbank8_c_level  \\\n",
       "count                              14148.000000   \n",
       "mean                                -489.605549   \n",
       "std                                   35.624002   \n",
       "min                                 -799.803073   \n",
       "25%                                 -500.601718   \n",
       "50%                                 -499.871346   \n",
       "75%                                 -498.801774   \n",
       "max                                 -346.653450   \n",
       "\n",
       "       primary_cleaner.state.floatbank8_d_air  \\\n",
       "count                            14146.000000   \n",
       "mean                              1542.189963   \n",
       "std                                278.316132   \n",
       "min                                  0.008655   \n",
       "25%                               1452.678767   \n",
       "50%                               1600.168346   \n",
       "75%                               1699.358771   \n",
       "max                               2398.903635   \n",
       "\n",
       "       primary_cleaner.state.floatbank8_d_level  \\\n",
       "count                              14148.000000   \n",
       "mean                                -483.462423   \n",
       "std                                   47.100934   \n",
       "min                                 -799.788598   \n",
       "25%                                 -500.459917   \n",
       "50%                                 -499.831833   \n",
       "75%                                 -498.480341   \n",
       "max                                  -30.601828   \n",
       "\n",
       "       rougher.calculation.sulfate_to_au_concentrate  \\\n",
       "count                                   1.414800e+04   \n",
       "mean                                    4.038265e+04   \n",
       "std                                     3.801436e+05   \n",
       "min                                    -4.223520e+07   \n",
       "25%                                     3.999430e+04   \n",
       "50%                                     4.368431e+04   \n",
       "75%                                     4.776041e+04   \n",
       "max                                     3.428099e+06   \n",
       "\n",
       "       rougher.calculation.floatbank10_sulfate_to_au_feed  \\\n",
       "count                                       14148.000000    \n",
       "mean                                         3456.608298    \n",
       "std                                          5772.510248    \n",
       "min                                          -486.598675    \n",
       "25%                                          2527.093354    \n",
       "50%                                          2975.892211    \n",
       "75%                                          3716.360822    \n",
       "max                                        629638.977914    \n",
       "\n",
       "       rougher.calculation.floatbank11_sulfate_to_au_feed  \\\n",
       "count                                       14148.000000    \n",
       "mean                                         3253.356387    \n",
       "std                                          6753.290662    \n",
       "min                                          -264.982785    \n",
       "25%                                          2512.200873    \n",
       "50%                                          2899.807724    \n",
       "75%                                          3596.534806    \n",
       "max                                        718684.955855    \n",
       "\n",
       "       rougher.calculation.au_pb_ratio  rougher.input.feed_ag  \\\n",
       "count                     14149.000000           14149.000000   \n",
       "mean                          2.367314               8.579195   \n",
       "std                           0.873551               1.896284   \n",
       "min                          -0.010548               0.010000   \n",
       "25%                           1.999588               7.132802   \n",
       "50%                           2.249275               8.156092   \n",
       "75%                           2.660896               9.918304   \n",
       "max                          39.379272              14.596026   \n",
       "\n",
       "       rougher.input.feed_pb  rougher.input.feed_rate  \\\n",
       "count           14049.000000             14141.000000   \n",
       "mean                3.522778               474.027714   \n",
       "std                 1.073394               104.039838   \n",
       "min                 0.010000                 0.012786   \n",
       "25%                 2.780010               420.781913   \n",
       "50%                 3.422677               499.454777   \n",
       "75%                 4.226107               547.334973   \n",
       "max                 7.142594               717.508837   \n",
       "\n",
       "       rougher.input.feed_size  rougher.input.feed_sol  rougher.input.feed_au  \\\n",
       "count             14005.000000            14071.000000           14149.000000   \n",
       "mean                 60.110518               36.312593               7.866577   \n",
       "std                  22.418485                4.956057               1.919506   \n",
       "min                   9.659576                0.010000               0.010000   \n",
       "25%                  48.973027               34.117635               6.596217   \n",
       "50%                  55.373885               37.020345               7.649138   \n",
       "75%                  66.080172               39.423265               9.066976   \n",
       "max                 484.967466               48.363177              13.126043   \n",
       "\n",
       "       rougher.input.floatbank10_sulfate  rougher.input.floatbank10_xanthate  \\\n",
       "count                       14120.000000                        14141.000000   \n",
       "mean                           11.764931                            5.854529   \n",
       "std                             3.278813                            1.104263   \n",
       "min                             0.001083                            0.001428   \n",
       "25%                             9.861100                            5.117359   \n",
       "50%                            11.688702                            5.951071   \n",
       "75%                            13.607115                            6.602533   \n",
       "max                            36.118275                            9.703448   \n",
       "\n",
       "       rougher.input.floatbank11_sulfate  rougher.input.floatbank11_xanthate  \\\n",
       "count                       14113.000000                        13721.000000   \n",
       "mean                           11.368685                            5.894176   \n",
       "std                             3.743672                            1.124233   \n",
       "min                             0.000098                            0.000290   \n",
       "25%                             9.505507                            5.199168   \n",
       "50%                            11.384283                            5.998460   \n",
       "75%                            13.497134                            6.699006   \n",
       "max                            37.980648                            9.698407   \n",
       "\n",
       "       rougher.output.concentrate_ag  rougher.output.concentrate_pb  \\\n",
       "count                   14149.000000                   14149.000000   \n",
       "mean                       11.775812                       7.664555   \n",
       "std                         2.731747                       1.856279   \n",
       "min                         0.000000                       0.000000   \n",
       "25%                        10.486871                       6.850501   \n",
       "50%                        11.747362                       7.760435   \n",
       "75%                        13.426419                       8.601927   \n",
       "max                        24.480271                      13.617072   \n",
       "\n",
       "       rougher.output.concentrate_sol  rougher.output.concentrate_au  \\\n",
       "count                    14127.000000                   14149.000000   \n",
       "mean                        28.302715                      19.439958   \n",
       "std                          6.102982                       3.765192   \n",
       "min                          0.000000                       0.000000   \n",
       "25%                         26.703554                      18.432161   \n",
       "50%                         29.257545                      19.947312   \n",
       "75%                         31.743913                      21.392714   \n",
       "max                         38.351193                      28.146838   \n",
       "\n",
       "       rougher.output.recovery  rougher.output.tail_ag  \\\n",
       "count             14149.000000            14148.000000   \n",
       "mean                 82.704502                5.567124   \n",
       "std                  14.479156                1.039136   \n",
       "min                   0.000000                0.594562   \n",
       "25%                  79.993067                4.921647   \n",
       "50%                  85.299462                5.722018   \n",
       "75%                  90.165021                6.310633   \n",
       "max                 100.000000               12.719177   \n",
       "\n",
       "       rougher.output.tail_pb  rougher.output.tail_sol  \\\n",
       "count            14149.000000             14149.000000   \n",
       "mean                 0.653277                17.882853   \n",
       "std                  0.263766                 3.432859   \n",
       "min                  0.007566                10.014648   \n",
       "25%                  0.474047                15.688727   \n",
       "50%                  0.625805                18.015894   \n",
       "75%                  0.794326                19.938672   \n",
       "max                  3.778064                66.117188   \n",
       "\n",
       "       rougher.output.tail_au  rougher.state.floatbank10_a_air  \\\n",
       "count            14149.000000                     14148.000000   \n",
       "mean                 1.757473                      1124.726280   \n",
       "std                  0.713187                       169.310825   \n",
       "min                  0.020676                        -0.041078   \n",
       "25%                  1.310800                       999.799166   \n",
       "50%                  1.745513                      1001.685708   \n",
       "75%                  2.186790                      1299.505513   \n",
       "max                  9.688980                      1521.980372   \n",
       "\n",
       "       rougher.state.floatbank10_a_level  rougher.state.floatbank10_b_air  \\\n",
       "count                       14148.000000                     14148.000000   \n",
       "mean                         -369.460950                      1320.705069   \n",
       "std                            93.952787                       183.155975   \n",
       "min                          -650.202881                        -0.653384   \n",
       "25%                          -499.787867                      1199.366448   \n",
       "50%                          -300.175125                      1301.365123   \n",
       "75%                          -299.963153                      1449.553689   \n",
       "max                          -281.039299                      1809.194008   \n",
       "\n",
       "       rougher.state.floatbank10_b_level  rougher.state.floatbank10_c_air  \\\n",
       "count                       14148.000000                     14148.000000   \n",
       "mean                         -464.258983                      1299.360578   \n",
       "std                            57.401954                       213.404094   \n",
       "min                          -650.260008                        -0.035112   \n",
       "25%                          -500.183028                      1103.095071   \n",
       "50%                          -499.764620                      1300.213385   \n",
       "75%                          -400.425493                      1450.350668   \n",
       "max                          -296.383080                      2499.129174   \n",
       "\n",
       "       rougher.state.floatbank10_c_level  rougher.state.floatbank10_d_air  \\\n",
       "count                       14148.000000                     14149.000000   \n",
       "mean                         -465.054849                      1210.335236   \n",
       "std                            55.904716                       210.431555   \n",
       "min                          -640.995627                        -0.554299   \n",
       "25%                          -500.211863                      1059.708509   \n",
       "50%                          -499.682528                      1200.744308   \n",
       "75%                          -400.664736                      1344.378462   \n",
       "max                          -292.155509                      1817.199290   \n",
       "\n",
       "       rougher.state.floatbank10_d_level  rougher.state.floatbank10_e_air  \\\n",
       "count                       14149.000000                     13713.000000   \n",
       "mean                         -465.457377                      1090.213187   \n",
       "std                            55.771393                       184.610118   \n",
       "min                          -640.519003                        -1.970275   \n",
       "25%                          -500.359197                       997.183864   \n",
       "50%                          -499.465285                      1050.496363   \n",
       "75%                          -401.052891                      1200.047746   \n",
       "max                          -208.330673                      1922.636637   \n",
       "\n",
       "       rougher.state.floatbank10_e_level  rougher.state.floatbank10_f_air  \\\n",
       "count                       14149.000000                     14149.000000   \n",
       "mean                         -464.919119                      1035.490299   \n",
       "std                            56.602962                       175.052279   \n",
       "min                          -649.443911                        -2.430587   \n",
       "25%                          -500.250033                       900.966986   \n",
       "50%                          -499.611447                      1000.053757   \n",
       "75%                          -400.596104                      1100.165435   \n",
       "max                          -272.199598                      1706.307502   \n",
       "\n",
       "       rougher.state.floatbank10_f_level  secondary_cleaner.output.tail_ag  \\\n",
       "count                       14149.000000                      14147.000000   \n",
       "mean                         -464.688631                         14.281629   \n",
       "std                            56.645965                          4.477126   \n",
       "min                          -649.880981                          0.000000   \n",
       "25%                          -500.476526                         12.177364   \n",
       "50%                          -499.364335                         15.357951   \n",
       "75%                          -401.014951                         17.230151   \n",
       "max                          -191.718480                         23.264738   \n",
       "\n",
       "       secondary_cleaner.output.tail_pb  secondary_cleaner.output.tail_sol  \\\n",
       "count                      14139.000000                       12544.000000   \n",
       "mean                           5.848863                           6.938693   \n",
       "std                            2.861799                           4.155487   \n",
       "min                            0.000000                           0.000000   \n",
       "25%                            3.982298                           3.225486   \n",
       "50%                            5.442310                           7.302639   \n",
       "75%                            7.797948                          10.547068   \n",
       "max                           17.042505                          17.976171   \n",
       "\n",
       "       secondary_cleaner.output.tail_au  \\\n",
       "count                      14149.000000   \n",
       "mean                           4.246961   \n",
       "std                            2.389060   \n",
       "min                            0.000000   \n",
       "25%                            3.153122   \n",
       "50%                            3.980210   \n",
       "75%                            4.883943   \n",
       "max                           26.811643   \n",
       "\n",
       "       secondary_cleaner.state.floatbank2_a_air  \\\n",
       "count                              13932.000000   \n",
       "mean                                  29.613649   \n",
       "std                                    5.800494   \n",
       "min                                    0.077503   \n",
       "25%                                   25.099584   \n",
       "50%                                   30.027721   \n",
       "75%                                   34.893057   \n",
       "max                                   52.651399   \n",
       "\n",
       "       secondary_cleaner.state.floatbank2_a_level  \\\n",
       "count                                14148.000000   \n",
       "mean                                  -502.223914   \n",
       "std                                     60.281705   \n",
       "min                                   -799.606441   \n",
       "25%                                   -500.248814   \n",
       "50%                                   -499.959206   \n",
       "75%                                   -499.593198   \n",
       "max                                   -127.875565   \n",
       "\n",
       "       secondary_cleaner.state.floatbank2_b_air  \\\n",
       "count                              14128.000000   \n",
       "mean                                  24.914403   \n",
       "std                                    5.994959   \n",
       "min                                    0.000000   \n",
       "25%                                   22.048294   \n",
       "50%                                   27.022783   \n",
       "75%                                   28.939454   \n",
       "max                                   35.152122   \n",
       "\n",
       "       secondary_cleaner.state.floatbank2_b_level  \\\n",
       "count                                14148.000000   \n",
       "mean                                  -503.695706   \n",
       "std                                     62.837357   \n",
       "min                                   -799.873878   \n",
       "25%                                   -500.270997   \n",
       "50%                                   -500.014092   \n",
       "75%                                   -499.764112   \n",
       "max                                   -212.064665   \n",
       "\n",
       "       secondary_cleaner.state.floatbank3_a_air  \\\n",
       "count                              14145.000000   \n",
       "mean                                  29.243372   \n",
       "std                                    5.637309   \n",
       "min                                    0.000000   \n",
       "25%                                   24.991662   \n",
       "50%                                   28.016530   \n",
       "75%                                   34.990095   \n",
       "max                                   44.260464   \n",
       "\n",
       "       secondary_cleaner.state.floatbank3_a_level  \\\n",
       "count                                14148.000000   \n",
       "mean                                  -478.244059   \n",
       "std                                     54.655143   \n",
       "min                                   -799.613013   \n",
       "25%                                   -500.175065   \n",
       "50%                                   -499.877837   \n",
       "75%                                   -436.923166   \n",
       "max                                   -191.678810   \n",
       "\n",
       "       secondary_cleaner.state.floatbank3_b_air  \\\n",
       "count                              14148.000000   \n",
       "mean                                  22.656261   \n",
       "std                                    4.996017   \n",
       "min                                    0.000000   \n",
       "25%                                   19.948436   \n",
       "50%                                   22.037270   \n",
       "75%                                   25.970365   \n",
       "max                                   35.072841   \n",
       "\n",
       "       secondary_cleaner.state.floatbank3_b_level  \\\n",
       "count                                14148.000000   \n",
       "mean                                  -488.924046   \n",
       "std                                     41.928112   \n",
       "min                                   -759.177381   \n",
       "25%                                   -500.110581   \n",
       "50%                                   -499.966809   \n",
       "75%                                   -499.757501   \n",
       "max                                   -159.742331   \n",
       "\n",
       "       secondary_cleaner.state.floatbank4_a_air  \\\n",
       "count                              14143.000000   \n",
       "mean                                  19.985454   \n",
       "std                                    5.657723   \n",
       "min                                    0.000000   \n",
       "25%                                   14.990775   \n",
       "50%                                   20.001789   \n",
       "75%                                   24.990826   \n",
       "max                                   30.115735   \n",
       "\n",
       "       secondary_cleaner.state.floatbank4_a_level  \\\n",
       "count                                14148.000000   \n",
       "mean                                  -478.696836   \n",
       "std                                     50.736021   \n",
       "min                                   -799.709069   \n",
       "25%                                   -500.628656   \n",
       "50%                                   -499.681450   \n",
       "75%                                   -477.472413   \n",
       "max                                   -245.239184   \n",
       "\n",
       "       secondary_cleaner.state.floatbank4_b_air  \\\n",
       "count                              14148.000000   \n",
       "mean                                  15.487065   \n",
       "std                                    5.255655   \n",
       "min                                    0.000000   \n",
       "25%                                   11.894558   \n",
       "50%                                   14.975536   \n",
       "75%                                   20.059375   \n",
       "max                                   24.007913   \n",
       "\n",
       "       secondary_cleaner.state.floatbank4_b_level  \\\n",
       "count                                14148.000000   \n",
       "mean                                  -460.229416   \n",
       "std                                     58.843586   \n",
       "min                                   -799.889113   \n",
       "25%                                   -500.149000   \n",
       "50%                                   -499.388738   \n",
       "75%                                   -400.039008   \n",
       "max                                   -145.071088   \n",
       "\n",
       "       secondary_cleaner.state.floatbank5_a_air  \\\n",
       "count                              14148.000000   \n",
       "mean                                  16.775136   \n",
       "std                                    5.831906   \n",
       "min                                   -0.372054   \n",
       "25%                                   11.083980   \n",
       "50%                                   17.932223   \n",
       "75%                                   21.346550   \n",
       "max                                   43.709931   \n",
       "\n",
       "       secondary_cleaner.state.floatbank5_a_level  \\\n",
       "count                                14148.000000   \n",
       "mean                                  -483.956022   \n",
       "std                                     37.892788   \n",
       "min                                   -797.142475   \n",
       "25%                                   -500.363177   \n",
       "50%                                   -499.702452   \n",
       "75%                                   -487.712108   \n",
       "max                                   -275.073125   \n",
       "\n",
       "       secondary_cleaner.state.floatbank5_b_air  \\\n",
       "count                              14148.000000   \n",
       "mean                                  13.064590   \n",
       "std                                    5.765617   \n",
       "min                                    0.646208   \n",
       "25%                                    8.994405   \n",
       "50%                                   11.997547   \n",
       "75%                                   17.982903   \n",
       "max                                   27.926001   \n",
       "\n",
       "       secondary_cleaner.state.floatbank5_b_level  \\\n",
       "count                                14148.000000   \n",
       "mean                                  -483.966564   \n",
       "std                                     39.207913   \n",
       "min                                   -800.006180   \n",
       "25%                                   -500.105994   \n",
       "50%                                   -499.914556   \n",
       "75%                                   -453.186936   \n",
       "max                                   -157.396071   \n",
       "\n",
       "       secondary_cleaner.state.floatbank6_a_air  \\\n",
       "count                              14147.000000   \n",
       "mean                                  19.577539   \n",
       "std                                    5.764417   \n",
       "min                                    0.195324   \n",
       "25%                                   14.989304   \n",
       "50%                                   19.984175   \n",
       "75%                                   24.991623   \n",
       "max                                   32.188906   \n",
       "\n",
       "       secondary_cleaner.state.floatbank6_a_level  \n",
       "count                                14148.000000  \n",
       "mean                                  -506.798480  \n",
       "std                                     37.079249  \n",
       "min                                   -809.398668  \n",
       "25%                                   -500.745104  \n",
       "50%                                   -500.061431  \n",
       "75%                                   -499.536466  \n",
       "max                                   -104.427459  "
      ]
     },
     "metadata": {},
     "output_type": "display_data"
    },
    {
     "name": "stdout",
     "output_type": "stream",
     "text": [
      "---------------------------------------------------------------------------\n"
     ]
    },
    {
     "data": {
      "text/html": [
       "<div>\n",
       "<style scoped>\n",
       "    .dataframe tbody tr th:only-of-type {\n",
       "        vertical-align: middle;\n",
       "    }\n",
       "\n",
       "    .dataframe tbody tr th {\n",
       "        vertical-align: top;\n",
       "    }\n",
       "\n",
       "    .dataframe thead th {\n",
       "        text-align: right;\n",
       "    }\n",
       "</style>\n",
       "<table border=\"1\" class=\"dataframe\">\n",
       "  <thead>\n",
       "    <tr style=\"text-align: right;\">\n",
       "      <th></th>\n",
       "      <th>primary_cleaner.input.sulfate</th>\n",
       "      <th>primary_cleaner.input.depressant</th>\n",
       "      <th>primary_cleaner.input.feed_size</th>\n",
       "      <th>primary_cleaner.input.xanthate</th>\n",
       "      <th>primary_cleaner.state.floatbank8_a_air</th>\n",
       "      <th>primary_cleaner.state.floatbank8_a_level</th>\n",
       "      <th>primary_cleaner.state.floatbank8_b_air</th>\n",
       "      <th>primary_cleaner.state.floatbank8_b_level</th>\n",
       "      <th>primary_cleaner.state.floatbank8_c_air</th>\n",
       "      <th>primary_cleaner.state.floatbank8_c_level</th>\n",
       "      <th>primary_cleaner.state.floatbank8_d_air</th>\n",
       "      <th>primary_cleaner.state.floatbank8_d_level</th>\n",
       "      <th>rougher.input.feed_ag</th>\n",
       "      <th>rougher.input.feed_pb</th>\n",
       "      <th>rougher.input.feed_rate</th>\n",
       "      <th>rougher.input.feed_size</th>\n",
       "      <th>rougher.input.feed_sol</th>\n",
       "      <th>rougher.input.feed_au</th>\n",
       "      <th>rougher.input.floatbank10_sulfate</th>\n",
       "      <th>rougher.input.floatbank10_xanthate</th>\n",
       "      <th>rougher.input.floatbank11_sulfate</th>\n",
       "      <th>rougher.input.floatbank11_xanthate</th>\n",
       "      <th>rougher.state.floatbank10_a_air</th>\n",
       "      <th>rougher.state.floatbank10_a_level</th>\n",
       "      <th>rougher.state.floatbank10_b_air</th>\n",
       "      <th>rougher.state.floatbank10_b_level</th>\n",
       "      <th>rougher.state.floatbank10_c_air</th>\n",
       "      <th>rougher.state.floatbank10_c_level</th>\n",
       "      <th>rougher.state.floatbank10_d_air</th>\n",
       "      <th>rougher.state.floatbank10_d_level</th>\n",
       "      <th>rougher.state.floatbank10_e_air</th>\n",
       "      <th>rougher.state.floatbank10_e_level</th>\n",
       "      <th>rougher.state.floatbank10_f_air</th>\n",
       "      <th>rougher.state.floatbank10_f_level</th>\n",
       "      <th>secondary_cleaner.state.floatbank2_a_air</th>\n",
       "      <th>secondary_cleaner.state.floatbank2_a_level</th>\n",
       "      <th>secondary_cleaner.state.floatbank2_b_air</th>\n",
       "      <th>secondary_cleaner.state.floatbank2_b_level</th>\n",
       "      <th>secondary_cleaner.state.floatbank3_a_air</th>\n",
       "      <th>secondary_cleaner.state.floatbank3_a_level</th>\n",
       "      <th>secondary_cleaner.state.floatbank3_b_air</th>\n",
       "      <th>secondary_cleaner.state.floatbank3_b_level</th>\n",
       "      <th>secondary_cleaner.state.floatbank4_a_air</th>\n",
       "      <th>secondary_cleaner.state.floatbank4_a_level</th>\n",
       "      <th>secondary_cleaner.state.floatbank4_b_air</th>\n",
       "      <th>secondary_cleaner.state.floatbank4_b_level</th>\n",
       "      <th>secondary_cleaner.state.floatbank5_a_air</th>\n",
       "      <th>secondary_cleaner.state.floatbank5_a_level</th>\n",
       "      <th>secondary_cleaner.state.floatbank5_b_air</th>\n",
       "      <th>secondary_cleaner.state.floatbank5_b_level</th>\n",
       "      <th>secondary_cleaner.state.floatbank6_a_air</th>\n",
       "      <th>secondary_cleaner.state.floatbank6_a_level</th>\n",
       "    </tr>\n",
       "    <tr>\n",
       "      <th>date</th>\n",
       "      <th></th>\n",
       "      <th></th>\n",
       "      <th></th>\n",
       "      <th></th>\n",
       "      <th></th>\n",
       "      <th></th>\n",
       "      <th></th>\n",
       "      <th></th>\n",
       "      <th></th>\n",
       "      <th></th>\n",
       "      <th></th>\n",
       "      <th></th>\n",
       "      <th></th>\n",
       "      <th></th>\n",
       "      <th></th>\n",
       "      <th></th>\n",
       "      <th></th>\n",
       "      <th></th>\n",
       "      <th></th>\n",
       "      <th></th>\n",
       "      <th></th>\n",
       "      <th></th>\n",
       "      <th></th>\n",
       "      <th></th>\n",
       "      <th></th>\n",
       "      <th></th>\n",
       "      <th></th>\n",
       "      <th></th>\n",
       "      <th></th>\n",
       "      <th></th>\n",
       "      <th></th>\n",
       "      <th></th>\n",
       "      <th></th>\n",
       "      <th></th>\n",
       "      <th></th>\n",
       "      <th></th>\n",
       "      <th></th>\n",
       "      <th></th>\n",
       "      <th></th>\n",
       "      <th></th>\n",
       "      <th></th>\n",
       "      <th></th>\n",
       "      <th></th>\n",
       "      <th></th>\n",
       "      <th></th>\n",
       "      <th></th>\n",
       "      <th></th>\n",
       "      <th></th>\n",
       "      <th></th>\n",
       "      <th></th>\n",
       "      <th></th>\n",
       "      <th></th>\n",
       "    </tr>\n",
       "  </thead>\n",
       "  <tbody>\n",
       "    <tr>\n",
       "      <th>2016-09-01 00:59:59</th>\n",
       "      <td>210.800909</td>\n",
       "      <td>14.993118</td>\n",
       "      <td>8.080000</td>\n",
       "      <td>1.005021</td>\n",
       "      <td>1398.981301</td>\n",
       "      <td>-500.225577</td>\n",
       "      <td>1399.144926</td>\n",
       "      <td>-499.919735</td>\n",
       "      <td>1400.102998</td>\n",
       "      <td>-500.704369</td>\n",
       "      <td>1399.001695</td>\n",
       "      <td>-499.485144</td>\n",
       "      <td>13.128569</td>\n",
       "      <td>5.636710</td>\n",
       "      <td>489.793655</td>\n",
       "      <td>62.710452</td>\n",
       "      <td>42.022440</td>\n",
       "      <td>12.084103</td>\n",
       "      <td>16.922877</td>\n",
       "      <td>6.153479</td>\n",
       "      <td>16.867518</td>\n",
       "      <td>6.150709</td>\n",
       "      <td>1001.849317</td>\n",
       "      <td>-350.301265</td>\n",
       "      <td>1249.738612</td>\n",
       "      <td>-399.107531</td>\n",
       "      <td>1249.750520</td>\n",
       "      <td>-399.396730</td>\n",
       "      <td>1198.287855</td>\n",
       "      <td>-399.488594</td>\n",
       "      <td>999.472250</td>\n",
       "      <td>-399.530962</td>\n",
       "      <td>949.566189</td>\n",
       "      <td>-398.180807</td>\n",
       "      <td>24.938200</td>\n",
       "      <td>-500.490963</td>\n",
       "      <td>14.947607</td>\n",
       "      <td>-500.013837</td>\n",
       "      <td>20.018166</td>\n",
       "      <td>-450.395995</td>\n",
       "      <td>13.987058</td>\n",
       "      <td>-449.831513</td>\n",
       "      <td>12.023554</td>\n",
       "      <td>-497.795834</td>\n",
       "      <td>8.016656</td>\n",
       "      <td>-501.289139</td>\n",
       "      <td>7.946562</td>\n",
       "      <td>-432.317850</td>\n",
       "      <td>4.872511</td>\n",
       "      <td>-500.037437</td>\n",
       "      <td>26.705889</td>\n",
       "      <td>-499.709414</td>\n",
       "    </tr>\n",
       "    <tr>\n",
       "      <th>2016-09-01 01:59:59</th>\n",
       "      <td>215.392455</td>\n",
       "      <td>14.987471</td>\n",
       "      <td>8.080000</td>\n",
       "      <td>0.990469</td>\n",
       "      <td>1398.777912</td>\n",
       "      <td>-500.057435</td>\n",
       "      <td>1398.055362</td>\n",
       "      <td>-499.778182</td>\n",
       "      <td>1396.151033</td>\n",
       "      <td>-499.240168</td>\n",
       "      <td>1399.508091</td>\n",
       "      <td>-500.416324</td>\n",
       "      <td>13.036280</td>\n",
       "      <td>5.526065</td>\n",
       "      <td>490.104534</td>\n",
       "      <td>61.961163</td>\n",
       "      <td>41.187903</td>\n",
       "      <td>11.918977</td>\n",
       "      <td>17.002532</td>\n",
       "      <td>5.999043</td>\n",
       "      <td>16.996063</td>\n",
       "      <td>6.002315</td>\n",
       "      <td>998.690785</td>\n",
       "      <td>-350.425704</td>\n",
       "      <td>1248.395457</td>\n",
       "      <td>-399.946025</td>\n",
       "      <td>1249.514451</td>\n",
       "      <td>-399.630810</td>\n",
       "      <td>1200.506459</td>\n",
       "      <td>-399.942434</td>\n",
       "      <td>1000.002114</td>\n",
       "      <td>-399.491528</td>\n",
       "      <td>950.200009</td>\n",
       "      <td>-405.787514</td>\n",
       "      <td>24.923466</td>\n",
       "      <td>-499.813963</td>\n",
       "      <td>14.930873</td>\n",
       "      <td>-500.764452</td>\n",
       "      <td>19.988503</td>\n",
       "      <td>-450.114024</td>\n",
       "      <td>14.092981</td>\n",
       "      <td>-450.059163</td>\n",
       "      <td>12.058140</td>\n",
       "      <td>-498.695773</td>\n",
       "      <td>8.130979</td>\n",
       "      <td>-499.634209</td>\n",
       "      <td>7.958270</td>\n",
       "      <td>-525.839648</td>\n",
       "      <td>4.878850</td>\n",
       "      <td>-500.162375</td>\n",
       "      <td>25.019940</td>\n",
       "      <td>-499.819438</td>\n",
       "    </tr>\n",
       "    <tr>\n",
       "      <th>2016-09-01 02:59:59</th>\n",
       "      <td>215.259946</td>\n",
       "      <td>12.884934</td>\n",
       "      <td>7.786667</td>\n",
       "      <td>0.996043</td>\n",
       "      <td>1398.493666</td>\n",
       "      <td>-500.868360</td>\n",
       "      <td>1398.860436</td>\n",
       "      <td>-499.764529</td>\n",
       "      <td>1398.075709</td>\n",
       "      <td>-502.151509</td>\n",
       "      <td>1399.497088</td>\n",
       "      <td>-499.715479</td>\n",
       "      <td>13.138412</td>\n",
       "      <td>5.426561</td>\n",
       "      <td>489.617969</td>\n",
       "      <td>66.903807</td>\n",
       "      <td>42.546294</td>\n",
       "      <td>12.091332</td>\n",
       "      <td>16.992520</td>\n",
       "      <td>5.850632</td>\n",
       "      <td>16.982096</td>\n",
       "      <td>5.853594</td>\n",
       "      <td>998.516720</td>\n",
       "      <td>-349.783538</td>\n",
       "      <td>1247.440748</td>\n",
       "      <td>-400.264330</td>\n",
       "      <td>1248.207204</td>\n",
       "      <td>-401.074405</td>\n",
       "      <td>1199.770026</td>\n",
       "      <td>-400.790582</td>\n",
       "      <td>999.925519</td>\n",
       "      <td>-399.236999</td>\n",
       "      <td>950.320481</td>\n",
       "      <td>-400.864340</td>\n",
       "      <td>24.908732</td>\n",
       "      <td>-500.304035</td>\n",
       "      <td>14.996511</td>\n",
       "      <td>-500.993821</td>\n",
       "      <td>20.039689</td>\n",
       "      <td>-450.263164</td>\n",
       "      <td>14.077881</td>\n",
       "      <td>-449.660997</td>\n",
       "      <td>11.962366</td>\n",
       "      <td>-498.767484</td>\n",
       "      <td>8.096893</td>\n",
       "      <td>-500.827423</td>\n",
       "      <td>8.071056</td>\n",
       "      <td>-500.801673</td>\n",
       "      <td>4.905125</td>\n",
       "      <td>-499.828510</td>\n",
       "      <td>24.994862</td>\n",
       "      <td>-500.622559</td>\n",
       "    </tr>\n",
       "    <tr>\n",
       "      <th>2016-09-01 03:59:59</th>\n",
       "      <td>215.336236</td>\n",
       "      <td>12.006805</td>\n",
       "      <td>7.640000</td>\n",
       "      <td>0.863514</td>\n",
       "      <td>1399.618111</td>\n",
       "      <td>-498.863574</td>\n",
       "      <td>1397.440120</td>\n",
       "      <td>-499.211024</td>\n",
       "      <td>1400.129303</td>\n",
       "      <td>-498.355873</td>\n",
       "      <td>1401.065165</td>\n",
       "      <td>-501.038738</td>\n",
       "      <td>12.400507</td>\n",
       "      <td>5.114758</td>\n",
       "      <td>476.618130</td>\n",
       "      <td>59.865919</td>\n",
       "      <td>41.060195</td>\n",
       "      <td>12.181597</td>\n",
       "      <td>16.532144</td>\n",
       "      <td>5.801935</td>\n",
       "      <td>16.515277</td>\n",
       "      <td>5.803657</td>\n",
       "      <td>1000.276604</td>\n",
       "      <td>-350.172597</td>\n",
       "      <td>1251.322675</td>\n",
       "      <td>-398.655289</td>\n",
       "      <td>1250.493702</td>\n",
       "      <td>-399.746728</td>\n",
       "      <td>1199.398691</td>\n",
       "      <td>-397.503052</td>\n",
       "      <td>1001.930679</td>\n",
       "      <td>-400.437573</td>\n",
       "      <td>950.735324</td>\n",
       "      <td>-399.802986</td>\n",
       "      <td>24.893998</td>\n",
       "      <td>-499.382374</td>\n",
       "      <td>14.916674</td>\n",
       "      <td>-499.862299</td>\n",
       "      <td>20.031100</td>\n",
       "      <td>-449.372570</td>\n",
       "      <td>14.013968</td>\n",
       "      <td>-449.526900</td>\n",
       "      <td>12.033091</td>\n",
       "      <td>-498.350935</td>\n",
       "      <td>8.074946</td>\n",
       "      <td>-499.474407</td>\n",
       "      <td>7.897085</td>\n",
       "      <td>-500.868509</td>\n",
       "      <td>4.931400</td>\n",
       "      <td>-499.963623</td>\n",
       "      <td>24.948919</td>\n",
       "      <td>-498.709987</td>\n",
       "    </tr>\n",
       "    <tr>\n",
       "      <th>2016-09-01 04:59:59</th>\n",
       "      <td>199.099327</td>\n",
       "      <td>10.682530</td>\n",
       "      <td>7.530000</td>\n",
       "      <td>0.805575</td>\n",
       "      <td>1401.268123</td>\n",
       "      <td>-500.808305</td>\n",
       "      <td>1398.128818</td>\n",
       "      <td>-499.504543</td>\n",
       "      <td>1402.172226</td>\n",
       "      <td>-500.810606</td>\n",
       "      <td>1399.480508</td>\n",
       "      <td>-499.374053</td>\n",
       "      <td>11.327427</td>\n",
       "      <td>4.767383</td>\n",
       "      <td>488.248117</td>\n",
       "      <td>63.315324</td>\n",
       "      <td>41.269161</td>\n",
       "      <td>11.290425</td>\n",
       "      <td>13.607257</td>\n",
       "      <td>5.738081</td>\n",
       "      <td>13.650053</td>\n",
       "      <td>5.739634</td>\n",
       "      <td>996.541302</td>\n",
       "      <td>-350.562517</td>\n",
       "      <td>1304.658848</td>\n",
       "      <td>-399.511519</td>\n",
       "      <td>1306.455515</td>\n",
       "      <td>-399.050685</td>\n",
       "      <td>1248.699349</td>\n",
       "      <td>-400.876894</td>\n",
       "      <td>1058.839106</td>\n",
       "      <td>-398.988239</td>\n",
       "      <td>949.645313</td>\n",
       "      <td>-399.277632</td>\n",
       "      <td>24.886905</td>\n",
       "      <td>-499.357375</td>\n",
       "      <td>14.979233</td>\n",
       "      <td>-500.186804</td>\n",
       "      <td>19.962364</td>\n",
       "      <td>-450.638828</td>\n",
       "      <td>14.009245</td>\n",
       "      <td>-450.022259</td>\n",
       "      <td>12.025367</td>\n",
       "      <td>-500.786497</td>\n",
       "      <td>8.054678</td>\n",
       "      <td>-500.397500</td>\n",
       "      <td>8.107890</td>\n",
       "      <td>-509.526725</td>\n",
       "      <td>4.957674</td>\n",
       "      <td>-500.360026</td>\n",
       "      <td>25.003331</td>\n",
       "      <td>-500.856333</td>\n",
       "    </tr>\n",
       "  </tbody>\n",
       "</table>\n",
       "</div>"
      ],
      "text/plain": [
       "                     primary_cleaner.input.sulfate  \\\n",
       "date                                                 \n",
       "2016-09-01 00:59:59                     210.800909   \n",
       "2016-09-01 01:59:59                     215.392455   \n",
       "2016-09-01 02:59:59                     215.259946   \n",
       "2016-09-01 03:59:59                     215.336236   \n",
       "2016-09-01 04:59:59                     199.099327   \n",
       "\n",
       "                     primary_cleaner.input.depressant  \\\n",
       "date                                                    \n",
       "2016-09-01 00:59:59                         14.993118   \n",
       "2016-09-01 01:59:59                         14.987471   \n",
       "2016-09-01 02:59:59                         12.884934   \n",
       "2016-09-01 03:59:59                         12.006805   \n",
       "2016-09-01 04:59:59                         10.682530   \n",
       "\n",
       "                     primary_cleaner.input.feed_size  \\\n",
       "date                                                   \n",
       "2016-09-01 00:59:59                         8.080000   \n",
       "2016-09-01 01:59:59                         8.080000   \n",
       "2016-09-01 02:59:59                         7.786667   \n",
       "2016-09-01 03:59:59                         7.640000   \n",
       "2016-09-01 04:59:59                         7.530000   \n",
       "\n",
       "                     primary_cleaner.input.xanthate  \\\n",
       "date                                                  \n",
       "2016-09-01 00:59:59                        1.005021   \n",
       "2016-09-01 01:59:59                        0.990469   \n",
       "2016-09-01 02:59:59                        0.996043   \n",
       "2016-09-01 03:59:59                        0.863514   \n",
       "2016-09-01 04:59:59                        0.805575   \n",
       "\n",
       "                     primary_cleaner.state.floatbank8_a_air  \\\n",
       "date                                                          \n",
       "2016-09-01 00:59:59                             1398.981301   \n",
       "2016-09-01 01:59:59                             1398.777912   \n",
       "2016-09-01 02:59:59                             1398.493666   \n",
       "2016-09-01 03:59:59                             1399.618111   \n",
       "2016-09-01 04:59:59                             1401.268123   \n",
       "\n",
       "                     primary_cleaner.state.floatbank8_a_level  \\\n",
       "date                                                            \n",
       "2016-09-01 00:59:59                               -500.225577   \n",
       "2016-09-01 01:59:59                               -500.057435   \n",
       "2016-09-01 02:59:59                               -500.868360   \n",
       "2016-09-01 03:59:59                               -498.863574   \n",
       "2016-09-01 04:59:59                               -500.808305   \n",
       "\n",
       "                     primary_cleaner.state.floatbank8_b_air  \\\n",
       "date                                                          \n",
       "2016-09-01 00:59:59                             1399.144926   \n",
       "2016-09-01 01:59:59                             1398.055362   \n",
       "2016-09-01 02:59:59                             1398.860436   \n",
       "2016-09-01 03:59:59                             1397.440120   \n",
       "2016-09-01 04:59:59                             1398.128818   \n",
       "\n",
       "                     primary_cleaner.state.floatbank8_b_level  \\\n",
       "date                                                            \n",
       "2016-09-01 00:59:59                               -499.919735   \n",
       "2016-09-01 01:59:59                               -499.778182   \n",
       "2016-09-01 02:59:59                               -499.764529   \n",
       "2016-09-01 03:59:59                               -499.211024   \n",
       "2016-09-01 04:59:59                               -499.504543   \n",
       "\n",
       "                     primary_cleaner.state.floatbank8_c_air  \\\n",
       "date                                                          \n",
       "2016-09-01 00:59:59                             1400.102998   \n",
       "2016-09-01 01:59:59                             1396.151033   \n",
       "2016-09-01 02:59:59                             1398.075709   \n",
       "2016-09-01 03:59:59                             1400.129303   \n",
       "2016-09-01 04:59:59                             1402.172226   \n",
       "\n",
       "                     primary_cleaner.state.floatbank8_c_level  \\\n",
       "date                                                            \n",
       "2016-09-01 00:59:59                               -500.704369   \n",
       "2016-09-01 01:59:59                               -499.240168   \n",
       "2016-09-01 02:59:59                               -502.151509   \n",
       "2016-09-01 03:59:59                               -498.355873   \n",
       "2016-09-01 04:59:59                               -500.810606   \n",
       "\n",
       "                     primary_cleaner.state.floatbank8_d_air  \\\n",
       "date                                                          \n",
       "2016-09-01 00:59:59                             1399.001695   \n",
       "2016-09-01 01:59:59                             1399.508091   \n",
       "2016-09-01 02:59:59                             1399.497088   \n",
       "2016-09-01 03:59:59                             1401.065165   \n",
       "2016-09-01 04:59:59                             1399.480508   \n",
       "\n",
       "                     primary_cleaner.state.floatbank8_d_level  \\\n",
       "date                                                            \n",
       "2016-09-01 00:59:59                               -499.485144   \n",
       "2016-09-01 01:59:59                               -500.416324   \n",
       "2016-09-01 02:59:59                               -499.715479   \n",
       "2016-09-01 03:59:59                               -501.038738   \n",
       "2016-09-01 04:59:59                               -499.374053   \n",
       "\n",
       "                     rougher.input.feed_ag  rougher.input.feed_pb  \\\n",
       "date                                                                \n",
       "2016-09-01 00:59:59              13.128569               5.636710   \n",
       "2016-09-01 01:59:59              13.036280               5.526065   \n",
       "2016-09-01 02:59:59              13.138412               5.426561   \n",
       "2016-09-01 03:59:59              12.400507               5.114758   \n",
       "2016-09-01 04:59:59              11.327427               4.767383   \n",
       "\n",
       "                     rougher.input.feed_rate  rougher.input.feed_size  \\\n",
       "date                                                                    \n",
       "2016-09-01 00:59:59               489.793655                62.710452   \n",
       "2016-09-01 01:59:59               490.104534                61.961163   \n",
       "2016-09-01 02:59:59               489.617969                66.903807   \n",
       "2016-09-01 03:59:59               476.618130                59.865919   \n",
       "2016-09-01 04:59:59               488.248117                63.315324   \n",
       "\n",
       "                     rougher.input.feed_sol  rougher.input.feed_au  \\\n",
       "date                                                                 \n",
       "2016-09-01 00:59:59               42.022440              12.084103   \n",
       "2016-09-01 01:59:59               41.187903              11.918977   \n",
       "2016-09-01 02:59:59               42.546294              12.091332   \n",
       "2016-09-01 03:59:59               41.060195              12.181597   \n",
       "2016-09-01 04:59:59               41.269161              11.290425   \n",
       "\n",
       "                     rougher.input.floatbank10_sulfate  \\\n",
       "date                                                     \n",
       "2016-09-01 00:59:59                          16.922877   \n",
       "2016-09-01 01:59:59                          17.002532   \n",
       "2016-09-01 02:59:59                          16.992520   \n",
       "2016-09-01 03:59:59                          16.532144   \n",
       "2016-09-01 04:59:59                          13.607257   \n",
       "\n",
       "                     rougher.input.floatbank10_xanthate  \\\n",
       "date                                                      \n",
       "2016-09-01 00:59:59                            6.153479   \n",
       "2016-09-01 01:59:59                            5.999043   \n",
       "2016-09-01 02:59:59                            5.850632   \n",
       "2016-09-01 03:59:59                            5.801935   \n",
       "2016-09-01 04:59:59                            5.738081   \n",
       "\n",
       "                     rougher.input.floatbank11_sulfate  \\\n",
       "date                                                     \n",
       "2016-09-01 00:59:59                          16.867518   \n",
       "2016-09-01 01:59:59                          16.996063   \n",
       "2016-09-01 02:59:59                          16.982096   \n",
       "2016-09-01 03:59:59                          16.515277   \n",
       "2016-09-01 04:59:59                          13.650053   \n",
       "\n",
       "                     rougher.input.floatbank11_xanthate  \\\n",
       "date                                                      \n",
       "2016-09-01 00:59:59                            6.150709   \n",
       "2016-09-01 01:59:59                            6.002315   \n",
       "2016-09-01 02:59:59                            5.853594   \n",
       "2016-09-01 03:59:59                            5.803657   \n",
       "2016-09-01 04:59:59                            5.739634   \n",
       "\n",
       "                     rougher.state.floatbank10_a_air  \\\n",
       "date                                                   \n",
       "2016-09-01 00:59:59                      1001.849317   \n",
       "2016-09-01 01:59:59                       998.690785   \n",
       "2016-09-01 02:59:59                       998.516720   \n",
       "2016-09-01 03:59:59                      1000.276604   \n",
       "2016-09-01 04:59:59                       996.541302   \n",
       "\n",
       "                     rougher.state.floatbank10_a_level  \\\n",
       "date                                                     \n",
       "2016-09-01 00:59:59                        -350.301265   \n",
       "2016-09-01 01:59:59                        -350.425704   \n",
       "2016-09-01 02:59:59                        -349.783538   \n",
       "2016-09-01 03:59:59                        -350.172597   \n",
       "2016-09-01 04:59:59                        -350.562517   \n",
       "\n",
       "                     rougher.state.floatbank10_b_air  \\\n",
       "date                                                   \n",
       "2016-09-01 00:59:59                      1249.738612   \n",
       "2016-09-01 01:59:59                      1248.395457   \n",
       "2016-09-01 02:59:59                      1247.440748   \n",
       "2016-09-01 03:59:59                      1251.322675   \n",
       "2016-09-01 04:59:59                      1304.658848   \n",
       "\n",
       "                     rougher.state.floatbank10_b_level  \\\n",
       "date                                                     \n",
       "2016-09-01 00:59:59                        -399.107531   \n",
       "2016-09-01 01:59:59                        -399.946025   \n",
       "2016-09-01 02:59:59                        -400.264330   \n",
       "2016-09-01 03:59:59                        -398.655289   \n",
       "2016-09-01 04:59:59                        -399.511519   \n",
       "\n",
       "                     rougher.state.floatbank10_c_air  \\\n",
       "date                                                   \n",
       "2016-09-01 00:59:59                      1249.750520   \n",
       "2016-09-01 01:59:59                      1249.514451   \n",
       "2016-09-01 02:59:59                      1248.207204   \n",
       "2016-09-01 03:59:59                      1250.493702   \n",
       "2016-09-01 04:59:59                      1306.455515   \n",
       "\n",
       "                     rougher.state.floatbank10_c_level  \\\n",
       "date                                                     \n",
       "2016-09-01 00:59:59                        -399.396730   \n",
       "2016-09-01 01:59:59                        -399.630810   \n",
       "2016-09-01 02:59:59                        -401.074405   \n",
       "2016-09-01 03:59:59                        -399.746728   \n",
       "2016-09-01 04:59:59                        -399.050685   \n",
       "\n",
       "                     rougher.state.floatbank10_d_air  \\\n",
       "date                                                   \n",
       "2016-09-01 00:59:59                      1198.287855   \n",
       "2016-09-01 01:59:59                      1200.506459   \n",
       "2016-09-01 02:59:59                      1199.770026   \n",
       "2016-09-01 03:59:59                      1199.398691   \n",
       "2016-09-01 04:59:59                      1248.699349   \n",
       "\n",
       "                     rougher.state.floatbank10_d_level  \\\n",
       "date                                                     \n",
       "2016-09-01 00:59:59                        -399.488594   \n",
       "2016-09-01 01:59:59                        -399.942434   \n",
       "2016-09-01 02:59:59                        -400.790582   \n",
       "2016-09-01 03:59:59                        -397.503052   \n",
       "2016-09-01 04:59:59                        -400.876894   \n",
       "\n",
       "                     rougher.state.floatbank10_e_air  \\\n",
       "date                                                   \n",
       "2016-09-01 00:59:59                       999.472250   \n",
       "2016-09-01 01:59:59                      1000.002114   \n",
       "2016-09-01 02:59:59                       999.925519   \n",
       "2016-09-01 03:59:59                      1001.930679   \n",
       "2016-09-01 04:59:59                      1058.839106   \n",
       "\n",
       "                     rougher.state.floatbank10_e_level  \\\n",
       "date                                                     \n",
       "2016-09-01 00:59:59                        -399.530962   \n",
       "2016-09-01 01:59:59                        -399.491528   \n",
       "2016-09-01 02:59:59                        -399.236999   \n",
       "2016-09-01 03:59:59                        -400.437573   \n",
       "2016-09-01 04:59:59                        -398.988239   \n",
       "\n",
       "                     rougher.state.floatbank10_f_air  \\\n",
       "date                                                   \n",
       "2016-09-01 00:59:59                       949.566189   \n",
       "2016-09-01 01:59:59                       950.200009   \n",
       "2016-09-01 02:59:59                       950.320481   \n",
       "2016-09-01 03:59:59                       950.735324   \n",
       "2016-09-01 04:59:59                       949.645313   \n",
       "\n",
       "                     rougher.state.floatbank10_f_level  \\\n",
       "date                                                     \n",
       "2016-09-01 00:59:59                        -398.180807   \n",
       "2016-09-01 01:59:59                        -405.787514   \n",
       "2016-09-01 02:59:59                        -400.864340   \n",
       "2016-09-01 03:59:59                        -399.802986   \n",
       "2016-09-01 04:59:59                        -399.277632   \n",
       "\n",
       "                     secondary_cleaner.state.floatbank2_a_air  \\\n",
       "date                                                            \n",
       "2016-09-01 00:59:59                                 24.938200   \n",
       "2016-09-01 01:59:59                                 24.923466   \n",
       "2016-09-01 02:59:59                                 24.908732   \n",
       "2016-09-01 03:59:59                                 24.893998   \n",
       "2016-09-01 04:59:59                                 24.886905   \n",
       "\n",
       "                     secondary_cleaner.state.floatbank2_a_level  \\\n",
       "date                                                              \n",
       "2016-09-01 00:59:59                                 -500.490963   \n",
       "2016-09-01 01:59:59                                 -499.813963   \n",
       "2016-09-01 02:59:59                                 -500.304035   \n",
       "2016-09-01 03:59:59                                 -499.382374   \n",
       "2016-09-01 04:59:59                                 -499.357375   \n",
       "\n",
       "                     secondary_cleaner.state.floatbank2_b_air  \\\n",
       "date                                                            \n",
       "2016-09-01 00:59:59                                 14.947607   \n",
       "2016-09-01 01:59:59                                 14.930873   \n",
       "2016-09-01 02:59:59                                 14.996511   \n",
       "2016-09-01 03:59:59                                 14.916674   \n",
       "2016-09-01 04:59:59                                 14.979233   \n",
       "\n",
       "                     secondary_cleaner.state.floatbank2_b_level  \\\n",
       "date                                                              \n",
       "2016-09-01 00:59:59                                 -500.013837   \n",
       "2016-09-01 01:59:59                                 -500.764452   \n",
       "2016-09-01 02:59:59                                 -500.993821   \n",
       "2016-09-01 03:59:59                                 -499.862299   \n",
       "2016-09-01 04:59:59                                 -500.186804   \n",
       "\n",
       "                     secondary_cleaner.state.floatbank3_a_air  \\\n",
       "date                                                            \n",
       "2016-09-01 00:59:59                                 20.018166   \n",
       "2016-09-01 01:59:59                                 19.988503   \n",
       "2016-09-01 02:59:59                                 20.039689   \n",
       "2016-09-01 03:59:59                                 20.031100   \n",
       "2016-09-01 04:59:59                                 19.962364   \n",
       "\n",
       "                     secondary_cleaner.state.floatbank3_a_level  \\\n",
       "date                                                              \n",
       "2016-09-01 00:59:59                                 -450.395995   \n",
       "2016-09-01 01:59:59                                 -450.114024   \n",
       "2016-09-01 02:59:59                                 -450.263164   \n",
       "2016-09-01 03:59:59                                 -449.372570   \n",
       "2016-09-01 04:59:59                                 -450.638828   \n",
       "\n",
       "                     secondary_cleaner.state.floatbank3_b_air  \\\n",
       "date                                                            \n",
       "2016-09-01 00:59:59                                 13.987058   \n",
       "2016-09-01 01:59:59                                 14.092981   \n",
       "2016-09-01 02:59:59                                 14.077881   \n",
       "2016-09-01 03:59:59                                 14.013968   \n",
       "2016-09-01 04:59:59                                 14.009245   \n",
       "\n",
       "                     secondary_cleaner.state.floatbank3_b_level  \\\n",
       "date                                                              \n",
       "2016-09-01 00:59:59                                 -449.831513   \n",
       "2016-09-01 01:59:59                                 -450.059163   \n",
       "2016-09-01 02:59:59                                 -449.660997   \n",
       "2016-09-01 03:59:59                                 -449.526900   \n",
       "2016-09-01 04:59:59                                 -450.022259   \n",
       "\n",
       "                     secondary_cleaner.state.floatbank4_a_air  \\\n",
       "date                                                            \n",
       "2016-09-01 00:59:59                                 12.023554   \n",
       "2016-09-01 01:59:59                                 12.058140   \n",
       "2016-09-01 02:59:59                                 11.962366   \n",
       "2016-09-01 03:59:59                                 12.033091   \n",
       "2016-09-01 04:59:59                                 12.025367   \n",
       "\n",
       "                     secondary_cleaner.state.floatbank4_a_level  \\\n",
       "date                                                              \n",
       "2016-09-01 00:59:59                                 -497.795834   \n",
       "2016-09-01 01:59:59                                 -498.695773   \n",
       "2016-09-01 02:59:59                                 -498.767484   \n",
       "2016-09-01 03:59:59                                 -498.350935   \n",
       "2016-09-01 04:59:59                                 -500.786497   \n",
       "\n",
       "                     secondary_cleaner.state.floatbank4_b_air  \\\n",
       "date                                                            \n",
       "2016-09-01 00:59:59                                  8.016656   \n",
       "2016-09-01 01:59:59                                  8.130979   \n",
       "2016-09-01 02:59:59                                  8.096893   \n",
       "2016-09-01 03:59:59                                  8.074946   \n",
       "2016-09-01 04:59:59                                  8.054678   \n",
       "\n",
       "                     secondary_cleaner.state.floatbank4_b_level  \\\n",
       "date                                                              \n",
       "2016-09-01 00:59:59                                 -501.289139   \n",
       "2016-09-01 01:59:59                                 -499.634209   \n",
       "2016-09-01 02:59:59                                 -500.827423   \n",
       "2016-09-01 03:59:59                                 -499.474407   \n",
       "2016-09-01 04:59:59                                 -500.397500   \n",
       "\n",
       "                     secondary_cleaner.state.floatbank5_a_air  \\\n",
       "date                                                            \n",
       "2016-09-01 00:59:59                                  7.946562   \n",
       "2016-09-01 01:59:59                                  7.958270   \n",
       "2016-09-01 02:59:59                                  8.071056   \n",
       "2016-09-01 03:59:59                                  7.897085   \n",
       "2016-09-01 04:59:59                                  8.107890   \n",
       "\n",
       "                     secondary_cleaner.state.floatbank5_a_level  \\\n",
       "date                                                              \n",
       "2016-09-01 00:59:59                                 -432.317850   \n",
       "2016-09-01 01:59:59                                 -525.839648   \n",
       "2016-09-01 02:59:59                                 -500.801673   \n",
       "2016-09-01 03:59:59                                 -500.868509   \n",
       "2016-09-01 04:59:59                                 -509.526725   \n",
       "\n",
       "                     secondary_cleaner.state.floatbank5_b_air  \\\n",
       "date                                                            \n",
       "2016-09-01 00:59:59                                  4.872511   \n",
       "2016-09-01 01:59:59                                  4.878850   \n",
       "2016-09-01 02:59:59                                  4.905125   \n",
       "2016-09-01 03:59:59                                  4.931400   \n",
       "2016-09-01 04:59:59                                  4.957674   \n",
       "\n",
       "                     secondary_cleaner.state.floatbank5_b_level  \\\n",
       "date                                                              \n",
       "2016-09-01 00:59:59                                 -500.037437   \n",
       "2016-09-01 01:59:59                                 -500.162375   \n",
       "2016-09-01 02:59:59                                 -499.828510   \n",
       "2016-09-01 03:59:59                                 -499.963623   \n",
       "2016-09-01 04:59:59                                 -500.360026   \n",
       "\n",
       "                     secondary_cleaner.state.floatbank6_a_air  \\\n",
       "date                                                            \n",
       "2016-09-01 00:59:59                                 26.705889   \n",
       "2016-09-01 01:59:59                                 25.019940   \n",
       "2016-09-01 02:59:59                                 24.994862   \n",
       "2016-09-01 03:59:59                                 24.948919   \n",
       "2016-09-01 04:59:59                                 25.003331   \n",
       "\n",
       "                     secondary_cleaner.state.floatbank6_a_level  \n",
       "date                                                             \n",
       "2016-09-01 00:59:59                                 -499.709414  \n",
       "2016-09-01 01:59:59                                 -499.819438  \n",
       "2016-09-01 02:59:59                                 -500.622559  \n",
       "2016-09-01 03:59:59                                 -498.709987  \n",
       "2016-09-01 04:59:59                                 -500.856333  "
      ]
     },
     "metadata": {},
     "output_type": "display_data"
    },
    {
     "name": "stdout",
     "output_type": "stream",
     "text": [
      "<class 'pandas.core.frame.DataFrame'>\n",
      "Index: 5290 entries, 2016-09-01 00:59:59 to 2017-12-31 23:59:59\n",
      "Data columns (total 52 columns):\n",
      " #   Column                                      Non-Null Count  Dtype  \n",
      "---  ------                                      --------------  -----  \n",
      " 0   primary_cleaner.input.sulfate               5286 non-null   float64\n",
      " 1   primary_cleaner.input.depressant            5285 non-null   float64\n",
      " 2   primary_cleaner.input.feed_size             5290 non-null   float64\n",
      " 3   primary_cleaner.input.xanthate              5286 non-null   float64\n",
      " 4   primary_cleaner.state.floatbank8_a_air      5290 non-null   float64\n",
      " 5   primary_cleaner.state.floatbank8_a_level    5290 non-null   float64\n",
      " 6   primary_cleaner.state.floatbank8_b_air      5290 non-null   float64\n",
      " 7   primary_cleaner.state.floatbank8_b_level    5290 non-null   float64\n",
      " 8   primary_cleaner.state.floatbank8_c_air      5290 non-null   float64\n",
      " 9   primary_cleaner.state.floatbank8_c_level    5290 non-null   float64\n",
      " 10  primary_cleaner.state.floatbank8_d_air      5290 non-null   float64\n",
      " 11  primary_cleaner.state.floatbank8_d_level    5290 non-null   float64\n",
      " 12  rougher.input.feed_ag                       5290 non-null   float64\n",
      " 13  rougher.input.feed_pb                       5290 non-null   float64\n",
      " 14  rougher.input.feed_rate                     5287 non-null   float64\n",
      " 15  rougher.input.feed_size                     5289 non-null   float64\n",
      " 16  rougher.input.feed_sol                      5269 non-null   float64\n",
      " 17  rougher.input.feed_au                       5290 non-null   float64\n",
      " 18  rougher.input.floatbank10_sulfate           5285 non-null   float64\n",
      " 19  rougher.input.floatbank10_xanthate          5290 non-null   float64\n",
      " 20  rougher.input.floatbank11_sulfate           5282 non-null   float64\n",
      " 21  rougher.input.floatbank11_xanthate          5265 non-null   float64\n",
      " 22  rougher.state.floatbank10_a_air             5290 non-null   float64\n",
      " 23  rougher.state.floatbank10_a_level           5290 non-null   float64\n",
      " 24  rougher.state.floatbank10_b_air             5290 non-null   float64\n",
      " 25  rougher.state.floatbank10_b_level           5290 non-null   float64\n",
      " 26  rougher.state.floatbank10_c_air             5290 non-null   float64\n",
      " 27  rougher.state.floatbank10_c_level           5290 non-null   float64\n",
      " 28  rougher.state.floatbank10_d_air             5290 non-null   float64\n",
      " 29  rougher.state.floatbank10_d_level           5290 non-null   float64\n",
      " 30  rougher.state.floatbank10_e_air             5290 non-null   float64\n",
      " 31  rougher.state.floatbank10_e_level           5290 non-null   float64\n",
      " 32  rougher.state.floatbank10_f_air             5290 non-null   float64\n",
      " 33  rougher.state.floatbank10_f_level           5290 non-null   float64\n",
      " 34  secondary_cleaner.state.floatbank2_a_air    5287 non-null   float64\n",
      " 35  secondary_cleaner.state.floatbank2_a_level  5290 non-null   float64\n",
      " 36  secondary_cleaner.state.floatbank2_b_air    5288 non-null   float64\n",
      " 37  secondary_cleaner.state.floatbank2_b_level  5290 non-null   float64\n",
      " 38  secondary_cleaner.state.floatbank3_a_air    5281 non-null   float64\n",
      " 39  secondary_cleaner.state.floatbank3_a_level  5290 non-null   float64\n",
      " 40  secondary_cleaner.state.floatbank3_b_air    5290 non-null   float64\n",
      " 41  secondary_cleaner.state.floatbank3_b_level  5290 non-null   float64\n",
      " 42  secondary_cleaner.state.floatbank4_a_air    5290 non-null   float64\n",
      " 43  secondary_cleaner.state.floatbank4_a_level  5290 non-null   float64\n",
      " 44  secondary_cleaner.state.floatbank4_b_air    5290 non-null   float64\n",
      " 45  secondary_cleaner.state.floatbank4_b_level  5290 non-null   float64\n",
      " 46  secondary_cleaner.state.floatbank5_a_air    5290 non-null   float64\n",
      " 47  secondary_cleaner.state.floatbank5_a_level  5290 non-null   float64\n",
      " 48  secondary_cleaner.state.floatbank5_b_air    5290 non-null   float64\n",
      " 49  secondary_cleaner.state.floatbank5_b_level  5290 non-null   float64\n",
      " 50  secondary_cleaner.state.floatbank6_a_air    5290 non-null   float64\n",
      " 51  secondary_cleaner.state.floatbank6_a_level  5290 non-null   float64\n",
      "dtypes: float64(52)\n",
      "memory usage: 2.1+ MB\n"
     ]
    },
    {
     "data": {
      "text/html": [
       "<div>\n",
       "<style scoped>\n",
       "    .dataframe tbody tr th:only-of-type {\n",
       "        vertical-align: middle;\n",
       "    }\n",
       "\n",
       "    .dataframe tbody tr th {\n",
       "        vertical-align: top;\n",
       "    }\n",
       "\n",
       "    .dataframe thead th {\n",
       "        text-align: right;\n",
       "    }\n",
       "</style>\n",
       "<table border=\"1\" class=\"dataframe\">\n",
       "  <thead>\n",
       "    <tr style=\"text-align: right;\">\n",
       "      <th></th>\n",
       "      <th>primary_cleaner.input.sulfate</th>\n",
       "      <th>primary_cleaner.input.depressant</th>\n",
       "      <th>primary_cleaner.input.feed_size</th>\n",
       "      <th>primary_cleaner.input.xanthate</th>\n",
       "      <th>primary_cleaner.state.floatbank8_a_air</th>\n",
       "      <th>primary_cleaner.state.floatbank8_a_level</th>\n",
       "      <th>primary_cleaner.state.floatbank8_b_air</th>\n",
       "      <th>primary_cleaner.state.floatbank8_b_level</th>\n",
       "      <th>primary_cleaner.state.floatbank8_c_air</th>\n",
       "      <th>primary_cleaner.state.floatbank8_c_level</th>\n",
       "      <th>primary_cleaner.state.floatbank8_d_air</th>\n",
       "      <th>primary_cleaner.state.floatbank8_d_level</th>\n",
       "      <th>rougher.input.feed_ag</th>\n",
       "      <th>rougher.input.feed_pb</th>\n",
       "      <th>rougher.input.feed_rate</th>\n",
       "      <th>rougher.input.feed_size</th>\n",
       "      <th>rougher.input.feed_sol</th>\n",
       "      <th>rougher.input.feed_au</th>\n",
       "      <th>rougher.input.floatbank10_sulfate</th>\n",
       "      <th>rougher.input.floatbank10_xanthate</th>\n",
       "      <th>rougher.input.floatbank11_sulfate</th>\n",
       "      <th>rougher.input.floatbank11_xanthate</th>\n",
       "      <th>rougher.state.floatbank10_a_air</th>\n",
       "      <th>rougher.state.floatbank10_a_level</th>\n",
       "      <th>rougher.state.floatbank10_b_air</th>\n",
       "      <th>rougher.state.floatbank10_b_level</th>\n",
       "      <th>rougher.state.floatbank10_c_air</th>\n",
       "      <th>rougher.state.floatbank10_c_level</th>\n",
       "      <th>rougher.state.floatbank10_d_air</th>\n",
       "      <th>rougher.state.floatbank10_d_level</th>\n",
       "      <th>rougher.state.floatbank10_e_air</th>\n",
       "      <th>rougher.state.floatbank10_e_level</th>\n",
       "      <th>rougher.state.floatbank10_f_air</th>\n",
       "      <th>rougher.state.floatbank10_f_level</th>\n",
       "      <th>secondary_cleaner.state.floatbank2_a_air</th>\n",
       "      <th>secondary_cleaner.state.floatbank2_a_level</th>\n",
       "      <th>secondary_cleaner.state.floatbank2_b_air</th>\n",
       "      <th>secondary_cleaner.state.floatbank2_b_level</th>\n",
       "      <th>secondary_cleaner.state.floatbank3_a_air</th>\n",
       "      <th>secondary_cleaner.state.floatbank3_a_level</th>\n",
       "      <th>secondary_cleaner.state.floatbank3_b_air</th>\n",
       "      <th>secondary_cleaner.state.floatbank3_b_level</th>\n",
       "      <th>secondary_cleaner.state.floatbank4_a_air</th>\n",
       "      <th>secondary_cleaner.state.floatbank4_a_level</th>\n",
       "      <th>secondary_cleaner.state.floatbank4_b_air</th>\n",
       "      <th>secondary_cleaner.state.floatbank4_b_level</th>\n",
       "      <th>secondary_cleaner.state.floatbank5_a_air</th>\n",
       "      <th>secondary_cleaner.state.floatbank5_a_level</th>\n",
       "      <th>secondary_cleaner.state.floatbank5_b_air</th>\n",
       "      <th>secondary_cleaner.state.floatbank5_b_level</th>\n",
       "      <th>secondary_cleaner.state.floatbank6_a_air</th>\n",
       "      <th>secondary_cleaner.state.floatbank6_a_level</th>\n",
       "    </tr>\n",
       "  </thead>\n",
       "  <tbody>\n",
       "    <tr>\n",
       "      <th>count</th>\n",
       "      <td>5286.000000</td>\n",
       "      <td>5285.000000</td>\n",
       "      <td>5290.000000</td>\n",
       "      <td>5286.000000</td>\n",
       "      <td>5.290000e+03</td>\n",
       "      <td>5290.000000</td>\n",
       "      <td>5.290000e+03</td>\n",
       "      <td>5290.000000</td>\n",
       "      <td>5.290000e+03</td>\n",
       "      <td>5290.000000</td>\n",
       "      <td>5.290000e+03</td>\n",
       "      <td>5290.000000</td>\n",
       "      <td>5290.000000</td>\n",
       "      <td>5290.000000</td>\n",
       "      <td>5287.000000</td>\n",
       "      <td>5289.000000</td>\n",
       "      <td>5269.000000</td>\n",
       "      <td>5290.000000</td>\n",
       "      <td>5285.000000</td>\n",
       "      <td>5290.000000</td>\n",
       "      <td>5282.000000</td>\n",
       "      <td>5265.000000</td>\n",
       "      <td>5290.000000</td>\n",
       "      <td>5290.000000</td>\n",
       "      <td>5290.000000</td>\n",
       "      <td>5290.000000</td>\n",
       "      <td>5290.000000</td>\n",
       "      <td>5290.000000</td>\n",
       "      <td>5290.000000</td>\n",
       "      <td>5290.000000</td>\n",
       "      <td>5290.000000</td>\n",
       "      <td>5290.000000</td>\n",
       "      <td>5290.000000</td>\n",
       "      <td>5290.000000</td>\n",
       "      <td>5287.000000</td>\n",
       "      <td>5290.000000</td>\n",
       "      <td>5288.000000</td>\n",
       "      <td>5290.000000</td>\n",
       "      <td>5281.000000</td>\n",
       "      <td>5290.000000</td>\n",
       "      <td>5.290000e+03</td>\n",
       "      <td>5290.000000</td>\n",
       "      <td>5.290000e+03</td>\n",
       "      <td>5290.000000</td>\n",
       "      <td>5.290000e+03</td>\n",
       "      <td>5290.000000</td>\n",
       "      <td>5290.000000</td>\n",
       "      <td>5290.000000</td>\n",
       "      <td>5290.000000</td>\n",
       "      <td>5290.000000</td>\n",
       "      <td>5290.000000</td>\n",
       "      <td>5290.000000</td>\n",
       "    </tr>\n",
       "    <tr>\n",
       "      <th>mean</th>\n",
       "      <td>174.839652</td>\n",
       "      <td>8.683596</td>\n",
       "      <td>7.266339</td>\n",
       "      <td>1.383803</td>\n",
       "      <td>1.539494e+03</td>\n",
       "      <td>-497.665883</td>\n",
       "      <td>1.545174e+03</td>\n",
       "      <td>-500.273098</td>\n",
       "      <td>1.527272e+03</td>\n",
       "      <td>-498.330680</td>\n",
       "      <td>1.544844e+03</td>\n",
       "      <td>-500.199527</td>\n",
       "      <td>9.371940</td>\n",
       "      <td>3.798082</td>\n",
       "      <td>489.800620</td>\n",
       "      <td>55.951097</td>\n",
       "      <td>37.716648</td>\n",
       "      <td>9.334682</td>\n",
       "      <td>13.855759</td>\n",
       "      <td>6.467745</td>\n",
       "      <td>13.922328</td>\n",
       "      <td>6.512103</td>\n",
       "      <td>1053.400166</td>\n",
       "      <td>-395.732530</td>\n",
       "      <td>1318.926879</td>\n",
       "      <td>-475.241428</td>\n",
       "      <td>1301.595477</td>\n",
       "      <td>-474.836671</td>\n",
       "      <td>1214.847960</td>\n",
       "      <td>-475.682272</td>\n",
       "      <td>1056.648995</td>\n",
       "      <td>-469.029688</td>\n",
       "      <td>997.949719</td>\n",
       "      <td>-470.482465</td>\n",
       "      <td>26.312630</td>\n",
       "      <td>-502.750897</td>\n",
       "      <td>21.949119</td>\n",
       "      <td>-501.987097</td>\n",
       "      <td>25.402926</td>\n",
       "      <td>-507.490314</td>\n",
       "      <td>2.098211e+01</td>\n",
       "      <td>-506.627916</td>\n",
       "      <td>1.632007e+01</td>\n",
       "      <td>-505.144570</td>\n",
       "      <td>1.373544e+01</td>\n",
       "      <td>-463.349858</td>\n",
       "      <td>12.804186</td>\n",
       "      <td>-501.329122</td>\n",
       "      <td>9.881145</td>\n",
       "      <td>-495.663398</td>\n",
       "      <td>17.304935</td>\n",
       "      <td>-501.793193</td>\n",
       "    </tr>\n",
       "    <tr>\n",
       "      <th>std</th>\n",
       "      <td>43.027080</td>\n",
       "      <td>3.072050</td>\n",
       "      <td>0.610219</td>\n",
       "      <td>0.643474</td>\n",
       "      <td>1.167979e+02</td>\n",
       "      <td>19.952431</td>\n",
       "      <td>1.222246e+02</td>\n",
       "      <td>32.968307</td>\n",
       "      <td>1.225380e+02</td>\n",
       "      <td>21.964876</td>\n",
       "      <td>1.247731e+02</td>\n",
       "      <td>31.045257</td>\n",
       "      <td>1.926264</td>\n",
       "      <td>0.954859</td>\n",
       "      <td>108.036326</td>\n",
       "      <td>19.081758</td>\n",
       "      <td>5.491415</td>\n",
       "      <td>1.619521</td>\n",
       "      <td>3.350852</td>\n",
       "      <td>1.065114</td>\n",
       "      <td>3.223769</td>\n",
       "      <td>0.886989</td>\n",
       "      <td>121.139309</td>\n",
       "      <td>91.085505</td>\n",
       "      <td>156.450366</td>\n",
       "      <td>45.649466</td>\n",
       "      <td>171.269667</td>\n",
       "      <td>45.859866</td>\n",
       "      <td>185.763319</td>\n",
       "      <td>47.844967</td>\n",
       "      <td>131.542839</td>\n",
       "      <td>59.325990</td>\n",
       "      <td>128.218869</td>\n",
       "      <td>60.759318</td>\n",
       "      <td>3.429852</td>\n",
       "      <td>28.756505</td>\n",
       "      <td>4.354961</td>\n",
       "      <td>34.582722</td>\n",
       "      <td>6.526457</td>\n",
       "      <td>47.620908</td>\n",
       "      <td>6.736179e+00</td>\n",
       "      <td>44.528673</td>\n",
       "      <td>3.493583e+00</td>\n",
       "      <td>31.427337</td>\n",
       "      <td>3.430484e+00</td>\n",
       "      <td>86.189107</td>\n",
       "      <td>3.026591</td>\n",
       "      <td>17.951495</td>\n",
       "      <td>2.868205</td>\n",
       "      <td>34.535007</td>\n",
       "      <td>4.536544</td>\n",
       "      <td>39.044215</td>\n",
       "    </tr>\n",
       "    <tr>\n",
       "      <th>min</th>\n",
       "      <td>2.566156</td>\n",
       "      <td>0.003839</td>\n",
       "      <td>5.650000</td>\n",
       "      <td>0.004984</td>\n",
       "      <td>5.445860e-32</td>\n",
       "      <td>-795.316337</td>\n",
       "      <td>6.647490e-32</td>\n",
       "      <td>-799.997015</td>\n",
       "      <td>4.033736e-32</td>\n",
       "      <td>-799.960571</td>\n",
       "      <td>4.039220e-32</td>\n",
       "      <td>-799.794250</td>\n",
       "      <td>0.568441</td>\n",
       "      <td>0.273677</td>\n",
       "      <td>0.002986</td>\n",
       "      <td>0.046369</td>\n",
       "      <td>1.393488</td>\n",
       "      <td>0.568632</td>\n",
       "      <td>0.001147</td>\n",
       "      <td>0.000568</td>\n",
       "      <td>0.000077</td>\n",
       "      <td>0.006985</td>\n",
       "      <td>-0.042069</td>\n",
       "      <td>-657.949759</td>\n",
       "      <td>-0.721806</td>\n",
       "      <td>-650.245277</td>\n",
       "      <td>-0.056636</td>\n",
       "      <td>-647.544439</td>\n",
       "      <td>-0.992219</td>\n",
       "      <td>-648.390665</td>\n",
       "      <td>-1.982295</td>\n",
       "      <td>-649.267537</td>\n",
       "      <td>-2.593390</td>\n",
       "      <td>-649.949283</td>\n",
       "      <td>0.205329</td>\n",
       "      <td>-784.091091</td>\n",
       "      <td>0.006064</td>\n",
       "      <td>-797.783989</td>\n",
       "      <td>0.000000</td>\n",
       "      <td>-799.755798</td>\n",
       "      <td>1.521587e-17</td>\n",
       "      <td>-809.333008</td>\n",
       "      <td>1.079872e-16</td>\n",
       "      <td>-799.798523</td>\n",
       "      <td>2.489718e-17</td>\n",
       "      <td>-800.836914</td>\n",
       "      <td>0.069227</td>\n",
       "      <td>-797.323986</td>\n",
       "      <td>0.528083</td>\n",
       "      <td>-800.220337</td>\n",
       "      <td>-0.079426</td>\n",
       "      <td>-809.741464</td>\n",
       "    </tr>\n",
       "    <tr>\n",
       "      <th>25%</th>\n",
       "      <td>147.121401</td>\n",
       "      <td>6.489555</td>\n",
       "      <td>6.890000</td>\n",
       "      <td>0.907623</td>\n",
       "      <td>1.498936e+03</td>\n",
       "      <td>-500.357298</td>\n",
       "      <td>1.498971e+03</td>\n",
       "      <td>-500.703002</td>\n",
       "      <td>1.473230e+03</td>\n",
       "      <td>-501.018117</td>\n",
       "      <td>1.499481e+03</td>\n",
       "      <td>-500.452469</td>\n",
       "      <td>8.112434</td>\n",
       "      <td>3.240251</td>\n",
       "      <td>407.020883</td>\n",
       "      <td>43.906347</td>\n",
       "      <td>34.505576</td>\n",
       "      <td>8.207814</td>\n",
       "      <td>11.995006</td>\n",
       "      <td>5.998779</td>\n",
       "      <td>11.997200</td>\n",
       "      <td>5.999157</td>\n",
       "      <td>999.205344</td>\n",
       "      <td>-499.920565</td>\n",
       "      <td>1200.871883</td>\n",
       "      <td>-500.256114</td>\n",
       "      <td>1199.651371</td>\n",
       "      <td>-500.233831</td>\n",
       "      <td>1093.368068</td>\n",
       "      <td>-500.440610</td>\n",
       "      <td>999.361403</td>\n",
       "      <td>-500.190639</td>\n",
       "      <td>901.024994</td>\n",
       "      <td>-500.624783</td>\n",
       "      <td>24.942328</td>\n",
       "      <td>-500.206517</td>\n",
       "      <td>20.002315</td>\n",
       "      <td>-500.218030</td>\n",
       "      <td>22.982288</td>\n",
       "      <td>-500.297951</td>\n",
       "      <td>1.796786e+01</td>\n",
       "      <td>-500.145128</td>\n",
       "      <td>1.403618e+01</td>\n",
       "      <td>-500.868258</td>\n",
       "      <td>1.202862e+01</td>\n",
       "      <td>-500.323028</td>\n",
       "      <td>10.914838</td>\n",
       "      <td>-500.726841</td>\n",
       "      <td>8.036719</td>\n",
       "      <td>-500.194668</td>\n",
       "      <td>13.997317</td>\n",
       "      <td>-500.690984</td>\n",
       "    </tr>\n",
       "    <tr>\n",
       "      <th>50%</th>\n",
       "      <td>177.828489</td>\n",
       "      <td>8.052207</td>\n",
       "      <td>7.250000</td>\n",
       "      <td>1.197610</td>\n",
       "      <td>1.585129e+03</td>\n",
       "      <td>-499.969164</td>\n",
       "      <td>1.595622e+03</td>\n",
       "      <td>-500.028514</td>\n",
       "      <td>1.549595e+03</td>\n",
       "      <td>-500.017711</td>\n",
       "      <td>1.594579e+03</td>\n",
       "      <td>-500.023307</td>\n",
       "      <td>9.762654</td>\n",
       "      <td>3.740716</td>\n",
       "      <td>499.051440</td>\n",
       "      <td>50.841029</td>\n",
       "      <td>37.980276</td>\n",
       "      <td>9.593766</td>\n",
       "      <td>14.003126</td>\n",
       "      <td>6.498181</td>\n",
       "      <td>14.004371</td>\n",
       "      <td>6.498744</td>\n",
       "      <td>1000.472055</td>\n",
       "      <td>-399.693363</td>\n",
       "      <td>1302.254995</td>\n",
       "      <td>-499.837803</td>\n",
       "      <td>1300.202274</td>\n",
       "      <td>-499.777222</td>\n",
       "      <td>1207.014092</td>\n",
       "      <td>-499.691917</td>\n",
       "      <td>1047.495449</td>\n",
       "      <td>-499.765796</td>\n",
       "      <td>999.441879</td>\n",
       "      <td>-499.680986</td>\n",
       "      <td>26.910569</td>\n",
       "      <td>-500.003902</td>\n",
       "      <td>22.942603</td>\n",
       "      <td>-500.019058</td>\n",
       "      <td>25.010105</td>\n",
       "      <td>-500.034578</td>\n",
       "      <td>2.100316e+01</td>\n",
       "      <td>-500.013819</td>\n",
       "      <td>1.700847e+01</td>\n",
       "      <td>-500.115727</td>\n",
       "      <td>1.496486e+01</td>\n",
       "      <td>-499.576513</td>\n",
       "      <td>12.954182</td>\n",
       "      <td>-499.990332</td>\n",
       "      <td>10.004301</td>\n",
       "      <td>-499.990535</td>\n",
       "      <td>16.014935</td>\n",
       "      <td>-500.007126</td>\n",
       "    </tr>\n",
       "    <tr>\n",
       "      <th>75%</th>\n",
       "      <td>208.125438</td>\n",
       "      <td>10.027764</td>\n",
       "      <td>7.600000</td>\n",
       "      <td>1.797819</td>\n",
       "      <td>1.602077e+03</td>\n",
       "      <td>-499.568951</td>\n",
       "      <td>1.602324e+03</td>\n",
       "      <td>-499.293257</td>\n",
       "      <td>1.601144e+03</td>\n",
       "      <td>-498.994130</td>\n",
       "      <td>1.600965e+03</td>\n",
       "      <td>-499.607040</td>\n",
       "      <td>10.652297</td>\n",
       "      <td>4.282634</td>\n",
       "      <td>575.307213</td>\n",
       "      <td>62.431047</td>\n",
       "      <td>41.635385</td>\n",
       "      <td>10.463538</td>\n",
       "      <td>16.974284</td>\n",
       "      <td>7.085457</td>\n",
       "      <td>16.959671</td>\n",
       "      <td>7.091808</td>\n",
       "      <td>1006.254299</td>\n",
       "      <td>-300.060056</td>\n",
       "      <td>1433.955649</td>\n",
       "      <td>-450.749619</td>\n",
       "      <td>1406.594956</td>\n",
       "      <td>-451.153188</td>\n",
       "      <td>1391.497269</td>\n",
       "      <td>-452.483463</td>\n",
       "      <td>1101.365315</td>\n",
       "      <td>-450.957513</td>\n",
       "      <td>1050.433005</td>\n",
       "      <td>-451.986460</td>\n",
       "      <td>28.091885</td>\n",
       "      <td>-499.791639</td>\n",
       "      <td>24.985013</td>\n",
       "      <td>-499.831532</td>\n",
       "      <td>30.002063</td>\n",
       "      <td>-499.780163</td>\n",
       "      <td>2.697698e+01</td>\n",
       "      <td>-499.890608</td>\n",
       "      <td>1.803862e+01</td>\n",
       "      <td>-499.404224</td>\n",
       "      <td>1.596213e+01</td>\n",
       "      <td>-400.933805</td>\n",
       "      <td>15.097528</td>\n",
       "      <td>-499.283191</td>\n",
       "      <td>11.997467</td>\n",
       "      <td>-499.719913</td>\n",
       "      <td>21.020013</td>\n",
       "      <td>-499.373018</td>\n",
       "    </tr>\n",
       "    <tr>\n",
       "      <th>max</th>\n",
       "      <td>265.983123</td>\n",
       "      <td>40.000000</td>\n",
       "      <td>15.500000</td>\n",
       "      <td>4.102454</td>\n",
       "      <td>2.103104e+03</td>\n",
       "      <td>-57.195404</td>\n",
       "      <td>1.813084e+03</td>\n",
       "      <td>-142.527229</td>\n",
       "      <td>1.715054e+03</td>\n",
       "      <td>-150.937035</td>\n",
       "      <td>1.913257e+03</td>\n",
       "      <td>-158.950573</td>\n",
       "      <td>14.406130</td>\n",
       "      <td>6.905684</td>\n",
       "      <td>707.364020</td>\n",
       "      <td>392.494040</td>\n",
       "      <td>53.477742</td>\n",
       "      <td>13.731330</td>\n",
       "      <td>24.280636</td>\n",
       "      <td>8.910468</td>\n",
       "      <td>24.280966</td>\n",
       "      <td>8.621338</td>\n",
       "      <td>1423.274687</td>\n",
       "      <td>-273.776101</td>\n",
       "      <td>1706.640419</td>\n",
       "      <td>-298.200051</td>\n",
       "      <td>1731.017788</td>\n",
       "      <td>-298.036852</td>\n",
       "      <td>1775.218584</td>\n",
       "      <td>-76.397327</td>\n",
       "      <td>1467.184843</td>\n",
       "      <td>-139.753025</td>\n",
       "      <td>1476.588107</td>\n",
       "      <td>-249.801043</td>\n",
       "      <td>32.138727</td>\n",
       "      <td>-300.343670</td>\n",
       "      <td>28.165864</td>\n",
       "      <td>-211.999273</td>\n",
       "      <td>40.041997</td>\n",
       "      <td>-313.866425</td>\n",
       "      <td>3.203936e+01</td>\n",
       "      <td>-202.277366</td>\n",
       "      <td>3.005180e+01</td>\n",
       "      <td>-401.565212</td>\n",
       "      <td>3.126971e+01</td>\n",
       "      <td>-6.506986</td>\n",
       "      <td>25.258848</td>\n",
       "      <td>-244.483566</td>\n",
       "      <td>14.086866</td>\n",
       "      <td>-137.740004</td>\n",
       "      <td>26.705889</td>\n",
       "      <td>-123.307487</td>\n",
       "    </tr>\n",
       "  </tbody>\n",
       "</table>\n",
       "</div>"
      ],
      "text/plain": [
       "       primary_cleaner.input.sulfate  primary_cleaner.input.depressant  \\\n",
       "count                    5286.000000                       5285.000000   \n",
       "mean                      174.839652                          8.683596   \n",
       "std                        43.027080                          3.072050   \n",
       "min                         2.566156                          0.003839   \n",
       "25%                       147.121401                          6.489555   \n",
       "50%                       177.828489                          8.052207   \n",
       "75%                       208.125438                         10.027764   \n",
       "max                       265.983123                         40.000000   \n",
       "\n",
       "       primary_cleaner.input.feed_size  primary_cleaner.input.xanthate  \\\n",
       "count                      5290.000000                     5286.000000   \n",
       "mean                          7.266339                        1.383803   \n",
       "std                           0.610219                        0.643474   \n",
       "min                           5.650000                        0.004984   \n",
       "25%                           6.890000                        0.907623   \n",
       "50%                           7.250000                        1.197610   \n",
       "75%                           7.600000                        1.797819   \n",
       "max                          15.500000                        4.102454   \n",
       "\n",
       "       primary_cleaner.state.floatbank8_a_air  \\\n",
       "count                            5.290000e+03   \n",
       "mean                             1.539494e+03   \n",
       "std                              1.167979e+02   \n",
       "min                              5.445860e-32   \n",
       "25%                              1.498936e+03   \n",
       "50%                              1.585129e+03   \n",
       "75%                              1.602077e+03   \n",
       "max                              2.103104e+03   \n",
       "\n",
       "       primary_cleaner.state.floatbank8_a_level  \\\n",
       "count                               5290.000000   \n",
       "mean                                -497.665883   \n",
       "std                                   19.952431   \n",
       "min                                 -795.316337   \n",
       "25%                                 -500.357298   \n",
       "50%                                 -499.969164   \n",
       "75%                                 -499.568951   \n",
       "max                                  -57.195404   \n",
       "\n",
       "       primary_cleaner.state.floatbank8_b_air  \\\n",
       "count                            5.290000e+03   \n",
       "mean                             1.545174e+03   \n",
       "std                              1.222246e+02   \n",
       "min                              6.647490e-32   \n",
       "25%                              1.498971e+03   \n",
       "50%                              1.595622e+03   \n",
       "75%                              1.602324e+03   \n",
       "max                              1.813084e+03   \n",
       "\n",
       "       primary_cleaner.state.floatbank8_b_level  \\\n",
       "count                               5290.000000   \n",
       "mean                                -500.273098   \n",
       "std                                   32.968307   \n",
       "min                                 -799.997015   \n",
       "25%                                 -500.703002   \n",
       "50%                                 -500.028514   \n",
       "75%                                 -499.293257   \n",
       "max                                 -142.527229   \n",
       "\n",
       "       primary_cleaner.state.floatbank8_c_air  \\\n",
       "count                            5.290000e+03   \n",
       "mean                             1.527272e+03   \n",
       "std                              1.225380e+02   \n",
       "min                              4.033736e-32   \n",
       "25%                              1.473230e+03   \n",
       "50%                              1.549595e+03   \n",
       "75%                              1.601144e+03   \n",
       "max                              1.715054e+03   \n",
       "\n",
       "       primary_cleaner.state.floatbank8_c_level  \\\n",
       "count                               5290.000000   \n",
       "mean                                -498.330680   \n",
       "std                                   21.964876   \n",
       "min                                 -799.960571   \n",
       "25%                                 -501.018117   \n",
       "50%                                 -500.017711   \n",
       "75%                                 -498.994130   \n",
       "max                                 -150.937035   \n",
       "\n",
       "       primary_cleaner.state.floatbank8_d_air  \\\n",
       "count                            5.290000e+03   \n",
       "mean                             1.544844e+03   \n",
       "std                              1.247731e+02   \n",
       "min                              4.039220e-32   \n",
       "25%                              1.499481e+03   \n",
       "50%                              1.594579e+03   \n",
       "75%                              1.600965e+03   \n",
       "max                              1.913257e+03   \n",
       "\n",
       "       primary_cleaner.state.floatbank8_d_level  rougher.input.feed_ag  \\\n",
       "count                               5290.000000            5290.000000   \n",
       "mean                                -500.199527               9.371940   \n",
       "std                                   31.045257               1.926264   \n",
       "min                                 -799.794250               0.568441   \n",
       "25%                                 -500.452469               8.112434   \n",
       "50%                                 -500.023307               9.762654   \n",
       "75%                                 -499.607040              10.652297   \n",
       "max                                 -158.950573              14.406130   \n",
       "\n",
       "       rougher.input.feed_pb  rougher.input.feed_rate  \\\n",
       "count            5290.000000              5287.000000   \n",
       "mean                3.798082               489.800620   \n",
       "std                 0.954859               108.036326   \n",
       "min                 0.273677                 0.002986   \n",
       "25%                 3.240251               407.020883   \n",
       "50%                 3.740716               499.051440   \n",
       "75%                 4.282634               575.307213   \n",
       "max                 6.905684               707.364020   \n",
       "\n",
       "       rougher.input.feed_size  rougher.input.feed_sol  rougher.input.feed_au  \\\n",
       "count              5289.000000             5269.000000            5290.000000   \n",
       "mean                 55.951097               37.716648               9.334682   \n",
       "std                  19.081758                5.491415               1.619521   \n",
       "min                   0.046369                1.393488               0.568632   \n",
       "25%                  43.906347               34.505576               8.207814   \n",
       "50%                  50.841029               37.980276               9.593766   \n",
       "75%                  62.431047               41.635385              10.463538   \n",
       "max                 392.494040               53.477742              13.731330   \n",
       "\n",
       "       rougher.input.floatbank10_sulfate  rougher.input.floatbank10_xanthate  \\\n",
       "count                        5285.000000                         5290.000000   \n",
       "mean                           13.855759                            6.467745   \n",
       "std                             3.350852                            1.065114   \n",
       "min                             0.001147                            0.000568   \n",
       "25%                            11.995006                            5.998779   \n",
       "50%                            14.003126                            6.498181   \n",
       "75%                            16.974284                            7.085457   \n",
       "max                            24.280636                            8.910468   \n",
       "\n",
       "       rougher.input.floatbank11_sulfate  rougher.input.floatbank11_xanthate  \\\n",
       "count                        5282.000000                         5265.000000   \n",
       "mean                           13.922328                            6.512103   \n",
       "std                             3.223769                            0.886989   \n",
       "min                             0.000077                            0.006985   \n",
       "25%                            11.997200                            5.999157   \n",
       "50%                            14.004371                            6.498744   \n",
       "75%                            16.959671                            7.091808   \n",
       "max                            24.280966                            8.621338   \n",
       "\n",
       "       rougher.state.floatbank10_a_air  rougher.state.floatbank10_a_level  \\\n",
       "count                      5290.000000                        5290.000000   \n",
       "mean                       1053.400166                        -395.732530   \n",
       "std                         121.139309                          91.085505   \n",
       "min                          -0.042069                        -657.949759   \n",
       "25%                         999.205344                        -499.920565   \n",
       "50%                        1000.472055                        -399.693363   \n",
       "75%                        1006.254299                        -300.060056   \n",
       "max                        1423.274687                        -273.776101   \n",
       "\n",
       "       rougher.state.floatbank10_b_air  rougher.state.floatbank10_b_level  \\\n",
       "count                      5290.000000                        5290.000000   \n",
       "mean                       1318.926879                        -475.241428   \n",
       "std                         156.450366                          45.649466   \n",
       "min                          -0.721806                        -650.245277   \n",
       "25%                        1200.871883                        -500.256114   \n",
       "50%                        1302.254995                        -499.837803   \n",
       "75%                        1433.955649                        -450.749619   \n",
       "max                        1706.640419                        -298.200051   \n",
       "\n",
       "       rougher.state.floatbank10_c_air  rougher.state.floatbank10_c_level  \\\n",
       "count                      5290.000000                        5290.000000   \n",
       "mean                       1301.595477                        -474.836671   \n",
       "std                         171.269667                          45.859866   \n",
       "min                          -0.056636                        -647.544439   \n",
       "25%                        1199.651371                        -500.233831   \n",
       "50%                        1300.202274                        -499.777222   \n",
       "75%                        1406.594956                        -451.153188   \n",
       "max                        1731.017788                        -298.036852   \n",
       "\n",
       "       rougher.state.floatbank10_d_air  rougher.state.floatbank10_d_level  \\\n",
       "count                      5290.000000                        5290.000000   \n",
       "mean                       1214.847960                        -475.682272   \n",
       "std                         185.763319                          47.844967   \n",
       "min                          -0.992219                        -648.390665   \n",
       "25%                        1093.368068                        -500.440610   \n",
       "50%                        1207.014092                        -499.691917   \n",
       "75%                        1391.497269                        -452.483463   \n",
       "max                        1775.218584                         -76.397327   \n",
       "\n",
       "       rougher.state.floatbank10_e_air  rougher.state.floatbank10_e_level  \\\n",
       "count                      5290.000000                        5290.000000   \n",
       "mean                       1056.648995                        -469.029688   \n",
       "std                         131.542839                          59.325990   \n",
       "min                          -1.982295                        -649.267537   \n",
       "25%                         999.361403                        -500.190639   \n",
       "50%                        1047.495449                        -499.765796   \n",
       "75%                        1101.365315                        -450.957513   \n",
       "max                        1467.184843                        -139.753025   \n",
       "\n",
       "       rougher.state.floatbank10_f_air  rougher.state.floatbank10_f_level  \\\n",
       "count                      5290.000000                        5290.000000   \n",
       "mean                        997.949719                        -470.482465   \n",
       "std                         128.218869                          60.759318   \n",
       "min                          -2.593390                        -649.949283   \n",
       "25%                         901.024994                        -500.624783   \n",
       "50%                         999.441879                        -499.680986   \n",
       "75%                        1050.433005                        -451.986460   \n",
       "max                        1476.588107                        -249.801043   \n",
       "\n",
       "       secondary_cleaner.state.floatbank2_a_air  \\\n",
       "count                               5287.000000   \n",
       "mean                                  26.312630   \n",
       "std                                    3.429852   \n",
       "min                                    0.205329   \n",
       "25%                                   24.942328   \n",
       "50%                                   26.910569   \n",
       "75%                                   28.091885   \n",
       "max                                   32.138727   \n",
       "\n",
       "       secondary_cleaner.state.floatbank2_a_level  \\\n",
       "count                                 5290.000000   \n",
       "mean                                  -502.750897   \n",
       "std                                     28.756505   \n",
       "min                                   -784.091091   \n",
       "25%                                   -500.206517   \n",
       "50%                                   -500.003902   \n",
       "75%                                   -499.791639   \n",
       "max                                   -300.343670   \n",
       "\n",
       "       secondary_cleaner.state.floatbank2_b_air  \\\n",
       "count                               5288.000000   \n",
       "mean                                  21.949119   \n",
       "std                                    4.354961   \n",
       "min                                    0.006064   \n",
       "25%                                   20.002315   \n",
       "50%                                   22.942603   \n",
       "75%                                   24.985013   \n",
       "max                                   28.165864   \n",
       "\n",
       "       secondary_cleaner.state.floatbank2_b_level  \\\n",
       "count                                 5290.000000   \n",
       "mean                                  -501.987097   \n",
       "std                                     34.582722   \n",
       "min                                   -797.783989   \n",
       "25%                                   -500.218030   \n",
       "50%                                   -500.019058   \n",
       "75%                                   -499.831532   \n",
       "max                                   -211.999273   \n",
       "\n",
       "       secondary_cleaner.state.floatbank3_a_air  \\\n",
       "count                               5281.000000   \n",
       "mean                                  25.402926   \n",
       "std                                    6.526457   \n",
       "min                                    0.000000   \n",
       "25%                                   22.982288   \n",
       "50%                                   25.010105   \n",
       "75%                                   30.002063   \n",
       "max                                   40.041997   \n",
       "\n",
       "       secondary_cleaner.state.floatbank3_a_level  \\\n",
       "count                                 5290.000000   \n",
       "mean                                  -507.490314   \n",
       "std                                     47.620908   \n",
       "min                                   -799.755798   \n",
       "25%                                   -500.297951   \n",
       "50%                                   -500.034578   \n",
       "75%                                   -499.780163   \n",
       "max                                   -313.866425   \n",
       "\n",
       "       secondary_cleaner.state.floatbank3_b_air  \\\n",
       "count                              5.290000e+03   \n",
       "mean                               2.098211e+01   \n",
       "std                                6.736179e+00   \n",
       "min                                1.521587e-17   \n",
       "25%                                1.796786e+01   \n",
       "50%                                2.100316e+01   \n",
       "75%                                2.697698e+01   \n",
       "max                                3.203936e+01   \n",
       "\n",
       "       secondary_cleaner.state.floatbank3_b_level  \\\n",
       "count                                 5290.000000   \n",
       "mean                                  -506.627916   \n",
       "std                                     44.528673   \n",
       "min                                   -809.333008   \n",
       "25%                                   -500.145128   \n",
       "50%                                   -500.013819   \n",
       "75%                                   -499.890608   \n",
       "max                                   -202.277366   \n",
       "\n",
       "       secondary_cleaner.state.floatbank4_a_air  \\\n",
       "count                              5.290000e+03   \n",
       "mean                               1.632007e+01   \n",
       "std                                3.493583e+00   \n",
       "min                                1.079872e-16   \n",
       "25%                                1.403618e+01   \n",
       "50%                                1.700847e+01   \n",
       "75%                                1.803862e+01   \n",
       "max                                3.005180e+01   \n",
       "\n",
       "       secondary_cleaner.state.floatbank4_a_level  \\\n",
       "count                                 5290.000000   \n",
       "mean                                  -505.144570   \n",
       "std                                     31.427337   \n",
       "min                                   -799.798523   \n",
       "25%                                   -500.868258   \n",
       "50%                                   -500.115727   \n",
       "75%                                   -499.404224   \n",
       "max                                   -401.565212   \n",
       "\n",
       "       secondary_cleaner.state.floatbank4_b_air  \\\n",
       "count                              5.290000e+03   \n",
       "mean                               1.373544e+01   \n",
       "std                                3.430484e+00   \n",
       "min                                2.489718e-17   \n",
       "25%                                1.202862e+01   \n",
       "50%                                1.496486e+01   \n",
       "75%                                1.596213e+01   \n",
       "max                                3.126971e+01   \n",
       "\n",
       "       secondary_cleaner.state.floatbank4_b_level  \\\n",
       "count                                 5290.000000   \n",
       "mean                                  -463.349858   \n",
       "std                                     86.189107   \n",
       "min                                   -800.836914   \n",
       "25%                                   -500.323028   \n",
       "50%                                   -499.576513   \n",
       "75%                                   -400.933805   \n",
       "max                                     -6.506986   \n",
       "\n",
       "       secondary_cleaner.state.floatbank5_a_air  \\\n",
       "count                               5290.000000   \n",
       "mean                                  12.804186   \n",
       "std                                    3.026591   \n",
       "min                                    0.069227   \n",
       "25%                                   10.914838   \n",
       "50%                                   12.954182   \n",
       "75%                                   15.097528   \n",
       "max                                   25.258848   \n",
       "\n",
       "       secondary_cleaner.state.floatbank5_a_level  \\\n",
       "count                                 5290.000000   \n",
       "mean                                  -501.329122   \n",
       "std                                     17.951495   \n",
       "min                                   -797.323986   \n",
       "25%                                   -500.726841   \n",
       "50%                                   -499.990332   \n",
       "75%                                   -499.283191   \n",
       "max                                   -244.483566   \n",
       "\n",
       "       secondary_cleaner.state.floatbank5_b_air  \\\n",
       "count                               5290.000000   \n",
       "mean                                   9.881145   \n",
       "std                                    2.868205   \n",
       "min                                    0.528083   \n",
       "25%                                    8.036719   \n",
       "50%                                   10.004301   \n",
       "75%                                   11.997467   \n",
       "max                                   14.086866   \n",
       "\n",
       "       secondary_cleaner.state.floatbank5_b_level  \\\n",
       "count                                 5290.000000   \n",
       "mean                                  -495.663398   \n",
       "std                                     34.535007   \n",
       "min                                   -800.220337   \n",
       "25%                                   -500.194668   \n",
       "50%                                   -499.990535   \n",
       "75%                                   -499.719913   \n",
       "max                                   -137.740004   \n",
       "\n",
       "       secondary_cleaner.state.floatbank6_a_air  \\\n",
       "count                               5290.000000   \n",
       "mean                                  17.304935   \n",
       "std                                    4.536544   \n",
       "min                                   -0.079426   \n",
       "25%                                   13.997317   \n",
       "50%                                   16.014935   \n",
       "75%                                   21.020013   \n",
       "max                                   26.705889   \n",
       "\n",
       "       secondary_cleaner.state.floatbank6_a_level  \n",
       "count                                 5290.000000  \n",
       "mean                                  -501.793193  \n",
       "std                                     39.044215  \n",
       "min                                   -809.741464  \n",
       "25%                                   -500.690984  \n",
       "50%                                   -500.007126  \n",
       "75%                                   -499.373018  \n",
       "max                                   -123.307487  "
      ]
     },
     "metadata": {},
     "output_type": "display_data"
    },
    {
     "name": "stdout",
     "output_type": "stream",
     "text": [
      "---------------------------------------------------------------------------\n"
     ]
    },
    {
     "data": {
      "text/html": [
       "<div>\n",
       "<style scoped>\n",
       "    .dataframe tbody tr th:only-of-type {\n",
       "        vertical-align: middle;\n",
       "    }\n",
       "\n",
       "    .dataframe tbody tr th {\n",
       "        vertical-align: top;\n",
       "    }\n",
       "\n",
       "    .dataframe thead th {\n",
       "        text-align: right;\n",
       "    }\n",
       "</style>\n",
       "<table border=\"1\" class=\"dataframe\">\n",
       "  <thead>\n",
       "    <tr style=\"text-align: right;\">\n",
       "      <th></th>\n",
       "      <th>final.output.concentrate_ag</th>\n",
       "      <th>final.output.concentrate_pb</th>\n",
       "      <th>final.output.concentrate_sol</th>\n",
       "      <th>final.output.concentrate_au</th>\n",
       "      <th>final.output.recovery</th>\n",
       "      <th>final.output.tail_ag</th>\n",
       "      <th>final.output.tail_pb</th>\n",
       "      <th>final.output.tail_sol</th>\n",
       "      <th>final.output.tail_au</th>\n",
       "      <th>primary_cleaner.input.sulfate</th>\n",
       "      <th>primary_cleaner.input.depressant</th>\n",
       "      <th>primary_cleaner.input.feed_size</th>\n",
       "      <th>primary_cleaner.input.xanthate</th>\n",
       "      <th>primary_cleaner.output.concentrate_ag</th>\n",
       "      <th>primary_cleaner.output.concentrate_pb</th>\n",
       "      <th>primary_cleaner.output.concentrate_sol</th>\n",
       "      <th>primary_cleaner.output.concentrate_au</th>\n",
       "      <th>primary_cleaner.output.tail_ag</th>\n",
       "      <th>primary_cleaner.output.tail_pb</th>\n",
       "      <th>primary_cleaner.output.tail_sol</th>\n",
       "      <th>primary_cleaner.output.tail_au</th>\n",
       "      <th>primary_cleaner.state.floatbank8_a_air</th>\n",
       "      <th>primary_cleaner.state.floatbank8_a_level</th>\n",
       "      <th>primary_cleaner.state.floatbank8_b_air</th>\n",
       "      <th>primary_cleaner.state.floatbank8_b_level</th>\n",
       "      <th>primary_cleaner.state.floatbank8_c_air</th>\n",
       "      <th>primary_cleaner.state.floatbank8_c_level</th>\n",
       "      <th>primary_cleaner.state.floatbank8_d_air</th>\n",
       "      <th>primary_cleaner.state.floatbank8_d_level</th>\n",
       "      <th>rougher.calculation.sulfate_to_au_concentrate</th>\n",
       "      <th>rougher.calculation.floatbank10_sulfate_to_au_feed</th>\n",
       "      <th>rougher.calculation.floatbank11_sulfate_to_au_feed</th>\n",
       "      <th>rougher.calculation.au_pb_ratio</th>\n",
       "      <th>rougher.input.feed_ag</th>\n",
       "      <th>rougher.input.feed_pb</th>\n",
       "      <th>rougher.input.feed_rate</th>\n",
       "      <th>rougher.input.feed_size</th>\n",
       "      <th>rougher.input.feed_sol</th>\n",
       "      <th>rougher.input.feed_au</th>\n",
       "      <th>rougher.input.floatbank10_sulfate</th>\n",
       "      <th>rougher.input.floatbank10_xanthate</th>\n",
       "      <th>rougher.input.floatbank11_sulfate</th>\n",
       "      <th>rougher.input.floatbank11_xanthate</th>\n",
       "      <th>rougher.output.concentrate_ag</th>\n",
       "      <th>rougher.output.concentrate_pb</th>\n",
       "      <th>rougher.output.concentrate_sol</th>\n",
       "      <th>rougher.output.concentrate_au</th>\n",
       "      <th>rougher.output.recovery</th>\n",
       "      <th>rougher.output.tail_ag</th>\n",
       "      <th>rougher.output.tail_pb</th>\n",
       "      <th>rougher.output.tail_sol</th>\n",
       "      <th>rougher.output.tail_au</th>\n",
       "      <th>rougher.state.floatbank10_a_air</th>\n",
       "      <th>rougher.state.floatbank10_a_level</th>\n",
       "      <th>rougher.state.floatbank10_b_air</th>\n",
       "      <th>rougher.state.floatbank10_b_level</th>\n",
       "      <th>rougher.state.floatbank10_c_air</th>\n",
       "      <th>rougher.state.floatbank10_c_level</th>\n",
       "      <th>rougher.state.floatbank10_d_air</th>\n",
       "      <th>rougher.state.floatbank10_d_level</th>\n",
       "      <th>rougher.state.floatbank10_e_air</th>\n",
       "      <th>rougher.state.floatbank10_e_level</th>\n",
       "      <th>rougher.state.floatbank10_f_air</th>\n",
       "      <th>rougher.state.floatbank10_f_level</th>\n",
       "      <th>secondary_cleaner.output.tail_ag</th>\n",
       "      <th>secondary_cleaner.output.tail_pb</th>\n",
       "      <th>secondary_cleaner.output.tail_sol</th>\n",
       "      <th>secondary_cleaner.output.tail_au</th>\n",
       "      <th>secondary_cleaner.state.floatbank2_a_air</th>\n",
       "      <th>secondary_cleaner.state.floatbank2_a_level</th>\n",
       "      <th>secondary_cleaner.state.floatbank2_b_air</th>\n",
       "      <th>secondary_cleaner.state.floatbank2_b_level</th>\n",
       "      <th>secondary_cleaner.state.floatbank3_a_air</th>\n",
       "      <th>secondary_cleaner.state.floatbank3_a_level</th>\n",
       "      <th>secondary_cleaner.state.floatbank3_b_air</th>\n",
       "      <th>secondary_cleaner.state.floatbank3_b_level</th>\n",
       "      <th>secondary_cleaner.state.floatbank4_a_air</th>\n",
       "      <th>secondary_cleaner.state.floatbank4_a_level</th>\n",
       "      <th>secondary_cleaner.state.floatbank4_b_air</th>\n",
       "      <th>secondary_cleaner.state.floatbank4_b_level</th>\n",
       "      <th>secondary_cleaner.state.floatbank5_a_air</th>\n",
       "      <th>secondary_cleaner.state.floatbank5_a_level</th>\n",
       "      <th>secondary_cleaner.state.floatbank5_b_air</th>\n",
       "      <th>secondary_cleaner.state.floatbank5_b_level</th>\n",
       "      <th>secondary_cleaner.state.floatbank6_a_air</th>\n",
       "      <th>secondary_cleaner.state.floatbank6_a_level</th>\n",
       "    </tr>\n",
       "    <tr>\n",
       "      <th>date</th>\n",
       "      <th></th>\n",
       "      <th></th>\n",
       "      <th></th>\n",
       "      <th></th>\n",
       "      <th></th>\n",
       "      <th></th>\n",
       "      <th></th>\n",
       "      <th></th>\n",
       "      <th></th>\n",
       "      <th></th>\n",
       "      <th></th>\n",
       "      <th></th>\n",
       "      <th></th>\n",
       "      <th></th>\n",
       "      <th></th>\n",
       "      <th></th>\n",
       "      <th></th>\n",
       "      <th></th>\n",
       "      <th></th>\n",
       "      <th></th>\n",
       "      <th></th>\n",
       "      <th></th>\n",
       "      <th></th>\n",
       "      <th></th>\n",
       "      <th></th>\n",
       "      <th></th>\n",
       "      <th></th>\n",
       "      <th></th>\n",
       "      <th></th>\n",
       "      <th></th>\n",
       "      <th></th>\n",
       "      <th></th>\n",
       "      <th></th>\n",
       "      <th></th>\n",
       "      <th></th>\n",
       "      <th></th>\n",
       "      <th></th>\n",
       "      <th></th>\n",
       "      <th></th>\n",
       "      <th></th>\n",
       "      <th></th>\n",
       "      <th></th>\n",
       "      <th></th>\n",
       "      <th></th>\n",
       "      <th></th>\n",
       "      <th></th>\n",
       "      <th></th>\n",
       "      <th></th>\n",
       "      <th></th>\n",
       "      <th></th>\n",
       "      <th></th>\n",
       "      <th></th>\n",
       "      <th></th>\n",
       "      <th></th>\n",
       "      <th></th>\n",
       "      <th></th>\n",
       "      <th></th>\n",
       "      <th></th>\n",
       "      <th></th>\n",
       "      <th></th>\n",
       "      <th></th>\n",
       "      <th></th>\n",
       "      <th></th>\n",
       "      <th></th>\n",
       "      <th></th>\n",
       "      <th></th>\n",
       "      <th></th>\n",
       "      <th></th>\n",
       "      <th></th>\n",
       "      <th></th>\n",
       "      <th></th>\n",
       "      <th></th>\n",
       "      <th></th>\n",
       "      <th></th>\n",
       "      <th></th>\n",
       "      <th></th>\n",
       "      <th></th>\n",
       "      <th></th>\n",
       "      <th></th>\n",
       "      <th></th>\n",
       "      <th></th>\n",
       "      <th></th>\n",
       "      <th></th>\n",
       "      <th></th>\n",
       "      <th></th>\n",
       "      <th></th>\n",
       "    </tr>\n",
       "  </thead>\n",
       "  <tbody>\n",
       "    <tr>\n",
       "      <th>2016-01-15 00:00:00</th>\n",
       "      <td>6.055403</td>\n",
       "      <td>9.889648</td>\n",
       "      <td>5.507324</td>\n",
       "      <td>42.192020</td>\n",
       "      <td>70.541216</td>\n",
       "      <td>10.411962</td>\n",
       "      <td>0.895447</td>\n",
       "      <td>16.904297</td>\n",
       "      <td>2.143149</td>\n",
       "      <td>127.092003</td>\n",
       "      <td>10.128295</td>\n",
       "      <td>7.25</td>\n",
       "      <td>0.988759</td>\n",
       "      <td>8.547551</td>\n",
       "      <td>10.389648</td>\n",
       "      <td>19.529297</td>\n",
       "      <td>34.174427</td>\n",
       "      <td>14.936526</td>\n",
       "      <td>2.534912</td>\n",
       "      <td>7.476074</td>\n",
       "      <td>2.106679</td>\n",
       "      <td>1549.775757</td>\n",
       "      <td>-498.912140</td>\n",
       "      <td>1551.434204</td>\n",
       "      <td>-516.403442</td>\n",
       "      <td>1549.873901</td>\n",
       "      <td>-498.666595</td>\n",
       "      <td>1554.367432</td>\n",
       "      <td>-493.428131</td>\n",
       "      <td>41885.707031</td>\n",
       "      <td>3481.779053</td>\n",
       "      <td>3520.337158</td>\n",
       "      <td>2.838687</td>\n",
       "      <td>6.100378</td>\n",
       "      <td>2.284912</td>\n",
       "      <td>523.546326</td>\n",
       "      <td>55.486599</td>\n",
       "      <td>36.808594</td>\n",
       "      <td>6.486150</td>\n",
       "      <td>11.986616</td>\n",
       "      <td>6.007990</td>\n",
       "      <td>11.836743</td>\n",
       "      <td>6.005818</td>\n",
       "      <td>11.500771</td>\n",
       "      <td>7.101074</td>\n",
       "      <td>28.029297</td>\n",
       "      <td>19.793808</td>\n",
       "      <td>87.107763</td>\n",
       "      <td>5.008018</td>\n",
       "      <td>0.508728</td>\n",
       "      <td>19.154297</td>\n",
       "      <td>1.170244</td>\n",
       "      <td>999.706909</td>\n",
       "      <td>-404.066986</td>\n",
       "      <td>1603.011353</td>\n",
       "      <td>-434.715027</td>\n",
       "      <td>1602.375000</td>\n",
       "      <td>-442.204468</td>\n",
       "      <td>1598.937256</td>\n",
       "      <td>-451.294128</td>\n",
       "      <td>1404.472046</td>\n",
       "      <td>-455.462982</td>\n",
       "      <td>1416.354980</td>\n",
       "      <td>-451.939636</td>\n",
       "      <td>14.500184</td>\n",
       "      <td>4.694824</td>\n",
       "      <td>8.764648</td>\n",
       "      <td>2.606185</td>\n",
       "      <td>25.853109</td>\n",
       "      <td>-498.526489</td>\n",
       "      <td>23.893660</td>\n",
       "      <td>-501.406281</td>\n",
       "      <td>23.961798</td>\n",
       "      <td>-495.262817</td>\n",
       "      <td>21.940409</td>\n",
       "      <td>-499.340973</td>\n",
       "      <td>14.016835</td>\n",
       "      <td>-502.488007</td>\n",
       "      <td>12.099931</td>\n",
       "      <td>-504.715942</td>\n",
       "      <td>9.925633</td>\n",
       "      <td>-498.310211</td>\n",
       "      <td>8.079666</td>\n",
       "      <td>-500.470978</td>\n",
       "      <td>14.151341</td>\n",
       "      <td>-605.841980</td>\n",
       "    </tr>\n",
       "    <tr>\n",
       "      <th>2016-01-15 01:00:00</th>\n",
       "      <td>6.029369</td>\n",
       "      <td>9.968944</td>\n",
       "      <td>5.257781</td>\n",
       "      <td>42.701629</td>\n",
       "      <td>69.266198</td>\n",
       "      <td>10.462676</td>\n",
       "      <td>0.927452</td>\n",
       "      <td>16.634514</td>\n",
       "      <td>2.224930</td>\n",
       "      <td>125.629232</td>\n",
       "      <td>10.296251</td>\n",
       "      <td>7.25</td>\n",
       "      <td>1.002663</td>\n",
       "      <td>8.558743</td>\n",
       "      <td>10.497069</td>\n",
       "      <td>19.369147</td>\n",
       "      <td>34.118526</td>\n",
       "      <td>16.250511</td>\n",
       "      <td>3.049646</td>\n",
       "      <td>6.733907</td>\n",
       "      <td>2.353017</td>\n",
       "      <td>1576.166671</td>\n",
       "      <td>-500.904965</td>\n",
       "      <td>1575.950626</td>\n",
       "      <td>-499.865889</td>\n",
       "      <td>1575.994189</td>\n",
       "      <td>-499.315107</td>\n",
       "      <td>1574.479259</td>\n",
       "      <td>-498.931665</td>\n",
       "      <td>42050.861809</td>\n",
       "      <td>3498.370979</td>\n",
       "      <td>3489.981857</td>\n",
       "      <td>2.858998</td>\n",
       "      <td>6.161113</td>\n",
       "      <td>2.266033</td>\n",
       "      <td>525.290581</td>\n",
       "      <td>57.278666</td>\n",
       "      <td>35.753385</td>\n",
       "      <td>6.478583</td>\n",
       "      <td>11.971193</td>\n",
       "      <td>6.005766</td>\n",
       "      <td>11.996163</td>\n",
       "      <td>6.012594</td>\n",
       "      <td>11.615865</td>\n",
       "      <td>7.278807</td>\n",
       "      <td>28.067063</td>\n",
       "      <td>20.050975</td>\n",
       "      <td>86.843261</td>\n",
       "      <td>4.955378</td>\n",
       "      <td>0.536689</td>\n",
       "      <td>18.965234</td>\n",
       "      <td>1.184827</td>\n",
       "      <td>1000.286398</td>\n",
       "      <td>-400.065196</td>\n",
       "      <td>1600.754587</td>\n",
       "      <td>-449.953435</td>\n",
       "      <td>1600.479580</td>\n",
       "      <td>-449.830646</td>\n",
       "      <td>1600.527589</td>\n",
       "      <td>-449.953649</td>\n",
       "      <td>1399.227084</td>\n",
       "      <td>-450.869848</td>\n",
       "      <td>1399.719514</td>\n",
       "      <td>-450.119001</td>\n",
       "      <td>14.265474</td>\n",
       "      <td>4.592547</td>\n",
       "      <td>9.001494</td>\n",
       "      <td>2.488248</td>\n",
       "      <td>25.880539</td>\n",
       "      <td>-499.989656</td>\n",
       "      <td>23.889530</td>\n",
       "      <td>-500.372428</td>\n",
       "      <td>23.970550</td>\n",
       "      <td>-500.085473</td>\n",
       "      <td>22.085714</td>\n",
       "      <td>-499.446897</td>\n",
       "      <td>13.992281</td>\n",
       "      <td>-505.503262</td>\n",
       "      <td>11.950531</td>\n",
       "      <td>-501.331529</td>\n",
       "      <td>10.039245</td>\n",
       "      <td>-500.169983</td>\n",
       "      <td>7.984757</td>\n",
       "      <td>-500.582168</td>\n",
       "      <td>13.998353</td>\n",
       "      <td>-599.787184</td>\n",
       "    </tr>\n",
       "    <tr>\n",
       "      <th>2016-01-15 02:00:00</th>\n",
       "      <td>6.055926</td>\n",
       "      <td>10.213995</td>\n",
       "      <td>5.383759</td>\n",
       "      <td>42.657501</td>\n",
       "      <td>68.116445</td>\n",
       "      <td>10.507046</td>\n",
       "      <td>0.953716</td>\n",
       "      <td>16.208849</td>\n",
       "      <td>2.257889</td>\n",
       "      <td>123.819808</td>\n",
       "      <td>11.316280</td>\n",
       "      <td>7.25</td>\n",
       "      <td>0.991265</td>\n",
       "      <td>8.603505</td>\n",
       "      <td>10.354494</td>\n",
       "      <td>19.167579</td>\n",
       "      <td>33.969464</td>\n",
       "      <td>16.491823</td>\n",
       "      <td>3.124664</td>\n",
       "      <td>6.471768</td>\n",
       "      <td>2.416800</td>\n",
       "      <td>1601.556163</td>\n",
       "      <td>-499.997791</td>\n",
       "      <td>1600.386685</td>\n",
       "      <td>-500.607762</td>\n",
       "      <td>1602.003542</td>\n",
       "      <td>-500.870069</td>\n",
       "      <td>1599.541515</td>\n",
       "      <td>-499.827444</td>\n",
       "      <td>42018.101184</td>\n",
       "      <td>3495.348910</td>\n",
       "      <td>3502.359819</td>\n",
       "      <td>2.945989</td>\n",
       "      <td>6.116455</td>\n",
       "      <td>2.159622</td>\n",
       "      <td>530.026610</td>\n",
       "      <td>57.510649</td>\n",
       "      <td>35.971630</td>\n",
       "      <td>6.362222</td>\n",
       "      <td>11.920603</td>\n",
       "      <td>6.197377</td>\n",
       "      <td>11.920305</td>\n",
       "      <td>6.204633</td>\n",
       "      <td>11.695753</td>\n",
       "      <td>7.216833</td>\n",
       "      <td>27.454037</td>\n",
       "      <td>19.737170</td>\n",
       "      <td>86.842308</td>\n",
       "      <td>4.843460</td>\n",
       "      <td>0.546416</td>\n",
       "      <td>18.808533</td>\n",
       "      <td>1.162562</td>\n",
       "      <td>999.719565</td>\n",
       "      <td>-400.074028</td>\n",
       "      <td>1599.337330</td>\n",
       "      <td>-450.008530</td>\n",
       "      <td>1599.672797</td>\n",
       "      <td>-449.954491</td>\n",
       "      <td>1599.849325</td>\n",
       "      <td>-449.954185</td>\n",
       "      <td>1399.180945</td>\n",
       "      <td>-449.937588</td>\n",
       "      <td>1400.316682</td>\n",
       "      <td>-450.527147</td>\n",
       "      <td>14.115662</td>\n",
       "      <td>4.624775</td>\n",
       "      <td>8.842896</td>\n",
       "      <td>2.458187</td>\n",
       "      <td>26.005245</td>\n",
       "      <td>-499.929616</td>\n",
       "      <td>23.886657</td>\n",
       "      <td>-499.951928</td>\n",
       "      <td>23.913535</td>\n",
       "      <td>-499.442343</td>\n",
       "      <td>23.957717</td>\n",
       "      <td>-499.901982</td>\n",
       "      <td>14.015015</td>\n",
       "      <td>-502.520901</td>\n",
       "      <td>11.912783</td>\n",
       "      <td>-501.133383</td>\n",
       "      <td>10.070913</td>\n",
       "      <td>-500.129135</td>\n",
       "      <td>8.013877</td>\n",
       "      <td>-500.517572</td>\n",
       "      <td>14.028663</td>\n",
       "      <td>-601.427363</td>\n",
       "    </tr>\n",
       "    <tr>\n",
       "      <th>2016-01-15 03:00:00</th>\n",
       "      <td>6.047977</td>\n",
       "      <td>9.977019</td>\n",
       "      <td>4.858634</td>\n",
       "      <td>42.689819</td>\n",
       "      <td>68.347543</td>\n",
       "      <td>10.422762</td>\n",
       "      <td>0.883763</td>\n",
       "      <td>16.532835</td>\n",
       "      <td>2.146849</td>\n",
       "      <td>122.270188</td>\n",
       "      <td>11.322140</td>\n",
       "      <td>7.25</td>\n",
       "      <td>0.996739</td>\n",
       "      <td>7.221879</td>\n",
       "      <td>8.496563</td>\n",
       "      <td>15.978538</td>\n",
       "      <td>28.260743</td>\n",
       "      <td>16.024359</td>\n",
       "      <td>2.960362</td>\n",
       "      <td>6.843791</td>\n",
       "      <td>2.262051</td>\n",
       "      <td>1599.968720</td>\n",
       "      <td>-500.951778</td>\n",
       "      <td>1600.659236</td>\n",
       "      <td>-499.677094</td>\n",
       "      <td>1600.304144</td>\n",
       "      <td>-500.727997</td>\n",
       "      <td>1600.449520</td>\n",
       "      <td>-500.052575</td>\n",
       "      <td>42029.447991</td>\n",
       "      <td>3498.578313</td>\n",
       "      <td>3499.162912</td>\n",
       "      <td>3.002340</td>\n",
       "      <td>6.043309</td>\n",
       "      <td>2.037807</td>\n",
       "      <td>542.590390</td>\n",
       "      <td>57.792734</td>\n",
       "      <td>36.862241</td>\n",
       "      <td>6.118189</td>\n",
       "      <td>11.630094</td>\n",
       "      <td>6.203177</td>\n",
       "      <td>11.692450</td>\n",
       "      <td>6.196578</td>\n",
       "      <td>11.915047</td>\n",
       "      <td>7.175616</td>\n",
       "      <td>27.341277</td>\n",
       "      <td>19.320810</td>\n",
       "      <td>87.226430</td>\n",
       "      <td>4.655288</td>\n",
       "      <td>0.542525</td>\n",
       "      <td>19.330200</td>\n",
       "      <td>1.079755</td>\n",
       "      <td>999.814770</td>\n",
       "      <td>-400.200179</td>\n",
       "      <td>1600.059442</td>\n",
       "      <td>-450.619948</td>\n",
       "      <td>1600.012842</td>\n",
       "      <td>-449.910497</td>\n",
       "      <td>1597.725177</td>\n",
       "      <td>-450.130127</td>\n",
       "      <td>1400.943157</td>\n",
       "      <td>-450.030142</td>\n",
       "      <td>1400.234743</td>\n",
       "      <td>-449.790835</td>\n",
       "      <td>13.732071</td>\n",
       "      <td>4.482453</td>\n",
       "      <td>9.122857</td>\n",
       "      <td>2.322062</td>\n",
       "      <td>25.942508</td>\n",
       "      <td>-499.176749</td>\n",
       "      <td>23.955516</td>\n",
       "      <td>-499.848796</td>\n",
       "      <td>23.966838</td>\n",
       "      <td>-500.008812</td>\n",
       "      <td>23.954443</td>\n",
       "      <td>-499.944710</td>\n",
       "      <td>14.036510</td>\n",
       "      <td>-500.857308</td>\n",
       "      <td>11.999550</td>\n",
       "      <td>-501.193686</td>\n",
       "      <td>9.970366</td>\n",
       "      <td>-499.201640</td>\n",
       "      <td>7.977324</td>\n",
       "      <td>-500.255908</td>\n",
       "      <td>14.005551</td>\n",
       "      <td>-599.996129</td>\n",
       "    </tr>\n",
       "    <tr>\n",
       "      <th>2016-01-15 04:00:00</th>\n",
       "      <td>6.148599</td>\n",
       "      <td>10.142511</td>\n",
       "      <td>4.939416</td>\n",
       "      <td>42.774141</td>\n",
       "      <td>66.927016</td>\n",
       "      <td>10.360302</td>\n",
       "      <td>0.792826</td>\n",
       "      <td>16.525686</td>\n",
       "      <td>2.055292</td>\n",
       "      <td>117.988169</td>\n",
       "      <td>11.913613</td>\n",
       "      <td>7.25</td>\n",
       "      <td>1.009869</td>\n",
       "      <td>9.089428</td>\n",
       "      <td>9.986786</td>\n",
       "      <td>19.199864</td>\n",
       "      <td>33.044932</td>\n",
       "      <td>16.480185</td>\n",
       "      <td>3.112100</td>\n",
       "      <td>6.550154</td>\n",
       "      <td>2.277073</td>\n",
       "      <td>1601.339707</td>\n",
       "      <td>-498.975456</td>\n",
       "      <td>1601.437854</td>\n",
       "      <td>-500.323246</td>\n",
       "      <td>1599.581894</td>\n",
       "      <td>-500.888152</td>\n",
       "      <td>1602.649541</td>\n",
       "      <td>-500.593010</td>\n",
       "      <td>42125.354245</td>\n",
       "      <td>3494.800771</td>\n",
       "      <td>3506.679315</td>\n",
       "      <td>3.169615</td>\n",
       "      <td>6.060915</td>\n",
       "      <td>1.786875</td>\n",
       "      <td>540.531893</td>\n",
       "      <td>56.047189</td>\n",
       "      <td>34.347666</td>\n",
       "      <td>5.663707</td>\n",
       "      <td>10.957755</td>\n",
       "      <td>6.198826</td>\n",
       "      <td>10.960521</td>\n",
       "      <td>6.194897</td>\n",
       "      <td>12.411054</td>\n",
       "      <td>7.240205</td>\n",
       "      <td>27.041023</td>\n",
       "      <td>19.216101</td>\n",
       "      <td>86.688794</td>\n",
       "      <td>4.552800</td>\n",
       "      <td>0.515438</td>\n",
       "      <td>19.267422</td>\n",
       "      <td>1.012642</td>\n",
       "      <td>999.678690</td>\n",
       "      <td>-399.752729</td>\n",
       "      <td>1600.208824</td>\n",
       "      <td>-449.599614</td>\n",
       "      <td>1600.357732</td>\n",
       "      <td>-450.034364</td>\n",
       "      <td>1599.759049</td>\n",
       "      <td>-449.909799</td>\n",
       "      <td>1401.560902</td>\n",
       "      <td>-448.877187</td>\n",
       "      <td>1401.160227</td>\n",
       "      <td>-450.407128</td>\n",
       "      <td>14.079996</td>\n",
       "      <td>4.470737</td>\n",
       "      <td>8.871028</td>\n",
       "      <td>2.330448</td>\n",
       "      <td>26.024787</td>\n",
       "      <td>-500.279091</td>\n",
       "      <td>23.955345</td>\n",
       "      <td>-500.593614</td>\n",
       "      <td>23.985703</td>\n",
       "      <td>-500.083811</td>\n",
       "      <td>23.958945</td>\n",
       "      <td>-499.990309</td>\n",
       "      <td>14.027298</td>\n",
       "      <td>-499.838632</td>\n",
       "      <td>11.953070</td>\n",
       "      <td>-501.053894</td>\n",
       "      <td>9.925709</td>\n",
       "      <td>-501.686727</td>\n",
       "      <td>7.894242</td>\n",
       "      <td>-500.356035</td>\n",
       "      <td>13.996647</td>\n",
       "      <td>-601.496691</td>\n",
       "    </tr>\n",
       "  </tbody>\n",
       "</table>\n",
       "</div>"
      ],
      "text/plain": [
       "                     final.output.concentrate_ag  final.output.concentrate_pb  \\\n",
       "date                                                                            \n",
       "2016-01-15 00:00:00                     6.055403                     9.889648   \n",
       "2016-01-15 01:00:00                     6.029369                     9.968944   \n",
       "2016-01-15 02:00:00                     6.055926                    10.213995   \n",
       "2016-01-15 03:00:00                     6.047977                     9.977019   \n",
       "2016-01-15 04:00:00                     6.148599                    10.142511   \n",
       "\n",
       "                     final.output.concentrate_sol  \\\n",
       "date                                                \n",
       "2016-01-15 00:00:00                      5.507324   \n",
       "2016-01-15 01:00:00                      5.257781   \n",
       "2016-01-15 02:00:00                      5.383759   \n",
       "2016-01-15 03:00:00                      4.858634   \n",
       "2016-01-15 04:00:00                      4.939416   \n",
       "\n",
       "                     final.output.concentrate_au  final.output.recovery  \\\n",
       "date                                                                      \n",
       "2016-01-15 00:00:00                    42.192020              70.541216   \n",
       "2016-01-15 01:00:00                    42.701629              69.266198   \n",
       "2016-01-15 02:00:00                    42.657501              68.116445   \n",
       "2016-01-15 03:00:00                    42.689819              68.347543   \n",
       "2016-01-15 04:00:00                    42.774141              66.927016   \n",
       "\n",
       "                     final.output.tail_ag  final.output.tail_pb  \\\n",
       "date                                                              \n",
       "2016-01-15 00:00:00             10.411962              0.895447   \n",
       "2016-01-15 01:00:00             10.462676              0.927452   \n",
       "2016-01-15 02:00:00             10.507046              0.953716   \n",
       "2016-01-15 03:00:00             10.422762              0.883763   \n",
       "2016-01-15 04:00:00             10.360302              0.792826   \n",
       "\n",
       "                     final.output.tail_sol  final.output.tail_au  \\\n",
       "date                                                               \n",
       "2016-01-15 00:00:00              16.904297              2.143149   \n",
       "2016-01-15 01:00:00              16.634514              2.224930   \n",
       "2016-01-15 02:00:00              16.208849              2.257889   \n",
       "2016-01-15 03:00:00              16.532835              2.146849   \n",
       "2016-01-15 04:00:00              16.525686              2.055292   \n",
       "\n",
       "                     primary_cleaner.input.sulfate  \\\n",
       "date                                                 \n",
       "2016-01-15 00:00:00                     127.092003   \n",
       "2016-01-15 01:00:00                     125.629232   \n",
       "2016-01-15 02:00:00                     123.819808   \n",
       "2016-01-15 03:00:00                     122.270188   \n",
       "2016-01-15 04:00:00                     117.988169   \n",
       "\n",
       "                     primary_cleaner.input.depressant  \\\n",
       "date                                                    \n",
       "2016-01-15 00:00:00                         10.128295   \n",
       "2016-01-15 01:00:00                         10.296251   \n",
       "2016-01-15 02:00:00                         11.316280   \n",
       "2016-01-15 03:00:00                         11.322140   \n",
       "2016-01-15 04:00:00                         11.913613   \n",
       "\n",
       "                     primary_cleaner.input.feed_size  \\\n",
       "date                                                   \n",
       "2016-01-15 00:00:00                             7.25   \n",
       "2016-01-15 01:00:00                             7.25   \n",
       "2016-01-15 02:00:00                             7.25   \n",
       "2016-01-15 03:00:00                             7.25   \n",
       "2016-01-15 04:00:00                             7.25   \n",
       "\n",
       "                     primary_cleaner.input.xanthate  \\\n",
       "date                                                  \n",
       "2016-01-15 00:00:00                        0.988759   \n",
       "2016-01-15 01:00:00                        1.002663   \n",
       "2016-01-15 02:00:00                        0.991265   \n",
       "2016-01-15 03:00:00                        0.996739   \n",
       "2016-01-15 04:00:00                        1.009869   \n",
       "\n",
       "                     primary_cleaner.output.concentrate_ag  \\\n",
       "date                                                         \n",
       "2016-01-15 00:00:00                               8.547551   \n",
       "2016-01-15 01:00:00                               8.558743   \n",
       "2016-01-15 02:00:00                               8.603505   \n",
       "2016-01-15 03:00:00                               7.221879   \n",
       "2016-01-15 04:00:00                               9.089428   \n",
       "\n",
       "                     primary_cleaner.output.concentrate_pb  \\\n",
       "date                                                         \n",
       "2016-01-15 00:00:00                              10.389648   \n",
       "2016-01-15 01:00:00                              10.497069   \n",
       "2016-01-15 02:00:00                              10.354494   \n",
       "2016-01-15 03:00:00                               8.496563   \n",
       "2016-01-15 04:00:00                               9.986786   \n",
       "\n",
       "                     primary_cleaner.output.concentrate_sol  \\\n",
       "date                                                          \n",
       "2016-01-15 00:00:00                               19.529297   \n",
       "2016-01-15 01:00:00                               19.369147   \n",
       "2016-01-15 02:00:00                               19.167579   \n",
       "2016-01-15 03:00:00                               15.978538   \n",
       "2016-01-15 04:00:00                               19.199864   \n",
       "\n",
       "                     primary_cleaner.output.concentrate_au  \\\n",
       "date                                                         \n",
       "2016-01-15 00:00:00                              34.174427   \n",
       "2016-01-15 01:00:00                              34.118526   \n",
       "2016-01-15 02:00:00                              33.969464   \n",
       "2016-01-15 03:00:00                              28.260743   \n",
       "2016-01-15 04:00:00                              33.044932   \n",
       "\n",
       "                     primary_cleaner.output.tail_ag  \\\n",
       "date                                                  \n",
       "2016-01-15 00:00:00                       14.936526   \n",
       "2016-01-15 01:00:00                       16.250511   \n",
       "2016-01-15 02:00:00                       16.491823   \n",
       "2016-01-15 03:00:00                       16.024359   \n",
       "2016-01-15 04:00:00                       16.480185   \n",
       "\n",
       "                     primary_cleaner.output.tail_pb  \\\n",
       "date                                                  \n",
       "2016-01-15 00:00:00                        2.534912   \n",
       "2016-01-15 01:00:00                        3.049646   \n",
       "2016-01-15 02:00:00                        3.124664   \n",
       "2016-01-15 03:00:00                        2.960362   \n",
       "2016-01-15 04:00:00                        3.112100   \n",
       "\n",
       "                     primary_cleaner.output.tail_sol  \\\n",
       "date                                                   \n",
       "2016-01-15 00:00:00                         7.476074   \n",
       "2016-01-15 01:00:00                         6.733907   \n",
       "2016-01-15 02:00:00                         6.471768   \n",
       "2016-01-15 03:00:00                         6.843791   \n",
       "2016-01-15 04:00:00                         6.550154   \n",
       "\n",
       "                     primary_cleaner.output.tail_au  \\\n",
       "date                                                  \n",
       "2016-01-15 00:00:00                        2.106679   \n",
       "2016-01-15 01:00:00                        2.353017   \n",
       "2016-01-15 02:00:00                        2.416800   \n",
       "2016-01-15 03:00:00                        2.262051   \n",
       "2016-01-15 04:00:00                        2.277073   \n",
       "\n",
       "                     primary_cleaner.state.floatbank8_a_air  \\\n",
       "date                                                          \n",
       "2016-01-15 00:00:00                             1549.775757   \n",
       "2016-01-15 01:00:00                             1576.166671   \n",
       "2016-01-15 02:00:00                             1601.556163   \n",
       "2016-01-15 03:00:00                             1599.968720   \n",
       "2016-01-15 04:00:00                             1601.339707   \n",
       "\n",
       "                     primary_cleaner.state.floatbank8_a_level  \\\n",
       "date                                                            \n",
       "2016-01-15 00:00:00                               -498.912140   \n",
       "2016-01-15 01:00:00                               -500.904965   \n",
       "2016-01-15 02:00:00                               -499.997791   \n",
       "2016-01-15 03:00:00                               -500.951778   \n",
       "2016-01-15 04:00:00                               -498.975456   \n",
       "\n",
       "                     primary_cleaner.state.floatbank8_b_air  \\\n",
       "date                                                          \n",
       "2016-01-15 00:00:00                             1551.434204   \n",
       "2016-01-15 01:00:00                             1575.950626   \n",
       "2016-01-15 02:00:00                             1600.386685   \n",
       "2016-01-15 03:00:00                             1600.659236   \n",
       "2016-01-15 04:00:00                             1601.437854   \n",
       "\n",
       "                     primary_cleaner.state.floatbank8_b_level  \\\n",
       "date                                                            \n",
       "2016-01-15 00:00:00                               -516.403442   \n",
       "2016-01-15 01:00:00                               -499.865889   \n",
       "2016-01-15 02:00:00                               -500.607762   \n",
       "2016-01-15 03:00:00                               -499.677094   \n",
       "2016-01-15 04:00:00                               -500.323246   \n",
       "\n",
       "                     primary_cleaner.state.floatbank8_c_air  \\\n",
       "date                                                          \n",
       "2016-01-15 00:00:00                             1549.873901   \n",
       "2016-01-15 01:00:00                             1575.994189   \n",
       "2016-01-15 02:00:00                             1602.003542   \n",
       "2016-01-15 03:00:00                             1600.304144   \n",
       "2016-01-15 04:00:00                             1599.581894   \n",
       "\n",
       "                     primary_cleaner.state.floatbank8_c_level  \\\n",
       "date                                                            \n",
       "2016-01-15 00:00:00                               -498.666595   \n",
       "2016-01-15 01:00:00                               -499.315107   \n",
       "2016-01-15 02:00:00                               -500.870069   \n",
       "2016-01-15 03:00:00                               -500.727997   \n",
       "2016-01-15 04:00:00                               -500.888152   \n",
       "\n",
       "                     primary_cleaner.state.floatbank8_d_air  \\\n",
       "date                                                          \n",
       "2016-01-15 00:00:00                             1554.367432   \n",
       "2016-01-15 01:00:00                             1574.479259   \n",
       "2016-01-15 02:00:00                             1599.541515   \n",
       "2016-01-15 03:00:00                             1600.449520   \n",
       "2016-01-15 04:00:00                             1602.649541   \n",
       "\n",
       "                     primary_cleaner.state.floatbank8_d_level  \\\n",
       "date                                                            \n",
       "2016-01-15 00:00:00                               -493.428131   \n",
       "2016-01-15 01:00:00                               -498.931665   \n",
       "2016-01-15 02:00:00                               -499.827444   \n",
       "2016-01-15 03:00:00                               -500.052575   \n",
       "2016-01-15 04:00:00                               -500.593010   \n",
       "\n",
       "                     rougher.calculation.sulfate_to_au_concentrate  \\\n",
       "date                                                                 \n",
       "2016-01-15 00:00:00                                   41885.707031   \n",
       "2016-01-15 01:00:00                                   42050.861809   \n",
       "2016-01-15 02:00:00                                   42018.101184   \n",
       "2016-01-15 03:00:00                                   42029.447991   \n",
       "2016-01-15 04:00:00                                   42125.354245   \n",
       "\n",
       "                     rougher.calculation.floatbank10_sulfate_to_au_feed  \\\n",
       "date                                                                      \n",
       "2016-01-15 00:00:00                                        3481.779053    \n",
       "2016-01-15 01:00:00                                        3498.370979    \n",
       "2016-01-15 02:00:00                                        3495.348910    \n",
       "2016-01-15 03:00:00                                        3498.578313    \n",
       "2016-01-15 04:00:00                                        3494.800771    \n",
       "\n",
       "                     rougher.calculation.floatbank11_sulfate_to_au_feed  \\\n",
       "date                                                                      \n",
       "2016-01-15 00:00:00                                        3520.337158    \n",
       "2016-01-15 01:00:00                                        3489.981857    \n",
       "2016-01-15 02:00:00                                        3502.359819    \n",
       "2016-01-15 03:00:00                                        3499.162912    \n",
       "2016-01-15 04:00:00                                        3506.679315    \n",
       "\n",
       "                     rougher.calculation.au_pb_ratio  rougher.input.feed_ag  \\\n",
       "date                                                                          \n",
       "2016-01-15 00:00:00                         2.838687               6.100378   \n",
       "2016-01-15 01:00:00                         2.858998               6.161113   \n",
       "2016-01-15 02:00:00                         2.945989               6.116455   \n",
       "2016-01-15 03:00:00                         3.002340               6.043309   \n",
       "2016-01-15 04:00:00                         3.169615               6.060915   \n",
       "\n",
       "                     rougher.input.feed_pb  rougher.input.feed_rate  \\\n",
       "date                                                                  \n",
       "2016-01-15 00:00:00               2.284912               523.546326   \n",
       "2016-01-15 01:00:00               2.266033               525.290581   \n",
       "2016-01-15 02:00:00               2.159622               530.026610   \n",
       "2016-01-15 03:00:00               2.037807               542.590390   \n",
       "2016-01-15 04:00:00               1.786875               540.531893   \n",
       "\n",
       "                     rougher.input.feed_size  rougher.input.feed_sol  \\\n",
       "date                                                                   \n",
       "2016-01-15 00:00:00                55.486599               36.808594   \n",
       "2016-01-15 01:00:00                57.278666               35.753385   \n",
       "2016-01-15 02:00:00                57.510649               35.971630   \n",
       "2016-01-15 03:00:00                57.792734               36.862241   \n",
       "2016-01-15 04:00:00                56.047189               34.347666   \n",
       "\n",
       "                     rougher.input.feed_au  rougher.input.floatbank10_sulfate  \\\n",
       "date                                                                            \n",
       "2016-01-15 00:00:00               6.486150                          11.986616   \n",
       "2016-01-15 01:00:00               6.478583                          11.971193   \n",
       "2016-01-15 02:00:00               6.362222                          11.920603   \n",
       "2016-01-15 03:00:00               6.118189                          11.630094   \n",
       "2016-01-15 04:00:00               5.663707                          10.957755   \n",
       "\n",
       "                     rougher.input.floatbank10_xanthate  \\\n",
       "date                                                      \n",
       "2016-01-15 00:00:00                            6.007990   \n",
       "2016-01-15 01:00:00                            6.005766   \n",
       "2016-01-15 02:00:00                            6.197377   \n",
       "2016-01-15 03:00:00                            6.203177   \n",
       "2016-01-15 04:00:00                            6.198826   \n",
       "\n",
       "                     rougher.input.floatbank11_sulfate  \\\n",
       "date                                                     \n",
       "2016-01-15 00:00:00                          11.836743   \n",
       "2016-01-15 01:00:00                          11.996163   \n",
       "2016-01-15 02:00:00                          11.920305   \n",
       "2016-01-15 03:00:00                          11.692450   \n",
       "2016-01-15 04:00:00                          10.960521   \n",
       "\n",
       "                     rougher.input.floatbank11_xanthate  \\\n",
       "date                                                      \n",
       "2016-01-15 00:00:00                            6.005818   \n",
       "2016-01-15 01:00:00                            6.012594   \n",
       "2016-01-15 02:00:00                            6.204633   \n",
       "2016-01-15 03:00:00                            6.196578   \n",
       "2016-01-15 04:00:00                            6.194897   \n",
       "\n",
       "                     rougher.output.concentrate_ag  \\\n",
       "date                                                 \n",
       "2016-01-15 00:00:00                      11.500771   \n",
       "2016-01-15 01:00:00                      11.615865   \n",
       "2016-01-15 02:00:00                      11.695753   \n",
       "2016-01-15 03:00:00                      11.915047   \n",
       "2016-01-15 04:00:00                      12.411054   \n",
       "\n",
       "                     rougher.output.concentrate_pb  \\\n",
       "date                                                 \n",
       "2016-01-15 00:00:00                       7.101074   \n",
       "2016-01-15 01:00:00                       7.278807   \n",
       "2016-01-15 02:00:00                       7.216833   \n",
       "2016-01-15 03:00:00                       7.175616   \n",
       "2016-01-15 04:00:00                       7.240205   \n",
       "\n",
       "                     rougher.output.concentrate_sol  \\\n",
       "date                                                  \n",
       "2016-01-15 00:00:00                       28.029297   \n",
       "2016-01-15 01:00:00                       28.067063   \n",
       "2016-01-15 02:00:00                       27.454037   \n",
       "2016-01-15 03:00:00                       27.341277   \n",
       "2016-01-15 04:00:00                       27.041023   \n",
       "\n",
       "                     rougher.output.concentrate_au  rougher.output.recovery  \\\n",
       "date                                                                          \n",
       "2016-01-15 00:00:00                      19.793808                87.107763   \n",
       "2016-01-15 01:00:00                      20.050975                86.843261   \n",
       "2016-01-15 02:00:00                      19.737170                86.842308   \n",
       "2016-01-15 03:00:00                      19.320810                87.226430   \n",
       "2016-01-15 04:00:00                      19.216101                86.688794   \n",
       "\n",
       "                     rougher.output.tail_ag  rougher.output.tail_pb  \\\n",
       "date                                                                  \n",
       "2016-01-15 00:00:00                5.008018                0.508728   \n",
       "2016-01-15 01:00:00                4.955378                0.536689   \n",
       "2016-01-15 02:00:00                4.843460                0.546416   \n",
       "2016-01-15 03:00:00                4.655288                0.542525   \n",
       "2016-01-15 04:00:00                4.552800                0.515438   \n",
       "\n",
       "                     rougher.output.tail_sol  rougher.output.tail_au  \\\n",
       "date                                                                   \n",
       "2016-01-15 00:00:00                19.154297                1.170244   \n",
       "2016-01-15 01:00:00                18.965234                1.184827   \n",
       "2016-01-15 02:00:00                18.808533                1.162562   \n",
       "2016-01-15 03:00:00                19.330200                1.079755   \n",
       "2016-01-15 04:00:00                19.267422                1.012642   \n",
       "\n",
       "                     rougher.state.floatbank10_a_air  \\\n",
       "date                                                   \n",
       "2016-01-15 00:00:00                       999.706909   \n",
       "2016-01-15 01:00:00                      1000.286398   \n",
       "2016-01-15 02:00:00                       999.719565   \n",
       "2016-01-15 03:00:00                       999.814770   \n",
       "2016-01-15 04:00:00                       999.678690   \n",
       "\n",
       "                     rougher.state.floatbank10_a_level  \\\n",
       "date                                                     \n",
       "2016-01-15 00:00:00                        -404.066986   \n",
       "2016-01-15 01:00:00                        -400.065196   \n",
       "2016-01-15 02:00:00                        -400.074028   \n",
       "2016-01-15 03:00:00                        -400.200179   \n",
       "2016-01-15 04:00:00                        -399.752729   \n",
       "\n",
       "                     rougher.state.floatbank10_b_air  \\\n",
       "date                                                   \n",
       "2016-01-15 00:00:00                      1603.011353   \n",
       "2016-01-15 01:00:00                      1600.754587   \n",
       "2016-01-15 02:00:00                      1599.337330   \n",
       "2016-01-15 03:00:00                      1600.059442   \n",
       "2016-01-15 04:00:00                      1600.208824   \n",
       "\n",
       "                     rougher.state.floatbank10_b_level  \\\n",
       "date                                                     \n",
       "2016-01-15 00:00:00                        -434.715027   \n",
       "2016-01-15 01:00:00                        -449.953435   \n",
       "2016-01-15 02:00:00                        -450.008530   \n",
       "2016-01-15 03:00:00                        -450.619948   \n",
       "2016-01-15 04:00:00                        -449.599614   \n",
       "\n",
       "                     rougher.state.floatbank10_c_air  \\\n",
       "date                                                   \n",
       "2016-01-15 00:00:00                      1602.375000   \n",
       "2016-01-15 01:00:00                      1600.479580   \n",
       "2016-01-15 02:00:00                      1599.672797   \n",
       "2016-01-15 03:00:00                      1600.012842   \n",
       "2016-01-15 04:00:00                      1600.357732   \n",
       "\n",
       "                     rougher.state.floatbank10_c_level  \\\n",
       "date                                                     \n",
       "2016-01-15 00:00:00                        -442.204468   \n",
       "2016-01-15 01:00:00                        -449.830646   \n",
       "2016-01-15 02:00:00                        -449.954491   \n",
       "2016-01-15 03:00:00                        -449.910497   \n",
       "2016-01-15 04:00:00                        -450.034364   \n",
       "\n",
       "                     rougher.state.floatbank10_d_air  \\\n",
       "date                                                   \n",
       "2016-01-15 00:00:00                      1598.937256   \n",
       "2016-01-15 01:00:00                      1600.527589   \n",
       "2016-01-15 02:00:00                      1599.849325   \n",
       "2016-01-15 03:00:00                      1597.725177   \n",
       "2016-01-15 04:00:00                      1599.759049   \n",
       "\n",
       "                     rougher.state.floatbank10_d_level  \\\n",
       "date                                                     \n",
       "2016-01-15 00:00:00                        -451.294128   \n",
       "2016-01-15 01:00:00                        -449.953649   \n",
       "2016-01-15 02:00:00                        -449.954185   \n",
       "2016-01-15 03:00:00                        -450.130127   \n",
       "2016-01-15 04:00:00                        -449.909799   \n",
       "\n",
       "                     rougher.state.floatbank10_e_air  \\\n",
       "date                                                   \n",
       "2016-01-15 00:00:00                      1404.472046   \n",
       "2016-01-15 01:00:00                      1399.227084   \n",
       "2016-01-15 02:00:00                      1399.180945   \n",
       "2016-01-15 03:00:00                      1400.943157   \n",
       "2016-01-15 04:00:00                      1401.560902   \n",
       "\n",
       "                     rougher.state.floatbank10_e_level  \\\n",
       "date                                                     \n",
       "2016-01-15 00:00:00                        -455.462982   \n",
       "2016-01-15 01:00:00                        -450.869848   \n",
       "2016-01-15 02:00:00                        -449.937588   \n",
       "2016-01-15 03:00:00                        -450.030142   \n",
       "2016-01-15 04:00:00                        -448.877187   \n",
       "\n",
       "                     rougher.state.floatbank10_f_air  \\\n",
       "date                                                   \n",
       "2016-01-15 00:00:00                      1416.354980   \n",
       "2016-01-15 01:00:00                      1399.719514   \n",
       "2016-01-15 02:00:00                      1400.316682   \n",
       "2016-01-15 03:00:00                      1400.234743   \n",
       "2016-01-15 04:00:00                      1401.160227   \n",
       "\n",
       "                     rougher.state.floatbank10_f_level  \\\n",
       "date                                                     \n",
       "2016-01-15 00:00:00                        -451.939636   \n",
       "2016-01-15 01:00:00                        -450.119001   \n",
       "2016-01-15 02:00:00                        -450.527147   \n",
       "2016-01-15 03:00:00                        -449.790835   \n",
       "2016-01-15 04:00:00                        -450.407128   \n",
       "\n",
       "                     secondary_cleaner.output.tail_ag  \\\n",
       "date                                                    \n",
       "2016-01-15 00:00:00                         14.500184   \n",
       "2016-01-15 01:00:00                         14.265474   \n",
       "2016-01-15 02:00:00                         14.115662   \n",
       "2016-01-15 03:00:00                         13.732071   \n",
       "2016-01-15 04:00:00                         14.079996   \n",
       "\n",
       "                     secondary_cleaner.output.tail_pb  \\\n",
       "date                                                    \n",
       "2016-01-15 00:00:00                          4.694824   \n",
       "2016-01-15 01:00:00                          4.592547   \n",
       "2016-01-15 02:00:00                          4.624775   \n",
       "2016-01-15 03:00:00                          4.482453   \n",
       "2016-01-15 04:00:00                          4.470737   \n",
       "\n",
       "                     secondary_cleaner.output.tail_sol  \\\n",
       "date                                                     \n",
       "2016-01-15 00:00:00                           8.764648   \n",
       "2016-01-15 01:00:00                           9.001494   \n",
       "2016-01-15 02:00:00                           8.842896   \n",
       "2016-01-15 03:00:00                           9.122857   \n",
       "2016-01-15 04:00:00                           8.871028   \n",
       "\n",
       "                     secondary_cleaner.output.tail_au  \\\n",
       "date                                                    \n",
       "2016-01-15 00:00:00                          2.606185   \n",
       "2016-01-15 01:00:00                          2.488248   \n",
       "2016-01-15 02:00:00                          2.458187   \n",
       "2016-01-15 03:00:00                          2.322062   \n",
       "2016-01-15 04:00:00                          2.330448   \n",
       "\n",
       "                     secondary_cleaner.state.floatbank2_a_air  \\\n",
       "date                                                            \n",
       "2016-01-15 00:00:00                                 25.853109   \n",
       "2016-01-15 01:00:00                                 25.880539   \n",
       "2016-01-15 02:00:00                                 26.005245   \n",
       "2016-01-15 03:00:00                                 25.942508   \n",
       "2016-01-15 04:00:00                                 26.024787   \n",
       "\n",
       "                     secondary_cleaner.state.floatbank2_a_level  \\\n",
       "date                                                              \n",
       "2016-01-15 00:00:00                                 -498.526489   \n",
       "2016-01-15 01:00:00                                 -499.989656   \n",
       "2016-01-15 02:00:00                                 -499.929616   \n",
       "2016-01-15 03:00:00                                 -499.176749   \n",
       "2016-01-15 04:00:00                                 -500.279091   \n",
       "\n",
       "                     secondary_cleaner.state.floatbank2_b_air  \\\n",
       "date                                                            \n",
       "2016-01-15 00:00:00                                 23.893660   \n",
       "2016-01-15 01:00:00                                 23.889530   \n",
       "2016-01-15 02:00:00                                 23.886657   \n",
       "2016-01-15 03:00:00                                 23.955516   \n",
       "2016-01-15 04:00:00                                 23.955345   \n",
       "\n",
       "                     secondary_cleaner.state.floatbank2_b_level  \\\n",
       "date                                                              \n",
       "2016-01-15 00:00:00                                 -501.406281   \n",
       "2016-01-15 01:00:00                                 -500.372428   \n",
       "2016-01-15 02:00:00                                 -499.951928   \n",
       "2016-01-15 03:00:00                                 -499.848796   \n",
       "2016-01-15 04:00:00                                 -500.593614   \n",
       "\n",
       "                     secondary_cleaner.state.floatbank3_a_air  \\\n",
       "date                                                            \n",
       "2016-01-15 00:00:00                                 23.961798   \n",
       "2016-01-15 01:00:00                                 23.970550   \n",
       "2016-01-15 02:00:00                                 23.913535   \n",
       "2016-01-15 03:00:00                                 23.966838   \n",
       "2016-01-15 04:00:00                                 23.985703   \n",
       "\n",
       "                     secondary_cleaner.state.floatbank3_a_level  \\\n",
       "date                                                              \n",
       "2016-01-15 00:00:00                                 -495.262817   \n",
       "2016-01-15 01:00:00                                 -500.085473   \n",
       "2016-01-15 02:00:00                                 -499.442343   \n",
       "2016-01-15 03:00:00                                 -500.008812   \n",
       "2016-01-15 04:00:00                                 -500.083811   \n",
       "\n",
       "                     secondary_cleaner.state.floatbank3_b_air  \\\n",
       "date                                                            \n",
       "2016-01-15 00:00:00                                 21.940409   \n",
       "2016-01-15 01:00:00                                 22.085714   \n",
       "2016-01-15 02:00:00                                 23.957717   \n",
       "2016-01-15 03:00:00                                 23.954443   \n",
       "2016-01-15 04:00:00                                 23.958945   \n",
       "\n",
       "                     secondary_cleaner.state.floatbank3_b_level  \\\n",
       "date                                                              \n",
       "2016-01-15 00:00:00                                 -499.340973   \n",
       "2016-01-15 01:00:00                                 -499.446897   \n",
       "2016-01-15 02:00:00                                 -499.901982   \n",
       "2016-01-15 03:00:00                                 -499.944710   \n",
       "2016-01-15 04:00:00                                 -499.990309   \n",
       "\n",
       "                     secondary_cleaner.state.floatbank4_a_air  \\\n",
       "date                                                            \n",
       "2016-01-15 00:00:00                                 14.016835   \n",
       "2016-01-15 01:00:00                                 13.992281   \n",
       "2016-01-15 02:00:00                                 14.015015   \n",
       "2016-01-15 03:00:00                                 14.036510   \n",
       "2016-01-15 04:00:00                                 14.027298   \n",
       "\n",
       "                     secondary_cleaner.state.floatbank4_a_level  \\\n",
       "date                                                              \n",
       "2016-01-15 00:00:00                                 -502.488007   \n",
       "2016-01-15 01:00:00                                 -505.503262   \n",
       "2016-01-15 02:00:00                                 -502.520901   \n",
       "2016-01-15 03:00:00                                 -500.857308   \n",
       "2016-01-15 04:00:00                                 -499.838632   \n",
       "\n",
       "                     secondary_cleaner.state.floatbank4_b_air  \\\n",
       "date                                                            \n",
       "2016-01-15 00:00:00                                 12.099931   \n",
       "2016-01-15 01:00:00                                 11.950531   \n",
       "2016-01-15 02:00:00                                 11.912783   \n",
       "2016-01-15 03:00:00                                 11.999550   \n",
       "2016-01-15 04:00:00                                 11.953070   \n",
       "\n",
       "                     secondary_cleaner.state.floatbank4_b_level  \\\n",
       "date                                                              \n",
       "2016-01-15 00:00:00                                 -504.715942   \n",
       "2016-01-15 01:00:00                                 -501.331529   \n",
       "2016-01-15 02:00:00                                 -501.133383   \n",
       "2016-01-15 03:00:00                                 -501.193686   \n",
       "2016-01-15 04:00:00                                 -501.053894   \n",
       "\n",
       "                     secondary_cleaner.state.floatbank5_a_air  \\\n",
       "date                                                            \n",
       "2016-01-15 00:00:00                                  9.925633   \n",
       "2016-01-15 01:00:00                                 10.039245   \n",
       "2016-01-15 02:00:00                                 10.070913   \n",
       "2016-01-15 03:00:00                                  9.970366   \n",
       "2016-01-15 04:00:00                                  9.925709   \n",
       "\n",
       "                     secondary_cleaner.state.floatbank5_a_level  \\\n",
       "date                                                              \n",
       "2016-01-15 00:00:00                                 -498.310211   \n",
       "2016-01-15 01:00:00                                 -500.169983   \n",
       "2016-01-15 02:00:00                                 -500.129135   \n",
       "2016-01-15 03:00:00                                 -499.201640   \n",
       "2016-01-15 04:00:00                                 -501.686727   \n",
       "\n",
       "                     secondary_cleaner.state.floatbank5_b_air  \\\n",
       "date                                                            \n",
       "2016-01-15 00:00:00                                  8.079666   \n",
       "2016-01-15 01:00:00                                  7.984757   \n",
       "2016-01-15 02:00:00                                  8.013877   \n",
       "2016-01-15 03:00:00                                  7.977324   \n",
       "2016-01-15 04:00:00                                  7.894242   \n",
       "\n",
       "                     secondary_cleaner.state.floatbank5_b_level  \\\n",
       "date                                                              \n",
       "2016-01-15 00:00:00                                 -500.470978   \n",
       "2016-01-15 01:00:00                                 -500.582168   \n",
       "2016-01-15 02:00:00                                 -500.517572   \n",
       "2016-01-15 03:00:00                                 -500.255908   \n",
       "2016-01-15 04:00:00                                 -500.356035   \n",
       "\n",
       "                     secondary_cleaner.state.floatbank6_a_air  \\\n",
       "date                                                            \n",
       "2016-01-15 00:00:00                                 14.151341   \n",
       "2016-01-15 01:00:00                                 13.998353   \n",
       "2016-01-15 02:00:00                                 14.028663   \n",
       "2016-01-15 03:00:00                                 14.005551   \n",
       "2016-01-15 04:00:00                                 13.996647   \n",
       "\n",
       "                     secondary_cleaner.state.floatbank6_a_level  \n",
       "date                                                             \n",
       "2016-01-15 00:00:00                                 -605.841980  \n",
       "2016-01-15 01:00:00                                 -599.787184  \n",
       "2016-01-15 02:00:00                                 -601.427363  \n",
       "2016-01-15 03:00:00                                 -599.996129  \n",
       "2016-01-15 04:00:00                                 -601.496691  "
      ]
     },
     "metadata": {},
     "output_type": "display_data"
    },
    {
     "name": "stdout",
     "output_type": "stream",
     "text": [
      "<class 'pandas.core.frame.DataFrame'>\n",
      "Index: 19439 entries, 2016-01-15 00:00:00 to 2018-08-18 10:59:59\n",
      "Data columns (total 86 columns):\n",
      " #   Column                                              Non-Null Count  Dtype  \n",
      "---  ------                                              --------------  -----  \n",
      " 0   final.output.concentrate_ag                         19438 non-null  float64\n",
      " 1   final.output.concentrate_pb                         19438 non-null  float64\n",
      " 2   final.output.concentrate_sol                        19228 non-null  float64\n",
      " 3   final.output.concentrate_au                         19439 non-null  float64\n",
      " 4   final.output.recovery                               19439 non-null  float64\n",
      " 5   final.output.tail_ag                                19438 non-null  float64\n",
      " 6   final.output.tail_pb                                19338 non-null  float64\n",
      " 7   final.output.tail_sol                               19433 non-null  float64\n",
      " 8   final.output.tail_au                                19439 non-null  float64\n",
      " 9   primary_cleaner.input.sulfate                       19415 non-null  float64\n",
      " 10  primary_cleaner.input.depressant                    19402 non-null  float64\n",
      " 11  primary_cleaner.input.feed_size                     19439 non-null  float64\n",
      " 12  primary_cleaner.input.xanthate                      19335 non-null  float64\n",
      " 13  primary_cleaner.output.concentrate_ag               19439 non-null  float64\n",
      " 14  primary_cleaner.output.concentrate_pb               19323 non-null  float64\n",
      " 15  primary_cleaner.output.concentrate_sol              19069 non-null  float64\n",
      " 16  primary_cleaner.output.concentrate_au               19439 non-null  float64\n",
      " 17  primary_cleaner.output.tail_ag                      19435 non-null  float64\n",
      " 18  primary_cleaner.output.tail_pb                      19418 non-null  float64\n",
      " 19  primary_cleaner.output.tail_sol                     19377 non-null  float64\n",
      " 20  primary_cleaner.output.tail_au                      19439 non-null  float64\n",
      " 21  primary_cleaner.state.floatbank8_a_air              19435 non-null  float64\n",
      " 22  primary_cleaner.state.floatbank8_a_level            19438 non-null  float64\n",
      " 23  primary_cleaner.state.floatbank8_b_air              19435 non-null  float64\n",
      " 24  primary_cleaner.state.floatbank8_b_level            19438 non-null  float64\n",
      " 25  primary_cleaner.state.floatbank8_c_air              19437 non-null  float64\n",
      " 26  primary_cleaner.state.floatbank8_c_level            19438 non-null  float64\n",
      " 27  primary_cleaner.state.floatbank8_d_air              19436 non-null  float64\n",
      " 28  primary_cleaner.state.floatbank8_d_level            19438 non-null  float64\n",
      " 29  rougher.calculation.sulfate_to_au_concentrate       19437 non-null  float64\n",
      " 30  rougher.calculation.floatbank10_sulfate_to_au_feed  19437 non-null  float64\n",
      " 31  rougher.calculation.floatbank11_sulfate_to_au_feed  19437 non-null  float64\n",
      " 32  rougher.calculation.au_pb_ratio                     19439 non-null  float64\n",
      " 33  rougher.input.feed_ag                               19439 non-null  float64\n",
      " 34  rougher.input.feed_pb                               19339 non-null  float64\n",
      " 35  rougher.input.feed_rate                             19428 non-null  float64\n",
      " 36  rougher.input.feed_size                             19294 non-null  float64\n",
      " 37  rougher.input.feed_sol                              19340 non-null  float64\n",
      " 38  rougher.input.feed_au                               19439 non-null  float64\n",
      " 39  rougher.input.floatbank10_sulfate                   19405 non-null  float64\n",
      " 40  rougher.input.floatbank10_xanthate                  19431 non-null  float64\n",
      " 41  rougher.input.floatbank11_sulfate                   19395 non-null  float64\n",
      " 42  rougher.input.floatbank11_xanthate                  18986 non-null  float64\n",
      " 43  rougher.output.concentrate_ag                       19439 non-null  float64\n",
      " 44  rougher.output.concentrate_pb                       19439 non-null  float64\n",
      " 45  rougher.output.concentrate_sol                      19416 non-null  float64\n",
      " 46  rougher.output.concentrate_au                       19439 non-null  float64\n",
      " 47  rougher.output.recovery                             19439 non-null  float64\n",
      " 48  rougher.output.tail_ag                              19438 non-null  float64\n",
      " 49  rougher.output.tail_pb                              19439 non-null  float64\n",
      " 50  rougher.output.tail_sol                             19439 non-null  float64\n",
      " 51  rougher.output.tail_au                              19439 non-null  float64\n",
      " 52  rougher.state.floatbank10_a_air                     19438 non-null  float64\n",
      " 53  rougher.state.floatbank10_a_level                   19438 non-null  float64\n",
      " 54  rougher.state.floatbank10_b_air                     19438 non-null  float64\n",
      " 55  rougher.state.floatbank10_b_level                   19438 non-null  float64\n",
      " 56  rougher.state.floatbank10_c_air                     19438 non-null  float64\n",
      " 57  rougher.state.floatbank10_c_level                   19438 non-null  float64\n",
      " 58  rougher.state.floatbank10_d_air                     19439 non-null  float64\n",
      " 59  rougher.state.floatbank10_d_level                   19439 non-null  float64\n",
      " 60  rougher.state.floatbank10_e_air                     19003 non-null  float64\n",
      " 61  rougher.state.floatbank10_e_level                   19439 non-null  float64\n",
      " 62  rougher.state.floatbank10_f_air                     19439 non-null  float64\n",
      " 63  rougher.state.floatbank10_f_level                   19439 non-null  float64\n",
      " 64  secondary_cleaner.output.tail_ag                    19437 non-null  float64\n",
      " 65  secondary_cleaner.output.tail_pb                    19427 non-null  float64\n",
      " 66  secondary_cleaner.output.tail_sol                   17691 non-null  float64\n",
      " 67  secondary_cleaner.output.tail_au                    19439 non-null  float64\n",
      " 68  secondary_cleaner.state.floatbank2_a_air            19219 non-null  float64\n",
      " 69  secondary_cleaner.state.floatbank2_a_level          19438 non-null  float64\n",
      " 70  secondary_cleaner.state.floatbank2_b_air            19416 non-null  float64\n",
      " 71  secondary_cleaner.state.floatbank2_b_level          19438 non-null  float64\n",
      " 72  secondary_cleaner.state.floatbank3_a_air            19426 non-null  float64\n",
      " 73  secondary_cleaner.state.floatbank3_a_level          19438 non-null  float64\n",
      " 74  secondary_cleaner.state.floatbank3_b_air            19438 non-null  float64\n",
      " 75  secondary_cleaner.state.floatbank3_b_level          19438 non-null  float64\n",
      " 76  secondary_cleaner.state.floatbank4_a_air            19433 non-null  float64\n",
      " 77  secondary_cleaner.state.floatbank4_a_level          19438 non-null  float64\n",
      " 78  secondary_cleaner.state.floatbank4_b_air            19438 non-null  float64\n",
      " 79  secondary_cleaner.state.floatbank4_b_level          19438 non-null  float64\n",
      " 80  secondary_cleaner.state.floatbank5_a_air            19438 non-null  float64\n",
      " 81  secondary_cleaner.state.floatbank5_a_level          19438 non-null  float64\n",
      " 82  secondary_cleaner.state.floatbank5_b_air            19438 non-null  float64\n",
      " 83  secondary_cleaner.state.floatbank5_b_level          19438 non-null  float64\n",
      " 84  secondary_cleaner.state.floatbank6_a_air            19437 non-null  float64\n",
      " 85  secondary_cleaner.state.floatbank6_a_level          19438 non-null  float64\n",
      "dtypes: float64(86)\n",
      "memory usage: 12.9+ MB\n"
     ]
    },
    {
     "data": {
      "text/html": [
       "<div>\n",
       "<style scoped>\n",
       "    .dataframe tbody tr th:only-of-type {\n",
       "        vertical-align: middle;\n",
       "    }\n",
       "\n",
       "    .dataframe tbody tr th {\n",
       "        vertical-align: top;\n",
       "    }\n",
       "\n",
       "    .dataframe thead th {\n",
       "        text-align: right;\n",
       "    }\n",
       "</style>\n",
       "<table border=\"1\" class=\"dataframe\">\n",
       "  <thead>\n",
       "    <tr style=\"text-align: right;\">\n",
       "      <th></th>\n",
       "      <th>final.output.concentrate_ag</th>\n",
       "      <th>final.output.concentrate_pb</th>\n",
       "      <th>final.output.concentrate_sol</th>\n",
       "      <th>final.output.concentrate_au</th>\n",
       "      <th>final.output.recovery</th>\n",
       "      <th>final.output.tail_ag</th>\n",
       "      <th>final.output.tail_pb</th>\n",
       "      <th>final.output.tail_sol</th>\n",
       "      <th>final.output.tail_au</th>\n",
       "      <th>primary_cleaner.input.sulfate</th>\n",
       "      <th>primary_cleaner.input.depressant</th>\n",
       "      <th>primary_cleaner.input.feed_size</th>\n",
       "      <th>primary_cleaner.input.xanthate</th>\n",
       "      <th>primary_cleaner.output.concentrate_ag</th>\n",
       "      <th>primary_cleaner.output.concentrate_pb</th>\n",
       "      <th>primary_cleaner.output.concentrate_sol</th>\n",
       "      <th>primary_cleaner.output.concentrate_au</th>\n",
       "      <th>primary_cleaner.output.tail_ag</th>\n",
       "      <th>primary_cleaner.output.tail_pb</th>\n",
       "      <th>primary_cleaner.output.tail_sol</th>\n",
       "      <th>primary_cleaner.output.tail_au</th>\n",
       "      <th>primary_cleaner.state.floatbank8_a_air</th>\n",
       "      <th>primary_cleaner.state.floatbank8_a_level</th>\n",
       "      <th>primary_cleaner.state.floatbank8_b_air</th>\n",
       "      <th>primary_cleaner.state.floatbank8_b_level</th>\n",
       "      <th>primary_cleaner.state.floatbank8_c_air</th>\n",
       "      <th>primary_cleaner.state.floatbank8_c_level</th>\n",
       "      <th>primary_cleaner.state.floatbank8_d_air</th>\n",
       "      <th>primary_cleaner.state.floatbank8_d_level</th>\n",
       "      <th>rougher.calculation.sulfate_to_au_concentrate</th>\n",
       "      <th>rougher.calculation.floatbank10_sulfate_to_au_feed</th>\n",
       "      <th>rougher.calculation.floatbank11_sulfate_to_au_feed</th>\n",
       "      <th>rougher.calculation.au_pb_ratio</th>\n",
       "      <th>rougher.input.feed_ag</th>\n",
       "      <th>rougher.input.feed_pb</th>\n",
       "      <th>rougher.input.feed_rate</th>\n",
       "      <th>rougher.input.feed_size</th>\n",
       "      <th>rougher.input.feed_sol</th>\n",
       "      <th>rougher.input.feed_au</th>\n",
       "      <th>rougher.input.floatbank10_sulfate</th>\n",
       "      <th>rougher.input.floatbank10_xanthate</th>\n",
       "      <th>rougher.input.floatbank11_sulfate</th>\n",
       "      <th>rougher.input.floatbank11_xanthate</th>\n",
       "      <th>rougher.output.concentrate_ag</th>\n",
       "      <th>rougher.output.concentrate_pb</th>\n",
       "      <th>rougher.output.concentrate_sol</th>\n",
       "      <th>rougher.output.concentrate_au</th>\n",
       "      <th>rougher.output.recovery</th>\n",
       "      <th>rougher.output.tail_ag</th>\n",
       "      <th>rougher.output.tail_pb</th>\n",
       "      <th>rougher.output.tail_sol</th>\n",
       "      <th>rougher.output.tail_au</th>\n",
       "      <th>rougher.state.floatbank10_a_air</th>\n",
       "      <th>rougher.state.floatbank10_a_level</th>\n",
       "      <th>rougher.state.floatbank10_b_air</th>\n",
       "      <th>rougher.state.floatbank10_b_level</th>\n",
       "      <th>rougher.state.floatbank10_c_air</th>\n",
       "      <th>rougher.state.floatbank10_c_level</th>\n",
       "      <th>rougher.state.floatbank10_d_air</th>\n",
       "      <th>rougher.state.floatbank10_d_level</th>\n",
       "      <th>rougher.state.floatbank10_e_air</th>\n",
       "      <th>rougher.state.floatbank10_e_level</th>\n",
       "      <th>rougher.state.floatbank10_f_air</th>\n",
       "      <th>rougher.state.floatbank10_f_level</th>\n",
       "      <th>secondary_cleaner.output.tail_ag</th>\n",
       "      <th>secondary_cleaner.output.tail_pb</th>\n",
       "      <th>secondary_cleaner.output.tail_sol</th>\n",
       "      <th>secondary_cleaner.output.tail_au</th>\n",
       "      <th>secondary_cleaner.state.floatbank2_a_air</th>\n",
       "      <th>secondary_cleaner.state.floatbank2_a_level</th>\n",
       "      <th>secondary_cleaner.state.floatbank2_b_air</th>\n",
       "      <th>secondary_cleaner.state.floatbank2_b_level</th>\n",
       "      <th>secondary_cleaner.state.floatbank3_a_air</th>\n",
       "      <th>secondary_cleaner.state.floatbank3_a_level</th>\n",
       "      <th>secondary_cleaner.state.floatbank3_b_air</th>\n",
       "      <th>secondary_cleaner.state.floatbank3_b_level</th>\n",
       "      <th>secondary_cleaner.state.floatbank4_a_air</th>\n",
       "      <th>secondary_cleaner.state.floatbank4_a_level</th>\n",
       "      <th>secondary_cleaner.state.floatbank4_b_air</th>\n",
       "      <th>secondary_cleaner.state.floatbank4_b_level</th>\n",
       "      <th>secondary_cleaner.state.floatbank5_a_air</th>\n",
       "      <th>secondary_cleaner.state.floatbank5_a_level</th>\n",
       "      <th>secondary_cleaner.state.floatbank5_b_air</th>\n",
       "      <th>secondary_cleaner.state.floatbank5_b_level</th>\n",
       "      <th>secondary_cleaner.state.floatbank6_a_air</th>\n",
       "      <th>secondary_cleaner.state.floatbank6_a_level</th>\n",
       "    </tr>\n",
       "  </thead>\n",
       "  <tbody>\n",
       "    <tr>\n",
       "      <th>count</th>\n",
       "      <td>19438.000000</td>\n",
       "      <td>19438.000000</td>\n",
       "      <td>19228.000000</td>\n",
       "      <td>19439.000000</td>\n",
       "      <td>19439.000000</td>\n",
       "      <td>19438.000000</td>\n",
       "      <td>19338.000000</td>\n",
       "      <td>19433.000000</td>\n",
       "      <td>19439.000000</td>\n",
       "      <td>19415.000000</td>\n",
       "      <td>19402.000000</td>\n",
       "      <td>19439.000000</td>\n",
       "      <td>19335.000000</td>\n",
       "      <td>19439.000000</td>\n",
       "      <td>19323.000000</td>\n",
       "      <td>19069.000000</td>\n",
       "      <td>19439.000000</td>\n",
       "      <td>19435.000000</td>\n",
       "      <td>19418.000000</td>\n",
       "      <td>19377.000000</td>\n",
       "      <td>19439.000000</td>\n",
       "      <td>1.943500e+04</td>\n",
       "      <td>19438.000000</td>\n",
       "      <td>1.943500e+04</td>\n",
       "      <td>19438.000000</td>\n",
       "      <td>1.943700e+04</td>\n",
       "      <td>19438.000000</td>\n",
       "      <td>1.943600e+04</td>\n",
       "      <td>19438.000000</td>\n",
       "      <td>1.943700e+04</td>\n",
       "      <td>19437.000000</td>\n",
       "      <td>19437.000000</td>\n",
       "      <td>19439.000000</td>\n",
       "      <td>19439.000000</td>\n",
       "      <td>19339.000000</td>\n",
       "      <td>19428.000000</td>\n",
       "      <td>19294.000000</td>\n",
       "      <td>19340.000000</td>\n",
       "      <td>19439.000000</td>\n",
       "      <td>19405.000000</td>\n",
       "      <td>19431.000000</td>\n",
       "      <td>19395.000000</td>\n",
       "      <td>18986.000000</td>\n",
       "      <td>19439.000000</td>\n",
       "      <td>19439.000000</td>\n",
       "      <td>19416.000000</td>\n",
       "      <td>19439.000000</td>\n",
       "      <td>19439.000000</td>\n",
       "      <td>19438.000000</td>\n",
       "      <td>19439.000000</td>\n",
       "      <td>19439.000000</td>\n",
       "      <td>19439.000000</td>\n",
       "      <td>19438.000000</td>\n",
       "      <td>19438.000000</td>\n",
       "      <td>19438.000000</td>\n",
       "      <td>19438.000000</td>\n",
       "      <td>19438.000000</td>\n",
       "      <td>19438.000000</td>\n",
       "      <td>19439.000000</td>\n",
       "      <td>19439.000000</td>\n",
       "      <td>19003.000000</td>\n",
       "      <td>19439.000000</td>\n",
       "      <td>19439.000000</td>\n",
       "      <td>19439.000000</td>\n",
       "      <td>19437.000000</td>\n",
       "      <td>19427.000000</td>\n",
       "      <td>17691.000000</td>\n",
       "      <td>19439.000000</td>\n",
       "      <td>19219.000000</td>\n",
       "      <td>19438.000000</td>\n",
       "      <td>19416.000000</td>\n",
       "      <td>19438.000000</td>\n",
       "      <td>19426.000000</td>\n",
       "      <td>19438.000000</td>\n",
       "      <td>19438.000000</td>\n",
       "      <td>19438.000000</td>\n",
       "      <td>19433.000000</td>\n",
       "      <td>19438.000000</td>\n",
       "      <td>19438.000000</td>\n",
       "      <td>19438.000000</td>\n",
       "      <td>19438.000000</td>\n",
       "      <td>19438.000000</td>\n",
       "      <td>19438.000000</td>\n",
       "      <td>19438.000000</td>\n",
       "      <td>19437.000000</td>\n",
       "      <td>19438.000000</td>\n",
       "    </tr>\n",
       "    <tr>\n",
       "      <th>mean</th>\n",
       "      <td>5.168470</td>\n",
       "      <td>9.978895</td>\n",
       "      <td>9.501224</td>\n",
       "      <td>44.076513</td>\n",
       "      <td>67.050208</td>\n",
       "      <td>9.688589</td>\n",
       "      <td>2.705795</td>\n",
       "      <td>10.583728</td>\n",
       "      <td>3.042467</td>\n",
       "      <td>144.624774</td>\n",
       "      <td>8.817039</td>\n",
       "      <td>7.307078</td>\n",
       "      <td>1.021795</td>\n",
       "      <td>8.442408</td>\n",
       "      <td>9.829530</td>\n",
       "      <td>10.489499</td>\n",
       "      <td>32.119400</td>\n",
       "      <td>16.145826</td>\n",
       "      <td>3.435656</td>\n",
       "      <td>7.973209</td>\n",
       "      <td>3.914179</td>\n",
       "      <td>1.589354e+03</td>\n",
       "      <td>-491.195012</td>\n",
       "      <td>1.591344e+03</td>\n",
       "      <td>-492.192978</td>\n",
       "      <td>1.586669e+03</td>\n",
       "      <td>-491.980070</td>\n",
       "      <td>1.542912e+03</td>\n",
       "      <td>-488.017382</td>\n",
       "      <td>4.217119e+04</td>\n",
       "      <td>3393.052498</td>\n",
       "      <td>3256.854171</td>\n",
       "      <td>2.420119</td>\n",
       "      <td>8.794927</td>\n",
       "      <td>3.598085</td>\n",
       "      <td>478.320042</td>\n",
       "      <td>58.970310</td>\n",
       "      <td>36.695114</td>\n",
       "      <td>8.266097</td>\n",
       "      <td>12.334373</td>\n",
       "      <td>6.021474</td>\n",
       "      <td>12.064140</td>\n",
       "      <td>6.065533</td>\n",
       "      <td>11.994759</td>\n",
       "      <td>7.606272</td>\n",
       "      <td>28.805571</td>\n",
       "      <td>19.772000</td>\n",
       "      <td>83.328587</td>\n",
       "      <td>5.588982</td>\n",
       "      <td>0.645782</td>\n",
       "      <td>18.057106</td>\n",
       "      <td>1.816391</td>\n",
       "      <td>1105.315068</td>\n",
       "      <td>-376.610690</td>\n",
       "      <td>1320.221139</td>\n",
       "      <td>-467.247826</td>\n",
       "      <td>1299.968799</td>\n",
       "      <td>-467.716946</td>\n",
       "      <td>1211.563299</td>\n",
       "      <td>-468.239912</td>\n",
       "      <td>1080.869685</td>\n",
       "      <td>-466.037742</td>\n",
       "      <td>1025.274256</td>\n",
       "      <td>-466.265327</td>\n",
       "      <td>14.586833</td>\n",
       "      <td>5.777703</td>\n",
       "      <td>7.167247</td>\n",
       "      <td>4.339625</td>\n",
       "      <td>28.705564</td>\n",
       "      <td>-502.367331</td>\n",
       "      <td>24.106800</td>\n",
       "      <td>-503.230712</td>\n",
       "      <td>28.199338</td>\n",
       "      <td>-486.203350</td>\n",
       "      <td>22.200645</td>\n",
       "      <td>-493.742107</td>\n",
       "      <td>18.987674</td>\n",
       "      <td>-485.894516</td>\n",
       "      <td>15.010366</td>\n",
       "      <td>-461.078636</td>\n",
       "      <td>15.694452</td>\n",
       "      <td>-488.684065</td>\n",
       "      <td>12.198224</td>\n",
       "      <td>-487.149827</td>\n",
       "      <td>18.959024</td>\n",
       "      <td>-505.436305</td>\n",
       "    </tr>\n",
       "    <tr>\n",
       "      <th>std</th>\n",
       "      <td>1.372348</td>\n",
       "      <td>1.669240</td>\n",
       "      <td>2.787537</td>\n",
       "      <td>5.129784</td>\n",
       "      <td>10.125840</td>\n",
       "      <td>2.328642</td>\n",
       "      <td>0.949077</td>\n",
       "      <td>2.868782</td>\n",
       "      <td>0.922808</td>\n",
       "      <td>44.464071</td>\n",
       "      <td>3.286186</td>\n",
       "      <td>0.613509</td>\n",
       "      <td>0.513254</td>\n",
       "      <td>2.054465</td>\n",
       "      <td>2.556843</td>\n",
       "      <td>3.909639</td>\n",
       "      <td>5.627611</td>\n",
       "      <td>3.548598</td>\n",
       "      <td>1.392536</td>\n",
       "      <td>2.212677</td>\n",
       "      <td>1.593034</td>\n",
       "      <td>1.289968e+02</td>\n",
       "      <td>32.431842</td>\n",
       "      <td>1.318109e+02</td>\n",
       "      <td>33.794822</td>\n",
       "      <td>1.361114e+02</td>\n",
       "      <td>32.711455</td>\n",
       "      <td>2.461996e+02</td>\n",
       "      <td>43.959780</td>\n",
       "      <td>3.243621e+05</td>\n",
       "      <td>4943.845943</td>\n",
       "      <td>5781.423659</td>\n",
       "      <td>0.814935</td>\n",
       "      <td>1.936847</td>\n",
       "      <td>1.049486</td>\n",
       "      <td>105.373758</td>\n",
       "      <td>21.634478</td>\n",
       "      <td>5.145445</td>\n",
       "      <td>1.955092</td>\n",
       "      <td>3.427317</td>\n",
       "      <td>1.127263</td>\n",
       "      <td>3.784221</td>\n",
       "      <td>1.099118</td>\n",
       "      <td>2.733862</td>\n",
       "      <td>1.796757</td>\n",
       "      <td>5.944207</td>\n",
       "      <td>3.753600</td>\n",
       "      <td>14.148086</td>\n",
       "      <td>1.111288</td>\n",
       "      <td>0.251526</td>\n",
       "      <td>3.449218</td>\n",
       "      <td>0.680046</td>\n",
       "      <td>160.826798</td>\n",
       "      <td>93.909667</td>\n",
       "      <td>176.287095</td>\n",
       "      <td>54.673142</td>\n",
       "      <td>202.804325</td>\n",
       "      <td>53.534825</td>\n",
       "      <td>204.019326</td>\n",
       "      <td>53.921458</td>\n",
       "      <td>172.149992</td>\n",
       "      <td>57.384424</td>\n",
       "      <td>164.487837</td>\n",
       "      <td>57.850263</td>\n",
       "      <td>4.265202</td>\n",
       "      <td>2.774598</td>\n",
       "      <td>3.916079</td>\n",
       "      <td>2.326751</td>\n",
       "      <td>5.458789</td>\n",
       "      <td>53.571950</td>\n",
       "      <td>5.749616</td>\n",
       "      <td>56.567724</td>\n",
       "      <td>6.134908</td>\n",
       "      <td>54.412349</td>\n",
       "      <td>5.574001</td>\n",
       "      <td>43.372158</td>\n",
       "      <td>5.411058</td>\n",
       "      <td>47.758570</td>\n",
       "      <td>4.890228</td>\n",
       "      <td>67.405524</td>\n",
       "      <td>5.510974</td>\n",
       "      <td>34.533396</td>\n",
       "      <td>5.333024</td>\n",
       "      <td>38.347312</td>\n",
       "      <td>5.550498</td>\n",
       "      <td>37.689057</td>\n",
       "    </tr>\n",
       "    <tr>\n",
       "      <th>min</th>\n",
       "      <td>0.000000</td>\n",
       "      <td>0.000000</td>\n",
       "      <td>0.000000</td>\n",
       "      <td>0.000000</td>\n",
       "      <td>0.000000</td>\n",
       "      <td>0.000000</td>\n",
       "      <td>0.000000</td>\n",
       "      <td>0.000000</td>\n",
       "      <td>0.000000</td>\n",
       "      <td>0.003112</td>\n",
       "      <td>0.000000</td>\n",
       "      <td>1.080000</td>\n",
       "      <td>0.000005</td>\n",
       "      <td>0.000000</td>\n",
       "      <td>0.000000</td>\n",
       "      <td>0.000000</td>\n",
       "      <td>0.000000</td>\n",
       "      <td>0.000000</td>\n",
       "      <td>0.000000</td>\n",
       "      <td>0.000000</td>\n",
       "      <td>0.000000</td>\n",
       "      <td>5.445860e-32</td>\n",
       "      <td>-798.641662</td>\n",
       "      <td>6.647490e-32</td>\n",
       "      <td>-799.997015</td>\n",
       "      <td>4.033736e-32</td>\n",
       "      <td>-799.960571</td>\n",
       "      <td>4.039220e-32</td>\n",
       "      <td>-799.794250</td>\n",
       "      <td>-4.223520e+07</td>\n",
       "      <td>-486.598675</td>\n",
       "      <td>-264.982785</td>\n",
       "      <td>-0.010548</td>\n",
       "      <td>0.010000</td>\n",
       "      <td>0.010000</td>\n",
       "      <td>0.002986</td>\n",
       "      <td>0.046369</td>\n",
       "      <td>0.010000</td>\n",
       "      <td>0.010000</td>\n",
       "      <td>0.001083</td>\n",
       "      <td>0.000568</td>\n",
       "      <td>0.000077</td>\n",
       "      <td>0.000290</td>\n",
       "      <td>0.000000</td>\n",
       "      <td>0.000000</td>\n",
       "      <td>0.000000</td>\n",
       "      <td>0.000000</td>\n",
       "      <td>0.000000</td>\n",
       "      <td>0.594562</td>\n",
       "      <td>0.007566</td>\n",
       "      <td>10.014648</td>\n",
       "      <td>0.020676</td>\n",
       "      <td>-0.042069</td>\n",
       "      <td>-657.949759</td>\n",
       "      <td>-0.721806</td>\n",
       "      <td>-650.260008</td>\n",
       "      <td>-0.056636</td>\n",
       "      <td>-647.544439</td>\n",
       "      <td>-0.992219</td>\n",
       "      <td>-648.390665</td>\n",
       "      <td>-1.982295</td>\n",
       "      <td>-649.443911</td>\n",
       "      <td>-2.593390</td>\n",
       "      <td>-649.949283</td>\n",
       "      <td>0.000000</td>\n",
       "      <td>0.000000</td>\n",
       "      <td>0.000000</td>\n",
       "      <td>0.000000</td>\n",
       "      <td>0.077503</td>\n",
       "      <td>-799.606441</td>\n",
       "      <td>0.000000</td>\n",
       "      <td>-799.873878</td>\n",
       "      <td>0.000000</td>\n",
       "      <td>-799.755798</td>\n",
       "      <td>0.000000</td>\n",
       "      <td>-809.333008</td>\n",
       "      <td>0.000000</td>\n",
       "      <td>-799.798523</td>\n",
       "      <td>0.000000</td>\n",
       "      <td>-800.836914</td>\n",
       "      <td>-0.372054</td>\n",
       "      <td>-797.323986</td>\n",
       "      <td>0.528083</td>\n",
       "      <td>-800.220337</td>\n",
       "      <td>-0.079426</td>\n",
       "      <td>-809.741464</td>\n",
       "    </tr>\n",
       "    <tr>\n",
       "      <th>25%</th>\n",
       "      <td>4.251240</td>\n",
       "      <td>9.137262</td>\n",
       "      <td>7.722820</td>\n",
       "      <td>43.402215</td>\n",
       "      <td>63.299712</td>\n",
       "      <td>8.062878</td>\n",
       "      <td>2.040119</td>\n",
       "      <td>8.938947</td>\n",
       "      <td>2.461138</td>\n",
       "      <td>114.107029</td>\n",
       "      <td>6.076909</td>\n",
       "      <td>6.940000</td>\n",
       "      <td>0.697224</td>\n",
       "      <td>7.263288</td>\n",
       "      <td>8.702328</td>\n",
       "      <td>7.893893</td>\n",
       "      <td>30.463140</td>\n",
       "      <td>14.017742</td>\n",
       "      <td>2.504365</td>\n",
       "      <td>6.747483</td>\n",
       "      <td>2.924844</td>\n",
       "      <td>1.505063e+03</td>\n",
       "      <td>-500.308544</td>\n",
       "      <td>1.503630e+03</td>\n",
       "      <td>-500.437171</td>\n",
       "      <td>1.500927e+03</td>\n",
       "      <td>-500.703932</td>\n",
       "      <td>1.494219e+03</td>\n",
       "      <td>-500.458365</td>\n",
       "      <td>4.070095e+04</td>\n",
       "      <td>2611.425833</td>\n",
       "      <td>2551.437587</td>\n",
       "      <td>2.035434</td>\n",
       "      <td>7.237967</td>\n",
       "      <td>2.887280</td>\n",
       "      <td>416.525453</td>\n",
       "      <td>47.435103</td>\n",
       "      <td>34.207799</td>\n",
       "      <td>6.854384</td>\n",
       "      <td>10.000362</td>\n",
       "      <td>5.398678</td>\n",
       "      <td>9.998460</td>\n",
       "      <td>5.402368</td>\n",
       "      <td>10.628337</td>\n",
       "      <td>6.725987</td>\n",
       "      <td>27.224120</td>\n",
       "      <td>18.802523</td>\n",
       "      <td>81.037957</td>\n",
       "      <td>4.889892</td>\n",
       "      <td>0.477728</td>\n",
       "      <td>15.822525</td>\n",
       "      <td>1.404207</td>\n",
       "      <td>999.661867</td>\n",
       "      <td>-499.835165</td>\n",
       "      <td>1199.626115</td>\n",
       "      <td>-500.201130</td>\n",
       "      <td>1151.076301</td>\n",
       "      <td>-500.217218</td>\n",
       "      <td>1061.051788</td>\n",
       "      <td>-500.386386</td>\n",
       "      <td>998.675263</td>\n",
       "      <td>-500.232191</td>\n",
       "      <td>900.995511</td>\n",
       "      <td>-500.522553</td>\n",
       "      <td>12.640239</td>\n",
       "      <td>3.864733</td>\n",
       "      <td>3.845475</td>\n",
       "      <td>3.182770</td>\n",
       "      <td>25.048462</td>\n",
       "      <td>-500.233700</td>\n",
       "      <td>20.919853</td>\n",
       "      <td>-500.253794</td>\n",
       "      <td>24.949227</td>\n",
       "      <td>-500.213546</td>\n",
       "      <td>18.995924</td>\n",
       "      <td>-500.123034</td>\n",
       "      <td>14.975734</td>\n",
       "      <td>-500.704892</td>\n",
       "      <td>11.940294</td>\n",
       "      <td>-500.187742</td>\n",
       "      <td>10.988606</td>\n",
       "      <td>-500.458467</td>\n",
       "      <td>8.971105</td>\n",
       "      <td>-500.129462</td>\n",
       "      <td>14.983037</td>\n",
       "      <td>-500.728067</td>\n",
       "    </tr>\n",
       "    <tr>\n",
       "      <th>50%</th>\n",
       "      <td>5.066094</td>\n",
       "      <td>10.102433</td>\n",
       "      <td>9.218961</td>\n",
       "      <td>45.011244</td>\n",
       "      <td>68.172738</td>\n",
       "      <td>9.743623</td>\n",
       "      <td>2.748730</td>\n",
       "      <td>10.622456</td>\n",
       "      <td>2.984909</td>\n",
       "      <td>143.232103</td>\n",
       "      <td>8.038311</td>\n",
       "      <td>7.280000</td>\n",
       "      <td>0.940863</td>\n",
       "      <td>8.507298</td>\n",
       "      <td>10.152433</td>\n",
       "      <td>10.314632</td>\n",
       "      <td>32.841295</td>\n",
       "      <td>15.842836</td>\n",
       "      <td>3.271153</td>\n",
       "      <td>8.183673</td>\n",
       "      <td>3.623234</td>\n",
       "      <td>1.600597e+03</td>\n",
       "      <td>-499.926134</td>\n",
       "      <td>1.600521e+03</td>\n",
       "      <td>-499.956767</td>\n",
       "      <td>1.600254e+03</td>\n",
       "      <td>-499.909524</td>\n",
       "      <td>1.599447e+03</td>\n",
       "      <td>-499.905974</td>\n",
       "      <td>4.469648e+04</td>\n",
       "      <td>3018.353876</td>\n",
       "      <td>2997.218088</td>\n",
       "      <td>2.309665</td>\n",
       "      <td>8.593574</td>\n",
       "      <td>3.534895</td>\n",
       "      <td>499.416120</td>\n",
       "      <td>54.610197</td>\n",
       "      <td>37.202650</td>\n",
       "      <td>8.125839</td>\n",
       "      <td>12.001174</td>\n",
       "      <td>6.008273</td>\n",
       "      <td>12.000204</td>\n",
       "      <td>6.098580</td>\n",
       "      <td>12.098115</td>\n",
       "      <td>7.742580</td>\n",
       "      <td>29.835345</td>\n",
       "      <td>20.280214</td>\n",
       "      <td>86.188892</td>\n",
       "      <td>5.765802</td>\n",
       "      <td>0.617465</td>\n",
       "      <td>18.106867</td>\n",
       "      <td>1.808170</td>\n",
       "      <td>1001.072890</td>\n",
       "      <td>-300.263994</td>\n",
       "      <td>1301.579988</td>\n",
       "      <td>-499.784045</td>\n",
       "      <td>1300.211537</td>\n",
       "      <td>-499.713364</td>\n",
       "      <td>1201.569141</td>\n",
       "      <td>-499.532412</td>\n",
       "      <td>1050.029461</td>\n",
       "      <td>-499.663089</td>\n",
       "      <td>999.924821</td>\n",
       "      <td>-499.471777</td>\n",
       "      <td>15.641902</td>\n",
       "      <td>5.344073</td>\n",
       "      <td>7.685827</td>\n",
       "      <td>4.072412</td>\n",
       "      <td>29.099943</td>\n",
       "      <td>-499.973250</td>\n",
       "      <td>25.043289</td>\n",
       "      <td>-500.015439</td>\n",
       "      <td>27.982129</td>\n",
       "      <td>-499.930680</td>\n",
       "      <td>22.011231</td>\n",
       "      <td>-499.981902</td>\n",
       "      <td>18.017481</td>\n",
       "      <td>-499.837793</td>\n",
       "      <td>14.971014</td>\n",
       "      <td>-499.459786</td>\n",
       "      <td>15.000036</td>\n",
       "      <td>-499.802605</td>\n",
       "      <td>11.019433</td>\n",
       "      <td>-499.935317</td>\n",
       "      <td>19.960541</td>\n",
       "      <td>-500.048400</td>\n",
       "    </tr>\n",
       "    <tr>\n",
       "      <th>75%</th>\n",
       "      <td>5.895527</td>\n",
       "      <td>11.035769</td>\n",
       "      <td>10.947813</td>\n",
       "      <td>46.275313</td>\n",
       "      <td>72.686642</td>\n",
       "      <td>11.134294</td>\n",
       "      <td>3.333216</td>\n",
       "      <td>12.104271</td>\n",
       "      <td>3.571351</td>\n",
       "      <td>175.075656</td>\n",
       "      <td>11.013521</td>\n",
       "      <td>7.670000</td>\n",
       "      <td>1.210990</td>\n",
       "      <td>9.809001</td>\n",
       "      <td>11.424971</td>\n",
       "      <td>13.446702</td>\n",
       "      <td>35.048006</td>\n",
       "      <td>18.013975</td>\n",
       "      <td>4.181748</td>\n",
       "      <td>9.548586</td>\n",
       "      <td>4.585705</td>\n",
       "      <td>1.697658e+03</td>\n",
       "      <td>-499.433950</td>\n",
       "      <td>1.699218e+03</td>\n",
       "      <td>-499.373336</td>\n",
       "      <td>1.699483e+03</td>\n",
       "      <td>-498.857643</td>\n",
       "      <td>1.698525e+03</td>\n",
       "      <td>-499.064695</td>\n",
       "      <td>4.816821e+04</td>\n",
       "      <td>3676.769750</td>\n",
       "      <td>3601.998911</td>\n",
       "      <td>2.731794</td>\n",
       "      <td>10.213771</td>\n",
       "      <td>4.244161</td>\n",
       "      <td>550.172183</td>\n",
       "      <td>65.023044</td>\n",
       "      <td>40.039133</td>\n",
       "      <td>9.769917</td>\n",
       "      <td>14.716595</td>\n",
       "      <td>6.798051</td>\n",
       "      <td>14.636766</td>\n",
       "      <td>6.801233</td>\n",
       "      <td>13.736996</td>\n",
       "      <td>8.565199</td>\n",
       "      <td>32.189933</td>\n",
       "      <td>21.717843</td>\n",
       "      <td>90.010670</td>\n",
       "      <td>6.389234</td>\n",
       "      <td>0.778271</td>\n",
       "      <td>20.088151</td>\n",
       "      <td>2.211861</td>\n",
       "      <td>1205.620588</td>\n",
       "      <td>-299.981998</td>\n",
       "      <td>1448.630789</td>\n",
       "      <td>-400.615589</td>\n",
       "      <td>1449.464001</td>\n",
       "      <td>-400.985743</td>\n",
       "      <td>1352.880320</td>\n",
       "      <td>-401.638550</td>\n",
       "      <td>1199.425140</td>\n",
       "      <td>-401.161191</td>\n",
       "      <td>1099.719692</td>\n",
       "      <td>-401.511042</td>\n",
       "      <td>17.358217</td>\n",
       "      <td>7.788467</td>\n",
       "      <td>10.411296</td>\n",
       "      <td>5.063081</td>\n",
       "      <td>33.012536</td>\n",
       "      <td>-499.671261</td>\n",
       "      <td>28.008197</td>\n",
       "      <td>-499.785698</td>\n",
       "      <td>33.002798</td>\n",
       "      <td>-499.325739</td>\n",
       "      <td>25.998206</td>\n",
       "      <td>-499.812834</td>\n",
       "      <td>23.012470</td>\n",
       "      <td>-498.249730</td>\n",
       "      <td>19.034162</td>\n",
       "      <td>-400.118106</td>\n",
       "      <td>18.026190</td>\n",
       "      <td>-498.384187</td>\n",
       "      <td>14.019088</td>\n",
       "      <td>-499.436708</td>\n",
       "      <td>24.003170</td>\n",
       "      <td>-499.495378</td>\n",
       "    </tr>\n",
       "    <tr>\n",
       "      <th>max</th>\n",
       "      <td>16.001945</td>\n",
       "      <td>17.031899</td>\n",
       "      <td>19.615720</td>\n",
       "      <td>52.756638</td>\n",
       "      <td>100.000000</td>\n",
       "      <td>19.552149</td>\n",
       "      <td>5.804178</td>\n",
       "      <td>22.317730</td>\n",
       "      <td>8.245022</td>\n",
       "      <td>265.983123</td>\n",
       "      <td>40.000000</td>\n",
       "      <td>15.500000</td>\n",
       "      <td>4.102454</td>\n",
       "      <td>16.081632</td>\n",
       "      <td>17.081278</td>\n",
       "      <td>22.458114</td>\n",
       "      <td>45.933934</td>\n",
       "      <td>29.459575</td>\n",
       "      <td>9.634565</td>\n",
       "      <td>22.276364</td>\n",
       "      <td>17.788925</td>\n",
       "      <td>2.103104e+03</td>\n",
       "      <td>-57.195404</td>\n",
       "      <td>2.114907e+03</td>\n",
       "      <td>-142.527229</td>\n",
       "      <td>2.013156e+03</td>\n",
       "      <td>-150.937035</td>\n",
       "      <td>2.398904e+03</td>\n",
       "      <td>-30.601828</td>\n",
       "      <td>3.428099e+06</td>\n",
       "      <td>629638.977914</td>\n",
       "      <td>718684.955855</td>\n",
       "      <td>39.379272</td>\n",
       "      <td>14.596026</td>\n",
       "      <td>7.142594</td>\n",
       "      <td>717.508837</td>\n",
       "      <td>484.967466</td>\n",
       "      <td>53.477742</td>\n",
       "      <td>13.731330</td>\n",
       "      <td>36.118275</td>\n",
       "      <td>9.703448</td>\n",
       "      <td>37.980648</td>\n",
       "      <td>9.698407</td>\n",
       "      <td>24.480271</td>\n",
       "      <td>13.617072</td>\n",
       "      <td>38.351193</td>\n",
       "      <td>28.824507</td>\n",
       "      <td>100.000000</td>\n",
       "      <td>12.719177</td>\n",
       "      <td>3.778064</td>\n",
       "      <td>66.117188</td>\n",
       "      <td>9.688980</td>\n",
       "      <td>1521.980372</td>\n",
       "      <td>-273.776101</td>\n",
       "      <td>1809.194008</td>\n",
       "      <td>-296.383080</td>\n",
       "      <td>2499.129174</td>\n",
       "      <td>-292.155509</td>\n",
       "      <td>1817.199290</td>\n",
       "      <td>-76.397327</td>\n",
       "      <td>1922.636637</td>\n",
       "      <td>-139.753025</td>\n",
       "      <td>1706.307502</td>\n",
       "      <td>-191.718480</td>\n",
       "      <td>23.264738</td>\n",
       "      <td>17.042505</td>\n",
       "      <td>26.000772</td>\n",
       "      <td>26.811643</td>\n",
       "      <td>52.651399</td>\n",
       "      <td>-127.875565</td>\n",
       "      <td>35.152122</td>\n",
       "      <td>-211.999273</td>\n",
       "      <td>44.260464</td>\n",
       "      <td>-191.678810</td>\n",
       "      <td>35.072841</td>\n",
       "      <td>-159.742331</td>\n",
       "      <td>30.115735</td>\n",
       "      <td>-245.239184</td>\n",
       "      <td>31.269706</td>\n",
       "      <td>-6.506986</td>\n",
       "      <td>43.709931</td>\n",
       "      <td>-244.483566</td>\n",
       "      <td>27.926001</td>\n",
       "      <td>-137.740004</td>\n",
       "      <td>32.188906</td>\n",
       "      <td>-104.427459</td>\n",
       "    </tr>\n",
       "  </tbody>\n",
       "</table>\n",
       "</div>"
      ],
      "text/plain": [
       "       final.output.concentrate_ag  final.output.concentrate_pb  \\\n",
       "count                 19438.000000                 19438.000000   \n",
       "mean                      5.168470                     9.978895   \n",
       "std                       1.372348                     1.669240   \n",
       "min                       0.000000                     0.000000   \n",
       "25%                       4.251240                     9.137262   \n",
       "50%                       5.066094                    10.102433   \n",
       "75%                       5.895527                    11.035769   \n",
       "max                      16.001945                    17.031899   \n",
       "\n",
       "       final.output.concentrate_sol  final.output.concentrate_au  \\\n",
       "count                  19228.000000                 19439.000000   \n",
       "mean                       9.501224                    44.076513   \n",
       "std                        2.787537                     5.129784   \n",
       "min                        0.000000                     0.000000   \n",
       "25%                        7.722820                    43.402215   \n",
       "50%                        9.218961                    45.011244   \n",
       "75%                       10.947813                    46.275313   \n",
       "max                       19.615720                    52.756638   \n",
       "\n",
       "       final.output.recovery  final.output.tail_ag  final.output.tail_pb  \\\n",
       "count           19439.000000          19438.000000          19338.000000   \n",
       "mean               67.050208              9.688589              2.705795   \n",
       "std                10.125840              2.328642              0.949077   \n",
       "min                 0.000000              0.000000              0.000000   \n",
       "25%                63.299712              8.062878              2.040119   \n",
       "50%                68.172738              9.743623              2.748730   \n",
       "75%                72.686642             11.134294              3.333216   \n",
       "max               100.000000             19.552149              5.804178   \n",
       "\n",
       "       final.output.tail_sol  final.output.tail_au  \\\n",
       "count           19433.000000          19439.000000   \n",
       "mean               10.583728              3.042467   \n",
       "std                 2.868782              0.922808   \n",
       "min                 0.000000              0.000000   \n",
       "25%                 8.938947              2.461138   \n",
       "50%                10.622456              2.984909   \n",
       "75%                12.104271              3.571351   \n",
       "max                22.317730              8.245022   \n",
       "\n",
       "       primary_cleaner.input.sulfate  primary_cleaner.input.depressant  \\\n",
       "count                   19415.000000                      19402.000000   \n",
       "mean                      144.624774                          8.817039   \n",
       "std                        44.464071                          3.286186   \n",
       "min                         0.003112                          0.000000   \n",
       "25%                       114.107029                          6.076909   \n",
       "50%                       143.232103                          8.038311   \n",
       "75%                       175.075656                         11.013521   \n",
       "max                       265.983123                         40.000000   \n",
       "\n",
       "       primary_cleaner.input.feed_size  primary_cleaner.input.xanthate  \\\n",
       "count                     19439.000000                    19335.000000   \n",
       "mean                          7.307078                        1.021795   \n",
       "std                           0.613509                        0.513254   \n",
       "min                           1.080000                        0.000005   \n",
       "25%                           6.940000                        0.697224   \n",
       "50%                           7.280000                        0.940863   \n",
       "75%                           7.670000                        1.210990   \n",
       "max                          15.500000                        4.102454   \n",
       "\n",
       "       primary_cleaner.output.concentrate_ag  \\\n",
       "count                           19439.000000   \n",
       "mean                                8.442408   \n",
       "std                                 2.054465   \n",
       "min                                 0.000000   \n",
       "25%                                 7.263288   \n",
       "50%                                 8.507298   \n",
       "75%                                 9.809001   \n",
       "max                                16.081632   \n",
       "\n",
       "       primary_cleaner.output.concentrate_pb  \\\n",
       "count                           19323.000000   \n",
       "mean                                9.829530   \n",
       "std                                 2.556843   \n",
       "min                                 0.000000   \n",
       "25%                                 8.702328   \n",
       "50%                                10.152433   \n",
       "75%                                11.424971   \n",
       "max                                17.081278   \n",
       "\n",
       "       primary_cleaner.output.concentrate_sol  \\\n",
       "count                            19069.000000   \n",
       "mean                                10.489499   \n",
       "std                                  3.909639   \n",
       "min                                  0.000000   \n",
       "25%                                  7.893893   \n",
       "50%                                 10.314632   \n",
       "75%                                 13.446702   \n",
       "max                                 22.458114   \n",
       "\n",
       "       primary_cleaner.output.concentrate_au  primary_cleaner.output.tail_ag  \\\n",
       "count                           19439.000000                    19435.000000   \n",
       "mean                               32.119400                       16.145826   \n",
       "std                                 5.627611                        3.548598   \n",
       "min                                 0.000000                        0.000000   \n",
       "25%                                30.463140                       14.017742   \n",
       "50%                                32.841295                       15.842836   \n",
       "75%                                35.048006                       18.013975   \n",
       "max                                45.933934                       29.459575   \n",
       "\n",
       "       primary_cleaner.output.tail_pb  primary_cleaner.output.tail_sol  \\\n",
       "count                    19418.000000                     19377.000000   \n",
       "mean                         3.435656                         7.973209   \n",
       "std                          1.392536                         2.212677   \n",
       "min                          0.000000                         0.000000   \n",
       "25%                          2.504365                         6.747483   \n",
       "50%                          3.271153                         8.183673   \n",
       "75%                          4.181748                         9.548586   \n",
       "max                          9.634565                        22.276364   \n",
       "\n",
       "       primary_cleaner.output.tail_au  primary_cleaner.state.floatbank8_a_air  \\\n",
       "count                    19439.000000                            1.943500e+04   \n",
       "mean                         3.914179                            1.589354e+03   \n",
       "std                          1.593034                            1.289968e+02   \n",
       "min                          0.000000                            5.445860e-32   \n",
       "25%                          2.924844                            1.505063e+03   \n",
       "50%                          3.623234                            1.600597e+03   \n",
       "75%                          4.585705                            1.697658e+03   \n",
       "max                         17.788925                            2.103104e+03   \n",
       "\n",
       "       primary_cleaner.state.floatbank8_a_level  \\\n",
       "count                              19438.000000   \n",
       "mean                                -491.195012   \n",
       "std                                   32.431842   \n",
       "min                                 -798.641662   \n",
       "25%                                 -500.308544   \n",
       "50%                                 -499.926134   \n",
       "75%                                 -499.433950   \n",
       "max                                  -57.195404   \n",
       "\n",
       "       primary_cleaner.state.floatbank8_b_air  \\\n",
       "count                            1.943500e+04   \n",
       "mean                             1.591344e+03   \n",
       "std                              1.318109e+02   \n",
       "min                              6.647490e-32   \n",
       "25%                              1.503630e+03   \n",
       "50%                              1.600521e+03   \n",
       "75%                              1.699218e+03   \n",
       "max                              2.114907e+03   \n",
       "\n",
       "       primary_cleaner.state.floatbank8_b_level  \\\n",
       "count                              19438.000000   \n",
       "mean                                -492.192978   \n",
       "std                                   33.794822   \n",
       "min                                 -799.997015   \n",
       "25%                                 -500.437171   \n",
       "50%                                 -499.956767   \n",
       "75%                                 -499.373336   \n",
       "max                                 -142.527229   \n",
       "\n",
       "       primary_cleaner.state.floatbank8_c_air  \\\n",
       "count                            1.943700e+04   \n",
       "mean                             1.586669e+03   \n",
       "std                              1.361114e+02   \n",
       "min                              4.033736e-32   \n",
       "25%                              1.500927e+03   \n",
       "50%                              1.600254e+03   \n",
       "75%                              1.699483e+03   \n",
       "max                              2.013156e+03   \n",
       "\n",
       "       primary_cleaner.state.floatbank8_c_level  \\\n",
       "count                              19438.000000   \n",
       "mean                                -491.980070   \n",
       "std                                   32.711455   \n",
       "min                                 -799.960571   \n",
       "25%                                 -500.703932   \n",
       "50%                                 -499.909524   \n",
       "75%                                 -498.857643   \n",
       "max                                 -150.937035   \n",
       "\n",
       "       primary_cleaner.state.floatbank8_d_air  \\\n",
       "count                            1.943600e+04   \n",
       "mean                             1.542912e+03   \n",
       "std                              2.461996e+02   \n",
       "min                              4.039220e-32   \n",
       "25%                              1.494219e+03   \n",
       "50%                              1.599447e+03   \n",
       "75%                              1.698525e+03   \n",
       "max                              2.398904e+03   \n",
       "\n",
       "       primary_cleaner.state.floatbank8_d_level  \\\n",
       "count                              19438.000000   \n",
       "mean                                -488.017382   \n",
       "std                                   43.959780   \n",
       "min                                 -799.794250   \n",
       "25%                                 -500.458365   \n",
       "50%                                 -499.905974   \n",
       "75%                                 -499.064695   \n",
       "max                                  -30.601828   \n",
       "\n",
       "       rougher.calculation.sulfate_to_au_concentrate  \\\n",
       "count                                   1.943700e+04   \n",
       "mean                                    4.217119e+04   \n",
       "std                                     3.243621e+05   \n",
       "min                                    -4.223520e+07   \n",
       "25%                                     4.070095e+04   \n",
       "50%                                     4.469648e+04   \n",
       "75%                                     4.816821e+04   \n",
       "max                                     3.428099e+06   \n",
       "\n",
       "       rougher.calculation.floatbank10_sulfate_to_au_feed  \\\n",
       "count                                       19437.000000    \n",
       "mean                                         3393.052498    \n",
       "std                                          4943.845943    \n",
       "min                                          -486.598675    \n",
       "25%                                          2611.425833    \n",
       "50%                                          3018.353876    \n",
       "75%                                          3676.769750    \n",
       "max                                        629638.977914    \n",
       "\n",
       "       rougher.calculation.floatbank11_sulfate_to_au_feed  \\\n",
       "count                                       19437.000000    \n",
       "mean                                         3256.854171    \n",
       "std                                          5781.423659    \n",
       "min                                          -264.982785    \n",
       "25%                                          2551.437587    \n",
       "50%                                          2997.218088    \n",
       "75%                                          3601.998911    \n",
       "max                                        718684.955855    \n",
       "\n",
       "       rougher.calculation.au_pb_ratio  rougher.input.feed_ag  \\\n",
       "count                     19439.000000           19439.000000   \n",
       "mean                          2.420119               8.794927   \n",
       "std                           0.814935               1.936847   \n",
       "min                          -0.010548               0.010000   \n",
       "25%                           2.035434               7.237967   \n",
       "50%                           2.309665               8.593574   \n",
       "75%                           2.731794              10.213771   \n",
       "max                          39.379272              14.596026   \n",
       "\n",
       "       rougher.input.feed_pb  rougher.input.feed_rate  \\\n",
       "count           19339.000000             19428.000000   \n",
       "mean                3.598085               478.320042   \n",
       "std                 1.049486               105.373758   \n",
       "min                 0.010000                 0.002986   \n",
       "25%                 2.887280               416.525453   \n",
       "50%                 3.534895               499.416120   \n",
       "75%                 4.244161               550.172183   \n",
       "max                 7.142594               717.508837   \n",
       "\n",
       "       rougher.input.feed_size  rougher.input.feed_sol  rougher.input.feed_au  \\\n",
       "count             19294.000000            19340.000000           19439.000000   \n",
       "mean                 58.970310               36.695114               8.266097   \n",
       "std                  21.634478                5.145445               1.955092   \n",
       "min                   0.046369                0.010000               0.010000   \n",
       "25%                  47.435103               34.207799               6.854384   \n",
       "50%                  54.610197               37.202650               8.125839   \n",
       "75%                  65.023044               40.039133               9.769917   \n",
       "max                 484.967466               53.477742              13.731330   \n",
       "\n",
       "       rougher.input.floatbank10_sulfate  rougher.input.floatbank10_xanthate  \\\n",
       "count                       19405.000000                        19431.000000   \n",
       "mean                           12.334373                            6.021474   \n",
       "std                             3.427317                            1.127263   \n",
       "min                             0.001083                            0.000568   \n",
       "25%                            10.000362                            5.398678   \n",
       "50%                            12.001174                            6.008273   \n",
       "75%                            14.716595                            6.798051   \n",
       "max                            36.118275                            9.703448   \n",
       "\n",
       "       rougher.input.floatbank11_sulfate  rougher.input.floatbank11_xanthate  \\\n",
       "count                       19395.000000                        18986.000000   \n",
       "mean                           12.064140                            6.065533   \n",
       "std                             3.784221                            1.099118   \n",
       "min                             0.000077                            0.000290   \n",
       "25%                             9.998460                            5.402368   \n",
       "50%                            12.000204                            6.098580   \n",
       "75%                            14.636766                            6.801233   \n",
       "max                            37.980648                            9.698407   \n",
       "\n",
       "       rougher.output.concentrate_ag  rougher.output.concentrate_pb  \\\n",
       "count                   19439.000000                   19439.000000   \n",
       "mean                       11.994759                       7.606272   \n",
       "std                         2.733862                       1.796757   \n",
       "min                         0.000000                       0.000000   \n",
       "25%                        10.628337                       6.725987   \n",
       "50%                        12.098115                       7.742580   \n",
       "75%                        13.736996                       8.565199   \n",
       "max                        24.480271                      13.617072   \n",
       "\n",
       "       rougher.output.concentrate_sol  rougher.output.concentrate_au  \\\n",
       "count                    19416.000000                   19439.000000   \n",
       "mean                        28.805571                      19.772000   \n",
       "std                          5.944207                       3.753600   \n",
       "min                          0.000000                       0.000000   \n",
       "25%                         27.224120                      18.802523   \n",
       "50%                         29.835345                      20.280214   \n",
       "75%                         32.189933                      21.717843   \n",
       "max                         38.351193                      28.824507   \n",
       "\n",
       "       rougher.output.recovery  rougher.output.tail_ag  \\\n",
       "count             19439.000000            19438.000000   \n",
       "mean                 83.328587                5.588982   \n",
       "std                  14.148086                1.111288   \n",
       "min                   0.000000                0.594562   \n",
       "25%                  81.037957                4.889892   \n",
       "50%                  86.188892                5.765802   \n",
       "75%                  90.010670                6.389234   \n",
       "max                 100.000000               12.719177   \n",
       "\n",
       "       rougher.output.tail_pb  rougher.output.tail_sol  \\\n",
       "count            19439.000000             19439.000000   \n",
       "mean                 0.645782                18.057106   \n",
       "std                  0.251526                 3.449218   \n",
       "min                  0.007566                10.014648   \n",
       "25%                  0.477728                15.822525   \n",
       "50%                  0.617465                18.106867   \n",
       "75%                  0.778271                20.088151   \n",
       "max                  3.778064                66.117188   \n",
       "\n",
       "       rougher.output.tail_au  rougher.state.floatbank10_a_air  \\\n",
       "count            19439.000000                     19438.000000   \n",
       "mean                 1.816391                      1105.315068   \n",
       "std                  0.680046                       160.826798   \n",
       "min                  0.020676                        -0.042069   \n",
       "25%                  1.404207                       999.661867   \n",
       "50%                  1.808170                      1001.072890   \n",
       "75%                  2.211861                      1205.620588   \n",
       "max                  9.688980                      1521.980372   \n",
       "\n",
       "       rougher.state.floatbank10_a_level  rougher.state.floatbank10_b_air  \\\n",
       "count                       19438.000000                     19438.000000   \n",
       "mean                         -376.610690                      1320.221139   \n",
       "std                            93.909667                       176.287095   \n",
       "min                          -657.949759                        -0.721806   \n",
       "25%                          -499.835165                      1199.626115   \n",
       "50%                          -300.263994                      1301.579988   \n",
       "75%                          -299.981998                      1448.630789   \n",
       "max                          -273.776101                      1809.194008   \n",
       "\n",
       "       rougher.state.floatbank10_b_level  rougher.state.floatbank10_c_air  \\\n",
       "count                       19438.000000                     19438.000000   \n",
       "mean                         -467.247826                      1299.968799   \n",
       "std                            54.673142                       202.804325   \n",
       "min                          -650.260008                        -0.056636   \n",
       "25%                          -500.201130                      1151.076301   \n",
       "50%                          -499.784045                      1300.211537   \n",
       "75%                          -400.615589                      1449.464001   \n",
       "max                          -296.383080                      2499.129174   \n",
       "\n",
       "       rougher.state.floatbank10_c_level  rougher.state.floatbank10_d_air  \\\n",
       "count                       19438.000000                     19439.000000   \n",
       "mean                         -467.716946                      1211.563299   \n",
       "std                            53.534825                       204.019326   \n",
       "min                          -647.544439                        -0.992219   \n",
       "25%                          -500.217218                      1061.051788   \n",
       "50%                          -499.713364                      1201.569141   \n",
       "75%                          -400.985743                      1352.880320   \n",
       "max                          -292.155509                      1817.199290   \n",
       "\n",
       "       rougher.state.floatbank10_d_level  rougher.state.floatbank10_e_air  \\\n",
       "count                       19439.000000                     19003.000000   \n",
       "mean                         -468.239912                      1080.869685   \n",
       "std                            53.921458                       172.149992   \n",
       "min                          -648.390665                        -1.982295   \n",
       "25%                          -500.386386                       998.675263   \n",
       "50%                          -499.532412                      1050.029461   \n",
       "75%                          -401.638550                      1199.425140   \n",
       "max                           -76.397327                      1922.636637   \n",
       "\n",
       "       rougher.state.floatbank10_e_level  rougher.state.floatbank10_f_air  \\\n",
       "count                       19439.000000                     19439.000000   \n",
       "mean                         -466.037742                      1025.274256   \n",
       "std                            57.384424                       164.487837   \n",
       "min                          -649.443911                        -2.593390   \n",
       "25%                          -500.232191                       900.995511   \n",
       "50%                          -499.663089                       999.924821   \n",
       "75%                          -401.161191                      1099.719692   \n",
       "max                          -139.753025                      1706.307502   \n",
       "\n",
       "       rougher.state.floatbank10_f_level  secondary_cleaner.output.tail_ag  \\\n",
       "count                       19439.000000                      19437.000000   \n",
       "mean                         -466.265327                         14.586833   \n",
       "std                            57.850263                          4.265202   \n",
       "min                          -649.949283                          0.000000   \n",
       "25%                          -500.522553                         12.640239   \n",
       "50%                          -499.471777                         15.641902   \n",
       "75%                          -401.511042                         17.358217   \n",
       "max                          -191.718480                         23.264738   \n",
       "\n",
       "       secondary_cleaner.output.tail_pb  secondary_cleaner.output.tail_sol  \\\n",
       "count                      19427.000000                       17691.000000   \n",
       "mean                           5.777703                           7.167247   \n",
       "std                            2.774598                           3.916079   \n",
       "min                            0.000000                           0.000000   \n",
       "25%                            3.864733                           3.845475   \n",
       "50%                            5.344073                           7.685827   \n",
       "75%                            7.788467                          10.411296   \n",
       "max                           17.042505                          26.000772   \n",
       "\n",
       "       secondary_cleaner.output.tail_au  \\\n",
       "count                      19439.000000   \n",
       "mean                           4.339625   \n",
       "std                            2.326751   \n",
       "min                            0.000000   \n",
       "25%                            3.182770   \n",
       "50%                            4.072412   \n",
       "75%                            5.063081   \n",
       "max                           26.811643   \n",
       "\n",
       "       secondary_cleaner.state.floatbank2_a_air  \\\n",
       "count                              19219.000000   \n",
       "mean                                  28.705564   \n",
       "std                                    5.458789   \n",
       "min                                    0.077503   \n",
       "25%                                   25.048462   \n",
       "50%                                   29.099943   \n",
       "75%                                   33.012536   \n",
       "max                                   52.651399   \n",
       "\n",
       "       secondary_cleaner.state.floatbank2_a_level  \\\n",
       "count                                19438.000000   \n",
       "mean                                  -502.367331   \n",
       "std                                     53.571950   \n",
       "min                                   -799.606441   \n",
       "25%                                   -500.233700   \n",
       "50%                                   -499.973250   \n",
       "75%                                   -499.671261   \n",
       "max                                   -127.875565   \n",
       "\n",
       "       secondary_cleaner.state.floatbank2_b_air  \\\n",
       "count                              19416.000000   \n",
       "mean                                  24.106800   \n",
       "std                                    5.749616   \n",
       "min                                    0.000000   \n",
       "25%                                   20.919853   \n",
       "50%                                   25.043289   \n",
       "75%                                   28.008197   \n",
       "max                                   35.152122   \n",
       "\n",
       "       secondary_cleaner.state.floatbank2_b_level  \\\n",
       "count                                19438.000000   \n",
       "mean                                  -503.230712   \n",
       "std                                     56.567724   \n",
       "min                                   -799.873878   \n",
       "25%                                   -500.253794   \n",
       "50%                                   -500.015439   \n",
       "75%                                   -499.785698   \n",
       "max                                   -211.999273   \n",
       "\n",
       "       secondary_cleaner.state.floatbank3_a_air  \\\n",
       "count                              19426.000000   \n",
       "mean                                  28.199338   \n",
       "std                                    6.134908   \n",
       "min                                    0.000000   \n",
       "25%                                   24.949227   \n",
       "50%                                   27.982129   \n",
       "75%                                   33.002798   \n",
       "max                                   44.260464   \n",
       "\n",
       "       secondary_cleaner.state.floatbank3_a_level  \\\n",
       "count                                19438.000000   \n",
       "mean                                  -486.203350   \n",
       "std                                     54.412349   \n",
       "min                                   -799.755798   \n",
       "25%                                   -500.213546   \n",
       "50%                                   -499.930680   \n",
       "75%                                   -499.325739   \n",
       "max                                   -191.678810   \n",
       "\n",
       "       secondary_cleaner.state.floatbank3_b_air  \\\n",
       "count                              19438.000000   \n",
       "mean                                  22.200645   \n",
       "std                                    5.574001   \n",
       "min                                    0.000000   \n",
       "25%                                   18.995924   \n",
       "50%                                   22.011231   \n",
       "75%                                   25.998206   \n",
       "max                                   35.072841   \n",
       "\n",
       "       secondary_cleaner.state.floatbank3_b_level  \\\n",
       "count                                19438.000000   \n",
       "mean                                  -493.742107   \n",
       "std                                     43.372158   \n",
       "min                                   -809.333008   \n",
       "25%                                   -500.123034   \n",
       "50%                                   -499.981902   \n",
       "75%                                   -499.812834   \n",
       "max                                   -159.742331   \n",
       "\n",
       "       secondary_cleaner.state.floatbank4_a_air  \\\n",
       "count                              19433.000000   \n",
       "mean                                  18.987674   \n",
       "std                                    5.411058   \n",
       "min                                    0.000000   \n",
       "25%                                   14.975734   \n",
       "50%                                   18.017481   \n",
       "75%                                   23.012470   \n",
       "max                                   30.115735   \n",
       "\n",
       "       secondary_cleaner.state.floatbank4_a_level  \\\n",
       "count                                19438.000000   \n",
       "mean                                  -485.894516   \n",
       "std                                     47.758570   \n",
       "min                                   -799.798523   \n",
       "25%                                   -500.704892   \n",
       "50%                                   -499.837793   \n",
       "75%                                   -498.249730   \n",
       "max                                   -245.239184   \n",
       "\n",
       "       secondary_cleaner.state.floatbank4_b_air  \\\n",
       "count                              19438.000000   \n",
       "mean                                  15.010366   \n",
       "std                                    4.890228   \n",
       "min                                    0.000000   \n",
       "25%                                   11.940294   \n",
       "50%                                   14.971014   \n",
       "75%                                   19.034162   \n",
       "max                                   31.269706   \n",
       "\n",
       "       secondary_cleaner.state.floatbank4_b_level  \\\n",
       "count                                19438.000000   \n",
       "mean                                  -461.078636   \n",
       "std                                     67.405524   \n",
       "min                                   -800.836914   \n",
       "25%                                   -500.187742   \n",
       "50%                                   -499.459786   \n",
       "75%                                   -400.118106   \n",
       "max                                     -6.506986   \n",
       "\n",
       "       secondary_cleaner.state.floatbank5_a_air  \\\n",
       "count                              19438.000000   \n",
       "mean                                  15.694452   \n",
       "std                                    5.510974   \n",
       "min                                   -0.372054   \n",
       "25%                                   10.988606   \n",
       "50%                                   15.000036   \n",
       "75%                                   18.026190   \n",
       "max                                   43.709931   \n",
       "\n",
       "       secondary_cleaner.state.floatbank5_a_level  \\\n",
       "count                                19438.000000   \n",
       "mean                                  -488.684065   \n",
       "std                                     34.533396   \n",
       "min                                   -797.323986   \n",
       "25%                                   -500.458467   \n",
       "50%                                   -499.802605   \n",
       "75%                                   -498.384187   \n",
       "max                                   -244.483566   \n",
       "\n",
       "       secondary_cleaner.state.floatbank5_b_air  \\\n",
       "count                              19438.000000   \n",
       "mean                                  12.198224   \n",
       "std                                    5.333024   \n",
       "min                                    0.528083   \n",
       "25%                                    8.971105   \n",
       "50%                                   11.019433   \n",
       "75%                                   14.019088   \n",
       "max                                   27.926001   \n",
       "\n",
       "       secondary_cleaner.state.floatbank5_b_level  \\\n",
       "count                                19438.000000   \n",
       "mean                                  -487.149827   \n",
       "std                                     38.347312   \n",
       "min                                   -800.220337   \n",
       "25%                                   -500.129462   \n",
       "50%                                   -499.935317   \n",
       "75%                                   -499.436708   \n",
       "max                                   -137.740004   \n",
       "\n",
       "       secondary_cleaner.state.floatbank6_a_air  \\\n",
       "count                              19437.000000   \n",
       "mean                                  18.959024   \n",
       "std                                    5.550498   \n",
       "min                                   -0.079426   \n",
       "25%                                   14.983037   \n",
       "50%                                   19.960541   \n",
       "75%                                   24.003170   \n",
       "max                                   32.188906   \n",
       "\n",
       "       secondary_cleaner.state.floatbank6_a_level  \n",
       "count                                19438.000000  \n",
       "mean                                  -505.436305  \n",
       "std                                     37.689057  \n",
       "min                                   -809.741464  \n",
       "25%                                   -500.728067  \n",
       "50%                                   -500.048400  \n",
       "75%                                   -499.495378  \n",
       "max                                   -104.427459  "
      ]
     },
     "metadata": {},
     "output_type": "display_data"
    },
    {
     "name": "stdout",
     "output_type": "stream",
     "text": [
      "---------------------------------------------------------------------------\n"
     ]
    }
   ],
   "source": [
    "for data in df_total:\n",
    "    display(data.head())\n",
    "    data.info()\n",
    "    display(data.describe())\n",
    "    print('---------------------------------------------------------------------------')"
   ]
  },
  {
   "cell_type": "markdown",
   "metadata": {},
   "source": [
    "Данные изучены. Можно двигаться дальше."
   ]
  },
  {
   "cell_type": "markdown",
   "metadata": {},
   "source": [
    "### Проверка того, что эффективность обогащения рассчитана правильно "
   ]
  },
  {
   "cell_type": "markdown",
   "metadata": {},
   "source": [
    "Для начала напишем функцию, которая рассчитает эффективность обогащения по формуле."
   ]
  },
  {
   "cell_type": "code",
   "execution_count": 5,
   "metadata": {},
   "outputs": [],
   "source": [
    "def recovery (row):\n",
    "    c = row['rougher.output.concentrate_au']\n",
    "    f = row['rougher.input.feed_au']\n",
    "    t = row['rougher.output.tail_au']\n",
    "    return ((c * (f - t)) / (f * ( c - t))) * 100"
   ]
  },
  {
   "cell_type": "markdown",
   "metadata": {},
   "source": [
    "Далее вытащим из обучающий выборки признаки, которые понадобятся нам для расчёта по формуле и нахождения MAE. Создадим их в отдельную выборку `df_recovery_correctness`."
   ]
  },
  {
   "cell_type": "code",
   "execution_count": 6,
   "metadata": {},
   "outputs": [],
   "source": [
    "df_recovery_correctness = df_train[\n",
    "    ['rougher.output.concentrate_au', \n",
    "     'rougher.input.feed_au', \n",
    "     'rougher.output.tail_au',   \n",
    "     'rougher.output.recovery']\n",
    "]\n",
    "df_recovery_correctenss = df_recovery_correctness.dropna(axis='index', how='any', subset=['rougher.output.recovery'])"
   ]
  },
  {
   "cell_type": "markdown",
   "metadata": {},
   "source": [
    "Добавим в данную выборку столбец `recovery_calculated_by_formula`, по которому эффективность обогащения будет расчитана по формуле."
   ]
  },
  {
   "cell_type": "code",
   "execution_count": 7,
   "metadata": {},
   "outputs": [],
   "source": [
    "df_recovery_correctness['recovery_calculated_by_formula'] = df_recovery_correctness.apply(recovery, axis=1)"
   ]
  },
  {
   "cell_type": "markdown",
   "metadata": {},
   "source": [
    "Рассчитаем среднее абсолютное отклонение (MAE) и выведем полученный результат на экран"
   ]
  },
  {
   "cell_type": "code",
   "execution_count": 8,
   "metadata": {},
   "outputs": [
    {
     "name": "stdout",
     "output_type": "stream",
     "text": [
      "MAE между эффективностью обогащения, рассчитаной по формуле и значением из датасета: 9.73512347450521e-15\n"
     ]
    }
   ],
   "source": [
    "print(\n",
    "    'MAE между эффективностью обогащения, рассчитаной по формуле и значением из датасета:',\n",
    "    mean_absolute_error(df_recovery_correctness['rougher.output.recovery'], df_recovery_correctness['recovery_calculated_by_formula'])\n",
    ")"
   ]
  },
  {
   "cell_type": "markdown",
   "metadata": {},
   "source": [
    "Такое низкое полученное MAE говорит нам о том, что эффективность обогащения рассчитана **правильно**. "
   ]
  },
  {
   "cell_type": "markdown",
   "metadata": {},
   "source": [
    "### Анализ признаков, недоступных в тестовой выборке "
   ]
  },
  {
   "cell_type": "markdown",
   "metadata": {},
   "source": [
    "Напишем цикл, который выведет на экран признаки, недоступные в тестовой выборке. "
   ]
  },
  {
   "cell_type": "code",
   "execution_count": 9,
   "metadata": {},
   "outputs": [],
   "source": [
    "test_columns = []\n",
    "\n",
    "for columns in df_train.columns:\n",
    "    if columns not in df_test.columns:\n",
    "        test_columns.append(columns)"
   ]
  },
  {
   "cell_type": "code",
   "execution_count": 10,
   "metadata": {},
   "outputs": [
    {
     "data": {
      "text/plain": [
       "['final.output.concentrate_ag',\n",
       " 'final.output.concentrate_pb',\n",
       " 'final.output.concentrate_sol',\n",
       " 'final.output.concentrate_au',\n",
       " 'final.output.recovery',\n",
       " 'final.output.tail_ag',\n",
       " 'final.output.tail_pb',\n",
       " 'final.output.tail_sol',\n",
       " 'final.output.tail_au',\n",
       " 'primary_cleaner.output.concentrate_ag',\n",
       " 'primary_cleaner.output.concentrate_pb',\n",
       " 'primary_cleaner.output.concentrate_sol',\n",
       " 'primary_cleaner.output.concentrate_au',\n",
       " 'primary_cleaner.output.tail_ag',\n",
       " 'primary_cleaner.output.tail_pb',\n",
       " 'primary_cleaner.output.tail_sol',\n",
       " 'primary_cleaner.output.tail_au',\n",
       " 'rougher.calculation.sulfate_to_au_concentrate',\n",
       " 'rougher.calculation.floatbank10_sulfate_to_au_feed',\n",
       " 'rougher.calculation.floatbank11_sulfate_to_au_feed',\n",
       " 'rougher.calculation.au_pb_ratio',\n",
       " 'rougher.output.concentrate_ag',\n",
       " 'rougher.output.concentrate_pb',\n",
       " 'rougher.output.concentrate_sol',\n",
       " 'rougher.output.concentrate_au',\n",
       " 'rougher.output.recovery',\n",
       " 'rougher.output.tail_ag',\n",
       " 'rougher.output.tail_pb',\n",
       " 'rougher.output.tail_sol',\n",
       " 'rougher.output.tail_au',\n",
       " 'secondary_cleaner.output.tail_ag',\n",
       " 'secondary_cleaner.output.tail_pb',\n",
       " 'secondary_cleaner.output.tail_sol',\n",
       " 'secondary_cleaner.output.tail_au']"
      ]
     },
     "execution_count": 10,
     "metadata": {},
     "output_type": "execute_result"
    }
   ],
   "source": [
    "test_columns"
   ]
  },
  {
   "cell_type": "markdown",
   "metadata": {},
   "source": [
    "Таким образом, мы видим что в тестовой выборке отсутствуют следующие признаки:\n",
    "* **финальные характеристики**: концентрация серебра, золота, свинца и золы в финальных концентратах и в отвальных хвостах; эффективность обогащения. \n",
    "* **первичная очистка**: концентрация серебра, золота, свинца и золы после первичной очистки и в отвальных хвостах. \n",
    "* **флотация**: концентрация серебра, золота, свинца и золы после флотации и в отвальных хвостах; расчётные харакетристики.\n",
    "* **вторичная очистка**: концентрация серебра, золота, свинца и золы в отвальных хвостах.\n"
   ]
  },
  {
   "cell_type": "markdown",
   "metadata": {},
   "source": [
    "Удалим столбцы в обучающей выборке, которых нет в тестовой, кроме признаков, которые в будущем будут целевыми."
   ]
  },
  {
   "cell_type": "code",
   "execution_count": 11,
   "metadata": {},
   "outputs": [],
   "source": [
    "not_in_test = ['final.output.concentrate_ag',\n",
    " 'final.output.concentrate_pb',\n",
    " 'final.output.concentrate_sol',\n",
    " 'final.output.concentrate_au',\n",
    " 'final.output.tail_ag',\n",
    " 'final.output.tail_pb',\n",
    " 'final.output.tail_sol',\n",
    " 'final.output.tail_au',\n",
    " 'primary_cleaner.output.concentrate_ag',\n",
    " 'primary_cleaner.output.concentrate_pb',\n",
    " 'primary_cleaner.output.concentrate_sol',\n",
    " 'primary_cleaner.output.concentrate_au',\n",
    " 'primary_cleaner.output.tail_ag',\n",
    " 'primary_cleaner.output.tail_pb',\n",
    " 'primary_cleaner.output.tail_sol',\n",
    " 'primary_cleaner.output.tail_au',\n",
    " 'rougher.calculation.sulfate_to_au_concentrate',\n",
    " 'rougher.calculation.floatbank10_sulfate_to_au_feed',\n",
    " 'rougher.calculation.floatbank11_sulfate_to_au_feed',\n",
    " 'rougher.calculation.au_pb_ratio',\n",
    " 'rougher.output.concentrate_ag',\n",
    " 'rougher.output.concentrate_pb',\n",
    " 'rougher.output.concentrate_sol',\n",
    " 'rougher.output.concentrate_au',\n",
    " 'rougher.output.tail_ag',\n",
    " 'rougher.output.tail_pb',\n",
    " 'rougher.output.tail_sol',\n",
    " 'rougher.output.tail_au',\n",
    " 'secondary_cleaner.output.tail_ag',\n",
    " 'secondary_cleaner.output.tail_pb',\n",
    " 'secondary_cleaner.output.tail_sol',\n",
    " 'secondary_cleaner.output.tail_au']"
   ]
  },
  {
   "cell_type": "code",
   "execution_count": 12,
   "metadata": {},
   "outputs": [],
   "source": [
    "df_train = df_train.drop(not_in_test, axis=1)"
   ]
  },
  {
   "cell_type": "code",
   "execution_count": 13,
   "metadata": {},
   "outputs": [
    {
     "data": {
      "text/plain": [
       "(14149, 54)"
      ]
     },
     "execution_count": 13,
     "metadata": {},
     "output_type": "execute_result"
    }
   ],
   "source": [
    "df_train.shape"
   ]
  },
  {
   "cell_type": "markdown",
   "metadata": {},
   "source": [
    "### Предобработка данных"
   ]
  },
  {
   "cell_type": "markdown",
   "metadata": {},
   "source": [
    "Проверим наши данные на дубликаты: "
   ]
  },
  {
   "cell_type": "code",
   "execution_count": 14,
   "metadata": {},
   "outputs": [
    {
     "name": "stdout",
     "output_type": "stream",
     "text": [
      "Количество дубликатов\n",
      "0\n",
      "-----------------------\n",
      "Количество дубликатов\n",
      "0\n",
      "-----------------------\n",
      "Количество дубликатов\n",
      "0\n",
      "-----------------------\n"
     ]
    }
   ],
   "source": [
    "def duplicates_check (data):\n",
    "    print('Количество дубликатов')\n",
    "    print(data.duplicated().sum())\n",
    "    print('-----------------------')\n",
    "\n",
    "for data in df_total:\n",
    "    duplicates_check(data)"
   ]
  },
  {
   "cell_type": "markdown",
   "metadata": {},
   "source": [
    "Дубликатов не обнаружено! Вызывать метод для проверки наличия пропусков нет смысла, т.к. когда мы смотрели на свобдную информацию о датасетах, было видно что пропуски есть. Заполним их через ffill."
   ]
  },
  {
   "cell_type": "code",
   "execution_count": 15,
   "metadata": {},
   "outputs": [],
   "source": [
    "df_train = df_train.fillna(value=None, method='ffill') \n",
    "df_test = df_test.fillna(value=None, method='ffill') \n",
    "df_full = df_full.fillna(value=None, method='ffill') "
   ]
  },
  {
   "cell_type": "markdown",
   "metadata": {},
   "source": [
    "Отлично! Предрбработка данных завершена. Можно приступать у следующему пункту - Анализ данных"
   ]
  },
  {
   "cell_type": "markdown",
   "metadata": {},
   "source": [
    "## Анализ данных"
   ]
  },
  {
   "cell_type": "markdown",
   "metadata": {},
   "source": [
    "### Изменение концентрации металлов (Au, Ag, Pb) на различных этапах очистки "
   ]
  },
  {
   "cell_type": "markdown",
   "metadata": {},
   "source": [
    "**Au**"
   ]
  },
  {
   "cell_type": "code",
   "execution_count": 16,
   "metadata": {},
   "outputs": [
    {
     "name": "stdout",
     "output_type": "stream",
     "text": [
      "Cредння концентрация золота после флотации: 19.772000139486316\n",
      "Cредння концентрация золота после первичной очистки: 32.1194004078765\n",
      "Cредння концентрация золота в финальном концентрате: 44.0765129419528\n"
     ]
    }
   ],
   "source": [
    "print('Cредння концентрация золота после флотации:', df_full['rougher.output.concentrate_au'].mean())\n",
    "print('Cредння концентрация золота после первичной очистки:', df_full['primary_cleaner.output.concentrate_au'].mean())\n",
    "print('Cредння концентрация золота в финальном концентрате:', df_full['final.output.concentrate_au'].mean())"
   ]
  },
  {
   "cell_type": "markdown",
   "metadata": {},
   "source": [
    "**Ag**"
   ]
  },
  {
   "cell_type": "code",
   "execution_count": 17,
   "metadata": {},
   "outputs": [
    {
     "name": "stdout",
     "output_type": "stream",
     "text": [
      "Cредння концентрация серебра после флотации: 11.994759359873429\n",
      "Cредння концентрация серебра после первичной очистки: 8.44240807771906\n",
      "Cредння концентрация серебра в финальном концентрате: 5.168386967510243\n"
     ]
    }
   ],
   "source": [
    "print('Cредння концентрация серебра после флотации:', df_full['rougher.output.concentrate_ag'].mean())\n",
    "print('Cредння концентрация серебра после первичной очистки:', df_full['primary_cleaner.output.concentrate_ag'].mean())\n",
    "print('Cредння концентрация серебра в финальном концентрате:', df_full['final.output.concentrate_ag'].mean())"
   ]
  },
  {
   "cell_type": "markdown",
   "metadata": {},
   "source": [
    "**Pb**"
   ]
  },
  {
   "cell_type": "code",
   "execution_count": 18,
   "metadata": {},
   "outputs": [
    {
     "name": "stdout",
     "output_type": "stream",
     "text": [
      "Cредння концентрация свинца после флотации: 7.606272313195003\n",
      "Cредння концентрация свинца после первичной очистки: 9.810316539310149\n",
      "Cредння концентрация свинца в финальном концентрате: 9.978821384192907\n"
     ]
    }
   ],
   "source": [
    "print('Cредння концентрация свинца после флотации:', df_full['rougher.output.concentrate_pb'].mean())\n",
    "print('Cредння концентрация свинца после первичной очистки:', df_full['primary_cleaner.output.concentrate_pb'].mean())\n",
    "print('Cредння концентрация свинца в финальном концентрате:', df_full['final.output.concentrate_pb'].mean())"
   ]
  },
  {
   "cell_type": "markdown",
   "metadata": {},
   "source": [
    "Отсюда мы видим, что концентрация золота после каждого этапа очистки только растёт. Что касается серебра, то его концентрация, наоборот, после каждого этапа очистки уменьшается. А вот со свинцом интереснее: после флотации средняя концентрация данного вещества ~ 7.61, а вот после первичной очистики его концентрация увеличилась в среднем до 9.81. Вторичная очистка не дала сильных изменений по уменьшению концентрации данного вещества."
   ]
  },
  {
   "cell_type": "markdown",
   "metadata": {},
   "source": [
    "### Сравнение распредления размеров гранул сырья на обучающей и тестовой выборках"
   ]
  },
  {
   "cell_type": "code",
   "execution_count": 19,
   "metadata": {},
   "outputs": [
    {
     "data": {
      "image/png": "[encoded data removed]",
      "text/plain": [
       "<Figure size 432x288 with 1 Axes>"
      ]
     },
     "metadata": {
      "needs_background": "light"
     },
     "output_type": "display_data"
    }
   ],
   "source": [
    "plt.title('Распредление размеров гранул сырья на обучающей и тестовой выборках')\n",
    "sns.kdeplot(df_train['rougher.input.feed_size'], legend=True, shade=True)\n",
    "sns.kdeplot(df_test['rougher.input.feed_size'], legend=True,shade=True)\n",
    "plt.legend(['Обучающая выборка', 'Тестовая выборка'], loc=1) \n",
    "plt.show()"
   ]
  },
  {
   "cell_type": "code",
   "execution_count": 20,
   "metadata": {},
   "outputs": [
    {
     "name": "stdout",
     "output_type": "stream",
     "text": [
      "Средний размер гранул сырья на обучающей выборке: 60.23985599255732\n",
      "Средний размер гранул сырья на тестовой выборке: 55.952754028895136\n"
     ]
    }
   ],
   "source": [
    "print('Средний размер гранул сырья на обучающей выборке:', df_train['rougher.input.feed_size'].mean())\n",
    "print('Средний размер гранул сырья на тестовой выборке:', df_test['rougher.input.feed_size'].mean())"
   ]
  },
  {
   "cell_type": "markdown",
   "metadata": {},
   "source": [
    "В целом, размер гранул не сильно отличаются друг от друга. Отсюда, будем считать, что оценка модели будет правильной."
   ]
  },
  {
   "cell_type": "markdown",
   "metadata": {},
   "source": [
    "### Исседование суммарной концентрации всех веществ на разных стадиях"
   ]
  },
  {
   "cell_type": "code",
   "execution_count": 21,
   "metadata": {},
   "outputs": [],
   "source": [
    "df_full['rougher_input_sum'] = (\n",
    "    df_full['rougher.input.feed_ag'] +\n",
    "    df_full['rougher.input.feed_au'] +\n",
    "    df_full['rougher.input.feed_pb'] +\n",
    "    df_full['rougher.input.feed_sol']\n",
    "\n",
    ")\n",
    "\n",
    "df_full['rougher_output_sum'] = (\n",
    "    df_full['rougher.output.concentrate_ag'] +\n",
    "    df_full['rougher.output.concentrate_au'] +\n",
    "    df_full['rougher.output.concentrate_pb'] +\n",
    "    df_full['rougher.output.concentrate_sol']\n",
    "\n",
    ")\n",
    "\n",
    "df_full['final_output_sum'] = (\n",
    "    df_full['final.output.concentrate_ag'] +\n",
    "    df_full['final.output.concentrate_au'] +\n",
    "    df_full['final.output.concentrate_pb'] +\n",
    "    df_full['final.output.concentrate_sol']\n",
    "\n",
    ")"
   ]
  },
  {
   "cell_type": "code",
   "execution_count": 22,
   "metadata": {},
   "outputs": [
    {
     "data": {
      "image/png": "[encoded data removed]",
      "text/plain": [
       "<Figure size 432x288 with 1 Axes>"
      ]
     },
     "metadata": {
      "needs_background": "light"
     },
     "output_type": "display_data"
    }
   ],
   "source": [
    "plt.title('Распределение суммарных концентраций всех веществ на разных стадиях')\n",
    "sns.kdeplot(df_full['rougher_input_sum'], legend=True, shade=True)\n",
    "sns.kdeplot(df_full['rougher_output_sum'], legend=True,shade=True)\n",
    "sns.kdeplot(df_full['final_output_sum'], legend=True,shade=True)\n",
    "plt.legend(['Сырье', 'Черновой', 'Финальный'], loc=1) \n",
    "plt.show()"
   ]
  },
  {
   "cell_type": "code",
   "execution_count": 23,
   "metadata": {},
   "outputs": [
    {
     "data": {
      "image/png": "[encoded data removed]",
      "text/plain": [
       "<Figure size 432x288 with 1 Axes>"
      ]
     },
     "metadata": {
      "needs_background": "light"
     },
     "output_type": "display_data"
    }
   ],
   "source": [
    "plt.title('Суммарная концентрация всех веществ на разных стадиях')\n",
    "sns.boxplot(data=df_full[['rougher_input_sum', 'rougher_output_sum', 'final_output_sum']])\n",
    "plt.show()"
   ]
  },
  {
   "cell_type": "markdown",
   "metadata": {},
   "source": [
    "По итогу мы видим, что сумма концентраицй всех веществ больше всего в сырье. И далее с каждым этапом очистки их становится всё меньше."
   ]
  },
  {
   "cell_type": "code",
   "execution_count": 24,
   "metadata": {},
   "outputs": [],
   "source": [
    "df_full = df_full[df_full['rougher_input_sum'] > 0]\n",
    "df_full = df_full[df_full['rougher_output_sum'] > 0]\n",
    "df_full = df_full[df_full['final_output_sum'] > 0]"
   ]
  },
  {
   "cell_type": "code",
   "execution_count": 25,
   "metadata": {},
   "outputs": [],
   "source": [
    "df_train.drop(df_train[~df_train.index.isin(df_train.index)].index, inplace=True)\n",
    "df_test.drop(df_test[~df_test.index.isin(df_full.index)].index, inplace=True)"
   ]
  },
  {
   "cell_type": "markdown",
   "metadata": {},
   "source": [
    "## Модель"
   ]
  },
  {
   "cell_type": "markdown",
   "metadata": {},
   "source": [
    "### Функция для вычисления  sMAPE"
   ]
  },
  {
   "cell_type": "code",
   "execution_count": 26,
   "metadata": {},
   "outputs": [],
   "source": [
    "def smape(target, pred):\n",
    "    return 1/len(target) * np.sum(2 * abs(target - pred) / (abs(target) + abs(pred))*100)"
   ]
  },
  {
   "cell_type": "markdown",
   "metadata": {},
   "source": [
    "### Обучение разных моделей и оценка их качества кросс-валидацией. Выборр лучшей модели и проверка её на тестовой выборке."
   ]
  },
  {
   "cell_type": "markdown",
   "metadata": {},
   "source": [
    "Подготовим признаки и целевые признаки для обучающей выборки. "
   ]
  },
  {
   "cell_type": "code",
   "execution_count": 27,
   "metadata": {},
   "outputs": [
    {
     "name": "stdout",
     "output_type": "stream",
     "text": [
      "(14149, 52)\n",
      "(14149,)\n",
      "(14149,)\n"
     ]
    }
   ],
   "source": [
    "features_train = df_train.drop(['rougher.output.recovery', 'final.output.recovery'], axis=1)\n",
    "target_train_rougher = df_train['rougher.output.recovery']\n",
    "target_train_final = df_train['final.output.recovery']\n",
    "\n",
    "print(features_train.shape)\n",
    "print(target_train_rougher.shape)\n",
    "print(target_train_final.shape)"
   ]
  },
  {
   "cell_type": "markdown",
   "metadata": {},
   "source": [
    "Далее подготовим признаки и целевые признаки для тестовой выборки "
   ]
  },
  {
   "cell_type": "code",
   "execution_count": 28,
   "metadata": {},
   "outputs": [
    {
     "name": "stdout",
     "output_type": "stream",
     "text": [
      "(5154, 52)\n",
      "(5154,)\n",
      "(5154,)\n"
     ]
    }
   ],
   "source": [
    "df_full_target = df_full[['rougher.output.recovery', 'final.output.recovery']]\n",
    "df_test = df_test.merge(df_full_target,  on='date', how='left')\n",
    "\n",
    "features_test = df_test.drop(['rougher.output.recovery', 'final.output.recovery'], axis=1)\n",
    "target_test_rougher = df_test['rougher.output.recovery']\n",
    "target_test_final = df_test['final.output.recovery']\n",
    "\n",
    "print(features_test.shape)\n",
    "print(target_test_rougher.shape)\n",
    "print(target_test_final.shape)"
   ]
  },
  {
   "cell_type": "code",
   "execution_count": 29,
   "metadata": {},
   "outputs": [
    {
     "data": {
      "text/html": [
       "<div>\n",
       "<style scoped>\n",
       "    .dataframe tbody tr th:only-of-type {\n",
       "        vertical-align: middle;\n",
       "    }\n",
       "\n",
       "    .dataframe tbody tr th {\n",
       "        vertical-align: top;\n",
       "    }\n",
       "\n",
       "    .dataframe thead th {\n",
       "        text-align: right;\n",
       "    }\n",
       "</style>\n",
       "<table border=\"1\" class=\"dataframe\">\n",
       "  <thead>\n",
       "    <tr style=\"text-align: right;\">\n",
       "      <th></th>\n",
       "      <th>primary_cleaner.input.sulfate</th>\n",
       "      <th>primary_cleaner.input.depressant</th>\n",
       "      <th>primary_cleaner.input.feed_size</th>\n",
       "      <th>primary_cleaner.input.xanthate</th>\n",
       "      <th>primary_cleaner.state.floatbank8_a_air</th>\n",
       "      <th>primary_cleaner.state.floatbank8_a_level</th>\n",
       "      <th>primary_cleaner.state.floatbank8_b_air</th>\n",
       "      <th>primary_cleaner.state.floatbank8_b_level</th>\n",
       "      <th>primary_cleaner.state.floatbank8_c_air</th>\n",
       "      <th>primary_cleaner.state.floatbank8_c_level</th>\n",
       "      <th>primary_cleaner.state.floatbank8_d_air</th>\n",
       "      <th>primary_cleaner.state.floatbank8_d_level</th>\n",
       "      <th>rougher.input.feed_ag</th>\n",
       "      <th>rougher.input.feed_pb</th>\n",
       "      <th>rougher.input.feed_rate</th>\n",
       "      <th>rougher.input.feed_size</th>\n",
       "      <th>rougher.input.feed_sol</th>\n",
       "      <th>rougher.input.feed_au</th>\n",
       "      <th>rougher.input.floatbank10_sulfate</th>\n",
       "      <th>rougher.input.floatbank10_xanthate</th>\n",
       "      <th>rougher.input.floatbank11_sulfate</th>\n",
       "      <th>rougher.input.floatbank11_xanthate</th>\n",
       "      <th>rougher.state.floatbank10_a_air</th>\n",
       "      <th>rougher.state.floatbank10_a_level</th>\n",
       "      <th>rougher.state.floatbank10_b_air</th>\n",
       "      <th>rougher.state.floatbank10_b_level</th>\n",
       "      <th>rougher.state.floatbank10_c_air</th>\n",
       "      <th>rougher.state.floatbank10_c_level</th>\n",
       "      <th>rougher.state.floatbank10_d_air</th>\n",
       "      <th>rougher.state.floatbank10_d_level</th>\n",
       "      <th>rougher.state.floatbank10_e_air</th>\n",
       "      <th>rougher.state.floatbank10_e_level</th>\n",
       "      <th>rougher.state.floatbank10_f_air</th>\n",
       "      <th>rougher.state.floatbank10_f_level</th>\n",
       "      <th>secondary_cleaner.state.floatbank2_a_air</th>\n",
       "      <th>secondary_cleaner.state.floatbank2_a_level</th>\n",
       "      <th>secondary_cleaner.state.floatbank2_b_air</th>\n",
       "      <th>secondary_cleaner.state.floatbank2_b_level</th>\n",
       "      <th>secondary_cleaner.state.floatbank3_a_air</th>\n",
       "      <th>secondary_cleaner.state.floatbank3_a_level</th>\n",
       "      <th>secondary_cleaner.state.floatbank3_b_air</th>\n",
       "      <th>secondary_cleaner.state.floatbank3_b_level</th>\n",
       "      <th>secondary_cleaner.state.floatbank4_a_air</th>\n",
       "      <th>secondary_cleaner.state.floatbank4_a_level</th>\n",
       "      <th>secondary_cleaner.state.floatbank4_b_air</th>\n",
       "      <th>secondary_cleaner.state.floatbank4_b_level</th>\n",
       "      <th>secondary_cleaner.state.floatbank5_a_air</th>\n",
       "      <th>secondary_cleaner.state.floatbank5_a_level</th>\n",
       "      <th>secondary_cleaner.state.floatbank5_b_air</th>\n",
       "      <th>secondary_cleaner.state.floatbank5_b_level</th>\n",
       "      <th>secondary_cleaner.state.floatbank6_a_air</th>\n",
       "      <th>secondary_cleaner.state.floatbank6_a_level</th>\n",
       "      <th>rougher.output.recovery</th>\n",
       "      <th>final.output.recovery</th>\n",
       "    </tr>\n",
       "    <tr>\n",
       "      <th>date</th>\n",
       "      <th></th>\n",
       "      <th></th>\n",
       "      <th></th>\n",
       "      <th></th>\n",
       "      <th></th>\n",
       "      <th></th>\n",
       "      <th></th>\n",
       "      <th></th>\n",
       "      <th></th>\n",
       "      <th></th>\n",
       "      <th></th>\n",
       "      <th></th>\n",
       "      <th></th>\n",
       "      <th></th>\n",
       "      <th></th>\n",
       "      <th></th>\n",
       "      <th></th>\n",
       "      <th></th>\n",
       "      <th></th>\n",
       "      <th></th>\n",
       "      <th></th>\n",
       "      <th></th>\n",
       "      <th></th>\n",
       "      <th></th>\n",
       "      <th></th>\n",
       "      <th></th>\n",
       "      <th></th>\n",
       "      <th></th>\n",
       "      <th></th>\n",
       "      <th></th>\n",
       "      <th></th>\n",
       "      <th></th>\n",
       "      <th></th>\n",
       "      <th></th>\n",
       "      <th></th>\n",
       "      <th></th>\n",
       "      <th></th>\n",
       "      <th></th>\n",
       "      <th></th>\n",
       "      <th></th>\n",
       "      <th></th>\n",
       "      <th></th>\n",
       "      <th></th>\n",
       "      <th></th>\n",
       "      <th></th>\n",
       "      <th></th>\n",
       "      <th></th>\n",
       "      <th></th>\n",
       "      <th></th>\n",
       "      <th></th>\n",
       "      <th></th>\n",
       "      <th></th>\n",
       "      <th></th>\n",
       "      <th></th>\n",
       "    </tr>\n",
       "  </thead>\n",
       "  <tbody>\n",
       "    <tr>\n",
       "      <th>2017-12-31 21:59:59</th>\n",
       "      <td>171.135718</td>\n",
       "      <td>15.993669</td>\n",
       "      <td>8.07</td>\n",
       "      <td>1.165996</td>\n",
       "      <td>1498.836182</td>\n",
       "      <td>-501.770403</td>\n",
       "      <td>1499.572353</td>\n",
       "      <td>-495.516347</td>\n",
       "      <td>1502.749213</td>\n",
       "      <td>-520.667442</td>\n",
       "      <td>1502.585343</td>\n",
       "      <td>-498.260225</td>\n",
       "      <td>11.285908</td>\n",
       "      <td>4.405327</td>\n",
       "      <td>546.306868</td>\n",
       "      <td>73.647513</td>\n",
       "      <td>41.095485</td>\n",
       "      <td>10.169094</td>\n",
       "      <td>10.182219</td>\n",
       "      <td>7.196255</td>\n",
       "      <td>10.185461</td>\n",
       "      <td>7.198676</td>\n",
       "      <td>1396.203070</td>\n",
       "      <td>-300.210722</td>\n",
       "      <td>1047.879742</td>\n",
       "      <td>-499.604248</td>\n",
       "      <td>948.963429</td>\n",
       "      <td>-499.549567</td>\n",
       "      <td>856.325597</td>\n",
       "      <td>-500.095616</td>\n",
       "      <td>850.614597</td>\n",
       "      <td>-499.473713</td>\n",
       "      <td>850.279578</td>\n",
       "      <td>-498.508374</td>\n",
       "      <td>29.075948</td>\n",
       "      <td>-500.528402</td>\n",
       "      <td>26.888005</td>\n",
       "      <td>-500.975799</td>\n",
       "      <td>28.000224</td>\n",
       "      <td>-500.565876</td>\n",
       "      <td>22.996528</td>\n",
       "      <td>-500.477583</td>\n",
       "      <td>19.994130</td>\n",
       "      <td>-499.791312</td>\n",
       "      <td>15.101425</td>\n",
       "      <td>-499.936252</td>\n",
       "      <td>10.989181</td>\n",
       "      <td>-498.347898</td>\n",
       "      <td>9.020944</td>\n",
       "      <td>-500.040448</td>\n",
       "      <td>8.982038</td>\n",
       "      <td>-497.789882</td>\n",
       "      <td>93.018138</td>\n",
       "      <td>67.092759</td>\n",
       "    </tr>\n",
       "    <tr>\n",
       "      <th>2017-12-31 22:59:59</th>\n",
       "      <td>179.697158</td>\n",
       "      <td>15.438979</td>\n",
       "      <td>8.07</td>\n",
       "      <td>1.501068</td>\n",
       "      <td>1498.466243</td>\n",
       "      <td>-500.483984</td>\n",
       "      <td>1497.986986</td>\n",
       "      <td>-519.200340</td>\n",
       "      <td>1496.569047</td>\n",
       "      <td>-487.479567</td>\n",
       "      <td>1502.688918</td>\n",
       "      <td>-501.569723</td>\n",
       "      <td>11.289710</td>\n",
       "      <td>4.343488</td>\n",
       "      <td>547.331405</td>\n",
       "      <td>78.066446</td>\n",
       "      <td>41.715740</td>\n",
       "      <td>10.071156</td>\n",
       "      <td>10.730915</td>\n",
       "      <td>7.200058</td>\n",
       "      <td>10.726349</td>\n",
       "      <td>7.200834</td>\n",
       "      <td>1403.942288</td>\n",
       "      <td>-300.030119</td>\n",
       "      <td>1049.802289</td>\n",
       "      <td>-499.795576</td>\n",
       "      <td>950.769390</td>\n",
       "      <td>-500.374645</td>\n",
       "      <td>847.647198</td>\n",
       "      <td>-499.920332</td>\n",
       "      <td>849.413040</td>\n",
       "      <td>-500.380529</td>\n",
       "      <td>850.075026</td>\n",
       "      <td>-500.478250</td>\n",
       "      <td>29.103185</td>\n",
       "      <td>-499.692672</td>\n",
       "      <td>27.051742</td>\n",
       "      <td>-499.858337</td>\n",
       "      <td>27.980387</td>\n",
       "      <td>-499.907225</td>\n",
       "      <td>23.046562</td>\n",
       "      <td>-499.744914</td>\n",
       "      <td>19.958760</td>\n",
       "      <td>-499.958750</td>\n",
       "      <td>15.026853</td>\n",
       "      <td>-499.723143</td>\n",
       "      <td>11.011607</td>\n",
       "      <td>-499.985046</td>\n",
       "      <td>9.009783</td>\n",
       "      <td>-499.937902</td>\n",
       "      <td>9.012660</td>\n",
       "      <td>-500.154284</td>\n",
       "      <td>92.599042</td>\n",
       "      <td>68.061186</td>\n",
       "    </tr>\n",
       "    <tr>\n",
       "      <th>2017-12-31 23:59:59</th>\n",
       "      <td>181.556856</td>\n",
       "      <td>14.995850</td>\n",
       "      <td>8.07</td>\n",
       "      <td>1.623454</td>\n",
       "      <td>1498.096303</td>\n",
       "      <td>-499.796922</td>\n",
       "      <td>1501.743791</td>\n",
       "      <td>-505.146931</td>\n",
       "      <td>1499.535978</td>\n",
       "      <td>-492.428226</td>\n",
       "      <td>1499.674340</td>\n",
       "      <td>-499.766717</td>\n",
       "      <td>10.904646</td>\n",
       "      <td>4.090591</td>\n",
       "      <td>564.540376</td>\n",
       "      <td>77.678700</td>\n",
       "      <td>40.891121</td>\n",
       "      <td>9.697259</td>\n",
       "      <td>10.789493</td>\n",
       "      <td>7.195776</td>\n",
       "      <td>10.792881</td>\n",
       "      <td>7.201037</td>\n",
       "      <td>1400.611544</td>\n",
       "      <td>-299.989405</td>\n",
       "      <td>1052.782756</td>\n",
       "      <td>-499.762966</td>\n",
       "      <td>950.793740</td>\n",
       "      <td>-499.357170</td>\n",
       "      <td>850.639537</td>\n",
       "      <td>-500.433782</td>\n",
       "      <td>850.370801</td>\n",
       "      <td>-500.819351</td>\n",
       "      <td>850.680188</td>\n",
       "      <td>-498.539198</td>\n",
       "      <td>29.098116</td>\n",
       "      <td>-500.429872</td>\n",
       "      <td>26.892401</td>\n",
       "      <td>-500.087131</td>\n",
       "      <td>28.023491</td>\n",
       "      <td>-500.170406</td>\n",
       "      <td>23.013559</td>\n",
       "      <td>-500.218801</td>\n",
       "      <td>20.034715</td>\n",
       "      <td>-500.728588</td>\n",
       "      <td>14.914199</td>\n",
       "      <td>-499.948518</td>\n",
       "      <td>10.986607</td>\n",
       "      <td>-500.658027</td>\n",
       "      <td>8.989497</td>\n",
       "      <td>-500.337588</td>\n",
       "      <td>8.988632</td>\n",
       "      <td>-500.764937</td>\n",
       "      <td>91.177695</td>\n",
       "      <td>71.699976</td>\n",
       "    </tr>\n",
       "  </tbody>\n",
       "</table>\n",
       "</div>"
      ],
      "text/plain": [
       "                     primary_cleaner.input.sulfate  \\\n",
       "date                                                 \n",
       "2017-12-31 21:59:59                     171.135718   \n",
       "2017-12-31 22:59:59                     179.697158   \n",
       "2017-12-31 23:59:59                     181.556856   \n",
       "\n",
       "                     primary_cleaner.input.depressant  \\\n",
       "date                                                    \n",
       "2017-12-31 21:59:59                         15.993669   \n",
       "2017-12-31 22:59:59                         15.438979   \n",
       "2017-12-31 23:59:59                         14.995850   \n",
       "\n",
       "                     primary_cleaner.input.feed_size  \\\n",
       "date                                                   \n",
       "2017-12-31 21:59:59                             8.07   \n",
       "2017-12-31 22:59:59                             8.07   \n",
       "2017-12-31 23:59:59                             8.07   \n",
       "\n",
       "                     primary_cleaner.input.xanthate  \\\n",
       "date                                                  \n",
       "2017-12-31 21:59:59                        1.165996   \n",
       "2017-12-31 22:59:59                        1.501068   \n",
       "2017-12-31 23:59:59                        1.623454   \n",
       "\n",
       "                     primary_cleaner.state.floatbank8_a_air  \\\n",
       "date                                                          \n",
       "2017-12-31 21:59:59                             1498.836182   \n",
       "2017-12-31 22:59:59                             1498.466243   \n",
       "2017-12-31 23:59:59                             1498.096303   \n",
       "\n",
       "                     primary_cleaner.state.floatbank8_a_level  \\\n",
       "date                                                            \n",
       "2017-12-31 21:59:59                               -501.770403   \n",
       "2017-12-31 22:59:59                               -500.483984   \n",
       "2017-12-31 23:59:59                               -499.796922   \n",
       "\n",
       "                     primary_cleaner.state.floatbank8_b_air  \\\n",
       "date                                                          \n",
       "2017-12-31 21:59:59                             1499.572353   \n",
       "2017-12-31 22:59:59                             1497.986986   \n",
       "2017-12-31 23:59:59                             1501.743791   \n",
       "\n",
       "                     primary_cleaner.state.floatbank8_b_level  \\\n",
       "date                                                            \n",
       "2017-12-31 21:59:59                               -495.516347   \n",
       "2017-12-31 22:59:59                               -519.200340   \n",
       "2017-12-31 23:59:59                               -505.146931   \n",
       "\n",
       "                     primary_cleaner.state.floatbank8_c_air  \\\n",
       "date                                                          \n",
       "2017-12-31 21:59:59                             1502.749213   \n",
       "2017-12-31 22:59:59                             1496.569047   \n",
       "2017-12-31 23:59:59                             1499.535978   \n",
       "\n",
       "                     primary_cleaner.state.floatbank8_c_level  \\\n",
       "date                                                            \n",
       "2017-12-31 21:59:59                               -520.667442   \n",
       "2017-12-31 22:59:59                               -487.479567   \n",
       "2017-12-31 23:59:59                               -492.428226   \n",
       "\n",
       "                     primary_cleaner.state.floatbank8_d_air  \\\n",
       "date                                                          \n",
       "2017-12-31 21:59:59                             1502.585343   \n",
       "2017-12-31 22:59:59                             1502.688918   \n",
       "2017-12-31 23:59:59                             1499.674340   \n",
       "\n",
       "                     primary_cleaner.state.floatbank8_d_level  \\\n",
       "date                                                            \n",
       "2017-12-31 21:59:59                               -498.260225   \n",
       "2017-12-31 22:59:59                               -501.569723   \n",
       "2017-12-31 23:59:59                               -499.766717   \n",
       "\n",
       "                     rougher.input.feed_ag  rougher.input.feed_pb  \\\n",
       "date                                                                \n",
       "2017-12-31 21:59:59              11.285908               4.405327   \n",
       "2017-12-31 22:59:59              11.289710               4.343488   \n",
       "2017-12-31 23:59:59              10.904646               4.090591   \n",
       "\n",
       "                     rougher.input.feed_rate  rougher.input.feed_size  \\\n",
       "date                                                                    \n",
       "2017-12-31 21:59:59               546.306868                73.647513   \n",
       "2017-12-31 22:59:59               547.331405                78.066446   \n",
       "2017-12-31 23:59:59               564.540376                77.678700   \n",
       "\n",
       "                     rougher.input.feed_sol  rougher.input.feed_au  \\\n",
       "date                                                                 \n",
       "2017-12-31 21:59:59               41.095485              10.169094   \n",
       "2017-12-31 22:59:59               41.715740              10.071156   \n",
       "2017-12-31 23:59:59               40.891121               9.697259   \n",
       "\n",
       "                     rougher.input.floatbank10_sulfate  \\\n",
       "date                                                     \n",
       "2017-12-31 21:59:59                          10.182219   \n",
       "2017-12-31 22:59:59                          10.730915   \n",
       "2017-12-31 23:59:59                          10.789493   \n",
       "\n",
       "                     rougher.input.floatbank10_xanthate  \\\n",
       "date                                                      \n",
       "2017-12-31 21:59:59                            7.196255   \n",
       "2017-12-31 22:59:59                            7.200058   \n",
       "2017-12-31 23:59:59                            7.195776   \n",
       "\n",
       "                     rougher.input.floatbank11_sulfate  \\\n",
       "date                                                     \n",
       "2017-12-31 21:59:59                          10.185461   \n",
       "2017-12-31 22:59:59                          10.726349   \n",
       "2017-12-31 23:59:59                          10.792881   \n",
       "\n",
       "                     rougher.input.floatbank11_xanthate  \\\n",
       "date                                                      \n",
       "2017-12-31 21:59:59                            7.198676   \n",
       "2017-12-31 22:59:59                            7.200834   \n",
       "2017-12-31 23:59:59                            7.201037   \n",
       "\n",
       "                     rougher.state.floatbank10_a_air  \\\n",
       "date                                                   \n",
       "2017-12-31 21:59:59                      1396.203070   \n",
       "2017-12-31 22:59:59                      1403.942288   \n",
       "2017-12-31 23:59:59                      1400.611544   \n",
       "\n",
       "                     rougher.state.floatbank10_a_level  \\\n",
       "date                                                     \n",
       "2017-12-31 21:59:59                        -300.210722   \n",
       "2017-12-31 22:59:59                        -300.030119   \n",
       "2017-12-31 23:59:59                        -299.989405   \n",
       "\n",
       "                     rougher.state.floatbank10_b_air  \\\n",
       "date                                                   \n",
       "2017-12-31 21:59:59                      1047.879742   \n",
       "2017-12-31 22:59:59                      1049.802289   \n",
       "2017-12-31 23:59:59                      1052.782756   \n",
       "\n",
       "                     rougher.state.floatbank10_b_level  \\\n",
       "date                                                     \n",
       "2017-12-31 21:59:59                        -499.604248   \n",
       "2017-12-31 22:59:59                        -499.795576   \n",
       "2017-12-31 23:59:59                        -499.762966   \n",
       "\n",
       "                     rougher.state.floatbank10_c_air  \\\n",
       "date                                                   \n",
       "2017-12-31 21:59:59                       948.963429   \n",
       "2017-12-31 22:59:59                       950.769390   \n",
       "2017-12-31 23:59:59                       950.793740   \n",
       "\n",
       "                     rougher.state.floatbank10_c_level  \\\n",
       "date                                                     \n",
       "2017-12-31 21:59:59                        -499.549567   \n",
       "2017-12-31 22:59:59                        -500.374645   \n",
       "2017-12-31 23:59:59                        -499.357170   \n",
       "\n",
       "                     rougher.state.floatbank10_d_air  \\\n",
       "date                                                   \n",
       "2017-12-31 21:59:59                       856.325597   \n",
       "2017-12-31 22:59:59                       847.647198   \n",
       "2017-12-31 23:59:59                       850.639537   \n",
       "\n",
       "                     rougher.state.floatbank10_d_level  \\\n",
       "date                                                     \n",
       "2017-12-31 21:59:59                        -500.095616   \n",
       "2017-12-31 22:59:59                        -499.920332   \n",
       "2017-12-31 23:59:59                        -500.433782   \n",
       "\n",
       "                     rougher.state.floatbank10_e_air  \\\n",
       "date                                                   \n",
       "2017-12-31 21:59:59                       850.614597   \n",
       "2017-12-31 22:59:59                       849.413040   \n",
       "2017-12-31 23:59:59                       850.370801   \n",
       "\n",
       "                     rougher.state.floatbank10_e_level  \\\n",
       "date                                                     \n",
       "2017-12-31 21:59:59                        -499.473713   \n",
       "2017-12-31 22:59:59                        -500.380529   \n",
       "2017-12-31 23:59:59                        -500.819351   \n",
       "\n",
       "                     rougher.state.floatbank10_f_air  \\\n",
       "date                                                   \n",
       "2017-12-31 21:59:59                       850.279578   \n",
       "2017-12-31 22:59:59                       850.075026   \n",
       "2017-12-31 23:59:59                       850.680188   \n",
       "\n",
       "                     rougher.state.floatbank10_f_level  \\\n",
       "date                                                     \n",
       "2017-12-31 21:59:59                        -498.508374   \n",
       "2017-12-31 22:59:59                        -500.478250   \n",
       "2017-12-31 23:59:59                        -498.539198   \n",
       "\n",
       "                     secondary_cleaner.state.floatbank2_a_air  \\\n",
       "date                                                            \n",
       "2017-12-31 21:59:59                                 29.075948   \n",
       "2017-12-31 22:59:59                                 29.103185   \n",
       "2017-12-31 23:59:59                                 29.098116   \n",
       "\n",
       "                     secondary_cleaner.state.floatbank2_a_level  \\\n",
       "date                                                              \n",
       "2017-12-31 21:59:59                                 -500.528402   \n",
       "2017-12-31 22:59:59                                 -499.692672   \n",
       "2017-12-31 23:59:59                                 -500.429872   \n",
       "\n",
       "                     secondary_cleaner.state.floatbank2_b_air  \\\n",
       "date                                                            \n",
       "2017-12-31 21:59:59                                 26.888005   \n",
       "2017-12-31 22:59:59                                 27.051742   \n",
       "2017-12-31 23:59:59                                 26.892401   \n",
       "\n",
       "                     secondary_cleaner.state.floatbank2_b_level  \\\n",
       "date                                                              \n",
       "2017-12-31 21:59:59                                 -500.975799   \n",
       "2017-12-31 22:59:59                                 -499.858337   \n",
       "2017-12-31 23:59:59                                 -500.087131   \n",
       "\n",
       "                     secondary_cleaner.state.floatbank3_a_air  \\\n",
       "date                                                            \n",
       "2017-12-31 21:59:59                                 28.000224   \n",
       "2017-12-31 22:59:59                                 27.980387   \n",
       "2017-12-31 23:59:59                                 28.023491   \n",
       "\n",
       "                     secondary_cleaner.state.floatbank3_a_level  \\\n",
       "date                                                              \n",
       "2017-12-31 21:59:59                                 -500.565876   \n",
       "2017-12-31 22:59:59                                 -499.907225   \n",
       "2017-12-31 23:59:59                                 -500.170406   \n",
       "\n",
       "                     secondary_cleaner.state.floatbank3_b_air  \\\n",
       "date                                                            \n",
       "2017-12-31 21:59:59                                 22.996528   \n",
       "2017-12-31 22:59:59                                 23.046562   \n",
       "2017-12-31 23:59:59                                 23.013559   \n",
       "\n",
       "                     secondary_cleaner.state.floatbank3_b_level  \\\n",
       "date                                                              \n",
       "2017-12-31 21:59:59                                 -500.477583   \n",
       "2017-12-31 22:59:59                                 -499.744914   \n",
       "2017-12-31 23:59:59                                 -500.218801   \n",
       "\n",
       "                     secondary_cleaner.state.floatbank4_a_air  \\\n",
       "date                                                            \n",
       "2017-12-31 21:59:59                                 19.994130   \n",
       "2017-12-31 22:59:59                                 19.958760   \n",
       "2017-12-31 23:59:59                                 20.034715   \n",
       "\n",
       "                     secondary_cleaner.state.floatbank4_a_level  \\\n",
       "date                                                              \n",
       "2017-12-31 21:59:59                                 -499.791312   \n",
       "2017-12-31 22:59:59                                 -499.958750   \n",
       "2017-12-31 23:59:59                                 -500.728588   \n",
       "\n",
       "                     secondary_cleaner.state.floatbank4_b_air  \\\n",
       "date                                                            \n",
       "2017-12-31 21:59:59                                 15.101425   \n",
       "2017-12-31 22:59:59                                 15.026853   \n",
       "2017-12-31 23:59:59                                 14.914199   \n",
       "\n",
       "                     secondary_cleaner.state.floatbank4_b_level  \\\n",
       "date                                                              \n",
       "2017-12-31 21:59:59                                 -499.936252   \n",
       "2017-12-31 22:59:59                                 -499.723143   \n",
       "2017-12-31 23:59:59                                 -499.948518   \n",
       "\n",
       "                     secondary_cleaner.state.floatbank5_a_air  \\\n",
       "date                                                            \n",
       "2017-12-31 21:59:59                                 10.989181   \n",
       "2017-12-31 22:59:59                                 11.011607   \n",
       "2017-12-31 23:59:59                                 10.986607   \n",
       "\n",
       "                     secondary_cleaner.state.floatbank5_a_level  \\\n",
       "date                                                              \n",
       "2017-12-31 21:59:59                                 -498.347898   \n",
       "2017-12-31 22:59:59                                 -499.985046   \n",
       "2017-12-31 23:59:59                                 -500.658027   \n",
       "\n",
       "                     secondary_cleaner.state.floatbank5_b_air  \\\n",
       "date                                                            \n",
       "2017-12-31 21:59:59                                  9.020944   \n",
       "2017-12-31 22:59:59                                  9.009783   \n",
       "2017-12-31 23:59:59                                  8.989497   \n",
       "\n",
       "                     secondary_cleaner.state.floatbank5_b_level  \\\n",
       "date                                                              \n",
       "2017-12-31 21:59:59                                 -500.040448   \n",
       "2017-12-31 22:59:59                                 -499.937902   \n",
       "2017-12-31 23:59:59                                 -500.337588   \n",
       "\n",
       "                     secondary_cleaner.state.floatbank6_a_air  \\\n",
       "date                                                            \n",
       "2017-12-31 21:59:59                                  8.982038   \n",
       "2017-12-31 22:59:59                                  9.012660   \n",
       "2017-12-31 23:59:59                                  8.988632   \n",
       "\n",
       "                     secondary_cleaner.state.floatbank6_a_level  \\\n",
       "date                                                              \n",
       "2017-12-31 21:59:59                                 -497.789882   \n",
       "2017-12-31 22:59:59                                 -500.154284   \n",
       "2017-12-31 23:59:59                                 -500.764937   \n",
       "\n",
       "                     rougher.output.recovery  final.output.recovery  \n",
       "date                                                                 \n",
       "2017-12-31 21:59:59                93.018138              67.092759  \n",
       "2017-12-31 22:59:59                92.599042              68.061186  \n",
       "2017-12-31 23:59:59                91.177695              71.699976  "
      ]
     },
     "execution_count": 29,
     "metadata": {},
     "output_type": "execute_result"
    }
   ],
   "source": [
    "df_test.tail(3)"
   ]
  },
  {
   "cell_type": "markdown",
   "metadata": {},
   "source": [
    "Для дальнейшего обучения возьмем две модели: Случайный лес в регрессии и Линейную и регрессию. Дерево решений в регрессии брать не будет, т.к. по сравнению с двумя другими моделями, её качество хуже."
   ]
  },
  {
   "cell_type": "code",
   "execution_count": 30,
   "metadata": {},
   "outputs": [
    {
     "name": "stdout",
     "output_type": "stream",
     "text": [
      "best_params_ {'max_depth': 4, 'n_estimators': 21}\n"
     ]
    }
   ],
   "source": [
    "model1 = RandomForestRegressor(random_state=1234)\n",
    "parametrs = { 'max_depth': range (3, 8),#8\n",
    "              'n_estimators': range (1, 31, 10)}\n",
    "grid = GridSearchCV(model1, parametrs, cv=5)\n",
    "grid.fit(features_train, target_train_rougher)\n",
    "\n",
    "print ('best_params_' ,grid.best_params_)"
   ]
  },
  {
   "cell_type": "code",
   "execution_count": 31,
   "metadata": {
    "scrolled": false
   },
   "outputs": [
    {
     "name": "stdout",
     "output_type": "stream",
     "text": [
      "best_params_ {'max_depth': 4, 'n_estimators': 21}\n"
     ]
    }
   ],
   "source": [
    "model2 = RandomForestRegressor(random_state=1234)\n",
    "parametrs = { 'max_depth': range (3, 8),\n",
    "              'n_estimators': range (1, 31, 10)}\n",
    "grid = GridSearchCV(model2, parametrs, cv=5)\n",
    "grid.fit(features_train, target_train_final)\n",
    "\n",
    "print ('best_params_' ,grid.best_params_)"
   ]
  },
  {
   "cell_type": "code",
   "execution_count": 32,
   "metadata": {},
   "outputs": [
    {
     "data": {
      "text/plain": [
       "7.1467569037382646"
      ]
     },
     "execution_count": 32,
     "metadata": {},
     "output_type": "execute_result"
    }
   ],
   "source": [
    "model = RandomForestRegressor(random_state=1234, max_depth=4, n_estimators=21)\n",
    "model.fit(features_train, target_train_rougher)\n",
    "predictions = model.predict(features_test)\n",
    "smape_rougher_rgr = smape(target_test_rougher, predictions) \n",
    "smape_rougher_rgr"
   ]
  },
  {
   "cell_type": "code",
   "execution_count": 33,
   "metadata": {},
   "outputs": [
    {
     "data": {
      "text/plain": [
       "7.9099188105836085"
      ]
     },
     "execution_count": 33,
     "metadata": {},
     "output_type": "execute_result"
    }
   ],
   "source": [
    "model = RandomForestRegressor(random_state=1234, max_depth=4, n_estimators=21)\n",
    "model.fit(features_train, target_train_final)\n",
    "predictions = model.predict(features_test)\n",
    "smape_final_rgr = smape(target_test_final, predictions) \n",
    "smape_final_rgr"
   ]
  },
  {
   "cell_type": "code",
   "execution_count": 34,
   "metadata": {
    "scrolled": false
   },
   "outputs": [
    {
     "data": {
      "text/plain": [
       "6.114767089426323"
      ]
     },
     "execution_count": 34,
     "metadata": {},
     "output_type": "execute_result"
    }
   ],
   "source": [
    "model = LinearRegression()\n",
    "model.fit(features_train, target_train_rougher)\n",
    "predictions_rougher = model.predict(features_test)\n",
    "smape_rougher = smape(target_test_rougher, predictions_rougher)  \n",
    "smape_rougher"
   ]
  },
  {
   "cell_type": "code",
   "execution_count": 35,
   "metadata": {},
   "outputs": [
    {
     "data": {
      "text/plain": [
       "8.568108136634432"
      ]
     },
     "execution_count": 35,
     "metadata": {},
     "output_type": "execute_result"
    }
   ],
   "source": [
    "model = LinearRegression()\n",
    "model.fit(features_train, target_train_final)\n",
    "predictions_final = model.predict(features_test)\n",
    "smape_final = smape(target_test_final, predictions_final)  \n",
    "smape_final"
   ]
  },
  {
   "cell_type": "markdown",
   "metadata": {},
   "source": [
    "В итоге у нас получилось, что лучшая модель это RandomForestRegressor с n_estimators=21 и max_depth=4."
   ]
  },
  {
   "cell_type": "markdown",
   "metadata": {},
   "source": [
    "Посчитаем итоговое sMAPE"
   ]
  },
  {
   "cell_type": "code",
   "execution_count": 36,
   "metadata": {},
   "outputs": [
    {
     "name": "stdout",
     "output_type": "stream",
     "text": [
      "Итоговое симметричное среднее абсолютное процентное отклонение: 7.7191283338722725\n"
     ]
    }
   ],
   "source": [
    "final_smape= 0.25 * smape_rougher_rgr + 0.75 * smape_final_rgr\n",
    "print('Итоговое симметричное среднее абсолютное процентное отклонение:', final_smape)"
   ]
  },
  {
   "cell_type": "markdown",
   "metadata": {},
   "source": [
    "**ВЫВОД**\n",
    "\n",
    "Полученное итоговое sMAPPE можно считать приемлемым. "
   ]
  },
  {
   "cell_type": "markdown",
   "metadata": {},
   "source": [
    "Ниже сравнним модель с константной."
   ]
  },
  {
   "cell_type": "code",
   "execution_count": 37,
   "metadata": {},
   "outputs": [
    {
     "data": {
      "text/plain": [
       "4.926179972595565"
      ]
     },
     "execution_count": 37,
     "metadata": {},
     "output_type": "execute_result"
    }
   ],
   "source": [
    "model = RandomForestRegressor(random_state=1234, max_depth=4, n_estimators=21)\n",
    "model.fit(features_train, target_train_rougher)\n",
    "predictions = model.predict(features_test)\n",
    "smape_rougher_rgr = smape(target_test_rougher, target_train_rougher.median())\n",
    "smape_rougher_rgr"
   ]
  },
  {
   "cell_type": "code",
   "execution_count": 39,
   "metadata": {},
   "outputs": [
    {
     "data": {
      "text/plain": [
       "8.233165135602894"
      ]
     },
     "execution_count": 39,
     "metadata": {},
     "output_type": "execute_result"
    }
   ],
   "source": [
    "model = RandomForestRegressor(random_state=1234, max_depth=4, n_estimators=21)\n",
    "model.fit(features_train, target_train_final)\n",
    "predictions = model.predict(features_test)\n",
    "smape_final_rgr = smape(target_test_final, target_train_final.median()) \n",
    "smape_final_rgr"
   ]
  }
 ],
 "metadata": {
  "ExecuteTimeLog": [
   {
    "duration": 387,
    "start_time": "2022-04-15T18:25:28.130Z"
   },
   {
    "duration": 92,
    "start_time": "2022-04-15T18:26:46.838Z"
   },
   {
    "duration": 2,
    "start_time": "2022-04-15T18:26:57.925Z"
   },
   {
    "duration": 39,
    "start_time": "2022-04-15T18:26:58.808Z"
   },
   {
    "duration": 43,
    "start_time": "2022-04-15T18:27:18.387Z"
   },
   {
    "duration": 39,
    "start_time": "2022-04-15T18:27:23.930Z"
   },
   {
    "duration": 17,
    "start_time": "2022-04-15T18:30:16.342Z"
   },
   {
    "duration": 399,
    "start_time": "2022-04-15T18:30:38.225Z"
   },
   {
    "duration": 73,
    "start_time": "2022-04-15T18:30:38.626Z"
   },
   {
    "duration": 16,
    "start_time": "2022-04-15T18:34:48.640Z"
   },
   {
    "duration": 374,
    "start_time": "2022-04-15T18:35:07.442Z"
   },
   {
    "duration": 270,
    "start_time": "2022-04-15T18:35:07.818Z"
   },
   {
    "duration": 656,
    "start_time": "2022-04-15T18:36:05.414Z"
   },
   {
    "duration": 656,
    "start_time": "2022-04-15T18:37:02.602Z"
   },
   {
    "duration": 66,
    "start_time": "2022-04-15T18:37:18.164Z"
   },
   {
    "duration": 646,
    "start_time": "2022-04-15T18:38:14.390Z"
   },
   {
    "duration": 414,
    "start_time": "2022-04-15T19:41:41.387Z"
   },
   {
    "duration": 663,
    "start_time": "2022-04-15T19:41:41.803Z"
   },
   {
    "duration": 2,
    "start_time": "2022-04-15T19:41:42.468Z"
   },
   {
    "duration": 138,
    "start_time": "2022-04-15T19:42:12.867Z"
   },
   {
    "duration": 741,
    "start_time": "2022-04-15T19:42:25.019Z"
   },
   {
    "duration": 689,
    "start_time": "2022-04-15T19:42:59.897Z"
   },
   {
    "duration": 709,
    "start_time": "2022-04-15T19:43:12.792Z"
   },
   {
    "duration": 834,
    "start_time": "2022-04-15T19:43:48.214Z"
   },
   {
    "duration": 9,
    "start_time": "2022-04-15T19:45:16.815Z"
   },
   {
    "duration": 3,
    "start_time": "2022-04-15T19:45:21.603Z"
   },
   {
    "duration": 433,
    "start_time": "2022-04-15T19:45:27.480Z"
   },
   {
    "duration": 664,
    "start_time": "2022-04-15T19:45:27.915Z"
   },
   {
    "duration": 3,
    "start_time": "2022-04-15T19:45:28.581Z"
   },
   {
    "duration": 944,
    "start_time": "2022-04-15T19:45:28.586Z"
   },
   {
    "duration": 385,
    "start_time": "2022-04-15T20:33:12.134Z"
   },
   {
    "duration": 692,
    "start_time": "2022-04-15T20:33:12.521Z"
   },
   {
    "duration": 3,
    "start_time": "2022-04-15T20:33:13.215Z"
   },
   {
    "duration": 971,
    "start_time": "2022-04-15T20:33:13.221Z"
   },
   {
    "duration": 3,
    "start_time": "2022-04-15T20:33:14.193Z"
   },
   {
    "duration": 4,
    "start_time": "2022-04-15T20:39:53.619Z"
   },
   {
    "duration": 4,
    "start_time": "2022-04-15T20:42:04.951Z"
   },
   {
    "duration": 66,
    "start_time": "2022-04-15T20:42:51.395Z"
   },
   {
    "duration": 9,
    "start_time": "2022-04-15T20:43:25.445Z"
   },
   {
    "duration": 10,
    "start_time": "2022-04-15T20:43:48.492Z"
   },
   {
    "duration": 21,
    "start_time": "2022-04-15T20:47:03.976Z"
   },
   {
    "duration": 372,
    "start_time": "2022-04-15T20:47:14.956Z"
   },
   {
    "duration": 672,
    "start_time": "2022-04-15T20:47:15.330Z"
   },
   {
    "duration": 2,
    "start_time": "2022-04-15T20:47:16.004Z"
   },
   {
    "duration": 946,
    "start_time": "2022-04-15T20:47:16.008Z"
   },
   {
    "duration": 4,
    "start_time": "2022-04-15T20:47:16.955Z"
   },
   {
    "duration": 84,
    "start_time": "2022-04-15T20:47:16.960Z"
   },
   {
    "duration": 0,
    "start_time": "2022-04-15T20:47:17.046Z"
   },
   {
    "duration": 7,
    "start_time": "2022-04-15T20:48:50.880Z"
   },
   {
    "duration": 12,
    "start_time": "2022-04-15T20:48:56.759Z"
   },
   {
    "duration": 10,
    "start_time": "2022-04-15T20:49:49.317Z"
   },
   {
    "duration": 4,
    "start_time": "2022-04-15T20:50:44.320Z"
   },
   {
    "duration": 6,
    "start_time": "2022-04-15T20:50:44.939Z"
   },
   {
    "duration": 163,
    "start_time": "2022-04-15T20:50:45.694Z"
   },
   {
    "duration": 386,
    "start_time": "2022-04-15T20:53:33.527Z"
   },
   {
    "duration": 665,
    "start_time": "2022-04-15T20:53:33.915Z"
   },
   {
    "duration": 2,
    "start_time": "2022-04-15T20:53:34.582Z"
   },
   {
    "duration": 903,
    "start_time": "2022-04-15T20:53:34.586Z"
   },
   {
    "duration": 3,
    "start_time": "2022-04-15T20:53:35.490Z"
   },
   {
    "duration": 16,
    "start_time": "2022-04-15T20:53:35.494Z"
   },
   {
    "duration": 168,
    "start_time": "2022-04-15T20:53:35.511Z"
   },
   {
    "duration": 153,
    "start_time": "2022-04-15T20:53:53.387Z"
   },
   {
    "duration": 7,
    "start_time": "2022-04-15T20:54:34.330Z"
   },
   {
    "duration": 8,
    "start_time": "2022-04-15T20:55:00.437Z"
   },
   {
    "duration": 175,
    "start_time": "2022-04-15T20:55:13.502Z"
   },
   {
    "duration": 9,
    "start_time": "2022-04-15T20:55:13.832Z"
   },
   {
    "duration": 647,
    "start_time": "2022-04-15T20:57:55.305Z"
   },
   {
    "duration": 19,
    "start_time": "2022-04-15T20:58:05.250Z"
   },
   {
    "duration": 5,
    "start_time": "2022-04-15T21:02:34.904Z"
   },
   {
    "duration": 4,
    "start_time": "2022-04-15T21:29:22.628Z"
   },
   {
    "duration": 3,
    "start_time": "2022-04-15T23:00:20.917Z"
   },
   {
    "duration": 3,
    "start_time": "2022-04-15T23:00:46.658Z"
   },
   {
    "duration": 70,
    "start_time": "2022-04-15T23:01:07.946Z"
   },
   {
    "duration": 3,
    "start_time": "2022-04-15T23:01:13.641Z"
   },
   {
    "duration": 3,
    "start_time": "2022-04-15T23:01:30.480Z"
   },
   {
    "duration": 7,
    "start_time": "2022-04-15T23:05:12.314Z"
   },
   {
    "duration": 17,
    "start_time": "2022-04-15T23:05:50.356Z"
   },
   {
    "duration": 17,
    "start_time": "2022-04-15T23:06:01.997Z"
   },
   {
    "duration": 71,
    "start_time": "2022-04-15T23:06:16.195Z"
   },
   {
    "duration": 16,
    "start_time": "2022-04-15T23:06:18.237Z"
   },
   {
    "duration": 21,
    "start_time": "2022-04-15T23:06:29.415Z"
   },
   {
    "duration": 237,
    "start_time": "2022-04-15T23:08:57.730Z"
   },
   {
    "duration": 215,
    "start_time": "2022-04-15T23:09:24.614Z"
   },
   {
    "duration": 965,
    "start_time": "2022-04-15T23:09:34.356Z"
   },
   {
    "duration": 641,
    "start_time": "2022-04-15T23:09:35.324Z"
   },
   {
    "duration": 2,
    "start_time": "2022-04-15T23:09:35.967Z"
   },
   {
    "duration": 861,
    "start_time": "2022-04-15T23:09:35.971Z"
   },
   {
    "duration": 3,
    "start_time": "2022-04-15T23:09:36.834Z"
   },
   {
    "duration": 9,
    "start_time": "2022-04-15T23:09:36.839Z"
   },
   {
    "duration": 173,
    "start_time": "2022-04-15T23:09:36.850Z"
   },
   {
    "duration": 4,
    "start_time": "2022-04-15T23:09:37.025Z"
   },
   {
    "duration": 8,
    "start_time": "2022-04-15T23:09:37.031Z"
   },
   {
    "duration": 625,
    "start_time": "2022-04-15T23:09:37.041Z"
   },
   {
    "duration": 0,
    "start_time": "2022-04-15T23:09:37.667Z"
   },
   {
    "duration": 13,
    "start_time": "2022-04-15T23:09:59.194Z"
   },
   {
    "duration": 232,
    "start_time": "2022-04-15T23:10:00.490Z"
   },
   {
    "duration": 1121,
    "start_time": "2022-04-15T23:10:12.277Z"
   },
   {
    "duration": 686,
    "start_time": "2022-04-15T23:10:13.401Z"
   },
   {
    "duration": 2,
    "start_time": "2022-04-15T23:10:14.089Z"
   },
   {
    "duration": 920,
    "start_time": "2022-04-15T23:10:14.093Z"
   },
   {
    "duration": 3,
    "start_time": "2022-04-15T23:10:15.015Z"
   },
   {
    "duration": 15,
    "start_time": "2022-04-15T23:10:15.020Z"
   },
   {
    "duration": 178,
    "start_time": "2022-04-15T23:10:15.037Z"
   },
   {
    "duration": 5,
    "start_time": "2022-04-15T23:10:15.217Z"
   },
   {
    "duration": 8,
    "start_time": "2022-04-15T23:10:15.224Z"
   },
   {
    "duration": 13,
    "start_time": "2022-04-15T23:10:15.234Z"
   },
   {
    "duration": 270,
    "start_time": "2022-04-15T23:10:15.249Z"
   },
   {
    "duration": 19,
    "start_time": "2022-04-15T23:13:25.136Z"
   },
   {
    "duration": 31,
    "start_time": "2022-04-15T23:18:49.857Z"
   },
   {
    "duration": 1050,
    "start_time": "2022-04-15T23:19:18.748Z"
   },
   {
    "duration": 670,
    "start_time": "2022-04-15T23:19:19.800Z"
   },
   {
    "duration": 3,
    "start_time": "2022-04-15T23:19:20.471Z"
   },
   {
    "duration": 886,
    "start_time": "2022-04-15T23:19:20.476Z"
   },
   {
    "duration": 4,
    "start_time": "2022-04-15T23:19:21.363Z"
   },
   {
    "duration": 12,
    "start_time": "2022-04-15T23:19:21.368Z"
   },
   {
    "duration": 172,
    "start_time": "2022-04-15T23:19:21.382Z"
   },
   {
    "duration": 5,
    "start_time": "2022-04-15T23:19:21.556Z"
   },
   {
    "duration": 10,
    "start_time": "2022-04-15T23:19:21.563Z"
   },
   {
    "duration": 13,
    "start_time": "2022-04-15T23:19:21.575Z"
   },
   {
    "duration": 239,
    "start_time": "2022-04-15T23:19:21.607Z"
   },
   {
    "duration": 17,
    "start_time": "2022-04-15T23:19:21.848Z"
   },
   {
    "duration": 49,
    "start_time": "2022-04-15T23:19:21.867Z"
   },
   {
    "duration": 12,
    "start_time": "2022-04-15T23:21:41.914Z"
   },
   {
    "duration": 31,
    "start_time": "2022-04-15T23:21:42.555Z"
   },
   {
    "duration": 1012,
    "start_time": "2022-04-15T23:21:48.555Z"
   },
   {
    "duration": 662,
    "start_time": "2022-04-15T23:21:49.569Z"
   },
   {
    "duration": 3,
    "start_time": "2022-04-15T23:21:50.235Z"
   },
   {
    "duration": 877,
    "start_time": "2022-04-15T23:21:50.239Z"
   },
   {
    "duration": 3,
    "start_time": "2022-04-15T23:21:51.118Z"
   },
   {
    "duration": 10,
    "start_time": "2022-04-15T23:21:51.122Z"
   },
   {
    "duration": 179,
    "start_time": "2022-04-15T23:21:51.133Z"
   },
   {
    "duration": 4,
    "start_time": "2022-04-15T23:21:51.313Z"
   },
   {
    "duration": 7,
    "start_time": "2022-04-15T23:21:51.320Z"
   },
   {
    "duration": 13,
    "start_time": "2022-04-15T23:21:51.328Z"
   },
   {
    "duration": 254,
    "start_time": "2022-04-15T23:21:51.342Z"
   },
   {
    "duration": 15,
    "start_time": "2022-04-15T23:21:51.598Z"
   },
   {
    "duration": 36,
    "start_time": "2022-04-15T23:21:51.615Z"
   },
   {
    "duration": 90,
    "start_time": "2022-04-15T23:32:09.835Z"
   },
   {
    "duration": 7,
    "start_time": "2022-04-15T23:32:30.208Z"
   },
   {
    "duration": 1086,
    "start_time": "2022-04-15T23:34:04.803Z"
   },
   {
    "duration": 669,
    "start_time": "2022-04-15T23:34:05.891Z"
   },
   {
    "duration": 3,
    "start_time": "2022-04-15T23:34:06.562Z"
   },
   {
    "duration": 881,
    "start_time": "2022-04-15T23:34:06.567Z"
   },
   {
    "duration": 3,
    "start_time": "2022-04-15T23:34:07.450Z"
   },
   {
    "duration": 9,
    "start_time": "2022-04-15T23:34:07.454Z"
   },
   {
    "duration": 174,
    "start_time": "2022-04-15T23:34:07.464Z"
   },
   {
    "duration": 4,
    "start_time": "2022-04-15T23:34:07.640Z"
   },
   {
    "duration": 10,
    "start_time": "2022-04-15T23:34:07.646Z"
   },
   {
    "duration": 6,
    "start_time": "2022-04-15T23:34:07.659Z"
   },
   {
    "duration": 13,
    "start_time": "2022-04-15T23:34:07.667Z"
   },
   {
    "duration": 251,
    "start_time": "2022-04-15T23:34:07.681Z"
   },
   {
    "duration": 10,
    "start_time": "2022-04-15T23:34:07.933Z"
   },
   {
    "duration": 820,
    "start_time": "2022-04-15T23:36:31.920Z"
   },
   {
    "duration": 32,
    "start_time": "2022-04-15T23:36:42.797Z"
   },
   {
    "duration": 1018,
    "start_time": "2022-04-15T23:36:55.261Z"
   },
   {
    "duration": 669,
    "start_time": "2022-04-15T23:36:56.281Z"
   },
   {
    "duration": 3,
    "start_time": "2022-04-15T23:36:56.951Z"
   },
   {
    "duration": 916,
    "start_time": "2022-04-15T23:36:56.956Z"
   },
   {
    "duration": 3,
    "start_time": "2022-04-15T23:36:57.874Z"
   },
   {
    "duration": 8,
    "start_time": "2022-04-15T23:36:57.879Z"
   },
   {
    "duration": 179,
    "start_time": "2022-04-15T23:36:57.889Z"
   },
   {
    "duration": 5,
    "start_time": "2022-04-15T23:36:58.069Z"
   },
   {
    "duration": 7,
    "start_time": "2022-04-15T23:36:58.076Z"
   },
   {
    "duration": 27,
    "start_time": "2022-04-15T23:36:58.085Z"
   },
   {
    "duration": 15,
    "start_time": "2022-04-15T23:36:58.114Z"
   },
   {
    "duration": 250,
    "start_time": "2022-04-15T23:36:58.130Z"
   },
   {
    "duration": 11,
    "start_time": "2022-04-15T23:36:58.382Z"
   },
   {
    "duration": 45,
    "start_time": "2022-04-15T23:36:58.394Z"
   },
   {
    "duration": 119,
    "start_time": "2022-04-15T23:37:46.587Z"
   },
   {
    "duration": 969,
    "start_time": "2022-04-15T23:38:01.857Z"
   },
   {
    "duration": 657,
    "start_time": "2022-04-15T23:38:02.828Z"
   },
   {
    "duration": 3,
    "start_time": "2022-04-15T23:38:03.486Z"
   },
   {
    "duration": 882,
    "start_time": "2022-04-15T23:38:03.490Z"
   },
   {
    "duration": 4,
    "start_time": "2022-04-15T23:38:04.373Z"
   },
   {
    "duration": 8,
    "start_time": "2022-04-15T23:38:04.379Z"
   },
   {
    "duration": 179,
    "start_time": "2022-04-15T23:38:04.389Z"
   },
   {
    "duration": 5,
    "start_time": "2022-04-15T23:38:04.569Z"
   },
   {
    "duration": 11,
    "start_time": "2022-04-15T23:38:04.575Z"
   },
   {
    "duration": 19,
    "start_time": "2022-04-15T23:38:04.588Z"
   },
   {
    "duration": 14,
    "start_time": "2022-04-15T23:38:04.609Z"
   },
   {
    "duration": 242,
    "start_time": "2022-04-15T23:38:04.625Z"
   },
   {
    "duration": 10,
    "start_time": "2022-04-15T23:38:04.869Z"
   },
   {
    "duration": 103,
    "start_time": "2022-04-15T23:38:04.880Z"
   },
   {
    "duration": 8,
    "start_time": "2022-04-15T23:38:14.147Z"
   },
   {
    "duration": 8,
    "start_time": "2022-04-15T23:38:32.267Z"
   },
   {
    "duration": 986,
    "start_time": "2022-04-15T23:38:56.907Z"
   },
   {
    "duration": 653,
    "start_time": "2022-04-15T23:38:57.895Z"
   },
   {
    "duration": 2,
    "start_time": "2022-04-15T23:38:58.550Z"
   },
   {
    "duration": 870,
    "start_time": "2022-04-15T23:38:58.554Z"
   },
   {
    "duration": 3,
    "start_time": "2022-04-15T23:38:59.426Z"
   },
   {
    "duration": 8,
    "start_time": "2022-04-15T23:38:59.430Z"
   },
   {
    "duration": 169,
    "start_time": "2022-04-15T23:38:59.440Z"
   },
   {
    "duration": 4,
    "start_time": "2022-04-15T23:38:59.611Z"
   },
   {
    "duration": 9,
    "start_time": "2022-04-15T23:38:59.617Z"
   },
   {
    "duration": 18,
    "start_time": "2022-04-15T23:38:59.628Z"
   },
   {
    "duration": 12,
    "start_time": "2022-04-15T23:38:59.648Z"
   },
   {
    "duration": 257,
    "start_time": "2022-04-15T23:38:59.662Z"
   },
   {
    "duration": 9,
    "start_time": "2022-04-15T23:38:59.921Z"
   },
   {
    "duration": 100,
    "start_time": "2022-04-15T23:38:59.932Z"
   },
   {
    "duration": 9,
    "start_time": "2022-04-15T23:39:35.966Z"
   },
   {
    "duration": 7,
    "start_time": "2022-04-15T23:39:45.081Z"
   },
   {
    "duration": 1085,
    "start_time": "2022-04-15T23:40:08.623Z"
   },
   {
    "duration": 672,
    "start_time": "2022-04-15T23:40:09.710Z"
   },
   {
    "duration": 3,
    "start_time": "2022-04-15T23:40:10.383Z"
   },
   {
    "duration": 921,
    "start_time": "2022-04-15T23:40:10.388Z"
   },
   {
    "duration": 3,
    "start_time": "2022-04-15T23:40:11.311Z"
   },
   {
    "duration": 12,
    "start_time": "2022-04-15T23:40:11.315Z"
   },
   {
    "duration": 179,
    "start_time": "2022-04-15T23:40:11.328Z"
   },
   {
    "duration": 4,
    "start_time": "2022-04-15T23:40:11.509Z"
   },
   {
    "duration": 7,
    "start_time": "2022-04-15T23:40:11.515Z"
   },
   {
    "duration": 19,
    "start_time": "2022-04-15T23:40:11.525Z"
   },
   {
    "duration": 11,
    "start_time": "2022-04-15T23:40:11.546Z"
   },
   {
    "duration": 13,
    "start_time": "2022-04-15T23:40:11.558Z"
   },
   {
    "duration": 244,
    "start_time": "2022-04-15T23:40:11.608Z"
   },
   {
    "duration": 10,
    "start_time": "2022-04-15T23:40:11.853Z"
   },
   {
    "duration": 109,
    "start_time": "2022-04-15T23:40:11.865Z"
   },
   {
    "duration": 1044,
    "start_time": "2022-04-15T23:40:58.951Z"
   },
   {
    "duration": 677,
    "start_time": "2022-04-15T23:40:59.997Z"
   },
   {
    "duration": 2,
    "start_time": "2022-04-15T23:41:00.676Z"
   },
   {
    "duration": 885,
    "start_time": "2022-04-15T23:41:00.680Z"
   },
   {
    "duration": 3,
    "start_time": "2022-04-15T23:41:01.566Z"
   },
   {
    "duration": 9,
    "start_time": "2022-04-15T23:41:01.570Z"
   },
   {
    "duration": 166,
    "start_time": "2022-04-15T23:41:01.581Z"
   },
   {
    "duration": 4,
    "start_time": "2022-04-15T23:41:01.749Z"
   },
   {
    "duration": 19,
    "start_time": "2022-04-15T23:41:01.755Z"
   },
   {
    "duration": 21,
    "start_time": "2022-04-15T23:41:01.776Z"
   },
   {
    "duration": 11,
    "start_time": "2022-04-15T23:41:01.807Z"
   },
   {
    "duration": 12,
    "start_time": "2022-04-15T23:41:01.819Z"
   },
   {
    "duration": 245,
    "start_time": "2022-04-15T23:41:01.833Z"
   },
   {
    "duration": 10,
    "start_time": "2022-04-15T23:41:02.080Z"
   },
   {
    "duration": 103,
    "start_time": "2022-04-15T23:41:02.091Z"
   },
   {
    "duration": 1081,
    "start_time": "2022-04-15T23:41:20.219Z"
   },
   {
    "duration": 668,
    "start_time": "2022-04-15T23:41:21.302Z"
   },
   {
    "duration": 3,
    "start_time": "2022-04-15T23:41:21.971Z"
   },
   {
    "duration": 867,
    "start_time": "2022-04-15T23:41:21.976Z"
   },
   {
    "duration": 3,
    "start_time": "2022-04-15T23:41:22.844Z"
   },
   {
    "duration": 9,
    "start_time": "2022-04-15T23:41:22.849Z"
   },
   {
    "duration": 174,
    "start_time": "2022-04-15T23:41:22.860Z"
   },
   {
    "duration": 4,
    "start_time": "2022-04-15T23:41:23.036Z"
   },
   {
    "duration": 9,
    "start_time": "2022-04-15T23:41:23.041Z"
   },
   {
    "duration": 19,
    "start_time": "2022-04-15T23:41:23.052Z"
   },
   {
    "duration": 10,
    "start_time": "2022-04-15T23:41:23.073Z"
   },
   {
    "duration": 13,
    "start_time": "2022-04-15T23:41:23.108Z"
   },
   {
    "duration": 261,
    "start_time": "2022-04-15T23:41:23.123Z"
   },
   {
    "duration": 22,
    "start_time": "2022-04-15T23:41:23.386Z"
   },
   {
    "duration": 9,
    "start_time": "2022-04-15T23:41:23.410Z"
   },
   {
    "duration": 100,
    "start_time": "2022-04-15T23:41:23.421Z"
   },
   {
    "duration": 10,
    "start_time": "2022-04-15T23:41:54.508Z"
   },
   {
    "duration": 9,
    "start_time": "2022-04-15T23:43:33.048Z"
   },
   {
    "duration": 1000,
    "start_time": "2022-04-15T23:43:43.280Z"
   },
   {
    "duration": 640,
    "start_time": "2022-04-15T23:43:44.282Z"
   },
   {
    "duration": 3,
    "start_time": "2022-04-15T23:43:44.923Z"
   },
   {
    "duration": 857,
    "start_time": "2022-04-15T23:43:44.928Z"
   },
   {
    "duration": 3,
    "start_time": "2022-04-15T23:43:45.787Z"
   },
   {
    "duration": 18,
    "start_time": "2022-04-15T23:43:45.792Z"
   },
   {
    "duration": 155,
    "start_time": "2022-04-15T23:43:45.811Z"
   },
   {
    "duration": 4,
    "start_time": "2022-04-15T23:43:45.968Z"
   },
   {
    "duration": 9,
    "start_time": "2022-04-15T23:43:45.973Z"
   },
   {
    "duration": 23,
    "start_time": "2022-04-15T23:43:45.984Z"
   },
   {
    "duration": 14,
    "start_time": "2022-04-15T23:43:46.009Z"
   },
   {
    "duration": 233,
    "start_time": "2022-04-15T23:43:46.024Z"
   },
   {
    "duration": 15,
    "start_time": "2022-04-15T23:43:46.258Z"
   },
   {
    "duration": 48,
    "start_time": "2022-04-15T23:43:46.275Z"
   },
   {
    "duration": 15,
    "start_time": "2022-04-15T23:44:22.682Z"
   },
   {
    "duration": 33,
    "start_time": "2022-04-15T23:45:03.569Z"
   },
   {
    "duration": 1091,
    "start_time": "2022-04-15T23:45:09.754Z"
   },
   {
    "duration": 673,
    "start_time": "2022-04-15T23:45:10.847Z"
   },
   {
    "duration": 3,
    "start_time": "2022-04-15T23:45:11.522Z"
   },
   {
    "duration": 911,
    "start_time": "2022-04-15T23:45:11.526Z"
   },
   {
    "duration": 3,
    "start_time": "2022-04-15T23:45:12.439Z"
   },
   {
    "duration": 13,
    "start_time": "2022-04-15T23:45:12.443Z"
   },
   {
    "duration": 194,
    "start_time": "2022-04-15T23:45:12.459Z"
   },
   {
    "duration": 5,
    "start_time": "2022-04-15T23:45:12.655Z"
   },
   {
    "duration": 15,
    "start_time": "2022-04-15T23:45:12.661Z"
   },
   {
    "duration": 10,
    "start_time": "2022-04-15T23:45:12.677Z"
   },
   {
    "duration": 27,
    "start_time": "2022-04-15T23:45:12.688Z"
   },
   {
    "duration": 251,
    "start_time": "2022-04-15T23:45:12.717Z"
   },
   {
    "duration": 15,
    "start_time": "2022-04-15T23:45:12.970Z"
   },
   {
    "duration": 49,
    "start_time": "2022-04-15T23:45:12.986Z"
   },
   {
    "duration": 1014,
    "start_time": "2022-04-15T23:45:30.652Z"
   },
   {
    "duration": 647,
    "start_time": "2022-04-15T23:45:31.668Z"
   },
   {
    "duration": 3,
    "start_time": "2022-04-15T23:45:32.316Z"
   },
   {
    "duration": 878,
    "start_time": "2022-04-15T23:45:32.321Z"
   },
   {
    "duration": 3,
    "start_time": "2022-04-15T23:45:33.200Z"
   },
   {
    "duration": 13,
    "start_time": "2022-04-15T23:45:33.204Z"
   },
   {
    "duration": 167,
    "start_time": "2022-04-15T23:45:33.219Z"
   },
   {
    "duration": 4,
    "start_time": "2022-04-15T23:45:33.388Z"
   },
   {
    "duration": 17,
    "start_time": "2022-04-15T23:45:33.394Z"
   },
   {
    "duration": 7,
    "start_time": "2022-04-15T23:45:33.413Z"
   },
   {
    "duration": 13,
    "start_time": "2022-04-15T23:45:33.422Z"
   },
   {
    "duration": 248,
    "start_time": "2022-04-15T23:45:33.436Z"
   },
   {
    "duration": 23,
    "start_time": "2022-04-15T23:45:33.686Z"
   },
   {
    "duration": 31,
    "start_time": "2022-04-15T23:45:33.711Z"
   },
   {
    "duration": 9,
    "start_time": "2022-04-15T23:46:43.239Z"
   },
   {
    "duration": 32,
    "start_time": "2022-04-15T23:46:45.022Z"
   },
   {
    "duration": 986,
    "start_time": "2022-04-15T23:46:58.704Z"
   },
   {
    "duration": 664,
    "start_time": "2022-04-15T23:46:59.692Z"
   },
   {
    "duration": 2,
    "start_time": "2022-04-15T23:47:00.358Z"
   },
   {
    "duration": 874,
    "start_time": "2022-04-15T23:47:00.362Z"
   },
   {
    "duration": 3,
    "start_time": "2022-04-15T23:47:01.238Z"
   },
   {
    "duration": 13,
    "start_time": "2022-04-15T23:47:01.242Z"
   },
   {
    "duration": 162,
    "start_time": "2022-04-15T23:47:01.256Z"
   },
   {
    "duration": 4,
    "start_time": "2022-04-15T23:47:01.420Z"
   },
   {
    "duration": 10,
    "start_time": "2022-04-15T23:47:01.425Z"
   },
   {
    "duration": 8,
    "start_time": "2022-04-15T23:47:01.437Z"
   },
   {
    "duration": 19,
    "start_time": "2022-04-15T23:47:01.446Z"
   },
   {
    "duration": 241,
    "start_time": "2022-04-15T23:47:01.466Z"
   },
   {
    "duration": 9,
    "start_time": "2022-04-15T23:47:01.709Z"
   },
   {
    "duration": 33,
    "start_time": "2022-04-15T23:47:01.720Z"
   },
   {
    "duration": 88,
    "start_time": "2022-04-15T23:47:46.164Z"
   },
   {
    "duration": 989,
    "start_time": "2022-04-15T23:47:54.987Z"
   },
   {
    "duration": 658,
    "start_time": "2022-04-15T23:47:55.978Z"
   },
   {
    "duration": 3,
    "start_time": "2022-04-15T23:47:56.638Z"
   },
   {
    "duration": 869,
    "start_time": "2022-04-15T23:47:56.643Z"
   },
   {
    "duration": 3,
    "start_time": "2022-04-15T23:47:57.513Z"
   },
   {
    "duration": 9,
    "start_time": "2022-04-15T23:47:57.518Z"
   },
   {
    "duration": 172,
    "start_time": "2022-04-15T23:47:57.529Z"
   },
   {
    "duration": 6,
    "start_time": "2022-04-15T23:47:57.703Z"
   },
   {
    "duration": 9,
    "start_time": "2022-04-15T23:47:57.711Z"
   },
   {
    "duration": 7,
    "start_time": "2022-04-15T23:47:57.722Z"
   },
   {
    "duration": 14,
    "start_time": "2022-04-15T23:47:57.731Z"
   },
   {
    "duration": 239,
    "start_time": "2022-04-15T23:47:57.747Z"
   },
   {
    "duration": 19,
    "start_time": "2022-04-15T23:47:57.988Z"
   },
   {
    "duration": 89,
    "start_time": "2022-04-15T23:47:58.009Z"
   },
   {
    "duration": 9,
    "start_time": "2022-04-15T23:48:05.096Z"
   },
   {
    "duration": 9,
    "start_time": "2022-04-15T23:48:10.424Z"
   },
   {
    "duration": 1106,
    "start_time": "2022-04-15T23:48:16.484Z"
   },
   {
    "duration": 680,
    "start_time": "2022-04-15T23:48:17.592Z"
   },
   {
    "duration": 3,
    "start_time": "2022-04-15T23:48:18.273Z"
   },
   {
    "duration": 893,
    "start_time": "2022-04-15T23:48:18.278Z"
   },
   {
    "duration": 3,
    "start_time": "2022-04-15T23:48:19.172Z"
   },
   {
    "duration": 9,
    "start_time": "2022-04-15T23:48:19.177Z"
   },
   {
    "duration": 173,
    "start_time": "2022-04-15T23:48:19.188Z"
   },
   {
    "duration": 4,
    "start_time": "2022-04-15T23:48:19.363Z"
   },
   {
    "duration": 7,
    "start_time": "2022-04-15T23:48:19.369Z"
   },
   {
    "duration": 7,
    "start_time": "2022-04-15T23:48:19.378Z"
   },
   {
    "duration": 31,
    "start_time": "2022-04-15T23:48:19.387Z"
   },
   {
    "duration": 240,
    "start_time": "2022-04-15T23:48:19.420Z"
   },
   {
    "duration": 11,
    "start_time": "2022-04-15T23:48:19.662Z"
   },
   {
    "duration": 13,
    "start_time": "2022-04-15T23:48:19.674Z"
   },
   {
    "duration": 984,
    "start_time": "2022-04-15T23:48:46.055Z"
   },
   {
    "duration": 657,
    "start_time": "2022-04-15T23:48:47.041Z"
   },
   {
    "duration": 3,
    "start_time": "2022-04-15T23:48:47.699Z"
   },
   {
    "duration": 856,
    "start_time": "2022-04-15T23:48:47.704Z"
   },
   {
    "duration": 3,
    "start_time": "2022-04-15T23:48:48.562Z"
   },
   {
    "duration": 10,
    "start_time": "2022-04-15T23:48:48.566Z"
   },
   {
    "duration": 169,
    "start_time": "2022-04-15T23:48:48.577Z"
   },
   {
    "duration": 4,
    "start_time": "2022-04-15T23:48:48.747Z"
   },
   {
    "duration": 8,
    "start_time": "2022-04-15T23:48:48.753Z"
   },
   {
    "duration": 6,
    "start_time": "2022-04-15T23:48:48.764Z"
   },
   {
    "duration": 39,
    "start_time": "2022-04-15T23:48:48.772Z"
   },
   {
    "duration": 236,
    "start_time": "2022-04-15T23:48:48.813Z"
   },
   {
    "duration": 15,
    "start_time": "2022-04-15T23:48:49.051Z"
   },
   {
    "duration": 5,
    "start_time": "2022-04-15T23:55:56.508Z"
   },
   {
    "duration": 3,
    "start_time": "2022-04-15T23:59:11.511Z"
   },
   {
    "duration": 6,
    "start_time": "2022-04-16T00:01:22.907Z"
   },
   {
    "duration": 7,
    "start_time": "2022-04-16T00:03:13.122Z"
   },
   {
    "duration": 7,
    "start_time": "2022-04-16T00:04:13.589Z"
   },
   {
    "duration": 455,
    "start_time": "2022-04-16T00:17:57.955Z"
   },
   {
    "duration": 515,
    "start_time": "2022-04-16T00:27:04.176Z"
   },
   {
    "duration": 10,
    "start_time": "2022-04-16T00:27:46.863Z"
   },
   {
    "duration": 3,
    "start_time": "2022-04-16T00:27:55.285Z"
   },
   {
    "duration": 349,
    "start_time": "2022-04-16T00:28:03.222Z"
   },
   {
    "duration": 401,
    "start_time": "2022-04-16T00:28:26.973Z"
   },
   {
    "duration": 400,
    "start_time": "2022-04-16T00:28:52.052Z"
   },
   {
    "duration": 299,
    "start_time": "2022-04-16T00:29:02.244Z"
   },
   {
    "duration": 369,
    "start_time": "2022-04-16T00:29:15.715Z"
   },
   {
    "duration": 165,
    "start_time": "2022-04-16T00:31:10.723Z"
   },
   {
    "duration": 156,
    "start_time": "2022-04-16T00:33:11.024Z"
   },
   {
    "duration": 125,
    "start_time": "2022-04-16T00:33:23.916Z"
   },
   {
    "duration": 165,
    "start_time": "2022-04-16T00:33:29.718Z"
   },
   {
    "duration": 167,
    "start_time": "2022-04-16T00:33:46.521Z"
   },
   {
    "duration": 360,
    "start_time": "2022-04-16T00:40:20.321Z"
   },
   {
    "duration": 331,
    "start_time": "2022-04-16T00:41:02.145Z"
   },
   {
    "duration": 344,
    "start_time": "2022-04-16T00:41:10.791Z"
   },
   {
    "duration": 9,
    "start_time": "2022-04-16T00:41:36.173Z"
   },
   {
    "duration": 387,
    "start_time": "2022-04-16T00:42:17.494Z"
   },
   {
    "duration": 378,
    "start_time": "2022-04-16T00:42:49.987Z"
   },
   {
    "duration": 455,
    "start_time": "2022-04-16T00:43:03.318Z"
   },
   {
    "duration": 3,
    "start_time": "2022-04-16T00:44:35.372Z"
   },
   {
    "duration": 362,
    "start_time": "2022-04-16T00:44:41.255Z"
   },
   {
    "duration": 9,
    "start_time": "2022-04-16T00:44:57.664Z"
   },
   {
    "duration": 395,
    "start_time": "2022-04-16T00:45:01.874Z"
   },
   {
    "duration": 377,
    "start_time": "2022-04-16T00:45:10.396Z"
   },
   {
    "duration": 397,
    "start_time": "2022-04-16T00:48:05.524Z"
   },
   {
    "duration": 4,
    "start_time": "2022-04-16T00:50:54.932Z"
   },
   {
    "duration": 1396,
    "start_time": "2022-04-16T00:53:10.906Z"
   },
   {
    "duration": 695,
    "start_time": "2022-04-16T00:53:12.304Z"
   },
   {
    "duration": 7,
    "start_time": "2022-04-16T00:53:13.000Z"
   },
   {
    "duration": 944,
    "start_time": "2022-04-16T00:53:13.009Z"
   },
   {
    "duration": 3,
    "start_time": "2022-04-16T00:53:13.955Z"
   },
   {
    "duration": 9,
    "start_time": "2022-04-16T00:53:13.960Z"
   },
   {
    "duration": 181,
    "start_time": "2022-04-16T00:53:13.971Z"
   },
   {
    "duration": 5,
    "start_time": "2022-04-16T00:53:14.154Z"
   },
   {
    "duration": 9,
    "start_time": "2022-04-16T00:53:14.160Z"
   },
   {
    "duration": 6,
    "start_time": "2022-04-16T00:53:14.172Z"
   },
   {
    "duration": 35,
    "start_time": "2022-04-16T00:53:14.180Z"
   },
   {
    "duration": 251,
    "start_time": "2022-04-16T00:53:14.217Z"
   },
   {
    "duration": 15,
    "start_time": "2022-04-16T00:53:14.470Z"
   },
   {
    "duration": 20,
    "start_time": "2022-04-16T00:53:14.487Z"
   },
   {
    "duration": 5,
    "start_time": "2022-04-16T00:53:14.509Z"
   },
   {
    "duration": 9,
    "start_time": "2022-04-16T00:53:14.515Z"
   },
   {
    "duration": 491,
    "start_time": "2022-04-16T00:53:14.525Z"
   },
   {
    "duration": 5,
    "start_time": "2022-04-16T00:53:15.017Z"
   },
   {
    "duration": 6,
    "start_time": "2022-04-16T01:04:07.717Z"
   },
   {
    "duration": 5,
    "start_time": "2022-04-16T01:04:20.473Z"
   },
   {
    "duration": 7,
    "start_time": "2022-04-16T01:06:26.747Z"
   },
   {
    "duration": 8,
    "start_time": "2022-04-16T01:07:39.802Z"
   },
   {
    "duration": 63,
    "start_time": "2022-04-16T01:10:20.629Z"
   },
   {
    "duration": 891,
    "start_time": "2022-04-16T01:13:35.899Z"
   },
   {
    "duration": 964,
    "start_time": "2022-04-16T01:14:24.367Z"
   },
   {
    "duration": 1091,
    "start_time": "2022-04-16T01:15:00.498Z"
   },
   {
    "duration": 972,
    "start_time": "2022-04-16T01:15:40.020Z"
   },
   {
    "duration": 871,
    "start_time": "2022-04-16T01:15:50.119Z"
   },
   {
    "duration": 890,
    "start_time": "2022-04-16T01:15:56.908Z"
   },
   {
    "duration": 925,
    "start_time": "2022-04-16T01:16:29.977Z"
   },
   {
    "duration": 947,
    "start_time": "2022-04-16T01:16:40.741Z"
   },
   {
    "duration": 1008,
    "start_time": "2022-04-16T01:17:34.174Z"
   },
   {
    "duration": 1091,
    "start_time": "2022-04-16T01:19:26.289Z"
   },
   {
    "duration": 131,
    "start_time": "2022-04-16T01:19:36.460Z"
   },
   {
    "duration": 971,
    "start_time": "2022-04-16T01:20:19.124Z"
   },
   {
    "duration": 135,
    "start_time": "2022-04-16T01:20:20.098Z"
   },
   {
    "duration": 136,
    "start_time": "2022-04-16T01:21:08.673Z"
   },
   {
    "duration": 133,
    "start_time": "2022-04-16T01:21:16.500Z"
   },
   {
    "duration": 3,
    "start_time": "2022-04-16T01:54:44.613Z"
   },
   {
    "duration": 9,
    "start_time": "2022-04-16T02:05:03.226Z"
   },
   {
    "duration": 3,
    "start_time": "2022-04-16T02:05:37.896Z"
   },
   {
    "duration": 3,
    "start_time": "2022-04-16T02:06:46.625Z"
   },
   {
    "duration": 16,
    "start_time": "2022-04-16T02:08:06.773Z"
   },
   {
    "duration": 5,
    "start_time": "2022-04-16T02:10:11.407Z"
   },
   {
    "duration": 3,
    "start_time": "2022-04-16T02:13:36.075Z"
   },
   {
    "duration": 4,
    "start_time": "2022-04-16T02:13:47.941Z"
   },
   {
    "duration": 4,
    "start_time": "2022-04-16T02:14:19.935Z"
   },
   {
    "duration": 1358,
    "start_time": "2022-04-16T02:14:24.629Z"
   },
   {
    "duration": 676,
    "start_time": "2022-04-16T02:14:25.989Z"
   },
   {
    "duration": 3,
    "start_time": "2022-04-16T02:14:26.667Z"
   },
   {
    "duration": 912,
    "start_time": "2022-04-16T02:14:26.672Z"
   },
   {
    "duration": 3,
    "start_time": "2022-04-16T02:14:27.586Z"
   },
   {
    "duration": 21,
    "start_time": "2022-04-16T02:14:27.590Z"
   },
   {
    "duration": 171,
    "start_time": "2022-04-16T02:14:27.612Z"
   },
   {
    "duration": 5,
    "start_time": "2022-04-16T02:14:27.785Z"
   },
   {
    "duration": 3,
    "start_time": "2022-04-16T02:14:27.791Z"
   },
   {
    "duration": 4,
    "start_time": "2022-04-16T02:14:27.807Z"
   },
   {
    "duration": 112,
    "start_time": "2022-04-16T02:14:27.812Z"
   },
   {
    "duration": 0,
    "start_time": "2022-04-16T02:14:27.926Z"
   },
   {
    "duration": 0,
    "start_time": "2022-04-16T02:14:27.927Z"
   },
   {
    "duration": 0,
    "start_time": "2022-04-16T02:14:27.928Z"
   },
   {
    "duration": 0,
    "start_time": "2022-04-16T02:14:27.929Z"
   },
   {
    "duration": 0,
    "start_time": "2022-04-16T02:14:27.930Z"
   },
   {
    "duration": 0,
    "start_time": "2022-04-16T02:14:27.931Z"
   },
   {
    "duration": 0,
    "start_time": "2022-04-16T02:14:27.932Z"
   },
   {
    "duration": 0,
    "start_time": "2022-04-16T02:14:27.934Z"
   },
   {
    "duration": 0,
    "start_time": "2022-04-16T02:14:27.935Z"
   },
   {
    "duration": 0,
    "start_time": "2022-04-16T02:14:27.935Z"
   },
   {
    "duration": 0,
    "start_time": "2022-04-16T02:14:27.936Z"
   },
   {
    "duration": 0,
    "start_time": "2022-04-16T02:14:27.937Z"
   },
   {
    "duration": 0,
    "start_time": "2022-04-16T02:14:27.938Z"
   },
   {
    "duration": 0,
    "start_time": "2022-04-16T02:14:27.939Z"
   },
   {
    "duration": 4,
    "start_time": "2022-04-16T02:18:05.048Z"
   },
   {
    "duration": 7,
    "start_time": "2022-04-16T02:18:27.949Z"
   },
   {
    "duration": 1267,
    "start_time": "2022-04-16T02:18:34.491Z"
   },
   {
    "duration": 638,
    "start_time": "2022-04-16T02:18:35.760Z"
   },
   {
    "duration": 3,
    "start_time": "2022-04-16T02:18:36.399Z"
   },
   {
    "duration": 850,
    "start_time": "2022-04-16T02:18:36.407Z"
   },
   {
    "duration": 3,
    "start_time": "2022-04-16T02:18:37.258Z"
   },
   {
    "duration": 11,
    "start_time": "2022-04-16T02:18:37.263Z"
   },
   {
    "duration": 174,
    "start_time": "2022-04-16T02:18:37.275Z"
   },
   {
    "duration": 4,
    "start_time": "2022-04-16T02:18:37.451Z"
   },
   {
    "duration": 5,
    "start_time": "2022-04-16T02:18:37.457Z"
   },
   {
    "duration": 8,
    "start_time": "2022-04-16T02:18:37.464Z"
   },
   {
    "duration": 4,
    "start_time": "2022-04-16T02:18:37.473Z"
   },
   {
    "duration": 29,
    "start_time": "2022-04-16T02:18:37.478Z"
   },
   {
    "duration": 12,
    "start_time": "2022-04-16T02:18:37.509Z"
   },
   {
    "duration": 226,
    "start_time": "2022-04-16T02:18:37.523Z"
   },
   {
    "duration": 13,
    "start_time": "2022-04-16T02:18:37.751Z"
   },
   {
    "duration": 6,
    "start_time": "2022-04-16T02:18:37.766Z"
   },
   {
    "duration": 6,
    "start_time": "2022-04-16T02:18:37.773Z"
   },
   {
    "duration": 30,
    "start_time": "2022-04-16T02:18:37.780Z"
   },
   {
    "duration": 485,
    "start_time": "2022-04-16T02:18:37.812Z"
   },
   {
    "duration": 9,
    "start_time": "2022-04-16T02:18:38.299Z"
   },
   {
    "duration": 9,
    "start_time": "2022-04-16T02:18:38.309Z"
   },
   {
    "duration": 967,
    "start_time": "2022-04-16T02:18:38.319Z"
   },
   {
    "duration": 145,
    "start_time": "2022-04-16T02:18:39.288Z"
   },
   {
    "duration": 3,
    "start_time": "2022-04-16T02:18:39.434Z"
   },
   {
    "duration": 5,
    "start_time": "2022-04-16T02:18:39.439Z"
   },
   {
    "duration": 5,
    "start_time": "2022-04-16T02:19:54.140Z"
   },
   {
    "duration": 107,
    "start_time": "2022-04-16T02:21:06.200Z"
   },
   {
    "duration": 6,
    "start_time": "2022-04-16T02:21:22.633Z"
   },
   {
    "duration": 6,
    "start_time": "2022-04-16T02:21:34.792Z"
   },
   {
    "duration": 8,
    "start_time": "2022-04-16T02:21:57.453Z"
   },
   {
    "duration": 4,
    "start_time": "2022-04-16T02:22:05.106Z"
   },
   {
    "duration": 6,
    "start_time": "2022-04-16T02:22:41.579Z"
   },
   {
    "duration": 13,
    "start_time": "2022-04-16T02:26:34.239Z"
   },
   {
    "duration": 10,
    "start_time": "2022-04-16T02:28:11.235Z"
   },
   {
    "duration": 1357,
    "start_time": "2022-04-16T02:28:29.551Z"
   },
   {
    "duration": 658,
    "start_time": "2022-04-16T02:28:30.910Z"
   },
   {
    "duration": 3,
    "start_time": "2022-04-16T02:28:31.569Z"
   },
   {
    "duration": 855,
    "start_time": "2022-04-16T02:28:31.573Z"
   },
   {
    "duration": 3,
    "start_time": "2022-04-16T02:28:32.430Z"
   },
   {
    "duration": 11,
    "start_time": "2022-04-16T02:28:32.434Z"
   },
   {
    "duration": 171,
    "start_time": "2022-04-16T02:28:32.447Z"
   },
   {
    "duration": 4,
    "start_time": "2022-04-16T02:28:32.620Z"
   },
   {
    "duration": 5,
    "start_time": "2022-04-16T02:28:32.626Z"
   },
   {
    "duration": 4,
    "start_time": "2022-04-16T02:28:32.634Z"
   },
   {
    "duration": 4,
    "start_time": "2022-04-16T02:28:32.640Z"
   },
   {
    "duration": 14,
    "start_time": "2022-04-16T02:28:32.645Z"
   },
   {
    "duration": 14,
    "start_time": "2022-04-16T02:28:32.661Z"
   },
   {
    "duration": 246,
    "start_time": "2022-04-16T02:28:32.676Z"
   },
   {
    "duration": 15,
    "start_time": "2022-04-16T02:28:32.923Z"
   },
   {
    "duration": 5,
    "start_time": "2022-04-16T02:28:32.940Z"
   },
   {
    "duration": 7,
    "start_time": "2022-04-16T02:28:32.946Z"
   },
   {
    "duration": 9,
    "start_time": "2022-04-16T02:28:32.954Z"
   },
   {
    "duration": 430,
    "start_time": "2022-04-16T02:28:32.965Z"
   },
   {
    "duration": 4,
    "start_time": "2022-04-16T02:28:33.397Z"
   },
   {
    "duration": 7,
    "start_time": "2022-04-16T02:28:33.407Z"
   },
   {
    "duration": 960,
    "start_time": "2022-04-16T02:28:33.416Z"
   },
   {
    "duration": 143,
    "start_time": "2022-04-16T02:28:34.377Z"
   },
   {
    "duration": 3,
    "start_time": "2022-04-16T02:28:34.521Z"
   },
   {
    "duration": 7,
    "start_time": "2022-04-16T02:28:34.526Z"
   },
   {
    "duration": 114,
    "start_time": "2022-04-16T02:28:34.535Z"
   },
   {
    "duration": 0,
    "start_time": "2022-04-16T02:28:34.650Z"
   },
   {
    "duration": 9,
    "start_time": "2022-04-16T02:28:45.960Z"
   },
   {
    "duration": 21,
    "start_time": "2022-04-16T02:28:56.047Z"
   },
   {
    "duration": 15,
    "start_time": "2022-04-16T02:29:12.153Z"
   },
   {
    "duration": 24,
    "start_time": "2022-04-16T02:30:03.384Z"
   },
   {
    "duration": 1367,
    "start_time": "2022-04-16T02:30:23.512Z"
   },
   {
    "duration": 682,
    "start_time": "2022-04-16T02:30:24.881Z"
   },
   {
    "duration": 3,
    "start_time": "2022-04-16T02:30:25.567Z"
   },
   {
    "duration": 919,
    "start_time": "2022-04-16T02:30:25.572Z"
   },
   {
    "duration": 3,
    "start_time": "2022-04-16T02:30:26.492Z"
   },
   {
    "duration": 14,
    "start_time": "2022-04-16T02:30:26.497Z"
   },
   {
    "duration": 176,
    "start_time": "2022-04-16T02:30:26.513Z"
   },
   {
    "duration": 4,
    "start_time": "2022-04-16T02:30:26.691Z"
   },
   {
    "duration": 3,
    "start_time": "2022-04-16T02:30:26.708Z"
   },
   {
    "duration": 5,
    "start_time": "2022-04-16T02:30:26.713Z"
   },
   {
    "duration": 4,
    "start_time": "2022-04-16T02:30:26.720Z"
   },
   {
    "duration": 9,
    "start_time": "2022-04-16T02:30:26.726Z"
   },
   {
    "duration": 14,
    "start_time": "2022-04-16T02:30:26.737Z"
   },
   {
    "duration": 255,
    "start_time": "2022-04-16T02:30:26.752Z"
   },
   {
    "duration": 16,
    "start_time": "2022-04-16T02:30:27.008Z"
   },
   {
    "duration": 5,
    "start_time": "2022-04-16T02:30:27.026Z"
   },
   {
    "duration": 7,
    "start_time": "2022-04-16T02:30:27.033Z"
   },
   {
    "duration": 5,
    "start_time": "2022-04-16T02:30:27.042Z"
   },
   {
    "duration": 467,
    "start_time": "2022-04-16T02:30:27.048Z"
   },
   {
    "duration": 5,
    "start_time": "2022-04-16T02:30:27.516Z"
   },
   {
    "duration": 11,
    "start_time": "2022-04-16T02:30:27.522Z"
   },
   {
    "duration": 961,
    "start_time": "2022-04-16T02:30:27.535Z"
   },
   {
    "duration": 156,
    "start_time": "2022-04-16T02:30:28.497Z"
   },
   {
    "duration": 4,
    "start_time": "2022-04-16T02:30:28.654Z"
   },
   {
    "duration": 10,
    "start_time": "2022-04-16T02:30:28.659Z"
   },
   {
    "duration": 16,
    "start_time": "2022-04-16T02:30:28.670Z"
   },
   {
    "duration": 20,
    "start_time": "2022-04-16T02:30:28.689Z"
   },
   {
    "duration": 117,
    "start_time": "2022-04-16T02:30:50.743Z"
   },
   {
    "duration": 1337,
    "start_time": "2022-04-16T02:31:06.622Z"
   },
   {
    "duration": 638,
    "start_time": "2022-04-16T02:31:07.960Z"
   },
   {
    "duration": 3,
    "start_time": "2022-04-16T02:31:08.599Z"
   },
   {
    "duration": 866,
    "start_time": "2022-04-16T02:31:08.606Z"
   },
   {
    "duration": 3,
    "start_time": "2022-04-16T02:31:09.474Z"
   },
   {
    "duration": 17,
    "start_time": "2022-04-16T02:31:09.478Z"
   },
   {
    "duration": 176,
    "start_time": "2022-04-16T02:31:09.496Z"
   },
   {
    "duration": 5,
    "start_time": "2022-04-16T02:31:09.674Z"
   },
   {
    "duration": 3,
    "start_time": "2022-04-16T02:31:09.682Z"
   },
   {
    "duration": 5,
    "start_time": "2022-04-16T02:31:09.707Z"
   },
   {
    "duration": 5,
    "start_time": "2022-04-16T02:31:09.713Z"
   },
   {
    "duration": 10,
    "start_time": "2022-04-16T02:31:09.720Z"
   },
   {
    "duration": 14,
    "start_time": "2022-04-16T02:31:09.732Z"
   },
   {
    "duration": 253,
    "start_time": "2022-04-16T02:31:09.748Z"
   },
   {
    "duration": 15,
    "start_time": "2022-04-16T02:31:10.003Z"
   },
   {
    "duration": 5,
    "start_time": "2022-04-16T02:31:10.019Z"
   },
   {
    "duration": 8,
    "start_time": "2022-04-16T02:31:10.026Z"
   },
   {
    "duration": 6,
    "start_time": "2022-04-16T02:31:10.035Z"
   },
   {
    "duration": 456,
    "start_time": "2022-04-16T02:31:10.042Z"
   },
   {
    "duration": 9,
    "start_time": "2022-04-16T02:31:10.500Z"
   },
   {
    "duration": 11,
    "start_time": "2022-04-16T02:31:10.511Z"
   },
   {
    "duration": 868,
    "start_time": "2022-04-16T02:31:10.523Z"
   },
   {
    "duration": 151,
    "start_time": "2022-04-16T02:31:11.393Z"
   },
   {
    "duration": 3,
    "start_time": "2022-04-16T02:31:11.546Z"
   },
   {
    "duration": 8,
    "start_time": "2022-04-16T02:31:11.551Z"
   },
   {
    "duration": 16,
    "start_time": "2022-04-16T02:31:11.561Z"
   },
   {
    "duration": 3,
    "start_time": "2022-04-16T02:31:11.579Z"
   },
   {
    "duration": 113,
    "start_time": "2022-04-16T02:40:59.510Z"
   },
   {
    "duration": 120,
    "start_time": "2022-04-16T02:42:33.115Z"
   },
   {
    "duration": 1384,
    "start_time": "2022-04-16T02:42:40.594Z"
   },
   {
    "duration": 672,
    "start_time": "2022-04-16T02:42:41.980Z"
   },
   {
    "duration": 3,
    "start_time": "2022-04-16T02:42:42.654Z"
   },
   {
    "duration": 924,
    "start_time": "2022-04-16T02:42:42.659Z"
   },
   {
    "duration": 3,
    "start_time": "2022-04-16T02:42:43.584Z"
   },
   {
    "duration": 20,
    "start_time": "2022-04-16T02:42:43.589Z"
   },
   {
    "duration": 161,
    "start_time": "2022-04-16T02:42:43.611Z"
   },
   {
    "duration": 5,
    "start_time": "2022-04-16T02:42:43.773Z"
   },
   {
    "duration": 4,
    "start_time": "2022-04-16T02:42:43.780Z"
   },
   {
    "duration": 5,
    "start_time": "2022-04-16T02:42:43.786Z"
   },
   {
    "duration": 5,
    "start_time": "2022-04-16T02:42:43.808Z"
   },
   {
    "duration": 11,
    "start_time": "2022-04-16T02:42:43.814Z"
   },
   {
    "duration": 15,
    "start_time": "2022-04-16T02:42:43.826Z"
   },
   {
    "duration": 251,
    "start_time": "2022-04-16T02:42:43.843Z"
   },
   {
    "duration": 23,
    "start_time": "2022-04-16T02:42:44.096Z"
   },
   {
    "duration": 5,
    "start_time": "2022-04-16T02:42:44.121Z"
   },
   {
    "duration": 8,
    "start_time": "2022-04-16T02:42:44.127Z"
   },
   {
    "duration": 5,
    "start_time": "2022-04-16T02:42:44.137Z"
   },
   {
    "duration": 465,
    "start_time": "2022-04-16T02:42:44.143Z"
   },
   {
    "duration": 5,
    "start_time": "2022-04-16T02:42:44.610Z"
   },
   {
    "duration": 11,
    "start_time": "2022-04-16T02:42:44.617Z"
   },
   {
    "duration": 870,
    "start_time": "2022-04-16T02:42:44.629Z"
   },
   {
    "duration": 155,
    "start_time": "2022-04-16T02:42:45.500Z"
   },
   {
    "duration": 3,
    "start_time": "2022-04-16T02:42:45.657Z"
   },
   {
    "duration": 7,
    "start_time": "2022-04-16T02:42:45.662Z"
   },
   {
    "duration": 17,
    "start_time": "2022-04-16T02:42:45.671Z"
   },
   {
    "duration": 18,
    "start_time": "2022-04-16T02:42:45.689Z"
   },
   {
    "duration": 3,
    "start_time": "2022-04-16T02:47:15.257Z"
   },
   {
    "duration": 3927,
    "start_time": "2022-04-16T02:52:40.082Z"
   },
   {
    "duration": 3781,
    "start_time": "2022-04-16T02:53:37.003Z"
   },
   {
    "duration": 1452,
    "start_time": "2022-04-16T02:54:12.710Z"
   },
   {
    "duration": 710,
    "start_time": "2022-04-16T02:54:14.165Z"
   },
   {
    "duration": 3,
    "start_time": "2022-04-16T02:54:14.877Z"
   },
   {
    "duration": 914,
    "start_time": "2022-04-16T02:54:14.881Z"
   },
   {
    "duration": 10,
    "start_time": "2022-04-16T02:54:15.798Z"
   },
   {
    "duration": 9,
    "start_time": "2022-04-16T02:54:15.810Z"
   },
   {
    "duration": 184,
    "start_time": "2022-04-16T02:54:15.821Z"
   },
   {
    "duration": 6,
    "start_time": "2022-04-16T02:54:16.006Z"
   },
   {
    "duration": 4,
    "start_time": "2022-04-16T02:54:16.013Z"
   },
   {
    "duration": 8,
    "start_time": "2022-04-16T02:54:16.018Z"
   },
   {
    "duration": 7,
    "start_time": "2022-04-16T02:54:16.027Z"
   },
   {
    "duration": 9,
    "start_time": "2022-04-16T02:54:16.036Z"
   },
   {
    "duration": 20,
    "start_time": "2022-04-16T02:54:16.046Z"
   },
   {
    "duration": 261,
    "start_time": "2022-04-16T02:54:16.069Z"
   },
   {
    "duration": 15,
    "start_time": "2022-04-16T02:54:16.331Z"
   },
   {
    "duration": 5,
    "start_time": "2022-04-16T02:54:16.347Z"
   },
   {
    "duration": 6,
    "start_time": "2022-04-16T02:54:16.353Z"
   },
   {
    "duration": 5,
    "start_time": "2022-04-16T02:54:16.360Z"
   },
   {
    "duration": 446,
    "start_time": "2022-04-16T02:54:16.367Z"
   },
   {
    "duration": 5,
    "start_time": "2022-04-16T02:54:16.815Z"
   },
   {
    "duration": 8,
    "start_time": "2022-04-16T02:54:16.822Z"
   },
   {
    "duration": 1065,
    "start_time": "2022-04-16T02:54:16.832Z"
   },
   {
    "duration": 151,
    "start_time": "2022-04-16T02:54:17.899Z"
   },
   {
    "duration": 4,
    "start_time": "2022-04-16T02:54:18.051Z"
   },
   {
    "duration": 8,
    "start_time": "2022-04-16T02:54:18.056Z"
   },
   {
    "duration": 15,
    "start_time": "2022-04-16T02:54:18.066Z"
   },
   {
    "duration": 2,
    "start_time": "2022-04-16T02:54:18.083Z"
   },
   {
    "duration": 4080,
    "start_time": "2022-04-16T02:54:18.108Z"
   },
   {
    "duration": 527937,
    "start_time": "2022-04-16T02:55:04.076Z"
   },
   {
    "duration": 197507,
    "start_time": "2022-04-16T03:04:03.837Z"
   },
   {
    "duration": 169,
    "start_time": "2022-04-16T03:09:54.343Z"
   },
   {
    "duration": 172,
    "start_time": "2022-04-16T03:11:25.941Z"
   },
   {
    "duration": 215,
    "start_time": "2022-04-16T03:12:35.300Z"
   },
   {
    "duration": 1362,
    "start_time": "2022-04-16T03:12:42.803Z"
   },
   {
    "duration": 667,
    "start_time": "2022-04-16T03:12:44.167Z"
   },
   {
    "duration": 3,
    "start_time": "2022-04-16T03:12:44.836Z"
   },
   {
    "duration": 908,
    "start_time": "2022-04-16T03:12:44.841Z"
   },
   {
    "duration": 3,
    "start_time": "2022-04-16T03:12:45.751Z"
   },
   {
    "duration": 9,
    "start_time": "2022-04-16T03:12:45.756Z"
   },
   {
    "duration": 176,
    "start_time": "2022-04-16T03:12:45.767Z"
   },
   {
    "duration": 5,
    "start_time": "2022-04-16T03:12:45.944Z"
   },
   {
    "duration": 4,
    "start_time": "2022-04-16T03:12:45.951Z"
   },
   {
    "duration": 6,
    "start_time": "2022-04-16T03:12:45.957Z"
   },
   {
    "duration": 7,
    "start_time": "2022-04-16T03:12:45.965Z"
   },
   {
    "duration": 9,
    "start_time": "2022-04-16T03:12:45.973Z"
   },
   {
    "duration": 31,
    "start_time": "2022-04-16T03:12:45.983Z"
   },
   {
    "duration": 229,
    "start_time": "2022-04-16T03:12:46.015Z"
   },
   {
    "duration": 14,
    "start_time": "2022-04-16T03:12:46.246Z"
   },
   {
    "duration": 6,
    "start_time": "2022-04-16T03:12:46.262Z"
   },
   {
    "duration": 6,
    "start_time": "2022-04-16T03:12:46.269Z"
   },
   {
    "duration": 32,
    "start_time": "2022-04-16T03:12:46.276Z"
   },
   {
    "duration": 388,
    "start_time": "2022-04-16T03:12:46.310Z"
   },
   {
    "duration": 7,
    "start_time": "2022-04-16T03:12:46.700Z"
   },
   {
    "duration": 8,
    "start_time": "2022-04-16T03:12:46.709Z"
   },
   {
    "duration": 861,
    "start_time": "2022-04-16T03:12:46.719Z"
   },
   {
    "duration": 149,
    "start_time": "2022-04-16T03:12:47.582Z"
   },
   {
    "duration": 2,
    "start_time": "2022-04-16T03:12:47.733Z"
   },
   {
    "duration": 8,
    "start_time": "2022-04-16T03:12:47.737Z"
   },
   {
    "duration": 14,
    "start_time": "2022-04-16T03:12:47.747Z"
   },
   {
    "duration": 3,
    "start_time": "2022-04-16T03:12:47.762Z"
   },
   {
    "duration": 245,
    "start_time": "2022-04-16T03:12:47.768Z"
   },
   {
    "duration": 3,
    "start_time": "2022-04-16T03:14:14.808Z"
   },
   {
    "duration": 6,
    "start_time": "2022-04-16T03:14:17.488Z"
   },
   {
    "duration": 123,
    "start_time": "2022-04-16T03:14:17.770Z"
   },
   {
    "duration": 2,
    "start_time": "2022-04-16T03:14:18.053Z"
   },
   {
    "duration": 160,
    "start_time": "2022-04-16T03:14:19.249Z"
   },
   {
    "duration": 1344,
    "start_time": "2022-04-16T03:14:33.935Z"
   },
   {
    "duration": 647,
    "start_time": "2022-04-16T03:14:35.281Z"
   },
   {
    "duration": 3,
    "start_time": "2022-04-16T03:14:35.929Z"
   },
   {
    "duration": 860,
    "start_time": "2022-04-16T03:14:35.934Z"
   },
   {
    "duration": 3,
    "start_time": "2022-04-16T03:14:36.795Z"
   },
   {
    "duration": 14,
    "start_time": "2022-04-16T03:14:36.799Z"
   },
   {
    "duration": 170,
    "start_time": "2022-04-16T03:14:36.814Z"
   },
   {
    "duration": 5,
    "start_time": "2022-04-16T03:14:36.985Z"
   },
   {
    "duration": 4,
    "start_time": "2022-04-16T03:14:36.991Z"
   },
   {
    "duration": 4,
    "start_time": "2022-04-16T03:14:37.007Z"
   },
   {
    "duration": 4,
    "start_time": "2022-04-16T03:14:37.012Z"
   },
   {
    "duration": 10,
    "start_time": "2022-04-16T03:14:37.017Z"
   },
   {
    "duration": 13,
    "start_time": "2022-04-16T03:14:37.029Z"
   },
   {
    "duration": 245,
    "start_time": "2022-04-16T03:14:37.044Z"
   },
   {
    "duration": 18,
    "start_time": "2022-04-16T03:14:37.291Z"
   },
   {
    "duration": 6,
    "start_time": "2022-04-16T03:14:37.311Z"
   },
   {
    "duration": 6,
    "start_time": "2022-04-16T03:14:37.319Z"
   },
   {
    "duration": 6,
    "start_time": "2022-04-16T03:14:37.327Z"
   },
   {
    "duration": 449,
    "start_time": "2022-04-16T03:14:37.335Z"
   },
   {
    "duration": 5,
    "start_time": "2022-04-16T03:14:37.785Z"
   },
   {
    "duration": 18,
    "start_time": "2022-04-16T03:14:37.791Z"
   },
   {
    "duration": 874,
    "start_time": "2022-04-16T03:14:37.811Z"
   },
   {
    "duration": 144,
    "start_time": "2022-04-16T03:14:38.687Z"
   },
   {
    "duration": 3,
    "start_time": "2022-04-16T03:14:38.833Z"
   },
   {
    "duration": 9,
    "start_time": "2022-04-16T03:14:38.837Z"
   },
   {
    "duration": 14,
    "start_time": "2022-04-16T03:14:38.847Z"
   },
   {
    "duration": 2,
    "start_time": "2022-04-16T03:14:38.863Z"
   },
   {
    "duration": 146,
    "start_time": "2022-04-16T03:14:38.868Z"
   },
   {
    "duration": 85,
    "start_time": "2022-04-16T03:16:35.528Z"
   },
   {
    "duration": 109,
    "start_time": "2022-04-16T03:23:51.613Z"
   },
   {
    "duration": 229513,
    "start_time": "2022-04-16T03:24:04.829Z"
   },
   {
    "duration": 3,
    "start_time": "2022-04-16T03:31:18.706Z"
   },
   {
    "duration": 1414,
    "start_time": "2022-04-16T03:31:33.822Z"
   },
   {
    "duration": 665,
    "start_time": "2022-04-16T03:31:35.238Z"
   },
   {
    "duration": 3,
    "start_time": "2022-04-16T03:31:35.905Z"
   },
   {
    "duration": 880,
    "start_time": "2022-04-16T03:31:35.910Z"
   },
   {
    "duration": 3,
    "start_time": "2022-04-16T03:31:36.792Z"
   },
   {
    "duration": 8,
    "start_time": "2022-04-16T03:31:36.807Z"
   },
   {
    "duration": 168,
    "start_time": "2022-04-16T03:31:36.817Z"
   },
   {
    "duration": 5,
    "start_time": "2022-04-16T03:31:36.987Z"
   },
   {
    "duration": 14,
    "start_time": "2022-04-16T03:31:36.994Z"
   },
   {
    "duration": 6,
    "start_time": "2022-04-16T03:31:37.011Z"
   },
   {
    "duration": 4,
    "start_time": "2022-04-16T03:31:37.019Z"
   },
   {
    "duration": 10,
    "start_time": "2022-04-16T03:31:37.024Z"
   },
   {
    "duration": 15,
    "start_time": "2022-04-16T03:31:37.035Z"
   },
   {
    "duration": 258,
    "start_time": "2022-04-16T03:31:37.052Z"
   },
   {
    "duration": 14,
    "start_time": "2022-04-16T03:31:37.312Z"
   },
   {
    "duration": 6,
    "start_time": "2022-04-16T03:31:37.328Z"
   },
   {
    "duration": 11,
    "start_time": "2022-04-16T03:31:37.335Z"
   },
   {
    "duration": 5,
    "start_time": "2022-04-16T03:31:37.347Z"
   },
   {
    "duration": 438,
    "start_time": "2022-04-16T03:31:37.354Z"
   },
   {
    "duration": 5,
    "start_time": "2022-04-16T03:31:37.793Z"
   },
   {
    "duration": 7,
    "start_time": "2022-04-16T03:31:37.808Z"
   },
   {
    "duration": 869,
    "start_time": "2022-04-16T03:31:37.817Z"
   },
   {
    "duration": 139,
    "start_time": "2022-04-16T03:31:38.687Z"
   },
   {
    "duration": 3,
    "start_time": "2022-04-16T03:31:38.827Z"
   },
   {
    "duration": 8,
    "start_time": "2022-04-16T03:31:38.832Z"
   },
   {
    "duration": 13,
    "start_time": "2022-04-16T03:31:38.841Z"
   },
   {
    "duration": 2,
    "start_time": "2022-04-16T03:31:38.855Z"
   },
   {
    "duration": 244830,
    "start_time": "2022-04-16T03:31:38.860Z"
   },
   {
    "duration": 0,
    "start_time": "2022-04-16T03:35:43.692Z"
   },
   {
    "duration": 0,
    "start_time": "2022-04-16T03:35:43.693Z"
   },
   {
    "duration": 168433,
    "start_time": "2022-04-16T03:35:53.278Z"
   },
   {
    "duration": 3,
    "start_time": "2022-04-16T03:39:31.525Z"
   },
   {
    "duration": 1411,
    "start_time": "2022-04-16T03:40:18.538Z"
   },
   {
    "duration": 692,
    "start_time": "2022-04-16T03:40:19.951Z"
   },
   {
    "duration": 3,
    "start_time": "2022-04-16T03:40:20.645Z"
   },
   {
    "duration": 901,
    "start_time": "2022-04-16T03:40:20.650Z"
   },
   {
    "duration": 4,
    "start_time": "2022-04-16T03:40:21.553Z"
   },
   {
    "duration": 9,
    "start_time": "2022-04-16T03:40:21.559Z"
   },
   {
    "duration": 188,
    "start_time": "2022-04-16T03:40:21.570Z"
   },
   {
    "duration": 5,
    "start_time": "2022-04-16T03:40:21.760Z"
   },
   {
    "duration": 4,
    "start_time": "2022-04-16T03:40:21.767Z"
   },
   {
    "duration": 5,
    "start_time": "2022-04-16T03:40:21.774Z"
   },
   {
    "duration": 4,
    "start_time": "2022-04-16T03:40:21.781Z"
   },
   {
    "duration": 29,
    "start_time": "2022-04-16T03:40:21.786Z"
   },
   {
    "duration": 15,
    "start_time": "2022-04-16T03:40:21.817Z"
   },
   {
    "duration": 244,
    "start_time": "2022-04-16T03:40:21.833Z"
   },
   {
    "duration": 29,
    "start_time": "2022-04-16T03:40:22.079Z"
   },
   {
    "duration": 6,
    "start_time": "2022-04-16T03:40:22.110Z"
   },
   {
    "duration": 8,
    "start_time": "2022-04-16T03:40:22.118Z"
   },
   {
    "duration": 7,
    "start_time": "2022-04-16T03:40:22.128Z"
   },
   {
    "duration": 472,
    "start_time": "2022-04-16T03:40:22.137Z"
   },
   {
    "duration": 5,
    "start_time": "2022-04-16T03:40:22.611Z"
   },
   {
    "duration": 12,
    "start_time": "2022-04-16T03:40:22.617Z"
   },
   {
    "duration": 962,
    "start_time": "2022-04-16T03:40:22.631Z"
   },
   {
    "duration": 157,
    "start_time": "2022-04-16T03:40:23.595Z"
   },
   {
    "duration": 4,
    "start_time": "2022-04-16T03:40:23.753Z"
   },
   {
    "duration": 10,
    "start_time": "2022-04-16T03:40:23.759Z"
   },
   {
    "duration": 17,
    "start_time": "2022-04-16T03:40:23.770Z"
   },
   {
    "duration": 20,
    "start_time": "2022-04-16T03:40:23.788Z"
   },
   {
    "duration": 54621,
    "start_time": "2022-04-16T03:40:23.811Z"
   },
   {
    "duration": 0,
    "start_time": "2022-04-16T03:41:18.434Z"
   },
   {
    "duration": 0,
    "start_time": "2022-04-16T03:41:18.435Z"
   },
   {
    "duration": 0,
    "start_time": "2022-04-16T03:41:18.436Z"
   },
   {
    "duration": 1398,
    "start_time": "2022-04-16T03:46:20.099Z"
   },
   {
    "duration": 664,
    "start_time": "2022-04-16T03:46:21.500Z"
   },
   {
    "duration": 2,
    "start_time": "2022-04-16T03:46:22.166Z"
   },
   {
    "duration": 890,
    "start_time": "2022-04-16T03:46:22.170Z"
   },
   {
    "duration": 4,
    "start_time": "2022-04-16T03:46:23.062Z"
   },
   {
    "duration": 9,
    "start_time": "2022-04-16T03:46:23.068Z"
   },
   {
    "duration": 182,
    "start_time": "2022-04-16T03:46:23.079Z"
   },
   {
    "duration": 4,
    "start_time": "2022-04-16T03:46:23.263Z"
   },
   {
    "duration": 4,
    "start_time": "2022-04-16T03:46:23.269Z"
   },
   {
    "duration": 5,
    "start_time": "2022-04-16T03:46:23.276Z"
   },
   {
    "duration": 27,
    "start_time": "2022-04-16T03:46:23.282Z"
   },
   {
    "duration": 10,
    "start_time": "2022-04-16T03:46:23.311Z"
   },
   {
    "duration": 14,
    "start_time": "2022-04-16T03:46:23.322Z"
   },
   {
    "duration": 252,
    "start_time": "2022-04-16T03:46:23.338Z"
   },
   {
    "duration": 24,
    "start_time": "2022-04-16T03:46:23.592Z"
   },
   {
    "duration": 7,
    "start_time": "2022-04-16T03:46:23.617Z"
   },
   {
    "duration": 6,
    "start_time": "2022-04-16T03:46:23.626Z"
   },
   {
    "duration": 6,
    "start_time": "2022-04-16T03:46:23.634Z"
   },
   {
    "duration": 468,
    "start_time": "2022-04-16T03:46:23.642Z"
   },
   {
    "duration": 5,
    "start_time": "2022-04-16T03:46:24.112Z"
   },
   {
    "duration": 10,
    "start_time": "2022-04-16T03:46:24.119Z"
   },
   {
    "duration": 960,
    "start_time": "2022-04-16T03:46:24.131Z"
   },
   {
    "duration": 148,
    "start_time": "2022-04-16T03:46:25.092Z"
   },
   {
    "duration": 4,
    "start_time": "2022-04-16T03:46:25.241Z"
   },
   {
    "duration": 7,
    "start_time": "2022-04-16T03:46:25.247Z"
   },
   {
    "duration": 15,
    "start_time": "2022-04-16T03:46:25.256Z"
   },
   {
    "duration": 2,
    "start_time": "2022-04-16T03:46:25.273Z"
   },
   {
    "duration": 63,
    "start_time": "2022-04-16T03:46:25.278Z"
   },
   {
    "duration": 0,
    "start_time": "2022-04-16T03:46:25.343Z"
   },
   {
    "duration": 0,
    "start_time": "2022-04-16T03:46:25.344Z"
   },
   {
    "duration": 0,
    "start_time": "2022-04-16T03:46:25.345Z"
   },
   {
    "duration": 60239,
    "start_time": "2022-04-16T03:46:41.884Z"
   },
   {
    "duration": 8025,
    "start_time": "2022-04-16T03:48:03.749Z"
   },
   {
    "duration": 56566,
    "start_time": "2022-04-16T03:48:16.735Z"
   },
   {
    "duration": 619647,
    "start_time": "2022-04-16T03:50:46.845Z"
   },
   {
    "duration": 1354,
    "start_time": "2022-04-16T04:06:44.435Z"
   },
   {
    "duration": 657,
    "start_time": "2022-04-16T04:06:45.791Z"
   },
   {
    "duration": 3,
    "start_time": "2022-04-16T04:06:46.449Z"
   },
   {
    "duration": 870,
    "start_time": "2022-04-16T04:06:46.454Z"
   },
   {
    "duration": 3,
    "start_time": "2022-04-16T04:06:47.325Z"
   },
   {
    "duration": 9,
    "start_time": "2022-04-16T04:06:47.329Z"
   },
   {
    "duration": 172,
    "start_time": "2022-04-16T04:06:47.340Z"
   },
   {
    "duration": 4,
    "start_time": "2022-04-16T04:06:47.514Z"
   },
   {
    "duration": 5,
    "start_time": "2022-04-16T04:06:47.519Z"
   },
   {
    "duration": 5,
    "start_time": "2022-04-16T04:06:47.526Z"
   },
   {
    "duration": 5,
    "start_time": "2022-04-16T04:06:47.532Z"
   },
   {
    "duration": 10,
    "start_time": "2022-04-16T04:06:47.538Z"
   },
   {
    "duration": 14,
    "start_time": "2022-04-16T04:06:47.550Z"
   },
   {
    "duration": 244,
    "start_time": "2022-04-16T04:06:47.566Z"
   },
   {
    "duration": 14,
    "start_time": "2022-04-16T04:06:47.812Z"
   },
   {
    "duration": 5,
    "start_time": "2022-04-16T04:06:47.828Z"
   },
   {
    "duration": 6,
    "start_time": "2022-04-16T04:06:47.834Z"
   },
   {
    "duration": 5,
    "start_time": "2022-04-16T04:06:47.842Z"
   },
   {
    "duration": 449,
    "start_time": "2022-04-16T04:06:47.849Z"
   },
   {
    "duration": 9,
    "start_time": "2022-04-16T04:06:48.299Z"
   },
   {
    "duration": 8,
    "start_time": "2022-04-16T04:06:48.309Z"
   },
   {
    "duration": 963,
    "start_time": "2022-04-16T04:06:48.319Z"
   },
   {
    "duration": 147,
    "start_time": "2022-04-16T04:06:49.284Z"
   },
   {
    "duration": 4,
    "start_time": "2022-04-16T04:06:49.432Z"
   },
   {
    "duration": 9,
    "start_time": "2022-04-16T04:06:49.437Z"
   },
   {
    "duration": 16,
    "start_time": "2022-04-16T04:06:49.447Z"
   },
   {
    "duration": 3,
    "start_time": "2022-04-16T04:06:49.464Z"
   },
   {
    "duration": 138,
    "start_time": "2022-04-16T04:06:49.470Z"
   },
   {
    "duration": 0,
    "start_time": "2022-04-16T04:06:49.610Z"
   },
   {
    "duration": 0,
    "start_time": "2022-04-16T04:06:49.611Z"
   },
   {
    "duration": 0,
    "start_time": "2022-04-16T04:06:49.612Z"
   },
   {
    "duration": 0,
    "start_time": "2022-04-16T04:06:49.613Z"
   },
   {
    "duration": 64076,
    "start_time": "2022-04-16T04:07:05.833Z"
   },
   {
    "duration": 145587,
    "start_time": "2022-04-16T04:08:35.914Z"
   },
   {
    "duration": 138666,
    "start_time": "2022-04-16T04:13:08.767Z"
   },
   {
    "duration": 5,
    "start_time": "2022-04-16T04:16:23.949Z"
   },
   {
    "duration": 7,
    "start_time": "2022-04-16T04:16:44.277Z"
   },
   {
    "duration": 138524,
    "start_time": "2022-04-16T04:17:06.427Z"
   },
   {
    "duration": 136323,
    "start_time": "2022-04-16T04:24:04.849Z"
   },
   {
    "duration": 3722,
    "start_time": "2022-04-16T04:27:02.208Z"
   },
   {
    "duration": 3734,
    "start_time": "2022-04-16T04:27:14.642Z"
   },
   {
    "duration": 3709,
    "start_time": "2022-04-16T04:28:13.272Z"
   },
   {
    "duration": 1344,
    "start_time": "2022-04-16T04:29:09.560Z"
   },
   {
    "duration": 672,
    "start_time": "2022-04-16T04:29:10.905Z"
   },
   {
    "duration": 3,
    "start_time": "2022-04-16T04:29:11.579Z"
   },
   {
    "duration": 904,
    "start_time": "2022-04-16T04:29:11.584Z"
   },
   {
    "duration": 3,
    "start_time": "2022-04-16T04:29:12.489Z"
   },
   {
    "duration": 17,
    "start_time": "2022-04-16T04:29:12.494Z"
   },
   {
    "duration": 167,
    "start_time": "2022-04-16T04:29:12.512Z"
   },
   {
    "duration": 5,
    "start_time": "2022-04-16T04:29:12.680Z"
   },
   {
    "duration": 4,
    "start_time": "2022-04-16T04:29:12.687Z"
   },
   {
    "duration": 4,
    "start_time": "2022-04-16T04:29:12.707Z"
   },
   {
    "duration": 7,
    "start_time": "2022-04-16T04:29:12.712Z"
   },
   {
    "duration": 12,
    "start_time": "2022-04-16T04:29:12.720Z"
   },
   {
    "duration": 16,
    "start_time": "2022-04-16T04:29:12.733Z"
   },
   {
    "duration": 260,
    "start_time": "2022-04-16T04:29:12.751Z"
   },
   {
    "duration": 15,
    "start_time": "2022-04-16T04:29:13.013Z"
   },
   {
    "duration": 7,
    "start_time": "2022-04-16T04:29:13.030Z"
   },
   {
    "duration": 6,
    "start_time": "2022-04-16T04:29:13.039Z"
   },
   {
    "duration": 7,
    "start_time": "2022-04-16T04:29:13.046Z"
   },
   {
    "duration": 458,
    "start_time": "2022-04-16T04:29:13.055Z"
   },
   {
    "duration": 6,
    "start_time": "2022-04-16T04:29:13.515Z"
   },
   {
    "duration": 11,
    "start_time": "2022-04-16T04:29:13.523Z"
   },
   {
    "duration": 958,
    "start_time": "2022-04-16T04:29:13.536Z"
   },
   {
    "duration": 156,
    "start_time": "2022-04-16T04:29:14.496Z"
   },
   {
    "duration": 4,
    "start_time": "2022-04-16T04:29:14.654Z"
   },
   {
    "duration": 12,
    "start_time": "2022-04-16T04:29:14.660Z"
   },
   {
    "duration": 34,
    "start_time": "2022-04-16T04:29:14.674Z"
   },
   {
    "duration": 3,
    "start_time": "2022-04-16T04:29:14.710Z"
   },
   {
    "duration": 140441,
    "start_time": "2022-04-16T04:29:14.717Z"
   },
   {
    "duration": 135753,
    "start_time": "2022-04-16T04:31:35.160Z"
   },
   {
    "duration": 3567,
    "start_time": "2022-04-16T04:33:50.915Z"
   },
   {
    "duration": 3523,
    "start_time": "2022-04-16T04:33:54.484Z"
   },
   {
    "duration": 325,
    "start_time": "2022-04-16T04:33:58.008Z"
   },
   {
    "duration": 301,
    "start_time": "2022-04-16T04:33:58.335Z"
   },
   {
    "duration": 3615,
    "start_time": "2022-04-16T04:37:07.318Z"
   },
   {
    "duration": 3668,
    "start_time": "2022-04-16T04:37:17.580Z"
   },
   {
    "duration": 3589,
    "start_time": "2022-04-16T04:37:50.707Z"
   },
   {
    "duration": 3524,
    "start_time": "2022-04-16T04:37:54.298Z"
   },
   {
    "duration": 310,
    "start_time": "2022-04-16T04:37:57.824Z"
   },
   {
    "duration": 296,
    "start_time": "2022-04-16T04:37:58.137Z"
   },
   {
    "duration": 104,
    "start_time": "2022-04-16T04:39:39.962Z"
   },
   {
    "duration": 8,
    "start_time": "2022-04-16T04:39:53.326Z"
   },
   {
    "duration": 3,
    "start_time": "2022-04-16T04:40:16.985Z"
   },
   {
    "duration": 4,
    "start_time": "2022-04-16T04:41:14.129Z"
   },
   {
    "duration": 3,
    "start_time": "2022-04-16T04:41:39.053Z"
   },
   {
    "duration": 2047,
    "start_time": "2022-04-16T19:12:35.665Z"
   },
   {
    "duration": 620,
    "start_time": "2022-04-16T19:12:37.714Z"
   },
   {
    "duration": 3,
    "start_time": "2022-04-16T19:12:54.693Z"
   },
   {
    "duration": 997,
    "start_time": "2022-04-16T19:12:55.203Z"
   },
   {
    "duration": 3,
    "start_time": "2022-04-16T19:14:54.043Z"
   },
   {
    "duration": 11,
    "start_time": "2022-04-16T19:14:54.049Z"
   },
   {
    "duration": 191,
    "start_time": "2022-04-16T19:14:54.063Z"
   },
   {
    "duration": 5,
    "start_time": "2022-04-16T19:14:54.256Z"
   },
   {
    "duration": 3,
    "start_time": "2022-04-16T19:15:06.144Z"
   },
   {
    "duration": 4,
    "start_time": "2022-04-16T19:15:06.874Z"
   },
   {
    "duration": 4,
    "start_time": "2022-04-16T19:17:26.291Z"
   },
   {
    "duration": 7,
    "start_time": "2022-04-16T19:17:27.478Z"
   },
   {
    "duration": 5,
    "start_time": "2022-04-16T19:18:18.749Z"
   },
   {
    "duration": 20,
    "start_time": "2022-04-16T19:18:26.043Z"
   },
   {
    "duration": 231,
    "start_time": "2022-04-16T19:18:29.441Z"
   },
   {
    "duration": 19,
    "start_time": "2022-04-16T19:18:31.001Z"
   },
   {
    "duration": 7,
    "start_time": "2022-04-16T19:42:03.388Z"
   },
   {
    "duration": 7,
    "start_time": "2022-04-16T19:42:05.629Z"
   },
   {
    "duration": 7,
    "start_time": "2022-04-16T19:42:05.678Z"
   },
   {
    "duration": 354,
    "start_time": "2022-04-16T19:44:06.283Z"
   },
   {
    "duration": 4,
    "start_time": "2022-04-16T19:44:06.805Z"
   },
   {
    "duration": 8,
    "start_time": "2022-04-16T19:45:49.547Z"
   },
   {
    "duration": 902,
    "start_time": "2022-04-16T19:45:51.514Z"
   },
   {
    "duration": 133,
    "start_time": "2022-04-16T19:45:52.418Z"
   },
   {
    "duration": 3,
    "start_time": "2022-04-16T19:46:42.901Z"
   },
   {
    "duration": 6,
    "start_time": "2022-04-16T19:47:12.707Z"
   },
   {
    "duration": 13,
    "start_time": "2022-04-16T19:47:29.116Z"
   },
   {
    "duration": 34,
    "start_time": "2022-04-16T19:48:04.534Z"
   },
   {
    "duration": 14371,
    "start_time": "2022-04-16T19:48:47.967Z"
   },
   {
    "duration": 3569,
    "start_time": "2022-04-16T19:51:27.319Z"
   },
   {
    "duration": 3533,
    "start_time": "2022-04-16T19:51:30.891Z"
   },
   {
    "duration": 345,
    "start_time": "2022-04-16T19:51:34.426Z"
   },
   {
    "duration": 310,
    "start_time": "2022-04-16T19:51:34.774Z"
   },
   {
    "duration": 4,
    "start_time": "2022-04-16T19:51:35.155Z"
   },
   {
    "duration": 51,
    "start_time": "2022-04-16T20:46:25.877Z"
   },
   {
    "duration": 1789,
    "start_time": "2022-04-16T20:46:33.208Z"
   },
   {
    "duration": 675,
    "start_time": "2022-04-16T20:46:35.000Z"
   },
   {
    "duration": 3,
    "start_time": "2022-04-16T20:46:35.677Z"
   },
   {
    "duration": 961,
    "start_time": "2022-04-16T20:46:35.682Z"
   },
   {
    "duration": 3,
    "start_time": "2022-04-16T20:46:36.645Z"
   },
   {
    "duration": 13,
    "start_time": "2022-04-16T20:46:36.649Z"
   },
   {
    "duration": 206,
    "start_time": "2022-04-16T20:46:36.663Z"
   },
   {
    "duration": 5,
    "start_time": "2022-04-16T20:46:36.871Z"
   },
   {
    "duration": 18,
    "start_time": "2022-04-16T20:46:36.877Z"
   },
   {
    "duration": 14,
    "start_time": "2022-04-16T20:46:36.900Z"
   },
   {
    "duration": 5,
    "start_time": "2022-04-16T20:46:36.916Z"
   },
   {
    "duration": 8,
    "start_time": "2022-04-16T20:46:36.923Z"
   },
   {
    "duration": 5,
    "start_time": "2022-04-16T20:46:36.933Z"
   },
   {
    "duration": 15,
    "start_time": "2022-04-16T20:46:36.940Z"
   },
   {
    "duration": 306,
    "start_time": "2022-04-16T20:46:36.958Z"
   },
   {
    "duration": 30,
    "start_time": "2022-04-16T20:46:37.266Z"
   },
   {
    "duration": 8,
    "start_time": "2022-04-16T20:46:37.298Z"
   },
   {
    "duration": 14,
    "start_time": "2022-04-16T20:46:37.308Z"
   },
   {
    "duration": 6,
    "start_time": "2022-04-16T20:46:37.323Z"
   },
   {
    "duration": 472,
    "start_time": "2022-04-16T20:46:37.331Z"
   },
   {
    "duration": 5,
    "start_time": "2022-04-16T20:46:37.805Z"
   },
   {
    "duration": 13,
    "start_time": "2022-04-16T20:46:37.811Z"
   },
   {
    "duration": 955,
    "start_time": "2022-04-16T20:46:37.826Z"
   },
   {
    "duration": 225,
    "start_time": "2022-04-16T20:46:38.783Z"
   },
   {
    "duration": 7,
    "start_time": "2022-04-16T20:46:39.010Z"
   },
   {
    "duration": 4,
    "start_time": "2022-04-16T20:46:39.019Z"
   },
   {
    "duration": 8,
    "start_time": "2022-04-16T20:46:39.025Z"
   },
   {
    "duration": 21,
    "start_time": "2022-04-16T20:46:39.036Z"
   },
   {
    "duration": 72,
    "start_time": "2022-04-16T20:46:39.059Z"
   },
   {
    "duration": 57991,
    "start_time": "2022-04-16T20:46:39.133Z"
   },
   {
    "duration": 0,
    "start_time": "2022-04-16T20:47:37.127Z"
   },
   {
    "duration": 0,
    "start_time": "2022-04-16T20:47:37.128Z"
   },
   {
    "duration": 0,
    "start_time": "2022-04-16T20:47:37.129Z"
   },
   {
    "duration": 0,
    "start_time": "2022-04-16T20:47:37.131Z"
   },
   {
    "duration": 0,
    "start_time": "2022-04-16T20:47:37.132Z"
   },
   {
    "duration": 0,
    "start_time": "2022-04-16T20:47:37.133Z"
   },
   {
    "duration": 0,
    "start_time": "2022-04-16T20:47:37.134Z"
   },
   {
    "duration": 2181,
    "start_time": "2022-04-16T20:47:44.997Z"
   },
   {
    "duration": 1006,
    "start_time": "2022-04-16T20:47:47.181Z"
   },
   {
    "duration": 4,
    "start_time": "2022-04-16T20:47:48.189Z"
   },
   {
    "duration": 922,
    "start_time": "2022-04-16T20:47:48.196Z"
   },
   {
    "duration": 5,
    "start_time": "2022-04-16T20:47:49.119Z"
   },
   {
    "duration": 12,
    "start_time": "2022-04-16T20:47:49.126Z"
   },
   {
    "duration": 248,
    "start_time": "2022-04-16T20:47:49.140Z"
   },
   {
    "duration": 6,
    "start_time": "2022-04-16T20:47:49.390Z"
   },
   {
    "duration": 5,
    "start_time": "2022-04-16T20:47:49.398Z"
   },
   {
    "duration": 7,
    "start_time": "2022-04-16T20:47:49.407Z"
   },
   {
    "duration": 6,
    "start_time": "2022-04-16T20:47:49.416Z"
   },
   {
    "duration": 12,
    "start_time": "2022-04-16T20:47:49.424Z"
   },
   {
    "duration": 6,
    "start_time": "2022-04-16T20:47:49.438Z"
   },
   {
    "duration": 57,
    "start_time": "2022-04-16T20:47:49.446Z"
   },
   {
    "duration": 378,
    "start_time": "2022-04-16T20:47:49.505Z"
   },
   {
    "duration": 23,
    "start_time": "2022-04-16T20:47:49.885Z"
   },
   {
    "duration": 7,
    "start_time": "2022-04-16T20:47:49.910Z"
   },
   {
    "duration": 7,
    "start_time": "2022-04-16T20:47:49.920Z"
   },
   {
    "duration": 7,
    "start_time": "2022-04-16T20:47:49.929Z"
   },
   {
    "duration": 551,
    "start_time": "2022-04-16T20:47:49.938Z"
   },
   {
    "duration": 5,
    "start_time": "2022-04-16T20:47:50.491Z"
   },
   {
    "duration": 11,
    "start_time": "2022-04-16T20:47:50.498Z"
   },
   {
    "duration": 875,
    "start_time": "2022-04-16T20:47:50.511Z"
   },
   {
    "duration": 158,
    "start_time": "2022-04-16T20:47:51.388Z"
   },
   {
    "duration": 19,
    "start_time": "2022-04-16T20:47:51.548Z"
   },
   {
    "duration": 24,
    "start_time": "2022-04-16T20:47:51.569Z"
   },
   {
    "duration": 9,
    "start_time": "2022-04-16T20:47:51.595Z"
   },
   {
    "duration": 17,
    "start_time": "2022-04-16T20:47:51.608Z"
   },
   {
    "duration": 38,
    "start_time": "2022-04-16T20:47:51.626Z"
   },
   {
    "duration": 1738,
    "start_time": "2022-04-16T20:49:16.466Z"
   },
   {
    "duration": 651,
    "start_time": "2022-04-16T20:49:18.207Z"
   },
   {
    "duration": 4,
    "start_time": "2022-04-16T20:49:18.860Z"
   },
   {
    "duration": 869,
    "start_time": "2022-04-16T20:49:18.866Z"
   },
   {
    "duration": 3,
    "start_time": "2022-04-16T20:49:19.737Z"
   },
   {
    "duration": 17,
    "start_time": "2022-04-16T20:49:19.742Z"
   },
   {
    "duration": 185,
    "start_time": "2022-04-16T20:49:19.760Z"
   },
   {
    "duration": 5,
    "start_time": "2022-04-16T20:49:19.946Z"
   },
   {
    "duration": 4,
    "start_time": "2022-04-16T20:49:19.953Z"
   },
   {
    "duration": 5,
    "start_time": "2022-04-16T20:49:19.959Z"
   },
   {
    "duration": 28,
    "start_time": "2022-04-16T20:49:19.965Z"
   },
   {
    "duration": 14,
    "start_time": "2022-04-16T20:49:19.995Z"
   },
   {
    "duration": 9,
    "start_time": "2022-04-16T20:49:20.010Z"
   },
   {
    "duration": 19,
    "start_time": "2022-04-16T20:49:20.020Z"
   },
   {
    "duration": 253,
    "start_time": "2022-04-16T20:49:20.040Z"
   },
   {
    "duration": 14,
    "start_time": "2022-04-16T20:49:20.295Z"
   },
   {
    "duration": 6,
    "start_time": "2022-04-16T20:49:20.311Z"
   },
   {
    "duration": 10,
    "start_time": "2022-04-16T20:49:20.318Z"
   },
   {
    "duration": 11,
    "start_time": "2022-04-16T20:49:20.329Z"
   },
   {
    "duration": 457,
    "start_time": "2022-04-16T20:49:20.341Z"
   },
   {
    "duration": 5,
    "start_time": "2022-04-16T20:49:20.800Z"
   },
   {
    "duration": 14,
    "start_time": "2022-04-16T20:49:20.807Z"
   },
   {
    "duration": 1057,
    "start_time": "2022-04-16T20:49:20.822Z"
   },
   {
    "duration": 147,
    "start_time": "2022-04-16T20:49:21.881Z"
   },
   {
    "duration": 21,
    "start_time": "2022-04-16T20:49:22.030Z"
   },
   {
    "duration": 10,
    "start_time": "2022-04-16T20:49:22.053Z"
   },
   {
    "duration": 28,
    "start_time": "2022-04-16T20:49:22.065Z"
   },
   {
    "duration": 9,
    "start_time": "2022-04-16T20:49:22.098Z"
   },
   {
    "duration": 20,
    "start_time": "2022-04-16T20:49:22.109Z"
   },
   {
    "duration": 39,
    "start_time": "2022-04-16T20:49:22.131Z"
   },
   {
    "duration": 1876,
    "start_time": "2022-04-16T20:50:20.363Z"
   },
   {
    "duration": 678,
    "start_time": "2022-04-16T20:50:22.241Z"
   },
   {
    "duration": 3,
    "start_time": "2022-04-16T20:50:22.921Z"
   },
   {
    "duration": 1016,
    "start_time": "2022-04-16T20:50:22.926Z"
   },
   {
    "duration": 3,
    "start_time": "2022-04-16T20:50:23.944Z"
   },
   {
    "duration": 12,
    "start_time": "2022-04-16T20:50:23.949Z"
   },
   {
    "duration": 203,
    "start_time": "2022-04-16T20:50:23.963Z"
   },
   {
    "duration": 5,
    "start_time": "2022-04-16T20:50:24.168Z"
   },
   {
    "duration": 4,
    "start_time": "2022-04-16T20:50:24.175Z"
   },
   {
    "duration": 6,
    "start_time": "2022-04-16T20:50:24.192Z"
   },
   {
    "duration": 6,
    "start_time": "2022-04-16T20:50:24.199Z"
   },
   {
    "duration": 12,
    "start_time": "2022-04-16T20:50:24.207Z"
   },
   {
    "duration": 7,
    "start_time": "2022-04-16T20:50:24.220Z"
   },
   {
    "duration": 15,
    "start_time": "2022-04-16T20:50:24.229Z"
   },
   {
    "duration": 297,
    "start_time": "2022-04-16T20:50:24.246Z"
   },
   {
    "duration": 14,
    "start_time": "2022-04-16T20:50:24.545Z"
   },
   {
    "duration": 7,
    "start_time": "2022-04-16T20:50:24.560Z"
   },
   {
    "duration": 27,
    "start_time": "2022-04-16T20:50:24.568Z"
   },
   {
    "duration": 6,
    "start_time": "2022-04-16T20:50:24.597Z"
   },
   {
    "duration": 397,
    "start_time": "2022-04-16T20:50:24.604Z"
   },
   {
    "duration": 4,
    "start_time": "2022-04-16T20:50:25.003Z"
   },
   {
    "duration": 13,
    "start_time": "2022-04-16T20:50:25.009Z"
   },
   {
    "duration": 959,
    "start_time": "2022-04-16T20:50:25.024Z"
   },
   {
    "duration": 148,
    "start_time": "2022-04-16T20:50:25.985Z"
   },
   {
    "duration": 19,
    "start_time": "2022-04-16T20:50:26.134Z"
   },
   {
    "duration": 9,
    "start_time": "2022-04-16T20:50:26.155Z"
   },
   {
    "duration": 4,
    "start_time": "2022-04-16T20:50:26.165Z"
   },
   {
    "duration": 7,
    "start_time": "2022-04-16T20:50:26.194Z"
   },
   {
    "duration": 19,
    "start_time": "2022-04-16T20:50:26.203Z"
   },
   {
    "duration": 37,
    "start_time": "2022-04-16T20:50:26.223Z"
   },
   {
    "duration": 159198,
    "start_time": "2022-04-16T20:50:26.262Z"
   },
   {
    "duration": 153639,
    "start_time": "2022-04-16T20:53:05.463Z"
   },
   {
    "duration": 4102,
    "start_time": "2022-04-16T20:55:39.104Z"
   },
   {
    "duration": 4024,
    "start_time": "2022-04-16T20:55:43.208Z"
   },
   {
    "duration": 393,
    "start_time": "2022-04-16T20:55:47.235Z"
   },
   {
    "duration": 394,
    "start_time": "2022-04-16T20:55:47.630Z"
   },
   {
    "duration": 3,
    "start_time": "2022-04-16T20:55:48.026Z"
   },
   {
    "duration": 5845,
    "start_time": "2022-04-16T20:55:58.049Z"
   },
   {
    "duration": 95,
    "start_time": "2022-04-16T20:56:49.346Z"
   },
   {
    "duration": 5,
    "start_time": "2022-04-16T20:58:31.204Z"
   },
   {
    "duration": 700,
    "start_time": "2022-04-16T21:00:36.160Z"
   },
   {
    "duration": 1634,
    "start_time": "2022-04-16T21:00:43.157Z"
   },
   {
    "duration": 696,
    "start_time": "2022-04-16T21:00:44.793Z"
   },
   {
    "duration": 3,
    "start_time": "2022-04-16T21:00:45.493Z"
   },
   {
    "duration": 895,
    "start_time": "2022-04-16T21:00:45.498Z"
   },
   {
    "duration": 4,
    "start_time": "2022-04-16T21:00:46.395Z"
   },
   {
    "duration": 17,
    "start_time": "2022-04-16T21:00:46.401Z"
   },
   {
    "duration": 187,
    "start_time": "2022-04-16T21:00:46.420Z"
   },
   {
    "duration": 6,
    "start_time": "2022-04-16T21:00:46.609Z"
   },
   {
    "duration": 5,
    "start_time": "2022-04-16T21:00:46.617Z"
   },
   {
    "duration": 6,
    "start_time": "2022-04-16T21:00:46.624Z"
   },
   {
    "duration": 4,
    "start_time": "2022-04-16T21:00:46.631Z"
   },
   {
    "duration": 8,
    "start_time": "2022-04-16T21:00:46.637Z"
   },
   {
    "duration": 6,
    "start_time": "2022-04-16T21:00:46.647Z"
   },
   {
    "duration": 2291,
    "start_time": "2022-04-16T21:00:46.655Z"
   },
   {
    "duration": 0,
    "start_time": "2022-04-16T21:00:48.949Z"
   },
   {
    "duration": 0,
    "start_time": "2022-04-16T21:00:48.950Z"
   },
   {
    "duration": 1,
    "start_time": "2022-04-16T21:00:48.951Z"
   },
   {
    "duration": 0,
    "start_time": "2022-04-16T21:00:48.953Z"
   },
   {
    "duration": 0,
    "start_time": "2022-04-16T21:00:48.954Z"
   },
   {
    "duration": 0,
    "start_time": "2022-04-16T21:00:48.955Z"
   },
   {
    "duration": 0,
    "start_time": "2022-04-16T21:00:48.956Z"
   },
   {
    "duration": 0,
    "start_time": "2022-04-16T21:00:48.957Z"
   },
   {
    "duration": 0,
    "start_time": "2022-04-16T21:00:48.958Z"
   },
   {
    "duration": 0,
    "start_time": "2022-04-16T21:00:48.959Z"
   },
   {
    "duration": 0,
    "start_time": "2022-04-16T21:00:48.960Z"
   },
   {
    "duration": 0,
    "start_time": "2022-04-16T21:00:48.961Z"
   },
   {
    "duration": 0,
    "start_time": "2022-04-16T21:00:48.962Z"
   },
   {
    "duration": 0,
    "start_time": "2022-04-16T21:00:48.963Z"
   },
   {
    "duration": 0,
    "start_time": "2022-04-16T21:00:48.964Z"
   },
   {
    "duration": 0,
    "start_time": "2022-04-16T21:00:48.965Z"
   },
   {
    "duration": 0,
    "start_time": "2022-04-16T21:00:48.967Z"
   },
   {
    "duration": 0,
    "start_time": "2022-04-16T21:00:48.968Z"
   },
   {
    "duration": 0,
    "start_time": "2022-04-16T21:00:48.969Z"
   },
   {
    "duration": 0,
    "start_time": "2022-04-16T21:00:48.970Z"
   },
   {
    "duration": 0,
    "start_time": "2022-04-16T21:00:48.971Z"
   },
   {
    "duration": 0,
    "start_time": "2022-04-16T21:00:48.972Z"
   },
   {
    "duration": 1615,
    "start_time": "2022-04-16T21:01:41.394Z"
   },
   {
    "duration": 674,
    "start_time": "2022-04-16T21:01:43.011Z"
   },
   {
    "duration": 3,
    "start_time": "2022-04-16T21:01:43.687Z"
   },
   {
    "duration": 881,
    "start_time": "2022-04-16T21:01:43.693Z"
   },
   {
    "duration": 3,
    "start_time": "2022-04-16T21:01:44.576Z"
   },
   {
    "duration": 11,
    "start_time": "2022-04-16T21:01:44.593Z"
   },
   {
    "duration": 181,
    "start_time": "2022-04-16T21:01:44.605Z"
   },
   {
    "duration": 7,
    "start_time": "2022-04-16T21:01:44.788Z"
   },
   {
    "duration": 7,
    "start_time": "2022-04-16T21:01:44.797Z"
   },
   {
    "duration": 8,
    "start_time": "2022-04-16T21:01:44.806Z"
   },
   {
    "duration": 5,
    "start_time": "2022-04-16T21:01:44.816Z"
   },
   {
    "duration": 13,
    "start_time": "2022-04-16T21:01:44.823Z"
   },
   {
    "duration": 7,
    "start_time": "2022-04-16T21:01:44.837Z"
   },
   {
    "duration": 266,
    "start_time": "2022-04-16T21:01:44.845Z"
   },
   {
    "duration": 15,
    "start_time": "2022-04-16T21:01:45.112Z"
   },
   {
    "duration": 6,
    "start_time": "2022-04-16T21:01:45.129Z"
   },
   {
    "duration": 8,
    "start_time": "2022-04-16T21:01:45.136Z"
   },
   {
    "duration": 5,
    "start_time": "2022-04-16T21:01:45.146Z"
   },
   {
    "duration": 447,
    "start_time": "2022-04-16T21:01:45.153Z"
   },
   {
    "duration": 5,
    "start_time": "2022-04-16T21:01:45.602Z"
   },
   {
    "duration": 13,
    "start_time": "2022-04-16T21:01:45.609Z"
   },
   {
    "duration": 1049,
    "start_time": "2022-04-16T21:01:45.624Z"
   },
   {
    "duration": 146,
    "start_time": "2022-04-16T21:01:46.675Z"
   },
   {
    "duration": 21,
    "start_time": "2022-04-16T21:01:46.823Z"
   },
   {
    "duration": 4,
    "start_time": "2022-04-16T21:01:46.846Z"
   },
   {
    "duration": 143,
    "start_time": "2022-04-16T21:01:46.852Z"
   },
   {
    "duration": 0,
    "start_time": "2022-04-16T21:01:46.997Z"
   },
   {
    "duration": 0,
    "start_time": "2022-04-16T21:01:46.998Z"
   },
   {
    "duration": 0,
    "start_time": "2022-04-16T21:01:46.999Z"
   },
   {
    "duration": 0,
    "start_time": "2022-04-16T21:01:47.000Z"
   },
   {
    "duration": 0,
    "start_time": "2022-04-16T21:01:47.001Z"
   },
   {
    "duration": 0,
    "start_time": "2022-04-16T21:01:47.002Z"
   },
   {
    "duration": 0,
    "start_time": "2022-04-16T21:01:47.003Z"
   },
   {
    "duration": 0,
    "start_time": "2022-04-16T21:01:47.004Z"
   },
   {
    "duration": 0,
    "start_time": "2022-04-16T21:01:47.005Z"
   },
   {
    "duration": 12,
    "start_time": "2022-04-16T21:02:58.532Z"
   },
   {
    "duration": 1586,
    "start_time": "2022-04-16T21:03:03.824Z"
   },
   {
    "duration": 672,
    "start_time": "2022-04-16T21:03:05.412Z"
   },
   {
    "duration": 3,
    "start_time": "2022-04-16T21:03:06.086Z"
   },
   {
    "duration": 891,
    "start_time": "2022-04-16T21:03:06.091Z"
   },
   {
    "duration": 8,
    "start_time": "2022-04-16T21:03:06.984Z"
   },
   {
    "duration": 13,
    "start_time": "2022-04-16T21:03:06.994Z"
   },
   {
    "duration": 203,
    "start_time": "2022-04-16T21:03:07.009Z"
   },
   {
    "duration": 6,
    "start_time": "2022-04-16T21:03:07.214Z"
   },
   {
    "duration": 8,
    "start_time": "2022-04-16T21:03:07.222Z"
   },
   {
    "duration": 6,
    "start_time": "2022-04-16T21:03:07.233Z"
   },
   {
    "duration": 4,
    "start_time": "2022-04-16T21:03:07.241Z"
   },
   {
    "duration": 9,
    "start_time": "2022-04-16T21:03:07.246Z"
   },
   {
    "duration": 9,
    "start_time": "2022-04-16T21:03:07.257Z"
   },
   {
    "duration": 265,
    "start_time": "2022-04-16T21:03:07.268Z"
   },
   {
    "duration": 15,
    "start_time": "2022-04-16T21:03:07.535Z"
   },
   {
    "duration": 6,
    "start_time": "2022-04-16T21:03:07.552Z"
   },
   {
    "duration": 8,
    "start_time": "2022-04-16T21:03:07.559Z"
   },
   {
    "duration": 28,
    "start_time": "2022-04-16T21:03:07.568Z"
   },
   {
    "duration": 399,
    "start_time": "2022-04-16T21:03:07.598Z"
   },
   {
    "duration": 5,
    "start_time": "2022-04-16T21:03:07.998Z"
   },
   {
    "duration": 11,
    "start_time": "2022-04-16T21:03:08.005Z"
   },
   {
    "duration": 1061,
    "start_time": "2022-04-16T21:03:08.017Z"
   },
   {
    "duration": 152,
    "start_time": "2022-04-16T21:03:09.081Z"
   },
   {
    "duration": 22,
    "start_time": "2022-04-16T21:03:09.234Z"
   },
   {
    "duration": 12,
    "start_time": "2022-04-16T21:03:09.258Z"
   },
   {
    "duration": 22,
    "start_time": "2022-04-16T21:03:09.271Z"
   },
   {
    "duration": 145,
    "start_time": "2022-04-16T21:03:09.294Z"
   },
   {
    "duration": 0,
    "start_time": "2022-04-16T21:03:09.441Z"
   },
   {
    "duration": 0,
    "start_time": "2022-04-16T21:03:09.443Z"
   },
   {
    "duration": 0,
    "start_time": "2022-04-16T21:03:09.444Z"
   },
   {
    "duration": 0,
    "start_time": "2022-04-16T21:03:09.445Z"
   },
   {
    "duration": 0,
    "start_time": "2022-04-16T21:03:09.446Z"
   },
   {
    "duration": 0,
    "start_time": "2022-04-16T21:03:09.447Z"
   },
   {
    "duration": 0,
    "start_time": "2022-04-16T21:03:09.448Z"
   },
   {
    "duration": 0,
    "start_time": "2022-04-16T21:03:09.449Z"
   },
   {
    "duration": 0,
    "start_time": "2022-04-16T21:03:09.450Z"
   },
   {
    "duration": 7,
    "start_time": "2022-04-16T21:03:43.510Z"
   },
   {
    "duration": 27,
    "start_time": "2022-04-16T21:03:45.146Z"
   },
   {
    "duration": 18,
    "start_time": "2022-04-16T21:04:17.107Z"
   },
   {
    "duration": 26,
    "start_time": "2022-04-16T21:05:29.088Z"
   },
   {
    "duration": 1746,
    "start_time": "2022-04-16T21:05:38.960Z"
   },
   {
    "duration": 671,
    "start_time": "2022-04-16T21:05:40.708Z"
   },
   {
    "duration": 3,
    "start_time": "2022-04-16T21:05:41.381Z"
   },
   {
    "duration": 883,
    "start_time": "2022-04-16T21:05:41.386Z"
   },
   {
    "duration": 4,
    "start_time": "2022-04-16T21:05:42.271Z"
   },
   {
    "duration": 26,
    "start_time": "2022-04-16T21:05:42.277Z"
   },
   {
    "duration": 188,
    "start_time": "2022-04-16T21:05:42.304Z"
   },
   {
    "duration": 7,
    "start_time": "2022-04-16T21:05:42.494Z"
   },
   {
    "duration": 6,
    "start_time": "2022-04-16T21:05:42.502Z"
   },
   {
    "duration": 5,
    "start_time": "2022-04-16T21:05:42.511Z"
   },
   {
    "duration": 5,
    "start_time": "2022-04-16T21:05:42.517Z"
   },
   {
    "duration": 9,
    "start_time": "2022-04-16T21:05:42.523Z"
   },
   {
    "duration": 7,
    "start_time": "2022-04-16T21:05:42.534Z"
   },
   {
    "duration": 276,
    "start_time": "2022-04-16T21:05:42.543Z"
   },
   {
    "duration": 15,
    "start_time": "2022-04-16T21:05:42.821Z"
   },
   {
    "duration": 6,
    "start_time": "2022-04-16T21:05:42.838Z"
   },
   {
    "duration": 7,
    "start_time": "2022-04-16T21:05:42.846Z"
   },
   {
    "duration": 6,
    "start_time": "2022-04-16T21:05:42.855Z"
   },
   {
    "duration": 406,
    "start_time": "2022-04-16T21:05:42.893Z"
   },
   {
    "duration": 5,
    "start_time": "2022-04-16T21:05:43.301Z"
   },
   {
    "duration": 10,
    "start_time": "2022-04-16T21:05:43.308Z"
   },
   {
    "duration": 1057,
    "start_time": "2022-04-16T21:05:43.320Z"
   },
   {
    "duration": 153,
    "start_time": "2022-04-16T21:05:44.379Z"
   },
   {
    "duration": 23,
    "start_time": "2022-04-16T21:05:44.534Z"
   },
   {
    "duration": 13,
    "start_time": "2022-04-16T21:05:44.558Z"
   },
   {
    "duration": 20,
    "start_time": "2022-04-16T21:05:44.573Z"
   },
   {
    "duration": 11,
    "start_time": "2022-04-16T21:05:44.595Z"
   },
   {
    "duration": 18,
    "start_time": "2022-04-16T21:05:44.609Z"
   },
   {
    "duration": 64,
    "start_time": "2022-04-16T21:05:44.629Z"
   },
   {
    "duration": 165485,
    "start_time": "2022-04-16T21:05:44.695Z"
   },
   {
    "duration": 157148,
    "start_time": "2022-04-16T21:08:30.181Z"
   },
   {
    "duration": 5815,
    "start_time": "2022-04-16T21:11:07.331Z"
   },
   {
    "duration": 4039,
    "start_time": "2022-04-16T21:11:13.148Z"
   },
   {
    "duration": 309,
    "start_time": "2022-04-16T21:11:17.192Z"
   },
   {
    "duration": 303,
    "start_time": "2022-04-16T21:11:17.503Z"
   },
   {
    "duration": 3,
    "start_time": "2022-04-16T21:11:17.808Z"
   },
   {
    "duration": 4015,
    "start_time": "2022-04-16T21:33:46.705Z"
   },
   {
    "duration": 4051,
    "start_time": "2022-04-16T21:33:53.513Z"
   },
   {
    "duration": 432,
    "start_time": "2022-04-16T21:33:57.567Z"
   },
   {
    "duration": 306,
    "start_time": "2022-04-16T21:33:58.001Z"
   },
   {
    "duration": 4425,
    "start_time": "2022-04-16T21:35:44.876Z"
   },
   {
    "duration": 3992,
    "start_time": "2022-04-16T21:36:15.176Z"
   },
   {
    "duration": 5,
    "start_time": "2022-04-16T21:36:33.567Z"
   },
   {
    "duration": 5,
    "start_time": "2022-04-16T21:36:45.615Z"
   },
   {
    "duration": 13,
    "start_time": "2022-04-16T21:37:32.347Z"
   },
   {
    "duration": 5,
    "start_time": "2022-04-16T21:37:52.915Z"
   },
   {
    "duration": 4314,
    "start_time": "2022-04-16T21:37:54.964Z"
   },
   {
    "duration": 4112,
    "start_time": "2022-04-16T21:38:07.168Z"
   },
   {
    "duration": 4,
    "start_time": "2022-04-16T21:39:21.080Z"
   },
   {
    "duration": 4007,
    "start_time": "2022-04-16T21:39:25.269Z"
   },
   {
    "duration": 5604,
    "start_time": "2022-04-16T21:40:34.748Z"
   },
   {
    "duration": 1595,
    "start_time": "2022-04-16T21:41:02.950Z"
   },
   {
    "duration": 695,
    "start_time": "2022-04-16T21:41:04.547Z"
   },
   {
    "duration": 4,
    "start_time": "2022-04-16T21:41:05.244Z"
   },
   {
    "duration": 869,
    "start_time": "2022-04-16T21:41:05.251Z"
   },
   {
    "duration": 3,
    "start_time": "2022-04-16T21:41:06.122Z"
   },
   {
    "duration": 15,
    "start_time": "2022-04-16T21:41:06.127Z"
   },
   {
    "duration": 197,
    "start_time": "2022-04-16T21:41:06.143Z"
   },
   {
    "duration": 7,
    "start_time": "2022-04-16T21:41:06.341Z"
   },
   {
    "duration": 5,
    "start_time": "2022-04-16T21:41:06.350Z"
   },
   {
    "duration": 5,
    "start_time": "2022-04-16T21:41:06.359Z"
   },
   {
    "duration": 27,
    "start_time": "2022-04-16T21:41:06.366Z"
   },
   {
    "duration": 8,
    "start_time": "2022-04-16T21:41:06.395Z"
   },
   {
    "duration": 7,
    "start_time": "2022-04-16T21:41:06.404Z"
   },
   {
    "duration": 255,
    "start_time": "2022-04-16T21:41:06.412Z"
   },
   {
    "duration": 23,
    "start_time": "2022-04-16T21:41:06.669Z"
   },
   {
    "duration": 6,
    "start_time": "2022-04-16T21:41:06.694Z"
   },
   {
    "duration": 6,
    "start_time": "2022-04-16T21:41:06.702Z"
   },
   {
    "duration": 9,
    "start_time": "2022-04-16T21:41:06.709Z"
   },
   {
    "duration": 480,
    "start_time": "2022-04-16T21:41:06.719Z"
   },
   {
    "duration": 6,
    "start_time": "2022-04-16T21:41:07.200Z"
   },
   {
    "duration": 13,
    "start_time": "2022-04-16T21:41:07.207Z"
   },
   {
    "duration": 1054,
    "start_time": "2022-04-16T21:41:07.221Z"
   },
   {
    "duration": 148,
    "start_time": "2022-04-16T21:41:08.277Z"
   },
   {
    "duration": 20,
    "start_time": "2022-04-16T21:41:08.427Z"
   },
   {
    "duration": 12,
    "start_time": "2022-04-16T21:41:08.449Z"
   },
   {
    "duration": 4,
    "start_time": "2022-04-16T21:41:08.463Z"
   },
   {
    "duration": 7,
    "start_time": "2022-04-16T21:41:08.493Z"
   },
   {
    "duration": 37,
    "start_time": "2022-04-16T21:41:08.503Z"
   },
   {
    "duration": 37,
    "start_time": "2022-04-16T21:41:08.541Z"
   },
   {
    "duration": 3174,
    "start_time": "2022-04-16T21:41:08.580Z"
   },
   {
    "duration": 0,
    "start_time": "2022-04-16T21:41:11.756Z"
   },
   {
    "duration": 0,
    "start_time": "2022-04-16T21:41:11.757Z"
   },
   {
    "duration": 0,
    "start_time": "2022-04-16T21:41:11.759Z"
   },
   {
    "duration": 0,
    "start_time": "2022-04-16T21:41:11.760Z"
   },
   {
    "duration": 0,
    "start_time": "2022-04-16T21:41:11.761Z"
   },
   {
    "duration": 0,
    "start_time": "2022-04-16T21:41:11.763Z"
   },
   {
    "duration": 0,
    "start_time": "2022-04-16T21:41:11.764Z"
   },
   {
    "duration": 0,
    "start_time": "2022-04-16T21:41:11.765Z"
   },
   {
    "duration": 3,
    "start_time": "2022-04-16T21:42:36.823Z"
   },
   {
    "duration": 1582,
    "start_time": "2022-04-16T21:42:43.501Z"
   },
   {
    "duration": 686,
    "start_time": "2022-04-16T21:42:45.086Z"
   },
   {
    "duration": 3,
    "start_time": "2022-04-16T21:42:45.773Z"
   },
   {
    "duration": 868,
    "start_time": "2022-04-16T21:42:45.778Z"
   },
   {
    "duration": 4,
    "start_time": "2022-04-16T21:42:46.647Z"
   },
   {
    "duration": 14,
    "start_time": "2022-04-16T21:42:46.652Z"
   },
   {
    "duration": 190,
    "start_time": "2022-04-16T21:42:46.667Z"
   },
   {
    "duration": 6,
    "start_time": "2022-04-16T21:42:46.858Z"
   },
   {
    "duration": 9,
    "start_time": "2022-04-16T21:42:46.867Z"
   },
   {
    "duration": 13,
    "start_time": "2022-04-16T21:42:46.880Z"
   },
   {
    "duration": 4,
    "start_time": "2022-04-16T21:42:46.895Z"
   },
   {
    "duration": 14,
    "start_time": "2022-04-16T21:42:46.901Z"
   },
   {
    "duration": 7,
    "start_time": "2022-04-16T21:42:46.917Z"
   },
   {
    "duration": 250,
    "start_time": "2022-04-16T21:42:46.926Z"
   },
   {
    "duration": 29,
    "start_time": "2022-04-16T21:42:47.178Z"
   },
   {
    "duration": 7,
    "start_time": "2022-04-16T21:42:47.208Z"
   },
   {
    "duration": 7,
    "start_time": "2022-04-16T21:42:47.217Z"
   },
   {
    "duration": 6,
    "start_time": "2022-04-16T21:42:47.226Z"
   },
   {
    "duration": 465,
    "start_time": "2022-04-16T21:42:47.233Z"
   },
   {
    "duration": 4,
    "start_time": "2022-04-16T21:42:47.700Z"
   },
   {
    "duration": 15,
    "start_time": "2022-04-16T21:42:47.706Z"
   },
   {
    "duration": 1049,
    "start_time": "2022-04-16T21:42:47.722Z"
   },
   {
    "duration": 150,
    "start_time": "2022-04-16T21:42:48.773Z"
   },
   {
    "duration": 22,
    "start_time": "2022-04-16T21:42:48.925Z"
   },
   {
    "duration": 12,
    "start_time": "2022-04-16T21:42:48.948Z"
   },
   {
    "duration": 4,
    "start_time": "2022-04-16T21:42:48.962Z"
   },
   {
    "duration": 33,
    "start_time": "2022-04-16T21:42:48.967Z"
   },
   {
    "duration": 19,
    "start_time": "2022-04-16T21:42:49.005Z"
   },
   {
    "duration": 36,
    "start_time": "2022-04-16T21:42:49.026Z"
   },
   {
    "duration": 158358,
    "start_time": "2022-04-16T21:42:49.092Z"
   },
   {
    "duration": 155673,
    "start_time": "2022-04-16T21:45:27.452Z"
   },
   {
    "duration": 4094,
    "start_time": "2022-04-16T21:48:03.126Z"
   },
   {
    "duration": 3930,
    "start_time": "2022-04-16T21:48:07.222Z"
   },
   {
    "duration": 145,
    "start_time": "2022-04-16T21:48:11.154Z"
   },
   {
    "duration": 296,
    "start_time": "2022-04-16T21:48:11.301Z"
   },
   {
    "duration": 94,
    "start_time": "2022-04-16T21:48:11.600Z"
   },
   {
    "duration": 4124,
    "start_time": "2022-04-16T21:48:11.696Z"
   },
   {
    "duration": 4058,
    "start_time": "2022-04-16T21:48:15.821Z"
   },
   {
    "duration": 3979,
    "start_time": "2022-04-16T22:12:08.376Z"
   }
  ],
  "kernelspec": {
   "display_name": "Python 3 (ipykernel)",
   "language": "python",
   "name": "python3"
  },
  "language_info": {
   "codemirror_mode": {
    "name": "ipython",
    "version": 3
   },
   "file_extension": ".py",
   "mimetype": "text/x-python",
   "name": "python",
   "nbconvert_exporter": "python",
   "pygments_lexer": "ipython3",
   "version": "3.9.7"
  },
  "toc": {
   "base_numbering": 1,
   "nav_menu": {},
   "number_sections": true,
   "sideBar": true,
   "skip_h1_title": true,
   "title_cell": "Содержание",
   "title_sidebar": "Contents",
   "toc_cell": true,
   "toc_position": {
    "height": "calc(100% - 180px)",
    "left": "10px",
    "top": "150px",
    "width": "270.390625px"
   },
   "toc_section_display": true,
   "toc_window_display": true
  }
 },
 "nbformat": 4,
 "nbformat_minor": 2
}
