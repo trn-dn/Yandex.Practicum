{
 "cells": [
  {
   "cell_type": "markdown",
   "metadata": {},
   "source": [
    "# Определение стоимости автомобилей"
   ]
  },
  {
   "cell_type": "markdown",
   "metadata": {},
   "source": [
    "Сервис по продаже автомобилей с пробегом «Не бит, не крашен» разрабатывает приложение для привлечения новых клиентов. В нём можно быстро узнать рыночную стоимость своего автомобиля. В нашем распоряжении исторические данные: технические характеристики, комплектации и цены автомобилей. Нам нужно построить модель для определения стоимости. \n",
    "\n",
    "Заказчику важны:\n",
    "\n",
    "- качество предсказания;\n",
    "- скорость предсказания;\n",
    "- время обучения."
   ]
  },
  {
   "cell_type": "markdown",
   "metadata": {},
   "source": [
    "## Подготовка данных"
   ]
  },
  {
   "cell_type": "markdown",
   "metadata": {},
   "source": [
    "### Загрузка данных"
   ]
  },
  {
   "cell_type": "markdown",
   "metadata": {},
   "source": [
    "Импортируем библиотеки, которые нам понадобятся для дальнейшей работы:"
   ]
  },
  {
   "cell_type": "code",
   "execution_count": 1,
   "metadata": {},
   "outputs": [],
   "source": [
    "import pandas as pd\n",
    "import matplotlib.pyplot as plt\n",
    "import numpy as np\n",
    "from sklearn.model_selection import train_test_split, GridSearchCV\n",
    "from sklearn.preprocessing import StandardScaler\n",
    "from sklearn.metrics import mean_squared_error\n",
    "from sklearn.ensemble import RandomForestRegressor\n",
    "from sklearn.linear_model import LinearRegression\n",
    "from lightgbm import LGBMRegressor\n",
    "from catboost import CatBoostRegressor\n",
    "\n",
    "\n",
    "import warnings\n",
    "warnings.filterwarnings('ignore')"
   ]
  },
  {
   "cell_type": "markdown",
   "metadata": {},
   "source": [
    "Откроем наш датасет. Выведем на экран первые пять объектов, общую информацию о датасете и список характерных значений."
   ]
  },
  {
   "cell_type": "code",
   "execution_count": 2,
   "metadata": {},
   "outputs": [
    {
     "data": {
      "text/html": [
       "<div>\n",
       "<style scoped>\n",
       "    .dataframe tbody tr th:only-of-type {\n",
       "        vertical-align: middle;\n",
       "    }\n",
       "\n",
       "    .dataframe tbody tr th {\n",
       "        vertical-align: top;\n",
       "    }\n",
       "\n",
       "    .dataframe thead th {\n",
       "        text-align: right;\n",
       "    }\n",
       "</style>\n",
       "<table border=\"1\" class=\"dataframe\">\n",
       "  <thead>\n",
       "    <tr style=\"text-align: right;\">\n",
       "      <th></th>\n",
       "      <th>DateCrawled</th>\n",
       "      <th>Price</th>\n",
       "      <th>VehicleType</th>\n",
       "      <th>RegistrationYear</th>\n",
       "      <th>Gearbox</th>\n",
       "      <th>Power</th>\n",
       "      <th>Model</th>\n",
       "      <th>Kilometer</th>\n",
       "      <th>RegistrationMonth</th>\n",
       "      <th>FuelType</th>\n",
       "      <th>Brand</th>\n",
       "      <th>NotRepaired</th>\n",
       "      <th>DateCreated</th>\n",
       "      <th>NumberOfPictures</th>\n",
       "      <th>PostalCode</th>\n",
       "      <th>LastSeen</th>\n",
       "    </tr>\n",
       "  </thead>\n",
       "  <tbody>\n",
       "    <tr>\n",
       "      <th>0</th>\n",
       "      <td>2016-03-24 11:52:17</td>\n",
       "      <td>480</td>\n",
       "      <td>NaN</td>\n",
       "      <td>1993</td>\n",
       "      <td>manual</td>\n",
       "      <td>0</td>\n",
       "      <td>golf</td>\n",
       "      <td>150000</td>\n",
       "      <td>0</td>\n",
       "      <td>petrol</td>\n",
       "      <td>volkswagen</td>\n",
       "      <td>NaN</td>\n",
       "      <td>2016-03-24 00:00:00</td>\n",
       "      <td>0</td>\n",
       "      <td>70435</td>\n",
       "      <td>2016-04-07 03:16:57</td>\n",
       "    </tr>\n",
       "    <tr>\n",
       "      <th>1</th>\n",
       "      <td>2016-03-24 10:58:45</td>\n",
       "      <td>18300</td>\n",
       "      <td>coupe</td>\n",
       "      <td>2011</td>\n",
       "      <td>manual</td>\n",
       "      <td>190</td>\n",
       "      <td>NaN</td>\n",
       "      <td>125000</td>\n",
       "      <td>5</td>\n",
       "      <td>gasoline</td>\n",
       "      <td>audi</td>\n",
       "      <td>yes</td>\n",
       "      <td>2016-03-24 00:00:00</td>\n",
       "      <td>0</td>\n",
       "      <td>66954</td>\n",
       "      <td>2016-04-07 01:46:50</td>\n",
       "    </tr>\n",
       "    <tr>\n",
       "      <th>2</th>\n",
       "      <td>2016-03-14 12:52:21</td>\n",
       "      <td>9800</td>\n",
       "      <td>suv</td>\n",
       "      <td>2004</td>\n",
       "      <td>auto</td>\n",
       "      <td>163</td>\n",
       "      <td>grand</td>\n",
       "      <td>125000</td>\n",
       "      <td>8</td>\n",
       "      <td>gasoline</td>\n",
       "      <td>jeep</td>\n",
       "      <td>NaN</td>\n",
       "      <td>2016-03-14 00:00:00</td>\n",
       "      <td>0</td>\n",
       "      <td>90480</td>\n",
       "      <td>2016-04-05 12:47:46</td>\n",
       "    </tr>\n",
       "    <tr>\n",
       "      <th>3</th>\n",
       "      <td>2016-03-17 16:54:04</td>\n",
       "      <td>1500</td>\n",
       "      <td>small</td>\n",
       "      <td>2001</td>\n",
       "      <td>manual</td>\n",
       "      <td>75</td>\n",
       "      <td>golf</td>\n",
       "      <td>150000</td>\n",
       "      <td>6</td>\n",
       "      <td>petrol</td>\n",
       "      <td>volkswagen</td>\n",
       "      <td>no</td>\n",
       "      <td>2016-03-17 00:00:00</td>\n",
       "      <td>0</td>\n",
       "      <td>91074</td>\n",
       "      <td>2016-03-17 17:40:17</td>\n",
       "    </tr>\n",
       "    <tr>\n",
       "      <th>4</th>\n",
       "      <td>2016-03-31 17:25:20</td>\n",
       "      <td>3600</td>\n",
       "      <td>small</td>\n",
       "      <td>2008</td>\n",
       "      <td>manual</td>\n",
       "      <td>69</td>\n",
       "      <td>fabia</td>\n",
       "      <td>90000</td>\n",
       "      <td>7</td>\n",
       "      <td>gasoline</td>\n",
       "      <td>skoda</td>\n",
       "      <td>no</td>\n",
       "      <td>2016-03-31 00:00:00</td>\n",
       "      <td>0</td>\n",
       "      <td>60437</td>\n",
       "      <td>2016-04-06 10:17:21</td>\n",
       "    </tr>\n",
       "  </tbody>\n",
       "</table>\n",
       "</div>"
      ],
      "text/plain": [
       "           DateCrawled  Price VehicleType  RegistrationYear Gearbox  Power  \\\n",
       "0  2016-03-24 11:52:17    480         NaN              1993  manual      0   \n",
       "1  2016-03-24 10:58:45  18300       coupe              2011  manual    190   \n",
       "2  2016-03-14 12:52:21   9800         suv              2004    auto    163   \n",
       "3  2016-03-17 16:54:04   1500       small              2001  manual     75   \n",
       "4  2016-03-31 17:25:20   3600       small              2008  manual     69   \n",
       "\n",
       "   Model  Kilometer  RegistrationMonth  FuelType       Brand NotRepaired  \\\n",
       "0   golf     150000                  0    petrol  volkswagen         NaN   \n",
       "1    NaN     125000                  5  gasoline        audi         yes   \n",
       "2  grand     125000                  8  gasoline        jeep         NaN   \n",
       "3   golf     150000                  6    petrol  volkswagen          no   \n",
       "4  fabia      90000                  7  gasoline       skoda          no   \n",
       "\n",
       "           DateCreated  NumberOfPictures  PostalCode             LastSeen  \n",
       "0  2016-03-24 00:00:00                 0       70435  2016-04-07 03:16:57  \n",
       "1  2016-03-24 00:00:00                 0       66954  2016-04-07 01:46:50  \n",
       "2  2016-03-14 00:00:00                 0       90480  2016-04-05 12:47:46  \n",
       "3  2016-03-17 00:00:00                 0       91074  2016-03-17 17:40:17  \n",
       "4  2016-03-31 00:00:00                 0       60437  2016-04-06 10:17:21  "
      ]
     },
     "metadata": {},
     "output_type": "display_data"
    },
    {
     "name": "stdout",
     "output_type": "stream",
     "text": [
      "--------------------------------------------------\n",
      "<class 'pandas.core.frame.DataFrame'>\n",
      "RangeIndex: 354369 entries, 0 to 354368\n",
      "Data columns (total 16 columns):\n",
      " #   Column             Non-Null Count   Dtype \n",
      "---  ------             --------------   ----- \n",
      " 0   DateCrawled        354369 non-null  object\n",
      " 1   Price              354369 non-null  int64 \n",
      " 2   VehicleType        316879 non-null  object\n",
      " 3   RegistrationYear   354369 non-null  int64 \n",
      " 4   Gearbox            334536 non-null  object\n",
      " 5   Power              354369 non-null  int64 \n",
      " 6   Model              334664 non-null  object\n",
      " 7   Kilometer          354369 non-null  int64 \n",
      " 8   RegistrationMonth  354369 non-null  int64 \n",
      " 9   FuelType           321474 non-null  object\n",
      " 10  Brand              354369 non-null  object\n",
      " 11  NotRepaired        283215 non-null  object\n",
      " 12  DateCreated        354369 non-null  object\n",
      " 13  NumberOfPictures   354369 non-null  int64 \n",
      " 14  PostalCode         354369 non-null  int64 \n",
      " 15  LastSeen           354369 non-null  object\n",
      "dtypes: int64(7), object(9)\n",
      "memory usage: 43.3+ MB\n",
      "--------------------------------------------------\n"
     ]
    },
    {
     "data": {
      "text/html": [
       "<div>\n",
       "<style scoped>\n",
       "    .dataframe tbody tr th:only-of-type {\n",
       "        vertical-align: middle;\n",
       "    }\n",
       "\n",
       "    .dataframe tbody tr th {\n",
       "        vertical-align: top;\n",
       "    }\n",
       "\n",
       "    .dataframe thead th {\n",
       "        text-align: right;\n",
       "    }\n",
       "</style>\n",
       "<table border=\"1\" class=\"dataframe\">\n",
       "  <thead>\n",
       "    <tr style=\"text-align: right;\">\n",
       "      <th></th>\n",
       "      <th>Price</th>\n",
       "      <th>RegistrationYear</th>\n",
       "      <th>Power</th>\n",
       "      <th>Kilometer</th>\n",
       "      <th>RegistrationMonth</th>\n",
       "      <th>NumberOfPictures</th>\n",
       "      <th>PostalCode</th>\n",
       "    </tr>\n",
       "  </thead>\n",
       "  <tbody>\n",
       "    <tr>\n",
       "      <th>count</th>\n",
       "      <td>354369.000000</td>\n",
       "      <td>354369.000000</td>\n",
       "      <td>354369.000000</td>\n",
       "      <td>354369.000000</td>\n",
       "      <td>354369.000000</td>\n",
       "      <td>354369.0</td>\n",
       "      <td>354369.000000</td>\n",
       "    </tr>\n",
       "    <tr>\n",
       "      <th>mean</th>\n",
       "      <td>4416.656776</td>\n",
       "      <td>2004.234448</td>\n",
       "      <td>110.094337</td>\n",
       "      <td>128211.172535</td>\n",
       "      <td>5.714645</td>\n",
       "      <td>0.0</td>\n",
       "      <td>50508.689087</td>\n",
       "    </tr>\n",
       "    <tr>\n",
       "      <th>std</th>\n",
       "      <td>4514.158514</td>\n",
       "      <td>90.227958</td>\n",
       "      <td>189.850405</td>\n",
       "      <td>37905.341530</td>\n",
       "      <td>3.726421</td>\n",
       "      <td>0.0</td>\n",
       "      <td>25783.096248</td>\n",
       "    </tr>\n",
       "    <tr>\n",
       "      <th>min</th>\n",
       "      <td>0.000000</td>\n",
       "      <td>1000.000000</td>\n",
       "      <td>0.000000</td>\n",
       "      <td>5000.000000</td>\n",
       "      <td>0.000000</td>\n",
       "      <td>0.0</td>\n",
       "      <td>1067.000000</td>\n",
       "    </tr>\n",
       "    <tr>\n",
       "      <th>25%</th>\n",
       "      <td>1050.000000</td>\n",
       "      <td>1999.000000</td>\n",
       "      <td>69.000000</td>\n",
       "      <td>125000.000000</td>\n",
       "      <td>3.000000</td>\n",
       "      <td>0.0</td>\n",
       "      <td>30165.000000</td>\n",
       "    </tr>\n",
       "    <tr>\n",
       "      <th>50%</th>\n",
       "      <td>2700.000000</td>\n",
       "      <td>2003.000000</td>\n",
       "      <td>105.000000</td>\n",
       "      <td>150000.000000</td>\n",
       "      <td>6.000000</td>\n",
       "      <td>0.0</td>\n",
       "      <td>49413.000000</td>\n",
       "    </tr>\n",
       "    <tr>\n",
       "      <th>75%</th>\n",
       "      <td>6400.000000</td>\n",
       "      <td>2008.000000</td>\n",
       "      <td>143.000000</td>\n",
       "      <td>150000.000000</td>\n",
       "      <td>9.000000</td>\n",
       "      <td>0.0</td>\n",
       "      <td>71083.000000</td>\n",
       "    </tr>\n",
       "    <tr>\n",
       "      <th>max</th>\n",
       "      <td>20000.000000</td>\n",
       "      <td>9999.000000</td>\n",
       "      <td>20000.000000</td>\n",
       "      <td>150000.000000</td>\n",
       "      <td>12.000000</td>\n",
       "      <td>0.0</td>\n",
       "      <td>99998.000000</td>\n",
       "    </tr>\n",
       "  </tbody>\n",
       "</table>\n",
       "</div>"
      ],
      "text/plain": [
       "               Price  RegistrationYear          Power      Kilometer  \\\n",
       "count  354369.000000     354369.000000  354369.000000  354369.000000   \n",
       "mean     4416.656776       2004.234448     110.094337  128211.172535   \n",
       "std      4514.158514         90.227958     189.850405   37905.341530   \n",
       "min         0.000000       1000.000000       0.000000    5000.000000   \n",
       "25%      1050.000000       1999.000000      69.000000  125000.000000   \n",
       "50%      2700.000000       2003.000000     105.000000  150000.000000   \n",
       "75%      6400.000000       2008.000000     143.000000  150000.000000   \n",
       "max     20000.000000       9999.000000   20000.000000  150000.000000   \n",
       "\n",
       "       RegistrationMonth  NumberOfPictures     PostalCode  \n",
       "count      354369.000000          354369.0  354369.000000  \n",
       "mean            5.714645               0.0   50508.689087  \n",
       "std             3.726421               0.0   25783.096248  \n",
       "min             0.000000               0.0    1067.000000  \n",
       "25%             3.000000               0.0   30165.000000  \n",
       "50%             6.000000               0.0   49413.000000  \n",
       "75%             9.000000               0.0   71083.000000  \n",
       "max            12.000000               0.0   99998.000000  "
      ]
     },
     "execution_count": 2,
     "metadata": {},
     "output_type": "execute_result"
    }
   ],
   "source": [
    "df = pd.read_csv('/datasets/autos.csv')\n",
    "pd.options.display.max_columns = None\n",
    "\n",
    "display(df.head())\n",
    "print('--------------------------------------------------')\n",
    "df.info()\n",
    "print('--------------------------------------------------')\n",
    "df.describe()"
   ]
  },
  {
   "cell_type": "markdown",
   "metadata": {},
   "source": [
    "Согласно документации к данным:\n",
    "\n",
    "**Признаки**\n",
    "- `DateCrawled` — дата скачивания анкеты из базы\n",
    "- `VehicleType` — тип автомобильного кузова\n",
    "- `RegistrationYear` — год регистрации автомобиля\n",
    "- `Gearbox` — тип коробки передач\n",
    "- `Power` — мощность (л. с.)\n",
    "- `Model` — модель автомобиля\n",
    "- `Kilometer` — пробег (км)\n",
    "- `RegistrationMonth` — месяц регистрации автомобиля\n",
    "- `FuelType` — тип топлива\n",
    "- `Brand` — марка автомобиля\n",
    "- `NotRepaired` — была машина в ремонте или нет\n",
    "- `DateCreated` — дата создания анкеты\n",
    "- `NumberOfPictures` — количество фотографий автомобиля\n",
    "- `PostalCode` — почтовый индекс владельца анкеты (пользователя)\n",
    "- `LastSeen` — дата последней активности пользователя\n",
    "\n",
    "**Целевой признак**\n",
    "- `Price` — цена (евро)"
   ]
  },
  {
   "cell_type": "markdown",
   "metadata": {},
   "source": [
    "В результате первоначального ознакомления с датасетом, мы можем отметить, что датасет состоит из 354369 объектов и 16 признаков. Столбец `Price` будет являться целевым признаком. Т. к. признак количесвтенный, то будет решаться задача регрессии. \n",
    "\n",
    "Далее проведем предобработку данных. "
   ]
  },
  {
   "cell_type": "markdown",
   "metadata": {},
   "source": [
    "### Предобработка данных"
   ]
  },
  {
   "cell_type": "markdown",
   "metadata": {},
   "source": [
    "Для начала проверим наши данные на дубликаты:"
   ]
  },
  {
   "cell_type": "code",
   "execution_count": 3,
   "metadata": {},
   "outputs": [
    {
     "data": {
      "text/plain": [
       "4"
      ]
     },
     "execution_count": 3,
     "metadata": {},
     "output_type": "execute_result"
    }
   ],
   "source": [
    "df.duplicated().sum()"
   ]
  },
  {
   "cell_type": "markdown",
   "metadata": {},
   "source": [
    "Обнаружено 4 дубликата. Удалим их. "
   ]
  },
  {
   "cell_type": "code",
   "execution_count": 4,
   "metadata": {},
   "outputs": [],
   "source": [
    "df = df.drop_duplicates().reset_index(drop=True)"
   ]
  },
  {
   "cell_type": "markdown",
   "metadata": {},
   "source": [
    "Далее удалим столбцы (признаки), которые не будут влиять на прогнозирование стоимости автомобиля."
   ]
  },
  {
   "cell_type": "code",
   "execution_count": 5,
   "metadata": {},
   "outputs": [],
   "source": [
    "df = df.drop(['DateCrawled', 'RegistrationMonth', 'DateCreated', 'NumberOfPictures', 'PostalCode', 'LastSeen'], axis = 1)"
   ]
  },
  {
   "cell_type": "markdown",
   "metadata": {},
   "source": [
    "Следующим шагом проверим наш датасет на пропуски"
   ]
  },
  {
   "cell_type": "code",
   "execution_count": 6,
   "metadata": {},
   "outputs": [
    {
     "data": {
      "text/plain": [
       "Price                   0\n",
       "VehicleType         37490\n",
       "RegistrationYear        0\n",
       "Gearbox             19833\n",
       "Power                   0\n",
       "Model               19705\n",
       "Kilometer               0\n",
       "FuelType            32895\n",
       "Brand                   0\n",
       "NotRepaired         71154\n",
       "dtype: int64"
      ]
     },
     "execution_count": 6,
     "metadata": {},
     "output_type": "execute_result"
    }
   ],
   "source": [
    "df.isna().sum()"
   ]
  },
  {
   "cell_type": "markdown",
   "metadata": {},
   "source": [
    "Удалим из датасета строки, где встречаются 3 и более NaN, тк такие данные будет сложно восстановить. "
   ]
  },
  {
   "cell_type": "code",
   "execution_count": 7,
   "metadata": {},
   "outputs": [],
   "source": [
    "df = df.dropna(subset=['VehicleType', 'Gearbox', 'Model', 'FuelType'], thresh=3, axis=0)"
   ]
  },
  {
   "cell_type": "code",
   "execution_count": 8,
   "metadata": {
    "scrolled": true
   },
   "outputs": [
    {
     "data": {
      "text/plain": [
       "Price                   0\n",
       "VehicleType         15102\n",
       "RegistrationYear        0\n",
       "Gearbox              7125\n",
       "Power                   0\n",
       "Model                9439\n",
       "Kilometer               0\n",
       "FuelType            11132\n",
       "Brand                   0\n",
       "NotRepaired         55104\n",
       "dtype: int64"
      ]
     },
     "execution_count": 8,
     "metadata": {},
     "output_type": "execute_result"
    }
   ],
   "source": [
    "df.isna().sum()"
   ]
  },
  {
   "cell_type": "markdown",
   "metadata": {},
   "source": [
    "Пропусков стало заметно меньше."
   ]
  },
  {
   "cell_type": "markdown",
   "metadata": {},
   "source": [
    "Далее пройдёмся по каждому признаку и подготовим к дальнейшей работе"
   ]
  },
  {
   "cell_type": "markdown",
   "metadata": {},
   "source": [
    "**Price**"
   ]
  },
  {
   "cell_type": "markdown",
   "metadata": {},
   "source": [
    "В данном столбце пропусков нет. Тип данных корректен. Проверим на выбросы. "
   ]
  },
  {
   "cell_type": "code",
   "execution_count": 9,
   "metadata": {},
   "outputs": [
    {
     "data": {
      "image/png": "[encoded data removed]",
      "text/plain": [
       "<Figure size 432x288 with 1 Axes>"
      ]
     },
     "metadata": {
      "needs_background": "light"
     },
     "output_type": "display_data"
    }
   ],
   "source": [
    "df['Price'].hist(bins=100)\n",
    "plt.show()"
   ]
  },
  {
   "cell_type": "markdown",
   "metadata": {},
   "source": [
    "Видим, что что присутствуют аномальные выбросы со значением 0. Также стоит отметить, что присутсвуют значения с низкой ценой, что не может соответсовать корректной цене автомобиля. Примем нижнюю границы корректной цены за 100. Предположим, что за такую цену выставляют самые \"плохие\" варианты. "
   ]
  },
  {
   "cell_type": "code",
   "execution_count": 10,
   "metadata": {},
   "outputs": [
    {
     "data": {
      "text/plain": [
       "9526"
      ]
     },
     "execution_count": 10,
     "metadata": {},
     "output_type": "execute_result"
    }
   ],
   "source": [
    "len(df[df['Price'] <= 100])   #количество строк со значением 0 в стролбце Price"
   ]
  },
  {
   "cell_type": "markdown",
   "metadata": {},
   "source": [
    "Т.к. данный признак является целевым, удалим данные выбросы. "
   ]
  },
  {
   "cell_type": "code",
   "execution_count": 11,
   "metadata": {},
   "outputs": [],
   "source": [
    "df = df.loc[df['Price'] > 100]"
   ]
  },
  {
   "cell_type": "markdown",
   "metadata": {},
   "source": [
    "**VehicleType**"
   ]
  },
  {
   "cell_type": "markdown",
   "metadata": {},
   "source": [
    "Для восстановления пропусков в столбцe, мы можем восстановить данные по моде, сгруппировав `Model` и `Brand`. Но в столбце `Model` присутсвуют пропуски, что не даст нам выполнить данное действие. Пропуски в моделе машины составляют всего 3 % от всего датасета, поэтому следующим действием мы их удалим, а далее уже восстановим пропуски в `VehicleType`."
   ]
  },
  {
   "cell_type": "code",
   "execution_count": 12,
   "metadata": {},
   "outputs": [],
   "source": [
    "df = df[df['Model'].isna() == False]"
   ]
  },
  {
   "cell_type": "code",
   "execution_count": 13,
   "metadata": {},
   "outputs": [],
   "source": [
    "df['VehicleType'] = df['VehicleType'].fillna(df.groupby(['Model', 'Brand'])['VehicleType'].transform(lambda x: x.mode()[0] if not x.mode().empty else np.nan))"
   ]
  },
  {
   "cell_type": "markdown",
   "metadata": {},
   "source": [
    "**RegistrationYear**"
   ]
  },
  {
   "cell_type": "markdown",
   "metadata": {},
   "source": [
    "В данном столбце пропусков нет. Тип данных корректен. Проверим на выбросы. "
   ]
  },
  {
   "cell_type": "code",
   "execution_count": 14,
   "metadata": {},
   "outputs": [
    {
     "data": {
      "text/plain": [
       "(2000.0, 2166.667]      202812\n",
       "(1833.333, 2000.0]      105813\n",
       "(4833.333, 5000.0]           5\n",
       "(994.999, 1166.667]          1\n",
       "(3666.667, 3833.333]         1\n",
       "(2833.333, 3000.0]           1\n",
       "(5833.333, 6000.0]           1\n",
       "(1333.333, 1500.0]           1\n",
       "(1500.0, 1666.667]           1\n",
       "(2166.667, 2333.333]         0\n",
       "(4166.667, 4333.333]         0\n",
       "(5666.667, 5833.333]         0\n",
       "(5500.0, 5666.667]           0\n",
       "(5333.333, 5500.0]           0\n",
       "(5166.667, 5333.333]         0\n",
       "(5000.0, 5166.667]           0\n",
       "(4666.667, 4833.333]         0\n",
       "(4500.0, 4666.667]           0\n",
       "(4333.333, 4500.0]           0\n",
       "(4000.0, 4166.667]           0\n",
       "(2333.333, 2500.0]           0\n",
       "(3833.333, 4000.0]           0\n",
       "(1166.667, 1333.333]         0\n",
       "(3333.333, 3500.0]           0\n",
       "(3166.667, 3333.333]         0\n",
       "(3000.0, 3166.667]           0\n",
       "(1666.667, 1833.333]         0\n",
       "(2666.667, 2833.333]         0\n",
       "(2500.0, 2666.667]           0\n",
       "(3500.0, 3666.667]           0\n",
       "Name: RegistrationYear, dtype: int64"
      ]
     },
     "execution_count": 14,
     "metadata": {},
     "output_type": "execute_result"
    }
   ],
   "source": [
    "df['RegistrationYear'].value_counts(bins=30)"
   ]
  },
  {
   "cell_type": "markdown",
   "metadata": {},
   "source": [
    "Видим выбросы. Для нижней границы, если год регистрации автомобиля меньше 1916г. Для верхней границы возьмём 2020г."
   ]
  },
  {
   "cell_type": "code",
   "execution_count": 15,
   "metadata": {},
   "outputs": [],
   "source": [
    "df = df.loc[df['RegistrationYear'] < 2016]\n",
    "df = df.loc[df['RegistrationYear'] > 1970]"
   ]
  },
  {
   "cell_type": "markdown",
   "metadata": {},
   "source": [
    "**Gearbox**"
   ]
  },
  {
   "cell_type": "markdown",
   "metadata": {},
   "source": [
    "Заменим пропуски аналогично как мы это делали с типом кузова. Также изменим тип данных на булевой."
   ]
  },
  {
   "cell_type": "code",
   "execution_count": 16,
   "metadata": {},
   "outputs": [
    {
     "data": {
      "text/plain": [
       "manual    231362\n",
       "auto       58825\n",
       "Name: Gearbox, dtype: int64"
      ]
     },
     "execution_count": 16,
     "metadata": {},
     "output_type": "execute_result"
    }
   ],
   "source": [
    "df['Gearbox'].value_counts()"
   ]
  },
  {
   "cell_type": "code",
   "execution_count": 17,
   "metadata": {},
   "outputs": [],
   "source": [
    "df['Gearbox'] = df['Gearbox'].fillna(df.groupby(['Model', 'Brand'])['Gearbox'].transform(lambda x: x.mode()[0] if not x.mode().empty else np.nan))"
   ]
  },
  {
   "cell_type": "code",
   "execution_count": 18,
   "metadata": {},
   "outputs": [],
   "source": [
    "df['Gearbox'] = df['Gearbox'].map({'auto':1, 'manual':0}).astype(int)"
   ]
  },
  {
   "cell_type": "markdown",
   "metadata": {},
   "source": [
    "**Power**"
   ]
  },
  {
   "cell_type": "markdown",
   "metadata": {},
   "source": [
    "В данном столбце пропусков нет. Тип данных корректен. Проверим на выбросы."
   ]
  },
  {
   "cell_type": "code",
   "execution_count": 19,
   "metadata": {},
   "outputs": [
    {
     "data": {
      "image/png": "[encoded data removed]",
      "text/plain": [
       "<Figure size 432x288 with 1 Axes>"
      ]
     },
     "metadata": {
      "needs_background": "light"
     },
     "output_type": "display_data"
    }
   ],
   "source": [
    "df['Power'].hist(bins=100, range=(0, 1000))\n",
    "plt.show()"
   ]
  },
  {
   "cell_type": "markdown",
   "metadata": {},
   "source": [
    "По гистограмме установим верхнюю границу в 450. Также мощность меньше 50 будем считать выбросами. Удалим данные выбросы, тк размер выборки позволяет. "
   ]
  },
  {
   "cell_type": "code",
   "execution_count": 20,
   "metadata": {},
   "outputs": [],
   "source": [
    "df = df.loc[df['Power'] < 450]\n",
    "df = df.loc[df['Power'] > 50]"
   ]
  },
  {
   "cell_type": "markdown",
   "metadata": {},
   "source": [
    "Посмотри на оставшиеся пропуски в столбйе `Power`. "
   ]
  },
  {
   "cell_type": "code",
   "execution_count": 22,
   "metadata": {},
   "outputs": [
    {
     "data": {
      "text/html": [
       "<div>\n",
       "<style scoped>\n",
       "    .dataframe tbody tr th:only-of-type {\n",
       "        vertical-align: middle;\n",
       "    }\n",
       "\n",
       "    .dataframe tbody tr th {\n",
       "        vertical-align: top;\n",
       "    }\n",
       "\n",
       "    .dataframe thead th {\n",
       "        text-align: right;\n",
       "    }\n",
       "</style>\n",
       "<table border=\"1\" class=\"dataframe\">\n",
       "  <thead>\n",
       "    <tr style=\"text-align: right;\">\n",
       "      <th></th>\n",
       "      <th>Price</th>\n",
       "      <th>VehicleType</th>\n",
       "      <th>RegistrationYear</th>\n",
       "      <th>Gearbox</th>\n",
       "      <th>Power</th>\n",
       "      <th>Model</th>\n",
       "      <th>Kilometer</th>\n",
       "      <th>FuelType</th>\n",
       "      <th>Brand</th>\n",
       "      <th>NotRepaired</th>\n",
       "    </tr>\n",
       "  </thead>\n",
       "  <tbody>\n",
       "  </tbody>\n",
       "</table>\n",
       "</div>"
      ],
      "text/plain": [
       "Empty DataFrame\n",
       "Columns: [Price, VehicleType, RegistrationYear, Gearbox, Power, Model, Kilometer, FuelType, Brand, NotRepaired]\n",
       "Index: []"
      ]
     },
     "execution_count": 22,
     "metadata": {},
     "output_type": "execute_result"
    }
   ],
   "source": [
    "df[df['Power'].isna() == True]"
   ]
  },
  {
   "cell_type": "markdown",
   "metadata": {},
   "source": [
    "Всего лишь один пропуск. Его можно смело удалить!"
   ]
  },
  {
   "cell_type": "code",
   "execution_count": 23,
   "metadata": {},
   "outputs": [],
   "source": [
    "df = df.dropna(axis='index', how='any', subset=['Power'])"
   ]
  },
  {
   "cell_type": "markdown",
   "metadata": {},
   "source": [
    "**Model**"
   ]
  },
  {
   "cell_type": "markdown",
   "metadata": {},
   "source": [
    "Пропусков в данном столбце нет. Мы это сделали чуть выше. Тип данных корректен. Посмотрим на возможные значения."
   ]
  },
  {
   "cell_type": "code",
   "execution_count": 24,
   "metadata": {},
   "outputs": [
    {
     "data": {
      "text/plain": [
       "array(['100', '145', '147', '156', '159', '1_reihe', '1er', '200',\n",
       "       '2_reihe', '300c', '3_reihe', '3er', '4_reihe', '500', '5_reihe',\n",
       "       '5er', '6_reihe', '6er', '7er', '80', '850', '90', '900', '9000',\n",
       "       '911', 'a1', 'a2', 'a3', 'a4', 'a5', 'a6', 'a8', 'a_klasse',\n",
       "       'accord', 'agila', 'alhambra', 'almera', 'altea', 'amarok',\n",
       "       'antara', 'arosa', 'astra', 'auris', 'avensis', 'aveo', 'aygo',\n",
       "       'b_klasse', 'b_max', 'beetle', 'berlingo', 'bora', 'boxster',\n",
       "       'bravo', 'c1', 'c2', 'c3', 'c4', 'c5', 'c_klasse', 'c_max',\n",
       "       'c_reihe', 'caddy', 'calibra', 'captiva', 'carisma', 'carnival',\n",
       "       'cayenne', 'cc', 'ceed', 'charade', 'cherokee', 'citigo', 'civic',\n",
       "       'cl', 'clio', 'clk', 'clubman', 'colt', 'combo', 'cooper',\n",
       "       'cordoba', 'corolla', 'corsa', 'cr_reihe', 'croma', 'crossfire',\n",
       "       'cuore', 'cx_reihe', 'defender', 'delta', 'discovery', 'doblo',\n",
       "       'ducato', 'duster', 'e_klasse', 'elefantino', 'eos', 'escort',\n",
       "       'espace', 'exeo', 'fabia', 'fiesta', 'focus', 'forester',\n",
       "       'forfour', 'fortwo', 'fox', 'freelander', 'fusion', 'g_klasse',\n",
       "       'galant', 'galaxy', 'getz', 'gl', 'glk', 'golf', 'grand', 'i3',\n",
       "       'i_reihe', 'ibiza', 'impreza', 'insignia', 'jazz', 'jetta',\n",
       "       'jimny', 'juke', 'justy', 'ka', 'kadett', 'kaefer', 'kalina',\n",
       "       'kalos', 'kangoo', 'kappa', 'kuga', 'laguna', 'lancer', 'lanos',\n",
       "       'legacy', 'leon', 'lodgy', 'logan', 'lupo', 'lybra', 'm_klasse',\n",
       "       'm_reihe', 'materia', 'matiz', 'megane', 'meriva', 'micra', 'mii',\n",
       "       'modus', 'mondeo', 'move', 'musa', 'mustang', 'mx_reihe', 'navara',\n",
       "       'niva', 'note', 'nubira', 'octavia', 'omega', 'one', 'other',\n",
       "       'outlander', 'pajero', 'panda', 'passat', 'phaeton', 'picanto',\n",
       "       'polo', 'primera', 'ptcruiser', 'punto', 'q3', 'q5', 'q7',\n",
       "       'qashqai', 'r19', 'range_rover', 'range_rover_evoque',\n",
       "       'range_rover_sport', 'rangerover', 'rav', 'rio', 'roadster',\n",
       "       'roomster', 'rx_reihe', 's60', 's_klasse', 's_max', 's_type',\n",
       "       'samara', 'sandero', 'santa', 'scenic', 'scirocco', 'seicento',\n",
       "       'serie_2', 'serie_3', 'sharan', 'signum', 'sirion', 'sl', 'slk',\n",
       "       'sorento', 'spark', 'spider', 'sportage', 'sprinter', 'stilo',\n",
       "       'superb', 'swift', 'terios', 'tigra', 'tiguan', 'toledo',\n",
       "       'touareg', 'touran', 'transit', 'transporter', 'tt', 'tucson',\n",
       "       'twingo', 'up', 'v40', 'v50', 'v60', 'v70', 'v_klasse', 'vectra',\n",
       "       'verso', 'viano', 'vito', 'vivaro', 'voyager', 'wrangler',\n",
       "       'x_reihe', 'x_trail', 'x_type', 'xc_reihe', 'yaris', 'yeti',\n",
       "       'ypsilon', 'z_reihe', 'zafira'], dtype=object)"
      ]
     },
     "execution_count": 24,
     "metadata": {},
     "output_type": "execute_result"
    }
   ],
   "source": [
    "df['Model'].sort_values().unique()"
   ]
  },
  {
   "cell_type": "markdown",
   "metadata": {},
   "source": [
    "С данным признаком всё в порядке"
   ]
  },
  {
   "cell_type": "markdown",
   "metadata": {},
   "source": [
    "**Kilometer**"
   ]
  },
  {
   "cell_type": "markdown",
   "metadata": {},
   "source": [
    "В данном столбце пропусков нет. Тип данных корректен. Проверим на выбросы."
   ]
  },
  {
   "cell_type": "code",
   "execution_count": 25,
   "metadata": {},
   "outputs": [
    {
     "data": {
      "text/plain": [
       "(4854.999, 19500.0]       2753\n",
       "(19500.0, 34000.0]        6528\n",
       "(34000.0, 48500.0]        4206\n",
       "(48500.0, 63000.0]       11664\n",
       "(63000.0, 77500.0]        7236\n",
       "(77500.0, 92000.0]       17833\n",
       "(92000.0, 106500.0]      11632\n",
       "(106500.0, 121000.0]         0\n",
       "(121000.0, 135500.0]     28957\n",
       "(135500.0, 150000.0]    176249\n",
       "Name: Kilometer, dtype: int64"
      ]
     },
     "execution_count": 25,
     "metadata": {},
     "output_type": "execute_result"
    }
   ],
   "source": [
    "df['Kilometer'].value_counts(bins=10).sort_index()"
   ]
  },
  {
   "cell_type": "markdown",
   "metadata": {},
   "source": [
    "По пробегу данные выглядят в порядке."
   ]
  },
  {
   "cell_type": "markdown",
   "metadata": {},
   "source": [
    "**FuelType**"
   ]
  },
  {
   "cell_type": "markdown",
   "metadata": {},
   "source": [
    "Восстановим пропуски в `FuelType` аналогично как мы это делали с `VehicleType` и `Gearbox`. "
   ]
  },
  {
   "cell_type": "code",
   "execution_count": 26,
   "metadata": {},
   "outputs": [],
   "source": [
    "df['FuelType'] = df['FuelType'].fillna(df.groupby(['Model', 'Brand'])['FuelType'].transform(lambda x: x.mode()[0] if not x.mode().empty else np.nan))"
   ]
  },
  {
   "cell_type": "markdown",
   "metadata": {},
   "source": [
    "Далее  посмотрим на возможные значения в данном столбце."
   ]
  },
  {
   "cell_type": "code",
   "execution_count": 27,
   "metadata": {},
   "outputs": [
    {
     "data": {
      "text/plain": [
       "petrol      175984\n",
       "gasoline     86036\n",
       "lpg           4334\n",
       "cng            456\n",
       "hybrid         174\n",
       "other           44\n",
       "electric        30\n",
       "Name: FuelType, dtype: int64"
      ]
     },
     "execution_count": 27,
     "metadata": {},
     "output_type": "execute_result"
    }
   ],
   "source": [
    "df['FuelType'].value_counts()"
   ]
  },
  {
   "cell_type": "markdown",
   "metadata": {},
   "source": [
    "Стоит отметить, что `gasoline` и `petrol` по факту обозначают одно и тодже - бензин. Просто первый используется в американском английском, а второй - британском. Заменим значения `gasoline` на `petrol`. "
   ]
  },
  {
   "cell_type": "code",
   "execution_count": 28,
   "metadata": {},
   "outputs": [],
   "source": [
    "df['FuelType'] = df['FuelType'].replace('gasoline', 'petrol')"
   ]
  },
  {
   "cell_type": "markdown",
   "metadata": {},
   "source": [
    "**Brand**"
   ]
  },
  {
   "cell_type": "markdown",
   "metadata": {},
   "source": [
    "Пропусков в данном столбце нет. Мы это сделали чуть выше. Тип данных корректен. Посмотрим на возможные значения."
   ]
  },
  {
   "cell_type": "code",
   "execution_count": 29,
   "metadata": {},
   "outputs": [
    {
     "data": {
      "text/plain": [
       "array(['alfa_romeo', 'audi', 'bmw', 'chevrolet', 'chrysler', 'citroen',\n",
       "       'dacia', 'daewoo', 'daihatsu', 'fiat', 'ford', 'honda', 'hyundai',\n",
       "       'jaguar', 'jeep', 'kia', 'lada', 'lancia', 'land_rover', 'mazda',\n",
       "       'mercedes_benz', 'mini', 'mitsubishi', 'nissan', 'opel', 'peugeot',\n",
       "       'porsche', 'renault', 'rover', 'saab', 'seat', 'skoda', 'smart',\n",
       "       'subaru', 'suzuki', 'toyota', 'trabant', 'volkswagen', 'volvo'],\n",
       "      dtype=object)"
      ]
     },
     "execution_count": 29,
     "metadata": {},
     "output_type": "execute_result"
    }
   ],
   "source": [
    "df['Brand'].sort_values().unique()"
   ]
  },
  {
   "cell_type": "markdown",
   "metadata": {},
   "source": [
    "С данными всё в порядке."
   ]
  },
  {
   "cell_type": "markdown",
   "metadata": {},
   "source": [
    "**NotRepaired**"
   ]
  },
  {
   "cell_type": "markdown",
   "metadata": {},
   "source": [
    "Прежде чем заменять пропуски, посмотрим какой процент они составляют от всего признака."
   ]
  },
  {
   "cell_type": "code",
   "execution_count": 30,
   "metadata": {},
   "outputs": [
    {
     "data": {
      "text/plain": [
       "no     0.783332\n",
       "NaN    0.124333\n",
       "yes    0.092336\n",
       "Name: NotRepaired, dtype: float64"
      ]
     },
     "execution_count": 30,
     "metadata": {},
     "output_type": "execute_result"
    }
   ],
   "source": [
    "df['NotRepaired'].value_counts(dropna=False, normalize=True)"
   ]
  },
  {
   "cell_type": "markdown",
   "metadata": {},
   "source": [
    "Получилось, что ~ 16% пропусков. Мы не можем утверждать, что 16% человек просто забыли отметить ремонт автомобиля. Поэтому в данным случае отметим пропуски словом маркером `unknown`."
   ]
  },
  {
   "cell_type": "code",
   "execution_count": 31,
   "metadata": {},
   "outputs": [],
   "source": [
    "df['NotRepaired'] = df['NotRepaired'].fillna('unknown')"
   ]
  },
  {
   "cell_type": "markdown",
   "metadata": {},
   "source": [
    "В результате данного пункта мы первично ознакомились с нашим датасетом. Сделали предобработку данных для дальнейшего обучения моделей: заполнили пропуски, проверили данные на выбросы и скорректировали их. Также проверили наши данные на дубликаты и удалили лишние признаки, которые не будут влиять на дальнейшее обучение моделей. "
   ]
  },
  {
   "cell_type": "markdown",
   "metadata": {},
   "source": [
    "## Обучение моделей"
   ]
  },
  {
   "cell_type": "markdown",
   "metadata": {},
   "source": [
    "Далее расммотрим три модели:\n",
    "\n",
    "- RandomForestRegressor\n",
    "- LinearRegression\n",
    "- LightGBM\n",
    "- CatBoost"
   ]
  },
  {
   "cell_type": "markdown",
   "metadata": {},
   "source": [
    "Но для начала надо подготовить наш датасет к обучению. "
   ]
  },
  {
   "cell_type": "markdown",
   "metadata": {},
   "source": [
    "### Кодирование, деление и стандартизация выборки"
   ]
  },
  {
   "cell_type": "markdown",
   "metadata": {},
   "source": [
    "Как известно LightGBM и Catboost работают с категориальными признаками, а вот для LinearRegression требуется кодирование и стандартизация. "
   ]
  },
  {
   "cell_type": "markdown",
   "metadata": {},
   "source": [
    "Закодиурем наши категориальные признаки, используя Ohe-Hot Encoding (прямое кодирование)."
   ]
  },
  {
   "cell_type": "code",
   "execution_count": 32,
   "metadata": {},
   "outputs": [],
   "source": [
    "df_ohe = pd.get_dummies(df, drop_first=True)"
   ]
  },
  {
   "cell_type": "markdown",
   "metadata": {},
   "source": [
    "Далее выделим целевой признак и разделим наши выборки на обучающую и тестовую в отношении 3:1."
   ]
  },
  {
   "cell_type": "code",
   "execution_count": 33,
   "metadata": {},
   "outputs": [],
   "source": [
    "target = df['Price']\n",
    "features = df.drop(['Price'], axis=1)\n",
    "\n",
    "target_ohe = df_ohe['Price']\n",
    "features_ohe = df_ohe.drop(['Price'], axis=1)\n",
    "\n",
    "features_train, features_test, target_train, target_test = train_test_split(features, \n",
    "                                                                             target, \n",
    "                                                                             test_size=0.25, \n",
    "                                                                             random_state=12345)\n",
    "\n",
    "features_train_ohe, features_test_ohe, target_train_ohe, target_test_ohe = train_test_split(features_ohe, \n",
    "                                                                             target_ohe, \n",
    "                                                                             test_size=0.25, \n",
    "                                                                             random_state=12345)"
   ]
  },
  {
   "cell_type": "markdown",
   "metadata": {},
   "source": [
    "Т.к. в данных присутствуют количественные признаки с разными разбросами значений, то следует привести эти признаки к одному масштабу. Один из методов масштабирования - стандартизация данных. Применем его."
   ]
  },
  {
   "cell_type": "code",
   "execution_count": 34,
   "metadata": {},
   "outputs": [],
   "source": [
    "numeric = ['RegistrationYear', 'Power', 'Kilometer']\n",
    "\n",
    "scaler = StandardScaler()\n",
    "scaler.fit(features_train_ohe[numeric])\n",
    "\n",
    "features_train_ohe[numeric] = scaler.transform(features_train_ohe[numeric])\n",
    "features_test_ohe[numeric] = scaler.transform(features_test_ohe[numeric])\n",
    "\n",
    "pd.options.mode.chained_assignment = None"
   ]
  },
  {
   "cell_type": "markdown",
   "metadata": {},
   "source": [
    "Далее можем приступать к обучению моделей"
   ]
  },
  {
   "cell_type": "markdown",
   "metadata": {},
   "source": [
    "### Обучение моделей"
   ]
  },
  {
   "cell_type": "markdown",
   "metadata": {},
   "source": [
    "**RandomForestRegressor**"
   ]
  },
  {
   "cell_type": "code",
   "execution_count": 35,
   "metadata": {},
   "outputs": [],
   "source": [
    "model_ran_for_reg = RandomForestRegressor(random_state=12345)\n",
    "parametrs_ran_for_reg = { 'max_depth': range (3, 8),\n",
    "                          'n_estimators': range (1, 33, 8)}\n",
    "grid_ran_for_reg = GridSearchCV(model_ran_for_reg, parametrs_ran_for_reg, cv=5)"
   ]
  },
  {
   "cell_type": "code",
   "execution_count": 36,
   "metadata": {},
   "outputs": [
    {
     "name": "stdout",
     "output_type": "stream",
     "text": [
      "best_params_ {'max_depth': 7, 'n_estimators': 25}\n",
      "CPU times: user 21min 24s, sys: 24.3 s, total: 21min 48s\n",
      "Wall time: 21min 50s\n"
     ]
    }
   ],
   "source": [
    "%%time\n",
    "grid_ran_for_reg.fit(features_train_ohe, target_train_ohe)\n",
    "\n",
    "print ('best_params_' ,grid_ran_for_reg.best_params_)"
   ]
  },
  {
   "cell_type": "code",
   "execution_count": 37,
   "metadata": {},
   "outputs": [
    {
     "name": "stdout",
     "output_type": "stream",
     "text": [
      "CPU times: user 41.7 s, sys: 284 ms, total: 42 s\n",
      "Wall time: 42 s\n"
     ]
    },
    {
     "data": {
      "text/plain": [
       "RandomForestRegressor(max_depth=7, n_estimators=25, random_state=12345)"
      ]
     },
     "execution_count": 37,
     "metadata": {},
     "output_type": "execute_result"
    }
   ],
   "source": [
    "%%time\n",
    "model_ran_for_reg = RandomForestRegressor(max_depth=7, n_estimators=25, random_state=12345)\n",
    "model_ran_for_reg.fit(features_train_ohe, target_train_ohe)"
   ]
  },
  {
   "cell_type": "markdown",
   "metadata": {},
   "source": [
    "**Linear Regression**"
   ]
  },
  {
   "cell_type": "code",
   "execution_count": 38,
   "metadata": {},
   "outputs": [],
   "source": [
    "model_lin_reg = LinearRegression()"
   ]
  },
  {
   "cell_type": "code",
   "execution_count": 39,
   "metadata": {},
   "outputs": [
    {
     "name": "stdout",
     "output_type": "stream",
     "text": [
      "CPU times: user 13.7 s, sys: 3.52 s, total: 17.2 s\n",
      "Wall time: 17.2 s\n"
     ]
    },
    {
     "data": {
      "text/plain": [
       "LinearRegression()"
      ]
     },
     "execution_count": 39,
     "metadata": {},
     "output_type": "execute_result"
    }
   ],
   "source": [
    "%%time\n",
    "\n",
    "model_lin_reg.fit(features_train_ohe, target_train_ohe)"
   ]
  },
  {
   "cell_type": "markdown",
   "metadata": {},
   "source": [
    "**LightGBM**"
   ]
  },
  {
   "cell_type": "code",
   "execution_count": 40,
   "metadata": {},
   "outputs": [],
   "source": [
    "category = ['VehicleType', 'Model', 'FuelType', 'Brand', 'NotRepaired']"
   ]
  },
  {
   "cell_type": "code",
   "execution_count": 41,
   "metadata": {},
   "outputs": [],
   "source": [
    "features_train[category] = features_train[category].astype('category')\n",
    "features_test[category] = features_test[category].astype('category')"
   ]
  },
  {
   "cell_type": "code",
   "execution_count": 42,
   "metadata": {},
   "outputs": [],
   "source": [
    "model_lightGBM = LGBMRegressor(random_state=12345)\n",
    "parametrs_lightGBM = { 'max_depth': range (5, 9),\n",
    "                       'n_estimators': range (10, 40, 10)}\n",
    "grid_lightGBM = GridSearchCV(model_lightGBM, parametrs_lightGBM, cv=5)"
   ]
  },
  {
   "cell_type": "code",
   "execution_count": 43,
   "metadata": {},
   "outputs": [
    {
     "name": "stdout",
     "output_type": "stream",
     "text": [
      "best_params_ {'max_depth': 8, 'n_estimators': 30}\n",
      "CPU times: user 13min 47s, sys: 6.17 s, total: 13min 53s\n",
      "Wall time: 14min 1s\n"
     ]
    }
   ],
   "source": [
    "%%time\n",
    "\n",
    "grid_lightGBM.fit(features_train, target_train)\n",
    "\n",
    "print ('best_params_' ,grid_lightGBM.best_params_)"
   ]
  },
  {
   "cell_type": "code",
   "execution_count": 44,
   "metadata": {},
   "outputs": [
    {
     "name": "stdout",
     "output_type": "stream",
     "text": [
      "CPU times: user 1.76 s, sys: 7.55 ms, total: 1.77 s\n",
      "Wall time: 1.8 s\n"
     ]
    },
    {
     "data": {
      "text/plain": [
       "LGBMRegressor(max_depth=8, n_estimators=30, random_state=12345)"
      ]
     },
     "execution_count": 44,
     "metadata": {},
     "output_type": "execute_result"
    }
   ],
   "source": [
    "%%time\n",
    "\n",
    "model_lightGBM = LGBMRegressor(random_state=12345, max_depth=8, n_estimators=30)\n",
    "model_lightGBM.fit(features_train, target_train)"
   ]
  },
  {
   "cell_type": "markdown",
   "metadata": {},
   "source": [
    "**CatBoost**"
   ]
  },
  {
   "cell_type": "code",
   "execution_count": 45,
   "metadata": {},
   "outputs": [],
   "source": [
    "model_catboost = CatBoostRegressor(random_state=12345)\n",
    "parametrs_catboost = { 'max_depth': range (5, 9),\n",
    "                       'n_estimators': range (10, 40, 10)}\n",
    "grid_catboost = GridSearchCV(model_catboost, parametrs_catboost, cv=5)"
   ]
  },
  {
   "cell_type": "code",
   "execution_count": 46,
   "metadata": {},
   "outputs": [
    {
     "name": "stdout",
     "output_type": "stream",
     "text": [
      "best_params_ {'max_depth': 8, 'n_estimators': 30}\n",
      "CPU times: user 1min 22s, sys: 738 ms, total: 1min 23s\n",
      "Wall time: 1min 32s\n"
     ]
    }
   ],
   "source": [
    "%%time\n",
    "\n",
    "grid_catboost.fit(features_train, target_train, cat_features=category, verbose=False)\n",
    "\n",
    "print ('best_params_' ,grid_catboost.best_params_)"
   ]
  },
  {
   "cell_type": "code",
   "execution_count": 47,
   "metadata": {},
   "outputs": [
    {
     "name": "stdout",
     "output_type": "stream",
     "text": [
      "CPU times: user 2.74 s, sys: 47.8 ms, total: 2.78 s\n",
      "Wall time: 2.96 s\n"
     ]
    },
    {
     "data": {
      "text/plain": [
       "<catboost.core.CatBoostRegressor at 0x7fa3589b5100>"
      ]
     },
     "execution_count": 47,
     "metadata": {},
     "output_type": "execute_result"
    }
   ],
   "source": [
    "%%time\n",
    "\n",
    "model_catboost = CatBoostRegressor(max_depth=8, n_estimators=30, random_state=12345)\n",
    "model_catboost.fit(features_train, target_train, cat_features=category, verbose=False)"
   ]
  },
  {
   "cell_type": "markdown",
   "metadata": {},
   "source": [
    "**Вывод:**"
   ]
  },
  {
   "cell_type": "markdown",
   "metadata": {},
   "source": [
    "В резульате обучения модели мы можем сделать вывод о скрости обучения раличных моделей: модели LightGBM и CatBoost обучались быстрее всего - 1.8 с и 2.96 с соответственно. А вот модели RandomForestRegressor и LinearRegression обучаются дольше - 42 c и 17.2 с. Также стоит отметить, что понадобилось достаточно большое количество время для подбора гиперпараметров для моделей RandomForestRegressor и LightGBM. Для первой понадобилось 21 мин 50 с, а для второй 14 мин 1 с. \n",
    "\n",
    "Далее посмотрим на качество наших моделей."
   ]
  },
  {
   "cell_type": "markdown",
   "metadata": {},
   "source": [
    "## Анализ моделей"
   ]
  },
  {
   "cell_type": "markdown",
   "metadata": {},
   "source": [
    "**RandomForestRegressor**"
   ]
  },
  {
   "cell_type": "code",
   "execution_count": 48,
   "metadata": {},
   "outputs": [
    {
     "name": "stdout",
     "output_type": "stream",
     "text": [
      "RMSE линейной регресси: 2079.4472388134323\n",
      "CPU times: user 124 ms, sys: 69.4 ms, total: 193 ms\n",
      "Wall time: 191 ms\n"
     ]
    }
   ],
   "source": [
    "%%time\n",
    "\n",
    "predictions_ran_for_reg = model_ran_for_reg.predict(features_test_ohe)\n",
    "print('RMSE линейной регресси:', mean_squared_error(target_test_ohe, predictions_ran_for_reg)**0.5)"
   ]
  },
  {
   "cell_type": "markdown",
   "metadata": {},
   "source": [
    "**LinearRegression**"
   ]
  },
  {
   "cell_type": "code",
   "execution_count": 49,
   "metadata": {},
   "outputs": [
    {
     "name": "stdout",
     "output_type": "stream",
     "text": [
      "RMSE линейной регресси: 2428.458955339948\n",
      "CPU times: user 91.7 ms, sys: 57.4 ms, total: 149 ms\n",
      "Wall time: 135 ms\n"
     ]
    }
   ],
   "source": [
    "%%time\n",
    "\n",
    "predictions_lin_reg = model_lin_reg.predict(features_test_ohe)\n",
    "print('RMSE линейной регресси:', mean_squared_error(target_test_ohe, predictions_lin_reg)**0.5)"
   ]
  },
  {
   "cell_type": "markdown",
   "metadata": {},
   "source": [
    "**LightGBM** "
   ]
  },
  {
   "cell_type": "code",
   "execution_count": 50,
   "metadata": {
    "scrolled": false
   },
   "outputs": [
    {
     "name": "stdout",
     "output_type": "stream",
     "text": [
      "RMSE LightGBM: 1708.597523581691\n",
      "CPU times: user 218 ms, sys: 12.4 ms, total: 231 ms\n",
      "Wall time: 296 ms\n"
     ]
    }
   ],
   "source": [
    "%%time\n",
    "\n",
    "predictions_lightGBM = model_lightGBM.predict(features_test)\n",
    "print('RMSE LightGBM:', mean_squared_error(target_test, predictions_lightGBM)**0.5)"
   ]
  },
  {
   "cell_type": "markdown",
   "metadata": {},
   "source": [
    "**CatBoost**"
   ]
  },
  {
   "cell_type": "code",
   "execution_count": 51,
   "metadata": {},
   "outputs": [
    {
     "name": "stdout",
     "output_type": "stream",
     "text": [
      "RMSE CatBoost: 1645.8033018961105\n",
      "CPU times: user 32.2 ms, sys: 8.09 ms, total: 40.3 ms\n",
      "Wall time: 38.5 ms\n"
     ]
    }
   ],
   "source": [
    "%%time\n",
    "\n",
    "predictions_catboost = model_catboost.predict(features_test)\n",
    "print('RMSE CatBoost:', mean_squared_error(target_test, predictions_catboost)**0.5)"
   ]
  },
  {
   "cell_type": "markdown",
   "metadata": {},
   "source": [
    "## Вывод"
   ]
  },
  {
   "cell_type": "markdown",
   "metadata": {},
   "source": [
    "Сведём полученные данные о скорости обучения и качестве прогнозирования моделей в таблицу:\n",
    "\n",
    "\n",
    "| Модель               | Скорость обучения | RMSE      |\n",
    "| ------------------   | ------------------|-----------|\n",
    "| RandomForestRegressor| 42 сек            | 2079.45   |\n",
    "| LinearRegression     | 17.2 сек          | 2428.46   |\n",
    "| LightGBM             | 1.8 сек           | 1708.60   |\n",
    "| CatBoost             | 2.96 сек          | 1645.80   |\n",
    "\n",
    "Таким образом, можно сделать вывод, что модели градиентного бустинга показали хорошие результаты, как по скрости обучения, так и по качеству модели. Но стоит учесть в данном случае, что для модели LightGBM требуется достаточно много времени для подбора оптимальных гиперпараметров. Что касается моделей RandomForestRegressor и LinearRegressor, то они и дольше обучаются и качество ниже. Для данного датасета оптимальнее всего будет модель CatBoost, тк важно качество расчёта стоимости автомобиля. "
   ]
  }
 ],
 "metadata": {
  "ExecuteTimeLog": [
   {
    "duration": 547,
    "start_time": "2022-05-31T19:38:38.589Z"
   },
   {
    "duration": 1390,
    "start_time": "2022-05-31T19:39:42.896Z"
   },
   {
    "duration": 1013,
    "start_time": "2022-05-31T19:47:52.323Z"
   },
   {
    "duration": 612,
    "start_time": "2022-05-31T19:53:47.185Z"
   },
   {
    "duration": 220,
    "start_time": "2022-05-31T19:53:56.224Z"
   },
   {
    "duration": 469,
    "start_time": "2022-05-31T19:54:10.795Z"
   },
   {
    "duration": 1165,
    "start_time": "2022-05-31T19:54:11.266Z"
   },
   {
    "duration": 81,
    "start_time": "2022-05-31T19:54:12.433Z"
   },
   {
    "duration": 67,
    "start_time": "2022-05-31T20:01:22.547Z"
   },
   {
    "duration": 26,
    "start_time": "2022-05-31T20:01:34.986Z"
   },
   {
    "duration": 16,
    "start_time": "2022-05-31T20:01:46.050Z"
   },
   {
    "duration": 402,
    "start_time": "2022-05-31T20:01:54.672Z"
   },
   {
    "duration": 1314,
    "start_time": "2022-05-31T20:01:55.076Z"
   },
   {
    "duration": 78,
    "start_time": "2022-05-31T20:01:56.392Z"
   },
   {
    "duration": 342,
    "start_time": "2022-05-31T20:32:28.532Z"
   },
   {
    "duration": 191,
    "start_time": "2022-05-31T20:33:02.548Z"
   },
   {
    "duration": 41,
    "start_time": "2022-05-31T20:33:15.849Z"
   },
   {
    "duration": 205,
    "start_time": "2022-05-31T20:35:13.603Z"
   },
   {
    "duration": 481,
    "start_time": "2022-05-31T20:35:19.567Z"
   },
   {
    "duration": 1169,
    "start_time": "2022-05-31T20:35:20.051Z"
   },
   {
    "duration": 59,
    "start_time": "2022-05-31T20:35:21.221Z"
   },
   {
    "duration": 252,
    "start_time": "2022-05-31T20:35:21.283Z"
   },
   {
    "duration": 243,
    "start_time": "2022-05-31T20:35:21.539Z"
   },
   {
    "duration": 87,
    "start_time": "2022-05-31T20:35:44.476Z"
   },
   {
    "duration": 452,
    "start_time": "2022-05-31T20:42:44.701Z"
   },
   {
    "duration": 1227,
    "start_time": "2022-05-31T20:42:45.154Z"
   },
   {
    "duration": 565,
    "start_time": "2022-05-31T20:42:46.382Z"
   },
   {
    "duration": 582,
    "start_time": "2022-05-31T20:42:46.951Z"
   },
   {
    "duration": 146,
    "start_time": "2022-05-31T20:42:47.547Z"
   },
   {
    "duration": 459,
    "start_time": "2022-05-31T20:50:23.586Z"
   },
   {
    "duration": 450,
    "start_time": "2022-05-31T20:50:29.749Z"
   },
   {
    "duration": 1291,
    "start_time": "2022-05-31T20:50:30.201Z"
   },
   {
    "duration": 577,
    "start_time": "2022-05-31T20:50:31.494Z"
   },
   {
    "duration": 591,
    "start_time": "2022-05-31T20:50:32.073Z"
   },
   {
    "duration": 160,
    "start_time": "2022-05-31T20:50:32.666Z"
   },
   {
    "duration": 56,
    "start_time": "2022-06-01T17:58:55.376Z"
   },
   {
    "duration": 391,
    "start_time": "2022-06-01T17:59:02.476Z"
   },
   {
    "duration": 1405,
    "start_time": "2022-06-01T17:59:02.869Z"
   },
   {
    "duration": 478,
    "start_time": "2022-06-01T17:59:04.276Z"
   },
   {
    "duration": 623,
    "start_time": "2022-06-01T17:59:04.756Z"
   },
   {
    "duration": 6,
    "start_time": "2022-06-01T17:59:05.381Z"
   },
   {
    "duration": 46,
    "start_time": "2022-06-01T18:00:04.893Z"
   },
   {
    "duration": 5,
    "start_time": "2022-06-01T18:00:07.342Z"
   },
   {
    "duration": 93,
    "start_time": "2022-06-01T18:00:22.504Z"
   },
   {
    "duration": 7,
    "start_time": "2022-06-01T18:00:45.725Z"
   },
   {
    "duration": 38,
    "start_time": "2022-06-01T18:00:56.238Z"
   },
   {
    "duration": 82,
    "start_time": "2022-06-01T18:00:58.654Z"
   },
   {
    "duration": 51,
    "start_time": "2022-06-01T19:18:08.293Z"
   },
   {
    "duration": 385,
    "start_time": "2022-06-01T19:18:13.677Z"
   },
   {
    "duration": 1242,
    "start_time": "2022-06-01T19:18:14.064Z"
   },
   {
    "duration": 411,
    "start_time": "2022-06-01T19:18:15.308Z"
   },
   {
    "duration": 504,
    "start_time": "2022-06-01T19:18:15.721Z"
   },
   {
    "duration": 47,
    "start_time": "2022-06-01T19:18:16.228Z"
   },
   {
    "duration": 97,
    "start_time": "2022-06-01T19:18:16.277Z"
   },
   {
    "duration": 74,
    "start_time": "2022-06-01T19:18:26.121Z"
   },
   {
    "duration": 20,
    "start_time": "2022-06-01T19:22:28.783Z"
   },
   {
    "duration": 78,
    "start_time": "2022-06-01T19:24:54.326Z"
   },
   {
    "duration": 29,
    "start_time": "2022-06-01T19:25:18.903Z"
   },
   {
    "duration": 920,
    "start_time": "2022-06-01T19:26:07.030Z"
   },
   {
    "duration": 240,
    "start_time": "2022-06-01T19:26:17.472Z"
   },
   {
    "duration": 2,
    "start_time": "2022-06-01T19:26:54.040Z"
   },
   {
    "duration": 252,
    "start_time": "2022-06-01T19:27:02.602Z"
   },
   {
    "duration": 468,
    "start_time": "2022-06-01T19:27:21.852Z"
   },
   {
    "duration": 1027,
    "start_time": "2022-06-01T19:27:22.323Z"
   },
   {
    "duration": 434,
    "start_time": "2022-06-01T19:27:23.352Z"
   },
   {
    "duration": 531,
    "start_time": "2022-06-01T19:27:23.788Z"
   },
   {
    "duration": 39,
    "start_time": "2022-06-01T19:27:24.320Z"
   },
   {
    "duration": 79,
    "start_time": "2022-06-01T19:27:24.361Z"
   },
   {
    "duration": 20,
    "start_time": "2022-06-01T19:27:24.442Z"
   },
   {
    "duration": 94,
    "start_time": "2022-06-01T19:27:24.463Z"
   },
   {
    "duration": 501,
    "start_time": "2022-06-01T19:27:24.559Z"
   },
   {
    "duration": 613,
    "start_time": "2022-06-01T19:27:44.044Z"
   },
   {
    "duration": 944,
    "start_time": "2022-06-01T19:27:44.659Z"
   },
   {
    "duration": 428,
    "start_time": "2022-06-01T19:27:45.604Z"
   },
   {
    "duration": 530,
    "start_time": "2022-06-01T19:27:46.033Z"
   },
   {
    "duration": 42,
    "start_time": "2022-06-01T19:27:46.565Z"
   },
   {
    "duration": 77,
    "start_time": "2022-06-01T19:27:46.608Z"
   },
   {
    "duration": 18,
    "start_time": "2022-06-01T19:27:46.687Z"
   },
   {
    "duration": 83,
    "start_time": "2022-06-01T19:27:46.706Z"
   },
   {
    "duration": 247,
    "start_time": "2022-06-01T19:27:46.791Z"
   },
   {
    "duration": 326,
    "start_time": "2022-06-01T19:28:15.462Z"
   },
   {
    "duration": 167,
    "start_time": "2022-06-01T19:28:21.455Z"
   },
   {
    "duration": 291,
    "start_time": "2022-06-01T19:28:28.832Z"
   },
   {
    "duration": 204,
    "start_time": "2022-06-01T19:28:49.848Z"
   },
   {
    "duration": 203,
    "start_time": "2022-06-01T19:28:58.692Z"
   },
   {
    "duration": 154,
    "start_time": "2022-06-01T19:29:02.687Z"
   },
   {
    "duration": 174,
    "start_time": "2022-06-01T19:29:16.371Z"
   },
   {
    "duration": 198,
    "start_time": "2022-06-01T19:30:57.311Z"
   },
   {
    "duration": 7,
    "start_time": "2022-06-01T19:31:20.127Z"
   },
   {
    "duration": 8,
    "start_time": "2022-06-01T19:31:37.301Z"
   },
   {
    "duration": 42,
    "start_time": "2022-06-01T19:31:52.867Z"
   },
   {
    "duration": 29,
    "start_time": "2022-06-01T19:32:27.586Z"
   },
   {
    "duration": 228,
    "start_time": "2022-06-01T19:33:27.213Z"
   },
   {
    "duration": 8,
    "start_time": "2022-06-01T19:33:45.987Z"
   },
   {
    "duration": 30,
    "start_time": "2022-06-01T19:34:36.113Z"
   },
   {
    "duration": 25,
    "start_time": "2022-06-01T19:34:46.425Z"
   },
   {
    "duration": 86,
    "start_time": "2022-06-01T19:34:55.863Z"
   },
   {
    "duration": 21,
    "start_time": "2022-06-01T19:35:03.072Z"
   },
   {
    "duration": 318,
    "start_time": "2022-06-01T19:36:13.289Z"
   },
   {
    "duration": 19,
    "start_time": "2022-06-01T19:36:49.217Z"
   },
   {
    "duration": 332,
    "start_time": "2022-06-01T19:38:40.793Z"
   },
   {
    "duration": 21,
    "start_time": "2022-06-01T19:38:44.194Z"
   },
   {
    "duration": 302,
    "start_time": "2022-06-01T19:39:24.077Z"
   },
   {
    "duration": 19,
    "start_time": "2022-06-01T19:39:36.511Z"
   },
   {
    "duration": 74,
    "start_time": "2022-06-01T19:43:42.202Z"
   },
   {
    "duration": 640,
    "start_time": "2022-06-01T19:43:47.930Z"
   },
   {
    "duration": 991,
    "start_time": "2022-06-01T19:43:48.572Z"
   },
   {
    "duration": 412,
    "start_time": "2022-06-01T19:43:49.565Z"
   },
   {
    "duration": 493,
    "start_time": "2022-06-01T19:43:49.979Z"
   },
   {
    "duration": 37,
    "start_time": "2022-06-01T19:43:50.473Z"
   },
   {
    "duration": 84,
    "start_time": "2022-06-01T19:43:50.511Z"
   },
   {
    "duration": 95,
    "start_time": "2022-06-01T19:43:50.597Z"
   },
   {
    "duration": 346,
    "start_time": "2022-06-01T19:45:24.199Z"
   },
   {
    "duration": 30,
    "start_time": "2022-06-01T19:46:32.983Z"
   },
   {
    "duration": 215,
    "start_time": "2022-06-01T19:46:38.779Z"
   },
   {
    "duration": 145,
    "start_time": "2022-06-01T19:46:57.367Z"
   },
   {
    "duration": 138,
    "start_time": "2022-06-01T19:47:10.037Z"
   },
   {
    "duration": 199,
    "start_time": "2022-06-01T19:49:44.090Z"
   },
   {
    "duration": 319,
    "start_time": "2022-06-01T19:50:02.010Z"
   },
   {
    "duration": 297,
    "start_time": "2022-06-01T19:53:38.104Z"
   },
   {
    "duration": 9,
    "start_time": "2022-06-01T19:54:28.414Z"
   },
   {
    "duration": 8,
    "start_time": "2022-06-01T19:55:09.312Z"
   },
   {
    "duration": 23,
    "start_time": "2022-06-01T19:58:31.038Z"
   },
   {
    "duration": 6,
    "start_time": "2022-06-01T19:58:33.208Z"
   },
   {
    "duration": 23,
    "start_time": "2022-06-01T19:58:33.812Z"
   },
   {
    "duration": 649,
    "start_time": "2022-06-01T19:58:39.527Z"
   },
   {
    "duration": 945,
    "start_time": "2022-06-01T19:58:40.178Z"
   },
   {
    "duration": 427,
    "start_time": "2022-06-01T19:58:41.124Z"
   },
   {
    "duration": 484,
    "start_time": "2022-06-01T19:58:41.553Z"
   },
   {
    "duration": 36,
    "start_time": "2022-06-01T19:58:42.039Z"
   },
   {
    "duration": 87,
    "start_time": "2022-06-01T19:58:42.077Z"
   },
   {
    "duration": 81,
    "start_time": "2022-06-01T19:58:42.166Z"
   },
   {
    "duration": 250,
    "start_time": "2022-06-01T19:58:42.249Z"
   },
   {
    "duration": 11,
    "start_time": "2022-06-01T19:58:42.501Z"
   },
   {
    "duration": 33,
    "start_time": "2022-06-01T19:58:42.515Z"
   },
   {
    "duration": 220,
    "start_time": "2022-06-01T19:59:41.514Z"
   },
   {
    "duration": 5,
    "start_time": "2022-06-01T19:59:53.233Z"
   },
   {
    "duration": 7,
    "start_time": "2022-06-01T20:00:12.289Z"
   },
   {
    "duration": 667,
    "start_time": "2022-06-01T20:00:24.923Z"
   },
   {
    "duration": 1026,
    "start_time": "2022-06-01T20:00:25.592Z"
   },
   {
    "duration": 421,
    "start_time": "2022-06-01T20:00:26.620Z"
   },
   {
    "duration": 538,
    "start_time": "2022-06-01T20:00:27.043Z"
   },
   {
    "duration": 48,
    "start_time": "2022-06-01T20:00:27.582Z"
   },
   {
    "duration": 80,
    "start_time": "2022-06-01T20:00:27.632Z"
   },
   {
    "duration": 82,
    "start_time": "2022-06-01T20:00:27.713Z"
   },
   {
    "duration": 250,
    "start_time": "2022-06-01T20:00:27.796Z"
   },
   {
    "duration": 11,
    "start_time": "2022-06-01T20:00:28.048Z"
   },
   {
    "duration": 22,
    "start_time": "2022-06-01T20:00:28.061Z"
   },
   {
    "duration": 5,
    "start_time": "2022-06-01T20:00:28.085Z"
   },
   {
    "duration": 5,
    "start_time": "2022-06-01T20:01:01.024Z"
   },
   {
    "duration": 229,
    "start_time": "2022-06-01T20:01:12.234Z"
   },
   {
    "duration": 81,
    "start_time": "2022-06-01T20:04:47.220Z"
   },
   {
    "duration": 33,
    "start_time": "2022-06-01T20:05:27.360Z"
   },
   {
    "duration": 84,
    "start_time": "2022-06-01T20:05:31.557Z"
   },
   {
    "duration": 80,
    "start_time": "2022-06-01T20:05:47.913Z"
   },
   {
    "duration": 82,
    "start_time": "2022-06-01T20:05:56.851Z"
   },
   {
    "duration": 67,
    "start_time": "2022-06-01T20:05:57.929Z"
   },
   {
    "duration": 83,
    "start_time": "2022-06-01T20:06:02.285Z"
   },
   {
    "duration": 73,
    "start_time": "2022-06-01T20:06:02.823Z"
   },
   {
    "duration": 115,
    "start_time": "2022-06-01T20:06:06.261Z"
   },
   {
    "duration": 70,
    "start_time": "2022-06-01T20:06:06.671Z"
   },
   {
    "duration": 656,
    "start_time": "2022-06-01T20:07:32.926Z"
   },
   {
    "duration": 966,
    "start_time": "2022-06-01T20:07:33.583Z"
   },
   {
    "duration": 417,
    "start_time": "2022-06-01T20:07:34.551Z"
   },
   {
    "duration": 491,
    "start_time": "2022-06-01T20:07:34.969Z"
   },
   {
    "duration": 45,
    "start_time": "2022-06-01T20:07:35.462Z"
   },
   {
    "duration": 82,
    "start_time": "2022-06-01T20:07:35.509Z"
   },
   {
    "duration": 80,
    "start_time": "2022-06-01T20:07:35.593Z"
   },
   {
    "duration": 238,
    "start_time": "2022-06-01T20:07:35.675Z"
   },
   {
    "duration": 13,
    "start_time": "2022-06-01T20:07:35.914Z"
   },
   {
    "duration": 27,
    "start_time": "2022-06-01T20:07:35.929Z"
   },
   {
    "duration": 77,
    "start_time": "2022-06-01T20:07:35.957Z"
   },
   {
    "duration": 91,
    "start_time": "2022-06-01T20:07:36.036Z"
   },
   {
    "duration": 79,
    "start_time": "2022-06-01T20:07:36.128Z"
   },
   {
    "duration": 97,
    "start_time": "2022-06-01T20:08:54.230Z"
   },
   {
    "duration": 68,
    "start_time": "2022-06-01T20:08:54.911Z"
   },
   {
    "duration": 604,
    "start_time": "2022-06-01T20:09:17.675Z"
   },
   {
    "duration": 955,
    "start_time": "2022-06-01T20:09:18.280Z"
   },
   {
    "duration": 412,
    "start_time": "2022-06-01T20:09:19.236Z"
   },
   {
    "duration": 494,
    "start_time": "2022-06-01T20:09:19.650Z"
   },
   {
    "duration": 36,
    "start_time": "2022-06-01T20:09:20.145Z"
   },
   {
    "duration": 80,
    "start_time": "2022-06-01T20:09:20.183Z"
   },
   {
    "duration": 82,
    "start_time": "2022-06-01T20:09:20.265Z"
   },
   {
    "duration": 236,
    "start_time": "2022-06-01T20:09:20.349Z"
   },
   {
    "duration": 6,
    "start_time": "2022-06-01T20:09:20.586Z"
   },
   {
    "duration": 34,
    "start_time": "2022-06-01T20:09:20.594Z"
   },
   {
    "duration": 73,
    "start_time": "2022-06-01T20:09:20.629Z"
   },
   {
    "duration": 101,
    "start_time": "2022-06-01T20:09:20.703Z"
   },
   {
    "duration": 78,
    "start_time": "2022-06-01T20:09:20.805Z"
   },
   {
    "duration": 108,
    "start_time": "2022-06-01T20:11:04.795Z"
   },
   {
    "duration": 99,
    "start_time": "2022-06-01T20:11:12.533Z"
   },
   {
    "duration": 107,
    "start_time": "2022-06-01T20:14:15.543Z"
   },
   {
    "duration": 650,
    "start_time": "2022-06-01T20:14:31.029Z"
   },
   {
    "duration": 1022,
    "start_time": "2022-06-01T20:14:31.681Z"
   },
   {
    "duration": 414,
    "start_time": "2022-06-01T20:14:32.704Z"
   },
   {
    "duration": 507,
    "start_time": "2022-06-01T20:14:33.120Z"
   },
   {
    "duration": 43,
    "start_time": "2022-06-01T20:14:33.629Z"
   },
   {
    "duration": 78,
    "start_time": "2022-06-01T20:14:33.674Z"
   },
   {
    "duration": 85,
    "start_time": "2022-06-01T20:14:33.754Z"
   },
   {
    "duration": 250,
    "start_time": "2022-06-01T20:14:33.841Z"
   },
   {
    "duration": 7,
    "start_time": "2022-06-01T20:14:34.092Z"
   },
   {
    "duration": 35,
    "start_time": "2022-06-01T20:14:34.101Z"
   },
   {
    "duration": 70,
    "start_time": "2022-06-01T20:14:34.137Z"
   },
   {
    "duration": 92,
    "start_time": "2022-06-01T20:14:34.209Z"
   },
   {
    "duration": 83,
    "start_time": "2022-06-01T20:14:34.303Z"
   },
   {
    "duration": 103,
    "start_time": "2022-06-01T20:15:02.067Z"
   },
   {
    "duration": 104,
    "start_time": "2022-06-01T20:16:44.378Z"
   },
   {
    "duration": 162,
    "start_time": "2022-06-01T20:16:50.066Z"
   },
   {
    "duration": 86,
    "start_time": "2022-06-01T20:16:50.830Z"
   },
   {
    "duration": 94,
    "start_time": "2022-06-01T20:18:05.668Z"
   },
   {
    "duration": 72,
    "start_time": "2022-06-01T20:18:06.854Z"
   },
   {
    "duration": 92,
    "start_time": "2022-06-01T20:20:28.616Z"
   },
   {
    "duration": 70,
    "start_time": "2022-06-01T20:20:29.184Z"
   },
   {
    "duration": 703,
    "start_time": "2022-06-01T20:20:35.261Z"
   },
   {
    "duration": 1082,
    "start_time": "2022-06-01T20:20:35.967Z"
   },
   {
    "duration": 478,
    "start_time": "2022-06-01T20:20:37.050Z"
   },
   {
    "duration": 554,
    "start_time": "2022-06-01T20:20:37.530Z"
   },
   {
    "duration": 46,
    "start_time": "2022-06-01T20:20:38.086Z"
   },
   {
    "duration": 103,
    "start_time": "2022-06-01T20:20:38.134Z"
   },
   {
    "duration": 89,
    "start_time": "2022-06-01T20:20:38.239Z"
   },
   {
    "duration": 245,
    "start_time": "2022-06-01T20:20:38.330Z"
   },
   {
    "duration": 7,
    "start_time": "2022-06-01T20:20:38.577Z"
   },
   {
    "duration": 22,
    "start_time": "2022-06-01T20:20:38.587Z"
   },
   {
    "duration": 85,
    "start_time": "2022-06-01T20:20:38.611Z"
   },
   {
    "duration": 101,
    "start_time": "2022-06-01T20:20:38.697Z"
   },
   {
    "duration": 80,
    "start_time": "2022-06-01T20:20:38.800Z"
   },
   {
    "duration": 92,
    "start_time": "2022-06-01T20:21:34.824Z"
   },
   {
    "duration": 87,
    "start_time": "2022-06-01T20:21:35.414Z"
   },
   {
    "duration": 659,
    "start_time": "2022-06-01T20:21:41.971Z"
   },
   {
    "duration": 1029,
    "start_time": "2022-06-01T20:21:42.632Z"
   },
   {
    "duration": 455,
    "start_time": "2022-06-01T20:21:43.663Z"
   },
   {
    "duration": 521,
    "start_time": "2022-06-01T20:21:44.120Z"
   },
   {
    "duration": 44,
    "start_time": "2022-06-01T20:21:44.643Z"
   },
   {
    "duration": 76,
    "start_time": "2022-06-01T20:21:44.689Z"
   },
   {
    "duration": 105,
    "start_time": "2022-06-01T20:21:44.766Z"
   },
   {
    "duration": 259,
    "start_time": "2022-06-01T20:21:44.874Z"
   },
   {
    "duration": 7,
    "start_time": "2022-06-01T20:21:45.135Z"
   },
   {
    "duration": 32,
    "start_time": "2022-06-01T20:21:45.144Z"
   },
   {
    "duration": 79,
    "start_time": "2022-06-01T20:21:45.177Z"
   },
   {
    "duration": 149,
    "start_time": "2022-06-01T20:21:45.258Z"
   },
   {
    "duration": 95,
    "start_time": "2022-06-01T20:21:45.409Z"
   },
   {
    "duration": 110,
    "start_time": "2022-06-01T20:21:56.417Z"
   },
   {
    "duration": 66,
    "start_time": "2022-06-01T20:21:56.761Z"
   },
   {
    "duration": 89,
    "start_time": "2022-06-01T20:22:08.139Z"
   },
   {
    "duration": 54,
    "start_time": "2022-06-01T20:22:08.987Z"
   },
   {
    "duration": 666,
    "start_time": "2022-06-01T20:22:15.050Z"
   },
   {
    "duration": 1116,
    "start_time": "2022-06-01T20:22:15.719Z"
   },
   {
    "duration": 452,
    "start_time": "2022-06-01T20:22:16.837Z"
   },
   {
    "duration": 532,
    "start_time": "2022-06-01T20:22:17.291Z"
   },
   {
    "duration": 43,
    "start_time": "2022-06-01T20:22:17.825Z"
   },
   {
    "duration": 82,
    "start_time": "2022-06-01T20:22:17.870Z"
   },
   {
    "duration": 86,
    "start_time": "2022-06-01T20:22:17.954Z"
   },
   {
    "duration": 257,
    "start_time": "2022-06-01T20:22:18.042Z"
   },
   {
    "duration": 6,
    "start_time": "2022-06-01T20:22:18.301Z"
   },
   {
    "duration": 36,
    "start_time": "2022-06-01T20:22:18.310Z"
   },
   {
    "duration": 85,
    "start_time": "2022-06-01T20:22:18.347Z"
   },
   {
    "duration": 108,
    "start_time": "2022-06-01T20:22:18.434Z"
   },
   {
    "duration": 71,
    "start_time": "2022-06-01T20:22:18.544Z"
   },
   {
    "duration": 682,
    "start_time": "2022-06-01T20:28:43.613Z"
   },
   {
    "duration": 1015,
    "start_time": "2022-06-01T20:28:44.297Z"
   },
   {
    "duration": 471,
    "start_time": "2022-06-01T20:28:45.314Z"
   },
   {
    "duration": 559,
    "start_time": "2022-06-01T20:28:45.788Z"
   },
   {
    "duration": 50,
    "start_time": "2022-06-01T20:28:46.350Z"
   },
   {
    "duration": 97,
    "start_time": "2022-06-01T20:28:46.403Z"
   },
   {
    "duration": 87,
    "start_time": "2022-06-01T20:28:46.502Z"
   },
   {
    "duration": 247,
    "start_time": "2022-06-01T20:28:46.591Z"
   },
   {
    "duration": 6,
    "start_time": "2022-06-01T20:28:46.840Z"
   },
   {
    "duration": 28,
    "start_time": "2022-06-01T20:28:46.848Z"
   },
   {
    "duration": 89,
    "start_time": "2022-06-01T20:28:46.878Z"
   },
   {
    "duration": 100,
    "start_time": "2022-06-01T20:28:46.969Z"
   },
   {
    "duration": 76,
    "start_time": "2022-06-01T20:28:47.071Z"
   },
   {
    "duration": 110,
    "start_time": "2022-06-01T20:29:49.588Z"
   },
   {
    "duration": 69,
    "start_time": "2022-06-01T20:29:50.459Z"
   },
   {
    "duration": 723,
    "start_time": "2022-06-01T20:29:56.312Z"
   },
   {
    "duration": 1038,
    "start_time": "2022-06-01T20:29:57.037Z"
   },
   {
    "duration": 455,
    "start_time": "2022-06-01T20:29:58.077Z"
   },
   {
    "duration": 515,
    "start_time": "2022-06-01T20:29:58.535Z"
   },
   {
    "duration": 44,
    "start_time": "2022-06-01T20:29:59.052Z"
   },
   {
    "duration": 96,
    "start_time": "2022-06-01T20:29:59.099Z"
   },
   {
    "duration": 104,
    "start_time": "2022-06-01T20:29:59.197Z"
   },
   {
    "duration": 262,
    "start_time": "2022-06-01T20:29:59.303Z"
   },
   {
    "duration": 7,
    "start_time": "2022-06-01T20:29:59.567Z"
   },
   {
    "duration": 23,
    "start_time": "2022-06-01T20:29:59.577Z"
   },
   {
    "duration": 90,
    "start_time": "2022-06-01T20:29:59.601Z"
   },
   {
    "duration": 106,
    "start_time": "2022-06-01T20:29:59.693Z"
   },
   {
    "duration": 76,
    "start_time": "2022-06-01T20:29:59.800Z"
   },
   {
    "duration": 67,
    "start_time": "2022-06-01T20:44:09.540Z"
   },
   {
    "duration": 110,
    "start_time": "2022-06-01T20:44:21.283Z"
   },
   {
    "duration": 119,
    "start_time": "2022-06-01T20:44:31.866Z"
   },
   {
    "duration": 75,
    "start_time": "2022-06-01T20:44:41.288Z"
   },
   {
    "duration": 130,
    "start_time": "2022-06-01T20:44:45.467Z"
   },
   {
    "duration": 669,
    "start_time": "2022-06-01T20:44:50.107Z"
   },
   {
    "duration": 979,
    "start_time": "2022-06-01T20:44:50.778Z"
   },
   {
    "duration": 434,
    "start_time": "2022-06-01T20:44:51.761Z"
   },
   {
    "duration": 504,
    "start_time": "2022-06-01T20:44:52.197Z"
   },
   {
    "duration": 45,
    "start_time": "2022-06-01T20:44:52.703Z"
   },
   {
    "duration": 78,
    "start_time": "2022-06-01T20:44:52.750Z"
   },
   {
    "duration": 99,
    "start_time": "2022-06-01T20:44:52.829Z"
   },
   {
    "duration": 290,
    "start_time": "2022-06-01T20:44:52.930Z"
   },
   {
    "duration": 7,
    "start_time": "2022-06-01T20:44:53.228Z"
   },
   {
    "duration": 35,
    "start_time": "2022-06-01T20:44:53.236Z"
   },
   {
    "duration": 166,
    "start_time": "2022-06-01T20:44:53.273Z"
   },
   {
    "duration": 0,
    "start_time": "2022-06-01T20:44:53.441Z"
   },
   {
    "duration": 0,
    "start_time": "2022-06-01T20:44:53.442Z"
   },
   {
    "duration": 0,
    "start_time": "2022-06-01T20:44:53.443Z"
   },
   {
    "duration": 660,
    "start_time": "2022-06-01T20:45:10.232Z"
   },
   {
    "duration": 955,
    "start_time": "2022-06-01T20:45:10.895Z"
   },
   {
    "duration": 415,
    "start_time": "2022-06-01T20:45:11.851Z"
   },
   {
    "duration": 484,
    "start_time": "2022-06-01T20:45:12.270Z"
   },
   {
    "duration": 34,
    "start_time": "2022-06-01T20:45:12.756Z"
   },
   {
    "duration": 81,
    "start_time": "2022-06-01T20:45:12.792Z"
   },
   {
    "duration": 86,
    "start_time": "2022-06-01T20:45:12.874Z"
   },
   {
    "duration": 251,
    "start_time": "2022-06-01T20:45:12.961Z"
   },
   {
    "duration": 15,
    "start_time": "2022-06-01T20:45:13.214Z"
   },
   {
    "duration": 23,
    "start_time": "2022-06-01T20:45:13.231Z"
   },
   {
    "duration": 98,
    "start_time": "2022-06-01T20:45:13.255Z"
   },
   {
    "duration": 80,
    "start_time": "2022-06-01T20:45:13.354Z"
   },
   {
    "duration": 102,
    "start_time": "2022-06-01T20:45:13.435Z"
   },
   {
    "duration": 70,
    "start_time": "2022-06-01T20:45:13.539Z"
   },
   {
    "duration": 82,
    "start_time": "2022-06-01T20:45:51.493Z"
   },
   {
    "duration": 602,
    "start_time": "2022-06-01T20:45:58.157Z"
   },
   {
    "duration": 937,
    "start_time": "2022-06-01T20:45:58.761Z"
   },
   {
    "duration": 402,
    "start_time": "2022-06-01T20:45:59.699Z"
   },
   {
    "duration": 477,
    "start_time": "2022-06-01T20:46:00.103Z"
   },
   {
    "duration": 38,
    "start_time": "2022-06-01T20:46:00.582Z"
   },
   {
    "duration": 78,
    "start_time": "2022-06-01T20:46:00.626Z"
   },
   {
    "duration": 75,
    "start_time": "2022-06-01T20:46:00.706Z"
   },
   {
    "duration": 241,
    "start_time": "2022-06-01T20:46:00.783Z"
   },
   {
    "duration": 7,
    "start_time": "2022-06-01T20:46:01.027Z"
   },
   {
    "duration": 48,
    "start_time": "2022-06-01T20:46:01.036Z"
   },
   {
    "duration": 86,
    "start_time": "2022-06-01T20:46:01.085Z"
   },
   {
    "duration": 78,
    "start_time": "2022-06-01T20:46:01.173Z"
   },
   {
    "duration": 108,
    "start_time": "2022-06-01T20:46:01.253Z"
   },
   {
    "duration": 76,
    "start_time": "2022-06-01T20:46:01.363Z"
   },
   {
    "duration": 101,
    "start_time": "2022-06-01T20:46:01.441Z"
   },
   {
    "duration": 72,
    "start_time": "2022-06-01T20:46:34.882Z"
   },
   {
    "duration": 613,
    "start_time": "2022-06-01T20:46:40.653Z"
   },
   {
    "duration": 935,
    "start_time": "2022-06-01T20:46:41.268Z"
   },
   {
    "duration": 410,
    "start_time": "2022-06-01T20:46:42.205Z"
   },
   {
    "duration": 490,
    "start_time": "2022-06-01T20:46:42.617Z"
   },
   {
    "duration": 46,
    "start_time": "2022-06-01T20:46:43.109Z"
   },
   {
    "duration": 74,
    "start_time": "2022-06-01T20:46:43.156Z"
   },
   {
    "duration": 96,
    "start_time": "2022-06-01T20:46:43.231Z"
   },
   {
    "duration": 245,
    "start_time": "2022-06-01T20:46:43.328Z"
   },
   {
    "duration": 8,
    "start_time": "2022-06-01T20:46:43.575Z"
   },
   {
    "duration": 22,
    "start_time": "2022-06-01T20:46:43.585Z"
   },
   {
    "duration": 102,
    "start_time": "2022-06-01T20:46:43.609Z"
   },
   {
    "duration": 74,
    "start_time": "2022-06-01T20:46:43.713Z"
   },
   {
    "duration": 107,
    "start_time": "2022-06-01T20:46:43.789Z"
   },
   {
    "duration": 59,
    "start_time": "2022-06-01T20:46:43.898Z"
   },
   {
    "duration": 87,
    "start_time": "2022-06-01T20:46:43.958Z"
   },
   {
    "duration": 60,
    "start_time": "2022-06-01T20:47:10.942Z"
   },
   {
    "duration": 66,
    "start_time": "2022-06-01T20:47:11.323Z"
   },
   {
    "duration": 620,
    "start_time": "2022-06-01T20:47:18.649Z"
   },
   {
    "duration": 939,
    "start_time": "2022-06-01T20:47:19.271Z"
   },
   {
    "duration": 410,
    "start_time": "2022-06-01T20:47:20.212Z"
   },
   {
    "duration": 480,
    "start_time": "2022-06-01T20:47:20.626Z"
   },
   {
    "duration": 48,
    "start_time": "2022-06-01T20:47:21.108Z"
   },
   {
    "duration": 78,
    "start_time": "2022-06-01T20:47:21.158Z"
   },
   {
    "duration": 98,
    "start_time": "2022-06-01T20:47:21.239Z"
   },
   {
    "duration": 240,
    "start_time": "2022-06-01T20:47:21.339Z"
   },
   {
    "duration": 6,
    "start_time": "2022-06-01T20:47:21.581Z"
   },
   {
    "duration": 22,
    "start_time": "2022-06-01T20:47:21.588Z"
   },
   {
    "duration": 98,
    "start_time": "2022-06-01T20:47:21.611Z"
   },
   {
    "duration": 80,
    "start_time": "2022-06-01T20:47:21.711Z"
   },
   {
    "duration": 89,
    "start_time": "2022-06-01T20:47:21.792Z"
   },
   {
    "duration": 71,
    "start_time": "2022-06-01T20:47:21.883Z"
   },
   {
    "duration": 91,
    "start_time": "2022-06-01T20:47:21.956Z"
   },
   {
    "duration": 645,
    "start_time": "2022-06-01T20:48:07.318Z"
   },
   {
    "duration": 945,
    "start_time": "2022-06-01T20:48:07.965Z"
   },
   {
    "duration": 398,
    "start_time": "2022-06-01T20:48:08.912Z"
   },
   {
    "duration": 488,
    "start_time": "2022-06-01T20:48:09.312Z"
   },
   {
    "duration": 46,
    "start_time": "2022-06-01T20:48:09.801Z"
   },
   {
    "duration": 79,
    "start_time": "2022-06-01T20:48:09.849Z"
   },
   {
    "duration": 76,
    "start_time": "2022-06-01T20:48:09.930Z"
   },
   {
    "duration": 256,
    "start_time": "2022-06-01T20:48:10.008Z"
   },
   {
    "duration": 7,
    "start_time": "2022-06-01T20:48:10.265Z"
   },
   {
    "duration": 25,
    "start_time": "2022-06-01T20:48:10.275Z"
   },
   {
    "duration": 108,
    "start_time": "2022-06-01T20:48:10.301Z"
   },
   {
    "duration": 80,
    "start_time": "2022-06-01T20:48:10.411Z"
   },
   {
    "duration": 95,
    "start_time": "2022-06-01T20:48:10.492Z"
   },
   {
    "duration": 70,
    "start_time": "2022-06-01T20:48:10.589Z"
   },
   {
    "duration": 94,
    "start_time": "2022-06-01T20:48:10.660Z"
   },
   {
    "duration": 67,
    "start_time": "2022-06-01T20:48:53.163Z"
   },
   {
    "duration": 675,
    "start_time": "2022-06-01T20:50:40.214Z"
   },
   {
    "duration": 976,
    "start_time": "2022-06-01T20:50:40.891Z"
   },
   {
    "duration": 421,
    "start_time": "2022-06-01T20:50:41.868Z"
   },
   {
    "duration": 484,
    "start_time": "2022-06-01T20:50:42.291Z"
   },
   {
    "duration": 41,
    "start_time": "2022-06-01T20:50:42.777Z"
   },
   {
    "duration": 77,
    "start_time": "2022-06-01T20:50:42.819Z"
   },
   {
    "duration": 92,
    "start_time": "2022-06-01T20:50:42.898Z"
   },
   {
    "duration": 235,
    "start_time": "2022-06-01T20:50:42.992Z"
   },
   {
    "duration": 4,
    "start_time": "2022-06-01T20:50:43.229Z"
   },
   {
    "duration": 25,
    "start_time": "2022-06-01T20:50:43.235Z"
   },
   {
    "duration": 85,
    "start_time": "2022-06-01T20:51:07.063Z"
   },
   {
    "duration": 73,
    "start_time": "2022-06-01T20:55:56.917Z"
   },
   {
    "duration": 9,
    "start_time": "2022-06-01T20:56:02.969Z"
   },
   {
    "duration": 557,
    "start_time": "2022-06-01T20:57:59.700Z"
   },
   {
    "duration": 122,
    "start_time": "2022-06-01T20:58:19.658Z"
   },
   {
    "duration": 63,
    "start_time": "2022-06-01T20:58:55.403Z"
   },
   {
    "duration": 682,
    "start_time": "2022-06-01T21:01:43.800Z"
   },
   {
    "duration": 1006,
    "start_time": "2022-06-01T21:01:44.484Z"
   },
   {
    "duration": 430,
    "start_time": "2022-06-01T21:01:45.492Z"
   },
   {
    "duration": 544,
    "start_time": "2022-06-01T21:01:45.926Z"
   },
   {
    "duration": 47,
    "start_time": "2022-06-01T21:01:46.473Z"
   },
   {
    "duration": 71,
    "start_time": "2022-06-01T21:01:46.526Z"
   },
   {
    "duration": 92,
    "start_time": "2022-06-01T21:01:46.598Z"
   },
   {
    "duration": 240,
    "start_time": "2022-06-01T21:01:46.692Z"
   },
   {
    "duration": 5,
    "start_time": "2022-06-01T21:01:46.933Z"
   },
   {
    "duration": 28,
    "start_time": "2022-06-01T21:01:46.940Z"
   },
   {
    "duration": 73,
    "start_time": "2022-06-01T21:01:46.970Z"
   },
   {
    "duration": 132,
    "start_time": "2022-06-01T21:01:47.045Z"
   },
   {
    "duration": 74,
    "start_time": "2022-06-01T21:01:47.178Z"
   },
   {
    "duration": 64,
    "start_time": "2022-06-01T21:02:08.510Z"
   },
   {
    "duration": 656,
    "start_time": "2022-06-01T21:02:16.732Z"
   },
   {
    "duration": 996,
    "start_time": "2022-06-01T21:02:17.390Z"
   },
   {
    "duration": 428,
    "start_time": "2022-06-01T21:02:18.388Z"
   },
   {
    "duration": 501,
    "start_time": "2022-06-01T21:02:18.818Z"
   },
   {
    "duration": 45,
    "start_time": "2022-06-01T21:02:19.321Z"
   },
   {
    "duration": 78,
    "start_time": "2022-06-01T21:02:19.367Z"
   },
   {
    "duration": 86,
    "start_time": "2022-06-01T21:02:19.446Z"
   },
   {
    "duration": 242,
    "start_time": "2022-06-01T21:02:19.534Z"
   },
   {
    "duration": 5,
    "start_time": "2022-06-01T21:02:19.777Z"
   },
   {
    "duration": 26,
    "start_time": "2022-06-01T21:02:19.783Z"
   },
   {
    "duration": 78,
    "start_time": "2022-06-01T21:02:19.811Z"
   },
   {
    "duration": 77,
    "start_time": "2022-06-01T21:02:19.891Z"
   },
   {
    "duration": 126,
    "start_time": "2022-06-01T21:02:19.969Z"
   },
   {
    "duration": 75,
    "start_time": "2022-06-01T21:02:20.096Z"
   },
   {
    "duration": 30,
    "start_time": "2022-06-01T21:04:41.753Z"
   },
   {
    "duration": 110,
    "start_time": "2022-06-01T21:04:42.480Z"
   },
   {
    "duration": 61,
    "start_time": "2022-06-01T21:04:42.900Z"
   },
   {
    "duration": 250,
    "start_time": "2022-06-01T21:05:40.124Z"
   },
   {
    "duration": 64,
    "start_time": "2022-06-01T21:05:40.651Z"
   },
   {
    "duration": 674,
    "start_time": "2022-06-01T21:06:09.611Z"
   },
   {
    "duration": 971,
    "start_time": "2022-06-01T21:06:10.287Z"
   },
   {
    "duration": 435,
    "start_time": "2022-06-01T21:06:11.260Z"
   },
   {
    "duration": 503,
    "start_time": "2022-06-01T21:06:11.697Z"
   },
   {
    "duration": 47,
    "start_time": "2022-06-01T21:06:12.202Z"
   },
   {
    "duration": 80,
    "start_time": "2022-06-01T21:06:12.251Z"
   },
   {
    "duration": 94,
    "start_time": "2022-06-01T21:06:12.332Z"
   },
   {
    "duration": 66,
    "start_time": "2022-06-01T21:06:12.427Z"
   },
   {
    "duration": 244,
    "start_time": "2022-06-01T21:06:12.494Z"
   },
   {
    "duration": 5,
    "start_time": "2022-06-01T21:06:12.741Z"
   },
   {
    "duration": 32,
    "start_time": "2022-06-01T21:06:12.747Z"
   },
   {
    "duration": 75,
    "start_time": "2022-06-01T21:06:12.781Z"
   },
   {
    "duration": 75,
    "start_time": "2022-06-01T21:06:12.858Z"
   },
   {
    "duration": 30,
    "start_time": "2022-06-01T21:06:12.934Z"
   },
   {
    "duration": 253,
    "start_time": "2022-06-01T21:06:12.965Z"
   },
   {
    "duration": 75,
    "start_time": "2022-06-01T21:06:13.219Z"
   },
   {
    "duration": 625,
    "start_time": "2022-06-01T21:06:44.173Z"
   },
   {
    "duration": 963,
    "start_time": "2022-06-01T21:06:44.800Z"
   },
   {
    "duration": 409,
    "start_time": "2022-06-01T21:06:45.765Z"
   },
   {
    "duration": 535,
    "start_time": "2022-06-01T21:06:46.176Z"
   },
   {
    "duration": 41,
    "start_time": "2022-06-01T21:06:46.713Z"
   },
   {
    "duration": 80,
    "start_time": "2022-06-01T21:06:46.755Z"
   },
   {
    "duration": 79,
    "start_time": "2022-06-01T21:06:46.836Z"
   },
   {
    "duration": 64,
    "start_time": "2022-06-01T21:06:46.926Z"
   },
   {
    "duration": 237,
    "start_time": "2022-06-01T21:06:46.991Z"
   },
   {
    "duration": 4,
    "start_time": "2022-06-01T21:06:47.230Z"
   },
   {
    "duration": 24,
    "start_time": "2022-06-01T21:06:47.236Z"
   },
   {
    "duration": 78,
    "start_time": "2022-06-01T21:06:47.262Z"
   },
   {
    "duration": 65,
    "start_time": "2022-06-01T21:06:47.342Z"
   },
   {
    "duration": 42,
    "start_time": "2022-06-01T21:06:47.408Z"
   },
   {
    "duration": 248,
    "start_time": "2022-06-01T21:06:47.452Z"
   },
   {
    "duration": 64,
    "start_time": "2022-06-01T21:06:47.702Z"
   },
   {
    "duration": 667,
    "start_time": "2022-06-01T21:07:07.203Z"
   },
   {
    "duration": 974,
    "start_time": "2022-06-01T21:07:07.872Z"
   },
   {
    "duration": 458,
    "start_time": "2022-06-01T21:07:08.847Z"
   },
   {
    "duration": 509,
    "start_time": "2022-06-01T21:07:09.307Z"
   },
   {
    "duration": 45,
    "start_time": "2022-06-01T21:07:09.817Z"
   },
   {
    "duration": 80,
    "start_time": "2022-06-01T21:07:09.863Z"
   },
   {
    "duration": 85,
    "start_time": "2022-06-01T21:07:09.944Z"
   },
   {
    "duration": 65,
    "start_time": "2022-06-01T21:07:10.031Z"
   },
   {
    "duration": 254,
    "start_time": "2022-06-01T21:07:10.098Z"
   },
   {
    "duration": 5,
    "start_time": "2022-06-01T21:07:10.354Z"
   },
   {
    "duration": 27,
    "start_time": "2022-06-01T21:07:10.360Z"
   },
   {
    "duration": 78,
    "start_time": "2022-06-01T21:07:10.388Z"
   },
   {
    "duration": 69,
    "start_time": "2022-06-01T21:07:10.468Z"
   },
   {
    "duration": 30,
    "start_time": "2022-06-01T21:07:10.539Z"
   },
   {
    "duration": 264,
    "start_time": "2022-06-01T21:07:10.571Z"
   },
   {
    "duration": 64,
    "start_time": "2022-06-01T21:07:10.837Z"
   },
   {
    "duration": 710,
    "start_time": "2022-06-01T21:14:36.739Z"
   },
   {
    "duration": 1030,
    "start_time": "2022-06-01T21:14:37.451Z"
   },
   {
    "duration": 434,
    "start_time": "2022-06-01T21:14:38.482Z"
   },
   {
    "duration": 523,
    "start_time": "2022-06-01T21:14:38.917Z"
   },
   {
    "duration": 34,
    "start_time": "2022-06-01T21:14:39.443Z"
   },
   {
    "duration": 79,
    "start_time": "2022-06-01T21:14:39.479Z"
   },
   {
    "duration": 89,
    "start_time": "2022-06-01T21:14:39.560Z"
   },
   {
    "duration": 77,
    "start_time": "2022-06-01T21:14:39.651Z"
   },
   {
    "duration": 248,
    "start_time": "2022-06-01T21:14:39.729Z"
   },
   {
    "duration": 6,
    "start_time": "2022-06-01T21:14:39.979Z"
   },
   {
    "duration": 24,
    "start_time": "2022-06-01T21:14:39.987Z"
   },
   {
    "duration": 80,
    "start_time": "2022-06-01T21:14:40.012Z"
   },
   {
    "duration": 72,
    "start_time": "2022-06-01T21:14:40.094Z"
   },
   {
    "duration": 29,
    "start_time": "2022-06-01T21:14:40.169Z"
   },
   {
    "duration": 255,
    "start_time": "2022-06-01T21:14:40.200Z"
   },
   {
    "duration": 74,
    "start_time": "2022-06-01T21:14:40.457Z"
   },
   {
    "duration": 607,
    "start_time": "2022-06-01T21:16:55.588Z"
   },
   {
    "duration": 1067,
    "start_time": "2022-06-01T21:16:56.197Z"
   },
   {
    "duration": 421,
    "start_time": "2022-06-01T21:16:57.266Z"
   },
   {
    "duration": 520,
    "start_time": "2022-06-01T21:16:57.689Z"
   },
   {
    "duration": 55,
    "start_time": "2022-06-01T21:16:58.211Z"
   },
   {
    "duration": 81,
    "start_time": "2022-06-01T21:16:58.268Z"
   },
   {
    "duration": 89,
    "start_time": "2022-06-01T21:16:58.350Z"
   },
   {
    "duration": 67,
    "start_time": "2022-06-01T21:16:58.441Z"
   },
   {
    "duration": 268,
    "start_time": "2022-06-01T21:16:58.510Z"
   },
   {
    "duration": 5,
    "start_time": "2022-06-01T21:16:58.780Z"
   },
   {
    "duration": 26,
    "start_time": "2022-06-01T21:16:58.786Z"
   },
   {
    "duration": 46,
    "start_time": "2022-06-01T21:16:58.814Z"
   },
   {
    "duration": 254,
    "start_time": "2022-06-01T21:16:58.862Z"
   },
   {
    "duration": 72,
    "start_time": "2022-06-01T21:16:59.117Z"
   },
   {
    "duration": 621,
    "start_time": "2022-06-01T21:18:21.091Z"
   },
   {
    "duration": 1057,
    "start_time": "2022-06-01T21:18:21.713Z"
   },
   {
    "duration": 432,
    "start_time": "2022-06-01T21:18:22.772Z"
   },
   {
    "duration": 533,
    "start_time": "2022-06-01T21:18:23.206Z"
   },
   {
    "duration": 39,
    "start_time": "2022-06-01T21:18:23.741Z"
   },
   {
    "duration": 101,
    "start_time": "2022-06-01T21:18:23.782Z"
   },
   {
    "duration": 104,
    "start_time": "2022-06-01T21:18:23.884Z"
   },
   {
    "duration": 72,
    "start_time": "2022-06-01T21:18:23.990Z"
   },
   {
    "duration": 258,
    "start_time": "2022-06-01T21:18:24.064Z"
   },
   {
    "duration": 4,
    "start_time": "2022-06-01T21:18:24.326Z"
   },
   {
    "duration": 0,
    "start_time": "2022-06-01T21:18:24.331Z"
   },
   {
    "duration": 0,
    "start_time": "2022-06-01T21:18:24.332Z"
   },
   {
    "duration": 0,
    "start_time": "2022-06-01T21:18:24.333Z"
   },
   {
    "duration": 0,
    "start_time": "2022-06-01T21:18:24.333Z"
   },
   {
    "duration": 8,
    "start_time": "2022-06-01T21:18:31.916Z"
   },
   {
    "duration": 22,
    "start_time": "2022-06-01T21:18:34.760Z"
   },
   {
    "duration": 29,
    "start_time": "2022-06-01T21:18:35.670Z"
   },
   {
    "duration": 283,
    "start_time": "2022-06-01T21:18:44.588Z"
   },
   {
    "duration": 64,
    "start_time": "2022-06-01T21:18:44.943Z"
   },
   {
    "duration": 37,
    "start_time": "2022-06-01T21:19:19.504Z"
   },
   {
    "duration": 677,
    "start_time": "2022-06-01T21:19:39.126Z"
   },
   {
    "duration": 980,
    "start_time": "2022-06-01T21:19:39.805Z"
   },
   {
    "duration": 431,
    "start_time": "2022-06-01T21:19:40.787Z"
   },
   {
    "duration": 498,
    "start_time": "2022-06-01T21:19:41.219Z"
   },
   {
    "duration": 46,
    "start_time": "2022-06-01T21:19:41.719Z"
   },
   {
    "duration": 85,
    "start_time": "2022-06-01T21:19:41.766Z"
   },
   {
    "duration": 94,
    "start_time": "2022-06-01T21:19:41.853Z"
   },
   {
    "duration": 65,
    "start_time": "2022-06-01T21:19:41.948Z"
   },
   {
    "duration": 246,
    "start_time": "2022-06-01T21:19:42.014Z"
   },
   {
    "duration": 8,
    "start_time": "2022-06-01T21:19:42.263Z"
   },
   {
    "duration": 20,
    "start_time": "2022-06-01T21:19:42.272Z"
   },
   {
    "duration": 53,
    "start_time": "2022-06-01T21:19:42.293Z"
   },
   {
    "duration": 26,
    "start_time": "2022-06-01T21:19:42.348Z"
   },
   {
    "duration": 264,
    "start_time": "2022-06-01T21:19:42.375Z"
   },
   {
    "duration": 62,
    "start_time": "2022-06-01T21:19:42.641Z"
   },
   {
    "duration": 43,
    "start_time": "2022-06-01T21:19:42.704Z"
   },
   {
    "duration": 8,
    "start_time": "2022-06-01T21:21:24.849Z"
   },
   {
    "duration": 94,
    "start_time": "2022-06-01T21:22:26.398Z"
   },
   {
    "duration": 221,
    "start_time": "2022-06-01T21:22:52.946Z"
   },
   {
    "duration": 9,
    "start_time": "2022-06-01T21:24:14.031Z"
   },
   {
    "duration": 9,
    "start_time": "2022-06-01T21:24:37.539Z"
   },
   {
    "duration": 8,
    "start_time": "2022-06-01T21:25:31.536Z"
   },
   {
    "duration": 78,
    "start_time": "2022-06-01T21:27:04.851Z"
   },
   {
    "duration": 18,
    "start_time": "2022-06-01T21:28:38.011Z"
   },
   {
    "duration": 18,
    "start_time": "2022-06-01T21:28:51.999Z"
   },
   {
    "duration": 18,
    "start_time": "2022-06-01T21:29:02.152Z"
   },
   {
    "duration": 18,
    "start_time": "2022-06-01T21:29:26.582Z"
   },
   {
    "duration": 7,
    "start_time": "2022-06-01T21:29:55.862Z"
   },
   {
    "duration": 9,
    "start_time": "2022-06-01T21:29:59.238Z"
   },
   {
    "duration": 6,
    "start_time": "2022-06-01T21:30:16.822Z"
   },
   {
    "duration": 9,
    "start_time": "2022-06-01T21:30:34.430Z"
   },
   {
    "duration": 5,
    "start_time": "2022-06-01T21:31:01.384Z"
   },
   {
    "duration": 5,
    "start_time": "2022-06-01T21:31:04.863Z"
   },
   {
    "duration": 7,
    "start_time": "2022-06-01T21:31:10.375Z"
   },
   {
    "duration": 19,
    "start_time": "2022-06-01T21:31:55.599Z"
   },
   {
    "duration": 18,
    "start_time": "2022-06-01T21:33:49.855Z"
   },
   {
    "duration": 19,
    "start_time": "2022-06-01T21:37:00.757Z"
   },
   {
    "duration": 223,
    "start_time": "2022-06-01T21:37:17.598Z"
   },
   {
    "duration": 298,
    "start_time": "2022-06-01T21:37:50.294Z"
   },
   {
    "duration": 11,
    "start_time": "2022-06-01T21:39:25.167Z"
   },
   {
    "duration": 659,
    "start_time": "2022-06-01T21:39:32.599Z"
   },
   {
    "duration": 952,
    "start_time": "2022-06-01T21:39:33.259Z"
   },
   {
    "duration": 428,
    "start_time": "2022-06-01T21:39:34.212Z"
   },
   {
    "duration": 502,
    "start_time": "2022-06-01T21:39:34.642Z"
   },
   {
    "duration": 44,
    "start_time": "2022-06-01T21:39:35.145Z"
   },
   {
    "duration": 82,
    "start_time": "2022-06-01T21:39:35.191Z"
   },
   {
    "duration": 91,
    "start_time": "2022-06-01T21:39:35.275Z"
   },
   {
    "duration": 73,
    "start_time": "2022-06-01T21:39:35.368Z"
   },
   {
    "duration": 240,
    "start_time": "2022-06-01T21:39:35.443Z"
   },
   {
    "duration": 8,
    "start_time": "2022-06-01T21:39:35.685Z"
   },
   {
    "duration": 35,
    "start_time": "2022-06-01T21:39:35.695Z"
   },
   {
    "duration": 31,
    "start_time": "2022-06-01T21:39:35.732Z"
   },
   {
    "duration": 258,
    "start_time": "2022-06-01T21:39:35.764Z"
   },
   {
    "duration": 19,
    "start_time": "2022-06-01T21:39:36.024Z"
   },
   {
    "duration": 84,
    "start_time": "2022-06-01T21:39:36.044Z"
   },
   {
    "duration": 1,
    "start_time": "2022-06-01T21:39:36.129Z"
   },
   {
    "duration": 0,
    "start_time": "2022-06-01T21:39:36.131Z"
   },
   {
    "duration": 36,
    "start_time": "2022-06-01T21:39:56.741Z"
   },
   {
    "duration": 23,
    "start_time": "2022-06-01T21:40:30.558Z"
   },
   {
    "duration": 63,
    "start_time": "2022-06-01T21:41:27.178Z"
   },
   {
    "duration": 82,
    "start_time": "2022-06-01T21:41:27.822Z"
   },
   {
    "duration": 27,
    "start_time": "2022-06-01T21:42:10.596Z"
   },
   {
    "duration": 9,
    "start_time": "2022-06-01T22:03:45.347Z"
   },
   {
    "duration": 290,
    "start_time": "2022-06-01T22:03:46.127Z"
   },
   {
    "duration": 1210,
    "start_time": "2022-06-01T22:03:51.396Z"
   },
   {
    "duration": 1047,
    "start_time": "2022-06-01T22:03:52.608Z"
   },
   {
    "duration": 444,
    "start_time": "2022-06-01T22:03:53.656Z"
   },
   {
    "duration": 527,
    "start_time": "2022-06-01T22:03:54.103Z"
   },
   {
    "duration": 39,
    "start_time": "2022-06-01T22:03:54.632Z"
   },
   {
    "duration": 88,
    "start_time": "2022-06-01T22:03:54.672Z"
   },
   {
    "duration": 104,
    "start_time": "2022-06-01T22:03:54.762Z"
   },
   {
    "duration": 77,
    "start_time": "2022-06-01T22:03:54.868Z"
   },
   {
    "duration": 318,
    "start_time": "2022-06-01T22:03:54.946Z"
   },
   {
    "duration": 9,
    "start_time": "2022-06-01T22:03:55.266Z"
   },
   {
    "duration": 22,
    "start_time": "2022-06-01T22:03:55.277Z"
   },
   {
    "duration": 48,
    "start_time": "2022-06-01T22:03:55.301Z"
   },
   {
    "duration": 249,
    "start_time": "2022-06-01T22:03:55.351Z"
   },
   {
    "duration": 17,
    "start_time": "2022-06-01T22:03:55.602Z"
   },
   {
    "duration": 36,
    "start_time": "2022-06-01T22:03:55.627Z"
   },
   {
    "duration": 27,
    "start_time": "2022-06-01T22:03:55.665Z"
   },
   {
    "duration": 259,
    "start_time": "2022-06-01T22:03:55.694Z"
   },
   {
    "duration": 74,
    "start_time": "2022-06-01T22:03:55.954Z"
   },
   {
    "duration": 67,
    "start_time": "2022-06-01T22:03:56.030Z"
   },
   {
    "duration": 132,
    "start_time": "2022-06-01T22:04:23.700Z"
   },
   {
    "duration": 252,
    "start_time": "2022-06-01T22:05:08.511Z"
   },
   {
    "duration": 30,
    "start_time": "2022-06-01T22:05:09.357Z"
   },
   {
    "duration": 1135,
    "start_time": "2022-06-01T22:05:21.092Z"
   },
   {
    "duration": 967,
    "start_time": "2022-06-01T22:05:22.228Z"
   },
   {
    "duration": 418,
    "start_time": "2022-06-01T22:05:23.197Z"
   },
   {
    "duration": 513,
    "start_time": "2022-06-01T22:05:23.617Z"
   },
   {
    "duration": 43,
    "start_time": "2022-06-01T22:05:24.132Z"
   },
   {
    "duration": 91,
    "start_time": "2022-06-01T22:05:24.176Z"
   },
   {
    "duration": 82,
    "start_time": "2022-06-01T22:05:24.269Z"
   },
   {
    "duration": 65,
    "start_time": "2022-06-01T22:05:24.353Z"
   },
   {
    "duration": 314,
    "start_time": "2022-06-01T22:05:24.427Z"
   },
   {
    "duration": 8,
    "start_time": "2022-06-01T22:05:24.743Z"
   },
   {
    "duration": 28,
    "start_time": "2022-06-01T22:05:24.753Z"
   },
   {
    "duration": 55,
    "start_time": "2022-06-01T22:05:24.783Z"
   },
   {
    "duration": 257,
    "start_time": "2022-06-01T22:05:24.840Z"
   },
   {
    "duration": 18,
    "start_time": "2022-06-01T22:05:25.099Z"
   },
   {
    "duration": 38,
    "start_time": "2022-06-01T22:05:25.127Z"
   },
   {
    "duration": 28,
    "start_time": "2022-06-01T22:05:25.167Z"
   },
   {
    "duration": 273,
    "start_time": "2022-06-01T22:05:25.196Z"
   },
   {
    "duration": 31,
    "start_time": "2022-06-01T22:05:25.471Z"
   },
   {
    "duration": 61,
    "start_time": "2022-06-01T22:05:25.504Z"
   },
   {
    "duration": 84,
    "start_time": "2022-06-01T22:05:25.566Z"
   },
   {
    "duration": 7,
    "start_time": "2022-06-01T22:05:37.389Z"
   },
   {
    "duration": 116,
    "start_time": "2022-06-01T22:06:41.399Z"
   },
   {
    "duration": 301,
    "start_time": "2022-06-01T22:07:09.631Z"
   },
   {
    "duration": 244,
    "start_time": "2022-06-01T22:07:53.175Z"
   },
   {
    "duration": 205,
    "start_time": "2022-06-01T22:07:59.011Z"
   },
   {
    "duration": 223,
    "start_time": "2022-06-01T22:08:15.551Z"
   },
   {
    "duration": 104,
    "start_time": "2022-06-01T22:11:38.419Z"
   },
   {
    "duration": 10,
    "start_time": "2022-06-01T22:11:51.181Z"
   },
   {
    "duration": 10,
    "start_time": "2022-06-01T22:12:02.592Z"
   },
   {
    "duration": 12,
    "start_time": "2022-06-01T22:12:47.568Z"
   },
   {
    "duration": 9,
    "start_time": "2022-06-01T22:12:52.490Z"
   },
   {
    "duration": 170,
    "start_time": "2022-06-01T22:13:57.002Z"
   },
   {
    "duration": 2,
    "start_time": "2022-06-01T22:14:12.852Z"
   },
   {
    "duration": 93,
    "start_time": "2022-06-01T22:14:21.868Z"
   },
   {
    "duration": 661,
    "start_time": "2022-06-01T22:14:41.018Z"
   },
   {
    "duration": 960,
    "start_time": "2022-06-01T22:14:41.681Z"
   },
   {
    "duration": 427,
    "start_time": "2022-06-01T22:14:42.642Z"
   },
   {
    "duration": 506,
    "start_time": "2022-06-01T22:14:43.071Z"
   },
   {
    "duration": 49,
    "start_time": "2022-06-01T22:14:43.578Z"
   },
   {
    "duration": 73,
    "start_time": "2022-06-01T22:14:43.629Z"
   },
   {
    "duration": 96,
    "start_time": "2022-06-01T22:14:43.703Z"
   },
   {
    "duration": 75,
    "start_time": "2022-06-01T22:14:43.801Z"
   },
   {
    "duration": 245,
    "start_time": "2022-06-01T22:14:43.878Z"
   },
   {
    "duration": 8,
    "start_time": "2022-06-01T22:14:44.126Z"
   },
   {
    "duration": 21,
    "start_time": "2022-06-01T22:14:44.135Z"
   },
   {
    "duration": 31,
    "start_time": "2022-06-01T22:14:44.158Z"
   },
   {
    "duration": 280,
    "start_time": "2022-06-01T22:14:44.190Z"
   },
   {
    "duration": 19,
    "start_time": "2022-06-01T22:14:44.472Z"
   },
   {
    "duration": 49,
    "start_time": "2022-06-01T22:14:44.492Z"
   },
   {
    "duration": 27,
    "start_time": "2022-06-01T22:14:44.542Z"
   },
   {
    "duration": 258,
    "start_time": "2022-06-01T22:14:44.571Z"
   },
   {
    "duration": 42,
    "start_time": "2022-06-01T22:14:44.831Z"
   },
   {
    "duration": 230,
    "start_time": "2022-06-01T22:14:44.875Z"
   },
   {
    "duration": 108,
    "start_time": "2022-06-01T22:14:45.107Z"
   },
   {
    "duration": 0,
    "start_time": "2022-06-01T22:14:45.217Z"
   },
   {
    "duration": 0,
    "start_time": "2022-06-01T22:14:45.218Z"
   },
   {
    "duration": 1,
    "start_time": "2022-06-01T22:14:45.219Z"
   },
   {
    "duration": 30,
    "start_time": "2022-06-01T22:15:37.264Z"
   },
   {
    "duration": 278,
    "start_time": "2022-06-01T22:15:38.127Z"
   },
   {
    "duration": 618,
    "start_time": "2022-06-01T22:15:43.265Z"
   },
   {
    "duration": 963,
    "start_time": "2022-06-01T22:15:43.885Z"
   },
   {
    "duration": 450,
    "start_time": "2022-06-01T22:15:44.850Z"
   },
   {
    "duration": 514,
    "start_time": "2022-06-01T22:15:45.302Z"
   },
   {
    "duration": 49,
    "start_time": "2022-06-01T22:15:45.818Z"
   },
   {
    "duration": 81,
    "start_time": "2022-06-01T22:15:45.868Z"
   },
   {
    "duration": 84,
    "start_time": "2022-06-01T22:15:45.951Z"
   },
   {
    "duration": 65,
    "start_time": "2022-06-01T22:15:46.037Z"
   },
   {
    "duration": 323,
    "start_time": "2022-06-01T22:15:46.104Z"
   },
   {
    "duration": 11,
    "start_time": "2022-06-01T22:15:46.430Z"
   },
   {
    "duration": 34,
    "start_time": "2022-06-01T22:15:46.442Z"
   },
   {
    "duration": 36,
    "start_time": "2022-06-01T22:15:46.478Z"
   },
   {
    "duration": 268,
    "start_time": "2022-06-01T22:15:46.527Z"
   },
   {
    "duration": 19,
    "start_time": "2022-06-01T22:15:46.797Z"
   },
   {
    "duration": 45,
    "start_time": "2022-06-01T22:15:46.818Z"
   },
   {
    "duration": 29,
    "start_time": "2022-06-01T22:15:46.864Z"
   },
   {
    "duration": 263,
    "start_time": "2022-06-01T22:15:46.895Z"
   },
   {
    "duration": 28,
    "start_time": "2022-06-01T22:15:47.160Z"
   },
   {
    "duration": 227,
    "start_time": "2022-06-01T22:15:47.190Z"
   },
   {
    "duration": 103,
    "start_time": "2022-06-01T22:15:47.419Z"
   },
   {
    "duration": 0,
    "start_time": "2022-06-01T22:15:47.523Z"
   },
   {
    "duration": 0,
    "start_time": "2022-06-01T22:15:47.527Z"
   },
   {
    "duration": 0,
    "start_time": "2022-06-01T22:15:47.528Z"
   },
   {
    "duration": 28,
    "start_time": "2022-06-01T22:17:02.484Z"
   },
   {
    "duration": 99,
    "start_time": "2022-06-01T22:17:05.831Z"
   },
   {
    "duration": 28,
    "start_time": "2022-06-01T22:17:26.211Z"
   },
   {
    "duration": 700,
    "start_time": "2022-06-01T22:17:31.821Z"
   },
   {
    "duration": 978,
    "start_time": "2022-06-01T22:17:32.523Z"
   },
   {
    "duration": 455,
    "start_time": "2022-06-01T22:17:33.502Z"
   },
   {
    "duration": 525,
    "start_time": "2022-06-01T22:17:33.959Z"
   },
   {
    "duration": 50,
    "start_time": "2022-06-01T22:17:34.486Z"
   },
   {
    "duration": 77,
    "start_time": "2022-06-01T22:17:34.538Z"
   },
   {
    "duration": 91,
    "start_time": "2022-06-01T22:17:34.616Z"
   },
   {
    "duration": 70,
    "start_time": "2022-06-01T22:17:34.708Z"
   },
   {
    "duration": 259,
    "start_time": "2022-06-01T22:17:34.780Z"
   },
   {
    "duration": 8,
    "start_time": "2022-06-01T22:17:35.042Z"
   },
   {
    "duration": 21,
    "start_time": "2022-06-01T22:17:35.051Z"
   },
   {
    "duration": 31,
    "start_time": "2022-06-01T22:17:35.073Z"
   },
   {
    "duration": 268,
    "start_time": "2022-06-01T22:17:35.105Z"
   },
   {
    "duration": 18,
    "start_time": "2022-06-01T22:17:35.374Z"
   },
   {
    "duration": 51,
    "start_time": "2022-06-01T22:17:35.394Z"
   },
   {
    "duration": 26,
    "start_time": "2022-06-01T22:17:35.447Z"
   },
   {
    "duration": 257,
    "start_time": "2022-06-01T22:17:35.475Z"
   },
   {
    "duration": 32,
    "start_time": "2022-06-01T22:17:35.733Z"
   },
   {
    "duration": 224,
    "start_time": "2022-06-01T22:17:35.766Z"
   },
   {
    "duration": 38,
    "start_time": "2022-06-01T22:17:35.991Z"
   },
   {
    "duration": 96,
    "start_time": "2022-06-01T22:17:36.031Z"
   },
   {
    "duration": 0,
    "start_time": "2022-06-01T22:17:36.128Z"
   },
   {
    "duration": 0,
    "start_time": "2022-06-01T22:17:36.130Z"
   },
   {
    "duration": 4,
    "start_time": "2022-06-01T22:17:47.866Z"
   },
   {
    "duration": 650,
    "start_time": "2022-06-01T22:18:03.559Z"
   },
   {
    "duration": 1030,
    "start_time": "2022-06-01T22:18:04.211Z"
   },
   {
    "duration": 457,
    "start_time": "2022-06-01T22:18:05.243Z"
   },
   {
    "duration": 559,
    "start_time": "2022-06-01T22:18:05.702Z"
   },
   {
    "duration": 51,
    "start_time": "2022-06-01T22:18:06.264Z"
   },
   {
    "duration": 139,
    "start_time": "2022-06-01T22:18:06.316Z"
   },
   {
    "duration": 121,
    "start_time": "2022-06-01T22:18:06.457Z"
   },
   {
    "duration": 93,
    "start_time": "2022-06-01T22:18:06.579Z"
   },
   {
    "duration": 255,
    "start_time": "2022-06-01T22:18:06.674Z"
   },
   {
    "duration": 9,
    "start_time": "2022-06-01T22:18:06.931Z"
   },
   {
    "duration": 21,
    "start_time": "2022-06-01T22:18:06.941Z"
   },
   {
    "duration": 30,
    "start_time": "2022-06-01T22:18:06.964Z"
   },
   {
    "duration": 278,
    "start_time": "2022-06-01T22:18:06.995Z"
   },
   {
    "duration": 20,
    "start_time": "2022-06-01T22:18:07.275Z"
   },
   {
    "duration": 51,
    "start_time": "2022-06-01T22:18:07.297Z"
   },
   {
    "duration": 28,
    "start_time": "2022-06-01T22:18:07.349Z"
   },
   {
    "duration": 260,
    "start_time": "2022-06-01T22:18:07.378Z"
   },
   {
    "duration": 31,
    "start_time": "2022-06-01T22:18:07.640Z"
   },
   {
    "duration": 274,
    "start_time": "2022-06-01T22:18:07.673Z"
   },
   {
    "duration": 32,
    "start_time": "2022-06-01T22:18:07.948Z"
   },
   {
    "duration": 68,
    "start_time": "2022-06-01T22:18:07.982Z"
   },
   {
    "duration": 82,
    "start_time": "2022-06-01T22:18:08.051Z"
   },
   {
    "duration": 94,
    "start_time": "2022-06-01T22:18:50.719Z"
   },
   {
    "duration": 24,
    "start_time": "2022-06-01T22:19:33.928Z"
   },
   {
    "duration": 99,
    "start_time": "2022-06-01T22:19:35.051Z"
   },
   {
    "duration": 57,
    "start_time": "2022-06-01T22:19:37.334Z"
   },
   {
    "duration": 644,
    "start_time": "2022-06-01T22:19:42.117Z"
   },
   {
    "duration": 947,
    "start_time": "2022-06-01T22:19:42.763Z"
   },
   {
    "duration": 424,
    "start_time": "2022-06-01T22:19:43.712Z"
   },
   {
    "duration": 524,
    "start_time": "2022-06-01T22:19:44.138Z"
   },
   {
    "duration": 38,
    "start_time": "2022-06-01T22:19:44.664Z"
   },
   {
    "duration": 90,
    "start_time": "2022-06-01T22:19:44.703Z"
   },
   {
    "duration": 90,
    "start_time": "2022-06-01T22:19:44.794Z"
   },
   {
    "duration": 71,
    "start_time": "2022-06-01T22:19:44.886Z"
   },
   {
    "duration": 246,
    "start_time": "2022-06-01T22:19:44.959Z"
   },
   {
    "duration": 8,
    "start_time": "2022-06-01T22:19:45.207Z"
   },
   {
    "duration": 29,
    "start_time": "2022-06-01T22:19:45.216Z"
   },
   {
    "duration": 32,
    "start_time": "2022-06-01T22:19:45.247Z"
   },
   {
    "duration": 260,
    "start_time": "2022-06-01T22:19:45.281Z"
   },
   {
    "duration": 19,
    "start_time": "2022-06-01T22:19:45.543Z"
   },
   {
    "duration": 36,
    "start_time": "2022-06-01T22:19:45.563Z"
   },
   {
    "duration": 41,
    "start_time": "2022-06-01T22:19:45.602Z"
   },
   {
    "duration": 284,
    "start_time": "2022-06-01T22:19:45.644Z"
   },
   {
    "duration": 29,
    "start_time": "2022-06-01T22:19:45.930Z"
   },
   {
    "duration": 236,
    "start_time": "2022-06-01T22:19:45.960Z"
   },
   {
    "duration": 39,
    "start_time": "2022-06-01T22:19:46.197Z"
   },
   {
    "duration": 401,
    "start_time": "2022-06-01T22:19:46.238Z"
   },
   {
    "duration": 56,
    "start_time": "2022-06-01T22:19:46.641Z"
   },
   {
    "duration": 70,
    "start_time": "2022-06-01T22:19:46.698Z"
   },
   {
    "duration": 26,
    "start_time": "2022-06-01T22:20:12.651Z"
   },
   {
    "duration": 93,
    "start_time": "2022-06-01T22:20:13.713Z"
   },
   {
    "duration": 90,
    "start_time": "2022-06-01T22:20:25.426Z"
   },
   {
    "duration": 57,
    "start_time": "2022-06-01T22:20:25.672Z"
   },
   {
    "duration": 4,
    "start_time": "2022-06-01T22:20:42.049Z"
   },
   {
    "duration": 325,
    "start_time": "2022-06-01T22:20:42.815Z"
   },
   {
    "duration": 58,
    "start_time": "2022-06-01T22:20:43.272Z"
   },
   {
    "duration": 593,
    "start_time": "2022-06-01T22:20:50.882Z"
   },
   {
    "duration": 964,
    "start_time": "2022-06-01T22:20:51.477Z"
   },
   {
    "duration": 437,
    "start_time": "2022-06-01T22:20:52.443Z"
   },
   {
    "duration": 509,
    "start_time": "2022-06-01T22:20:52.882Z"
   },
   {
    "duration": 44,
    "start_time": "2022-06-01T22:20:53.393Z"
   },
   {
    "duration": 73,
    "start_time": "2022-06-01T22:20:53.439Z"
   },
   {
    "duration": 88,
    "start_time": "2022-06-01T22:20:53.513Z"
   },
   {
    "duration": 70,
    "start_time": "2022-06-01T22:20:53.603Z"
   },
   {
    "duration": 263,
    "start_time": "2022-06-01T22:20:53.675Z"
   },
   {
    "duration": 7,
    "start_time": "2022-06-01T22:20:53.940Z"
   },
   {
    "duration": 32,
    "start_time": "2022-06-01T22:20:53.949Z"
   },
   {
    "duration": 29,
    "start_time": "2022-06-01T22:20:53.983Z"
   },
   {
    "duration": 251,
    "start_time": "2022-06-01T22:20:54.013Z"
   },
   {
    "duration": 19,
    "start_time": "2022-06-01T22:20:54.265Z"
   },
   {
    "duration": 49,
    "start_time": "2022-06-01T22:20:54.285Z"
   },
   {
    "duration": 27,
    "start_time": "2022-06-01T22:20:54.336Z"
   },
   {
    "duration": 244,
    "start_time": "2022-06-01T22:20:54.365Z"
   },
   {
    "duration": 27,
    "start_time": "2022-06-01T22:20:54.611Z"
   },
   {
    "duration": 232,
    "start_time": "2022-06-01T22:20:54.640Z"
   },
   {
    "duration": 3,
    "start_time": "2022-06-01T22:20:54.874Z"
   },
   {
    "duration": 0,
    "start_time": "2022-06-01T22:20:54.878Z"
   },
   {
    "duration": 0,
    "start_time": "2022-06-01T22:20:54.879Z"
   },
   {
    "duration": 0,
    "start_time": "2022-06-01T22:20:54.880Z"
   },
   {
    "duration": 28,
    "start_time": "2022-06-01T22:21:00.009Z"
   },
   {
    "duration": 102,
    "start_time": "2022-06-01T22:21:01.052Z"
   },
   {
    "duration": 60,
    "start_time": "2022-06-01T22:21:01.682Z"
   },
   {
    "duration": 4,
    "start_time": "2022-06-01T22:21:10.138Z"
   },
   {
    "duration": 18,
    "start_time": "2022-06-01T22:21:20.346Z"
   },
   {
    "duration": 10,
    "start_time": "2022-06-01T22:25:09.142Z"
   },
   {
    "duration": 22,
    "start_time": "2022-06-01T22:25:16.778Z"
   },
   {
    "duration": 681,
    "start_time": "2022-06-01T22:25:23.794Z"
   },
   {
    "duration": 987,
    "start_time": "2022-06-01T22:25:24.477Z"
   },
   {
    "duration": 429,
    "start_time": "2022-06-01T22:25:25.465Z"
   },
   {
    "duration": 562,
    "start_time": "2022-06-01T22:25:25.896Z"
   },
   {
    "duration": 52,
    "start_time": "2022-06-01T22:25:26.460Z"
   },
   {
    "duration": 76,
    "start_time": "2022-06-01T22:25:26.514Z"
   },
   {
    "duration": 96,
    "start_time": "2022-06-01T22:25:26.592Z"
   },
   {
    "duration": 68,
    "start_time": "2022-06-01T22:25:26.690Z"
   },
   {
    "duration": 251,
    "start_time": "2022-06-01T22:25:26.760Z"
   },
   {
    "duration": 14,
    "start_time": "2022-06-01T22:25:27.014Z"
   },
   {
    "duration": 22,
    "start_time": "2022-06-01T22:25:27.030Z"
   },
   {
    "duration": 31,
    "start_time": "2022-06-01T22:25:27.053Z"
   },
   {
    "duration": 283,
    "start_time": "2022-06-01T22:25:27.086Z"
   },
   {
    "duration": 19,
    "start_time": "2022-06-01T22:25:27.371Z"
   },
   {
    "duration": 51,
    "start_time": "2022-06-01T22:25:27.392Z"
   },
   {
    "duration": 28,
    "start_time": "2022-06-01T22:25:27.444Z"
   },
   {
    "duration": 261,
    "start_time": "2022-06-01T22:25:27.474Z"
   },
   {
    "duration": 30,
    "start_time": "2022-06-01T22:25:27.737Z"
   },
   {
    "duration": 229,
    "start_time": "2022-06-01T22:25:27.769Z"
   },
   {
    "duration": 34,
    "start_time": "2022-06-01T22:25:27.999Z"
   },
   {
    "duration": 97,
    "start_time": "2022-06-01T22:25:28.034Z"
   },
   {
    "duration": 0,
    "start_time": "2022-06-01T22:25:28.132Z"
   },
   {
    "duration": 0,
    "start_time": "2022-06-01T22:25:28.134Z"
   },
   {
    "duration": 61,
    "start_time": "2022-06-01T22:25:38.907Z"
   },
   {
    "duration": 32,
    "start_time": "2022-06-01T22:31:18.916Z"
   },
   {
    "duration": 653,
    "start_time": "2022-06-01T22:31:25.115Z"
   },
   {
    "duration": 1017,
    "start_time": "2022-06-01T22:31:25.770Z"
   },
   {
    "duration": 417,
    "start_time": "2022-06-01T22:31:26.789Z"
   },
   {
    "duration": 507,
    "start_time": "2022-06-01T22:31:27.208Z"
   },
   {
    "duration": 44,
    "start_time": "2022-06-01T22:31:27.717Z"
   },
   {
    "duration": 78,
    "start_time": "2022-06-01T22:31:27.762Z"
   },
   {
    "duration": 89,
    "start_time": "2022-06-01T22:31:27.842Z"
   },
   {
    "duration": 65,
    "start_time": "2022-06-01T22:31:27.932Z"
   },
   {
    "duration": 259,
    "start_time": "2022-06-01T22:31:27.999Z"
   },
   {
    "duration": 8,
    "start_time": "2022-06-01T22:31:28.260Z"
   },
   {
    "duration": 21,
    "start_time": "2022-06-01T22:31:28.269Z"
   },
   {
    "duration": 43,
    "start_time": "2022-06-01T22:31:28.292Z"
   },
   {
    "duration": 246,
    "start_time": "2022-06-01T22:31:28.336Z"
   },
   {
    "duration": 18,
    "start_time": "2022-06-01T22:31:28.583Z"
   },
   {
    "duration": 49,
    "start_time": "2022-06-01T22:31:28.603Z"
   },
   {
    "duration": 27,
    "start_time": "2022-06-01T22:31:28.654Z"
   },
   {
    "duration": 244,
    "start_time": "2022-06-01T22:31:28.683Z"
   },
   {
    "duration": 29,
    "start_time": "2022-06-01T22:31:28.928Z"
   },
   {
    "duration": 228,
    "start_time": "2022-06-01T22:31:28.958Z"
   },
   {
    "duration": 13,
    "start_time": "2022-06-01T22:31:29.188Z"
   },
   {
    "duration": 73,
    "start_time": "2022-06-01T22:31:29.202Z"
   },
   {
    "duration": 73,
    "start_time": "2022-06-01T22:31:29.276Z"
   },
   {
    "duration": 6,
    "start_time": "2022-06-01T22:31:49.294Z"
   },
   {
    "duration": 620,
    "start_time": "2022-06-01T22:32:22.788Z"
   },
   {
    "duration": 967,
    "start_time": "2022-06-01T22:32:23.409Z"
   },
   {
    "duration": 433,
    "start_time": "2022-06-01T22:32:24.378Z"
   },
   {
    "duration": 535,
    "start_time": "2022-06-01T22:32:24.813Z"
   },
   {
    "duration": 44,
    "start_time": "2022-06-01T22:32:25.349Z"
   },
   {
    "duration": 83,
    "start_time": "2022-06-01T22:32:25.395Z"
   },
   {
    "duration": 94,
    "start_time": "2022-06-01T22:32:25.479Z"
   },
   {
    "duration": 82,
    "start_time": "2022-06-01T22:32:25.575Z"
   },
   {
    "duration": 255,
    "start_time": "2022-06-01T22:32:25.659Z"
   },
   {
    "duration": 14,
    "start_time": "2022-06-01T22:32:25.916Z"
   },
   {
    "duration": 20,
    "start_time": "2022-06-01T22:32:25.931Z"
   },
   {
    "duration": 30,
    "start_time": "2022-06-01T22:32:25.953Z"
   },
   {
    "duration": 271,
    "start_time": "2022-06-01T22:32:25.985Z"
   },
   {
    "duration": 31,
    "start_time": "2022-06-01T22:32:26.258Z"
   },
   {
    "duration": 53,
    "start_time": "2022-06-01T22:32:26.291Z"
   },
   {
    "duration": 34,
    "start_time": "2022-06-01T22:32:26.346Z"
   },
   {
    "duration": 270,
    "start_time": "2022-06-01T22:32:26.381Z"
   },
   {
    "duration": 26,
    "start_time": "2022-06-01T22:32:26.653Z"
   },
   {
    "duration": 217,
    "start_time": "2022-06-01T22:32:26.681Z"
   },
   {
    "duration": 12,
    "start_time": "2022-06-01T22:32:26.900Z"
   },
   {
    "duration": 62,
    "start_time": "2022-06-01T22:32:26.914Z"
   },
   {
    "duration": 67,
    "start_time": "2022-06-01T22:32:26.977Z"
   },
   {
    "duration": 9,
    "start_time": "2022-06-01T22:33:11.108Z"
   },
   {
    "duration": 10,
    "start_time": "2022-06-01T22:33:28.307Z"
   },
   {
    "duration": 7,
    "start_time": "2022-06-01T22:34:43.651Z"
   },
   {
    "duration": 36,
    "start_time": "2022-06-01T22:35:24.859Z"
   },
   {
    "duration": 55,
    "start_time": "2022-06-01T22:35:29.020Z"
   },
   {
    "duration": 21,
    "start_time": "2022-06-01T22:35:41.224Z"
   },
   {
    "duration": 54,
    "start_time": "2022-06-01T22:35:42.346Z"
   },
   {
    "duration": 670,
    "start_time": "2022-06-01T22:35:47.602Z"
   },
   {
    "duration": 975,
    "start_time": "2022-06-01T22:35:48.274Z"
   },
   {
    "duration": 421,
    "start_time": "2022-06-01T22:35:49.250Z"
   },
   {
    "duration": 504,
    "start_time": "2022-06-01T22:35:49.673Z"
   },
   {
    "duration": 42,
    "start_time": "2022-06-01T22:35:50.179Z"
   },
   {
    "duration": 71,
    "start_time": "2022-06-01T22:35:50.227Z"
   },
   {
    "duration": 92,
    "start_time": "2022-06-01T22:35:50.300Z"
   },
   {
    "duration": 66,
    "start_time": "2022-06-01T22:35:50.394Z"
   },
   {
    "duration": 240,
    "start_time": "2022-06-01T22:35:50.461Z"
   },
   {
    "duration": 8,
    "start_time": "2022-06-01T22:35:50.703Z"
   },
   {
    "duration": 29,
    "start_time": "2022-06-01T22:35:50.713Z"
   },
   {
    "duration": 29,
    "start_time": "2022-06-01T22:35:50.744Z"
   },
   {
    "duration": 247,
    "start_time": "2022-06-01T22:35:50.775Z"
   },
   {
    "duration": 18,
    "start_time": "2022-06-01T22:35:51.025Z"
   },
   {
    "duration": 35,
    "start_time": "2022-06-01T22:35:51.044Z"
   },
   {
    "duration": 48,
    "start_time": "2022-06-01T22:35:51.081Z"
   },
   {
    "duration": 254,
    "start_time": "2022-06-01T22:35:51.131Z"
   },
   {
    "duration": 27,
    "start_time": "2022-06-01T22:35:51.386Z"
   },
   {
    "duration": 228,
    "start_time": "2022-06-01T22:35:51.414Z"
   },
   {
    "duration": 27,
    "start_time": "2022-06-01T22:35:51.644Z"
   },
   {
    "duration": 69,
    "start_time": "2022-06-01T22:35:51.674Z"
   },
   {
    "duration": 60,
    "start_time": "2022-06-01T22:35:51.745Z"
   },
   {
    "duration": 956,
    "start_time": "2022-06-02T15:05:18.641Z"
   },
   {
    "duration": 1543,
    "start_time": "2022-06-02T15:05:19.600Z"
   },
   {
    "duration": 541,
    "start_time": "2022-06-02T15:05:21.145Z"
   },
   {
    "duration": 718,
    "start_time": "2022-06-02T15:05:21.689Z"
   },
   {
    "duration": 55,
    "start_time": "2022-06-02T15:05:22.410Z"
   },
   {
    "duration": 100,
    "start_time": "2022-06-02T15:05:22.467Z"
   },
   {
    "duration": 138,
    "start_time": "2022-06-02T15:05:22.569Z"
   },
   {
    "duration": 142,
    "start_time": "2022-06-02T15:05:22.709Z"
   },
   {
    "duration": 304,
    "start_time": "2022-06-02T15:05:22.853Z"
   },
   {
    "duration": 8,
    "start_time": "2022-06-02T15:05:23.159Z"
   },
   {
    "duration": 22,
    "start_time": "2022-06-02T15:05:23.169Z"
   },
   {
    "duration": 55,
    "start_time": "2022-06-02T15:05:23.193Z"
   },
   {
    "duration": 310,
    "start_time": "2022-06-02T15:05:23.250Z"
   },
   {
    "duration": 20,
    "start_time": "2022-06-02T15:05:23.564Z"
   },
   {
    "duration": 62,
    "start_time": "2022-06-02T15:05:23.586Z"
   },
   {
    "duration": 30,
    "start_time": "2022-06-02T15:05:23.650Z"
   },
   {
    "duration": 305,
    "start_time": "2022-06-02T15:05:23.682Z"
   },
   {
    "duration": 51,
    "start_time": "2022-06-02T15:05:23.989Z"
   },
   {
    "duration": 248,
    "start_time": "2022-06-02T15:05:24.043Z"
   },
   {
    "duration": 105,
    "start_time": "2022-06-02T15:05:24.293Z"
   },
   {
    "duration": 0,
    "start_time": "2022-06-02T15:05:24.399Z"
   },
   {
    "duration": 0,
    "start_time": "2022-06-02T15:05:24.401Z"
   },
   {
    "duration": 774,
    "start_time": "2022-06-02T15:06:07.180Z"
   },
   {
    "duration": 1250,
    "start_time": "2022-06-02T15:06:07.956Z"
   },
   {
    "duration": 678,
    "start_time": "2022-06-02T15:06:09.208Z"
   },
   {
    "duration": 627,
    "start_time": "2022-06-02T15:06:09.889Z"
   },
   {
    "duration": 57,
    "start_time": "2022-06-02T15:06:10.518Z"
   },
   {
    "duration": 110,
    "start_time": "2022-06-02T15:06:10.577Z"
   },
   {
    "duration": 148,
    "start_time": "2022-06-02T15:06:10.689Z"
   },
   {
    "duration": 81,
    "start_time": "2022-06-02T15:06:10.842Z"
   },
   {
    "duration": 328,
    "start_time": "2022-06-02T15:06:10.925Z"
   },
   {
    "duration": 11,
    "start_time": "2022-06-02T15:06:11.256Z"
   },
   {
    "duration": 28,
    "start_time": "2022-06-02T15:06:11.269Z"
   },
   {
    "duration": 61,
    "start_time": "2022-06-02T15:06:11.300Z"
   },
   {
    "duration": 338,
    "start_time": "2022-06-02T15:06:11.363Z"
   },
   {
    "duration": 31,
    "start_time": "2022-06-02T15:06:11.704Z"
   },
   {
    "duration": 47,
    "start_time": "2022-06-02T15:06:11.736Z"
   },
   {
    "duration": 55,
    "start_time": "2022-06-02T15:06:11.785Z"
   },
   {
    "duration": 380,
    "start_time": "2022-06-02T15:06:11.844Z"
   },
   {
    "duration": 42,
    "start_time": "2022-06-02T15:06:12.229Z"
   },
   {
    "duration": 289,
    "start_time": "2022-06-02T15:06:12.273Z"
   },
   {
    "duration": 77,
    "start_time": "2022-06-02T15:06:12.564Z"
   },
   {
    "duration": 171,
    "start_time": "2022-06-02T15:06:12.643Z"
   },
   {
    "duration": 0,
    "start_time": "2022-06-02T15:06:12.816Z"
   },
   {
    "duration": 0,
    "start_time": "2022-06-02T15:06:12.818Z"
   },
   {
    "duration": 37,
    "start_time": "2022-06-02T15:08:08.348Z"
   },
   {
    "duration": 814,
    "start_time": "2022-06-02T15:08:35.049Z"
   },
   {
    "duration": 1190,
    "start_time": "2022-06-02T15:08:35.865Z"
   },
   {
    "duration": 564,
    "start_time": "2022-06-02T15:08:37.057Z"
   },
   {
    "duration": 626,
    "start_time": "2022-06-02T15:08:37.623Z"
   },
   {
    "duration": 43,
    "start_time": "2022-06-02T15:08:38.251Z"
   },
   {
    "duration": 97,
    "start_time": "2022-06-02T15:08:38.296Z"
   },
   {
    "duration": 110,
    "start_time": "2022-06-02T15:08:38.394Z"
   },
   {
    "duration": 90,
    "start_time": "2022-06-02T15:08:38.505Z"
   },
   {
    "duration": 342,
    "start_time": "2022-06-02T15:08:38.597Z"
   },
   {
    "duration": 10,
    "start_time": "2022-06-02T15:08:38.944Z"
   },
   {
    "duration": 49,
    "start_time": "2022-06-02T15:08:38.956Z"
   },
   {
    "duration": 35,
    "start_time": "2022-06-02T15:08:39.007Z"
   },
   {
    "duration": 317,
    "start_time": "2022-06-02T15:08:39.046Z"
   },
   {
    "duration": 21,
    "start_time": "2022-06-02T15:08:39.367Z"
   },
   {
    "duration": 56,
    "start_time": "2022-06-02T15:08:39.390Z"
   },
   {
    "duration": 32,
    "start_time": "2022-06-02T15:08:39.449Z"
   },
   {
    "duration": 320,
    "start_time": "2022-06-02T15:08:39.483Z"
   },
   {
    "duration": 35,
    "start_time": "2022-06-02T15:08:39.805Z"
   },
   {
    "duration": 280,
    "start_time": "2022-06-02T15:08:39.842Z"
   },
   {
    "duration": 72,
    "start_time": "2022-06-02T15:08:40.126Z"
   },
   {
    "duration": 51,
    "start_time": "2022-06-02T15:08:40.200Z"
   },
   {
    "duration": 93,
    "start_time": "2022-06-02T15:08:40.253Z"
   },
   {
    "duration": 69,
    "start_time": "2022-06-02T15:08:40.353Z"
   },
   {
    "duration": 724,
    "start_time": "2022-06-02T15:29:38.355Z"
   },
   {
    "duration": 1165,
    "start_time": "2022-06-02T15:29:39.081Z"
   },
   {
    "duration": 473,
    "start_time": "2022-06-02T15:29:40.248Z"
   },
   {
    "duration": 574,
    "start_time": "2022-06-02T15:29:40.726Z"
   },
   {
    "duration": 47,
    "start_time": "2022-06-02T15:29:41.302Z"
   },
   {
    "duration": 87,
    "start_time": "2022-06-02T15:29:41.351Z"
   },
   {
    "duration": 121,
    "start_time": "2022-06-02T15:29:41.439Z"
   },
   {
    "duration": 101,
    "start_time": "2022-06-02T15:29:41.562Z"
   },
   {
    "duration": 359,
    "start_time": "2022-06-02T15:29:41.665Z"
   },
   {
    "duration": 15,
    "start_time": "2022-06-02T15:29:42.027Z"
   },
   {
    "duration": 41,
    "start_time": "2022-06-02T15:29:42.051Z"
   },
   {
    "duration": 30,
    "start_time": "2022-06-02T15:29:42.093Z"
   },
   {
    "duration": 288,
    "start_time": "2022-06-02T15:29:42.125Z"
   },
   {
    "duration": 45,
    "start_time": "2022-06-02T15:29:42.414Z"
   },
   {
    "duration": 39,
    "start_time": "2022-06-02T15:29:42.461Z"
   },
   {
    "duration": 50,
    "start_time": "2022-06-02T15:29:42.502Z"
   },
   {
    "duration": 314,
    "start_time": "2022-06-02T15:29:42.554Z"
   },
   {
    "duration": 29,
    "start_time": "2022-06-02T15:29:42.869Z"
   },
   {
    "duration": 279,
    "start_time": "2022-06-02T15:29:42.900Z"
   },
   {
    "duration": 78,
    "start_time": "2022-06-02T15:29:43.181Z"
   },
   {
    "duration": 18,
    "start_time": "2022-06-02T15:29:43.261Z"
   },
   {
    "duration": 88,
    "start_time": "2022-06-02T15:29:43.281Z"
   },
   {
    "duration": 86,
    "start_time": "2022-06-02T15:29:43.371Z"
   },
   {
    "duration": 754,
    "start_time": "2022-06-02T15:30:00.357Z"
   },
   {
    "duration": 1329,
    "start_time": "2022-06-02T15:30:01.113Z"
   },
   {
    "duration": 530,
    "start_time": "2022-06-02T15:30:02.448Z"
   },
   {
    "duration": 585,
    "start_time": "2022-06-02T15:30:02.980Z"
   },
   {
    "duration": 45,
    "start_time": "2022-06-02T15:30:03.567Z"
   },
   {
    "duration": 146,
    "start_time": "2022-06-02T15:30:03.614Z"
   },
   {
    "duration": 120,
    "start_time": "2022-06-02T15:30:03.761Z"
   },
   {
    "duration": 83,
    "start_time": "2022-06-02T15:30:03.883Z"
   },
   {
    "duration": 319,
    "start_time": "2022-06-02T15:30:03.967Z"
   },
   {
    "duration": 9,
    "start_time": "2022-06-02T15:30:04.288Z"
   },
   {
    "duration": 41,
    "start_time": "2022-06-02T15:30:04.298Z"
   },
   {
    "duration": 55,
    "start_time": "2022-06-02T15:30:04.340Z"
   },
   {
    "duration": 314,
    "start_time": "2022-06-02T15:30:04.397Z"
   },
   {
    "duration": 37,
    "start_time": "2022-06-02T15:30:04.713Z"
   },
   {
    "duration": 56,
    "start_time": "2022-06-02T15:30:04.752Z"
   },
   {
    "duration": 43,
    "start_time": "2022-06-02T15:30:04.810Z"
   },
   {
    "duration": 318,
    "start_time": "2022-06-02T15:30:04.855Z"
   },
   {
    "duration": 33,
    "start_time": "2022-06-02T15:30:05.175Z"
   },
   {
    "duration": 349,
    "start_time": "2022-06-02T15:30:05.210Z"
   },
   {
    "duration": 76,
    "start_time": "2022-06-02T15:30:05.562Z"
   },
   {
    "duration": 33,
    "start_time": "2022-06-02T15:30:05.644Z"
   },
   {
    "duration": 102,
    "start_time": "2022-06-02T15:30:05.680Z"
   },
   {
    "duration": 92,
    "start_time": "2022-06-02T15:30:05.785Z"
   },
   {
    "duration": 703,
    "start_time": "2022-06-02T15:30:17.877Z"
   },
   {
    "duration": 1158,
    "start_time": "2022-06-02T15:30:18.582Z"
   },
   {
    "duration": 516,
    "start_time": "2022-06-02T15:30:19.742Z"
   },
   {
    "duration": 588,
    "start_time": "2022-06-02T15:30:20.260Z"
   },
   {
    "duration": 43,
    "start_time": "2022-06-02T15:30:20.850Z"
   },
   {
    "duration": 107,
    "start_time": "2022-06-02T15:30:20.895Z"
   },
   {
    "duration": 127,
    "start_time": "2022-06-02T15:30:21.004Z"
   },
   {
    "duration": 105,
    "start_time": "2022-06-02T15:30:21.133Z"
   },
   {
    "duration": 332,
    "start_time": "2022-06-02T15:30:21.239Z"
   },
   {
    "duration": 10,
    "start_time": "2022-06-02T15:30:21.574Z"
   },
   {
    "duration": 39,
    "start_time": "2022-06-02T15:30:21.586Z"
   },
   {
    "duration": 43,
    "start_time": "2022-06-02T15:30:21.636Z"
   },
   {
    "duration": 370,
    "start_time": "2022-06-02T15:30:21.681Z"
   },
   {
    "duration": 23,
    "start_time": "2022-06-02T15:30:22.053Z"
   },
   {
    "duration": 39,
    "start_time": "2022-06-02T15:30:22.078Z"
   },
   {
    "duration": 56,
    "start_time": "2022-06-02T15:30:22.118Z"
   },
   {
    "duration": 308,
    "start_time": "2022-06-02T15:30:22.176Z"
   },
   {
    "duration": 46,
    "start_time": "2022-06-02T15:30:22.486Z"
   },
   {
    "duration": 282,
    "start_time": "2022-06-02T15:30:22.540Z"
   },
   {
    "duration": 77,
    "start_time": "2022-06-02T15:30:22.826Z"
   },
   {
    "duration": 33,
    "start_time": "2022-06-02T15:30:22.905Z"
   },
   {
    "duration": 71,
    "start_time": "2022-06-02T15:30:22.939Z"
   },
   {
    "duration": 89,
    "start_time": "2022-06-02T15:30:23.012Z"
   },
   {
    "duration": 727,
    "start_time": "2022-06-02T15:31:52.488Z"
   },
   {
    "duration": 1177,
    "start_time": "2022-06-02T15:31:53.216Z"
   },
   {
    "duration": 501,
    "start_time": "2022-06-02T15:31:54.394Z"
   },
   {
    "duration": 578,
    "start_time": "2022-06-02T15:31:54.897Z"
   },
   {
    "duration": 41,
    "start_time": "2022-06-02T15:31:55.477Z"
   },
   {
    "duration": 97,
    "start_time": "2022-06-02T15:31:55.520Z"
   },
   {
    "duration": 125,
    "start_time": "2022-06-02T15:31:55.619Z"
   },
   {
    "duration": 88,
    "start_time": "2022-06-02T15:31:55.754Z"
   },
   {
    "duration": 289,
    "start_time": "2022-06-02T15:31:55.851Z"
   },
   {
    "duration": 9,
    "start_time": "2022-06-02T15:31:56.143Z"
   },
   {
    "duration": 21,
    "start_time": "2022-06-02T15:31:56.153Z"
   },
   {
    "duration": 32,
    "start_time": "2022-06-02T15:31:56.176Z"
   },
   {
    "duration": 319,
    "start_time": "2022-06-02T15:31:56.231Z"
   },
   {
    "duration": 21,
    "start_time": "2022-06-02T15:31:56.552Z"
   },
   {
    "duration": 52,
    "start_time": "2022-06-02T15:31:56.575Z"
   },
   {
    "duration": 49,
    "start_time": "2022-06-02T15:31:56.631Z"
   },
   {
    "duration": 304,
    "start_time": "2022-06-02T15:31:56.682Z"
   },
   {
    "duration": 50,
    "start_time": "2022-06-02T15:31:56.988Z"
   },
   {
    "duration": 254,
    "start_time": "2022-06-02T15:31:57.040Z"
   },
   {
    "duration": 82,
    "start_time": "2022-06-02T15:31:57.295Z"
   },
   {
    "duration": 11,
    "start_time": "2022-06-02T15:31:57.379Z"
   },
   {
    "duration": 100,
    "start_time": "2022-06-02T15:31:57.392Z"
   },
   {
    "duration": 90,
    "start_time": "2022-06-02T15:31:57.493Z"
   },
   {
    "duration": 5,
    "start_time": "2022-06-02T15:32:12.519Z"
   },
   {
    "duration": 88,
    "start_time": "2022-06-02T15:32:13.098Z"
   },
   {
    "duration": 697,
    "start_time": "2022-06-02T15:32:17.583Z"
   },
   {
    "duration": 1156,
    "start_time": "2022-06-02T15:32:18.282Z"
   },
   {
    "duration": 500,
    "start_time": "2022-06-02T15:32:19.446Z"
   },
   {
    "duration": 578,
    "start_time": "2022-06-02T15:32:19.951Z"
   },
   {
    "duration": 52,
    "start_time": "2022-06-02T15:32:20.532Z"
   },
   {
    "duration": 112,
    "start_time": "2022-06-02T15:32:20.586Z"
   },
   {
    "duration": 117,
    "start_time": "2022-06-02T15:32:20.700Z"
   },
   {
    "duration": 125,
    "start_time": "2022-06-02T15:32:20.820Z"
   },
   {
    "duration": 358,
    "start_time": "2022-06-02T15:32:20.956Z"
   },
   {
    "duration": 20,
    "start_time": "2022-06-02T15:32:21.317Z"
   },
   {
    "duration": 53,
    "start_time": "2022-06-02T15:32:21.341Z"
   },
   {
    "duration": 42,
    "start_time": "2022-06-02T15:32:21.395Z"
   },
   {
    "duration": 435,
    "start_time": "2022-06-02T15:32:21.440Z"
   },
   {
    "duration": 21,
    "start_time": "2022-06-02T15:32:21.878Z"
   },
   {
    "duration": 60,
    "start_time": "2022-06-02T15:32:21.901Z"
   },
   {
    "duration": 35,
    "start_time": "2022-06-02T15:32:21.963Z"
   },
   {
    "duration": 305,
    "start_time": "2022-06-02T15:32:22.000Z"
   },
   {
    "duration": 46,
    "start_time": "2022-06-02T15:32:22.307Z"
   },
   {
    "duration": 274,
    "start_time": "2022-06-02T15:32:22.358Z"
   },
   {
    "duration": 72,
    "start_time": "2022-06-02T15:32:22.635Z"
   },
   {
    "duration": 34,
    "start_time": "2022-06-02T15:32:22.709Z"
   },
   {
    "duration": 71,
    "start_time": "2022-06-02T15:32:22.748Z"
   },
   {
    "duration": 95,
    "start_time": "2022-06-02T15:32:22.821Z"
   },
   {
    "duration": 9,
    "start_time": "2022-06-02T15:32:42.466Z"
   },
   {
    "duration": 738,
    "start_time": "2022-06-02T15:32:53.832Z"
   },
   {
    "duration": 1182,
    "start_time": "2022-06-02T15:32:54.573Z"
   },
   {
    "duration": 502,
    "start_time": "2022-06-02T15:32:55.758Z"
   },
   {
    "duration": 581,
    "start_time": "2022-06-02T15:32:56.263Z"
   },
   {
    "duration": 41,
    "start_time": "2022-06-02T15:32:56.848Z"
   },
   {
    "duration": 113,
    "start_time": "2022-06-02T15:32:56.891Z"
   },
   {
    "duration": 101,
    "start_time": "2022-06-02T15:32:57.006Z"
   },
   {
    "duration": 91,
    "start_time": "2022-06-02T15:32:57.109Z"
   },
   {
    "duration": 308,
    "start_time": "2022-06-02T15:32:57.202Z"
   },
   {
    "duration": 14,
    "start_time": "2022-06-02T15:32:57.513Z"
   },
   {
    "duration": 31,
    "start_time": "2022-06-02T15:32:57.529Z"
   },
   {
    "duration": 34,
    "start_time": "2022-06-02T15:32:57.561Z"
   },
   {
    "duration": 306,
    "start_time": "2022-06-02T15:32:57.597Z"
   },
   {
    "duration": 34,
    "start_time": "2022-06-02T15:32:57.904Z"
   },
   {
    "duration": 56,
    "start_time": "2022-06-02T15:32:57.942Z"
   },
   {
    "duration": 35,
    "start_time": "2022-06-02T15:32:58.000Z"
   },
   {
    "duration": 315,
    "start_time": "2022-06-02T15:32:58.038Z"
   },
   {
    "duration": 29,
    "start_time": "2022-06-02T15:32:58.360Z"
   },
   {
    "duration": 275,
    "start_time": "2022-06-02T15:32:58.390Z"
   },
   {
    "duration": 78,
    "start_time": "2022-06-02T15:32:58.667Z"
   },
   {
    "duration": 27,
    "start_time": "2022-06-02T15:32:58.751Z"
   },
   {
    "duration": 67,
    "start_time": "2022-06-02T15:32:58.780Z"
   },
   {
    "duration": 81,
    "start_time": "2022-06-02T15:32:58.848Z"
   },
   {
    "duration": 730,
    "start_time": "2022-06-02T15:33:25.989Z"
   },
   {
    "duration": 1193,
    "start_time": "2022-06-02T15:33:26.721Z"
   },
   {
    "duration": 495,
    "start_time": "2022-06-02T15:33:27.916Z"
   },
   {
    "duration": 584,
    "start_time": "2022-06-02T15:33:28.413Z"
   },
   {
    "duration": 56,
    "start_time": "2022-06-02T15:33:28.999Z"
   },
   {
    "duration": 87,
    "start_time": "2022-06-02T15:33:29.059Z"
   },
   {
    "duration": 112,
    "start_time": "2022-06-02T15:33:29.148Z"
   },
   {
    "duration": 89,
    "start_time": "2022-06-02T15:33:29.265Z"
   },
   {
    "duration": 313,
    "start_time": "2022-06-02T15:33:29.357Z"
   },
   {
    "duration": 9,
    "start_time": "2022-06-02T15:33:29.673Z"
   },
   {
    "duration": 22,
    "start_time": "2022-06-02T15:33:29.683Z"
   },
   {
    "duration": 62,
    "start_time": "2022-06-02T15:33:29.708Z"
   },
   {
    "duration": 300,
    "start_time": "2022-06-02T15:33:29.772Z"
   },
   {
    "duration": 20,
    "start_time": "2022-06-02T15:33:30.074Z"
   },
   {
    "duration": 63,
    "start_time": "2022-06-02T15:33:30.096Z"
   },
   {
    "duration": 30,
    "start_time": "2022-06-02T15:33:30.162Z"
   },
   {
    "duration": 293,
    "start_time": "2022-06-02T15:33:30.194Z"
   },
   {
    "duration": 44,
    "start_time": "2022-06-02T15:33:30.489Z"
   },
   {
    "duration": 283,
    "start_time": "2022-06-02T15:33:30.538Z"
   },
   {
    "duration": 82,
    "start_time": "2022-06-02T15:33:30.823Z"
   },
   {
    "duration": 34,
    "start_time": "2022-06-02T15:33:30.906Z"
   },
   {
    "duration": 68,
    "start_time": "2022-06-02T15:33:30.953Z"
   },
   {
    "duration": 89,
    "start_time": "2022-06-02T15:33:31.022Z"
   },
   {
    "duration": 727,
    "start_time": "2022-06-02T15:39:50.514Z"
   },
   {
    "duration": 1221,
    "start_time": "2022-06-02T15:39:51.243Z"
   },
   {
    "duration": 492,
    "start_time": "2022-06-02T15:39:52.466Z"
   },
   {
    "duration": 561,
    "start_time": "2022-06-02T15:39:52.961Z"
   },
   {
    "duration": 58,
    "start_time": "2022-06-02T15:39:53.524Z"
   },
   {
    "duration": 96,
    "start_time": "2022-06-02T15:39:53.583Z"
   },
   {
    "duration": 102,
    "start_time": "2022-06-02T15:39:53.681Z"
   },
   {
    "duration": 85,
    "start_time": "2022-06-02T15:39:53.785Z"
   },
   {
    "duration": 311,
    "start_time": "2022-06-02T15:39:53.872Z"
   },
   {
    "duration": 8,
    "start_time": "2022-06-02T15:39:54.185Z"
   },
   {
    "duration": 39,
    "start_time": "2022-06-02T15:39:54.195Z"
   },
   {
    "duration": 33,
    "start_time": "2022-06-02T15:39:54.241Z"
   },
   {
    "duration": 285,
    "start_time": "2022-06-02T15:39:54.276Z"
   },
   {
    "duration": 21,
    "start_time": "2022-06-02T15:39:54.564Z"
   },
   {
    "duration": 56,
    "start_time": "2022-06-02T15:39:54.587Z"
   },
   {
    "duration": 39,
    "start_time": "2022-06-02T15:39:54.647Z"
   },
   {
    "duration": 331,
    "start_time": "2022-06-02T15:39:54.688Z"
   },
   {
    "duration": 46,
    "start_time": "2022-06-02T15:39:55.020Z"
   },
   {
    "duration": 249,
    "start_time": "2022-06-02T15:39:55.067Z"
   },
   {
    "duration": 74,
    "start_time": "2022-06-02T15:39:55.317Z"
   },
   {
    "duration": 27,
    "start_time": "2022-06-02T15:39:55.393Z"
   },
   {
    "duration": 0,
    "start_time": "2022-06-02T15:39:55.421Z"
   },
   {
    "duration": 0,
    "start_time": "2022-06-02T15:39:55.422Z"
   },
   {
    "duration": 97,
    "start_time": "2022-06-02T15:40:14.759Z"
   },
   {
    "duration": 70,
    "start_time": "2022-06-02T15:40:15.571Z"
   },
   {
    "duration": 221,
    "start_time": "2022-06-02T15:42:35.050Z"
   },
   {
    "duration": 89,
    "start_time": "2022-06-02T15:42:36.746Z"
   },
   {
    "duration": 707,
    "start_time": "2022-06-02T15:42:50.648Z"
   },
   {
    "duration": 1248,
    "start_time": "2022-06-02T15:42:51.357Z"
   },
   {
    "duration": 605,
    "start_time": "2022-06-02T15:42:52.608Z"
   },
   {
    "duration": 565,
    "start_time": "2022-06-02T15:42:53.217Z"
   },
   {
    "duration": 49,
    "start_time": "2022-06-02T15:42:53.784Z"
   },
   {
    "duration": 78,
    "start_time": "2022-06-02T15:42:53.834Z"
   },
   {
    "duration": 101,
    "start_time": "2022-06-02T15:42:53.913Z"
   },
   {
    "duration": 87,
    "start_time": "2022-06-02T15:42:54.015Z"
   },
   {
    "duration": 284,
    "start_time": "2022-06-02T15:42:54.104Z"
   },
   {
    "duration": 9,
    "start_time": "2022-06-02T15:42:54.390Z"
   },
   {
    "duration": 39,
    "start_time": "2022-06-02T15:42:54.402Z"
   },
   {
    "duration": 41,
    "start_time": "2022-06-02T15:42:54.443Z"
   },
   {
    "duration": 288,
    "start_time": "2022-06-02T15:42:54.486Z"
   },
   {
    "duration": 20,
    "start_time": "2022-06-02T15:42:54.775Z"
   },
   {
    "duration": 64,
    "start_time": "2022-06-02T15:42:54.797Z"
   },
   {
    "duration": 44,
    "start_time": "2022-06-02T15:42:54.863Z"
   },
   {
    "duration": 335,
    "start_time": "2022-06-02T15:42:54.910Z"
   },
   {
    "duration": 34,
    "start_time": "2022-06-02T15:42:55.249Z"
   },
   {
    "duration": 265,
    "start_time": "2022-06-02T15:42:55.285Z"
   },
   {
    "duration": 109,
    "start_time": "2022-06-02T15:42:55.552Z"
   },
   {
    "duration": 220,
    "start_time": "2022-06-02T15:42:55.663Z"
   },
   {
    "duration": 76,
    "start_time": "2022-06-02T15:42:55.885Z"
   },
   {
    "duration": 69,
    "start_time": "2022-06-02T15:43:10.881Z"
   },
   {
    "duration": 5,
    "start_time": "2022-06-02T15:43:25.142Z"
   },
   {
    "duration": 7,
    "start_time": "2022-06-02T15:43:28.979Z"
   },
   {
    "duration": 23,
    "start_time": "2022-06-02T15:43:49.357Z"
   },
   {
    "duration": 93,
    "start_time": "2022-06-02T15:44:14.995Z"
   },
   {
    "duration": 234,
    "start_time": "2022-06-02T15:44:15.525Z"
   },
   {
    "duration": 29,
    "start_time": "2022-06-02T15:44:16.009Z"
   },
   {
    "duration": 688,
    "start_time": "2022-06-02T15:44:24.772Z"
   },
   {
    "duration": 1106,
    "start_time": "2022-06-02T15:44:25.462Z"
   },
   {
    "duration": 456,
    "start_time": "2022-06-02T15:44:26.569Z"
   },
   {
    "duration": 547,
    "start_time": "2022-06-02T15:44:27.027Z"
   },
   {
    "duration": 41,
    "start_time": "2022-06-02T15:44:27.576Z"
   },
   {
    "duration": 81,
    "start_time": "2022-06-02T15:44:27.630Z"
   },
   {
    "duration": 104,
    "start_time": "2022-06-02T15:44:27.713Z"
   },
   {
    "duration": 87,
    "start_time": "2022-06-02T15:44:27.819Z"
   },
   {
    "duration": 275,
    "start_time": "2022-06-02T15:44:27.908Z"
   },
   {
    "duration": 8,
    "start_time": "2022-06-02T15:44:28.186Z"
   },
   {
    "duration": 32,
    "start_time": "2022-06-02T15:44:28.196Z"
   },
   {
    "duration": 33,
    "start_time": "2022-06-02T15:44:28.236Z"
   },
   {
    "duration": 283,
    "start_time": "2022-06-02T15:44:28.271Z"
   },
   {
    "duration": 21,
    "start_time": "2022-06-02T15:44:28.556Z"
   },
   {
    "duration": 51,
    "start_time": "2022-06-02T15:44:28.578Z"
   },
   {
    "duration": 35,
    "start_time": "2022-06-02T15:44:28.632Z"
   },
   {
    "duration": 286,
    "start_time": "2022-06-02T15:44:28.669Z"
   },
   {
    "duration": 30,
    "start_time": "2022-06-02T15:44:28.957Z"
   },
   {
    "duration": 255,
    "start_time": "2022-06-02T15:44:28.989Z"
   },
   {
    "duration": 95,
    "start_time": "2022-06-02T15:44:29.246Z"
   },
   {
    "duration": 216,
    "start_time": "2022-06-02T15:44:29.343Z"
   },
   {
    "duration": 18,
    "start_time": "2022-06-02T15:44:29.561Z"
   },
   {
    "duration": 720,
    "start_time": "2022-06-02T15:44:48.687Z"
   },
   {
    "duration": 1156,
    "start_time": "2022-06-02T15:44:49.410Z"
   },
   {
    "duration": 502,
    "start_time": "2022-06-02T15:44:50.568Z"
   },
   {
    "duration": 618,
    "start_time": "2022-06-02T15:44:51.073Z"
   },
   {
    "duration": 61,
    "start_time": "2022-06-02T15:44:51.696Z"
   },
   {
    "duration": 130,
    "start_time": "2022-06-02T15:44:51.760Z"
   },
   {
    "duration": 148,
    "start_time": "2022-06-02T15:44:51.892Z"
   },
   {
    "duration": 130,
    "start_time": "2022-06-02T15:44:52.042Z"
   },
   {
    "duration": 376,
    "start_time": "2022-06-02T15:44:52.174Z"
   },
   {
    "duration": 13,
    "start_time": "2022-06-02T15:44:52.561Z"
   },
   {
    "duration": 61,
    "start_time": "2022-06-02T15:44:52.576Z"
   },
   {
    "duration": 48,
    "start_time": "2022-06-02T15:44:52.639Z"
   },
   {
    "duration": 304,
    "start_time": "2022-06-02T15:44:52.689Z"
   },
   {
    "duration": 48,
    "start_time": "2022-06-02T15:44:52.995Z"
   },
   {
    "duration": 66,
    "start_time": "2022-06-02T15:44:53.045Z"
   },
   {
    "duration": 52,
    "start_time": "2022-06-02T15:44:53.114Z"
   },
   {
    "duration": 350,
    "start_time": "2022-06-02T15:44:53.169Z"
   },
   {
    "duration": 58,
    "start_time": "2022-06-02T15:44:53.521Z"
   },
   {
    "duration": 249,
    "start_time": "2022-06-02T15:44:53.581Z"
   },
   {
    "duration": 100,
    "start_time": "2022-06-02T15:44:53.838Z"
   },
   {
    "duration": 217,
    "start_time": "2022-06-02T15:44:53.940Z"
   },
   {
    "duration": 15,
    "start_time": "2022-06-02T15:44:54.159Z"
   },
   {
    "duration": 106,
    "start_time": "2022-06-02T15:45:07.964Z"
   },
   {
    "duration": 699,
    "start_time": "2022-06-02T15:45:13.468Z"
   },
   {
    "duration": 1121,
    "start_time": "2022-06-02T15:45:14.169Z"
   },
   {
    "duration": 553,
    "start_time": "2022-06-02T15:45:15.292Z"
   },
   {
    "duration": 561,
    "start_time": "2022-06-02T15:45:15.849Z"
   },
   {
    "duration": 52,
    "start_time": "2022-06-02T15:45:16.412Z"
   },
   {
    "duration": 100,
    "start_time": "2022-06-02T15:45:16.465Z"
   },
   {
    "duration": 130,
    "start_time": "2022-06-02T15:45:16.567Z"
   },
   {
    "duration": 90,
    "start_time": "2022-06-02T15:45:16.699Z"
   },
   {
    "duration": 299,
    "start_time": "2022-06-02T15:45:16.790Z"
   },
   {
    "duration": 9,
    "start_time": "2022-06-02T15:45:17.091Z"
   },
   {
    "duration": 43,
    "start_time": "2022-06-02T15:45:17.101Z"
   },
   {
    "duration": 35,
    "start_time": "2022-06-02T15:45:17.145Z"
   },
   {
    "duration": 313,
    "start_time": "2022-06-02T15:45:17.182Z"
   },
   {
    "duration": 35,
    "start_time": "2022-06-02T15:45:17.497Z"
   },
   {
    "duration": 40,
    "start_time": "2022-06-02T15:45:17.533Z"
   },
   {
    "duration": 30,
    "start_time": "2022-06-02T15:45:17.575Z"
   },
   {
    "duration": 298,
    "start_time": "2022-06-02T15:45:17.607Z"
   },
   {
    "duration": 41,
    "start_time": "2022-06-02T15:45:17.907Z"
   },
   {
    "duration": 257,
    "start_time": "2022-06-02T15:45:17.950Z"
   },
   {
    "duration": 123,
    "start_time": "2022-06-02T15:45:18.209Z"
   },
   {
    "duration": 215,
    "start_time": "2022-06-02T15:45:18.336Z"
   },
   {
    "duration": 16,
    "start_time": "2022-06-02T15:45:18.553Z"
   },
   {
    "duration": 30,
    "start_time": "2022-06-02T15:45:59.179Z"
   },
   {
    "duration": 37,
    "start_time": "2022-06-02T15:46:32.030Z"
   },
   {
    "duration": 116,
    "start_time": "2022-06-02T15:46:44.170Z"
   },
   {
    "duration": 26,
    "start_time": "2022-06-02T15:47:56.330Z"
   },
   {
    "duration": 70,
    "start_time": "2022-06-02T15:47:56.643Z"
   },
   {
    "duration": 906,
    "start_time": "2022-06-02T19:18:29.788Z"
   },
   {
    "duration": 1700,
    "start_time": "2022-06-02T19:18:30.696Z"
   },
   {
    "duration": 571,
    "start_time": "2022-06-02T19:18:32.398Z"
   },
   {
    "duration": 591,
    "start_time": "2022-06-02T19:18:32.971Z"
   },
   {
    "duration": 39,
    "start_time": "2022-06-02T19:18:33.564Z"
   },
   {
    "duration": 94,
    "start_time": "2022-06-02T19:18:33.605Z"
   },
   {
    "duration": 110,
    "start_time": "2022-06-02T19:18:33.700Z"
   },
   {
    "duration": 90,
    "start_time": "2022-06-02T19:18:33.811Z"
   },
   {
    "duration": 305,
    "start_time": "2022-06-02T19:18:33.903Z"
   },
   {
    "duration": 31,
    "start_time": "2022-06-02T19:18:34.211Z"
   },
   {
    "duration": 24,
    "start_time": "2022-06-02T19:18:34.243Z"
   },
   {
    "duration": 34,
    "start_time": "2022-06-02T19:18:34.268Z"
   },
   {
    "duration": 362,
    "start_time": "2022-06-02T19:18:34.303Z"
   },
   {
    "duration": 40,
    "start_time": "2022-06-02T19:18:34.668Z"
   },
   {
    "duration": 47,
    "start_time": "2022-06-02T19:18:34.710Z"
   },
   {
    "duration": 30,
    "start_time": "2022-06-02T19:18:34.759Z"
   },
   {
    "duration": 301,
    "start_time": "2022-06-02T19:18:34.791Z"
   },
   {
    "duration": 43,
    "start_time": "2022-06-02T19:18:35.093Z"
   },
   {
    "duration": 248,
    "start_time": "2022-06-02T19:18:35.138Z"
   },
   {
    "duration": 111,
    "start_time": "2022-06-02T19:18:35.388Z"
   },
   {
    "duration": 218,
    "start_time": "2022-06-02T19:18:35.500Z"
   },
   {
    "duration": 21,
    "start_time": "2022-06-02T19:18:35.720Z"
   },
   {
    "duration": 30,
    "start_time": "2022-06-02T19:18:35.744Z"
   },
   {
    "duration": 77,
    "start_time": "2022-06-02T19:18:35.778Z"
   },
   {
    "duration": 98,
    "start_time": "2022-06-02T19:27:40.909Z"
   },
   {
    "duration": 307,
    "start_time": "2022-06-02T19:30:21.226Z"
   },
   {
    "duration": 26,
    "start_time": "2022-06-02T19:32:40.558Z"
   },
   {
    "duration": 30,
    "start_time": "2022-06-02T19:32:50.255Z"
   },
   {
    "duration": 29,
    "start_time": "2022-06-02T19:33:01.500Z"
   },
   {
    "duration": 28,
    "start_time": "2022-06-02T19:33:17.110Z"
   },
   {
    "duration": 294,
    "start_time": "2022-06-02T19:37:33.409Z"
   },
   {
    "duration": 88,
    "start_time": "2022-06-02T19:37:35.558Z"
   },
   {
    "duration": 32,
    "start_time": "2022-06-02T19:38:23.346Z"
   },
   {
    "duration": 16,
    "start_time": "2022-06-02T19:42:43.850Z"
   },
   {
    "duration": 41,
    "start_time": "2022-06-02T19:42:54.162Z"
   },
   {
    "duration": 272,
    "start_time": "2022-06-02T19:44:20.622Z"
   },
   {
    "duration": 41,
    "start_time": "2022-06-02T19:45:32.778Z"
   },
   {
    "duration": 31,
    "start_time": "2022-06-02T19:46:25.877Z"
   },
   {
    "duration": 23,
    "start_time": "2022-06-02T19:49:12.081Z"
   },
   {
    "duration": 72,
    "start_time": "2022-06-02T19:49:12.682Z"
   },
   {
    "duration": 718,
    "start_time": "2022-06-02T19:49:28.997Z"
   },
   {
    "duration": 1199,
    "start_time": "2022-06-02T19:49:29.718Z"
   },
   {
    "duration": 527,
    "start_time": "2022-06-02T19:49:30.919Z"
   },
   {
    "duration": 590,
    "start_time": "2022-06-02T19:49:31.448Z"
   },
   {
    "duration": 50,
    "start_time": "2022-06-02T19:49:32.039Z"
   },
   {
    "duration": 138,
    "start_time": "2022-06-02T19:49:32.091Z"
   },
   {
    "duration": 162,
    "start_time": "2022-06-02T19:49:32.230Z"
   },
   {
    "duration": 82,
    "start_time": "2022-06-02T19:49:32.394Z"
   },
   {
    "duration": 310,
    "start_time": "2022-06-02T19:49:32.478Z"
   },
   {
    "duration": 11,
    "start_time": "2022-06-02T19:49:32.791Z"
   },
   {
    "duration": 59,
    "start_time": "2022-06-02T19:49:32.805Z"
   },
   {
    "duration": 74,
    "start_time": "2022-06-02T19:49:32.866Z"
   },
   {
    "duration": 303,
    "start_time": "2022-06-02T19:49:32.945Z"
   },
   {
    "duration": 22,
    "start_time": "2022-06-02T19:49:33.250Z"
   },
   {
    "duration": 65,
    "start_time": "2022-06-02T19:49:33.274Z"
   },
   {
    "duration": 31,
    "start_time": "2022-06-02T19:49:33.342Z"
   },
   {
    "duration": 287,
    "start_time": "2022-06-02T19:49:33.375Z"
   },
   {
    "duration": 29,
    "start_time": "2022-06-02T19:49:33.664Z"
   },
   {
    "duration": 260,
    "start_time": "2022-06-02T19:49:33.694Z"
   },
   {
    "duration": 105,
    "start_time": "2022-06-02T19:49:33.956Z"
   },
   {
    "duration": 231,
    "start_time": "2022-06-02T19:49:34.063Z"
   },
   {
    "duration": 17,
    "start_time": "2022-06-02T19:49:34.296Z"
   },
   {
    "duration": 37,
    "start_time": "2022-06-02T19:49:34.315Z"
   },
   {
    "duration": 354,
    "start_time": "2022-06-02T19:49:34.354Z"
   },
   {
    "duration": 40,
    "start_time": "2022-06-02T19:49:34.711Z"
   },
   {
    "duration": 308,
    "start_time": "2022-06-02T19:49:34.753Z"
   },
   {
    "duration": 28,
    "start_time": "2022-06-02T19:49:35.063Z"
   },
   {
    "duration": 18,
    "start_time": "2022-06-02T19:49:35.094Z"
   },
   {
    "duration": 281,
    "start_time": "2022-06-02T19:49:35.114Z"
   },
   {
    "duration": 43,
    "start_time": "2022-06-02T19:49:35.397Z"
   },
   {
    "duration": 27,
    "start_time": "2022-06-02T19:49:35.442Z"
   },
   {
    "duration": 72,
    "start_time": "2022-06-02T19:49:35.471Z"
   },
   {
    "duration": 738,
    "start_time": "2022-06-02T20:07:10.014Z"
   },
   {
    "duration": 1118,
    "start_time": "2022-06-02T20:07:10.754Z"
   },
   {
    "duration": 537,
    "start_time": "2022-06-02T20:07:11.874Z"
   },
   {
    "duration": 664,
    "start_time": "2022-06-02T20:07:12.413Z"
   },
   {
    "duration": 58,
    "start_time": "2022-06-02T20:07:13.079Z"
   },
   {
    "duration": 80,
    "start_time": "2022-06-02T20:07:13.141Z"
   },
   {
    "duration": 109,
    "start_time": "2022-06-02T20:07:13.223Z"
   },
   {
    "duration": 83,
    "start_time": "2022-06-02T20:07:13.337Z"
   },
   {
    "duration": 327,
    "start_time": "2022-06-02T20:07:13.422Z"
   },
   {
    "duration": 9,
    "start_time": "2022-06-02T20:07:13.752Z"
   },
   {
    "duration": 24,
    "start_time": "2022-06-02T20:07:13.763Z"
   },
   {
    "duration": 59,
    "start_time": "2022-06-02T20:07:13.789Z"
   },
   {
    "duration": 302,
    "start_time": "2022-06-02T20:07:13.850Z"
   },
   {
    "duration": 21,
    "start_time": "2022-06-02T20:07:14.154Z"
   },
   {
    "duration": 64,
    "start_time": "2022-06-02T20:07:14.177Z"
   },
   {
    "duration": 32,
    "start_time": "2022-06-02T20:07:14.242Z"
   },
   {
    "duration": 377,
    "start_time": "2022-06-02T20:07:14.276Z"
   },
   {
    "duration": 45,
    "start_time": "2022-06-02T20:07:14.655Z"
   },
   {
    "duration": 307,
    "start_time": "2022-06-02T20:07:14.703Z"
   },
   {
    "duration": 112,
    "start_time": "2022-06-02T20:07:15.012Z"
   },
   {
    "duration": 215,
    "start_time": "2022-06-02T20:07:15.125Z"
   },
   {
    "duration": 16,
    "start_time": "2022-06-02T20:07:15.342Z"
   },
   {
    "duration": 27,
    "start_time": "2022-06-02T20:07:15.360Z"
   },
   {
    "duration": 291,
    "start_time": "2022-06-02T20:07:15.389Z"
   },
   {
    "duration": 24,
    "start_time": "2022-06-02T20:07:15.683Z"
   },
   {
    "duration": 305,
    "start_time": "2022-06-02T20:07:15.708Z"
   },
   {
    "duration": 39,
    "start_time": "2022-06-02T20:07:16.015Z"
   },
   {
    "duration": 17,
    "start_time": "2022-06-02T20:07:16.057Z"
   },
   {
    "duration": 277,
    "start_time": "2022-06-02T20:07:16.076Z"
   },
   {
    "duration": 29,
    "start_time": "2022-06-02T20:07:16.355Z"
   },
   {
    "duration": 22,
    "start_time": "2022-06-02T20:07:16.386Z"
   },
   {
    "duration": 78,
    "start_time": "2022-06-02T20:07:16.410Z"
   },
   {
    "duration": 804,
    "start_time": "2022-06-02T20:24:21.244Z"
   },
   {
    "duration": 702,
    "start_time": "2022-06-02T20:24:59.994Z"
   },
   {
    "duration": 1149,
    "start_time": "2022-06-02T20:25:00.697Z"
   },
   {
    "duration": 534,
    "start_time": "2022-06-02T20:25:01.848Z"
   },
   {
    "duration": 622,
    "start_time": "2022-06-02T20:25:02.385Z"
   },
   {
    "duration": 53,
    "start_time": "2022-06-02T20:25:03.009Z"
   },
   {
    "duration": 124,
    "start_time": "2022-06-02T20:25:03.064Z"
   },
   {
    "duration": 109,
    "start_time": "2022-06-02T20:25:03.189Z"
   },
   {
    "duration": 113,
    "start_time": "2022-06-02T20:25:03.300Z"
   },
   {
    "duration": 306,
    "start_time": "2022-06-02T20:25:03.415Z"
   },
   {
    "duration": 14,
    "start_time": "2022-06-02T20:25:03.726Z"
   },
   {
    "duration": 35,
    "start_time": "2022-06-02T20:25:03.741Z"
   },
   {
    "duration": 51,
    "start_time": "2022-06-02T20:25:03.778Z"
   },
   {
    "duration": 309,
    "start_time": "2022-06-02T20:25:03.831Z"
   },
   {
    "duration": 21,
    "start_time": "2022-06-02T20:25:04.142Z"
   },
   {
    "duration": 40,
    "start_time": "2022-06-02T20:25:04.164Z"
   },
   {
    "duration": 42,
    "start_time": "2022-06-02T20:25:04.205Z"
   },
   {
    "duration": 317,
    "start_time": "2022-06-02T20:25:04.249Z"
   },
   {
    "duration": 39,
    "start_time": "2022-06-02T20:25:04.568Z"
   },
   {
    "duration": 293,
    "start_time": "2022-06-02T20:25:04.609Z"
   },
   {
    "duration": 101,
    "start_time": "2022-06-02T20:25:04.904Z"
   },
   {
    "duration": 212,
    "start_time": "2022-06-02T20:25:05.006Z"
   },
   {
    "duration": 21,
    "start_time": "2022-06-02T20:25:05.220Z"
   },
   {
    "duration": 31,
    "start_time": "2022-06-02T20:25:05.243Z"
   },
   {
    "duration": 283,
    "start_time": "2022-06-02T20:25:05.276Z"
   },
   {
    "duration": 21,
    "start_time": "2022-06-02T20:25:05.561Z"
   },
   {
    "duration": 289,
    "start_time": "2022-06-02T20:25:05.584Z"
   },
   {
    "duration": 29,
    "start_time": "2022-06-02T20:25:05.874Z"
   },
   {
    "duration": 32,
    "start_time": "2022-06-02T20:25:05.906Z"
   },
   {
    "duration": 248,
    "start_time": "2022-06-02T20:25:05.940Z"
   },
   {
    "duration": 27,
    "start_time": "2022-06-02T20:25:06.190Z"
   },
   {
    "duration": 25,
    "start_time": "2022-06-02T20:25:06.228Z"
   },
   {
    "duration": 746,
    "start_time": "2022-06-02T20:25:06.255Z"
   },
   {
    "duration": 127,
    "start_time": "2022-06-02T20:25:07.002Z"
   },
   {
    "duration": 398,
    "start_time": "2022-06-02T20:27:01.810Z"
   },
   {
    "duration": 298,
    "start_time": "2022-06-02T20:27:52.849Z"
   },
   {
    "duration": 238,
    "start_time": "2022-06-02T20:27:56.224Z"
   },
   {
    "duration": 237,
    "start_time": "2022-06-02T20:28:01.190Z"
   },
   {
    "duration": 698,
    "start_time": "2022-06-02T20:28:09.491Z"
   },
   {
    "duration": 1158,
    "start_time": "2022-06-02T20:28:10.191Z"
   },
   {
    "duration": 603,
    "start_time": "2022-06-02T20:28:11.350Z"
   },
   {
    "duration": 682,
    "start_time": "2022-06-02T20:28:11.956Z"
   },
   {
    "duration": 50,
    "start_time": "2022-06-02T20:28:12.640Z"
   },
   {
    "duration": 96,
    "start_time": "2022-06-02T20:28:12.692Z"
   },
   {
    "duration": 129,
    "start_time": "2022-06-02T20:28:12.790Z"
   },
   {
    "duration": 84,
    "start_time": "2022-06-02T20:28:12.921Z"
   },
   {
    "duration": 299,
    "start_time": "2022-06-02T20:28:13.006Z"
   },
   {
    "duration": 24,
    "start_time": "2022-06-02T20:28:13.309Z"
   },
   {
    "duration": 33,
    "start_time": "2022-06-02T20:28:13.334Z"
   },
   {
    "duration": 36,
    "start_time": "2022-06-02T20:28:13.369Z"
   },
   {
    "duration": 306,
    "start_time": "2022-06-02T20:28:13.408Z"
   },
   {
    "duration": 31,
    "start_time": "2022-06-02T20:28:13.716Z"
   },
   {
    "duration": 44,
    "start_time": "2022-06-02T20:28:13.749Z"
   },
   {
    "duration": 50,
    "start_time": "2022-06-02T20:28:13.795Z"
   },
   {
    "duration": 303,
    "start_time": "2022-06-02T20:28:13.847Z"
   },
   {
    "duration": 32,
    "start_time": "2022-06-02T20:28:14.152Z"
   },
   {
    "duration": 296,
    "start_time": "2022-06-02T20:28:14.185Z"
   },
   {
    "duration": 132,
    "start_time": "2022-06-02T20:28:14.483Z"
   },
   {
    "duration": 296,
    "start_time": "2022-06-02T20:28:14.617Z"
   },
   {
    "duration": 29,
    "start_time": "2022-06-02T20:28:14.915Z"
   },
   {
    "duration": 27,
    "start_time": "2022-06-02T20:28:14.946Z"
   },
   {
    "duration": 311,
    "start_time": "2022-06-02T20:28:14.975Z"
   },
   {
    "duration": 20,
    "start_time": "2022-06-02T20:28:15.288Z"
   },
   {
    "duration": 322,
    "start_time": "2022-06-02T20:28:15.310Z"
   },
   {
    "duration": 35,
    "start_time": "2022-06-02T20:28:15.634Z"
   },
   {
    "duration": 19,
    "start_time": "2022-06-02T20:28:15.672Z"
   },
   {
    "duration": 298,
    "start_time": "2022-06-02T20:28:15.692Z"
   },
   {
    "duration": 35,
    "start_time": "2022-06-02T20:28:15.992Z"
   },
   {
    "duration": 28,
    "start_time": "2022-06-02T20:28:16.030Z"
   },
   {
    "duration": 733,
    "start_time": "2022-06-02T20:28:16.060Z"
   },
   {
    "duration": 135,
    "start_time": "2022-06-02T20:28:16.796Z"
   },
   {
    "duration": 3,
    "start_time": "2022-06-02T20:33:43.490Z"
   },
   {
    "duration": 97,
    "start_time": "2022-06-02T20:34:12.470Z"
   },
   {
    "duration": 300,
    "start_time": "2022-06-02T20:34:21.401Z"
   },
   {
    "duration": 942,
    "start_time": "2022-06-02T20:36:11.001Z"
   },
   {
    "duration": 32,
    "start_time": "2022-06-02T20:36:18.140Z"
   },
   {
    "duration": 1145,
    "start_time": "2022-06-02T20:36:22.968Z"
   },
   {
    "duration": 1229,
    "start_time": "2022-06-02T20:36:24.115Z"
   },
   {
    "duration": 522,
    "start_time": "2022-06-02T20:36:25.345Z"
   },
   {
    "duration": 632,
    "start_time": "2022-06-02T20:36:25.869Z"
   },
   {
    "duration": 50,
    "start_time": "2022-06-02T20:36:26.503Z"
   },
   {
    "duration": 87,
    "start_time": "2022-06-02T20:36:26.555Z"
   },
   {
    "duration": 97,
    "start_time": "2022-06-02T20:36:26.643Z"
   },
   {
    "duration": 70,
    "start_time": "2022-06-02T20:36:26.742Z"
   },
   {
    "duration": 366,
    "start_time": "2022-06-02T20:36:26.814Z"
   },
   {
    "duration": 9,
    "start_time": "2022-06-02T20:36:27.182Z"
   },
   {
    "duration": 37,
    "start_time": "2022-06-02T20:36:27.193Z"
   },
   {
    "duration": 37,
    "start_time": "2022-06-02T20:36:27.232Z"
   },
   {
    "duration": 288,
    "start_time": "2022-06-02T20:36:27.270Z"
   },
   {
    "duration": 22,
    "start_time": "2022-06-02T20:36:27.559Z"
   },
   {
    "duration": 59,
    "start_time": "2022-06-02T20:36:27.583Z"
   },
   {
    "duration": 40,
    "start_time": "2022-06-02T20:36:27.644Z"
   },
   {
    "duration": 293,
    "start_time": "2022-06-02T20:36:27.685Z"
   },
   {
    "duration": 33,
    "start_time": "2022-06-02T20:36:27.980Z"
   },
   {
    "duration": 261,
    "start_time": "2022-06-02T20:36:28.014Z"
   },
   {
    "duration": 100,
    "start_time": "2022-06-02T20:36:28.276Z"
   },
   {
    "duration": 202,
    "start_time": "2022-06-02T20:36:28.377Z"
   },
   {
    "duration": 19,
    "start_time": "2022-06-02T20:36:28.581Z"
   },
   {
    "duration": 46,
    "start_time": "2022-06-02T20:36:28.601Z"
   },
   {
    "duration": 262,
    "start_time": "2022-06-02T20:36:28.648Z"
   },
   {
    "duration": 31,
    "start_time": "2022-06-02T20:36:28.912Z"
   },
   {
    "duration": 272,
    "start_time": "2022-06-02T20:36:28.945Z"
   },
   {
    "duration": 42,
    "start_time": "2022-06-02T20:36:29.219Z"
   },
   {
    "duration": 18,
    "start_time": "2022-06-02T20:36:29.263Z"
   },
   {
    "duration": 289,
    "start_time": "2022-06-02T20:36:29.282Z"
   },
   {
    "duration": 31,
    "start_time": "2022-06-02T20:36:29.573Z"
   },
   {
    "duration": 43,
    "start_time": "2022-06-02T20:36:29.606Z"
   },
   {
    "duration": 783,
    "start_time": "2022-06-02T20:36:29.651Z"
   },
   {
    "duration": 300,
    "start_time": "2022-06-02T20:36:30.436Z"
   },
   {
    "duration": 111,
    "start_time": "2022-06-02T20:36:30.739Z"
   },
   {
    "duration": 205,
    "start_time": "2022-06-02T20:38:07.001Z"
   },
   {
    "duration": 234,
    "start_time": "2022-06-02T20:38:45.430Z"
   },
   {
    "duration": 1224,
    "start_time": "2022-06-02T20:43:51.716Z"
   },
   {
    "duration": 1190,
    "start_time": "2022-06-02T20:43:52.943Z"
   },
   {
    "duration": 578,
    "start_time": "2022-06-02T20:43:54.140Z"
   },
   {
    "duration": 657,
    "start_time": "2022-06-02T20:43:54.720Z"
   },
   {
    "duration": 56,
    "start_time": "2022-06-02T20:43:55.379Z"
   },
   {
    "duration": 96,
    "start_time": "2022-06-02T20:43:55.436Z"
   },
   {
    "duration": 102,
    "start_time": "2022-06-02T20:43:55.541Z"
   },
   {
    "duration": 88,
    "start_time": "2022-06-02T20:43:55.645Z"
   },
   {
    "duration": 380,
    "start_time": "2022-06-02T20:43:55.740Z"
   },
   {
    "duration": 12,
    "start_time": "2022-06-02T20:43:56.123Z"
   },
   {
    "duration": 35,
    "start_time": "2022-06-02T20:43:56.138Z"
   },
   {
    "duration": 35,
    "start_time": "2022-06-02T20:43:56.175Z"
   },
   {
    "duration": 347,
    "start_time": "2022-06-02T20:43:56.212Z"
   },
   {
    "duration": 23,
    "start_time": "2022-06-02T20:43:56.561Z"
   },
   {
    "duration": 64,
    "start_time": "2022-06-02T20:43:56.586Z"
   },
   {
    "duration": 42,
    "start_time": "2022-06-02T20:43:56.652Z"
   },
   {
    "duration": 315,
    "start_time": "2022-06-02T20:43:56.696Z"
   },
   {
    "duration": 40,
    "start_time": "2022-06-02T20:43:57.013Z"
   },
   {
    "duration": 251,
    "start_time": "2022-06-02T20:43:57.055Z"
   },
   {
    "duration": 110,
    "start_time": "2022-06-02T20:43:57.308Z"
   },
   {
    "duration": 221,
    "start_time": "2022-06-02T20:43:57.420Z"
   },
   {
    "duration": 18,
    "start_time": "2022-06-02T20:43:57.645Z"
   },
   {
    "duration": 26,
    "start_time": "2022-06-02T20:43:57.665Z"
   },
   {
    "duration": 377,
    "start_time": "2022-06-02T20:43:57.693Z"
   },
   {
    "duration": 30,
    "start_time": "2022-06-02T20:43:58.073Z"
   },
   {
    "duration": 336,
    "start_time": "2022-06-02T20:43:58.105Z"
   },
   {
    "duration": 30,
    "start_time": "2022-06-02T20:43:58.445Z"
   },
   {
    "duration": 20,
    "start_time": "2022-06-02T20:43:58.479Z"
   },
   {
    "duration": 287,
    "start_time": "2022-06-02T20:43:58.501Z"
   },
   {
    "duration": 52,
    "start_time": "2022-06-02T20:43:58.790Z"
   },
   {
    "duration": 20,
    "start_time": "2022-06-02T20:43:58.844Z"
   },
   {
    "duration": 766,
    "start_time": "2022-06-02T20:43:58.865Z"
   },
   {
    "duration": 306,
    "start_time": "2022-06-02T20:43:59.635Z"
   },
   {
    "duration": 441,
    "start_time": "2022-06-02T20:43:59.945Z"
   },
   {
    "duration": 854,
    "start_time": "2022-06-02T20:44:19.170Z"
   },
   {
    "duration": 3,
    "start_time": "2022-06-02T20:53:37.241Z"
   },
   {
    "duration": 1185,
    "start_time": "2022-06-02T20:55:16.244Z"
   },
   {
    "duration": 1157,
    "start_time": "2022-06-02T20:55:17.431Z"
   },
   {
    "duration": 513,
    "start_time": "2022-06-02T20:55:18.590Z"
   },
   {
    "duration": 650,
    "start_time": "2022-06-02T20:55:19.105Z"
   },
   {
    "duration": 41,
    "start_time": "2022-06-02T20:55:19.756Z"
   },
   {
    "duration": 86,
    "start_time": "2022-06-02T20:55:19.799Z"
   },
   {
    "duration": 104,
    "start_time": "2022-06-02T20:55:19.887Z"
   },
   {
    "duration": 84,
    "start_time": "2022-06-02T20:55:19.993Z"
   },
   {
    "duration": 372,
    "start_time": "2022-06-02T20:55:20.079Z"
   },
   {
    "duration": 8,
    "start_time": "2022-06-02T20:55:20.454Z"
   },
   {
    "duration": 30,
    "start_time": "2022-06-02T20:55:20.464Z"
   },
   {
    "duration": 48,
    "start_time": "2022-06-02T20:55:20.496Z"
   },
   {
    "duration": 286,
    "start_time": "2022-06-02T20:55:20.546Z"
   },
   {
    "duration": 21,
    "start_time": "2022-06-02T20:55:20.838Z"
   },
   {
    "duration": 40,
    "start_time": "2022-06-02T20:55:20.861Z"
   },
   {
    "duration": 46,
    "start_time": "2022-06-02T20:55:20.903Z"
   },
   {
    "duration": 269,
    "start_time": "2022-06-02T20:55:20.951Z"
   },
   {
    "duration": 41,
    "start_time": "2022-06-02T20:55:21.221Z"
   },
   {
    "duration": 280,
    "start_time": "2022-06-02T20:55:21.263Z"
   },
   {
    "duration": 100,
    "start_time": "2022-06-02T20:55:21.545Z"
   },
   {
    "duration": 218,
    "start_time": "2022-06-02T20:55:21.647Z"
   },
   {
    "duration": 17,
    "start_time": "2022-06-02T20:55:21.866Z"
   },
   {
    "duration": 25,
    "start_time": "2022-06-02T20:55:21.884Z"
   },
   {
    "duration": 331,
    "start_time": "2022-06-02T20:55:21.910Z"
   },
   {
    "duration": 21,
    "start_time": "2022-06-02T20:55:22.243Z"
   },
   {
    "duration": 294,
    "start_time": "2022-06-02T20:55:22.265Z"
   },
   {
    "duration": 30,
    "start_time": "2022-06-02T20:55:22.561Z"
   },
   {
    "duration": 15,
    "start_time": "2022-06-02T20:55:22.594Z"
   },
   {
    "duration": 307,
    "start_time": "2022-06-02T20:55:22.611Z"
   },
   {
    "duration": 40,
    "start_time": "2022-06-02T20:55:22.920Z"
   },
   {
    "duration": 18,
    "start_time": "2022-06-02T20:55:22.961Z"
   },
   {
    "duration": 729,
    "start_time": "2022-06-02T20:55:22.981Z"
   },
   {
    "duration": 310,
    "start_time": "2022-06-02T20:55:23.712Z"
   },
   {
    "duration": 1074,
    "start_time": "2022-06-02T20:55:24.024Z"
   },
   {
    "duration": 172,
    "start_time": "2022-06-02T20:55:25.100Z"
   },
   {
    "duration": 10,
    "start_time": "2022-06-02T20:56:12.630Z"
   },
   {
    "duration": 1161,
    "start_time": "2022-06-02T20:56:18.712Z"
   },
   {
    "duration": 1178,
    "start_time": "2022-06-02T20:56:19.876Z"
   },
   {
    "duration": 499,
    "start_time": "2022-06-02T20:56:21.055Z"
   },
   {
    "duration": 643,
    "start_time": "2022-06-02T20:56:21.556Z"
   },
   {
    "duration": 59,
    "start_time": "2022-06-02T20:56:22.201Z"
   },
   {
    "duration": 104,
    "start_time": "2022-06-02T20:56:22.261Z"
   },
   {
    "duration": 99,
    "start_time": "2022-06-02T20:56:22.366Z"
   },
   {
    "duration": 88,
    "start_time": "2022-06-02T20:56:22.467Z"
   },
   {
    "duration": 386,
    "start_time": "2022-06-02T20:56:22.557Z"
   },
   {
    "duration": 8,
    "start_time": "2022-06-02T20:56:22.945Z"
   },
   {
    "duration": 26,
    "start_time": "2022-06-02T20:56:22.955Z"
   },
   {
    "duration": 44,
    "start_time": "2022-06-02T20:56:22.982Z"
   },
   {
    "duration": 263,
    "start_time": "2022-06-02T20:56:23.037Z"
   },
   {
    "duration": 39,
    "start_time": "2022-06-02T20:56:23.302Z"
   },
   {
    "duration": 42,
    "start_time": "2022-06-02T20:56:23.343Z"
   },
   {
    "duration": 42,
    "start_time": "2022-06-02T20:56:23.387Z"
   },
   {
    "duration": 276,
    "start_time": "2022-06-02T20:56:23.432Z"
   },
   {
    "duration": 36,
    "start_time": "2022-06-02T20:56:23.709Z"
   },
   {
    "duration": 248,
    "start_time": "2022-06-02T20:56:23.747Z"
   },
   {
    "duration": 96,
    "start_time": "2022-06-02T20:56:23.996Z"
   },
   {
    "duration": 214,
    "start_time": "2022-06-02T20:56:24.094Z"
   },
   {
    "duration": 31,
    "start_time": "2022-06-02T20:56:24.309Z"
   },
   {
    "duration": 26,
    "start_time": "2022-06-02T20:56:24.343Z"
   },
   {
    "duration": 368,
    "start_time": "2022-06-02T20:56:24.371Z"
   },
   {
    "duration": 21,
    "start_time": "2022-06-02T20:56:24.741Z"
   },
   {
    "duration": 297,
    "start_time": "2022-06-02T20:56:24.763Z"
   },
   {
    "duration": 31,
    "start_time": "2022-06-02T20:56:25.061Z"
   },
   {
    "duration": 34,
    "start_time": "2022-06-02T20:56:25.097Z"
   },
   {
    "duration": 281,
    "start_time": "2022-06-02T20:56:25.133Z"
   },
   {
    "duration": 43,
    "start_time": "2022-06-02T20:56:25.416Z"
   },
   {
    "duration": 17,
    "start_time": "2022-06-02T20:56:25.460Z"
   },
   {
    "duration": 734,
    "start_time": "2022-06-02T20:56:25.479Z"
   },
   {
    "duration": 297,
    "start_time": "2022-06-02T20:56:26.215Z"
   },
   {
    "duration": 979,
    "start_time": "2022-06-02T20:56:26.514Z"
   },
   {
    "duration": 170,
    "start_time": "2022-06-02T20:56:27.494Z"
   },
   {
    "duration": 1202,
    "start_time": "2022-06-02T21:32:45.175Z"
   },
   {
    "duration": 1220,
    "start_time": "2022-06-02T21:32:46.379Z"
   },
   {
    "duration": 516,
    "start_time": "2022-06-02T21:32:47.601Z"
   },
   {
    "duration": 646,
    "start_time": "2022-06-02T21:32:48.120Z"
   },
   {
    "duration": 47,
    "start_time": "2022-06-02T21:32:48.767Z"
   },
   {
    "duration": 100,
    "start_time": "2022-06-02T21:32:48.816Z"
   },
   {
    "duration": 121,
    "start_time": "2022-06-02T21:32:48.918Z"
   },
   {
    "duration": 73,
    "start_time": "2022-06-02T21:32:49.048Z"
   },
   {
    "duration": 388,
    "start_time": "2022-06-02T21:32:49.123Z"
   },
   {
    "duration": 33,
    "start_time": "2022-06-02T21:32:49.514Z"
   },
   {
    "duration": 24,
    "start_time": "2022-06-02T21:32:49.557Z"
   },
   {
    "duration": 31,
    "start_time": "2022-06-02T21:32:49.583Z"
   },
   {
    "duration": 292,
    "start_time": "2022-06-02T21:32:49.616Z"
   },
   {
    "duration": 33,
    "start_time": "2022-06-02T21:32:49.910Z"
   },
   {
    "duration": 42,
    "start_time": "2022-06-02T21:32:49.944Z"
   },
   {
    "duration": 29,
    "start_time": "2022-06-02T21:32:49.988Z"
   },
   {
    "duration": 307,
    "start_time": "2022-06-02T21:32:50.018Z"
   },
   {
    "duration": 42,
    "start_time": "2022-06-02T21:32:50.338Z"
   },
   {
    "duration": 245,
    "start_time": "2022-06-02T21:32:50.382Z"
   },
   {
    "duration": 100,
    "start_time": "2022-06-02T21:32:50.638Z"
   },
   {
    "duration": 218,
    "start_time": "2022-06-02T21:32:50.740Z"
   },
   {
    "duration": 16,
    "start_time": "2022-06-02T21:32:50.960Z"
   },
   {
    "duration": 24,
    "start_time": "2022-06-02T21:32:50.977Z"
   },
   {
    "duration": 299,
    "start_time": "2022-06-02T21:32:51.002Z"
   },
   {
    "duration": 36,
    "start_time": "2022-06-02T21:32:51.305Z"
   },
   {
    "duration": 273,
    "start_time": "2022-06-02T21:32:51.342Z"
   },
   {
    "duration": 52,
    "start_time": "2022-06-02T21:32:51.616Z"
   },
   {
    "duration": 17,
    "start_time": "2022-06-02T21:32:51.671Z"
   },
   {
    "duration": 281,
    "start_time": "2022-06-02T21:32:51.690Z"
   },
   {
    "duration": 30,
    "start_time": "2022-06-02T21:32:51.973Z"
   },
   {
    "duration": 35,
    "start_time": "2022-06-02T21:32:52.006Z"
   },
   {
    "duration": 858,
    "start_time": "2022-06-02T21:32:52.042Z"
   },
   {
    "duration": 309,
    "start_time": "2022-06-02T21:32:52.902Z"
   },
   {
    "duration": 1025,
    "start_time": "2022-06-02T21:32:53.213Z"
   },
   {
    "duration": 204,
    "start_time": "2022-06-02T21:32:54.239Z"
   },
   {
    "duration": 1315,
    "start_time": "2022-06-02T21:34:51.954Z"
   },
   {
    "duration": 1303,
    "start_time": "2022-06-02T21:34:53.271Z"
   },
   {
    "duration": 610,
    "start_time": "2022-06-02T21:34:54.576Z"
   },
   {
    "duration": 704,
    "start_time": "2022-06-02T21:34:55.189Z"
   },
   {
    "duration": 58,
    "start_time": "2022-06-02T21:34:55.894Z"
   },
   {
    "duration": 94,
    "start_time": "2022-06-02T21:34:55.954Z"
   },
   {
    "duration": 117,
    "start_time": "2022-06-02T21:34:56.049Z"
   },
   {
    "duration": 92,
    "start_time": "2022-06-02T21:34:56.168Z"
   },
   {
    "duration": 413,
    "start_time": "2022-06-02T21:34:56.262Z"
   },
   {
    "duration": 10,
    "start_time": "2022-06-02T21:34:56.678Z"
   },
   {
    "duration": 51,
    "start_time": "2022-06-02T21:34:56.689Z"
   },
   {
    "duration": 50,
    "start_time": "2022-06-02T21:34:56.750Z"
   },
   {
    "duration": 307,
    "start_time": "2022-06-02T21:34:56.802Z"
   },
   {
    "duration": 33,
    "start_time": "2022-06-02T21:34:57.111Z"
   },
   {
    "duration": 50,
    "start_time": "2022-06-02T21:34:57.148Z"
   },
   {
    "duration": 31,
    "start_time": "2022-06-02T21:34:57.200Z"
   },
   {
    "duration": 318,
    "start_time": "2022-06-02T21:34:57.233Z"
   },
   {
    "duration": 37,
    "start_time": "2022-06-02T21:34:57.553Z"
   },
   {
    "duration": 273,
    "start_time": "2022-06-02T21:34:57.592Z"
   },
   {
    "duration": 122,
    "start_time": "2022-06-02T21:34:57.867Z"
   },
   {
    "duration": 247,
    "start_time": "2022-06-02T21:34:57.991Z"
   },
   {
    "duration": 21,
    "start_time": "2022-06-02T21:34:58.241Z"
   },
   {
    "duration": 28,
    "start_time": "2022-06-02T21:34:58.263Z"
   },
   {
    "duration": 313,
    "start_time": "2022-06-02T21:34:58.293Z"
   },
   {
    "duration": 36,
    "start_time": "2022-06-02T21:34:58.607Z"
   },
   {
    "duration": 282,
    "start_time": "2022-06-02T21:34:58.646Z"
   },
   {
    "duration": 43,
    "start_time": "2022-06-02T21:34:58.930Z"
   },
   {
    "duration": 15,
    "start_time": "2022-06-02T21:34:58.977Z"
   },
   {
    "duration": 327,
    "start_time": "2022-06-02T21:34:58.993Z"
   },
   {
    "duration": 63,
    "start_time": "2022-06-02T21:34:59.322Z"
   },
   {
    "duration": 27,
    "start_time": "2022-06-02T21:34:59.387Z"
   },
   {
    "duration": 829,
    "start_time": "2022-06-02T21:34:59.416Z"
   },
   {
    "duration": 296,
    "start_time": "2022-06-02T21:35:00.247Z"
   },
   {
    "duration": 998,
    "start_time": "2022-06-02T21:35:00.553Z"
   },
   {
    "duration": 194,
    "start_time": "2022-06-02T21:35:01.553Z"
   },
   {
    "duration": 4,
    "start_time": "2022-06-02T21:35:01.749Z"
   },
   {
    "duration": 1224,
    "start_time": "2022-06-02T21:38:35.257Z"
   },
   {
    "duration": 1233,
    "start_time": "2022-06-02T21:38:36.483Z"
   },
   {
    "duration": 539,
    "start_time": "2022-06-02T21:38:37.718Z"
   },
   {
    "duration": 651,
    "start_time": "2022-06-02T21:38:38.260Z"
   },
   {
    "duration": 56,
    "start_time": "2022-06-02T21:38:38.912Z"
   },
   {
    "duration": 99,
    "start_time": "2022-06-02T21:38:38.970Z"
   },
   {
    "duration": 112,
    "start_time": "2022-06-02T21:38:39.071Z"
   },
   {
    "duration": 88,
    "start_time": "2022-06-02T21:38:39.186Z"
   },
   {
    "duration": 384,
    "start_time": "2022-06-02T21:38:39.276Z"
   },
   {
    "duration": 9,
    "start_time": "2022-06-02T21:38:39.663Z"
   },
   {
    "duration": 23,
    "start_time": "2022-06-02T21:38:39.674Z"
   },
   {
    "duration": 55,
    "start_time": "2022-06-02T21:38:39.698Z"
   },
   {
    "duration": 303,
    "start_time": "2022-06-02T21:38:39.759Z"
   },
   {
    "duration": 21,
    "start_time": "2022-06-02T21:38:40.064Z"
   },
   {
    "duration": 57,
    "start_time": "2022-06-02T21:38:40.087Z"
   },
   {
    "duration": 37,
    "start_time": "2022-06-02T21:38:40.146Z"
   },
   {
    "duration": 289,
    "start_time": "2022-06-02T21:38:40.185Z"
   },
   {
    "duration": 34,
    "start_time": "2022-06-02T21:38:40.476Z"
   },
   {
    "duration": 269,
    "start_time": "2022-06-02T21:38:40.512Z"
   },
   {
    "duration": 127,
    "start_time": "2022-06-02T21:38:40.783Z"
   },
   {
    "duration": 245,
    "start_time": "2022-06-02T21:38:40.912Z"
   },
   {
    "duration": 18,
    "start_time": "2022-06-02T21:38:41.161Z"
   },
   {
    "duration": 26,
    "start_time": "2022-06-02T21:38:41.180Z"
   },
   {
    "duration": 342,
    "start_time": "2022-06-02T21:38:41.208Z"
   },
   {
    "duration": 22,
    "start_time": "2022-06-02T21:38:41.554Z"
   },
   {
    "duration": 287,
    "start_time": "2022-06-02T21:38:41.577Z"
   },
   {
    "duration": 30,
    "start_time": "2022-06-02T21:38:41.866Z"
   },
   {
    "duration": 37,
    "start_time": "2022-06-02T21:38:41.900Z"
   },
   {
    "duration": 309,
    "start_time": "2022-06-02T21:38:41.939Z"
   },
   {
    "duration": 44,
    "start_time": "2022-06-02T21:38:42.250Z"
   },
   {
    "duration": 17,
    "start_time": "2022-06-02T21:38:42.296Z"
   },
   {
    "duration": 784,
    "start_time": "2022-06-02T21:38:42.314Z"
   },
   {
    "duration": 305,
    "start_time": "2022-06-02T21:38:43.100Z"
   },
   {
    "duration": 1010,
    "start_time": "2022-06-02T21:38:43.407Z"
   },
   {
    "duration": 265,
    "start_time": "2022-06-02T21:38:44.419Z"
   },
   {
    "duration": 3,
    "start_time": "2022-06-02T21:38:44.686Z"
   },
   {
    "duration": 81482,
    "start_time": "2022-06-02T21:38:44.691Z"
   },
   {
    "duration": 3,
    "start_time": "2022-06-02T21:41:17.412Z"
   },
   {
    "duration": 449,
    "start_time": "2022-06-02T21:44:20.542Z"
   },
   {
    "duration": 8,
    "start_time": "2022-06-02T21:44:34.323Z"
   },
   {
    "duration": 9,
    "start_time": "2022-06-02T21:46:07.147Z"
   },
   {
    "duration": 13,
    "start_time": "2022-06-02T21:47:04.039Z"
   },
   {
    "duration": 145,
    "start_time": "2022-06-02T21:48:02.403Z"
   },
   {
    "duration": 1275,
    "start_time": "2022-06-02T21:48:15.684Z"
   },
   {
    "duration": 1186,
    "start_time": "2022-06-02T21:48:16.961Z"
   },
   {
    "duration": 525,
    "start_time": "2022-06-02T21:48:18.155Z"
   },
   {
    "duration": 667,
    "start_time": "2022-06-02T21:48:18.682Z"
   },
   {
    "duration": 47,
    "start_time": "2022-06-02T21:48:19.356Z"
   },
   {
    "duration": 94,
    "start_time": "2022-06-02T21:48:19.405Z"
   },
   {
    "duration": 112,
    "start_time": "2022-06-02T21:48:19.501Z"
   },
   {
    "duration": 90,
    "start_time": "2022-06-02T21:48:19.615Z"
   },
   {
    "duration": 299,
    "start_time": "2022-06-02T21:48:19.706Z"
   },
   {
    "duration": 9,
    "start_time": "2022-06-02T21:48:20.008Z"
   },
   {
    "duration": 35,
    "start_time": "2022-06-02T21:48:20.029Z"
   },
   {
    "duration": 42,
    "start_time": "2022-06-02T21:48:20.066Z"
   },
   {
    "duration": 281,
    "start_time": "2022-06-02T21:48:20.110Z"
   },
   {
    "duration": 19,
    "start_time": "2022-06-02T21:48:20.393Z"
   },
   {
    "duration": 56,
    "start_time": "2022-06-02T21:48:20.414Z"
   },
   {
    "duration": 28,
    "start_time": "2022-06-02T21:48:20.471Z"
   },
   {
    "duration": 288,
    "start_time": "2022-06-02T21:48:20.501Z"
   },
   {
    "duration": 37,
    "start_time": "2022-06-02T21:48:20.790Z"
   },
   {
    "duration": 241,
    "start_time": "2022-06-02T21:48:20.829Z"
   },
   {
    "duration": 115,
    "start_time": "2022-06-02T21:48:21.072Z"
   },
   {
    "duration": 212,
    "start_time": "2022-06-02T21:48:21.189Z"
   },
   {
    "duration": 18,
    "start_time": "2022-06-02T21:48:21.404Z"
   },
   {
    "duration": 34,
    "start_time": "2022-06-02T21:48:21.424Z"
   },
   {
    "duration": 287,
    "start_time": "2022-06-02T21:48:21.459Z"
   },
   {
    "duration": 22,
    "start_time": "2022-06-02T21:48:21.748Z"
   },
   {
    "duration": 293,
    "start_time": "2022-06-02T21:48:21.771Z"
   },
   {
    "duration": 32,
    "start_time": "2022-06-02T21:48:22.066Z"
   },
   {
    "duration": 34,
    "start_time": "2022-06-02T21:48:22.103Z"
   },
   {
    "duration": 311,
    "start_time": "2022-06-02T21:48:22.139Z"
   },
   {
    "duration": 31,
    "start_time": "2022-06-02T21:48:22.451Z"
   },
   {
    "duration": 23,
    "start_time": "2022-06-02T21:48:22.484Z"
   },
   {
    "duration": 689,
    "start_time": "2022-06-02T21:48:22.509Z"
   },
   {
    "duration": 300,
    "start_time": "2022-06-02T21:48:23.199Z"
   },
   {
    "duration": 1004,
    "start_time": "2022-06-02T21:48:23.501Z"
   },
   {
    "duration": 217,
    "start_time": "2022-06-02T21:48:24.507Z"
   },
   {
    "duration": 5,
    "start_time": "2022-06-02T21:48:24.726Z"
   },
   {
    "duration": 1344,
    "start_time": "2022-06-02T21:49:02.066Z"
   },
   {
    "duration": 1272,
    "start_time": "2022-06-02T21:49:03.414Z"
   },
   {
    "duration": 523,
    "start_time": "2022-06-02T21:49:04.688Z"
   },
   {
    "duration": 675,
    "start_time": "2022-06-02T21:49:05.214Z"
   },
   {
    "duration": 58,
    "start_time": "2022-06-02T21:49:05.891Z"
   },
   {
    "duration": 76,
    "start_time": "2022-06-02T21:49:05.953Z"
   },
   {
    "duration": 107,
    "start_time": "2022-06-02T21:49:06.031Z"
   },
   {
    "duration": 77,
    "start_time": "2022-06-02T21:49:06.140Z"
   },
   {
    "duration": 283,
    "start_time": "2022-06-02T21:49:06.219Z"
   },
   {
    "duration": 9,
    "start_time": "2022-06-02T21:49:06.506Z"
   },
   {
    "duration": 29,
    "start_time": "2022-06-02T21:49:06.528Z"
   },
   {
    "duration": 35,
    "start_time": "2022-06-02T21:49:06.558Z"
   },
   {
    "duration": 297,
    "start_time": "2022-06-02T21:49:06.595Z"
   },
   {
    "duration": 20,
    "start_time": "2022-06-02T21:49:06.894Z"
   },
   {
    "duration": 55,
    "start_time": "2022-06-02T21:49:06.915Z"
   },
   {
    "duration": 29,
    "start_time": "2022-06-02T21:49:06.972Z"
   },
   {
    "duration": 309,
    "start_time": "2022-06-02T21:49:07.002Z"
   },
   {
    "duration": 46,
    "start_time": "2022-06-02T21:49:07.312Z"
   },
   {
    "duration": 275,
    "start_time": "2022-06-02T21:49:07.360Z"
   },
   {
    "duration": 104,
    "start_time": "2022-06-02T21:49:07.636Z"
   },
   {
    "duration": 214,
    "start_time": "2022-06-02T21:49:07.743Z"
   },
   {
    "duration": 17,
    "start_time": "2022-06-02T21:49:07.959Z"
   },
   {
    "duration": 26,
    "start_time": "2022-06-02T21:49:07.978Z"
   },
   {
    "duration": 315,
    "start_time": "2022-06-02T21:49:08.006Z"
   },
   {
    "duration": 25,
    "start_time": "2022-06-02T21:49:08.322Z"
   },
   {
    "duration": 299,
    "start_time": "2022-06-02T21:49:08.348Z"
   },
   {
    "duration": 32,
    "start_time": "2022-06-02T21:49:08.651Z"
   },
   {
    "duration": 26,
    "start_time": "2022-06-02T21:49:08.686Z"
   },
   {
    "duration": 280,
    "start_time": "2022-06-02T21:49:08.713Z"
   },
   {
    "duration": 38,
    "start_time": "2022-06-02T21:49:08.995Z"
   },
   {
    "duration": 49,
    "start_time": "2022-06-02T21:49:09.035Z"
   },
   {
    "duration": 670,
    "start_time": "2022-06-02T21:49:09.086Z"
   },
   {
    "duration": 298,
    "start_time": "2022-06-02T21:49:09.760Z"
   },
   {
    "duration": 979,
    "start_time": "2022-06-02T21:49:10.060Z"
   },
   {
    "duration": 104,
    "start_time": "2022-06-02T21:49:11.042Z"
   },
   {
    "duration": 170,
    "start_time": "2022-06-02T21:49:11.149Z"
   },
   {
    "duration": 2,
    "start_time": "2022-06-02T21:49:11.322Z"
   },
   {
    "duration": 1427,
    "start_time": "2022-06-02T21:50:04.042Z"
   },
   {
    "duration": 1149,
    "start_time": "2022-06-02T21:50:05.471Z"
   },
   {
    "duration": 548,
    "start_time": "2022-06-02T21:50:06.627Z"
   },
   {
    "duration": 644,
    "start_time": "2022-06-02T21:50:07.177Z"
   },
   {
    "duration": 57,
    "start_time": "2022-06-02T21:50:07.824Z"
   },
   {
    "duration": 95,
    "start_time": "2022-06-02T21:50:07.883Z"
   },
   {
    "duration": 118,
    "start_time": "2022-06-02T21:50:07.980Z"
   },
   {
    "duration": 88,
    "start_time": "2022-06-02T21:50:08.100Z"
   },
   {
    "duration": 287,
    "start_time": "2022-06-02T21:50:08.190Z"
   },
   {
    "duration": 9,
    "start_time": "2022-06-02T21:50:08.479Z"
   },
   {
    "duration": 38,
    "start_time": "2022-06-02T21:50:08.489Z"
   },
   {
    "duration": 48,
    "start_time": "2022-06-02T21:50:08.529Z"
   },
   {
    "duration": 289,
    "start_time": "2022-06-02T21:50:08.579Z"
   },
   {
    "duration": 19,
    "start_time": "2022-06-02T21:50:08.872Z"
   },
   {
    "duration": 61,
    "start_time": "2022-06-02T21:50:08.893Z"
   },
   {
    "duration": 32,
    "start_time": "2022-06-02T21:50:08.956Z"
   },
   {
    "duration": 288,
    "start_time": "2022-06-02T21:50:08.989Z"
   },
   {
    "duration": 29,
    "start_time": "2022-06-02T21:50:09.279Z"
   },
   {
    "duration": 267,
    "start_time": "2022-06-02T21:50:09.310Z"
   },
   {
    "duration": 108,
    "start_time": "2022-06-02T21:50:09.578Z"
   },
   {
    "duration": 221,
    "start_time": "2022-06-02T21:50:09.688Z"
   },
   {
    "duration": 27,
    "start_time": "2022-06-02T21:50:09.911Z"
   },
   {
    "duration": 28,
    "start_time": "2022-06-02T21:50:09.939Z"
   },
   {
    "duration": 307,
    "start_time": "2022-06-02T21:50:09.969Z"
   },
   {
    "duration": 21,
    "start_time": "2022-06-02T21:50:10.278Z"
   },
   {
    "duration": 298,
    "start_time": "2022-06-02T21:50:10.301Z"
   },
   {
    "duration": 36,
    "start_time": "2022-06-02T21:50:10.601Z"
   },
   {
    "duration": 41,
    "start_time": "2022-06-02T21:50:10.639Z"
   },
   {
    "duration": 285,
    "start_time": "2022-06-02T21:50:10.682Z"
   },
   {
    "duration": 28,
    "start_time": "2022-06-02T21:50:10.969Z"
   },
   {
    "duration": 42,
    "start_time": "2022-06-02T21:50:10.999Z"
   },
   {
    "duration": 671,
    "start_time": "2022-06-02T21:50:11.045Z"
   },
   {
    "duration": 253,
    "start_time": "2022-06-02T21:50:11.718Z"
   },
   {
    "duration": 925,
    "start_time": "2022-06-02T21:50:11.973Z"
   },
   {
    "duration": 121,
    "start_time": "2022-06-02T21:50:12.900Z"
   },
   {
    "duration": 190,
    "start_time": "2022-06-02T21:50:13.023Z"
   },
   {
    "duration": 3,
    "start_time": "2022-06-02T21:50:13.215Z"
   },
   {
    "duration": 84136,
    "start_time": "2022-06-02T21:50:13.227Z"
   },
   {
    "duration": 63,
    "start_time": "2022-06-02T21:51:37.365Z"
   },
   {
    "duration": 162,
    "start_time": "2022-06-02T21:51:37.434Z"
   },
   {
    "duration": 1364,
    "start_time": "2022-06-02T21:51:56.061Z"
   },
   {
    "duration": 1183,
    "start_time": "2022-06-02T21:51:57.434Z"
   },
   {
    "duration": 549,
    "start_time": "2022-06-02T21:51:58.619Z"
   },
   {
    "duration": 598,
    "start_time": "2022-06-02T21:51:59.170Z"
   },
   {
    "duration": 42,
    "start_time": "2022-06-02T21:51:59.770Z"
   },
   {
    "duration": 100,
    "start_time": "2022-06-02T21:51:59.813Z"
   },
   {
    "duration": 109,
    "start_time": "2022-06-02T21:51:59.929Z"
   },
   {
    "duration": 95,
    "start_time": "2022-06-02T21:52:00.040Z"
   },
   {
    "duration": 322,
    "start_time": "2022-06-02T21:52:00.142Z"
   },
   {
    "duration": 8,
    "start_time": "2022-06-02T21:52:00.466Z"
   },
   {
    "duration": 35,
    "start_time": "2022-06-02T21:52:00.476Z"
   },
   {
    "duration": 45,
    "start_time": "2022-06-02T21:52:00.513Z"
   },
   {
    "duration": 303,
    "start_time": "2022-06-02T21:52:00.560Z"
   },
   {
    "duration": 20,
    "start_time": "2022-06-02T21:52:00.864Z"
   },
   {
    "duration": 64,
    "start_time": "2022-06-02T21:52:00.885Z"
   },
   {
    "duration": 27,
    "start_time": "2022-06-02T21:52:00.955Z"
   },
   {
    "duration": 290,
    "start_time": "2022-06-02T21:52:00.984Z"
   },
   {
    "duration": 30,
    "start_time": "2022-06-02T21:52:01.276Z"
   },
   {
    "duration": 295,
    "start_time": "2022-06-02T21:52:01.308Z"
   },
   {
    "duration": 114,
    "start_time": "2022-06-02T21:52:01.604Z"
   },
   {
    "duration": 246,
    "start_time": "2022-06-02T21:52:01.720Z"
   },
   {
    "duration": 16,
    "start_time": "2022-06-02T21:52:01.968Z"
   },
   {
    "duration": 36,
    "start_time": "2022-06-02T21:52:01.987Z"
   },
   {
    "duration": 329,
    "start_time": "2022-06-02T21:52:02.025Z"
   },
   {
    "duration": 21,
    "start_time": "2022-06-02T21:52:02.358Z"
   },
   {
    "duration": 286,
    "start_time": "2022-06-02T21:52:02.381Z"
   },
   {
    "duration": 28,
    "start_time": "2022-06-02T21:52:02.668Z"
   },
   {
    "duration": 51,
    "start_time": "2022-06-02T21:52:02.697Z"
   },
   {
    "duration": 323,
    "start_time": "2022-06-02T21:52:02.749Z"
   },
   {
    "duration": 29,
    "start_time": "2022-06-02T21:52:03.074Z"
   },
   {
    "duration": 33,
    "start_time": "2022-06-02T21:52:03.104Z"
   },
   {
    "duration": 713,
    "start_time": "2022-06-02T21:52:03.148Z"
   },
   {
    "duration": 645,
    "start_time": "2022-06-02T21:52:03.862Z"
   },
   {
    "duration": 13,
    "start_time": "2022-06-02T21:52:04.509Z"
   },
   {
    "duration": 243,
    "start_time": "2022-06-02T21:52:04.529Z"
   },
   {
    "duration": 3,
    "start_time": "2022-06-02T21:52:04.773Z"
   },
   {
    "duration": 83153,
    "start_time": "2022-06-02T21:52:04.778Z"
   },
   {
    "duration": 5,
    "start_time": "2022-06-02T21:53:27.935Z"
   },
   {
    "duration": 169,
    "start_time": "2022-06-02T21:53:27.941Z"
   },
   {
    "duration": 7,
    "start_time": "2022-06-02T21:53:38.824Z"
   },
   {
    "duration": 132,
    "start_time": "2022-06-02T21:53:40.542Z"
   },
   {
    "duration": 5,
    "start_time": "2022-06-02T21:53:42.552Z"
   },
   {
    "duration": 334563,
    "start_time": "2022-06-02T21:54:24.181Z"
   },
   {
    "duration": 2,
    "start_time": "2022-06-02T21:59:58.746Z"
   },
   {
    "duration": 219130,
    "start_time": "2022-06-02T21:59:58.750Z"
   },
   {
    "duration": 1387,
    "start_time": "2022-06-02T22:11:06.732Z"
   },
   {
    "duration": 1253,
    "start_time": "2022-06-02T22:11:08.121Z"
   },
   {
    "duration": 572,
    "start_time": "2022-06-02T22:11:09.377Z"
   },
   {
    "duration": 635,
    "start_time": "2022-06-02T22:11:09.952Z"
   },
   {
    "duration": 64,
    "start_time": "2022-06-02T22:11:10.589Z"
   },
   {
    "duration": 146,
    "start_time": "2022-06-02T22:11:10.655Z"
   },
   {
    "duration": 112,
    "start_time": "2022-06-02T22:11:10.804Z"
   },
   {
    "duration": 84,
    "start_time": "2022-06-02T22:11:10.918Z"
   },
   {
    "duration": 348,
    "start_time": "2022-06-02T22:11:11.004Z"
   },
   {
    "duration": 10,
    "start_time": "2022-06-02T22:11:11.355Z"
   },
   {
    "duration": 41,
    "start_time": "2022-06-02T22:11:11.367Z"
   },
   {
    "duration": 58,
    "start_time": "2022-06-02T22:11:11.411Z"
   },
   {
    "duration": 344,
    "start_time": "2022-06-02T22:11:11.472Z"
   },
   {
    "duration": 32,
    "start_time": "2022-06-02T22:11:11.818Z"
   },
   {
    "duration": 52,
    "start_time": "2022-06-02T22:11:11.852Z"
   },
   {
    "duration": 48,
    "start_time": "2022-06-02T22:11:11.905Z"
   },
   {
    "duration": 344,
    "start_time": "2022-06-02T22:11:11.955Z"
   },
   {
    "duration": 38,
    "start_time": "2022-06-02T22:11:12.301Z"
   },
   {
    "duration": 269,
    "start_time": "2022-06-02T22:11:12.345Z"
   },
   {
    "duration": 140,
    "start_time": "2022-06-02T22:11:12.616Z"
   },
   {
    "duration": 256,
    "start_time": "2022-06-02T22:11:12.758Z"
   },
   {
    "duration": 27,
    "start_time": "2022-06-02T22:11:13.016Z"
   },
   {
    "duration": 33,
    "start_time": "2022-06-02T22:11:13.045Z"
   },
   {
    "duration": 359,
    "start_time": "2022-06-02T22:11:13.080Z"
   },
   {
    "duration": 26,
    "start_time": "2022-06-02T22:11:13.444Z"
   },
   {
    "duration": 308,
    "start_time": "2022-06-02T22:11:13.472Z"
   },
   {
    "duration": 31,
    "start_time": "2022-06-02T22:11:13.782Z"
   },
   {
    "duration": 34,
    "start_time": "2022-06-02T22:11:13.817Z"
   },
   {
    "duration": 293,
    "start_time": "2022-06-02T22:11:13.853Z"
   },
   {
    "duration": 30,
    "start_time": "2022-06-02T22:11:14.148Z"
   },
   {
    "duration": 22,
    "start_time": "2022-06-02T22:11:14.180Z"
   },
   {
    "duration": 944,
    "start_time": "2022-06-02T22:11:14.204Z"
   },
   {
    "duration": 629,
    "start_time": "2022-06-02T22:11:15.150Z"
   },
   {
    "duration": 182,
    "start_time": "2022-06-02T22:11:15.781Z"
   },
   {
    "duration": 2,
    "start_time": "2022-06-02T22:11:15.965Z"
   },
   {
    "duration": 88368,
    "start_time": "2022-06-02T22:11:15.969Z"
   },
   {
    "duration": 6,
    "start_time": "2022-06-02T22:12:44.345Z"
   },
   {
    "duration": 239,
    "start_time": "2022-06-02T22:12:44.354Z"
   },
   {
    "duration": 4,
    "start_time": "2022-06-02T22:12:44.594Z"
   },
   {
    "duration": 464757,
    "start_time": "2022-06-02T22:12:44.599Z"
   },
   {
    "duration": 5,
    "start_time": "2022-06-02T22:20:29.360Z"
   },
   {
    "duration": 236872,
    "start_time": "2022-06-02T22:20:29.366Z"
   },
   {
    "duration": 187,
    "start_time": "2022-06-02T22:24:26.246Z"
   },
   {
    "duration": 821,
    "start_time": "2022-06-02T22:24:26.440Z"
   },
   {
    "duration": 555,
    "start_time": "2022-06-02T22:24:27.263Z"
   },
   {
    "duration": 90,
    "start_time": "2022-06-03T11:09:31.760Z"
   },
   {
    "duration": 88,
    "start_time": "2022-06-03T11:12:54.595Z"
   },
   {
    "duration": 65,
    "start_time": "2022-06-03T11:13:50.596Z"
   },
   {
    "duration": 1617,
    "start_time": "2022-06-03T11:28:03.459Z"
   },
   {
    "duration": 1570,
    "start_time": "2022-06-03T11:28:05.079Z"
   },
   {
    "duration": 522,
    "start_time": "2022-06-03T11:28:06.651Z"
   },
   {
    "duration": 575,
    "start_time": "2022-06-03T11:28:07.176Z"
   },
   {
    "duration": 38,
    "start_time": "2022-06-03T11:28:07.753Z"
   },
   {
    "duration": 89,
    "start_time": "2022-06-03T11:28:07.793Z"
   },
   {
    "duration": 104,
    "start_time": "2022-06-03T11:28:07.884Z"
   },
   {
    "duration": 77,
    "start_time": "2022-06-03T11:28:07.990Z"
   },
   {
    "duration": 296,
    "start_time": "2022-06-03T11:28:10.802Z"
   },
   {
    "duration": 8,
    "start_time": "2022-06-03T11:28:11.790Z"
   },
   {
    "duration": 23,
    "start_time": "2022-06-03T11:28:12.631Z"
   },
   {
    "duration": 36,
    "start_time": "2022-06-03T11:28:13.397Z"
   },
   {
    "duration": 295,
    "start_time": "2022-06-03T11:28:13.686Z"
   },
   {
    "duration": 23,
    "start_time": "2022-06-03T11:28:14.699Z"
   },
   {
    "duration": 42,
    "start_time": "2022-06-03T11:28:15.809Z"
   },
   {
    "duration": 32,
    "start_time": "2022-06-03T11:28:17.009Z"
   },
   {
    "duration": 278,
    "start_time": "2022-06-03T11:28:17.293Z"
   },
   {
    "duration": 57,
    "start_time": "2022-06-03T11:28:17.573Z"
   },
   {
    "duration": 248,
    "start_time": "2022-06-03T11:28:19.846Z"
   },
   {
    "duration": 97,
    "start_time": "2022-06-03T11:28:20.959Z"
   },
   {
    "duration": 215,
    "start_time": "2022-06-03T11:28:21.314Z"
   },
   {
    "duration": 106,
    "start_time": "2022-06-03T11:28:21.993Z"
   },
   {
    "duration": 117,
    "start_time": "2022-06-03T11:32:06.807Z"
   },
   {
    "duration": 12,
    "start_time": "2022-06-03T11:32:07.203Z"
   },
   {
    "duration": 25,
    "start_time": "2022-06-03T11:32:08.857Z"
   },
   {
    "duration": 267,
    "start_time": "2022-06-03T11:32:09.664Z"
   },
   {
    "duration": 21,
    "start_time": "2022-06-03T11:32:10.438Z"
   },
   {
    "duration": 293,
    "start_time": "2022-06-03T11:32:11.259Z"
   },
   {
    "duration": 31,
    "start_time": "2022-06-03T11:32:11.632Z"
   },
   {
    "duration": 17,
    "start_time": "2022-06-03T11:32:12.063Z"
   },
   {
    "duration": 272,
    "start_time": "2022-06-03T11:32:12.668Z"
   },
   {
    "duration": 31,
    "start_time": "2022-06-03T11:32:13.607Z"
   },
   {
    "duration": 18,
    "start_time": "2022-06-03T11:32:13.974Z"
   },
   {
    "duration": 855,
    "start_time": "2022-06-03T11:32:15.486Z"
   },
   {
    "duration": 610,
    "start_time": "2022-06-03T11:32:16.343Z"
   },
   {
    "duration": 158,
    "start_time": "2022-06-03T11:32:16.954Z"
   },
   {
    "duration": 3,
    "start_time": "2022-06-03T11:32:17.114Z"
   },
   {
    "duration": 27104,
    "start_time": "2022-06-03T11:32:17.125Z"
   },
   {
    "duration": 3,
    "start_time": "2022-06-03T11:32:44.231Z"
   },
   {
    "duration": 225,
    "start_time": "2022-06-03T11:32:44.235Z"
   },
   {
    "duration": 3,
    "start_time": "2022-06-03T11:32:44.463Z"
   },
   {
    "duration": 469465,
    "start_time": "2022-06-03T11:32:44.469Z"
   },
   {
    "duration": 3,
    "start_time": "2022-06-03T11:40:33.937Z"
   },
   {
    "duration": 220062,
    "start_time": "2022-06-03T11:40:33.942Z"
   },
   {
    "duration": 219,
    "start_time": "2022-06-03T11:44:14.006Z"
   },
   {
    "duration": 911,
    "start_time": "2022-06-03T11:44:14.231Z"
   },
   {
    "duration": 556,
    "start_time": "2022-06-03T11:44:15.145Z"
   },
   {
    "duration": 1502,
    "start_time": "2022-06-03T22:00:10.651Z"
   },
   {
    "duration": 1592,
    "start_time": "2022-06-03T22:00:12.155Z"
   },
   {
    "duration": 535,
    "start_time": "2022-06-03T22:00:13.751Z"
   },
   {
    "duration": 649,
    "start_time": "2022-06-03T22:00:14.289Z"
   },
   {
    "duration": 59,
    "start_time": "2022-06-03T22:00:14.950Z"
   },
   {
    "duration": 141,
    "start_time": "2022-06-03T22:00:15.011Z"
   },
   {
    "duration": 152,
    "start_time": "2022-06-03T22:00:15.159Z"
   },
   {
    "duration": 93,
    "start_time": "2022-06-03T22:00:15.313Z"
   },
   {
    "duration": 295,
    "start_time": "2022-06-03T22:00:15.408Z"
   },
   {
    "duration": 22,
    "start_time": "2022-06-03T22:00:15.705Z"
   },
   {
    "duration": 26,
    "start_time": "2022-06-03T22:00:15.729Z"
   },
   {
    "duration": 35,
    "start_time": "2022-06-03T22:00:15.756Z"
   },
   {
    "duration": 342,
    "start_time": "2022-06-03T22:00:15.793Z"
   },
   {
    "duration": 27,
    "start_time": "2022-06-03T22:00:16.140Z"
   },
   {
    "duration": 41,
    "start_time": "2022-06-03T22:00:16.168Z"
   },
   {
    "duration": 46,
    "start_time": "2022-06-03T22:00:16.211Z"
   },
   {
    "duration": 292,
    "start_time": "2022-06-03T22:00:16.258Z"
   },
   {
    "duration": 32,
    "start_time": "2022-06-03T22:00:16.554Z"
   },
   {
    "duration": 268,
    "start_time": "2022-06-03T22:00:16.587Z"
   },
   {
    "duration": 103,
    "start_time": "2022-06-03T22:00:16.857Z"
   },
   {
    "duration": 210,
    "start_time": "2022-06-03T22:00:16.962Z"
   },
   {
    "duration": 114,
    "start_time": "2022-06-03T22:00:17.174Z"
   },
   {
    "duration": 11,
    "start_time": "2022-06-03T22:00:17.290Z"
   },
   {
    "duration": 44,
    "start_time": "2022-06-03T22:00:17.302Z"
   },
   {
    "duration": 285,
    "start_time": "2022-06-03T22:00:17.352Z"
   },
   {
    "duration": 23,
    "start_time": "2022-06-03T22:00:17.643Z"
   },
   {
    "duration": 310,
    "start_time": "2022-06-03T22:00:17.668Z"
   },
   {
    "duration": 33,
    "start_time": "2022-06-03T22:00:17.980Z"
   },
   {
    "duration": 62,
    "start_time": "2022-06-03T22:00:18.023Z"
   },
   {
    "duration": 292,
    "start_time": "2022-06-03T22:00:18.087Z"
   },
   {
    "duration": 27,
    "start_time": "2022-06-03T22:00:18.380Z"
   },
   {
    "duration": 40,
    "start_time": "2022-06-03T22:00:18.409Z"
   },
   {
    "duration": 640,
    "start_time": "2022-06-03T22:00:18.455Z"
   },
   {
    "duration": 593,
    "start_time": "2022-06-03T22:00:19.096Z"
   },
   {
    "duration": 172,
    "start_time": "2022-06-03T22:00:19.691Z"
   },
   {
    "duration": 2,
    "start_time": "2022-06-03T22:00:19.865Z"
   },
   {
    "duration": 64178,
    "start_time": "2022-06-03T22:00:19.869Z"
   },
   {
    "duration": 3,
    "start_time": "2022-06-03T22:01:24.049Z"
   },
   {
    "duration": 224,
    "start_time": "2022-06-03T22:01:24.056Z"
   },
   {
    "duration": 3,
    "start_time": "2022-06-03T22:01:24.282Z"
   },
   {
    "duration": 1323,
    "start_time": "2022-06-03T22:02:25.909Z"
   },
   {
    "duration": 1105,
    "start_time": "2022-06-03T22:02:27.234Z"
   },
   {
    "duration": 473,
    "start_time": "2022-06-03T22:02:28.344Z"
   },
   {
    "duration": 633,
    "start_time": "2022-06-03T22:02:28.819Z"
   },
   {
    "duration": 45,
    "start_time": "2022-06-03T22:02:29.454Z"
   },
   {
    "duration": 89,
    "start_time": "2022-06-03T22:02:29.501Z"
   },
   {
    "duration": 106,
    "start_time": "2022-06-03T22:02:29.592Z"
   },
   {
    "duration": 86,
    "start_time": "2022-06-03T22:02:29.700Z"
   },
   {
    "duration": 279,
    "start_time": "2022-06-03T22:02:29.788Z"
   },
   {
    "duration": 9,
    "start_time": "2022-06-03T22:02:30.069Z"
   },
   {
    "duration": 55,
    "start_time": "2022-06-03T22:02:30.079Z"
   },
   {
    "duration": 38,
    "start_time": "2022-06-03T22:02:30.138Z"
   },
   {
    "duration": 281,
    "start_time": "2022-06-03T22:02:30.177Z"
   },
   {
    "duration": 20,
    "start_time": "2022-06-03T22:02:30.460Z"
   },
   {
    "duration": 54,
    "start_time": "2022-06-03T22:02:30.481Z"
   },
   {
    "duration": 32,
    "start_time": "2022-06-03T22:02:30.540Z"
   },
   {
    "duration": 277,
    "start_time": "2022-06-03T22:02:30.574Z"
   },
   {
    "duration": 27,
    "start_time": "2022-06-03T22:02:30.853Z"
   },
   {
    "duration": 274,
    "start_time": "2022-06-03T22:02:30.881Z"
   },
   {
    "duration": 105,
    "start_time": "2022-06-03T22:02:31.157Z"
   },
   {
    "duration": 207,
    "start_time": "2022-06-03T22:02:31.264Z"
   },
   {
    "duration": 105,
    "start_time": "2022-06-03T22:02:31.473Z"
   },
   {
    "duration": 10,
    "start_time": "2022-06-03T22:02:31.580Z"
   },
   {
    "duration": 45,
    "start_time": "2022-06-03T22:02:31.591Z"
   },
   {
    "duration": 266,
    "start_time": "2022-06-03T22:02:31.638Z"
   },
   {
    "duration": 34,
    "start_time": "2022-06-03T22:02:31.905Z"
   },
   {
    "duration": 310,
    "start_time": "2022-06-03T22:02:31.942Z"
   },
   {
    "duration": 28,
    "start_time": "2022-06-03T22:02:32.257Z"
   },
   {
    "duration": 19,
    "start_time": "2022-06-03T22:02:32.286Z"
   },
   {
    "duration": 266,
    "start_time": "2022-06-03T22:02:32.306Z"
   },
   {
    "duration": 35,
    "start_time": "2022-06-03T22:02:32.574Z"
   },
   {
    "duration": 59,
    "start_time": "2022-06-03T22:02:32.611Z"
   },
   {
    "duration": 661,
    "start_time": "2022-06-03T22:02:32.672Z"
   },
   {
    "duration": 576,
    "start_time": "2022-06-03T22:02:33.337Z"
   },
   {
    "duration": 165,
    "start_time": "2022-06-03T22:02:33.914Z"
   },
   {
    "duration": 3,
    "start_time": "2022-06-03T22:02:34.080Z"
   },
   {
    "duration": 60449,
    "start_time": "2022-06-03T22:02:34.084Z"
   },
   {
    "duration": 4,
    "start_time": "2022-06-03T22:03:34.538Z"
   },
   {
    "duration": 189,
    "start_time": "2022-06-03T22:03:34.547Z"
   },
   {
    "duration": 9,
    "start_time": "2022-06-03T22:03:34.738Z"
   },
   {
    "duration": 146413,
    "start_time": "2022-06-03T22:03:34.751Z"
   },
   {
    "duration": 62,
    "start_time": "2022-06-03T22:06:01.165Z"
   },
   {
    "duration": 214650,
    "start_time": "2022-06-03T22:06:01.229Z"
   },
   {
    "duration": 161,
    "start_time": "2022-06-03T22:09:35.880Z"
   },
   {
    "duration": 802,
    "start_time": "2022-06-03T22:09:36.048Z"
   },
   {
    "duration": 541,
    "start_time": "2022-06-03T22:09:36.851Z"
   },
   {
    "duration": 1282,
    "start_time": "2022-06-03T22:13:40.290Z"
   },
   {
    "duration": 1157,
    "start_time": "2022-06-03T22:13:41.574Z"
   },
   {
    "duration": 527,
    "start_time": "2022-06-03T22:13:42.733Z"
   },
   {
    "duration": 609,
    "start_time": "2022-06-03T22:13:43.261Z"
   },
   {
    "duration": 60,
    "start_time": "2022-06-03T22:13:43.873Z"
   },
   {
    "duration": 126,
    "start_time": "2022-06-03T22:13:43.938Z"
   },
   {
    "duration": 89,
    "start_time": "2022-06-03T22:13:44.066Z"
   },
   {
    "duration": 83,
    "start_time": "2022-06-03T22:13:44.157Z"
   },
   {
    "duration": 270,
    "start_time": "2022-06-03T22:13:44.248Z"
   },
   {
    "duration": 15,
    "start_time": "2022-06-03T22:13:44.520Z"
   },
   {
    "duration": 35,
    "start_time": "2022-06-03T22:13:44.541Z"
   },
   {
    "duration": 30,
    "start_time": "2022-06-03T22:13:44.578Z"
   },
   {
    "duration": 276,
    "start_time": "2022-06-03T22:13:44.609Z"
   },
   {
    "duration": 18,
    "start_time": "2022-06-03T22:13:44.889Z"
   },
   {
    "duration": 51,
    "start_time": "2022-06-03T22:13:44.909Z"
   },
   {
    "duration": 34,
    "start_time": "2022-06-03T22:13:44.962Z"
   },
   {
    "duration": 284,
    "start_time": "2022-06-03T22:13:44.998Z"
   },
   {
    "duration": 27,
    "start_time": "2022-06-03T22:13:45.284Z"
   },
   {
    "duration": 248,
    "start_time": "2022-06-03T22:13:45.313Z"
   },
   {
    "duration": 178,
    "start_time": "2022-06-03T22:13:45.563Z"
   },
   {
    "duration": 127,
    "start_time": "2022-06-03T22:13:45.743Z"
   },
   {
    "duration": 29,
    "start_time": "2022-06-03T22:13:45.871Z"
   },
   {
    "duration": 55,
    "start_time": "2022-06-03T22:13:45.901Z"
   },
   {
    "duration": 251,
    "start_time": "2022-06-03T22:13:45.957Z"
   },
   {
    "duration": 39,
    "start_time": "2022-06-03T22:13:46.210Z"
   },
   {
    "duration": 240,
    "start_time": "2022-06-03T22:13:46.251Z"
   },
   {
    "duration": 35,
    "start_time": "2022-06-03T22:13:46.493Z"
   },
   {
    "duration": 30,
    "start_time": "2022-06-03T22:13:46.532Z"
   },
   {
    "duration": 215,
    "start_time": "2022-06-03T22:13:46.564Z"
   },
   {
    "duration": 25,
    "start_time": "2022-06-03T22:13:46.781Z"
   },
   {
    "duration": 39,
    "start_time": "2022-06-03T22:13:46.807Z"
   },
   {
    "duration": 9767,
    "start_time": "2022-06-03T22:13:46.847Z"
   },
   {
    "duration": 5551,
    "start_time": "2022-06-03T22:13:56.615Z"
   },
   {
    "duration": 138,
    "start_time": "2022-06-03T22:14:02.168Z"
   },
   {
    "duration": 0,
    "start_time": "2022-06-03T22:14:02.308Z"
   },
   {
    "duration": 0,
    "start_time": "2022-06-03T22:14:02.309Z"
   },
   {
    "duration": 0,
    "start_time": "2022-06-03T22:14:02.311Z"
   },
   {
    "duration": 0,
    "start_time": "2022-06-03T22:14:02.312Z"
   },
   {
    "duration": 0,
    "start_time": "2022-06-03T22:14:02.324Z"
   },
   {
    "duration": 0,
    "start_time": "2022-06-03T22:14:02.325Z"
   },
   {
    "duration": 0,
    "start_time": "2022-06-03T22:14:02.326Z"
   },
   {
    "duration": 0,
    "start_time": "2022-06-03T22:14:02.327Z"
   },
   {
    "duration": 0,
    "start_time": "2022-06-03T22:14:02.327Z"
   },
   {
    "duration": 0,
    "start_time": "2022-06-03T22:14:02.328Z"
   },
   {
    "duration": 0,
    "start_time": "2022-06-03T22:14:02.329Z"
   },
   {
    "duration": 1395,
    "start_time": "2022-06-03T22:15:42.241Z"
   },
   {
    "duration": 1110,
    "start_time": "2022-06-03T22:15:43.641Z"
   },
   {
    "duration": 498,
    "start_time": "2022-06-03T22:15:44.754Z"
   },
   {
    "duration": 634,
    "start_time": "2022-06-03T22:15:45.254Z"
   },
   {
    "duration": 56,
    "start_time": "2022-06-03T22:15:45.890Z"
   },
   {
    "duration": 101,
    "start_time": "2022-06-03T22:15:45.952Z"
   },
   {
    "duration": 96,
    "start_time": "2022-06-03T22:15:46.056Z"
   },
   {
    "duration": 84,
    "start_time": "2022-06-03T22:15:46.155Z"
   },
   {
    "duration": 264,
    "start_time": "2022-06-03T22:15:46.242Z"
   },
   {
    "duration": 8,
    "start_time": "2022-06-03T22:15:46.508Z"
   },
   {
    "duration": 33,
    "start_time": "2022-06-03T22:15:46.525Z"
   },
   {
    "duration": 30,
    "start_time": "2022-06-03T22:15:46.560Z"
   },
   {
    "duration": 287,
    "start_time": "2022-06-03T22:15:46.593Z"
   },
   {
    "duration": 20,
    "start_time": "2022-06-03T22:15:46.882Z"
   },
   {
    "duration": 62,
    "start_time": "2022-06-03T22:15:46.904Z"
   },
   {
    "duration": 28,
    "start_time": "2022-06-03T22:15:46.967Z"
   },
   {
    "duration": 278,
    "start_time": "2022-06-03T22:15:46.997Z"
   },
   {
    "duration": 31,
    "start_time": "2022-06-03T22:15:47.277Z"
   },
   {
    "duration": 254,
    "start_time": "2022-06-03T22:15:47.310Z"
   },
   {
    "duration": 189,
    "start_time": "2022-06-03T22:15:47.565Z"
   },
   {
    "duration": 134,
    "start_time": "2022-06-03T22:15:47.755Z"
   },
   {
    "duration": 125,
    "start_time": "2022-06-03T22:15:47.890Z"
   },
   {
    "duration": 46,
    "start_time": "2022-06-03T22:15:48.016Z"
   },
   {
    "duration": 41,
    "start_time": "2022-06-03T22:15:48.063Z"
   },
   {
    "duration": 285,
    "start_time": "2022-06-03T22:15:48.106Z"
   },
   {
    "duration": 21,
    "start_time": "2022-06-03T22:15:48.392Z"
   },
   {
    "duration": 298,
    "start_time": "2022-06-03T22:15:48.414Z"
   },
   {
    "duration": 52,
    "start_time": "2022-06-03T22:15:48.714Z"
   },
   {
    "duration": 13,
    "start_time": "2022-06-03T22:15:48.769Z"
   },
   {
    "duration": 233,
    "start_time": "2022-06-03T22:15:48.783Z"
   },
   {
    "duration": 43,
    "start_time": "2022-06-03T22:15:49.018Z"
   },
   {
    "duration": 14,
    "start_time": "2022-06-03T22:15:49.063Z"
   },
   {
    "duration": 9762,
    "start_time": "2022-06-03T22:15:49.079Z"
   },
   {
    "duration": 5263,
    "start_time": "2022-06-03T22:15:58.847Z"
   },
   {
    "duration": 142,
    "start_time": "2022-06-03T22:16:04.112Z"
   },
   {
    "duration": 0,
    "start_time": "2022-06-03T22:16:04.256Z"
   },
   {
    "duration": 0,
    "start_time": "2022-06-03T22:16:04.257Z"
   },
   {
    "duration": 0,
    "start_time": "2022-06-03T22:16:04.259Z"
   },
   {
    "duration": 0,
    "start_time": "2022-06-03T22:16:04.260Z"
   },
   {
    "duration": 0,
    "start_time": "2022-06-03T22:16:04.261Z"
   },
   {
    "duration": 0,
    "start_time": "2022-06-03T22:16:04.262Z"
   },
   {
    "duration": 0,
    "start_time": "2022-06-03T22:16:04.263Z"
   },
   {
    "duration": 0,
    "start_time": "2022-06-03T22:16:04.264Z"
   },
   {
    "duration": 0,
    "start_time": "2022-06-03T22:16:04.265Z"
   },
   {
    "duration": 0,
    "start_time": "2022-06-03T22:16:04.266Z"
   },
   {
    "duration": 0,
    "start_time": "2022-06-03T22:16:04.267Z"
   },
   {
    "duration": 1315,
    "start_time": "2022-06-03T22:17:25.186Z"
   },
   {
    "duration": 1142,
    "start_time": "2022-06-03T22:17:26.503Z"
   },
   {
    "duration": 474,
    "start_time": "2022-06-03T22:17:27.647Z"
   },
   {
    "duration": 629,
    "start_time": "2022-06-03T22:17:28.122Z"
   },
   {
    "duration": 40,
    "start_time": "2022-06-03T22:17:28.753Z"
   },
   {
    "duration": 95,
    "start_time": "2022-06-03T22:17:28.795Z"
   },
   {
    "duration": 122,
    "start_time": "2022-06-03T22:17:28.891Z"
   },
   {
    "duration": 90,
    "start_time": "2022-06-03T22:17:29.015Z"
   },
   {
    "duration": 293,
    "start_time": "2022-06-03T22:17:29.106Z"
   },
   {
    "duration": 9,
    "start_time": "2022-06-03T22:17:29.401Z"
   },
   {
    "duration": 33,
    "start_time": "2022-06-03T22:17:29.425Z"
   },
   {
    "duration": 30,
    "start_time": "2022-06-03T22:17:29.459Z"
   },
   {
    "duration": 281,
    "start_time": "2022-06-03T22:17:29.491Z"
   },
   {
    "duration": 20,
    "start_time": "2022-06-03T22:17:29.775Z"
   },
   {
    "duration": 54,
    "start_time": "2022-06-03T22:17:29.796Z"
   },
   {
    "duration": 26,
    "start_time": "2022-06-03T22:17:29.852Z"
   },
   {
    "duration": 282,
    "start_time": "2022-06-03T22:17:29.880Z"
   },
   {
    "duration": 31,
    "start_time": "2022-06-03T22:17:30.164Z"
   },
   {
    "duration": 268,
    "start_time": "2022-06-03T22:17:30.196Z"
   },
   {
    "duration": 40,
    "start_time": "2022-06-03T22:17:30.465Z"
   },
   {
    "duration": 46,
    "start_time": "2022-06-03T22:17:30.506Z"
   },
   {
    "duration": 95,
    "start_time": "2022-06-03T22:17:30.553Z"
   },
   {
    "duration": 8,
    "start_time": "2022-06-03T22:17:30.651Z"
   },
   {
    "duration": 30,
    "start_time": "2022-06-03T22:17:30.661Z"
   },
   {
    "duration": 236,
    "start_time": "2022-06-03T22:17:30.693Z"
   },
   {
    "duration": 24,
    "start_time": "2022-06-03T22:17:30.931Z"
   },
   {
    "duration": 273,
    "start_time": "2022-06-03T22:17:30.956Z"
   },
   {
    "duration": 36,
    "start_time": "2022-06-03T22:17:31.232Z"
   },
   {
    "duration": 57,
    "start_time": "2022-06-03T22:17:31.270Z"
   },
   {
    "duration": 254,
    "start_time": "2022-06-03T22:17:31.329Z"
   },
   {
    "duration": 25,
    "start_time": "2022-06-03T22:17:31.584Z"
   },
   {
    "duration": 38,
    "start_time": "2022-06-03T22:17:31.611Z"
   },
   {
    "duration": 552,
    "start_time": "2022-06-03T22:17:31.651Z"
   },
   {
    "duration": 516,
    "start_time": "2022-06-03T22:17:32.205Z"
   },
   {
    "duration": 178,
    "start_time": "2022-06-03T22:17:32.723Z"
   },
   {
    "duration": 3,
    "start_time": "2022-06-03T22:17:32.903Z"
   },
   {
    "duration": 1372,
    "start_time": "2022-06-03T22:18:14.539Z"
   },
   {
    "duration": 1152,
    "start_time": "2022-06-03T22:18:15.913Z"
   },
   {
    "duration": 510,
    "start_time": "2022-06-03T22:18:17.066Z"
   },
   {
    "duration": 626,
    "start_time": "2022-06-03T22:18:17.578Z"
   },
   {
    "duration": 55,
    "start_time": "2022-06-03T22:18:18.206Z"
   },
   {
    "duration": 99,
    "start_time": "2022-06-03T22:18:18.264Z"
   },
   {
    "duration": 100,
    "start_time": "2022-06-03T22:18:18.365Z"
   },
   {
    "duration": 82,
    "start_time": "2022-06-03T22:18:18.467Z"
   },
   {
    "duration": 253,
    "start_time": "2022-06-03T22:18:18.551Z"
   },
   {
    "duration": 19,
    "start_time": "2022-06-03T22:18:18.808Z"
   },
   {
    "duration": 26,
    "start_time": "2022-06-03T22:18:18.829Z"
   },
   {
    "duration": 31,
    "start_time": "2022-06-03T22:18:18.857Z"
   },
   {
    "duration": 294,
    "start_time": "2022-06-03T22:18:18.889Z"
   },
   {
    "duration": 21,
    "start_time": "2022-06-03T22:18:19.185Z"
   },
   {
    "duration": 58,
    "start_time": "2022-06-03T22:18:19.207Z"
   },
   {
    "duration": 40,
    "start_time": "2022-06-03T22:18:19.267Z"
   },
   {
    "duration": 274,
    "start_time": "2022-06-03T22:18:19.310Z"
   },
   {
    "duration": 27,
    "start_time": "2022-06-03T22:18:19.586Z"
   },
   {
    "duration": 508,
    "start_time": "2022-06-03T22:18:19.626Z"
   },
   {
    "duration": 88,
    "start_time": "2022-06-03T22:18:20.138Z"
   },
   {
    "duration": 21,
    "start_time": "2022-06-03T22:18:20.228Z"
   },
   {
    "duration": 203,
    "start_time": "2022-06-03T22:18:20.255Z"
   },
   {
    "duration": 8,
    "start_time": "2022-06-03T22:18:20.459Z"
   },
   {
    "duration": 91,
    "start_time": "2022-06-03T22:18:20.468Z"
   },
   {
    "duration": 666,
    "start_time": "2022-06-03T22:18:20.562Z"
   },
   {
    "duration": 23,
    "start_time": "2022-06-03T22:18:21.236Z"
   },
   {
    "duration": 545,
    "start_time": "2022-06-03T22:18:21.261Z"
   },
   {
    "duration": 36,
    "start_time": "2022-06-03T22:18:21.827Z"
   },
   {
    "duration": 14,
    "start_time": "2022-06-03T22:18:21.865Z"
   },
   {
    "duration": 251,
    "start_time": "2022-06-03T22:18:21.880Z"
   },
   {
    "duration": 34,
    "start_time": "2022-06-03T22:18:22.133Z"
   },
   {
    "duration": 15,
    "start_time": "2022-06-03T22:18:22.169Z"
   },
   {
    "duration": 535,
    "start_time": "2022-06-03T22:18:22.186Z"
   },
   {
    "duration": 520,
    "start_time": "2022-06-03T22:18:22.723Z"
   },
   {
    "duration": 138,
    "start_time": "2022-06-03T22:18:23.251Z"
   },
   {
    "duration": 3,
    "start_time": "2022-06-03T22:18:23.391Z"
   },
   {
    "duration": 61456,
    "start_time": "2022-06-03T22:18:23.395Z"
   },
   {
    "duration": 3,
    "start_time": "2022-06-03T22:19:24.853Z"
   },
   {
    "duration": 198,
    "start_time": "2022-06-03T22:19:24.857Z"
   },
   {
    "duration": 3,
    "start_time": "2022-06-03T22:19:25.057Z"
   },
   {
    "duration": 174196,
    "start_time": "2022-06-03T22:19:25.061Z"
   },
   {
    "duration": 6,
    "start_time": "2022-06-03T22:22:19.331Z"
   },
   {
    "duration": 190358,
    "start_time": "2022-06-03T22:22:19.339Z"
   },
   {
    "duration": 138,
    "start_time": "2022-06-03T22:25:29.699Z"
   },
   {
    "duration": 718,
    "start_time": "2022-06-03T22:25:29.839Z"
   },
   {
    "duration": 437,
    "start_time": "2022-06-03T22:25:30.628Z"
   },
   {
    "duration": 1423,
    "start_time": "2022-06-04T12:35:56.016Z"
   },
   {
    "duration": 1304,
    "start_time": "2022-06-04T12:35:57.441Z"
   },
   {
    "duration": 494,
    "start_time": "2022-06-04T12:35:58.746Z"
   },
   {
    "duration": 584,
    "start_time": "2022-06-04T12:35:59.242Z"
   },
   {
    "duration": 44,
    "start_time": "2022-06-04T12:35:59.829Z"
   },
   {
    "duration": 103,
    "start_time": "2022-06-04T12:35:59.875Z"
   },
   {
    "duration": 108,
    "start_time": "2022-06-04T12:35:59.980Z"
   },
   {
    "duration": 78,
    "start_time": "2022-06-04T12:36:00.089Z"
   },
   {
    "duration": 264,
    "start_time": "2022-06-04T12:36:00.169Z"
   },
   {
    "duration": 9,
    "start_time": "2022-06-04T12:36:00.435Z"
   },
   {
    "duration": 30,
    "start_time": "2022-06-04T12:36:00.445Z"
   },
   {
    "duration": 33,
    "start_time": "2022-06-04T12:36:00.476Z"
   },
   {
    "duration": 269,
    "start_time": "2022-06-04T12:36:00.523Z"
   },
   {
    "duration": 19,
    "start_time": "2022-06-04T12:36:00.795Z"
   },
   {
    "duration": 38,
    "start_time": "2022-06-04T12:36:00.833Z"
   },
   {
    "duration": 29,
    "start_time": "2022-06-04T12:36:00.873Z"
   },
   {
    "duration": 254,
    "start_time": "2022-06-04T12:36:00.904Z"
   },
   {
    "duration": 27,
    "start_time": "2022-06-04T12:36:01.160Z"
   },
   {
    "duration": 252,
    "start_time": "2022-06-04T12:36:01.189Z"
   },
   {
    "duration": 40,
    "start_time": "2022-06-04T12:36:01.443Z"
   },
   {
    "duration": 98,
    "start_time": "2022-06-04T12:36:01.485Z"
   },
   {
    "duration": 8,
    "start_time": "2022-06-04T12:36:01.585Z"
   },
   {
    "duration": 42,
    "start_time": "2022-06-04T12:36:01.595Z"
   },
   {
    "duration": 214,
    "start_time": "2022-06-04T12:36:01.639Z"
   },
   {
    "duration": 20,
    "start_time": "2022-06-04T12:36:01.855Z"
   },
   {
    "duration": 264,
    "start_time": "2022-06-04T12:36:01.876Z"
   },
   {
    "duration": 25,
    "start_time": "2022-06-04T12:36:02.142Z"
   },
   {
    "duration": 33,
    "start_time": "2022-06-04T12:36:02.169Z"
   },
   {
    "duration": 196,
    "start_time": "2022-06-04T12:36:02.203Z"
   },
   {
    "duration": 30,
    "start_time": "2022-06-04T12:36:02.401Z"
   },
   {
    "duration": 16,
    "start_time": "2022-06-04T12:36:02.432Z"
   },
   {
    "duration": 543,
    "start_time": "2022-06-04T12:36:02.449Z"
   },
   {
    "duration": 467,
    "start_time": "2022-06-04T12:36:02.994Z"
   },
   {
    "duration": 128,
    "start_time": "2022-06-04T12:36:03.463Z"
   },
   {
    "duration": 2,
    "start_time": "2022-06-04T12:36:03.593Z"
   },
   {
    "duration": 16626,
    "start_time": "2022-06-04T12:36:03.597Z"
   },
   {
    "duration": 2,
    "start_time": "2022-06-04T12:36:20.225Z"
   },
   {
    "duration": 144,
    "start_time": "2022-06-04T12:36:20.229Z"
   },
   {
    "duration": 2,
    "start_time": "2022-06-04T12:36:20.375Z"
   },
   {
    "duration": 4458,
    "start_time": "2022-06-04T12:36:20.379Z"
   },
   {
    "duration": 82,
    "start_time": "2022-06-04T12:36:24.841Z"
   },
   {
    "duration": 171438,
    "start_time": "2022-06-04T12:36:24.925Z"
   },
   {
    "duration": 85,
    "start_time": "2022-06-04T12:39:16.365Z"
   },
   {
    "duration": 710,
    "start_time": "2022-06-04T12:39:16.524Z"
   },
   {
    "duration": 470,
    "start_time": "2022-06-04T12:39:17.236Z"
   },
   {
    "duration": 29,
    "start_time": "2022-06-04T13:33:25.839Z"
   },
   {
    "duration": 1312,
    "start_time": "2022-06-04T13:33:30.611Z"
   },
   {
    "duration": 1078,
    "start_time": "2022-06-04T13:33:31.925Z"
   },
   {
    "duration": 450,
    "start_time": "2022-06-04T13:33:33.005Z"
   },
   {
    "duration": 535,
    "start_time": "2022-06-04T13:33:33.457Z"
   },
   {
    "duration": 42,
    "start_time": "2022-06-04T13:33:33.995Z"
   },
   {
    "duration": 88,
    "start_time": "2022-06-04T13:33:34.039Z"
   },
   {
    "duration": 94,
    "start_time": "2022-06-04T13:33:34.129Z"
   },
   {
    "duration": 69,
    "start_time": "2022-06-04T13:33:34.225Z"
   },
   {
    "duration": 250,
    "start_time": "2022-06-04T13:33:34.295Z"
   },
   {
    "duration": 8,
    "start_time": "2022-06-04T13:33:34.547Z"
   },
   {
    "duration": 22,
    "start_time": "2022-06-04T13:33:34.556Z"
   },
   {
    "duration": 47,
    "start_time": "2022-06-04T13:33:34.580Z"
   },
   {
    "duration": 258,
    "start_time": "2022-06-04T13:33:34.628Z"
   },
   {
    "duration": 19,
    "start_time": "2022-06-04T13:33:34.889Z"
   },
   {
    "duration": 45,
    "start_time": "2022-06-04T13:33:34.910Z"
   },
   {
    "duration": 26,
    "start_time": "2022-06-04T13:33:34.957Z"
   },
   {
    "duration": 250,
    "start_time": "2022-06-04T13:33:34.984Z"
   },
   {
    "duration": 46,
    "start_time": "2022-06-04T13:33:35.236Z"
   },
   {
    "duration": 235,
    "start_time": "2022-06-04T13:33:35.284Z"
   },
   {
    "duration": 38,
    "start_time": "2022-06-04T13:33:35.520Z"
   },
   {
    "duration": 92,
    "start_time": "2022-06-04T13:33:35.560Z"
   },
   {
    "duration": 8,
    "start_time": "2022-06-04T13:33:35.653Z"
   },
   {
    "duration": 22,
    "start_time": "2022-06-04T13:33:35.662Z"
   },
   {
    "duration": 233,
    "start_time": "2022-06-04T13:33:35.686Z"
   },
   {
    "duration": 21,
    "start_time": "2022-06-04T13:33:35.921Z"
   },
   {
    "duration": 257,
    "start_time": "2022-06-04T13:33:35.944Z"
   },
   {
    "duration": 26,
    "start_time": "2022-06-04T13:33:36.203Z"
   },
   {
    "duration": 15,
    "start_time": "2022-06-04T13:33:36.231Z"
   },
   {
    "duration": 209,
    "start_time": "2022-06-04T13:33:36.248Z"
   },
   {
    "duration": 25,
    "start_time": "2022-06-04T13:33:36.458Z"
   },
   {
    "duration": 19,
    "start_time": "2022-06-04T13:33:36.484Z"
   },
   {
    "duration": 500,
    "start_time": "2022-06-04T13:33:36.504Z"
   },
   {
    "duration": 478,
    "start_time": "2022-06-04T13:33:37.006Z"
   },
   {
    "duration": 127,
    "start_time": "2022-06-04T13:33:37.486Z"
   },
   {
    "duration": 2,
    "start_time": "2022-06-04T13:33:37.615Z"
   },
   {
    "duration": 19757,
    "start_time": "2022-06-04T13:33:37.623Z"
   },
   {
    "duration": 3,
    "start_time": "2022-06-04T13:33:57.382Z"
   },
   {
    "duration": 121,
    "start_time": "2022-06-04T13:33:57.386Z"
   },
   {
    "duration": 2,
    "start_time": "2022-06-04T13:33:57.509Z"
   },
   {
    "duration": 4820,
    "start_time": "2022-06-04T13:33:57.513Z"
   },
   {
    "duration": 2,
    "start_time": "2022-06-04T13:34:02.337Z"
   },
   {
    "duration": 1299,
    "start_time": "2022-06-04T13:35:04.715Z"
   },
   {
    "duration": 1035,
    "start_time": "2022-06-04T13:35:06.016Z"
   },
   {
    "duration": 451,
    "start_time": "2022-06-04T13:35:07.053Z"
   },
   {
    "duration": 573,
    "start_time": "2022-06-04T13:35:07.507Z"
   },
   {
    "duration": 41,
    "start_time": "2022-06-04T13:35:08.082Z"
   },
   {
    "duration": 79,
    "start_time": "2022-06-04T13:35:08.125Z"
   },
   {
    "duration": 98,
    "start_time": "2022-06-04T13:35:08.206Z"
   },
   {
    "duration": 73,
    "start_time": "2022-06-04T13:35:08.306Z"
   },
   {
    "duration": 260,
    "start_time": "2022-06-04T13:35:08.381Z"
   },
   {
    "duration": 9,
    "start_time": "2022-06-04T13:35:08.644Z"
   },
   {
    "duration": 37,
    "start_time": "2022-06-04T13:35:08.654Z"
   },
   {
    "duration": 41,
    "start_time": "2022-06-04T13:35:08.693Z"
   },
   {
    "duration": 265,
    "start_time": "2022-06-04T13:35:08.735Z"
   },
   {
    "duration": 33,
    "start_time": "2022-06-04T13:35:09.002Z"
   },
   {
    "duration": 38,
    "start_time": "2022-06-04T13:35:09.037Z"
   },
   {
    "duration": 27,
    "start_time": "2022-06-04T13:35:09.077Z"
   },
   {
    "duration": 304,
    "start_time": "2022-06-04T13:35:09.105Z"
   },
   {
    "duration": 34,
    "start_time": "2022-06-04T13:35:09.410Z"
   },
   {
    "duration": 254,
    "start_time": "2022-06-04T13:35:09.446Z"
   },
   {
    "duration": 48,
    "start_time": "2022-06-04T13:35:09.702Z"
   },
   {
    "duration": 87,
    "start_time": "2022-06-04T13:35:09.751Z"
   },
   {
    "duration": 8,
    "start_time": "2022-06-04T13:35:09.840Z"
   },
   {
    "duration": 21,
    "start_time": "2022-06-04T13:35:09.849Z"
   },
   {
    "duration": 245,
    "start_time": "2022-06-04T13:35:09.871Z"
   },
   {
    "duration": 21,
    "start_time": "2022-06-04T13:35:10.118Z"
   },
   {
    "duration": 243,
    "start_time": "2022-06-04T13:35:10.141Z"
   },
   {
    "duration": 25,
    "start_time": "2022-06-04T13:35:10.386Z"
   },
   {
    "duration": 13,
    "start_time": "2022-06-04T13:35:10.423Z"
   },
   {
    "duration": 209,
    "start_time": "2022-06-04T13:35:10.437Z"
   },
   {
    "duration": 27,
    "start_time": "2022-06-04T13:35:10.647Z"
   },
   {
    "duration": 15,
    "start_time": "2022-06-04T13:35:10.676Z"
   },
   {
    "duration": 481,
    "start_time": "2022-06-04T13:35:10.693Z"
   },
   {
    "duration": 468,
    "start_time": "2022-06-04T13:35:11.176Z"
   },
   {
    "duration": 132,
    "start_time": "2022-06-04T13:35:11.646Z"
   },
   {
    "duration": 2,
    "start_time": "2022-06-04T13:35:11.780Z"
   },
   {
    "duration": 19790,
    "start_time": "2022-06-04T13:35:11.784Z"
   },
   {
    "duration": 2,
    "start_time": "2022-06-04T13:35:31.576Z"
   },
   {
    "duration": 115,
    "start_time": "2022-06-04T13:35:31.580Z"
   },
   {
    "duration": 3,
    "start_time": "2022-06-04T13:35:31.697Z"
   },
   {
    "duration": 4231,
    "start_time": "2022-06-04T13:35:31.702Z"
   },
   {
    "duration": 3,
    "start_time": "2022-06-04T13:35:35.935Z"
   },
   {
    "duration": 1312,
    "start_time": "2022-06-04T13:37:02.498Z"
   },
   {
    "duration": 1071,
    "start_time": "2022-06-04T13:37:03.812Z"
   },
   {
    "duration": 491,
    "start_time": "2022-06-04T13:37:04.885Z"
   },
   {
    "duration": 575,
    "start_time": "2022-06-04T13:37:05.378Z"
   },
   {
    "duration": 47,
    "start_time": "2022-06-04T13:37:05.956Z"
   },
   {
    "duration": 84,
    "start_time": "2022-06-04T13:37:06.005Z"
   },
   {
    "duration": 148,
    "start_time": "2022-06-04T13:37:06.091Z"
   },
   {
    "duration": 70,
    "start_time": "2022-06-04T13:37:06.241Z"
   },
   {
    "duration": 275,
    "start_time": "2022-06-04T13:37:06.313Z"
   },
   {
    "duration": 9,
    "start_time": "2022-06-04T13:37:06.589Z"
   },
   {
    "duration": 34,
    "start_time": "2022-06-04T13:37:06.600Z"
   },
   {
    "duration": 32,
    "start_time": "2022-06-04T13:37:06.636Z"
   },
   {
    "duration": 273,
    "start_time": "2022-06-04T13:37:06.670Z"
   },
   {
    "duration": 21,
    "start_time": "2022-06-04T13:37:06.946Z"
   },
   {
    "duration": 38,
    "start_time": "2022-06-04T13:37:06.968Z"
   },
   {
    "duration": 42,
    "start_time": "2022-06-04T13:37:07.007Z"
   },
   {
    "duration": 269,
    "start_time": "2022-06-04T13:37:07.050Z"
   },
   {
    "duration": 28,
    "start_time": "2022-06-04T13:37:07.322Z"
   },
   {
    "duration": 245,
    "start_time": "2022-06-04T13:37:07.352Z"
   },
   {
    "duration": 53,
    "start_time": "2022-06-04T13:37:07.600Z"
   },
   {
    "duration": 93,
    "start_time": "2022-06-04T13:37:07.655Z"
   },
   {
    "duration": 8,
    "start_time": "2022-06-04T13:37:07.750Z"
   },
   {
    "duration": 20,
    "start_time": "2022-06-04T13:37:07.759Z"
   },
   {
    "duration": 243,
    "start_time": "2022-06-04T13:37:07.781Z"
   },
   {
    "duration": 19,
    "start_time": "2022-06-04T13:37:08.026Z"
   },
   {
    "duration": 268,
    "start_time": "2022-06-04T13:37:08.046Z"
   },
   {
    "duration": 31,
    "start_time": "2022-06-04T13:37:08.316Z"
   },
   {
    "duration": 15,
    "start_time": "2022-06-04T13:37:08.348Z"
   },
   {
    "duration": 215,
    "start_time": "2022-06-04T13:37:08.364Z"
   },
   {
    "duration": 25,
    "start_time": "2022-06-04T13:37:08.580Z"
   },
   {
    "duration": 25,
    "start_time": "2022-06-04T13:37:08.607Z"
   },
   {
    "duration": 526,
    "start_time": "2022-06-04T13:37:08.634Z"
   },
   {
    "duration": 489,
    "start_time": "2022-06-04T13:37:09.162Z"
   },
   {
    "duration": 134,
    "start_time": "2022-06-04T13:37:09.653Z"
   },
   {
    "duration": 120,
    "start_time": "2022-06-04T13:37:09.789Z"
   },
   {
    "duration": 0,
    "start_time": "2022-06-04T13:37:09.910Z"
   },
   {
    "duration": 0,
    "start_time": "2022-06-04T13:37:09.912Z"
   },
   {
    "duration": 0,
    "start_time": "2022-06-04T13:37:09.913Z"
   },
   {
    "duration": 0,
    "start_time": "2022-06-04T13:37:09.923Z"
   },
   {
    "duration": 0,
    "start_time": "2022-06-04T13:37:09.924Z"
   },
   {
    "duration": 0,
    "start_time": "2022-06-04T13:37:09.925Z"
   },
   {
    "duration": 0,
    "start_time": "2022-06-04T13:37:09.926Z"
   },
   {
    "duration": 0,
    "start_time": "2022-06-04T13:37:09.927Z"
   },
   {
    "duration": 0,
    "start_time": "2022-06-04T13:37:09.928Z"
   },
   {
    "duration": 0,
    "start_time": "2022-06-04T13:37:09.929Z"
   },
   {
    "duration": 0,
    "start_time": "2022-06-04T13:37:09.930Z"
   },
   {
    "duration": 0,
    "start_time": "2022-06-04T13:37:09.932Z"
   },
   {
    "duration": 3,
    "start_time": "2022-06-04T13:37:28.060Z"
   },
   {
    "duration": 1329,
    "start_time": "2022-06-04T13:38:16.830Z"
   },
   {
    "duration": 1037,
    "start_time": "2022-06-04T13:38:18.161Z"
   },
   {
    "duration": 467,
    "start_time": "2022-06-04T13:38:19.201Z"
   },
   {
    "duration": 565,
    "start_time": "2022-06-04T13:38:19.670Z"
   },
   {
    "duration": 38,
    "start_time": "2022-06-04T13:38:20.237Z"
   },
   {
    "duration": 83,
    "start_time": "2022-06-04T13:38:20.276Z"
   },
   {
    "duration": 96,
    "start_time": "2022-06-04T13:38:20.361Z"
   },
   {
    "duration": 71,
    "start_time": "2022-06-04T13:38:20.460Z"
   },
   {
    "duration": 278,
    "start_time": "2022-06-04T13:38:20.533Z"
   },
   {
    "duration": 17,
    "start_time": "2022-06-04T13:38:20.812Z"
   },
   {
    "duration": 33,
    "start_time": "2022-06-04T13:38:20.830Z"
   },
   {
    "duration": 31,
    "start_time": "2022-06-04T13:38:20.865Z"
   },
   {
    "duration": 264,
    "start_time": "2022-06-04T13:38:20.898Z"
   },
   {
    "duration": 19,
    "start_time": "2022-06-04T13:38:21.165Z"
   },
   {
    "duration": 51,
    "start_time": "2022-06-04T13:38:21.185Z"
   },
   {
    "duration": 28,
    "start_time": "2022-06-04T13:38:21.238Z"
   },
   {
    "duration": 255,
    "start_time": "2022-06-04T13:38:21.268Z"
   },
   {
    "duration": 28,
    "start_time": "2022-06-04T13:38:21.524Z"
   },
   {
    "duration": 235,
    "start_time": "2022-06-04T13:38:21.554Z"
   },
   {
    "duration": 48,
    "start_time": "2022-06-04T13:38:21.790Z"
   },
   {
    "duration": 87,
    "start_time": "2022-06-04T13:38:21.840Z"
   },
   {
    "duration": 8,
    "start_time": "2022-06-04T13:38:21.928Z"
   },
   {
    "duration": 21,
    "start_time": "2022-06-04T13:38:21.938Z"
   },
   {
    "duration": 229,
    "start_time": "2022-06-04T13:38:21.961Z"
   },
   {
    "duration": 20,
    "start_time": "2022-06-04T13:38:22.192Z"
   },
   {
    "duration": 234,
    "start_time": "2022-06-04T13:38:22.222Z"
   },
   {
    "duration": 24,
    "start_time": "2022-06-04T13:38:22.457Z"
   },
   {
    "duration": 15,
    "start_time": "2022-06-04T13:38:22.483Z"
   },
   {
    "duration": 281,
    "start_time": "2022-06-04T13:38:22.500Z"
   },
   {
    "duration": 44,
    "start_time": "2022-06-04T13:38:22.783Z"
   },
   {
    "duration": 22,
    "start_time": "2022-06-04T13:38:22.829Z"
   },
   {
    "duration": 478,
    "start_time": "2022-06-04T13:38:22.853Z"
   },
   {
    "duration": 469,
    "start_time": "2022-06-04T13:38:23.332Z"
   },
   {
    "duration": 129,
    "start_time": "2022-06-04T13:38:23.803Z"
   },
   {
    "duration": 4,
    "start_time": "2022-06-04T13:38:23.934Z"
   },
   {
    "duration": 55,
    "start_time": "2022-06-04T13:55:35.304Z"
   },
   {
    "duration": 1250,
    "start_time": "2022-06-04T13:55:49.451Z"
   },
   {
    "duration": 1012,
    "start_time": "2022-06-04T13:55:50.703Z"
   },
   {
    "duration": 461,
    "start_time": "2022-06-04T13:55:51.716Z"
   },
   {
    "duration": 645,
    "start_time": "2022-06-04T13:55:52.179Z"
   },
   {
    "duration": 42,
    "start_time": "2022-06-04T13:55:52.826Z"
   },
   {
    "duration": 86,
    "start_time": "2022-06-04T13:55:52.870Z"
   },
   {
    "duration": 144,
    "start_time": "2022-06-04T13:55:52.958Z"
   },
   {
    "duration": 73,
    "start_time": "2022-06-04T13:55:53.104Z"
   },
   {
    "duration": 282,
    "start_time": "2022-06-04T13:55:53.179Z"
   },
   {
    "duration": 9,
    "start_time": "2022-06-04T13:55:53.463Z"
   },
   {
    "duration": 22,
    "start_time": "2022-06-04T13:55:53.473Z"
   },
   {
    "duration": 56,
    "start_time": "2022-06-04T13:55:53.497Z"
   },
   {
    "duration": 296,
    "start_time": "2022-06-04T13:55:53.555Z"
   },
   {
    "duration": 22,
    "start_time": "2022-06-04T13:55:53.854Z"
   },
   {
    "duration": 58,
    "start_time": "2022-06-04T13:55:53.877Z"
   },
   {
    "duration": 49,
    "start_time": "2022-06-04T13:55:53.937Z"
   },
   {
    "duration": 283,
    "start_time": "2022-06-04T13:55:53.988Z"
   },
   {
    "duration": 30,
    "start_time": "2022-06-04T13:55:54.273Z"
   },
   {
    "duration": 252,
    "start_time": "2022-06-04T13:55:54.304Z"
   },
   {
    "duration": 38,
    "start_time": "2022-06-04T13:55:54.558Z"
   },
   {
    "duration": 101,
    "start_time": "2022-06-04T13:55:54.597Z"
   },
   {
    "duration": 8,
    "start_time": "2022-06-04T13:55:54.700Z"
   },
   {
    "duration": 20,
    "start_time": "2022-06-04T13:55:54.723Z"
   },
   {
    "duration": 238,
    "start_time": "2022-06-04T13:55:54.745Z"
   },
   {
    "duration": 27,
    "start_time": "2022-06-04T13:55:54.985Z"
   },
   {
    "duration": 290,
    "start_time": "2022-06-04T13:55:55.024Z"
   },
   {
    "duration": 30,
    "start_time": "2022-06-04T13:55:55.316Z"
   },
   {
    "duration": 15,
    "start_time": "2022-06-04T13:55:55.348Z"
   },
   {
    "duration": 230,
    "start_time": "2022-06-04T13:55:55.365Z"
   },
   {
    "duration": 43,
    "start_time": "2022-06-04T13:55:55.597Z"
   },
   {
    "duration": 27,
    "start_time": "2022-06-04T13:55:55.642Z"
   },
   {
    "duration": 605,
    "start_time": "2022-06-04T13:55:55.671Z"
   },
   {
    "duration": 513,
    "start_time": "2022-06-04T13:55:56.278Z"
   },
   {
    "duration": 123,
    "start_time": "2022-06-04T13:55:56.793Z"
   },
   {
    "duration": 6,
    "start_time": "2022-06-04T13:55:56.918Z"
   },
   {
    "duration": 1301398,
    "start_time": "2022-06-04T13:55:59.657Z"
   },
   {
    "duration": 4,
    "start_time": "2022-06-04T14:27:03.258Z"
   },
   {
    "duration": 12224,
    "start_time": "2022-06-04T14:27:27.208Z"
   },
   {
    "duration": 42513,
    "start_time": "2022-06-04T14:27:49.017Z"
   },
   {
    "duration": 3,
    "start_time": "2022-06-04T14:37:05.905Z"
   },
   {
    "duration": 19217,
    "start_time": "2022-06-04T14:37:06.608Z"
   },
   {
    "duration": 3,
    "start_time": "2022-06-04T15:10:54.699Z"
   },
   {
    "duration": 97,
    "start_time": "2022-06-04T15:10:55.200Z"
   },
   {
    "duration": 3,
    "start_time": "2022-06-04T15:10:55.600Z"
   },
   {
    "duration": 101332,
    "start_time": "2022-06-04T15:10:57.000Z"
   },
   {
    "duration": 4,
    "start_time": "2022-06-04T15:17:30.911Z"
   },
   {
    "duration": 1490,
    "start_time": "2022-06-04T15:18:17.382Z"
   },
   {
    "duration": 3,
    "start_time": "2022-06-04T15:18:23.602Z"
   },
   {
    "duration": 115993,
    "start_time": "2022-06-04T15:18:27.542Z"
   },
   {
    "duration": 1296,
    "start_time": "2022-06-04T15:24:02.612Z"
   },
   {
    "duration": 986,
    "start_time": "2022-06-04T15:24:03.910Z"
   },
   {
    "duration": 456,
    "start_time": "2022-06-04T15:24:04.897Z"
   },
   {
    "duration": 540,
    "start_time": "2022-06-04T15:24:05.355Z"
   },
   {
    "duration": 39,
    "start_time": "2022-06-04T15:24:05.898Z"
   },
   {
    "duration": 85,
    "start_time": "2022-06-04T15:24:05.939Z"
   },
   {
    "duration": 103,
    "start_time": "2022-06-04T15:24:06.026Z"
   },
   {
    "duration": 69,
    "start_time": "2022-06-04T15:24:06.131Z"
   },
   {
    "duration": 273,
    "start_time": "2022-06-04T15:24:06.201Z"
   },
   {
    "duration": 9,
    "start_time": "2022-06-04T15:24:06.475Z"
   },
   {
    "duration": 23,
    "start_time": "2022-06-04T15:24:06.485Z"
   },
   {
    "duration": 31,
    "start_time": "2022-06-04T15:24:06.524Z"
   },
   {
    "duration": 263,
    "start_time": "2022-06-04T15:24:06.557Z"
   },
   {
    "duration": 19,
    "start_time": "2022-06-04T15:24:06.824Z"
   },
   {
    "duration": 36,
    "start_time": "2022-06-04T15:24:06.845Z"
   },
   {
    "duration": 43,
    "start_time": "2022-06-04T15:24:06.882Z"
   },
   {
    "duration": 244,
    "start_time": "2022-06-04T15:24:06.927Z"
   },
   {
    "duration": 26,
    "start_time": "2022-06-04T15:24:07.172Z"
   },
   {
    "duration": 233,
    "start_time": "2022-06-04T15:24:07.200Z"
   },
   {
    "duration": 37,
    "start_time": "2022-06-04T15:24:07.435Z"
   },
   {
    "duration": 89,
    "start_time": "2022-06-04T15:24:07.473Z"
   },
   {
    "duration": 7,
    "start_time": "2022-06-04T15:24:07.563Z"
   },
   {
    "duration": 19,
    "start_time": "2022-06-04T15:24:07.572Z"
   },
   {
    "duration": 239,
    "start_time": "2022-06-04T15:24:07.592Z"
   },
   {
    "duration": 18,
    "start_time": "2022-06-04T15:24:07.833Z"
   },
   {
    "duration": 258,
    "start_time": "2022-06-04T15:24:07.853Z"
   },
   {
    "duration": 27,
    "start_time": "2022-06-04T15:24:08.113Z"
   },
   {
    "duration": 18,
    "start_time": "2022-06-04T15:24:08.142Z"
   },
   {
    "duration": 204,
    "start_time": "2022-06-04T15:24:08.162Z"
   },
   {
    "duration": 25,
    "start_time": "2022-06-04T15:24:08.368Z"
   },
   {
    "duration": 29,
    "start_time": "2022-06-04T15:24:08.395Z"
   },
   {
    "duration": 495,
    "start_time": "2022-06-04T15:24:08.426Z"
   },
   {
    "duration": 630,
    "start_time": "2022-06-04T15:24:08.923Z"
   },
   {
    "duration": 126,
    "start_time": "2022-06-04T15:24:13.675Z"
   },
   {
    "duration": 2,
    "start_time": "2022-06-04T15:24:25.179Z"
   },
   {
    "duration": 98,
    "start_time": "2022-06-04T15:24:25.803Z"
   },
   {
    "duration": 4,
    "start_time": "2022-06-04T15:25:18.198Z"
   },
   {
    "duration": 111036,
    "start_time": "2022-06-04T15:25:25.487Z"
   },
   {
    "duration": 134,
    "start_time": "2022-06-04T15:34:05.070Z"
   },
   {
    "duration": 1785,
    "start_time": "2022-06-04T15:34:38.046Z"
   },
   {
    "duration": 3,
    "start_time": "2022-06-04T15:36:18.470Z"
   },
   {
    "duration": 3844,
    "start_time": "2022-06-04T15:36:43.611Z"
   },
   {
    "duration": 108856,
    "start_time": "2022-06-04T15:37:18.718Z"
   },
   {
    "duration": 100603,
    "start_time": "2022-06-04T15:47:10.597Z"
   },
   {
    "duration": 3241,
    "start_time": "2022-06-04T15:53:08.015Z"
   },
   {
    "duration": 201,
    "start_time": "2022-06-04T15:53:48.839Z"
   },
   {
    "duration": 43,
    "start_time": "2022-06-04T15:53:52.916Z"
   },
   {
    "duration": 1328,
    "start_time": "2022-06-04T15:58:51.431Z"
   },
   {
    "duration": 997,
    "start_time": "2022-06-04T15:58:52.762Z"
   },
   {
    "duration": 430,
    "start_time": "2022-06-04T15:58:53.760Z"
   },
   {
    "duration": 505,
    "start_time": "2022-06-04T15:58:54.191Z"
   },
   {
    "duration": 43,
    "start_time": "2022-06-04T15:58:54.698Z"
   },
   {
    "duration": 82,
    "start_time": "2022-06-04T15:58:54.742Z"
   },
   {
    "duration": 80,
    "start_time": "2022-06-04T15:58:54.825Z"
   },
   {
    "duration": 81,
    "start_time": "2022-06-04T15:58:54.907Z"
   },
   {
    "duration": 245,
    "start_time": "2022-06-04T15:58:54.990Z"
   },
   {
    "duration": 9,
    "start_time": "2022-06-04T15:58:55.237Z"
   },
   {
    "duration": 20,
    "start_time": "2022-06-04T15:58:55.247Z"
   },
   {
    "duration": 30,
    "start_time": "2022-06-04T15:58:55.268Z"
   },
   {
    "duration": 287,
    "start_time": "2022-06-04T15:58:55.299Z"
   },
   {
    "duration": 20,
    "start_time": "2022-06-04T15:58:55.587Z"
   },
   {
    "duration": 44,
    "start_time": "2022-06-04T15:58:55.609Z"
   },
   {
    "duration": 27,
    "start_time": "2022-06-04T15:58:55.654Z"
   },
   {
    "duration": 251,
    "start_time": "2022-06-04T15:58:55.682Z"
   },
   {
    "duration": 30,
    "start_time": "2022-06-04T15:58:55.936Z"
   },
   {
    "duration": 241,
    "start_time": "2022-06-04T15:58:55.968Z"
   },
   {
    "duration": 42,
    "start_time": "2022-06-04T15:58:56.210Z"
   },
   {
    "duration": 88,
    "start_time": "2022-06-04T15:58:56.254Z"
   },
   {
    "duration": 8,
    "start_time": "2022-06-04T15:58:56.344Z"
   },
   {
    "duration": 27,
    "start_time": "2022-06-04T15:58:56.353Z"
   },
   {
    "duration": 242,
    "start_time": "2022-06-04T15:58:56.382Z"
   },
   {
    "duration": 18,
    "start_time": "2022-06-04T15:58:56.626Z"
   },
   {
    "duration": 241,
    "start_time": "2022-06-04T15:58:56.646Z"
   },
   {
    "duration": 25,
    "start_time": "2022-06-04T15:58:56.889Z"
   },
   {
    "duration": 12,
    "start_time": "2022-06-04T15:58:56.925Z"
   },
   {
    "duration": 204,
    "start_time": "2022-06-04T15:58:56.939Z"
   },
   {
    "duration": 25,
    "start_time": "2022-06-04T15:58:57.144Z"
   },
   {
    "duration": 21,
    "start_time": "2022-06-04T15:58:57.171Z"
   },
   {
    "duration": 525,
    "start_time": "2022-06-04T15:58:57.193Z"
   },
   {
    "duration": 479,
    "start_time": "2022-06-04T15:58:57.720Z"
   },
   {
    "duration": 138,
    "start_time": "2022-06-04T15:58:58.200Z"
   },
   {
    "duration": 134,
    "start_time": "2022-06-04T15:58:58.339Z"
   },
   {
    "duration": 0,
    "start_time": "2022-06-04T15:58:58.474Z"
   },
   {
    "duration": 0,
    "start_time": "2022-06-04T15:58:58.475Z"
   },
   {
    "duration": 1,
    "start_time": "2022-06-04T15:58:58.476Z"
   },
   {
    "duration": 0,
    "start_time": "2022-06-04T15:58:58.477Z"
   },
   {
    "duration": 0,
    "start_time": "2022-06-04T15:58:58.478Z"
   },
   {
    "duration": 0,
    "start_time": "2022-06-04T15:58:58.479Z"
   },
   {
    "duration": 0,
    "start_time": "2022-06-04T15:58:58.480Z"
   },
   {
    "duration": 0,
    "start_time": "2022-06-04T15:58:58.482Z"
   },
   {
    "duration": 0,
    "start_time": "2022-06-04T15:58:58.483Z"
   },
   {
    "duration": 0,
    "start_time": "2022-06-04T15:58:58.484Z"
   },
   {
    "duration": 0,
    "start_time": "2022-06-04T15:58:58.484Z"
   },
   {
    "duration": 0,
    "start_time": "2022-06-04T15:58:58.485Z"
   },
   {
    "duration": 0,
    "start_time": "2022-06-04T15:58:58.487Z"
   },
   {
    "duration": 0,
    "start_time": "2022-06-04T15:58:58.488Z"
   },
   {
    "duration": 0,
    "start_time": "2022-06-04T15:58:58.488Z"
   },
   {
    "duration": 0,
    "start_time": "2022-06-04T15:58:58.489Z"
   },
   {
    "duration": 1333,
    "start_time": "2022-06-04T16:00:05.223Z"
   },
   {
    "duration": 1016,
    "start_time": "2022-06-04T16:00:06.559Z"
   },
   {
    "duration": 456,
    "start_time": "2022-06-04T16:00:07.577Z"
   },
   {
    "duration": 534,
    "start_time": "2022-06-04T16:00:08.036Z"
   },
   {
    "duration": 36,
    "start_time": "2022-06-04T16:00:08.572Z"
   },
   {
    "duration": 119,
    "start_time": "2022-06-04T16:00:08.610Z"
   },
   {
    "duration": 104,
    "start_time": "2022-06-04T16:00:08.731Z"
   },
   {
    "duration": 75,
    "start_time": "2022-06-04T16:00:08.838Z"
   },
   {
    "duration": 285,
    "start_time": "2022-06-04T16:00:08.915Z"
   },
   {
    "duration": 20,
    "start_time": "2022-06-04T16:00:09.204Z"
   },
   {
    "duration": 23,
    "start_time": "2022-06-04T16:00:09.226Z"
   },
   {
    "duration": 32,
    "start_time": "2022-06-04T16:00:09.251Z"
   },
   {
    "duration": 282,
    "start_time": "2022-06-04T16:00:09.285Z"
   },
   {
    "duration": 20,
    "start_time": "2022-06-04T16:00:09.569Z"
   },
   {
    "duration": 45,
    "start_time": "2022-06-04T16:00:09.590Z"
   },
   {
    "duration": 28,
    "start_time": "2022-06-04T16:00:09.637Z"
   },
   {
    "duration": 253,
    "start_time": "2022-06-04T16:00:09.667Z"
   },
   {
    "duration": 27,
    "start_time": "2022-06-04T16:00:09.922Z"
   },
   {
    "duration": 239,
    "start_time": "2022-06-04T16:00:09.951Z"
   },
   {
    "duration": 44,
    "start_time": "2022-06-04T16:00:10.191Z"
   },
   {
    "duration": 90,
    "start_time": "2022-06-04T16:00:10.237Z"
   },
   {
    "duration": 7,
    "start_time": "2022-06-04T16:00:10.328Z"
   },
   {
    "duration": 38,
    "start_time": "2022-06-04T16:00:10.336Z"
   },
   {
    "duration": 200,
    "start_time": "2022-06-04T16:00:10.376Z"
   },
   {
    "duration": 19,
    "start_time": "2022-06-04T16:00:10.577Z"
   },
   {
    "duration": 251,
    "start_time": "2022-06-04T16:00:10.598Z"
   },
   {
    "duration": 24,
    "start_time": "2022-06-04T16:00:10.850Z"
   },
   {
    "duration": 25,
    "start_time": "2022-06-04T16:00:10.878Z"
   },
   {
    "duration": 207,
    "start_time": "2022-06-04T16:00:10.905Z"
   },
   {
    "duration": 25,
    "start_time": "2022-06-04T16:00:11.113Z"
   },
   {
    "duration": 16,
    "start_time": "2022-06-04T16:00:11.140Z"
   },
   {
    "duration": 512,
    "start_time": "2022-06-04T16:00:11.158Z"
   },
   {
    "duration": 475,
    "start_time": "2022-06-04T16:00:11.672Z"
   },
   {
    "duration": 127,
    "start_time": "2022-06-04T16:00:12.148Z"
   },
   {
    "duration": 3,
    "start_time": "2022-06-04T16:00:12.276Z"
   },
   {
    "duration": 1310117,
    "start_time": "2022-06-04T16:00:12.281Z"
   },
   {
    "duration": 41994,
    "start_time": "2022-06-04T16:22:02.400Z"
   },
   {
    "duration": 2,
    "start_time": "2022-06-04T16:22:44.395Z"
   },
   {
    "duration": 17231,
    "start_time": "2022-06-04T16:22:44.399Z"
   },
   {
    "duration": 3,
    "start_time": "2022-06-04T16:23:01.632Z"
   },
   {
    "duration": 193,
    "start_time": "2022-06-04T16:23:01.636Z"
   },
   {
    "duration": 4,
    "start_time": "2022-06-04T16:23:01.831Z"
   },
   {
    "duration": 841289,
    "start_time": "2022-06-04T16:23:01.837Z"
   },
   {
    "duration": 1804,
    "start_time": "2022-06-04T16:37:03.127Z"
   },
   {
    "duration": 4,
    "start_time": "2022-06-04T16:37:04.932Z"
   },
   {
    "duration": 92884,
    "start_time": "2022-06-04T16:37:04.937Z"
   },
   {
    "duration": 2968,
    "start_time": "2022-06-04T16:38:37.823Z"
   },
   {
    "duration": 195,
    "start_time": "2022-06-04T16:38:40.792Z"
   },
   {
    "duration": 139,
    "start_time": "2022-06-04T16:38:40.989Z"
   },
   {
    "duration": 301,
    "start_time": "2022-06-04T16:38:41.129Z"
   },
   {
    "duration": 42,
    "start_time": "2022-06-04T16:38:41.432Z"
   },
   {
    "duration": 68,
    "start_time": "2022-06-05T08:23:13.806Z"
   }
  ],
  "kernelspec": {
   "display_name": "Python 3 (ipykernel)",
   "language": "python",
   "name": "python3"
  },
  "language_info": {
   "codemirror_mode": {
    "name": "ipython",
    "version": 3
   },
   "file_extension": ".py",
   "mimetype": "text/x-python",
   "name": "python",
   "nbconvert_exporter": "python",
   "pygments_lexer": "ipython3",
   "version": "3.9.7"
  },
  "toc": {
   "base_numbering": 1,
   "nav_menu": {},
   "number_sections": true,
   "sideBar": true,
   "skip_h1_title": true,
   "title_cell": "Table of Contents",
   "title_sidebar": "Contents",
   "toc_cell": false,
   "toc_position": {},
   "toc_section_display": true,
   "toc_window_display": true
  }
 },
 "nbformat": 4,
 "nbformat_minor": 2
}
