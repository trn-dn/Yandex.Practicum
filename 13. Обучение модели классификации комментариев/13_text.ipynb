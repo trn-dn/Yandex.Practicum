{
 "cells": [
  {
   "cell_type": "markdown",
   "metadata": {
    "toc": true
   },
   "source": [
    "<h1>Содержание<span class=\"tocSkip\"></span></h1>\n",
    "<div class=\"toc\"><ul class=\"toc-item\"><li><span><a href=\"#Подготовка\" data-toc-modified-id=\"Подготовка-1\"><span class=\"toc-item-num\">1&nbsp;&nbsp;</span>Подготовка</a></span><ul class=\"toc-item\"><li><span><a href=\"#Загрузка-данных\" data-toc-modified-id=\"Загрузка-данных-1.1\"><span class=\"toc-item-num\">1.1&nbsp;&nbsp;</span>Загрузка данных</a></span></li><li><span><a href=\"#Предобработа-данных\" data-toc-modified-id=\"Предобработа-данных-1.2\"><span class=\"toc-item-num\">1.2&nbsp;&nbsp;</span>Предобработа данных</a></span></li></ul></li><li><span><a href=\"#Обучение\" data-toc-modified-id=\"Обучение-2\"><span class=\"toc-item-num\">2&nbsp;&nbsp;</span>Обучение</a></span></li><li><span><a href=\"#Выводы\" data-toc-modified-id=\"Выводы-3\"><span class=\"toc-item-num\">3&nbsp;&nbsp;</span>Выводы</a></span></li></ul></div>"
   ]
  },
  {
   "cell_type": "markdown",
   "metadata": {},
   "source": [
    "# Проект для «Викишоп»"
   ]
  },
  {
   "cell_type": "markdown",
   "metadata": {},
   "source": [
    "Интернет-магазин «Викишоп» запускает новый сервис. Теперь пользователи могут редактировать и дополнять описания товаров, как в вики-сообществах. То есть клиенты предлагают свои правки и комментируют изменения других. Магазину нужен инструмент, который будет искать токсичные комментарии и отправлять их на модерацию. \n",
    "\n",
    "Необходимо обучить модель классифицировать комментарии на позитивные и негативные. В нашем распоряжении набор данных с разметкой о токсичности правок.\n",
    "\n",
    "**План по выполнению проекта**\n",
    "\n",
    "1. Загрузить и подготовить данные.\n",
    "2. Обучить разные модели. \n",
    "3. Сделать выводы.\n",
    "\n",
    "**Описание данных**\n",
    "\n",
    "Данные находятся в файле `toxic_comments.csv`. Столбец *text* в нём содержит текст комментария, а *toxic* — целевой признак."
   ]
  },
  {
   "cell_type": "markdown",
   "metadata": {},
   "source": [
    "## Подготовка"
   ]
  },
  {
   "cell_type": "markdown",
   "metadata": {},
   "source": [
    "### Загрузка данных"
   ]
  },
  {
   "cell_type": "markdown",
   "metadata": {},
   "source": [
    "Импортируем библиотеки, которые необходимы для дальнейшей работы:"
   ]
  },
  {
   "cell_type": "code",
   "execution_count": 1,
   "metadata": {
    "scrolled": true
   },
   "outputs": [
    {
     "name": "stderr",
     "output_type": "stream",
     "text": [
      "[nltk_data] Downloading package wordnet to /home/jovyan/nltk_data...\n",
      "[nltk_data]   Package wordnet is already up-to-date!\n",
      "[nltk_data] Downloading package stopwords to /home/jovyan/nltk_data...\n",
      "[nltk_data]   Package stopwords is already up-to-date!\n"
     ]
    }
   ],
   "source": [
    "import pandas as pd \n",
    "\n",
    "import re\n",
    "import nltk\n",
    "from nltk.corpus import stopwords\n",
    "from nltk.stem import WordNetLemmatizer \n",
    "nltk.download('wordnet')\n",
    "nltk.download('stopwords')\n",
    "\n",
    "from sklearn.model_selection import train_test_split, GridSearchCV\n",
    "from sklearn.feature_extraction.text import TfidfVectorizer\n",
    "from sklearn.tree import DecisionTreeClassifier\n",
    "from sklearn.ensemble import RandomForestClassifier\n",
    "from sklearn.linear_model import LogisticRegression\n",
    "from sklearn.metrics import f1_score\n",
    "\n",
    "import warnings\n",
    "warnings.filterwarnings('ignore')"
   ]
  },
  {
   "cell_type": "markdown",
   "metadata": {},
   "source": [
    "Откроем наш датасет. Выведем на экран первые пять объектов, общую информацию о датасете и список характерных значений."
   ]
  },
  {
   "cell_type": "code",
   "execution_count": 2,
   "metadata": {},
   "outputs": [
    {
     "data": {
      "text/html": [
       "<div>\n",
       "<style scoped>\n",
       "    .dataframe tbody tr th:only-of-type {\n",
       "        vertical-align: middle;\n",
       "    }\n",
       "\n",
       "    .dataframe tbody tr th {\n",
       "        vertical-align: top;\n",
       "    }\n",
       "\n",
       "    .dataframe thead th {\n",
       "        text-align: right;\n",
       "    }\n",
       "</style>\n",
       "<table border=\"1\" class=\"dataframe\">\n",
       "  <thead>\n",
       "    <tr style=\"text-align: right;\">\n",
       "      <th></th>\n",
       "      <th>text</th>\n",
       "      <th>toxic</th>\n",
       "    </tr>\n",
       "  </thead>\n",
       "  <tbody>\n",
       "    <tr>\n",
       "      <th>0</th>\n",
       "      <td>Explanation\\nWhy the edits made under my usern...</td>\n",
       "      <td>0</td>\n",
       "    </tr>\n",
       "    <tr>\n",
       "      <th>1</th>\n",
       "      <td>D'aww! He matches this background colour I'm s...</td>\n",
       "      <td>0</td>\n",
       "    </tr>\n",
       "    <tr>\n",
       "      <th>2</th>\n",
       "      <td>Hey man, I'm really not trying to edit war. It...</td>\n",
       "      <td>0</td>\n",
       "    </tr>\n",
       "    <tr>\n",
       "      <th>3</th>\n",
       "      <td>\"\\nMore\\nI can't make any real suggestions on ...</td>\n",
       "      <td>0</td>\n",
       "    </tr>\n",
       "    <tr>\n",
       "      <th>4</th>\n",
       "      <td>You, sir, are my hero. Any chance you remember...</td>\n",
       "      <td>0</td>\n",
       "    </tr>\n",
       "  </tbody>\n",
       "</table>\n",
       "</div>"
      ],
      "text/plain": [
       "                                                text  toxic\n",
       "0  Explanation\\nWhy the edits made under my usern...      0\n",
       "1  D'aww! He matches this background colour I'm s...      0\n",
       "2  Hey man, I'm really not trying to edit war. It...      0\n",
       "3  \"\\nMore\\nI can't make any real suggestions on ...      0\n",
       "4  You, sir, are my hero. Any chance you remember...      0"
      ]
     },
     "metadata": {},
     "output_type": "display_data"
    },
    {
     "name": "stdout",
     "output_type": "stream",
     "text": [
      "--------------------------------------------------\n",
      "<class 'pandas.core.frame.DataFrame'>\n",
      "RangeIndex: 159571 entries, 0 to 159570\n",
      "Data columns (total 2 columns):\n",
      " #   Column  Non-Null Count   Dtype \n",
      "---  ------  --------------   ----- \n",
      " 0   text    159571 non-null  object\n",
      " 1   toxic   159571 non-null  int64 \n",
      "dtypes: int64(1), object(1)\n",
      "memory usage: 2.4+ MB\n",
      "--------------------------------------------------\n"
     ]
    },
    {
     "data": {
      "text/html": [
       "<div>\n",
       "<style scoped>\n",
       "    .dataframe tbody tr th:only-of-type {\n",
       "        vertical-align: middle;\n",
       "    }\n",
       "\n",
       "    .dataframe tbody tr th {\n",
       "        vertical-align: top;\n",
       "    }\n",
       "\n",
       "    .dataframe thead th {\n",
       "        text-align: right;\n",
       "    }\n",
       "</style>\n",
       "<table border=\"1\" class=\"dataframe\">\n",
       "  <thead>\n",
       "    <tr style=\"text-align: right;\">\n",
       "      <th></th>\n",
       "      <th>toxic</th>\n",
       "    </tr>\n",
       "  </thead>\n",
       "  <tbody>\n",
       "    <tr>\n",
       "      <th>count</th>\n",
       "      <td>159571.000000</td>\n",
       "    </tr>\n",
       "    <tr>\n",
       "      <th>mean</th>\n",
       "      <td>0.101679</td>\n",
       "    </tr>\n",
       "    <tr>\n",
       "      <th>std</th>\n",
       "      <td>0.302226</td>\n",
       "    </tr>\n",
       "    <tr>\n",
       "      <th>min</th>\n",
       "      <td>0.000000</td>\n",
       "    </tr>\n",
       "    <tr>\n",
       "      <th>25%</th>\n",
       "      <td>0.000000</td>\n",
       "    </tr>\n",
       "    <tr>\n",
       "      <th>50%</th>\n",
       "      <td>0.000000</td>\n",
       "    </tr>\n",
       "    <tr>\n",
       "      <th>75%</th>\n",
       "      <td>0.000000</td>\n",
       "    </tr>\n",
       "    <tr>\n",
       "      <th>max</th>\n",
       "      <td>1.000000</td>\n",
       "    </tr>\n",
       "  </tbody>\n",
       "</table>\n",
       "</div>"
      ],
      "text/plain": [
       "               toxic\n",
       "count  159571.000000\n",
       "mean        0.101679\n",
       "std         0.302226\n",
       "min         0.000000\n",
       "25%         0.000000\n",
       "50%         0.000000\n",
       "75%         0.000000\n",
       "max         1.000000"
      ]
     },
     "execution_count": 2,
     "metadata": {},
     "output_type": "execute_result"
    }
   ],
   "source": [
    "df = pd.read_csv('/datasets/toxic_comments.csv')\n",
    "\n",
    "display(df.head())\n",
    "print('--------------------------------------------------')\n",
    "df.info()\n",
    "print('--------------------------------------------------')\n",
    "df.describe()"
   ]
  },
  {
   "cell_type": "markdown",
   "metadata": {},
   "source": [
    "В результате первоначального ознакомления с датасетом, мы можем отметить, что датасет состоит из 159571 объектов и двух признаков. Столбец `toxic` будет являться целевым признаком. Т. к. признак категориальный, то будет решаться задача бинарной классификаци классификации. Также по первоначальному изучению можно отметить, что имеется дисбалнс классов (90% - положительные, остальные 10% - отрицательные).\n",
    "\n",
    "Далее проведем предобработку данных для дальнейшего обучения. "
   ]
  },
  {
   "cell_type": "markdown",
   "metadata": {},
   "source": [
    "### Предобработа данных"
   ]
  },
  {
   "cell_type": "markdown",
   "metadata": {},
   "source": [
    "Проверим наши данные на дубликаты и пропуски"
   ]
  },
  {
   "cell_type": "code",
   "execution_count": 3,
   "metadata": {},
   "outputs": [
    {
     "data": {
      "text/plain": [
       "0"
      ]
     },
     "execution_count": 3,
     "metadata": {},
     "output_type": "execute_result"
    }
   ],
   "source": [
    "df.duplicated().sum()"
   ]
  },
  {
   "cell_type": "code",
   "execution_count": 4,
   "metadata": {},
   "outputs": [
    {
     "data": {
      "text/plain": [
       "text     0\n",
       "toxic    0\n",
       "dtype: int64"
      ]
     },
     "execution_count": 4,
     "metadata": {},
     "output_type": "execute_result"
    }
   ],
   "source": [
    "df.isna().sum()"
   ]
  },
  {
   "cell_type": "markdown",
   "metadata": {},
   "source": [
    "Отлично! Пропусков и дубликатов не обнаружено"
   ]
  },
  {
   "cell_type": "markdown",
   "metadata": {},
   "source": [
    "Далее проведём лемматизацию и чистку наших комментариев."
   ]
  },
  {
   "cell_type": "code",
   "execution_count": 5,
   "metadata": {},
   "outputs": [],
   "source": [
    "lemmatizer = WordNetLemmatizer()\n",
    "\n",
    "def lemmatize_text(text):\n",
    "    text = text.lower()\n",
    "    lemm_text = \"\".join(lemmatizer.lemmatize(text))\n",
    "    cleared_text = re.sub(r'[^a-zA-Z]', ' ', lemm_text)\n",
    "    return \" \".join(cleared_text.split())\n",
    "\n",
    "df['text'] = df['text'].apply(lemmatize_text)"
   ]
  },
  {
   "cell_type": "markdown",
   "metadata": {},
   "source": [
    "Разобьём наши данные на признаки и целевой признак. Также разделим нашу выборку на обучающую и тренировочную в соотношении 2 : 3."
   ]
  },
  {
   "cell_type": "code",
   "execution_count": 6,
   "metadata": {},
   "outputs": [],
   "source": [
    "target = df['toxic']\n",
    "features = df.drop(['toxic'], axis=1)\n",
    "\n",
    "features_train, features_test, target_train, target_test= train_test_split(features,\n",
    "                                                                               target,\n",
    "                                                                               test_size=0.4,\n",
    "                                                                               random_state=12345)"
   ]
  },
  {
   "cell_type": "markdown",
   "metadata": {},
   "source": [
    "Следующим шагом подготовим наши признаки к обучению: очистим от стоп-слов, векторизируем и приведём в стандартный формат - кодировку Unicode U. "
   ]
  },
  {
   "cell_type": "code",
   "execution_count": 7,
   "metadata": {},
   "outputs": [],
   "source": [
    "stopwords = set(stopwords.words('english'))\n",
    " \n",
    "count_tf_idf = TfidfVectorizer(stop_words=stopwords)\n",
    " \n",
    "features_train = count_tf_idf.fit_transform(features_train['text'])\n",
    " \n",
    "features_test = count_tf_idf.transform(features_test['text'])"
   ]
  },
  {
   "cell_type": "code",
   "execution_count": 8,
   "metadata": {},
   "outputs": [
    {
     "data": {
      "text/plain": [
       "((95742, 125610), (63829, 125610), (95742,), (63829,))"
      ]
     },
     "execution_count": 8,
     "metadata": {},
     "output_type": "execute_result"
    }
   ],
   "source": [
    "features_train.shape, features_test.shape, target_train.shape, target_test.shape"
   ]
  },
  {
   "cell_type": "markdown",
   "metadata": {},
   "source": [
    "## Обучение"
   ]
  },
  {
   "cell_type": "markdown",
   "metadata": {},
   "source": [
    "Для обучения рассмотрим две модели:\n",
    "- Решающее дерево (DecisionTreeClassifier)\n",
    "- Случайный лес (RandomForestClassifier\n",
    "- Логистическая регрессия (LogisticRegression) "
   ]
  },
  {
   "cell_type": "markdown",
   "metadata": {},
   "source": [
    "**DecisionTreeClassifier**"
   ]
  },
  {
   "cell_type": "code",
   "execution_count": 9,
   "metadata": {},
   "outputs": [
    {
     "name": "stdout",
     "output_type": "stream",
     "text": [
      "Fitting 3 folds for each of 6 candidates, totalling 18 fits\n",
      "F1 метрика на тренировочной выборке DecisionTreeClassifier: 0.6129544043595226\n"
     ]
    }
   ],
   "source": [
    "dtc = DecisionTreeClassifier(random_state = 12345)\n",
    "params = {\n",
    "   'criterion':['gini', 'entropy'],        \n",
    "   'max_depth':list(range(1,15,5)) \n",
    "}\n",
    "dtc_gs = GridSearchCV(dtc, params, cv=3, scoring='f1', verbose=True).fit(features_train, target_train)\n",
    "target_predictions = dtc_gs.predict(features_train) \n",
    "\n",
    "f1 = f1_score(target_train, target_predictions)\n",
    "print('F1 метрика на тренировочной выборке DecisionTreeClassifier:', f1)"
   ]
  },
  {
   "cell_type": "markdown",
   "metadata": {},
   "source": [
    "**RandomForestClassifier**"
   ]
  },
  {
   "cell_type": "code",
   "execution_count": 10,
   "metadata": {},
   "outputs": [
    {
     "name": "stdout",
     "output_type": "stream",
     "text": [
      "Fitting 3 folds for each of 15 candidates, totalling 45 fits\n",
      "F1 метрика на тренировочной выборке RandomForestClassifier: 0.4158535699585986\n"
     ]
    }
   ],
   "source": [
    "rfc = RandomForestClassifier(random_state = 12345, class_weight='balanced')\n",
    "params = {\n",
    "   'n_estimators': range(8, 41, 8),\n",
    "    'max_depth': range(1, 21, 7),\n",
    "}\n",
    "rfc_gs = GridSearchCV(rfc, params, cv=3, scoring='f1', verbose=True).fit(features_train, target_train)\n",
    "target_predictions = rfc_gs.predict(features_train) \n",
    "\n",
    "f1 = f1_score(target_train, target_predictions)\n",
    "print('F1 метрика на тренировочной выборке RandomForestClassifier:', f1)"
   ]
  },
  {
   "cell_type": "markdown",
   "metadata": {},
   "source": [
    "**Logistic Regression**"
   ]
  },
  {
   "cell_type": "code",
   "execution_count": 11,
   "metadata": {},
   "outputs": [
    {
     "name": "stdout",
     "output_type": "stream",
     "text": [
      "Fitting 3 folds for each of 24 candidates, totalling 72 fits\n",
      "F1 метрика на тренировочной выборке LogisticRegression: 0.9251306413301663\n"
     ]
    }
   ],
   "source": [
    "lr = LogisticRegression(random_state = 12345, class_weight='balanced')\n",
    "params = {\n",
    "    'penalty': ['l1', 'l2'],\n",
    "    'C' : [0.5, 1.0, 5.0, 15.0],\n",
    "    'intercept_scaling' : range(5, 100, 40),\n",
    "    'solver' : ['liblinear']\n",
    " \n",
    "}\n",
    "lr_gs = GridSearchCV(lr, params, cv=3, scoring='f1', verbose=True).fit(features_train, target_train)\n",
    "target_predictions = lr_gs.predict(features_train) \n",
    "\n",
    "f1 = f1_score(target_train, target_predictions)\n",
    "print('F1 метрика на тренировочной выборке LogisticRegression:', f1)"
   ]
  },
  {
   "cell_type": "markdown",
   "metadata": {},
   "source": [
    "В итоге мы видим, что лучше всего себя показала модель Логистической регрессии. На тренировочной выборке она показала F1 = 0.92. Чуть хуже себя показала модель Решающего дерева (F1 = 0.61). С обучением хуже всего справилась модель Случайного леса - F1 = 0.42. "
   ]
  },
  {
   "cell_type": "markdown",
   "metadata": {},
   "source": [
    "## Выводы"
   ]
  },
  {
   "cell_type": "markdown",
   "metadata": {},
   "source": [
    "Далее проверим наши модели на тестовой выборке."
   ]
  },
  {
   "cell_type": "code",
   "execution_count": 12,
   "metadata": {},
   "outputs": [
    {
     "name": "stdout",
     "output_type": "stream",
     "text": [
      "F1 метрика на тренировочной выборке DecisionTreeClassifier: 0.5972478948449373\n"
     ]
    }
   ],
   "source": [
    "predictions_dtc = dtc_gs.predict(features_test)\n",
    "f1 = f1_score(target_test, predictions_dtc)\n",
    "print('F1 метрика на тренировочной выборке DecisionTreeClassifier:', f1)"
   ]
  },
  {
   "cell_type": "code",
   "execution_count": 13,
   "metadata": {},
   "outputs": [
    {
     "name": "stdout",
     "output_type": "stream",
     "text": [
      "F1 метрика на тренировочной выборке RandomForestClassifier: 0.39168186793141185\n"
     ]
    }
   ],
   "source": [
    "predictions_rfc = rfc_gs.predict(features_test)\n",
    "f1 = f1_score(target_test, predictions_rfc)\n",
    "print('F1 метрика на тренировочной выборке RandomForestClassifier:', f1)"
   ]
  },
  {
   "cell_type": "code",
   "execution_count": 14,
   "metadata": {
    "scrolled": true
   },
   "outputs": [
    {
     "name": "stdout",
     "output_type": "stream",
     "text": [
      "F1 метрика на тренировочной выборке LogisticRegression: 0.7647188210279345\n"
     ]
    }
   ],
   "source": [
    "predictions_lr = lr_gs.predict(features_test)\n",
    "f1 = f1_score(target_test, predictions_lr)\n",
    "print('F1 метрика на тренировочной выборке LogisticRegression:', f1)"
   ]
  },
  {
   "cell_type": "markdown",
   "metadata": {},
   "source": [
    "**Вывод**\n",
    "\n",
    "Таким образом, обучив три модели: DecisionTreeClassifier, RandomForestClassifier и DecisionTreeClassofier, мы можем сделать вывод, что лучше всего себя показала модель Логистической регресси. F1 на тестовой выборке равен 0.76. "
   ]
  }
 ],
 "metadata": {
  "ExecuteTimeLog": [
   {
    "duration": 471,
    "start_time": "2022-06-13T16:21:27.054Z"
   },
   {
    "duration": 3,
    "start_time": "2022-06-13T16:22:22.220Z"
   },
   {
    "duration": 99,
    "start_time": "2022-06-13T16:23:00.465Z"
   },
   {
    "duration": 2320,
    "start_time": "2022-06-13T16:23:10.052Z"
   },
   {
    "duration": 844,
    "start_time": "2022-06-13T16:23:38.424Z"
   },
   {
    "duration": 207,
    "start_time": "2022-06-13T16:57:21.605Z"
   },
   {
    "duration": 26,
    "start_time": "2022-06-13T16:59:47.451Z"
   },
   {
    "duration": 1981,
    "start_time": "2022-06-13T17:16:18.406Z"
   },
   {
    "duration": 4,
    "start_time": "2022-06-13T17:16:27.914Z"
   },
   {
    "duration": 29,
    "start_time": "2022-06-13T17:17:10.641Z"
   },
   {
    "duration": 3,
    "start_time": "2022-06-13T17:18:08.651Z"
   },
   {
    "duration": 860,
    "start_time": "2022-06-13T17:36:35.146Z"
   },
   {
    "duration": 232,
    "start_time": "2022-06-13T17:38:57.890Z"
   },
   {
    "duration": 1372,
    "start_time": "2022-06-13T17:39:24.025Z"
   },
   {
    "duration": 932,
    "start_time": "2022-06-13T17:39:25.399Z"
   },
   {
    "duration": 233,
    "start_time": "2022-06-13T17:39:26.332Z"
   },
   {
    "duration": 30,
    "start_time": "2022-06-13T17:39:26.567Z"
   },
   {
    "duration": 6,
    "start_time": "2022-06-13T17:39:46.680Z"
   },
   {
    "duration": 5,
    "start_time": "2022-06-13T17:41:09.206Z"
   },
   {
    "duration": 123,
    "start_time": "2022-06-13T17:54:19.791Z"
   },
   {
    "duration": 1702,
    "start_time": "2022-06-13T17:54:56.686Z"
   },
   {
    "duration": 1247,
    "start_time": "2022-06-13T17:54:58.396Z"
   },
   {
    "duration": 271,
    "start_time": "2022-06-13T17:54:59.645Z"
   },
   {
    "duration": 43,
    "start_time": "2022-06-13T17:54:59.919Z"
   },
   {
    "duration": 7,
    "start_time": "2022-06-13T17:54:59.966Z"
   },
   {
    "duration": 4,
    "start_time": "2022-06-13T17:56:19.732Z"
   },
   {
    "duration": 8964,
    "start_time": "2022-06-13T17:56:46.397Z"
   },
   {
    "duration": 10,
    "start_time": "2022-06-13T17:57:05.730Z"
   },
   {
    "duration": 10,
    "start_time": "2022-06-13T17:57:34.021Z"
   },
   {
    "duration": 884,
    "start_time": "2022-06-13T17:58:08.003Z"
   },
   {
    "duration": 1060,
    "start_time": "2022-06-13T17:59:34.010Z"
   },
   {
    "duration": 1695,
    "start_time": "2022-06-13T17:59:40.214Z"
   },
   {
    "duration": 1100,
    "start_time": "2022-06-13T17:59:41.911Z"
   },
   {
    "duration": 308,
    "start_time": "2022-06-13T17:59:43.013Z"
   },
   {
    "duration": 27,
    "start_time": "2022-06-13T17:59:43.323Z"
   },
   {
    "duration": 8590,
    "start_time": "2022-06-13T17:59:43.352Z"
   },
   {
    "duration": 20,
    "start_time": "2022-06-13T17:59:51.944Z"
   },
   {
    "duration": 19,
    "start_time": "2022-06-13T18:11:37.617Z"
   },
   {
    "duration": 5,
    "start_time": "2022-06-13T18:12:06.521Z"
   },
   {
    "duration": 59,
    "start_time": "2022-06-13T18:13:56.185Z"
   },
   {
    "duration": 41,
    "start_time": "2022-06-13T18:14:44.787Z"
   },
   {
    "duration": 211,
    "start_time": "2022-06-13T18:15:48.542Z"
   },
   {
    "duration": 13,
    "start_time": "2022-06-13T18:16:25.877Z"
   },
   {
    "duration": 1577,
    "start_time": "2022-06-13T18:16:35.829Z"
   },
   {
    "duration": 1038,
    "start_time": "2022-06-13T18:16:37.409Z"
   },
   {
    "duration": 254,
    "start_time": "2022-06-13T18:16:38.459Z"
   },
   {
    "duration": 51,
    "start_time": "2022-06-13T18:16:38.716Z"
   },
   {
    "duration": 8176,
    "start_time": "2022-06-13T18:16:38.775Z"
   },
   {
    "duration": 50,
    "start_time": "2022-06-13T18:16:46.953Z"
   },
   {
    "duration": 129,
    "start_time": "2022-06-13T18:16:47.005Z"
   },
   {
    "duration": 5,
    "start_time": "2022-06-13T18:17:49.151Z"
   },
   {
    "duration": 4,
    "start_time": "2022-06-13T18:18:00.353Z"
   },
   {
    "duration": 6,
    "start_time": "2022-06-13T18:20:12.282Z"
   },
   {
    "duration": 3,
    "start_time": "2022-06-13T18:20:33.353Z"
   },
   {
    "duration": 1450,
    "start_time": "2022-06-13T18:21:11.998Z"
   },
   {
    "duration": 978,
    "start_time": "2022-06-13T18:21:13.450Z"
   },
   {
    "duration": 241,
    "start_time": "2022-06-13T18:21:14.430Z"
   },
   {
    "duration": 31,
    "start_time": "2022-06-13T18:21:14.673Z"
   },
   {
    "duration": 7383,
    "start_time": "2022-06-13T18:21:14.706Z"
   },
   {
    "duration": 35,
    "start_time": "2022-06-13T18:21:22.091Z"
   },
   {
    "duration": 9,
    "start_time": "2022-06-13T18:21:22.128Z"
   },
   {
    "duration": 115,
    "start_time": "2022-06-13T18:23:03.476Z"
   },
   {
    "duration": 1436,
    "start_time": "2022-06-13T18:23:17.010Z"
   },
   {
    "duration": 1023,
    "start_time": "2022-06-13T18:23:18.448Z"
   },
   {
    "duration": 241,
    "start_time": "2022-06-13T18:23:19.473Z"
   },
   {
    "duration": 50,
    "start_time": "2022-06-13T18:23:19.716Z"
   },
   {
    "duration": 7262,
    "start_time": "2022-06-13T18:23:19.771Z"
   },
   {
    "duration": 48,
    "start_time": "2022-06-13T18:23:27.034Z"
   },
   {
    "duration": 7317,
    "start_time": "2022-06-13T18:23:27.084Z"
   },
   {
    "duration": 14,
    "start_time": "2022-06-13T18:23:42.260Z"
   },
   {
    "duration": 10,
    "start_time": "2022-06-13T18:23:52.006Z"
   },
   {
    "duration": 10,
    "start_time": "2022-06-13T18:24:40.995Z"
   },
   {
    "duration": 1434,
    "start_time": "2022-06-13T18:24:49.082Z"
   },
   {
    "duration": 974,
    "start_time": "2022-06-13T18:24:50.518Z"
   },
   {
    "duration": 235,
    "start_time": "2022-06-13T18:24:51.494Z"
   },
   {
    "duration": 40,
    "start_time": "2022-06-13T18:24:51.731Z"
   },
   {
    "duration": 7374,
    "start_time": "2022-06-13T18:24:51.777Z"
   },
   {
    "duration": 43,
    "start_time": "2022-06-13T18:24:59.153Z"
   },
   {
    "duration": 7347,
    "start_time": "2022-06-13T18:24:59.197Z"
   },
   {
    "duration": 27,
    "start_time": "2022-06-13T18:25:20.678Z"
   },
   {
    "duration": 14,
    "start_time": "2022-06-13T18:25:56.386Z"
   },
   {
    "duration": 1545,
    "start_time": "2022-06-13T18:26:04.145Z"
   },
   {
    "duration": 993,
    "start_time": "2022-06-13T18:26:05.692Z"
   },
   {
    "duration": 268,
    "start_time": "2022-06-13T18:26:06.687Z"
   },
   {
    "duration": 33,
    "start_time": "2022-06-13T18:26:06.959Z"
   },
   {
    "duration": 7484,
    "start_time": "2022-06-13T18:26:06.994Z"
   },
   {
    "duration": 30,
    "start_time": "2022-06-13T18:26:14.480Z"
   },
   {
    "duration": 1408,
    "start_time": "2022-06-13T18:26:14.512Z"
   },
   {
    "duration": 1686,
    "start_time": "2022-06-13T18:31:39.228Z"
   },
   {
    "duration": 2730,
    "start_time": "2022-06-13T18:31:40.916Z"
   },
   {
    "duration": 239,
    "start_time": "2022-06-13T18:31:43.648Z"
   },
   {
    "duration": 28,
    "start_time": "2022-06-13T18:31:43.889Z"
   },
   {
    "duration": 7726,
    "start_time": "2022-06-13T18:31:43.918Z"
   },
   {
    "duration": 43,
    "start_time": "2022-06-13T18:31:51.645Z"
   },
   {
    "duration": 1390,
    "start_time": "2022-06-13T18:31:51.691Z"
   },
   {
    "duration": 17,
    "start_time": "2022-06-13T18:32:35.653Z"
   },
   {
    "duration": 3800,
    "start_time": "2022-06-13T18:35:30.325Z"
   },
   {
    "duration": 3476,
    "start_time": "2022-06-13T18:35:34.128Z"
   },
   {
    "duration": 317,
    "start_time": "2022-06-13T18:35:37.606Z"
   },
   {
    "duration": 43,
    "start_time": "2022-06-13T18:35:37.925Z"
   },
   {
    "duration": 8335,
    "start_time": "2022-06-13T18:35:37.970Z"
   },
   {
    "duration": 38,
    "start_time": "2022-06-13T18:35:46.307Z"
   },
   {
    "duration": 14108,
    "start_time": "2022-06-13T18:35:46.347Z"
   },
   {
    "duration": 5,
    "start_time": "2022-06-13T18:41:40.096Z"
   },
   {
    "duration": 129,
    "start_time": "2022-06-13T18:43:31.081Z"
   },
   {
    "duration": 12,
    "start_time": "2022-06-13T18:43:40.609Z"
   },
   {
    "duration": 10,
    "start_time": "2022-06-13T18:43:58.883Z"
   },
   {
    "duration": 1358,
    "start_time": "2022-06-13T21:58:29.210Z"
   },
   {
    "duration": 22,
    "start_time": "2022-06-13T21:59:33.143Z"
   },
   {
    "duration": 119,
    "start_time": "2022-06-13T22:00:01.409Z"
   },
   {
    "duration": 1315,
    "start_time": "2022-06-13T22:00:10.552Z"
   },
   {
    "duration": 2141,
    "start_time": "2022-06-13T22:00:11.869Z"
   },
   {
    "duration": 211,
    "start_time": "2022-06-13T22:00:14.011Z"
   },
   {
    "duration": 31,
    "start_time": "2022-06-13T22:00:14.224Z"
   },
   {
    "duration": 6267,
    "start_time": "2022-06-13T22:00:14.256Z"
   },
   {
    "duration": 32,
    "start_time": "2022-06-13T22:00:20.526Z"
   },
   {
    "duration": 9982,
    "start_time": "2022-06-13T22:00:20.560Z"
   },
   {
    "duration": 8,
    "start_time": "2022-06-13T22:00:30.544Z"
   },
   {
    "duration": 84670,
    "start_time": "2022-06-13T22:00:30.553Z"
   },
   {
    "duration": 107,
    "start_time": "2022-06-13T22:15:05.579Z"
   },
   {
    "duration": 16,
    "start_time": "2022-06-13T22:16:25.159Z"
   },
   {
    "duration": 13518,
    "start_time": "2022-06-13T22:16:30.365Z"
   },
   {
    "duration": 61664,
    "start_time": "2022-06-13T22:16:48.767Z"
   },
   {
    "duration": 0,
    "start_time": "2022-06-13T22:17:50.433Z"
   },
   {
    "duration": 413878,
    "start_time": "2022-06-13T22:18:03.556Z"
   },
   {
    "duration": 83365,
    "start_time": "2022-06-13T22:26:33.197Z"
   },
   {
    "duration": 0,
    "start_time": "2022-06-13T22:27:56.563Z"
   },
   {
    "duration": 1414,
    "start_time": "2022-06-13T22:29:17.430Z"
   },
   {
    "duration": 827,
    "start_time": "2022-06-13T22:29:18.845Z"
   },
   {
    "duration": 220,
    "start_time": "2022-06-13T22:29:19.674Z"
   },
   {
    "duration": 28,
    "start_time": "2022-06-13T22:29:19.897Z"
   },
   {
    "duration": 6176,
    "start_time": "2022-06-13T22:29:19.927Z"
   },
   {
    "duration": 39,
    "start_time": "2022-06-13T22:29:26.104Z"
   },
   {
    "duration": 9971,
    "start_time": "2022-06-13T22:29:26.146Z"
   },
   {
    "duration": 4,
    "start_time": "2022-06-13T22:29:36.119Z"
   },
   {
    "duration": 84623,
    "start_time": "2022-06-13T22:29:36.125Z"
   },
   {
    "duration": 0,
    "start_time": "2022-06-13T22:31:00.749Z"
   },
   {
    "duration": 0,
    "start_time": "2022-06-13T22:31:00.752Z"
   },
   {
    "duration": 83229,
    "start_time": "2022-06-13T22:32:17.106Z"
   },
   {
    "duration": 3,
    "start_time": "2022-06-13T22:33:40.337Z"
   },
   {
    "duration": 4,
    "start_time": "2022-06-13T22:33:47.885Z"
   },
   {
    "duration": 4,
    "start_time": "2022-06-13T22:34:00.445Z"
   },
   {
    "duration": 9309,
    "start_time": "2022-06-13T22:34:24.598Z"
   },
   {
    "duration": 84254,
    "start_time": "2022-06-13T22:35:04.287Z"
   },
   {
    "duration": 1595,
    "start_time": "2022-06-14T17:29:23.368Z"
   },
   {
    "duration": 2539,
    "start_time": "2022-06-14T17:29:24.965Z"
   },
   {
    "duration": 220,
    "start_time": "2022-06-14T17:29:27.506Z"
   },
   {
    "duration": 33,
    "start_time": "2022-06-14T17:29:27.729Z"
   },
   {
    "duration": 6620,
    "start_time": "2022-06-14T17:29:27.764Z"
   },
   {
    "duration": 29,
    "start_time": "2022-06-14T17:29:34.385Z"
   },
   {
    "duration": 11063,
    "start_time": "2022-06-14T17:29:34.416Z"
   },
   {
    "duration": 4,
    "start_time": "2022-06-14T17:29:45.481Z"
   },
   {
    "duration": 100235,
    "start_time": "2022-06-14T17:29:45.486Z"
   },
   {
    "duration": 505317,
    "start_time": "2022-06-14T17:31:25.724Z"
   },
   {
    "duration": 678716,
    "start_time": "2022-06-14T17:39:51.043Z"
   },
   {
    "duration": 1365,
    "start_time": "2022-06-14T18:11:03.759Z"
   },
   {
    "duration": 886,
    "start_time": "2022-06-14T18:11:05.126Z"
   },
   {
    "duration": 234,
    "start_time": "2022-06-14T18:11:06.013Z"
   },
   {
    "duration": 32,
    "start_time": "2022-06-14T18:11:06.250Z"
   },
   {
    "duration": 6594,
    "start_time": "2022-06-14T18:11:06.284Z"
   },
   {
    "duration": 28,
    "start_time": "2022-06-14T18:11:12.880Z"
   },
   {
    "duration": 10721,
    "start_time": "2022-06-14T18:11:12.910Z"
   },
   {
    "duration": 5,
    "start_time": "2022-06-14T18:11:23.632Z"
   },
   {
    "duration": 102514,
    "start_time": "2022-06-14T18:11:23.639Z"
   },
   {
    "duration": 129634,
    "start_time": "2022-06-14T18:13:06.155Z"
   },
   {
    "duration": 0,
    "start_time": "2022-06-14T18:15:15.791Z"
   },
   {
    "duration": 109459,
    "start_time": "2022-06-14T18:15:22.290Z"
   },
   {
    "duration": 647133,
    "start_time": "2022-06-14T18:17:26.353Z"
   },
   {
    "duration": 12,
    "start_time": "2022-06-14T18:48:13.045Z"
   },
   {
    "duration": 23,
    "start_time": "2022-06-14T18:48:17.791Z"
   },
   {
    "duration": 42,
    "start_time": "2022-06-14T18:49:01.341Z"
   },
   {
    "duration": 49,
    "start_time": "2022-06-14T18:49:13.211Z"
   },
   {
    "duration": 31,
    "start_time": "2022-06-14T18:49:34.997Z"
   },
   {
    "duration": 401,
    "start_time": "2022-06-14T18:50:02.211Z"
   },
   {
    "duration": 26,
    "start_time": "2022-06-14T18:50:26.911Z"
   },
   {
    "duration": 1490,
    "start_time": "2022-06-14T18:58:43.785Z"
   },
   {
    "duration": 973,
    "start_time": "2022-06-14T18:58:45.277Z"
   },
   {
    "duration": 242,
    "start_time": "2022-06-14T18:58:46.252Z"
   },
   {
    "duration": 30,
    "start_time": "2022-06-14T18:58:46.496Z"
   },
   {
    "duration": 7082,
    "start_time": "2022-06-14T18:58:46.528Z"
   },
   {
    "duration": 35,
    "start_time": "2022-06-14T18:58:53.612Z"
   },
   {
    "duration": 11649,
    "start_time": "2022-06-14T18:58:53.659Z"
   },
   {
    "duration": 5,
    "start_time": "2022-06-14T18:59:05.310Z"
   },
   {
    "duration": 100641,
    "start_time": "2022-06-14T18:59:05.317Z"
   },
   {
    "duration": 101979,
    "start_time": "2022-06-14T19:00:45.961Z"
   },
   {
    "duration": 656070,
    "start_time": "2022-06-14T19:02:27.942Z"
   },
   {
    "duration": 55,
    "start_time": "2022-06-14T19:13:24.014Z"
   },
   {
    "duration": 412,
    "start_time": "2022-06-14T19:13:24.071Z"
   },
   {
    "duration": 37,
    "start_time": "2022-06-14T19:13:24.486Z"
   },
   {
    "duration": 2129,
    "start_time": "2022-06-15T05:37:04.094Z"
   },
   {
    "duration": 2414,
    "start_time": "2022-06-15T05:37:06.225Z"
   },
   {
    "duration": 230,
    "start_time": "2022-06-15T05:37:08.641Z"
   },
   {
    "duration": 30,
    "start_time": "2022-06-15T05:37:08.873Z"
   },
   {
    "duration": 6614,
    "start_time": "2022-06-15T05:37:08.906Z"
   },
   {
    "duration": 6,
    "start_time": "2022-06-15T05:38:49.550Z"
   },
   {
    "duration": 1501,
    "start_time": "2022-06-15T06:09:53.940Z"
   },
   {
    "duration": 3348,
    "start_time": "2022-06-15T06:09:55.444Z"
   },
   {
    "duration": 235,
    "start_time": "2022-06-15T06:09:58.793Z"
   },
   {
    "duration": 31,
    "start_time": "2022-06-15T06:09:59.030Z"
   },
   {
    "duration": 8109,
    "start_time": "2022-06-15T06:09:59.063Z"
   },
   {
    "duration": 30,
    "start_time": "2022-06-15T06:10:07.174Z"
   },
   {
    "duration": 8474,
    "start_time": "2022-06-15T06:10:07.206Z"
   },
   {
    "duration": 4,
    "start_time": "2022-06-15T06:10:15.682Z"
   },
   {
    "duration": 116148,
    "start_time": "2022-06-15T06:10:15.688Z"
   },
   {
    "duration": 125722,
    "start_time": "2022-06-15T06:12:11.839Z"
   },
   {
    "duration": 673941,
    "start_time": "2022-06-15T06:14:17.563Z"
   },
   {
    "duration": 56,
    "start_time": "2022-06-15T06:25:31.506Z"
   },
   {
    "duration": 500,
    "start_time": "2022-06-15T06:25:31.564Z"
   },
   {
    "duration": 35,
    "start_time": "2022-06-15T06:25:32.066Z"
   }
  ],
  "kernelspec": {
   "display_name": "Python 3 (ipykernel)",
   "language": "python",
   "name": "python3"
  },
  "language_info": {
   "codemirror_mode": {
    "name": "ipython",
    "version": 3
   },
   "file_extension": ".py",
   "mimetype": "text/x-python",
   "name": "python",
   "nbconvert_exporter": "python",
   "pygments_lexer": "ipython3",
   "version": "3.9.7"
  },
  "toc": {
   "base_numbering": 1,
   "nav_menu": {},
   "number_sections": true,
   "sideBar": true,
   "skip_h1_title": true,
   "title_cell": "Содержание",
   "title_sidebar": "Contents",
   "toc_cell": true,
   "toc_position": {
    "height": "calc(100% - 180px)",
    "left": "10px",
    "top": "150px",
    "width": "302.391px"
   },
   "toc_section_display": true,
   "toc_window_display": true
  }
 },
 "nbformat": 4,
 "nbformat_minor": 2
}
