{
 "cells": [
  {
   "cell_type": "markdown",
   "metadata": {
    "toc": true
   },
   "source": [
    "<h1>Содержание<span class=\"tocSkip\"></span></h1>\n",
    "<div class=\"toc\"><ul class=\"toc-item\"><li><span><a href=\"#Обзор-данных\" data-toc-modified-id=\"Обзор-данных-1\"><span class=\"toc-item-num\">1&nbsp;&nbsp;</span>Обзор данных</a></span></li><li><span><a href=\"#Предобработка-данных\" data-toc-modified-id=\"Предобработка-данных-2\"><span class=\"toc-item-num\">2&nbsp;&nbsp;</span>Предобработка данных</a></span><ul class=\"toc-item\"><li><span><a href=\"#Стиль-заголовков\" data-toc-modified-id=\"Стиль-заголовков-2.1\"><span class=\"toc-item-num\">2.1&nbsp;&nbsp;</span>Стиль заголовков</a></span></li><li><span><a href=\"#Пропуски-значений\" data-toc-modified-id=\"Пропуски-значений-2.2\"><span class=\"toc-item-num\">2.2&nbsp;&nbsp;</span>Пропуски значений</a></span></li><li><span><a href=\"#Дубликаты\" data-toc-modified-id=\"Дубликаты-2.3\"><span class=\"toc-item-num\">2.3&nbsp;&nbsp;</span>Дубликаты</a></span></li></ul></li><li><span><a href=\"#Проверка-гипотез\" data-toc-modified-id=\"Проверка-гипотез-3\"><span class=\"toc-item-num\">3&nbsp;&nbsp;</span>Проверка гипотез</a></span><ul class=\"toc-item\"><li><span><a href=\"#Сравнение-поведения-пользователей-двух-столиц\" data-toc-modified-id=\"Сравнение-поведения-пользователей-двух-столиц-3.1\"><span class=\"toc-item-num\">3.1&nbsp;&nbsp;</span>Сравнение поведения пользователей двух столиц</a></span></li><li><span><a href=\"#Музыка-в-начале-и-в-конце-недели\" data-toc-modified-id=\"Музыка-в-начале-и-в-конце-недели-3.2\"><span class=\"toc-item-num\">3.2&nbsp;&nbsp;</span>Музыка в начале и в конце недели</a></span></li><li><span><a href=\"#Жанровые-предпочтения-в-Москве-и-Петербурге\" data-toc-modified-id=\"Жанровые-предпочтения-в-Москве-и-Петербурге-3.3\"><span class=\"toc-item-num\">3.3&nbsp;&nbsp;</span>Жанровые предпочтения в Москве и Петербурге</a></span></li></ul></li><li><span><a href=\"#Итоги-исследования\" data-toc-modified-id=\"Итоги-исследования-4\"><span class=\"toc-item-num\">4&nbsp;&nbsp;</span>Итоги исследования</a></span></li></ul></div>"
   ]
  },
  {
   "cell_type": "markdown",
   "metadata": {
    "id": "E0vqbgi9ay0H"
   },
   "source": [
    "# Исследование данных сервиса “Яндекс.Музыка” — сравнение пользователей двух городов"
   ]
  },
  {
   "cell_type": "markdown",
   "metadata": {
    "id": "VUC88oWjTJw2"
   },
   "source": [
    "Сравнение Москвы и Петербурга окружено мифами. Например:\n",
    " * Москва — мегаполис, подчинённый жёсткому ритму рабочей недели;\n",
    " * Петербург — культурная столица, со своими вкусами.\n",
    "\n",
    "**Цель исследования** — проверить три гипотезы:\n",
    "1. Активность пользователей зависит от дня недели. Причём в Москве и Петербурге это проявляется по-разному.\n",
    "2. В понедельник утром в Москве преобладают одни жанры, а в Петербурге — другие. Так же и вечером пятницы преобладают разные жанры — в зависимости от города. \n",
    "3. Москва и Петербург предпочитают разные жанры музыки. В Москве чаще слушают поп-музыку, в Петербурге — русский рэп.\n",
    "\n",
    "**Ход исследования**\n",
    "\n",
    "Данные о поведении пользователей содержатся в файле `yandex_music_project.csv`. О качестве данных ничего не известно. Поэтому перед проверкой гипотез понадобится обзор данных. \n",
    "\n",
    "Необходимо проверить данные на ошибки и оценить их влияние на исследование. Затем, на этапе предобработки мы поищем возможность исправитт самые критичные ошибки данных.\n",
    " \n",
    "Таким образом, исследование пройдёт в три этапа:\n",
    " 1. Обзор данных.\n",
    " 2. Предобработка данных.\n",
    " 3. Проверка гипотез."
   ]
  },
  {
   "cell_type": "markdown",
   "metadata": {
    "id": "Ml1hmfXC_Zcs"
   },
   "source": [
    "## Обзор данных\n",
    "\n",
    "Составим первое представление о данных Яндекс.Музыки."
   ]
  },
  {
   "cell_type": "markdown",
   "metadata": {
    "id": "57eAOGIz_Zcs"
   },
   "source": [
    "Импорутируем библиотеку `pandas` для работы с данными."
   ]
  },
  {
   "cell_type": "code",
   "execution_count": 1,
   "metadata": {
    "id": "AXN7PHPN_Zcs"
   },
   "outputs": [],
   "source": [
    "import pandas as pd "
   ]
  },
  {
   "cell_type": "markdown",
   "metadata": {
    "id": "SG23P8tt_Zcs"
   },
   "source": [
    "В переменной `df` откроем наш файл, где лежат данные:"
   ]
  },
  {
   "cell_type": "code",
   "execution_count": 2,
   "metadata": {
    "id": "fFVu7vqh_Zct"
   },
   "outputs": [],
   "source": [
    "df = pd.read_csv('/datasets/yandex_music_project.csv')"
   ]
  },
  {
   "cell_type": "markdown",
   "metadata": {
    "id": "rDoOMd3uTqnZ"
   },
   "source": [
    "Выведим на экран первые десять строк таблицы:"
   ]
  },
  {
   "cell_type": "code",
   "execution_count": 3,
   "metadata": {
    "id": "oWTVX3gW_Zct",
    "scrolled": true
   },
   "outputs": [
    {
     "data": {
      "text/html": [
       "<div>\n",
       "<style scoped>\n",
       "    .dataframe tbody tr th:only-of-type {\n",
       "        vertical-align: middle;\n",
       "    }\n",
       "\n",
       "    .dataframe tbody tr th {\n",
       "        vertical-align: top;\n",
       "    }\n",
       "\n",
       "    .dataframe thead th {\n",
       "        text-align: right;\n",
       "    }\n",
       "</style>\n",
       "<table border=\"1\" class=\"dataframe\">\n",
       "  <thead>\n",
       "    <tr style=\"text-align: right;\">\n",
       "      <th></th>\n",
       "      <th>userID</th>\n",
       "      <th>Track</th>\n",
       "      <th>artist</th>\n",
       "      <th>genre</th>\n",
       "      <th>City</th>\n",
       "      <th>time</th>\n",
       "      <th>Day</th>\n",
       "    </tr>\n",
       "  </thead>\n",
       "  <tbody>\n",
       "    <tr>\n",
       "      <th>0</th>\n",
       "      <td>FFB692EC</td>\n",
       "      <td>Kamigata To Boots</td>\n",
       "      <td>The Mass Missile</td>\n",
       "      <td>rock</td>\n",
       "      <td>Saint-Petersburg</td>\n",
       "      <td>20:28:33</td>\n",
       "      <td>Wednesday</td>\n",
       "    </tr>\n",
       "    <tr>\n",
       "      <th>1</th>\n",
       "      <td>55204538</td>\n",
       "      <td>Delayed Because of Accident</td>\n",
       "      <td>Andreas Rönnberg</td>\n",
       "      <td>rock</td>\n",
       "      <td>Moscow</td>\n",
       "      <td>14:07:09</td>\n",
       "      <td>Friday</td>\n",
       "    </tr>\n",
       "    <tr>\n",
       "      <th>2</th>\n",
       "      <td>20EC38</td>\n",
       "      <td>Funiculì funiculà</td>\n",
       "      <td>Mario Lanza</td>\n",
       "      <td>pop</td>\n",
       "      <td>Saint-Petersburg</td>\n",
       "      <td>20:58:07</td>\n",
       "      <td>Wednesday</td>\n",
       "    </tr>\n",
       "    <tr>\n",
       "      <th>3</th>\n",
       "      <td>A3DD03C9</td>\n",
       "      <td>Dragons in the Sunset</td>\n",
       "      <td>Fire + Ice</td>\n",
       "      <td>folk</td>\n",
       "      <td>Saint-Petersburg</td>\n",
       "      <td>08:37:09</td>\n",
       "      <td>Monday</td>\n",
       "    </tr>\n",
       "    <tr>\n",
       "      <th>4</th>\n",
       "      <td>E2DC1FAE</td>\n",
       "      <td>Soul People</td>\n",
       "      <td>Space Echo</td>\n",
       "      <td>dance</td>\n",
       "      <td>Moscow</td>\n",
       "      <td>08:34:34</td>\n",
       "      <td>Monday</td>\n",
       "    </tr>\n",
       "    <tr>\n",
       "      <th>5</th>\n",
       "      <td>842029A1</td>\n",
       "      <td>Преданная</td>\n",
       "      <td>IMPERVTOR</td>\n",
       "      <td>rusrap</td>\n",
       "      <td>Saint-Petersburg</td>\n",
       "      <td>13:09:41</td>\n",
       "      <td>Friday</td>\n",
       "    </tr>\n",
       "    <tr>\n",
       "      <th>6</th>\n",
       "      <td>4CB90AA5</td>\n",
       "      <td>True</td>\n",
       "      <td>Roman Messer</td>\n",
       "      <td>dance</td>\n",
       "      <td>Moscow</td>\n",
       "      <td>13:00:07</td>\n",
       "      <td>Wednesday</td>\n",
       "    </tr>\n",
       "    <tr>\n",
       "      <th>7</th>\n",
       "      <td>F03E1C1F</td>\n",
       "      <td>Feeling This Way</td>\n",
       "      <td>Polina Griffith</td>\n",
       "      <td>dance</td>\n",
       "      <td>Moscow</td>\n",
       "      <td>20:47:49</td>\n",
       "      <td>Wednesday</td>\n",
       "    </tr>\n",
       "    <tr>\n",
       "      <th>8</th>\n",
       "      <td>8FA1D3BE</td>\n",
       "      <td>И вновь продолжается бой</td>\n",
       "      <td>NaN</td>\n",
       "      <td>ruspop</td>\n",
       "      <td>Moscow</td>\n",
       "      <td>09:17:40</td>\n",
       "      <td>Friday</td>\n",
       "    </tr>\n",
       "    <tr>\n",
       "      <th>9</th>\n",
       "      <td>E772D5C0</td>\n",
       "      <td>Pessimist</td>\n",
       "      <td>NaN</td>\n",
       "      <td>dance</td>\n",
       "      <td>Saint-Petersburg</td>\n",
       "      <td>21:20:49</td>\n",
       "      <td>Wednesday</td>\n",
       "    </tr>\n",
       "  </tbody>\n",
       "</table>\n",
       "</div>"
      ],
      "text/plain": [
       "     userID                        Track            artist   genre  \\\n",
       "0  FFB692EC            Kamigata To Boots  The Mass Missile    rock   \n",
       "1  55204538  Delayed Because of Accident  Andreas Rönnberg    rock   \n",
       "2    20EC38            Funiculì funiculà       Mario Lanza     pop   \n",
       "3  A3DD03C9        Dragons in the Sunset        Fire + Ice    folk   \n",
       "4  E2DC1FAE                  Soul People        Space Echo   dance   \n",
       "5  842029A1                    Преданная         IMPERVTOR  rusrap   \n",
       "6  4CB90AA5                         True      Roman Messer   dance   \n",
       "7  F03E1C1F             Feeling This Way   Polina Griffith   dance   \n",
       "8  8FA1D3BE     И вновь продолжается бой               NaN  ruspop   \n",
       "9  E772D5C0                    Pessimist               NaN   dance   \n",
       "\n",
       "             City        time        Day  \n",
       "0  Saint-Petersburg  20:28:33  Wednesday  \n",
       "1            Moscow  14:07:09     Friday  \n",
       "2  Saint-Petersburg  20:58:07  Wednesday  \n",
       "3  Saint-Petersburg  08:37:09     Monday  \n",
       "4            Moscow  08:34:34     Monday  \n",
       "5  Saint-Petersburg  13:09:41     Friday  \n",
       "6            Moscow  13:00:07  Wednesday  \n",
       "7            Moscow  20:47:49  Wednesday  \n",
       "8            Moscow  09:17:40     Friday  \n",
       "9  Saint-Petersburg  21:20:49  Wednesday  "
      ]
     },
     "execution_count": 3,
     "metadata": {},
     "output_type": "execute_result"
    }
   ],
   "source": [
    "df.head(10)"
   ]
  },
  {
   "cell_type": "markdown",
   "metadata": {
    "id": "EO73Kwic_Zct"
   },
   "source": [
    "Получим обущую информацию о нашем датасете, используя метод `info`."
   ]
  },
  {
   "cell_type": "code",
   "execution_count": 4,
   "metadata": {
    "id": "DSf2kIb-_Zct"
   },
   "outputs": [
    {
     "name": "stdout",
     "output_type": "stream",
     "text": [
      "<class 'pandas.core.frame.DataFrame'>\n",
      "RangeIndex: 65079 entries, 0 to 65078\n",
      "Data columns (total 7 columns):\n",
      " #   Column    Non-Null Count  Dtype \n",
      "---  ------    --------------  ----- \n",
      " 0     userID  65079 non-null  object\n",
      " 1   Track     63848 non-null  object\n",
      " 2   artist    57876 non-null  object\n",
      " 3   genre     63881 non-null  object\n",
      " 4     City    65079 non-null  object\n",
      " 5   time      65079 non-null  object\n",
      " 6   Day       65079 non-null  object\n",
      "dtypes: object(7)\n",
      "memory usage: 3.5+ MB\n"
     ]
    }
   ],
   "source": [
    "df.info()"
   ]
  },
  {
   "cell_type": "markdown",
   "metadata": {
    "id": "TaQ2Iwbr_Zct"
   },
   "source": [
    "Итак, в таблице семь столбцов. Тип данных во всех столбцах — `object`.\n",
    "\n",
    "Согласно документации к данным:\n",
    "* `userID` — идентификатор пользователя;\n",
    "* `Track` — название трека;  \n",
    "* `artist` — имя исполнителя;\n",
    "* `genre` — название жанра;\n",
    "* `City` — город пользователя;\n",
    "* `time` — время начала прослушивания;\n",
    "* `Day` — день недели.\n",
    "\n",
    "В названиях колонок видны три нарушения стиля:\n",
    "1. Строчные буквы сочетаются с прописными.\n",
    "2. Встречаются пробелы.\n",
    "3. Для переменной, состоящей из нескольких слов, отсутствует змеиный регистр.\n",
    "\n",
    "\n",
    "\n",
    "Количество значений в столбцах различается. Значит, в данных есть пропущенные значения.\n"
   ]
  },
  {
   "cell_type": "markdown",
   "metadata": {
    "id": "MCB6-dXG_Zct"
   },
   "source": [
    "**Выводы**\n",
    "\n",
    "В каждой строке таблицы — данные о прослушанном треке. Часть колонок описывает саму композицию: название, исполнителя и жанр. Остальные данные рассказывают о пользователе: из какого он города, когда он слушал музыку. \n",
    "\n",
    "Предварительно можно утверждать, что, данных достаточно для проверки гипотез. Но встречаются пропуски в данных, а в названиях колонок — расхождения с хорошим стилем.\n",
    "\n",
    "Чтобы двигаться дальше, нужно устранить проблемы в данных."
   ]
  },
  {
   "cell_type": "markdown",
   "metadata": {
    "id": "SjYF6Ub9_Zct"
   },
   "source": [
    "## Предобработка данных\n",
    "\n",
    "Исправим стиль в заголовках столбцов, исключим пропуски. Затем проверим данные на дубликаты."
   ]
  },
  {
   "cell_type": "markdown",
   "metadata": {
    "id": "dIaKXr29_Zct"
   },
   "source": [
    "### Стиль заголовков\n",
    "Выведем на экран названия столбцов:"
   ]
  },
  {
   "cell_type": "code",
   "execution_count": 5,
   "metadata": {
    "id": "oKOTdF_Q_Zct"
   },
   "outputs": [
    {
     "data": {
      "text/plain": [
       "Index(['  userID', 'Track', 'artist', 'genre', '  City  ', 'time', 'Day'], dtype='object')"
      ]
     },
     "execution_count": 5,
     "metadata": {},
     "output_type": "execute_result"
    }
   ],
   "source": [
    "df.columns"
   ]
  },
  {
   "cell_type": "markdown",
   "metadata": {
    "id": "zj5534cv_Zct"
   },
   "source": [
    "Приведем названия в соответствие с хорошим стилем:\n",
    "* несколько слов в названии запишим в «змеином_регистре»,\n",
    "* все символы сделаем строчными,\n",
    "* устраним пробелы.\n",
    "\n",
    "Для этого переименуем колонки так:\n",
    "* `'  userID'` → `'user_id'`;\n",
    "* `'Track'` → `'track'`;\n",
    "* `'  City  '` → `'city'`;\n",
    "* `'Day'` → `'day'`."
   ]
  },
  {
   "cell_type": "code",
   "execution_count": 6,
   "metadata": {
    "id": "ISlFqs5y_Zct"
   },
   "outputs": [],
   "source": [
    "df = df.rename(columns={'  userID': 'user_id', 'Track': 'track', '  City  ': 'city', 'Day': 'day'})"
   ]
  },
  {
   "cell_type": "markdown",
   "metadata": {
    "id": "1dqbh00J_Zct"
   },
   "source": [
    "Проверим результат. Для этого ещё раз выведем на экран названия столбцов:"
   ]
  },
  {
   "cell_type": "code",
   "execution_count": 7,
   "metadata": {
    "id": "d4NOAmTW_Zct"
   },
   "outputs": [
    {
     "data": {
      "text/plain": [
       "Index(['user_id', 'track', 'artist', 'genre', 'city', 'time', 'day'], dtype='object')"
      ]
     },
     "execution_count": 7,
     "metadata": {},
     "output_type": "execute_result"
    }
   ],
   "source": [
    "df.columns"
   ]
  },
  {
   "cell_type": "markdown",
   "metadata": {
    "id": "5ISfbcfY_Zct"
   },
   "source": [
    "### Пропуски значений\n",
    "Сначала посчитаем, сколько в таблице пропущенных значений."
   ]
  },
  {
   "cell_type": "code",
   "execution_count": 8,
   "metadata": {
    "id": "RskX29qr_Zct"
   },
   "outputs": [
    {
     "data": {
      "text/plain": [
       "user_id       0\n",
       "track      1231\n",
       "artist     7203\n",
       "genre      1198\n",
       "city          0\n",
       "time          0\n",
       "day           0\n",
       "dtype: int64"
      ]
     },
     "execution_count": 8,
     "metadata": {},
     "output_type": "execute_result"
    }
   ],
   "source": [
    "df.isna().sum()"
   ]
  },
  {
   "cell_type": "markdown",
   "metadata": {
    "id": "qubhgnlO_Zct"
   },
   "source": [
    "Не все пропущенные значения влияют на исследование. Так в `track` и `artist` пропуски не важны для вашей работы. Достаточно заменить их явными обозначениями.\n",
    "\n",
    "Но пропуски в `genre` могут помешать сравнению музыкальных вкусов в Москве и Санкт-Петербурге. На практике было бы правильно установить причину пропусков и восстановить данные. Такой возможности нет в учебном проекте. Придётся:\n",
    "* заполнить и эти пропуски явными обозначениями,\n",
    "* оценить, насколько они повредят расчётам. "
   ]
  },
  {
   "cell_type": "markdown",
   "metadata": {
    "id": "fSv2laPA_Zct"
   },
   "source": [
    "Заменим пропущенные значения в столбцах `track`, `artist` и `genre` на строку `'unknown'`. Для этого создадим список `columns_to_replace`, переберём его элементы циклом `for` и для каждого столбца выполним замену пропущенных значений:"
   ]
  },
  {
   "cell_type": "code",
   "execution_count": 9,
   "metadata": {
    "id": "KplB5qWs_Zct"
   },
   "outputs": [],
   "source": [
    "columns_to_replace = ['track', 'artist', 'genre']\n",
    "for column in columns_to_replace:\n",
    "    df[column] = df[column].fillna('unknown')"
   ]
  },
  {
   "cell_type": "markdown",
   "metadata": {
    "id": "Ilsm-MZo_Zct"
   },
   "source": [
    "Убедимся, что в таблице не осталось пропусков. Для этого ещё раз посчитаем пропущенные значения."
   ]
  },
  {
   "cell_type": "code",
   "execution_count": 10,
   "metadata": {
    "id": "Tq4nYRX4_Zct"
   },
   "outputs": [
    {
     "data": {
      "text/plain": [
       "user_id    0\n",
       "track      0\n",
       "artist     0\n",
       "genre      0\n",
       "city       0\n",
       "time       0\n",
       "day        0\n",
       "dtype: int64"
      ]
     },
     "execution_count": 10,
     "metadata": {},
     "output_type": "execute_result"
    }
   ],
   "source": [
    "df.isna().sum()"
   ]
  },
  {
   "cell_type": "markdown",
   "metadata": {
    "id": "BWKRtBJ3_Zct"
   },
   "source": [
    "### Дубликаты\n",
    "Посчитаем явные дубликаты в таблице одной командой:"
   ]
  },
  {
   "cell_type": "code",
   "execution_count": 11,
   "metadata": {
    "id": "36eES_S0_Zct"
   },
   "outputs": [
    {
     "data": {
      "text/plain": [
       "3826"
      ]
     },
     "execution_count": 11,
     "metadata": {},
     "output_type": "execute_result"
    }
   ],
   "source": [
    "df.duplicated().sum()"
   ]
  },
  {
   "cell_type": "markdown",
   "metadata": {
    "id": "Ot25h6XR_Zct"
   },
   "source": [
    "Вызовем специальный метод `pandas`, чтобы удалить явные дубликаты:"
   ]
  },
  {
   "cell_type": "code",
   "execution_count": 12,
   "metadata": {
    "id": "exFHq6tt_Zct"
   },
   "outputs": [],
   "source": [
    "df = df.drop_duplicates()"
   ]
  },
  {
   "cell_type": "markdown",
   "metadata": {
    "id": "Im2YwBEG_Zct"
   },
   "source": [
    "Ещё раз посчитаем явные дубликаты в таблице — убедимся, что полностью от них избавились:"
   ]
  },
  {
   "cell_type": "code",
   "execution_count": 13,
   "metadata": {
    "id": "-8PuNWQ0_Zct"
   },
   "outputs": [
    {
     "data": {
      "text/plain": [
       "0"
      ]
     },
     "execution_count": 13,
     "metadata": {},
     "output_type": "execute_result"
    }
   ],
   "source": [
    "df.duplicated().sum()"
   ]
  },
  {
   "cell_type": "markdown",
   "metadata": {
    "id": "QlFBsxAr_Zct"
   },
   "source": [
    "Теперь избавимся от неявных дубликатов в колонке `genre`. Например, название одного и того же жанра может быть записано немного по-разному. Такие ошибки тоже повлияют на результат исследования."
   ]
  },
  {
   "cell_type": "markdown",
   "metadata": {
    "id": "eSjWwsOh_Zct"
   },
   "source": [
    "Выведем на экран список уникальных названий жанров, отсортированный в алфавитном порядке. Для этого:\n",
    "* извлечём нужный столбец датафрейма, \n",
    "* применим к нему метод сортировки,\n",
    "* для отсортированного столбца вызовем метод, который вернёт уникальные значения из столбца."
   ]
  },
  {
   "cell_type": "code",
   "execution_count": 14,
   "metadata": {
    "id": "JIUcqzZN_Zct",
    "scrolled": false
   },
   "outputs": [
    {
     "data": {
      "text/plain": [
       "array(['acid', 'acoustic', 'action', 'adult', 'africa', 'afrikaans',\n",
       "       'alternative', 'alternativepunk', 'ambient', 'americana',\n",
       "       'animated', 'anime', 'arabesk', 'arabic', 'arena',\n",
       "       'argentinetango', 'art', 'audiobook', 'author', 'avantgarde',\n",
       "       'axé', 'baile', 'balkan', 'beats', 'bigroom', 'black', 'bluegrass',\n",
       "       'blues', 'bollywood', 'bossa', 'brazilian', 'breakbeat', 'breaks',\n",
       "       'broadway', 'cantautori', 'cantopop', 'canzone', 'caribbean',\n",
       "       'caucasian', 'celtic', 'chamber', 'chanson', 'children', 'chill',\n",
       "       'chinese', 'choral', 'christian', 'christmas', 'classical',\n",
       "       'classicmetal', 'club', 'colombian', 'comedy', 'conjazz',\n",
       "       'contemporary', 'country', 'cuban', 'dance', 'dancehall',\n",
       "       'dancepop', 'dark', 'death', 'deep', 'deutschrock', 'deutschspr',\n",
       "       'dirty', 'disco', 'dnb', 'documentary', 'downbeat', 'downtempo',\n",
       "       'drum', 'dub', 'dubstep', 'eastern', 'easy', 'electronic',\n",
       "       'electropop', 'emo', 'entehno', 'epicmetal', 'estrada', 'ethnic',\n",
       "       'eurofolk', 'european', 'experimental', 'extrememetal', 'fado',\n",
       "       'fairytail', 'film', 'fitness', 'flamenco', 'folk', 'folklore',\n",
       "       'folkmetal', 'folkrock', 'folktronica', 'forró', 'frankreich',\n",
       "       'französisch', 'french', 'funk', 'future', 'gangsta', 'garage',\n",
       "       'german', 'ghazal', 'gitarre', 'glitch', 'gospel', 'gothic',\n",
       "       'grime', 'grunge', 'gypsy', 'handsup', \"hard'n'heavy\", 'hardcore',\n",
       "       'hardstyle', 'hardtechno', 'hip', 'hip-hop', 'hiphop',\n",
       "       'historisch', 'holiday', 'hop', 'horror', 'house', 'hymn', 'idm',\n",
       "       'independent', 'indian', 'indie', 'indipop', 'industrial',\n",
       "       'inspirational', 'instrumental', 'international', 'irish', 'jam',\n",
       "       'japanese', 'jazz', 'jewish', 'jpop', 'jungle', 'k-pop',\n",
       "       'karadeniz', 'karaoke', 'kayokyoku', 'korean', 'laiko', 'latin',\n",
       "       'latino', 'leftfield', 'local', 'lounge', 'loungeelectronic',\n",
       "       'lovers', 'malaysian', 'mandopop', 'marschmusik', 'meditative',\n",
       "       'mediterranean', 'melodic', 'metal', 'metalcore', 'mexican',\n",
       "       'middle', 'minimal', 'miscellaneous', 'modern', 'mood', 'mpb',\n",
       "       'muslim', 'native', 'neoklassik', 'neue', 'new', 'newage',\n",
       "       'newwave', 'nu', 'nujazz', 'numetal', 'oceania', 'old', 'opera',\n",
       "       'orchestral', 'other', 'piano', 'podcasts', 'pop', 'popdance',\n",
       "       'popelectronic', 'popeurodance', 'poprussian', 'post',\n",
       "       'posthardcore', 'postrock', 'power', 'progmetal', 'progressive',\n",
       "       'psychedelic', 'punjabi', 'punk', 'quebecois', 'ragga', 'ram',\n",
       "       'rancheras', 'rap', 'rave', 'reggae', 'reggaeton', 'regional',\n",
       "       'relax', 'religious', 'retro', 'rhythm', 'rnb', 'rnr', 'rock',\n",
       "       'rockabilly', 'rockalternative', 'rockindie', 'rockother',\n",
       "       'romance', 'roots', 'ruspop', 'rusrap', 'rusrock', 'russian',\n",
       "       'salsa', 'samba', 'scenic', 'schlager', 'self', 'sertanejo',\n",
       "       'shanson', 'shoegazing', 'showtunes', 'singer', 'ska', 'skarock',\n",
       "       'slow', 'smooth', 'soft', 'soul', 'soulful', 'sound', 'soundtrack',\n",
       "       'southern', 'specialty', 'speech', 'spiritual', 'sport',\n",
       "       'stonerrock', 'surf', 'swing', 'synthpop', 'synthrock',\n",
       "       'sängerportrait', 'tango', 'tanzorchester', 'taraftar', 'tatar',\n",
       "       'tech', 'techno', 'teen', 'thrash', 'top', 'traditional',\n",
       "       'tradjazz', 'trance', 'tribal', 'trip', 'triphop', 'tropical',\n",
       "       'türk', 'türkçe', 'ukrrock', 'unknown', 'urban', 'uzbek',\n",
       "       'variété', 'vi', 'videogame', 'vocal', 'western', 'world',\n",
       "       'worldbeat', 'ïîï', 'электроника'], dtype=object)"
      ]
     },
     "execution_count": 14,
     "metadata": {},
     "output_type": "execute_result"
    }
   ],
   "source": [
    "df['genre'].sort_values().unique()"
   ]
  },
  {
   "cell_type": "markdown",
   "metadata": {
    "id": "qej-Qmuo_Zct"
   },
   "source": [
    "Чтобы очистить таблицу от неявных дубликатов, напишем функцию `replace_wrong_genres()` с двумя параметрами: \n",
    "* `wrong_genres` — список дубликатов,\n",
    "* `correct_genre` — строка с правильным значением.\n",
    "\n",
    "Функция должна исправить колонку `genre` в таблице `df`: заменить каждое значение из списка `wrong_genres` на значение из `correct_genre`."
   ]
  },
  {
   "cell_type": "code",
   "execution_count": 15,
   "metadata": {
    "id": "ErNDkmns_Zct"
   },
   "outputs": [],
   "source": [
    "def replace_wrong_genres(wrong_values, correct_value):\n",
    "    for wrong_value in wrong_values:\n",
    "        df['genre'] = df['genre'].replace(wrong_value, correct_value)"
   ]
  },
  {
   "cell_type": "markdown",
   "metadata": {
    "id": "aDoBJxbA_Zct"
   },
   "source": [
    "Вызовем `replace_wrong_genres()` и передадим ей такие аргументы, чтобы она устранила неявные дубликаты:"
   ]
  },
  {
   "cell_type": "code",
   "execution_count": 16,
   "metadata": {
    "id": "YN5i2hpmSo09"
   },
   "outputs": [],
   "source": [
    "replace_wrong_genres(['hip', 'hop', 'hip-hop'], 'hiphop')\n",
    "replace_wrong_genres(['электроника'], 'electronic')"
   ]
  },
  {
   "cell_type": "markdown",
   "metadata": {
    "id": "jz6a9-7HQUDd"
   },
   "source": [
    "**Выводы**\n",
    "\n",
    "Предобработка обнаружила три проблемы в данных:\n",
    "\n",
    "- нарушения в стиле заголовков,\n",
    "- пропущенные значения,\n",
    "- дубликаты — явные и неявные.\n",
    "\n",
    "Мы исправили заголовки, чтобы упростить работу с таблицей. Без дубликатов исследование станет более точным.\n",
    "\n",
    "Пропущенные значения мы заменили на `'unknown'`. Ещё предстоит увидеть, не повредят ли исследованию пропуски в колонке `genre`.\n",
    "\n",
    "Теперь можно перейти к проверке гипотез. "
   ]
  },
  {
   "cell_type": "markdown",
   "metadata": {
    "id": "WttZHXH0SqKk"
   },
   "source": [
    "## Проверка гипотез"
   ]
  },
  {
   "cell_type": "markdown",
   "metadata": {
    "id": "Im936VVi_Zcu"
   },
   "source": [
    "### Сравнение поведения пользователей двух столиц"
   ]
  },
  {
   "cell_type": "markdown",
   "metadata": {
    "id": "nwt_MuaL_Zcu"
   },
   "source": [
    "Первая гипотеза утверждает, что пользователи по-разному слушают музыку в Москве и Санкт-Петербурге. Проверим это предположение по данным о трёх днях недели — понедельнике, среде и пятнице. Для этого:\n",
    "\n",
    "* Разделим пользователей Москвы и Санкт-Петербурга\n",
    "* Сравним, сколько треков послушала каждая группа пользователей в понедельник, среду и пятницу.\n"
   ]
  },
  {
   "cell_type": "markdown",
   "metadata": {
    "id": "8Dw_YMmT_Zcu"
   },
   "source": [
    "Сначала выполним каждый из расчётов по отдельности. \n",
    "\n",
    "Оценим активность пользователей в каждом городе. Сгруппируем данные по городу и посчитаем прослушивания в каждой группе."
   ]
  },
  {
   "cell_type": "code",
   "execution_count": 17,
   "metadata": {
    "id": "0_Qs96oh_Zcu"
   },
   "outputs": [
    {
     "data": {
      "text/plain": [
       "city\n",
       "Moscow              42741\n",
       "Saint-Petersburg    18512\n",
       "Name: user_id, dtype: int64"
      ]
     },
     "execution_count": 17,
     "metadata": {},
     "output_type": "execute_result"
    }
   ],
   "source": [
    "df.groupby('city')['user_id'].count()"
   ]
  },
  {
   "cell_type": "markdown",
   "metadata": {
    "id": "dzli3w8o_Zcu"
   },
   "source": [
    "В Москве прослушиваний больше, чем в Петербурге. Из этого не следует, что московские пользователи чаще слушают музыку. Просто самих пользователей в Москве больше.\n",
    "\n",
    "Теперь сгруппируем данные по дню недели и подсчитаем прослушивания в понедельник, среду и пятницу. Учтём, что в данных есть информация только о прослушиваниях только за эти дни."
   ]
  },
  {
   "cell_type": "code",
   "execution_count": 18,
   "metadata": {
    "id": "uZMKjiJz_Zcu"
   },
   "outputs": [
    {
     "data": {
      "text/plain": [
       "day\n",
       "Friday       21840\n",
       "Monday       21354\n",
       "Wednesday    18059\n",
       "Name: user_id, dtype: int64"
      ]
     },
     "execution_count": 18,
     "metadata": {},
     "output_type": "execute_result"
    }
   ],
   "source": [
    "df.groupby('day')['user_id'].count()"
   ]
  },
  {
   "cell_type": "markdown",
   "metadata": {
    "id": "cC2tNrlL_Zcu"
   },
   "source": [
    "В среднем пользователи из двух городов менее активны по средам. Но картина может измениться, если рассмотреть каждый город в отдельности."
   ]
  },
  {
   "cell_type": "markdown",
   "metadata": {
    "id": "POzs8bGa_Zcu"
   },
   "source": [
    "Ранее мы выполнили группировку по городу и по дням недели. Теперь напишем функцию, которая объединит два эти расчёта.\n",
    "\n",
    "Создадим функцию `number_tracks()`, которая посчитает прослушивания для заданного дня и города. Ей понадобятся два параметра:\n",
    "* день недели,\n",
    "* название города.\n",
    "\n",
    "В функции сохраним в переменную строки исходной таблицы, у которых значение:\n",
    "  * в колонке `day` равно параметру `day`,\n",
    "  * в колонке `city` равно параметру `city`.\n",
    "\n",
    "Для этого применим последовательную фильтрацию с логической индексацией.\n",
    "\n",
    "Затем посчитаем значения в столбце `user_id` получившейся таблицы. Результат сохраним в новую переменную. Вернём эту переменную из функции."
   ]
  },
  {
   "cell_type": "code",
   "execution_count": 19,
   "metadata": {
    "id": "Nz3GdQB1_Zcu"
   },
   "outputs": [],
   "source": [
    "def number_tracks(day, city):\n",
    "    track_list = df[(df['day'] == day) & (df['city'] == city)]\n",
    "    track_list_count = track_list['user_id'].count()\n",
    "    return track_list_count"
   ]
  },
  {
   "cell_type": "markdown",
   "metadata": {
    "id": "ytf7xFrFJQ2r"
   },
   "source": [
    "Вызовем `number_tracks()` шесть раз, меняя значение параметров — так, чтобы получить данные для каждого города в каждый из трёх дней."
   ]
  },
  {
   "cell_type": "code",
   "execution_count": 20,
   "metadata": {
    "id": "rJcRATNQ_Zcu"
   },
   "outputs": [
    {
     "data": {
      "text/plain": [
       "15740"
      ]
     },
     "execution_count": 20,
     "metadata": {},
     "output_type": "execute_result"
    }
   ],
   "source": [
    "# количество прослушиваний в Москве по понедельникам\n",
    "number_tracks('Monday', 'Moscow')"
   ]
  },
  {
   "cell_type": "code",
   "execution_count": 21,
   "metadata": {
    "id": "hq_ncZ5T_Zcu"
   },
   "outputs": [
    {
     "data": {
      "text/plain": [
       "5614"
      ]
     },
     "execution_count": 21,
     "metadata": {},
     "output_type": "execute_result"
    }
   ],
   "source": [
    "# количество прослушиваний в Санкт-Петербурге по понедельникам\n",
    "number_tracks('Monday', 'Saint-Petersburg')"
   ]
  },
  {
   "cell_type": "code",
   "execution_count": 22,
   "metadata": {
    "id": "_NTy2VPU_Zcu"
   },
   "outputs": [
    {
     "data": {
      "text/plain": [
       "11056"
      ]
     },
     "execution_count": 22,
     "metadata": {},
     "output_type": "execute_result"
    }
   ],
   "source": [
    "# количество прослушиваний в Москве по средам\n",
    "number_tracks('Wednesday', 'Moscow')"
   ]
  },
  {
   "cell_type": "code",
   "execution_count": 23,
   "metadata": {
    "id": "j2y3TAwo_Zcu"
   },
   "outputs": [
    {
     "data": {
      "text/plain": [
       "7003"
      ]
     },
     "execution_count": 23,
     "metadata": {},
     "output_type": "execute_result"
    }
   ],
   "source": [
    "# количество прослушиваний в Санкт-Петербурге по средам\n",
    "number_tracks('Wednesday', 'Saint-Petersburg')"
   ]
  },
  {
   "cell_type": "code",
   "execution_count": 24,
   "metadata": {
    "id": "vYDw5u_K_Zcu"
   },
   "outputs": [
    {
     "data": {
      "text/plain": [
       "15945"
      ]
     },
     "execution_count": 24,
     "metadata": {},
     "output_type": "execute_result"
    }
   ],
   "source": [
    "# количество прослушиваний в Москве по пятницам\n",
    "number_tracks('Friday', 'Moscow')"
   ]
  },
  {
   "cell_type": "code",
   "execution_count": 25,
   "metadata": {
    "id": "8_yzFtW3_Zcu"
   },
   "outputs": [
    {
     "data": {
      "text/plain": [
       "5895"
      ]
     },
     "execution_count": 25,
     "metadata": {},
     "output_type": "execute_result"
    }
   ],
   "source": [
    "# количество прослушиваний в Санкт-Петербурге по пятницам\n",
    "number_tracks('Friday', 'Saint-Petersburg')"
   ]
  },
  {
   "cell_type": "markdown",
   "metadata": {
    "id": "7QXffbO-_Zcu"
   },
   "source": [
    "Из полученных результатов сделаем для наглядности датафрейм, где:\n",
    "* названия колонок — `['city', 'monday', 'wednesday', 'friday']`;\n",
    "* данные — результаты, которые вы получили с помощью `number_tracks`."
   ]
  },
  {
   "cell_type": "code",
   "execution_count": 26,
   "metadata": {
    "id": "APAcLpOr_Zcu"
   },
   "outputs": [
    {
     "data": {
      "text/html": [
       "<div>\n",
       "<style scoped>\n",
       "    .dataframe tbody tr th:only-of-type {\n",
       "        vertical-align: middle;\n",
       "    }\n",
       "\n",
       "    .dataframe tbody tr th {\n",
       "        vertical-align: top;\n",
       "    }\n",
       "\n",
       "    .dataframe thead th {\n",
       "        text-align: right;\n",
       "    }\n",
       "</style>\n",
       "<table border=\"1\" class=\"dataframe\">\n",
       "  <thead>\n",
       "    <tr style=\"text-align: right;\">\n",
       "      <th></th>\n",
       "      <th>city</th>\n",
       "      <th>monday</th>\n",
       "      <th>wednesday</th>\n",
       "      <th>friday</th>\n",
       "    </tr>\n",
       "  </thead>\n",
       "  <tbody>\n",
       "    <tr>\n",
       "      <th>0</th>\n",
       "      <td>Moscow</td>\n",
       "      <td>15740</td>\n",
       "      <td>11056</td>\n",
       "      <td>15945</td>\n",
       "    </tr>\n",
       "    <tr>\n",
       "      <th>1</th>\n",
       "      <td>Saint-Petersburg</td>\n",
       "      <td>5614</td>\n",
       "      <td>7003</td>\n",
       "      <td>5895</td>\n",
       "    </tr>\n",
       "  </tbody>\n",
       "</table>\n",
       "</div>"
      ],
      "text/plain": [
       "               city  monday  wednesday  friday\n",
       "0            Moscow   15740      11056   15945\n",
       "1  Saint-Petersburg    5614       7003    5895"
      ]
     },
     "metadata": {},
     "output_type": "display_data"
    }
   ],
   "source": [
    "data_city_day = [\n",
    "    ['Moscow', 15740, 11056, 15945],\n",
    "    ['Saint-Petersburg', 5614, 7003, 5895]\n",
    "]\n",
    "columns_city_day = ['city', 'monday', 'wednesday', 'friday']\n",
    "df_city_day = pd.DataFrame(data=data_city_day, columns=columns_city_day)\n",
    "display(df_city_day)"
   ]
  },
  {
   "cell_type": "markdown",
   "metadata": {
    "id": "-EgPIHYu_Zcu"
   },
   "source": [
    "**Выводы**\n",
    "\n",
    "Данные показывают разницу поведения пользователей:\n",
    "\n",
    "- В Москве пик прослушиваний приходится на понедельник и пятницу, а в среду заметен спад.\n",
    "- В Петербурге, наоборот, больше слушают музыку по средам. Активность в понедельник и пятницу здесь почти в равной мере уступает среде.\n",
    "\n",
    "Значит, данные говорят в пользу первой гипотезы."
   ]
  },
  {
   "cell_type": "markdown",
   "metadata": {
    "id": "atZAxtq4_Zcu"
   },
   "source": [
    "### Музыка в начале и в конце недели"
   ]
  },
  {
   "cell_type": "markdown",
   "metadata": {
    "id": "eXrQqXFH_Zcu"
   },
   "source": [
    "Согласно второй гипотезе, утром в понедельник в Москве преобладают одни жанры, а в Петербурге — другие. Так же и вечером пятницы преобладают разные жанры — в зависимости от города."
   ]
  },
  {
   "cell_type": "markdown",
   "metadata": {
    "id": "S8UcW6Hw_Zcu"
   },
   "source": [
    "Сохраним таблицы с данными в две переменные:\n",
    "* по Москве — в `moscow_general`;\n",
    "* по Санкт-Петербургу — в `spb_general`."
   ]
  },
  {
   "cell_type": "code",
   "execution_count": 38,
   "metadata": {
    "id": "qeaFfM_P_Zcu"
   },
   "outputs": [],
   "source": [
    "moscow_general = df[df['city'] == 'Moscow']"
   ]
  },
  {
   "cell_type": "code",
   "execution_count": 39,
   "metadata": {
    "id": "ORaVRKto_Zcu"
   },
   "outputs": [],
   "source": [
    "spb_general = df[df['city'] == 'Saint-Petersburg']"
   ]
  },
  {
   "cell_type": "markdown",
   "metadata": {
    "id": "MEJV-CX2_Zcu"
   },
   "source": [
    "Создадим функцию `genre_weekday()` с четырьмя параметрами:\n",
    "* таблица (датафрейм) с данными,\n",
    "* день недели,\n",
    "* начальная временная метка в формате 'hh:mm', \n",
    "* последняя временная метка в формате 'hh:mm'.\n",
    "\n",
    "Функция должна вернуть информацию о топ-10 жанров тех треков, которые прослушивали в указанный день, в промежутке между двумя отметками времени."
   ]
  },
  {
   "cell_type": "code",
   "execution_count": 40,
   "metadata": {
    "id": "laJT9BYl_Zcu"
   },
   "outputs": [],
   "source": [
    "def genre_weekday(table, day, time1, time2):\n",
    "    genre_df = table[(table['day'] == day) & (table['time'] > time1) & (table['time'] < time2)]\n",
    "    genre_df_count = genre_df.groupby('genre')['track'].count()\n",
    "    genre_df_sorted = genre_df_count.sort_values(ascending=False)\n",
    "    return genre_df_sorted.head(10)"
   ]
  },
  {
   "cell_type": "markdown",
   "metadata": {
    "id": "la2s2_PF_Zcu"
   },
   "source": [
    "Cравним результаты функции `genre_weekday()` для Москвы и Санкт-Петербурга в понедельник утром (с 7:00 до 11:00) и в пятницу вечером (с 17:00 до 23:00):"
   ]
  },
  {
   "cell_type": "code",
   "execution_count": 41,
   "metadata": {
    "id": "yz7itPUQ_Zcu"
   },
   "outputs": [
    {
     "data": {
      "text/plain": [
       "genre\n",
       "pop            781\n",
       "dance          549\n",
       "electronic     480\n",
       "rock           474\n",
       "hiphop         286\n",
       "ruspop         186\n",
       "world          181\n",
       "rusrap         175\n",
       "alternative    164\n",
       "unknown        161\n",
       "Name: track, dtype: int64"
      ]
     },
     "execution_count": 41,
     "metadata": {},
     "output_type": "execute_result"
    }
   ],
   "source": [
    "# вызов функции для утра понедельника в Москве\n",
    "genre_weekday(moscow_general, 'Monday', '07:00', '11:00')"
   ]
  },
  {
   "cell_type": "code",
   "execution_count": 42,
   "metadata": {
    "id": "kwUcHPdy_Zcu"
   },
   "outputs": [
    {
     "data": {
      "text/plain": [
       "genre\n",
       "pop            218\n",
       "dance          182\n",
       "rock           162\n",
       "electronic     147\n",
       "hiphop          80\n",
       "ruspop          64\n",
       "alternative     58\n",
       "rusrap          55\n",
       "jazz            44\n",
       "classical       40\n",
       "Name: track, dtype: int64"
      ]
     },
     "execution_count": 42,
     "metadata": {},
     "output_type": "execute_result"
    }
   ],
   "source": [
    "# вызов функции для утра понедельника в Петербурге\n",
    "genre_weekday(spb_general, 'Monday', '07:00', '11:00')"
   ]
  },
  {
   "cell_type": "code",
   "execution_count": 32,
   "metadata": {
    "id": "EzXVRE1o_Zcu"
   },
   "outputs": [
    {
     "data": {
      "text/plain": [
       "genre\n",
       "pop            713\n",
       "rock           517\n",
       "dance          495\n",
       "electronic     482\n",
       "hiphop         273\n",
       "world          208\n",
       "ruspop         170\n",
       "alternative    163\n",
       "classical      163\n",
       "rusrap         142\n",
       "Name: track, dtype: int64"
      ]
     },
     "execution_count": 32,
     "metadata": {},
     "output_type": "execute_result"
    }
   ],
   "source": [
    "# вызов функции для вечера пятницы в Москве\n",
    "genre_weekday(moscow_general, 'Friday', '17:00', '23:00')"
   ]
  },
  {
   "cell_type": "code",
   "execution_count": 33,
   "metadata": {
    "id": "JZaEKu5v_Zcu"
   },
   "outputs": [
    {
     "data": {
      "text/plain": [
       "genre\n",
       "pop            256\n",
       "electronic     216\n",
       "rock           216\n",
       "dance          210\n",
       "hiphop          97\n",
       "alternative     63\n",
       "jazz            61\n",
       "classical       60\n",
       "rusrap          59\n",
       "world           54\n",
       "Name: track, dtype: int64"
      ]
     },
     "execution_count": 33,
     "metadata": {},
     "output_type": "execute_result"
    }
   ],
   "source": [
    "# вызов функции для вечера пятницы в Петербурге\n",
    "genre_weekday(spb_general, 'Friday', '17:00', '23:00')"
   ]
  },
  {
   "cell_type": "markdown",
   "metadata": {
    "id": "wrCe4MNX_Zcu"
   },
   "source": [
    "**Выводы**\n",
    "\n",
    "Если сравнить топ-10 жанров в понедельник утром, можно сделать такие выводы:\n",
    "\n",
    "1. В Москве и Петербурге слушают похожую музыку. Единственное отличие — в московский рейтинг вошёл жанр “world”, а в петербургский — джаз и классика.\n",
    "\n",
    "2. В Москве пропущенных значений оказалось так много, что значение `'unknown'` заняло десятое место среди самых популярных жанров. Значит, пропущенные значения занимают существенную долю в данных и угрожают достоверности исследования.\n",
    "\n",
    "Вечер пятницы не меняет эту картину. Некоторые жанры поднимаются немного выше, другие спускаются, но в целом топ-10 остаётся тем же самым.\n",
    "\n",
    "Таким образом, вторая гипотеза подтвердилась лишь частично:\n",
    "* Пользователи слушают похожую музыку в начале недели и в конце.\n",
    "* Разница между Москвой и Петербургом не слишком выражена. В Москве чаще слушают русскую популярную музыку, в Петербурге — джаз.\n",
    "\n",
    "Однако пропуски в данных ставят под сомнение этот результат. В Москве их так много, что рейтинг топ-10 мог бы выглядеть иначе, если бы не утерянные  данные о жанрах."
   ]
  },
  {
   "cell_type": "markdown",
   "metadata": {
    "id": "JolODAqr_Zcu"
   },
   "source": [
    "### Жанровые предпочтения в Москве и Петербурге\n",
    "\n",
    "Гипотеза: Петербург — столица рэпа, музыку этого жанра там слушают чаще, чем в Москве.  А Москва — город контрастов, в котором, тем не менее, преобладает поп-музыка."
   ]
  },
  {
   "cell_type": "markdown",
   "metadata": {
    "id": "DlegSvaT_Zcu"
   },
   "source": [
    "Сгруппируем таблицу `moscow_general` по жанру и посчитаем прослушивания треков каждого жанра методом `count()`. Затем отсортируем результат в порядке убывания и сохраним его в таблице `moscow_genres`."
   ]
  },
  {
   "cell_type": "code",
   "execution_count": 34,
   "metadata": {
    "id": "r19lIPke_Zcu"
   },
   "outputs": [],
   "source": [
    "moscow_genres = moscow_general.groupby('genre')['track'].count().sort_values(ascending=False)"
   ]
  },
  {
   "cell_type": "markdown",
   "metadata": {
    "id": "6kMuomxTiIr8"
   },
   "source": [
    "Выведите на экран первые десять строк `moscow_genres`:"
   ]
  },
  {
   "cell_type": "code",
   "execution_count": 43,
   "metadata": {
    "id": "WhCSooF8_Zcv"
   },
   "outputs": [
    {
     "data": {
      "text/plain": [
       "genre\n",
       "pop            5892\n",
       "dance          4435\n",
       "rock           3965\n",
       "electronic     3786\n",
       "hiphop         2096\n",
       "classical      1616\n",
       "world          1432\n",
       "alternative    1379\n",
       "ruspop         1372\n",
       "rusrap         1161\n",
       "Name: track, dtype: int64"
      ]
     },
     "execution_count": 43,
     "metadata": {},
     "output_type": "execute_result"
    }
   ],
   "source": [
    "moscow_genres.head(10)"
   ]
  },
  {
   "cell_type": "markdown",
   "metadata": {
    "id": "cnPG2vnN_Zcv"
   },
   "source": [
    "Теперь повторим то же и для Петербурга.\n",
    "\n",
    "Сгруппируем таблицу `spb_general` по жанру. Посчитаем прослушивания треков каждого жанра. Результат отсортируем в порядке убывания и сохраним в таблице `spb_genres`:\n"
   ]
  },
  {
   "cell_type": "code",
   "execution_count": 36,
   "metadata": {
    "id": "gluLIpE7_Zcv"
   },
   "outputs": [],
   "source": [
    "spb_genres = spb_general.groupby('genre')['track'].count().sort_values(ascending=False)"
   ]
  },
  {
   "cell_type": "markdown",
   "metadata": {
    "id": "5Doha_ODgyQ8"
   },
   "source": [
    "Выведите на экран первые десять строк `spb_genres`:"
   ]
  },
  {
   "cell_type": "code",
   "execution_count": 44,
   "metadata": {
    "id": "uaGJHjVU_Zcv"
   },
   "outputs": [
    {
     "data": {
      "text/plain": [
       "genre\n",
       "pop            2431\n",
       "dance          1932\n",
       "rock           1879\n",
       "electronic     1737\n",
       "hiphop          960\n",
       "alternative     649\n",
       "classical       646\n",
       "rusrap          564\n",
       "ruspop          538\n",
       "world           515\n",
       "Name: track, dtype: int64"
      ]
     },
     "execution_count": 44,
     "metadata": {},
     "output_type": "execute_result"
    }
   ],
   "source": [
    "spb_genres.head(10)"
   ]
  },
  {
   "cell_type": "markdown",
   "metadata": {
    "id": "RY51YJYu_Zcv"
   },
   "source": [
    "**Выводы**"
   ]
  },
  {
   "cell_type": "markdown",
   "metadata": {
    "id": "nVhnJEm__Zcv"
   },
   "source": [
    "Гипотеза частично подтвердилась:\n",
    "* Поп-музыка — самый популярный жанр в Москве, как и предполагала гипотеза. Более того, в топ-10 жанров встречается близкий жанр — русская популярная музыка.\n",
    "* Вопреки ожиданиям, рэп одинаково популярен в Москве и Петербурге. \n"
   ]
  },
  {
   "cell_type": "markdown",
   "metadata": {
    "id": "ykKQ0N65_Zcv"
   },
   "source": [
    "## Итоги исследования"
   ]
  },
  {
   "cell_type": "markdown",
   "metadata": {
    "id": "tjUwbHb3_Zcv"
   },
   "source": [
    "Мы проверили три гипотезы и установили:\n",
    "\n",
    "1. День недели по-разному влияет на активность пользователей в Москве и Петербурге. \n",
    "\n",
    "Первая гипотеза полностью подтвердилась.\n",
    "\n",
    "2. Музыкальные предпочтения не сильно меняются в течение недели — будь то Москва или Петербург. Небольшие различия заметны в начале недели, по понедельникам:\n",
    "* в Москве слушают музыку жанра “world”,\n",
    "* в Петербурге — джаз и классику.\n",
    "\n",
    "Таким образом, вторая гипотеза подтвердилась лишь отчасти. Этот результат мог оказаться иным, если бы не пропуски в данных.\n",
    "\n",
    "3. Во вкусах пользователей Москвы и Петербурга больше общего чем различий. Вопреки ожиданиям, предпочтения жанров в Петербурге напоминают московские.\n",
    "\n",
    "Третья гипотеза не подтвердилась. Если различия в предпочтениях и существуют, на основной массе пользователей они незаметны.\n"
   ]
  }
 ],
 "metadata": {
  "ExecuteTimeLog": [
   {
    "duration": 219,
    "start_time": "2021-11-18T16:15:19.581Z"
   },
   {
    "duration": 574,
    "start_time": "2021-11-18T16:18:18.294Z"
   },
   {
    "duration": 140,
    "start_time": "2021-11-18T16:18:18.870Z"
   },
   {
    "duration": 18,
    "start_time": "2021-11-18T16:18:19.012Z"
   },
   {
    "duration": 8,
    "start_time": "2021-11-18T16:18:19.034Z"
   },
   {
    "duration": 4,
    "start_time": "2021-11-18T16:18:19.043Z"
   },
   {
    "duration": 5,
    "start_time": "2021-11-18T16:18:19.049Z"
   },
   {
    "duration": 6,
    "start_time": "2021-11-18T16:18:19.056Z"
   },
   {
    "duration": 5,
    "start_time": "2021-11-18T16:18:19.063Z"
   },
   {
    "duration": 21,
    "start_time": "2021-11-18T16:18:19.070Z"
   },
   {
    "duration": 2,
    "start_time": "2021-11-18T16:18:19.093Z"
   },
   {
    "duration": 6,
    "start_time": "2021-11-18T16:18:19.097Z"
   },
   {
    "duration": 4,
    "start_time": "2021-11-18T16:18:19.104Z"
   },
   {
    "duration": 5,
    "start_time": "2021-11-18T16:18:19.109Z"
   },
   {
    "duration": 4,
    "start_time": "2021-11-18T16:18:19.116Z"
   },
   {
    "duration": 4,
    "start_time": "2021-11-18T16:18:19.122Z"
   },
   {
    "duration": 6,
    "start_time": "2021-11-18T16:18:19.127Z"
   },
   {
    "duration": 9,
    "start_time": "2021-11-18T16:18:19.135Z"
   },
   {
    "duration": 4,
    "start_time": "2021-11-18T16:18:19.146Z"
   },
   {
    "duration": 3,
    "start_time": "2021-11-18T16:18:19.152Z"
   },
   {
    "duration": 6,
    "start_time": "2021-11-18T16:18:19.156Z"
   },
   {
    "duration": 9,
    "start_time": "2021-11-18T16:18:19.163Z"
   },
   {
    "duration": 6,
    "start_time": "2021-11-18T16:18:19.192Z"
   },
   {
    "duration": 6,
    "start_time": "2021-11-18T16:18:19.200Z"
   },
   {
    "duration": 7,
    "start_time": "2021-11-18T16:18:19.207Z"
   },
   {
    "duration": 6,
    "start_time": "2021-11-18T16:18:19.215Z"
   },
   {
    "duration": 8,
    "start_time": "2021-11-18T16:18:19.222Z"
   },
   {
    "duration": 5,
    "start_time": "2021-11-18T16:18:19.233Z"
   },
   {
    "duration": 4,
    "start_time": "2021-11-18T16:18:19.240Z"
   },
   {
    "duration": 5,
    "start_time": "2021-11-18T16:18:19.246Z"
   },
   {
    "duration": 5,
    "start_time": "2021-11-18T16:18:19.252Z"
   },
   {
    "duration": 7,
    "start_time": "2021-11-18T16:18:19.258Z"
   },
   {
    "duration": 6,
    "start_time": "2021-11-18T16:18:19.266Z"
   },
   {
    "duration": 12,
    "start_time": "2021-11-18T16:18:19.273Z"
   },
   {
    "duration": 22,
    "start_time": "2021-11-18T16:18:19.286Z"
   },
   {
    "duration": 54,
    "start_time": "2021-11-18T16:18:19.310Z"
   },
   {
    "duration": 18,
    "start_time": "2021-11-18T16:18:19.365Z"
   },
   {
    "duration": 17,
    "start_time": "2021-11-18T16:18:19.385Z"
   },
   {
    "duration": 8,
    "start_time": "2021-11-18T16:18:19.404Z"
   },
   {
    "duration": 23,
    "start_time": "2021-11-18T16:18:59.690Z"
   },
   {
    "duration": 192,
    "start_time": "2021-11-18T16:23:03.761Z"
   },
   {
    "duration": 4,
    "start_time": "2021-11-18T16:23:57.178Z"
   },
   {
    "duration": 4,
    "start_time": "2021-11-18T16:24:12.505Z"
   },
   {
    "duration": 4,
    "start_time": "2021-11-18T16:24:16.986Z"
   },
   {
    "duration": 4,
    "start_time": "2021-11-18T16:27:40.041Z"
   },
   {
    "duration": 25,
    "start_time": "2021-11-18T16:27:44.295Z"
   },
   {
    "duration": 3,
    "start_time": "2021-11-18T16:27:50.012Z"
   },
   {
    "duration": 425,
    "start_time": "2021-11-18T16:27:50.017Z"
   },
   {
    "duration": 11,
    "start_time": "2021-11-18T16:27:50.445Z"
   },
   {
    "duration": 38,
    "start_time": "2021-11-18T16:27:50.458Z"
   },
   {
    "duration": 4,
    "start_time": "2021-11-18T16:27:50.497Z"
   },
   {
    "duration": 22,
    "start_time": "2021-11-18T16:27:50.503Z"
   },
   {
    "duration": 4,
    "start_time": "2021-11-18T16:28:04.570Z"
   },
   {
    "duration": 21,
    "start_time": "2021-11-18T16:28:41.960Z"
   },
   {
    "duration": 23,
    "start_time": "2021-11-18T16:34:45.893Z"
   },
   {
    "duration": 3,
    "start_time": "2021-11-18T16:34:53.810Z"
   },
   {
    "duration": 149,
    "start_time": "2021-11-18T16:34:53.815Z"
   },
   {
    "duration": 10,
    "start_time": "2021-11-18T16:34:53.966Z"
   },
   {
    "duration": 38,
    "start_time": "2021-11-18T16:34:53.977Z"
   },
   {
    "duration": 20,
    "start_time": "2021-11-18T16:34:54.017Z"
   },
   {
    "duration": 42,
    "start_time": "2021-11-18T16:34:54.038Z"
   },
   {
    "duration": 15,
    "start_time": "2021-11-18T16:34:54.082Z"
   },
   {
    "duration": 48,
    "start_time": "2021-11-18T16:34:54.098Z"
   },
   {
    "duration": 37,
    "start_time": "2021-11-18T16:34:54.147Z"
   },
   {
    "duration": 22,
    "start_time": "2021-11-18T16:34:59.573Z"
   },
   {
    "duration": 54,
    "start_time": "2021-11-18T16:35:31.077Z"
   },
   {
    "duration": 58,
    "start_time": "2021-11-18T16:36:01.581Z"
   },
   {
    "duration": 61,
    "start_time": "2021-11-18T16:36:03.996Z"
   },
   {
    "duration": 50,
    "start_time": "2021-11-18T16:36:21.836Z"
   },
   {
    "duration": 7,
    "start_time": "2021-11-18T16:38:31.534Z"
   },
   {
    "duration": 3,
    "start_time": "2021-11-18T17:09:16.380Z"
   },
   {
    "duration": 135,
    "start_time": "2021-11-18T17:09:16.384Z"
   },
   {
    "duration": 9,
    "start_time": "2021-11-18T17:09:16.521Z"
   },
   {
    "duration": 25,
    "start_time": "2021-11-18T17:09:16.531Z"
   },
   {
    "duration": 8,
    "start_time": "2021-11-18T17:09:16.557Z"
   },
   {
    "duration": 31,
    "start_time": "2021-11-18T17:09:16.566Z"
   },
   {
    "duration": 4,
    "start_time": "2021-11-18T17:09:16.598Z"
   },
   {
    "duration": 24,
    "start_time": "2021-11-18T17:09:16.604Z"
   },
   {
    "duration": 17,
    "start_time": "2021-11-18T17:09:16.630Z"
   },
   {
    "duration": 43,
    "start_time": "2021-11-18T17:09:16.649Z"
   },
   {
    "duration": 52,
    "start_time": "2021-11-18T17:09:16.694Z"
   },
   {
    "duration": 78,
    "start_time": "2021-11-18T17:09:16.749Z"
   },
   {
    "duration": 63,
    "start_time": "2021-11-18T17:09:16.829Z"
   },
   {
    "duration": 9,
    "start_time": "2021-11-18T17:09:16.894Z"
   },
   {
    "duration": 4,
    "start_time": "2021-11-18T17:09:16.905Z"
   },
   {
    "duration": 11,
    "start_time": "2021-11-18T17:09:19.315Z"
   },
   {
    "duration": 9,
    "start_time": "2021-11-18T17:09:21.451Z"
   },
   {
    "duration": 8,
    "start_time": "2021-11-18T17:09:42.050Z"
   },
   {
    "duration": 6,
    "start_time": "2021-11-18T17:10:57.962Z"
   },
   {
    "duration": 7,
    "start_time": "2021-11-18T17:11:04.017Z"
   },
   {
    "duration": 33,
    "start_time": "2021-11-18T17:25:28.567Z"
   },
   {
    "duration": 190,
    "start_time": "2021-11-18T17:29:13.431Z"
   },
   {
    "duration": 11,
    "start_time": "2021-11-18T17:29:21.742Z"
   },
   {
    "duration": 12,
    "start_time": "2021-11-18T17:29:41.653Z"
   },
   {
    "duration": 11,
    "start_time": "2021-11-18T17:29:44.846Z"
   },
   {
    "duration": 3,
    "start_time": "2021-11-18T17:29:56.333Z"
   },
   {
    "duration": 163,
    "start_time": "2021-11-18T17:29:56.337Z"
   },
   {
    "duration": 11,
    "start_time": "2021-11-18T17:29:56.503Z"
   },
   {
    "duration": 30,
    "start_time": "2021-11-18T17:29:56.516Z"
   },
   {
    "duration": 10,
    "start_time": "2021-11-18T17:29:56.547Z"
   },
   {
    "duration": 46,
    "start_time": "2021-11-18T17:29:56.558Z"
   },
   {
    "duration": 4,
    "start_time": "2021-11-18T17:29:56.605Z"
   },
   {
    "duration": 38,
    "start_time": "2021-11-18T17:29:56.610Z"
   },
   {
    "duration": 16,
    "start_time": "2021-11-18T17:29:56.650Z"
   },
   {
    "duration": 33,
    "start_time": "2021-11-18T17:29:56.668Z"
   },
   {
    "duration": 55,
    "start_time": "2021-11-18T17:29:56.703Z"
   },
   {
    "duration": 78,
    "start_time": "2021-11-18T17:29:56.759Z"
   },
   {
    "duration": 59,
    "start_time": "2021-11-18T17:29:56.839Z"
   },
   {
    "duration": 9,
    "start_time": "2021-11-18T17:29:56.901Z"
   },
   {
    "duration": 4,
    "start_time": "2021-11-18T17:29:56.912Z"
   },
   {
    "duration": 13,
    "start_time": "2021-11-18T17:29:56.918Z"
   },
   {
    "duration": 13,
    "start_time": "2021-11-18T17:29:56.932Z"
   },
   {
    "duration": 21,
    "start_time": "2021-11-18T17:29:56.947Z"
   },
   {
    "duration": 5,
    "start_time": "2021-11-18T17:29:56.970Z"
   },
   {
    "duration": 21,
    "start_time": "2021-11-18T17:29:56.976Z"
   },
   {
    "duration": 8,
    "start_time": "2021-11-18T17:29:56.999Z"
   },
   {
    "duration": 9,
    "start_time": "2021-11-18T17:29:57.008Z"
   },
   {
    "duration": 7,
    "start_time": "2021-11-18T17:29:57.018Z"
   },
   {
    "duration": 7,
    "start_time": "2021-11-18T17:29:57.026Z"
   },
   {
    "duration": 15,
    "start_time": "2021-11-18T17:29:57.035Z"
   },
   {
    "duration": 26,
    "start_time": "2021-11-18T17:29:57.051Z"
   },
   {
    "duration": 23,
    "start_time": "2021-11-18T17:29:57.080Z"
   },
   {
    "duration": 19,
    "start_time": "2021-11-18T17:29:57.104Z"
   },
   {
    "duration": 26,
    "start_time": "2021-11-18T17:29:57.124Z"
   },
   {
    "duration": 14,
    "start_time": "2021-11-18T17:29:57.152Z"
   },
   {
    "duration": 37,
    "start_time": "2021-11-18T17:29:57.167Z"
   },
   {
    "duration": 26,
    "start_time": "2021-11-18T17:29:57.205Z"
   },
   {
    "duration": 35,
    "start_time": "2021-11-18T17:29:57.233Z"
   },
   {
    "duration": 27,
    "start_time": "2021-11-18T17:29:57.270Z"
   },
   {
    "duration": 16,
    "start_time": "2021-11-18T17:29:57.299Z"
   },
   {
    "duration": 9,
    "start_time": "2021-11-18T17:29:57.317Z"
   },
   {
    "duration": 23,
    "start_time": "2021-11-18T17:29:57.328Z"
   },
   {
    "duration": 14,
    "start_time": "2021-11-18T17:29:57.352Z"
   },
   {
    "duration": 12,
    "start_time": "2021-11-18T17:31:00.574Z"
   },
   {
    "duration": 4,
    "start_time": "2021-11-18T17:32:00.805Z"
   },
   {
    "duration": 33,
    "start_time": "2021-11-18T17:32:04.598Z"
   },
   {
    "duration": 13,
    "start_time": "2021-11-18T17:32:24.149Z"
   },
   {
    "duration": 2,
    "start_time": "2021-11-18T17:44:17.519Z"
   },
   {
    "duration": 134,
    "start_time": "2021-11-18T17:44:17.523Z"
   },
   {
    "duration": 9,
    "start_time": "2021-11-18T17:44:17.659Z"
   },
   {
    "duration": 37,
    "start_time": "2021-11-18T17:44:17.670Z"
   },
   {
    "duration": 13,
    "start_time": "2021-11-18T17:44:17.708Z"
   },
   {
    "duration": 27,
    "start_time": "2021-11-18T17:44:17.723Z"
   },
   {
    "duration": 4,
    "start_time": "2021-11-18T17:44:17.751Z"
   },
   {
    "duration": 23,
    "start_time": "2021-11-18T17:44:17.758Z"
   },
   {
    "duration": 21,
    "start_time": "2021-11-18T17:44:17.783Z"
   },
   {
    "duration": 31,
    "start_time": "2021-11-18T17:44:17.805Z"
   },
   {
    "duration": 59,
    "start_time": "2021-11-18T17:44:17.837Z"
   },
   {
    "duration": 54,
    "start_time": "2021-11-18T17:44:17.898Z"
   },
   {
    "duration": 62,
    "start_time": "2021-11-18T17:44:17.953Z"
   },
   {
    "duration": 6,
    "start_time": "2021-11-18T17:44:18.017Z"
   },
   {
    "duration": 13,
    "start_time": "2021-11-18T17:44:18.024Z"
   },
   {
    "duration": 26,
    "start_time": "2021-11-18T17:44:18.038Z"
   },
   {
    "duration": 12,
    "start_time": "2021-11-18T17:44:18.065Z"
   },
   {
    "duration": 18,
    "start_time": "2021-11-18T17:44:18.079Z"
   },
   {
    "duration": 13,
    "start_time": "2021-11-18T17:44:18.099Z"
   },
   {
    "duration": 4,
    "start_time": "2021-11-18T17:44:18.114Z"
   },
   {
    "duration": 34,
    "start_time": "2021-11-18T17:44:18.120Z"
   },
   {
    "duration": 3,
    "start_time": "2021-11-18T17:44:18.156Z"
   },
   {
    "duration": 14,
    "start_time": "2021-11-18T17:44:18.163Z"
   },
   {
    "duration": 13,
    "start_time": "2021-11-18T17:44:18.179Z"
   },
   {
    "duration": 20,
    "start_time": "2021-11-18T17:44:18.193Z"
   },
   {
    "duration": 14,
    "start_time": "2021-11-18T17:44:18.214Z"
   },
   {
    "duration": 9,
    "start_time": "2021-11-18T17:44:18.229Z"
   },
   {
    "duration": 6,
    "start_time": "2021-11-18T17:44:18.239Z"
   },
   {
    "duration": 6,
    "start_time": "2021-11-18T17:44:18.246Z"
   },
   {
    "duration": 14,
    "start_time": "2021-11-18T17:44:18.254Z"
   },
   {
    "duration": 16,
    "start_time": "2021-11-18T17:44:18.269Z"
   },
   {
    "duration": 6,
    "start_time": "2021-11-18T17:44:18.287Z"
   },
   {
    "duration": 15,
    "start_time": "2021-11-18T17:44:18.295Z"
   },
   {
    "duration": 6,
    "start_time": "2021-11-18T17:44:18.312Z"
   },
   {
    "duration": 14,
    "start_time": "2021-11-18T17:44:18.319Z"
   },
   {
    "duration": 12,
    "start_time": "2021-11-18T17:44:18.334Z"
   },
   {
    "duration": 8,
    "start_time": "2021-11-18T17:44:18.347Z"
   },
   {
    "duration": 15,
    "start_time": "2021-11-18T17:44:18.356Z"
   },
   {
    "duration": 20,
    "start_time": "2021-11-18T17:45:35.220Z"
   },
   {
    "duration": 24,
    "start_time": "2021-11-18T17:45:38.171Z"
   },
   {
    "duration": 19,
    "start_time": "2021-11-18T17:47:42.930Z"
   },
   {
    "duration": 2,
    "start_time": "2021-11-18T17:47:48.383Z"
   },
   {
    "duration": 137,
    "start_time": "2021-11-18T17:47:48.387Z"
   },
   {
    "duration": 9,
    "start_time": "2021-11-18T17:47:48.526Z"
   },
   {
    "duration": 30,
    "start_time": "2021-11-18T17:47:48.537Z"
   },
   {
    "duration": 8,
    "start_time": "2021-11-18T17:47:48.568Z"
   },
   {
    "duration": 22,
    "start_time": "2021-11-18T17:47:48.578Z"
   },
   {
    "duration": 3,
    "start_time": "2021-11-18T17:47:48.602Z"
   },
   {
    "duration": 22,
    "start_time": "2021-11-18T17:47:48.607Z"
   },
   {
    "duration": 28,
    "start_time": "2021-11-18T17:47:48.631Z"
   },
   {
    "duration": 21,
    "start_time": "2021-11-18T17:47:48.660Z"
   },
   {
    "duration": 55,
    "start_time": "2021-11-18T17:47:48.692Z"
   },
   {
    "duration": 75,
    "start_time": "2021-11-18T17:47:48.749Z"
   },
   {
    "duration": 47,
    "start_time": "2021-11-18T17:47:48.826Z"
   },
   {
    "duration": 20,
    "start_time": "2021-11-18T17:47:48.874Z"
   },
   {
    "duration": 3,
    "start_time": "2021-11-18T17:47:48.896Z"
   },
   {
    "duration": 20,
    "start_time": "2021-11-18T17:47:48.901Z"
   },
   {
    "duration": 7,
    "start_time": "2021-11-18T17:47:48.923Z"
   },
   {
    "duration": 11,
    "start_time": "2021-11-18T17:47:48.932Z"
   },
   {
    "duration": 10,
    "start_time": "2021-11-18T17:47:48.944Z"
   },
   {
    "duration": 3,
    "start_time": "2021-11-18T17:47:48.956Z"
   },
   {
    "duration": 49,
    "start_time": "2021-11-18T17:47:48.961Z"
   },
   {
    "duration": 17,
    "start_time": "2021-11-18T17:47:49.012Z"
   },
   {
    "duration": 21,
    "start_time": "2021-11-18T17:47:49.033Z"
   },
   {
    "duration": 46,
    "start_time": "2021-11-18T17:47:49.057Z"
   },
   {
    "duration": 23,
    "start_time": "2021-11-18T17:47:49.104Z"
   },
   {
    "duration": 20,
    "start_time": "2021-11-18T17:47:49.129Z"
   },
   {
    "duration": 2,
    "start_time": "2021-11-18T17:47:49.151Z"
   },
   {
    "duration": 37,
    "start_time": "2021-11-18T17:47:49.155Z"
   },
   {
    "duration": 6,
    "start_time": "2021-11-18T17:47:49.194Z"
   },
   {
    "duration": 7,
    "start_time": "2021-11-18T17:47:49.201Z"
   },
   {
    "duration": 6,
    "start_time": "2021-11-18T17:47:49.210Z"
   },
   {
    "duration": 5,
    "start_time": "2021-11-18T17:47:49.218Z"
   },
   {
    "duration": 6,
    "start_time": "2021-11-18T17:47:49.224Z"
   },
   {
    "duration": 4,
    "start_time": "2021-11-18T17:47:49.232Z"
   },
   {
    "duration": 5,
    "start_time": "2021-11-18T17:47:49.237Z"
   },
   {
    "duration": 6,
    "start_time": "2021-11-18T17:47:49.244Z"
   },
   {
    "duration": 7,
    "start_time": "2021-11-18T17:47:49.252Z"
   },
   {
    "duration": 6,
    "start_time": "2021-11-18T17:47:49.261Z"
   },
   {
    "duration": 2,
    "start_time": "2021-11-18T17:48:22.584Z"
   },
   {
    "duration": 156,
    "start_time": "2021-11-18T17:48:22.588Z"
   },
   {
    "duration": 12,
    "start_time": "2021-11-18T17:48:22.746Z"
   },
   {
    "duration": 38,
    "start_time": "2021-11-18T17:48:22.760Z"
   },
   {
    "duration": 4,
    "start_time": "2021-11-18T17:48:22.800Z"
   },
   {
    "duration": 15,
    "start_time": "2021-11-18T17:48:22.806Z"
   },
   {
    "duration": 4,
    "start_time": "2021-11-18T17:48:22.823Z"
   },
   {
    "duration": 26,
    "start_time": "2021-11-18T17:48:22.830Z"
   },
   {
    "duration": 44,
    "start_time": "2021-11-18T17:48:22.858Z"
   },
   {
    "duration": 47,
    "start_time": "2021-11-18T17:48:22.905Z"
   },
   {
    "duration": 65,
    "start_time": "2021-11-18T17:48:22.954Z"
   },
   {
    "duration": 56,
    "start_time": "2021-11-18T17:48:23.020Z"
   },
   {
    "duration": 58,
    "start_time": "2021-11-18T17:48:23.077Z"
   },
   {
    "duration": 6,
    "start_time": "2021-11-18T17:48:23.137Z"
   },
   {
    "duration": 8,
    "start_time": "2021-11-18T17:48:23.145Z"
   },
   {
    "duration": 17,
    "start_time": "2021-11-18T17:48:23.155Z"
   },
   {
    "duration": 18,
    "start_time": "2021-11-18T17:48:23.174Z"
   },
   {
    "duration": 15,
    "start_time": "2021-11-18T17:48:23.193Z"
   },
   {
    "duration": 22,
    "start_time": "2021-11-18T17:48:23.210Z"
   },
   {
    "duration": 14,
    "start_time": "2021-11-18T17:48:23.234Z"
   },
   {
    "duration": 37,
    "start_time": "2021-11-18T17:48:23.249Z"
   },
   {
    "duration": 27,
    "start_time": "2021-11-18T17:48:23.288Z"
   },
   {
    "duration": 57,
    "start_time": "2021-11-18T17:48:23.317Z"
   },
   {
    "duration": 18,
    "start_time": "2021-11-18T17:48:23.376Z"
   },
   {
    "duration": 21,
    "start_time": "2021-11-18T17:48:23.395Z"
   },
   {
    "duration": 17,
    "start_time": "2021-11-18T17:48:23.418Z"
   },
   {
    "duration": 5,
    "start_time": "2021-11-18T17:48:23.436Z"
   },
   {
    "duration": 10,
    "start_time": "2021-11-18T17:48:23.443Z"
   },
   {
    "duration": 24,
    "start_time": "2021-11-18T17:48:23.454Z"
   },
   {
    "duration": 6,
    "start_time": "2021-11-18T17:48:23.479Z"
   },
   {
    "duration": 32,
    "start_time": "2021-11-18T17:48:23.486Z"
   },
   {
    "duration": 26,
    "start_time": "2021-11-18T17:48:23.519Z"
   },
   {
    "duration": 28,
    "start_time": "2021-11-18T17:48:23.546Z"
   },
   {
    "duration": 13,
    "start_time": "2021-11-18T17:48:23.576Z"
   },
   {
    "duration": 9,
    "start_time": "2021-11-18T17:48:23.590Z"
   },
   {
    "duration": 14,
    "start_time": "2021-11-18T17:48:23.600Z"
   },
   {
    "duration": 28,
    "start_time": "2021-11-18T17:48:23.615Z"
   },
   {
    "duration": 8,
    "start_time": "2021-11-18T17:48:23.645Z"
   },
   {
    "duration": 2,
    "start_time": "2021-11-18T17:49:18.799Z"
   },
   {
    "duration": 146,
    "start_time": "2021-11-18T17:49:18.803Z"
   },
   {
    "duration": 10,
    "start_time": "2021-11-18T17:49:18.951Z"
   },
   {
    "duration": 34,
    "start_time": "2021-11-18T17:49:18.962Z"
   },
   {
    "duration": 4,
    "start_time": "2021-11-18T17:49:18.997Z"
   },
   {
    "duration": 16,
    "start_time": "2021-11-18T17:49:19.002Z"
   },
   {
    "duration": 3,
    "start_time": "2021-11-18T17:49:19.020Z"
   },
   {
    "duration": 26,
    "start_time": "2021-11-18T17:49:19.025Z"
   },
   {
    "duration": 40,
    "start_time": "2021-11-18T17:49:19.054Z"
   },
   {
    "duration": 23,
    "start_time": "2021-11-18T17:49:19.096Z"
   },
   {
    "duration": 54,
    "start_time": "2021-11-18T17:49:19.121Z"
   },
   {
    "duration": 69,
    "start_time": "2021-11-18T17:49:19.177Z"
   },
   {
    "duration": 62,
    "start_time": "2021-11-18T17:49:19.248Z"
   },
   {
    "duration": 8,
    "start_time": "2021-11-18T17:49:19.312Z"
   },
   {
    "duration": 9,
    "start_time": "2021-11-18T17:49:19.322Z"
   },
   {
    "duration": 19,
    "start_time": "2021-11-18T17:49:19.333Z"
   },
   {
    "duration": 9,
    "start_time": "2021-11-18T17:49:19.353Z"
   },
   {
    "duration": 34,
    "start_time": "2021-11-18T17:49:19.364Z"
   },
   {
    "duration": 10,
    "start_time": "2021-11-18T17:49:19.400Z"
   },
   {
    "duration": 3,
    "start_time": "2021-11-18T17:49:19.412Z"
   },
   {
    "duration": 18,
    "start_time": "2021-11-18T17:49:19.416Z"
   },
   {
    "duration": 13,
    "start_time": "2021-11-18T17:49:19.436Z"
   },
   {
    "duration": 48,
    "start_time": "2021-11-18T17:49:19.451Z"
   },
   {
    "duration": 14,
    "start_time": "2021-11-18T17:49:19.500Z"
   },
   {
    "duration": 18,
    "start_time": "2021-11-18T17:49:19.516Z"
   },
   {
    "duration": 12,
    "start_time": "2021-11-18T17:49:19.536Z"
   },
   {
    "duration": 2,
    "start_time": "2021-11-18T17:49:19.551Z"
   },
   {
    "duration": 8,
    "start_time": "2021-11-18T17:49:19.555Z"
   },
   {
    "duration": 9,
    "start_time": "2021-11-18T17:49:19.564Z"
   },
   {
    "duration": 17,
    "start_time": "2021-11-18T17:49:19.575Z"
   },
   {
    "duration": 10,
    "start_time": "2021-11-18T17:49:19.593Z"
   },
   {
    "duration": 6,
    "start_time": "2021-11-18T17:49:19.604Z"
   },
   {
    "duration": 7,
    "start_time": "2021-11-18T17:49:19.611Z"
   },
   {
    "duration": 5,
    "start_time": "2021-11-18T17:49:19.619Z"
   },
   {
    "duration": 6,
    "start_time": "2021-11-18T17:49:19.625Z"
   },
   {
    "duration": 5,
    "start_time": "2021-11-18T17:49:19.632Z"
   },
   {
    "duration": 5,
    "start_time": "2021-11-18T17:49:19.639Z"
   },
   {
    "duration": 10,
    "start_time": "2021-11-18T17:49:19.645Z"
   },
   {
    "duration": 174,
    "start_time": "2021-11-18T17:54:03.705Z"
   },
   {
    "duration": 5,
    "start_time": "2021-11-18T17:54:17.945Z"
   },
   {
    "duration": 4,
    "start_time": "2021-11-18T17:54:19.600Z"
   },
   {
    "duration": 3,
    "start_time": "2021-11-18T17:54:23.445Z"
   },
   {
    "duration": 157,
    "start_time": "2021-11-18T17:54:23.449Z"
   },
   {
    "duration": 11,
    "start_time": "2021-11-18T17:54:23.607Z"
   },
   {
    "duration": 29,
    "start_time": "2021-11-18T17:54:23.620Z"
   },
   {
    "duration": 8,
    "start_time": "2021-11-18T17:54:23.651Z"
   },
   {
    "duration": 33,
    "start_time": "2021-11-18T17:54:23.661Z"
   },
   {
    "duration": 4,
    "start_time": "2021-11-18T17:54:23.697Z"
   },
   {
    "duration": 31,
    "start_time": "2021-11-18T17:54:23.703Z"
   },
   {
    "duration": 20,
    "start_time": "2021-11-18T17:54:23.736Z"
   },
   {
    "duration": 45,
    "start_time": "2021-11-18T17:54:23.757Z"
   },
   {
    "duration": 57,
    "start_time": "2021-11-18T17:54:23.803Z"
   },
   {
    "duration": 74,
    "start_time": "2021-11-18T17:54:23.862Z"
   },
   {
    "duration": 59,
    "start_time": "2021-11-18T17:54:23.937Z"
   },
   {
    "duration": 7,
    "start_time": "2021-11-18T17:54:23.998Z"
   },
   {
    "duration": 4,
    "start_time": "2021-11-18T17:54:24.006Z"
   },
   {
    "duration": 14,
    "start_time": "2021-11-18T17:54:24.011Z"
   },
   {
    "duration": 6,
    "start_time": "2021-11-18T17:54:24.027Z"
   },
   {
    "duration": 15,
    "start_time": "2021-11-18T17:54:24.035Z"
   },
   {
    "duration": 38,
    "start_time": "2021-11-18T17:54:24.054Z"
   },
   {
    "duration": 3,
    "start_time": "2021-11-18T17:54:24.094Z"
   },
   {
    "duration": 18,
    "start_time": "2021-11-18T17:54:24.099Z"
   },
   {
    "duration": 13,
    "start_time": "2021-11-18T17:54:24.119Z"
   },
   {
    "duration": 14,
    "start_time": "2021-11-18T17:54:24.134Z"
   },
   {
    "duration": 13,
    "start_time": "2021-11-18T17:54:24.149Z"
   },
   {
    "duration": 15,
    "start_time": "2021-11-18T17:54:24.192Z"
   },
   {
    "duration": 14,
    "start_time": "2021-11-18T17:54:24.209Z"
   },
   {
    "duration": 5,
    "start_time": "2021-11-18T17:54:24.224Z"
   },
   {
    "duration": 7,
    "start_time": "2021-11-18T17:54:24.231Z"
   },
   {
    "duration": 7,
    "start_time": "2021-11-18T17:54:24.240Z"
   },
   {
    "duration": 8,
    "start_time": "2021-11-18T17:54:24.249Z"
   },
   {
    "duration": 6,
    "start_time": "2021-11-18T17:54:24.258Z"
   },
   {
    "duration": 10,
    "start_time": "2021-11-18T17:54:24.266Z"
   },
   {
    "duration": 3,
    "start_time": "2021-11-18T17:54:24.290Z"
   },
   {
    "duration": 6,
    "start_time": "2021-11-18T17:54:24.295Z"
   },
   {
    "duration": 6,
    "start_time": "2021-11-18T17:54:24.302Z"
   },
   {
    "duration": 6,
    "start_time": "2021-11-18T17:54:24.309Z"
   },
   {
    "duration": 7,
    "start_time": "2021-11-18T17:54:24.316Z"
   },
   {
    "duration": 7,
    "start_time": "2021-11-18T17:54:24.324Z"
   },
   {
    "duration": 8,
    "start_time": "2021-11-18T17:55:34.650Z"
   },
   {
    "duration": 11,
    "start_time": "2021-11-18T17:58:20.502Z"
   },
   {
    "duration": 22,
    "start_time": "2021-11-18T17:58:39.943Z"
   },
   {
    "duration": 12,
    "start_time": "2021-11-18T17:58:50.495Z"
   },
   {
    "duration": 21,
    "start_time": "2021-11-18T17:59:37.230Z"
   },
   {
    "duration": 10,
    "start_time": "2021-11-18T18:01:26.957Z"
   },
   {
    "duration": 2,
    "start_time": "2021-11-18T18:10:07.023Z"
   },
   {
    "duration": 137,
    "start_time": "2021-11-18T18:10:07.027Z"
   },
   {
    "duration": 10,
    "start_time": "2021-11-18T18:10:07.166Z"
   },
   {
    "duration": 32,
    "start_time": "2021-11-18T18:10:07.178Z"
   },
   {
    "duration": 18,
    "start_time": "2021-11-18T18:10:07.211Z"
   },
   {
    "duration": 31,
    "start_time": "2021-11-18T18:10:07.230Z"
   },
   {
    "duration": 4,
    "start_time": "2021-11-18T18:10:07.263Z"
   },
   {
    "duration": 43,
    "start_time": "2021-11-18T18:10:07.268Z"
   },
   {
    "duration": 40,
    "start_time": "2021-11-18T18:10:07.313Z"
   },
   {
    "duration": 24,
    "start_time": "2021-11-18T18:10:07.355Z"
   },
   {
    "duration": 61,
    "start_time": "2021-11-18T18:10:07.381Z"
   },
   {
    "duration": 62,
    "start_time": "2021-11-18T18:10:07.443Z"
   },
   {
    "duration": 48,
    "start_time": "2021-11-18T18:10:07.507Z"
   },
   {
    "duration": 7,
    "start_time": "2021-11-18T18:10:07.556Z"
   },
   {
    "duration": 22,
    "start_time": "2021-11-18T18:10:07.564Z"
   },
   {
    "duration": 25,
    "start_time": "2021-11-18T18:10:07.587Z"
   },
   {
    "duration": 23,
    "start_time": "2021-11-18T18:10:07.613Z"
   },
   {
    "duration": 27,
    "start_time": "2021-11-18T18:10:07.638Z"
   },
   {
    "duration": 20,
    "start_time": "2021-11-18T18:10:07.666Z"
   },
   {
    "duration": 33,
    "start_time": "2021-11-18T18:10:07.688Z"
   },
   {
    "duration": 28,
    "start_time": "2021-11-18T18:10:07.723Z"
   },
   {
    "duration": 29,
    "start_time": "2021-11-18T18:10:07.752Z"
   },
   {
    "duration": 45,
    "start_time": "2021-11-18T18:10:07.782Z"
   },
   {
    "duration": 38,
    "start_time": "2021-11-18T18:10:07.829Z"
   },
   {
    "duration": 46,
    "start_time": "2021-11-18T18:10:07.869Z"
   },
   {
    "duration": 34,
    "start_time": "2021-11-18T18:10:07.916Z"
   },
   {
    "duration": 19,
    "start_time": "2021-11-18T18:10:07.952Z"
   },
   {
    "duration": 25,
    "start_time": "2021-11-18T18:10:07.972Z"
   },
   {
    "duration": 42,
    "start_time": "2021-11-18T18:10:07.999Z"
   },
   {
    "duration": 16,
    "start_time": "2021-11-18T18:10:08.043Z"
   },
   {
    "duration": 650,
    "start_time": "2021-11-18T18:10:08.061Z"
   },
   {
    "duration": 651,
    "start_time": "2021-11-18T18:10:08.061Z"
   },
   {
    "duration": 648,
    "start_time": "2021-11-18T18:10:08.065Z"
   },
   {
    "duration": 647,
    "start_time": "2021-11-18T18:10:08.067Z"
   },
   {
    "duration": 647,
    "start_time": "2021-11-18T18:10:08.068Z"
   },
   {
    "duration": 647,
    "start_time": "2021-11-18T18:10:08.069Z"
   },
   {
    "duration": 646,
    "start_time": "2021-11-18T18:10:08.071Z"
   },
   {
    "duration": 646,
    "start_time": "2021-11-18T18:10:08.072Z"
   },
   {
    "duration": 401,
    "start_time": "2021-11-18T18:10:57.745Z"
   },
   {
    "duration": 2,
    "start_time": "2021-11-18T18:11:05.686Z"
   },
   {
    "duration": 141,
    "start_time": "2021-11-18T18:11:05.690Z"
   },
   {
    "duration": 10,
    "start_time": "2021-11-18T18:11:05.833Z"
   },
   {
    "duration": 27,
    "start_time": "2021-11-18T18:11:05.845Z"
   },
   {
    "duration": 20,
    "start_time": "2021-11-18T18:11:05.873Z"
   },
   {
    "duration": 17,
    "start_time": "2021-11-18T18:11:05.894Z"
   },
   {
    "duration": 3,
    "start_time": "2021-11-18T18:11:05.913Z"
   },
   {
    "duration": 24,
    "start_time": "2021-11-18T18:11:05.919Z"
   },
   {
    "duration": 18,
    "start_time": "2021-11-18T18:11:05.944Z"
   },
   {
    "duration": 46,
    "start_time": "2021-11-18T18:11:05.964Z"
   },
   {
    "duration": 60,
    "start_time": "2021-11-18T18:11:06.011Z"
   },
   {
    "duration": 68,
    "start_time": "2021-11-18T18:11:06.072Z"
   },
   {
    "duration": 54,
    "start_time": "2021-11-18T18:11:06.142Z"
   },
   {
    "duration": 6,
    "start_time": "2021-11-18T18:11:06.198Z"
   },
   {
    "duration": 5,
    "start_time": "2021-11-18T18:11:06.206Z"
   },
   {
    "duration": 13,
    "start_time": "2021-11-18T18:11:06.213Z"
   },
   {
    "duration": 6,
    "start_time": "2021-11-18T18:11:06.227Z"
   },
   {
    "duration": 11,
    "start_time": "2021-11-18T18:11:06.235Z"
   },
   {
    "duration": 10,
    "start_time": "2021-11-18T18:11:06.248Z"
   },
   {
    "duration": 2,
    "start_time": "2021-11-18T18:11:06.292Z"
   },
   {
    "duration": 20,
    "start_time": "2021-11-18T18:11:06.296Z"
   },
   {
    "duration": 13,
    "start_time": "2021-11-18T18:11:06.317Z"
   },
   {
    "duration": 13,
    "start_time": "2021-11-18T18:11:06.333Z"
   },
   {
    "duration": 12,
    "start_time": "2021-11-18T18:11:06.348Z"
   },
   {
    "duration": 40,
    "start_time": "2021-11-18T18:11:06.361Z"
   },
   {
    "duration": 12,
    "start_time": "2021-11-18T18:11:06.403Z"
   },
   {
    "duration": 20,
    "start_time": "2021-11-18T18:11:06.417Z"
   },
   {
    "duration": 18,
    "start_time": "2021-11-18T18:11:06.438Z"
   },
   {
    "duration": 16,
    "start_time": "2021-11-18T18:11:06.457Z"
   },
   {
    "duration": 4,
    "start_time": "2021-11-18T18:11:06.475Z"
   },
   {
    "duration": 364,
    "start_time": "2021-11-18T18:11:06.480Z"
   },
   {
    "duration": 646,
    "start_time": "2021-11-18T18:11:06.200Z"
   },
   {
    "duration": 642,
    "start_time": "2021-11-18T18:11:06.205Z"
   },
   {
    "duration": 638,
    "start_time": "2021-11-18T18:11:06.210Z"
   },
   {
    "duration": 636,
    "start_time": "2021-11-18T18:11:06.213Z"
   },
   {
    "duration": 635,
    "start_time": "2021-11-18T18:11:06.214Z"
   },
   {
    "duration": 634,
    "start_time": "2021-11-18T18:11:06.216Z"
   },
   {
    "duration": 634,
    "start_time": "2021-11-18T18:11:06.217Z"
   },
   {
    "duration": 386,
    "start_time": "2021-11-18T18:13:35.335Z"
   },
   {
    "duration": 3,
    "start_time": "2021-11-18T18:13:43.636Z"
   },
   {
    "duration": 166,
    "start_time": "2021-11-18T18:13:43.641Z"
   },
   {
    "duration": 10,
    "start_time": "2021-11-18T18:13:43.809Z"
   },
   {
    "duration": 29,
    "start_time": "2021-11-18T18:13:43.821Z"
   },
   {
    "duration": 11,
    "start_time": "2021-11-18T18:13:43.851Z"
   },
   {
    "duration": 39,
    "start_time": "2021-11-18T18:13:43.864Z"
   },
   {
    "duration": 4,
    "start_time": "2021-11-18T18:13:43.905Z"
   },
   {
    "duration": 35,
    "start_time": "2021-11-18T18:13:43.912Z"
   },
   {
    "duration": 26,
    "start_time": "2021-11-18T18:13:43.949Z"
   },
   {
    "duration": 43,
    "start_time": "2021-11-18T18:13:43.977Z"
   },
   {
    "duration": 67,
    "start_time": "2021-11-18T18:13:44.021Z"
   },
   {
    "duration": 72,
    "start_time": "2021-11-18T18:13:44.089Z"
   },
   {
    "duration": 73,
    "start_time": "2021-11-18T18:13:44.162Z"
   },
   {
    "duration": 8,
    "start_time": "2021-11-18T18:13:44.237Z"
   },
   {
    "duration": 7,
    "start_time": "2021-11-18T18:13:44.247Z"
   },
   {
    "duration": 13,
    "start_time": "2021-11-18T18:13:44.256Z"
   },
   {
    "duration": 28,
    "start_time": "2021-11-18T18:13:44.270Z"
   },
   {
    "duration": 21,
    "start_time": "2021-11-18T18:13:44.300Z"
   },
   {
    "duration": 11,
    "start_time": "2021-11-18T18:13:44.322Z"
   },
   {
    "duration": 3,
    "start_time": "2021-11-18T18:13:44.334Z"
   },
   {
    "duration": 17,
    "start_time": "2021-11-18T18:13:44.339Z"
   },
   {
    "duration": 35,
    "start_time": "2021-11-18T18:13:44.358Z"
   },
   {
    "duration": 18,
    "start_time": "2021-11-18T18:13:44.398Z"
   },
   {
    "duration": 17,
    "start_time": "2021-11-18T18:13:44.418Z"
   },
   {
    "duration": 16,
    "start_time": "2021-11-18T18:13:44.437Z"
   },
   {
    "duration": 44,
    "start_time": "2021-11-18T18:13:44.454Z"
   },
   {
    "duration": 11,
    "start_time": "2021-11-18T18:13:44.500Z"
   },
   {
    "duration": 16,
    "start_time": "2021-11-18T18:13:44.513Z"
   },
   {
    "duration": 15,
    "start_time": "2021-11-18T18:13:44.530Z"
   },
   {
    "duration": 3,
    "start_time": "2021-11-18T18:13:44.547Z"
   },
   {
    "duration": 381,
    "start_time": "2021-11-18T18:13:44.552Z"
   },
   {
    "duration": 638,
    "start_time": "2021-11-18T18:13:44.296Z"
   },
   {
    "duration": 637,
    "start_time": "2021-11-18T18:13:44.299Z"
   },
   {
    "duration": 638,
    "start_time": "2021-11-18T18:13:44.300Z"
   },
   {
    "duration": 635,
    "start_time": "2021-11-18T18:13:44.304Z"
   },
   {
    "duration": 632,
    "start_time": "2021-11-18T18:13:44.308Z"
   },
   {
    "duration": 631,
    "start_time": "2021-11-18T18:13:44.310Z"
   },
   {
    "duration": 631,
    "start_time": "2021-11-18T18:13:44.311Z"
   },
   {
    "duration": 2,
    "start_time": "2021-11-18T18:14:28.860Z"
   },
   {
    "duration": 167,
    "start_time": "2021-11-18T18:14:28.864Z"
   },
   {
    "duration": 10,
    "start_time": "2021-11-18T18:14:29.033Z"
   },
   {
    "duration": 43,
    "start_time": "2021-11-18T18:14:29.044Z"
   },
   {
    "duration": 5,
    "start_time": "2021-11-18T18:14:29.089Z"
   },
   {
    "duration": 37,
    "start_time": "2021-11-18T18:14:29.099Z"
   },
   {
    "duration": 4,
    "start_time": "2021-11-18T18:14:29.137Z"
   },
   {
    "duration": 36,
    "start_time": "2021-11-18T18:14:29.143Z"
   },
   {
    "duration": 36,
    "start_time": "2021-11-18T18:14:29.181Z"
   },
   {
    "duration": 38,
    "start_time": "2021-11-18T18:14:29.219Z"
   },
   {
    "duration": 65,
    "start_time": "2021-11-18T18:14:29.258Z"
   },
   {
    "duration": 57,
    "start_time": "2021-11-18T18:14:29.325Z"
   },
   {
    "duration": 62,
    "start_time": "2021-11-18T18:14:29.384Z"
   },
   {
    "duration": 6,
    "start_time": "2021-11-18T18:14:29.447Z"
   },
   {
    "duration": 5,
    "start_time": "2021-11-18T18:14:29.454Z"
   },
   {
    "duration": 32,
    "start_time": "2021-11-18T18:14:29.460Z"
   },
   {
    "duration": 12,
    "start_time": "2021-11-18T18:14:29.494Z"
   },
   {
    "duration": 11,
    "start_time": "2021-11-18T18:14:29.508Z"
   },
   {
    "duration": 11,
    "start_time": "2021-11-18T18:14:29.521Z"
   },
   {
    "duration": 3,
    "start_time": "2021-11-18T18:14:29.533Z"
   },
   {
    "duration": 18,
    "start_time": "2021-11-18T18:14:29.538Z"
   },
   {
    "duration": 44,
    "start_time": "2021-11-18T18:14:29.558Z"
   },
   {
    "duration": 16,
    "start_time": "2021-11-18T18:14:29.606Z"
   },
   {
    "duration": 15,
    "start_time": "2021-11-18T18:14:29.624Z"
   },
   {
    "duration": 19,
    "start_time": "2021-11-18T18:14:29.640Z"
   },
   {
    "duration": 49,
    "start_time": "2021-11-18T18:14:29.660Z"
   },
   {
    "duration": 10,
    "start_time": "2021-11-18T18:14:29.710Z"
   },
   {
    "duration": 19,
    "start_time": "2021-11-18T18:14:29.721Z"
   },
   {
    "duration": 10,
    "start_time": "2021-11-18T18:14:29.741Z"
   },
   {
    "duration": 3,
    "start_time": "2021-11-18T18:14:29.753Z"
   },
   {
    "duration": 436,
    "start_time": "2021-11-18T18:14:29.757Z"
   },
   {
    "duration": 644,
    "start_time": "2021-11-18T18:14:29.551Z"
   },
   {
    "duration": 641,
    "start_time": "2021-11-18T18:14:29.555Z"
   },
   {
    "duration": 638,
    "start_time": "2021-11-18T18:14:29.559Z"
   },
   {
    "duration": 638,
    "start_time": "2021-11-18T18:14:29.561Z"
   },
   {
    "duration": 639,
    "start_time": "2021-11-18T18:14:29.562Z"
   },
   {
    "duration": 638,
    "start_time": "2021-11-18T18:14:29.564Z"
   },
   {
    "duration": 638,
    "start_time": "2021-11-18T18:14:29.565Z"
   },
   {
    "duration": 2,
    "start_time": "2021-11-18T18:14:52.203Z"
   },
   {
    "duration": 144,
    "start_time": "2021-11-18T18:14:52.207Z"
   },
   {
    "duration": 9,
    "start_time": "2021-11-18T18:14:52.352Z"
   },
   {
    "duration": 34,
    "start_time": "2021-11-18T18:14:52.363Z"
   },
   {
    "duration": 5,
    "start_time": "2021-11-18T18:14:52.399Z"
   },
   {
    "duration": 18,
    "start_time": "2021-11-18T18:14:52.406Z"
   },
   {
    "duration": 4,
    "start_time": "2021-11-18T18:14:52.426Z"
   },
   {
    "duration": 25,
    "start_time": "2021-11-18T18:14:52.433Z"
   },
   {
    "duration": 50,
    "start_time": "2021-11-18T18:14:52.460Z"
   },
   {
    "duration": 25,
    "start_time": "2021-11-18T18:14:52.511Z"
   },
   {
    "duration": 75,
    "start_time": "2021-11-18T18:14:52.538Z"
   },
   {
    "duration": 62,
    "start_time": "2021-11-18T18:14:52.614Z"
   },
   {
    "duration": 65,
    "start_time": "2021-11-18T18:14:52.678Z"
   },
   {
    "duration": 6,
    "start_time": "2021-11-18T18:14:52.744Z"
   },
   {
    "duration": 5,
    "start_time": "2021-11-18T18:14:52.752Z"
   },
   {
    "duration": 16,
    "start_time": "2021-11-18T18:14:52.758Z"
   },
   {
    "duration": 25,
    "start_time": "2021-11-18T18:14:52.775Z"
   },
   {
    "duration": 14,
    "start_time": "2021-11-18T18:14:52.801Z"
   },
   {
    "duration": 12,
    "start_time": "2021-11-18T18:14:52.817Z"
   },
   {
    "duration": 3,
    "start_time": "2021-11-18T18:14:52.830Z"
   },
   {
    "duration": 23,
    "start_time": "2021-11-18T18:14:52.835Z"
   },
   {
    "duration": 38,
    "start_time": "2021-11-18T18:14:52.860Z"
   },
   {
    "duration": 14,
    "start_time": "2021-11-18T18:14:52.902Z"
   },
   {
    "duration": 12,
    "start_time": "2021-11-18T18:14:52.918Z"
   },
   {
    "duration": 14,
    "start_time": "2021-11-18T18:14:52.932Z"
   },
   {
    "duration": 20,
    "start_time": "2021-11-18T18:14:52.947Z"
   },
   {
    "duration": 37,
    "start_time": "2021-11-18T18:14:52.968Z"
   },
   {
    "duration": 26,
    "start_time": "2021-11-18T18:14:53.007Z"
   },
   {
    "duration": 15,
    "start_time": "2021-11-18T18:14:53.035Z"
   },
   {
    "duration": 4,
    "start_time": "2021-11-18T18:14:53.052Z"
   },
   {
    "duration": 29,
    "start_time": "2021-11-18T18:14:53.058Z"
   },
   {
    "duration": 9,
    "start_time": "2021-11-18T18:14:53.089Z"
   },
   {
    "duration": 16,
    "start_time": "2021-11-18T18:14:53.099Z"
   },
   {
    "duration": 14,
    "start_time": "2021-11-18T18:14:53.117Z"
   },
   {
    "duration": 11,
    "start_time": "2021-11-18T18:14:53.133Z"
   },
   {
    "duration": 12,
    "start_time": "2021-11-18T18:14:53.145Z"
   },
   {
    "duration": 6,
    "start_time": "2021-11-18T18:14:53.159Z"
   },
   {
    "duration": 5,
    "start_time": "2021-11-18T18:14:53.167Z"
   },
   {
    "duration": 2,
    "start_time": "2021-11-18T18:16:04.850Z"
   },
   {
    "duration": 154,
    "start_time": "2021-11-18T18:16:04.853Z"
   },
   {
    "duration": 9,
    "start_time": "2021-11-18T18:16:05.009Z"
   },
   {
    "duration": 52,
    "start_time": "2021-11-18T18:16:05.019Z"
   },
   {
    "duration": 23,
    "start_time": "2021-11-18T18:16:05.072Z"
   },
   {
    "duration": 25,
    "start_time": "2021-11-18T18:16:05.097Z"
   },
   {
    "duration": 5,
    "start_time": "2021-11-18T18:16:05.124Z"
   },
   {
    "duration": 54,
    "start_time": "2021-11-18T18:16:05.132Z"
   },
   {
    "duration": 20,
    "start_time": "2021-11-18T18:16:05.189Z"
   },
   {
    "duration": 33,
    "start_time": "2021-11-18T18:16:05.211Z"
   },
   {
    "duration": 59,
    "start_time": "2021-11-18T18:16:05.245Z"
   },
   {
    "duration": 59,
    "start_time": "2021-11-18T18:16:05.305Z"
   },
   {
    "duration": 64,
    "start_time": "2021-11-18T18:16:05.366Z"
   },
   {
    "duration": 6,
    "start_time": "2021-11-18T18:16:05.432Z"
   },
   {
    "duration": 11,
    "start_time": "2021-11-18T18:16:05.440Z"
   },
   {
    "duration": 12,
    "start_time": "2021-11-18T18:16:05.452Z"
   },
   {
    "duration": 6,
    "start_time": "2021-11-18T18:16:05.466Z"
   },
   {
    "duration": 25,
    "start_time": "2021-11-18T18:16:05.474Z"
   },
   {
    "duration": 16,
    "start_time": "2021-11-18T18:16:05.500Z"
   },
   {
    "duration": 3,
    "start_time": "2021-11-18T18:16:05.517Z"
   },
   {
    "duration": 20,
    "start_time": "2021-11-18T18:16:05.522Z"
   },
   {
    "duration": 23,
    "start_time": "2021-11-18T18:16:05.544Z"
   },
   {
    "duration": 26,
    "start_time": "2021-11-18T18:16:05.570Z"
   },
   {
    "duration": 15,
    "start_time": "2021-11-18T18:16:05.598Z"
   },
   {
    "duration": 16,
    "start_time": "2021-11-18T18:16:05.614Z"
   },
   {
    "duration": 14,
    "start_time": "2021-11-18T18:16:05.631Z"
   },
   {
    "duration": 15,
    "start_time": "2021-11-18T18:16:05.646Z"
   },
   {
    "duration": 32,
    "start_time": "2021-11-18T18:16:05.662Z"
   },
   {
    "duration": 11,
    "start_time": "2021-11-18T18:16:05.696Z"
   },
   {
    "duration": 4,
    "start_time": "2021-11-18T18:16:05.709Z"
   },
   {
    "duration": 582,
    "start_time": "2021-11-18T18:16:05.714Z"
   },
   {
    "duration": 646,
    "start_time": "2021-11-18T18:16:05.653Z"
   },
   {
    "duration": 643,
    "start_time": "2021-11-18T18:16:05.657Z"
   },
   {
    "duration": 643,
    "start_time": "2021-11-18T18:16:05.659Z"
   },
   {
    "duration": 643,
    "start_time": "2021-11-18T18:16:05.660Z"
   },
   {
    "duration": 643,
    "start_time": "2021-11-18T18:16:05.661Z"
   },
   {
    "duration": 644,
    "start_time": "2021-11-18T18:16:05.662Z"
   },
   {
    "duration": 644,
    "start_time": "2021-11-18T18:16:05.663Z"
   },
   {
    "duration": 4,
    "start_time": "2021-11-18T18:16:18.295Z"
   },
   {
    "duration": 23,
    "start_time": "2021-11-18T18:16:20.472Z"
   },
   {
    "duration": 4,
    "start_time": "2021-11-18T18:16:47.808Z"
   },
   {
    "duration": 344,
    "start_time": "2021-11-18T18:16:49.679Z"
   },
   {
    "duration": 4,
    "start_time": "2021-11-18T18:17:15.855Z"
   },
   {
    "duration": 23,
    "start_time": "2021-11-18T18:17:16.735Z"
   },
   {
    "duration": 56,
    "start_time": "2021-11-18T18:17:40.854Z"
   },
   {
    "duration": 23,
    "start_time": "2021-11-18T18:17:41.863Z"
   },
   {
    "duration": 59,
    "start_time": "2021-11-18T18:18:16.024Z"
   },
   {
    "duration": 3,
    "start_time": "2021-11-18T18:18:19.307Z"
   },
   {
    "duration": 150,
    "start_time": "2021-11-18T18:18:19.311Z"
   },
   {
    "duration": 31,
    "start_time": "2021-11-18T18:18:19.464Z"
   },
   {
    "duration": 29,
    "start_time": "2021-11-18T18:18:19.497Z"
   },
   {
    "duration": 3,
    "start_time": "2021-11-18T18:18:19.528Z"
   },
   {
    "duration": 19,
    "start_time": "2021-11-18T18:18:19.532Z"
   },
   {
    "duration": 3,
    "start_time": "2021-11-18T18:18:19.553Z"
   },
   {
    "duration": 46,
    "start_time": "2021-11-18T18:18:19.559Z"
   },
   {
    "duration": 19,
    "start_time": "2021-11-18T18:18:19.607Z"
   },
   {
    "duration": 27,
    "start_time": "2021-11-18T18:18:19.628Z"
   },
   {
    "duration": 84,
    "start_time": "2021-11-18T18:18:19.657Z"
   },
   {
    "duration": 72,
    "start_time": "2021-11-18T18:18:19.743Z"
   },
   {
    "duration": 53,
    "start_time": "2021-11-18T18:18:19.817Z"
   },
   {
    "duration": 24,
    "start_time": "2021-11-18T18:18:19.872Z"
   },
   {
    "duration": 3,
    "start_time": "2021-11-18T18:18:19.898Z"
   },
   {
    "duration": 10,
    "start_time": "2021-11-18T18:18:19.903Z"
   },
   {
    "duration": 7,
    "start_time": "2021-11-18T18:18:19.915Z"
   },
   {
    "duration": 14,
    "start_time": "2021-11-18T18:18:19.924Z"
   },
   {
    "duration": 14,
    "start_time": "2021-11-18T18:18:19.940Z"
   },
   {
    "duration": 38,
    "start_time": "2021-11-18T18:18:19.955Z"
   },
   {
    "duration": 18,
    "start_time": "2021-11-18T18:18:19.995Z"
   },
   {
    "duration": 19,
    "start_time": "2021-11-18T18:18:20.015Z"
   },
   {
    "duration": 16,
    "start_time": "2021-11-18T18:18:20.039Z"
   },
   {
    "duration": 35,
    "start_time": "2021-11-18T18:18:20.057Z"
   },
   {
    "duration": 17,
    "start_time": "2021-11-18T18:18:20.094Z"
   },
   {
    "duration": 14,
    "start_time": "2021-11-18T18:18:20.113Z"
   },
   {
    "duration": 10,
    "start_time": "2021-11-18T18:18:20.129Z"
   },
   {
    "duration": 14,
    "start_time": "2021-11-18T18:18:20.141Z"
   },
   {
    "duration": 41,
    "start_time": "2021-11-18T18:18:20.157Z"
   },
   {
    "duration": 68,
    "start_time": "2021-11-18T18:18:20.200Z"
   },
   {
    "duration": 652,
    "start_time": "2021-11-18T18:18:19.618Z"
   },
   {
    "duration": 648,
    "start_time": "2021-11-18T18:18:19.623Z"
   },
   {
    "duration": 646,
    "start_time": "2021-11-18T18:18:19.626Z"
   },
   {
    "duration": 645,
    "start_time": "2021-11-18T18:18:19.628Z"
   },
   {
    "duration": 645,
    "start_time": "2021-11-18T18:18:19.629Z"
   },
   {
    "duration": 644,
    "start_time": "2021-11-18T18:18:19.631Z"
   },
   {
    "duration": 644,
    "start_time": "2021-11-18T18:18:19.632Z"
   },
   {
    "duration": 644,
    "start_time": "2021-11-18T18:18:19.633Z"
   },
   {
    "duration": 3,
    "start_time": "2021-11-18T18:18:46.227Z"
   },
   {
    "duration": 148,
    "start_time": "2021-11-18T18:18:46.231Z"
   },
   {
    "duration": 12,
    "start_time": "2021-11-18T18:18:46.381Z"
   },
   {
    "duration": 32,
    "start_time": "2021-11-18T18:18:46.395Z"
   },
   {
    "duration": 4,
    "start_time": "2021-11-18T18:18:46.429Z"
   },
   {
    "duration": 16,
    "start_time": "2021-11-18T18:18:46.435Z"
   },
   {
    "duration": 4,
    "start_time": "2021-11-18T18:18:46.453Z"
   },
   {
    "duration": 55,
    "start_time": "2021-11-18T18:18:46.460Z"
   },
   {
    "duration": 21,
    "start_time": "2021-11-18T18:18:46.517Z"
   },
   {
    "duration": 24,
    "start_time": "2021-11-18T18:18:46.539Z"
   },
   {
    "duration": 80,
    "start_time": "2021-11-18T18:18:46.564Z"
   },
   {
    "duration": 73,
    "start_time": "2021-11-18T18:18:46.645Z"
   },
   {
    "duration": 54,
    "start_time": "2021-11-18T18:18:46.719Z"
   },
   {
    "duration": 18,
    "start_time": "2021-11-18T18:18:46.774Z"
   },
   {
    "duration": 3,
    "start_time": "2021-11-18T18:18:46.793Z"
   },
   {
    "duration": 13,
    "start_time": "2021-11-18T18:18:46.797Z"
   },
   {
    "duration": 7,
    "start_time": "2021-11-18T18:18:46.811Z"
   },
   {
    "duration": 14,
    "start_time": "2021-11-18T18:18:46.820Z"
   },
   {
    "duration": 12,
    "start_time": "2021-11-18T18:18:46.836Z"
   },
   {
    "duration": 3,
    "start_time": "2021-11-18T18:18:46.849Z"
   },
   {
    "duration": 47,
    "start_time": "2021-11-18T18:18:46.853Z"
   },
   {
    "duration": 14,
    "start_time": "2021-11-18T18:18:46.902Z"
   },
   {
    "duration": 14,
    "start_time": "2021-11-18T18:18:46.921Z"
   },
   {
    "duration": 13,
    "start_time": "2021-11-18T18:18:46.938Z"
   },
   {
    "duration": 49,
    "start_time": "2021-11-18T18:18:46.953Z"
   },
   {
    "duration": 15,
    "start_time": "2021-11-18T18:18:47.004Z"
   },
   {
    "duration": 9,
    "start_time": "2021-11-18T18:18:47.020Z"
   },
   {
    "duration": 17,
    "start_time": "2021-11-18T18:18:47.031Z"
   },
   {
    "duration": 42,
    "start_time": "2021-11-18T18:18:47.050Z"
   },
   {
    "duration": 5,
    "start_time": "2021-11-18T18:18:47.093Z"
   },
   {
    "duration": 27,
    "start_time": "2021-11-18T18:18:47.100Z"
   },
   {
    "duration": 2,
    "start_time": "2021-11-18T18:18:47.129Z"
   },
   {
    "duration": 7,
    "start_time": "2021-11-18T18:18:47.133Z"
   },
   {
    "duration": 5,
    "start_time": "2021-11-18T18:18:47.142Z"
   },
   {
    "duration": 4,
    "start_time": "2021-11-18T18:18:47.148Z"
   },
   {
    "duration": 5,
    "start_time": "2021-11-18T18:18:47.154Z"
   },
   {
    "duration": 7,
    "start_time": "2021-11-18T18:18:47.160Z"
   },
   {
    "duration": 25,
    "start_time": "2021-11-18T18:18:47.168Z"
   },
   {
    "duration": 3,
    "start_time": "2021-11-18T18:19:15.793Z"
   },
   {
    "duration": 147,
    "start_time": "2021-11-18T18:19:15.798Z"
   },
   {
    "duration": 9,
    "start_time": "2021-11-18T18:19:15.947Z"
   },
   {
    "duration": 37,
    "start_time": "2021-11-18T18:19:15.958Z"
   },
   {
    "duration": 4,
    "start_time": "2021-11-18T18:19:15.996Z"
   },
   {
    "duration": 19,
    "start_time": "2021-11-18T18:19:16.001Z"
   },
   {
    "duration": 4,
    "start_time": "2021-11-18T18:19:16.021Z"
   },
   {
    "duration": 27,
    "start_time": "2021-11-18T18:19:16.027Z"
   },
   {
    "duration": 38,
    "start_time": "2021-11-18T18:19:16.056Z"
   },
   {
    "duration": 25,
    "start_time": "2021-11-18T18:19:16.096Z"
   },
   {
    "duration": 69,
    "start_time": "2021-11-18T18:19:16.123Z"
   },
   {
    "duration": 65,
    "start_time": "2021-11-18T18:19:16.194Z"
   },
   {
    "duration": 67,
    "start_time": "2021-11-18T18:19:16.260Z"
   },
   {
    "duration": 6,
    "start_time": "2021-11-18T18:19:16.328Z"
   },
   {
    "duration": 4,
    "start_time": "2021-11-18T18:19:16.336Z"
   },
   {
    "duration": 12,
    "start_time": "2021-11-18T18:19:16.341Z"
   },
   {
    "duration": 6,
    "start_time": "2021-11-18T18:19:16.355Z"
   },
   {
    "duration": 35,
    "start_time": "2021-11-18T18:19:16.362Z"
   },
   {
    "duration": 9,
    "start_time": "2021-11-18T18:19:16.399Z"
   },
   {
    "duration": 4,
    "start_time": "2021-11-18T18:19:16.410Z"
   },
   {
    "duration": 20,
    "start_time": "2021-11-18T18:19:16.415Z"
   },
   {
    "duration": 12,
    "start_time": "2021-11-18T18:19:16.437Z"
   },
   {
    "duration": 41,
    "start_time": "2021-11-18T18:19:16.452Z"
   },
   {
    "duration": 13,
    "start_time": "2021-11-18T18:19:16.495Z"
   },
   {
    "duration": 15,
    "start_time": "2021-11-18T18:19:16.510Z"
   },
   {
    "duration": 12,
    "start_time": "2021-11-18T18:19:16.527Z"
   },
   {
    "duration": 9,
    "start_time": "2021-11-18T18:19:16.540Z"
   },
   {
    "duration": 45,
    "start_time": "2021-11-18T18:19:16.551Z"
   },
   {
    "duration": 12,
    "start_time": "2021-11-18T18:19:16.598Z"
   },
   {
    "duration": 4,
    "start_time": "2021-11-18T18:19:16.611Z"
   },
   {
    "duration": 28,
    "start_time": "2021-11-18T18:19:16.616Z"
   },
   {
    "duration": 2,
    "start_time": "2021-11-18T18:19:16.645Z"
   },
   {
    "duration": 5,
    "start_time": "2021-11-18T18:19:16.649Z"
   },
   {
    "duration": 7,
    "start_time": "2021-11-18T18:19:16.655Z"
   },
   {
    "duration": 4,
    "start_time": "2021-11-18T18:19:16.663Z"
   },
   {
    "duration": 23,
    "start_time": "2021-11-18T18:19:16.669Z"
   },
   {
    "duration": 5,
    "start_time": "2021-11-18T18:19:16.694Z"
   },
   {
    "duration": 13,
    "start_time": "2021-11-18T18:19:16.700Z"
   },
   {
    "duration": 26,
    "start_time": "2021-11-18T18:20:07.880Z"
   },
   {
    "duration": 3,
    "start_time": "2021-11-18T18:20:13.153Z"
   },
   {
    "duration": 148,
    "start_time": "2021-11-18T18:20:13.158Z"
   },
   {
    "duration": 9,
    "start_time": "2021-11-18T18:20:13.308Z"
   },
   {
    "duration": 28,
    "start_time": "2021-11-18T18:20:13.319Z"
   },
   {
    "duration": 4,
    "start_time": "2021-11-18T18:20:13.348Z"
   },
   {
    "duration": 15,
    "start_time": "2021-11-18T18:20:13.353Z"
   },
   {
    "duration": 4,
    "start_time": "2021-11-18T18:20:13.391Z"
   },
   {
    "duration": 28,
    "start_time": "2021-11-18T18:20:13.397Z"
   },
   {
    "duration": 18,
    "start_time": "2021-11-18T18:20:13.427Z"
   },
   {
    "duration": 24,
    "start_time": "2021-11-18T18:20:13.447Z"
   },
   {
    "duration": 59,
    "start_time": "2021-11-18T18:20:13.492Z"
   },
   {
    "duration": 73,
    "start_time": "2021-11-18T18:20:13.553Z"
   },
   {
    "duration": 64,
    "start_time": "2021-11-18T18:20:13.628Z"
   },
   {
    "duration": 12,
    "start_time": "2021-11-18T18:20:13.693Z"
   },
   {
    "duration": 4,
    "start_time": "2021-11-18T18:20:13.707Z"
   },
   {
    "duration": 11,
    "start_time": "2021-11-18T18:20:13.712Z"
   },
   {
    "duration": 6,
    "start_time": "2021-11-18T18:20:13.724Z"
   },
   {
    "duration": 11,
    "start_time": "2021-11-18T18:20:13.732Z"
   },
   {
    "duration": 11,
    "start_time": "2021-11-18T18:20:13.744Z"
   },
   {
    "duration": 3,
    "start_time": "2021-11-18T18:20:13.756Z"
   },
   {
    "duration": 45,
    "start_time": "2021-11-18T18:20:13.761Z"
   },
   {
    "duration": 12,
    "start_time": "2021-11-18T18:20:13.808Z"
   },
   {
    "duration": 14,
    "start_time": "2021-11-18T18:20:13.824Z"
   },
   {
    "duration": 12,
    "start_time": "2021-11-18T18:20:13.840Z"
   },
   {
    "duration": 45,
    "start_time": "2021-11-18T18:20:13.854Z"
   },
   {
    "duration": 13,
    "start_time": "2021-11-18T18:20:13.901Z"
   },
   {
    "duration": 8,
    "start_time": "2021-11-18T18:20:13.916Z"
   },
   {
    "duration": 17,
    "start_time": "2021-11-18T18:20:13.925Z"
   },
   {
    "duration": 11,
    "start_time": "2021-11-18T18:20:13.943Z"
   },
   {
    "duration": 7,
    "start_time": "2021-11-18T18:20:13.955Z"
   },
   {
    "duration": 381,
    "start_time": "2021-11-18T18:20:13.992Z"
   },
   {
    "duration": 646,
    "start_time": "2021-11-18T18:20:13.729Z"
   },
   {
    "duration": 644,
    "start_time": "2021-11-18T18:20:13.732Z"
   },
   {
    "duration": 644,
    "start_time": "2021-11-18T18:20:13.733Z"
   },
   {
    "duration": 637,
    "start_time": "2021-11-18T18:20:13.741Z"
   },
   {
    "duration": 636,
    "start_time": "2021-11-18T18:20:13.743Z"
   },
   {
    "duration": 635,
    "start_time": "2021-11-18T18:20:13.745Z"
   },
   {
    "duration": 635,
    "start_time": "2021-11-18T18:20:13.746Z"
   },
   {
    "duration": 3,
    "start_time": "2021-11-18T18:20:28.147Z"
   },
   {
    "duration": 146,
    "start_time": "2021-11-18T18:20:28.151Z"
   },
   {
    "duration": 10,
    "start_time": "2021-11-18T18:20:28.300Z"
   },
   {
    "duration": 33,
    "start_time": "2021-11-18T18:20:28.312Z"
   },
   {
    "duration": 4,
    "start_time": "2021-11-18T18:20:28.347Z"
   },
   {
    "duration": 40,
    "start_time": "2021-11-18T18:20:28.352Z"
   },
   {
    "duration": 4,
    "start_time": "2021-11-18T18:20:28.393Z"
   },
   {
    "duration": 60,
    "start_time": "2021-11-18T18:20:28.399Z"
   },
   {
    "duration": 22,
    "start_time": "2021-11-18T18:20:28.461Z"
   },
   {
    "duration": 26,
    "start_time": "2021-11-18T18:20:28.484Z"
   },
   {
    "duration": 70,
    "start_time": "2021-11-18T18:20:28.512Z"
   },
   {
    "duration": 62,
    "start_time": "2021-11-18T18:20:28.584Z"
   },
   {
    "duration": 66,
    "start_time": "2021-11-18T18:20:28.647Z"
   },
   {
    "duration": 6,
    "start_time": "2021-11-18T18:20:28.714Z"
   },
   {
    "duration": 3,
    "start_time": "2021-11-18T18:20:28.721Z"
   },
   {
    "duration": 13,
    "start_time": "2021-11-18T18:20:28.726Z"
   },
   {
    "duration": 7,
    "start_time": "2021-11-18T18:20:28.740Z"
   },
   {
    "duration": 11,
    "start_time": "2021-11-18T18:20:28.748Z"
   },
   {
    "duration": 37,
    "start_time": "2021-11-18T18:20:28.760Z"
   },
   {
    "duration": 3,
    "start_time": "2021-11-18T18:20:28.799Z"
   },
   {
    "duration": 19,
    "start_time": "2021-11-18T18:20:28.803Z"
   },
   {
    "duration": 14,
    "start_time": "2021-11-18T18:20:28.824Z"
   },
   {
    "duration": 15,
    "start_time": "2021-11-18T18:20:28.841Z"
   },
   {
    "duration": 39,
    "start_time": "2021-11-18T18:20:28.858Z"
   },
   {
    "duration": 16,
    "start_time": "2021-11-18T18:20:28.899Z"
   },
   {
    "duration": 13,
    "start_time": "2021-11-18T18:20:28.916Z"
   },
   {
    "duration": 8,
    "start_time": "2021-11-18T18:20:28.930Z"
   },
   {
    "duration": 14,
    "start_time": "2021-11-18T18:20:28.939Z"
   },
   {
    "duration": 38,
    "start_time": "2021-11-18T18:20:28.955Z"
   },
   {
    "duration": 3,
    "start_time": "2021-11-18T18:20:28.995Z"
   },
   {
    "duration": 31,
    "start_time": "2021-11-18T18:20:29.000Z"
   },
   {
    "duration": 2,
    "start_time": "2021-11-18T18:20:29.032Z"
   },
   {
    "duration": 6,
    "start_time": "2021-11-18T18:20:29.036Z"
   },
   {
    "duration": 6,
    "start_time": "2021-11-18T18:20:29.043Z"
   },
   {
    "duration": 6,
    "start_time": "2021-11-18T18:20:29.050Z"
   },
   {
    "duration": 6,
    "start_time": "2021-11-18T18:20:29.057Z"
   },
   {
    "duration": 6,
    "start_time": "2021-11-18T18:20:29.064Z"
   },
   {
    "duration": 4,
    "start_time": "2021-11-18T18:20:29.072Z"
   },
   {
    "duration": 4,
    "start_time": "2021-11-18T18:22:46.509Z"
   },
   {
    "duration": 361,
    "start_time": "2021-11-18T18:22:49.388Z"
   },
   {
    "duration": 4,
    "start_time": "2021-11-18T18:23:06.653Z"
   },
   {
    "duration": 390,
    "start_time": "2021-11-18T18:23:08.368Z"
   },
   {
    "duration": 3,
    "start_time": "2021-11-18T18:23:19.687Z"
   },
   {
    "duration": 158,
    "start_time": "2021-11-18T18:23:19.692Z"
   },
   {
    "duration": 12,
    "start_time": "2021-11-18T18:23:19.853Z"
   },
   {
    "duration": 41,
    "start_time": "2021-11-18T18:23:19.867Z"
   },
   {
    "duration": 4,
    "start_time": "2021-11-18T18:23:19.910Z"
   },
   {
    "duration": 23,
    "start_time": "2021-11-18T18:23:19.916Z"
   },
   {
    "duration": 5,
    "start_time": "2021-11-18T18:23:19.940Z"
   },
   {
    "duration": 50,
    "start_time": "2021-11-18T18:23:19.947Z"
   },
   {
    "duration": 20,
    "start_time": "2021-11-18T18:23:20.000Z"
   },
   {
    "duration": 32,
    "start_time": "2021-11-18T18:23:20.022Z"
   },
   {
    "duration": 97,
    "start_time": "2021-11-18T18:23:20.057Z"
   },
   {
    "duration": 77,
    "start_time": "2021-11-18T18:23:20.156Z"
   },
   {
    "duration": 66,
    "start_time": "2021-11-18T18:23:20.235Z"
   },
   {
    "duration": 7,
    "start_time": "2021-11-18T18:23:20.304Z"
   },
   {
    "duration": 3,
    "start_time": "2021-11-18T18:23:20.313Z"
   },
   {
    "duration": 13,
    "start_time": "2021-11-18T18:23:20.317Z"
   },
   {
    "duration": 8,
    "start_time": "2021-11-18T18:23:20.331Z"
   },
   {
    "duration": 15,
    "start_time": "2021-11-18T18:23:20.340Z"
   },
   {
    "duration": 14,
    "start_time": "2021-11-18T18:23:20.391Z"
   },
   {
    "duration": 4,
    "start_time": "2021-11-18T18:23:20.407Z"
   },
   {
    "duration": 18,
    "start_time": "2021-11-18T18:23:20.413Z"
   },
   {
    "duration": 14,
    "start_time": "2021-11-18T18:23:20.433Z"
   },
   {
    "duration": 49,
    "start_time": "2021-11-18T18:23:20.449Z"
   },
   {
    "duration": 14,
    "start_time": "2021-11-18T18:23:20.500Z"
   },
   {
    "duration": 16,
    "start_time": "2021-11-18T18:23:20.516Z"
   },
   {
    "duration": 14,
    "start_time": "2021-11-18T18:23:20.533Z"
   },
   {
    "duration": 40,
    "start_time": "2021-11-18T18:23:20.551Z"
   },
   {
    "duration": 12,
    "start_time": "2021-11-18T18:23:20.594Z"
   },
   {
    "duration": 13,
    "start_time": "2021-11-18T18:23:20.607Z"
   },
   {
    "duration": 5,
    "start_time": "2021-11-18T18:23:20.621Z"
   },
   {
    "duration": 403,
    "start_time": "2021-11-18T18:23:20.628Z"
   },
   {
    "duration": 648,
    "start_time": "2021-11-18T18:23:20.385Z"
   },
   {
    "duration": 641,
    "start_time": "2021-11-18T18:23:20.393Z"
   },
   {
    "duration": 639,
    "start_time": "2021-11-18T18:23:20.396Z"
   },
   {
    "duration": 639,
    "start_time": "2021-11-18T18:23:20.397Z"
   },
   {
    "duration": 637,
    "start_time": "2021-11-18T18:23:20.399Z"
   },
   {
    "duration": 637,
    "start_time": "2021-11-18T18:23:20.400Z"
   },
   {
    "duration": 636,
    "start_time": "2021-11-18T18:23:20.402Z"
   },
   {
    "duration": 3,
    "start_time": "2021-11-18T18:23:39.441Z"
   },
   {
    "duration": 132,
    "start_time": "2021-11-18T18:23:39.446Z"
   },
   {
    "duration": 13,
    "start_time": "2021-11-18T18:23:39.580Z"
   },
   {
    "duration": 27,
    "start_time": "2021-11-18T18:23:39.595Z"
   },
   {
    "duration": 3,
    "start_time": "2021-11-18T18:23:39.624Z"
   },
   {
    "duration": 21,
    "start_time": "2021-11-18T18:23:39.629Z"
   },
   {
    "duration": 4,
    "start_time": "2021-11-18T18:23:39.652Z"
   },
   {
    "duration": 53,
    "start_time": "2021-11-18T18:23:39.658Z"
   },
   {
    "duration": 19,
    "start_time": "2021-11-18T18:23:39.713Z"
   },
   {
    "duration": 24,
    "start_time": "2021-11-18T18:23:39.733Z"
   },
   {
    "duration": 79,
    "start_time": "2021-11-18T18:23:39.759Z"
   },
   {
    "duration": 67,
    "start_time": "2021-11-18T18:23:39.840Z"
   },
   {
    "duration": 53,
    "start_time": "2021-11-18T18:23:39.909Z"
   },
   {
    "duration": 6,
    "start_time": "2021-11-18T18:23:39.964Z"
   },
   {
    "duration": 20,
    "start_time": "2021-11-18T18:23:39.972Z"
   },
   {
    "duration": 33,
    "start_time": "2021-11-18T18:23:39.994Z"
   },
   {
    "duration": 19,
    "start_time": "2021-11-18T18:23:40.029Z"
   },
   {
    "duration": 33,
    "start_time": "2021-11-18T18:23:40.050Z"
   },
   {
    "duration": 11,
    "start_time": "2021-11-18T18:23:40.085Z"
   },
   {
    "duration": 7,
    "start_time": "2021-11-18T18:23:40.098Z"
   },
   {
    "duration": 23,
    "start_time": "2021-11-18T18:23:40.106Z"
   },
   {
    "duration": 36,
    "start_time": "2021-11-18T18:23:40.131Z"
   },
   {
    "duration": 14,
    "start_time": "2021-11-18T18:23:40.170Z"
   },
   {
    "duration": 24,
    "start_time": "2021-11-18T18:23:40.186Z"
   },
   {
    "duration": 22,
    "start_time": "2021-11-18T18:23:40.212Z"
   },
   {
    "duration": 33,
    "start_time": "2021-11-18T18:23:40.235Z"
   },
   {
    "duration": 25,
    "start_time": "2021-11-18T18:23:40.270Z"
   },
   {
    "duration": 25,
    "start_time": "2021-11-18T18:23:40.296Z"
   },
   {
    "duration": 15,
    "start_time": "2021-11-18T18:23:40.322Z"
   },
   {
    "duration": 17,
    "start_time": "2021-11-18T18:23:40.338Z"
   },
   {
    "duration": 52,
    "start_time": "2021-11-18T18:23:40.356Z"
   },
   {
    "duration": 9,
    "start_time": "2021-11-18T18:23:40.410Z"
   },
   {
    "duration": 20,
    "start_time": "2021-11-18T18:23:40.420Z"
   },
   {
    "duration": 18,
    "start_time": "2021-11-18T18:23:40.441Z"
   },
   {
    "duration": 4,
    "start_time": "2021-11-18T18:23:40.460Z"
   },
   {
    "duration": 10,
    "start_time": "2021-11-18T18:23:40.466Z"
   },
   {
    "duration": 6,
    "start_time": "2021-11-18T18:23:40.477Z"
   },
   {
    "duration": 9,
    "start_time": "2021-11-18T18:23:40.484Z"
   },
   {
    "duration": 2,
    "start_time": "2021-11-18T18:26:02.001Z"
   },
   {
    "duration": 204,
    "start_time": "2021-11-18T18:26:02.005Z"
   },
   {
    "duration": 9,
    "start_time": "2021-11-18T18:26:02.211Z"
   },
   {
    "duration": 79,
    "start_time": "2021-11-18T18:26:02.222Z"
   },
   {
    "duration": 29,
    "start_time": "2021-11-18T18:26:02.303Z"
   },
   {
    "duration": 46,
    "start_time": "2021-11-18T18:26:02.334Z"
   },
   {
    "duration": 36,
    "start_time": "2021-11-18T18:26:02.381Z"
   },
   {
    "duration": 40,
    "start_time": "2021-11-18T18:26:02.420Z"
   },
   {
    "duration": 49,
    "start_time": "2021-11-18T18:26:02.463Z"
   },
   {
    "duration": 44,
    "start_time": "2021-11-18T18:26:02.513Z"
   },
   {
    "duration": 92,
    "start_time": "2021-11-18T18:26:02.559Z"
   },
   {
    "duration": 74,
    "start_time": "2021-11-18T18:26:02.653Z"
   },
   {
    "duration": 64,
    "start_time": "2021-11-18T18:26:02.729Z"
   },
   {
    "duration": 8,
    "start_time": "2021-11-18T18:26:02.795Z"
   },
   {
    "duration": 31,
    "start_time": "2021-11-18T18:26:02.804Z"
   },
   {
    "duration": 39,
    "start_time": "2021-11-18T18:26:02.837Z"
   },
   {
    "duration": 53,
    "start_time": "2021-11-18T18:26:02.877Z"
   },
   {
    "duration": 49,
    "start_time": "2021-11-18T18:26:02.932Z"
   },
   {
    "duration": 53,
    "start_time": "2021-11-18T18:26:02.983Z"
   },
   {
    "duration": 38,
    "start_time": "2021-11-18T18:26:03.038Z"
   },
   {
    "duration": 73,
    "start_time": "2021-11-18T18:26:03.078Z"
   },
   {
    "duration": 50,
    "start_time": "2021-11-18T18:26:03.153Z"
   },
   {
    "duration": 35,
    "start_time": "2021-11-18T18:26:03.208Z"
   },
   {
    "duration": 55,
    "start_time": "2021-11-18T18:26:03.245Z"
   },
   {
    "duration": 47,
    "start_time": "2021-11-18T18:26:03.301Z"
   },
   {
    "duration": 46,
    "start_time": "2021-11-18T18:26:03.350Z"
   },
   {
    "duration": 41,
    "start_time": "2021-11-18T18:26:03.397Z"
   },
   {
    "duration": 41,
    "start_time": "2021-11-18T18:26:03.440Z"
   },
   {
    "duration": 21,
    "start_time": "2021-11-18T18:26:03.482Z"
   },
   {
    "duration": 20,
    "start_time": "2021-11-18T18:26:03.504Z"
   },
   {
    "duration": 64,
    "start_time": "2021-11-18T18:26:03.525Z"
   },
   {
    "duration": 39,
    "start_time": "2021-11-18T18:26:03.591Z"
   },
   {
    "duration": 37,
    "start_time": "2021-11-18T18:26:03.631Z"
   },
   {
    "duration": 35,
    "start_time": "2021-11-18T18:26:03.669Z"
   },
   {
    "duration": 24,
    "start_time": "2021-11-18T18:26:03.705Z"
   },
   {
    "duration": 21,
    "start_time": "2021-11-18T18:26:03.731Z"
   },
   {
    "duration": 29,
    "start_time": "2021-11-18T18:26:03.754Z"
   },
   {
    "duration": 28,
    "start_time": "2021-11-18T18:26:03.785Z"
   },
   {
    "duration": 5,
    "start_time": "2021-11-18T18:38:18.359Z"
   },
   {
    "duration": 20,
    "start_time": "2021-11-18T18:38:21.118Z"
   },
   {
    "duration": 3,
    "start_time": "2021-11-18T18:38:29.643Z"
   },
   {
    "duration": 137,
    "start_time": "2021-11-18T18:38:29.648Z"
   },
   {
    "duration": 9,
    "start_time": "2021-11-18T18:38:29.787Z"
   },
   {
    "duration": 32,
    "start_time": "2021-11-18T18:38:29.798Z"
   },
   {
    "duration": 4,
    "start_time": "2021-11-18T18:38:29.831Z"
   },
   {
    "duration": 25,
    "start_time": "2021-11-18T18:38:29.837Z"
   },
   {
    "duration": 31,
    "start_time": "2021-11-18T18:38:29.864Z"
   },
   {
    "duration": 26,
    "start_time": "2021-11-18T18:38:29.897Z"
   },
   {
    "duration": 19,
    "start_time": "2021-11-18T18:38:29.926Z"
   },
   {
    "duration": 46,
    "start_time": "2021-11-18T18:38:29.947Z"
   },
   {
    "duration": 65,
    "start_time": "2021-11-18T18:38:29.995Z"
   },
   {
    "duration": 88,
    "start_time": "2021-11-18T18:38:30.063Z"
   },
   {
    "duration": 75,
    "start_time": "2021-11-18T18:38:30.153Z"
   },
   {
    "duration": 8,
    "start_time": "2021-11-18T18:38:30.230Z"
   },
   {
    "duration": 3,
    "start_time": "2021-11-18T18:38:30.240Z"
   },
   {
    "duration": 20,
    "start_time": "2021-11-18T18:38:30.245Z"
   },
   {
    "duration": 7,
    "start_time": "2021-11-18T18:38:30.267Z"
   },
   {
    "duration": 14,
    "start_time": "2021-11-18T18:38:30.292Z"
   },
   {
    "duration": 12,
    "start_time": "2021-11-18T18:38:30.308Z"
   },
   {
    "duration": 3,
    "start_time": "2021-11-18T18:38:30.322Z"
   },
   {
    "duration": 30,
    "start_time": "2021-11-18T18:38:30.326Z"
   },
   {
    "duration": 48,
    "start_time": "2021-11-18T18:38:30.357Z"
   },
   {
    "duration": 14,
    "start_time": "2021-11-18T18:38:30.407Z"
   },
   {
    "duration": 13,
    "start_time": "2021-11-18T18:38:30.422Z"
   },
   {
    "duration": 15,
    "start_time": "2021-11-18T18:38:30.437Z"
   },
   {
    "duration": 41,
    "start_time": "2021-11-18T18:38:30.454Z"
   },
   {
    "duration": 8,
    "start_time": "2021-11-18T18:38:30.498Z"
   },
   {
    "duration": 26,
    "start_time": "2021-11-18T18:38:30.508Z"
   },
   {
    "duration": 12,
    "start_time": "2021-11-18T18:38:30.535Z"
   },
   {
    "duration": 4,
    "start_time": "2021-11-18T18:38:30.549Z"
   },
   {
    "duration": 24,
    "start_time": "2021-11-18T18:38:30.554Z"
   },
   {
    "duration": 13,
    "start_time": "2021-11-18T18:38:30.591Z"
   },
   {
    "duration": 18,
    "start_time": "2021-11-18T18:38:30.606Z"
   },
   {
    "duration": 12,
    "start_time": "2021-11-18T18:38:30.625Z"
   },
   {
    "duration": 6,
    "start_time": "2021-11-18T18:38:30.639Z"
   },
   {
    "duration": 6,
    "start_time": "2021-11-18T18:38:30.647Z"
   },
   {
    "duration": 6,
    "start_time": "2021-11-18T18:38:30.655Z"
   },
   {
    "duration": 14,
    "start_time": "2021-11-18T18:38:30.662Z"
   },
   {
    "duration": 196,
    "start_time": "2021-11-18T18:42:44.884Z"
   },
   {
    "duration": 10,
    "start_time": "2021-11-18T18:43:19.125Z"
   },
   {
    "duration": 9,
    "start_time": "2021-11-18T18:43:22.952Z"
   },
   {
    "duration": 174,
    "start_time": "2021-11-18T18:43:49.999Z"
   },
   {
    "duration": 5,
    "start_time": "2021-11-18T18:44:16.723Z"
   },
   {
    "duration": 5,
    "start_time": "2021-11-18T18:44:30.789Z"
   },
   {
    "duration": 2,
    "start_time": "2021-11-18T18:45:50.786Z"
   },
   {
    "duration": 162,
    "start_time": "2021-11-18T18:45:50.790Z"
   },
   {
    "duration": 10,
    "start_time": "2021-11-18T18:45:50.954Z"
   },
   {
    "duration": 46,
    "start_time": "2021-11-18T18:45:50.966Z"
   },
   {
    "duration": 66,
    "start_time": "2021-11-18T18:45:51.014Z"
   },
   {
    "duration": 77,
    "start_time": "2021-11-18T18:45:51.082Z"
   },
   {
    "duration": 15,
    "start_time": "2021-11-18T18:45:51.160Z"
   },
   {
    "duration": 57,
    "start_time": "2021-11-18T18:45:51.178Z"
   },
   {
    "duration": 53,
    "start_time": "2021-11-18T18:45:51.238Z"
   },
   {
    "duration": 41,
    "start_time": "2021-11-18T18:45:51.293Z"
   },
   {
    "duration": 78,
    "start_time": "2021-11-18T18:45:51.335Z"
   },
   {
    "duration": 67,
    "start_time": "2021-11-18T18:45:51.415Z"
   },
   {
    "duration": 61,
    "start_time": "2021-11-18T18:45:51.484Z"
   },
   {
    "duration": 6,
    "start_time": "2021-11-18T18:45:51.546Z"
   },
   {
    "duration": 4,
    "start_time": "2021-11-18T18:45:51.554Z"
   },
   {
    "duration": 30,
    "start_time": "2021-11-18T18:45:51.560Z"
   },
   {
    "duration": 6,
    "start_time": "2021-11-18T18:45:51.592Z"
   },
   {
    "duration": 12,
    "start_time": "2021-11-18T18:45:51.599Z"
   },
   {
    "duration": 11,
    "start_time": "2021-11-18T18:45:51.612Z"
   },
   {
    "duration": 3,
    "start_time": "2021-11-18T18:45:51.624Z"
   },
   {
    "duration": 20,
    "start_time": "2021-11-18T18:45:51.628Z"
   },
   {
    "duration": 12,
    "start_time": "2021-11-18T18:45:51.649Z"
   },
   {
    "duration": 38,
    "start_time": "2021-11-18T18:45:51.664Z"
   },
   {
    "duration": 13,
    "start_time": "2021-11-18T18:45:51.704Z"
   },
   {
    "duration": 15,
    "start_time": "2021-11-18T18:45:51.718Z"
   },
   {
    "duration": 14,
    "start_time": "2021-11-18T18:45:51.734Z"
   },
   {
    "duration": 44,
    "start_time": "2021-11-18T18:45:51.749Z"
   },
   {
    "duration": 26,
    "start_time": "2021-11-18T18:45:51.794Z"
   },
   {
    "duration": 12,
    "start_time": "2021-11-18T18:45:51.821Z"
   },
   {
    "duration": 4,
    "start_time": "2021-11-18T18:45:51.835Z"
   },
   {
    "duration": 28,
    "start_time": "2021-11-18T18:45:51.840Z"
   },
   {
    "duration": 30,
    "start_time": "2021-11-18T18:45:51.870Z"
   },
   {
    "duration": 23,
    "start_time": "2021-11-18T18:45:51.903Z"
   },
   {
    "duration": 17,
    "start_time": "2021-11-18T18:45:51.928Z"
   },
   {
    "duration": 11,
    "start_time": "2021-11-18T18:45:51.947Z"
   },
   {
    "duration": 35,
    "start_time": "2021-11-18T18:45:51.960Z"
   },
   {
    "duration": 9,
    "start_time": "2021-11-18T18:45:51.997Z"
   },
   {
    "duration": 4,
    "start_time": "2021-11-18T18:45:52.007Z"
   },
   {
    "duration": 2,
    "start_time": "2021-11-18T18:47:07.279Z"
   },
   {
    "duration": 154,
    "start_time": "2021-11-18T18:47:07.283Z"
   },
   {
    "duration": 9,
    "start_time": "2021-11-18T18:47:07.439Z"
   },
   {
    "duration": 45,
    "start_time": "2021-11-18T18:47:07.450Z"
   },
   {
    "duration": 13,
    "start_time": "2021-11-18T18:47:07.496Z"
   },
   {
    "duration": 41,
    "start_time": "2021-11-18T18:47:07.511Z"
   },
   {
    "duration": 3,
    "start_time": "2021-11-18T18:47:07.554Z"
   },
   {
    "duration": 27,
    "start_time": "2021-11-18T18:47:07.559Z"
   },
   {
    "duration": 34,
    "start_time": "2021-11-18T18:47:07.588Z"
   },
   {
    "duration": 26,
    "start_time": "2021-11-18T18:47:07.624Z"
   },
   {
    "duration": 82,
    "start_time": "2021-11-18T18:47:07.652Z"
   },
   {
    "duration": 76,
    "start_time": "2021-11-18T18:47:07.735Z"
   },
   {
    "duration": 56,
    "start_time": "2021-11-18T18:47:07.813Z"
   },
   {
    "duration": 22,
    "start_time": "2021-11-18T18:47:07.871Z"
   },
   {
    "duration": 3,
    "start_time": "2021-11-18T18:47:07.894Z"
   },
   {
    "duration": 29,
    "start_time": "2021-11-18T18:47:07.899Z"
   },
   {
    "duration": 20,
    "start_time": "2021-11-18T18:47:07.929Z"
   },
   {
    "duration": 28,
    "start_time": "2021-11-18T18:47:07.950Z"
   },
   {
    "duration": 25,
    "start_time": "2021-11-18T18:47:07.979Z"
   },
   {
    "duration": 5,
    "start_time": "2021-11-18T18:47:08.006Z"
   },
   {
    "duration": 47,
    "start_time": "2021-11-18T18:47:08.012Z"
   },
   {
    "duration": 30,
    "start_time": "2021-11-18T18:47:08.061Z"
   },
   {
    "duration": 25,
    "start_time": "2021-11-18T18:47:08.093Z"
   },
   {
    "duration": 23,
    "start_time": "2021-11-18T18:47:08.120Z"
   },
   {
    "duration": 22,
    "start_time": "2021-11-18T18:47:08.145Z"
   },
   {
    "duration": 27,
    "start_time": "2021-11-18T18:47:08.168Z"
   },
   {
    "duration": 37,
    "start_time": "2021-11-18T18:47:08.198Z"
   },
   {
    "duration": 27,
    "start_time": "2021-11-18T18:47:08.236Z"
   },
   {
    "duration": 15,
    "start_time": "2021-11-18T18:47:08.264Z"
   },
   {
    "duration": 11,
    "start_time": "2021-11-18T18:47:08.280Z"
   },
   {
    "duration": 43,
    "start_time": "2021-11-18T18:47:08.292Z"
   },
   {
    "duration": 29,
    "start_time": "2021-11-18T18:47:08.336Z"
   },
   {
    "duration": 40,
    "start_time": "2021-11-18T18:47:08.367Z"
   },
   {
    "duration": 11,
    "start_time": "2021-11-18T18:47:08.409Z"
   },
   {
    "duration": 9,
    "start_time": "2021-11-18T18:47:08.422Z"
   },
   {
    "duration": 3,
    "start_time": "2021-11-18T18:47:08.433Z"
   },
   {
    "duration": 9,
    "start_time": "2021-11-18T18:47:08.437Z"
   },
   {
    "duration": 3,
    "start_time": "2021-11-18T18:47:08.448Z"
   },
   {
    "duration": 3,
    "start_time": "2021-11-18T18:51:36.872Z"
   },
   {
    "duration": 152,
    "start_time": "2021-11-18T18:51:36.877Z"
   },
   {
    "duration": 10,
    "start_time": "2021-11-18T18:51:37.031Z"
   },
   {
    "duration": 34,
    "start_time": "2021-11-18T18:51:37.043Z"
   },
   {
    "duration": 3,
    "start_time": "2021-11-18T18:51:37.091Z"
   },
   {
    "duration": 22,
    "start_time": "2021-11-18T18:51:37.096Z"
   },
   {
    "duration": 4,
    "start_time": "2021-11-18T18:51:37.120Z"
   },
   {
    "duration": 27,
    "start_time": "2021-11-18T18:51:37.126Z"
   },
   {
    "duration": 39,
    "start_time": "2021-11-18T18:51:37.155Z"
   },
   {
    "duration": 36,
    "start_time": "2021-11-18T18:51:37.196Z"
   },
   {
    "duration": 78,
    "start_time": "2021-11-18T18:51:37.234Z"
   },
   {
    "duration": 69,
    "start_time": "2021-11-18T18:51:37.313Z"
   },
   {
    "duration": 61,
    "start_time": "2021-11-18T18:51:37.383Z"
   },
   {
    "duration": 6,
    "start_time": "2021-11-18T18:51:37.445Z"
   },
   {
    "duration": 10,
    "start_time": "2021-11-18T18:51:37.452Z"
   },
   {
    "duration": 20,
    "start_time": "2021-11-18T18:51:37.463Z"
   },
   {
    "duration": 10,
    "start_time": "2021-11-18T18:51:37.484Z"
   },
   {
    "duration": 12,
    "start_time": "2021-11-18T18:51:37.495Z"
   },
   {
    "duration": 11,
    "start_time": "2021-11-18T18:51:37.508Z"
   },
   {
    "duration": 2,
    "start_time": "2021-11-18T18:51:37.520Z"
   },
   {
    "duration": 17,
    "start_time": "2021-11-18T18:51:37.524Z"
   },
   {
    "duration": 12,
    "start_time": "2021-11-18T18:51:37.542Z"
   },
   {
    "duration": 46,
    "start_time": "2021-11-18T18:51:37.557Z"
   },
   {
    "duration": 13,
    "start_time": "2021-11-18T18:51:37.605Z"
   },
   {
    "duration": 14,
    "start_time": "2021-11-18T18:51:37.619Z"
   },
   {
    "duration": 13,
    "start_time": "2021-11-18T18:51:37.635Z"
   },
   {
    "duration": 8,
    "start_time": "2021-11-18T18:51:37.649Z"
   },
   {
    "duration": 47,
    "start_time": "2021-11-18T18:51:37.658Z"
   },
   {
    "duration": 11,
    "start_time": "2021-11-18T18:51:37.706Z"
   },
   {
    "duration": 5,
    "start_time": "2021-11-18T18:51:37.719Z"
   },
   {
    "duration": 33,
    "start_time": "2021-11-18T18:51:37.726Z"
   },
   {
    "duration": 11,
    "start_time": "2021-11-18T18:51:37.760Z"
   },
   {
    "duration": 29,
    "start_time": "2021-11-18T18:51:37.773Z"
   },
   {
    "duration": 20,
    "start_time": "2021-11-18T18:51:37.804Z"
   },
   {
    "duration": 31,
    "start_time": "2021-11-18T18:51:37.826Z"
   },
   {
    "duration": 14,
    "start_time": "2021-11-18T18:51:37.859Z"
   },
   {
    "duration": 28,
    "start_time": "2021-11-18T18:51:37.874Z"
   },
   {
    "duration": 21,
    "start_time": "2021-11-18T18:51:37.903Z"
   },
   {
    "duration": 862,
    "start_time": "2021-11-19T04:49:55.300Z"
   },
   {
    "duration": 197,
    "start_time": "2021-11-19T04:49:56.168Z"
   },
   {
    "duration": 27,
    "start_time": "2021-11-19T04:49:56.373Z"
   },
   {
    "duration": 34,
    "start_time": "2021-11-19T04:49:56.402Z"
   },
   {
    "duration": 5,
    "start_time": "2021-11-19T04:49:56.468Z"
   },
   {
    "duration": 32,
    "start_time": "2021-11-19T04:49:56.476Z"
   },
   {
    "duration": 7,
    "start_time": "2021-11-19T04:49:56.513Z"
   },
   {
    "duration": 66,
    "start_time": "2021-11-19T04:49:56.523Z"
   },
   {
    "duration": 23,
    "start_time": "2021-11-19T04:49:56.592Z"
   },
   {
    "duration": 52,
    "start_time": "2021-11-19T04:49:56.617Z"
   },
   {
    "duration": 235,
    "start_time": "2021-11-19T04:49:56.672Z"
   },
   {
    "duration": 196,
    "start_time": "2021-11-19T04:49:56.910Z"
   },
   {
    "duration": 108,
    "start_time": "2021-11-19T04:49:57.108Z"
   },
   {
    "duration": 9,
    "start_time": "2021-11-19T04:49:57.218Z"
   },
   {
    "duration": 5,
    "start_time": "2021-11-19T04:49:57.229Z"
   },
   {
    "duration": 40,
    "start_time": "2021-11-19T04:49:57.236Z"
   },
   {
    "duration": 11,
    "start_time": "2021-11-19T04:49:57.278Z"
   },
   {
    "duration": 20,
    "start_time": "2021-11-19T04:49:57.291Z"
   },
   {
    "duration": 15,
    "start_time": "2021-11-19T04:49:57.314Z"
   },
   {
    "duration": 5,
    "start_time": "2021-11-19T04:49:57.368Z"
   },
   {
    "duration": 27,
    "start_time": "2021-11-19T04:49:57.375Z"
   },
   {
    "duration": 18,
    "start_time": "2021-11-19T04:49:57.407Z"
   },
   {
    "duration": 48,
    "start_time": "2021-11-19T04:49:57.428Z"
   },
   {
    "duration": 18,
    "start_time": "2021-11-19T04:49:57.478Z"
   },
   {
    "duration": 20,
    "start_time": "2021-11-19T04:49:57.499Z"
   },
   {
    "duration": 51,
    "start_time": "2021-11-19T04:49:57.522Z"
   },
   {
    "duration": 15,
    "start_time": "2021-11-19T04:49:57.576Z"
   },
   {
    "duration": 27,
    "start_time": "2021-11-19T04:49:57.594Z"
   },
   {
    "duration": 13,
    "start_time": "2021-11-19T04:49:57.623Z"
   },
   {
    "duration": 5,
    "start_time": "2021-11-19T04:49:57.638Z"
   },
   {
    "duration": 48,
    "start_time": "2021-11-19T04:49:57.645Z"
   },
   {
    "duration": 17,
    "start_time": "2021-11-19T04:49:57.695Z"
   },
   {
    "duration": 62,
    "start_time": "2021-11-19T04:49:57.715Z"
   },
   {
    "duration": 17,
    "start_time": "2021-11-19T04:49:57.780Z"
   },
   {
    "duration": 14,
    "start_time": "2021-11-19T04:49:57.799Z"
   },
   {
    "duration": 6,
    "start_time": "2021-11-19T04:49:57.815Z"
   },
   {
    "duration": 49,
    "start_time": "2021-11-19T04:49:57.823Z"
   },
   {
    "duration": 6,
    "start_time": "2021-11-19T04:49:57.874Z"
   },
   {
    "duration": 1590,
    "start_time": "2021-11-19T04:50:39.181Z"
   },
   {
    "duration": 335,
    "start_time": "2021-11-19T04:50:40.775Z"
   },
   {
    "duration": 27,
    "start_time": "2021-11-19T04:50:41.113Z"
   },
   {
    "duration": 55,
    "start_time": "2021-11-19T04:50:41.143Z"
   },
   {
    "duration": 6,
    "start_time": "2021-11-19T04:50:41.201Z"
   },
   {
    "duration": 31,
    "start_time": "2021-11-19T04:50:41.210Z"
   },
   {
    "duration": 27,
    "start_time": "2021-11-19T04:50:41.244Z"
   },
   {
    "duration": 30,
    "start_time": "2021-11-19T04:50:41.275Z"
   },
   {
    "duration": 23,
    "start_time": "2021-11-19T04:50:41.308Z"
   },
   {
    "duration": 30,
    "start_time": "2021-11-19T04:50:41.366Z"
   },
   {
    "duration": 98,
    "start_time": "2021-11-19T04:50:41.399Z"
   },
   {
    "duration": 103,
    "start_time": "2021-11-19T04:50:41.500Z"
   },
   {
    "duration": 93,
    "start_time": "2021-11-19T04:50:41.605Z"
   },
   {
    "duration": 12,
    "start_time": "2021-11-19T04:50:41.701Z"
   },
   {
    "duration": 5,
    "start_time": "2021-11-19T04:50:41.716Z"
   },
   {
    "duration": 48,
    "start_time": "2021-11-19T04:50:41.724Z"
   },
   {
    "duration": 13,
    "start_time": "2021-11-19T04:50:41.775Z"
   },
   {
    "duration": 14,
    "start_time": "2021-11-19T04:50:41.791Z"
   },
   {
    "duration": 14,
    "start_time": "2021-11-19T04:50:41.808Z"
   },
   {
    "duration": 4,
    "start_time": "2021-11-19T04:50:41.824Z"
   },
   {
    "duration": 55,
    "start_time": "2021-11-19T04:50:41.831Z"
   },
   {
    "duration": 18,
    "start_time": "2021-11-19T04:50:41.888Z"
   },
   {
    "duration": 25,
    "start_time": "2021-11-19T04:50:41.908Z"
   },
   {
    "duration": 45,
    "start_time": "2021-11-19T04:50:41.936Z"
   },
   {
    "duration": 22,
    "start_time": "2021-11-19T04:50:41.984Z"
   },
   {
    "duration": 19,
    "start_time": "2021-11-19T04:50:42.011Z"
   },
   {
    "duration": 45,
    "start_time": "2021-11-19T04:50:42.033Z"
   },
   {
    "duration": 20,
    "start_time": "2021-11-19T04:50:42.081Z"
   },
   {
    "duration": 12,
    "start_time": "2021-11-19T04:50:42.104Z"
   },
   {
    "duration": 14,
    "start_time": "2021-11-19T04:50:42.119Z"
   },
   {
    "duration": 52,
    "start_time": "2021-11-19T04:50:42.136Z"
   },
   {
    "duration": 17,
    "start_time": "2021-11-19T04:50:42.190Z"
   },
   {
    "duration": 24,
    "start_time": "2021-11-19T04:50:42.209Z"
   },
   {
    "duration": 47,
    "start_time": "2021-11-19T04:50:42.235Z"
   },
   {
    "duration": 14,
    "start_time": "2021-11-19T04:50:42.284Z"
   },
   {
    "duration": 7,
    "start_time": "2021-11-19T04:50:42.300Z"
   },
   {
    "duration": 14,
    "start_time": "2021-11-19T04:50:42.309Z"
   },
   {
    "duration": 41,
    "start_time": "2021-11-19T04:50:42.326Z"
   },
   {
    "duration": 357,
    "start_time": "2021-11-19T06:47:09.256Z"
   },
   {
    "duration": 743,
    "start_time": "2021-11-19T06:47:15.827Z"
   },
   {
    "duration": 179,
    "start_time": "2021-11-19T06:47:16.573Z"
   },
   {
    "duration": 33,
    "start_time": "2021-11-19T06:47:16.755Z"
   },
   {
    "duration": 32,
    "start_time": "2021-11-19T06:47:16.791Z"
   },
   {
    "duration": 6,
    "start_time": "2021-11-19T06:47:16.825Z"
   },
   {
    "duration": 56,
    "start_time": "2021-11-19T06:47:16.833Z"
   },
   {
    "duration": 10,
    "start_time": "2021-11-19T06:47:16.891Z"
   },
   {
    "duration": 32,
    "start_time": "2021-11-19T06:47:16.904Z"
   },
   {
    "duration": 44,
    "start_time": "2021-11-19T06:47:16.942Z"
   },
   {
    "duration": 32,
    "start_time": "2021-11-19T06:47:16.989Z"
   },
   {
    "duration": 111,
    "start_time": "2021-11-19T06:47:17.024Z"
   },
   {
    "duration": 102,
    "start_time": "2021-11-19T06:47:17.138Z"
   },
   {
    "duration": 86,
    "start_time": "2021-11-19T06:47:17.243Z"
   },
   {
    "duration": 12,
    "start_time": "2021-11-19T06:47:17.332Z"
   },
   {
    "duration": 6,
    "start_time": "2021-11-19T06:47:17.346Z"
   },
   {
    "duration": 15,
    "start_time": "2021-11-19T06:47:17.383Z"
   },
   {
    "duration": 18,
    "start_time": "2021-11-19T06:47:17.401Z"
   },
   {
    "duration": 15,
    "start_time": "2021-11-19T06:47:17.423Z"
   },
   {
    "duration": 47,
    "start_time": "2021-11-19T06:47:17.440Z"
   },
   {
    "duration": 4,
    "start_time": "2021-11-19T06:47:17.490Z"
   },
   {
    "duration": 37,
    "start_time": "2021-11-19T06:47:17.497Z"
   },
   {
    "duration": 51,
    "start_time": "2021-11-19T06:47:17.537Z"
   },
   {
    "duration": 18,
    "start_time": "2021-11-19T06:47:17.590Z"
   },
   {
    "duration": 24,
    "start_time": "2021-11-19T06:47:17.611Z"
   },
   {
    "duration": 48,
    "start_time": "2021-11-19T06:47:17.637Z"
   },
   {
    "duration": 17,
    "start_time": "2021-11-19T06:47:17.688Z"
   },
   {
    "duration": 16,
    "start_time": "2021-11-19T06:47:17.710Z"
   },
   {
    "duration": 24,
    "start_time": "2021-11-19T06:47:17.729Z"
   },
   {
    "duration": 32,
    "start_time": "2021-11-19T06:47:17.755Z"
   },
   {
    "duration": 5,
    "start_time": "2021-11-19T06:47:17.790Z"
   },
   {
    "duration": 38,
    "start_time": "2021-11-19T06:47:17.798Z"
   },
   {
    "duration": 17,
    "start_time": "2021-11-19T06:47:17.838Z"
   },
   {
    "duration": 40,
    "start_time": "2021-11-19T06:47:17.857Z"
   },
   {
    "duration": 17,
    "start_time": "2021-11-19T06:47:17.899Z"
   },
   {
    "duration": 12,
    "start_time": "2021-11-19T06:47:17.918Z"
   },
   {
    "duration": 6,
    "start_time": "2021-11-19T06:47:17.933Z"
   },
   {
    "duration": 48,
    "start_time": "2021-11-19T06:47:17.941Z"
   },
   {
    "duration": 6,
    "start_time": "2021-11-19T06:47:17.992Z"
   },
   {
    "duration": 3,
    "start_time": "2021-11-19T06:54:58.531Z"
   },
   {
    "duration": 193,
    "start_time": "2021-11-19T06:54:58.538Z"
   },
   {
    "duration": 16,
    "start_time": "2021-11-19T06:54:58.734Z"
   },
   {
    "duration": 49,
    "start_time": "2021-11-19T06:54:58.752Z"
   },
   {
    "duration": 5,
    "start_time": "2021-11-19T06:54:58.803Z"
   },
   {
    "duration": 19,
    "start_time": "2021-11-19T06:54:58.811Z"
   },
   {
    "duration": 5,
    "start_time": "2021-11-19T06:54:58.833Z"
   },
   {
    "duration": 60,
    "start_time": "2021-11-19T06:54:58.841Z"
   },
   {
    "duration": 24,
    "start_time": "2021-11-19T06:54:58.905Z"
   },
   {
    "duration": 57,
    "start_time": "2021-11-19T06:54:58.933Z"
   },
   {
    "duration": 133,
    "start_time": "2021-11-19T06:54:58.994Z"
   },
   {
    "duration": 132,
    "start_time": "2021-11-19T06:54:59.130Z"
   },
   {
    "duration": 111,
    "start_time": "2021-11-19T06:54:59.265Z"
   },
   {
    "duration": 382,
    "start_time": "2021-11-19T06:54:59.383Z"
   },
   {
    "duration": 5289,
    "start_time": "2021-11-19T06:54:54.481Z"
   },
   {
    "duration": 5287,
    "start_time": "2021-11-19T06:54:54.485Z"
   },
   {
    "duration": 5285,
    "start_time": "2021-11-19T06:54:54.489Z"
   },
   {
    "duration": 5284,
    "start_time": "2021-11-19T06:54:54.492Z"
   },
   {
    "duration": 5278,
    "start_time": "2021-11-19T06:54:54.500Z"
   },
   {
    "duration": 5274,
    "start_time": "2021-11-19T06:54:54.505Z"
   },
   {
    "duration": 5273,
    "start_time": "2021-11-19T06:54:54.508Z"
   },
   {
    "duration": 5273,
    "start_time": "2021-11-19T06:54:54.510Z"
   },
   {
    "duration": 5273,
    "start_time": "2021-11-19T06:54:54.512Z"
   },
   {
    "duration": 5273,
    "start_time": "2021-11-19T06:54:54.514Z"
   },
   {
    "duration": 5271,
    "start_time": "2021-11-19T06:54:54.517Z"
   },
   {
    "duration": 5271,
    "start_time": "2021-11-19T06:54:54.519Z"
   },
   {
    "duration": 5266,
    "start_time": "2021-11-19T06:54:54.526Z"
   },
   {
    "duration": 5264,
    "start_time": "2021-11-19T06:54:54.530Z"
   },
   {
    "duration": 5263,
    "start_time": "2021-11-19T06:54:54.533Z"
   },
   {
    "duration": 5263,
    "start_time": "2021-11-19T06:54:54.535Z"
   },
   {
    "duration": 5237,
    "start_time": "2021-11-19T06:54:54.563Z"
   },
   {
    "duration": 5236,
    "start_time": "2021-11-19T06:54:54.566Z"
   },
   {
    "duration": 5235,
    "start_time": "2021-11-19T06:54:54.569Z"
   },
   {
    "duration": 5233,
    "start_time": "2021-11-19T06:54:54.572Z"
   },
   {
    "duration": 5234,
    "start_time": "2021-11-19T06:54:54.574Z"
   },
   {
    "duration": 5232,
    "start_time": "2021-11-19T06:54:54.577Z"
   },
   {
    "duration": 5229,
    "start_time": "2021-11-19T06:54:54.581Z"
   },
   {
    "duration": 5228,
    "start_time": "2021-11-19T06:54:54.584Z"
   },
   {
    "duration": 3,
    "start_time": "2021-11-19T06:58:24.191Z"
   },
   {
    "duration": 206,
    "start_time": "2021-11-19T06:58:24.197Z"
   },
   {
    "duration": 16,
    "start_time": "2021-11-19T06:58:24.406Z"
   },
   {
    "duration": 34,
    "start_time": "2021-11-19T06:58:24.424Z"
   },
   {
    "duration": 26,
    "start_time": "2021-11-19T06:58:24.460Z"
   },
   {
    "duration": 26,
    "start_time": "2021-11-19T06:58:24.488Z"
   },
   {
    "duration": 5,
    "start_time": "2021-11-19T06:58:24.517Z"
   },
   {
    "duration": 57,
    "start_time": "2021-11-19T06:58:24.525Z"
   },
   {
    "duration": 23,
    "start_time": "2021-11-19T06:58:24.586Z"
   },
   {
    "duration": 30,
    "start_time": "2021-11-19T06:58:24.612Z"
   },
   {
    "duration": 111,
    "start_time": "2021-11-19T06:58:24.645Z"
   },
   {
    "duration": 92,
    "start_time": "2021-11-19T06:58:24.759Z"
   },
   {
    "duration": 88,
    "start_time": "2021-11-19T06:58:24.854Z"
   },
   {
    "duration": 337,
    "start_time": "2021-11-19T06:58:24.944Z"
   },
   {
    "duration": 5315,
    "start_time": "2021-11-19T06:58:19.969Z"
   },
   {
    "duration": 5313,
    "start_time": "2021-11-19T06:58:19.972Z"
   },
   {
    "duration": 5313,
    "start_time": "2021-11-19T06:58:19.974Z"
   },
   {
    "duration": 5312,
    "start_time": "2021-11-19T06:58:19.976Z"
   },
   {
    "duration": 5308,
    "start_time": "2021-11-19T06:58:19.981Z"
   },
   {
    "duration": 5305,
    "start_time": "2021-11-19T06:58:19.985Z"
   },
   {
    "duration": 5305,
    "start_time": "2021-11-19T06:58:19.987Z"
   },
   {
    "duration": 5303,
    "start_time": "2021-11-19T06:58:19.990Z"
   },
   {
    "duration": 5302,
    "start_time": "2021-11-19T06:58:19.992Z"
   },
   {
    "duration": 5299,
    "start_time": "2021-11-19T06:58:19.997Z"
   },
   {
    "duration": 5296,
    "start_time": "2021-11-19T06:58:20.001Z"
   },
   {
    "duration": 5294,
    "start_time": "2021-11-19T06:58:20.004Z"
   },
   {
    "duration": 5292,
    "start_time": "2021-11-19T06:58:20.007Z"
   },
   {
    "duration": 5292,
    "start_time": "2021-11-19T06:58:20.009Z"
   },
   {
    "duration": 5290,
    "start_time": "2021-11-19T06:58:20.012Z"
   },
   {
    "duration": 5287,
    "start_time": "2021-11-19T06:58:20.016Z"
   },
   {
    "duration": 5286,
    "start_time": "2021-11-19T06:58:20.019Z"
   },
   {
    "duration": 5285,
    "start_time": "2021-11-19T06:58:20.021Z"
   },
   {
    "duration": 5284,
    "start_time": "2021-11-19T06:58:20.023Z"
   },
   {
    "duration": 5282,
    "start_time": "2021-11-19T06:58:20.026Z"
   },
   {
    "duration": 5281,
    "start_time": "2021-11-19T06:58:20.028Z"
   },
   {
    "duration": 5279,
    "start_time": "2021-11-19T06:58:20.031Z"
   },
   {
    "duration": 5279,
    "start_time": "2021-11-19T06:58:20.033Z"
   },
   {
    "duration": 5268,
    "start_time": "2021-11-19T06:58:20.046Z"
   },
   {
    "duration": 330,
    "start_time": "2021-11-19T06:59:17.909Z"
   },
   {
    "duration": 58,
    "start_time": "2021-11-19T07:08:10.699Z"
   },
   {
    "duration": 47,
    "start_time": "2021-11-19T07:11:02.533Z"
   },
   {
    "duration": 4,
    "start_time": "2021-11-19T07:11:30.529Z"
   },
   {
    "duration": 225,
    "start_time": "2021-11-19T07:11:30.535Z"
   },
   {
    "duration": 28,
    "start_time": "2021-11-19T07:11:30.763Z"
   },
   {
    "duration": 48,
    "start_time": "2021-11-19T07:11:30.794Z"
   },
   {
    "duration": 13,
    "start_time": "2021-11-19T07:11:30.845Z"
   },
   {
    "duration": 33,
    "start_time": "2021-11-19T07:11:30.860Z"
   },
   {
    "duration": 9,
    "start_time": "2021-11-19T07:11:30.896Z"
   },
   {
    "duration": 65,
    "start_time": "2021-11-19T07:11:30.908Z"
   },
   {
    "duration": 34,
    "start_time": "2021-11-19T07:11:30.976Z"
   },
   {
    "duration": 57,
    "start_time": "2021-11-19T07:11:31.014Z"
   },
   {
    "duration": 126,
    "start_time": "2021-11-19T07:11:31.073Z"
   },
   {
    "duration": 95,
    "start_time": "2021-11-19T07:11:31.201Z"
   },
   {
    "duration": 88,
    "start_time": "2021-11-19T07:11:31.299Z"
   },
   {
    "duration": 59,
    "start_time": "2021-11-19T07:11:31.389Z"
   },
   {
    "duration": 32,
    "start_time": "2021-11-19T07:11:31.450Z"
   },
   {
    "duration": 52,
    "start_time": "2021-11-19T07:11:31.485Z"
   },
   {
    "duration": 72,
    "start_time": "2021-11-19T07:11:31.540Z"
   },
   {
    "duration": 14,
    "start_time": "2021-11-19T07:11:31.615Z"
   },
   {
    "duration": 15,
    "start_time": "2021-11-19T07:11:31.632Z"
   },
   {
    "duration": 32,
    "start_time": "2021-11-19T07:11:31.650Z"
   },
   {
    "duration": 35,
    "start_time": "2021-11-19T07:11:31.686Z"
   },
   {
    "duration": 18,
    "start_time": "2021-11-19T07:11:31.724Z"
   },
   {
    "duration": 45,
    "start_time": "2021-11-19T07:11:31.745Z"
   },
   {
    "duration": 19,
    "start_time": "2021-11-19T07:11:31.793Z"
   },
   {
    "duration": 30,
    "start_time": "2021-11-19T07:11:31.815Z"
   },
   {
    "duration": 54,
    "start_time": "2021-11-19T07:11:31.848Z"
   },
   {
    "duration": 12,
    "start_time": "2021-11-19T07:11:31.907Z"
   },
   {
    "duration": 21,
    "start_time": "2021-11-19T07:11:31.921Z"
   },
   {
    "duration": 43,
    "start_time": "2021-11-19T07:11:31.944Z"
   },
   {
    "duration": 8,
    "start_time": "2021-11-19T07:11:31.990Z"
   },
   {
    "duration": 63,
    "start_time": "2021-11-19T07:11:32.001Z"
   },
   {
    "duration": 37,
    "start_time": "2021-11-19T07:11:32.067Z"
   },
   {
    "duration": 35,
    "start_time": "2021-11-19T07:11:32.106Z"
   },
   {
    "duration": 17,
    "start_time": "2021-11-19T07:11:32.143Z"
   },
   {
    "duration": 30,
    "start_time": "2021-11-19T07:11:32.162Z"
   },
   {
    "duration": 7,
    "start_time": "2021-11-19T07:11:32.194Z"
   },
   {
    "duration": 23,
    "start_time": "2021-11-19T07:11:32.203Z"
   },
   {
    "duration": 13,
    "start_time": "2021-11-19T07:11:32.228Z"
   },
   {
    "duration": 3,
    "start_time": "2021-11-19T07:16:12.868Z"
   },
   {
    "duration": 224,
    "start_time": "2021-11-19T07:16:12.874Z"
   },
   {
    "duration": 16,
    "start_time": "2021-11-19T07:16:13.101Z"
   },
   {
    "duration": 40,
    "start_time": "2021-11-19T07:16:13.120Z"
   },
   {
    "duration": 6,
    "start_time": "2021-11-19T07:16:13.183Z"
   },
   {
    "duration": 22,
    "start_time": "2021-11-19T07:16:13.192Z"
   },
   {
    "duration": 6,
    "start_time": "2021-11-19T07:16:13.217Z"
   },
   {
    "duration": 68,
    "start_time": "2021-11-19T07:16:13.227Z"
   },
   {
    "duration": 24,
    "start_time": "2021-11-19T07:16:13.299Z"
   },
   {
    "duration": 30,
    "start_time": "2021-11-19T07:16:13.326Z"
   },
   {
    "duration": 124,
    "start_time": "2021-11-19T07:16:13.358Z"
   },
   {
    "duration": 98,
    "start_time": "2021-11-19T07:16:13.484Z"
   },
   {
    "duration": 75,
    "start_time": "2021-11-19T07:16:13.585Z"
   },
   {
    "duration": 72,
    "start_time": "2021-11-19T07:16:13.663Z"
   },
   {
    "duration": 6,
    "start_time": "2021-11-19T07:16:13.737Z"
   },
   {
    "duration": 66,
    "start_time": "2021-11-19T07:16:13.745Z"
   },
   {
    "duration": 69,
    "start_time": "2021-11-19T07:16:13.814Z"
   },
   {
    "duration": 15,
    "start_time": "2021-11-19T07:16:13.886Z"
   },
   {
    "duration": 15,
    "start_time": "2021-11-19T07:16:13.903Z"
   },
   {
    "duration": 4,
    "start_time": "2021-11-19T07:16:13.928Z"
   },
   {
    "duration": 49,
    "start_time": "2021-11-19T07:16:13.934Z"
   },
   {
    "duration": 19,
    "start_time": "2021-11-19T07:16:13.986Z"
   },
   {
    "duration": 21,
    "start_time": "2021-11-19T07:16:14.007Z"
   },
   {
    "duration": 22,
    "start_time": "2021-11-19T07:16:14.030Z"
   },
   {
    "duration": 21,
    "start_time": "2021-11-19T07:16:14.082Z"
   },
   {
    "duration": 18,
    "start_time": "2021-11-19T07:16:14.106Z"
   },
   {
    "duration": 12,
    "start_time": "2021-11-19T07:16:14.129Z"
   },
   {
    "duration": 50,
    "start_time": "2021-11-19T07:16:14.143Z"
   },
   {
    "duration": 13,
    "start_time": "2021-11-19T07:16:14.196Z"
   },
   {
    "duration": 6,
    "start_time": "2021-11-19T07:16:14.212Z"
   },
   {
    "duration": 33,
    "start_time": "2021-11-19T07:16:14.221Z"
   },
   {
    "duration": 46,
    "start_time": "2021-11-19T07:16:14.256Z"
   },
   {
    "duration": 30,
    "start_time": "2021-11-19T07:16:14.304Z"
   },
   {
    "duration": 17,
    "start_time": "2021-11-19T07:16:14.336Z"
   },
   {
    "duration": 12,
    "start_time": "2021-11-19T07:16:14.383Z"
   },
   {
    "duration": 6,
    "start_time": "2021-11-19T07:16:14.398Z"
   },
   {
    "duration": 14,
    "start_time": "2021-11-19T07:16:14.406Z"
   },
   {
    "duration": 6,
    "start_time": "2021-11-19T07:16:14.422Z"
   },
   {
    "duration": 92,
    "start_time": "2021-11-19T07:16:59.235Z"
   },
   {
    "duration": 45,
    "start_time": "2021-11-19T07:17:10.921Z"
   },
   {
    "duration": 81,
    "start_time": "2021-11-19T07:17:17.442Z"
   },
   {
    "duration": 16,
    "start_time": "2021-11-19T07:17:57.209Z"
   },
   {
    "duration": 62,
    "start_time": "2021-11-19T07:18:01.115Z"
   },
   {
    "duration": 3,
    "start_time": "2021-11-19T07:19:12.971Z"
   },
   {
    "duration": 229,
    "start_time": "2021-11-19T07:19:12.977Z"
   },
   {
    "duration": 17,
    "start_time": "2021-11-19T07:19:13.209Z"
   },
   {
    "duration": 52,
    "start_time": "2021-11-19T07:19:13.229Z"
   },
   {
    "duration": 5,
    "start_time": "2021-11-19T07:19:13.284Z"
   },
   {
    "duration": 29,
    "start_time": "2021-11-19T07:19:13.293Z"
   },
   {
    "duration": 6,
    "start_time": "2021-11-19T07:19:13.326Z"
   },
   {
    "duration": 94,
    "start_time": "2021-11-19T07:19:13.336Z"
   },
   {
    "duration": 31,
    "start_time": "2021-11-19T07:19:13.432Z"
   },
   {
    "duration": 43,
    "start_time": "2021-11-19T07:19:13.466Z"
   },
   {
    "duration": 109,
    "start_time": "2021-11-19T07:19:13.511Z"
   },
   {
    "duration": 99,
    "start_time": "2021-11-19T07:19:13.622Z"
   },
   {
    "duration": 88,
    "start_time": "2021-11-19T07:19:13.724Z"
   },
   {
    "duration": 69,
    "start_time": "2021-11-19T07:19:13.815Z"
   },
   {
    "duration": 4,
    "start_time": "2021-11-19T07:19:13.887Z"
   },
   {
    "duration": 19,
    "start_time": "2021-11-19T07:19:13.893Z"
   },
   {
    "duration": 77,
    "start_time": "2021-11-19T07:19:13.914Z"
   },
   {
    "duration": 15,
    "start_time": "2021-11-19T07:19:13.994Z"
   },
   {
    "duration": 14,
    "start_time": "2021-11-19T07:19:14.014Z"
   },
   {
    "duration": 4,
    "start_time": "2021-11-19T07:19:14.031Z"
   },
   {
    "duration": 61,
    "start_time": "2021-11-19T07:19:14.038Z"
   },
   {
    "duration": 20,
    "start_time": "2021-11-19T07:19:14.101Z"
   },
   {
    "duration": 20,
    "start_time": "2021-11-19T07:19:14.123Z"
   },
   {
    "duration": 51,
    "start_time": "2021-11-19T07:19:14.145Z"
   },
   {
    "duration": 26,
    "start_time": "2021-11-19T07:19:14.198Z"
   },
   {
    "duration": 18,
    "start_time": "2021-11-19T07:19:14.226Z"
   },
   {
    "duration": 40,
    "start_time": "2021-11-19T07:19:14.246Z"
   },
   {
    "duration": 17,
    "start_time": "2021-11-19T07:19:14.289Z"
   },
   {
    "duration": 13,
    "start_time": "2021-11-19T07:19:14.309Z"
   },
   {
    "duration": 6,
    "start_time": "2021-11-19T07:19:14.324Z"
   },
   {
    "duration": 58,
    "start_time": "2021-11-19T07:19:14.332Z"
   },
   {
    "duration": 18,
    "start_time": "2021-11-19T07:19:14.392Z"
   },
   {
    "duration": 23,
    "start_time": "2021-11-19T07:19:14.413Z"
   },
   {
    "duration": 49,
    "start_time": "2021-11-19T07:19:14.438Z"
   },
   {
    "duration": 12,
    "start_time": "2021-11-19T07:19:14.490Z"
   },
   {
    "duration": 5,
    "start_time": "2021-11-19T07:19:14.505Z"
   },
   {
    "duration": 9,
    "start_time": "2021-11-19T07:19:14.513Z"
   },
   {
    "duration": 6,
    "start_time": "2021-11-19T07:19:14.524Z"
   },
   {
    "duration": 780,
    "start_time": "2021-11-19T19:00:44.067Z"
   },
   {
    "duration": 182,
    "start_time": "2021-11-19T19:00:44.850Z"
   },
   {
    "duration": 27,
    "start_time": "2021-11-19T19:00:45.035Z"
   },
   {
    "duration": 44,
    "start_time": "2021-11-19T19:00:45.064Z"
   },
   {
    "duration": 7,
    "start_time": "2021-11-19T19:00:45.110Z"
   },
   {
    "duration": 33,
    "start_time": "2021-11-19T19:00:45.119Z"
   },
   {
    "duration": 30,
    "start_time": "2021-11-19T19:00:45.154Z"
   },
   {
    "duration": 33,
    "start_time": "2021-11-19T19:00:45.187Z"
   },
   {
    "duration": 22,
    "start_time": "2021-11-19T19:00:45.223Z"
   },
   {
    "duration": 62,
    "start_time": "2021-11-19T19:00:45.247Z"
   },
   {
    "duration": 100,
    "start_time": "2021-11-19T19:00:45.311Z"
   },
   {
    "duration": 94,
    "start_time": "2021-11-19T19:00:45.414Z"
   },
   {
    "duration": 83,
    "start_time": "2021-11-19T19:00:45.511Z"
   },
   {
    "duration": 57,
    "start_time": "2021-11-19T19:00:45.596Z"
   },
   {
    "duration": 4,
    "start_time": "2021-11-19T19:00:45.655Z"
   },
   {
    "duration": 17,
    "start_time": "2021-11-19T19:00:45.681Z"
   },
   {
    "duration": 61,
    "start_time": "2021-11-19T19:00:45.700Z"
   },
   {
    "duration": 16,
    "start_time": "2021-11-19T19:00:45.781Z"
   },
   {
    "duration": 23,
    "start_time": "2021-11-19T19:00:45.799Z"
   },
   {
    "duration": 4,
    "start_time": "2021-11-19T19:00:45.824Z"
   },
   {
    "duration": 22,
    "start_time": "2021-11-19T19:00:45.831Z"
   },
   {
    "duration": 21,
    "start_time": "2021-11-19T19:00:45.882Z"
   },
   {
    "duration": 18,
    "start_time": "2021-11-19T19:00:45.908Z"
   },
   {
    "duration": 56,
    "start_time": "2021-11-19T19:00:45.929Z"
   },
   {
    "duration": 20,
    "start_time": "2021-11-19T19:00:45.988Z"
   },
   {
    "duration": 19,
    "start_time": "2021-11-19T19:00:46.010Z"
   },
   {
    "duration": 12,
    "start_time": "2021-11-19T19:00:46.031Z"
   },
   {
    "duration": 44,
    "start_time": "2021-11-19T19:00:46.046Z"
   },
   {
    "duration": 12,
    "start_time": "2021-11-19T19:00:46.092Z"
   },
   {
    "duration": 6,
    "start_time": "2021-11-19T19:00:46.106Z"
   },
   {
    "duration": 68,
    "start_time": "2021-11-19T19:00:46.114Z"
   },
   {
    "duration": 17,
    "start_time": "2021-11-19T19:00:46.184Z"
   },
   {
    "duration": 25,
    "start_time": "2021-11-19T19:00:46.203Z"
   },
   {
    "duration": 53,
    "start_time": "2021-11-19T19:00:46.230Z"
   },
   {
    "duration": 14,
    "start_time": "2021-11-19T19:00:46.285Z"
   },
   {
    "duration": 6,
    "start_time": "2021-11-19T19:00:46.301Z"
   },
   {
    "duration": 12,
    "start_time": "2021-11-19T19:00:46.309Z"
   },
   {
    "duration": 6,
    "start_time": "2021-11-19T19:00:46.323Z"
   },
   {
    "duration": 886,
    "start_time": "2021-11-19T19:12:00.747Z"
   },
   {
    "duration": 195,
    "start_time": "2021-11-19T19:12:01.636Z"
   },
   {
    "duration": 27,
    "start_time": "2021-11-19T19:12:01.835Z"
   },
   {
    "duration": 33,
    "start_time": "2021-11-19T19:12:01.883Z"
   },
   {
    "duration": 6,
    "start_time": "2021-11-19T19:12:01.919Z"
   },
   {
    "duration": 62,
    "start_time": "2021-11-19T19:12:01.928Z"
   },
   {
    "duration": 7,
    "start_time": "2021-11-19T19:12:01.992Z"
   },
   {
    "duration": 51,
    "start_time": "2021-11-19T19:12:02.004Z"
   },
   {
    "duration": 33,
    "start_time": "2021-11-19T19:12:02.059Z"
   },
   {
    "duration": 31,
    "start_time": "2021-11-19T19:12:02.094Z"
   },
   {
    "duration": 112,
    "start_time": "2021-11-19T19:12:02.128Z"
   },
   {
    "duration": 145,
    "start_time": "2021-11-19T19:12:02.243Z"
   },
   {
    "duration": 139,
    "start_time": "2021-11-19T19:12:02.391Z"
   },
   {
    "duration": 100,
    "start_time": "2021-11-19T19:12:02.533Z"
   },
   {
    "duration": 5,
    "start_time": "2021-11-19T19:12:02.636Z"
   },
   {
    "duration": 50,
    "start_time": "2021-11-19T19:12:02.644Z"
   },
   {
    "duration": 108,
    "start_time": "2021-11-19T19:12:02.698Z"
   },
   {
    "duration": 23,
    "start_time": "2021-11-19T19:12:02.809Z"
   },
   {
    "duration": 47,
    "start_time": "2021-11-19T19:12:02.835Z"
   },
   {
    "duration": 6,
    "start_time": "2021-11-19T19:12:02.885Z"
   },
   {
    "duration": 45,
    "start_time": "2021-11-19T19:12:02.894Z"
   },
   {
    "duration": 47,
    "start_time": "2021-11-19T19:12:02.942Z"
   },
   {
    "duration": 32,
    "start_time": "2021-11-19T19:12:02.997Z"
   },
   {
    "duration": 57,
    "start_time": "2021-11-19T19:12:03.033Z"
   },
   {
    "duration": 31,
    "start_time": "2021-11-19T19:12:03.093Z"
   },
   {
    "duration": 31,
    "start_time": "2021-11-19T19:12:03.127Z"
   },
   {
    "duration": 16,
    "start_time": "2021-11-19T19:12:03.183Z"
   },
   {
    "duration": 38,
    "start_time": "2021-11-19T19:12:03.202Z"
   },
   {
    "duration": 18,
    "start_time": "2021-11-19T19:12:03.243Z"
   },
   {
    "duration": 20,
    "start_time": "2021-11-19T19:12:03.263Z"
   },
   {
    "duration": 33,
    "start_time": "2021-11-19T19:12:03.286Z"
   },
   {
    "duration": 18,
    "start_time": "2021-11-19T19:12:03.321Z"
   },
   {
    "duration": 49,
    "start_time": "2021-11-19T19:12:03.342Z"
   },
   {
    "duration": 19,
    "start_time": "2021-11-19T19:12:03.393Z"
   },
   {
    "duration": 14,
    "start_time": "2021-11-19T19:12:03.416Z"
   },
   {
    "duration": 7,
    "start_time": "2021-11-19T19:12:03.432Z"
   },
   {
    "duration": 42,
    "start_time": "2021-11-19T19:12:03.442Z"
   },
   {
    "duration": 6,
    "start_time": "2021-11-19T19:12:03.486Z"
   },
   {
    "duration": 429,
    "start_time": "2022-10-16T17:20:20.026Z"
   },
   {
    "duration": 201,
    "start_time": "2022-10-16T17:20:41.995Z"
   },
   {
    "duration": 17,
    "start_time": "2022-10-16T17:20:52.426Z"
   },
   {
    "duration": 30,
    "start_time": "2022-10-16T17:21:31.997Z"
   },
   {
    "duration": 4,
    "start_time": "2022-10-16T17:24:06.974Z"
   },
   {
    "duration": 15,
    "start_time": "2022-10-16T17:25:03.638Z"
   },
   {
    "duration": 4,
    "start_time": "2022-10-16T17:25:19.574Z"
   },
   {
    "duration": 41,
    "start_time": "2022-10-17T20:37:55.471Z"
   },
   {
    "duration": 376,
    "start_time": "2022-10-17T20:38:01.013Z"
   },
   {
    "duration": 449,
    "start_time": "2022-10-17T20:38:01.391Z"
   },
   {
    "duration": 16,
    "start_time": "2022-10-17T20:38:01.842Z"
   },
   {
    "duration": 27,
    "start_time": "2022-10-17T20:38:01.861Z"
   },
   {
    "duration": 4,
    "start_time": "2022-10-17T20:38:01.890Z"
   },
   {
    "duration": 15,
    "start_time": "2022-10-17T20:38:01.896Z"
   },
   {
    "duration": 6,
    "start_time": "2022-10-17T20:38:01.913Z"
   },
   {
    "duration": 24,
    "start_time": "2022-10-17T20:38:01.920Z"
   },
   {
    "duration": 17,
    "start_time": "2022-10-17T20:38:01.945Z"
   },
   {
    "duration": 20,
    "start_time": "2022-10-17T20:38:01.964Z"
   },
   {
    "duration": 73,
    "start_time": "2022-10-17T20:38:01.986Z"
   },
   {
    "duration": 74,
    "start_time": "2022-10-17T20:38:02.060Z"
   },
   {
    "duration": 54,
    "start_time": "2022-10-17T20:38:02.136Z"
   },
   {
    "duration": 43,
    "start_time": "2022-10-17T20:38:02.192Z"
   },
   {
    "duration": 3,
    "start_time": "2022-10-17T20:38:02.236Z"
   },
   {
    "duration": 14,
    "start_time": "2022-10-17T20:38:02.240Z"
   },
   {
    "duration": 49,
    "start_time": "2022-10-17T20:38:02.256Z"
   },
   {
    "duration": 11,
    "start_time": "2022-10-17T20:38:02.306Z"
   },
   {
    "duration": 9,
    "start_time": "2022-10-17T20:38:02.318Z"
   },
   {
    "duration": 6,
    "start_time": "2022-10-17T20:38:02.329Z"
   },
   {
    "duration": 19,
    "start_time": "2022-10-17T20:38:02.336Z"
   },
   {
    "duration": 11,
    "start_time": "2022-10-17T20:38:02.357Z"
   },
   {
    "duration": 12,
    "start_time": "2022-10-17T20:38:02.369Z"
   },
   {
    "duration": 30,
    "start_time": "2022-10-17T20:38:02.382Z"
   },
   {
    "duration": 15,
    "start_time": "2022-10-17T20:38:02.414Z"
   },
   {
    "duration": 11,
    "start_time": "2022-10-17T20:38:02.430Z"
   },
   {
    "duration": 9,
    "start_time": "2022-10-17T20:38:02.443Z"
   },
   {
    "duration": 11,
    "start_time": "2022-10-17T20:38:02.454Z"
   },
   {
    "duration": 8,
    "start_time": "2022-10-17T20:38:02.466Z"
   },
   {
    "duration": 30,
    "start_time": "2022-10-17T20:38:02.475Z"
   },
   {
    "duration": 23,
    "start_time": "2022-10-17T20:38:02.507Z"
   },
   {
    "duration": 10,
    "start_time": "2022-10-17T20:38:02.532Z"
   },
   {
    "duration": 13,
    "start_time": "2022-10-17T20:38:02.543Z"
   },
   {
    "duration": 9,
    "start_time": "2022-10-17T20:38:02.558Z"
   },
   {
    "duration": 9,
    "start_time": "2022-10-17T20:38:02.568Z"
   },
   {
    "duration": 3,
    "start_time": "2022-10-17T20:38:02.578Z"
   },
   {
    "duration": 26,
    "start_time": "2022-10-17T20:38:02.583Z"
   },
   {
    "duration": 6,
    "start_time": "2022-10-17T20:38:02.610Z"
   },
   {
    "duration": 14,
    "start_time": "2022-10-17T20:39:36.036Z"
   },
   {
    "duration": 20,
    "start_time": "2022-10-17T20:41:03.008Z"
   },
   {
    "duration": 53,
    "start_time": "2022-10-17T20:41:19.359Z"
   },
   {
    "duration": 60,
    "start_time": "2022-10-17T20:41:36.419Z"
   },
   {
    "duration": 33,
    "start_time": "2022-10-17T20:42:47.222Z"
   },
   {
    "duration": 3,
    "start_time": "2022-10-17T21:05:08.209Z"
   },
   {
    "duration": 8,
    "start_time": "2022-10-17T21:05:33.433Z"
   },
   {
    "duration": 21,
    "start_time": "2022-10-17T21:10:06.864Z"
   },
   {
    "duration": 12,
    "start_time": "2022-10-17T21:18:13.619Z"
   },
   {
    "duration": 8,
    "start_time": "2022-10-17T21:24:47.850Z"
   },
   {
    "duration": 362,
    "start_time": "2022-10-17T21:25:23.671Z"
   },
   {
    "duration": 154,
    "start_time": "2022-10-17T21:25:24.035Z"
   },
   {
    "duration": 26,
    "start_time": "2022-10-17T21:25:24.193Z"
   },
   {
    "duration": 34,
    "start_time": "2022-10-17T21:25:24.220Z"
   },
   {
    "duration": 5,
    "start_time": "2022-10-17T21:25:24.255Z"
   },
   {
    "duration": 12,
    "start_time": "2022-10-17T21:25:24.261Z"
   },
   {
    "duration": 7,
    "start_time": "2022-10-17T21:25:24.274Z"
   },
   {
    "duration": 42,
    "start_time": "2022-10-17T21:25:24.282Z"
   },
   {
    "duration": 17,
    "start_time": "2022-10-17T21:25:24.326Z"
   },
   {
    "duration": 21,
    "start_time": "2022-10-17T21:25:24.345Z"
   },
   {
    "duration": 80,
    "start_time": "2022-10-17T21:25:24.368Z"
   },
   {
    "duration": 70,
    "start_time": "2022-10-17T21:25:24.450Z"
   },
   {
    "duration": 55,
    "start_time": "2022-10-17T21:25:24.522Z"
   },
   {
    "duration": 44,
    "start_time": "2022-10-17T21:25:24.578Z"
   },
   {
    "duration": 3,
    "start_time": "2022-10-17T21:25:24.623Z"
   },
   {
    "duration": 15,
    "start_time": "2022-10-17T21:25:24.627Z"
   },
   {
    "duration": 10,
    "start_time": "2022-10-17T21:25:24.644Z"
   },
   {
    "duration": 10,
    "start_time": "2022-10-17T21:25:24.655Z"
   },
   {
    "duration": 3,
    "start_time": "2022-10-17T21:25:24.666Z"
   },
   {
    "duration": 35,
    "start_time": "2022-10-17T21:25:24.671Z"
   },
   {
    "duration": 13,
    "start_time": "2022-10-17T21:25:24.707Z"
   },
   {
    "duration": 12,
    "start_time": "2022-10-17T21:25:24.721Z"
   },
   {
    "duration": 13,
    "start_time": "2022-10-17T21:25:24.735Z"
   },
   {
    "duration": 15,
    "start_time": "2022-10-17T21:25:24.749Z"
   },
   {
    "duration": 13,
    "start_time": "2022-10-17T21:25:24.766Z"
   },
   {
    "duration": 9,
    "start_time": "2022-10-17T21:25:24.806Z"
   },
   {
    "duration": 11,
    "start_time": "2022-10-17T21:25:24.818Z"
   },
   {
    "duration": 9,
    "start_time": "2022-10-17T21:25:24.830Z"
   },
   {
    "duration": 6,
    "start_time": "2022-10-17T21:25:24.840Z"
   },
   {
    "duration": 24,
    "start_time": "2022-10-17T21:25:24.848Z"
   },
   {
    "duration": 36,
    "start_time": "2022-10-17T21:25:24.874Z"
   },
   {
    "duration": 14,
    "start_time": "2022-10-17T21:25:24.911Z"
   },
   {
    "duration": 9,
    "start_time": "2022-10-17T21:25:24.927Z"
   },
   {
    "duration": 8,
    "start_time": "2022-10-17T21:25:24.938Z"
   },
   {
    "duration": 4,
    "start_time": "2022-10-17T21:25:24.947Z"
   },
   {
    "duration": 8,
    "start_time": "2022-10-17T21:25:24.952Z"
   },
   {
    "duration": 5,
    "start_time": "2022-10-17T21:25:24.962Z"
   },
   {
    "duration": 13,
    "start_time": "2022-10-17T21:29:14.406Z"
   },
   {
    "duration": 10,
    "start_time": "2022-10-17T21:29:19.014Z"
   },
   {
    "duration": 4,
    "start_time": "2022-10-17T21:31:04.735Z"
   },
   {
    "duration": 14,
    "start_time": "2022-10-17T21:32:17.688Z"
   },
   {
    "duration": 13,
    "start_time": "2022-10-17T21:32:24.633Z"
   },
   {
    "duration": 5,
    "start_time": "2022-10-17T21:37:26.687Z"
   },
   {
    "duration": 6,
    "start_time": "2022-10-17T21:41:13.252Z"
   }
  ],
  "colab": {
   "collapsed_sections": [
    "E0vqbgi9ay0H",
    "VUC88oWjTJw2"
   ],
   "name": "yandex_music_project_2021.2.ipynb",
   "provenance": []
  },
  "kernelspec": {
   "display_name": "Python 3 (ipykernel)",
   "language": "python",
   "name": "python3"
  },
  "language_info": {
   "codemirror_mode": {
    "name": "ipython",
    "version": 3
   },
   "file_extension": ".py",
   "mimetype": "text/x-python",
   "name": "python",
   "nbconvert_exporter": "python",
   "pygments_lexer": "ipython3",
   "version": "3.9.5"
  },
  "toc": {
   "base_numbering": 1,
   "nav_menu": {},
   "number_sections": true,
   "sideBar": true,
   "skip_h1_title": true,
   "title_cell": "Содержание",
   "title_sidebar": "Contents",
   "toc_cell": true,
   "toc_position": {
    "height": "calc(100% - 180px)",
    "left": "10px",
    "top": "150px",
    "width": "238.396px"
   },
   "toc_section_display": true,
   "toc_window_display": true
  }
 },
 "nbformat": 4,
 "nbformat_minor": 1
}
