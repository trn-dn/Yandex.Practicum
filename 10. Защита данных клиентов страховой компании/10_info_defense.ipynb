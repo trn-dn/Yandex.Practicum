{
 "cells": [
  {
   "cell_type": "markdown",
   "metadata": {
    "toc": true
   },
   "source": [
    "<h1>Содержание<span class=\"tocSkip\"></span></h1>\n",
    "<div class=\"toc\"><ul class=\"toc-item\"><li><span><a href=\"#Загрузка-данных\" data-toc-modified-id=\"Загрузка-данных-1\"><span class=\"toc-item-num\">1&nbsp;&nbsp;</span>Загрузка данных</a></span></li><li><span><a href=\"#Умножение-матриц\" data-toc-modified-id=\"Умножение-матриц-2\"><span class=\"toc-item-num\">2&nbsp;&nbsp;</span>Умножение матриц</a></span></li><li><span><a href=\"#Алгоритм-преобразования\" data-toc-modified-id=\"Алгоритм-преобразования-3\"><span class=\"toc-item-num\">3&nbsp;&nbsp;</span>Алгоритм преобразования</a></span></li><li><span><a href=\"#Проверка-алгоритма\" data-toc-modified-id=\"Проверка-алгоритма-4\"><span class=\"toc-item-num\">4&nbsp;&nbsp;</span>Проверка алгоритма</a></span></li><li><span><a href=\"#Вывод\" data-toc-modified-id=\"Вывод-5\"><span class=\"toc-item-num\">5&nbsp;&nbsp;</span>Вывод</a></span></li></ul></div>"
   ]
  },
  {
   "cell_type": "markdown",
   "metadata": {},
   "source": [
    "# Защита персональных данных клиентов"
   ]
  },
  {
   "cell_type": "markdown",
   "metadata": {},
   "source": [
    "Нам нужно защитить данные клиентов страховой компании «Хоть потоп». Необходимо разработать такой метод преобразования данных, чтобы по ним было сложно восстановить персональную информацию. \n",
    "\n",
    "Нужно защитить данные, чтобы при преобразовании качество моделей машинного обучения не ухудшилось. Подбирать наилучшую модель не требуется."
   ]
  },
  {
   "cell_type": "markdown",
   "metadata": {},
   "source": [
    "## Загрузка данных"
   ]
  },
  {
   "cell_type": "markdown",
   "metadata": {},
   "source": [
    "Импортируем библиотеки, которые нам понадобятся для дальнейшей работы:"
   ]
  },
  {
   "cell_type": "code",
   "execution_count": 1,
   "metadata": {},
   "outputs": [],
   "source": [
    "import pandas as pd\n",
    "import numpy as np \n",
    "from sklearn.linear_model import LinearRegression\n",
    "from sklearn.metrics import r2_score"
   ]
  },
  {
   "cell_type": "markdown",
   "metadata": {},
   "source": [
    "Откроем наш датасет. Выведем на экран первые пять объектов, общую информацию о датасете и список характерных значений."
   ]
  },
  {
   "cell_type": "code",
   "execution_count": 2,
   "metadata": {},
   "outputs": [
    {
     "data": {
      "text/html": [
       "<div>\n",
       "<style scoped>\n",
       "    .dataframe tbody tr th:only-of-type {\n",
       "        vertical-align: middle;\n",
       "    }\n",
       "\n",
       "    .dataframe tbody tr th {\n",
       "        vertical-align: top;\n",
       "    }\n",
       "\n",
       "    .dataframe thead th {\n",
       "        text-align: right;\n",
       "    }\n",
       "</style>\n",
       "<table border=\"1\" class=\"dataframe\">\n",
       "  <thead>\n",
       "    <tr style=\"text-align: right;\">\n",
       "      <th></th>\n",
       "      <th>Пол</th>\n",
       "      <th>Возраст</th>\n",
       "      <th>Зарплата</th>\n",
       "      <th>Члены семьи</th>\n",
       "      <th>Страховые выплаты</th>\n",
       "    </tr>\n",
       "  </thead>\n",
       "  <tbody>\n",
       "    <tr>\n",
       "      <th>0</th>\n",
       "      <td>1</td>\n",
       "      <td>41.0</td>\n",
       "      <td>49600.0</td>\n",
       "      <td>1</td>\n",
       "      <td>0</td>\n",
       "    </tr>\n",
       "    <tr>\n",
       "      <th>1</th>\n",
       "      <td>0</td>\n",
       "      <td>46.0</td>\n",
       "      <td>38000.0</td>\n",
       "      <td>1</td>\n",
       "      <td>1</td>\n",
       "    </tr>\n",
       "    <tr>\n",
       "      <th>2</th>\n",
       "      <td>0</td>\n",
       "      <td>29.0</td>\n",
       "      <td>21000.0</td>\n",
       "      <td>0</td>\n",
       "      <td>0</td>\n",
       "    </tr>\n",
       "    <tr>\n",
       "      <th>3</th>\n",
       "      <td>0</td>\n",
       "      <td>21.0</td>\n",
       "      <td>41700.0</td>\n",
       "      <td>2</td>\n",
       "      <td>0</td>\n",
       "    </tr>\n",
       "    <tr>\n",
       "      <th>4</th>\n",
       "      <td>1</td>\n",
       "      <td>28.0</td>\n",
       "      <td>26100.0</td>\n",
       "      <td>0</td>\n",
       "      <td>0</td>\n",
       "    </tr>\n",
       "  </tbody>\n",
       "</table>\n",
       "</div>"
      ],
      "text/plain": [
       "   Пол  Возраст  Зарплата  Члены семьи  Страховые выплаты\n",
       "0    1     41.0   49600.0            1                  0\n",
       "1    0     46.0   38000.0            1                  1\n",
       "2    0     29.0   21000.0            0                  0\n",
       "3    0     21.0   41700.0            2                  0\n",
       "4    1     28.0   26100.0            0                  0"
      ]
     },
     "metadata": {},
     "output_type": "display_data"
    },
    {
     "name": "stdout",
     "output_type": "stream",
     "text": [
      "--------------------------------------------------\n",
      "<class 'pandas.core.frame.DataFrame'>\n",
      "RangeIndex: 5000 entries, 0 to 4999\n",
      "Data columns (total 5 columns):\n",
      " #   Column             Non-Null Count  Dtype  \n",
      "---  ------             --------------  -----  \n",
      " 0   Пол                5000 non-null   int64  \n",
      " 1   Возраст            5000 non-null   float64\n",
      " 2   Зарплата           5000 non-null   float64\n",
      " 3   Члены семьи        5000 non-null   int64  \n",
      " 4   Страховые выплаты  5000 non-null   int64  \n",
      "dtypes: float64(2), int64(3)\n",
      "memory usage: 195.4 KB\n",
      "--------------------------------------------------\n"
     ]
    },
    {
     "data": {
      "text/html": [
       "<div>\n",
       "<style scoped>\n",
       "    .dataframe tbody tr th:only-of-type {\n",
       "        vertical-align: middle;\n",
       "    }\n",
       "\n",
       "    .dataframe tbody tr th {\n",
       "        vertical-align: top;\n",
       "    }\n",
       "\n",
       "    .dataframe thead th {\n",
       "        text-align: right;\n",
       "    }\n",
       "</style>\n",
       "<table border=\"1\" class=\"dataframe\">\n",
       "  <thead>\n",
       "    <tr style=\"text-align: right;\">\n",
       "      <th></th>\n",
       "      <th>Пол</th>\n",
       "      <th>Возраст</th>\n",
       "      <th>Зарплата</th>\n",
       "      <th>Члены семьи</th>\n",
       "      <th>Страховые выплаты</th>\n",
       "    </tr>\n",
       "  </thead>\n",
       "  <tbody>\n",
       "    <tr>\n",
       "      <th>count</th>\n",
       "      <td>5000.000000</td>\n",
       "      <td>5000.000000</td>\n",
       "      <td>5000.000000</td>\n",
       "      <td>5000.000000</td>\n",
       "      <td>5000.000000</td>\n",
       "    </tr>\n",
       "    <tr>\n",
       "      <th>mean</th>\n",
       "      <td>0.499000</td>\n",
       "      <td>30.952800</td>\n",
       "      <td>39916.360000</td>\n",
       "      <td>1.194200</td>\n",
       "      <td>0.148000</td>\n",
       "    </tr>\n",
       "    <tr>\n",
       "      <th>std</th>\n",
       "      <td>0.500049</td>\n",
       "      <td>8.440807</td>\n",
       "      <td>9900.083569</td>\n",
       "      <td>1.091387</td>\n",
       "      <td>0.463183</td>\n",
       "    </tr>\n",
       "    <tr>\n",
       "      <th>min</th>\n",
       "      <td>0.000000</td>\n",
       "      <td>18.000000</td>\n",
       "      <td>5300.000000</td>\n",
       "      <td>0.000000</td>\n",
       "      <td>0.000000</td>\n",
       "    </tr>\n",
       "    <tr>\n",
       "      <th>25%</th>\n",
       "      <td>0.000000</td>\n",
       "      <td>24.000000</td>\n",
       "      <td>33300.000000</td>\n",
       "      <td>0.000000</td>\n",
       "      <td>0.000000</td>\n",
       "    </tr>\n",
       "    <tr>\n",
       "      <th>50%</th>\n",
       "      <td>0.000000</td>\n",
       "      <td>30.000000</td>\n",
       "      <td>40200.000000</td>\n",
       "      <td>1.000000</td>\n",
       "      <td>0.000000</td>\n",
       "    </tr>\n",
       "    <tr>\n",
       "      <th>75%</th>\n",
       "      <td>1.000000</td>\n",
       "      <td>37.000000</td>\n",
       "      <td>46600.000000</td>\n",
       "      <td>2.000000</td>\n",
       "      <td>0.000000</td>\n",
       "    </tr>\n",
       "    <tr>\n",
       "      <th>max</th>\n",
       "      <td>1.000000</td>\n",
       "      <td>65.000000</td>\n",
       "      <td>79000.000000</td>\n",
       "      <td>6.000000</td>\n",
       "      <td>5.000000</td>\n",
       "    </tr>\n",
       "  </tbody>\n",
       "</table>\n",
       "</div>"
      ],
      "text/plain": [
       "               Пол      Возраст      Зарплата  Члены семьи  Страховые выплаты\n",
       "count  5000.000000  5000.000000   5000.000000  5000.000000        5000.000000\n",
       "mean      0.499000    30.952800  39916.360000     1.194200           0.148000\n",
       "std       0.500049     8.440807   9900.083569     1.091387           0.463183\n",
       "min       0.000000    18.000000   5300.000000     0.000000           0.000000\n",
       "25%       0.000000    24.000000  33300.000000     0.000000           0.000000\n",
       "50%       0.000000    30.000000  40200.000000     1.000000           0.000000\n",
       "75%       1.000000    37.000000  46600.000000     2.000000           0.000000\n",
       "max       1.000000    65.000000  79000.000000     6.000000           5.000000"
      ]
     },
     "execution_count": 2,
     "metadata": {},
     "output_type": "execute_result"
    }
   ],
   "source": [
    "df = pd.read_csv('/datasets/insurance.csv')\n",
    "\n",
    "display(df.head())\n",
    "print('--------------------------------------------------')\n",
    "df.info()\n",
    "print('--------------------------------------------------')\n",
    "df.describe()"
   ]
  },
  {
   "cell_type": "markdown",
   "metadata": {},
   "source": [
    "Согласно документации к данным:\n",
    "- **Признаки:** пол, возраст и зарплата застрахованного, количество членов его семьи.\n",
    "- **Целевой признак:** количество страховых выплат клиенту за последние 5 лет."
   ]
  },
  {
   "cell_type": "markdown",
   "metadata": {},
   "source": [
    "В результате первоначального ознакомления с датасетом, мы можем отметить, что датасет состоит из 5 тыс. объектов и 5 признаков. Столбец `Страховые выплаты` будет являться целевым признаком. Пропусков не обнаружено. Далее скорректируем тип данных и проверим наш датасет на дубликаты."
   ]
  },
  {
   "cell_type": "markdown",
   "metadata": {},
   "source": [
    "Для начала, скорерктируем тип данных для столбцов `Возраст` и `Зарплата`."
   ]
  },
  {
   "cell_type": "code",
   "execution_count": 3,
   "metadata": {},
   "outputs": [],
   "source": [
    "df['Возраст'] = df['Возраст'].astype('int')\n",
    "df['Зарплата'] = df['Зарплата'].astype('int')"
   ]
  },
  {
   "cell_type": "markdown",
   "metadata": {},
   "source": [
    "Проверим наши данные на дубликаты:"
   ]
  },
  {
   "cell_type": "code",
   "execution_count": 4,
   "metadata": {},
   "outputs": [
    {
     "data": {
      "text/plain": [
       "153"
      ]
     },
     "execution_count": 4,
     "metadata": {},
     "output_type": "execute_result"
    }
   ],
   "source": [
    "df.duplicated().sum()"
   ]
  },
  {
   "cell_type": "markdown",
   "metadata": {},
   "source": [
    "Было обнаружено 153 дубликата. Почистим наш датасет."
   ]
  },
  {
   "cell_type": "code",
   "execution_count": 5,
   "metadata": {},
   "outputs": [],
   "source": [
    "df = df.drop_duplicates().reset_index(drop=True)"
   ]
  },
  {
   "cell_type": "markdown",
   "metadata": {},
   "source": [
    "Следующим шагом разделим наш датасет на признаки и целевой признак."
   ]
  },
  {
   "cell_type": "code",
   "execution_count": 6,
   "metadata": {},
   "outputs": [],
   "source": [
    "features = df.drop('Страховые выплаты', axis=1)\n",
    "target = df['Страховые выплаты']"
   ]
  },
  {
   "cell_type": "markdown",
   "metadata": {},
   "source": [
    "Открыли, изучили и провели предобработку нашего датасета. Можно двигаться дальше!"
   ]
  },
  {
   "cell_type": "markdown",
   "metadata": {},
   "source": [
    "## Умножение матриц"
   ]
  },
  {
   "cell_type": "markdown",
   "metadata": {},
   "source": [
    "Признаки умножают на обратимую матрицу. Изменится ли качество линейной регрессии? (Её можно обучить заново)\n",
    "\n",
    "a. Изменится. \n",
    "\n",
    "b. Не изменится."
   ]
  },
  {
   "cell_type": "markdown",
   "metadata": {},
   "source": [
    "Обозначения:\n",
    "\n",
    "- $X$ — матрица признаков (нулевой столбец состоит из единиц)\n",
    "\n",
    "- $y$ — вектор целевого признака\n",
    "\n",
    "- $P$ — матрица, на которую умножаются признаки\n",
    "\n",
    "- $w$ — вектор весов линейной регрессии (нулевой элемент равен сдвигу)"
   ]
  },
  {
   "cell_type": "markdown",
   "metadata": {},
   "source": [
    "Предсказания:\n",
    "\n",
    "$$\n",
    "a = Xw\n",
    "$$\n",
    "\n",
    "Задача обучения:\n",
    "\n",
    "$$\n",
    "w = \\arg\\min_w MSE(Xw, y)\n",
    "$$\n",
    "\n",
    "Формула обучения:\n",
    "\n",
    "$$\n",
    "w = (X^T X)^{-1} X^T y\n",
    "$$"
   ]
  },
  {
   "cell_type": "markdown",
   "metadata": {},
   "source": [
    "**Ответ:** b. После умножения признаков на обратимую матрицу качество линейной регрессии не изменится. Но поменяются веса для новых признаков. \n",
    "\n",
    "**Обоснование:**\n",
    "\n",
    "Пусть\n",
    "\n",
    "$$\n",
    "X_1 = X P\n",
    "$$\n",
    "$$\n",
    "w_1 = ((X_1^T X_1)^{-1} X_1^T y \n",
    "$$\n",
    "\n",
    ", тогда\n",
    "\n",
    "$$\n",
    "w_1 = ((X P)^T X P)^{-1} (X P)^T y\n",
    "$$\n",
    "\n",
    "Применим свойство матриц $(A B)^T = B^T A^T$:\n",
    "\n",
    "$$\n",
    "w_1 = (P^T X^T X P)^{-1} P^T X^T y\n",
    "$$\n",
    "\n",
    "Матрицы $X$ и $X^T$ прямоугольные, поэтому для них не существует обратных матриц, а матрица $P$ - квдратная. Вынести из формулы множители в виде обратных матриц $P$ можно:\n",
    "\n",
    "$$\n",
    "w_1 = P^{-1} (X^T X)^{-1} (P^T)^{-1} P^T X^T y\n",
    "$$\n",
    "\n",
    "Т.к.  $(P^T)^{-1} P^T$ - это единичная матрица, то мы можем её сократить, тогда остаётся следующее:\n",
    "\n",
    "$$\n",
    "w_1 = P^{-1} (X^T X)^{-1} X^T y\n",
    "$$\n",
    "\n",
    "Т.к. $w = (X^T X)^{-1} X^T y$ - это веса, из этого следует:\n",
    "\n",
    "$$\n",
    "w_1 = P^{-1} w\n",
    "$$\n",
    "\n",
    "Подставим получившееся значение в формулу предсказаний:\n",
    "\n",
    "$$\n",
    "a_1 = X_1 w_1\n",
    "$$\n",
    "$$\n",
    "a_1 = X P P^{-1}w\n",
    "$$\n",
    "$$\n",
    "a_1 = X w\n",
    "$$"
   ]
  },
  {
   "cell_type": "markdown",
   "metadata": {},
   "source": [
    "## Алгоритм преобразования"
   ]
  },
  {
   "cell_type": "markdown",
   "metadata": {},
   "source": [
    "Создадим рандомную матрицу размером 4х4 и сохраним её в переменной `p_matrix`."
   ]
  },
  {
   "cell_type": "code",
   "execution_count": 7,
   "metadata": {},
   "outputs": [
    {
     "data": {
      "text/plain": [
       "array([[95, 13, 63, 65],\n",
       "       [23, 91, 21, 28],\n",
       "       [80,  3,  3, 95],\n",
       "       [97, 37, 36, 58]])"
      ]
     },
     "execution_count": 7,
     "metadata": {},
     "output_type": "execute_result"
    }
   ],
   "source": [
    "p_matrix = np.random.randint(100, size=(4, 4))\n",
    "p_matrix"
   ]
  },
  {
   "cell_type": "markdown",
   "metadata": {},
   "source": [
    "Проверим нашу матрицу на обратимость:"
   ]
  },
  {
   "cell_type": "code",
   "execution_count": 8,
   "metadata": {},
   "outputs": [
    {
     "data": {
      "text/plain": [
       "array([[-0.01487626, -0.01109831, -0.00674   ,  0.03306913],\n",
       "       [-0.00620044,  0.00978109, -0.00187719,  0.00530156],\n",
       "       [ 0.0273489 ,  0.00557491, -0.00643648, -0.02279845],\n",
       "       [ 0.01185953,  0.00886102,  0.01646464, -0.02729516]])"
      ]
     },
     "execution_count": 8,
     "metadata": {},
     "output_type": "execute_result"
    }
   ],
   "source": [
    "np.linalg.inv(p_matrix)"
   ]
  },
  {
   "cell_type": "markdown",
   "metadata": {},
   "source": [
    "Отлично! Наша матрица обратима."
   ]
  },
  {
   "cell_type": "markdown",
   "metadata": {},
   "source": [
    "Далее чтобы практически доказать, что метрика качества не изменится, вручную посчитаем $a$ (до умножения признаков на обратимую матрицу) и $a_1$ (после умножения)."
   ]
  },
  {
   "cell_type": "markdown",
   "metadata": {},
   "source": [
    "**До умножения:**"
   ]
  },
  {
   "cell_type": "code",
   "execution_count": 9,
   "metadata": {},
   "outputs": [],
   "source": [
    "w = ((np.linalg.inv(features.T.dot(features))).dot(features.T)).dot(target)\n",
    "a = features.dot(w)"
   ]
  },
  {
   "cell_type": "markdown",
   "metadata": {},
   "source": [
    "**После умножения:**"
   ]
  },
  {
   "cell_type": "code",
   "execution_count": 10,
   "metadata": {},
   "outputs": [],
   "source": [
    "features_1 = features.dot(p_matrix)\n",
    "w_1 = ((np.linalg.inv(features_1.T.dot(features_1))).dot(features_1.T)).dot(target)\n",
    "a_1 = features_1.dot(w_1)"
   ]
  },
  {
   "cell_type": "markdown",
   "metadata": {},
   "source": [
    "**Итог:**"
   ]
  },
  {
   "cell_type": "code",
   "execution_count": 11,
   "metadata": {},
   "outputs": [
    {
     "data": {
      "text/plain": [
       "0       0.288795\n",
       "1       0.588191\n",
       "2       0.435566\n",
       "3      -0.092785\n",
       "4       0.307588\n",
       "          ...   \n",
       "4842    0.143509\n",
       "4843    0.134366\n",
       "4844   -0.023962\n",
       "4845   -0.053629\n",
       "4846    0.088639\n",
       "Length: 4847, dtype: float64"
      ]
     },
     "execution_count": 11,
     "metadata": {},
     "output_type": "execute_result"
    }
   ],
   "source": [
    "a"
   ]
  },
  {
   "cell_type": "code",
   "execution_count": 12,
   "metadata": {},
   "outputs": [
    {
     "data": {
      "text/plain": [
       "0       0.288796\n",
       "1       0.588191\n",
       "2       0.435566\n",
       "3      -0.092785\n",
       "4       0.307588\n",
       "          ...   \n",
       "4842    0.143509\n",
       "4843    0.134367\n",
       "4844   -0.023962\n",
       "4845   -0.053629\n",
       "4846    0.088639\n",
       "Length: 4847, dtype: float64"
      ]
     },
     "execution_count": 12,
     "metadata": {},
     "output_type": "execute_result"
    }
   ],
   "source": [
    "a_1"
   ]
  },
  {
   "cell_type": "markdown",
   "metadata": {},
   "source": [
    "В итоге мы видим, что значение предсказаний после умножения признаков на обратимую матрицу не изменились! "
   ]
  },
  {
   "cell_type": "markdown",
   "metadata": {},
   "source": [
    "## Проверка алгоритма"
   ]
  },
  {
   "cell_type": "markdown",
   "metadata": {},
   "source": [
    "**До преобразования:**"
   ]
  },
  {
   "cell_type": "code",
   "execution_count": 13,
   "metadata": {},
   "outputs": [
    {
     "name": "stdout",
     "output_type": "stream",
     "text": [
      "Метрика R2 до преобразования: 0.4302010046633359\n"
     ]
    }
   ],
   "source": [
    "model = LinearRegression()\n",
    "model.fit(features, target)\n",
    "predictions = model.predict(features)\n",
    "r2 = r2_score(target, predictions)\n",
    "print(f'Метрика R2 до преобразования: {r2}')"
   ]
  },
  {
   "cell_type": "markdown",
   "metadata": {},
   "source": [
    "**После преобразования:**"
   ]
  },
  {
   "cell_type": "code",
   "execution_count": 14,
   "metadata": {},
   "outputs": [
    {
     "name": "stdout",
     "output_type": "stream",
     "text": [
      "Метрика R2 после преобразования: 0.43020100466336275\n"
     ]
    }
   ],
   "source": [
    "features_p = features.dot(p_matrix)\n",
    "model = LinearRegression()\n",
    "model.fit(features_p, target)\n",
    "predictions = model.predict(features_p)\n",
    "r2_1 = r2_score(target, predictions)\n",
    "print(f'Метрика R2 после преобразования: {r2_1}')"
   ]
  },
  {
   "cell_type": "markdown",
   "metadata": {},
   "source": [
    "## Вывод"
   ]
  },
  {
   "cell_type": "markdown",
   "metadata": {},
   "source": [
    "В данном проекте перед нами стояла задача доказать, что при умножении признаков на обратимую матрицу качество линейной регрессии не изменится.\n",
    "\n",
    "Во втором пункте нашего проекта мы доказала это теорией, в третьем провели это практически, подставив наши данные в формулу предсказания. А в заключительном пункте мы на примере реального датасета подтвердили, что качество линейной регрессии не изменилось.\n",
    "\n",
    "Также здесь стоит отметить, что с помощью данного метода можно легко зашифровать личные данные пользователей, и это никак не повлияет на результаты предсказания. "
   ]
  }
 ],
 "metadata": {
  "ExecuteTimeLog": [
   {
    "duration": 425,
    "start_time": "2022-05-18T16:21:50.039Z"
   },
   {
    "duration": 4,
    "start_time": "2022-05-18T16:21:50.466Z"
   },
   {
    "duration": 154,
    "start_time": "2022-05-18T16:22:32.539Z"
   },
   {
    "duration": 69,
    "start_time": "2022-05-18T16:22:42.783Z"
   },
   {
    "duration": 5,
    "start_time": "2022-05-18T16:31:23.146Z"
   },
   {
    "duration": 8,
    "start_time": "2022-05-18T16:31:58.584Z"
   },
   {
    "duration": 13,
    "start_time": "2022-05-18T16:32:46.457Z"
   },
   {
    "duration": 16,
    "start_time": "2022-05-18T16:33:35.683Z"
   },
   {
    "duration": 5,
    "start_time": "2022-05-18T16:33:53.539Z"
   },
   {
    "duration": 67,
    "start_time": "2022-05-18T16:34:18.720Z"
   },
   {
    "duration": 404,
    "start_time": "2022-05-18T16:38:17.553Z"
   },
   {
    "duration": 82,
    "start_time": "2022-05-18T16:38:17.959Z"
   },
   {
    "duration": 6,
    "start_time": "2022-05-18T16:38:18.048Z"
   },
   {
    "duration": 7,
    "start_time": "2022-05-18T16:38:18.056Z"
   },
   {
    "duration": 7,
    "start_time": "2022-05-18T16:38:18.064Z"
   },
   {
    "duration": 10,
    "start_time": "2022-05-18T16:40:03.550Z"
   },
   {
    "duration": 416,
    "start_time": "2022-05-18T16:40:24.643Z"
   },
   {
    "duration": 72,
    "start_time": "2022-05-18T16:40:25.060Z"
   },
   {
    "duration": 5,
    "start_time": "2022-05-18T16:40:25.133Z"
   },
   {
    "duration": 23,
    "start_time": "2022-05-18T16:40:25.139Z"
   },
   {
    "duration": 6,
    "start_time": "2022-05-18T16:40:25.164Z"
   },
   {
    "duration": 10,
    "start_time": "2022-05-18T16:40:25.172Z"
   },
   {
    "duration": 67,
    "start_time": "2022-05-22T14:31:28.583Z"
   },
   {
    "duration": 447,
    "start_time": "2022-05-22T14:31:35.326Z"
   },
   {
    "duration": 164,
    "start_time": "2022-05-22T14:31:35.775Z"
   },
   {
    "duration": 5,
    "start_time": "2022-05-22T14:31:35.940Z"
   },
   {
    "duration": 13,
    "start_time": "2022-05-22T14:31:35.946Z"
   },
   {
    "duration": 6,
    "start_time": "2022-05-22T14:31:35.960Z"
   },
   {
    "duration": 8,
    "start_time": "2022-05-22T14:31:35.968Z"
   },
   {
    "duration": 9,
    "start_time": "2022-05-22T14:31:54.224Z"
   },
   {
    "duration": 7,
    "start_time": "2022-05-22T14:32:08.539Z"
   },
   {
    "duration": 351,
    "start_time": "2022-05-23T19:38:45.114Z"
   },
   {
    "duration": 155,
    "start_time": "2022-05-23T19:38:45.467Z"
   },
   {
    "duration": 4,
    "start_time": "2022-05-23T19:38:45.624Z"
   },
   {
    "duration": 22,
    "start_time": "2022-05-23T19:38:45.629Z"
   },
   {
    "duration": 6,
    "start_time": "2022-05-23T19:38:45.652Z"
   },
   {
    "duration": 21,
    "start_time": "2022-05-23T19:38:45.659Z"
   },
   {
    "duration": 3,
    "start_time": "2022-05-23T19:40:30.070Z"
   },
   {
    "duration": 5,
    "start_time": "2022-05-23T19:40:37.718Z"
   },
   {
    "duration": 4,
    "start_time": "2022-05-23T19:45:11.409Z"
   },
   {
    "duration": 380,
    "start_time": "2022-05-23T19:45:20.499Z"
   },
   {
    "duration": 78,
    "start_time": "2022-05-23T19:45:20.881Z"
   },
   {
    "duration": 4,
    "start_time": "2022-05-23T19:45:20.961Z"
   },
   {
    "duration": 38,
    "start_time": "2022-05-23T19:45:20.967Z"
   },
   {
    "duration": 27,
    "start_time": "2022-05-23T19:45:21.006Z"
   },
   {
    "duration": 30,
    "start_time": "2022-05-23T19:45:21.035Z"
   },
   {
    "duration": 28,
    "start_time": "2022-05-23T19:45:21.067Z"
   },
   {
    "duration": 70,
    "start_time": "2022-05-23T19:47:01.760Z"
   },
   {
    "duration": 6,
    "start_time": "2022-05-23T19:47:07.588Z"
   },
   {
    "duration": 5,
    "start_time": "2022-05-23T19:55:29.081Z"
   },
   {
    "duration": 267,
    "start_time": "2022-05-23T19:55:53.033Z"
   },
   {
    "duration": 12,
    "start_time": "2022-05-23T19:56:06.917Z"
   },
   {
    "duration": 397,
    "start_time": "2022-05-23T19:56:12.660Z"
   },
   {
    "duration": 63,
    "start_time": "2022-05-23T19:56:13.059Z"
   },
   {
    "duration": 5,
    "start_time": "2022-05-23T19:56:13.123Z"
   },
   {
    "duration": 9,
    "start_time": "2022-05-23T19:56:13.130Z"
   },
   {
    "duration": 8,
    "start_time": "2022-05-23T19:56:13.141Z"
   },
   {
    "duration": 4,
    "start_time": "2022-05-23T19:56:13.150Z"
   },
   {
    "duration": 8,
    "start_time": "2022-05-23T19:56:13.155Z"
   },
   {
    "duration": 7,
    "start_time": "2022-05-23T19:56:13.164Z"
   },
   {
    "duration": 7,
    "start_time": "2022-05-23T19:56:13.173Z"
   },
   {
    "duration": 11,
    "start_time": "2022-05-23T19:56:21.098Z"
   },
   {
    "duration": 87,
    "start_time": "2022-05-23T19:57:17.812Z"
   },
   {
    "duration": 8,
    "start_time": "2022-05-23T19:57:22.984Z"
   },
   {
    "duration": 3,
    "start_time": "2022-05-23T19:57:27.995Z"
   },
   {
    "duration": 5,
    "start_time": "2022-05-23T19:57:36.130Z"
   },
   {
    "duration": 4,
    "start_time": "2022-05-23T19:57:54.325Z"
   },
   {
    "duration": 9,
    "start_time": "2022-05-23T19:58:28.716Z"
   },
   {
    "duration": 374,
    "start_time": "2022-05-23T19:58:44.311Z"
   },
   {
    "duration": 77,
    "start_time": "2022-05-23T19:58:44.687Z"
   },
   {
    "duration": 4,
    "start_time": "2022-05-23T19:58:44.766Z"
   },
   {
    "duration": 22,
    "start_time": "2022-05-23T19:58:44.772Z"
   },
   {
    "duration": 24,
    "start_time": "2022-05-23T19:58:44.796Z"
   },
   {
    "duration": 27,
    "start_time": "2022-05-23T19:58:44.822Z"
   },
   {
    "duration": 30,
    "start_time": "2022-05-23T19:58:44.850Z"
   },
   {
    "duration": 31,
    "start_time": "2022-05-23T19:58:44.882Z"
   },
   {
    "duration": 45,
    "start_time": "2022-05-23T19:58:44.914Z"
   },
   {
    "duration": 162,
    "start_time": "2022-05-23T19:58:44.962Z"
   },
   {
    "duration": 8,
    "start_time": "2022-05-23T19:59:36.854Z"
   },
   {
    "duration": 10,
    "start_time": "2022-05-23T20:01:18.489Z"
   },
   {
    "duration": 397,
    "start_time": "2022-05-23T20:01:23.100Z"
   },
   {
    "duration": 64,
    "start_time": "2022-05-23T20:01:23.499Z"
   },
   {
    "duration": 4,
    "start_time": "2022-05-23T20:01:23.565Z"
   },
   {
    "duration": 25,
    "start_time": "2022-05-23T20:01:23.571Z"
   },
   {
    "duration": 17,
    "start_time": "2022-05-23T20:01:23.598Z"
   },
   {
    "duration": 28,
    "start_time": "2022-05-23T20:01:23.616Z"
   },
   {
    "duration": 30,
    "start_time": "2022-05-23T20:01:23.645Z"
   },
   {
    "duration": 31,
    "start_time": "2022-05-23T20:01:23.677Z"
   },
   {
    "duration": 51,
    "start_time": "2022-05-23T20:01:23.710Z"
   },
   {
    "duration": 14,
    "start_time": "2022-05-23T20:03:40.388Z"
   },
   {
    "duration": 352,
    "start_time": "2022-05-23T20:03:47.110Z"
   },
   {
    "duration": 63,
    "start_time": "2022-05-23T20:03:47.464Z"
   },
   {
    "duration": 4,
    "start_time": "2022-05-23T20:03:47.528Z"
   },
   {
    "duration": 22,
    "start_time": "2022-05-23T20:03:47.534Z"
   },
   {
    "duration": 13,
    "start_time": "2022-05-23T20:03:47.557Z"
   },
   {
    "duration": 19,
    "start_time": "2022-05-23T20:03:47.571Z"
   },
   {
    "duration": 28,
    "start_time": "2022-05-23T20:03:47.591Z"
   },
   {
    "duration": 22,
    "start_time": "2022-05-23T20:03:47.621Z"
   },
   {
    "duration": 34,
    "start_time": "2022-05-23T20:03:47.645Z"
   },
   {
    "duration": 87,
    "start_time": "2022-05-23T20:03:47.682Z"
   },
   {
    "duration": 6,
    "start_time": "2022-05-23T20:03:52.956Z"
   },
   {
    "duration": 368,
    "start_time": "2022-05-23T20:03:59.497Z"
   },
   {
    "duration": 87,
    "start_time": "2022-05-23T20:03:59.867Z"
   },
   {
    "duration": 4,
    "start_time": "2022-05-23T20:03:59.956Z"
   },
   {
    "duration": 7,
    "start_time": "2022-05-23T20:03:59.962Z"
   },
   {
    "duration": 5,
    "start_time": "2022-05-23T20:03:59.970Z"
   },
   {
    "duration": 17,
    "start_time": "2022-05-23T20:03:59.977Z"
   },
   {
    "duration": 6,
    "start_time": "2022-05-23T20:03:59.996Z"
   },
   {
    "duration": 10,
    "start_time": "2022-05-23T20:04:00.004Z"
   },
   {
    "duration": 47,
    "start_time": "2022-05-23T20:04:00.015Z"
   },
   {
    "duration": 100,
    "start_time": "2022-05-23T20:04:00.067Z"
   },
   {
    "duration": 7,
    "start_time": "2022-05-23T20:04:16.038Z"
   },
   {
    "duration": 5,
    "start_time": "2022-05-23T20:04:22.019Z"
   },
   {
    "duration": 17,
    "start_time": "2022-05-23T20:04:33.369Z"
   },
   {
    "duration": 5,
    "start_time": "2022-05-23T20:04:34.135Z"
   },
   {
    "duration": 5,
    "start_time": "2022-05-23T20:04:34.616Z"
   },
   {
    "duration": 636,
    "start_time": "2022-05-23T20:08:46.754Z"
   },
   {
    "duration": 919,
    "start_time": "2022-05-23T20:09:49.972Z"
   },
   {
    "duration": 140,
    "start_time": "2022-05-23T20:09:50.893Z"
   },
   {
    "duration": 6,
    "start_time": "2022-05-23T20:09:51.035Z"
   },
   {
    "duration": 25,
    "start_time": "2022-05-23T20:09:51.043Z"
   },
   {
    "duration": 7,
    "start_time": "2022-05-23T20:09:51.070Z"
   },
   {
    "duration": 18,
    "start_time": "2022-05-23T20:09:51.079Z"
   },
   {
    "duration": 17,
    "start_time": "2022-05-23T20:09:51.099Z"
   },
   {
    "duration": 21,
    "start_time": "2022-05-23T20:09:51.118Z"
   },
   {
    "duration": 30,
    "start_time": "2022-05-23T20:09:51.141Z"
   },
   {
    "duration": 192,
    "start_time": "2022-05-23T20:09:51.177Z"
   },
   {
    "duration": 199,
    "start_time": "2022-05-23T20:09:51.370Z"
   },
   {
    "duration": 16,
    "start_time": "2022-05-23T20:09:51.571Z"
   },
   {
    "duration": 107,
    "start_time": "2022-05-23T20:11:45.134Z"
   },
   {
    "duration": 11,
    "start_time": "2022-05-23T20:11:56.503Z"
   },
   {
    "duration": 848,
    "start_time": "2022-05-23T20:12:15.933Z"
   },
   {
    "duration": 130,
    "start_time": "2022-05-23T20:12:16.783Z"
   },
   {
    "duration": 4,
    "start_time": "2022-05-23T20:12:16.915Z"
   },
   {
    "duration": 13,
    "start_time": "2022-05-23T20:12:16.922Z"
   },
   {
    "duration": 14,
    "start_time": "2022-05-23T20:12:16.937Z"
   },
   {
    "duration": 9,
    "start_time": "2022-05-23T20:12:16.953Z"
   },
   {
    "duration": 8,
    "start_time": "2022-05-23T20:12:16.964Z"
   },
   {
    "duration": 8,
    "start_time": "2022-05-23T20:12:16.973Z"
   },
   {
    "duration": 78,
    "start_time": "2022-05-23T20:12:16.983Z"
   },
   {
    "duration": 207,
    "start_time": "2022-05-23T20:12:17.064Z"
   },
   {
    "duration": 194,
    "start_time": "2022-05-23T20:12:17.272Z"
   },
   {
    "duration": 11,
    "start_time": "2022-05-23T20:12:17.468Z"
   },
   {
    "duration": 113,
    "start_time": "2022-05-23T20:12:17.481Z"
   },
   {
    "duration": 172,
    "start_time": "2022-05-23T20:12:23.382Z"
   },
   {
    "duration": 171,
    "start_time": "2022-05-23T20:19:36.212Z"
   },
   {
    "duration": 208,
    "start_time": "2022-05-23T20:20:42.532Z"
   },
   {
    "duration": 863,
    "start_time": "2022-05-23T20:20:59.616Z"
   },
   {
    "duration": 141,
    "start_time": "2022-05-23T20:21:00.481Z"
   },
   {
    "duration": 4,
    "start_time": "2022-05-23T20:21:00.624Z"
   },
   {
    "duration": 78,
    "start_time": "2022-05-23T20:21:00.630Z"
   },
   {
    "duration": 21,
    "start_time": "2022-05-23T20:21:00.710Z"
   },
   {
    "duration": 70,
    "start_time": "2022-05-23T20:21:00.733Z"
   },
   {
    "duration": 79,
    "start_time": "2022-05-23T20:21:00.804Z"
   },
   {
    "duration": 30,
    "start_time": "2022-05-23T20:21:00.885Z"
   },
   {
    "duration": 152,
    "start_time": "2022-05-23T20:21:00.917Z"
   },
   {
    "duration": 98,
    "start_time": "2022-05-23T20:21:01.077Z"
   },
   {
    "duration": 200,
    "start_time": "2022-05-23T20:21:01.182Z"
   },
   {
    "duration": 35,
    "start_time": "2022-05-23T20:21:01.384Z"
   },
   {
    "duration": 192,
    "start_time": "2022-05-23T20:21:01.421Z"
   },
   {
    "duration": 191,
    "start_time": "2022-05-23T20:21:01.615Z"
   },
   {
    "duration": 830,
    "start_time": "2022-05-23T20:21:35.412Z"
   },
   {
    "duration": 127,
    "start_time": "2022-05-23T20:21:36.244Z"
   },
   {
    "duration": 4,
    "start_time": "2022-05-23T20:21:36.373Z"
   },
   {
    "duration": 25,
    "start_time": "2022-05-23T20:21:36.379Z"
   },
   {
    "duration": 26,
    "start_time": "2022-05-23T20:21:36.406Z"
   },
   {
    "duration": 25,
    "start_time": "2022-05-23T20:21:36.434Z"
   },
   {
    "duration": 38,
    "start_time": "2022-05-23T20:21:36.461Z"
   },
   {
    "duration": 33,
    "start_time": "2022-05-23T20:21:36.501Z"
   },
   {
    "duration": 32,
    "start_time": "2022-05-23T20:21:36.536Z"
   },
   {
    "duration": 203,
    "start_time": "2022-05-23T20:21:36.571Z"
   },
   {
    "duration": 212,
    "start_time": "2022-05-23T20:21:36.781Z"
   },
   {
    "duration": 36,
    "start_time": "2022-05-23T20:21:36.995Z"
   },
   {
    "duration": 203,
    "start_time": "2022-05-23T20:21:37.033Z"
   },
   {
    "duration": 215,
    "start_time": "2022-05-23T20:21:37.238Z"
   },
   {
    "duration": 221,
    "start_time": "2022-05-23T20:21:56.440Z"
   },
   {
    "duration": 166,
    "start_time": "2022-05-23T20:23:13.390Z"
   },
   {
    "duration": 217,
    "start_time": "2022-05-23T20:23:14.851Z"
   },
   {
    "duration": 814,
    "start_time": "2022-05-23T20:23:33.209Z"
   },
   {
    "duration": 143,
    "start_time": "2022-05-23T20:23:34.024Z"
   },
   {
    "duration": 5,
    "start_time": "2022-05-23T20:23:34.169Z"
   },
   {
    "duration": 20,
    "start_time": "2022-05-23T20:23:34.176Z"
   },
   {
    "duration": 28,
    "start_time": "2022-05-23T20:23:34.198Z"
   },
   {
    "duration": 9,
    "start_time": "2022-05-23T20:23:34.228Z"
   },
   {
    "duration": 24,
    "start_time": "2022-05-23T20:23:34.239Z"
   },
   {
    "duration": 28,
    "start_time": "2022-05-23T20:23:34.264Z"
   },
   {
    "duration": 70,
    "start_time": "2022-05-23T20:23:34.294Z"
   },
   {
    "duration": 108,
    "start_time": "2022-05-23T20:23:34.370Z"
   },
   {
    "duration": 86,
    "start_time": "2022-05-23T20:23:34.480Z"
   },
   {
    "duration": 115,
    "start_time": "2022-05-23T20:23:34.568Z"
   },
   {
    "duration": 187,
    "start_time": "2022-05-23T20:23:34.684Z"
   },
   {
    "duration": 219,
    "start_time": "2022-05-23T20:23:34.872Z"
   },
   {
    "duration": 105,
    "start_time": "2022-05-23T20:23:35.093Z"
   },
   {
    "duration": 902,
    "start_time": "2022-05-23T20:25:31.772Z"
   },
   {
    "duration": 119,
    "start_time": "2022-05-23T20:25:32.676Z"
   },
   {
    "duration": 4,
    "start_time": "2022-05-23T20:25:32.797Z"
   },
   {
    "duration": 27,
    "start_time": "2022-05-23T20:25:32.802Z"
   },
   {
    "duration": 23,
    "start_time": "2022-05-23T20:25:32.830Z"
   },
   {
    "duration": 25,
    "start_time": "2022-05-23T20:25:32.855Z"
   },
   {
    "duration": 16,
    "start_time": "2022-05-23T20:25:32.882Z"
   },
   {
    "duration": 27,
    "start_time": "2022-05-23T20:25:32.900Z"
   },
   {
    "duration": 40,
    "start_time": "2022-05-23T20:25:32.930Z"
   },
   {
    "duration": 196,
    "start_time": "2022-05-23T20:25:32.972Z"
   },
   {
    "duration": 202,
    "start_time": "2022-05-23T20:25:33.170Z"
   },
   {
    "duration": 31,
    "start_time": "2022-05-23T20:25:33.374Z"
   },
   {
    "duration": 59,
    "start_time": "2022-05-23T20:25:33.406Z"
   },
   {
    "duration": 190,
    "start_time": "2022-05-23T20:25:33.469Z"
   },
   {
    "duration": 5,
    "start_time": "2022-05-23T20:27:27.642Z"
   },
   {
    "duration": 5,
    "start_time": "2022-05-23T20:27:43.981Z"
   },
   {
    "duration": 5,
    "start_time": "2022-05-23T20:27:47.348Z"
   },
   {
    "duration": 834,
    "start_time": "2022-05-23T20:34:49.421Z"
   },
   {
    "duration": 117,
    "start_time": "2022-05-23T20:34:50.259Z"
   },
   {
    "duration": 4,
    "start_time": "2022-05-23T20:34:50.378Z"
   },
   {
    "duration": 10,
    "start_time": "2022-05-23T20:34:50.385Z"
   },
   {
    "duration": 11,
    "start_time": "2022-05-23T20:34:50.397Z"
   },
   {
    "duration": 9,
    "start_time": "2022-05-23T20:34:50.409Z"
   },
   {
    "duration": 8,
    "start_time": "2022-05-23T20:34:50.419Z"
   },
   {
    "duration": 33,
    "start_time": "2022-05-23T20:34:50.428Z"
   },
   {
    "duration": 97,
    "start_time": "2022-05-23T20:34:50.463Z"
   },
   {
    "duration": 104,
    "start_time": "2022-05-23T20:34:50.563Z"
   },
   {
    "duration": 199,
    "start_time": "2022-05-23T20:34:50.668Z"
   },
   {
    "duration": 8,
    "start_time": "2022-05-23T20:34:50.869Z"
   },
   {
    "duration": 15,
    "start_time": "2022-05-23T20:34:50.879Z"
   },
   {
    "duration": 174,
    "start_time": "2022-05-23T20:34:50.896Z"
   },
   {
    "duration": 854,
    "start_time": "2022-05-23T20:35:39.224Z"
   },
   {
    "duration": 127,
    "start_time": "2022-05-23T20:35:40.080Z"
   },
   {
    "duration": 4,
    "start_time": "2022-05-23T20:35:40.209Z"
   },
   {
    "duration": 11,
    "start_time": "2022-05-23T20:35:40.215Z"
   },
   {
    "duration": 5,
    "start_time": "2022-05-23T20:35:40.228Z"
   },
   {
    "duration": 24,
    "start_time": "2022-05-23T20:35:40.235Z"
   },
   {
    "duration": 4,
    "start_time": "2022-05-23T20:35:40.261Z"
   },
   {
    "duration": 9,
    "start_time": "2022-05-23T20:35:40.267Z"
   },
   {
    "duration": 86,
    "start_time": "2022-05-23T20:35:40.278Z"
   },
   {
    "duration": 103,
    "start_time": "2022-05-23T20:35:40.367Z"
   },
   {
    "duration": 198,
    "start_time": "2022-05-23T20:35:40.474Z"
   },
   {
    "duration": 10,
    "start_time": "2022-05-23T20:35:40.674Z"
   },
   {
    "duration": 15,
    "start_time": "2022-05-23T20:35:40.686Z"
   },
   {
    "duration": 166,
    "start_time": "2022-05-23T20:35:40.703Z"
   }
  ],
  "kernelspec": {
   "display_name": "Python 3 (ipykernel)",
   "language": "python",
   "name": "python3"
  },
  "language_info": {
   "codemirror_mode": {
    "name": "ipython",
    "version": 3
   },
   "file_extension": ".py",
   "mimetype": "text/x-python",
   "name": "python",
   "nbconvert_exporter": "python",
   "pygments_lexer": "ipython3",
   "version": "3.9.7"
  },
  "toc": {
   "base_numbering": 1,
   "nav_menu": {},
   "number_sections": true,
   "sideBar": true,
   "skip_h1_title": true,
   "title_cell": "Содержание",
   "title_sidebar": "Contents",
   "toc_cell": true,
   "toc_position": {},
   "toc_section_display": true,
   "toc_window_display": true
  }
 },
 "nbformat": 4,
 "nbformat_minor": 2
}
