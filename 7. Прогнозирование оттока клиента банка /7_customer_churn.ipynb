{
 "cells": [
  {
   "cell_type": "markdown",
   "metadata": {
    "toc": true
   },
   "source": [
    "<h1>Содержание<span class=\"tocSkip\"></span></h1>\n",
    "<div class=\"toc\"><ul class=\"toc-item\"><li><span><a href=\"#Подготовка-данных\" data-toc-modified-id=\"Подготовка-данных-1\"><span class=\"toc-item-num\">1&nbsp;&nbsp;</span>Подготовка данных</a></span><ul class=\"toc-item\"><li><span><a href=\"#Открытие-и-изучение-файла\" data-toc-modified-id=\"Открытие-и-изучение-файла-1.1\"><span class=\"toc-item-num\">1.1&nbsp;&nbsp;</span>Открытие и изучение файла</a></span></li><li><span><a href=\"#Подготовка-и-предобработка-данных\" data-toc-modified-id=\"Подготовка-и-предобработка-данных-1.2\"><span class=\"toc-item-num\">1.2&nbsp;&nbsp;</span>Подготовка и предобработка данных</a></span></li></ul></li><li><span><a href=\"#Исследование-задачи\" data-toc-modified-id=\"Исследование-задачи-2\"><span class=\"toc-item-num\">2&nbsp;&nbsp;</span>Исследование задачи</a></span><ul class=\"toc-item\"><li><span><a href=\"#Исследование-баланса-классов\" data-toc-modified-id=\"Исследование-баланса-классов-2.1\"><span class=\"toc-item-num\">2.1&nbsp;&nbsp;</span>Исследование баланса классов</a></span></li><li><span><a href=\"#Преобразование-категориальных-признаков-в-количественные\" data-toc-modified-id=\"Преобразование-категориальных-признаков-в-количественные-2.2\"><span class=\"toc-item-num\">2.2&nbsp;&nbsp;</span>Преобразование категориальных признаков в количественные</a></span></li><li><span><a href=\"#Деление-на-выборки-(тренировочную,-валидационную-и-тестовую)\" data-toc-modified-id=\"Деление-на-выборки-(тренировочную,-валидационную-и-тестовую)-2.3\"><span class=\"toc-item-num\">2.3&nbsp;&nbsp;</span>Деление на выборки (тренировочную, валидационную и тестовую)</a></span></li><li><span><a href=\"#Масштабирование-признаков\" data-toc-modified-id=\"Масштабирование-признаков-2.4\"><span class=\"toc-item-num\">2.4&nbsp;&nbsp;</span>Масштабирование признаков</a></span></li></ul></li><li><span><a href=\"#Решение-задачи-без-учёта-дисбаланса\" data-toc-modified-id=\"Решение-задачи-без-учёта-дисбаланса-3\"><span class=\"toc-item-num\">3&nbsp;&nbsp;</span>Решение задачи без учёта дисбаланса</a></span><ul class=\"toc-item\"><li><span><a href=\"#Модель-DecisionTreeClassifier-(Решающее-дерево)\" data-toc-modified-id=\"Модель-DecisionTreeClassifier-(Решающее-дерево)-3.1\"><span class=\"toc-item-num\">3.1&nbsp;&nbsp;</span>Модель DecisionTreeClassifier (Решающее дерево)</a></span></li><li><span><a href=\"#Модель-RandomForestClassifier-(Случайный-лес)\" data-toc-modified-id=\"Модель-RandomForestClassifier-(Случайный-лес)-3.2\"><span class=\"toc-item-num\">3.2&nbsp;&nbsp;</span>Модель RandomForestClassifier (Случайный лес)</a></span></li><li><span><a href=\"#Модель-LogisticRegression-(Логистическая-регрессия)\" data-toc-modified-id=\"Модель-LogisticRegression-(Логистическая-регрессия)-3.3\"><span class=\"toc-item-num\">3.3&nbsp;&nbsp;</span>Модель LogisticRegression (Логистическая регрессия)</a></span></li></ul></li><li><span><a href=\"#Решение-задачи-с-учётом-дисбаланса\" data-toc-modified-id=\"Решение-задачи-с-учётом-дисбаланса-4\"><span class=\"toc-item-num\">4&nbsp;&nbsp;</span>Решение задачи с учётом дисбаланса</a></span><ul class=\"toc-item\"><li><span><a href=\"#Модель-DecisionTreeClassifier-(Решающее-дерево)\" data-toc-modified-id=\"Модель-DecisionTreeClassifier-(Решающее-дерево)-4.1\"><span class=\"toc-item-num\">4.1&nbsp;&nbsp;</span>Модель DecisionTreeClassifier (Решающее дерево)</a></span></li><li><span><a href=\"#Модель-RandomForestClassifier-(Случайный-лес)\" data-toc-modified-id=\"Модель-RandomForestClassifier-(Случайный-лес)-4.2\"><span class=\"toc-item-num\">4.2&nbsp;&nbsp;</span>Модель RandomForestClassifier (Случайный лес)</a></span></li><li><span><a href=\"#Модель-LogisticRegression-(Логистическая-регрессия)\" data-toc-modified-id=\"Модель-LogisticRegression-(Логистическая-регрессия)-4.3\"><span class=\"toc-item-num\">4.3&nbsp;&nbsp;</span>Модель LogisticRegression (Логистическая регрессия)</a></span></li></ul></li><li><span><a href=\"#Тестирование-модели\" data-toc-modified-id=\"Тестирование-модели-5\"><span class=\"toc-item-num\">5&nbsp;&nbsp;</span>Тестирование модели</a></span><ul class=\"toc-item\"><li><span><a href=\"#Тестирование-метрики-AUC-ROC\" data-toc-modified-id=\"Тестирование-метрики-AUC-ROC-5.1\"><span class=\"toc-item-num\">5.1&nbsp;&nbsp;</span>Тестирование метрики AUC-ROC</a></span></li></ul></li><li><span><a href=\"#Общий-вывод\" data-toc-modified-id=\"Общий-вывод-6\"><span class=\"toc-item-num\">6&nbsp;&nbsp;</span>Общий вывод</a></span></li></ul></div>"
   ]
  },
  {
   "cell_type": "markdown",
   "metadata": {},
   "source": [
    "# Отток клиентов"
   ]
  },
  {
   "cell_type": "markdown",
   "metadata": {},
   "source": [
    "Из «Бета-Банка» стали уходить клиенты. Каждый месяц. Немного, но заметно. Банковские маркетологи посчитали: сохранять текущих клиентов дешевле, чем привлекать новых.\n",
    "\n",
    "Нужно спрогнозировать, уйдёт клиент из банка в ближайшее время или нет. Нам предоставлены исторические данные о поведении клиентов и расторжении договоров с банком. \n",
    "\n",
    "Необходимо построить модель с предельно большим значением *F1*-меры.\n",
    "\n",
    "Дополнительно измерим *AUC-ROC*, сравнивая её значение с *F1*-мерой."
   ]
  },
  {
   "cell_type": "markdown",
   "metadata": {},
   "source": [
    "## Подготовка данных"
   ]
  },
  {
   "cell_type": "markdown",
   "metadata": {},
   "source": [
    "### Открытие и изучение файла"
   ]
  },
  {
   "cell_type": "markdown",
   "metadata": {},
   "source": [
    "Импортируем библиотеки, которые нам понадобятся для дальнейшей работы"
   ]
  },
  {
   "cell_type": "code",
   "execution_count": 1,
   "metadata": {},
   "outputs": [],
   "source": [
    "import pandas as pd\n",
    "import numpy as np\n",
    "from random import randint\n",
    "import matplotlib.pyplot as plt\n",
    "from sklearn.model_selection import train_test_split\n",
    "from sklearn.preprocessing import StandardScaler\n",
    "from sklearn.tree import DecisionTreeClassifier\n",
    "from sklearn.ensemble import RandomForestClassifier\n",
    "from sklearn.linear_model import LogisticRegression\n",
    "from sklearn.metrics import f1_score, roc_auc_score, roc_curve\n",
    "from sklearn.utils import shuffle\n",
    "from sklearn.model_selection import GridSearchCV\n",
    "\n",
    "import warnings\n",
    "warnings.filterwarnings('ignore')"
   ]
  },
  {
   "cell_type": "markdown",
   "metadata": {},
   "source": [
    "Откроем наш датасет и взглянем на первые 10 строк:"
   ]
  },
  {
   "cell_type": "code",
   "execution_count": 2,
   "metadata": {},
   "outputs": [
    {
     "data": {
      "text/html": [
       "<div>\n",
       "<style scoped>\n",
       "    .dataframe tbody tr th:only-of-type {\n",
       "        vertical-align: middle;\n",
       "    }\n",
       "\n",
       "    .dataframe tbody tr th {\n",
       "        vertical-align: top;\n",
       "    }\n",
       "\n",
       "    .dataframe thead th {\n",
       "        text-align: right;\n",
       "    }\n",
       "</style>\n",
       "<table border=\"1\" class=\"dataframe\">\n",
       "  <thead>\n",
       "    <tr style=\"text-align: right;\">\n",
       "      <th></th>\n",
       "      <th>RowNumber</th>\n",
       "      <th>CustomerId</th>\n",
       "      <th>Surname</th>\n",
       "      <th>CreditScore</th>\n",
       "      <th>Geography</th>\n",
       "      <th>Gender</th>\n",
       "      <th>Age</th>\n",
       "      <th>Tenure</th>\n",
       "      <th>Balance</th>\n",
       "      <th>NumOfProducts</th>\n",
       "      <th>HasCrCard</th>\n",
       "      <th>IsActiveMember</th>\n",
       "      <th>EstimatedSalary</th>\n",
       "      <th>Exited</th>\n",
       "    </tr>\n",
       "  </thead>\n",
       "  <tbody>\n",
       "    <tr>\n",
       "      <th>0</th>\n",
       "      <td>1</td>\n",
       "      <td>15634602</td>\n",
       "      <td>Hargrave</td>\n",
       "      <td>619</td>\n",
       "      <td>France</td>\n",
       "      <td>Female</td>\n",
       "      <td>42</td>\n",
       "      <td>2.0</td>\n",
       "      <td>0.00</td>\n",
       "      <td>1</td>\n",
       "      <td>1</td>\n",
       "      <td>1</td>\n",
       "      <td>101348.88</td>\n",
       "      <td>1</td>\n",
       "    </tr>\n",
       "    <tr>\n",
       "      <th>1</th>\n",
       "      <td>2</td>\n",
       "      <td>15647311</td>\n",
       "      <td>Hill</td>\n",
       "      <td>608</td>\n",
       "      <td>Spain</td>\n",
       "      <td>Female</td>\n",
       "      <td>41</td>\n",
       "      <td>1.0</td>\n",
       "      <td>83807.86</td>\n",
       "      <td>1</td>\n",
       "      <td>0</td>\n",
       "      <td>1</td>\n",
       "      <td>112542.58</td>\n",
       "      <td>0</td>\n",
       "    </tr>\n",
       "    <tr>\n",
       "      <th>2</th>\n",
       "      <td>3</td>\n",
       "      <td>15619304</td>\n",
       "      <td>Onio</td>\n",
       "      <td>502</td>\n",
       "      <td>France</td>\n",
       "      <td>Female</td>\n",
       "      <td>42</td>\n",
       "      <td>8.0</td>\n",
       "      <td>159660.80</td>\n",
       "      <td>3</td>\n",
       "      <td>1</td>\n",
       "      <td>0</td>\n",
       "      <td>113931.57</td>\n",
       "      <td>1</td>\n",
       "    </tr>\n",
       "    <tr>\n",
       "      <th>3</th>\n",
       "      <td>4</td>\n",
       "      <td>15701354</td>\n",
       "      <td>Boni</td>\n",
       "      <td>699</td>\n",
       "      <td>France</td>\n",
       "      <td>Female</td>\n",
       "      <td>39</td>\n",
       "      <td>1.0</td>\n",
       "      <td>0.00</td>\n",
       "      <td>2</td>\n",
       "      <td>0</td>\n",
       "      <td>0</td>\n",
       "      <td>93826.63</td>\n",
       "      <td>0</td>\n",
       "    </tr>\n",
       "    <tr>\n",
       "      <th>4</th>\n",
       "      <td>5</td>\n",
       "      <td>15737888</td>\n",
       "      <td>Mitchell</td>\n",
       "      <td>850</td>\n",
       "      <td>Spain</td>\n",
       "      <td>Female</td>\n",
       "      <td>43</td>\n",
       "      <td>2.0</td>\n",
       "      <td>125510.82</td>\n",
       "      <td>1</td>\n",
       "      <td>1</td>\n",
       "      <td>1</td>\n",
       "      <td>79084.10</td>\n",
       "      <td>0</td>\n",
       "    </tr>\n",
       "    <tr>\n",
       "      <th>5</th>\n",
       "      <td>6</td>\n",
       "      <td>15574012</td>\n",
       "      <td>Chu</td>\n",
       "      <td>645</td>\n",
       "      <td>Spain</td>\n",
       "      <td>Male</td>\n",
       "      <td>44</td>\n",
       "      <td>8.0</td>\n",
       "      <td>113755.78</td>\n",
       "      <td>2</td>\n",
       "      <td>1</td>\n",
       "      <td>0</td>\n",
       "      <td>149756.71</td>\n",
       "      <td>1</td>\n",
       "    </tr>\n",
       "    <tr>\n",
       "      <th>6</th>\n",
       "      <td>7</td>\n",
       "      <td>15592531</td>\n",
       "      <td>Bartlett</td>\n",
       "      <td>822</td>\n",
       "      <td>France</td>\n",
       "      <td>Male</td>\n",
       "      <td>50</td>\n",
       "      <td>7.0</td>\n",
       "      <td>0.00</td>\n",
       "      <td>2</td>\n",
       "      <td>1</td>\n",
       "      <td>1</td>\n",
       "      <td>10062.80</td>\n",
       "      <td>0</td>\n",
       "    </tr>\n",
       "    <tr>\n",
       "      <th>7</th>\n",
       "      <td>8</td>\n",
       "      <td>15656148</td>\n",
       "      <td>Obinna</td>\n",
       "      <td>376</td>\n",
       "      <td>Germany</td>\n",
       "      <td>Female</td>\n",
       "      <td>29</td>\n",
       "      <td>4.0</td>\n",
       "      <td>115046.74</td>\n",
       "      <td>4</td>\n",
       "      <td>1</td>\n",
       "      <td>0</td>\n",
       "      <td>119346.88</td>\n",
       "      <td>1</td>\n",
       "    </tr>\n",
       "    <tr>\n",
       "      <th>8</th>\n",
       "      <td>9</td>\n",
       "      <td>15792365</td>\n",
       "      <td>He</td>\n",
       "      <td>501</td>\n",
       "      <td>France</td>\n",
       "      <td>Male</td>\n",
       "      <td>44</td>\n",
       "      <td>4.0</td>\n",
       "      <td>142051.07</td>\n",
       "      <td>2</td>\n",
       "      <td>0</td>\n",
       "      <td>1</td>\n",
       "      <td>74940.50</td>\n",
       "      <td>0</td>\n",
       "    </tr>\n",
       "    <tr>\n",
       "      <th>9</th>\n",
       "      <td>10</td>\n",
       "      <td>15592389</td>\n",
       "      <td>H?</td>\n",
       "      <td>684</td>\n",
       "      <td>France</td>\n",
       "      <td>Male</td>\n",
       "      <td>27</td>\n",
       "      <td>2.0</td>\n",
       "      <td>134603.88</td>\n",
       "      <td>1</td>\n",
       "      <td>1</td>\n",
       "      <td>1</td>\n",
       "      <td>71725.73</td>\n",
       "      <td>0</td>\n",
       "    </tr>\n",
       "  </tbody>\n",
       "</table>\n",
       "</div>"
      ],
      "text/plain": [
       "   RowNumber  CustomerId   Surname  CreditScore Geography  Gender  Age  \\\n",
       "0          1    15634602  Hargrave          619    France  Female   42   \n",
       "1          2    15647311      Hill          608     Spain  Female   41   \n",
       "2          3    15619304      Onio          502    France  Female   42   \n",
       "3          4    15701354      Boni          699    France  Female   39   \n",
       "4          5    15737888  Mitchell          850     Spain  Female   43   \n",
       "5          6    15574012       Chu          645     Spain    Male   44   \n",
       "6          7    15592531  Bartlett          822    France    Male   50   \n",
       "7          8    15656148    Obinna          376   Germany  Female   29   \n",
       "8          9    15792365        He          501    France    Male   44   \n",
       "9         10    15592389        H?          684    France    Male   27   \n",
       "\n",
       "   Tenure    Balance  NumOfProducts  HasCrCard  IsActiveMember  \\\n",
       "0     2.0       0.00              1          1               1   \n",
       "1     1.0   83807.86              1          0               1   \n",
       "2     8.0  159660.80              3          1               0   \n",
       "3     1.0       0.00              2          0               0   \n",
       "4     2.0  125510.82              1          1               1   \n",
       "5     8.0  113755.78              2          1               0   \n",
       "6     7.0       0.00              2          1               1   \n",
       "7     4.0  115046.74              4          1               0   \n",
       "8     4.0  142051.07              2          0               1   \n",
       "9     2.0  134603.88              1          1               1   \n",
       "\n",
       "   EstimatedSalary  Exited  \n",
       "0        101348.88       1  \n",
       "1        112542.58       0  \n",
       "2        113931.57       1  \n",
       "3         93826.63       0  \n",
       "4         79084.10       0  \n",
       "5        149756.71       1  \n",
       "6         10062.80       0  \n",
       "7        119346.88       1  \n",
       "8         74940.50       0  \n",
       "9         71725.73       0  "
      ]
     },
     "execution_count": 2,
     "metadata": {},
     "output_type": "execute_result"
    }
   ],
   "source": [
    "df = pd.read_csv('/datasets/Churn.csv')\n",
    "df.head(10)"
   ]
  },
  {
   "cell_type": "markdown",
   "metadata": {},
   "source": [
    "**Согласно документации к данным**\n",
    "\n",
    "*Признаки*\n",
    "* `RowNumber` — индекс строки в данных\n",
    "* `CustomerId` — уникальный идентификатор клиента\n",
    "* `Surname` — фамилия\n",
    "* `CreditScore` — кредитный рейтинг\n",
    "* `Geography` — страна проживания\n",
    "* `Gender` — пол\n",
    "* `Age` — возраст\n",
    "* `Tenure` — сколько лет человек является клиентом банка\n",
    "* `Balance` — баланс на счёте\n",
    "* `NumOfProducts` — количество продуктов банка, используемых клиентом\n",
    "* `HasCrCard` — наличие кредитной карты\n",
    "* `IsActiveMember` — активность клиента\n",
    "* `EstimatedSalary` — предполагаемая зарплата\n",
    "\n",
    "*Целевой признак*\n",
    "* `Exited` — факт ухода клиента"
   ]
  },
  {
   "cell_type": "code",
   "execution_count": 3,
   "metadata": {},
   "outputs": [
    {
     "name": "stdout",
     "output_type": "stream",
     "text": [
      "<class 'pandas.core.frame.DataFrame'>\n",
      "RangeIndex: 10000 entries, 0 to 9999\n",
      "Data columns (total 14 columns):\n",
      " #   Column           Non-Null Count  Dtype  \n",
      "---  ------           --------------  -----  \n",
      " 0   RowNumber        10000 non-null  int64  \n",
      " 1   CustomerId       10000 non-null  int64  \n",
      " 2   Surname          10000 non-null  object \n",
      " 3   CreditScore      10000 non-null  int64  \n",
      " 4   Geography        10000 non-null  object \n",
      " 5   Gender           10000 non-null  object \n",
      " 6   Age              10000 non-null  int64  \n",
      " 7   Tenure           9091 non-null   float64\n",
      " 8   Balance          10000 non-null  float64\n",
      " 9   NumOfProducts    10000 non-null  int64  \n",
      " 10  HasCrCard        10000 non-null  int64  \n",
      " 11  IsActiveMember   10000 non-null  int64  \n",
      " 12  EstimatedSalary  10000 non-null  float64\n",
      " 13  Exited           10000 non-null  int64  \n",
      "dtypes: float64(3), int64(8), object(3)\n",
      "memory usage: 1.1+ MB\n"
     ]
    }
   ],
   "source": [
    "df.info()"
   ]
  },
  {
   "cell_type": "markdown",
   "metadata": {},
   "source": [
    "В результате первоначального ознакомления с датасетом, мы можем отметить, что данные состоят из 10 тыс. объектов и 14 признаков. Столбец `Exited` будет являться целевым признаком. Т. к. целевой признак категориальный, то будет решаться задача классификации.\n",
    "\n",
    "Стоит отметить, что есть признаки, которые не будут влиять на обучение модели. В дальнейшем мы их удалим. Столбец `Tenure` имеет пропуски, мы их также постараемся заполнить. Также скорректируем тип данных в столбце `Tenure`. "
   ]
  },
  {
   "cell_type": "markdown",
   "metadata": {},
   "source": [
    "### Подготовка и предобработка данных"
   ]
  },
  {
   "cell_type": "markdown",
   "metadata": {},
   "source": [
    "Удалим столбцы `RowNumber`, `CustomerId` и `Surname`. Они не будут влиять на дальнейшее решение задачи "
   ]
  },
  {
   "cell_type": "code",
   "execution_count": 4,
   "metadata": {},
   "outputs": [],
   "source": [
    "df = df.drop(['RowNumber', 'CustomerId', 'Surname'], axis=1)"
   ]
  },
  {
   "cell_type": "markdown",
   "metadata": {},
   "source": [
    "Скорректируем тип данных в столбце `Tenure` на целочисленный."
   ]
  },
  {
   "cell_type": "code",
   "execution_count": 5,
   "metadata": {},
   "outputs": [],
   "source": [
    "df['Tenure'] = df['Tenure'].astype('Int64')"
   ]
  },
  {
   "cell_type": "markdown",
   "metadata": {},
   "source": [
    "Далее в этом же столбце заменим пропуски. Т.к. установить взаимосвязь с другими столбцами не имеет возможности, то заменим пропсуки в столбце рандом значенем от 0 до 10."
   ]
  },
  {
   "cell_type": "code",
   "execution_count": 6,
   "metadata": {},
   "outputs": [],
   "source": [
    "def tenure_fillna(tenure):\n",
    "    if tenure is pd.NA:\n",
    "        return randint(0, 10)\n",
    "    else:\n",
    "        return tenure\n",
    "\n",
    "df['Tenure'] = df['Tenure'].apply(tenure_fillna)"
   ]
  },
  {
   "cell_type": "markdown",
   "metadata": {},
   "source": [
    "Проверим данные на пропуски и дубликаты:"
   ]
  },
  {
   "cell_type": "code",
   "execution_count": 7,
   "metadata": {},
   "outputs": [
    {
     "data": {
      "text/plain": [
       "CreditScore        0\n",
       "Geography          0\n",
       "Gender             0\n",
       "Age                0\n",
       "Tenure             0\n",
       "Balance            0\n",
       "NumOfProducts      0\n",
       "HasCrCard          0\n",
       "IsActiveMember     0\n",
       "EstimatedSalary    0\n",
       "Exited             0\n",
       "dtype: int64"
      ]
     },
     "execution_count": 7,
     "metadata": {},
     "output_type": "execute_result"
    }
   ],
   "source": [
    "df.isna().sum()"
   ]
  },
  {
   "cell_type": "code",
   "execution_count": 8,
   "metadata": {},
   "outputs": [
    {
     "data": {
      "text/plain": [
       "0"
      ]
     },
     "execution_count": 8,
     "metadata": {},
     "output_type": "execute_result"
    }
   ],
   "source": [
    "df.duplicated().sum()"
   ]
  },
  {
   "cell_type": "markdown",
   "metadata": {},
   "source": [
    "Пропусков и дубликтов не обнаружено!"
   ]
  },
  {
   "cell_type": "markdown",
   "metadata": {},
   "source": [
    "**Вывод**\n",
    "\n",
    "В результате данного пункта мы ознакомились с данными. Выяснили, что перед нами задача классификации. Провели преобработку данных (убрали лишние столбцы, скорректировали типы данных, заполнили пропуски и проверели данные на дубликаты)."
   ]
  },
  {
   "cell_type": "markdown",
   "metadata": {},
   "source": [
    "## Исследование задачи"
   ]
  },
  {
   "cell_type": "markdown",
   "metadata": {},
   "source": [
    "### Исследование баланса классов"
   ]
  },
  {
   "cell_type": "code",
   "execution_count": 9,
   "metadata": {},
   "outputs": [
    {
     "data": {
      "image/png": "[encoded data removed]",
      "text/plain": [
       "<Figure size 432x288 with 1 Axes>"
      ]
     },
     "metadata": {
      "needs_background": "light"
     },
     "output_type": "display_data"
    }
   ],
   "source": [
    "class_frequency = df['Exited'].value_counts(normalize=True)\n",
    "class_frequency.plot(kind='bar', grid=True, title='Подсчёт классов в целевом признаке')\n",
    "plt.show()"
   ]
  },
  {
   "cell_type": "markdown",
   "metadata": {},
   "source": [
    "В итоге мы видим, что в данных присутствует дисбаланс классов, т.к. соотношение оттока клиентов составляет 1:4"
   ]
  },
  {
   "cell_type": "markdown",
   "metadata": {},
   "source": [
    "### Преобразование категориальных признаков в количественные"
   ]
  },
  {
   "cell_type": "markdown",
   "metadata": {},
   "source": [
    "Т.к. в нашем датасете содержатся категориальные признаки, то в дальнейшем мы их преобразуем в количественные при помощи техники One-Hot Encoding (прямое кодирование)."
   ]
  },
  {
   "cell_type": "code",
   "execution_count": 10,
   "metadata": {},
   "outputs": [
    {
     "data": {
      "text/html": [
       "<div>\n",
       "<style scoped>\n",
       "    .dataframe tbody tr th:only-of-type {\n",
       "        vertical-align: middle;\n",
       "    }\n",
       "\n",
       "    .dataframe tbody tr th {\n",
       "        vertical-align: top;\n",
       "    }\n",
       "\n",
       "    .dataframe thead th {\n",
       "        text-align: right;\n",
       "    }\n",
       "</style>\n",
       "<table border=\"1\" class=\"dataframe\">\n",
       "  <thead>\n",
       "    <tr style=\"text-align: right;\">\n",
       "      <th></th>\n",
       "      <th>CreditScore</th>\n",
       "      <th>Age</th>\n",
       "      <th>Tenure</th>\n",
       "      <th>Balance</th>\n",
       "      <th>NumOfProducts</th>\n",
       "      <th>HasCrCard</th>\n",
       "      <th>IsActiveMember</th>\n",
       "      <th>EstimatedSalary</th>\n",
       "      <th>Exited</th>\n",
       "      <th>Geography_Germany</th>\n",
       "      <th>Geography_Spain</th>\n",
       "      <th>Gender_Male</th>\n",
       "    </tr>\n",
       "  </thead>\n",
       "  <tbody>\n",
       "    <tr>\n",
       "      <th>0</th>\n",
       "      <td>619</td>\n",
       "      <td>42</td>\n",
       "      <td>2</td>\n",
       "      <td>0.00</td>\n",
       "      <td>1</td>\n",
       "      <td>1</td>\n",
       "      <td>1</td>\n",
       "      <td>101348.88</td>\n",
       "      <td>1</td>\n",
       "      <td>0</td>\n",
       "      <td>0</td>\n",
       "      <td>0</td>\n",
       "    </tr>\n",
       "    <tr>\n",
       "      <th>1</th>\n",
       "      <td>608</td>\n",
       "      <td>41</td>\n",
       "      <td>1</td>\n",
       "      <td>83807.86</td>\n",
       "      <td>1</td>\n",
       "      <td>0</td>\n",
       "      <td>1</td>\n",
       "      <td>112542.58</td>\n",
       "      <td>0</td>\n",
       "      <td>0</td>\n",
       "      <td>1</td>\n",
       "      <td>0</td>\n",
       "    </tr>\n",
       "    <tr>\n",
       "      <th>2</th>\n",
       "      <td>502</td>\n",
       "      <td>42</td>\n",
       "      <td>8</td>\n",
       "      <td>159660.80</td>\n",
       "      <td>3</td>\n",
       "      <td>1</td>\n",
       "      <td>0</td>\n",
       "      <td>113931.57</td>\n",
       "      <td>1</td>\n",
       "      <td>0</td>\n",
       "      <td>0</td>\n",
       "      <td>0</td>\n",
       "    </tr>\n",
       "    <tr>\n",
       "      <th>3</th>\n",
       "      <td>699</td>\n",
       "      <td>39</td>\n",
       "      <td>1</td>\n",
       "      <td>0.00</td>\n",
       "      <td>2</td>\n",
       "      <td>0</td>\n",
       "      <td>0</td>\n",
       "      <td>93826.63</td>\n",
       "      <td>0</td>\n",
       "      <td>0</td>\n",
       "      <td>0</td>\n",
       "      <td>0</td>\n",
       "    </tr>\n",
       "    <tr>\n",
       "      <th>4</th>\n",
       "      <td>850</td>\n",
       "      <td>43</td>\n",
       "      <td>2</td>\n",
       "      <td>125510.82</td>\n",
       "      <td>1</td>\n",
       "      <td>1</td>\n",
       "      <td>1</td>\n",
       "      <td>79084.10</td>\n",
       "      <td>0</td>\n",
       "      <td>0</td>\n",
       "      <td>1</td>\n",
       "      <td>0</td>\n",
       "    </tr>\n",
       "  </tbody>\n",
       "</table>\n",
       "</div>"
      ],
      "text/plain": [
       "   CreditScore  Age  Tenure    Balance  NumOfProducts  HasCrCard  \\\n",
       "0          619   42       2       0.00              1          1   \n",
       "1          608   41       1   83807.86              1          0   \n",
       "2          502   42       8  159660.80              3          1   \n",
       "3          699   39       1       0.00              2          0   \n",
       "4          850   43       2  125510.82              1          1   \n",
       "\n",
       "   IsActiveMember  EstimatedSalary  Exited  Geography_Germany  \\\n",
       "0               1        101348.88       1                  0   \n",
       "1               1        112542.58       0                  0   \n",
       "2               0        113931.57       1                  0   \n",
       "3               0         93826.63       0                  0   \n",
       "4               1         79084.10       0                  0   \n",
       "\n",
       "   Geography_Spain  Gender_Male  \n",
       "0                0            0  \n",
       "1                1            0  \n",
       "2                0            0  \n",
       "3                0            0  \n",
       "4                1            0  "
      ]
     },
     "execution_count": 10,
     "metadata": {},
     "output_type": "execute_result"
    }
   ],
   "source": [
    "df = pd.get_dummies(df, drop_first=True)\n",
    "df.head()"
   ]
  },
  {
   "cell_type": "markdown",
   "metadata": {},
   "source": [
    "### Деление на выборки (тренировочную, валидационную и тестовую)"
   ]
  },
  {
   "cell_type": "code",
   "execution_count": 11,
   "metadata": {},
   "outputs": [],
   "source": [
    "target = df['Exited']\n",
    "features = df.drop('Exited', axis=1)"
   ]
  },
  {
   "cell_type": "code",
   "execution_count": 12,
   "metadata": {},
   "outputs": [
    {
     "name": "stdout",
     "output_type": "stream",
     "text": [
      "(6000, 11)\n",
      "(2000, 11)\n",
      "(2000, 11)\n"
     ]
    }
   ],
   "source": [
    "features_train, features_valid, target_train, target_valid = train_test_split(\n",
    "features, target, test_size=0.4, random_state=12345)\n",
    "features_valid, features_test, target_valid, target_test = train_test_split(\n",
    "features_valid, target_valid, test_size=0.5, random_state=12345)\n",
    "\n",
    "print(features_train.shape)\n",
    "print(features_valid.shape)\n",
    "print(features_test.shape)"
   ]
  },
  {
   "cell_type": "markdown",
   "metadata": {},
   "source": [
    "### Масштабирование признаков"
   ]
  },
  {
   "cell_type": "markdown",
   "metadata": {},
   "source": [
    "Т.к. в данных присутствуют количественные признаки с разными разбросами значений, то следует привести эти признаки к одному масштабу. Один из методов масштабирования - стандартизация данных. Применем его."
   ]
  },
  {
   "cell_type": "code",
   "execution_count": 13,
   "metadata": {},
   "outputs": [],
   "source": [
    "numeric = ['CreditScore', 'Age', 'Tenure', 'Balance', 'NumOfProducts', 'EstimatedSalary']\n",
    "\n",
    "scaler = StandardScaler()\n",
    "scaler.fit(features_train[numeric])\n",
    "\n",
    "features_train[numeric] = scaler.transform(features_train[numeric])\n",
    "features_valid[numeric] = scaler.transform(features_valid[numeric])\n",
    "features_test[numeric] = scaler.transform(features_test[numeric])\n",
    "\n",
    "pd.options.mode.chained_assignment = None"
   ]
  },
  {
   "cell_type": "markdown",
   "metadata": {},
   "source": [
    "## Решение задачи без учёта дисбаланса"
   ]
  },
  {
   "cell_type": "markdown",
   "metadata": {},
   "source": [
    "### Модель DecisionTreeClassifier (Решающее дерево)"
   ]
  },
  {
   "cell_type": "code",
   "execution_count": 14,
   "metadata": {},
   "outputs": [
    {
     "name": "stdout",
     "output_type": "stream",
     "text": [
      "max_depth: 1 F1: 0.0\n",
      "max_depth: 2 F1: 0.5217391304347825\n",
      "max_depth: 3 F1: 0.4234875444839857\n",
      "max_depth: 4 F1: 0.5528700906344411\n",
      "max_depth: 5 F1: 0.5397815912636506\n",
      "max_depth: 6 F1: 0.5714285714285714\n",
      "max_depth: 7 F1: 0.5485362095531587\n",
      "max_depth: 8 F1: 0.5440729483282676\n",
      "max_depth: 9 F1: 0.5577464788732395\n",
      "max_depth: 10 F1: 0.535367545076283\n",
      "CPU times: user 173 ms, sys: 0 ns, total: 173 ms\n",
      "Wall time: 176 ms\n"
     ]
    }
   ],
   "source": [
    "%%time \n",
    "\n",
    "for depth in range(1,11):\n",
    "    model = DecisionTreeClassifier(max_depth=depth,random_state=1234)\n",
    "    model.fit(features_train, target_train)\n",
    "    predictions = model.predict(features_valid)\n",
    "    print('max_depth:', depth, 'F1:',f1_score(target_valid, predictions))"
   ]
  },
  {
   "cell_type": "markdown",
   "metadata": {},
   "source": [
    "**Лучший результат F1 = 0.5714при max_depth = 6**"
   ]
  },
  {
   "cell_type": "markdown",
   "metadata": {},
   "source": [
    "### Модель RandomForestClassifier (Случайный лес)"
   ]
  },
  {
   "cell_type": "code",
   "execution_count": 15,
   "metadata": {},
   "outputs": [
    {
     "name": "stdout",
     "output_type": "stream",
     "text": [
      "n_estimators: 1 F1: 0.5151515151515152\n",
      "n_estimators: 3 F1: 0.5459317585301837\n",
      "n_estimators: 5 F1: 0.5484311050477491\n",
      "n_estimators: 7 F1: 0.5609065155807366\n",
      "n_estimators: 9 F1: 0.5608011444921316\n",
      "n_estimators: 11 F1: 0.5681818181818181\n",
      "n_estimators: 13 F1: 0.5685425685425686\n",
      "n_estimators: 15 F1: 0.5718432510885342\n",
      "n_estimators: 17 F1: 0.5743440233236151\n",
      "n_estimators: 19 F1: 0.5826086956521739\n",
      "n_estimators: 21 F1: 0.5697674418604652\n",
      "n_estimators: 23 F1: 0.5788712011577425\n",
      "n_estimators: 25 F1: 0.5735294117647058\n",
      "n_estimators: 27 F1: 0.565982404692082\n",
      "n_estimators: 29 F1: 0.5705882352941176\n",
      "n_estimators: 31 F1: 0.5714285714285715\n",
      "n_estimators: 33 F1: 0.5684830633284241\n",
      "n_estimators: 35 F1: 0.5612998522895125\n",
      "n_estimators: 37 F1: 0.5663716814159292\n",
      "n_estimators: 39 F1: 0.5684830633284241\n",
      "CPU times: user 2.65 s, sys: 6.66 ms, total: 2.65 s\n",
      "Wall time: 2.7 s\n"
     ]
    }
   ],
   "source": [
    "%%time\n",
    "\n",
    "for est in range(1,40, 2):\n",
    "    model = RandomForestClassifier(random_state=12345, n_estimators=est)\n",
    "    model.fit(features_train, target_train)\n",
    "    predictions = model.predict(features_valid)\n",
    "    print('n_estimators:', est, 'F1:',f1_score(target_valid, predictions))"
   ]
  },
  {
   "cell_type": "markdown",
   "metadata": {},
   "source": [
    "**Лучший результат F1 = 0.5826 при n_estimators = 19**"
   ]
  },
  {
   "cell_type": "markdown",
   "metadata": {},
   "source": [
    "### Модель LogisticRegression (Логистическая регрессия)"
   ]
  },
  {
   "cell_type": "code",
   "execution_count": 16,
   "metadata": {},
   "outputs": [
    {
     "name": "stdout",
     "output_type": "stream",
     "text": [
      "F1: 0.3350253807106599\n",
      "CPU times: user 41.7 ms, sys: 139 ms, total: 181 ms\n",
      "Wall time: 129 ms\n"
     ]
    }
   ],
   "source": [
    "%%time\n",
    "\n",
    "model = LogisticRegression(random_state=12345)\n",
    "model.fit(features_train, target_train)\n",
    "predictions = model.predict(features_valid)\n",
    "print('F1:',f1_score(target_valid, predictions))"
   ]
  },
  {
   "cell_type": "markdown",
   "metadata": {},
   "source": [
    "**F1 = 0.335**"
   ]
  },
  {
   "cell_type": "markdown",
   "metadata": {},
   "source": [
    "**Вывод**\n",
    "\n",
    "Лучше всех справилась модель RandomForestClassifier. F1 = 0.5826 при n_estimators = 19. Хуже всего себя показала модель Логистической регрессии (F1 = 0.335)"
   ]
  },
  {
   "cell_type": "markdown",
   "metadata": {},
   "source": [
    "## Решение задачи с учётом дисбаланса"
   ]
  },
  {
   "cell_type": "markdown",
   "metadata": {},
   "source": [
    "Для борьбы с дисбалансом классов попробуем техники `upsampling` и `downsampling`. Посмотрим какая лучше себя покажет. "
   ]
  },
  {
   "cell_type": "code",
   "execution_count": 17,
   "metadata": {},
   "outputs": [
    {
     "data": {
      "text/plain": [
       "0    4804\n",
       "1    4784\n",
       "Name: Exited, dtype: int64"
      ]
     },
     "execution_count": 17,
     "metadata": {},
     "output_type": "execute_result"
    }
   ],
   "source": [
    "def upsample(features, target, repeat):\n",
    "    features_zeros = features[target == 0]\n",
    "    features_ones = features[target == 1]\n",
    "    target_zeros = target[target == 0]\n",
    "    target_ones = target[target == 1]\n",
    "\n",
    "    features_upsampled = pd.concat([features_zeros] + [features_ones] * repeat)\n",
    "    target_upsampled = pd.concat([target_zeros] + [target_ones] * repeat)\n",
    "    \n",
    "    features_upsampled, target_upsampled = shuffle(\n",
    "        features_upsampled, target_upsampled, random_state=12345)\n",
    "    \n",
    "    return features_upsampled, target_upsampled\n",
    "\n",
    "features_upsampled, target_upsampled = upsample(features_train, target_train, 4)\n",
    "target_upsampled.value_counts()"
   ]
  },
  {
   "cell_type": "code",
   "execution_count": 18,
   "metadata": {},
   "outputs": [
    {
     "data": {
      "text/plain": [
       "0    1196\n",
       "1    1196\n",
       "Name: Exited, dtype: int64"
      ]
     },
     "execution_count": 18,
     "metadata": {},
     "output_type": "execute_result"
    }
   ],
   "source": [
    "def downsample(features, target, fraction):\n",
    "    features_zeros = features[target == 0]\n",
    "    features_ones = features[target == 1]\n",
    "    target_zeros = target[target == 0]\n",
    "    target_ones = target[target == 1]\n",
    "\n",
    "    features_downsampled = pd.concat(\n",
    "        [features_zeros.sample(frac=fraction, random_state=12345)] + [features_ones])\n",
    "    target_downsampled = pd.concat(\n",
    "        [target_zeros.sample(frac=fraction, random_state=12345)] + [target_ones])\n",
    "    \n",
    "    features_downsampled, target_downsampled = shuffle(\n",
    "        features_downsampled, target_downsampled, random_state=12345)\n",
    "    \n",
    "    return features_downsampled, target_downsampled\n",
    "\n",
    "features_downsampled, target_downsampled = downsample(features_train, target_train, 0.249)\n",
    "target_downsampled.value_counts()"
   ]
  },
  {
   "cell_type": "markdown",
   "metadata": {},
   "source": [
    "### Модель DecisionTreeClassifier (Решающее дерево)"
   ]
  },
  {
   "cell_type": "code",
   "execution_count": 19,
   "metadata": {},
   "outputs": [
    {
     "name": "stdout",
     "output_type": "stream",
     "text": [
      "max_depth: 1 F1: 0.4994903160040775\n",
      "max_depth: 2 F1: 0.541015625\n",
      "max_depth: 3 F1: 0.541015625\n",
      "max_depth: 4 F1: 0.5277777777777778\n",
      "max_depth: 5 F1: 0.5957446808510639\n",
      "max_depth: 6 F1: 0.5540796963946869\n",
      "max_depth: 7 F1: 0.5488647581441264\n",
      "max_depth: 8 F1: 0.5428015564202334\n",
      "max_depth: 9 F1: 0.5272373540856031\n",
      "max_depth: 10 F1: 0.5246853823814134\n",
      "CPU times: user 217 ms, sys: 0 ns, total: 217 ms\n",
      "Wall time: 230 ms\n"
     ]
    }
   ],
   "source": [
    "%%time \n",
    "\n",
    "for depth in range(1,11):\n",
    "    model = DecisionTreeClassifier(max_depth=depth,random_state=1234, class_weight='balanced')\n",
    "    model.fit(features_upsampled, target_upsampled)\n",
    "    predictions = model.predict(features_valid)\n",
    "    print('max_depth:', depth, 'F1:',f1_score(target_valid, predictions))"
   ]
  },
  {
   "cell_type": "markdown",
   "metadata": {},
   "source": [
    "**Лучший результат F1 = 0.5957 при max_depth = 5**"
   ]
  },
  {
   "cell_type": "markdown",
   "metadata": {},
   "source": [
    "### Модель RandomForestClassifier (Случайный лес)"
   ]
  },
  {
   "cell_type": "code",
   "execution_count": 36,
   "metadata": {},
   "outputs": [
    {
     "name": "stdout",
     "output_type": "stream",
     "text": [
      "n_estimators: 1 F1: 0.492880613362541\n",
      "n_estimators: 3 F1: 0.5501770956316411\n",
      "n_estimators: 5 F1: 0.5819975339087546\n",
      "n_estimators: 7 F1: 0.5806451612903225\n",
      "n_estimators: 9 F1: 0.5649432534678436\n",
      "n_estimators: 11 F1: 0.5732323232323233\n",
      "n_estimators: 13 F1: 0.5743589743589744\n",
      "n_estimators: 15 F1: 0.5846153846153846\n",
      "n_estimators: 17 F1: 0.590967741935484\n",
      "n_estimators: 19 F1: 0.5851755526657997\n",
      "n_estimators: 21 F1: 0.5914396887159533\n",
      "n_estimators: 23 F1: 0.5911458333333334\n",
      "n_estimators: 25 F1: 0.5971685971685973\n",
      "n_estimators: 27 F1: 0.5986928104575163\n",
      "n_estimators: 29 F1: 0.5984251968503936\n",
      "n_estimators: 31 F1: 0.5942408376963351\n",
      "n_estimators: 33 F1: 0.6002621231979031\n",
      "n_estimators: 35 F1: 0.5891677675033025\n",
      "n_estimators: 37 F1: 0.5965834428383706\n",
      "n_estimators: 39 F1: 0.6020942408376964\n",
      "CPU times: user 4.92 s, sys: 12.1 ms, total: 4.93 s\n",
      "Wall time: 4.96 s\n"
     ]
    }
   ],
   "source": [
    "%%time\n",
    "\n",
    "for est in range(1,40, 2):\n",
    "    model = RandomForestClassifier(random_state=12345, n_estimators=est, class_weight='balanced')\n",
    "    model.fit(features_upsampled, target_upsampled)\n",
    "    predictions = model.predict(features_valid)\n",
    "    print('n_estimators:', est, 'F1:',f1_score(target_valid, predictions))"
   ]
  },
  {
   "cell_type": "markdown",
   "metadata": {},
   "source": [
    "**Лучший результат F1 = 0.6020 при n_estimators = 39**"
   ]
  },
  {
   "cell_type": "markdown",
   "metadata": {},
   "source": [
    "### Модель LogisticRegression (Логистическая регрессия)"
   ]
  },
  {
   "cell_type": "code",
   "execution_count": 21,
   "metadata": {},
   "outputs": [
    {
     "name": "stdout",
     "output_type": "stream",
     "text": [
      "F1: 0.48547008547008547\n",
      "CPU times: user 76.6 ms, sys: 99.5 ms, total: 176 ms\n",
      "Wall time: 105 ms\n"
     ]
    }
   ],
   "source": [
    "%%time\n",
    "\n",
    "model = LogisticRegression(random_state=12345, class_weight='balanced')\n",
    "model.fit(features_upsampled, target_upsampled)\n",
    "predictions = model.predict(features_valid)\n",
    "print('F1:',f1_score(target_valid, predictions))"
   ]
  },
  {
   "cell_type": "markdown",
   "metadata": {},
   "source": [
    "**F1 = 0.4854**"
   ]
  },
  {
   "cell_type": "markdown",
   "metadata": {},
   "source": [
    "Посмотрим как изменилась метрика F1 после учёта дисбаланса."
   ]
  },
  {
   "cell_type": "code",
   "execution_count": 48,
   "metadata": {},
   "outputs": [
    {
     "data": {
      "text/html": [
       "<div>\n",
       "<style scoped>\n",
       "    .dataframe tbody tr th:only-of-type {\n",
       "        vertical-align: middle;\n",
       "    }\n",
       "\n",
       "    .dataframe tbody tr th {\n",
       "        vertical-align: top;\n",
       "    }\n",
       "\n",
       "    .dataframe thead th {\n",
       "        text-align: right;\n",
       "    }\n",
       "</style>\n",
       "<table border=\"1\" class=\"dataframe\">\n",
       "  <thead>\n",
       "    <tr style=\"text-align: right;\">\n",
       "      <th></th>\n",
       "      <th>Решающее дерево</th>\n",
       "      <th>Случайный лес</th>\n",
       "      <th>Логистическая регрессия</th>\n",
       "    </tr>\n",
       "  </thead>\n",
       "  <tbody>\n",
       "    <tr>\n",
       "      <th>F1 без учета дисбаланса</th>\n",
       "      <td>0.5714</td>\n",
       "      <td>0.5826</td>\n",
       "      <td>0.3350</td>\n",
       "    </tr>\n",
       "    <tr>\n",
       "      <th>F1 с учетом дисбаланса</th>\n",
       "      <td>0.5957</td>\n",
       "      <td>0.6020</td>\n",
       "      <td>0.4854</td>\n",
       "    </tr>\n",
       "  </tbody>\n",
       "</table>\n",
       "</div>"
      ],
      "text/plain": [
       "                         Решающее дерево  Случайный лес  \\\n",
       "F1 без учета дисбаланса           0.5714         0.5826   \n",
       "F1 с учетом дисбаланса            0.5957         0.6020   \n",
       "\n",
       "                         Логистическая регрессия  \n",
       "F1 без учета дисбаланса                   0.3350  \n",
       "F1 с учетом дисбаланса                    0.4854  "
      ]
     },
     "execution_count": 48,
     "metadata": {},
     "output_type": "execute_result"
    }
   ],
   "source": [
    "F1_results = {\n",
    "    'Решающее дерево':np.array([0.5714,0.5957]),\n",
    "    'Случайный лес':np.array([0.5826,0.6020]),\n",
    "    'Логистическая регрессия':np.array([0.335,0.4854])\n",
    "}\n",
    "\n",
    "F1_results_df = pd.DataFrame(F1_results,index=['F1 без учета дисбаланса','F1 с учетом дисбаланса'])\n",
    "F1_results_df"
   ]
  },
  {
   "cell_type": "markdown",
   "metadata": {},
   "source": [
    "Мы видим, что все метрики улучшились после того, как был учтён дисбаланс классов. Модель \"Случайный лес\" также показывает наилучший результат среди трёх метрик. "
   ]
  },
  {
   "cell_type": "markdown",
   "metadata": {},
   "source": [
    "## Тестирование модели"
   ]
  },
  {
   "cell_type": "code",
   "execution_count": 47,
   "metadata": {},
   "outputs": [
    {
     "name": "stdout",
     "output_type": "stream",
     "text": [
      "F1: 0.6024096385542168\n"
     ]
    }
   ],
   "source": [
    "model = RandomForestClassifier(random_state=12345, max_depth=7, n_estimators=25, class_weight='balanced')\n",
    "model.fit(features_upsampled, target_upsampled)\n",
    "predictions = model.predict(features_test)\n",
    "print('F1:',f1_score(target_test, predictions))"
   ]
  },
  {
   "cell_type": "markdown",
   "metadata": {},
   "source": [
    "Отлично! Мы добились того, что метрика F1 на тренировочной метрике больше 0.59"
   ]
  },
  {
   "cell_type": "markdown",
   "metadata": {},
   "source": [
    "### Тестирование метрики AUC-ROC"
   ]
  },
  {
   "cell_type": "markdown",
   "metadata": {},
   "source": [
    "Построим ROC-кривую. Чем график выше, тем больше значение TPR и лучше качество модели."
   ]
  },
  {
   "cell_type": "code",
   "execution_count": 24,
   "metadata": {},
   "outputs": [],
   "source": [
    "probabilities_test = model.predict_proba(features_test)\n",
    "probabilities_one_test = probabilities_test[:, 1]\n",
    "\n",
    "fpr, tpr, thresholds = roc_curve(target_test, probabilities_test[:, 1])"
   ]
  },
  {
   "cell_type": "code",
   "execution_count": 25,
   "metadata": {},
   "outputs": [
    {
     "data": {
      "image/png": "[encoded data removed]",
      "text/plain": [
       "<Figure size 432x288 with 1 Axes>"
      ]
     },
     "metadata": {
      "needs_background": "light"
     },
     "output_type": "display_data"
    }
   ],
   "source": [
    "plt.figure()\n",
    "plt.plot(fpr, tpr)\n",
    "plt.xlim([0.0, 1.0])\n",
    "plt.ylim([0.0, 1.0])\n",
    "plt.xlabel('False Positive Rate')\n",
    "plt.ylabel('True Positive Rate')\n",
    "plt.title('ROC-кривая')\n",
    "plt.plot([0, 1], [0, 1], linestyle='--')\n",
    "\n",
    "plt.show()"
   ]
  },
  {
   "cell_type": "markdown",
   "metadata": {},
   "source": [
    "Чтобы выявить, как сильно наша модель отличается от слуйчаной посчитаем площадь по ROC-кривой - `AUC-ROC`. Это метрика качества, которая измеряется от 0 до 1. AUC-ROC случайной модели = 0.5. "
   ]
  },
  {
   "cell_type": "code",
   "execution_count": 26,
   "metadata": {},
   "outputs": [
    {
     "data": {
      "text/plain": [
       "0.8443996216294816"
      ]
     },
     "execution_count": 26,
     "metadata": {},
     "output_type": "execute_result"
    }
   ],
   "source": [
    "probabilities_test = model.predict_proba(features_test)\n",
    "probabilities_one_test = probabilities_test[:, 1]\n",
    "\n",
    "auc_roc = roc_auc_score(target_test, probabilities_one_test)\n",
    "auc_roc"
   ]
  },
  {
   "cell_type": "markdown",
   "metadata": {},
   "source": [
    "В результате мы видим, что наша модель показала себя лучше, чем случайно построенная."
   ]
  },
  {
   "cell_type": "markdown",
   "metadata": {},
   "source": [
    "## Общий вывод"
   ]
  },
  {
   "cell_type": "markdown",
   "metadata": {},
   "source": [
    "Было проведено исследование по прогнозированию уйдёт клиент из банка в ближайшее время или нет.\n",
    "\n",
    "В начале мы ознакомились с нашими данными. Выяснили, что в нашем распоряжении имеется 10 тыс. объектов и 14 признаков. Целевой признак категориальный, поэтому мы решали задачу классификации.\n",
    "\n",
    "Далее мы провели предобработку данных. Удалили ненужние столбцы, которые не несли ценности для обучения. Скорректировали тип данных в столбце `Tenure`. Также в этом столбце заполнили пропуски случайными числами, этим мы снизили влияние на наше распределение. В остальных столбцам пропусков и дубликатов обнаружено не было.\n",
    "\n",
    "В следующем пункте мы начали подготовку признаков. Для началал изучили дисбаланс классов. В результате виден явный дисбаланс классов в пользу отрицательного класса в соотношении 4:1. Затем преобразовали категориальные призаки в количественные, используя технику One-Hot Encoding. Следующим шагом раздели наши данные на тренировочную, валидационную и тестовую выборки в отношении 60/20/20. В конце масштабировали наши количественные признаки, использовав стандартизацию.\n",
    "\n",
    "После этого использовали разные модели без учёта дисбаланса классов (Решающее дерево, Случайный лес и Логистическую регрессию), устанавливая лучшее значение метрики F1. В итоге, лучше всего себя показала модель Случайного леса.\n",
    "\n",
    "В следующем пункте мы учли дисбаланс классов. Для борьбы с дисбалансов классы были использованы методы: upsampling, downsamplin и claas_weight='balanced'. После решения задачи с учётом дисбаланса, модель Случайного леса также показала наилучший резльтат метрики F1.\n",
    "\n",
    "Далее мы тестировали нашу модель Случайного леса на тестовой выборке и добились значения метрики F1 больше 0.59!"
   ]
  }
 ],
 "metadata": {
  "ExecuteTimeLog": [
   {
    "duration": 111,
    "start_time": "2022-04-10T11:50:46.488Z"
   },
   {
    "duration": 1458,
    "start_time": "2022-04-10T11:50:46.837Z"
   },
   {
    "duration": 3,
    "start_time": "2022-04-10T11:50:55.056Z"
   },
   {
    "duration": 108,
    "start_time": "2022-04-10T11:51:16.923Z"
   },
   {
    "duration": 44,
    "start_time": "2022-04-10T11:52:00.164Z"
   },
   {
    "duration": 17,
    "start_time": "2022-04-10T11:52:26.477Z"
   },
   {
    "duration": 1693,
    "start_time": "2022-04-10T11:53:10.452Z"
   },
   {
    "duration": 44,
    "start_time": "2022-04-10T11:53:12.147Z"
   },
   {
    "duration": 17,
    "start_time": "2022-04-10T11:53:12.193Z"
   },
   {
    "duration": 4,
    "start_time": "2022-04-10T12:03:08.449Z"
   },
   {
    "duration": 5,
    "start_time": "2022-04-10T12:03:48.653Z"
   },
   {
    "duration": 8,
    "start_time": "2022-04-10T12:04:29.979Z"
   },
   {
    "duration": 8,
    "start_time": "2022-04-10T12:04:55.693Z"
   },
   {
    "duration": 13,
    "start_time": "2022-04-10T12:04:55.869Z"
   },
   {
    "duration": 1441,
    "start_time": "2022-04-10T12:05:25.984Z"
   },
   {
    "duration": 46,
    "start_time": "2022-04-10T12:05:27.427Z"
   },
   {
    "duration": 14,
    "start_time": "2022-04-10T12:05:27.479Z"
   },
   {
    "duration": 4,
    "start_time": "2022-04-10T12:05:27.496Z"
   },
   {
    "duration": 6,
    "start_time": "2022-04-10T12:05:27.502Z"
   },
   {
    "duration": 9,
    "start_time": "2022-04-10T12:05:27.510Z"
   },
   {
    "duration": 9,
    "start_time": "2022-04-10T12:05:27.521Z"
   },
   {
    "duration": 10,
    "start_time": "2022-04-10T12:05:27.532Z"
   },
   {
    "duration": 115,
    "start_time": "2022-04-10T12:06:41.262Z"
   },
   {
    "duration": 105,
    "start_time": "2022-04-10T12:08:09.907Z"
   },
   {
    "duration": 20,
    "start_time": "2022-04-10T12:09:04.957Z"
   },
   {
    "duration": 122,
    "start_time": "2022-04-10T12:10:16.767Z"
   },
   {
    "duration": 9,
    "start_time": "2022-04-10T12:10:21.836Z"
   },
   {
    "duration": 5,
    "start_time": "2022-04-10T12:10:25.956Z"
   },
   {
    "duration": 9,
    "start_time": "2022-04-10T12:10:26.389Z"
   },
   {
    "duration": 10,
    "start_time": "2022-04-10T12:10:36.961Z"
   },
   {
    "duration": 9,
    "start_time": "2022-04-10T12:10:51.760Z"
   },
   {
    "duration": 28,
    "start_time": "2022-04-10T12:11:49.884Z"
   },
   {
    "duration": 32,
    "start_time": "2022-04-10T12:13:06.573Z"
   },
   {
    "duration": 26,
    "start_time": "2022-04-10T12:13:51.421Z"
   },
   {
    "duration": 25,
    "start_time": "2022-04-10T12:13:58.201Z"
   },
   {
    "duration": 173,
    "start_time": "2022-04-10T12:18:46.422Z"
   },
   {
    "duration": 2852,
    "start_time": "2022-04-10T12:20:07.774Z"
   },
   {
    "duration": 147,
    "start_time": "2022-04-10T12:21:36.133Z"
   },
   {
    "duration": 13,
    "start_time": "2022-04-10T12:25:54.003Z"
   },
   {
    "duration": 239,
    "start_time": "2022-04-10T12:26:35.981Z"
   },
   {
    "duration": 4174,
    "start_time": "2022-04-10T12:27:15.802Z"
   },
   {
    "duration": 162,
    "start_time": "2022-04-10T12:28:25.121Z"
   },
   {
    "duration": 190,
    "start_time": "2022-04-10T12:29:40.102Z"
   },
   {
    "duration": 173,
    "start_time": "2022-04-10T12:30:19.744Z"
   },
   {
    "duration": 1476,
    "start_time": "2022-04-10T12:30:31.370Z"
   },
   {
    "duration": 45,
    "start_time": "2022-04-10T12:30:32.848Z"
   },
   {
    "duration": 13,
    "start_time": "2022-04-10T12:30:32.896Z"
   },
   {
    "duration": 4,
    "start_time": "2022-04-10T12:30:32.912Z"
   },
   {
    "duration": 8,
    "start_time": "2022-04-10T12:30:32.917Z"
   },
   {
    "duration": 27,
    "start_time": "2022-04-10T12:30:32.927Z"
   },
   {
    "duration": 13,
    "start_time": "2022-04-10T12:30:32.955Z"
   },
   {
    "duration": 12,
    "start_time": "2022-04-10T12:30:32.969Z"
   },
   {
    "duration": 143,
    "start_time": "2022-04-10T12:30:32.983Z"
   },
   {
    "duration": 19,
    "start_time": "2022-04-10T12:30:33.129Z"
   },
   {
    "duration": 5,
    "start_time": "2022-04-10T12:30:33.149Z"
   },
   {
    "duration": 33,
    "start_time": "2022-04-10T12:30:33.156Z"
   },
   {
    "duration": 32,
    "start_time": "2022-04-10T12:30:33.191Z"
   },
   {
    "duration": 217,
    "start_time": "2022-04-10T12:30:33.224Z"
   },
   {
    "duration": 3070,
    "start_time": "2022-04-10T12:30:33.443Z"
   },
   {
    "duration": 265,
    "start_time": "2022-04-10T12:30:36.515Z"
   },
   {
    "duration": 102,
    "start_time": "2022-04-10T12:30:36.782Z"
   },
   {
    "duration": 255,
    "start_time": "2022-04-10T12:30:36.886Z"
   },
   {
    "duration": 4268,
    "start_time": "2022-04-10T12:30:37.143Z"
   },
   {
    "duration": 273,
    "start_time": "2022-04-10T12:30:41.413Z"
   },
   {
    "duration": 280,
    "start_time": "2022-04-10T12:30:41.689Z"
   },
   {
    "duration": 100,
    "start_time": "2022-04-10T12:31:25.328Z"
   },
   {
    "duration": 354,
    "start_time": "2022-04-10T12:31:45.644Z"
   },
   {
    "duration": 25,
    "start_time": "2022-04-10T12:32:07.535Z"
   },
   {
    "duration": 4,
    "start_time": "2022-04-10T12:38:15.013Z"
   },
   {
    "duration": 26,
    "start_time": "2022-04-10T12:38:54.085Z"
   },
   {
    "duration": 140,
    "start_time": "2022-04-10T12:39:39.769Z"
   },
   {
    "duration": 22,
    "start_time": "2022-04-10T12:39:53.809Z"
   },
   {
    "duration": 22,
    "start_time": "2022-04-10T12:40:17.710Z"
   },
   {
    "duration": 11,
    "start_time": "2022-04-10T12:41:33.179Z"
   },
   {
    "duration": 4,
    "start_time": "2022-04-10T12:41:46.471Z"
   },
   {
    "duration": 4,
    "start_time": "2022-04-10T12:41:51.710Z"
   },
   {
    "duration": 121,
    "start_time": "2022-04-10T12:42:25.941Z"
   },
   {
    "duration": 31,
    "start_time": "2022-04-10T12:43:36.202Z"
   },
   {
    "duration": 25,
    "start_time": "2022-04-10T12:43:46.708Z"
   },
   {
    "duration": 20,
    "start_time": "2022-04-10T12:49:51.780Z"
   },
   {
    "duration": 28,
    "start_time": "2022-04-10T12:49:59.400Z"
   },
   {
    "duration": 22,
    "start_time": "2022-04-10T12:50:16.283Z"
   },
   {
    "duration": 12,
    "start_time": "2022-04-10T12:51:01.423Z"
   },
   {
    "duration": 11,
    "start_time": "2022-04-10T12:51:19.083Z"
   },
   {
    "duration": 14,
    "start_time": "2022-04-10T12:51:32.033Z"
   },
   {
    "duration": 14,
    "start_time": "2022-04-10T12:51:44.307Z"
   },
   {
    "duration": 16,
    "start_time": "2022-04-10T12:51:48.292Z"
   },
   {
    "duration": 15,
    "start_time": "2022-04-10T12:51:53.028Z"
   },
   {
    "duration": 16,
    "start_time": "2022-04-10T12:51:58.425Z"
   },
   {
    "duration": 1469,
    "start_time": "2022-04-10T12:52:22.059Z"
   },
   {
    "duration": 43,
    "start_time": "2022-04-10T12:52:23.530Z"
   },
   {
    "duration": 19,
    "start_time": "2022-04-10T12:52:23.574Z"
   },
   {
    "duration": 10,
    "start_time": "2022-04-10T12:52:23.596Z"
   },
   {
    "duration": 6,
    "start_time": "2022-04-10T12:52:23.608Z"
   },
   {
    "duration": 11,
    "start_time": "2022-04-10T12:52:23.615Z"
   },
   {
    "duration": 12,
    "start_time": "2022-04-10T12:52:23.628Z"
   },
   {
    "duration": 15,
    "start_time": "2022-04-10T12:52:23.641Z"
   },
   {
    "duration": 164,
    "start_time": "2022-04-10T12:52:23.658Z"
   },
   {
    "duration": 19,
    "start_time": "2022-04-10T12:52:23.825Z"
   },
   {
    "duration": 5,
    "start_time": "2022-04-10T12:52:23.846Z"
   },
   {
    "duration": 31,
    "start_time": "2022-04-10T12:52:23.853Z"
   },
   {
    "duration": 31,
    "start_time": "2022-04-10T12:52:23.886Z"
   },
   {
    "duration": 197,
    "start_time": "2022-04-10T12:52:23.919Z"
   },
   {
    "duration": 3108,
    "start_time": "2022-04-10T12:52:24.118Z"
   },
   {
    "duration": 158,
    "start_time": "2022-04-10T12:52:27.228Z"
   },
   {
    "duration": 101,
    "start_time": "2022-04-10T12:52:27.389Z"
   },
   {
    "duration": 97,
    "start_time": "2022-04-10T12:52:27.493Z"
   },
   {
    "duration": 252,
    "start_time": "2022-04-10T12:52:27.592Z"
   },
   {
    "duration": 3925,
    "start_time": "2022-04-10T12:52:27.846Z"
   },
   {
    "duration": 410,
    "start_time": "2022-04-10T12:52:31.773Z"
   },
   {
    "duration": 445,
    "start_time": "2022-04-10T12:52:32.185Z"
   },
   {
    "duration": 23,
    "start_time": "2022-04-10T12:52:32.633Z"
   },
   {
    "duration": 4,
    "start_time": "2022-04-10T12:52:32.658Z"
   },
   {
    "duration": 122,
    "start_time": "2022-04-10T12:52:32.680Z"
   },
   {
    "duration": 25,
    "start_time": "2022-04-10T12:52:32.804Z"
   },
   {
    "duration": 4,
    "start_time": "2022-04-10T12:53:11.377Z"
   },
   {
    "duration": 24,
    "start_time": "2022-04-10T12:54:03.732Z"
   },
   {
    "duration": 1377,
    "start_time": "2022-04-10T12:58:45.991Z"
   },
   {
    "duration": 45,
    "start_time": "2022-04-10T12:58:47.371Z"
   },
   {
    "duration": 14,
    "start_time": "2022-04-10T12:58:47.418Z"
   },
   {
    "duration": 10,
    "start_time": "2022-04-10T12:58:47.435Z"
   },
   {
    "duration": 10,
    "start_time": "2022-04-10T12:58:47.446Z"
   },
   {
    "duration": 12,
    "start_time": "2022-04-10T12:58:47.457Z"
   },
   {
    "duration": 14,
    "start_time": "2022-04-10T12:58:47.471Z"
   },
   {
    "duration": 13,
    "start_time": "2022-04-10T12:58:47.486Z"
   },
   {
    "duration": 147,
    "start_time": "2022-04-10T12:58:47.502Z"
   },
   {
    "duration": 29,
    "start_time": "2022-04-10T12:58:47.652Z"
   },
   {
    "duration": 5,
    "start_time": "2022-04-10T12:58:47.683Z"
   },
   {
    "duration": 9,
    "start_time": "2022-04-10T12:58:47.690Z"
   },
   {
    "duration": 31,
    "start_time": "2022-04-10T12:58:47.701Z"
   },
   {
    "duration": 205,
    "start_time": "2022-04-10T12:58:47.733Z"
   },
   {
    "duration": 2797,
    "start_time": "2022-04-10T12:58:47.940Z"
   },
   {
    "duration": 151,
    "start_time": "2022-04-10T12:58:50.738Z"
   },
   {
    "duration": 189,
    "start_time": "2022-04-10T12:58:50.891Z"
   },
   {
    "duration": 14,
    "start_time": "2022-04-10T12:58:51.082Z"
   },
   {
    "duration": 289,
    "start_time": "2022-04-10T12:58:51.098Z"
   },
   {
    "duration": 4215,
    "start_time": "2022-04-10T12:58:51.389Z"
   },
   {
    "duration": 177,
    "start_time": "2022-04-10T12:58:55.606Z"
   },
   {
    "duration": 510,
    "start_time": "2022-04-10T12:58:55.785Z"
   },
   {
    "duration": 22,
    "start_time": "2022-04-10T12:58:56.297Z"
   },
   {
    "duration": 4,
    "start_time": "2022-04-10T12:58:56.321Z"
   },
   {
    "duration": 130,
    "start_time": "2022-04-10T12:58:56.327Z"
   },
   {
    "duration": 29,
    "start_time": "2022-04-10T12:58:56.459Z"
   },
   {
    "duration": 195,
    "start_time": "2022-04-10T12:59:16.304Z"
   },
   {
    "duration": 4,
    "start_time": "2022-04-10T13:09:16.299Z"
   },
   {
    "duration": 10,
    "start_time": "2022-04-10T13:09:26.684Z"
   },
   {
    "duration": 17,
    "start_time": "2022-04-10T13:15:24.856Z"
   },
   {
    "duration": 106,
    "start_time": "2022-04-10T13:15:26.290Z"
   },
   {
    "duration": 19,
    "start_time": "2022-04-10T13:15:27.877Z"
   },
   {
    "duration": 1527,
    "start_time": "2022-04-11T14:48:41.691Z"
   },
   {
    "duration": 59,
    "start_time": "2022-04-11T14:48:43.220Z"
   },
   {
    "duration": 13,
    "start_time": "2022-04-11T14:48:43.280Z"
   },
   {
    "duration": 4,
    "start_time": "2022-04-11T14:48:43.295Z"
   },
   {
    "duration": 6,
    "start_time": "2022-04-11T14:48:43.300Z"
   },
   {
    "duration": 10,
    "start_time": "2022-04-11T14:48:43.307Z"
   },
   {
    "duration": 8,
    "start_time": "2022-04-11T14:48:43.318Z"
   },
   {
    "duration": 10,
    "start_time": "2022-04-11T14:48:43.327Z"
   },
   {
    "duration": 153,
    "start_time": "2022-04-11T14:48:43.338Z"
   },
   {
    "duration": 17,
    "start_time": "2022-04-11T14:48:43.494Z"
   },
   {
    "duration": 5,
    "start_time": "2022-04-11T14:48:43.513Z"
   },
   {
    "duration": 10,
    "start_time": "2022-04-11T14:48:43.519Z"
   },
   {
    "duration": 54,
    "start_time": "2022-04-11T14:48:43.530Z"
   },
   {
    "duration": 184,
    "start_time": "2022-04-11T14:48:43.585Z"
   },
   {
    "duration": 2794,
    "start_time": "2022-04-11T14:48:43.771Z"
   },
   {
    "duration": 216,
    "start_time": "2022-04-11T14:48:46.567Z"
   },
   {
    "duration": 100,
    "start_time": "2022-04-11T14:48:46.785Z"
   },
   {
    "duration": 15,
    "start_time": "2022-04-11T14:48:46.887Z"
   },
   {
    "duration": 231,
    "start_time": "2022-04-11T14:48:46.979Z"
   },
   {
    "duration": 1710,
    "start_time": "2022-04-11T14:48:47.212Z"
   },
   {
    "duration": 257,
    "start_time": "2022-04-11T14:48:48.923Z"
   },
   {
    "duration": 103,
    "start_time": "2022-04-11T14:48:49.182Z"
   },
   {
    "duration": 213,
    "start_time": "2022-04-11T14:48:49.287Z"
   },
   {
    "duration": 15,
    "start_time": "2022-04-11T14:48:49.502Z"
   },
   {
    "duration": 123,
    "start_time": "2022-04-11T14:48:49.519Z"
   },
   {
    "duration": 18,
    "start_time": "2022-04-11T14:48:49.644Z"
   },
   {
    "duration": 123,
    "start_time": "2022-04-11T14:49:30.161Z"
   },
   {
    "duration": 230,
    "start_time": "2022-04-11T14:49:49.520Z"
   },
   {
    "duration": 4,
    "start_time": "2022-04-11T14:54:39.268Z"
   },
   {
    "duration": 1417,
    "start_time": "2022-04-11T14:54:46.648Z"
   },
   {
    "duration": 37,
    "start_time": "2022-04-11T14:54:48.068Z"
   },
   {
    "duration": 12,
    "start_time": "2022-04-11T14:54:48.107Z"
   },
   {
    "duration": 5,
    "start_time": "2022-04-11T14:54:48.121Z"
   },
   {
    "duration": 7,
    "start_time": "2022-04-11T14:54:48.127Z"
   },
   {
    "duration": 11,
    "start_time": "2022-04-11T14:54:48.136Z"
   },
   {
    "duration": 9,
    "start_time": "2022-04-11T14:54:48.149Z"
   },
   {
    "duration": 10,
    "start_time": "2022-04-11T14:54:48.179Z"
   },
   {
    "duration": 129,
    "start_time": "2022-04-11T14:54:48.191Z"
   },
   {
    "duration": 17,
    "start_time": "2022-04-11T14:54:48.323Z"
   },
   {
    "duration": 5,
    "start_time": "2022-04-11T14:54:48.342Z"
   },
   {
    "duration": 31,
    "start_time": "2022-04-11T14:54:48.348Z"
   },
   {
    "duration": 27,
    "start_time": "2022-04-11T14:54:48.381Z"
   },
   {
    "duration": 191,
    "start_time": "2022-04-11T14:54:48.410Z"
   },
   {
    "duration": 2820,
    "start_time": "2022-04-11T14:54:48.603Z"
   },
   {
    "duration": 256,
    "start_time": "2022-04-11T14:54:51.425Z"
   },
   {
    "duration": 104,
    "start_time": "2022-04-11T14:54:51.684Z"
   },
   {
    "duration": 15,
    "start_time": "2022-04-11T14:54:51.790Z"
   },
   {
    "duration": 255,
    "start_time": "2022-04-11T14:54:51.807Z"
   },
   {
    "duration": 2501,
    "start_time": "2022-04-11T14:54:52.064Z"
   },
   {
    "duration": 216,
    "start_time": "2022-04-11T14:54:54.567Z"
   },
   {
    "duration": 98,
    "start_time": "2022-04-11T14:54:54.786Z"
   },
   {
    "duration": 247,
    "start_time": "2022-04-11T14:54:54.886Z"
   },
   {
    "duration": 15,
    "start_time": "2022-04-11T14:54:55.135Z"
   },
   {
    "duration": 110,
    "start_time": "2022-04-11T14:54:55.152Z"
   },
   {
    "duration": 17,
    "start_time": "2022-04-11T14:54:55.264Z"
   },
   {
    "duration": 103,
    "start_time": "2022-04-11T14:56:40.211Z"
   },
   {
    "duration": 690,
    "start_time": "2022-04-11T14:57:01.966Z"
   },
   {
    "duration": 1354,
    "start_time": "2022-04-11T14:57:45.134Z"
   },
   {
    "duration": 39,
    "start_time": "2022-04-11T14:57:46.491Z"
   },
   {
    "duration": 14,
    "start_time": "2022-04-11T14:57:46.532Z"
   },
   {
    "duration": 5,
    "start_time": "2022-04-11T14:57:46.549Z"
   },
   {
    "duration": 23,
    "start_time": "2022-04-11T14:57:46.555Z"
   },
   {
    "duration": 9,
    "start_time": "2022-04-11T14:57:46.580Z"
   },
   {
    "duration": 8,
    "start_time": "2022-04-11T14:57:46.591Z"
   },
   {
    "duration": 10,
    "start_time": "2022-04-11T14:57:46.601Z"
   },
   {
    "duration": 136,
    "start_time": "2022-04-11T14:57:46.612Z"
   },
   {
    "duration": 17,
    "start_time": "2022-04-11T14:57:46.750Z"
   },
   {
    "duration": 5,
    "start_time": "2022-04-11T14:57:46.779Z"
   },
   {
    "duration": 8,
    "start_time": "2022-04-11T14:57:46.786Z"
   },
   {
    "duration": 26,
    "start_time": "2022-04-11T14:57:46.795Z"
   },
   {
    "duration": 192,
    "start_time": "2022-04-11T14:57:46.823Z"
   },
   {
    "duration": 2746,
    "start_time": "2022-04-11T14:57:47.017Z"
   },
   {
    "duration": 659,
    "start_time": "2022-04-11T14:57:49.765Z"
   },
   {
    "duration": 163,
    "start_time": "2022-04-11T14:57:50.425Z"
   },
   {
    "duration": 189,
    "start_time": "2022-04-11T14:57:50.591Z"
   },
   {
    "duration": 13,
    "start_time": "2022-04-11T14:57:50.782Z"
   },
   {
    "duration": 254,
    "start_time": "2022-04-11T14:57:50.797Z"
   },
   {
    "duration": 1788,
    "start_time": "2022-04-11T14:57:51.052Z"
   },
   {
    "duration": 341,
    "start_time": "2022-04-11T14:57:52.842Z"
   },
   {
    "duration": 99,
    "start_time": "2022-04-11T14:57:53.185Z"
   },
   {
    "duration": 295,
    "start_time": "2022-04-11T14:57:53.287Z"
   },
   {
    "duration": 16,
    "start_time": "2022-04-11T14:57:53.583Z"
   },
   {
    "duration": 118,
    "start_time": "2022-04-11T14:57:53.601Z"
   },
   {
    "duration": 18,
    "start_time": "2022-04-11T14:57:53.721Z"
   },
   {
    "duration": 1062,
    "start_time": "2022-04-11T14:58:25.631Z"
   },
   {
    "duration": 2617,
    "start_time": "2022-04-11T14:58:45.489Z"
   },
   {
    "duration": 15,
    "start_time": "2022-04-11T14:59:28.161Z"
   },
   {
    "duration": 14,
    "start_time": "2022-04-11T14:59:31.781Z"
   },
   {
    "duration": 15,
    "start_time": "2022-04-11T14:59:35.850Z"
   },
   {
    "duration": 14,
    "start_time": "2022-04-11T14:59:38.976Z"
   },
   {
    "duration": 111,
    "start_time": "2022-04-11T15:00:26.284Z"
   },
   {
    "duration": 1472,
    "start_time": "2022-04-11T15:00:30.967Z"
   },
   {
    "duration": 219,
    "start_time": "2022-04-11T15:00:39.849Z"
   },
   {
    "duration": 258,
    "start_time": "2022-04-11T15:00:49.824Z"
   },
   {
    "duration": 203,
    "start_time": "2022-04-11T15:00:56.698Z"
   },
   {
    "duration": 230,
    "start_time": "2022-04-11T15:01:15.070Z"
   },
   {
    "duration": 210,
    "start_time": "2022-04-11T15:01:26.224Z"
   },
   {
    "duration": 232,
    "start_time": "2022-04-11T15:01:40.557Z"
   },
   {
    "duration": 1472,
    "start_time": "2022-04-11T15:01:50.421Z"
   },
   {
    "duration": 3969,
    "start_time": "2022-04-11T15:02:04.532Z"
   },
   {
    "duration": 165,
    "start_time": "2022-04-11T15:02:26.019Z"
   },
   {
    "duration": 307,
    "start_time": "2022-04-11T15:03:00.107Z"
   },
   {
    "duration": 374,
    "start_time": "2022-04-11T15:03:13.375Z"
   },
   {
    "duration": 330,
    "start_time": "2022-04-11T15:03:23.362Z"
   },
   {
    "duration": 1423,
    "start_time": "2022-04-11T15:04:40.060Z"
   },
   {
    "duration": 38,
    "start_time": "2022-04-11T15:04:41.485Z"
   },
   {
    "duration": 12,
    "start_time": "2022-04-11T15:04:41.525Z"
   },
   {
    "duration": 4,
    "start_time": "2022-04-11T15:04:41.540Z"
   },
   {
    "duration": 9,
    "start_time": "2022-04-11T15:04:41.545Z"
   },
   {
    "duration": 26,
    "start_time": "2022-04-11T15:04:41.556Z"
   },
   {
    "duration": 7,
    "start_time": "2022-04-11T15:04:41.584Z"
   },
   {
    "duration": 11,
    "start_time": "2022-04-11T15:04:41.592Z"
   },
   {
    "duration": 140,
    "start_time": "2022-04-11T15:04:41.604Z"
   },
   {
    "duration": 18,
    "start_time": "2022-04-11T15:04:41.746Z"
   },
   {
    "duration": 16,
    "start_time": "2022-04-11T15:04:41.766Z"
   },
   {
    "duration": 12,
    "start_time": "2022-04-11T15:04:41.784Z"
   },
   {
    "duration": 27,
    "start_time": "2022-04-11T15:04:41.798Z"
   },
   {
    "duration": 194,
    "start_time": "2022-04-11T15:04:41.827Z"
   },
   {
    "duration": 2857,
    "start_time": "2022-04-11T15:04:42.023Z"
   },
   {
    "duration": 2716,
    "start_time": "2022-04-11T15:04:44.882Z"
   },
   {
    "duration": 388,
    "start_time": "2022-04-11T15:04:47.600Z"
   },
   {
    "duration": 107,
    "start_time": "2022-04-11T15:04:48.080Z"
   },
   {
    "duration": 14,
    "start_time": "2022-04-11T15:04:48.188Z"
   },
   {
    "duration": 248,
    "start_time": "2022-04-11T15:04:48.203Z"
   },
   {
    "duration": 6762,
    "start_time": "2022-04-11T15:04:48.453Z"
   },
   {
    "duration": 461,
    "start_time": "2022-04-11T15:04:55.218Z"
   },
   {
    "duration": 9,
    "start_time": "2022-04-11T15:04:55.681Z"
   },
   {
    "duration": 701,
    "start_time": "2022-04-11T15:04:55.692Z"
   },
   {
    "duration": 83,
    "start_time": "2022-04-11T15:04:56.396Z"
   },
   {
    "duration": 250,
    "start_time": "2022-04-11T15:04:56.481Z"
   },
   {
    "duration": 69,
    "start_time": "2022-04-11T15:04:56.734Z"
   },
   {
    "duration": 4,
    "start_time": "2022-04-11T15:08:55.456Z"
   },
   {
    "duration": 3,
    "start_time": "2022-04-11T15:09:25.619Z"
   },
   {
    "duration": 1905,
    "start_time": "2022-04-11T15:12:20.763Z"
   },
   {
    "duration": 39,
    "start_time": "2022-04-11T15:12:22.671Z"
   },
   {
    "duration": 13,
    "start_time": "2022-04-11T15:12:22.712Z"
   },
   {
    "duration": 4,
    "start_time": "2022-04-11T15:12:22.728Z"
   },
   {
    "duration": 9,
    "start_time": "2022-04-11T15:12:22.734Z"
   },
   {
    "duration": 34,
    "start_time": "2022-04-11T15:12:22.745Z"
   },
   {
    "duration": 7,
    "start_time": "2022-04-11T15:12:22.781Z"
   },
   {
    "duration": 13,
    "start_time": "2022-04-11T15:12:22.790Z"
   },
   {
    "duration": 138,
    "start_time": "2022-04-11T15:12:22.805Z"
   },
   {
    "duration": 19,
    "start_time": "2022-04-11T15:12:22.946Z"
   },
   {
    "duration": 6,
    "start_time": "2022-04-11T15:12:22.978Z"
   },
   {
    "duration": 11,
    "start_time": "2022-04-11T15:12:22.985Z"
   },
   {
    "duration": 28,
    "start_time": "2022-04-11T15:12:22.998Z"
   },
   {
    "duration": 206,
    "start_time": "2022-04-11T15:12:23.027Z"
   },
   {
    "duration": 2800,
    "start_time": "2022-04-11T15:12:23.235Z"
   },
   {
    "duration": 1837,
    "start_time": "2022-04-11T15:13:20.174Z"
   },
   {
    "duration": 56,
    "start_time": "2022-04-11T15:13:22.014Z"
   },
   {
    "duration": 19,
    "start_time": "2022-04-11T15:13:22.080Z"
   },
   {
    "duration": 5,
    "start_time": "2022-04-11T15:13:22.102Z"
   },
   {
    "duration": 7,
    "start_time": "2022-04-11T15:13:22.109Z"
   },
   {
    "duration": 10,
    "start_time": "2022-04-11T15:13:22.118Z"
   },
   {
    "duration": 12,
    "start_time": "2022-04-11T15:13:22.130Z"
   },
   {
    "duration": 41,
    "start_time": "2022-04-11T15:13:22.143Z"
   },
   {
    "duration": 129,
    "start_time": "2022-04-11T15:13:22.186Z"
   },
   {
    "duration": 18,
    "start_time": "2022-04-11T15:13:22.318Z"
   },
   {
    "duration": 6,
    "start_time": "2022-04-11T15:13:22.338Z"
   },
   {
    "duration": 12,
    "start_time": "2022-04-11T15:13:22.345Z"
   },
   {
    "duration": 29,
    "start_time": "2022-04-11T15:13:22.379Z"
   },
   {
    "duration": 200,
    "start_time": "2022-04-11T15:13:22.410Z"
   },
   {
    "duration": 2894,
    "start_time": "2022-04-11T15:13:22.611Z"
   },
   {
    "duration": 57726,
    "start_time": "2022-04-11T15:13:25.507Z"
   },
   {
    "duration": 246,
    "start_time": "2022-04-11T15:14:23.235Z"
   },
   {
    "duration": 103,
    "start_time": "2022-04-11T15:14:23.483Z"
   },
   {
    "duration": 15,
    "start_time": "2022-04-11T15:14:23.587Z"
   },
   {
    "duration": 263,
    "start_time": "2022-04-11T15:14:23.604Z"
   },
   {
    "duration": 3971,
    "start_time": "2022-04-11T15:14:23.869Z"
   },
   {
    "duration": 441,
    "start_time": "2022-04-11T15:14:27.841Z"
   },
   {
    "duration": 98,
    "start_time": "2022-04-11T15:14:28.285Z"
   },
   {
    "duration": 346,
    "start_time": "2022-04-11T15:14:28.385Z"
   },
   {
    "duration": 22,
    "start_time": "2022-04-11T15:14:28.732Z"
   },
   {
    "duration": 122,
    "start_time": "2022-04-11T15:14:28.756Z"
   },
   {
    "duration": 25,
    "start_time": "2022-04-11T15:14:28.880Z"
   },
   {
    "duration": 269,
    "start_time": "2022-04-11T15:16:02.292Z"
   },
   {
    "duration": 259,
    "start_time": "2022-04-11T15:16:26.307Z"
   },
   {
    "duration": 264394,
    "start_time": "2022-04-11T15:18:51.855Z"
   },
   {
    "duration": 149,
    "start_time": "2022-04-11T15:24:41.465Z"
   },
   {
    "duration": 1720,
    "start_time": "2022-04-11T17:20:45.136Z"
   },
   {
    "duration": 37,
    "start_time": "2022-04-11T17:20:46.858Z"
   },
   {
    "duration": 14,
    "start_time": "2022-04-11T17:20:46.896Z"
   },
   {
    "duration": 13,
    "start_time": "2022-04-11T17:20:46.912Z"
   },
   {
    "duration": 10,
    "start_time": "2022-04-11T17:20:46.927Z"
   },
   {
    "duration": 10,
    "start_time": "2022-04-11T17:20:46.940Z"
   },
   {
    "duration": 11,
    "start_time": "2022-04-11T17:20:46.952Z"
   },
   {
    "duration": 10,
    "start_time": "2022-04-11T17:20:46.965Z"
   },
   {
    "duration": 216,
    "start_time": "2022-04-11T17:20:46.977Z"
   },
   {
    "duration": 36,
    "start_time": "2022-04-11T17:20:47.197Z"
   },
   {
    "duration": 7,
    "start_time": "2022-04-11T17:20:47.235Z"
   },
   {
    "duration": 17,
    "start_time": "2022-04-11T17:20:47.244Z"
   },
   {
    "duration": 38,
    "start_time": "2022-04-11T17:20:47.263Z"
   },
   {
    "duration": 199,
    "start_time": "2022-04-11T17:20:47.303Z"
   },
   {
    "duration": 2700,
    "start_time": "2022-04-11T17:20:47.503Z"
   },
   {
    "duration": 132,
    "start_time": "2022-04-11T17:20:50.204Z"
   },
   {
    "duration": 100,
    "start_time": "2022-04-11T17:20:50.338Z"
   },
   {
    "duration": 17,
    "start_time": "2022-04-11T17:20:50.524Z"
   },
   {
    "duration": 234,
    "start_time": "2022-04-11T17:20:50.542Z"
   },
   {
    "duration": 3552,
    "start_time": "2022-04-11T17:20:50.778Z"
   },
   {
    "duration": 193,
    "start_time": "2022-04-11T17:20:54.332Z"
   },
   {
    "duration": 103,
    "start_time": "2022-04-11T17:20:54.527Z"
   },
   {
    "duration": 331,
    "start_time": "2022-04-11T17:20:54.632Z"
   },
   {
    "duration": 30,
    "start_time": "2022-04-11T17:20:54.965Z"
   },
   {
    "duration": 175,
    "start_time": "2022-04-11T17:20:54.998Z"
   },
   {
    "duration": 33,
    "start_time": "2022-04-11T17:20:55.175Z"
   },
   {
    "duration": 461,
    "start_time": "2022-04-11T17:25:59.803Z"
   },
   {
    "duration": 509,
    "start_time": "2022-04-11T17:26:18.025Z"
   },
   {
    "duration": 365,
    "start_time": "2022-04-11T17:26:34.359Z"
   },
   {
    "duration": 148,
    "start_time": "2022-04-11T17:26:42.531Z"
   },
   {
    "duration": 553,
    "start_time": "2022-04-11T17:26:46.540Z"
   },
   {
    "duration": 1419,
    "start_time": "2022-04-11T17:27:09.465Z"
   },
   {
    "duration": 196,
    "start_time": "2022-04-11T17:27:35.963Z"
   },
   {
    "duration": 172,
    "start_time": "2022-04-11T17:27:42.515Z"
   },
   {
    "duration": 514,
    "start_time": "2022-04-11T17:27:50.091Z"
   },
   {
    "duration": 4969,
    "start_time": "2022-04-11T17:28:06.625Z"
   },
   {
    "duration": 347,
    "start_time": "2022-04-11T17:28:21.340Z"
   },
   {
    "duration": 241,
    "start_time": "2022-04-11T17:28:25.625Z"
   },
   {
    "duration": 315,
    "start_time": "2022-04-11T17:28:29.702Z"
   },
   {
    "duration": 218,
    "start_time": "2022-04-11T17:28:33.713Z"
   },
   {
    "duration": 258,
    "start_time": "2022-04-11T17:28:37.825Z"
   },
   {
    "duration": 336,
    "start_time": "2022-04-11T17:28:41.766Z"
   },
   {
    "duration": 231,
    "start_time": "2022-04-11T17:28:45.932Z"
   },
   {
    "duration": 183,
    "start_time": "2022-04-11T17:29:00.790Z"
   },
   {
    "duration": 201,
    "start_time": "2022-04-11T17:29:03.971Z"
   },
   {
    "duration": 126,
    "start_time": "2022-04-11T17:29:09.384Z"
   },
   {
    "duration": 147,
    "start_time": "2022-04-11T17:29:13.559Z"
   },
   {
    "duration": 9,
    "start_time": "2022-04-11T17:53:20.797Z"
   }
  ],
  "kernelspec": {
   "display_name": "Python 3 (ipykernel)",
   "language": "python",
   "name": "python3"
  },
  "language_info": {
   "codemirror_mode": {
    "name": "ipython",
    "version": 3
   },
   "file_extension": ".py",
   "mimetype": "text/x-python",
   "name": "python",
   "nbconvert_exporter": "python",
   "pygments_lexer": "ipython3",
   "version": "3.9.7"
  },
  "toc": {
   "base_numbering": 1,
   "nav_menu": {},
   "number_sections": true,
   "sideBar": true,
   "skip_h1_title": true,
   "title_cell": "Содержание",
   "title_sidebar": "Contents",
   "toc_cell": true,
   "toc_position": {
    "height": "calc(100% - 180px)",
    "left": "10px",
    "top": "150px",
    "width": "190px"
   },
   "toc_section_display": true,
   "toc_window_display": true
  }
 },
 "nbformat": 4,
 "nbformat_minor": 2
}
