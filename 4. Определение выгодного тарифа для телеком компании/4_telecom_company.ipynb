{
 "cells": [
  {
   "cell_type": "markdown",
   "metadata": {
    "toc": true
   },
   "source": [
    "<h1>Содержание<span class=\"tocSkip\"></span></h1>\n",
    "<div class=\"toc\"><ul class=\"toc-item\"><li><span><a href=\"#Изучение-данных-из-файлов\" data-toc-modified-id=\"Изучение-данных-из-файлов-1\"><span class=\"toc-item-num\">1&nbsp;&nbsp;</span>Изучение данных из файлов</a></span></li><li><span><a href=\"#Подготовка-данных\" data-toc-modified-id=\"Подготовка-данных-2\"><span class=\"toc-item-num\">2&nbsp;&nbsp;</span>Подготовка данных</a></span><ul class=\"toc-item\"><li><span><a href=\"#Предобработка-данных\" data-toc-modified-id=\"Предобработка-данных-2.1\"><span class=\"toc-item-num\">2.1&nbsp;&nbsp;</span>Предобработка данных</a></span></li><li><span><a href=\"#Подготовка-пользовательских-данных\" data-toc-modified-id=\"Подготовка-пользовательских-данных-2.2\"><span class=\"toc-item-num\">2.2&nbsp;&nbsp;</span>Подготовка пользовательских данных</a></span><ul class=\"toc-item\"><li><span><a href=\"#Количество-сделанных-звонков-и-израсходованных-минут-разговора-по-меясцам\" data-toc-modified-id=\"Количество-сделанных-звонков-и-израсходованных-минут-разговора-по-меясцам-2.2.1\"><span class=\"toc-item-num\">2.2.1&nbsp;&nbsp;</span>Количество сделанных звонков и израсходованных минут разговора по меясцам</a></span></li><li><span><a href=\"#Количество-отправленных-сообщений-по-месяцам\" data-toc-modified-id=\"Количество-отправленных-сообщений-по-месяцам-2.2.2\"><span class=\"toc-item-num\">2.2.2&nbsp;&nbsp;</span>Количество отправленных сообщений по месяцам</a></span></li><li><span><a href=\"#Объем-израсходованного-интернет-трафика-по-месяцам\" data-toc-modified-id=\"Объем-израсходованного-интернет-трафика-по-месяцам-2.2.3\"><span class=\"toc-item-num\">2.2.3&nbsp;&nbsp;</span>Объем израсходованного интернет-трафика по месяцам</a></span></li><li><span><a href=\"#Формирование-обобщенного-датасета\" data-toc-modified-id=\"Формирование-обобщенного-датасета-2.2.4\"><span class=\"toc-item-num\">2.2.4&nbsp;&nbsp;</span>Формирование обобщенного датасета</a></span></li><li><span><a href=\"#Расчёт-помесячной-выручки-с-каждого-пользователя\" data-toc-modified-id=\"Расчёт-помесячной-выручки-с-каждого-пользователя-2.2.5\"><span class=\"toc-item-num\">2.2.5&nbsp;&nbsp;</span>Расчёт помесячной выручки с каждого пользователя</a></span></li></ul></li><li><span><a href=\"#Вывод\" data-toc-modified-id=\"Вывод-2.3\"><span class=\"toc-item-num\">2.3&nbsp;&nbsp;</span>Вывод</a></span></li></ul></li><li><span><a href=\"#Анализ-данных\" data-toc-modified-id=\"Анализ-данных-3\"><span class=\"toc-item-num\">3&nbsp;&nbsp;</span>Анализ данных</a></span><ul class=\"toc-item\"><li><span><a href=\"#Тариф-&quot;Smart&quot;\" data-toc-modified-id=\"Тариф-&quot;Smart&quot;-3.1\"><span class=\"toc-item-num\">3.1&nbsp;&nbsp;</span>Тариф \"Smart\"</a></span></li><li><span><a href=\"#Тариф-&quot;Ultra&quot;\" data-toc-modified-id=\"Тариф-&quot;Ultra&quot;-3.2\"><span class=\"toc-item-num\">3.2&nbsp;&nbsp;</span>Тариф \"Ultra\"</a></span></li><li><span><a href=\"#Вывод\" data-toc-modified-id=\"Вывод-3.3\"><span class=\"toc-item-num\">3.3&nbsp;&nbsp;</span>Вывод</a></span></li></ul></li><li><span><a href=\"#Проверка-гипотез\" data-toc-modified-id=\"Проверка-гипотез-4\"><span class=\"toc-item-num\">4&nbsp;&nbsp;</span>Проверка гипотез</a></span><ul class=\"toc-item\"><li><span><a href=\"#Гипотеза-№-1.--Средняя-выручка-пользователей-тарифов-&quot;Ультра&quot;-и-&quot;Смарт&quot;-различаются\" data-toc-modified-id=\"Гипотеза-№-1.--Средняя-выручка-пользователей-тарифов-&quot;Ультра&quot;-и-&quot;Смарт&quot;-различаются-4.1\"><span class=\"toc-item-num\">4.1&nbsp;&nbsp;</span>Гипотеза № 1.  Средняя выручка пользователей тарифов \"Ультра\" и \"Смарт\" различаются</a></span></li><li><span><a href=\"#Гипотеза-№-2.-Средняя-выручка-пользователей-из-Москвы-отличается-от-выручки-пользователей-из-других-регионов\" data-toc-modified-id=\"Гипотеза-№-2.-Средняя-выручка-пользователей-из-Москвы-отличается-от-выручки-пользователей-из-других-регионов-4.2\"><span class=\"toc-item-num\">4.2&nbsp;&nbsp;</span>Гипотеза № 2. Средняя выручка пользователей из Москвы отличается от выручки пользователей из других регионов</a></span></li></ul></li><li><span><a href=\"#Общий-вывод\" data-toc-modified-id=\"Общий-вывод-5\"><span class=\"toc-item-num\">5&nbsp;&nbsp;</span>Общий вывод</a></span></li></ul></div>"
   ]
  },
  {
   "cell_type": "markdown",
   "metadata": {},
   "source": [
    "# Определение перспективного тарифа для телеком-компании\n"
   ]
  },
  {
   "cell_type": "markdown",
   "metadata": {},
   "source": [
    "# Описание проекта \n",
    "\n",
    "Компания «Мегалайн» — федеральный оператор сотовой связи. Клиентам предлагают два тарифных плана: «Смарт» и «Ультра». Чтобы скорректировать рекламный бюджет, коммерческий департамент хочет понять, какой тариф приносит больше денег.\n",
    "Предстоит сделать предварительный анализ тарифов на небольшой выборке клиентов. В нашем распоряжении данные 500 пользователей «Мегалайна»: кто они, откуда, каким тарифом пользуются, сколько звонков и сообщений каждый отправил за 2018 год. Нужно проанализировать поведение клиентов и сделать вывод — какой тариф лучше."
   ]
  },
  {
   "cell_type": "markdown",
   "metadata": {},
   "source": [
    "# Описание тарифов \n",
    "\n",
    "**Тариф «Смарт»**\n",
    "1. Ежемесячная плата: 550 рублей\n",
    "2. Включено 500 минут разговора, 50 сообщений и 15 Гб интернет-трафика\n",
    "3. Стоимость услуг сверх тарифного пакета:\n",
    "* минута разговора: 3 рубля\n",
    "* сообщение: 3 рубля\n",
    "* 1 Гб интернет-трафика: 200 рублей\n",
    "\n",
    "**Тариф «Ультра»**\n",
    "1. Ежемесячная плата: 1950 рублей\n",
    "2. Включено 3000 минут разговора, 1000 сообщений и 30 Гб интернет-трафика\n",
    "3. Стоимость услуг сверх тарифного пакета:\n",
    "* минута разговора: 1 рубль\n",
    "* сообщение: 1 рубль\n",
    "* 1 Гб интернет-трафика: 150 рублей\n",
    "\n",
    "**Примечание:**\n",
    "\n",
    "«Мегалайн» всегда округляет секунды до минут, а мегабайты — до гигабайт. Каждый звонок округляется отдельно: даже если он длился всего 1 секунду, будет засчитан как 1 минута.\n",
    "\n",
    "Для веб-трафика отдельные сессии не считаются. Вместо этого общая сумма за месяц округляется в бо́льшую сторону. Если абонент использует 1025 мегабайт в этом месяце, с него возьмут плату за 2 гигабайта."
   ]
  },
  {
   "cell_type": "markdown",
   "metadata": {},
   "source": [
    "## Изучение данных из файлов"
   ]
  },
  {
   "cell_type": "markdown",
   "metadata": {},
   "source": [
    "Для начала импортируем библиотеки, которые нам пригодятся для дальнейшего анализа."
   ]
  },
  {
   "cell_type": "code",
   "execution_count": 1,
   "metadata": {},
   "outputs": [],
   "source": [
    "import pandas as pd\n",
    "import numpy as np \n",
    "import matplotlib.pyplot as plt\n",
    "from scipy import stats as st\n",
    "import math"
   ]
  },
  {
   "cell_type": "markdown",
   "metadata": {},
   "source": [
    "Откроем датасеты и посмотри на первые 5 строчек каждого из них:"
   ]
  },
  {
   "cell_type": "code",
   "execution_count": 2,
   "metadata": {},
   "outputs": [
    {
     "data": {
      "text/html": [
       "<div>\n",
       "<style scoped>\n",
       "    .dataframe tbody tr th:only-of-type {\n",
       "        vertical-align: middle;\n",
       "    }\n",
       "\n",
       "    .dataframe tbody tr th {\n",
       "        vertical-align: top;\n",
       "    }\n",
       "\n",
       "    .dataframe thead th {\n",
       "        text-align: right;\n",
       "    }\n",
       "</style>\n",
       "<table border=\"1\" class=\"dataframe\">\n",
       "  <thead>\n",
       "    <tr style=\"text-align: right;\">\n",
       "      <th></th>\n",
       "      <th>id</th>\n",
       "      <th>call_date</th>\n",
       "      <th>duration</th>\n",
       "      <th>user_id</th>\n",
       "    </tr>\n",
       "  </thead>\n",
       "  <tbody>\n",
       "    <tr>\n",
       "      <td>0</td>\n",
       "      <td>1000_0</td>\n",
       "      <td>2018-07-25</td>\n",
       "      <td>0.00</td>\n",
       "      <td>1000</td>\n",
       "    </tr>\n",
       "    <tr>\n",
       "      <td>1</td>\n",
       "      <td>1000_1</td>\n",
       "      <td>2018-08-17</td>\n",
       "      <td>0.00</td>\n",
       "      <td>1000</td>\n",
       "    </tr>\n",
       "    <tr>\n",
       "      <td>2</td>\n",
       "      <td>1000_2</td>\n",
       "      <td>2018-06-11</td>\n",
       "      <td>2.85</td>\n",
       "      <td>1000</td>\n",
       "    </tr>\n",
       "    <tr>\n",
       "      <td>3</td>\n",
       "      <td>1000_3</td>\n",
       "      <td>2018-09-21</td>\n",
       "      <td>13.80</td>\n",
       "      <td>1000</td>\n",
       "    </tr>\n",
       "    <tr>\n",
       "      <td>4</td>\n",
       "      <td>1000_4</td>\n",
       "      <td>2018-12-15</td>\n",
       "      <td>5.18</td>\n",
       "      <td>1000</td>\n",
       "    </tr>\n",
       "  </tbody>\n",
       "</table>\n",
       "</div>"
      ],
      "text/plain": [
       "       id   call_date  duration  user_id\n",
       "0  1000_0  2018-07-25      0.00     1000\n",
       "1  1000_1  2018-08-17      0.00     1000\n",
       "2  1000_2  2018-06-11      2.85     1000\n",
       "3  1000_3  2018-09-21     13.80     1000\n",
       "4  1000_4  2018-12-15      5.18     1000"
      ]
     },
     "execution_count": 2,
     "metadata": {},
     "output_type": "execute_result"
    }
   ],
   "source": [
    "df_calls = pd.read_csv('/datasets/calls.csv')\n",
    "df_internet = pd.read_csv('/datasets/internet.csv')\n",
    "df_messages = pd.read_csv('/datasets/messages.csv')\n",
    "df_tariffs = pd.read_csv('/datasets/tariffs.csv')\n",
    "df_users = pd.read_csv('/datasets/users.csv')\n",
    "pd.options.display.max_columns = None   #команада для отображения всех столбцов датафрейма \n",
    "df_calls.head()"
   ]
  },
  {
   "cell_type": "code",
   "execution_count": 3,
   "metadata": {},
   "outputs": [
    {
     "data": {
      "text/html": [
       "<div>\n",
       "<style scoped>\n",
       "    .dataframe tbody tr th:only-of-type {\n",
       "        vertical-align: middle;\n",
       "    }\n",
       "\n",
       "    .dataframe tbody tr th {\n",
       "        vertical-align: top;\n",
       "    }\n",
       "\n",
       "    .dataframe thead th {\n",
       "        text-align: right;\n",
       "    }\n",
       "</style>\n",
       "<table border=\"1\" class=\"dataframe\">\n",
       "  <thead>\n",
       "    <tr style=\"text-align: right;\">\n",
       "      <th></th>\n",
       "      <th>Unnamed: 0</th>\n",
       "      <th>id</th>\n",
       "      <th>mb_used</th>\n",
       "      <th>session_date</th>\n",
       "      <th>user_id</th>\n",
       "    </tr>\n",
       "  </thead>\n",
       "  <tbody>\n",
       "    <tr>\n",
       "      <td>0</td>\n",
       "      <td>0</td>\n",
       "      <td>1000_0</td>\n",
       "      <td>112.95</td>\n",
       "      <td>2018-11-25</td>\n",
       "      <td>1000</td>\n",
       "    </tr>\n",
       "    <tr>\n",
       "      <td>1</td>\n",
       "      <td>1</td>\n",
       "      <td>1000_1</td>\n",
       "      <td>1052.81</td>\n",
       "      <td>2018-09-07</td>\n",
       "      <td>1000</td>\n",
       "    </tr>\n",
       "    <tr>\n",
       "      <td>2</td>\n",
       "      <td>2</td>\n",
       "      <td>1000_2</td>\n",
       "      <td>1197.26</td>\n",
       "      <td>2018-06-25</td>\n",
       "      <td>1000</td>\n",
       "    </tr>\n",
       "    <tr>\n",
       "      <td>3</td>\n",
       "      <td>3</td>\n",
       "      <td>1000_3</td>\n",
       "      <td>550.27</td>\n",
       "      <td>2018-08-22</td>\n",
       "      <td>1000</td>\n",
       "    </tr>\n",
       "    <tr>\n",
       "      <td>4</td>\n",
       "      <td>4</td>\n",
       "      <td>1000_4</td>\n",
       "      <td>302.56</td>\n",
       "      <td>2018-09-24</td>\n",
       "      <td>1000</td>\n",
       "    </tr>\n",
       "  </tbody>\n",
       "</table>\n",
       "</div>"
      ],
      "text/plain": [
       "   Unnamed: 0      id  mb_used session_date  user_id\n",
       "0           0  1000_0   112.95   2018-11-25     1000\n",
       "1           1  1000_1  1052.81   2018-09-07     1000\n",
       "2           2  1000_2  1197.26   2018-06-25     1000\n",
       "3           3  1000_3   550.27   2018-08-22     1000\n",
       "4           4  1000_4   302.56   2018-09-24     1000"
      ]
     },
     "execution_count": 3,
     "metadata": {},
     "output_type": "execute_result"
    }
   ],
   "source": [
    "df_internet.head()"
   ]
  },
  {
   "cell_type": "code",
   "execution_count": 4,
   "metadata": {},
   "outputs": [
    {
     "data": {
      "text/html": [
       "<div>\n",
       "<style scoped>\n",
       "    .dataframe tbody tr th:only-of-type {\n",
       "        vertical-align: middle;\n",
       "    }\n",
       "\n",
       "    .dataframe tbody tr th {\n",
       "        vertical-align: top;\n",
       "    }\n",
       "\n",
       "    .dataframe thead th {\n",
       "        text-align: right;\n",
       "    }\n",
       "</style>\n",
       "<table border=\"1\" class=\"dataframe\">\n",
       "  <thead>\n",
       "    <tr style=\"text-align: right;\">\n",
       "      <th></th>\n",
       "      <th>id</th>\n",
       "      <th>message_date</th>\n",
       "      <th>user_id</th>\n",
       "    </tr>\n",
       "  </thead>\n",
       "  <tbody>\n",
       "    <tr>\n",
       "      <td>0</td>\n",
       "      <td>1000_0</td>\n",
       "      <td>2018-06-27</td>\n",
       "      <td>1000</td>\n",
       "    </tr>\n",
       "    <tr>\n",
       "      <td>1</td>\n",
       "      <td>1000_1</td>\n",
       "      <td>2018-10-08</td>\n",
       "      <td>1000</td>\n",
       "    </tr>\n",
       "    <tr>\n",
       "      <td>2</td>\n",
       "      <td>1000_2</td>\n",
       "      <td>2018-08-04</td>\n",
       "      <td>1000</td>\n",
       "    </tr>\n",
       "    <tr>\n",
       "      <td>3</td>\n",
       "      <td>1000_3</td>\n",
       "      <td>2018-06-16</td>\n",
       "      <td>1000</td>\n",
       "    </tr>\n",
       "    <tr>\n",
       "      <td>4</td>\n",
       "      <td>1000_4</td>\n",
       "      <td>2018-12-05</td>\n",
       "      <td>1000</td>\n",
       "    </tr>\n",
       "  </tbody>\n",
       "</table>\n",
       "</div>"
      ],
      "text/plain": [
       "       id message_date  user_id\n",
       "0  1000_0   2018-06-27     1000\n",
       "1  1000_1   2018-10-08     1000\n",
       "2  1000_2   2018-08-04     1000\n",
       "3  1000_3   2018-06-16     1000\n",
       "4  1000_4   2018-12-05     1000"
      ]
     },
     "execution_count": 4,
     "metadata": {},
     "output_type": "execute_result"
    }
   ],
   "source": [
    "df_messages.head()"
   ]
  },
  {
   "cell_type": "code",
   "execution_count": 5,
   "metadata": {},
   "outputs": [
    {
     "data": {
      "text/html": [
       "<div>\n",
       "<style scoped>\n",
       "    .dataframe tbody tr th:only-of-type {\n",
       "        vertical-align: middle;\n",
       "    }\n",
       "\n",
       "    .dataframe tbody tr th {\n",
       "        vertical-align: top;\n",
       "    }\n",
       "\n",
       "    .dataframe thead th {\n",
       "        text-align: right;\n",
       "    }\n",
       "</style>\n",
       "<table border=\"1\" class=\"dataframe\">\n",
       "  <thead>\n",
       "    <tr style=\"text-align: right;\">\n",
       "      <th></th>\n",
       "      <th>messages_included</th>\n",
       "      <th>mb_per_month_included</th>\n",
       "      <th>minutes_included</th>\n",
       "      <th>rub_monthly_fee</th>\n",
       "      <th>rub_per_gb</th>\n",
       "      <th>rub_per_message</th>\n",
       "      <th>rub_per_minute</th>\n",
       "      <th>tariff_name</th>\n",
       "    </tr>\n",
       "  </thead>\n",
       "  <tbody>\n",
       "    <tr>\n",
       "      <td>0</td>\n",
       "      <td>50</td>\n",
       "      <td>15360</td>\n",
       "      <td>500</td>\n",
       "      <td>550</td>\n",
       "      <td>200</td>\n",
       "      <td>3</td>\n",
       "      <td>3</td>\n",
       "      <td>smart</td>\n",
       "    </tr>\n",
       "    <tr>\n",
       "      <td>1</td>\n",
       "      <td>1000</td>\n",
       "      <td>30720</td>\n",
       "      <td>3000</td>\n",
       "      <td>1950</td>\n",
       "      <td>150</td>\n",
       "      <td>1</td>\n",
       "      <td>1</td>\n",
       "      <td>ultra</td>\n",
       "    </tr>\n",
       "  </tbody>\n",
       "</table>\n",
       "</div>"
      ],
      "text/plain": [
       "   messages_included  mb_per_month_included  minutes_included  \\\n",
       "0                 50                  15360               500   \n",
       "1               1000                  30720              3000   \n",
       "\n",
       "   rub_monthly_fee  rub_per_gb  rub_per_message  rub_per_minute tariff_name  \n",
       "0              550         200                3               3       smart  \n",
       "1             1950         150                1               1       ultra  "
      ]
     },
     "execution_count": 5,
     "metadata": {},
     "output_type": "execute_result"
    }
   ],
   "source": [
    "df_tariffs.head()"
   ]
  },
  {
   "cell_type": "code",
   "execution_count": 6,
   "metadata": {},
   "outputs": [
    {
     "data": {
      "text/html": [
       "<div>\n",
       "<style scoped>\n",
       "    .dataframe tbody tr th:only-of-type {\n",
       "        vertical-align: middle;\n",
       "    }\n",
       "\n",
       "    .dataframe tbody tr th {\n",
       "        vertical-align: top;\n",
       "    }\n",
       "\n",
       "    .dataframe thead th {\n",
       "        text-align: right;\n",
       "    }\n",
       "</style>\n",
       "<table border=\"1\" class=\"dataframe\">\n",
       "  <thead>\n",
       "    <tr style=\"text-align: right;\">\n",
       "      <th></th>\n",
       "      <th>user_id</th>\n",
       "      <th>age</th>\n",
       "      <th>churn_date</th>\n",
       "      <th>city</th>\n",
       "      <th>first_name</th>\n",
       "      <th>last_name</th>\n",
       "      <th>reg_date</th>\n",
       "      <th>tariff</th>\n",
       "    </tr>\n",
       "  </thead>\n",
       "  <tbody>\n",
       "    <tr>\n",
       "      <td>0</td>\n",
       "      <td>1000</td>\n",
       "      <td>52</td>\n",
       "      <td>NaN</td>\n",
       "      <td>Краснодар</td>\n",
       "      <td>Рафаил</td>\n",
       "      <td>Верещагин</td>\n",
       "      <td>2018-05-25</td>\n",
       "      <td>ultra</td>\n",
       "    </tr>\n",
       "    <tr>\n",
       "      <td>1</td>\n",
       "      <td>1001</td>\n",
       "      <td>41</td>\n",
       "      <td>NaN</td>\n",
       "      <td>Москва</td>\n",
       "      <td>Иван</td>\n",
       "      <td>Ежов</td>\n",
       "      <td>2018-11-01</td>\n",
       "      <td>smart</td>\n",
       "    </tr>\n",
       "    <tr>\n",
       "      <td>2</td>\n",
       "      <td>1002</td>\n",
       "      <td>59</td>\n",
       "      <td>NaN</td>\n",
       "      <td>Стерлитамак</td>\n",
       "      <td>Евгений</td>\n",
       "      <td>Абрамович</td>\n",
       "      <td>2018-06-17</td>\n",
       "      <td>smart</td>\n",
       "    </tr>\n",
       "    <tr>\n",
       "      <td>3</td>\n",
       "      <td>1003</td>\n",
       "      <td>23</td>\n",
       "      <td>NaN</td>\n",
       "      <td>Москва</td>\n",
       "      <td>Белла</td>\n",
       "      <td>Белякова</td>\n",
       "      <td>2018-08-17</td>\n",
       "      <td>ultra</td>\n",
       "    </tr>\n",
       "    <tr>\n",
       "      <td>4</td>\n",
       "      <td>1004</td>\n",
       "      <td>68</td>\n",
       "      <td>NaN</td>\n",
       "      <td>Новокузнецк</td>\n",
       "      <td>Татьяна</td>\n",
       "      <td>Авдеенко</td>\n",
       "      <td>2018-05-14</td>\n",
       "      <td>ultra</td>\n",
       "    </tr>\n",
       "  </tbody>\n",
       "</table>\n",
       "</div>"
      ],
      "text/plain": [
       "   user_id  age churn_date         city first_name  last_name    reg_date  \\\n",
       "0     1000   52        NaN    Краснодар     Рафаил  Верещагин  2018-05-25   \n",
       "1     1001   41        NaN       Москва       Иван       Ежов  2018-11-01   \n",
       "2     1002   59        NaN  Стерлитамак    Евгений  Абрамович  2018-06-17   \n",
       "3     1003   23        NaN       Москва      Белла   Белякова  2018-08-17   \n",
       "4     1004   68        NaN  Новокузнецк    Татьяна   Авдеенко  2018-05-14   \n",
       "\n",
       "  tariff  \n",
       "0  ultra  \n",
       "1  smart  \n",
       "2  smart  \n",
       "3  ultra  \n",
       "4  ultra  "
      ]
     },
     "execution_count": 6,
     "metadata": {},
     "output_type": "execute_result"
    }
   ],
   "source": [
    "df_users.head()"
   ]
  },
  {
   "cell_type": "markdown",
   "metadata": {},
   "source": [
    "Согласно документации к данным:\n",
    "\n",
    "Таблица `users` (информация от пользователях):\n",
    "* `user_id` — уникальный идентификатор пользователя\n",
    "* `first_name — имя пользователя\n",
    "* `last_name` — фамилия пользователя\n",
    "* `age` — возраст пользователя (годы)\n",
    "* `reg_date` — дата подключения тарифа (день, месяц, год)\n",
    "* `churn_date` — дата прекращения пользования тарифом (если значение пропущено, то тариф ещё действовал на момент выгрузки данных)\n",
    "* `city` — город проживания пользователя\n",
    "* `tarif` — название тарифного плана\n",
    "\n",
    "Таблица `calls` (информация о звонках):\n",
    "* `id` — уникальный номер звонка\n",
    "* `call_date` — дата звонка\n",
    "* `duration` — длительность звонка в минутах\n",
    "* `user_id` — идентификатор пользователя, сделавшего звонок\n",
    "\n",
    "Таблица `messages` (информация о сообщениях):\n",
    "* `id` — уникальный номер сообщения\n",
    "* `message_date` — дата сообщения\n",
    "* `user_id` — идентификатор пользователя, отправившего сообщение\n",
    "\n",
    "Таблица `internet` (информация об интернет-сессиях):\n",
    "* `id` — уникальный номер сессии\n",
    "* `mb_used` — объём потраченного за сессию интернет-трафика (в мегабайтах)\n",
    "* `session_date` — дата интернет-сессии\n",
    "* `user_id` — идентификатор пользователя\n",
    "\n",
    "Таблица `tariffs` (информация о тарифах):\n",
    "* `tariff_name` — название тарифа\n",
    "* `rub_monthly_fee` — ежемесячная абонентская плата в рублях\n",
    "* `minutes_included` — количество минут разговора в месяц, включённых в абонентскую плату\n",
    "* `messages_included` — количество сообщений в месяц, включённых в абонентскую плату\n",
    "* `mb_per_month_included` — объём интернет-трафика, включённого в абонентскую плату (в мегабайтах)\n",
    "* `rub_per_minute` — стоимость минуты разговора сверх тарифного пакета (например, если в тарифе 100 минут разговора в месяц, то со 101 минуты будет взиматься плата)\n",
    "* `rub_per_message` — стоимость отправки сообщения сверх тарифного пакета\n",
    "* `rub_per_gb` — стоимость дополнительного гигабайта интернет-трафика сверх тарифного пакета (1 гигабайт = 1024 мегабайта)"
   ]
  },
  {
   "cell_type": "markdown",
   "metadata": {},
   "source": [
    "Далее предлагаю посмтореть общую информацию о датасетах, применив метод `info()`"
   ]
  },
  {
   "cell_type": "code",
   "execution_count": 7,
   "metadata": {},
   "outputs": [
    {
     "name": "stdout",
     "output_type": "stream",
     "text": [
      "<class 'pandas.core.frame.DataFrame'>\n",
      "RangeIndex: 202607 entries, 0 to 202606\n",
      "Data columns (total 4 columns):\n",
      "id           202607 non-null object\n",
      "call_date    202607 non-null object\n",
      "duration     202607 non-null float64\n",
      "user_id      202607 non-null int64\n",
      "dtypes: float64(1), int64(1), object(2)\n",
      "memory usage: 6.2+ MB\n"
     ]
    },
    {
     "data": {
      "text/plain": [
       "None"
      ]
     },
     "metadata": {},
     "output_type": "display_data"
    },
    {
     "name": "stdout",
     "output_type": "stream",
     "text": [
      "<class 'pandas.core.frame.DataFrame'>\n",
      "RangeIndex: 149396 entries, 0 to 149395\n",
      "Data columns (total 5 columns):\n",
      "Unnamed: 0      149396 non-null int64\n",
      "id              149396 non-null object\n",
      "mb_used         149396 non-null float64\n",
      "session_date    149396 non-null object\n",
      "user_id         149396 non-null int64\n",
      "dtypes: float64(1), int64(2), object(2)\n",
      "memory usage: 5.7+ MB\n"
     ]
    },
    {
     "data": {
      "text/plain": [
       "None"
      ]
     },
     "metadata": {},
     "output_type": "display_data"
    },
    {
     "name": "stdout",
     "output_type": "stream",
     "text": [
      "<class 'pandas.core.frame.DataFrame'>\n",
      "RangeIndex: 123036 entries, 0 to 123035\n",
      "Data columns (total 3 columns):\n",
      "id              123036 non-null object\n",
      "message_date    123036 non-null object\n",
      "user_id         123036 non-null int64\n",
      "dtypes: int64(1), object(2)\n",
      "memory usage: 2.8+ MB\n"
     ]
    },
    {
     "data": {
      "text/plain": [
       "None"
      ]
     },
     "metadata": {},
     "output_type": "display_data"
    },
    {
     "name": "stdout",
     "output_type": "stream",
     "text": [
      "<class 'pandas.core.frame.DataFrame'>\n",
      "RangeIndex: 2 entries, 0 to 1\n",
      "Data columns (total 8 columns):\n",
      "messages_included        2 non-null int64\n",
      "mb_per_month_included    2 non-null int64\n",
      "minutes_included         2 non-null int64\n",
      "rub_monthly_fee          2 non-null int64\n",
      "rub_per_gb               2 non-null int64\n",
      "rub_per_message          2 non-null int64\n",
      "rub_per_minute           2 non-null int64\n",
      "tariff_name              2 non-null object\n",
      "dtypes: int64(7), object(1)\n",
      "memory usage: 256.0+ bytes\n"
     ]
    },
    {
     "data": {
      "text/plain": [
       "None"
      ]
     },
     "metadata": {},
     "output_type": "display_data"
    },
    {
     "name": "stdout",
     "output_type": "stream",
     "text": [
      "<class 'pandas.core.frame.DataFrame'>\n",
      "RangeIndex: 500 entries, 0 to 499\n",
      "Data columns (total 8 columns):\n",
      "user_id       500 non-null int64\n",
      "age           500 non-null int64\n",
      "churn_date    38 non-null object\n",
      "city          500 non-null object\n",
      "first_name    500 non-null object\n",
      "last_name     500 non-null object\n",
      "reg_date      500 non-null object\n",
      "tariff        500 non-null object\n",
      "dtypes: int64(2), object(6)\n",
      "memory usage: 31.4+ KB\n"
     ]
    },
    {
     "data": {
      "text/plain": [
       "None"
      ]
     },
     "metadata": {},
     "output_type": "display_data"
    }
   ],
   "source": [
    "data = [df_calls, df_internet, df_messages, df_tariffs, df_users]\n",
    "\n",
    "for i in range(len(data)):\n",
    "    display(data[i].info())"
   ]
  },
  {
   "cell_type": "markdown",
   "metadata": {},
   "source": [
    "**Вывод:**\n",
    "\n",
    "У нас есть 5 датасетов: информация о пользователях, звонках, сообщениях, интернет-сессиях, тарифах. (Возможно, позже их придётся объединить в один датасет для удобства анализа). В нашем распоряжении данные 500 пользователей. \n",
    "\n",
    "Можно сразу заметить, что датасеты `df_calls`, `df_internet`, `df_messages` содержат уникальные номера звонка/интернет-сессии/сообшения.\n",
    "\n",
    "На первый взгляд, пропусков в датасетах нет. Это радует :) Пропуск в столбце `churn_date` можно объяснить тем, что на момент выгрузки данных есть пользователи, которые до сих пор пользуются услугами мобильного оператора, и даты прекращения пользования нет.\n",
    "\n",
    "В таблице `df_internet` имеется неопозанных столбец. В следующем разделе удалим его. \n",
    "\n",
    "Что касается корректности типов данных, то стоит изменить типы данных в следюущих столбцах: `call_date`, `message_date`, `session_date`, `reg_date`, `churn_date`. Изменим тип данных на `datetime`."
   ]
  },
  {
   "cell_type": "markdown",
   "metadata": {},
   "source": [
    "## Подготовка данных "
   ]
  },
  {
   "cell_type": "markdown",
   "metadata": {},
   "source": [
    "### Предобработка данных"
   ]
  },
  {
   "cell_type": "markdown",
   "metadata": {},
   "source": [
    "Для начала удалим столбец `Unnamed: 0` в информации об интернет-сессиях, т. к. он не несёт никакой смыловой нагрузки."
   ]
  },
  {
   "cell_type": "code",
   "execution_count": 8,
   "metadata": {},
   "outputs": [],
   "source": [
    "del df_internet['Unnamed: 0']"
   ]
  },
  {
   "cell_type": "markdown",
   "metadata": {},
   "source": [
    "Далее приведём столбцы `call_date`, `message_date`, `session_date`, `reg_date`, `churn_date` к корректному типу данных."
   ]
  },
  {
   "cell_type": "code",
   "execution_count": 9,
   "metadata": {},
   "outputs": [],
   "source": [
    "df_calls['call_date'] = pd.to_datetime(df_calls['call_date'], format='%Y-%m-%d')\n",
    "df_messages['message_date'] = pd.to_datetime(df_messages['message_date'], format='%Y-%m-%d')\n",
    "df_internet['session_date'] = pd.to_datetime(df_internet['session_date'], format='%Y-%m-%d')\n",
    "df_users['reg_date'] = pd.to_datetime(df_users['reg_date'], format='%Y-%m-%d')\n",
    "df_users['churn_date'] = pd.to_datetime(df_users['churn_date'], format='%Y-%m-%d')"
   ]
  },
  {
   "cell_type": "markdown",
   "metadata": {},
   "source": [
    "Затем проверим наши датасеты на пропуски:"
   ]
  },
  {
   "cell_type": "code",
   "execution_count": 10,
   "metadata": {},
   "outputs": [
    {
     "data": {
      "text/plain": [
       "id           0\n",
       "call_date    0\n",
       "duration     0\n",
       "user_id      0\n",
       "dtype: int64"
      ]
     },
     "metadata": {},
     "output_type": "display_data"
    },
    {
     "data": {
      "text/plain": [
       "id              0\n",
       "mb_used         0\n",
       "session_date    0\n",
       "user_id         0\n",
       "dtype: int64"
      ]
     },
     "metadata": {},
     "output_type": "display_data"
    },
    {
     "data": {
      "text/plain": [
       "id              0\n",
       "message_date    0\n",
       "user_id         0\n",
       "dtype: int64"
      ]
     },
     "metadata": {},
     "output_type": "display_data"
    },
    {
     "data": {
      "text/plain": [
       "messages_included        0\n",
       "mb_per_month_included    0\n",
       "minutes_included         0\n",
       "rub_monthly_fee          0\n",
       "rub_per_gb               0\n",
       "rub_per_message          0\n",
       "rub_per_minute           0\n",
       "tariff_name              0\n",
       "dtype: int64"
      ]
     },
     "metadata": {},
     "output_type": "display_data"
    },
    {
     "data": {
      "text/plain": [
       "user_id         0\n",
       "age             0\n",
       "churn_date    462\n",
       "city            0\n",
       "first_name      0\n",
       "last_name       0\n",
       "reg_date        0\n",
       "tariff          0\n",
       "dtype: int64"
      ]
     },
     "metadata": {},
     "output_type": "display_data"
    }
   ],
   "source": [
    "for i in range(len(data)):\n",
    "    display(data[i].isna().sum())"
   ]
  },
  {
   "cell_type": "markdown",
   "metadata": {},
   "source": [
    "Как мы можем заметить пропуски, есть только в датасете `df_users` в столбце `churn_date`. Как упомяналось ранее, данные пропуски объясняются тем, что на момент выгрузки данных, есть пользователи, которые не прекратили использование тарифами мобильного оператора."
   ]
  },
  {
   "cell_type": "markdown",
   "metadata": {},
   "source": [
    "Следующим шагом проверим дубликаты в данных."
   ]
  },
  {
   "cell_type": "code",
   "execution_count": 11,
   "metadata": {},
   "outputs": [
    {
     "data": {
      "text/plain": [
       "0"
      ]
     },
     "metadata": {},
     "output_type": "display_data"
    },
    {
     "data": {
      "text/plain": [
       "0"
      ]
     },
     "metadata": {},
     "output_type": "display_data"
    },
    {
     "data": {
      "text/plain": [
       "0"
      ]
     },
     "metadata": {},
     "output_type": "display_data"
    },
    {
     "data": {
      "text/plain": [
       "0"
      ]
     },
     "metadata": {},
     "output_type": "display_data"
    },
    {
     "data": {
      "text/plain": [
       "0"
      ]
     },
     "metadata": {},
     "output_type": "display_data"
    }
   ],
   "source": [
    "for i in range(len(data)):\n",
    "    display(data[i].duplicated().sum())"
   ]
  },
  {
   "cell_type": "markdown",
   "metadata": {},
   "source": [
    "Отлично! Дубликатов не обнаружено. Искать дубликаты в стобцах с именемем, фамилией, нет смысла, т.к. у каждого у пользователя есть свой id."
   ]
  },
  {
   "cell_type": "markdown",
   "metadata": {},
   "source": [
    "Округлим проолжителось звонка до целого занчения в минутах в большую, т.к в примечаниях было сказано: \"«Мегалайн» всегда округляет секунды до минут. Каждый звонок округляется отдельно: даже если он длился всего 1 секунду, будет засчитан как 1 минута."
   ]
  },
  {
   "cell_type": "code",
   "execution_count": 12,
   "metadata": {},
   "outputs": [],
   "source": [
    "def round_up(row):\n",
    "    minutes = row['duration']\n",
    "    return math.ceil(minutes)\n",
    "\n",
    "df_calls['duration'] = df_calls.apply(round_up, axis=1) "
   ]
  },
  {
   "cell_type": "markdown",
   "metadata": {},
   "source": [
    "### Подготовка пользовательских данных"
   ]
  },
  {
   "cell_type": "markdown",
   "metadata": {},
   "source": [
    "Т.к. в дальнейшем мы будем рассматривать информацию о пользователях по месяцам, то стоит добавить столбец с меясцем в соответствующих датасетах."
   ]
  },
  {
   "cell_type": "code",
   "execution_count": 13,
   "metadata": {},
   "outputs": [],
   "source": [
    "df_calls['month'] = df_calls['call_date'].astype('datetime64[M]')\n",
    "df_messages['month'] = df_messages['message_date'].astype('datetime64[M]')\n",
    "df_internet['month'] = df_internet['session_date'].astype('datetime64[M]')"
   ]
  },
  {
   "cell_type": "markdown",
   "metadata": {},
   "source": [
    "#### Количество сделанных звонков и израсходованных минут разговора по меясцам "
   ]
  },
  {
   "cell_type": "code",
   "execution_count": 14,
   "metadata": {},
   "outputs": [
    {
     "data": {
      "text/html": [
       "<div>\n",
       "<style scoped>\n",
       "    .dataframe tbody tr th:only-of-type {\n",
       "        vertical-align: middle;\n",
       "    }\n",
       "\n",
       "    .dataframe tbody tr th {\n",
       "        vertical-align: top;\n",
       "    }\n",
       "\n",
       "    .dataframe thead th {\n",
       "        text-align: right;\n",
       "    }\n",
       "</style>\n",
       "<table border=\"1\" class=\"dataframe\">\n",
       "  <thead>\n",
       "    <tr style=\"text-align: right;\">\n",
       "      <th></th>\n",
       "      <th>user_id</th>\n",
       "      <th>month</th>\n",
       "      <th>calls_duration_sum</th>\n",
       "      <th>calls_count</th>\n",
       "    </tr>\n",
       "  </thead>\n",
       "  <tbody>\n",
       "    <tr>\n",
       "      <td>0</td>\n",
       "      <td>1000</td>\n",
       "      <td>2018-05-01</td>\n",
       "      <td>159</td>\n",
       "      <td>22</td>\n",
       "    </tr>\n",
       "    <tr>\n",
       "      <td>1</td>\n",
       "      <td>1000</td>\n",
       "      <td>2018-06-01</td>\n",
       "      <td>172</td>\n",
       "      <td>43</td>\n",
       "    </tr>\n",
       "    <tr>\n",
       "      <td>2</td>\n",
       "      <td>1000</td>\n",
       "      <td>2018-07-01</td>\n",
       "      <td>340</td>\n",
       "      <td>47</td>\n",
       "    </tr>\n",
       "    <tr>\n",
       "      <td>3</td>\n",
       "      <td>1000</td>\n",
       "      <td>2018-08-01</td>\n",
       "      <td>408</td>\n",
       "      <td>52</td>\n",
       "    </tr>\n",
       "    <tr>\n",
       "      <td>4</td>\n",
       "      <td>1000</td>\n",
       "      <td>2018-09-01</td>\n",
       "      <td>466</td>\n",
       "      <td>58</td>\n",
       "    </tr>\n",
       "    <tr>\n",
       "      <td>5</td>\n",
       "      <td>1000</td>\n",
       "      <td>2018-10-01</td>\n",
       "      <td>350</td>\n",
       "      <td>57</td>\n",
       "    </tr>\n",
       "    <tr>\n",
       "      <td>6</td>\n",
       "      <td>1000</td>\n",
       "      <td>2018-11-01</td>\n",
       "      <td>338</td>\n",
       "      <td>43</td>\n",
       "    </tr>\n",
       "    <tr>\n",
       "      <td>7</td>\n",
       "      <td>1000</td>\n",
       "      <td>2018-12-01</td>\n",
       "      <td>333</td>\n",
       "      <td>46</td>\n",
       "    </tr>\n",
       "    <tr>\n",
       "      <td>8</td>\n",
       "      <td>1001</td>\n",
       "      <td>2018-11-01</td>\n",
       "      <td>430</td>\n",
       "      <td>59</td>\n",
       "    </tr>\n",
       "    <tr>\n",
       "      <td>9</td>\n",
       "      <td>1001</td>\n",
       "      <td>2018-12-01</td>\n",
       "      <td>414</td>\n",
       "      <td>63</td>\n",
       "    </tr>\n",
       "  </tbody>\n",
       "</table>\n",
       "</div>"
      ],
      "text/plain": [
       "   user_id      month  calls_duration_sum  calls_count\n",
       "0     1000 2018-05-01                 159           22\n",
       "1     1000 2018-06-01                 172           43\n",
       "2     1000 2018-07-01                 340           47\n",
       "3     1000 2018-08-01                 408           52\n",
       "4     1000 2018-09-01                 466           58\n",
       "5     1000 2018-10-01                 350           57\n",
       "6     1000 2018-11-01                 338           43\n",
       "7     1000 2018-12-01                 333           46\n",
       "8     1001 2018-11-01                 430           59\n",
       "9     1001 2018-12-01                 414           63"
      ]
     },
     "execution_count": 14,
     "metadata": {},
     "output_type": "execute_result"
    }
   ],
   "source": [
    "calls_per_month = df_calls.pivot_table(index=['user_id', 'month'],\n",
    "                                       values='duration',\n",
    "                                       aggfunc=['sum', 'count']).reset_index()\n",
    "calls_per_month.columns = ['user_id', 'month', 'calls_duration_sum', 'calls_count']\n",
    "calls_per_month.head(10)"
   ]
  },
  {
   "cell_type": "markdown",
   "metadata": {},
   "source": [
    "#### Количество отправленных сообщений по месяцам"
   ]
  },
  {
   "cell_type": "code",
   "execution_count": 15,
   "metadata": {},
   "outputs": [
    {
     "data": {
      "text/html": [
       "<div>\n",
       "<style scoped>\n",
       "    .dataframe tbody tr th:only-of-type {\n",
       "        vertical-align: middle;\n",
       "    }\n",
       "\n",
       "    .dataframe tbody tr th {\n",
       "        vertical-align: top;\n",
       "    }\n",
       "\n",
       "    .dataframe thead th {\n",
       "        text-align: right;\n",
       "    }\n",
       "</style>\n",
       "<table border=\"1\" class=\"dataframe\">\n",
       "  <thead>\n",
       "    <tr style=\"text-align: right;\">\n",
       "      <th></th>\n",
       "      <th>user_id</th>\n",
       "      <th>month</th>\n",
       "      <th>messages_count</th>\n",
       "    </tr>\n",
       "  </thead>\n",
       "  <tbody>\n",
       "    <tr>\n",
       "      <td>0</td>\n",
       "      <td>1000</td>\n",
       "      <td>2018-05-01</td>\n",
       "      <td>22</td>\n",
       "    </tr>\n",
       "    <tr>\n",
       "      <td>1</td>\n",
       "      <td>1000</td>\n",
       "      <td>2018-06-01</td>\n",
       "      <td>60</td>\n",
       "    </tr>\n",
       "    <tr>\n",
       "      <td>2</td>\n",
       "      <td>1000</td>\n",
       "      <td>2018-07-01</td>\n",
       "      <td>75</td>\n",
       "    </tr>\n",
       "    <tr>\n",
       "      <td>3</td>\n",
       "      <td>1000</td>\n",
       "      <td>2018-08-01</td>\n",
       "      <td>81</td>\n",
       "    </tr>\n",
       "    <tr>\n",
       "      <td>4</td>\n",
       "      <td>1000</td>\n",
       "      <td>2018-09-01</td>\n",
       "      <td>57</td>\n",
       "    </tr>\n",
       "    <tr>\n",
       "      <td>5</td>\n",
       "      <td>1000</td>\n",
       "      <td>2018-10-01</td>\n",
       "      <td>73</td>\n",
       "    </tr>\n",
       "    <tr>\n",
       "      <td>6</td>\n",
       "      <td>1000</td>\n",
       "      <td>2018-11-01</td>\n",
       "      <td>58</td>\n",
       "    </tr>\n",
       "    <tr>\n",
       "      <td>7</td>\n",
       "      <td>1000</td>\n",
       "      <td>2018-12-01</td>\n",
       "      <td>70</td>\n",
       "    </tr>\n",
       "    <tr>\n",
       "      <td>8</td>\n",
       "      <td>1002</td>\n",
       "      <td>2018-06-01</td>\n",
       "      <td>4</td>\n",
       "    </tr>\n",
       "    <tr>\n",
       "      <td>9</td>\n",
       "      <td>1002</td>\n",
       "      <td>2018-07-01</td>\n",
       "      <td>11</td>\n",
       "    </tr>\n",
       "  </tbody>\n",
       "</table>\n",
       "</div>"
      ],
      "text/plain": [
       "   user_id      month  messages_count\n",
       "0     1000 2018-05-01              22\n",
       "1     1000 2018-06-01              60\n",
       "2     1000 2018-07-01              75\n",
       "3     1000 2018-08-01              81\n",
       "4     1000 2018-09-01              57\n",
       "5     1000 2018-10-01              73\n",
       "6     1000 2018-11-01              58\n",
       "7     1000 2018-12-01              70\n",
       "8     1002 2018-06-01               4\n",
       "9     1002 2018-07-01              11"
      ]
     },
     "execution_count": 15,
     "metadata": {},
     "output_type": "execute_result"
    }
   ],
   "source": [
    "messages_per_month = df_messages.pivot_table(index=['user_id', 'month'],\n",
    "                                             values='id',\n",
    "                                             aggfunc='count').reset_index()\n",
    "messages_per_month.columns = ['user_id', 'month', 'messages_count']\n",
    "messages_per_month.head(10)"
   ]
  },
  {
   "cell_type": "markdown",
   "metadata": {},
   "source": [
    "#### Объем израсходованного интернет-трафика по месяцам "
   ]
  },
  {
   "cell_type": "code",
   "execution_count": 16,
   "metadata": {},
   "outputs": [
    {
     "data": {
      "text/html": [
       "<div>\n",
       "<style scoped>\n",
       "    .dataframe tbody tr th:only-of-type {\n",
       "        vertical-align: middle;\n",
       "    }\n",
       "\n",
       "    .dataframe tbody tr th {\n",
       "        vertical-align: top;\n",
       "    }\n",
       "\n",
       "    .dataframe thead th {\n",
       "        text-align: right;\n",
       "    }\n",
       "</style>\n",
       "<table border=\"1\" class=\"dataframe\">\n",
       "  <thead>\n",
       "    <tr style=\"text-align: right;\">\n",
       "      <th></th>\n",
       "      <th>user_id</th>\n",
       "      <th>month</th>\n",
       "      <th>internet_mb_sum</th>\n",
       "    </tr>\n",
       "  </thead>\n",
       "  <tbody>\n",
       "    <tr>\n",
       "      <td>0</td>\n",
       "      <td>1000</td>\n",
       "      <td>2018-05-01</td>\n",
       "      <td>2253.49</td>\n",
       "    </tr>\n",
       "    <tr>\n",
       "      <td>1</td>\n",
       "      <td>1000</td>\n",
       "      <td>2018-06-01</td>\n",
       "      <td>23233.77</td>\n",
       "    </tr>\n",
       "    <tr>\n",
       "      <td>2</td>\n",
       "      <td>1000</td>\n",
       "      <td>2018-07-01</td>\n",
       "      <td>14003.64</td>\n",
       "    </tr>\n",
       "    <tr>\n",
       "      <td>3</td>\n",
       "      <td>1000</td>\n",
       "      <td>2018-08-01</td>\n",
       "      <td>14055.93</td>\n",
       "    </tr>\n",
       "    <tr>\n",
       "      <td>4</td>\n",
       "      <td>1000</td>\n",
       "      <td>2018-09-01</td>\n",
       "      <td>14568.91</td>\n",
       "    </tr>\n",
       "    <tr>\n",
       "      <td>5</td>\n",
       "      <td>1000</td>\n",
       "      <td>2018-10-01</td>\n",
       "      <td>14702.49</td>\n",
       "    </tr>\n",
       "    <tr>\n",
       "      <td>6</td>\n",
       "      <td>1000</td>\n",
       "      <td>2018-11-01</td>\n",
       "      <td>14756.47</td>\n",
       "    </tr>\n",
       "    <tr>\n",
       "      <td>7</td>\n",
       "      <td>1000</td>\n",
       "      <td>2018-12-01</td>\n",
       "      <td>9817.61</td>\n",
       "    </tr>\n",
       "    <tr>\n",
       "      <td>8</td>\n",
       "      <td>1001</td>\n",
       "      <td>2018-11-01</td>\n",
       "      <td>18429.34</td>\n",
       "    </tr>\n",
       "    <tr>\n",
       "      <td>9</td>\n",
       "      <td>1001</td>\n",
       "      <td>2018-12-01</td>\n",
       "      <td>14036.66</td>\n",
       "    </tr>\n",
       "  </tbody>\n",
       "</table>\n",
       "</div>"
      ],
      "text/plain": [
       "   user_id      month  internet_mb_sum\n",
       "0     1000 2018-05-01          2253.49\n",
       "1     1000 2018-06-01         23233.77\n",
       "2     1000 2018-07-01         14003.64\n",
       "3     1000 2018-08-01         14055.93\n",
       "4     1000 2018-09-01         14568.91\n",
       "5     1000 2018-10-01         14702.49\n",
       "6     1000 2018-11-01         14756.47\n",
       "7     1000 2018-12-01          9817.61\n",
       "8     1001 2018-11-01         18429.34\n",
       "9     1001 2018-12-01         14036.66"
      ]
     },
     "execution_count": 16,
     "metadata": {},
     "output_type": "execute_result"
    }
   ],
   "source": [
    "internet_per_month = df_internet.pivot_table(index=['user_id', 'month'],\n",
    "                                             values='mb_used',\n",
    "                                            aggfunc='sum').reset_index()\n",
    "internet_per_month.columns = ['user_id', 'month', 'internet_mb_sum']\n",
    "internet_per_month.head(10)"
   ]
  },
  {
   "cell_type": "markdown",
   "metadata": {},
   "source": [
    "#### Формирование обобщенного датасета"
   ]
  },
  {
   "cell_type": "markdown",
   "metadata": {},
   "source": [
    "Получив данные о пользователях по месяцам, можно всё собрать в один общий датасет `df`. Применим метод `merge()`."
   ]
  },
  {
   "cell_type": "code",
   "execution_count": 19,
   "metadata": {
    "scrolled": false
   },
   "outputs": [
    {
     "data": {
      "text/html": [
       "<div>\n",
       "<style scoped>\n",
       "    .dataframe tbody tr th:only-of-type {\n",
       "        vertical-align: middle;\n",
       "    }\n",
       "\n",
       "    .dataframe tbody tr th {\n",
       "        vertical-align: top;\n",
       "    }\n",
       "\n",
       "    .dataframe thead th {\n",
       "        text-align: right;\n",
       "    }\n",
       "</style>\n",
       "<table border=\"1\" class=\"dataframe\">\n",
       "  <thead>\n",
       "    <tr style=\"text-align: right;\">\n",
       "      <th></th>\n",
       "      <th>user_id</th>\n",
       "      <th>month</th>\n",
       "      <th>calls_duration_sum</th>\n",
       "      <th>calls_count</th>\n",
       "      <th>messages_count</th>\n",
       "      <th>internet_mb_sum</th>\n",
       "      <th>age</th>\n",
       "      <th>churn_date</th>\n",
       "      <th>city</th>\n",
       "      <th>first_name</th>\n",
       "      <th>last_name</th>\n",
       "      <th>reg_date</th>\n",
       "      <th>tariff</th>\n",
       "      <th>messages_included</th>\n",
       "      <th>mb_per_month_included</th>\n",
       "      <th>minutes_included</th>\n",
       "      <th>rub_monthly_fee</th>\n",
       "      <th>rub_per_gb</th>\n",
       "      <th>rub_per_message</th>\n",
       "      <th>rub_per_minute</th>\n",
       "    </tr>\n",
       "  </thead>\n",
       "  <tbody>\n",
       "    <tr>\n",
       "      <td>0</td>\n",
       "      <td>1000</td>\n",
       "      <td>2018-05-01</td>\n",
       "      <td>159.0</td>\n",
       "      <td>22.0</td>\n",
       "      <td>22.0</td>\n",
       "      <td>2253.49</td>\n",
       "      <td>52</td>\n",
       "      <td>NaT</td>\n",
       "      <td>Краснодар</td>\n",
       "      <td>Рафаил</td>\n",
       "      <td>Верещагин</td>\n",
       "      <td>2018-05-25</td>\n",
       "      <td>ultra</td>\n",
       "      <td>1000</td>\n",
       "      <td>30720</td>\n",
       "      <td>3000</td>\n",
       "      <td>1950</td>\n",
       "      <td>150</td>\n",
       "      <td>1</td>\n",
       "      <td>1</td>\n",
       "    </tr>\n",
       "    <tr>\n",
       "      <td>1</td>\n",
       "      <td>1000</td>\n",
       "      <td>2018-06-01</td>\n",
       "      <td>172.0</td>\n",
       "      <td>43.0</td>\n",
       "      <td>60.0</td>\n",
       "      <td>23233.77</td>\n",
       "      <td>52</td>\n",
       "      <td>NaT</td>\n",
       "      <td>Краснодар</td>\n",
       "      <td>Рафаил</td>\n",
       "      <td>Верещагин</td>\n",
       "      <td>2018-05-25</td>\n",
       "      <td>ultra</td>\n",
       "      <td>1000</td>\n",
       "      <td>30720</td>\n",
       "      <td>3000</td>\n",
       "      <td>1950</td>\n",
       "      <td>150</td>\n",
       "      <td>1</td>\n",
       "      <td>1</td>\n",
       "    </tr>\n",
       "    <tr>\n",
       "      <td>2</td>\n",
       "      <td>1000</td>\n",
       "      <td>2018-07-01</td>\n",
       "      <td>340.0</td>\n",
       "      <td>47.0</td>\n",
       "      <td>75.0</td>\n",
       "      <td>14003.64</td>\n",
       "      <td>52</td>\n",
       "      <td>NaT</td>\n",
       "      <td>Краснодар</td>\n",
       "      <td>Рафаил</td>\n",
       "      <td>Верещагин</td>\n",
       "      <td>2018-05-25</td>\n",
       "      <td>ultra</td>\n",
       "      <td>1000</td>\n",
       "      <td>30720</td>\n",
       "      <td>3000</td>\n",
       "      <td>1950</td>\n",
       "      <td>150</td>\n",
       "      <td>1</td>\n",
       "      <td>1</td>\n",
       "    </tr>\n",
       "    <tr>\n",
       "      <td>3</td>\n",
       "      <td>1000</td>\n",
       "      <td>2018-08-01</td>\n",
       "      <td>408.0</td>\n",
       "      <td>52.0</td>\n",
       "      <td>81.0</td>\n",
       "      <td>14055.93</td>\n",
       "      <td>52</td>\n",
       "      <td>NaT</td>\n",
       "      <td>Краснодар</td>\n",
       "      <td>Рафаил</td>\n",
       "      <td>Верещагин</td>\n",
       "      <td>2018-05-25</td>\n",
       "      <td>ultra</td>\n",
       "      <td>1000</td>\n",
       "      <td>30720</td>\n",
       "      <td>3000</td>\n",
       "      <td>1950</td>\n",
       "      <td>150</td>\n",
       "      <td>1</td>\n",
       "      <td>1</td>\n",
       "    </tr>\n",
       "    <tr>\n",
       "      <td>4</td>\n",
       "      <td>1000</td>\n",
       "      <td>2018-09-01</td>\n",
       "      <td>466.0</td>\n",
       "      <td>58.0</td>\n",
       "      <td>57.0</td>\n",
       "      <td>14568.91</td>\n",
       "      <td>52</td>\n",
       "      <td>NaT</td>\n",
       "      <td>Краснодар</td>\n",
       "      <td>Рафаил</td>\n",
       "      <td>Верещагин</td>\n",
       "      <td>2018-05-25</td>\n",
       "      <td>ultra</td>\n",
       "      <td>1000</td>\n",
       "      <td>30720</td>\n",
       "      <td>3000</td>\n",
       "      <td>1950</td>\n",
       "      <td>150</td>\n",
       "      <td>1</td>\n",
       "      <td>1</td>\n",
       "    </tr>\n",
       "    <tr>\n",
       "      <td>5</td>\n",
       "      <td>1000</td>\n",
       "      <td>2018-10-01</td>\n",
       "      <td>350.0</td>\n",
       "      <td>57.0</td>\n",
       "      <td>73.0</td>\n",
       "      <td>14702.49</td>\n",
       "      <td>52</td>\n",
       "      <td>NaT</td>\n",
       "      <td>Краснодар</td>\n",
       "      <td>Рафаил</td>\n",
       "      <td>Верещагин</td>\n",
       "      <td>2018-05-25</td>\n",
       "      <td>ultra</td>\n",
       "      <td>1000</td>\n",
       "      <td>30720</td>\n",
       "      <td>3000</td>\n",
       "      <td>1950</td>\n",
       "      <td>150</td>\n",
       "      <td>1</td>\n",
       "      <td>1</td>\n",
       "    </tr>\n",
       "    <tr>\n",
       "      <td>6</td>\n",
       "      <td>1000</td>\n",
       "      <td>2018-11-01</td>\n",
       "      <td>338.0</td>\n",
       "      <td>43.0</td>\n",
       "      <td>58.0</td>\n",
       "      <td>14756.47</td>\n",
       "      <td>52</td>\n",
       "      <td>NaT</td>\n",
       "      <td>Краснодар</td>\n",
       "      <td>Рафаил</td>\n",
       "      <td>Верещагин</td>\n",
       "      <td>2018-05-25</td>\n",
       "      <td>ultra</td>\n",
       "      <td>1000</td>\n",
       "      <td>30720</td>\n",
       "      <td>3000</td>\n",
       "      <td>1950</td>\n",
       "      <td>150</td>\n",
       "      <td>1</td>\n",
       "      <td>1</td>\n",
       "    </tr>\n",
       "    <tr>\n",
       "      <td>7</td>\n",
       "      <td>1000</td>\n",
       "      <td>2018-12-01</td>\n",
       "      <td>333.0</td>\n",
       "      <td>46.0</td>\n",
       "      <td>70.0</td>\n",
       "      <td>9817.61</td>\n",
       "      <td>52</td>\n",
       "      <td>NaT</td>\n",
       "      <td>Краснодар</td>\n",
       "      <td>Рафаил</td>\n",
       "      <td>Верещагин</td>\n",
       "      <td>2018-05-25</td>\n",
       "      <td>ultra</td>\n",
       "      <td>1000</td>\n",
       "      <td>30720</td>\n",
       "      <td>3000</td>\n",
       "      <td>1950</td>\n",
       "      <td>150</td>\n",
       "      <td>1</td>\n",
       "      <td>1</td>\n",
       "    </tr>\n",
       "    <tr>\n",
       "      <td>8</td>\n",
       "      <td>1001</td>\n",
       "      <td>2018-11-01</td>\n",
       "      <td>430.0</td>\n",
       "      <td>59.0</td>\n",
       "      <td>NaN</td>\n",
       "      <td>18429.34</td>\n",
       "      <td>41</td>\n",
       "      <td>NaT</td>\n",
       "      <td>Москва</td>\n",
       "      <td>Иван</td>\n",
       "      <td>Ежов</td>\n",
       "      <td>2018-11-01</td>\n",
       "      <td>smart</td>\n",
       "      <td>50</td>\n",
       "      <td>15360</td>\n",
       "      <td>500</td>\n",
       "      <td>550</td>\n",
       "      <td>200</td>\n",
       "      <td>3</td>\n",
       "      <td>3</td>\n",
       "    </tr>\n",
       "    <tr>\n",
       "      <td>9</td>\n",
       "      <td>1001</td>\n",
       "      <td>2018-12-01</td>\n",
       "      <td>414.0</td>\n",
       "      <td>63.0</td>\n",
       "      <td>NaN</td>\n",
       "      <td>14036.66</td>\n",
       "      <td>41</td>\n",
       "      <td>NaT</td>\n",
       "      <td>Москва</td>\n",
       "      <td>Иван</td>\n",
       "      <td>Ежов</td>\n",
       "      <td>2018-11-01</td>\n",
       "      <td>smart</td>\n",
       "      <td>50</td>\n",
       "      <td>15360</td>\n",
       "      <td>500</td>\n",
       "      <td>550</td>\n",
       "      <td>200</td>\n",
       "      <td>3</td>\n",
       "      <td>3</td>\n",
       "    </tr>\n",
       "  </tbody>\n",
       "</table>\n",
       "</div>"
      ],
      "text/plain": [
       "   user_id      month  calls_duration_sum  calls_count  messages_count  \\\n",
       "0     1000 2018-05-01               159.0         22.0            22.0   \n",
       "1     1000 2018-06-01               172.0         43.0            60.0   \n",
       "2     1000 2018-07-01               340.0         47.0            75.0   \n",
       "3     1000 2018-08-01               408.0         52.0            81.0   \n",
       "4     1000 2018-09-01               466.0         58.0            57.0   \n",
       "5     1000 2018-10-01               350.0         57.0            73.0   \n",
       "6     1000 2018-11-01               338.0         43.0            58.0   \n",
       "7     1000 2018-12-01               333.0         46.0            70.0   \n",
       "8     1001 2018-11-01               430.0         59.0             NaN   \n",
       "9     1001 2018-12-01               414.0         63.0             NaN   \n",
       "\n",
       "   internet_mb_sum  age churn_date       city first_name  last_name  \\\n",
       "0          2253.49   52        NaT  Краснодар     Рафаил  Верещагин   \n",
       "1         23233.77   52        NaT  Краснодар     Рафаил  Верещагин   \n",
       "2         14003.64   52        NaT  Краснодар     Рафаил  Верещагин   \n",
       "3         14055.93   52        NaT  Краснодар     Рафаил  Верещагин   \n",
       "4         14568.91   52        NaT  Краснодар     Рафаил  Верещагин   \n",
       "5         14702.49   52        NaT  Краснодар     Рафаил  Верещагин   \n",
       "6         14756.47   52        NaT  Краснодар     Рафаил  Верещагин   \n",
       "7          9817.61   52        NaT  Краснодар     Рафаил  Верещагин   \n",
       "8         18429.34   41        NaT     Москва       Иван       Ежов   \n",
       "9         14036.66   41        NaT     Москва       Иван       Ежов   \n",
       "\n",
       "    reg_date tariff  messages_included  mb_per_month_included  \\\n",
       "0 2018-05-25  ultra               1000                  30720   \n",
       "1 2018-05-25  ultra               1000                  30720   \n",
       "2 2018-05-25  ultra               1000                  30720   \n",
       "3 2018-05-25  ultra               1000                  30720   \n",
       "4 2018-05-25  ultra               1000                  30720   \n",
       "5 2018-05-25  ultra               1000                  30720   \n",
       "6 2018-05-25  ultra               1000                  30720   \n",
       "7 2018-05-25  ultra               1000                  30720   \n",
       "8 2018-11-01  smart                 50                  15360   \n",
       "9 2018-11-01  smart                 50                  15360   \n",
       "\n",
       "   minutes_included  rub_monthly_fee  rub_per_gb  rub_per_message  \\\n",
       "0              3000             1950         150                1   \n",
       "1              3000             1950         150                1   \n",
       "2              3000             1950         150                1   \n",
       "3              3000             1950         150                1   \n",
       "4              3000             1950         150                1   \n",
       "5              3000             1950         150                1   \n",
       "6              3000             1950         150                1   \n",
       "7              3000             1950         150                1   \n",
       "8               500              550         200                3   \n",
       "9               500              550         200                3   \n",
       "\n",
       "   rub_per_minute  \n",
       "0               1  \n",
       "1               1  \n",
       "2               1  \n",
       "3               1  \n",
       "4               1  \n",
       "5               1  \n",
       "6               1  \n",
       "7               1  \n",
       "8               3  \n",
       "9               3  "
      ]
     },
     "execution_count": 19,
     "metadata": {},
     "output_type": "execute_result"
    }
   ],
   "source": [
    "df1 = calls_per_month.merge(messages_per_month, on=['user_id', 'month'], how='outer')\n",
    "df2 = df1.merge(internet_per_month, on=['user_id', 'month'], how='outer')\n",
    "df3 = df2.merge(df_users, on='user_id', how='left')\n",
    "df = df3.merge(df_tariffs, on='tariff', how='left')\n",
    "\n",
    "df.head(10)"
   ]
  },
  {
   "cell_type": "code",
   "execution_count": 20,
   "metadata": {
    "scrolled": true
   },
   "outputs": [
    {
     "data": {
      "text/plain": [
       "(3214, 20)"
      ]
     },
     "execution_count": 20,
     "metadata": {},
     "output_type": "execute_result"
    }
   ],
   "source": [
    "df.shape"
   ]
  },
  {
   "cell_type": "markdown",
   "metadata": {},
   "source": [
    "На всякий случай проверим, имеются ли пропуски в полученном датасете."
   ]
  },
  {
   "cell_type": "code",
   "execution_count": 21,
   "metadata": {},
   "outputs": [
    {
     "data": {
      "text/plain": [
       "user_id                     0\n",
       "month                       0\n",
       "calls_duration_sum         40\n",
       "calls_count                40\n",
       "messages_count            497\n",
       "internet_mb_sum            11\n",
       "age                         0\n",
       "churn_date               3027\n",
       "city                        0\n",
       "first_name                  0\n",
       "last_name                   0\n",
       "reg_date                    0\n",
       "tariff                      0\n",
       "messages_included           0\n",
       "mb_per_month_included       0\n",
       "minutes_included            0\n",
       "rub_monthly_fee             0\n",
       "rub_per_gb                  0\n",
       "rub_per_message             0\n",
       "rub_per_minute              0\n",
       "dtype: int64"
      ]
     },
     "execution_count": 21,
     "metadata": {},
     "output_type": "execute_result"
    }
   ],
   "source": [
    "df.isna().sum()"
   ]
  },
  {
   "cell_type": "markdown",
   "metadata": {},
   "source": [
    "Есть пропуски в столбцах `messages_count`, `internet_mb_sum` и `churn_date`. Природа пропусков в столбце `churn_date` уже была до этого объяснена. А вот пропуски в остальных двух столбцов появились из-за того, что пользователь мог не пользоваться интернетом или не отправлять сообщения в какие-то из месяцов. Поэтому стоит их заменить на значения 0."
   ]
  },
  {
   "cell_type": "code",
   "execution_count": 22,
   "metadata": {},
   "outputs": [],
   "source": [
    "df['messages_count'] = df['messages_count'].fillna(0)\n",
    "df['internet_mb_sum'] = df['internet_mb_sum'].fillna(0)\n",
    "df['calls_duration_sum'] = df['calls_duration_sum'].fillna(0)\n",
    "df['calls_count'] = df['calls_count'].fillna(0)"
   ]
  },
  {
   "cell_type": "markdown",
   "metadata": {},
   "source": [
    "По таблице видно, что у столбца `messages_count` некорректный тип данных. Число сообщений в месяц должно выражать целое значение. Поэтому в следующим шагом изменим тип данных данного столбца на `int`. "
   ]
  },
  {
   "cell_type": "code",
   "execution_count": 23,
   "metadata": {
    "scrolled": true
   },
   "outputs": [],
   "source": [
    "df['messages_count'] = df['messages_count'].astype(int)\n",
    "df['calls_duration_sum'] = df['calls_duration_sum'].astype(int)\n",
    "df['calls_count'] = df['calls_count'].astype(int)"
   ]
  },
  {
   "cell_type": "markdown",
   "metadata": {},
   "source": [
    "#### Расчёт помесячной выручки с каждого пользователя "
   ]
  },
  {
   "cell_type": "markdown",
   "metadata": {},
   "source": [
    "Для начала рассчитаем для каждого пользователя помесячно превышения по услугам сверх тарифного пакета:"
   ]
  },
  {
   "cell_type": "code",
   "execution_count": 24,
   "metadata": {},
   "outputs": [],
   "source": [
    "def overrun_minutes(row):\n",
    "    minutes_fact = row['calls_duration_sum']\n",
    "    plan_minutes = row['minutes_included']\n",
    "    over_minutes = minutes_fact - plan_minutes\n",
    "    if over_minutes <= 0:\n",
    "        return 0\n",
    "    if over_minutes > 0:\n",
    "        return over_minutes\n",
    "    \n",
    "df['minutes_overrun'] = df.apply(overrun_minutes, axis=1) #столбец превышения по минутам \n",
    "\n",
    "def overrun_messages(row):\n",
    "    messages_fact = row['messages_count']\n",
    "    plan_messages = row['messages_included']\n",
    "    over_messages = messages_fact - plan_messages\n",
    "    if over_messages <= 0:\n",
    "        return 0\n",
    "    if over_messages > 0:\n",
    "        return over_messages\n",
    "    \n",
    "df['messages_overrun'] = df.apply(overrun_messages, axis=1) #столбец превышения по кол-ву сообщений\n",
    "\n",
    "\n",
    "def overrun_internet(row):\n",
    "    mb_fact = row['internet_mb_sum']\n",
    "    plan_mb = row['mb_per_month_included']\n",
    "    over_mb = mb_fact - plan_mb\n",
    "    if over_mb <= 0:\n",
    "        return 0\n",
    "    if over_mb > 0:\n",
    "        return math.ceil(over_mb / 1024)\n",
    "    \n",
    "df['internet_gb_overrun'] = df.apply(overrun_internet, axis=1) #столбец превышения по интернет трафику в ГБ"
   ]
  },
  {
   "cell_type": "markdown",
   "metadata": {},
   "source": [
    "Получив необходимые нам столбцы, мы можем смело рассчитать помесячную выручку с каждого пользователя. "
   ]
  },
  {
   "cell_type": "code",
   "execution_count": 25,
   "metadata": {},
   "outputs": [],
   "source": [
    "df['revenue_per_month'] = (\n",
    "    df['rub_monthly_fee'] \n",
    "    + df['minutes_overrun'] * df['rub_per_minute'] \n",
    "    + df['messages_overrun'] * df['rub_per_message']\n",
    "    + df['internet_gb_overrun'] * df['rub_per_gb']\n",
    ")"
   ]
  },
  {
   "cell_type": "markdown",
   "metadata": {},
   "source": [
    "Взлянем, что у нас получилось"
   ]
  },
  {
   "cell_type": "code",
   "execution_count": 26,
   "metadata": {
    "scrolled": false
   },
   "outputs": [
    {
     "data": {
      "text/html": [
       "<div>\n",
       "<style scoped>\n",
       "    .dataframe tbody tr th:only-of-type {\n",
       "        vertical-align: middle;\n",
       "    }\n",
       "\n",
       "    .dataframe tbody tr th {\n",
       "        vertical-align: top;\n",
       "    }\n",
       "\n",
       "    .dataframe thead th {\n",
       "        text-align: right;\n",
       "    }\n",
       "</style>\n",
       "<table border=\"1\" class=\"dataframe\">\n",
       "  <thead>\n",
       "    <tr style=\"text-align: right;\">\n",
       "      <th></th>\n",
       "      <th>user_id</th>\n",
       "      <th>month</th>\n",
       "      <th>calls_duration_sum</th>\n",
       "      <th>calls_count</th>\n",
       "      <th>messages_count</th>\n",
       "      <th>internet_mb_sum</th>\n",
       "      <th>age</th>\n",
       "      <th>churn_date</th>\n",
       "      <th>city</th>\n",
       "      <th>first_name</th>\n",
       "      <th>last_name</th>\n",
       "      <th>reg_date</th>\n",
       "      <th>tariff</th>\n",
       "      <th>messages_included</th>\n",
       "      <th>mb_per_month_included</th>\n",
       "      <th>minutes_included</th>\n",
       "      <th>rub_monthly_fee</th>\n",
       "      <th>rub_per_gb</th>\n",
       "      <th>rub_per_message</th>\n",
       "      <th>rub_per_minute</th>\n",
       "      <th>minutes_overrun</th>\n",
       "      <th>messages_overrun</th>\n",
       "      <th>internet_gb_overrun</th>\n",
       "      <th>revenue_per_month</th>\n",
       "    </tr>\n",
       "  </thead>\n",
       "  <tbody>\n",
       "    <tr>\n",
       "      <td>0</td>\n",
       "      <td>1000</td>\n",
       "      <td>2018-05-01</td>\n",
       "      <td>159</td>\n",
       "      <td>22</td>\n",
       "      <td>22</td>\n",
       "      <td>2253.49</td>\n",
       "      <td>52</td>\n",
       "      <td>NaT</td>\n",
       "      <td>Краснодар</td>\n",
       "      <td>Рафаил</td>\n",
       "      <td>Верещагин</td>\n",
       "      <td>2018-05-25</td>\n",
       "      <td>ultra</td>\n",
       "      <td>1000</td>\n",
       "      <td>30720</td>\n",
       "      <td>3000</td>\n",
       "      <td>1950</td>\n",
       "      <td>150</td>\n",
       "      <td>1</td>\n",
       "      <td>1</td>\n",
       "      <td>0</td>\n",
       "      <td>0</td>\n",
       "      <td>0</td>\n",
       "      <td>1950</td>\n",
       "    </tr>\n",
       "    <tr>\n",
       "      <td>1</td>\n",
       "      <td>1000</td>\n",
       "      <td>2018-06-01</td>\n",
       "      <td>172</td>\n",
       "      <td>43</td>\n",
       "      <td>60</td>\n",
       "      <td>23233.77</td>\n",
       "      <td>52</td>\n",
       "      <td>NaT</td>\n",
       "      <td>Краснодар</td>\n",
       "      <td>Рафаил</td>\n",
       "      <td>Верещагин</td>\n",
       "      <td>2018-05-25</td>\n",
       "      <td>ultra</td>\n",
       "      <td>1000</td>\n",
       "      <td>30720</td>\n",
       "      <td>3000</td>\n",
       "      <td>1950</td>\n",
       "      <td>150</td>\n",
       "      <td>1</td>\n",
       "      <td>1</td>\n",
       "      <td>0</td>\n",
       "      <td>0</td>\n",
       "      <td>0</td>\n",
       "      <td>1950</td>\n",
       "    </tr>\n",
       "    <tr>\n",
       "      <td>2</td>\n",
       "      <td>1000</td>\n",
       "      <td>2018-07-01</td>\n",
       "      <td>340</td>\n",
       "      <td>47</td>\n",
       "      <td>75</td>\n",
       "      <td>14003.64</td>\n",
       "      <td>52</td>\n",
       "      <td>NaT</td>\n",
       "      <td>Краснодар</td>\n",
       "      <td>Рафаил</td>\n",
       "      <td>Верещагин</td>\n",
       "      <td>2018-05-25</td>\n",
       "      <td>ultra</td>\n",
       "      <td>1000</td>\n",
       "      <td>30720</td>\n",
       "      <td>3000</td>\n",
       "      <td>1950</td>\n",
       "      <td>150</td>\n",
       "      <td>1</td>\n",
       "      <td>1</td>\n",
       "      <td>0</td>\n",
       "      <td>0</td>\n",
       "      <td>0</td>\n",
       "      <td>1950</td>\n",
       "    </tr>\n",
       "    <tr>\n",
       "      <td>3</td>\n",
       "      <td>1000</td>\n",
       "      <td>2018-08-01</td>\n",
       "      <td>408</td>\n",
       "      <td>52</td>\n",
       "      <td>81</td>\n",
       "      <td>14055.93</td>\n",
       "      <td>52</td>\n",
       "      <td>NaT</td>\n",
       "      <td>Краснодар</td>\n",
       "      <td>Рафаил</td>\n",
       "      <td>Верещагин</td>\n",
       "      <td>2018-05-25</td>\n",
       "      <td>ultra</td>\n",
       "      <td>1000</td>\n",
       "      <td>30720</td>\n",
       "      <td>3000</td>\n",
       "      <td>1950</td>\n",
       "      <td>150</td>\n",
       "      <td>1</td>\n",
       "      <td>1</td>\n",
       "      <td>0</td>\n",
       "      <td>0</td>\n",
       "      <td>0</td>\n",
       "      <td>1950</td>\n",
       "    </tr>\n",
       "    <tr>\n",
       "      <td>4</td>\n",
       "      <td>1000</td>\n",
       "      <td>2018-09-01</td>\n",
       "      <td>466</td>\n",
       "      <td>58</td>\n",
       "      <td>57</td>\n",
       "      <td>14568.91</td>\n",
       "      <td>52</td>\n",
       "      <td>NaT</td>\n",
       "      <td>Краснодар</td>\n",
       "      <td>Рафаил</td>\n",
       "      <td>Верещагин</td>\n",
       "      <td>2018-05-25</td>\n",
       "      <td>ultra</td>\n",
       "      <td>1000</td>\n",
       "      <td>30720</td>\n",
       "      <td>3000</td>\n",
       "      <td>1950</td>\n",
       "      <td>150</td>\n",
       "      <td>1</td>\n",
       "      <td>1</td>\n",
       "      <td>0</td>\n",
       "      <td>0</td>\n",
       "      <td>0</td>\n",
       "      <td>1950</td>\n",
       "    </tr>\n",
       "    <tr>\n",
       "      <td>5</td>\n",
       "      <td>1000</td>\n",
       "      <td>2018-10-01</td>\n",
       "      <td>350</td>\n",
       "      <td>57</td>\n",
       "      <td>73</td>\n",
       "      <td>14702.49</td>\n",
       "      <td>52</td>\n",
       "      <td>NaT</td>\n",
       "      <td>Краснодар</td>\n",
       "      <td>Рафаил</td>\n",
       "      <td>Верещагин</td>\n",
       "      <td>2018-05-25</td>\n",
       "      <td>ultra</td>\n",
       "      <td>1000</td>\n",
       "      <td>30720</td>\n",
       "      <td>3000</td>\n",
       "      <td>1950</td>\n",
       "      <td>150</td>\n",
       "      <td>1</td>\n",
       "      <td>1</td>\n",
       "      <td>0</td>\n",
       "      <td>0</td>\n",
       "      <td>0</td>\n",
       "      <td>1950</td>\n",
       "    </tr>\n",
       "    <tr>\n",
       "      <td>6</td>\n",
       "      <td>1000</td>\n",
       "      <td>2018-11-01</td>\n",
       "      <td>338</td>\n",
       "      <td>43</td>\n",
       "      <td>58</td>\n",
       "      <td>14756.47</td>\n",
       "      <td>52</td>\n",
       "      <td>NaT</td>\n",
       "      <td>Краснодар</td>\n",
       "      <td>Рафаил</td>\n",
       "      <td>Верещагин</td>\n",
       "      <td>2018-05-25</td>\n",
       "      <td>ultra</td>\n",
       "      <td>1000</td>\n",
       "      <td>30720</td>\n",
       "      <td>3000</td>\n",
       "      <td>1950</td>\n",
       "      <td>150</td>\n",
       "      <td>1</td>\n",
       "      <td>1</td>\n",
       "      <td>0</td>\n",
       "      <td>0</td>\n",
       "      <td>0</td>\n",
       "      <td>1950</td>\n",
       "    </tr>\n",
       "    <tr>\n",
       "      <td>7</td>\n",
       "      <td>1000</td>\n",
       "      <td>2018-12-01</td>\n",
       "      <td>333</td>\n",
       "      <td>46</td>\n",
       "      <td>70</td>\n",
       "      <td>9817.61</td>\n",
       "      <td>52</td>\n",
       "      <td>NaT</td>\n",
       "      <td>Краснодар</td>\n",
       "      <td>Рафаил</td>\n",
       "      <td>Верещагин</td>\n",
       "      <td>2018-05-25</td>\n",
       "      <td>ultra</td>\n",
       "      <td>1000</td>\n",
       "      <td>30720</td>\n",
       "      <td>3000</td>\n",
       "      <td>1950</td>\n",
       "      <td>150</td>\n",
       "      <td>1</td>\n",
       "      <td>1</td>\n",
       "      <td>0</td>\n",
       "      <td>0</td>\n",
       "      <td>0</td>\n",
       "      <td>1950</td>\n",
       "    </tr>\n",
       "    <tr>\n",
       "      <td>8</td>\n",
       "      <td>1001</td>\n",
       "      <td>2018-11-01</td>\n",
       "      <td>430</td>\n",
       "      <td>59</td>\n",
       "      <td>0</td>\n",
       "      <td>18429.34</td>\n",
       "      <td>41</td>\n",
       "      <td>NaT</td>\n",
       "      <td>Москва</td>\n",
       "      <td>Иван</td>\n",
       "      <td>Ежов</td>\n",
       "      <td>2018-11-01</td>\n",
       "      <td>smart</td>\n",
       "      <td>50</td>\n",
       "      <td>15360</td>\n",
       "      <td>500</td>\n",
       "      <td>550</td>\n",
       "      <td>200</td>\n",
       "      <td>3</td>\n",
       "      <td>3</td>\n",
       "      <td>0</td>\n",
       "      <td>0</td>\n",
       "      <td>3</td>\n",
       "      <td>1150</td>\n",
       "    </tr>\n",
       "    <tr>\n",
       "      <td>9</td>\n",
       "      <td>1001</td>\n",
       "      <td>2018-12-01</td>\n",
       "      <td>414</td>\n",
       "      <td>63</td>\n",
       "      <td>0</td>\n",
       "      <td>14036.66</td>\n",
       "      <td>41</td>\n",
       "      <td>NaT</td>\n",
       "      <td>Москва</td>\n",
       "      <td>Иван</td>\n",
       "      <td>Ежов</td>\n",
       "      <td>2018-11-01</td>\n",
       "      <td>smart</td>\n",
       "      <td>50</td>\n",
       "      <td>15360</td>\n",
       "      <td>500</td>\n",
       "      <td>550</td>\n",
       "      <td>200</td>\n",
       "      <td>3</td>\n",
       "      <td>3</td>\n",
       "      <td>0</td>\n",
       "      <td>0</td>\n",
       "      <td>0</td>\n",
       "      <td>550</td>\n",
       "    </tr>\n",
       "    <tr>\n",
       "      <td>10</td>\n",
       "      <td>1002</td>\n",
       "      <td>2018-06-01</td>\n",
       "      <td>117</td>\n",
       "      <td>15</td>\n",
       "      <td>4</td>\n",
       "      <td>10856.82</td>\n",
       "      <td>59</td>\n",
       "      <td>NaT</td>\n",
       "      <td>Стерлитамак</td>\n",
       "      <td>Евгений</td>\n",
       "      <td>Абрамович</td>\n",
       "      <td>2018-06-17</td>\n",
       "      <td>smart</td>\n",
       "      <td>50</td>\n",
       "      <td>15360</td>\n",
       "      <td>500</td>\n",
       "      <td>550</td>\n",
       "      <td>200</td>\n",
       "      <td>3</td>\n",
       "      <td>3</td>\n",
       "      <td>0</td>\n",
       "      <td>0</td>\n",
       "      <td>0</td>\n",
       "      <td>550</td>\n",
       "    </tr>\n",
       "    <tr>\n",
       "      <td>11</td>\n",
       "      <td>1002</td>\n",
       "      <td>2018-07-01</td>\n",
       "      <td>214</td>\n",
       "      <td>26</td>\n",
       "      <td>11</td>\n",
       "      <td>17580.10</td>\n",
       "      <td>59</td>\n",
       "      <td>NaT</td>\n",
       "      <td>Стерлитамак</td>\n",
       "      <td>Евгений</td>\n",
       "      <td>Абрамович</td>\n",
       "      <td>2018-06-17</td>\n",
       "      <td>smart</td>\n",
       "      <td>50</td>\n",
       "      <td>15360</td>\n",
       "      <td>500</td>\n",
       "      <td>550</td>\n",
       "      <td>200</td>\n",
       "      <td>3</td>\n",
       "      <td>3</td>\n",
       "      <td>0</td>\n",
       "      <td>0</td>\n",
       "      <td>3</td>\n",
       "      <td>1150</td>\n",
       "    </tr>\n",
       "    <tr>\n",
       "      <td>12</td>\n",
       "      <td>1002</td>\n",
       "      <td>2018-08-01</td>\n",
       "      <td>289</td>\n",
       "      <td>42</td>\n",
       "      <td>13</td>\n",
       "      <td>20319.26</td>\n",
       "      <td>59</td>\n",
       "      <td>NaT</td>\n",
       "      <td>Стерлитамак</td>\n",
       "      <td>Евгений</td>\n",
       "      <td>Абрамович</td>\n",
       "      <td>2018-06-17</td>\n",
       "      <td>smart</td>\n",
       "      <td>50</td>\n",
       "      <td>15360</td>\n",
       "      <td>500</td>\n",
       "      <td>550</td>\n",
       "      <td>200</td>\n",
       "      <td>3</td>\n",
       "      <td>3</td>\n",
       "      <td>0</td>\n",
       "      <td>0</td>\n",
       "      <td>5</td>\n",
       "      <td>1550</td>\n",
       "    </tr>\n",
       "    <tr>\n",
       "      <td>13</td>\n",
       "      <td>1002</td>\n",
       "      <td>2018-09-01</td>\n",
       "      <td>206</td>\n",
       "      <td>36</td>\n",
       "      <td>4</td>\n",
       "      <td>16691.08</td>\n",
       "      <td>59</td>\n",
       "      <td>NaT</td>\n",
       "      <td>Стерлитамак</td>\n",
       "      <td>Евгений</td>\n",
       "      <td>Абрамович</td>\n",
       "      <td>2018-06-17</td>\n",
       "      <td>smart</td>\n",
       "      <td>50</td>\n",
       "      <td>15360</td>\n",
       "      <td>500</td>\n",
       "      <td>550</td>\n",
       "      <td>200</td>\n",
       "      <td>3</td>\n",
       "      <td>3</td>\n",
       "      <td>0</td>\n",
       "      <td>0</td>\n",
       "      <td>2</td>\n",
       "      <td>950</td>\n",
       "    </tr>\n",
       "    <tr>\n",
       "      <td>14</td>\n",
       "      <td>1002</td>\n",
       "      <td>2018-10-01</td>\n",
       "      <td>212</td>\n",
       "      <td>33</td>\n",
       "      <td>10</td>\n",
       "      <td>13888.25</td>\n",
       "      <td>59</td>\n",
       "      <td>NaT</td>\n",
       "      <td>Стерлитамак</td>\n",
       "      <td>Евгений</td>\n",
       "      <td>Абрамович</td>\n",
       "      <td>2018-06-17</td>\n",
       "      <td>smart</td>\n",
       "      <td>50</td>\n",
       "      <td>15360</td>\n",
       "      <td>500</td>\n",
       "      <td>550</td>\n",
       "      <td>200</td>\n",
       "      <td>3</td>\n",
       "      <td>3</td>\n",
       "      <td>0</td>\n",
       "      <td>0</td>\n",
       "      <td>0</td>\n",
       "      <td>550</td>\n",
       "    </tr>\n",
       "    <tr>\n",
       "      <td>15</td>\n",
       "      <td>1002</td>\n",
       "      <td>2018-11-01</td>\n",
       "      <td>243</td>\n",
       "      <td>32</td>\n",
       "      <td>16</td>\n",
       "      <td>18587.28</td>\n",
       "      <td>59</td>\n",
       "      <td>NaT</td>\n",
       "      <td>Стерлитамак</td>\n",
       "      <td>Евгений</td>\n",
       "      <td>Абрамович</td>\n",
       "      <td>2018-06-17</td>\n",
       "      <td>smart</td>\n",
       "      <td>50</td>\n",
       "      <td>15360</td>\n",
       "      <td>500</td>\n",
       "      <td>550</td>\n",
       "      <td>200</td>\n",
       "      <td>3</td>\n",
       "      <td>3</td>\n",
       "      <td>0</td>\n",
       "      <td>0</td>\n",
       "      <td>4</td>\n",
       "      <td>1350</td>\n",
       "    </tr>\n",
       "    <tr>\n",
       "      <td>16</td>\n",
       "      <td>1002</td>\n",
       "      <td>2018-12-01</td>\n",
       "      <td>236</td>\n",
       "      <td>33</td>\n",
       "      <td>12</td>\n",
       "      <td>18113.73</td>\n",
       "      <td>59</td>\n",
       "      <td>NaT</td>\n",
       "      <td>Стерлитамак</td>\n",
       "      <td>Евгений</td>\n",
       "      <td>Абрамович</td>\n",
       "      <td>2018-06-17</td>\n",
       "      <td>smart</td>\n",
       "      <td>50</td>\n",
       "      <td>15360</td>\n",
       "      <td>500</td>\n",
       "      <td>550</td>\n",
       "      <td>200</td>\n",
       "      <td>3</td>\n",
       "      <td>3</td>\n",
       "      <td>0</td>\n",
       "      <td>0</td>\n",
       "      <td>3</td>\n",
       "      <td>1150</td>\n",
       "    </tr>\n",
       "    <tr>\n",
       "      <td>17</td>\n",
       "      <td>1003</td>\n",
       "      <td>2018-08-01</td>\n",
       "      <td>380</td>\n",
       "      <td>55</td>\n",
       "      <td>37</td>\n",
       "      <td>8565.21</td>\n",
       "      <td>23</td>\n",
       "      <td>NaT</td>\n",
       "      <td>Москва</td>\n",
       "      <td>Белла</td>\n",
       "      <td>Белякова</td>\n",
       "      <td>2018-08-17</td>\n",
       "      <td>ultra</td>\n",
       "      <td>1000</td>\n",
       "      <td>30720</td>\n",
       "      <td>3000</td>\n",
       "      <td>1950</td>\n",
       "      <td>150</td>\n",
       "      <td>1</td>\n",
       "      <td>1</td>\n",
       "      <td>0</td>\n",
       "      <td>0</td>\n",
       "      <td>0</td>\n",
       "      <td>1950</td>\n",
       "    </tr>\n",
       "    <tr>\n",
       "      <td>18</td>\n",
       "      <td>1003</td>\n",
       "      <td>2018-09-01</td>\n",
       "      <td>961</td>\n",
       "      <td>134</td>\n",
       "      <td>91</td>\n",
       "      <td>12468.87</td>\n",
       "      <td>23</td>\n",
       "      <td>NaT</td>\n",
       "      <td>Москва</td>\n",
       "      <td>Белла</td>\n",
       "      <td>Белякова</td>\n",
       "      <td>2018-08-17</td>\n",
       "      <td>ultra</td>\n",
       "      <td>1000</td>\n",
       "      <td>30720</td>\n",
       "      <td>3000</td>\n",
       "      <td>1950</td>\n",
       "      <td>150</td>\n",
       "      <td>1</td>\n",
       "      <td>1</td>\n",
       "      <td>0</td>\n",
       "      <td>0</td>\n",
       "      <td>0</td>\n",
       "      <td>1950</td>\n",
       "    </tr>\n",
       "    <tr>\n",
       "      <td>19</td>\n",
       "      <td>1003</td>\n",
       "      <td>2018-10-01</td>\n",
       "      <td>855</td>\n",
       "      <td>108</td>\n",
       "      <td>83</td>\n",
       "      <td>14768.14</td>\n",
       "      <td>23</td>\n",
       "      <td>NaT</td>\n",
       "      <td>Москва</td>\n",
       "      <td>Белла</td>\n",
       "      <td>Белякова</td>\n",
       "      <td>2018-08-17</td>\n",
       "      <td>ultra</td>\n",
       "      <td>1000</td>\n",
       "      <td>30720</td>\n",
       "      <td>3000</td>\n",
       "      <td>1950</td>\n",
       "      <td>150</td>\n",
       "      <td>1</td>\n",
       "      <td>1</td>\n",
       "      <td>0</td>\n",
       "      <td>0</td>\n",
       "      <td>0</td>\n",
       "      <td>1950</td>\n",
       "    </tr>\n",
       "    <tr>\n",
       "      <td>20</td>\n",
       "      <td>1003</td>\n",
       "      <td>2018-11-01</td>\n",
       "      <td>824</td>\n",
       "      <td>115</td>\n",
       "      <td>94</td>\n",
       "      <td>11356.89</td>\n",
       "      <td>23</td>\n",
       "      <td>NaT</td>\n",
       "      <td>Москва</td>\n",
       "      <td>Белла</td>\n",
       "      <td>Белякова</td>\n",
       "      <td>2018-08-17</td>\n",
       "      <td>ultra</td>\n",
       "      <td>1000</td>\n",
       "      <td>30720</td>\n",
       "      <td>3000</td>\n",
       "      <td>1950</td>\n",
       "      <td>150</td>\n",
       "      <td>1</td>\n",
       "      <td>1</td>\n",
       "      <td>0</td>\n",
       "      <td>0</td>\n",
       "      <td>0</td>\n",
       "      <td>1950</td>\n",
       "    </tr>\n",
       "    <tr>\n",
       "      <td>21</td>\n",
       "      <td>1003</td>\n",
       "      <td>2018-12-01</td>\n",
       "      <td>802</td>\n",
       "      <td>108</td>\n",
       "      <td>75</td>\n",
       "      <td>10121.53</td>\n",
       "      <td>23</td>\n",
       "      <td>NaT</td>\n",
       "      <td>Москва</td>\n",
       "      <td>Белла</td>\n",
       "      <td>Белякова</td>\n",
       "      <td>2018-08-17</td>\n",
       "      <td>ultra</td>\n",
       "      <td>1000</td>\n",
       "      <td>30720</td>\n",
       "      <td>3000</td>\n",
       "      <td>1950</td>\n",
       "      <td>150</td>\n",
       "      <td>1</td>\n",
       "      <td>1</td>\n",
       "      <td>0</td>\n",
       "      <td>0</td>\n",
       "      <td>0</td>\n",
       "      <td>1950</td>\n",
       "    </tr>\n",
       "    <tr>\n",
       "      <td>22</td>\n",
       "      <td>1004</td>\n",
       "      <td>2018-05-01</td>\n",
       "      <td>35</td>\n",
       "      <td>9</td>\n",
       "      <td>95</td>\n",
       "      <td>13403.98</td>\n",
       "      <td>68</td>\n",
       "      <td>NaT</td>\n",
       "      <td>Новокузнецк</td>\n",
       "      <td>Татьяна</td>\n",
       "      <td>Авдеенко</td>\n",
       "      <td>2018-05-14</td>\n",
       "      <td>ultra</td>\n",
       "      <td>1000</td>\n",
       "      <td>30720</td>\n",
       "      <td>3000</td>\n",
       "      <td>1950</td>\n",
       "      <td>150</td>\n",
       "      <td>1</td>\n",
       "      <td>1</td>\n",
       "      <td>0</td>\n",
       "      <td>0</td>\n",
       "      <td>0</td>\n",
       "      <td>1950</td>\n",
       "    </tr>\n",
       "    <tr>\n",
       "      <td>23</td>\n",
       "      <td>1004</td>\n",
       "      <td>2018-06-01</td>\n",
       "      <td>171</td>\n",
       "      <td>31</td>\n",
       "      <td>134</td>\n",
       "      <td>17600.02</td>\n",
       "      <td>68</td>\n",
       "      <td>NaT</td>\n",
       "      <td>Новокузнецк</td>\n",
       "      <td>Татьяна</td>\n",
       "      <td>Авдеенко</td>\n",
       "      <td>2018-05-14</td>\n",
       "      <td>ultra</td>\n",
       "      <td>1000</td>\n",
       "      <td>30720</td>\n",
       "      <td>3000</td>\n",
       "      <td>1950</td>\n",
       "      <td>150</td>\n",
       "      <td>1</td>\n",
       "      <td>1</td>\n",
       "      <td>0</td>\n",
       "      <td>0</td>\n",
       "      <td>0</td>\n",
       "      <td>1950</td>\n",
       "    </tr>\n",
       "    <tr>\n",
       "      <td>24</td>\n",
       "      <td>1004</td>\n",
       "      <td>2018-07-01</td>\n",
       "      <td>135</td>\n",
       "      <td>22</td>\n",
       "      <td>181</td>\n",
       "      <td>22229.58</td>\n",
       "      <td>68</td>\n",
       "      <td>NaT</td>\n",
       "      <td>Новокузнецк</td>\n",
       "      <td>Татьяна</td>\n",
       "      <td>Авдеенко</td>\n",
       "      <td>2018-05-14</td>\n",
       "      <td>ultra</td>\n",
       "      <td>1000</td>\n",
       "      <td>30720</td>\n",
       "      <td>3000</td>\n",
       "      <td>1950</td>\n",
       "      <td>150</td>\n",
       "      <td>1</td>\n",
       "      <td>1</td>\n",
       "      <td>0</td>\n",
       "      <td>0</td>\n",
       "      <td>0</td>\n",
       "      <td>1950</td>\n",
       "    </tr>\n",
       "    <tr>\n",
       "      <td>25</td>\n",
       "      <td>1004</td>\n",
       "      <td>2018-08-01</td>\n",
       "      <td>137</td>\n",
       "      <td>19</td>\n",
       "      <td>151</td>\n",
       "      <td>28584.37</td>\n",
       "      <td>68</td>\n",
       "      <td>NaT</td>\n",
       "      <td>Новокузнецк</td>\n",
       "      <td>Татьяна</td>\n",
       "      <td>Авдеенко</td>\n",
       "      <td>2018-05-14</td>\n",
       "      <td>ultra</td>\n",
       "      <td>1000</td>\n",
       "      <td>30720</td>\n",
       "      <td>3000</td>\n",
       "      <td>1950</td>\n",
       "      <td>150</td>\n",
       "      <td>1</td>\n",
       "      <td>1</td>\n",
       "      <td>0</td>\n",
       "      <td>0</td>\n",
       "      <td>0</td>\n",
       "      <td>1950</td>\n",
       "    </tr>\n",
       "    <tr>\n",
       "      <td>26</td>\n",
       "      <td>1004</td>\n",
       "      <td>2018-09-01</td>\n",
       "      <td>117</td>\n",
       "      <td>26</td>\n",
       "      <td>146</td>\n",
       "      <td>15109.03</td>\n",
       "      <td>68</td>\n",
       "      <td>NaT</td>\n",
       "      <td>Новокузнецк</td>\n",
       "      <td>Татьяна</td>\n",
       "      <td>Авдеенко</td>\n",
       "      <td>2018-05-14</td>\n",
       "      <td>ultra</td>\n",
       "      <td>1000</td>\n",
       "      <td>30720</td>\n",
       "      <td>3000</td>\n",
       "      <td>1950</td>\n",
       "      <td>150</td>\n",
       "      <td>1</td>\n",
       "      <td>1</td>\n",
       "      <td>0</td>\n",
       "      <td>0</td>\n",
       "      <td>0</td>\n",
       "      <td>1950</td>\n",
       "    </tr>\n",
       "    <tr>\n",
       "      <td>27</td>\n",
       "      <td>1004</td>\n",
       "      <td>2018-10-01</td>\n",
       "      <td>145</td>\n",
       "      <td>29</td>\n",
       "      <td>165</td>\n",
       "      <td>18475.44</td>\n",
       "      <td>68</td>\n",
       "      <td>NaT</td>\n",
       "      <td>Новокузнецк</td>\n",
       "      <td>Татьяна</td>\n",
       "      <td>Авдеенко</td>\n",
       "      <td>2018-05-14</td>\n",
       "      <td>ultra</td>\n",
       "      <td>1000</td>\n",
       "      <td>30720</td>\n",
       "      <td>3000</td>\n",
       "      <td>1950</td>\n",
       "      <td>150</td>\n",
       "      <td>1</td>\n",
       "      <td>1</td>\n",
       "      <td>0</td>\n",
       "      <td>0</td>\n",
       "      <td>0</td>\n",
       "      <td>1950</td>\n",
       "    </tr>\n",
       "    <tr>\n",
       "      <td>28</td>\n",
       "      <td>1004</td>\n",
       "      <td>2018-11-01</td>\n",
       "      <td>117</td>\n",
       "      <td>19</td>\n",
       "      <td>158</td>\n",
       "      <td>15616.02</td>\n",
       "      <td>68</td>\n",
       "      <td>NaT</td>\n",
       "      <td>Новокузнецк</td>\n",
       "      <td>Татьяна</td>\n",
       "      <td>Авдеенко</td>\n",
       "      <td>2018-05-14</td>\n",
       "      <td>ultra</td>\n",
       "      <td>1000</td>\n",
       "      <td>30720</td>\n",
       "      <td>3000</td>\n",
       "      <td>1950</td>\n",
       "      <td>150</td>\n",
       "      <td>1</td>\n",
       "      <td>1</td>\n",
       "      <td>0</td>\n",
       "      <td>0</td>\n",
       "      <td>0</td>\n",
       "      <td>1950</td>\n",
       "    </tr>\n",
       "    <tr>\n",
       "      <td>29</td>\n",
       "      <td>1004</td>\n",
       "      <td>2018-12-01</td>\n",
       "      <td>130</td>\n",
       "      <td>21</td>\n",
       "      <td>162</td>\n",
       "      <td>18021.04</td>\n",
       "      <td>68</td>\n",
       "      <td>NaT</td>\n",
       "      <td>Новокузнецк</td>\n",
       "      <td>Татьяна</td>\n",
       "      <td>Авдеенко</td>\n",
       "      <td>2018-05-14</td>\n",
       "      <td>ultra</td>\n",
       "      <td>1000</td>\n",
       "      <td>30720</td>\n",
       "      <td>3000</td>\n",
       "      <td>1950</td>\n",
       "      <td>150</td>\n",
       "      <td>1</td>\n",
       "      <td>1</td>\n",
       "      <td>0</td>\n",
       "      <td>0</td>\n",
       "      <td>0</td>\n",
       "      <td>1950</td>\n",
       "    </tr>\n",
       "    <tr>\n",
       "      <td>30</td>\n",
       "      <td>1005</td>\n",
       "      <td>2018-01-01</td>\n",
       "      <td>95</td>\n",
       "      <td>15</td>\n",
       "      <td>7</td>\n",
       "      <td>2727.97</td>\n",
       "      <td>67</td>\n",
       "      <td>NaT</td>\n",
       "      <td>Набережные Челны</td>\n",
       "      <td>Афанасий</td>\n",
       "      <td>Горлов</td>\n",
       "      <td>2018-01-25</td>\n",
       "      <td>smart</td>\n",
       "      <td>50</td>\n",
       "      <td>15360</td>\n",
       "      <td>500</td>\n",
       "      <td>550</td>\n",
       "      <td>200</td>\n",
       "      <td>3</td>\n",
       "      <td>3</td>\n",
       "      <td>0</td>\n",
       "      <td>0</td>\n",
       "      <td>0</td>\n",
       "      <td>550</td>\n",
       "    </tr>\n",
       "    <tr>\n",
       "      <td>31</td>\n",
       "      <td>1005</td>\n",
       "      <td>2018-02-01</td>\n",
       "      <td>456</td>\n",
       "      <td>69</td>\n",
       "      <td>38</td>\n",
       "      <td>7383.93</td>\n",
       "      <td>67</td>\n",
       "      <td>NaT</td>\n",
       "      <td>Набережные Челны</td>\n",
       "      <td>Афанасий</td>\n",
       "      <td>Горлов</td>\n",
       "      <td>2018-01-25</td>\n",
       "      <td>smart</td>\n",
       "      <td>50</td>\n",
       "      <td>15360</td>\n",
       "      <td>500</td>\n",
       "      <td>550</td>\n",
       "      <td>200</td>\n",
       "      <td>3</td>\n",
       "      <td>3</td>\n",
       "      <td>0</td>\n",
       "      <td>0</td>\n",
       "      <td>0</td>\n",
       "      <td>550</td>\n",
       "    </tr>\n",
       "    <tr>\n",
       "      <td>32</td>\n",
       "      <td>1005</td>\n",
       "      <td>2018-03-01</td>\n",
       "      <td>606</td>\n",
       "      <td>77</td>\n",
       "      <td>56</td>\n",
       "      <td>11104.25</td>\n",
       "      <td>67</td>\n",
       "      <td>NaT</td>\n",
       "      <td>Набережные Челны</td>\n",
       "      <td>Афанасий</td>\n",
       "      <td>Горлов</td>\n",
       "      <td>2018-01-25</td>\n",
       "      <td>smart</td>\n",
       "      <td>50</td>\n",
       "      <td>15360</td>\n",
       "      <td>500</td>\n",
       "      <td>550</td>\n",
       "      <td>200</td>\n",
       "      <td>3</td>\n",
       "      <td>3</td>\n",
       "      <td>106</td>\n",
       "      <td>6</td>\n",
       "      <td>0</td>\n",
       "      <td>886</td>\n",
       "    </tr>\n",
       "    <tr>\n",
       "      <td>33</td>\n",
       "      <td>1005</td>\n",
       "      <td>2018-04-01</td>\n",
       "      <td>712</td>\n",
       "      <td>101</td>\n",
       "      <td>41</td>\n",
       "      <td>9351.72</td>\n",
       "      <td>67</td>\n",
       "      <td>NaT</td>\n",
       "      <td>Набережные Челны</td>\n",
       "      <td>Афанасий</td>\n",
       "      <td>Горлов</td>\n",
       "      <td>2018-01-25</td>\n",
       "      <td>smart</td>\n",
       "      <td>50</td>\n",
       "      <td>15360</td>\n",
       "      <td>500</td>\n",
       "      <td>550</td>\n",
       "      <td>200</td>\n",
       "      <td>3</td>\n",
       "      <td>3</td>\n",
       "      <td>212</td>\n",
       "      <td>0</td>\n",
       "      <td>0</td>\n",
       "      <td>1186</td>\n",
       "    </tr>\n",
       "    <tr>\n",
       "      <td>34</td>\n",
       "      <td>1005</td>\n",
       "      <td>2018-05-01</td>\n",
       "      <td>595</td>\n",
       "      <td>73</td>\n",
       "      <td>42</td>\n",
       "      <td>7865.53</td>\n",
       "      <td>67</td>\n",
       "      <td>NaT</td>\n",
       "      <td>Набережные Челны</td>\n",
       "      <td>Афанасий</td>\n",
       "      <td>Горлов</td>\n",
       "      <td>2018-01-25</td>\n",
       "      <td>smart</td>\n",
       "      <td>50</td>\n",
       "      <td>15360</td>\n",
       "      <td>500</td>\n",
       "      <td>550</td>\n",
       "      <td>200</td>\n",
       "      <td>3</td>\n",
       "      <td>3</td>\n",
       "      <td>95</td>\n",
       "      <td>0</td>\n",
       "      <td>0</td>\n",
       "      <td>835</td>\n",
       "    </tr>\n",
       "    <tr>\n",
       "      <td>35</td>\n",
       "      <td>1005</td>\n",
       "      <td>2018-06-01</td>\n",
       "      <td>612</td>\n",
       "      <td>80</td>\n",
       "      <td>47</td>\n",
       "      <td>9863.19</td>\n",
       "      <td>67</td>\n",
       "      <td>NaT</td>\n",
       "      <td>Набережные Челны</td>\n",
       "      <td>Афанасий</td>\n",
       "      <td>Горлов</td>\n",
       "      <td>2018-01-25</td>\n",
       "      <td>smart</td>\n",
       "      <td>50</td>\n",
       "      <td>15360</td>\n",
       "      <td>500</td>\n",
       "      <td>550</td>\n",
       "      <td>200</td>\n",
       "      <td>3</td>\n",
       "      <td>3</td>\n",
       "      <td>112</td>\n",
       "      <td>0</td>\n",
       "      <td>0</td>\n",
       "      <td>886</td>\n",
       "    </tr>\n",
       "    <tr>\n",
       "      <td>36</td>\n",
       "      <td>1005</td>\n",
       "      <td>2018-07-01</td>\n",
       "      <td>569</td>\n",
       "      <td>77</td>\n",
       "      <td>56</td>\n",
       "      <td>7694.56</td>\n",
       "      <td>67</td>\n",
       "      <td>NaT</td>\n",
       "      <td>Набережные Челны</td>\n",
       "      <td>Афанасий</td>\n",
       "      <td>Горлов</td>\n",
       "      <td>2018-01-25</td>\n",
       "      <td>smart</td>\n",
       "      <td>50</td>\n",
       "      <td>15360</td>\n",
       "      <td>500</td>\n",
       "      <td>550</td>\n",
       "      <td>200</td>\n",
       "      <td>3</td>\n",
       "      <td>3</td>\n",
       "      <td>69</td>\n",
       "      <td>6</td>\n",
       "      <td>0</td>\n",
       "      <td>775</td>\n",
       "    </tr>\n",
       "    <tr>\n",
       "      <td>37</td>\n",
       "      <td>1005</td>\n",
       "      <td>2018-08-01</td>\n",
       "      <td>619</td>\n",
       "      <td>71</td>\n",
       "      <td>64</td>\n",
       "      <td>7543.63</td>\n",
       "      <td>67</td>\n",
       "      <td>NaT</td>\n",
       "      <td>Набережные Челны</td>\n",
       "      <td>Афанасий</td>\n",
       "      <td>Горлов</td>\n",
       "      <td>2018-01-25</td>\n",
       "      <td>smart</td>\n",
       "      <td>50</td>\n",
       "      <td>15360</td>\n",
       "      <td>500</td>\n",
       "      <td>550</td>\n",
       "      <td>200</td>\n",
       "      <td>3</td>\n",
       "      <td>3</td>\n",
       "      <td>119</td>\n",
       "      <td>14</td>\n",
       "      <td>0</td>\n",
       "      <td>949</td>\n",
       "    </tr>\n",
       "    <tr>\n",
       "      <td>38</td>\n",
       "      <td>1005</td>\n",
       "      <td>2018-09-01</td>\n",
       "      <td>479</td>\n",
       "      <td>66</td>\n",
       "      <td>52</td>\n",
       "      <td>7016.46</td>\n",
       "      <td>67</td>\n",
       "      <td>NaT</td>\n",
       "      <td>Набережные Челны</td>\n",
       "      <td>Афанасий</td>\n",
       "      <td>Горлов</td>\n",
       "      <td>2018-01-25</td>\n",
       "      <td>smart</td>\n",
       "      <td>50</td>\n",
       "      <td>15360</td>\n",
       "      <td>500</td>\n",
       "      <td>550</td>\n",
       "      <td>200</td>\n",
       "      <td>3</td>\n",
       "      <td>3</td>\n",
       "      <td>0</td>\n",
       "      <td>2</td>\n",
       "      <td>0</td>\n",
       "      <td>556</td>\n",
       "    </tr>\n",
       "    <tr>\n",
       "      <td>39</td>\n",
       "      <td>1005</td>\n",
       "      <td>2018-10-01</td>\n",
       "      <td>723</td>\n",
       "      <td>100</td>\n",
       "      <td>44</td>\n",
       "      <td>7800.93</td>\n",
       "      <td>67</td>\n",
       "      <td>NaT</td>\n",
       "      <td>Набережные Челны</td>\n",
       "      <td>Афанасий</td>\n",
       "      <td>Горлов</td>\n",
       "      <td>2018-01-25</td>\n",
       "      <td>smart</td>\n",
       "      <td>50</td>\n",
       "      <td>15360</td>\n",
       "      <td>500</td>\n",
       "      <td>550</td>\n",
       "      <td>200</td>\n",
       "      <td>3</td>\n",
       "      <td>3</td>\n",
       "      <td>223</td>\n",
       "      <td>0</td>\n",
       "      <td>0</td>\n",
       "      <td>1219</td>\n",
       "    </tr>\n",
       "    <tr>\n",
       "      <td>40</td>\n",
       "      <td>1005</td>\n",
       "      <td>2018-11-01</td>\n",
       "      <td>547</td>\n",
       "      <td>75</td>\n",
       "      <td>51</td>\n",
       "      <td>12666.95</td>\n",
       "      <td>67</td>\n",
       "      <td>NaT</td>\n",
       "      <td>Набережные Челны</td>\n",
       "      <td>Афанасий</td>\n",
       "      <td>Горлов</td>\n",
       "      <td>2018-01-25</td>\n",
       "      <td>smart</td>\n",
       "      <td>50</td>\n",
       "      <td>15360</td>\n",
       "      <td>500</td>\n",
       "      <td>550</td>\n",
       "      <td>200</td>\n",
       "      <td>3</td>\n",
       "      <td>3</td>\n",
       "      <td>47</td>\n",
       "      <td>1</td>\n",
       "      <td>0</td>\n",
       "      <td>694</td>\n",
       "    </tr>\n",
       "    <tr>\n",
       "      <td>41</td>\n",
       "      <td>1005</td>\n",
       "      <td>2018-12-01</td>\n",
       "      <td>592</td>\n",
       "      <td>84</td>\n",
       "      <td>54</td>\n",
       "      <td>8668.19</td>\n",
       "      <td>67</td>\n",
       "      <td>NaT</td>\n",
       "      <td>Набережные Челны</td>\n",
       "      <td>Афанасий</td>\n",
       "      <td>Горлов</td>\n",
       "      <td>2018-01-25</td>\n",
       "      <td>smart</td>\n",
       "      <td>50</td>\n",
       "      <td>15360</td>\n",
       "      <td>500</td>\n",
       "      <td>550</td>\n",
       "      <td>200</td>\n",
       "      <td>3</td>\n",
       "      <td>3</td>\n",
       "      <td>92</td>\n",
       "      <td>4</td>\n",
       "      <td>0</td>\n",
       "      <td>838</td>\n",
       "    </tr>\n",
       "    <tr>\n",
       "      <td>42</td>\n",
       "      <td>1006</td>\n",
       "      <td>2018-02-01</td>\n",
       "      <td>42</td>\n",
       "      <td>3</td>\n",
       "      <td>0</td>\n",
       "      <td>1392.15</td>\n",
       "      <td>21</td>\n",
       "      <td>NaT</td>\n",
       "      <td>Ульяновск</td>\n",
       "      <td>Леонид</td>\n",
       "      <td>Ермолаев</td>\n",
       "      <td>2018-02-26</td>\n",
       "      <td>smart</td>\n",
       "      <td>50</td>\n",
       "      <td>15360</td>\n",
       "      <td>500</td>\n",
       "      <td>550</td>\n",
       "      <td>200</td>\n",
       "      <td>3</td>\n",
       "      <td>3</td>\n",
       "      <td>0</td>\n",
       "      <td>0</td>\n",
       "      <td>0</td>\n",
       "      <td>550</td>\n",
       "    </tr>\n",
       "    <tr>\n",
       "      <td>43</td>\n",
       "      <td>1006</td>\n",
       "      <td>2018-03-01</td>\n",
       "      <td>286</td>\n",
       "      <td>46</td>\n",
       "      <td>0</td>\n",
       "      <td>17287.93</td>\n",
       "      <td>21</td>\n",
       "      <td>NaT</td>\n",
       "      <td>Ульяновск</td>\n",
       "      <td>Леонид</td>\n",
       "      <td>Ермолаев</td>\n",
       "      <td>2018-02-26</td>\n",
       "      <td>smart</td>\n",
       "      <td>50</td>\n",
       "      <td>15360</td>\n",
       "      <td>500</td>\n",
       "      <td>550</td>\n",
       "      <td>200</td>\n",
       "      <td>3</td>\n",
       "      <td>3</td>\n",
       "      <td>0</td>\n",
       "      <td>0</td>\n",
       "      <td>2</td>\n",
       "      <td>950</td>\n",
       "    </tr>\n",
       "    <tr>\n",
       "      <td>44</td>\n",
       "      <td>1006</td>\n",
       "      <td>2018-04-01</td>\n",
       "      <td>356</td>\n",
       "      <td>47</td>\n",
       "      <td>0</td>\n",
       "      <td>13936.70</td>\n",
       "      <td>21</td>\n",
       "      <td>NaT</td>\n",
       "      <td>Ульяновск</td>\n",
       "      <td>Леонид</td>\n",
       "      <td>Ермолаев</td>\n",
       "      <td>2018-02-26</td>\n",
       "      <td>smart</td>\n",
       "      <td>50</td>\n",
       "      <td>15360</td>\n",
       "      <td>500</td>\n",
       "      <td>550</td>\n",
       "      <td>200</td>\n",
       "      <td>3</td>\n",
       "      <td>3</td>\n",
       "      <td>0</td>\n",
       "      <td>0</td>\n",
       "      <td>0</td>\n",
       "      <td>550</td>\n",
       "    </tr>\n",
       "    <tr>\n",
       "      <td>45</td>\n",
       "      <td>1006</td>\n",
       "      <td>2018-05-01</td>\n",
       "      <td>370</td>\n",
       "      <td>56</td>\n",
       "      <td>0</td>\n",
       "      <td>12965.41</td>\n",
       "      <td>21</td>\n",
       "      <td>NaT</td>\n",
       "      <td>Ульяновск</td>\n",
       "      <td>Леонид</td>\n",
       "      <td>Ермолаев</td>\n",
       "      <td>2018-02-26</td>\n",
       "      <td>smart</td>\n",
       "      <td>50</td>\n",
       "      <td>15360</td>\n",
       "      <td>500</td>\n",
       "      <td>550</td>\n",
       "      <td>200</td>\n",
       "      <td>3</td>\n",
       "      <td>3</td>\n",
       "      <td>0</td>\n",
       "      <td>0</td>\n",
       "      <td>0</td>\n",
       "      <td>550</td>\n",
       "    </tr>\n",
       "    <tr>\n",
       "      <td>46</td>\n",
       "      <td>1006</td>\n",
       "      <td>2018-06-01</td>\n",
       "      <td>478</td>\n",
       "      <td>53</td>\n",
       "      <td>0</td>\n",
       "      <td>12371.66</td>\n",
       "      <td>21</td>\n",
       "      <td>NaT</td>\n",
       "      <td>Ульяновск</td>\n",
       "      <td>Леонид</td>\n",
       "      <td>Ермолаев</td>\n",
       "      <td>2018-02-26</td>\n",
       "      <td>smart</td>\n",
       "      <td>50</td>\n",
       "      <td>15360</td>\n",
       "      <td>500</td>\n",
       "      <td>550</td>\n",
       "      <td>200</td>\n",
       "      <td>3</td>\n",
       "      <td>3</td>\n",
       "      <td>0</td>\n",
       "      <td>0</td>\n",
       "      <td>0</td>\n",
       "      <td>550</td>\n",
       "    </tr>\n",
       "    <tr>\n",
       "      <td>47</td>\n",
       "      <td>1006</td>\n",
       "      <td>2018-07-01</td>\n",
       "      <td>316</td>\n",
       "      <td>49</td>\n",
       "      <td>0</td>\n",
       "      <td>19977.60</td>\n",
       "      <td>21</td>\n",
       "      <td>NaT</td>\n",
       "      <td>Ульяновск</td>\n",
       "      <td>Леонид</td>\n",
       "      <td>Ермолаев</td>\n",
       "      <td>2018-02-26</td>\n",
       "      <td>smart</td>\n",
       "      <td>50</td>\n",
       "      <td>15360</td>\n",
       "      <td>500</td>\n",
       "      <td>550</td>\n",
       "      <td>200</td>\n",
       "      <td>3</td>\n",
       "      <td>3</td>\n",
       "      <td>0</td>\n",
       "      <td>0</td>\n",
       "      <td>5</td>\n",
       "      <td>1550</td>\n",
       "    </tr>\n",
       "    <tr>\n",
       "      <td>48</td>\n",
       "      <td>1006</td>\n",
       "      <td>2018-08-01</td>\n",
       "      <td>275</td>\n",
       "      <td>42</td>\n",
       "      <td>0</td>\n",
       "      <td>19303.71</td>\n",
       "      <td>21</td>\n",
       "      <td>NaT</td>\n",
       "      <td>Ульяновск</td>\n",
       "      <td>Леонид</td>\n",
       "      <td>Ермолаев</td>\n",
       "      <td>2018-02-26</td>\n",
       "      <td>smart</td>\n",
       "      <td>50</td>\n",
       "      <td>15360</td>\n",
       "      <td>500</td>\n",
       "      <td>550</td>\n",
       "      <td>200</td>\n",
       "      <td>3</td>\n",
       "      <td>3</td>\n",
       "      <td>0</td>\n",
       "      <td>0</td>\n",
       "      <td>4</td>\n",
       "      <td>1350</td>\n",
       "    </tr>\n",
       "    <tr>\n",
       "      <td>49</td>\n",
       "      <td>1006</td>\n",
       "      <td>2018-09-01</td>\n",
       "      <td>360</td>\n",
       "      <td>54</td>\n",
       "      <td>0</td>\n",
       "      <td>15521.53</td>\n",
       "      <td>21</td>\n",
       "      <td>NaT</td>\n",
       "      <td>Ульяновск</td>\n",
       "      <td>Леонид</td>\n",
       "      <td>Ермолаев</td>\n",
       "      <td>2018-02-26</td>\n",
       "      <td>smart</td>\n",
       "      <td>50</td>\n",
       "      <td>15360</td>\n",
       "      <td>500</td>\n",
       "      <td>550</td>\n",
       "      <td>200</td>\n",
       "      <td>3</td>\n",
       "      <td>3</td>\n",
       "      <td>0</td>\n",
       "      <td>0</td>\n",
       "      <td>1</td>\n",
       "      <td>750</td>\n",
       "    </tr>\n",
       "  </tbody>\n",
       "</table>\n",
       "</div>"
      ],
      "text/plain": [
       "    user_id      month  calls_duration_sum  calls_count  messages_count  \\\n",
       "0      1000 2018-05-01                 159           22              22   \n",
       "1      1000 2018-06-01                 172           43              60   \n",
       "2      1000 2018-07-01                 340           47              75   \n",
       "3      1000 2018-08-01                 408           52              81   \n",
       "4      1000 2018-09-01                 466           58              57   \n",
       "5      1000 2018-10-01                 350           57              73   \n",
       "6      1000 2018-11-01                 338           43              58   \n",
       "7      1000 2018-12-01                 333           46              70   \n",
       "8      1001 2018-11-01                 430           59               0   \n",
       "9      1001 2018-12-01                 414           63               0   \n",
       "10     1002 2018-06-01                 117           15               4   \n",
       "11     1002 2018-07-01                 214           26              11   \n",
       "12     1002 2018-08-01                 289           42              13   \n",
       "13     1002 2018-09-01                 206           36               4   \n",
       "14     1002 2018-10-01                 212           33              10   \n",
       "15     1002 2018-11-01                 243           32              16   \n",
       "16     1002 2018-12-01                 236           33              12   \n",
       "17     1003 2018-08-01                 380           55              37   \n",
       "18     1003 2018-09-01                 961          134              91   \n",
       "19     1003 2018-10-01                 855          108              83   \n",
       "20     1003 2018-11-01                 824          115              94   \n",
       "21     1003 2018-12-01                 802          108              75   \n",
       "22     1004 2018-05-01                  35            9              95   \n",
       "23     1004 2018-06-01                 171           31             134   \n",
       "24     1004 2018-07-01                 135           22             181   \n",
       "25     1004 2018-08-01                 137           19             151   \n",
       "26     1004 2018-09-01                 117           26             146   \n",
       "27     1004 2018-10-01                 145           29             165   \n",
       "28     1004 2018-11-01                 117           19             158   \n",
       "29     1004 2018-12-01                 130           21             162   \n",
       "30     1005 2018-01-01                  95           15               7   \n",
       "31     1005 2018-02-01                 456           69              38   \n",
       "32     1005 2018-03-01                 606           77              56   \n",
       "33     1005 2018-04-01                 712          101              41   \n",
       "34     1005 2018-05-01                 595           73              42   \n",
       "35     1005 2018-06-01                 612           80              47   \n",
       "36     1005 2018-07-01                 569           77              56   \n",
       "37     1005 2018-08-01                 619           71              64   \n",
       "38     1005 2018-09-01                 479           66              52   \n",
       "39     1005 2018-10-01                 723          100              44   \n",
       "40     1005 2018-11-01                 547           75              51   \n",
       "41     1005 2018-12-01                 592           84              54   \n",
       "42     1006 2018-02-01                  42            3               0   \n",
       "43     1006 2018-03-01                 286           46               0   \n",
       "44     1006 2018-04-01                 356           47               0   \n",
       "45     1006 2018-05-01                 370           56               0   \n",
       "46     1006 2018-06-01                 478           53               0   \n",
       "47     1006 2018-07-01                 316           49               0   \n",
       "48     1006 2018-08-01                 275           42               0   \n",
       "49     1006 2018-09-01                 360           54               0   \n",
       "\n",
       "    internet_mb_sum  age churn_date              city first_name  last_name  \\\n",
       "0           2253.49   52        NaT         Краснодар     Рафаил  Верещагин   \n",
       "1          23233.77   52        NaT         Краснодар     Рафаил  Верещагин   \n",
       "2          14003.64   52        NaT         Краснодар     Рафаил  Верещагин   \n",
       "3          14055.93   52        NaT         Краснодар     Рафаил  Верещагин   \n",
       "4          14568.91   52        NaT         Краснодар     Рафаил  Верещагин   \n",
       "5          14702.49   52        NaT         Краснодар     Рафаил  Верещагин   \n",
       "6          14756.47   52        NaT         Краснодар     Рафаил  Верещагин   \n",
       "7           9817.61   52        NaT         Краснодар     Рафаил  Верещагин   \n",
       "8          18429.34   41        NaT            Москва       Иван       Ежов   \n",
       "9          14036.66   41        NaT            Москва       Иван       Ежов   \n",
       "10         10856.82   59        NaT       Стерлитамак    Евгений  Абрамович   \n",
       "11         17580.10   59        NaT       Стерлитамак    Евгений  Абрамович   \n",
       "12         20319.26   59        NaT       Стерлитамак    Евгений  Абрамович   \n",
       "13         16691.08   59        NaT       Стерлитамак    Евгений  Абрамович   \n",
       "14         13888.25   59        NaT       Стерлитамак    Евгений  Абрамович   \n",
       "15         18587.28   59        NaT       Стерлитамак    Евгений  Абрамович   \n",
       "16         18113.73   59        NaT       Стерлитамак    Евгений  Абрамович   \n",
       "17          8565.21   23        NaT            Москва      Белла   Белякова   \n",
       "18         12468.87   23        NaT            Москва      Белла   Белякова   \n",
       "19         14768.14   23        NaT            Москва      Белла   Белякова   \n",
       "20         11356.89   23        NaT            Москва      Белла   Белякова   \n",
       "21         10121.53   23        NaT            Москва      Белла   Белякова   \n",
       "22         13403.98   68        NaT       Новокузнецк    Татьяна   Авдеенко   \n",
       "23         17600.02   68        NaT       Новокузнецк    Татьяна   Авдеенко   \n",
       "24         22229.58   68        NaT       Новокузнецк    Татьяна   Авдеенко   \n",
       "25         28584.37   68        NaT       Новокузнецк    Татьяна   Авдеенко   \n",
       "26         15109.03   68        NaT       Новокузнецк    Татьяна   Авдеенко   \n",
       "27         18475.44   68        NaT       Новокузнецк    Татьяна   Авдеенко   \n",
       "28         15616.02   68        NaT       Новокузнецк    Татьяна   Авдеенко   \n",
       "29         18021.04   68        NaT       Новокузнецк    Татьяна   Авдеенко   \n",
       "30          2727.97   67        NaT  Набережные Челны   Афанасий     Горлов   \n",
       "31          7383.93   67        NaT  Набережные Челны   Афанасий     Горлов   \n",
       "32         11104.25   67        NaT  Набережные Челны   Афанасий     Горлов   \n",
       "33          9351.72   67        NaT  Набережные Челны   Афанасий     Горлов   \n",
       "34          7865.53   67        NaT  Набережные Челны   Афанасий     Горлов   \n",
       "35          9863.19   67        NaT  Набережные Челны   Афанасий     Горлов   \n",
       "36          7694.56   67        NaT  Набережные Челны   Афанасий     Горлов   \n",
       "37          7543.63   67        NaT  Набережные Челны   Афанасий     Горлов   \n",
       "38          7016.46   67        NaT  Набережные Челны   Афанасий     Горлов   \n",
       "39          7800.93   67        NaT  Набережные Челны   Афанасий     Горлов   \n",
       "40         12666.95   67        NaT  Набережные Челны   Афанасий     Горлов   \n",
       "41          8668.19   67        NaT  Набережные Челны   Афанасий     Горлов   \n",
       "42          1392.15   21        NaT         Ульяновск     Леонид   Ермолаев   \n",
       "43         17287.93   21        NaT         Ульяновск     Леонид   Ермолаев   \n",
       "44         13936.70   21        NaT         Ульяновск     Леонид   Ермолаев   \n",
       "45         12965.41   21        NaT         Ульяновск     Леонид   Ермолаев   \n",
       "46         12371.66   21        NaT         Ульяновск     Леонид   Ермолаев   \n",
       "47         19977.60   21        NaT         Ульяновск     Леонид   Ермолаев   \n",
       "48         19303.71   21        NaT         Ульяновск     Леонид   Ермолаев   \n",
       "49         15521.53   21        NaT         Ульяновск     Леонид   Ермолаев   \n",
       "\n",
       "     reg_date tariff  messages_included  mb_per_month_included  \\\n",
       "0  2018-05-25  ultra               1000                  30720   \n",
       "1  2018-05-25  ultra               1000                  30720   \n",
       "2  2018-05-25  ultra               1000                  30720   \n",
       "3  2018-05-25  ultra               1000                  30720   \n",
       "4  2018-05-25  ultra               1000                  30720   \n",
       "5  2018-05-25  ultra               1000                  30720   \n",
       "6  2018-05-25  ultra               1000                  30720   \n",
       "7  2018-05-25  ultra               1000                  30720   \n",
       "8  2018-11-01  smart                 50                  15360   \n",
       "9  2018-11-01  smart                 50                  15360   \n",
       "10 2018-06-17  smart                 50                  15360   \n",
       "11 2018-06-17  smart                 50                  15360   \n",
       "12 2018-06-17  smart                 50                  15360   \n",
       "13 2018-06-17  smart                 50                  15360   \n",
       "14 2018-06-17  smart                 50                  15360   \n",
       "15 2018-06-17  smart                 50                  15360   \n",
       "16 2018-06-17  smart                 50                  15360   \n",
       "17 2018-08-17  ultra               1000                  30720   \n",
       "18 2018-08-17  ultra               1000                  30720   \n",
       "19 2018-08-17  ultra               1000                  30720   \n",
       "20 2018-08-17  ultra               1000                  30720   \n",
       "21 2018-08-17  ultra               1000                  30720   \n",
       "22 2018-05-14  ultra               1000                  30720   \n",
       "23 2018-05-14  ultra               1000                  30720   \n",
       "24 2018-05-14  ultra               1000                  30720   \n",
       "25 2018-05-14  ultra               1000                  30720   \n",
       "26 2018-05-14  ultra               1000                  30720   \n",
       "27 2018-05-14  ultra               1000                  30720   \n",
       "28 2018-05-14  ultra               1000                  30720   \n",
       "29 2018-05-14  ultra               1000                  30720   \n",
       "30 2018-01-25  smart                 50                  15360   \n",
       "31 2018-01-25  smart                 50                  15360   \n",
       "32 2018-01-25  smart                 50                  15360   \n",
       "33 2018-01-25  smart                 50                  15360   \n",
       "34 2018-01-25  smart                 50                  15360   \n",
       "35 2018-01-25  smart                 50                  15360   \n",
       "36 2018-01-25  smart                 50                  15360   \n",
       "37 2018-01-25  smart                 50                  15360   \n",
       "38 2018-01-25  smart                 50                  15360   \n",
       "39 2018-01-25  smart                 50                  15360   \n",
       "40 2018-01-25  smart                 50                  15360   \n",
       "41 2018-01-25  smart                 50                  15360   \n",
       "42 2018-02-26  smart                 50                  15360   \n",
       "43 2018-02-26  smart                 50                  15360   \n",
       "44 2018-02-26  smart                 50                  15360   \n",
       "45 2018-02-26  smart                 50                  15360   \n",
       "46 2018-02-26  smart                 50                  15360   \n",
       "47 2018-02-26  smart                 50                  15360   \n",
       "48 2018-02-26  smart                 50                  15360   \n",
       "49 2018-02-26  smart                 50                  15360   \n",
       "\n",
       "    minutes_included  rub_monthly_fee  rub_per_gb  rub_per_message  \\\n",
       "0               3000             1950         150                1   \n",
       "1               3000             1950         150                1   \n",
       "2               3000             1950         150                1   \n",
       "3               3000             1950         150                1   \n",
       "4               3000             1950         150                1   \n",
       "5               3000             1950         150                1   \n",
       "6               3000             1950         150                1   \n",
       "7               3000             1950         150                1   \n",
       "8                500              550         200                3   \n",
       "9                500              550         200                3   \n",
       "10               500              550         200                3   \n",
       "11               500              550         200                3   \n",
       "12               500              550         200                3   \n",
       "13               500              550         200                3   \n",
       "14               500              550         200                3   \n",
       "15               500              550         200                3   \n",
       "16               500              550         200                3   \n",
       "17              3000             1950         150                1   \n",
       "18              3000             1950         150                1   \n",
       "19              3000             1950         150                1   \n",
       "20              3000             1950         150                1   \n",
       "21              3000             1950         150                1   \n",
       "22              3000             1950         150                1   \n",
       "23              3000             1950         150                1   \n",
       "24              3000             1950         150                1   \n",
       "25              3000             1950         150                1   \n",
       "26              3000             1950         150                1   \n",
       "27              3000             1950         150                1   \n",
       "28              3000             1950         150                1   \n",
       "29              3000             1950         150                1   \n",
       "30               500              550         200                3   \n",
       "31               500              550         200                3   \n",
       "32               500              550         200                3   \n",
       "33               500              550         200                3   \n",
       "34               500              550         200                3   \n",
       "35               500              550         200                3   \n",
       "36               500              550         200                3   \n",
       "37               500              550         200                3   \n",
       "38               500              550         200                3   \n",
       "39               500              550         200                3   \n",
       "40               500              550         200                3   \n",
       "41               500              550         200                3   \n",
       "42               500              550         200                3   \n",
       "43               500              550         200                3   \n",
       "44               500              550         200                3   \n",
       "45               500              550         200                3   \n",
       "46               500              550         200                3   \n",
       "47               500              550         200                3   \n",
       "48               500              550         200                3   \n",
       "49               500              550         200                3   \n",
       "\n",
       "    rub_per_minute  minutes_overrun  messages_overrun  internet_gb_overrun  \\\n",
       "0                1                0                 0                    0   \n",
       "1                1                0                 0                    0   \n",
       "2                1                0                 0                    0   \n",
       "3                1                0                 0                    0   \n",
       "4                1                0                 0                    0   \n",
       "5                1                0                 0                    0   \n",
       "6                1                0                 0                    0   \n",
       "7                1                0                 0                    0   \n",
       "8                3                0                 0                    3   \n",
       "9                3                0                 0                    0   \n",
       "10               3                0                 0                    0   \n",
       "11               3                0                 0                    3   \n",
       "12               3                0                 0                    5   \n",
       "13               3                0                 0                    2   \n",
       "14               3                0                 0                    0   \n",
       "15               3                0                 0                    4   \n",
       "16               3                0                 0                    3   \n",
       "17               1                0                 0                    0   \n",
       "18               1                0                 0                    0   \n",
       "19               1                0                 0                    0   \n",
       "20               1                0                 0                    0   \n",
       "21               1                0                 0                    0   \n",
       "22               1                0                 0                    0   \n",
       "23               1                0                 0                    0   \n",
       "24               1                0                 0                    0   \n",
       "25               1                0                 0                    0   \n",
       "26               1                0                 0                    0   \n",
       "27               1                0                 0                    0   \n",
       "28               1                0                 0                    0   \n",
       "29               1                0                 0                    0   \n",
       "30               3                0                 0                    0   \n",
       "31               3                0                 0                    0   \n",
       "32               3              106                 6                    0   \n",
       "33               3              212                 0                    0   \n",
       "34               3               95                 0                    0   \n",
       "35               3              112                 0                    0   \n",
       "36               3               69                 6                    0   \n",
       "37               3              119                14                    0   \n",
       "38               3                0                 2                    0   \n",
       "39               3              223                 0                    0   \n",
       "40               3               47                 1                    0   \n",
       "41               3               92                 4                    0   \n",
       "42               3                0                 0                    0   \n",
       "43               3                0                 0                    2   \n",
       "44               3                0                 0                    0   \n",
       "45               3                0                 0                    0   \n",
       "46               3                0                 0                    0   \n",
       "47               3                0                 0                    5   \n",
       "48               3                0                 0                    4   \n",
       "49               3                0                 0                    1   \n",
       "\n",
       "    revenue_per_month  \n",
       "0                1950  \n",
       "1                1950  \n",
       "2                1950  \n",
       "3                1950  \n",
       "4                1950  \n",
       "5                1950  \n",
       "6                1950  \n",
       "7                1950  \n",
       "8                1150  \n",
       "9                 550  \n",
       "10                550  \n",
       "11               1150  \n",
       "12               1550  \n",
       "13                950  \n",
       "14                550  \n",
       "15               1350  \n",
       "16               1150  \n",
       "17               1950  \n",
       "18               1950  \n",
       "19               1950  \n",
       "20               1950  \n",
       "21               1950  \n",
       "22               1950  \n",
       "23               1950  \n",
       "24               1950  \n",
       "25               1950  \n",
       "26               1950  \n",
       "27               1950  \n",
       "28               1950  \n",
       "29               1950  \n",
       "30                550  \n",
       "31                550  \n",
       "32                886  \n",
       "33               1186  \n",
       "34                835  \n",
       "35                886  \n",
       "36                775  \n",
       "37                949  \n",
       "38                556  \n",
       "39               1219  \n",
       "40                694  \n",
       "41                838  \n",
       "42                550  \n",
       "43                950  \n",
       "44                550  \n",
       "45                550  \n",
       "46                550  \n",
       "47               1550  \n",
       "48               1350  \n",
       "49                750  "
      ]
     },
     "execution_count": 26,
     "metadata": {},
     "output_type": "execute_result"
    }
   ],
   "source": [
    "df.head(50)"
   ]
  },
  {
   "cell_type": "code",
   "execution_count": 27,
   "metadata": {
    "scrolled": true
   },
   "outputs": [
    {
     "data": {
      "text/html": [
       "<div>\n",
       "<style scoped>\n",
       "    .dataframe tbody tr th:only-of-type {\n",
       "        vertical-align: middle;\n",
       "    }\n",
       "\n",
       "    .dataframe tbody tr th {\n",
       "        vertical-align: top;\n",
       "    }\n",
       "\n",
       "    .dataframe thead th {\n",
       "        text-align: right;\n",
       "    }\n",
       "</style>\n",
       "<table border=\"1\" class=\"dataframe\">\n",
       "  <thead>\n",
       "    <tr style=\"text-align: right;\">\n",
       "      <th></th>\n",
       "      <th>user_id</th>\n",
       "      <th>month</th>\n",
       "      <th>calls_duration_sum</th>\n",
       "      <th>calls_count</th>\n",
       "      <th>messages_count</th>\n",
       "      <th>internet_mb_sum</th>\n",
       "      <th>city</th>\n",
       "      <th>tariff</th>\n",
       "      <th>minutes_overrun</th>\n",
       "      <th>messages_overrun</th>\n",
       "      <th>internet_gb_overrun</th>\n",
       "      <th>revenue_per_month</th>\n",
       "    </tr>\n",
       "  </thead>\n",
       "  <tbody>\n",
       "    <tr>\n",
       "      <td>0</td>\n",
       "      <td>1000</td>\n",
       "      <td>2018-05-01</td>\n",
       "      <td>159</td>\n",
       "      <td>22</td>\n",
       "      <td>22</td>\n",
       "      <td>2253.49</td>\n",
       "      <td>Краснодар</td>\n",
       "      <td>ultra</td>\n",
       "      <td>0</td>\n",
       "      <td>0</td>\n",
       "      <td>0</td>\n",
       "      <td>1950</td>\n",
       "    </tr>\n",
       "    <tr>\n",
       "      <td>1</td>\n",
       "      <td>1000</td>\n",
       "      <td>2018-06-01</td>\n",
       "      <td>172</td>\n",
       "      <td>43</td>\n",
       "      <td>60</td>\n",
       "      <td>23233.77</td>\n",
       "      <td>Краснодар</td>\n",
       "      <td>ultra</td>\n",
       "      <td>0</td>\n",
       "      <td>0</td>\n",
       "      <td>0</td>\n",
       "      <td>1950</td>\n",
       "    </tr>\n",
       "    <tr>\n",
       "      <td>2</td>\n",
       "      <td>1000</td>\n",
       "      <td>2018-07-01</td>\n",
       "      <td>340</td>\n",
       "      <td>47</td>\n",
       "      <td>75</td>\n",
       "      <td>14003.64</td>\n",
       "      <td>Краснодар</td>\n",
       "      <td>ultra</td>\n",
       "      <td>0</td>\n",
       "      <td>0</td>\n",
       "      <td>0</td>\n",
       "      <td>1950</td>\n",
       "    </tr>\n",
       "    <tr>\n",
       "      <td>3</td>\n",
       "      <td>1000</td>\n",
       "      <td>2018-08-01</td>\n",
       "      <td>408</td>\n",
       "      <td>52</td>\n",
       "      <td>81</td>\n",
       "      <td>14055.93</td>\n",
       "      <td>Краснодар</td>\n",
       "      <td>ultra</td>\n",
       "      <td>0</td>\n",
       "      <td>0</td>\n",
       "      <td>0</td>\n",
       "      <td>1950</td>\n",
       "    </tr>\n",
       "    <tr>\n",
       "      <td>4</td>\n",
       "      <td>1000</td>\n",
       "      <td>2018-09-01</td>\n",
       "      <td>466</td>\n",
       "      <td>58</td>\n",
       "      <td>57</td>\n",
       "      <td>14568.91</td>\n",
       "      <td>Краснодар</td>\n",
       "      <td>ultra</td>\n",
       "      <td>0</td>\n",
       "      <td>0</td>\n",
       "      <td>0</td>\n",
       "      <td>1950</td>\n",
       "    </tr>\n",
       "  </tbody>\n",
       "</table>\n",
       "</div>"
      ],
      "text/plain": [
       "   user_id      month  calls_duration_sum  calls_count  messages_count  \\\n",
       "0     1000 2018-05-01                 159           22              22   \n",
       "1     1000 2018-06-01                 172           43              60   \n",
       "2     1000 2018-07-01                 340           47              75   \n",
       "3     1000 2018-08-01                 408           52              81   \n",
       "4     1000 2018-09-01                 466           58              57   \n",
       "\n",
       "   internet_mb_sum       city tariff  minutes_overrun  messages_overrun  \\\n",
       "0          2253.49  Краснодар  ultra                0                 0   \n",
       "1         23233.77  Краснодар  ultra                0                 0   \n",
       "2         14003.64  Краснодар  ultra                0                 0   \n",
       "3         14055.93  Краснодар  ultra                0                 0   \n",
       "4         14568.91  Краснодар  ultra                0                 0   \n",
       "\n",
       "   internet_gb_overrun  revenue_per_month  \n",
       "0                    0               1950  \n",
       "1                    0               1950  \n",
       "2                    0               1950  \n",
       "3                    0               1950  \n",
       "4                    0               1950  "
      ]
     },
     "execution_count": 27,
     "metadata": {},
     "output_type": "execute_result"
    }
   ],
   "source": [
    "df = df.drop([\n",
    "    'age', \n",
    "    'churn_date', \n",
    "    'first_name', \n",
    "    'last_name', \n",
    "    'reg_date', \n",
    "    'messages_included', \n",
    "    'mb_per_month_included', \n",
    "    'minutes_included', \n",
    "    'rub_monthly_fee',\n",
    "    'rub_per_gb',\n",
    "    'rub_per_message',\n",
    "    'rub_per_minute'\n",
    "    \n",
    "], axis=1)\n",
    "\n",
    "df.head()"
   ]
  },
  {
   "cell_type": "markdown",
   "metadata": {},
   "source": [
    "### Вывод"
   ]
  },
  {
   "cell_type": "markdown",
   "metadata": {},
   "source": [
    "В данном пункте мы проделали большую работу над первоначальными данными. \n",
    "Во-первых, изменили типы данных на корректные, где это было необходимо. Удалили лишние столбцы, а также добавили необходимые для дальнейшего исследования. \n",
    "Далее, мы сгруппироали данные по пользователем и по месяцам, тем самым выяснили сколько каждый пользователь в месяц пользовался услугами (звонки, смс, интернет). После этого мы собрали все исходные датасаеты в один единый.\n",
    "После всего этого, была рассчитана помесячная выручка с каждого пользователя. "
   ]
  },
  {
   "cell_type": "markdown",
   "metadata": {},
   "source": [
    "## Анализ данных"
   ]
  },
  {
   "cell_type": "markdown",
   "metadata": {},
   "source": [
    "Для начала общей датасет разделим на два других по тарифу: `smart` и `ultra`."
   ]
  },
  {
   "cell_type": "code",
   "execution_count": 28,
   "metadata": {},
   "outputs": [],
   "source": [
    "df_smart = df[df['tariff'] == 'smart']\n",
    "df_ultra = df[df['tariff'] == 'ultra']"
   ]
  },
  {
   "cell_type": "markdown",
   "metadata": {},
   "source": [
    "Далее проведём исследование по тарифам."
   ]
  },
  {
   "cell_type": "markdown",
   "metadata": {},
   "source": [
    "### Тариф \"Smart\""
   ]
  },
  {
   "cell_type": "markdown",
   "metadata": {},
   "source": [
    "Создадим таблицу с описателльной статистикой для продолжительности звонков, количества смс и использованного интернет-трафика."
   ]
  },
  {
   "cell_type": "code",
   "execution_count": 29,
   "metadata": {},
   "outputs": [
    {
     "data": {
      "text/html": [
       "<div>\n",
       "<style scoped>\n",
       "    .dataframe tbody tr th:only-of-type {\n",
       "        vertical-align: middle;\n",
       "    }\n",
       "\n",
       "    .dataframe tbody tr th {\n",
       "        vertical-align: top;\n",
       "    }\n",
       "\n",
       "    .dataframe thead th {\n",
       "        text-align: right;\n",
       "    }\n",
       "</style>\n",
       "<table border=\"1\" class=\"dataframe\">\n",
       "  <thead>\n",
       "    <tr style=\"text-align: right;\">\n",
       "      <th></th>\n",
       "      <th>calls_duration_sum</th>\n",
       "      <th>messages_count</th>\n",
       "      <th>internet_mb_sum</th>\n",
       "    </tr>\n",
       "  </thead>\n",
       "  <tbody>\n",
       "    <tr>\n",
       "      <td>count</td>\n",
       "      <td>2229.000000</td>\n",
       "      <td>2229.000000</td>\n",
       "      <td>2229.000000</td>\n",
       "    </tr>\n",
       "    <tr>\n",
       "      <td>mean</td>\n",
       "      <td>417.934948</td>\n",
       "      <td>33.384029</td>\n",
       "      <td>16208.386990</td>\n",
       "    </tr>\n",
       "    <tr>\n",
       "      <td>std</td>\n",
       "      <td>190.313730</td>\n",
       "      <td>28.227876</td>\n",
       "      <td>5870.476681</td>\n",
       "    </tr>\n",
       "    <tr>\n",
       "      <td>min</td>\n",
       "      <td>0.000000</td>\n",
       "      <td>0.000000</td>\n",
       "      <td>0.000000</td>\n",
       "    </tr>\n",
       "    <tr>\n",
       "      <td>25%</td>\n",
       "      <td>282.000000</td>\n",
       "      <td>10.000000</td>\n",
       "      <td>12643.010000</td>\n",
       "    </tr>\n",
       "    <tr>\n",
       "      <td>50%</td>\n",
       "      <td>422.000000</td>\n",
       "      <td>28.000000</td>\n",
       "      <td>16506.840000</td>\n",
       "    </tr>\n",
       "    <tr>\n",
       "      <td>75%</td>\n",
       "      <td>545.000000</td>\n",
       "      <td>51.000000</td>\n",
       "      <td>20042.930000</td>\n",
       "    </tr>\n",
       "    <tr>\n",
       "      <td>max</td>\n",
       "      <td>1435.000000</td>\n",
       "      <td>143.000000</td>\n",
       "      <td>38552.450000</td>\n",
       "    </tr>\n",
       "  </tbody>\n",
       "</table>\n",
       "</div>"
      ],
      "text/plain": [
       "       calls_duration_sum  messages_count  internet_mb_sum\n",
       "count         2229.000000     2229.000000      2229.000000\n",
       "mean           417.934948       33.384029     16208.386990\n",
       "std            190.313730       28.227876      5870.476681\n",
       "min              0.000000        0.000000         0.000000\n",
       "25%            282.000000       10.000000     12643.010000\n",
       "50%            422.000000       28.000000     16506.840000\n",
       "75%            545.000000       51.000000     20042.930000\n",
       "max           1435.000000      143.000000     38552.450000"
      ]
     },
     "execution_count": 29,
     "metadata": {},
     "output_type": "execute_result"
    }
   ],
   "source": [
    "df_smart[['calls_duration_sum', 'messages_count', 'internet_mb_sum']].describe()"
   ]
  },
  {
   "cell_type": "markdown",
   "metadata": {},
   "source": [
    "Для каждого параметра посторим гистограмму."
   ]
  },
  {
   "cell_type": "code",
   "execution_count": 30,
   "metadata": {},
   "outputs": [
    {
     "data": {
      "image/png": "[encoded data removed]",
      "text/plain": [
       "<Figure size 432x288 with 1 Axes>"
      ]
     },
     "metadata": {
      "needs_background": "light"
     },
     "output_type": "display_data"
    }
   ],
   "source": [
    "df_smart.hist('calls_duration_sum', color='yellowgreen')\n",
    "plt.show()"
   ]
  },
  {
   "cell_type": "code",
   "execution_count": 31,
   "metadata": {},
   "outputs": [
    {
     "data": {
      "image/png": "[encoded data removed]",
      "text/plain": [
       "<Figure size 432x288 with 1 Axes>"
      ]
     },
     "metadata": {
      "needs_background": "light"
     },
     "output_type": "display_data"
    }
   ],
   "source": [
    "df_smart.hist('messages_count', bins=15, range=(1, 150), color='yellowgreen')\n",
    "plt.show()"
   ]
  },
  {
   "cell_type": "code",
   "execution_count": 32,
   "metadata": {},
   "outputs": [
    {
     "data": {
      "image/png": "[encoded data removed]",
      "text/plain": [
       "<Figure size 432x288 with 1 Axes>"
      ]
     },
     "metadata": {
      "needs_background": "light"
     },
     "output_type": "display_data"
    }
   ],
   "source": [
    "df_smart.hist('internet_mb_sum', color='yellowgreen')\n",
    "plt.show()"
   ]
  },
  {
   "cell_type": "markdown",
   "metadata": {},
   "source": [
    "Посчитаем необходмые параметры:"
   ]
  },
  {
   "cell_type": "code",
   "execution_count": 33,
   "metadata": {
    "scrolled": true
   },
   "outputs": [
    {
     "name": "stdout",
     "output_type": "stream",
     "text": [
      "Тариф smart, в среднем за месяц:\n",
      "\n",
      "Минут разговора: 417\n",
      "Сообщений: 33\n",
      "Мегабайт интернета: 16208\n",
      "\n",
      "Дисперсия минут разговора: 36219.32\n",
      "Дисперсия сообщений: 796.81\n",
      "Дисперсия мегабайт интернета: 34462496.46\n",
      "\n",
      "Стандартное отклонение минут разговора: 190.31\n",
      "Стандартное отклонение сообщений: 28.23\n",
      "Стандартное отклонение мегабайт интернета: 5870.48\n"
     ]
    }
   ],
   "source": [
    "print('Тариф smart, в среднем за месяц:')\n",
    "print('')\n",
    "print('Минут разговора:', int(df_smart['calls_duration_sum'].mean()))\n",
    "print('Сообщений:', int(df_smart['messages_count'].mean()))\n",
    "print('Мегабайт интернета:', int(df_smart['internet_mb_sum'].mean()))\n",
    "print('')\n",
    "print('Дисперсия минут разговора:', (df_smart['calls_duration_sum'].describe()['std'] ** 2).round(2))\n",
    "print('Дисперсия сообщений:', (df_smart['messages_count'].describe()['std'] ** 2).round(2))\n",
    "print('Дисперсия мегабайт интернета:', (df_smart['internet_mb_sum'].describe()['std'] ** 2).round(2))\n",
    "print('')\n",
    "print('Стандартное отклонение минут разговора:', (df_smart['calls_duration_sum'].describe()['std']).round(2))\n",
    "print('Стандартное отклонение сообщений:', (df_smart['messages_count'].describe()['std']).round(2))\n",
    "print('Стандартное отклонение мегабайт интернета:', (df_smart['internet_mb_sum'].describe()['std']).round(2))"
   ]
  },
  {
   "cell_type": "markdown",
   "metadata": {},
   "source": [
    "Построим матрицу рассеивания:"
   ]
  },
  {
   "cell_type": "code",
   "execution_count": 34,
   "metadata": {},
   "outputs": [
    {
     "data": {
      "image/png": "[encoded data removed]",
      "text/plain": [
       "<Figure size 720x720 with 9 Axes>"
      ]
     },
     "metadata": {
      "needs_background": "light"
     },
     "output_type": "display_data"
    }
   ],
   "source": [
    "pd.plotting.scatter_matrix(\n",
    "    df_smart[['calls_duration_sum', 'messages_count', 'internet_mb_sum']], \n",
    "    alpha = 0.3, \n",
    "    figsize = (10,10),\n",
    "    color='yellowgreen'\n",
    ")\n",
    "plt.show()"
   ]
  },
  {
   "cell_type": "markdown",
   "metadata": {},
   "source": [
    "**Вывод**\n",
    "\n",
    "Распределения тарифа \"Smart\":\n",
    "\n",
    "1. Количество минут - нормальное\n",
    "2. Количество сообщений - распределение Пуассона\n",
    "3. Количесво интернет-трафика - нормальное"
   ]
  },
  {
   "cell_type": "markdown",
   "metadata": {},
   "source": [
    "### Тариф \"Ultra\""
   ]
  },
  {
   "cell_type": "markdown",
   "metadata": {},
   "source": [
    "Создадим таблицу с описателльной статистикой для продолжительности звонков, количества смс и использованного интернет-трафика."
   ]
  },
  {
   "cell_type": "code",
   "execution_count": 35,
   "metadata": {
    "scrolled": true
   },
   "outputs": [
    {
     "data": {
      "text/html": [
       "<div>\n",
       "<style scoped>\n",
       "    .dataframe tbody tr th:only-of-type {\n",
       "        vertical-align: middle;\n",
       "    }\n",
       "\n",
       "    .dataframe tbody tr th {\n",
       "        vertical-align: top;\n",
       "    }\n",
       "\n",
       "    .dataframe thead th {\n",
       "        text-align: right;\n",
       "    }\n",
       "</style>\n",
       "<table border=\"1\" class=\"dataframe\">\n",
       "  <thead>\n",
       "    <tr style=\"text-align: right;\">\n",
       "      <th></th>\n",
       "      <th>calls_duration_sum</th>\n",
       "      <th>messages_count</th>\n",
       "      <th>internet_mb_sum</th>\n",
       "    </tr>\n",
       "  </thead>\n",
       "  <tbody>\n",
       "    <tr>\n",
       "      <td>count</td>\n",
       "      <td>985.000000</td>\n",
       "      <td>985.000000</td>\n",
       "      <td>985.000000</td>\n",
       "    </tr>\n",
       "    <tr>\n",
       "      <td>mean</td>\n",
       "      <td>526.623350</td>\n",
       "      <td>49.363452</td>\n",
       "      <td>19468.805208</td>\n",
       "    </tr>\n",
       "    <tr>\n",
       "      <td>std</td>\n",
       "      <td>317.606098</td>\n",
       "      <td>47.804457</td>\n",
       "      <td>10087.170752</td>\n",
       "    </tr>\n",
       "    <tr>\n",
       "      <td>min</td>\n",
       "      <td>0.000000</td>\n",
       "      <td>0.000000</td>\n",
       "      <td>0.000000</td>\n",
       "    </tr>\n",
       "    <tr>\n",
       "      <td>25%</td>\n",
       "      <td>284.000000</td>\n",
       "      <td>6.000000</td>\n",
       "      <td>11770.260000</td>\n",
       "    </tr>\n",
       "    <tr>\n",
       "      <td>50%</td>\n",
       "      <td>518.000000</td>\n",
       "      <td>38.000000</td>\n",
       "      <td>19308.010000</td>\n",
       "    </tr>\n",
       "    <tr>\n",
       "      <td>75%</td>\n",
       "      <td>752.000000</td>\n",
       "      <td>79.000000</td>\n",
       "      <td>26837.690000</td>\n",
       "    </tr>\n",
       "    <tr>\n",
       "      <td>max</td>\n",
       "      <td>1673.000000</td>\n",
       "      <td>224.000000</td>\n",
       "      <td>49745.690000</td>\n",
       "    </tr>\n",
       "  </tbody>\n",
       "</table>\n",
       "</div>"
      ],
      "text/plain": [
       "       calls_duration_sum  messages_count  internet_mb_sum\n",
       "count          985.000000      985.000000       985.000000\n",
       "mean           526.623350       49.363452     19468.805208\n",
       "std            317.606098       47.804457     10087.170752\n",
       "min              0.000000        0.000000         0.000000\n",
       "25%            284.000000        6.000000     11770.260000\n",
       "50%            518.000000       38.000000     19308.010000\n",
       "75%            752.000000       79.000000     26837.690000\n",
       "max           1673.000000      224.000000     49745.690000"
      ]
     },
     "execution_count": 35,
     "metadata": {},
     "output_type": "execute_result"
    }
   ],
   "source": [
    "df_ultra[['calls_duration_sum', 'messages_count', 'internet_mb_sum']].describe()"
   ]
  },
  {
   "cell_type": "markdown",
   "metadata": {},
   "source": [
    "Для каждого параметра посторим гистограмму."
   ]
  },
  {
   "cell_type": "code",
   "execution_count": 36,
   "metadata": {},
   "outputs": [
    {
     "data": {
      "image/png": "[encoded data removed]",
      "text/plain": [
       "<Figure size 432x288 with 1 Axes>"
      ]
     },
     "metadata": {
      "needs_background": "light"
     },
     "output_type": "display_data"
    }
   ],
   "source": [
    "df_ultra.hist('calls_duration_sum', color='darkorchid')\n",
    "plt.show()"
   ]
  },
  {
   "cell_type": "code",
   "execution_count": 37,
   "metadata": {},
   "outputs": [
    {
     "data": {
      "image/png": "[encoded data removed]",
      "text/plain": [
       "<Figure size 432x288 with 1 Axes>"
      ]
     },
     "metadata": {
      "needs_background": "light"
     },
     "output_type": "display_data"
    }
   ],
   "source": [
    "df_ultra.hist('messages_count', bins=15, range=(1, 150), color='darkorchid')\n",
    "plt.show()"
   ]
  },
  {
   "cell_type": "code",
   "execution_count": 38,
   "metadata": {
    "scrolled": true
   },
   "outputs": [
    {
     "data": {
      "image/png": "[encoded data removed]",
      "text/plain": [
       "<Figure size 432x288 with 1 Axes>"
      ]
     },
     "metadata": {
      "needs_background": "light"
     },
     "output_type": "display_data"
    }
   ],
   "source": [
    "df_ultra.hist('internet_mb_sum', color='darkorchid')\n",
    "plt.show()"
   ]
  },
  {
   "cell_type": "markdown",
   "metadata": {},
   "source": [
    "Посчитаем необходмые параметры:"
   ]
  },
  {
   "cell_type": "code",
   "execution_count": 39,
   "metadata": {
    "scrolled": true
   },
   "outputs": [
    {
     "name": "stdout",
     "output_type": "stream",
     "text": [
      "Тариф ultra, в среднем за месяц:\n",
      "\n",
      "Минут разговора: 526\n",
      "Сообщений: 49\n",
      "Мегабайт интернета: 19468\n",
      "\n",
      "Дисперсия минут разговора: 100873.63\n",
      "Дисперсия сообщений: 2285.27\n",
      "Дисперсия мегабайт интернета: 101751013.78\n",
      "\n",
      "Стандартное отклонение минут разговора: 317.61\n",
      "Стандартное отклонение сообщений: 47.8\n",
      "Стандартное отклонение мегабайт интернета: 10087.17\n"
     ]
    }
   ],
   "source": [
    "print('Тариф ultra, в среднем за месяц:')\n",
    "print('')\n",
    "print('Минут разговора:', int(df_ultra['calls_duration_sum'].mean()))\n",
    "print('Сообщений:', int(df_ultra['messages_count'].mean()))\n",
    "print('Мегабайт интернета:', int(df_ultra['internet_mb_sum'].mean()))\n",
    "print('')\n",
    "print('Дисперсия минут разговора:', (df_ultra['calls_duration_sum'].describe()['std'] ** 2).round(2))\n",
    "print('Дисперсия сообщений:', (df_ultra['messages_count'].describe()['std'] ** 2).round(2))\n",
    "print('Дисперсия мегабайт интернета:', (df_ultra['internet_mb_sum'].describe()['std'] ** 2).round(2))\n",
    "print('')\n",
    "print('Стандартное отклонение минут разговора:', (df_ultra['calls_duration_sum'].describe()['std']).round(2))\n",
    "print('Стандартное отклонение сообщений:', (df_ultra['messages_count'].describe()['std']).round(2))\n",
    "print('Стандартное отклонение мегабайт интернета:', (df_ultra['internet_mb_sum'].describe()['std']).round(2))"
   ]
  },
  {
   "cell_type": "markdown",
   "metadata": {},
   "source": [
    "Построим матрицу рассеивания:"
   ]
  },
  {
   "cell_type": "code",
   "execution_count": 40,
   "metadata": {
    "scrolled": false
   },
   "outputs": [
    {
     "data": {
      "image/png": "[encoded data removed]",
      "text/plain": [
       "<Figure size 720x720 with 9 Axes>"
      ]
     },
     "metadata": {
      "needs_background": "light"
     },
     "output_type": "display_data"
    }
   ],
   "source": [
    "pd.plotting.scatter_matrix(\n",
    "    df_ultra[['calls_duration_sum', 'messages_count', 'internet_mb_sum']], \n",
    "    alpha = 0.3, \n",
    "    figsize = (10,10),\n",
    "    color=['darkorchid']\n",
    ")\n",
    "plt.show()"
   ]
  },
  {
   "cell_type": "markdown",
   "metadata": {},
   "source": [
    "**Вывод**\n",
    "\n",
    "Распределения тарифа \"Ultra:\n",
    "\n",
    "1. Количество минут - нормальное\n",
    "2. Количество сообщений - распределение Пуассона\n",
    "3. Количесво интернет-трафика - нормальное"
   ]
  },
  {
   "cell_type": "markdown",
   "metadata": {},
   "source": [
    "### Вывод"
   ]
  },
  {
   "cell_type": "markdown",
   "metadata": {},
   "source": [
    "В данном пункте мы проанализировали данные по тарифам в месяц. \n",
    "\n",
    "Для пользователей тарифа smart в среднем необходимо чуть больше 400 минут, 33 сообщения и 16000 мегабайт интернета. А вот пользователем тарифа ultra необходимо около 550 минут разговора, 49 сообщений и 19500 мегабайт интернета. \n",
    "\n",
    "Для каждого параметра по тарифам была построена гистограмма, таблица с описательной статистикой, матрица рассеивания. Также было описано распределение.\n"
   ]
  },
  {
   "cell_type": "markdown",
   "metadata": {},
   "source": [
    "## Проверка гипотез "
   ]
  },
  {
   "cell_type": "markdown",
   "metadata": {},
   "source": [
    "### Гипотеза № 1.  Средняя выручка пользователей тарифов \"Ультра\" и \"Смарт\" различаются"
   ]
  },
  {
   "cell_type": "markdown",
   "metadata": {},
   "source": [
    "Нулевая гипотеза: средняя выручка пользователей тарифов \"Ультра\" и \"Смарт\" равны.\n",
    "\n",
    "Тогда альтернативная гипотеза будет звучать так:  средняя выручка пользователей тарифов \"Ультра\" и \"Смарт\" различаются. "
   ]
  },
  {
   "cell_type": "markdown",
   "metadata": {},
   "source": [
    "Будем использовать метод `scipy.ttest_ind(array1, array2, equal_var)`. Но для начала сравним дисперсии двух выборок, чтобы опрделиться со значеним параметра `equal_var`."
   ]
  },
  {
   "cell_type": "code",
   "execution_count": 41,
   "metadata": {},
   "outputs": [
    {
     "name": "stdout",
     "output_type": "stream",
     "text": [
      "Дисперсия выручки по тарифу smart: 669785.71\n",
      "Дисперсия выручки по тарифу ultra: 141516.75\n"
     ]
    }
   ],
   "source": [
    "print('Дисперсия выручки по тарифу smart:', (df_smart['revenue_per_month'].describe()['std'] ** 2).round(2))\n",
    "print('Дисперсия выручки по тарифу ultra:', (df_ultra['revenue_per_month'].describe()['std'] ** 2).round(2))"
   ]
  },
  {
   "cell_type": "markdown",
   "metadata": {},
   "source": [
    "Т.к. дисперсии разные, то параметр `equal_var` примет значение `False`."
   ]
  },
  {
   "cell_type": "markdown",
   "metadata": {},
   "source": [
    "Критический уровень статистической значимости зададим 0.05."
   ]
  },
  {
   "cell_type": "code",
   "execution_count": 42,
   "metadata": {},
   "outputs": [
    {
     "name": "stdout",
     "output_type": "stream",
     "text": [
      "P-value: 4.2606313931076085e-250\n",
      "Отвергаем нулевую гипотезу\n"
     ]
    }
   ],
   "source": [
    "alpha = 0.05\n",
    "results = st.ttest_ind(df_smart['revenue_per_month'], df_ultra['revenue_per_month'], equal_var = False)\n",
    "print('P-value:', results.pvalue)\n",
    "\n",
    "if (results.pvalue < alpha):\n",
    "    print(\"Отвергаем нулевую гипотезу\")\n",
    "else:\n",
    "    print(\"Не получилось отвергнуть нулевую гипотезу\")"
   ]
  },
  {
   "cell_type": "markdown",
   "metadata": {},
   "source": [
    "**Вывод**\n",
    "\n",
    "Результат нашего статистичекого теста говорит о том, что нулевая гипотеза отвергается. Отсюда следует, что альтернативная гипотеза о том, что средняя выручка пользователей тарифов \"Смарт\" и \"Ультра\", не отвергается."
   ]
  },
  {
   "cell_type": "markdown",
   "metadata": {},
   "source": [
    "### Гипотеза № 2. Средняя выручка пользователей из Москвы отличается от выручки пользователей из других регионов"
   ]
  },
  {
   "cell_type": "markdown",
   "metadata": {},
   "source": [
    "Для начала сделаем соответствующие выборки: Москва и другие регионы."
   ]
  },
  {
   "cell_type": "code",
   "execution_count": 43,
   "metadata": {},
   "outputs": [],
   "source": [
    "df_msk = df[df['city'] == 'Москва']\n",
    "df_other_regions = df[df['city'] != 'Москва']"
   ]
  },
  {
   "cell_type": "markdown",
   "metadata": {},
   "source": [
    "Нулевая гипотеза: средняя выручка пользователей из Москвы равна выручке пользователей из других регионов. \n",
    "\n",
    "Отсюда альтернативная гипотеза будет звучать следующим образом: средняя выручка пользователей из Москвы отличается от выручки пользователей из других регионов\n",
    "\n",
    "Т. к. выборки будут явно разных размеров, то параметр `equal_var` примет значение `False`. \n",
    "\n",
    "Критический уровень статистической значимости зададим 0.05."
   ]
  },
  {
   "cell_type": "code",
   "execution_count": 44,
   "metadata": {},
   "outputs": [
    {
     "name": "stdout",
     "output_type": "stream",
     "text": [
      "P-value: 0.5257376663729298\n",
      "Не получилось отвергнуть нулевую гипотезу\n"
     ]
    }
   ],
   "source": [
    "alpha = 0.05\n",
    "results = st.ttest_ind(df_msk['revenue_per_month'], df_other_regions['revenue_per_month'], equal_var = False)\n",
    "print('P-value:', results.pvalue)\n",
    "\n",
    "if (results.pvalue < alpha):\n",
    "    print(\"Отвергаем нулевую гипотезу\")\n",
    "else:\n",
    "    print(\"Не получилось отвергнуть нулевую гипотезу\")"
   ]
  },
  {
   "cell_type": "markdown",
   "metadata": {},
   "source": [
    "**Вывод**"
   ]
  },
  {
   "cell_type": "markdown",
   "metadata": {},
   "source": [
    "Проведяя статистический тест, мы не может отвергнуть нулевую гипотезу. Можно сделать вывод, что ,скорее всего, выручка от пользователей по стране примерно равна.\n",
    "\n",
    "Также мы отвергаем альтернативную гипотезу о том, что выручка по Москве отлчичается от выручки по регионам."
   ]
  },
  {
   "cell_type": "markdown",
   "metadata": {},
   "source": [
    "## Общий вывод"
   ]
  },
  {
   "cell_type": "markdown",
   "metadata": {},
   "source": [
    "Было проведено исследование по определнию перспективного тарифа для телеком-компании. \n",
    "\n",
    "Для начала была произведена предобработка данных: удаление/добавление необходимых столбцов, корректировка типов данных, проверка наличия дубликатов и пропусков. Далее сгруппировали данные и построили общий датасет из 5 исходных для дальнейшего исследования. \n",
    "\n",
    "Вторым пунктом мы провели исследовательский анализ данных (кол-во минут, сообщений, интернет-трафика): построили таблицу с описательной статистикой, гистограммы для каждого параметра, диаграмму рассеивания, описали распредления. В конце дали характеристику поведению пользователей. \n",
    "\n",
    "На следующем этапе приступили к проверке гипотез. Для начала проверили первую гипотезу о различии средней выручки для тарифов smart и ultra. Итогом проверки стало, что выручки различаются. Вторая гипотеза была о том, что средння выручка по Москве отличается от средней выручки по регионам. Данная гипотеза отвергнута. \n",
    "\n",
    "Таким образом, можно сделать общий вывод, что перспективным тарфиом для телеком-компании является тариф ultra. "
   ]
  }
 ],
 "metadata": {
  "ExecuteTimeLog": [
   {
    "duration": 1449,
    "start_time": "2022-02-26T22:17:21.706Z"
   },
   {
    "duration": 68,
    "start_time": "2022-02-26T22:17:59.004Z"
   },
   {
    "duration": 4,
    "start_time": "2022-02-26T22:53:38.714Z"
   },
   {
    "duration": 529,
    "start_time": "2022-02-26T22:53:38.721Z"
   },
   {
    "duration": 554,
    "start_time": "2022-02-26T22:54:37.482Z"
   },
   {
    "duration": 13,
    "start_time": "2022-02-26T22:55:54.982Z"
   },
   {
    "duration": 1336,
    "start_time": "2022-02-26T22:56:50.509Z"
   },
   {
    "duration": 529,
    "start_time": "2022-02-26T22:56:51.848Z"
   },
   {
    "duration": 12,
    "start_time": "2022-02-26T22:56:52.380Z"
   },
   {
    "duration": 17,
    "start_time": "2022-02-26T22:56:52.394Z"
   },
   {
    "duration": 14,
    "start_time": "2022-02-26T22:56:52.414Z"
   },
   {
    "duration": 43,
    "start_time": "2022-02-26T22:56:52.430Z"
   },
   {
    "duration": 541,
    "start_time": "2022-02-26T22:57:30.275Z"
   },
   {
    "duration": 533,
    "start_time": "2022-02-26T22:57:39.475Z"
   },
   {
    "duration": 526,
    "start_time": "2022-02-26T22:57:46.093Z"
   },
   {
    "duration": 536,
    "start_time": "2022-02-26T22:58:02.821Z"
   },
   {
    "duration": 507,
    "start_time": "2022-02-26T22:58:14.369Z"
   },
   {
    "duration": 5,
    "start_time": "2022-02-26T22:59:12.043Z"
   },
   {
    "duration": 519,
    "start_time": "2022-02-26T22:59:12.052Z"
   },
   {
    "duration": 13,
    "start_time": "2022-02-26T22:59:12.574Z"
   },
   {
    "duration": 12,
    "start_time": "2022-02-26T22:59:12.590Z"
   },
   {
    "duration": 13,
    "start_time": "2022-02-26T22:59:12.604Z"
   },
   {
    "duration": 15,
    "start_time": "2022-02-26T22:59:12.619Z"
   },
   {
    "duration": 94,
    "start_time": "2022-02-26T23:14:29.383Z"
   },
   {
    "duration": 5,
    "start_time": "2022-02-26T23:42:18.813Z"
   },
   {
    "duration": 506,
    "start_time": "2022-02-26T23:42:18.821Z"
   },
   {
    "duration": 12,
    "start_time": "2022-02-26T23:42:19.331Z"
   },
   {
    "duration": 13,
    "start_time": "2022-02-26T23:42:19.346Z"
   },
   {
    "duration": 13,
    "start_time": "2022-02-26T23:42:19.374Z"
   },
   {
    "duration": 15,
    "start_time": "2022-02-26T23:42:19.390Z"
   },
   {
    "duration": 107,
    "start_time": "2022-02-26T23:42:19.407Z"
   },
   {
    "duration": 1076,
    "start_time": "2022-02-27T12:34:26.884Z"
   },
   {
    "duration": 414,
    "start_time": "2022-02-27T12:34:27.962Z"
   },
   {
    "duration": 8,
    "start_time": "2022-02-27T12:34:28.378Z"
   },
   {
    "duration": 26,
    "start_time": "2022-02-27T12:34:28.388Z"
   },
   {
    "duration": 13,
    "start_time": "2022-02-27T12:34:28.416Z"
   },
   {
    "duration": 11,
    "start_time": "2022-02-27T12:34:28.431Z"
   },
   {
    "duration": 68,
    "start_time": "2022-02-27T12:34:28.444Z"
   },
   {
    "duration": 19,
    "start_time": "2022-02-27T12:34:28.513Z"
   },
   {
    "duration": 21,
    "start_time": "2022-02-27T12:34:46.553Z"
   },
   {
    "duration": 368,
    "start_time": "2022-02-27T12:38:04.259Z"
   },
   {
    "duration": 4,
    "start_time": "2022-02-27T12:38:12.170Z"
   },
   {
    "duration": 9,
    "start_time": "2022-02-27T12:38:21.989Z"
   },
   {
    "duration": 8153,
    "start_time": "2022-02-27T12:41:55.902Z"
   },
   {
    "duration": 1109,
    "start_time": "2022-02-27T12:42:13.962Z"
   },
   {
    "duration": 405,
    "start_time": "2022-02-27T12:42:15.073Z"
   },
   {
    "duration": 8,
    "start_time": "2022-02-27T12:42:15.480Z"
   },
   {
    "duration": 19,
    "start_time": "2022-02-27T12:42:15.490Z"
   },
   {
    "duration": 20,
    "start_time": "2022-02-27T12:42:15.511Z"
   },
   {
    "duration": 25,
    "start_time": "2022-02-27T12:42:15.532Z"
   },
   {
    "duration": 73,
    "start_time": "2022-02-27T12:42:15.559Z"
   },
   {
    "duration": 3,
    "start_time": "2022-02-27T12:42:15.634Z"
   },
   {
    "duration": 35,
    "start_time": "2022-02-27T13:30:02.345Z"
   },
   {
    "duration": 48,
    "start_time": "2022-02-27T13:32:41.216Z"
   },
   {
    "duration": 47,
    "start_time": "2022-02-27T13:32:50.505Z"
   },
   {
    "duration": 37,
    "start_time": "2022-02-27T13:33:47.502Z"
   },
   {
    "duration": 176,
    "start_time": "2022-02-27T13:36:44.782Z"
   },
   {
    "duration": 25,
    "start_time": "2022-02-27T14:58:44.417Z"
   },
   {
    "duration": 399,
    "start_time": "2022-02-27T15:00:51.291Z"
   },
   {
    "duration": 54,
    "start_time": "2022-02-27T15:01:02.014Z"
   },
   {
    "duration": 717,
    "start_time": "2022-02-27T15:04:27.244Z"
   },
   {
    "duration": 26,
    "start_time": "2022-02-27T15:04:58.146Z"
   },
   {
    "duration": 30,
    "start_time": "2022-02-27T15:05:13.874Z"
   },
   {
    "duration": 338,
    "start_time": "2022-02-27T15:08:01.518Z"
   },
   {
    "duration": 34,
    "start_time": "2022-02-27T15:08:06.673Z"
   },
   {
    "duration": 1056,
    "start_time": "2022-02-27T15:10:44.343Z"
   },
   {
    "duration": 3,
    "start_time": "2022-02-27T15:10:59.308Z"
   },
   {
    "duration": 449,
    "start_time": "2022-02-27T15:10:59.313Z"
   },
   {
    "duration": 8,
    "start_time": "2022-02-27T15:10:59.764Z"
   },
   {
    "duration": 9,
    "start_time": "2022-02-27T15:10:59.774Z"
   },
   {
    "duration": 9,
    "start_time": "2022-02-27T15:10:59.785Z"
   },
   {
    "duration": 11,
    "start_time": "2022-02-27T15:10:59.795Z"
   },
   {
    "duration": 82,
    "start_time": "2022-02-27T15:10:59.808Z"
   },
   {
    "duration": 4,
    "start_time": "2022-02-27T15:10:59.891Z"
   },
   {
    "duration": 81,
    "start_time": "2022-02-27T15:10:59.896Z"
   },
   {
    "duration": 37,
    "start_time": "2022-02-27T15:10:59.979Z"
   },
   {
    "duration": 196,
    "start_time": "2022-02-27T15:11:00.018Z"
   },
   {
    "duration": 66,
    "start_time": "2022-02-27T15:11:00.215Z"
   },
   {
    "duration": 1102,
    "start_time": "2022-02-27T15:11:00.282Z"
   },
   {
    "duration": -51,
    "start_time": "2022-02-27T15:11:01.437Z"
   },
   {
    "duration": 30,
    "start_time": "2022-02-27T15:11:29.885Z"
   },
   {
    "duration": 28,
    "start_time": "2022-02-27T15:11:46.127Z"
   },
   {
    "duration": 26,
    "start_time": "2022-02-27T15:11:57.030Z"
   },
   {
    "duration": 29,
    "start_time": "2022-02-27T15:12:06.676Z"
   },
   {
    "duration": 1043,
    "start_time": "2022-02-27T15:12:15.891Z"
   },
   {
    "duration": 31,
    "start_time": "2022-02-27T15:12:27.172Z"
   },
   {
    "duration": 29,
    "start_time": "2022-02-27T15:24:04.941Z"
   },
   {
    "duration": 266,
    "start_time": "2022-02-27T16:36:24.041Z"
   },
   {
    "duration": 3,
    "start_time": "2022-02-27T16:36:40.041Z"
   },
   {
    "duration": 445,
    "start_time": "2022-02-27T16:36:40.046Z"
   },
   {
    "duration": 8,
    "start_time": "2022-02-27T16:36:40.493Z"
   },
   {
    "duration": 9,
    "start_time": "2022-02-27T16:36:40.503Z"
   },
   {
    "duration": 10,
    "start_time": "2022-02-27T16:36:40.513Z"
   },
   {
    "duration": 10,
    "start_time": "2022-02-27T16:36:40.525Z"
   },
   {
    "duration": 80,
    "start_time": "2022-02-27T16:36:40.537Z"
   },
   {
    "duration": 3,
    "start_time": "2022-02-27T16:36:40.619Z"
   },
   {
    "duration": 91,
    "start_time": "2022-02-27T16:36:40.624Z"
   },
   {
    "duration": 35,
    "start_time": "2022-02-27T16:36:40.718Z"
   },
   {
    "duration": 190,
    "start_time": "2022-02-27T16:36:40.754Z"
   },
   {
    "duration": 267,
    "start_time": "2022-02-27T16:36:40.946Z"
   },
   {
    "duration": 27,
    "start_time": "2022-02-27T16:36:41.189Z"
   },
   {
    "duration": 18,
    "start_time": "2022-02-27T16:36:41.199Z"
   },
   {
    "duration": 18,
    "start_time": "2022-02-27T16:36:41.201Z"
   },
   {
    "duration": 309,
    "start_time": "2022-02-27T16:36:59.247Z"
   },
   {
    "duration": 337,
    "start_time": "2022-02-27T16:37:40.756Z"
   },
   {
    "duration": 18,
    "start_time": "2022-02-27T16:38:09.059Z"
   },
   {
    "duration": 2690,
    "start_time": "2022-02-27T16:40:10.865Z"
   },
   {
    "duration": 3,
    "start_time": "2022-02-27T16:40:48.144Z"
   },
   {
    "duration": 1113,
    "start_time": "2022-02-27T16:40:55.554Z"
   },
   {
    "duration": 444,
    "start_time": "2022-02-27T16:40:56.669Z"
   },
   {
    "duration": 8,
    "start_time": "2022-02-27T16:40:57.116Z"
   },
   {
    "duration": 9,
    "start_time": "2022-02-27T16:40:57.126Z"
   },
   {
    "duration": 10,
    "start_time": "2022-02-27T16:40:57.137Z"
   },
   {
    "duration": 10,
    "start_time": "2022-02-27T16:40:57.149Z"
   },
   {
    "duration": 63,
    "start_time": "2022-02-27T16:40:57.161Z"
   },
   {
    "duration": 3,
    "start_time": "2022-02-27T16:40:57.226Z"
   },
   {
    "duration": 95,
    "start_time": "2022-02-27T16:40:57.231Z"
   },
   {
    "duration": 50,
    "start_time": "2022-02-27T16:40:57.328Z"
   },
   {
    "duration": 198,
    "start_time": "2022-02-27T16:40:57.380Z"
   },
   {
    "duration": 359,
    "start_time": "2022-02-27T16:40:57.580Z"
   },
   {
    "duration": 25,
    "start_time": "2022-02-27T16:40:57.916Z"
   },
   {
    "duration": 14,
    "start_time": "2022-02-27T16:40:57.928Z"
   },
   {
    "duration": 13,
    "start_time": "2022-02-27T16:40:57.930Z"
   },
   {
    "duration": 270,
    "start_time": "2022-02-27T16:42:53.172Z"
   },
   {
    "duration": 3,
    "start_time": "2022-02-27T16:44:08.632Z"
   },
   {
    "duration": 6,
    "start_time": "2022-02-27T16:50:00.486Z"
   },
   {
    "duration": 11,
    "start_time": "2022-02-27T16:50:12.122Z"
   },
   {
    "duration": 102,
    "start_time": "2022-02-27T16:53:31.739Z"
   },
   {
    "duration": 13,
    "start_time": "2022-02-27T16:53:40.883Z"
   },
   {
    "duration": 1193,
    "start_time": "2022-02-27T16:58:48.943Z"
   },
   {
    "duration": 1247,
    "start_time": "2022-02-27T16:59:01.098Z"
   },
   {
    "duration": 1132,
    "start_time": "2022-02-27T16:59:19.713Z"
   },
   {
    "duration": 1305,
    "start_time": "2022-02-27T16:59:28.977Z"
   },
   {
    "duration": 1226,
    "start_time": "2022-02-27T17:00:04.053Z"
   },
   {
    "duration": 430,
    "start_time": "2022-02-27T17:00:17.221Z"
   },
   {
    "duration": 98,
    "start_time": "2022-02-27T17:03:29.948Z"
   },
   {
    "duration": 4,
    "start_time": "2022-02-27T17:03:37.289Z"
   },
   {
    "duration": 441,
    "start_time": "2022-02-27T17:03:37.294Z"
   },
   {
    "duration": 15,
    "start_time": "2022-02-27T17:03:37.737Z"
   },
   {
    "duration": 11,
    "start_time": "2022-02-27T17:03:37.754Z"
   },
   {
    "duration": 12,
    "start_time": "2022-02-27T17:03:37.766Z"
   },
   {
    "duration": 11,
    "start_time": "2022-02-27T17:03:37.780Z"
   },
   {
    "duration": 61,
    "start_time": "2022-02-27T17:03:37.793Z"
   },
   {
    "duration": 23,
    "start_time": "2022-02-27T17:03:37.856Z"
   },
   {
    "duration": 64,
    "start_time": "2022-02-27T17:03:37.882Z"
   },
   {
    "duration": 59,
    "start_time": "2022-02-27T17:03:37.947Z"
   },
   {
    "duration": 198,
    "start_time": "2022-02-27T17:03:38.008Z"
   },
   {
    "duration": 81,
    "start_time": "2022-02-27T17:03:38.208Z"
   },
   {
    "duration": 22,
    "start_time": "2022-02-27T17:03:38.269Z"
   },
   {
    "duration": 15,
    "start_time": "2022-02-27T17:03:38.278Z"
   },
   {
    "duration": 13,
    "start_time": "2022-02-27T17:03:38.281Z"
   },
   {
    "duration": 1175,
    "start_time": "2022-02-27T17:03:44.515Z"
   },
   {
    "duration": 2939,
    "start_time": "2022-02-27T17:04:13.575Z"
   },
   {
    "duration": 2921,
    "start_time": "2022-02-27T17:04:32.346Z"
   },
   {
    "duration": 438,
    "start_time": "2022-02-27T17:04:49.540Z"
   },
   {
    "duration": 429,
    "start_time": "2022-02-27T17:05:13.124Z"
   },
   {
    "duration": 2127,
    "start_time": "2022-02-27T17:05:28.916Z"
   },
   {
    "duration": 1151,
    "start_time": "2022-02-27T17:06:20.880Z"
   },
   {
    "duration": 434,
    "start_time": "2022-02-27T17:06:22.033Z"
   },
   {
    "duration": 8,
    "start_time": "2022-02-27T17:06:22.469Z"
   },
   {
    "duration": 11,
    "start_time": "2022-02-27T17:06:22.479Z"
   },
   {
    "duration": 13,
    "start_time": "2022-02-27T17:06:22.492Z"
   },
   {
    "duration": 13,
    "start_time": "2022-02-27T17:06:22.506Z"
   },
   {
    "duration": 81,
    "start_time": "2022-02-27T17:06:22.520Z"
   },
   {
    "duration": 3,
    "start_time": "2022-02-27T17:06:22.603Z"
   },
   {
    "duration": 101,
    "start_time": "2022-02-27T17:06:22.608Z"
   },
   {
    "duration": 35,
    "start_time": "2022-02-27T17:06:22.711Z"
   },
   {
    "duration": 214,
    "start_time": "2022-02-27T17:06:22.748Z"
   },
   {
    "duration": 2925,
    "start_time": "2022-02-27T17:06:22.963Z"
   },
   {
    "duration": 53,
    "start_time": "2022-02-27T17:06:25.889Z"
   },
   {
    "duration": 41,
    "start_time": "2022-02-27T17:06:25.944Z"
   },
   {
    "duration": 28,
    "start_time": "2022-02-27T17:06:25.987Z"
   },
   {
    "duration": 677,
    "start_time": "2022-02-27T17:11:49.355Z"
   },
   {
    "duration": 342,
    "start_time": "2022-02-27T17:11:58.155Z"
   },
   {
    "duration": 266,
    "start_time": "2022-02-27T17:12:07.570Z"
   },
   {
    "duration": 45,
    "start_time": "2022-02-27T17:12:12.373Z"
   },
   {
    "duration": 41,
    "start_time": "2022-02-27T17:12:27.325Z"
   },
   {
    "duration": 43,
    "start_time": "2022-02-27T17:13:32.060Z"
   },
   {
    "duration": 44,
    "start_time": "2022-02-27T17:16:31.899Z"
   },
   {
    "duration": 37,
    "start_time": "2022-02-27T17:17:01.061Z"
   },
   {
    "duration": 28,
    "start_time": "2022-02-27T17:19:46.829Z"
   },
   {
    "duration": 46,
    "start_time": "2022-02-27T17:20:04.889Z"
   },
   {
    "duration": 30,
    "start_time": "2022-02-27T17:23:32.208Z"
   },
   {
    "duration": 289,
    "start_time": "2022-02-27T17:24:45.519Z"
   },
   {
    "duration": 34,
    "start_time": "2022-02-27T17:24:51.178Z"
   },
   {
    "duration": 43,
    "start_time": "2022-02-27T17:26:04.280Z"
   },
   {
    "duration": 45,
    "start_time": "2022-02-27T17:26:48.015Z"
   },
   {
    "duration": 30,
    "start_time": "2022-02-27T17:26:49.008Z"
   },
   {
    "duration": 25,
    "start_time": "2022-02-27T17:26:49.845Z"
   },
   {
    "duration": 299,
    "start_time": "2022-02-27T17:27:01.965Z"
   },
   {
    "duration": 355,
    "start_time": "2022-02-27T17:27:05.392Z"
   },
   {
    "duration": 299,
    "start_time": "2022-02-27T17:27:18.534Z"
   },
   {
    "duration": 4,
    "start_time": "2022-02-27T17:27:23.062Z"
   },
   {
    "duration": 432,
    "start_time": "2022-02-27T17:27:23.068Z"
   },
   {
    "duration": 9,
    "start_time": "2022-02-27T17:27:23.502Z"
   },
   {
    "duration": 10,
    "start_time": "2022-02-27T17:27:23.513Z"
   },
   {
    "duration": 11,
    "start_time": "2022-02-27T17:27:23.525Z"
   },
   {
    "duration": 12,
    "start_time": "2022-02-27T17:27:23.538Z"
   },
   {
    "duration": 77,
    "start_time": "2022-02-27T17:27:23.552Z"
   },
   {
    "duration": 3,
    "start_time": "2022-02-27T17:27:23.630Z"
   },
   {
    "duration": 95,
    "start_time": "2022-02-27T17:27:23.636Z"
   },
   {
    "duration": 51,
    "start_time": "2022-02-27T17:27:23.732Z"
   },
   {
    "duration": 165,
    "start_time": "2022-02-27T17:27:23.785Z"
   },
   {
    "duration": 3152,
    "start_time": "2022-02-27T17:27:23.952Z"
   },
   {
    "duration": 53,
    "start_time": "2022-02-27T17:27:27.106Z"
   },
   {
    "duration": 324,
    "start_time": "2022-02-27T17:27:27.161Z"
   },
   {
    "duration": -76,
    "start_time": "2022-02-27T17:27:27.563Z"
   },
   {
    "duration": -77,
    "start_time": "2022-02-27T17:27:27.565Z"
   },
   {
    "duration": 43,
    "start_time": "2022-02-27T17:27:36.642Z"
   },
   {
    "duration": 296,
    "start_time": "2022-02-27T17:28:05.327Z"
   },
   {
    "duration": 45,
    "start_time": "2022-02-27T17:28:09.861Z"
   },
   {
    "duration": 46,
    "start_time": "2022-02-27T17:29:27.693Z"
   },
   {
    "duration": 31,
    "start_time": "2022-02-27T17:29:28.781Z"
   },
   {
    "duration": 24,
    "start_time": "2022-02-27T17:29:29.738Z"
   },
   {
    "duration": 366,
    "start_time": "2022-02-27T19:31:18.037Z"
   },
   {
    "duration": 1120,
    "start_time": "2022-02-27T19:31:35.040Z"
   },
   {
    "duration": 365,
    "start_time": "2022-02-27T19:31:36.163Z"
   },
   {
    "duration": 8,
    "start_time": "2022-02-27T19:31:36.530Z"
   },
   {
    "duration": 10,
    "start_time": "2022-02-27T19:31:36.539Z"
   },
   {
    "duration": 13,
    "start_time": "2022-02-27T19:31:36.550Z"
   },
   {
    "duration": 19,
    "start_time": "2022-02-27T19:31:36.565Z"
   },
   {
    "duration": 63,
    "start_time": "2022-02-27T19:31:36.586Z"
   },
   {
    "duration": 13,
    "start_time": "2022-02-27T19:31:36.651Z"
   },
   {
    "duration": 76,
    "start_time": "2022-02-27T19:31:36.666Z"
   },
   {
    "duration": 49,
    "start_time": "2022-02-27T19:31:36.743Z"
   },
   {
    "duration": 214,
    "start_time": "2022-02-27T19:31:36.794Z"
   },
   {
    "duration": 2858,
    "start_time": "2022-02-27T19:31:37.010Z"
   },
   {
    "duration": 53,
    "start_time": "2022-02-27T19:31:39.870Z"
   },
   {
    "duration": 73,
    "start_time": "2022-02-27T19:31:39.925Z"
   },
   {
    "duration": 35,
    "start_time": "2022-02-27T19:31:40.000Z"
   },
   {
    "duration": 46,
    "start_time": "2022-02-27T19:31:40.037Z"
   },
   {
    "duration": 15,
    "start_time": "2022-02-27T19:31:40.085Z"
   },
   {
    "duration": 17,
    "start_time": "2022-02-27T19:32:03.663Z"
   },
   {
    "duration": 21,
    "start_time": "2022-02-27T19:34:39.474Z"
   },
   {
    "duration": 17,
    "start_time": "2022-02-27T19:35:30.371Z"
   },
   {
    "duration": 305,
    "start_time": "2022-02-27T19:39:15.127Z"
   },
   {
    "duration": 27,
    "start_time": "2022-02-27T19:39:29.936Z"
   },
   {
    "duration": 28,
    "start_time": "2022-02-27T19:39:51.367Z"
   },
   {
    "duration": 37,
    "start_time": "2022-02-27T19:40:40.067Z"
   },
   {
    "duration": 1091,
    "start_time": "2022-02-27T19:41:06.951Z"
   },
   {
    "duration": 362,
    "start_time": "2022-02-27T19:41:08.044Z"
   },
   {
    "duration": 19,
    "start_time": "2022-02-27T19:41:08.408Z"
   },
   {
    "duration": 11,
    "start_time": "2022-02-27T19:41:08.429Z"
   },
   {
    "duration": 14,
    "start_time": "2022-02-27T19:41:08.442Z"
   },
   {
    "duration": 13,
    "start_time": "2022-02-27T19:41:08.458Z"
   },
   {
    "duration": 59,
    "start_time": "2022-02-27T19:41:08.473Z"
   },
   {
    "duration": 28,
    "start_time": "2022-02-27T19:41:08.535Z"
   },
   {
    "duration": 68,
    "start_time": "2022-02-27T19:41:08.565Z"
   },
   {
    "duration": 51,
    "start_time": "2022-02-27T19:41:08.635Z"
   },
   {
    "duration": 193,
    "start_time": "2022-02-27T19:41:08.688Z"
   },
   {
    "duration": 2876,
    "start_time": "2022-02-27T19:41:08.883Z"
   },
   {
    "duration": 50,
    "start_time": "2022-02-27T19:41:11.760Z"
   },
   {
    "duration": 63,
    "start_time": "2022-02-27T19:41:11.813Z"
   },
   {
    "duration": 30,
    "start_time": "2022-02-27T19:41:11.877Z"
   },
   {
    "duration": 24,
    "start_time": "2022-02-27T19:41:11.909Z"
   },
   {
    "duration": 62,
    "start_time": "2022-02-27T19:41:11.935Z"
   },
   {
    "duration": 293,
    "start_time": "2022-02-27T19:59:04.433Z"
   },
   {
    "duration": 259,
    "start_time": "2022-02-27T19:59:19.559Z"
   },
   {
    "duration": 15,
    "start_time": "2022-02-27T19:59:33.278Z"
   },
   {
    "duration": 24,
    "start_time": "2022-02-27T20:09:16.201Z"
   },
   {
    "duration": 240,
    "start_time": "2022-02-27T20:09:35.563Z"
   },
   {
    "duration": 1061,
    "start_time": "2022-02-27T20:09:48.496Z"
   },
   {
    "duration": 373,
    "start_time": "2022-02-27T20:09:49.559Z"
   },
   {
    "duration": 8,
    "start_time": "2022-02-27T20:09:49.934Z"
   },
   {
    "duration": 9,
    "start_time": "2022-02-27T20:09:49.943Z"
   },
   {
    "duration": 8,
    "start_time": "2022-02-27T20:09:49.954Z"
   },
   {
    "duration": 18,
    "start_time": "2022-02-27T20:09:49.964Z"
   },
   {
    "duration": 80,
    "start_time": "2022-02-27T20:09:49.983Z"
   },
   {
    "duration": 4,
    "start_time": "2022-02-27T20:09:50.066Z"
   },
   {
    "duration": 95,
    "start_time": "2022-02-27T20:09:50.072Z"
   },
   {
    "duration": 40,
    "start_time": "2022-02-27T20:09:50.169Z"
   },
   {
    "duration": 214,
    "start_time": "2022-02-27T20:09:50.211Z"
   },
   {
    "duration": 2807,
    "start_time": "2022-02-27T20:09:50.427Z"
   },
   {
    "duration": 61,
    "start_time": "2022-02-27T20:09:53.236Z"
   },
   {
    "duration": 65,
    "start_time": "2022-02-27T20:09:53.299Z"
   },
   {
    "duration": 29,
    "start_time": "2022-02-27T20:09:53.366Z"
   },
   {
    "duration": 25,
    "start_time": "2022-02-27T20:09:53.397Z"
   },
   {
    "duration": 328,
    "start_time": "2022-02-27T20:09:53.424Z"
   },
   {
    "duration": 23,
    "start_time": "2022-02-27T20:10:38.880Z"
   },
   {
    "duration": 42,
    "start_time": "2022-02-27T20:10:52.304Z"
   },
   {
    "duration": 20,
    "start_time": "2022-02-27T20:11:14.624Z"
   },
   {
    "duration": 62,
    "start_time": "2022-02-27T20:11:27.914Z"
   },
   {
    "duration": 34,
    "start_time": "2022-02-27T20:12:41.407Z"
   },
   {
    "duration": 232,
    "start_time": "2022-02-27T20:14:38.256Z"
   },
   {
    "duration": 1028,
    "start_time": "2022-02-27T20:15:04.504Z"
   },
   {
    "duration": 360,
    "start_time": "2022-02-27T20:15:05.534Z"
   },
   {
    "duration": 7,
    "start_time": "2022-02-27T20:15:05.896Z"
   },
   {
    "duration": 13,
    "start_time": "2022-02-27T20:15:05.905Z"
   },
   {
    "duration": 11,
    "start_time": "2022-02-27T20:15:05.919Z"
   },
   {
    "duration": 12,
    "start_time": "2022-02-27T20:15:05.932Z"
   },
   {
    "duration": 59,
    "start_time": "2022-02-27T20:15:05.945Z"
   },
   {
    "duration": 3,
    "start_time": "2022-02-27T20:15:06.007Z"
   },
   {
    "duration": 98,
    "start_time": "2022-02-27T20:15:06.012Z"
   },
   {
    "duration": 37,
    "start_time": "2022-02-27T20:15:06.111Z"
   },
   {
    "duration": 180,
    "start_time": "2022-02-27T20:15:06.163Z"
   },
   {
    "duration": 2886,
    "start_time": "2022-02-27T20:15:06.344Z"
   },
   {
    "duration": 57,
    "start_time": "2022-02-27T20:15:09.232Z"
   },
   {
    "duration": 50,
    "start_time": "2022-02-27T20:15:09.290Z"
   },
   {
    "duration": 46,
    "start_time": "2022-02-27T20:15:09.342Z"
   },
   {
    "duration": 24,
    "start_time": "2022-02-27T20:15:09.389Z"
   },
   {
    "duration": 304,
    "start_time": "2022-02-27T20:15:09.415Z"
   },
   {
    "duration": 7,
    "start_time": "2022-02-27T20:15:31.323Z"
   },
   {
    "duration": 6,
    "start_time": "2022-02-27T20:16:00.352Z"
   },
   {
    "duration": 296,
    "start_time": "2022-02-27T20:17:00.431Z"
   },
   {
    "duration": 239,
    "start_time": "2022-02-27T20:17:11.629Z"
   },
   {
    "duration": 25,
    "start_time": "2022-02-27T20:17:25.546Z"
   },
   {
    "duration": 55,
    "start_time": "2022-02-27T20:18:59.503Z"
   },
   {
    "duration": 32,
    "start_time": "2022-02-27T20:19:01.106Z"
   },
   {
    "duration": 26,
    "start_time": "2022-02-27T20:19:01.340Z"
   },
   {
    "duration": 38,
    "start_time": "2022-02-27T20:19:01.756Z"
   },
   {
    "duration": 24,
    "start_time": "2022-02-27T20:19:01.936Z"
   },
   {
    "duration": 7,
    "start_time": "2022-02-27T20:19:29.682Z"
   },
   {
    "duration": 5356,
    "start_time": "2022-02-27T20:23:27.407Z"
   },
   {
    "duration": 4,
    "start_time": "2022-02-27T20:23:54.319Z"
   },
   {
    "duration": 4,
    "start_time": "2022-02-27T20:24:16.496Z"
   },
   {
    "duration": 12,
    "start_time": "2022-02-27T20:24:27.531Z"
   },
   {
    "duration": 12,
    "start_time": "2022-02-27T20:25:07.539Z"
   },
   {
    "duration": 9,
    "start_time": "2022-02-27T20:25:12.355Z"
   },
   {
    "duration": 402,
    "start_time": "2022-02-27T21:21:11.904Z"
   },
   {
    "duration": 1127,
    "start_time": "2022-02-27T21:21:46.439Z"
   },
   {
    "duration": 380,
    "start_time": "2022-02-27T21:21:47.568Z"
   },
   {
    "duration": 8,
    "start_time": "2022-02-27T21:21:47.950Z"
   },
   {
    "duration": 9,
    "start_time": "2022-02-27T21:21:47.960Z"
   },
   {
    "duration": 11,
    "start_time": "2022-02-27T21:21:47.971Z"
   },
   {
    "duration": 10,
    "start_time": "2022-02-27T21:21:47.983Z"
   },
   {
    "duration": 77,
    "start_time": "2022-02-27T21:21:47.995Z"
   },
   {
    "duration": 3,
    "start_time": "2022-02-27T21:21:48.074Z"
   },
   {
    "duration": 86,
    "start_time": "2022-02-27T21:21:48.079Z"
   },
   {
    "duration": 34,
    "start_time": "2022-02-27T21:21:48.167Z"
   },
   {
    "duration": 214,
    "start_time": "2022-02-27T21:21:48.203Z"
   },
   {
    "duration": 2954,
    "start_time": "2022-02-27T21:21:48.418Z"
   },
   {
    "duration": 52,
    "start_time": "2022-02-27T21:21:51.373Z"
   },
   {
    "duration": 70,
    "start_time": "2022-02-27T21:21:51.427Z"
   },
   {
    "duration": 30,
    "start_time": "2022-02-27T21:21:51.499Z"
   },
   {
    "duration": 41,
    "start_time": "2022-02-27T21:21:51.531Z"
   },
   {
    "duration": 35,
    "start_time": "2022-02-27T21:21:51.574Z"
   },
   {
    "duration": 7,
    "start_time": "2022-02-27T21:21:51.611Z"
   },
   {
    "duration": 4,
    "start_time": "2022-02-27T21:21:51.620Z"
   },
   {
    "duration": 481,
    "start_time": "2022-02-27T21:21:51.626Z"
   },
   {
    "duration": 76,
    "start_time": "2022-02-27T21:22:14.079Z"
   },
   {
    "duration": 97,
    "start_time": "2022-02-27T21:22:24.597Z"
   },
   {
    "duration": 96,
    "start_time": "2022-02-27T21:22:50.268Z"
   },
   {
    "duration": 73,
    "start_time": "2022-02-27T21:23:55.326Z"
   },
   {
    "duration": 77,
    "start_time": "2022-02-27T21:26:03.828Z"
   },
   {
    "duration": 448,
    "start_time": "2022-02-27T21:26:34.653Z"
   },
   {
    "duration": 150,
    "start_time": "2022-02-27T21:27:01.097Z"
   },
   {
    "duration": 166,
    "start_time": "2022-02-27T21:27:09.290Z"
   },
   {
    "duration": 4,
    "start_time": "2022-02-27T21:29:05.449Z"
   },
   {
    "duration": 1108,
    "start_time": "2022-02-27T21:29:12.555Z"
   },
   {
    "duration": 386,
    "start_time": "2022-02-27T21:29:13.665Z"
   },
   {
    "duration": 9,
    "start_time": "2022-02-27T21:29:14.053Z"
   },
   {
    "duration": 36,
    "start_time": "2022-02-27T21:29:14.064Z"
   },
   {
    "duration": 19,
    "start_time": "2022-02-27T21:29:14.102Z"
   },
   {
    "duration": 27,
    "start_time": "2022-02-27T21:29:14.123Z"
   },
   {
    "duration": 70,
    "start_time": "2022-02-27T21:29:14.151Z"
   },
   {
    "duration": 3,
    "start_time": "2022-02-27T21:29:14.224Z"
   },
   {
    "duration": 94,
    "start_time": "2022-02-27T21:29:14.229Z"
   },
   {
    "duration": 44,
    "start_time": "2022-02-27T21:29:14.325Z"
   },
   {
    "duration": 210,
    "start_time": "2022-02-27T21:29:14.371Z"
   },
   {
    "duration": 2872,
    "start_time": "2022-02-27T21:29:14.582Z"
   },
   {
    "duration": 59,
    "start_time": "2022-02-27T21:29:17.455Z"
   },
   {
    "duration": 67,
    "start_time": "2022-02-27T21:29:17.515Z"
   },
   {
    "duration": 30,
    "start_time": "2022-02-27T21:29:17.583Z"
   },
   {
    "duration": 23,
    "start_time": "2022-02-27T21:29:17.615Z"
   },
   {
    "duration": 55,
    "start_time": "2022-02-27T21:29:17.640Z"
   },
   {
    "duration": 7,
    "start_time": "2022-02-27T21:29:17.696Z"
   },
   {
    "duration": 4,
    "start_time": "2022-02-27T21:29:17.704Z"
   },
   {
    "duration": 5,
    "start_time": "2022-02-27T21:29:17.710Z"
   },
   {
    "duration": 188,
    "start_time": "2022-02-27T21:29:17.717Z"
   },
   {
    "duration": 159,
    "start_time": "2022-02-27T21:32:39.244Z"
   },
   {
    "duration": 166,
    "start_time": "2022-02-27T21:32:59.108Z"
   },
   {
    "duration": 209,
    "start_time": "2022-02-27T21:38:27.207Z"
   },
   {
    "duration": 233,
    "start_time": "2022-02-27T21:38:36.288Z"
   },
   {
    "duration": 242,
    "start_time": "2022-02-27T21:39:03.762Z"
   },
   {
    "duration": 234,
    "start_time": "2022-02-27T21:39:53.412Z"
   },
   {
    "duration": 243,
    "start_time": "2022-02-27T21:40:15.496Z"
   },
   {
    "duration": 5488,
    "start_time": "2022-02-27T21:40:37.214Z"
   },
   {
    "duration": 249,
    "start_time": "2022-02-27T21:40:49.564Z"
   },
   {
    "duration": 1085,
    "start_time": "2022-02-27T21:41:06.284Z"
   },
   {
    "duration": 399,
    "start_time": "2022-02-27T21:41:07.371Z"
   },
   {
    "duration": 8,
    "start_time": "2022-02-27T21:41:07.772Z"
   },
   {
    "duration": 24,
    "start_time": "2022-02-27T21:41:07.782Z"
   },
   {
    "duration": 10,
    "start_time": "2022-02-27T21:41:07.808Z"
   },
   {
    "duration": 15,
    "start_time": "2022-02-27T21:41:07.820Z"
   },
   {
    "duration": 68,
    "start_time": "2022-02-27T21:41:07.837Z"
   },
   {
    "duration": 4,
    "start_time": "2022-02-27T21:41:07.907Z"
   },
   {
    "duration": 100,
    "start_time": "2022-02-27T21:41:07.912Z"
   },
   {
    "duration": 49,
    "start_time": "2022-02-27T21:41:08.014Z"
   },
   {
    "duration": 202,
    "start_time": "2022-02-27T21:41:08.064Z"
   },
   {
    "duration": 2868,
    "start_time": "2022-02-27T21:41:08.268Z"
   },
   {
    "duration": 58,
    "start_time": "2022-02-27T21:41:11.138Z"
   },
   {
    "duration": 51,
    "start_time": "2022-02-27T21:41:11.198Z"
   },
   {
    "duration": 38,
    "start_time": "2022-02-27T21:41:11.251Z"
   },
   {
    "duration": 23,
    "start_time": "2022-02-27T21:41:11.291Z"
   },
   {
    "duration": 56,
    "start_time": "2022-02-27T21:41:11.316Z"
   },
   {
    "duration": 7,
    "start_time": "2022-02-27T21:41:11.374Z"
   },
   {
    "duration": 4,
    "start_time": "2022-02-27T21:41:11.382Z"
   },
   {
    "duration": 5,
    "start_time": "2022-02-27T21:41:11.388Z"
   },
   {
    "duration": 252,
    "start_time": "2022-02-27T21:41:11.395Z"
   },
   {
    "duration": 9,
    "start_time": "2022-02-27T21:45:07.612Z"
   },
   {
    "duration": 25,
    "start_time": "2022-02-27T21:45:15.204Z"
   },
   {
    "duration": 6,
    "start_time": "2022-02-27T21:48:39.527Z"
   },
   {
    "duration": 25,
    "start_time": "2022-02-27T21:48:40.528Z"
   },
   {
    "duration": 1122,
    "start_time": "2022-02-27T21:49:49.341Z"
   },
   {
    "duration": 397,
    "start_time": "2022-02-27T21:49:50.465Z"
   },
   {
    "duration": 8,
    "start_time": "2022-02-27T21:49:50.864Z"
   },
   {
    "duration": 27,
    "start_time": "2022-02-27T21:49:50.873Z"
   },
   {
    "duration": 19,
    "start_time": "2022-02-27T21:49:50.902Z"
   },
   {
    "duration": 26,
    "start_time": "2022-02-27T21:49:50.922Z"
   },
   {
    "duration": 77,
    "start_time": "2022-02-27T21:49:50.949Z"
   },
   {
    "duration": 4,
    "start_time": "2022-02-27T21:49:51.028Z"
   },
   {
    "duration": 96,
    "start_time": "2022-02-27T21:49:51.034Z"
   },
   {
    "duration": 47,
    "start_time": "2022-02-27T21:49:51.132Z"
   },
   {
    "duration": 228,
    "start_time": "2022-02-27T21:49:51.180Z"
   },
   {
    "duration": 2893,
    "start_time": "2022-02-27T21:49:51.410Z"
   },
   {
    "duration": 61,
    "start_time": "2022-02-27T21:49:54.305Z"
   },
   {
    "duration": 55,
    "start_time": "2022-02-27T21:49:54.367Z"
   },
   {
    "duration": 49,
    "start_time": "2022-02-27T21:49:54.424Z"
   },
   {
    "duration": 25,
    "start_time": "2022-02-27T21:49:54.476Z"
   },
   {
    "duration": 36,
    "start_time": "2022-02-27T21:49:54.504Z"
   },
   {
    "duration": 28,
    "start_time": "2022-02-27T21:49:54.542Z"
   },
   {
    "duration": 5,
    "start_time": "2022-02-27T21:49:54.572Z"
   },
   {
    "duration": 6,
    "start_time": "2022-02-27T21:49:54.579Z"
   },
   {
    "duration": 250,
    "start_time": "2022-02-27T21:49:54.587Z"
   },
   {
    "duration": 7,
    "start_time": "2022-02-27T21:49:54.839Z"
   },
   {
    "duration": 34,
    "start_time": "2022-02-27T21:49:54.848Z"
   },
   {
    "duration": 218,
    "start_time": "2022-02-27T21:57:03.547Z"
   },
   {
    "duration": 32,
    "start_time": "2022-02-27T21:59:18.013Z"
   },
   {
    "duration": 966,
    "start_time": "2022-03-03T17:14:49.852Z"
   },
   {
    "duration": 374,
    "start_time": "2022-03-03T17:14:50.820Z"
   },
   {
    "duration": 7,
    "start_time": "2022-03-03T17:14:51.196Z"
   },
   {
    "duration": 17,
    "start_time": "2022-03-03T17:14:51.205Z"
   },
   {
    "duration": 20,
    "start_time": "2022-03-03T17:14:51.224Z"
   },
   {
    "duration": 12,
    "start_time": "2022-03-03T17:14:51.245Z"
   },
   {
    "duration": 65,
    "start_time": "2022-03-03T17:14:51.258Z"
   },
   {
    "duration": 3,
    "start_time": "2022-03-03T17:14:51.325Z"
   },
   {
    "duration": 81,
    "start_time": "2022-03-03T17:14:51.329Z"
   },
   {
    "duration": 30,
    "start_time": "2022-03-03T17:14:51.411Z"
   },
   {
    "duration": 167,
    "start_time": "2022-03-03T17:14:51.442Z"
   },
   {
    "duration": 2646,
    "start_time": "2022-03-03T17:14:51.611Z"
   },
   {
    "duration": 53,
    "start_time": "2022-03-03T17:14:54.259Z"
   },
   {
    "duration": 44,
    "start_time": "2022-03-03T17:14:54.313Z"
   },
   {
    "duration": 43,
    "start_time": "2022-03-03T17:14:54.359Z"
   },
   {
    "duration": 22,
    "start_time": "2022-03-03T17:14:54.404Z"
   },
   {
    "duration": 30,
    "start_time": "2022-03-03T17:14:54.428Z"
   },
   {
    "duration": 7,
    "start_time": "2022-03-03T17:14:54.460Z"
   },
   {
    "duration": 34,
    "start_time": "2022-03-03T17:14:54.468Z"
   },
   {
    "duration": 2,
    "start_time": "2022-03-03T17:14:54.504Z"
   },
   {
    "duration": 209,
    "start_time": "2022-03-03T17:14:54.508Z"
   },
   {
    "duration": 7,
    "start_time": "2022-03-03T17:14:54.719Z"
   },
   {
    "duration": 30,
    "start_time": "2022-03-03T17:14:54.728Z"
   },
   {
    "duration": 10,
    "start_time": "2022-03-03T17:14:54.759Z"
   },
   {
    "duration": 106,
    "start_time": "2022-03-03T17:28:21.207Z"
   },
   {
    "duration": 105,
    "start_time": "2022-03-03T17:28:34.506Z"
   },
   {
    "duration": 413,
    "start_time": "2022-03-03T17:28:56.880Z"
   },
   {
    "duration": 12,
    "start_time": "2022-03-03T17:29:13.993Z"
   },
   {
    "duration": 13,
    "start_time": "2022-03-03T17:35:11.352Z"
   },
   {
    "duration": 15,
    "start_time": "2022-03-03T17:35:39.959Z"
   },
   {
    "duration": 11,
    "start_time": "2022-03-03T17:37:17.110Z"
   },
   {
    "duration": 15,
    "start_time": "2022-03-03T17:37:32.851Z"
   },
   {
    "duration": 15,
    "start_time": "2022-03-03T17:38:47.740Z"
   },
   {
    "duration": 15,
    "start_time": "2022-03-03T17:39:46.215Z"
   },
   {
    "duration": 15,
    "start_time": "2022-03-03T17:40:11.447Z"
   },
   {
    "duration": 28,
    "start_time": "2022-03-03T17:41:09.697Z"
   },
   {
    "duration": 24,
    "start_time": "2022-03-03T17:41:28.515Z"
   },
   {
    "duration": 18,
    "start_time": "2022-03-03T17:42:40.560Z"
   },
   {
    "duration": 19,
    "start_time": "2022-03-03T17:43:30.225Z"
   },
   {
    "duration": -29,
    "start_time": "2022-03-03T17:45:52.840Z"
   },
   {
    "duration": 7,
    "start_time": "2022-03-03T17:45:59.116Z"
   },
   {
    "duration": 6,
    "start_time": "2022-03-03T17:46:24.956Z"
   },
   {
    "duration": 7358,
    "start_time": "2022-03-03T17:47:07.241Z"
   },
   {
    "duration": 7,
    "start_time": "2022-03-03T17:47:25.912Z"
   },
   {
    "duration": 170,
    "start_time": "2022-03-03T17:50:47.352Z"
   },
   {
    "duration": 7220,
    "start_time": "2022-03-03T17:53:35.511Z"
   },
   {
    "duration": 17,
    "start_time": "2022-03-03T17:54:06.062Z"
   },
   {
    "duration": 170,
    "start_time": "2022-03-03T17:55:10.521Z"
   },
   {
    "duration": 160,
    "start_time": "2022-03-03T17:58:46.842Z"
   },
   {
    "duration": 173,
    "start_time": "2022-03-03T18:00:03.539Z"
   },
   {
    "duration": 4,
    "start_time": "2022-03-03T18:00:54.673Z"
   },
   {
    "duration": 201,
    "start_time": "2022-03-03T18:00:55.069Z"
   },
   {
    "duration": 4,
    "start_time": "2022-03-03T18:00:55.337Z"
   },
   {
    "duration": 32,
    "start_time": "2022-03-03T18:00:55.618Z"
   },
   {
    "duration": 7,
    "start_time": "2022-03-03T18:00:56.024Z"
   },
   {
    "duration": 17,
    "start_time": "2022-03-03T18:00:57.761Z"
   },
   {
    "duration": 920,
    "start_time": "2022-03-03T18:01:06.750Z"
   },
   {
    "duration": 374,
    "start_time": "2022-03-03T18:01:07.672Z"
   },
   {
    "duration": 7,
    "start_time": "2022-03-03T18:01:08.047Z"
   },
   {
    "duration": 8,
    "start_time": "2022-03-03T18:01:08.056Z"
   },
   {
    "duration": 7,
    "start_time": "2022-03-03T18:01:08.066Z"
   },
   {
    "duration": 8,
    "start_time": "2022-03-03T18:01:08.075Z"
   },
   {
    "duration": 51,
    "start_time": "2022-03-03T18:01:08.085Z"
   },
   {
    "duration": 3,
    "start_time": "2022-03-03T18:01:08.138Z"
   },
   {
    "duration": 82,
    "start_time": "2022-03-03T18:01:08.143Z"
   },
   {
    "duration": 32,
    "start_time": "2022-03-03T18:01:08.226Z"
   },
   {
    "duration": 173,
    "start_time": "2022-03-03T18:01:08.259Z"
   },
   {
    "duration": 2503,
    "start_time": "2022-03-03T18:01:08.433Z"
   },
   {
    "duration": 46,
    "start_time": "2022-03-03T18:01:10.938Z"
   },
   {
    "duration": 52,
    "start_time": "2022-03-03T18:01:10.986Z"
   },
   {
    "duration": 25,
    "start_time": "2022-03-03T18:01:11.040Z"
   },
   {
    "duration": 38,
    "start_time": "2022-03-03T18:01:11.066Z"
   },
   {
    "duration": 30,
    "start_time": "2022-03-03T18:01:11.105Z"
   },
   {
    "duration": 6,
    "start_time": "2022-03-03T18:01:11.137Z"
   },
   {
    "duration": 359,
    "start_time": "2022-03-03T18:01:11.145Z"
   },
   {
    "duration": 18,
    "start_time": "2022-03-03T18:01:11.489Z"
   },
   {
    "duration": 17,
    "start_time": "2022-03-03T18:01:11.491Z"
   },
   {
    "duration": 15,
    "start_time": "2022-03-03T18:01:11.494Z"
   },
   {
    "duration": 15,
    "start_time": "2022-03-03T18:01:11.496Z"
   },
   {
    "duration": 12,
    "start_time": "2022-03-03T18:01:11.500Z"
   },
   {
    "duration": 11,
    "start_time": "2022-03-03T18:01:11.502Z"
   },
   {
    "duration": 10,
    "start_time": "2022-03-03T18:01:11.505Z"
   },
   {
    "duration": 189,
    "start_time": "2022-03-03T18:01:24.066Z"
   },
   {
    "duration": 7,
    "start_time": "2022-03-03T18:01:24.361Z"
   },
   {
    "duration": 35,
    "start_time": "2022-03-03T18:01:24.630Z"
   },
   {
    "duration": 6,
    "start_time": "2022-03-03T18:01:25.047Z"
   },
   {
    "duration": 16,
    "start_time": "2022-03-03T18:01:25.313Z"
   },
   {
    "duration": 167,
    "start_time": "2022-03-03T18:01:25.527Z"
   },
   {
    "duration": 946,
    "start_time": "2022-03-03T18:01:31.618Z"
   },
   {
    "duration": 370,
    "start_time": "2022-03-03T18:01:32.566Z"
   },
   {
    "duration": 7,
    "start_time": "2022-03-03T18:01:32.938Z"
   },
   {
    "duration": 21,
    "start_time": "2022-03-03T18:01:32.946Z"
   },
   {
    "duration": 23,
    "start_time": "2022-03-03T18:01:32.968Z"
   },
   {
    "duration": 13,
    "start_time": "2022-03-03T18:01:32.992Z"
   },
   {
    "duration": 69,
    "start_time": "2022-03-03T18:01:33.006Z"
   },
   {
    "duration": 2,
    "start_time": "2022-03-03T18:01:33.077Z"
   },
   {
    "duration": 75,
    "start_time": "2022-03-03T18:01:33.081Z"
   },
   {
    "duration": 29,
    "start_time": "2022-03-03T18:01:33.157Z"
   },
   {
    "duration": 181,
    "start_time": "2022-03-03T18:01:33.187Z"
   },
   {
    "duration": 2528,
    "start_time": "2022-03-03T18:01:33.369Z"
   },
   {
    "duration": 45,
    "start_time": "2022-03-03T18:01:35.901Z"
   },
   {
    "duration": 55,
    "start_time": "2022-03-03T18:01:35.947Z"
   },
   {
    "duration": 25,
    "start_time": "2022-03-03T18:01:36.003Z"
   },
   {
    "duration": 21,
    "start_time": "2022-03-03T18:01:36.030Z"
   },
   {
    "duration": 50,
    "start_time": "2022-03-03T18:01:36.052Z"
   },
   {
    "duration": 8,
    "start_time": "2022-03-03T18:01:36.103Z"
   },
   {
    "duration": 198,
    "start_time": "2022-03-03T18:01:36.113Z"
   },
   {
    "duration": 7,
    "start_time": "2022-03-03T18:01:36.313Z"
   },
   {
    "duration": 33,
    "start_time": "2022-03-03T18:01:36.321Z"
   },
   {
    "duration": 6,
    "start_time": "2022-03-03T18:01:36.356Z"
   },
   {
    "duration": 41,
    "start_time": "2022-03-03T18:01:36.365Z"
   },
   {
    "duration": 183,
    "start_time": "2022-03-03T18:01:36.407Z"
   },
   {
    "duration": 358,
    "start_time": "2022-03-03T18:01:36.591Z"
   },
   {
    "duration": 1030,
    "start_time": "2022-03-03T18:03:01.180Z"
   },
   {
    "duration": 374,
    "start_time": "2022-03-03T18:03:02.212Z"
   },
   {
    "duration": 8,
    "start_time": "2022-03-03T18:03:02.591Z"
   },
   {
    "duration": 9,
    "start_time": "2022-03-03T18:03:02.601Z"
   },
   {
    "duration": 8,
    "start_time": "2022-03-03T18:03:02.612Z"
   },
   {
    "duration": 10,
    "start_time": "2022-03-03T18:03:02.622Z"
   },
   {
    "duration": 80,
    "start_time": "2022-03-03T18:03:02.635Z"
   },
   {
    "duration": 3,
    "start_time": "2022-03-03T18:03:02.718Z"
   },
   {
    "duration": 83,
    "start_time": "2022-03-03T18:03:02.723Z"
   },
   {
    "duration": 35,
    "start_time": "2022-03-03T18:03:02.807Z"
   },
   {
    "duration": 181,
    "start_time": "2022-03-03T18:03:02.844Z"
   },
   {
    "duration": 2555,
    "start_time": "2022-03-03T18:03:03.026Z"
   },
   {
    "duration": 62,
    "start_time": "2022-03-03T18:03:05.583Z"
   },
   {
    "duration": 55,
    "start_time": "2022-03-03T18:03:05.647Z"
   },
   {
    "duration": 28,
    "start_time": "2022-03-03T18:03:05.704Z"
   },
   {
    "duration": 23,
    "start_time": "2022-03-03T18:03:05.735Z"
   },
   {
    "duration": 62,
    "start_time": "2022-03-03T18:03:05.760Z"
   },
   {
    "duration": 6,
    "start_time": "2022-03-03T18:03:05.824Z"
   },
   {
    "duration": 3,
    "start_time": "2022-03-03T18:03:05.832Z"
   },
   {
    "duration": 5,
    "start_time": "2022-03-03T18:03:05.836Z"
   },
   {
    "duration": 215,
    "start_time": "2022-03-03T18:03:05.842Z"
   },
   {
    "duration": 7,
    "start_time": "2022-03-03T18:03:06.059Z"
   },
   {
    "duration": 35,
    "start_time": "2022-03-03T18:03:06.068Z"
   },
   {
    "duration": 11,
    "start_time": "2022-03-03T18:03:06.104Z"
   },
   {
    "duration": 16,
    "start_time": "2022-03-03T18:03:06.116Z"
   },
   {
    "duration": 182,
    "start_time": "2022-03-03T18:03:06.133Z"
   },
   {
    "duration": 367,
    "start_time": "2022-03-03T18:03:06.317Z"
   },
   {
    "duration": 186,
    "start_time": "2022-03-03T18:03:52.294Z"
   },
   {
    "duration": 5,
    "start_time": "2022-03-03T18:03:52.660Z"
   },
   {
    "duration": 30,
    "start_time": "2022-03-03T18:03:53.001Z"
   },
   {
    "duration": 6,
    "start_time": "2022-03-03T18:03:53.492Z"
   },
   {
    "duration": 17,
    "start_time": "2022-03-03T18:03:54.888Z"
   },
   {
    "duration": 160,
    "start_time": "2022-03-03T18:03:55.358Z"
   },
   {
    "duration": 943,
    "start_time": "2022-03-03T18:05:09.231Z"
   },
   {
    "duration": 365,
    "start_time": "2022-03-03T18:05:10.176Z"
   },
   {
    "duration": 7,
    "start_time": "2022-03-03T18:05:10.543Z"
   },
   {
    "duration": 7,
    "start_time": "2022-03-03T18:05:10.552Z"
   },
   {
    "duration": 11,
    "start_time": "2022-03-03T18:05:10.561Z"
   },
   {
    "duration": 9,
    "start_time": "2022-03-03T18:05:10.573Z"
   },
   {
    "duration": 51,
    "start_time": "2022-03-03T18:05:10.583Z"
   },
   {
    "duration": 3,
    "start_time": "2022-03-03T18:05:10.636Z"
   },
   {
    "duration": 76,
    "start_time": "2022-03-03T18:05:10.641Z"
   },
   {
    "duration": 29,
    "start_time": "2022-03-03T18:05:10.719Z"
   },
   {
    "duration": 168,
    "start_time": "2022-03-03T18:05:10.750Z"
   },
   {
    "duration": 3221,
    "start_time": "2022-03-03T18:05:10.920Z"
   },
   {
    "duration": 46,
    "start_time": "2022-03-03T18:05:14.143Z"
   },
   {
    "duration": 54,
    "start_time": "2022-03-03T18:05:14.190Z"
   },
   {
    "duration": 26,
    "start_time": "2022-03-03T18:05:14.245Z"
   },
   {
    "duration": 38,
    "start_time": "2022-03-03T18:05:14.272Z"
   },
   {
    "duration": 31,
    "start_time": "2022-03-03T18:05:14.312Z"
   },
   {
    "duration": 6,
    "start_time": "2022-03-03T18:05:14.345Z"
   },
   {
    "duration": 3,
    "start_time": "2022-03-03T18:05:14.353Z"
   },
   {
    "duration": 5,
    "start_time": "2022-03-03T18:05:14.357Z"
   },
   {
    "duration": 257,
    "start_time": "2022-03-03T18:05:14.363Z"
   },
   {
    "duration": 7,
    "start_time": "2022-03-03T18:05:14.622Z"
   },
   {
    "duration": 30,
    "start_time": "2022-03-03T18:05:14.632Z"
   },
   {
    "duration": 7,
    "start_time": "2022-03-03T18:05:14.664Z"
   },
   {
    "duration": 37,
    "start_time": "2022-03-03T18:05:14.673Z"
   },
   {
    "duration": 182,
    "start_time": "2022-03-03T18:05:14.712Z"
   },
   {
    "duration": 389,
    "start_time": "2022-03-03T18:05:14.895Z"
   },
   {
    "duration": 168,
    "start_time": "2022-03-03T18:05:37.354Z"
   },
   {
    "duration": 169,
    "start_time": "2022-03-03T18:06:17.819Z"
   },
   {
    "duration": 192,
    "start_time": "2022-03-03T18:06:38.728Z"
   },
   {
    "duration": 5,
    "start_time": "2022-03-03T18:06:39.092Z"
   },
   {
    "duration": 29,
    "start_time": "2022-03-03T18:06:39.406Z"
   },
   {
    "duration": 6,
    "start_time": "2022-03-03T18:06:39.865Z"
   },
   {
    "duration": 18,
    "start_time": "2022-03-03T18:06:40.456Z"
   },
   {
    "duration": 164,
    "start_time": "2022-03-03T18:06:40.771Z"
   },
   {
    "duration": 185,
    "start_time": "2022-03-03T18:06:40.937Z"
   },
   {
    "duration": 227,
    "start_time": "2022-03-03T18:07:01.135Z"
   },
   {
    "duration": 168,
    "start_time": "2022-03-03T18:07:08.655Z"
   },
   {
    "duration": 119,
    "start_time": "2022-03-03T18:08:05.318Z"
   },
   {
    "duration": 171,
    "start_time": "2022-03-03T18:08:11.073Z"
   },
   {
    "duration": 168,
    "start_time": "2022-03-03T18:08:21.027Z"
   },
   {
    "duration": 181,
    "start_time": "2022-03-03T18:08:35.837Z"
   },
   {
    "duration": 172,
    "start_time": "2022-03-03T18:08:42.952Z"
   },
   {
    "duration": 244,
    "start_time": "2022-03-03T18:08:47.246Z"
   },
   {
    "duration": 307,
    "start_time": "2022-03-03T18:09:30.333Z"
   },
   {
    "duration": 4,
    "start_time": "2022-03-03T18:10:34.084Z"
   },
   {
    "duration": 986,
    "start_time": "2022-03-03T18:10:42.061Z"
   },
   {
    "duration": 372,
    "start_time": "2022-03-03T18:10:43.049Z"
   },
   {
    "duration": 7,
    "start_time": "2022-03-03T18:10:43.423Z"
   },
   {
    "duration": 8,
    "start_time": "2022-03-03T18:10:43.432Z"
   },
   {
    "duration": 8,
    "start_time": "2022-03-03T18:10:43.441Z"
   },
   {
    "duration": 9,
    "start_time": "2022-03-03T18:10:43.450Z"
   },
   {
    "duration": 63,
    "start_time": "2022-03-03T18:10:43.460Z"
   },
   {
    "duration": 2,
    "start_time": "2022-03-03T18:10:43.525Z"
   },
   {
    "duration": 78,
    "start_time": "2022-03-03T18:10:43.529Z"
   },
   {
    "duration": 32,
    "start_time": "2022-03-03T18:10:43.608Z"
   },
   {
    "duration": 169,
    "start_time": "2022-03-03T18:10:43.642Z"
   },
   {
    "duration": 2540,
    "start_time": "2022-03-03T18:10:43.813Z"
   },
   {
    "duration": 48,
    "start_time": "2022-03-03T18:10:46.355Z"
   },
   {
    "duration": 46,
    "start_time": "2022-03-03T18:10:46.405Z"
   },
   {
    "duration": 26,
    "start_time": "2022-03-03T18:10:46.452Z"
   },
   {
    "duration": 42,
    "start_time": "2022-03-03T18:10:46.479Z"
   },
   {
    "duration": 30,
    "start_time": "2022-03-03T18:10:46.522Z"
   },
   {
    "duration": 6,
    "start_time": "2022-03-03T18:10:46.553Z"
   },
   {
    "duration": 3,
    "start_time": "2022-03-03T18:10:46.561Z"
   },
   {
    "duration": 5,
    "start_time": "2022-03-03T18:10:46.565Z"
   },
   {
    "duration": 209,
    "start_time": "2022-03-03T18:10:46.571Z"
   },
   {
    "duration": 6,
    "start_time": "2022-03-03T18:10:46.782Z"
   },
   {
    "duration": 32,
    "start_time": "2022-03-03T18:10:46.791Z"
   },
   {
    "duration": 6,
    "start_time": "2022-03-03T18:10:46.825Z"
   },
   {
    "duration": 16,
    "start_time": "2022-03-03T18:10:46.832Z"
   },
   {
    "duration": 191,
    "start_time": "2022-03-03T18:10:46.849Z"
   },
   {
    "duration": 179,
    "start_time": "2022-03-03T18:10:47.042Z"
   },
   {
    "duration": 409,
    "start_time": "2022-03-03T18:10:47.222Z"
   },
   {
    "duration": 292,
    "start_time": "2022-03-03T18:11:19.564Z"
   },
   {
    "duration": 8,
    "start_time": "2022-03-03T18:11:25.466Z"
   },
   {
    "duration": 174,
    "start_time": "2022-03-03T18:11:47.555Z"
   },
   {
    "duration": 3,
    "start_time": "2022-03-03T18:12:43.936Z"
   },
   {
    "duration": 3,
    "start_time": "2022-03-03T18:12:52.228Z"
   },
   {
    "duration": 4,
    "start_time": "2022-03-03T18:14:22.014Z"
   },
   {
    "duration": 4,
    "start_time": "2022-03-03T18:14:34.102Z"
   },
   {
    "duration": 4,
    "start_time": "2022-03-03T18:14:37.653Z"
   },
   {
    "duration": 106,
    "start_time": "2022-03-03T18:15:01.795Z"
   },
   {
    "duration": 106,
    "start_time": "2022-03-03T18:15:05.710Z"
   },
   {
    "duration": 4,
    "start_time": "2022-03-03T18:15:13.255Z"
   },
   {
    "duration": 299,
    "start_time": "2022-03-03T20:26:20.817Z"
   },
   {
    "duration": 1034,
    "start_time": "2022-03-03T20:26:31.443Z"
   },
   {
    "duration": 424,
    "start_time": "2022-03-03T20:26:32.479Z"
   },
   {
    "duration": 8,
    "start_time": "2022-03-03T20:26:32.905Z"
   },
   {
    "duration": 20,
    "start_time": "2022-03-03T20:26:32.915Z"
   },
   {
    "duration": 12,
    "start_time": "2022-03-03T20:26:32.937Z"
   },
   {
    "duration": 11,
    "start_time": "2022-03-03T20:26:32.951Z"
   },
   {
    "duration": 64,
    "start_time": "2022-03-03T20:26:32.964Z"
   },
   {
    "duration": 3,
    "start_time": "2022-03-03T20:26:33.031Z"
   },
   {
    "duration": 92,
    "start_time": "2022-03-03T20:26:33.036Z"
   },
   {
    "duration": 49,
    "start_time": "2022-03-03T20:26:33.130Z"
   },
   {
    "duration": 197,
    "start_time": "2022-03-03T20:26:33.181Z"
   },
   {
    "duration": 2910,
    "start_time": "2022-03-03T20:26:33.379Z"
   },
   {
    "duration": 52,
    "start_time": "2022-03-03T20:26:36.291Z"
   },
   {
    "duration": 66,
    "start_time": "2022-03-03T20:26:36.344Z"
   },
   {
    "duration": 29,
    "start_time": "2022-03-03T20:26:36.412Z"
   },
   {
    "duration": 41,
    "start_time": "2022-03-03T20:26:36.442Z"
   },
   {
    "duration": 36,
    "start_time": "2022-03-03T20:26:36.484Z"
   },
   {
    "duration": 6,
    "start_time": "2022-03-03T20:26:36.522Z"
   },
   {
    "duration": 3,
    "start_time": "2022-03-03T20:26:36.530Z"
   },
   {
    "duration": 8,
    "start_time": "2022-03-03T20:26:36.535Z"
   },
   {
    "duration": 250,
    "start_time": "2022-03-03T20:26:36.545Z"
   },
   {
    "duration": 6,
    "start_time": "2022-03-03T20:26:36.797Z"
   },
   {
    "duration": 35,
    "start_time": "2022-03-03T20:26:36.806Z"
   },
   {
    "duration": 10,
    "start_time": "2022-03-03T20:26:36.843Z"
   },
   {
    "duration": 36,
    "start_time": "2022-03-03T20:26:36.855Z"
   },
   {
    "duration": 235,
    "start_time": "2022-03-03T20:26:36.892Z"
   },
   {
    "duration": 235,
    "start_time": "2022-03-03T20:26:37.129Z"
   },
   {
    "duration": 225,
    "start_time": "2022-03-03T20:26:37.366Z"
   },
   {
    "duration": 345,
    "start_time": "2022-03-03T20:26:37.592Z"
   },
   {
    "duration": 7,
    "start_time": "2022-03-03T20:26:55.422Z"
   },
   {
    "duration": 6,
    "start_time": "2022-03-03T20:27:10.883Z"
   },
   {
    "duration": 17,
    "start_time": "2022-03-03T20:29:05.217Z"
   },
   {
    "duration": 15,
    "start_time": "2022-03-03T20:29:32.802Z"
   },
   {
    "duration": 135,
    "start_time": "2022-03-03T20:30:02.838Z"
   },
   {
    "duration": 86,
    "start_time": "2022-03-03T20:30:11.280Z"
   },
   {
    "duration": 102,
    "start_time": "2022-03-03T20:30:18.159Z"
   },
   {
    "duration": 17,
    "start_time": "2022-03-03T20:30:47.750Z"
   },
   {
    "duration": 298,
    "start_time": "2022-03-03T20:32:26.096Z"
   },
   {
    "duration": 24,
    "start_time": "2022-03-03T20:33:15.047Z"
   },
   {
    "duration": 1007,
    "start_time": "2022-03-03T20:35:27.491Z"
   },
   {
    "duration": 1380,
    "start_time": "2022-03-03T20:35:59.865Z"
   },
   {
    "duration": 1267,
    "start_time": "2022-03-03T20:36:33.453Z"
   },
   {
    "duration": 1353,
    "start_time": "2022-03-03T20:41:57.478Z"
   },
   {
    "duration": 1327,
    "start_time": "2022-03-03T20:42:08.324Z"
   },
   {
    "duration": 20,
    "start_time": "2022-03-03T20:43:30.432Z"
   },
   {
    "duration": 20,
    "start_time": "2022-03-03T20:43:40.743Z"
   },
   {
    "duration": 438,
    "start_time": "2022-03-03T20:47:16.292Z"
   },
   {
    "duration": 232,
    "start_time": "2022-03-03T20:48:10.674Z"
   },
   {
    "duration": 236,
    "start_time": "2022-03-03T20:48:13.028Z"
   },
   {
    "duration": 214,
    "start_time": "2022-03-03T20:48:13.547Z"
   },
   {
    "duration": 27,
    "start_time": "2022-03-03T20:48:14.178Z"
   },
   {
    "duration": 1198,
    "start_time": "2022-03-03T20:48:14.560Z"
   },
   {
    "duration": 89,
    "start_time": "2022-03-03T20:48:44.695Z"
   },
   {
    "duration": 1531,
    "start_time": "2022-03-03T20:48:52.863Z"
   },
   {
    "duration": 1174,
    "start_time": "2022-03-03T20:53:32.282Z"
   },
   {
    "duration": 6850,
    "start_time": "2022-03-03T21:19:35.744Z"
   },
   {
    "duration": 10,
    "start_time": "2022-03-03T21:20:56.270Z"
   },
   {
    "duration": 10,
    "start_time": "2022-03-03T21:23:53.318Z"
   },
   {
    "duration": 10,
    "start_time": "2022-03-03T21:24:26.988Z"
   },
   {
    "duration": 6,
    "start_time": "2022-03-03T21:27:33.484Z"
   },
   {
    "duration": 1095,
    "start_time": "2022-03-03T21:51:59.186Z"
   },
   {
    "duration": 459,
    "start_time": "2022-03-03T21:52:00.283Z"
   },
   {
    "duration": 10,
    "start_time": "2022-03-03T21:52:00.744Z"
   },
   {
    "duration": 10,
    "start_time": "2022-03-03T21:52:00.757Z"
   },
   {
    "duration": 20,
    "start_time": "2022-03-03T21:52:00.769Z"
   },
   {
    "duration": 25,
    "start_time": "2022-03-03T21:52:00.791Z"
   },
   {
    "duration": 90,
    "start_time": "2022-03-03T21:52:00.818Z"
   },
   {
    "duration": 3,
    "start_time": "2022-03-03T21:52:00.912Z"
   },
   {
    "duration": 104,
    "start_time": "2022-03-03T21:52:00.918Z"
   },
   {
    "duration": 54,
    "start_time": "2022-03-03T21:52:01.024Z"
   },
   {
    "duration": 232,
    "start_time": "2022-03-03T21:52:01.080Z"
   },
   {
    "duration": 2965,
    "start_time": "2022-03-03T21:52:01.314Z"
   },
   {
    "duration": 55,
    "start_time": "2022-03-03T21:52:04.280Z"
   },
   {
    "duration": 65,
    "start_time": "2022-03-03T21:52:04.337Z"
   },
   {
    "duration": 30,
    "start_time": "2022-03-03T21:52:04.404Z"
   },
   {
    "duration": 42,
    "start_time": "2022-03-03T21:52:04.436Z"
   },
   {
    "duration": 37,
    "start_time": "2022-03-03T21:52:04.480Z"
   },
   {
    "duration": 7,
    "start_time": "2022-03-03T21:52:04.519Z"
   },
   {
    "duration": 7,
    "start_time": "2022-03-03T21:52:04.528Z"
   },
   {
    "duration": 22,
    "start_time": "2022-03-03T21:52:04.537Z"
   },
   {
    "duration": 237,
    "start_time": "2022-03-03T21:52:04.560Z"
   },
   {
    "duration": 7,
    "start_time": "2022-03-03T21:52:04.798Z"
   },
   {
    "duration": 51,
    "start_time": "2022-03-03T21:52:04.808Z"
   },
   {
    "duration": 6,
    "start_time": "2022-03-03T21:52:04.861Z"
   },
   {
    "duration": 28,
    "start_time": "2022-03-03T21:52:04.869Z"
   },
   {
    "duration": 233,
    "start_time": "2022-03-03T21:52:04.898Z"
   },
   {
    "duration": 232,
    "start_time": "2022-03-03T21:52:05.132Z"
   },
   {
    "duration": 233,
    "start_time": "2022-03-03T21:52:05.366Z"
   },
   {
    "duration": 25,
    "start_time": "2022-03-03T21:52:05.601Z"
   },
   {
    "duration": 1414,
    "start_time": "2022-03-03T21:52:05.627Z"
   },
   {
    "duration": 35,
    "start_time": "2022-03-03T21:52:07.043Z"
   },
   {
    "duration": 233,
    "start_time": "2022-03-03T21:52:07.080Z"
   },
   {
    "duration": 237,
    "start_time": "2022-03-03T21:52:07.315Z"
   },
   {
    "duration": 238,
    "start_time": "2022-03-03T21:52:07.554Z"
   },
   {
    "duration": 97,
    "start_time": "2022-03-03T21:52:07.794Z"
   },
   {
    "duration": 1155,
    "start_time": "2022-03-03T21:52:07.893Z"
   },
   {
    "duration": 11,
    "start_time": "2022-03-03T21:52:09.050Z"
   },
   {
    "duration": 18,
    "start_time": "2022-03-03T21:52:09.063Z"
   },
   {
    "duration": 13,
    "start_time": "2022-03-03T21:52:09.083Z"
   },
   {
    "duration": 394,
    "start_time": "2022-03-03T21:53:49.792Z"
   },
   {
    "duration": 263,
    "start_time": "2022-03-03T21:53:58.446Z"
   },
   {
    "duration": 18,
    "start_time": "2022-03-03T21:54:02.834Z"
   },
   {
    "duration": 6,
    "start_time": "2022-03-03T21:56:38.311Z"
   },
   {
    "duration": 210,
    "start_time": "2022-03-03T23:11:18.529Z"
   },
   {
    "duration": 219,
    "start_time": "2022-03-03T23:11:38.278Z"
   },
   {
    "duration": 212,
    "start_time": "2022-03-03T23:11:46.050Z"
   },
   {
    "duration": 1119,
    "start_time": "2022-03-03T23:35:24.697Z"
   },
   {
    "duration": 431,
    "start_time": "2022-03-03T23:35:25.818Z"
   },
   {
    "duration": 9,
    "start_time": "2022-03-03T23:35:26.251Z"
   },
   {
    "duration": 10,
    "start_time": "2022-03-03T23:35:26.261Z"
   },
   {
    "duration": 11,
    "start_time": "2022-03-03T23:35:26.273Z"
   },
   {
    "duration": 12,
    "start_time": "2022-03-03T23:35:26.286Z"
   },
   {
    "duration": 79,
    "start_time": "2022-03-03T23:35:26.300Z"
   },
   {
    "duration": 4,
    "start_time": "2022-03-03T23:35:26.382Z"
   },
   {
    "duration": 89,
    "start_time": "2022-03-03T23:35:26.388Z"
   },
   {
    "duration": 39,
    "start_time": "2022-03-03T23:35:26.479Z"
   },
   {
    "duration": 226,
    "start_time": "2022-03-03T23:35:26.520Z"
   },
   {
    "duration": 2847,
    "start_time": "2022-03-03T23:35:26.748Z"
   },
   {
    "duration": 52,
    "start_time": "2022-03-03T23:35:29.596Z"
   },
   {
    "duration": 66,
    "start_time": "2022-03-03T23:35:29.649Z"
   },
   {
    "duration": 30,
    "start_time": "2022-03-03T23:35:29.716Z"
   },
   {
    "duration": 40,
    "start_time": "2022-03-03T23:35:29.748Z"
   },
   {
    "duration": 33,
    "start_time": "2022-03-03T23:35:29.790Z"
   },
   {
    "duration": 7,
    "start_time": "2022-03-03T23:35:29.825Z"
   },
   {
    "duration": 4,
    "start_time": "2022-03-03T23:35:29.833Z"
   },
   {
    "duration": 8,
    "start_time": "2022-03-03T23:35:29.839Z"
   },
   {
    "duration": 261,
    "start_time": "2022-03-03T23:35:29.849Z"
   },
   {
    "duration": 6,
    "start_time": "2022-03-03T23:35:30.112Z"
   },
   {
    "duration": 36,
    "start_time": "2022-03-03T23:35:30.121Z"
   },
   {
    "duration": 21,
    "start_time": "2022-03-03T23:35:30.160Z"
   },
   {
    "duration": 25,
    "start_time": "2022-03-03T23:35:30.183Z"
   },
   {
    "duration": 232,
    "start_time": "2022-03-03T23:35:30.209Z"
   },
   {
    "duration": 245,
    "start_time": "2022-03-03T23:35:30.442Z"
   },
   {
    "duration": 260,
    "start_time": "2022-03-03T23:35:30.689Z"
   },
   {
    "duration": 36,
    "start_time": "2022-03-03T23:35:30.951Z"
   },
   {
    "duration": 1243,
    "start_time": "2022-03-03T23:35:30.988Z"
   },
   {
    "duration": 19,
    "start_time": "2022-03-03T23:35:32.233Z"
   },
   {
    "duration": 248,
    "start_time": "2022-03-03T23:35:32.254Z"
   },
   {
    "duration": 245,
    "start_time": "2022-03-03T23:35:32.504Z"
   },
   {
    "duration": 239,
    "start_time": "2022-03-03T23:35:32.751Z"
   },
   {
    "duration": 95,
    "start_time": "2022-03-03T23:35:32.992Z"
   },
   {
    "duration": 1160,
    "start_time": "2022-03-03T23:35:33.088Z"
   },
   {
    "duration": 12,
    "start_time": "2022-03-03T23:35:34.249Z"
   },
   {
    "duration": 18,
    "start_time": "2022-03-03T23:35:34.263Z"
   },
   {
    "duration": 8,
    "start_time": "2022-03-03T23:35:34.283Z"
   },
   {
    "duration": 6,
    "start_time": "2022-03-03T23:35:34.293Z"
   },
   {
    "duration": 26,
    "start_time": "2022-03-03T23:36:53.435Z"
   },
   {
    "duration": 26,
    "start_time": "2022-03-03T23:37:06.524Z"
   },
   {
    "duration": 1114,
    "start_time": "2022-03-03T23:37:35.664Z"
   },
   {
    "duration": 439,
    "start_time": "2022-03-03T23:37:36.780Z"
   },
   {
    "duration": 8,
    "start_time": "2022-03-03T23:37:37.221Z"
   },
   {
    "duration": 12,
    "start_time": "2022-03-03T23:37:37.231Z"
   },
   {
    "duration": 20,
    "start_time": "2022-03-03T23:37:37.245Z"
   },
   {
    "duration": 12,
    "start_time": "2022-03-03T23:37:37.267Z"
   },
   {
    "duration": 64,
    "start_time": "2022-03-03T23:37:37.280Z"
   },
   {
    "duration": 31,
    "start_time": "2022-03-03T23:37:37.348Z"
   },
   {
    "duration": 75,
    "start_time": "2022-03-03T23:37:37.382Z"
   },
   {
    "duration": 55,
    "start_time": "2022-03-03T23:37:37.459Z"
   },
   {
    "duration": 231,
    "start_time": "2022-03-03T23:37:37.516Z"
   },
   {
    "duration": 2949,
    "start_time": "2022-03-03T23:37:37.749Z"
   },
   {
    "duration": 55,
    "start_time": "2022-03-03T23:37:40.699Z"
   },
   {
    "duration": 70,
    "start_time": "2022-03-03T23:37:40.756Z"
   },
   {
    "duration": 32,
    "start_time": "2022-03-03T23:37:40.828Z"
   },
   {
    "duration": 39,
    "start_time": "2022-03-03T23:37:40.862Z"
   },
   {
    "duration": 38,
    "start_time": "2022-03-03T23:37:40.903Z"
   },
   {
    "duration": 10,
    "start_time": "2022-03-03T23:37:40.943Z"
   },
   {
    "duration": 25,
    "start_time": "2022-03-03T23:37:40.955Z"
   },
   {
    "duration": 26,
    "start_time": "2022-03-03T23:37:40.982Z"
   },
   {
    "duration": 248,
    "start_time": "2022-03-03T23:37:41.010Z"
   },
   {
    "duration": 6,
    "start_time": "2022-03-03T23:37:41.260Z"
   },
   {
    "duration": 62,
    "start_time": "2022-03-03T23:37:41.270Z"
   },
   {
    "duration": 29,
    "start_time": "2022-03-03T23:37:41.335Z"
   },
   {
    "duration": 48,
    "start_time": "2022-03-03T23:37:41.366Z"
   },
   {
    "duration": 255,
    "start_time": "2022-03-03T23:37:41.417Z"
   },
   {
    "duration": 242,
    "start_time": "2022-03-03T23:37:41.677Z"
   },
   {
    "duration": 242,
    "start_time": "2022-03-03T23:37:41.920Z"
   },
   {
    "duration": 31,
    "start_time": "2022-03-03T23:37:42.163Z"
   },
   {
    "duration": 1378,
    "start_time": "2022-03-03T23:37:42.195Z"
   },
   {
    "duration": 20,
    "start_time": "2022-03-03T23:37:43.575Z"
   },
   {
    "duration": 257,
    "start_time": "2022-03-03T23:37:43.597Z"
   },
   {
    "duration": 256,
    "start_time": "2022-03-03T23:37:43.856Z"
   },
   {
    "duration": 226,
    "start_time": "2022-03-03T23:37:44.114Z"
   },
   {
    "duration": 101,
    "start_time": "2022-03-03T23:37:44.342Z"
   },
   {
    "duration": 1197,
    "start_time": "2022-03-03T23:37:44.445Z"
   },
   {
    "duration": 11,
    "start_time": "2022-03-03T23:37:45.643Z"
   },
   {
    "duration": 6,
    "start_time": "2022-03-03T23:37:45.655Z"
   },
   {
    "duration": 13,
    "start_time": "2022-03-03T23:37:45.678Z"
   },
   {
    "duration": 7,
    "start_time": "2022-03-03T23:37:45.693Z"
   },
   {
    "duration": 1029,
    "start_time": "2022-03-04T05:51:20.123Z"
   },
   {
    "duration": 381,
    "start_time": "2022-03-04T05:51:21.154Z"
   },
   {
    "duration": 8,
    "start_time": "2022-03-04T05:51:21.537Z"
   },
   {
    "duration": 7,
    "start_time": "2022-03-04T05:51:21.547Z"
   },
   {
    "duration": 8,
    "start_time": "2022-03-04T05:51:21.555Z"
   },
   {
    "duration": 20,
    "start_time": "2022-03-04T05:51:21.565Z"
   },
   {
    "duration": 70,
    "start_time": "2022-03-04T05:51:21.587Z"
   },
   {
    "duration": 4,
    "start_time": "2022-03-04T05:51:21.659Z"
   },
   {
    "duration": 81,
    "start_time": "2022-03-04T05:51:21.664Z"
   },
   {
    "duration": 35,
    "start_time": "2022-03-04T05:51:21.747Z"
   },
   {
    "duration": 199,
    "start_time": "2022-03-04T05:51:21.784Z"
   },
   {
    "duration": 2608,
    "start_time": "2022-03-04T05:51:21.984Z"
   },
   {
    "duration": 48,
    "start_time": "2022-03-04T05:51:24.594Z"
   },
   {
    "duration": 62,
    "start_time": "2022-03-04T05:51:24.644Z"
   },
   {
    "duration": 29,
    "start_time": "2022-03-04T05:51:24.708Z"
   },
   {
    "duration": 41,
    "start_time": "2022-03-04T05:51:24.739Z"
   },
   {
    "duration": 32,
    "start_time": "2022-03-04T05:51:24.781Z"
   },
   {
    "duration": 6,
    "start_time": "2022-03-04T05:51:24.814Z"
   },
   {
    "duration": 3,
    "start_time": "2022-03-04T05:51:24.822Z"
   },
   {
    "duration": 5,
    "start_time": "2022-03-04T05:51:24.827Z"
   },
   {
    "duration": 227,
    "start_time": "2022-03-04T05:51:24.833Z"
   },
   {
    "duration": 8,
    "start_time": "2022-03-04T05:51:25.061Z"
   },
   {
    "duration": 32,
    "start_time": "2022-03-04T05:51:25.071Z"
   },
   {
    "duration": 6,
    "start_time": "2022-03-04T05:51:25.105Z"
   },
   {
    "duration": 17,
    "start_time": "2022-03-04T05:51:25.112Z"
   },
   {
    "duration": 214,
    "start_time": "2022-03-04T05:51:25.130Z"
   },
   {
    "duration": 209,
    "start_time": "2022-03-04T05:51:25.345Z"
   },
   {
    "duration": 190,
    "start_time": "2022-03-04T05:51:25.556Z"
   },
   {
    "duration": 29,
    "start_time": "2022-03-04T05:51:25.748Z"
   },
   {
    "duration": 1090,
    "start_time": "2022-03-04T05:51:25.778Z"
   },
   {
    "duration": 17,
    "start_time": "2022-03-04T05:51:26.869Z"
   },
   {
    "duration": 198,
    "start_time": "2022-03-04T05:51:26.888Z"
   },
   {
    "duration": 199,
    "start_time": "2022-03-04T05:51:27.088Z"
   },
   {
    "duration": 193,
    "start_time": "2022-03-04T05:51:27.288Z"
   },
   {
    "duration": 98,
    "start_time": "2022-03-04T05:51:27.483Z"
   },
   {
    "duration": 1026,
    "start_time": "2022-03-04T05:51:27.583Z"
   },
   {
    "duration": 10,
    "start_time": "2022-03-04T05:51:28.611Z"
   },
   {
    "duration": 5,
    "start_time": "2022-03-04T05:51:28.622Z"
   },
   {
    "duration": 7,
    "start_time": "2022-03-04T05:51:28.629Z"
   },
   {
    "duration": 30,
    "start_time": "2022-03-04T05:51:28.637Z"
   },
   {
    "duration": 8,
    "start_time": "2022-03-04T06:09:00.682Z"
   },
   {
    "duration": 989,
    "start_time": "2022-03-04T06:09:07.678Z"
   },
   {
    "duration": 371,
    "start_time": "2022-03-04T06:09:08.669Z"
   },
   {
    "duration": 8,
    "start_time": "2022-03-04T06:09:09.043Z"
   },
   {
    "duration": 9,
    "start_time": "2022-03-04T06:09:09.052Z"
   },
   {
    "duration": 10,
    "start_time": "2022-03-04T06:09:09.063Z"
   },
   {
    "duration": 13,
    "start_time": "2022-03-04T06:09:09.074Z"
   },
   {
    "duration": 75,
    "start_time": "2022-03-04T06:09:09.089Z"
   },
   {
    "duration": 3,
    "start_time": "2022-03-04T06:09:09.166Z"
   },
   {
    "duration": 70,
    "start_time": "2022-03-04T06:09:09.171Z"
   },
   {
    "duration": 49,
    "start_time": "2022-03-04T06:09:09.242Z"
   },
   {
    "duration": 196,
    "start_time": "2022-03-04T06:09:09.293Z"
   },
   {
    "duration": 2586,
    "start_time": "2022-03-04T06:09:09.491Z"
   },
   {
    "duration": 47,
    "start_time": "2022-03-04T06:09:12.078Z"
   },
   {
    "duration": 69,
    "start_time": "2022-03-04T06:09:12.127Z"
   },
   {
    "duration": 28,
    "start_time": "2022-03-04T06:09:12.197Z"
   },
   {
    "duration": 37,
    "start_time": "2022-03-04T06:09:12.227Z"
   },
   {
    "duration": 36,
    "start_time": "2022-03-04T06:09:12.266Z"
   },
   {
    "duration": 8,
    "start_time": "2022-03-04T06:09:12.304Z"
   },
   {
    "duration": 6,
    "start_time": "2022-03-04T06:09:12.313Z"
   },
   {
    "duration": 3,
    "start_time": "2022-03-04T06:09:12.321Z"
   },
   {
    "duration": 5,
    "start_time": "2022-03-04T06:09:12.326Z"
   },
   {
    "duration": 233,
    "start_time": "2022-03-04T06:09:12.332Z"
   },
   {
    "duration": 7,
    "start_time": "2022-03-04T06:09:12.569Z"
   },
   {
    "duration": 30,
    "start_time": "2022-03-04T06:09:12.578Z"
   },
   {
    "duration": 10,
    "start_time": "2022-03-04T06:09:12.610Z"
   },
   {
    "duration": 16,
    "start_time": "2022-03-04T06:09:12.622Z"
   },
   {
    "duration": 198,
    "start_time": "2022-03-04T06:09:12.639Z"
   },
   {
    "duration": 191,
    "start_time": "2022-03-04T06:09:12.838Z"
   },
   {
    "duration": 196,
    "start_time": "2022-03-04T06:09:13.030Z"
   },
   {
    "duration": 35,
    "start_time": "2022-03-04T06:09:13.228Z"
   },
   {
    "duration": 1103,
    "start_time": "2022-03-04T06:09:13.265Z"
   },
   {
    "duration": 18,
    "start_time": "2022-03-04T06:09:14.370Z"
   },
   {
    "duration": 205,
    "start_time": "2022-03-04T06:09:14.389Z"
   },
   {
    "duration": 207,
    "start_time": "2022-03-04T06:09:14.595Z"
   },
   {
    "duration": 189,
    "start_time": "2022-03-04T06:09:14.804Z"
   },
   {
    "duration": 108,
    "start_time": "2022-03-04T06:09:14.996Z"
   },
   {
    "duration": 970,
    "start_time": "2022-03-04T06:09:15.106Z"
   },
   {
    "duration": 9,
    "start_time": "2022-03-04T06:09:16.078Z"
   },
   {
    "duration": 9,
    "start_time": "2022-03-04T06:09:16.088Z"
   },
   {
    "duration": 8,
    "start_time": "2022-03-04T06:09:16.099Z"
   },
   {
    "duration": 6,
    "start_time": "2022-03-04T06:09:16.108Z"
   },
   {
    "duration": 1050,
    "start_time": "2022-03-04T06:28:40.218Z"
   },
   {
    "duration": 1056,
    "start_time": "2022-03-04T06:45:53.586Z"
   },
   {
    "duration": 387,
    "start_time": "2022-03-04T06:45:54.645Z"
   },
   {
    "duration": 8,
    "start_time": "2022-03-04T06:45:55.035Z"
   },
   {
    "duration": 15,
    "start_time": "2022-03-04T06:45:55.045Z"
   },
   {
    "duration": 10,
    "start_time": "2022-03-04T06:45:55.062Z"
   },
   {
    "duration": 13,
    "start_time": "2022-03-04T06:45:55.074Z"
   },
   {
    "duration": 74,
    "start_time": "2022-03-04T06:45:55.089Z"
   },
   {
    "duration": 4,
    "start_time": "2022-03-04T06:45:55.164Z"
   },
   {
    "duration": 70,
    "start_time": "2022-03-04T06:45:55.170Z"
   },
   {
    "duration": 45,
    "start_time": "2022-03-04T06:45:55.242Z"
   },
   {
    "duration": 196,
    "start_time": "2022-03-04T06:45:55.289Z"
   },
   {
    "duration": 2658,
    "start_time": "2022-03-04T06:45:55.487Z"
   },
   {
    "duration": 53,
    "start_time": "2022-03-04T06:45:58.147Z"
   },
   {
    "duration": 65,
    "start_time": "2022-03-04T06:45:58.201Z"
   },
   {
    "duration": 30,
    "start_time": "2022-03-04T06:45:58.268Z"
   },
   {
    "duration": 24,
    "start_time": "2022-03-04T06:45:58.300Z"
   },
   {
    "duration": 62,
    "start_time": "2022-03-04T06:45:58.326Z"
   },
   {
    "duration": 8,
    "start_time": "2022-03-04T06:45:58.391Z"
   },
   {
    "duration": 5,
    "start_time": "2022-03-04T06:45:58.401Z"
   },
   {
    "duration": 10,
    "start_time": "2022-03-04T06:45:58.408Z"
   },
   {
    "duration": 216,
    "start_time": "2022-03-04T06:45:58.419Z"
   },
   {
    "duration": 8,
    "start_time": "2022-03-04T06:45:58.637Z"
   },
   {
    "duration": 39,
    "start_time": "2022-03-04T06:45:58.647Z"
   },
   {
    "duration": 6,
    "start_time": "2022-03-04T06:45:58.688Z"
   },
   {
    "duration": 17,
    "start_time": "2022-03-04T06:45:58.695Z"
   },
   {
    "duration": 201,
    "start_time": "2022-03-04T06:45:58.713Z"
   },
   {
    "duration": 186,
    "start_time": "2022-03-04T06:45:58.917Z"
   },
   {
    "duration": 196,
    "start_time": "2022-03-04T06:45:59.105Z"
   },
   {
    "duration": 22,
    "start_time": "2022-03-04T06:45:59.302Z"
   },
   {
    "duration": 1172,
    "start_time": "2022-03-04T06:45:59.325Z"
   },
   {
    "duration": 18,
    "start_time": "2022-03-04T06:46:00.498Z"
   },
   {
    "duration": 211,
    "start_time": "2022-03-04T06:46:00.517Z"
   },
   {
    "duration": 198,
    "start_time": "2022-03-04T06:46:00.729Z"
   },
   {
    "duration": 184,
    "start_time": "2022-03-04T06:46:00.929Z"
   },
   {
    "duration": 102,
    "start_time": "2022-03-04T06:46:01.115Z"
   },
   {
    "duration": 1084,
    "start_time": "2022-03-04T06:46:01.219Z"
   },
   {
    "duration": 10,
    "start_time": "2022-03-04T06:46:02.305Z"
   },
   {
    "duration": 39,
    "start_time": "2022-03-04T06:46:02.317Z"
   },
   {
    "duration": 24,
    "start_time": "2022-03-04T06:46:02.358Z"
   },
   {
    "duration": 20,
    "start_time": "2022-03-04T06:46:02.384Z"
   },
   {
    "duration": 1023,
    "start_time": "2022-03-05T13:20:53.794Z"
   },
   {
    "duration": 390,
    "start_time": "2022-03-05T13:20:54.820Z"
   },
   {
    "duration": 8,
    "start_time": "2022-03-05T13:20:55.212Z"
   },
   {
    "duration": 9,
    "start_time": "2022-03-05T13:20:55.222Z"
   },
   {
    "duration": 10,
    "start_time": "2022-03-05T13:20:55.233Z"
   },
   {
    "duration": 10,
    "start_time": "2022-03-05T13:20:55.245Z"
   },
   {
    "duration": 58,
    "start_time": "2022-03-05T13:20:55.256Z"
   },
   {
    "duration": 22,
    "start_time": "2022-03-05T13:20:55.316Z"
   },
   {
    "duration": 71,
    "start_time": "2022-03-05T13:20:55.340Z"
   },
   {
    "duration": 46,
    "start_time": "2022-03-05T13:20:55.412Z"
   },
   {
    "duration": 195,
    "start_time": "2022-03-05T13:20:55.459Z"
   },
   {
    "duration": 2572,
    "start_time": "2022-03-05T13:20:55.656Z"
   },
   {
    "duration": 47,
    "start_time": "2022-03-05T13:20:58.230Z"
   },
   {
    "duration": 73,
    "start_time": "2022-03-05T13:20:58.279Z"
   },
   {
    "duration": 32,
    "start_time": "2022-03-05T13:20:58.354Z"
   },
   {
    "duration": 27,
    "start_time": "2022-03-05T13:20:58.388Z"
   },
   {
    "duration": 51,
    "start_time": "2022-03-05T13:20:58.417Z"
   },
   {
    "duration": 6,
    "start_time": "2022-03-05T13:20:58.470Z"
   },
   {
    "duration": 4,
    "start_time": "2022-03-05T13:20:58.478Z"
   },
   {
    "duration": 10,
    "start_time": "2022-03-05T13:20:58.483Z"
   },
   {
    "duration": 236,
    "start_time": "2022-03-05T13:20:58.494Z"
   },
   {
    "duration": 10,
    "start_time": "2022-03-05T13:20:58.731Z"
   },
   {
    "duration": 34,
    "start_time": "2022-03-05T13:20:58.744Z"
   },
   {
    "duration": 9,
    "start_time": "2022-03-05T13:20:58.780Z"
   },
   {
    "duration": 17,
    "start_time": "2022-03-05T13:20:58.791Z"
   },
   {
    "duration": 222,
    "start_time": "2022-03-05T13:20:58.809Z"
   },
   {
    "duration": 205,
    "start_time": "2022-03-05T13:20:59.032Z"
   },
   {
    "duration": 211,
    "start_time": "2022-03-05T13:20:59.239Z"
   },
   {
    "duration": 25,
    "start_time": "2022-03-05T13:20:59.451Z"
   },
   {
    "duration": 1225,
    "start_time": "2022-03-05T13:20:59.478Z"
   },
   {
    "duration": 18,
    "start_time": "2022-03-05T13:21:00.705Z"
   },
   {
    "duration": 211,
    "start_time": "2022-03-05T13:21:00.738Z"
   },
   {
    "duration": 298,
    "start_time": "2022-03-05T13:21:00.950Z"
   },
   {
    "duration": 233,
    "start_time": "2022-03-05T13:21:01.250Z"
   },
   {
    "duration": 26,
    "start_time": "2022-03-05T13:21:01.485Z"
   },
   {
    "duration": 1109,
    "start_time": "2022-03-05T13:21:01.513Z"
   },
   {
    "duration": 19,
    "start_time": "2022-03-05T13:21:02.624Z"
   },
   {
    "duration": 10,
    "start_time": "2022-03-05T13:21:02.645Z"
   },
   {
    "duration": 21,
    "start_time": "2022-03-05T13:21:02.657Z"
   },
   {
    "duration": 23,
    "start_time": "2022-03-05T13:21:02.680Z"
   },
   {
    "duration": 3,
    "start_time": "2022-03-05T13:24:56.966Z"
   },
   {
    "duration": 39,
    "start_time": "2022-03-05T13:25:33.021Z"
   },
   {
    "duration": 4,
    "start_time": "2022-03-05T13:25:35.811Z"
   },
   {
    "duration": 37,
    "start_time": "2022-03-05T13:27:06.002Z"
   },
   {
    "duration": 37,
    "start_time": "2022-03-05T13:27:31.551Z"
   },
   {
    "duration": 4,
    "start_time": "2022-03-05T13:27:38.312Z"
   },
   {
    "duration": 5,
    "start_time": "2022-03-05T13:28:00.247Z"
   },
   {
    "duration": 8,
    "start_time": "2022-03-05T13:28:01.187Z"
   },
   {
    "duration": 251,
    "start_time": "2022-03-05T13:28:45.355Z"
   },
   {
    "duration": 36,
    "start_time": "2022-03-05T13:28:46.199Z"
   },
   {
    "duration": 35,
    "start_time": "2022-03-05T13:28:53.741Z"
   },
   {
    "duration": 4,
    "start_time": "2022-03-05T13:28:56.581Z"
   },
   {
    "duration": 34,
    "start_time": "2022-03-05T13:29:06.829Z"
   },
   {
    "duration": 5,
    "start_time": "2022-03-05T13:39:40.558Z"
   },
   {
    "duration": 9,
    "start_time": "2022-03-05T13:39:58.478Z"
   },
   {
    "duration": 5,
    "start_time": "2022-03-05T13:45:37.181Z"
   },
   {
    "duration": 221,
    "start_time": "2022-03-05T13:45:47.523Z"
   },
   {
    "duration": 6,
    "start_time": "2022-03-05T13:45:51.192Z"
   },
   {
    "duration": 1062,
    "start_time": "2022-03-05T13:45:58.554Z"
   },
   {
    "duration": 407,
    "start_time": "2022-03-05T13:45:59.619Z"
   },
   {
    "duration": 18,
    "start_time": "2022-03-05T13:46:00.029Z"
   },
   {
    "duration": 13,
    "start_time": "2022-03-05T13:46:00.049Z"
   },
   {
    "duration": 13,
    "start_time": "2022-03-05T13:46:00.063Z"
   },
   {
    "duration": 16,
    "start_time": "2022-03-05T13:46:00.078Z"
   },
   {
    "duration": 88,
    "start_time": "2022-03-05T13:46:00.096Z"
   },
   {
    "duration": 3,
    "start_time": "2022-03-05T13:46:00.186Z"
   },
   {
    "duration": 90,
    "start_time": "2022-03-05T13:46:00.191Z"
   },
   {
    "duration": 35,
    "start_time": "2022-03-05T13:46:00.283Z"
   },
   {
    "duration": 219,
    "start_time": "2022-03-05T13:46:00.320Z"
   },
   {
    "duration": 2648,
    "start_time": "2022-03-05T13:46:00.541Z"
   },
   {
    "duration": 51,
    "start_time": "2022-03-05T13:46:03.191Z"
   },
   {
    "duration": 71,
    "start_time": "2022-03-05T13:46:03.245Z"
   },
   {
    "duration": 48,
    "start_time": "2022-03-05T13:46:03.318Z"
   },
   {
    "duration": 29,
    "start_time": "2022-03-05T13:46:03.368Z"
   },
   {
    "duration": 61,
    "start_time": "2022-03-05T13:46:03.399Z"
   },
   {
    "duration": 4,
    "start_time": "2022-03-05T13:46:03.462Z"
   },
   {
    "duration": 36,
    "start_time": "2022-03-05T13:46:03.468Z"
   },
   {
    "duration": 32,
    "start_time": "2022-03-05T13:46:03.506Z"
   },
   {
    "duration": 9,
    "start_time": "2022-03-05T13:46:03.540Z"
   },
   {
    "duration": 6,
    "start_time": "2022-03-05T13:46:03.551Z"
   },
   {
    "duration": 8,
    "start_time": "2022-03-05T13:46:03.561Z"
   },
   {
    "duration": 5,
    "start_time": "2022-03-05T13:46:03.572Z"
   },
   {
    "duration": 258,
    "start_time": "2022-03-05T13:46:03.579Z"
   },
   {
    "duration": 6,
    "start_time": "2022-03-05T13:46:03.839Z"
   },
   {
    "duration": 36,
    "start_time": "2022-03-05T13:46:03.847Z"
   },
   {
    "duration": 7,
    "start_time": "2022-03-05T13:46:03.884Z"
   },
   {
    "duration": 46,
    "start_time": "2022-03-05T13:46:03.893Z"
   },
   {
    "duration": 215,
    "start_time": "2022-03-05T13:46:03.941Z"
   },
   {
    "duration": 223,
    "start_time": "2022-03-05T13:46:04.158Z"
   },
   {
    "duration": 225,
    "start_time": "2022-03-05T13:46:04.382Z"
   },
   {
    "duration": 40,
    "start_time": "2022-03-05T13:46:04.609Z"
   },
   {
    "duration": 1169,
    "start_time": "2022-03-05T13:46:04.650Z"
   },
   {
    "duration": 26,
    "start_time": "2022-03-05T13:46:05.820Z"
   },
   {
    "duration": 210,
    "start_time": "2022-03-05T13:46:05.847Z"
   },
   {
    "duration": 273,
    "start_time": "2022-03-05T13:46:06.058Z"
   },
   {
    "duration": 206,
    "start_time": "2022-03-05T13:46:06.333Z"
   },
   {
    "duration": 24,
    "start_time": "2022-03-05T13:46:06.541Z"
   },
   {
    "duration": 1070,
    "start_time": "2022-03-05T13:46:06.567Z"
   },
   {
    "duration": 11,
    "start_time": "2022-03-05T13:46:07.638Z"
   },
   {
    "duration": 6,
    "start_time": "2022-03-05T13:46:07.650Z"
   },
   {
    "duration": 8,
    "start_time": "2022-03-05T13:46:07.658Z"
   },
   {
    "duration": 9,
    "start_time": "2022-03-05T13:46:07.667Z"
   },
   {
    "duration": 1132,
    "start_time": "2022-03-05T13:47:34.767Z"
   },
   {
    "duration": 1231,
    "start_time": "2022-03-05T13:47:47.485Z"
   },
   {
    "duration": 193,
    "start_time": "2022-03-05T13:48:07.839Z"
   },
   {
    "duration": 189,
    "start_time": "2022-03-05T13:48:15.649Z"
   },
   {
    "duration": 198,
    "start_time": "2022-03-05T13:48:23.058Z"
   },
   {
    "duration": 194,
    "start_time": "2022-03-05T13:48:35.106Z"
   },
   {
    "duration": 191,
    "start_time": "2022-03-05T13:48:44.430Z"
   },
   {
    "duration": 200,
    "start_time": "2022-03-05T13:48:53.019Z"
   },
   {
    "duration": 1326,
    "start_time": "2022-03-05T13:52:54.537Z"
   },
   {
    "duration": 4478,
    "start_time": "2022-03-05T13:53:05.579Z"
   },
   {
    "duration": 179,
    "start_time": "2022-03-05T13:54:40.903Z"
   },
   {
    "duration": 4867,
    "start_time": "2022-03-05T13:55:03.106Z"
   },
   {
    "duration": 1252,
    "start_time": "2022-03-05T13:55:15.870Z"
   },
   {
    "duration": 5,
    "start_time": "2022-03-05T13:55:52.032Z"
   },
   {
    "duration": 190,
    "start_time": "2022-03-05T13:56:03.369Z"
   },
   {
    "duration": 1049,
    "start_time": "2022-03-05T13:56:22.378Z"
   },
   {
    "duration": 405,
    "start_time": "2022-03-05T13:56:23.429Z"
   },
   {
    "duration": 8,
    "start_time": "2022-03-05T13:56:23.836Z"
   },
   {
    "duration": 10,
    "start_time": "2022-03-05T13:56:23.845Z"
   },
   {
    "duration": 11,
    "start_time": "2022-03-05T13:56:23.857Z"
   },
   {
    "duration": 12,
    "start_time": "2022-03-05T13:56:23.870Z"
   },
   {
    "duration": 77,
    "start_time": "2022-03-05T13:56:23.883Z"
   },
   {
    "duration": 4,
    "start_time": "2022-03-05T13:56:23.962Z"
   },
   {
    "duration": 88,
    "start_time": "2022-03-05T13:56:23.967Z"
   },
   {
    "duration": 33,
    "start_time": "2022-03-05T13:56:24.057Z"
   },
   {
    "duration": 214,
    "start_time": "2022-03-05T13:56:24.092Z"
   },
   {
    "duration": 2719,
    "start_time": "2022-03-05T13:56:24.308Z"
   },
   {
    "duration": 52,
    "start_time": "2022-03-05T13:56:27.029Z"
   },
   {
    "duration": 72,
    "start_time": "2022-03-05T13:56:27.083Z"
   },
   {
    "duration": 34,
    "start_time": "2022-03-05T13:56:27.157Z"
   },
   {
    "duration": 29,
    "start_time": "2022-03-05T13:56:27.193Z"
   },
   {
    "duration": 38,
    "start_time": "2022-03-05T13:56:27.238Z"
   },
   {
    "duration": 3,
    "start_time": "2022-03-05T13:56:27.278Z"
   },
   {
    "duration": 59,
    "start_time": "2022-03-05T13:56:27.283Z"
   },
   {
    "duration": 4,
    "start_time": "2022-03-05T13:56:27.344Z"
   },
   {
    "duration": 11,
    "start_time": "2022-03-05T13:56:27.350Z"
   },
   {
    "duration": 13,
    "start_time": "2022-03-05T13:56:27.363Z"
   },
   {
    "duration": 11,
    "start_time": "2022-03-05T13:56:27.379Z"
   },
   {
    "duration": 244,
    "start_time": "2022-03-05T13:56:27.393Z"
   },
   {
    "duration": 7,
    "start_time": "2022-03-05T13:56:27.639Z"
   },
   {
    "duration": 32,
    "start_time": "2022-03-05T13:56:27.648Z"
   },
   {
    "duration": 18,
    "start_time": "2022-03-05T13:56:27.682Z"
   },
   {
    "duration": 5,
    "start_time": "2022-03-05T13:56:27.702Z"
   },
   {
    "duration": 43,
    "start_time": "2022-03-05T13:56:27.709Z"
   },
   {
    "duration": 216,
    "start_time": "2022-03-05T13:56:27.753Z"
   },
   {
    "duration": 213,
    "start_time": "2022-03-05T13:56:27.971Z"
   },
   {
    "duration": 213,
    "start_time": "2022-03-05T13:56:28.186Z"
   },
   {
    "duration": 39,
    "start_time": "2022-03-05T13:56:28.401Z"
   },
   {
    "duration": 1182,
    "start_time": "2022-03-05T13:56:28.441Z"
   },
   {
    "duration": 27,
    "start_time": "2022-03-05T13:56:29.624Z"
   },
   {
    "duration": 208,
    "start_time": "2022-03-05T13:56:29.652Z"
   },
   {
    "duration": 317,
    "start_time": "2022-03-05T13:56:29.862Z"
   },
   {
    "duration": 216,
    "start_time": "2022-03-05T13:56:30.181Z"
   },
   {
    "duration": 25,
    "start_time": "2022-03-05T13:56:30.399Z"
   },
   {
    "duration": 1119,
    "start_time": "2022-03-05T13:56:30.437Z"
   },
   {
    "duration": 9,
    "start_time": "2022-03-05T13:56:31.558Z"
   },
   {
    "duration": 8,
    "start_time": "2022-03-05T13:56:31.569Z"
   },
   {
    "duration": 14,
    "start_time": "2022-03-05T13:56:31.578Z"
   },
   {
    "duration": 11,
    "start_time": "2022-03-05T13:56:31.594Z"
   },
   {
    "duration": 272,
    "start_time": "2022-03-05T13:59:05.438Z"
   },
   {
    "duration": 1053,
    "start_time": "2022-03-05T13:59:16.460Z"
   },
   {
    "duration": 409,
    "start_time": "2022-03-05T13:59:17.516Z"
   },
   {
    "duration": 8,
    "start_time": "2022-03-05T13:59:17.927Z"
   },
   {
    "duration": 10,
    "start_time": "2022-03-05T13:59:17.936Z"
   },
   {
    "duration": 8,
    "start_time": "2022-03-05T13:59:17.948Z"
   },
   {
    "duration": 11,
    "start_time": "2022-03-05T13:59:17.958Z"
   },
   {
    "duration": 78,
    "start_time": "2022-03-05T13:59:17.970Z"
   },
   {
    "duration": 3,
    "start_time": "2022-03-05T13:59:18.050Z"
   },
   {
    "duration": 85,
    "start_time": "2022-03-05T13:59:18.055Z"
   },
   {
    "duration": 35,
    "start_time": "2022-03-05T13:59:18.142Z"
   },
   {
    "duration": 226,
    "start_time": "2022-03-05T13:59:18.179Z"
   },
   {
    "duration": 2687,
    "start_time": "2022-03-05T13:59:18.406Z"
   },
   {
    "duration": 52,
    "start_time": "2022-03-05T13:59:21.094Z"
   },
   {
    "duration": 65,
    "start_time": "2022-03-05T13:59:21.148Z"
   },
   {
    "duration": 46,
    "start_time": "2022-03-05T13:59:21.215Z"
   },
   {
    "duration": 29,
    "start_time": "2022-03-05T13:59:21.263Z"
   },
   {
    "duration": 57,
    "start_time": "2022-03-05T13:59:21.294Z"
   },
   {
    "duration": 5,
    "start_time": "2022-03-05T13:59:21.353Z"
   },
   {
    "duration": 42,
    "start_time": "2022-03-05T13:59:21.359Z"
   },
   {
    "duration": 4,
    "start_time": "2022-03-05T13:59:21.402Z"
   },
   {
    "duration": 31,
    "start_time": "2022-03-05T13:59:21.407Z"
   },
   {
    "duration": 6,
    "start_time": "2022-03-05T13:59:21.439Z"
   },
   {
    "duration": 5,
    "start_time": "2022-03-05T13:59:21.448Z"
   },
   {
    "duration": 248,
    "start_time": "2022-03-05T13:59:21.455Z"
   },
   {
    "duration": 6,
    "start_time": "2022-03-05T13:59:21.705Z"
   },
   {
    "duration": 47,
    "start_time": "2022-03-05T13:59:21.713Z"
   },
   {
    "duration": 15,
    "start_time": "2022-03-05T13:59:21.761Z"
   },
   {
    "duration": 5,
    "start_time": "2022-03-05T13:59:21.778Z"
   },
   {
    "duration": 21,
    "start_time": "2022-03-05T13:59:21.785Z"
   },
   {
    "duration": 230,
    "start_time": "2022-03-05T13:59:21.807Z"
   },
   {
    "duration": 219,
    "start_time": "2022-03-05T13:59:22.039Z"
   },
   {
    "duration": 211,
    "start_time": "2022-03-05T13:59:22.260Z"
   },
   {
    "duration": 25,
    "start_time": "2022-03-05T13:59:22.473Z"
   },
   {
    "duration": 1215,
    "start_time": "2022-03-05T13:59:22.500Z"
   },
   {
    "duration": 31,
    "start_time": "2022-03-05T13:59:23.717Z"
   },
   {
    "duration": 216,
    "start_time": "2022-03-05T13:59:23.750Z"
   },
   {
    "duration": 278,
    "start_time": "2022-03-05T13:59:23.967Z"
   },
   {
    "duration": 202,
    "start_time": "2022-03-05T13:59:24.247Z"
   },
   {
    "duration": 25,
    "start_time": "2022-03-05T13:59:24.450Z"
   },
   {
    "duration": 1134,
    "start_time": "2022-03-05T13:59:24.476Z"
   },
   {
    "duration": 11,
    "start_time": "2022-03-05T13:59:25.612Z"
   },
   {
    "duration": 5,
    "start_time": "2022-03-05T13:59:25.638Z"
   },
   {
    "duration": 8,
    "start_time": "2022-03-05T13:59:25.645Z"
   },
   {
    "duration": 6,
    "start_time": "2022-03-05T13:59:25.655Z"
   },
   {
    "duration": 1083,
    "start_time": "2022-03-05T14:07:51.128Z"
   },
   {
    "duration": 394,
    "start_time": "2022-03-05T14:07:52.213Z"
   },
   {
    "duration": 9,
    "start_time": "2022-03-05T14:07:52.610Z"
   },
   {
    "duration": 11,
    "start_time": "2022-03-05T14:07:52.621Z"
   },
   {
    "duration": 9,
    "start_time": "2022-03-05T14:07:52.634Z"
   },
   {
    "duration": 17,
    "start_time": "2022-03-05T14:07:52.645Z"
   },
   {
    "duration": 76,
    "start_time": "2022-03-05T14:07:52.663Z"
   },
   {
    "duration": 4,
    "start_time": "2022-03-05T14:07:52.741Z"
   },
   {
    "duration": 83,
    "start_time": "2022-03-05T14:07:52.747Z"
   },
   {
    "duration": 35,
    "start_time": "2022-03-05T14:07:52.831Z"
   },
   {
    "duration": 226,
    "start_time": "2022-03-05T14:07:52.867Z"
   },
   {
    "duration": 2730,
    "start_time": "2022-03-05T14:07:53.095Z"
   },
   {
    "duration": 49,
    "start_time": "2022-03-05T14:07:55.826Z"
   },
   {
    "duration": 74,
    "start_time": "2022-03-05T14:07:55.876Z"
   },
   {
    "duration": 32,
    "start_time": "2022-03-05T14:07:55.952Z"
   },
   {
    "duration": 27,
    "start_time": "2022-03-05T14:07:55.986Z"
   },
   {
    "duration": 55,
    "start_time": "2022-03-05T14:07:56.015Z"
   },
   {
    "duration": 5,
    "start_time": "2022-03-05T14:07:56.071Z"
   },
   {
    "duration": 37,
    "start_time": "2022-03-05T14:07:56.078Z"
   },
   {
    "duration": 23,
    "start_time": "2022-03-05T14:07:56.117Z"
   },
   {
    "duration": 8,
    "start_time": "2022-03-05T14:07:56.142Z"
   },
   {
    "duration": 6,
    "start_time": "2022-03-05T14:07:56.152Z"
   },
   {
    "duration": 5,
    "start_time": "2022-03-05T14:07:56.162Z"
   },
   {
    "duration": 262,
    "start_time": "2022-03-05T14:07:56.169Z"
   },
   {
    "duration": 8,
    "start_time": "2022-03-05T14:07:56.433Z"
   },
   {
    "duration": 34,
    "start_time": "2022-03-05T14:07:56.442Z"
   },
   {
    "duration": 17,
    "start_time": "2022-03-05T14:07:56.478Z"
   },
   {
    "duration": 6,
    "start_time": "2022-03-05T14:07:56.497Z"
   },
   {
    "duration": 48,
    "start_time": "2022-03-05T14:07:56.504Z"
   },
   {
    "duration": 209,
    "start_time": "2022-03-05T14:07:56.554Z"
   },
   {
    "duration": 216,
    "start_time": "2022-03-05T14:07:56.765Z"
   },
   {
    "duration": 207,
    "start_time": "2022-03-05T14:07:56.983Z"
   },
   {
    "duration": 24,
    "start_time": "2022-03-05T14:07:57.192Z"
   },
   {
    "duration": 1189,
    "start_time": "2022-03-05T14:07:57.217Z"
   },
   {
    "duration": 31,
    "start_time": "2022-03-05T14:07:58.408Z"
   },
   {
    "duration": 202,
    "start_time": "2022-03-05T14:07:58.441Z"
   },
   {
    "duration": 275,
    "start_time": "2022-03-05T14:07:58.645Z"
   },
   {
    "duration": 204,
    "start_time": "2022-03-05T14:07:58.921Z"
   },
   {
    "duration": 29,
    "start_time": "2022-03-05T14:07:59.126Z"
   },
   {
    "duration": 1100,
    "start_time": "2022-03-05T14:07:59.157Z"
   },
   {
    "duration": 10,
    "start_time": "2022-03-05T14:08:00.259Z"
   },
   {
    "duration": 6,
    "start_time": "2022-03-05T14:08:00.271Z"
   },
   {
    "duration": 10,
    "start_time": "2022-03-05T14:08:00.279Z"
   },
   {
    "duration": 8,
    "start_time": "2022-03-05T14:08:00.291Z"
   },
   {
    "duration": 976,
    "start_time": "2022-03-05T14:13:09.377Z"
   },
   {
    "duration": 383,
    "start_time": "2022-03-05T14:13:10.355Z"
   },
   {
    "duration": 8,
    "start_time": "2022-03-05T14:13:10.739Z"
   },
   {
    "duration": 8,
    "start_time": "2022-03-05T14:13:10.749Z"
   },
   {
    "duration": 10,
    "start_time": "2022-03-05T14:13:10.759Z"
   },
   {
    "duration": 10,
    "start_time": "2022-03-05T14:13:10.770Z"
   },
   {
    "duration": 78,
    "start_time": "2022-03-05T14:13:10.782Z"
   },
   {
    "duration": 3,
    "start_time": "2022-03-05T14:13:10.863Z"
   },
   {
    "duration": 90,
    "start_time": "2022-03-05T14:13:10.868Z"
   },
   {
    "duration": 38,
    "start_time": "2022-03-05T14:13:10.959Z"
   },
   {
    "duration": 227,
    "start_time": "2022-03-05T14:13:10.999Z"
   },
   {
    "duration": 2722,
    "start_time": "2022-03-05T14:13:11.238Z"
   },
   {
    "duration": 46,
    "start_time": "2022-03-05T14:13:13.962Z"
   },
   {
    "duration": 74,
    "start_time": "2022-03-05T14:13:14.010Z"
   },
   {
    "duration": 31,
    "start_time": "2022-03-05T14:13:14.085Z"
   },
   {
    "duration": 39,
    "start_time": "2022-03-05T14:13:14.118Z"
   },
   {
    "duration": 35,
    "start_time": "2022-03-05T14:13:14.159Z"
   },
   {
    "duration": 3,
    "start_time": "2022-03-05T14:13:14.196Z"
   },
   {
    "duration": 58,
    "start_time": "2022-03-05T14:13:14.201Z"
   },
   {
    "duration": 3,
    "start_time": "2022-03-05T14:13:14.261Z"
   },
   {
    "duration": 11,
    "start_time": "2022-03-05T14:13:14.266Z"
   },
   {
    "duration": 5,
    "start_time": "2022-03-05T14:13:14.279Z"
   },
   {
    "duration": 7,
    "start_time": "2022-03-05T14:13:14.287Z"
   },
   {
    "duration": 252,
    "start_time": "2022-03-05T14:13:14.296Z"
   },
   {
    "duration": 6,
    "start_time": "2022-03-05T14:13:14.550Z"
   },
   {
    "duration": 35,
    "start_time": "2022-03-05T14:13:14.557Z"
   },
   {
    "duration": 13,
    "start_time": "2022-03-05T14:13:14.594Z"
   },
   {
    "duration": 5,
    "start_time": "2022-03-05T14:13:14.609Z"
   },
   {
    "duration": 20,
    "start_time": "2022-03-05T14:13:14.638Z"
   },
   {
    "duration": 211,
    "start_time": "2022-03-05T14:13:14.659Z"
   },
   {
    "duration": 233,
    "start_time": "2022-03-05T14:13:14.871Z"
   },
   {
    "duration": 218,
    "start_time": "2022-03-05T14:13:15.106Z"
   },
   {
    "duration": 36,
    "start_time": "2022-03-05T14:13:15.326Z"
   },
   {
    "duration": 1255,
    "start_time": "2022-03-05T14:13:15.364Z"
   },
   {
    "duration": 29,
    "start_time": "2022-03-05T14:13:16.621Z"
   },
   {
    "duration": 224,
    "start_time": "2022-03-05T14:13:16.652Z"
   },
   {
    "duration": 292,
    "start_time": "2022-03-05T14:13:16.878Z"
   },
   {
    "duration": 200,
    "start_time": "2022-03-05T14:13:17.173Z"
   },
   {
    "duration": 24,
    "start_time": "2022-03-05T14:13:17.374Z"
   },
   {
    "duration": 1119,
    "start_time": "2022-03-05T14:13:17.400Z"
   },
   {
    "duration": 19,
    "start_time": "2022-03-05T14:13:18.521Z"
   },
   {
    "duration": 8,
    "start_time": "2022-03-05T14:13:18.541Z"
   },
   {
    "duration": 8,
    "start_time": "2022-03-05T14:13:18.551Z"
   },
   {
    "duration": 13,
    "start_time": "2022-03-05T14:13:18.561Z"
   }
  ],
  "kernelspec": {
   "display_name": "Python 3 (ipykernel)",
   "language": "python",
   "name": "python3"
  },
  "language_info": {
   "codemirror_mode": {
    "name": "ipython",
    "version": 3
   },
   "file_extension": ".py",
   "mimetype": "text/x-python",
   "name": "python",
   "nbconvert_exporter": "python",
   "pygments_lexer": "ipython3",
   "version": "3.9.7"
  },
  "toc": {
   "base_numbering": 1,
   "nav_menu": {},
   "number_sections": true,
   "sideBar": true,
   "skip_h1_title": true,
   "title_cell": "Содержание",
   "title_sidebar": "Contents",
   "toc_cell": true,
   "toc_position": {
    "height": "calc(100% - 180px)",
    "left": "10px",
    "top": "150px",
    "width": "270.390625px"
   },
   "toc_section_display": true,
   "toc_window_display": true
  }
 },
 "nbformat": 4,
 "nbformat_minor": 2
}
