{
 "cells": [
  {
   "cell_type": "markdown",
   "metadata": {
    "toc": true
   },
   "source": [
    "<h1>Содержание<span class=\"tocSkip\"></span></h1>\n",
    "<div class=\"toc\"><ul class=\"toc-item\"><li><span><a href=\"#Первоначальное-ознакомление-с-данными\" data-toc-modified-id=\"Первоначальное-ознакомление-с-данными-1\"><span class=\"toc-item-num\">1&nbsp;&nbsp;</span>Первоначальное ознакомление с данными</a></span></li><li><span><a href=\"#Предобработка-данных\" data-toc-modified-id=\"Предобработка-данных-2\"><span class=\"toc-item-num\">2&nbsp;&nbsp;</span>Предобработка данных</a></span><ul class=\"toc-item\"><li><span><a href=\"#Обработка-пропусков\" data-toc-modified-id=\"Обработка-пропусков-2.1\"><span class=\"toc-item-num\">2.1&nbsp;&nbsp;</span>Обработка пропусков</a></span></li><li><span><a href=\"#Замена-типа-данных\" data-toc-modified-id=\"Замена-типа-данных-2.2\"><span class=\"toc-item-num\">2.2&nbsp;&nbsp;</span>Замена типа данных</a></span></li><li><span><a href=\"#Обработка-дубликатов\" data-toc-modified-id=\"Обработка-дубликатов-2.3\"><span class=\"toc-item-num\">2.3&nbsp;&nbsp;</span>Обработка дубликатов</a></span></li><li><span><a href=\"#Лемматизация\" data-toc-modified-id=\"Лемматизация-2.4\"><span class=\"toc-item-num\">2.4&nbsp;&nbsp;</span>Лемматизация</a></span></li><li><span><a href=\"#Категоризация-данных\" data-toc-modified-id=\"Категоризация-данных-2.5\"><span class=\"toc-item-num\">2.5&nbsp;&nbsp;</span>Категоризация данных</a></span></li></ul></li><li><span><a href=\"#Ответы-на-вопросы\" data-toc-modified-id=\"Ответы-на-вопросы-3\"><span class=\"toc-item-num\">3&nbsp;&nbsp;</span>Ответы на вопросы</a></span></li><li><span><a href=\"#Общий-вывод\" data-toc-modified-id=\"Общий-вывод-4\"><span class=\"toc-item-num\">4&nbsp;&nbsp;</span>Общий вывод</a></span></li></ul></div>"
   ]
  },
  {
   "cell_type": "markdown",
   "metadata": {},
   "source": [
    "# Исследование надёжности заёмщиков\n",
    "\n",
    "Заказчик — кредитный отдел банка. Нужно разобраться, влияет ли семейное положение и количество детей клиента на факт погашения кредита в срок. Входные данные от банка — статистика о платёжеспособности клиентов.\n",
    "\n",
    "Результаты исследования будут учтены при построении модели **кредитного скоринга** — специальной системы, которая оценивает способность потенциального заёмщика вернуть кредит банку."
   ]
  },
  {
   "cell_type": "markdown",
   "metadata": {},
   "source": [
    "## Первоначальное ознакомление с данными"
   ]
  },
  {
   "cell_type": "markdown",
   "metadata": {},
   "source": [
    "Для работы с данными необходимо импортировать библиотеку `pandas`"
   ]
  },
  {
   "cell_type": "code",
   "execution_count": 1,
   "metadata": {},
   "outputs": [],
   "source": [
    "import pandas as pd \n",
    "\n",
    "import warnings\n",
    "warnings.filterwarnings('ignore')"
   ]
  },
  {
   "cell_type": "markdown",
   "metadata": {},
   "source": [
    "Далее откроем файл `data.csv`, сохраним его в переменной `df` и выведем на экран первые 15 строк таблицы "
   ]
  },
  {
   "cell_type": "code",
   "execution_count": 2,
   "metadata": {
    "scrolled": false
   },
   "outputs": [
    {
     "data": {
      "text/html": [
       "<div>\n",
       "<style scoped>\n",
       "    .dataframe tbody tr th:only-of-type {\n",
       "        vertical-align: middle;\n",
       "    }\n",
       "\n",
       "    .dataframe tbody tr th {\n",
       "        vertical-align: top;\n",
       "    }\n",
       "\n",
       "    .dataframe thead th {\n",
       "        text-align: right;\n",
       "    }\n",
       "</style>\n",
       "<table border=\"1\" class=\"dataframe\">\n",
       "  <thead>\n",
       "    <tr style=\"text-align: right;\">\n",
       "      <th></th>\n",
       "      <th>children</th>\n",
       "      <th>days_employed</th>\n",
       "      <th>dob_years</th>\n",
       "      <th>education</th>\n",
       "      <th>education_id</th>\n",
       "      <th>family_status</th>\n",
       "      <th>family_status_id</th>\n",
       "      <th>gender</th>\n",
       "      <th>income_type</th>\n",
       "      <th>debt</th>\n",
       "      <th>total_income</th>\n",
       "      <th>purpose</th>\n",
       "    </tr>\n",
       "  </thead>\n",
       "  <tbody>\n",
       "    <tr>\n",
       "      <th>0</th>\n",
       "      <td>1</td>\n",
       "      <td>-8437.673028</td>\n",
       "      <td>42</td>\n",
       "      <td>высшее</td>\n",
       "      <td>0</td>\n",
       "      <td>женат / замужем</td>\n",
       "      <td>0</td>\n",
       "      <td>F</td>\n",
       "      <td>сотрудник</td>\n",
       "      <td>0</td>\n",
       "      <td>253875.639453</td>\n",
       "      <td>покупка жилья</td>\n",
       "    </tr>\n",
       "    <tr>\n",
       "      <th>1</th>\n",
       "      <td>1</td>\n",
       "      <td>-4024.803754</td>\n",
       "      <td>36</td>\n",
       "      <td>среднее</td>\n",
       "      <td>1</td>\n",
       "      <td>женат / замужем</td>\n",
       "      <td>0</td>\n",
       "      <td>F</td>\n",
       "      <td>сотрудник</td>\n",
       "      <td>0</td>\n",
       "      <td>112080.014102</td>\n",
       "      <td>приобретение автомобиля</td>\n",
       "    </tr>\n",
       "    <tr>\n",
       "      <th>2</th>\n",
       "      <td>0</td>\n",
       "      <td>-5623.422610</td>\n",
       "      <td>33</td>\n",
       "      <td>Среднее</td>\n",
       "      <td>1</td>\n",
       "      <td>женат / замужем</td>\n",
       "      <td>0</td>\n",
       "      <td>M</td>\n",
       "      <td>сотрудник</td>\n",
       "      <td>0</td>\n",
       "      <td>145885.952297</td>\n",
       "      <td>покупка жилья</td>\n",
       "    </tr>\n",
       "    <tr>\n",
       "      <th>3</th>\n",
       "      <td>3</td>\n",
       "      <td>-4124.747207</td>\n",
       "      <td>32</td>\n",
       "      <td>среднее</td>\n",
       "      <td>1</td>\n",
       "      <td>женат / замужем</td>\n",
       "      <td>0</td>\n",
       "      <td>M</td>\n",
       "      <td>сотрудник</td>\n",
       "      <td>0</td>\n",
       "      <td>267628.550329</td>\n",
       "      <td>дополнительное образование</td>\n",
       "    </tr>\n",
       "    <tr>\n",
       "      <th>4</th>\n",
       "      <td>0</td>\n",
       "      <td>340266.072047</td>\n",
       "      <td>53</td>\n",
       "      <td>среднее</td>\n",
       "      <td>1</td>\n",
       "      <td>гражданский брак</td>\n",
       "      <td>1</td>\n",
       "      <td>F</td>\n",
       "      <td>пенсионер</td>\n",
       "      <td>0</td>\n",
       "      <td>158616.077870</td>\n",
       "      <td>сыграть свадьбу</td>\n",
       "    </tr>\n",
       "    <tr>\n",
       "      <th>5</th>\n",
       "      <td>0</td>\n",
       "      <td>-926.185831</td>\n",
       "      <td>27</td>\n",
       "      <td>высшее</td>\n",
       "      <td>0</td>\n",
       "      <td>гражданский брак</td>\n",
       "      <td>1</td>\n",
       "      <td>M</td>\n",
       "      <td>компаньон</td>\n",
       "      <td>0</td>\n",
       "      <td>255763.565419</td>\n",
       "      <td>покупка жилья</td>\n",
       "    </tr>\n",
       "    <tr>\n",
       "      <th>6</th>\n",
       "      <td>0</td>\n",
       "      <td>-2879.202052</td>\n",
       "      <td>43</td>\n",
       "      <td>высшее</td>\n",
       "      <td>0</td>\n",
       "      <td>женат / замужем</td>\n",
       "      <td>0</td>\n",
       "      <td>F</td>\n",
       "      <td>компаньон</td>\n",
       "      <td>0</td>\n",
       "      <td>240525.971920</td>\n",
       "      <td>операции с жильем</td>\n",
       "    </tr>\n",
       "    <tr>\n",
       "      <th>7</th>\n",
       "      <td>0</td>\n",
       "      <td>-152.779569</td>\n",
       "      <td>50</td>\n",
       "      <td>СРЕДНЕЕ</td>\n",
       "      <td>1</td>\n",
       "      <td>женат / замужем</td>\n",
       "      <td>0</td>\n",
       "      <td>M</td>\n",
       "      <td>сотрудник</td>\n",
       "      <td>0</td>\n",
       "      <td>135823.934197</td>\n",
       "      <td>образование</td>\n",
       "    </tr>\n",
       "    <tr>\n",
       "      <th>8</th>\n",
       "      <td>2</td>\n",
       "      <td>-6929.865299</td>\n",
       "      <td>35</td>\n",
       "      <td>ВЫСШЕЕ</td>\n",
       "      <td>0</td>\n",
       "      <td>гражданский брак</td>\n",
       "      <td>1</td>\n",
       "      <td>F</td>\n",
       "      <td>сотрудник</td>\n",
       "      <td>0</td>\n",
       "      <td>95856.832424</td>\n",
       "      <td>на проведение свадьбы</td>\n",
       "    </tr>\n",
       "    <tr>\n",
       "      <th>9</th>\n",
       "      <td>0</td>\n",
       "      <td>-2188.756445</td>\n",
       "      <td>41</td>\n",
       "      <td>среднее</td>\n",
       "      <td>1</td>\n",
       "      <td>женат / замужем</td>\n",
       "      <td>0</td>\n",
       "      <td>M</td>\n",
       "      <td>сотрудник</td>\n",
       "      <td>0</td>\n",
       "      <td>144425.938277</td>\n",
       "      <td>покупка жилья для семьи</td>\n",
       "    </tr>\n",
       "    <tr>\n",
       "      <th>10</th>\n",
       "      <td>2</td>\n",
       "      <td>-4171.483647</td>\n",
       "      <td>36</td>\n",
       "      <td>высшее</td>\n",
       "      <td>0</td>\n",
       "      <td>женат / замужем</td>\n",
       "      <td>0</td>\n",
       "      <td>M</td>\n",
       "      <td>компаньон</td>\n",
       "      <td>0</td>\n",
       "      <td>113943.491460</td>\n",
       "      <td>покупка недвижимости</td>\n",
       "    </tr>\n",
       "    <tr>\n",
       "      <th>11</th>\n",
       "      <td>0</td>\n",
       "      <td>-792.701887</td>\n",
       "      <td>40</td>\n",
       "      <td>среднее</td>\n",
       "      <td>1</td>\n",
       "      <td>женат / замужем</td>\n",
       "      <td>0</td>\n",
       "      <td>F</td>\n",
       "      <td>сотрудник</td>\n",
       "      <td>0</td>\n",
       "      <td>77069.234271</td>\n",
       "      <td>покупка коммерческой недвижимости</td>\n",
       "    </tr>\n",
       "    <tr>\n",
       "      <th>12</th>\n",
       "      <td>0</td>\n",
       "      <td>NaN</td>\n",
       "      <td>65</td>\n",
       "      <td>среднее</td>\n",
       "      <td>1</td>\n",
       "      <td>гражданский брак</td>\n",
       "      <td>1</td>\n",
       "      <td>M</td>\n",
       "      <td>пенсионер</td>\n",
       "      <td>0</td>\n",
       "      <td>NaN</td>\n",
       "      <td>сыграть свадьбу</td>\n",
       "    </tr>\n",
       "    <tr>\n",
       "      <th>13</th>\n",
       "      <td>0</td>\n",
       "      <td>-1846.641941</td>\n",
       "      <td>54</td>\n",
       "      <td>неоконченное высшее</td>\n",
       "      <td>2</td>\n",
       "      <td>женат / замужем</td>\n",
       "      <td>0</td>\n",
       "      <td>F</td>\n",
       "      <td>сотрудник</td>\n",
       "      <td>0</td>\n",
       "      <td>130458.228857</td>\n",
       "      <td>приобретение автомобиля</td>\n",
       "    </tr>\n",
       "    <tr>\n",
       "      <th>14</th>\n",
       "      <td>0</td>\n",
       "      <td>-1844.956182</td>\n",
       "      <td>56</td>\n",
       "      <td>высшее</td>\n",
       "      <td>0</td>\n",
       "      <td>гражданский брак</td>\n",
       "      <td>1</td>\n",
       "      <td>F</td>\n",
       "      <td>компаньон</td>\n",
       "      <td>1</td>\n",
       "      <td>165127.911772</td>\n",
       "      <td>покупка жилой недвижимости</td>\n",
       "    </tr>\n",
       "  </tbody>\n",
       "</table>\n",
       "</div>"
      ],
      "text/plain": [
       "    children  days_employed  dob_years            education  education_id  \\\n",
       "0          1   -8437.673028         42               высшее             0   \n",
       "1          1   -4024.803754         36              среднее             1   \n",
       "2          0   -5623.422610         33              Среднее             1   \n",
       "3          3   -4124.747207         32              среднее             1   \n",
       "4          0  340266.072047         53              среднее             1   \n",
       "5          0    -926.185831         27               высшее             0   \n",
       "6          0   -2879.202052         43               высшее             0   \n",
       "7          0    -152.779569         50              СРЕДНЕЕ             1   \n",
       "8          2   -6929.865299         35               ВЫСШЕЕ             0   \n",
       "9          0   -2188.756445         41              среднее             1   \n",
       "10         2   -4171.483647         36               высшее             0   \n",
       "11         0    -792.701887         40              среднее             1   \n",
       "12         0            NaN         65              среднее             1   \n",
       "13         0   -1846.641941         54  неоконченное высшее             2   \n",
       "14         0   -1844.956182         56               высшее             0   \n",
       "\n",
       "       family_status  family_status_id gender income_type  debt  \\\n",
       "0    женат / замужем                 0      F   сотрудник     0   \n",
       "1    женат / замужем                 0      F   сотрудник     0   \n",
       "2    женат / замужем                 0      M   сотрудник     0   \n",
       "3    женат / замужем                 0      M   сотрудник     0   \n",
       "4   гражданский брак                 1      F   пенсионер     0   \n",
       "5   гражданский брак                 1      M   компаньон     0   \n",
       "6    женат / замужем                 0      F   компаньон     0   \n",
       "7    женат / замужем                 0      M   сотрудник     0   \n",
       "8   гражданский брак                 1      F   сотрудник     0   \n",
       "9    женат / замужем                 0      M   сотрудник     0   \n",
       "10   женат / замужем                 0      M   компаньон     0   \n",
       "11   женат / замужем                 0      F   сотрудник     0   \n",
       "12  гражданский брак                 1      M   пенсионер     0   \n",
       "13   женат / замужем                 0      F   сотрудник     0   \n",
       "14  гражданский брак                 1      F   компаньон     1   \n",
       "\n",
       "     total_income                            purpose  \n",
       "0   253875.639453                      покупка жилья  \n",
       "1   112080.014102            приобретение автомобиля  \n",
       "2   145885.952297                      покупка жилья  \n",
       "3   267628.550329         дополнительное образование  \n",
       "4   158616.077870                    сыграть свадьбу  \n",
       "5   255763.565419                      покупка жилья  \n",
       "6   240525.971920                  операции с жильем  \n",
       "7   135823.934197                        образование  \n",
       "8    95856.832424              на проведение свадьбы  \n",
       "9   144425.938277            покупка жилья для семьи  \n",
       "10  113943.491460               покупка недвижимости  \n",
       "11   77069.234271  покупка коммерческой недвижимости  \n",
       "12            NaN                    сыграть свадьбу  \n",
       "13  130458.228857            приобретение автомобиля  \n",
       "14  165127.911772         покупка жилой недвижимости  "
      ]
     },
     "execution_count": 2,
     "metadata": {},
     "output_type": "execute_result"
    }
   ],
   "source": [
    "try:\n",
    "    df = pd.read_csv('/Users/trndn/Desktop/DataScience/projects/data.csv')\n",
    "    \n",
    "except:\n",
    "    df = pd.read_csv('/datasets/data.csv')\n",
    "\n",
    "df.head(15)"
   ]
  },
  {
   "cell_type": "markdown",
   "metadata": {},
   "source": [
    "Также далее получим общую информацию о таблице:"
   ]
  },
  {
   "cell_type": "code",
   "execution_count": 3,
   "metadata": {},
   "outputs": [
    {
     "name": "stdout",
     "output_type": "stream",
     "text": [
      "<class 'pandas.core.frame.DataFrame'>\n",
      "RangeIndex: 21525 entries, 0 to 21524\n",
      "Data columns (total 12 columns):\n",
      " #   Column            Non-Null Count  Dtype  \n",
      "---  ------            --------------  -----  \n",
      " 0   children          21525 non-null  int64  \n",
      " 1   days_employed     19351 non-null  float64\n",
      " 2   dob_years         21525 non-null  int64  \n",
      " 3   education         21525 non-null  object \n",
      " 4   education_id      21525 non-null  int64  \n",
      " 5   family_status     21525 non-null  object \n",
      " 6   family_status_id  21525 non-null  int64  \n",
      " 7   gender            21525 non-null  object \n",
      " 8   income_type       21525 non-null  object \n",
      " 9   debt              21525 non-null  int64  \n",
      " 10  total_income      19351 non-null  float64\n",
      " 11  purpose           21525 non-null  object \n",
      "dtypes: float64(2), int64(5), object(5)\n",
      "memory usage: 2.0+ MB\n"
     ]
    }
   ],
   "source": [
    "df.info()"
   ]
  },
  {
   "cell_type": "markdown",
   "metadata": {},
   "source": [
    "Согласно документации к данным:\n",
    "* `children` — количество детей в семье\n",
    "* `days_employed` — общий трудовой стаж в днях\n",
    "* `dob_years` — возраст клиента в годах\n",
    "* `education` — уровень образования клиента\n",
    "* `education_id` — идентификатор уровня образования\n",
    "* `family_status` — семейное положение\n",
    "* `family_status_id` — идентификатор семейного положения\n",
    "* `gender` — пол клиента\n",
    "* `income_type` — тип занятости\n",
    "* `debt` — имел ли задолженность по возврату кредитов\n",
    "* `total_income` — ежемесячный доход\n",
    "* `purpose` — цель получения кредита"
   ]
  },
  {
   "cell_type": "markdown",
   "metadata": {},
   "source": [
    "**Вывод**"
   ]
  },
  {
   "cell_type": "markdown",
   "metadata": {},
   "source": [
    "Просмотрев таблицу и общую информацию о ней, мы получили первое представление о данных, с которыми нам дальше придётся работать. \n",
    "\n",
    "Пойдем по порядку.\n",
    "\n",
    "1. Просомтрев первые 15 строк таблицы, можно заметить, что в столбце `days_employed` имеются отрицательные значения, хотя такого невозможно, т. к. общий трудовой стаж не может принимать отрицательных значений. Причем, по модулю числа в столбце стажа кажутся нормальными. Так что минус мог быть просто тире. А вот огромные вызывают много вопросов. Это могут быть часы, а могут быть и пропуски, которые при выгрузке трансформировались в аномальные для конкретного столбца числа. На практике можно было бы обратиться к людям, кто выгружал данные, для прояснения. Но из-за того, что такой возможности нет, далее попробуем с этим разобраться самостоятельно. \n",
    "2. Далее в столбце `education` одинаковые по смыслу значения имеют разный вид записи(регистр). Далее можно поправить это, чтобы облегчить дальнейший анализ данных. \n",
    "3. В Столбце `total_income` некорректная запись данных для значения ежемесячный доход. К тому же в перых 15 строчках мы видим пропущенное значение. Далее проработаем этот столбец\n",
    "\n",
    "Замечания выше касались именно наблюдений после вывода первых 15 строк талицы.\n",
    "\n",
    "Перейдём к общей информации о таблице. Из неё мы видим:\n",
    "* таблица состоит из 12 столбцов\n",
    "* кол-во значений в столбцах различаются. Из этого следует, что в данных есть пропуски \n",
    "* тип данных `float` имееют следуюшие столбцы: `days_employed`, `total_income`\n",
    "* тип данных `int`: `children`, `dob_years`, `education_id`, `int64`, `debt `\n",
    "* тип данных `object`: `education`, `family_status`, `gender`, `income_type `, `purpose`\n"
   ]
  },
  {
   "cell_type": "markdown",
   "metadata": {},
   "source": [
    "## Предобработка данных"
   ]
  },
  {
   "cell_type": "markdown",
   "metadata": {},
   "source": [
    "### Обработка пропусков"
   ]
  },
  {
   "cell_type": "markdown",
   "metadata": {},
   "source": [
    "Для начала посчитаем, сколько в каждом столбце таблицы пропущенных значений."
   ]
  },
  {
   "cell_type": "code",
   "execution_count": 4,
   "metadata": {},
   "outputs": [
    {
     "data": {
      "text/plain": [
       "children               0\n",
       "days_employed       2174\n",
       "dob_years              0\n",
       "education              0\n",
       "education_id           0\n",
       "family_status          0\n",
       "family_status_id       0\n",
       "gender                 0\n",
       "income_type            0\n",
       "debt                   0\n",
       "total_income        2174\n",
       "purpose                0\n",
       "dtype: int64"
      ]
     },
     "execution_count": 4,
     "metadata": {},
     "output_type": "execute_result"
    }
   ],
   "source": [
    "df.isna().sum()"
   ]
  },
  {
   "cell_type": "markdown",
   "metadata": {},
   "source": [
    "В резульате мы видим, что пропущенные значения имеются только в столбцах `days_employed` и `total_income` "
   ]
  },
  {
   "cell_type": "markdown",
   "metadata": {},
   "source": [
    "Из датафрейма мы видим, что в столбце `days_employed` значения отрицательны, что невозможно, т. к. дни не могут иметь отрицательное значения. По-хорошему, необходимо бы было обратиться к человеку, который предоставил эти данные. Но из-за невозможности это сделать, преобразуем данные как возможно. Преобразуем значения в абсолютные:"
   ]
  },
  {
   "cell_type": "code",
   "execution_count": 5,
   "metadata": {},
   "outputs": [],
   "source": [
    "df['days_employed'] = df['days_employed'].abs()"
   ]
  },
  {
   "cell_type": "markdown",
   "metadata": {},
   "source": [
    "Чтобы заменить пропуски в данных, будем использовать медианное значение по типу занятости. Такой способ даёт возможность заменить пропуски соответсвующими значениями, т. к. тип занятости влияет на количество проработанных дней, а если брать среднее/медианное значение всей выборки данных, то данные могут быть искажены."
   ]
  },
  {
   "cell_type": "markdown",
   "metadata": {},
   "source": [
    "Далее сгруппируем значения по столбцу `income_type`, посчитаем медианное значение трудового стажа по каждому типу занятости и выведем получившийся результат на экран. "
   ]
  },
  {
   "cell_type": "code",
   "execution_count": 6,
   "metadata": {
    "scrolled": false
   },
   "outputs": [
    {
     "data": {
      "text/plain": [
       "income_type\n",
       "безработный        366413.652744\n",
       "в декрете            3296.759962\n",
       "госслужащий          2689.368353\n",
       "компаньон            1547.382223\n",
       "пенсионер          365213.306266\n",
       "предприниматель       520.848083\n",
       "сотрудник            1574.202821\n",
       "студент               578.751554\n",
       "Name: days_employed, dtype: float64"
      ]
     },
     "execution_count": 6,
     "metadata": {},
     "output_type": "execute_result"
    }
   ],
   "source": [
    "data_grouped_days_emloyed = df.groupby('income_type')['days_employed'].median()\n",
    "data_grouped_days_emloyed"
   ]
  },
  {
   "cell_type": "markdown",
   "metadata": {},
   "source": [
    "Далее с помощью кода ниже заменим пропуски соответствующими значениями:"
   ]
  },
  {
   "cell_type": "code",
   "execution_count": 7,
   "metadata": {},
   "outputs": [],
   "source": [
    "def func(row):\n",
    "    if pd.isna(row['days_employed']):\n",
    "        return data_grouped_days_emloyed.loc[row['income_type']]\n",
    "    return row['days_employed']\n",
    " \n",
    "df['days_employed'] = df.apply(func, axis=1)"
   ]
  },
  {
   "cell_type": "markdown",
   "metadata": {
    "scrolled": true
   },
   "source": [
    "Далее заменим пропуски в столбце `total_income` с помощью метода `transform`. Заменим пропуски медианной, взятой по типу занятости и образованию."
   ]
  },
  {
   "cell_type": "markdown",
   "metadata": {},
   "source": [
    "Но сперва приведём все значения столбца `education` к строчному регистру. "
   ]
  },
  {
   "cell_type": "code",
   "execution_count": 8,
   "metadata": {},
   "outputs": [],
   "source": [
    "df['education'] = df['education'].str.lower()"
   ]
  },
  {
   "cell_type": "code",
   "execution_count": 9,
   "metadata": {
    "scrolled": false
   },
   "outputs": [],
   "source": [
    "df['total_income'] = df['total_income'].fillna(df.groupby(['income_type', 'education'])['total_income'].transform('median'))"
   ]
  },
  {
   "cell_type": "markdown",
   "metadata": {},
   "source": [
    "После проделанных операций вызовим еще раз функцию, считающую количество пропусков, для того, чтобы удостовериться, что пропущенных значений не осталось. "
   ]
  },
  {
   "cell_type": "code",
   "execution_count": 10,
   "metadata": {
    "scrolled": true
   },
   "outputs": [
    {
     "data": {
      "text/plain": [
       "children            0\n",
       "days_employed       0\n",
       "dob_years           0\n",
       "education           0\n",
       "education_id        0\n",
       "family_status       0\n",
       "family_status_id    0\n",
       "gender              0\n",
       "income_type         0\n",
       "debt                0\n",
       "total_income        0\n",
       "purpose             0\n",
       "dtype: int64"
      ]
     },
     "execution_count": 10,
     "metadata": {},
     "output_type": "execute_result"
    }
   ],
   "source": [
    "df.isna().sum()"
   ]
  },
  {
   "cell_type": "markdown",
   "metadata": {},
   "source": [
    "Отлично! Пропусков не осталось.\n",
    "\n",
    "Проверим остальные столбцы на аномальные значения."
   ]
  },
  {
   "cell_type": "markdown",
   "metadata": {},
   "source": [
    "Проверим для начала столбец `children` на выявление аномальных значений. "
   ]
  },
  {
   "cell_type": "code",
   "execution_count": 11,
   "metadata": {
    "scrolled": true
   },
   "outputs": [
    {
     "data": {
      "text/plain": [
       " 0     14149\n",
       " 1      4818\n",
       " 2      2055\n",
       " 3       330\n",
       " 20       76\n",
       "-1        47\n",
       " 4        41\n",
       " 5         9\n",
       "Name: children, dtype: int64"
      ]
     },
     "execution_count": 11,
     "metadata": {},
     "output_type": "execute_result"
    }
   ],
   "source": [
    "df['children'].value_counts()"
   ]
  },
  {
   "cell_type": "markdown",
   "metadata": {},
   "source": [
    "Что мы видим? Слева значения, которые встречаются в столбце, а справа количество значений в столбце.\n",
    "\n",
    "В результате мы видим, что есть аномальные значение такие, как `20` и `-1`. Вряд ли 76 семей имеют 20 дней. Поэтому заменим это значение на значение `2`. Скорее всего, человек, заполнявший данные мог случайно ошибиться. То же самое отноистся и к значению `-1`, ибо невозможно, что количество детей принимало отрицательное значение. Заменим их на значение на `1`, написав следующий код. "
   ]
  },
  {
   "cell_type": "code",
   "execution_count": 12,
   "metadata": {
    "scrolled": true
   },
   "outputs": [],
   "source": [
    "df['children'] = df['children'].replace(20, 2)\n",
    "df['children'] = df['children'].replace(-1, 1)"
   ]
  },
  {
   "cell_type": "markdown",
   "metadata": {},
   "source": [
    "Далее проверим значения возраста заёмщкиов в столбце `dob_years`. "
   ]
  },
  {
   "cell_type": "code",
   "execution_count": 13,
   "metadata": {
    "scrolled": false
   },
   "outputs": [
    {
     "data": {
      "text/plain": [
       "0     101\n",
       "19     14\n",
       "20     51\n",
       "21    111\n",
       "22    183\n",
       "23    254\n",
       "24    264\n",
       "25    357\n",
       "26    408\n",
       "27    493\n",
       "28    503\n",
       "29    545\n",
       "30    540\n",
       "31    560\n",
       "32    510\n",
       "33    581\n",
       "34    603\n",
       "35    617\n",
       "36    555\n",
       "37    537\n",
       "38    598\n",
       "39    573\n",
       "40    609\n",
       "41    607\n",
       "42    597\n",
       "43    513\n",
       "44    547\n",
       "45    497\n",
       "46    475\n",
       "47    480\n",
       "48    538\n",
       "49    508\n",
       "50    514\n",
       "51    448\n",
       "52    484\n",
       "53    459\n",
       "54    479\n",
       "55    443\n",
       "56    487\n",
       "57    460\n",
       "58    461\n",
       "59    444\n",
       "60    377\n",
       "61    355\n",
       "62    352\n",
       "63    269\n",
       "64    265\n",
       "65    194\n",
       "66    183\n",
       "67    167\n",
       "68     99\n",
       "69     85\n",
       "70     65\n",
       "71     58\n",
       "72     33\n",
       "73      8\n",
       "74      6\n",
       "75      1\n",
       "Name: dob_years, dtype: int64"
      ]
     },
     "execution_count": 13,
     "metadata": {},
     "output_type": "execute_result"
    }
   ],
   "source": [
    "df['dob_years'].value_counts().sort_index()"
   ]
  },
  {
   "cell_type": "markdown",
   "metadata": {},
   "source": [
    "В результате мы видим, что в 101-ом случае встречается значение `0`. Вряд ли 101 младенец решился взять кредит в банке :) Поэтому заменин данное значение медианным значением по типу занятости. Выполним эти манипуляции в следующем коде:"
   ]
  },
  {
   "cell_type": "code",
   "execution_count": 14,
   "metadata": {},
   "outputs": [],
   "source": [
    "#группировка данных по типу занятости и вычисление медианного значения\n",
    "data_grouped_age = df.groupby('income_type')['dob_years'].median()\n",
    "\n",
    "#функция для замены медианным значением\n",
    "def func(row):\n",
    "    if row['dob_years'] == 0:\n",
    "        return data_grouped_age.loc[row['income_type']]\n",
    "    return row['dob_years']\n",
    "\n",
    "#применение функции к столбцу dob_years \n",
    "df['dob_years'] = df.apply(func, axis=1)"
   ]
  },
  {
   "cell_type": "markdown",
   "metadata": {},
   "source": [
    "Так как при вычислении медианы значения принимают вещественый тип данных `float`. Изменин тип данных на исходный целочисленный - `int`."
   ]
  },
  {
   "cell_type": "code",
   "execution_count": 15,
   "metadata": {},
   "outputs": [],
   "source": [
    "df['dob_years'] = df['dob_years'].astype(int)"
   ]
  },
  {
   "cell_type": "markdown",
   "metadata": {},
   "source": [
    "Далее проверим на аномальные значения столбец `gender`."
   ]
  },
  {
   "cell_type": "code",
   "execution_count": 16,
   "metadata": {
    "scrolled": true
   },
   "outputs": [
    {
     "data": {
      "text/plain": [
       "F      14236\n",
       "M       7288\n",
       "XNA        1\n",
       "Name: gender, dtype: int64"
      ]
     },
     "execution_count": 16,
     "metadata": {},
     "output_type": "execute_result"
    }
   ],
   "source": [
    "df['gender'].value_counts()"
   ]
  },
  {
   "cell_type": "markdown",
   "metadata": {},
   "source": [
    "В результате мы видим, что имеется одно аномальное значение `XNA`. Поменяем его на женский пол `F`. Код по замене значения ниже:"
   ]
  },
  {
   "cell_type": "code",
   "execution_count": 17,
   "metadata": {
    "scrolled": true
   },
   "outputs": [],
   "source": [
    "df['gender'] = df['gender'].replace('XNA', 'F')"
   ]
  },
  {
   "cell_type": "markdown",
   "metadata": {},
   "source": [
    "Проверим на аномалии столбец `family_status`."
   ]
  },
  {
   "cell_type": "code",
   "execution_count": 18,
   "metadata": {
    "scrolled": false
   },
   "outputs": [
    {
     "data": {
      "text/plain": [
       "женат / замужем          12380\n",
       "гражданский брак          4177\n",
       "Не женат / не замужем     2813\n",
       "в разводе                 1195\n",
       "вдовец / вдова             960\n",
       "Name: family_status, dtype: int64"
      ]
     },
     "execution_count": 18,
     "metadata": {},
     "output_type": "execute_result"
    }
   ],
   "source": [
    "df['family_status'].value_counts()"
   ]
  },
  {
   "cell_type": "markdown",
   "metadata": {},
   "source": [
    "Аномалий не обнаружено."
   ]
  },
  {
   "cell_type": "markdown",
   "metadata": {},
   "source": [
    "Проверим на аномальные значения столбец `education`."
   ]
  },
  {
   "cell_type": "code",
   "execution_count": 19,
   "metadata": {
    "scrolled": true
   },
   "outputs": [
    {
     "data": {
      "text/plain": [
       "среднее                15233\n",
       "высшее                  5260\n",
       "неоконченное высшее      744\n",
       "начальное                282\n",
       "ученая степень             6\n",
       "Name: education, dtype: int64"
      ]
     },
     "execution_count": 19,
     "metadata": {},
     "output_type": "execute_result"
    }
   ],
   "source": [
    "df['education'].value_counts()"
   ]
  },
  {
   "cell_type": "markdown",
   "metadata": {},
   "source": [
    "Аномальных значений нет, т. к. до этого мы привели все значения столбца к строчному регистру."
   ]
  },
  {
   "cell_type": "markdown",
   "metadata": {},
   "source": [
    "Проверим на аномальные значения столбец `education_id`:"
   ]
  },
  {
   "cell_type": "code",
   "execution_count": 20,
   "metadata": {},
   "outputs": [
    {
     "data": {
      "text/plain": [
       "0     5260\n",
       "1    15233\n",
       "2      744\n",
       "3      282\n",
       "4        6\n",
       "Name: education_id, dtype: int64"
      ]
     },
     "execution_count": 20,
     "metadata": {},
     "output_type": "execute_result"
    }
   ],
   "source": [
    "df['education_id'].value_counts().sort_index()"
   ]
  },
  {
   "cell_type": "markdown",
   "metadata": {},
   "source": [
    "Аномалий не обнаружено."
   ]
  },
  {
   "cell_type": "markdown",
   "metadata": {},
   "source": [
    "Проверим на аномальные значения столбец `family_status_id`:"
   ]
  },
  {
   "cell_type": "code",
   "execution_count": 21,
   "metadata": {
    "scrolled": true
   },
   "outputs": [
    {
     "data": {
      "text/plain": [
       "0    12380\n",
       "1     4177\n",
       "2      960\n",
       "3     1195\n",
       "4     2813\n",
       "Name: family_status_id, dtype: int64"
      ]
     },
     "execution_count": 21,
     "metadata": {},
     "output_type": "execute_result"
    }
   ],
   "source": [
    "df['family_status_id'].value_counts().sort_index()"
   ]
  },
  {
   "cell_type": "markdown",
   "metadata": {},
   "source": [
    "Аномалий не обнаружено."
   ]
  },
  {
   "cell_type": "markdown",
   "metadata": {},
   "source": [
    "Проверим на аномальные значения столбец `income_type`:"
   ]
  },
  {
   "cell_type": "code",
   "execution_count": 22,
   "metadata": {
    "scrolled": false
   },
   "outputs": [
    {
     "data": {
      "text/plain": [
       "сотрудник          11119\n",
       "компаньон           5085\n",
       "пенсионер           3856\n",
       "госслужащий         1459\n",
       "безработный            2\n",
       "предприниматель        2\n",
       "студент                1\n",
       "в декрете              1\n",
       "Name: income_type, dtype: int64"
      ]
     },
     "execution_count": 22,
     "metadata": {},
     "output_type": "execute_result"
    }
   ],
   "source": [
    "df['income_type'].value_counts()"
   ]
  },
  {
   "cell_type": "markdown",
   "metadata": {},
   "source": [
    "Аномалий не обнаружено. "
   ]
  },
  {
   "cell_type": "markdown",
   "metadata": {},
   "source": [
    "Проверим на аномальные значения столбец `debt`."
   ]
  },
  {
   "cell_type": "code",
   "execution_count": 23,
   "metadata": {
    "scrolled": true
   },
   "outputs": [
    {
     "data": {
      "text/plain": [
       "0    19784\n",
       "1     1741\n",
       "Name: debt, dtype: int64"
      ]
     },
     "execution_count": 23,
     "metadata": {},
     "output_type": "execute_result"
    }
   ],
   "source": [
    "df['debt'].value_counts()"
   ]
  },
  {
   "cell_type": "markdown",
   "metadata": {},
   "source": [
    "Аномалий не обнаружено "
   ]
  },
  {
   "cell_type": "markdown",
   "metadata": {},
   "source": [
    "Проверим на аномальные значения столбец `total_income`. Так как в этом столбце находятся количественные переменые, использовать метод `value_counts` будет не удобно, т. к. значение может принимать любое положительное число. Поэтому проверим методом минимального значения `min()` нет ли отрицательных значений или ничтожно маленького."
   ]
  },
  {
   "cell_type": "code",
   "execution_count": 24,
   "metadata": {},
   "outputs": [
    {
     "data": {
      "text/plain": [
       "20667.26379327158"
      ]
     },
     "execution_count": 24,
     "metadata": {},
     "output_type": "execute_result"
    }
   ],
   "source": [
    "df['total_income'].min()"
   ]
  },
  {
   "cell_type": "markdown",
   "metadata": {},
   "source": [
    "Проверка показала, что полученное минимальное значение имеет место быть. "
   ]
  },
  {
   "cell_type": "markdown",
   "metadata": {},
   "source": [
    "Проверим на аномальные значения столбец `purpose`. "
   ]
  },
  {
   "cell_type": "code",
   "execution_count": 25,
   "metadata": {},
   "outputs": [
    {
     "data": {
      "text/plain": [
       "свадьба                                   797\n",
       "на проведение свадьбы                     777\n",
       "сыграть свадьбу                           774\n",
       "операции с недвижимостью                  676\n",
       "покупка коммерческой недвижимости         664\n",
       "покупка жилья для сдачи                   653\n",
       "операции с жильем                         653\n",
       "операции с коммерческой недвижимостью     651\n",
       "покупка жилья                             647\n",
       "жилье                                     647\n",
       "покупка жилья для семьи                   641\n",
       "строительство собственной недвижимости    635\n",
       "недвижимость                              634\n",
       "операции со своей недвижимостью           630\n",
       "строительство жилой недвижимости          626\n",
       "покупка недвижимости                      624\n",
       "строительство недвижимости                620\n",
       "покупка своего жилья                      620\n",
       "ремонт жилью                              612\n",
       "покупка жилой недвижимости                607\n",
       "на покупку своего автомобиля              505\n",
       "заняться высшим образованием              496\n",
       "автомобиль                                495\n",
       "сделка с подержанным автомобилем          489\n",
       "свой автомобиль                           480\n",
       "на покупку подержанного автомобиля        479\n",
       "автомобили                                478\n",
       "на покупку автомобиля                     472\n",
       "дополнительное образование                462\n",
       "приобретение автомобиля                   462\n",
       "сделка с автомобилем                      455\n",
       "высшее образование                        453\n",
       "образование                               447\n",
       "получение дополнительного образования     447\n",
       "получение образования                     443\n",
       "профильное образование                    436\n",
       "получение высшего образования             426\n",
       "заняться образованием                     412\n",
       "Name: purpose, dtype: int64"
      ]
     },
     "execution_count": 25,
     "metadata": {},
     "output_type": "execute_result"
    }
   ],
   "source": [
    "df['purpose'].value_counts()"
   ]
  },
  {
   "cell_type": "markdown",
   "metadata": {},
   "source": [
    "Аномалий не обнаружено. "
   ]
  },
  {
   "cell_type": "markdown",
   "metadata": {},
   "source": [
    "**Вывод**"
   ]
  },
  {
   "cell_type": "markdown",
   "metadata": {},
   "source": [
    "Была проделана работа по обнаружению и заполнеию пропусков, а также проверка столбцов на аномальные значения.\n",
    "\n",
    "Пропуски были обнаружены только в двух столбцах: `days_employed` и `total_income`. Пропуски были заменены медианным значением, предварительно сгруппированным по типу занятости и образованию (по двум характеристикам только для стобца `total_income`).\n",
    "\n",
    "Аналогичные манипуляции были проведены и в столбце `dob_years`, т.к. был обнаружен возвраст, несоответсвующий действительности.\n",
    "\n",
    "Также аномальные значения были выявлены в столбцах `children` и `gender`. Значения заменили на логически подходящие.\n",
    "\n",
    "Также проверили манипуляции и в столбце `education`. Аномальных значений там не было, но типы образования были записаны разным регистром. В итоге привели всё к строчным буквам.\n",
    "\n",
    "По остальным столбцам всё в порядке.\n",
    "\n",
    "Такое поведение возможно из-за человеческого фактора или ошибки при выгрузке данных. "
   ]
  },
  {
   "cell_type": "markdown",
   "metadata": {},
   "source": [
    "### Замена типа данных"
   ]
  },
  {
   "cell_type": "markdown",
   "metadata": {},
   "source": [
    "Взглянем на получившийся после манипуляций в 1 пункте датафрейм"
   ]
  },
  {
   "cell_type": "code",
   "execution_count": 26,
   "metadata": {
    "scrolled": false
   },
   "outputs": [
    {
     "data": {
      "text/html": [
       "<div>\n",
       "<style scoped>\n",
       "    .dataframe tbody tr th:only-of-type {\n",
       "        vertical-align: middle;\n",
       "    }\n",
       "\n",
       "    .dataframe tbody tr th {\n",
       "        vertical-align: top;\n",
       "    }\n",
       "\n",
       "    .dataframe thead th {\n",
       "        text-align: right;\n",
       "    }\n",
       "</style>\n",
       "<table border=\"1\" class=\"dataframe\">\n",
       "  <thead>\n",
       "    <tr style=\"text-align: right;\">\n",
       "      <th></th>\n",
       "      <th>children</th>\n",
       "      <th>days_employed</th>\n",
       "      <th>dob_years</th>\n",
       "      <th>education</th>\n",
       "      <th>education_id</th>\n",
       "      <th>family_status</th>\n",
       "      <th>family_status_id</th>\n",
       "      <th>gender</th>\n",
       "      <th>income_type</th>\n",
       "      <th>debt</th>\n",
       "      <th>total_income</th>\n",
       "      <th>purpose</th>\n",
       "    </tr>\n",
       "  </thead>\n",
       "  <tbody>\n",
       "    <tr>\n",
       "      <th>0</th>\n",
       "      <td>1</td>\n",
       "      <td>8437.673028</td>\n",
       "      <td>42</td>\n",
       "      <td>высшее</td>\n",
       "      <td>0</td>\n",
       "      <td>женат / замужем</td>\n",
       "      <td>0</td>\n",
       "      <td>F</td>\n",
       "      <td>сотрудник</td>\n",
       "      <td>0</td>\n",
       "      <td>253875.639453</td>\n",
       "      <td>покупка жилья</td>\n",
       "    </tr>\n",
       "    <tr>\n",
       "      <th>1</th>\n",
       "      <td>1</td>\n",
       "      <td>4024.803754</td>\n",
       "      <td>36</td>\n",
       "      <td>среднее</td>\n",
       "      <td>1</td>\n",
       "      <td>женат / замужем</td>\n",
       "      <td>0</td>\n",
       "      <td>F</td>\n",
       "      <td>сотрудник</td>\n",
       "      <td>0</td>\n",
       "      <td>112080.014102</td>\n",
       "      <td>приобретение автомобиля</td>\n",
       "    </tr>\n",
       "    <tr>\n",
       "      <th>2</th>\n",
       "      <td>0</td>\n",
       "      <td>5623.422610</td>\n",
       "      <td>33</td>\n",
       "      <td>среднее</td>\n",
       "      <td>1</td>\n",
       "      <td>женат / замужем</td>\n",
       "      <td>0</td>\n",
       "      <td>M</td>\n",
       "      <td>сотрудник</td>\n",
       "      <td>0</td>\n",
       "      <td>145885.952297</td>\n",
       "      <td>покупка жилья</td>\n",
       "    </tr>\n",
       "    <tr>\n",
       "      <th>3</th>\n",
       "      <td>3</td>\n",
       "      <td>4124.747207</td>\n",
       "      <td>32</td>\n",
       "      <td>среднее</td>\n",
       "      <td>1</td>\n",
       "      <td>женат / замужем</td>\n",
       "      <td>0</td>\n",
       "      <td>M</td>\n",
       "      <td>сотрудник</td>\n",
       "      <td>0</td>\n",
       "      <td>267628.550329</td>\n",
       "      <td>дополнительное образование</td>\n",
       "    </tr>\n",
       "    <tr>\n",
       "      <th>4</th>\n",
       "      <td>0</td>\n",
       "      <td>340266.072047</td>\n",
       "      <td>53</td>\n",
       "      <td>среднее</td>\n",
       "      <td>1</td>\n",
       "      <td>гражданский брак</td>\n",
       "      <td>1</td>\n",
       "      <td>F</td>\n",
       "      <td>пенсионер</td>\n",
       "      <td>0</td>\n",
       "      <td>158616.077870</td>\n",
       "      <td>сыграть свадьбу</td>\n",
       "    </tr>\n",
       "    <tr>\n",
       "      <th>5</th>\n",
       "      <td>0</td>\n",
       "      <td>926.185831</td>\n",
       "      <td>27</td>\n",
       "      <td>высшее</td>\n",
       "      <td>0</td>\n",
       "      <td>гражданский брак</td>\n",
       "      <td>1</td>\n",
       "      <td>M</td>\n",
       "      <td>компаньон</td>\n",
       "      <td>0</td>\n",
       "      <td>255763.565419</td>\n",
       "      <td>покупка жилья</td>\n",
       "    </tr>\n",
       "    <tr>\n",
       "      <th>6</th>\n",
       "      <td>0</td>\n",
       "      <td>2879.202052</td>\n",
       "      <td>43</td>\n",
       "      <td>высшее</td>\n",
       "      <td>0</td>\n",
       "      <td>женат / замужем</td>\n",
       "      <td>0</td>\n",
       "      <td>F</td>\n",
       "      <td>компаньон</td>\n",
       "      <td>0</td>\n",
       "      <td>240525.971920</td>\n",
       "      <td>операции с жильем</td>\n",
       "    </tr>\n",
       "    <tr>\n",
       "      <th>7</th>\n",
       "      <td>0</td>\n",
       "      <td>152.779569</td>\n",
       "      <td>50</td>\n",
       "      <td>среднее</td>\n",
       "      <td>1</td>\n",
       "      <td>женат / замужем</td>\n",
       "      <td>0</td>\n",
       "      <td>M</td>\n",
       "      <td>сотрудник</td>\n",
       "      <td>0</td>\n",
       "      <td>135823.934197</td>\n",
       "      <td>образование</td>\n",
       "    </tr>\n",
       "    <tr>\n",
       "      <th>8</th>\n",
       "      <td>2</td>\n",
       "      <td>6929.865299</td>\n",
       "      <td>35</td>\n",
       "      <td>высшее</td>\n",
       "      <td>0</td>\n",
       "      <td>гражданский брак</td>\n",
       "      <td>1</td>\n",
       "      <td>F</td>\n",
       "      <td>сотрудник</td>\n",
       "      <td>0</td>\n",
       "      <td>95856.832424</td>\n",
       "      <td>на проведение свадьбы</td>\n",
       "    </tr>\n",
       "    <tr>\n",
       "      <th>9</th>\n",
       "      <td>0</td>\n",
       "      <td>2188.756445</td>\n",
       "      <td>41</td>\n",
       "      <td>среднее</td>\n",
       "      <td>1</td>\n",
       "      <td>женат / замужем</td>\n",
       "      <td>0</td>\n",
       "      <td>M</td>\n",
       "      <td>сотрудник</td>\n",
       "      <td>0</td>\n",
       "      <td>144425.938277</td>\n",
       "      <td>покупка жилья для семьи</td>\n",
       "    </tr>\n",
       "  </tbody>\n",
       "</table>\n",
       "</div>"
      ],
      "text/plain": [
       "   children  days_employed  dob_years education  education_id  \\\n",
       "0         1    8437.673028         42    высшее             0   \n",
       "1         1    4024.803754         36   среднее             1   \n",
       "2         0    5623.422610         33   среднее             1   \n",
       "3         3    4124.747207         32   среднее             1   \n",
       "4         0  340266.072047         53   среднее             1   \n",
       "5         0     926.185831         27    высшее             0   \n",
       "6         0    2879.202052         43    высшее             0   \n",
       "7         0     152.779569         50   среднее             1   \n",
       "8         2    6929.865299         35    высшее             0   \n",
       "9         0    2188.756445         41   среднее             1   \n",
       "\n",
       "      family_status  family_status_id gender income_type  debt   total_income  \\\n",
       "0   женат / замужем                 0      F   сотрудник     0  253875.639453   \n",
       "1   женат / замужем                 0      F   сотрудник     0  112080.014102   \n",
       "2   женат / замужем                 0      M   сотрудник     0  145885.952297   \n",
       "3   женат / замужем                 0      M   сотрудник     0  267628.550329   \n",
       "4  гражданский брак                 1      F   пенсионер     0  158616.077870   \n",
       "5  гражданский брак                 1      M   компаньон     0  255763.565419   \n",
       "6   женат / замужем                 0      F   компаньон     0  240525.971920   \n",
       "7   женат / замужем                 0      M   сотрудник     0  135823.934197   \n",
       "8  гражданский брак                 1      F   сотрудник     0   95856.832424   \n",
       "9   женат / замужем                 0      M   сотрудник     0  144425.938277   \n",
       "\n",
       "                      purpose  \n",
       "0               покупка жилья  \n",
       "1     приобретение автомобиля  \n",
       "2               покупка жилья  \n",
       "3  дополнительное образование  \n",
       "4             сыграть свадьбу  \n",
       "5               покупка жилья  \n",
       "6           операции с жильем  \n",
       "7                 образование  \n",
       "8       на проведение свадьбы  \n",
       "9     покупка жилья для семьи  "
      ]
     },
     "execution_count": 26,
     "metadata": {},
     "output_type": "execute_result"
    }
   ],
   "source": [
    "df.head(10)"
   ]
  },
  {
   "cell_type": "code",
   "execution_count": 27,
   "metadata": {},
   "outputs": [
    {
     "name": "stdout",
     "output_type": "stream",
     "text": [
      "<class 'pandas.core.frame.DataFrame'>\n",
      "RangeIndex: 21525 entries, 0 to 21524\n",
      "Data columns (total 12 columns):\n",
      " #   Column            Non-Null Count  Dtype  \n",
      "---  ------            --------------  -----  \n",
      " 0   children          21525 non-null  int64  \n",
      " 1   days_employed     21525 non-null  float64\n",
      " 2   dob_years         21525 non-null  int64  \n",
      " 3   education         21525 non-null  object \n",
      " 4   education_id      21525 non-null  int64  \n",
      " 5   family_status     21525 non-null  object \n",
      " 6   family_status_id  21525 non-null  int64  \n",
      " 7   gender            21525 non-null  object \n",
      " 8   income_type       21525 non-null  object \n",
      " 9   debt              21525 non-null  int64  \n",
      " 10  total_income      21525 non-null  float64\n",
      " 11  purpose           21525 non-null  object \n",
      "dtypes: float64(2), int64(5), object(5)\n",
      "memory usage: 2.0+ MB\n"
     ]
    }
   ],
   "source": [
    "df.info()"
   ]
  },
  {
   "cell_type": "markdown",
   "metadata": {},
   "source": [
    "Все столбцы имеют корректный тип данных, кроме двух: `days_employed` и `total_income`. \n",
    "Вместо вещественного типа данных `float` они должны иметь целочисленный тип данных `int`.\n",
    "Заменим тип данных в следующем коде. Для замены типа данных будет использовать метод `astype()`, в аргументе которого укажем необходимый тип данных. Метод `to_numeric` нам не подойдет потому, что изменяет только на вещественный тип данных `float`. "
   ]
  },
  {
   "cell_type": "code",
   "execution_count": 28,
   "metadata": {},
   "outputs": [],
   "source": [
    "df[['days_employed', 'total_income']] = df[['days_employed', 'total_income']].astype(int)"
   ]
  },
  {
   "cell_type": "markdown",
   "metadata": {},
   "source": [
    "Проверим результаты:"
   ]
  },
  {
   "cell_type": "code",
   "execution_count": 29,
   "metadata": {
    "scrolled": true
   },
   "outputs": [
    {
     "name": "stdout",
     "output_type": "stream",
     "text": [
      "<class 'pandas.core.frame.DataFrame'>\n",
      "RangeIndex: 21525 entries, 0 to 21524\n",
      "Data columns (total 12 columns):\n",
      " #   Column            Non-Null Count  Dtype \n",
      "---  ------            --------------  ----- \n",
      " 0   children          21525 non-null  int64 \n",
      " 1   days_employed     21525 non-null  int64 \n",
      " 2   dob_years         21525 non-null  int64 \n",
      " 3   education         21525 non-null  object\n",
      " 4   education_id      21525 non-null  int64 \n",
      " 5   family_status     21525 non-null  object\n",
      " 6   family_status_id  21525 non-null  int64 \n",
      " 7   gender            21525 non-null  object\n",
      " 8   income_type       21525 non-null  object\n",
      " 9   debt              21525 non-null  int64 \n",
      " 10  total_income      21525 non-null  int64 \n",
      " 11  purpose           21525 non-null  object\n",
      "dtypes: int64(7), object(5)\n",
      "memory usage: 2.0+ MB\n"
     ]
    }
   ],
   "source": [
    "df.info()"
   ]
  },
  {
   "cell_type": "markdown",
   "metadata": {},
   "source": [
    "Всё супер! Можем двигаться дальше."
   ]
  },
  {
   "cell_type": "markdown",
   "metadata": {},
   "source": [
    "**Вывод**"
   ]
  },
  {
   "cell_type": "markdown",
   "metadata": {},
   "source": [
    "Были обнаружены некорректные типы данных в столбцах `dob_years` и `total_income`. Мы заменили вещественный тип данных на целочисленный с помощью метода `astype()`."
   ]
  },
  {
   "cell_type": "markdown",
   "metadata": {},
   "source": [
    "### Обработка дубликатов"
   ]
  },
  {
   "cell_type": "markdown",
   "metadata": {},
   "source": [
    "Найдем сумму дубликатов в датафрейме: "
   ]
  },
  {
   "cell_type": "code",
   "execution_count": 30,
   "metadata": {
    "scrolled": true
   },
   "outputs": [
    {
     "data": {
      "text/plain": [
       "71"
      ]
     },
     "execution_count": 30,
     "metadata": {},
     "output_type": "execute_result"
    }
   ],
   "source": [
    "df.duplicated().sum()"
   ]
  },
  {
   "cell_type": "markdown",
   "metadata": {},
   "source": [
    "В результате был выявлен 71 дубликат. "
   ]
  },
  {
   "cell_type": "markdown",
   "metadata": {},
   "source": [
    "Удалим выявленные дубликаты:"
   ]
  },
  {
   "cell_type": "code",
   "execution_count": 31,
   "metadata": {
    "scrolled": true
   },
   "outputs": [],
   "source": [
    "df = df.drop_duplicates().reset_index(drop=True)"
   ]
  },
  {
   "cell_type": "markdown",
   "metadata": {},
   "source": [
    "Проверим результат удаления:"
   ]
  },
  {
   "cell_type": "code",
   "execution_count": 32,
   "metadata": {
    "scrolled": true
   },
   "outputs": [
    {
     "data": {
      "text/plain": [
       "0"
      ]
     },
     "execution_count": 32,
     "metadata": {},
     "output_type": "execute_result"
    }
   ],
   "source": [
    "df.duplicated().sum()"
   ]
  },
  {
   "cell_type": "markdown",
   "metadata": {},
   "source": [
    "Отлично! Дубликатов не осталось\n",
    "\n",
    "Стоит отметить, что искать неявные дубликаты, вызванные разным регистром нет смысла, т. к. до этого в пункте 2.1 значения в столбце `education` имели разный регистр записи и были приведены к строчной записи. Больше таких аномалий не обнаружено.\n",
    "\n",
    "Скорее всего, дубликаты могли появиться из-человеческого фактора. Также не исключена вероятность технической ошибки при выгрузке. "
   ]
  },
  {
   "cell_type": "markdown",
   "metadata": {},
   "source": [
    "**Вывод**"
   ]
  },
  {
   "cell_type": "markdown",
   "metadata": {},
   "source": [
    "Был обнаружен 71 дубликат, которые в последствие был удален. Изначально дубликатов могло было быть меньше, если ранее в пункет 2.1 значения в одном из столбцов не были привдены к строчной записи. "
   ]
  },
  {
   "cell_type": "markdown",
   "metadata": {},
   "source": [
    "### Лемматизация"
   ]
  },
  {
   "cell_type": "markdown",
   "metadata": {},
   "source": [
    "Проведём лемматизацию данных в столбце `purpose` для того, чтобы в дальнейшем мы смогли категоризовать данные по цели займа."
   ]
  },
  {
   "cell_type": "markdown",
   "metadata": {},
   "source": [
    "Для начала импортируем одну из библиотек с функцией лемматизации на русском языке — `pymystem3`."
   ]
  },
  {
   "cell_type": "code",
   "execution_count": 33,
   "metadata": {},
   "outputs": [],
   "source": [
    "from pymystem3 import Mystem\n",
    "m = Mystem()"
   ]
  },
  {
   "cell_type": "markdown",
   "metadata": {},
   "source": [
    "Далее лемматизируем столбец `purpose`. Резульат сохраним в новом столбце `lemma`. "
   ]
  },
  {
   "cell_type": "code",
   "execution_count": 34,
   "metadata": {},
   "outputs": [],
   "source": [
    "def lemma_func(purpose):\n",
    "    goal = m.lemmatize(purpose)\n",
    "    return goal\n",
    "\n",
    "df['lemma'] = df['purpose'].apply(lemma_func)"
   ]
  },
  {
   "cell_type": "markdown",
   "metadata": {},
   "source": [
    "Посмторим, что получилось "
   ]
  },
  {
   "cell_type": "code",
   "execution_count": 35,
   "metadata": {
    "scrolled": false
   },
   "outputs": [
    {
     "data": {
      "text/html": [
       "<div>\n",
       "<style scoped>\n",
       "    .dataframe tbody tr th:only-of-type {\n",
       "        vertical-align: middle;\n",
       "    }\n",
       "\n",
       "    .dataframe tbody tr th {\n",
       "        vertical-align: top;\n",
       "    }\n",
       "\n",
       "    .dataframe thead th {\n",
       "        text-align: right;\n",
       "    }\n",
       "</style>\n",
       "<table border=\"1\" class=\"dataframe\">\n",
       "  <thead>\n",
       "    <tr style=\"text-align: right;\">\n",
       "      <th></th>\n",
       "      <th>children</th>\n",
       "      <th>days_employed</th>\n",
       "      <th>dob_years</th>\n",
       "      <th>education</th>\n",
       "      <th>education_id</th>\n",
       "      <th>family_status</th>\n",
       "      <th>family_status_id</th>\n",
       "      <th>gender</th>\n",
       "      <th>income_type</th>\n",
       "      <th>debt</th>\n",
       "      <th>total_income</th>\n",
       "      <th>purpose</th>\n",
       "      <th>lemma</th>\n",
       "    </tr>\n",
       "  </thead>\n",
       "  <tbody>\n",
       "    <tr>\n",
       "      <th>0</th>\n",
       "      <td>1</td>\n",
       "      <td>8437</td>\n",
       "      <td>42</td>\n",
       "      <td>высшее</td>\n",
       "      <td>0</td>\n",
       "      <td>женат / замужем</td>\n",
       "      <td>0</td>\n",
       "      <td>F</td>\n",
       "      <td>сотрудник</td>\n",
       "      <td>0</td>\n",
       "      <td>253875</td>\n",
       "      <td>покупка жилья</td>\n",
       "      <td>[покупка,  , жилье, \\n]</td>\n",
       "    </tr>\n",
       "    <tr>\n",
       "      <th>1</th>\n",
       "      <td>1</td>\n",
       "      <td>4024</td>\n",
       "      <td>36</td>\n",
       "      <td>среднее</td>\n",
       "      <td>1</td>\n",
       "      <td>женат / замужем</td>\n",
       "      <td>0</td>\n",
       "      <td>F</td>\n",
       "      <td>сотрудник</td>\n",
       "      <td>0</td>\n",
       "      <td>112080</td>\n",
       "      <td>приобретение автомобиля</td>\n",
       "      <td>[приобретение,  , автомобиль, \\n]</td>\n",
       "    </tr>\n",
       "    <tr>\n",
       "      <th>2</th>\n",
       "      <td>0</td>\n",
       "      <td>5623</td>\n",
       "      <td>33</td>\n",
       "      <td>среднее</td>\n",
       "      <td>1</td>\n",
       "      <td>женат / замужем</td>\n",
       "      <td>0</td>\n",
       "      <td>M</td>\n",
       "      <td>сотрудник</td>\n",
       "      <td>0</td>\n",
       "      <td>145885</td>\n",
       "      <td>покупка жилья</td>\n",
       "      <td>[покупка,  , жилье, \\n]</td>\n",
       "    </tr>\n",
       "    <tr>\n",
       "      <th>3</th>\n",
       "      <td>3</td>\n",
       "      <td>4124</td>\n",
       "      <td>32</td>\n",
       "      <td>среднее</td>\n",
       "      <td>1</td>\n",
       "      <td>женат / замужем</td>\n",
       "      <td>0</td>\n",
       "      <td>M</td>\n",
       "      <td>сотрудник</td>\n",
       "      <td>0</td>\n",
       "      <td>267628</td>\n",
       "      <td>дополнительное образование</td>\n",
       "      <td>[дополнительный,  , образование, \\n]</td>\n",
       "    </tr>\n",
       "    <tr>\n",
       "      <th>4</th>\n",
       "      <td>0</td>\n",
       "      <td>340266</td>\n",
       "      <td>53</td>\n",
       "      <td>среднее</td>\n",
       "      <td>1</td>\n",
       "      <td>гражданский брак</td>\n",
       "      <td>1</td>\n",
       "      <td>F</td>\n",
       "      <td>пенсионер</td>\n",
       "      <td>0</td>\n",
       "      <td>158616</td>\n",
       "      <td>сыграть свадьбу</td>\n",
       "      <td>[сыграть,  , свадьба, \\n]</td>\n",
       "    </tr>\n",
       "    <tr>\n",
       "      <th>5</th>\n",
       "      <td>0</td>\n",
       "      <td>926</td>\n",
       "      <td>27</td>\n",
       "      <td>высшее</td>\n",
       "      <td>0</td>\n",
       "      <td>гражданский брак</td>\n",
       "      <td>1</td>\n",
       "      <td>M</td>\n",
       "      <td>компаньон</td>\n",
       "      <td>0</td>\n",
       "      <td>255763</td>\n",
       "      <td>покупка жилья</td>\n",
       "      <td>[покупка,  , жилье, \\n]</td>\n",
       "    </tr>\n",
       "    <tr>\n",
       "      <th>6</th>\n",
       "      <td>0</td>\n",
       "      <td>2879</td>\n",
       "      <td>43</td>\n",
       "      <td>высшее</td>\n",
       "      <td>0</td>\n",
       "      <td>женат / замужем</td>\n",
       "      <td>0</td>\n",
       "      <td>F</td>\n",
       "      <td>компаньон</td>\n",
       "      <td>0</td>\n",
       "      <td>240525</td>\n",
       "      <td>операции с жильем</td>\n",
       "      <td>[операция,  , с,  , жилье, \\n]</td>\n",
       "    </tr>\n",
       "    <tr>\n",
       "      <th>7</th>\n",
       "      <td>0</td>\n",
       "      <td>152</td>\n",
       "      <td>50</td>\n",
       "      <td>среднее</td>\n",
       "      <td>1</td>\n",
       "      <td>женат / замужем</td>\n",
       "      <td>0</td>\n",
       "      <td>M</td>\n",
       "      <td>сотрудник</td>\n",
       "      <td>0</td>\n",
       "      <td>135823</td>\n",
       "      <td>образование</td>\n",
       "      <td>[образование, \\n]</td>\n",
       "    </tr>\n",
       "    <tr>\n",
       "      <th>8</th>\n",
       "      <td>2</td>\n",
       "      <td>6929</td>\n",
       "      <td>35</td>\n",
       "      <td>высшее</td>\n",
       "      <td>0</td>\n",
       "      <td>гражданский брак</td>\n",
       "      <td>1</td>\n",
       "      <td>F</td>\n",
       "      <td>сотрудник</td>\n",
       "      <td>0</td>\n",
       "      <td>95856</td>\n",
       "      <td>на проведение свадьбы</td>\n",
       "      <td>[на,  , проведение,  , свадьба, \\n]</td>\n",
       "    </tr>\n",
       "    <tr>\n",
       "      <th>9</th>\n",
       "      <td>0</td>\n",
       "      <td>2188</td>\n",
       "      <td>41</td>\n",
       "      <td>среднее</td>\n",
       "      <td>1</td>\n",
       "      <td>женат / замужем</td>\n",
       "      <td>0</td>\n",
       "      <td>M</td>\n",
       "      <td>сотрудник</td>\n",
       "      <td>0</td>\n",
       "      <td>144425</td>\n",
       "      <td>покупка жилья для семьи</td>\n",
       "      <td>[покупка,  , жилье,  , для,  , семья, \\n]</td>\n",
       "    </tr>\n",
       "    <tr>\n",
       "      <th>10</th>\n",
       "      <td>2</td>\n",
       "      <td>4171</td>\n",
       "      <td>36</td>\n",
       "      <td>высшее</td>\n",
       "      <td>0</td>\n",
       "      <td>женат / замужем</td>\n",
       "      <td>0</td>\n",
       "      <td>M</td>\n",
       "      <td>компаньон</td>\n",
       "      <td>0</td>\n",
       "      <td>113943</td>\n",
       "      <td>покупка недвижимости</td>\n",
       "      <td>[покупка,  , недвижимость, \\n]</td>\n",
       "    </tr>\n",
       "    <tr>\n",
       "      <th>11</th>\n",
       "      <td>0</td>\n",
       "      <td>792</td>\n",
       "      <td>40</td>\n",
       "      <td>среднее</td>\n",
       "      <td>1</td>\n",
       "      <td>женат / замужем</td>\n",
       "      <td>0</td>\n",
       "      <td>F</td>\n",
       "      <td>сотрудник</td>\n",
       "      <td>0</td>\n",
       "      <td>77069</td>\n",
       "      <td>покупка коммерческой недвижимости</td>\n",
       "      <td>[покупка,  , коммерческий,  , недвижимость, \\n]</td>\n",
       "    </tr>\n",
       "    <tr>\n",
       "      <th>12</th>\n",
       "      <td>0</td>\n",
       "      <td>365213</td>\n",
       "      <td>65</td>\n",
       "      <td>среднее</td>\n",
       "      <td>1</td>\n",
       "      <td>гражданский брак</td>\n",
       "      <td>1</td>\n",
       "      <td>M</td>\n",
       "      <td>пенсионер</td>\n",
       "      <td>0</td>\n",
       "      <td>114842</td>\n",
       "      <td>сыграть свадьбу</td>\n",
       "      <td>[сыграть,  , свадьба, \\n]</td>\n",
       "    </tr>\n",
       "    <tr>\n",
       "      <th>13</th>\n",
       "      <td>0</td>\n",
       "      <td>1846</td>\n",
       "      <td>54</td>\n",
       "      <td>неоконченное высшее</td>\n",
       "      <td>2</td>\n",
       "      <td>женат / замужем</td>\n",
       "      <td>0</td>\n",
       "      <td>F</td>\n",
       "      <td>сотрудник</td>\n",
       "      <td>0</td>\n",
       "      <td>130458</td>\n",
       "      <td>приобретение автомобиля</td>\n",
       "      <td>[приобретение,  , автомобиль, \\n]</td>\n",
       "    </tr>\n",
       "    <tr>\n",
       "      <th>14</th>\n",
       "      <td>0</td>\n",
       "      <td>1844</td>\n",
       "      <td>56</td>\n",
       "      <td>высшее</td>\n",
       "      <td>0</td>\n",
       "      <td>гражданский брак</td>\n",
       "      <td>1</td>\n",
       "      <td>F</td>\n",
       "      <td>компаньон</td>\n",
       "      <td>1</td>\n",
       "      <td>165127</td>\n",
       "      <td>покупка жилой недвижимости</td>\n",
       "      <td>[покупка,  , жилой,  , недвижимость, \\n]</td>\n",
       "    </tr>\n",
       "  </tbody>\n",
       "</table>\n",
       "</div>"
      ],
      "text/plain": [
       "    children  days_employed  dob_years            education  education_id  \\\n",
       "0          1           8437         42               высшее             0   \n",
       "1          1           4024         36              среднее             1   \n",
       "2          0           5623         33              среднее             1   \n",
       "3          3           4124         32              среднее             1   \n",
       "4          0         340266         53              среднее             1   \n",
       "5          0            926         27               высшее             0   \n",
       "6          0           2879         43               высшее             0   \n",
       "7          0            152         50              среднее             1   \n",
       "8          2           6929         35               высшее             0   \n",
       "9          0           2188         41              среднее             1   \n",
       "10         2           4171         36               высшее             0   \n",
       "11         0            792         40              среднее             1   \n",
       "12         0         365213         65              среднее             1   \n",
       "13         0           1846         54  неоконченное высшее             2   \n",
       "14         0           1844         56               высшее             0   \n",
       "\n",
       "       family_status  family_status_id gender income_type  debt  total_income  \\\n",
       "0    женат / замужем                 0      F   сотрудник     0        253875   \n",
       "1    женат / замужем                 0      F   сотрудник     0        112080   \n",
       "2    женат / замужем                 0      M   сотрудник     0        145885   \n",
       "3    женат / замужем                 0      M   сотрудник     0        267628   \n",
       "4   гражданский брак                 1      F   пенсионер     0        158616   \n",
       "5   гражданский брак                 1      M   компаньон     0        255763   \n",
       "6    женат / замужем                 0      F   компаньон     0        240525   \n",
       "7    женат / замужем                 0      M   сотрудник     0        135823   \n",
       "8   гражданский брак                 1      F   сотрудник     0         95856   \n",
       "9    женат / замужем                 0      M   сотрудник     0        144425   \n",
       "10   женат / замужем                 0      M   компаньон     0        113943   \n",
       "11   женат / замужем                 0      F   сотрудник     0         77069   \n",
       "12  гражданский брак                 1      M   пенсионер     0        114842   \n",
       "13   женат / замужем                 0      F   сотрудник     0        130458   \n",
       "14  гражданский брак                 1      F   компаньон     1        165127   \n",
       "\n",
       "                              purpose  \\\n",
       "0                       покупка жилья   \n",
       "1             приобретение автомобиля   \n",
       "2                       покупка жилья   \n",
       "3          дополнительное образование   \n",
       "4                     сыграть свадьбу   \n",
       "5                       покупка жилья   \n",
       "6                   операции с жильем   \n",
       "7                         образование   \n",
       "8               на проведение свадьбы   \n",
       "9             покупка жилья для семьи   \n",
       "10               покупка недвижимости   \n",
       "11  покупка коммерческой недвижимости   \n",
       "12                    сыграть свадьбу   \n",
       "13            приобретение автомобиля   \n",
       "14         покупка жилой недвижимости   \n",
       "\n",
       "                                              lemma  \n",
       "0                           [покупка,  , жилье, \\n]  \n",
       "1                 [приобретение,  , автомобиль, \\n]  \n",
       "2                           [покупка,  , жилье, \\n]  \n",
       "3              [дополнительный,  , образование, \\n]  \n",
       "4                         [сыграть,  , свадьба, \\n]  \n",
       "5                           [покупка,  , жилье, \\n]  \n",
       "6                    [операция,  , с,  , жилье, \\n]  \n",
       "7                                 [образование, \\n]  \n",
       "8               [на,  , проведение,  , свадьба, \\n]  \n",
       "9         [покупка,  , жилье,  , для,  , семья, \\n]  \n",
       "10                   [покупка,  , недвижимость, \\n]  \n",
       "11  [покупка,  , коммерческий,  , недвижимость, \\n]  \n",
       "12                        [сыграть,  , свадьба, \\n]  \n",
       "13                [приобретение,  , автомобиль, \\n]  \n",
       "14         [покупка,  , жилой,  , недвижимость, \\n]  "
      ]
     },
     "execution_count": 35,
     "metadata": {},
     "output_type": "execute_result"
    }
   ],
   "source": [
    "df.head(15)"
   ]
  },
  {
   "cell_type": "markdown",
   "metadata": {},
   "source": [
    "Мы видим, что данные в столбце представлены в виде списке лемматизированных слов. \n",
    "\n",
    "Далее посчитаем количество упоминаний. Для этого вызывают специальный контейнер `Counter` из модуля `collections`."
   ]
  },
  {
   "cell_type": "code",
   "execution_count": 36,
   "metadata": {
    "scrolled": true
   },
   "outputs": [
    {
     "name": "stdout",
     "output_type": "stream",
     "text": [
      "Counter({' ': 33570, '\\n': 21454, 'недвижимость': 6351, 'покупка': 5897, 'жилье': 4460, 'автомобиль': 4306, 'образование': 4013, 'с': 2918, 'операция': 2604, 'свадьба': 2324, 'свой': 2230, 'на': 2222, 'строительство': 1878, 'высокий': 1374, 'получение': 1314, 'коммерческий': 1311, 'для': 1289, 'жилой': 1230, 'сделка': 941, 'дополнительный': 906, 'заниматься': 904, 'проведение': 768, 'сыграть': 765, 'сдача': 651, 'семья': 638, 'собственный': 635, 'со': 627, 'ремонт': 607, 'подержанный': 486, 'подержать': 478, 'приобретение': 461, 'профильный': 436})\n"
     ]
    }
   ],
   "source": [
    "# вызов контейнера Counter из модуля collections\n",
    "import collections\n",
    "from collections import Counter \n",
    "\n",
    "#функция , чтобы вытащить элементы из списка \n",
    "def counting_lemmas(lemmas):\n",
    "    text = []\n",
    "    for item in lemmas:\n",
    "        text.extend(item)\n",
    "    return text \n",
    "\n",
    "#применение функции к столбцу lemma\n",
    "column_words = counting_lemmas(df.loc[:, 'lemma'])\n",
    "\n",
    "#подсчёт упоминаний \n",
    "print(Counter(column_words))"
   ]
  },
  {
   "cell_type": "markdown",
   "metadata": {},
   "source": [
    "**Вывод**"
   ]
  },
  {
   "cell_type": "markdown",
   "metadata": {},
   "source": [
    "В этом пункте была произведена лемматизация столбца `purpose`, используя библиотеку `pymystem3`. Затем посчитали количество упоминаний. \n",
    "\n",
    "В результате вызова контейнера `Counter` мы видим, что по кличеству упоминаний лидирует цель недвижимость/жильё. За ним в порядке убвания следуют: автомобиль, образование, свадьба"
   ]
  },
  {
   "cell_type": "markdown",
   "metadata": {},
   "source": [
    "### Категоризация данных"
   ]
  },
  {
   "cell_type": "markdown",
   "metadata": {},
   "source": [
    "Для упрощения дальнейшего исследования категоризируем данные в столбцах: `children`, `total_income` и `purpose`."
   ]
  },
  {
   "cell_type": "markdown",
   "metadata": {},
   "source": [
    "Начнем с `children`. Напишем функцию, которая будет категоризовать значения следующим образом:\n",
    "* значение `0` - семья без детей\n",
    "* значение `1` - семья с одним ребёнком\n",
    "* значение `2` - семья с двумя детьми \n",
    "* значение `3` и более - многодетная семья"
   ]
  },
  {
   "cell_type": "code",
   "execution_count": 37,
   "metadata": {},
   "outputs": [],
   "source": [
    "def child_category(child_num):\n",
    "    if child_num == 0:\n",
    "        return 'семья без детей'\n",
    "    if child_num == 1:\n",
    "        return 'семья с одним ребёнком'\n",
    "    if child_num == 2:\n",
    "        return 'семья с двумя детьми'\n",
    "    return 'многодетная семья'\n",
    "        "
   ]
  },
  {
   "cell_type": "markdown",
   "metadata": {},
   "source": [
    "Применим созданную функцию к столбцу `children`. Результаты запишем в новый столбец, далее добавим его в наш датафрейм после столбца `children`."
   ]
  },
  {
   "cell_type": "code",
   "execution_count": 38,
   "metadata": {
    "scrolled": false
   },
   "outputs": [
    {
     "data": {
      "text/html": [
       "<div>\n",
       "<style scoped>\n",
       "    .dataframe tbody tr th:only-of-type {\n",
       "        vertical-align: middle;\n",
       "    }\n",
       "\n",
       "    .dataframe tbody tr th {\n",
       "        vertical-align: top;\n",
       "    }\n",
       "\n",
       "    .dataframe thead th {\n",
       "        text-align: right;\n",
       "    }\n",
       "</style>\n",
       "<table border=\"1\" class=\"dataframe\">\n",
       "  <thead>\n",
       "    <tr style=\"text-align: right;\">\n",
       "      <th></th>\n",
       "      <th>children</th>\n",
       "      <th>children_category</th>\n",
       "      <th>days_employed</th>\n",
       "      <th>dob_years</th>\n",
       "      <th>education</th>\n",
       "      <th>education_id</th>\n",
       "      <th>family_status</th>\n",
       "      <th>family_status_id</th>\n",
       "      <th>gender</th>\n",
       "      <th>income_type</th>\n",
       "      <th>debt</th>\n",
       "      <th>total_income</th>\n",
       "      <th>purpose</th>\n",
       "      <th>lemma</th>\n",
       "    </tr>\n",
       "  </thead>\n",
       "  <tbody>\n",
       "    <tr>\n",
       "      <th>0</th>\n",
       "      <td>1</td>\n",
       "      <td>семья с одним ребёнком</td>\n",
       "      <td>8437</td>\n",
       "      <td>42</td>\n",
       "      <td>высшее</td>\n",
       "      <td>0</td>\n",
       "      <td>женат / замужем</td>\n",
       "      <td>0</td>\n",
       "      <td>F</td>\n",
       "      <td>сотрудник</td>\n",
       "      <td>0</td>\n",
       "      <td>253875</td>\n",
       "      <td>покупка жилья</td>\n",
       "      <td>[покупка,  , жилье, \\n]</td>\n",
       "    </tr>\n",
       "    <tr>\n",
       "      <th>1</th>\n",
       "      <td>1</td>\n",
       "      <td>семья с одним ребёнком</td>\n",
       "      <td>4024</td>\n",
       "      <td>36</td>\n",
       "      <td>среднее</td>\n",
       "      <td>1</td>\n",
       "      <td>женат / замужем</td>\n",
       "      <td>0</td>\n",
       "      <td>F</td>\n",
       "      <td>сотрудник</td>\n",
       "      <td>0</td>\n",
       "      <td>112080</td>\n",
       "      <td>приобретение автомобиля</td>\n",
       "      <td>[приобретение,  , автомобиль, \\n]</td>\n",
       "    </tr>\n",
       "    <tr>\n",
       "      <th>2</th>\n",
       "      <td>0</td>\n",
       "      <td>семья без детей</td>\n",
       "      <td>5623</td>\n",
       "      <td>33</td>\n",
       "      <td>среднее</td>\n",
       "      <td>1</td>\n",
       "      <td>женат / замужем</td>\n",
       "      <td>0</td>\n",
       "      <td>M</td>\n",
       "      <td>сотрудник</td>\n",
       "      <td>0</td>\n",
       "      <td>145885</td>\n",
       "      <td>покупка жилья</td>\n",
       "      <td>[покупка,  , жилье, \\n]</td>\n",
       "    </tr>\n",
       "    <tr>\n",
       "      <th>3</th>\n",
       "      <td>3</td>\n",
       "      <td>многодетная семья</td>\n",
       "      <td>4124</td>\n",
       "      <td>32</td>\n",
       "      <td>среднее</td>\n",
       "      <td>1</td>\n",
       "      <td>женат / замужем</td>\n",
       "      <td>0</td>\n",
       "      <td>M</td>\n",
       "      <td>сотрудник</td>\n",
       "      <td>0</td>\n",
       "      <td>267628</td>\n",
       "      <td>дополнительное образование</td>\n",
       "      <td>[дополнительный,  , образование, \\n]</td>\n",
       "    </tr>\n",
       "    <tr>\n",
       "      <th>4</th>\n",
       "      <td>0</td>\n",
       "      <td>семья без детей</td>\n",
       "      <td>340266</td>\n",
       "      <td>53</td>\n",
       "      <td>среднее</td>\n",
       "      <td>1</td>\n",
       "      <td>гражданский брак</td>\n",
       "      <td>1</td>\n",
       "      <td>F</td>\n",
       "      <td>пенсионер</td>\n",
       "      <td>0</td>\n",
       "      <td>158616</td>\n",
       "      <td>сыграть свадьбу</td>\n",
       "      <td>[сыграть,  , свадьба, \\n]</td>\n",
       "    </tr>\n",
       "  </tbody>\n",
       "</table>\n",
       "</div>"
      ],
      "text/plain": [
       "   children       children_category  days_employed  dob_years education  \\\n",
       "0         1  семья с одним ребёнком           8437         42    высшее   \n",
       "1         1  семья с одним ребёнком           4024         36   среднее   \n",
       "2         0         семья без детей           5623         33   среднее   \n",
       "3         3       многодетная семья           4124         32   среднее   \n",
       "4         0         семья без детей         340266         53   среднее   \n",
       "\n",
       "   education_id     family_status  family_status_id gender income_type  debt  \\\n",
       "0             0   женат / замужем                 0      F   сотрудник     0   \n",
       "1             1   женат / замужем                 0      F   сотрудник     0   \n",
       "2             1   женат / замужем                 0      M   сотрудник     0   \n",
       "3             1   женат / замужем                 0      M   сотрудник     0   \n",
       "4             1  гражданский брак                 1      F   пенсионер     0   \n",
       "\n",
       "   total_income                     purpose  \\\n",
       "0        253875               покупка жилья   \n",
       "1        112080     приобретение автомобиля   \n",
       "2        145885               покупка жилья   \n",
       "3        267628  дополнительное образование   \n",
       "4        158616             сыграть свадьбу   \n",
       "\n",
       "                                  lemma  \n",
       "0               [покупка,  , жилье, \\n]  \n",
       "1     [приобретение,  , автомобиль, \\n]  \n",
       "2               [покупка,  , жилье, \\n]  \n",
       "3  [дополнительный,  , образование, \\n]  \n",
       "4             [сыграть,  , свадьба, \\n]  "
      ]
     },
     "execution_count": 38,
     "metadata": {},
     "output_type": "execute_result"
    }
   ],
   "source": [
    "cat_children = df['children'].apply(child_category) #применение функции категоризации\n",
    "idx = 1 #индекс нового столбца \n",
    "df.insert(loc=idx, column='children_category', value=cat_children) #вставка нового столбца в дф\n",
    "df.head()"
   ]
  },
  {
   "cell_type": "markdown",
   "metadata": {},
   "source": [
    "Проведём аналогичную операцию со столбцом `total_income`. В данном случае данные будет категоризовать следующим образом:\n",
    "* доход меньше 60 тыс.\n",
    "* доход от 60 до 100 тыс.\n",
    "* доход от 100 до 150 тыс.\n",
    "* доход от 150 до 200 тыс.\n",
    "* доход от 200 до 250 тыс.\n",
    "* доход свыше 250 тыс."
   ]
  },
  {
   "cell_type": "code",
   "execution_count": 39,
   "metadata": {},
   "outputs": [],
   "source": [
    "def income_cat(income):\n",
    "    if income < 60000:\n",
    "        return 'доход меньше 40 тыс.'\n",
    "    if 60000 <= income < 100000:\n",
    "        return 'доход от 40 до 100 тыс.'\n",
    "    if 100000 <= income < 150000:\n",
    "        return 'доход от 100 до 150 тыс.'\n",
    "    if 150000 <= income < 200000:\n",
    "        return 'доход от 150 до 200 тыс.'\n",
    "    if 200000 <= income < 250000:\n",
    "        return 'доход от 200 до 250 тыс.'\n",
    "    if income >= 250000:\n",
    "        return 'доход свыше 250 тыс.'"
   ]
  },
  {
   "cell_type": "markdown",
   "metadata": {},
   "source": [
    "Применим созданную функцию к столбцу `total_income`. Результаты запишем в новый столбец, далее добавим его в наш датафрейм после столбца `total_income`."
   ]
  },
  {
   "cell_type": "code",
   "execution_count": 40,
   "metadata": {
    "scrolled": false
   },
   "outputs": [
    {
     "data": {
      "text/html": [
       "<div>\n",
       "<style scoped>\n",
       "    .dataframe tbody tr th:only-of-type {\n",
       "        vertical-align: middle;\n",
       "    }\n",
       "\n",
       "    .dataframe tbody tr th {\n",
       "        vertical-align: top;\n",
       "    }\n",
       "\n",
       "    .dataframe thead th {\n",
       "        text-align: right;\n",
       "    }\n",
       "</style>\n",
       "<table border=\"1\" class=\"dataframe\">\n",
       "  <thead>\n",
       "    <tr style=\"text-align: right;\">\n",
       "      <th></th>\n",
       "      <th>children</th>\n",
       "      <th>children_category</th>\n",
       "      <th>days_employed</th>\n",
       "      <th>dob_years</th>\n",
       "      <th>education</th>\n",
       "      <th>education_id</th>\n",
       "      <th>family_status</th>\n",
       "      <th>family_status_id</th>\n",
       "      <th>gender</th>\n",
       "      <th>income_type</th>\n",
       "      <th>debt</th>\n",
       "      <th>total_income</th>\n",
       "      <th>income_category</th>\n",
       "      <th>purpose</th>\n",
       "      <th>lemma</th>\n",
       "    </tr>\n",
       "  </thead>\n",
       "  <tbody>\n",
       "    <tr>\n",
       "      <th>0</th>\n",
       "      <td>1</td>\n",
       "      <td>семья с одним ребёнком</td>\n",
       "      <td>8437</td>\n",
       "      <td>42</td>\n",
       "      <td>высшее</td>\n",
       "      <td>0</td>\n",
       "      <td>женат / замужем</td>\n",
       "      <td>0</td>\n",
       "      <td>F</td>\n",
       "      <td>сотрудник</td>\n",
       "      <td>0</td>\n",
       "      <td>253875</td>\n",
       "      <td>доход свыше 250 тыс.</td>\n",
       "      <td>покупка жилья</td>\n",
       "      <td>[покупка,  , жилье, \\n]</td>\n",
       "    </tr>\n",
       "    <tr>\n",
       "      <th>1</th>\n",
       "      <td>1</td>\n",
       "      <td>семья с одним ребёнком</td>\n",
       "      <td>4024</td>\n",
       "      <td>36</td>\n",
       "      <td>среднее</td>\n",
       "      <td>1</td>\n",
       "      <td>женат / замужем</td>\n",
       "      <td>0</td>\n",
       "      <td>F</td>\n",
       "      <td>сотрудник</td>\n",
       "      <td>0</td>\n",
       "      <td>112080</td>\n",
       "      <td>доход от 100 до 150 тыс.</td>\n",
       "      <td>приобретение автомобиля</td>\n",
       "      <td>[приобретение,  , автомобиль, \\n]</td>\n",
       "    </tr>\n",
       "    <tr>\n",
       "      <th>2</th>\n",
       "      <td>0</td>\n",
       "      <td>семья без детей</td>\n",
       "      <td>5623</td>\n",
       "      <td>33</td>\n",
       "      <td>среднее</td>\n",
       "      <td>1</td>\n",
       "      <td>женат / замужем</td>\n",
       "      <td>0</td>\n",
       "      <td>M</td>\n",
       "      <td>сотрудник</td>\n",
       "      <td>0</td>\n",
       "      <td>145885</td>\n",
       "      <td>доход от 100 до 150 тыс.</td>\n",
       "      <td>покупка жилья</td>\n",
       "      <td>[покупка,  , жилье, \\n]</td>\n",
       "    </tr>\n",
       "    <tr>\n",
       "      <th>3</th>\n",
       "      <td>3</td>\n",
       "      <td>многодетная семья</td>\n",
       "      <td>4124</td>\n",
       "      <td>32</td>\n",
       "      <td>среднее</td>\n",
       "      <td>1</td>\n",
       "      <td>женат / замужем</td>\n",
       "      <td>0</td>\n",
       "      <td>M</td>\n",
       "      <td>сотрудник</td>\n",
       "      <td>0</td>\n",
       "      <td>267628</td>\n",
       "      <td>доход свыше 250 тыс.</td>\n",
       "      <td>дополнительное образование</td>\n",
       "      <td>[дополнительный,  , образование, \\n]</td>\n",
       "    </tr>\n",
       "    <tr>\n",
       "      <th>4</th>\n",
       "      <td>0</td>\n",
       "      <td>семья без детей</td>\n",
       "      <td>340266</td>\n",
       "      <td>53</td>\n",
       "      <td>среднее</td>\n",
       "      <td>1</td>\n",
       "      <td>гражданский брак</td>\n",
       "      <td>1</td>\n",
       "      <td>F</td>\n",
       "      <td>пенсионер</td>\n",
       "      <td>0</td>\n",
       "      <td>158616</td>\n",
       "      <td>доход от 150 до 200 тыс.</td>\n",
       "      <td>сыграть свадьбу</td>\n",
       "      <td>[сыграть,  , свадьба, \\n]</td>\n",
       "    </tr>\n",
       "  </tbody>\n",
       "</table>\n",
       "</div>"
      ],
      "text/plain": [
       "   children       children_category  days_employed  dob_years education  \\\n",
       "0         1  семья с одним ребёнком           8437         42    высшее   \n",
       "1         1  семья с одним ребёнком           4024         36   среднее   \n",
       "2         0         семья без детей           5623         33   среднее   \n",
       "3         3       многодетная семья           4124         32   среднее   \n",
       "4         0         семья без детей         340266         53   среднее   \n",
       "\n",
       "   education_id     family_status  family_status_id gender income_type  debt  \\\n",
       "0             0   женат / замужем                 0      F   сотрудник     0   \n",
       "1             1   женат / замужем                 0      F   сотрудник     0   \n",
       "2             1   женат / замужем                 0      M   сотрудник     0   \n",
       "3             1   женат / замужем                 0      M   сотрудник     0   \n",
       "4             1  гражданский брак                 1      F   пенсионер     0   \n",
       "\n",
       "   total_income           income_category                     purpose  \\\n",
       "0        253875      доход свыше 250 тыс.               покупка жилья   \n",
       "1        112080  доход от 100 до 150 тыс.     приобретение автомобиля   \n",
       "2        145885  доход от 100 до 150 тыс.               покупка жилья   \n",
       "3        267628      доход свыше 250 тыс.  дополнительное образование   \n",
       "4        158616  доход от 150 до 200 тыс.             сыграть свадьбу   \n",
       "\n",
       "                                  lemma  \n",
       "0               [покупка,  , жилье, \\n]  \n",
       "1     [приобретение,  , автомобиль, \\n]  \n",
       "2               [покупка,  , жилье, \\n]  \n",
       "3  [дополнительный,  , образование, \\n]  \n",
       "4             [сыграть,  , свадьба, \\n]  "
      ]
     },
     "execution_count": 40,
     "metadata": {},
     "output_type": "execute_result"
    }
   ],
   "source": [
    "cat_income = df['total_income'].apply(income_cat)\n",
    "idx = 12\n",
    "df.insert(loc=idx, column='income_category', value=cat_income)\n",
    "df.head()"
   ]
  },
  {
   "cell_type": "markdown",
   "metadata": {},
   "source": [
    "Далее категоризируем цели займа. В столбце `lemma` уже содержатся лематизированные значения столбца `purpose`, далее будем рабоать с ними. Создадим функцию, которая вместо списка лематизированных слов будет выдавать одним словом цель займа. Эту функцию применим на столбце `lemma`, чтобы не создавать новыый столбец. "
   ]
  },
  {
   "cell_type": "code",
   "execution_count": 41,
   "metadata": {
    "scrolled": true
   },
   "outputs": [
    {
     "data": {
      "text/html": [
       "<div>\n",
       "<style scoped>\n",
       "    .dataframe tbody tr th:only-of-type {\n",
       "        vertical-align: middle;\n",
       "    }\n",
       "\n",
       "    .dataframe tbody tr th {\n",
       "        vertical-align: top;\n",
       "    }\n",
       "\n",
       "    .dataframe thead th {\n",
       "        text-align: right;\n",
       "    }\n",
       "</style>\n",
       "<table border=\"1\" class=\"dataframe\">\n",
       "  <thead>\n",
       "    <tr style=\"text-align: right;\">\n",
       "      <th></th>\n",
       "      <th>children</th>\n",
       "      <th>children_category</th>\n",
       "      <th>days_employed</th>\n",
       "      <th>dob_years</th>\n",
       "      <th>education</th>\n",
       "      <th>education_id</th>\n",
       "      <th>family_status</th>\n",
       "      <th>family_status_id</th>\n",
       "      <th>gender</th>\n",
       "      <th>income_type</th>\n",
       "      <th>debt</th>\n",
       "      <th>total_income</th>\n",
       "      <th>income_category</th>\n",
       "      <th>purpose</th>\n",
       "      <th>lemma</th>\n",
       "    </tr>\n",
       "  </thead>\n",
       "  <tbody>\n",
       "    <tr>\n",
       "      <th>0</th>\n",
       "      <td>1</td>\n",
       "      <td>семья с одним ребёнком</td>\n",
       "      <td>8437</td>\n",
       "      <td>42</td>\n",
       "      <td>высшее</td>\n",
       "      <td>0</td>\n",
       "      <td>женат / замужем</td>\n",
       "      <td>0</td>\n",
       "      <td>F</td>\n",
       "      <td>сотрудник</td>\n",
       "      <td>0</td>\n",
       "      <td>253875</td>\n",
       "      <td>доход свыше 250 тыс.</td>\n",
       "      <td>покупка жилья</td>\n",
       "      <td>недвижимость</td>\n",
       "    </tr>\n",
       "    <tr>\n",
       "      <th>1</th>\n",
       "      <td>1</td>\n",
       "      <td>семья с одним ребёнком</td>\n",
       "      <td>4024</td>\n",
       "      <td>36</td>\n",
       "      <td>среднее</td>\n",
       "      <td>1</td>\n",
       "      <td>женат / замужем</td>\n",
       "      <td>0</td>\n",
       "      <td>F</td>\n",
       "      <td>сотрудник</td>\n",
       "      <td>0</td>\n",
       "      <td>112080</td>\n",
       "      <td>доход от 100 до 150 тыс.</td>\n",
       "      <td>приобретение автомобиля</td>\n",
       "      <td>автомобиль</td>\n",
       "    </tr>\n",
       "    <tr>\n",
       "      <th>2</th>\n",
       "      <td>0</td>\n",
       "      <td>семья без детей</td>\n",
       "      <td>5623</td>\n",
       "      <td>33</td>\n",
       "      <td>среднее</td>\n",
       "      <td>1</td>\n",
       "      <td>женат / замужем</td>\n",
       "      <td>0</td>\n",
       "      <td>M</td>\n",
       "      <td>сотрудник</td>\n",
       "      <td>0</td>\n",
       "      <td>145885</td>\n",
       "      <td>доход от 100 до 150 тыс.</td>\n",
       "      <td>покупка жилья</td>\n",
       "      <td>недвижимость</td>\n",
       "    </tr>\n",
       "    <tr>\n",
       "      <th>3</th>\n",
       "      <td>3</td>\n",
       "      <td>многодетная семья</td>\n",
       "      <td>4124</td>\n",
       "      <td>32</td>\n",
       "      <td>среднее</td>\n",
       "      <td>1</td>\n",
       "      <td>женат / замужем</td>\n",
       "      <td>0</td>\n",
       "      <td>M</td>\n",
       "      <td>сотрудник</td>\n",
       "      <td>0</td>\n",
       "      <td>267628</td>\n",
       "      <td>доход свыше 250 тыс.</td>\n",
       "      <td>дополнительное образование</td>\n",
       "      <td>образование</td>\n",
       "    </tr>\n",
       "    <tr>\n",
       "      <th>4</th>\n",
       "      <td>0</td>\n",
       "      <td>семья без детей</td>\n",
       "      <td>340266</td>\n",
       "      <td>53</td>\n",
       "      <td>среднее</td>\n",
       "      <td>1</td>\n",
       "      <td>гражданский брак</td>\n",
       "      <td>1</td>\n",
       "      <td>F</td>\n",
       "      <td>пенсионер</td>\n",
       "      <td>0</td>\n",
       "      <td>158616</td>\n",
       "      <td>доход от 150 до 200 тыс.</td>\n",
       "      <td>сыграть свадьбу</td>\n",
       "      <td>свадьба</td>\n",
       "    </tr>\n",
       "  </tbody>\n",
       "</table>\n",
       "</div>"
      ],
      "text/plain": [
       "   children       children_category  days_employed  dob_years education  \\\n",
       "0         1  семья с одним ребёнком           8437         42    высшее   \n",
       "1         1  семья с одним ребёнком           4024         36   среднее   \n",
       "2         0         семья без детей           5623         33   среднее   \n",
       "3         3       многодетная семья           4124         32   среднее   \n",
       "4         0         семья без детей         340266         53   среднее   \n",
       "\n",
       "   education_id     family_status  family_status_id gender income_type  debt  \\\n",
       "0             0   женат / замужем                 0      F   сотрудник     0   \n",
       "1             1   женат / замужем                 0      F   сотрудник     0   \n",
       "2             1   женат / замужем                 0      M   сотрудник     0   \n",
       "3             1   женат / замужем                 0      M   сотрудник     0   \n",
       "4             1  гражданский брак                 1      F   пенсионер     0   \n",
       "\n",
       "   total_income           income_category                     purpose  \\\n",
       "0        253875      доход свыше 250 тыс.               покупка жилья   \n",
       "1        112080  доход от 100 до 150 тыс.     приобретение автомобиля   \n",
       "2        145885  доход от 100 до 150 тыс.               покупка жилья   \n",
       "3        267628      доход свыше 250 тыс.  дополнительное образование   \n",
       "4        158616  доход от 150 до 200 тыс.             сыграть свадьбу   \n",
       "\n",
       "          lemma  \n",
       "0  недвижимость  \n",
       "1    автомобиль  \n",
       "2  недвижимость  \n",
       "3   образование  \n",
       "4       свадьба  "
      ]
     },
     "execution_count": 41,
     "metadata": {},
     "output_type": "execute_result"
    }
   ],
   "source": [
    "def lemma_purpose(words):\n",
    "    if 'недвижимость' in words or 'жилье' in words:\n",
    "        return 'недвижимость'\n",
    "    elif 'автомобиль' in words:\n",
    "        return 'автомобиль'\n",
    "    elif 'образование' in words:\n",
    "        return 'образование'\n",
    "    elif 'свадьба' in words:\n",
    "        return 'свадьба'\n",
    "        \n",
    "df['lemma'] = df['lemma'].apply(lemma_purpose)\n",
    "df.head()        \n",
    "        "
   ]
  },
  {
   "cell_type": "markdown",
   "metadata": {},
   "source": [
    "**Вывод**"
   ]
  },
  {
   "cell_type": "markdown",
   "metadata": {},
   "source": [
    "В данном пункте были категоризированы следующие столбцы: `children`, `total_income` и `purpose`. \n",
    "В дальнейшем категоризация упростит нам процесс выявления взаимосвязей. "
   ]
  },
  {
   "cell_type": "markdown",
   "metadata": {},
   "source": [
    "## Ответы на вопросы"
   ]
  },
  {
   "cell_type": "markdown",
   "metadata": {},
   "source": [
    "Искать зависимость будет с помощью относительного значения. Для этого создадим для каждой зависимости сводную таблицу методом `pivot_table`. "
   ]
  },
  {
   "cell_type": "markdown",
   "metadata": {},
   "source": [
    "- Есть ли зависимость между наличием детей и возвратом кредита в срок?"
   ]
  },
  {
   "cell_type": "code",
   "execution_count": 42,
   "metadata": {},
   "outputs": [
    {
     "data": {
      "text/html": [
       "<div>\n",
       "<style scoped>\n",
       "    .dataframe tbody tr th:only-of-type {\n",
       "        vertical-align: middle;\n",
       "    }\n",
       "\n",
       "    .dataframe tbody tr th {\n",
       "        vertical-align: top;\n",
       "    }\n",
       "\n",
       "    .dataframe thead th {\n",
       "        text-align: right;\n",
       "    }\n",
       "</style>\n",
       "<table border=\"1\" class=\"dataframe\">\n",
       "  <thead>\n",
       "    <tr style=\"text-align: right;\">\n",
       "      <th></th>\n",
       "      <th>нет задолженности</th>\n",
       "      <th>есть задолженность</th>\n",
       "      <th>всего</th>\n",
       "      <th>доля вернувших в срок, %</th>\n",
       "    </tr>\n",
       "    <tr>\n",
       "      <th>children_category</th>\n",
       "      <th></th>\n",
       "      <th></th>\n",
       "      <th></th>\n",
       "      <th></th>\n",
       "    </tr>\n",
       "  </thead>\n",
       "  <tbody>\n",
       "    <tr>\n",
       "      <th>семья без детей</th>\n",
       "      <td>13028</td>\n",
       "      <td>1063</td>\n",
       "      <td>14091</td>\n",
       "      <td>92.5</td>\n",
       "    </tr>\n",
       "    <tr>\n",
       "      <th>многодетная семья</th>\n",
       "      <td>349</td>\n",
       "      <td>31</td>\n",
       "      <td>380</td>\n",
       "      <td>91.8</td>\n",
       "    </tr>\n",
       "    <tr>\n",
       "      <th>семья с одним ребёнком</th>\n",
       "      <td>4410</td>\n",
       "      <td>445</td>\n",
       "      <td>4855</td>\n",
       "      <td>90.8</td>\n",
       "    </tr>\n",
       "    <tr>\n",
       "      <th>семья с двумя детьми</th>\n",
       "      <td>1926</td>\n",
       "      <td>202</td>\n",
       "      <td>2128</td>\n",
       "      <td>90.5</td>\n",
       "    </tr>\n",
       "  </tbody>\n",
       "</table>\n",
       "</div>"
      ],
      "text/plain": [
       "                        нет задолженности  есть задолженность  всего  \\\n",
       "children_category                                                      \n",
       "семья без детей                     13028                1063  14091   \n",
       "многодетная семья                     349                  31    380   \n",
       "семья с одним ребёнком               4410                 445   4855   \n",
       "семья с двумя детьми                 1926                 202   2128   \n",
       "\n",
       "                        доля вернувших в срок, %  \n",
       "children_category                                 \n",
       "семья без детей                             92.5  \n",
       "многодетная семья                           91.8  \n",
       "семья с одним ребёнком                      90.8  \n",
       "семья с двумя детьми                        90.5  "
      ]
     },
     "execution_count": 42,
     "metadata": {},
     "output_type": "execute_result"
    }
   ],
   "source": [
    "df_pivot_child = df.pivot_table(index=['children_category'], columns = 'debt', values = 'days_employed', aggfunc = 'count')\n",
    "df_pivot_child.columns = ['нет задолженности', 'есть задолженность']\n",
    "df_pivot_child['всего']= df_pivot_child['нет задолженности'] + df_pivot_child['есть задолженность']\n",
    "df_pivot_child['доля вернувших в срок, %'] = (df_pivot_child['нет задолженности'] / df_pivot_child['всего'] * 100).round(1)\n",
    "df_pivot_child = df_pivot_child.sort_values(by='доля вернувших в срок, %', ascending=False)\n",
    "df_pivot_child"
   ]
  },
  {
   "cell_type": "markdown",
   "metadata": {},
   "source": [
    "**Вывод**"
   ]
  },
  {
   "cell_type": "markdown",
   "metadata": {},
   "source": [
    "В результате мы видим, что кредиты отдавалаи чаще всего семьи без детей, доля многодетных семей, вернувших кредит в срок, чуть меньше\n",
    "\n",
    "Доля семей с 1-2 детьми меньше, они реже возвращали кредиты в срок.\n",
    "\n",
    "Можно сказать, что зависимость есть"
   ]
  },
  {
   "cell_type": "markdown",
   "metadata": {},
   "source": [
    "- Есть ли зависимость между семейным положением и возвратом кредита в срок?"
   ]
  },
  {
   "cell_type": "code",
   "execution_count": 43,
   "metadata": {},
   "outputs": [
    {
     "data": {
      "text/html": [
       "<div>\n",
       "<style scoped>\n",
       "    .dataframe tbody tr th:only-of-type {\n",
       "        vertical-align: middle;\n",
       "    }\n",
       "\n",
       "    .dataframe tbody tr th {\n",
       "        vertical-align: top;\n",
       "    }\n",
       "\n",
       "    .dataframe thead th {\n",
       "        text-align: right;\n",
       "    }\n",
       "</style>\n",
       "<table border=\"1\" class=\"dataframe\">\n",
       "  <thead>\n",
       "    <tr style=\"text-align: right;\">\n",
       "      <th></th>\n",
       "      <th>нет задолженности</th>\n",
       "      <th>есть задолженность</th>\n",
       "      <th>всего</th>\n",
       "      <th>доля вернувших в срок, %</th>\n",
       "    </tr>\n",
       "    <tr>\n",
       "      <th>family_status</th>\n",
       "      <th></th>\n",
       "      <th></th>\n",
       "      <th></th>\n",
       "      <th></th>\n",
       "    </tr>\n",
       "  </thead>\n",
       "  <tbody>\n",
       "    <tr>\n",
       "      <th>вдовец / вдова</th>\n",
       "      <td>896</td>\n",
       "      <td>63</td>\n",
       "      <td>959</td>\n",
       "      <td>93.4</td>\n",
       "    </tr>\n",
       "    <tr>\n",
       "      <th>в разводе</th>\n",
       "      <td>1110</td>\n",
       "      <td>85</td>\n",
       "      <td>1195</td>\n",
       "      <td>92.9</td>\n",
       "    </tr>\n",
       "    <tr>\n",
       "      <th>женат / замужем</th>\n",
       "      <td>11408</td>\n",
       "      <td>931</td>\n",
       "      <td>12339</td>\n",
       "      <td>92.5</td>\n",
       "    </tr>\n",
       "    <tr>\n",
       "      <th>гражданский брак</th>\n",
       "      <td>3763</td>\n",
       "      <td>388</td>\n",
       "      <td>4151</td>\n",
       "      <td>90.7</td>\n",
       "    </tr>\n",
       "    <tr>\n",
       "      <th>Не женат / не замужем</th>\n",
       "      <td>2536</td>\n",
       "      <td>274</td>\n",
       "      <td>2810</td>\n",
       "      <td>90.2</td>\n",
       "    </tr>\n",
       "  </tbody>\n",
       "</table>\n",
       "</div>"
      ],
      "text/plain": [
       "                       нет задолженности  есть задолженность  всего  \\\n",
       "family_status                                                         \n",
       "вдовец / вдова                       896                  63    959   \n",
       "в разводе                           1110                  85   1195   \n",
       "женат / замужем                    11408                 931  12339   \n",
       "гражданский брак                    3763                 388   4151   \n",
       "Не женат / не замужем               2536                 274   2810   \n",
       "\n",
       "                       доля вернувших в срок, %  \n",
       "family_status                                    \n",
       "вдовец / вдова                             93.4  \n",
       "в разводе                                  92.9  \n",
       "женат / замужем                            92.5  \n",
       "гражданский брак                           90.7  \n",
       "Не женат / не замужем                      90.2  "
      ]
     },
     "execution_count": 43,
     "metadata": {},
     "output_type": "execute_result"
    }
   ],
   "source": [
    "df_pivot_family = df.pivot_table(index=['family_status'], columns = 'debt', values = 'days_employed', aggfunc = 'count')\n",
    "df_pivot_family.columns = ['нет задолженности', 'есть задолженность']\n",
    "df_pivot_family['всего']= df_pivot_family['нет задолженности'] + df_pivot_family['есть задолженность']\n",
    "df_pivot_family['доля вернувших в срок, %'] = (df_pivot_family['нет задолженности'] / df_pivot_family['всего'] * 100).round(1)\n",
    "df_pivot_family = df_pivot_family.sort_values(by='доля вернувших в срок, %', ascending=False)\n",
    "df_pivot_family"
   ]
  },
  {
   "cell_type": "markdown",
   "metadata": {},
   "source": [
    "**Вывод**"
   ]
  },
  {
   "cell_type": "markdown",
   "metadata": {},
   "source": [
    "Чаще всего кредит в срок отдавали люди, которые потеряли свою вторую половинку.\n",
    "Также достаточно высок процент семей в разводе и семей в браке, которые подошли к возврату займа ответственно.\n",
    "\n",
    "Реже всего в срок отдавали люди, которые живут в гражданском браке или те, у кого нет второй половинки.\n",
    "\n",
    "Можно сказать, что зависимость есть"
   ]
  },
  {
   "cell_type": "markdown",
   "metadata": {},
   "source": [
    "- Есть ли зависимость между уровнем дохода и возвратом кредита в срок?"
   ]
  },
  {
   "cell_type": "code",
   "execution_count": 44,
   "metadata": {},
   "outputs": [
    {
     "data": {
      "text/html": [
       "<div>\n",
       "<style scoped>\n",
       "    .dataframe tbody tr th:only-of-type {\n",
       "        vertical-align: middle;\n",
       "    }\n",
       "\n",
       "    .dataframe tbody tr th {\n",
       "        vertical-align: top;\n",
       "    }\n",
       "\n",
       "    .dataframe thead th {\n",
       "        text-align: right;\n",
       "    }\n",
       "</style>\n",
       "<table border=\"1\" class=\"dataframe\">\n",
       "  <thead>\n",
       "    <tr style=\"text-align: right;\">\n",
       "      <th></th>\n",
       "      <th>нет задолженности</th>\n",
       "      <th>есть задолженность</th>\n",
       "      <th>всего</th>\n",
       "      <th>доля вернувших в срок, %</th>\n",
       "    </tr>\n",
       "    <tr>\n",
       "      <th>income_category</th>\n",
       "      <th></th>\n",
       "      <th></th>\n",
       "      <th></th>\n",
       "      <th></th>\n",
       "    </tr>\n",
       "  </thead>\n",
       "  <tbody>\n",
       "    <tr>\n",
       "      <th>доход меньше 40 тыс.</th>\n",
       "      <td>757</td>\n",
       "      <td>49</td>\n",
       "      <td>806</td>\n",
       "      <td>93.9</td>\n",
       "    </tr>\n",
       "    <tr>\n",
       "      <th>доход свыше 250 тыс.</th>\n",
       "      <td>2619</td>\n",
       "      <td>194</td>\n",
       "      <td>2813</td>\n",
       "      <td>93.1</td>\n",
       "    </tr>\n",
       "    <tr>\n",
       "      <th>доход от 200 до 250 тыс.</th>\n",
       "      <td>2268</td>\n",
       "      <td>172</td>\n",
       "      <td>2440</td>\n",
       "      <td>93.0</td>\n",
       "    </tr>\n",
       "    <tr>\n",
       "      <th>доход от 40 до 100 тыс.</th>\n",
       "      <td>3352</td>\n",
       "      <td>305</td>\n",
       "      <td>3657</td>\n",
       "      <td>91.7</td>\n",
       "    </tr>\n",
       "    <tr>\n",
       "      <th>доход от 150 до 200 тыс.</th>\n",
       "      <td>4362</td>\n",
       "      <td>405</td>\n",
       "      <td>4767</td>\n",
       "      <td>91.5</td>\n",
       "    </tr>\n",
       "    <tr>\n",
       "      <th>доход от 100 до 150 тыс.</th>\n",
       "      <td>6355</td>\n",
       "      <td>616</td>\n",
       "      <td>6971</td>\n",
       "      <td>91.2</td>\n",
       "    </tr>\n",
       "  </tbody>\n",
       "</table>\n",
       "</div>"
      ],
      "text/plain": [
       "                          нет задолженности  есть задолженность  всего  \\\n",
       "income_category                                                          \n",
       "доход меньше 40 тыс.                    757                  49    806   \n",
       "доход свыше 250 тыс.                   2619                 194   2813   \n",
       "доход от 200 до 250 тыс.               2268                 172   2440   \n",
       "доход от 40 до 100 тыс.                3352                 305   3657   \n",
       "доход от 150 до 200 тыс.               4362                 405   4767   \n",
       "доход от 100 до 150 тыс.               6355                 616   6971   \n",
       "\n",
       "                          доля вернувших в срок, %  \n",
       "income_category                                     \n",
       "доход меньше 40 тыс.                          93.9  \n",
       "доход свыше 250 тыс.                          93.1  \n",
       "доход от 200 до 250 тыс.                      93.0  \n",
       "доход от 40 до 100 тыс.                       91.7  \n",
       "доход от 150 до 200 тыс.                      91.5  \n",
       "доход от 100 до 150 тыс.                      91.2  "
      ]
     },
     "execution_count": 44,
     "metadata": {},
     "output_type": "execute_result"
    }
   ],
   "source": [
    "df_pivot_income = df.pivot_table(index=['income_category'], columns = 'debt', values = 'days_employed', aggfunc = 'count')\n",
    "df_pivot_income.columns = ['нет задолженности', 'есть задолженность']\n",
    "df_pivot_income['всего']= df_pivot_income['нет задолженности'] + df_pivot_income['есть задолженность']\n",
    "df_pivot_income['доля вернувших в срок, %'] = (df_pivot_income['нет задолженности'] / df_pivot_income['всего'] * 100).round(1)\n",
    "df_pivot_income = df_pivot_income.sort_values(by='доля вернувших в срок, %', ascending=False)\n",
    "df_pivot_income"
   ]
  },
  {
   "cell_type": "markdown",
   "metadata": {},
   "source": [
    "**Вывод**"
   ]
  },
  {
   "cell_type": "markdown",
   "metadata": {},
   "source": [
    "Можно сказать, что люди с доходом меньше 40 тыс. ответственно подошли к возврату долгов, процент вернувших достаточно высок.\n",
    "Также люди, имеющие доход свыше 200 тыс. также регулряно и вовремя возвращали кредиты.\n",
    "\n",
    "Наоборот, люди, чей доход находится в диапозоне 40 - 150 тыс. задерживали оплату по кредитам.\n",
    "\n",
    "Зависимость имеет место быть. "
   ]
  },
  {
   "cell_type": "markdown",
   "metadata": {},
   "source": [
    "- Как разные цели кредита влияют на его возврат в срок?"
   ]
  },
  {
   "cell_type": "code",
   "execution_count": 45,
   "metadata": {},
   "outputs": [
    {
     "data": {
      "text/html": [
       "<div>\n",
       "<style scoped>\n",
       "    .dataframe tbody tr th:only-of-type {\n",
       "        vertical-align: middle;\n",
       "    }\n",
       "\n",
       "    .dataframe tbody tr th {\n",
       "        vertical-align: top;\n",
       "    }\n",
       "\n",
       "    .dataframe thead th {\n",
       "        text-align: right;\n",
       "    }\n",
       "</style>\n",
       "<table border=\"1\" class=\"dataframe\">\n",
       "  <thead>\n",
       "    <tr style=\"text-align: right;\">\n",
       "      <th></th>\n",
       "      <th>нет задолженности</th>\n",
       "      <th>есть задолженность</th>\n",
       "      <th>всего</th>\n",
       "      <th>доля вернувших в срок, %</th>\n",
       "    </tr>\n",
       "    <tr>\n",
       "      <th>lemma</th>\n",
       "      <th></th>\n",
       "      <th></th>\n",
       "      <th></th>\n",
       "      <th></th>\n",
       "    </tr>\n",
       "  </thead>\n",
       "  <tbody>\n",
       "    <tr>\n",
       "      <th>недвижимость</th>\n",
       "      <td>10029</td>\n",
       "      <td>782</td>\n",
       "      <td>10811</td>\n",
       "      <td>92.8</td>\n",
       "    </tr>\n",
       "    <tr>\n",
       "      <th>свадьба</th>\n",
       "      <td>2138</td>\n",
       "      <td>186</td>\n",
       "      <td>2324</td>\n",
       "      <td>92.0</td>\n",
       "    </tr>\n",
       "    <tr>\n",
       "      <th>образование</th>\n",
       "      <td>3643</td>\n",
       "      <td>370</td>\n",
       "      <td>4013</td>\n",
       "      <td>90.8</td>\n",
       "    </tr>\n",
       "    <tr>\n",
       "      <th>автомобиль</th>\n",
       "      <td>3903</td>\n",
       "      <td>403</td>\n",
       "      <td>4306</td>\n",
       "      <td>90.6</td>\n",
       "    </tr>\n",
       "  </tbody>\n",
       "</table>\n",
       "</div>"
      ],
      "text/plain": [
       "              нет задолженности  есть задолженность  всего  \\\n",
       "lemma                                                        \n",
       "недвижимость              10029                 782  10811   \n",
       "свадьба                    2138                 186   2324   \n",
       "образование                3643                 370   4013   \n",
       "автомобиль                 3903                 403   4306   \n",
       "\n",
       "              доля вернувших в срок, %  \n",
       "lemma                                   \n",
       "недвижимость                      92.8  \n",
       "свадьба                           92.0  \n",
       "образование                       90.8  \n",
       "автомобиль                        90.6  "
      ]
     },
     "execution_count": 45,
     "metadata": {},
     "output_type": "execute_result"
    }
   ],
   "source": [
    "df_pivot_purpose = df.pivot_table(index=['lemma'], columns = 'debt', values = 'days_employed', aggfunc = 'count')\n",
    "df_pivot_purpose.columns = ['нет задолженности', 'есть задолженность']\n",
    "df_pivot_purpose['всего']= df_pivot_purpose['нет задолженности'] + df_pivot_purpose['есть задолженность']\n",
    "df_pivot_purpose['доля вернувших в срок, %'] = (df_pivot_purpose['нет задолженности'] / df_pivot_purpose['всего'] * 100).round(1)\n",
    "df_pivot_purpose = df_pivot_purpose.sort_values(by='доля вернувших в срок, %', ascending=False)\n",
    "df_pivot_purpose"
   ]
  },
  {
   "cell_type": "markdown",
   "metadata": {},
   "source": [
    "**Вывод**"
   ]
  },
  {
   "cell_type": "markdown",
   "metadata": {},
   "source": [
    "Здесь отметим, что люди, взявшие кредит на приобретение недвижиомсти или для проведения свядьбы, вероятнее всего вернут займ в срок. А вот, если человек взял кредит для оплаты образования или покупки автомобиля, вероятность возврата в срок ниже.\n",
    "\n",
    "Зависимость есть. "
   ]
  },
  {
   "cell_type": "markdown",
   "metadata": {},
   "source": [
    "## Общий вывод"
   ]
  },
  {
   "cell_type": "markdown",
   "metadata": {},
   "source": [
    "Главной гипотезой данного проекта был вопрос: влияет ли семейное положение и количество детей клиента на факт погашения кредита в срок.\n",
    "\n",
    "Отвечаем по порядку\n",
    "\n",
    "Семейное положение: да, влияет.\n",
    "Чаще всего кредит в срок отдавали люди, которые, к сожалению, потеряли свою вторую половинку.\n",
    "Реже всего в срок отдавали люди, проживающие в гражданском браке или те, кто пока что не имеют пару.\n",
    "\n",
    "Количество детей: да, влияет\n",
    "В результате мы видим, что кредиты отдавалаи чаще всего семьи без детей.\n",
    "А вот семьи с 1-2 детьми отдавали свои долги в срок реже.\n"
   ]
  }
 ],
 "metadata": {
  "ExecuteTimeLog": [
   {
    "duration": 319,
    "start_time": "2021-12-01T18:49:42.707Z"
   },
   {
    "duration": 506,
    "start_time": "2021-12-01T18:49:57.646Z"
   },
   {
    "duration": 62,
    "start_time": "2021-12-01T18:50:00.988Z"
   },
   {
    "duration": 11,
    "start_time": "2021-12-01T18:52:39.764Z"
   },
   {
    "duration": 2,
    "start_time": "2021-12-01T20:26:13.122Z"
   },
   {
    "duration": 74,
    "start_time": "2021-12-01T20:26:13.126Z"
   },
   {
    "duration": 9,
    "start_time": "2021-12-01T20:26:13.201Z"
   },
   {
    "duration": 9,
    "start_time": "2021-12-01T20:31:04.720Z"
   },
   {
    "duration": 262,
    "start_time": "2021-12-02T17:17:56.826Z"
   },
   {
    "duration": 567,
    "start_time": "2021-12-02T17:18:18.267Z"
   },
   {
    "duration": 62,
    "start_time": "2021-12-02T17:18:18.836Z"
   },
   {
    "duration": 11,
    "start_time": "2021-12-02T17:18:18.900Z"
   },
   {
    "duration": 7,
    "start_time": "2021-12-02T17:18:18.913Z"
   },
   {
    "duration": 5661,
    "start_time": "2021-12-02T17:18:18.922Z"
   },
   {
    "duration": 2,
    "start_time": "2021-12-02T17:18:59.362Z"
   },
   {
    "duration": 55,
    "start_time": "2021-12-02T17:18:59.367Z"
   },
   {
    "duration": 11,
    "start_time": "2021-12-02T17:18:59.423Z"
   },
   {
    "duration": 11,
    "start_time": "2021-12-02T17:18:59.436Z"
   },
   {
    "duration": 243,
    "start_time": "2021-12-02T17:18:59.449Z"
   },
   {
    "duration": 245,
    "start_time": "2021-12-02T17:21:57.395Z"
   },
   {
    "duration": 7,
    "start_time": "2021-12-02T17:26:20.124Z"
   },
   {
    "duration": 4,
    "start_time": "2021-12-02T17:27:12.902Z"
   },
   {
    "duration": 75,
    "start_time": "2021-12-02T17:30:37.193Z"
   },
   {
    "duration": 75,
    "start_time": "2021-12-02T17:30:49.196Z"
   },
   {
    "duration": 234,
    "start_time": "2021-12-02T17:30:58.401Z"
   },
   {
    "duration": 10,
    "start_time": "2021-12-02T17:32:04.443Z"
   },
   {
    "duration": 6,
    "start_time": "2021-12-02T17:37:00.289Z"
   },
   {
    "duration": 2,
    "start_time": "2021-12-02T17:37:37.325Z"
   },
   {
    "duration": 57,
    "start_time": "2021-12-02T17:37:37.329Z"
   },
   {
    "duration": 15,
    "start_time": "2021-12-02T17:37:37.388Z"
   },
   {
    "duration": 9,
    "start_time": "2021-12-02T17:37:37.405Z"
   },
   {
    "duration": 5,
    "start_time": "2021-12-02T17:37:37.415Z"
   },
   {
    "duration": 4,
    "start_time": "2021-12-02T17:38:34.448Z"
   },
   {
    "duration": 81,
    "start_time": "2021-12-02T17:41:54.504Z"
   },
   {
    "duration": 17,
    "start_time": "2021-12-02T17:42:09.495Z"
   },
   {
    "duration": 17,
    "start_time": "2021-12-02T17:45:09.192Z"
   },
   {
    "duration": 9,
    "start_time": "2021-12-02T17:45:41.581Z"
   },
   {
    "duration": 10,
    "start_time": "2021-12-02T17:45:52.678Z"
   },
   {
    "duration": 9,
    "start_time": "2021-12-02T17:46:22.979Z"
   },
   {
    "duration": 5,
    "start_time": "2021-12-02T17:49:38.440Z"
   },
   {
    "duration": 5,
    "start_time": "2021-12-02T17:49:40.873Z"
   },
   {
    "duration": 7,
    "start_time": "2021-12-02T17:49:48.820Z"
   },
   {
    "duration": 13,
    "start_time": "2021-12-02T18:00:57.999Z"
   },
   {
    "duration": 13,
    "start_time": "2021-12-02T18:01:11.346Z"
   },
   {
    "duration": 6,
    "start_time": "2021-12-02T18:01:16.168Z"
   },
   {
    "duration": 2,
    "start_time": "2021-12-02T18:01:28.565Z"
   },
   {
    "duration": 58,
    "start_time": "2021-12-02T18:01:28.569Z"
   },
   {
    "duration": 9,
    "start_time": "2021-12-02T18:01:28.629Z"
   },
   {
    "duration": 9,
    "start_time": "2021-12-02T18:01:28.640Z"
   },
   {
    "duration": 12,
    "start_time": "2021-12-02T18:01:28.651Z"
   },
   {
    "duration": 7,
    "start_time": "2021-12-02T18:01:28.687Z"
   },
   {
    "duration": 8,
    "start_time": "2021-12-02T18:01:28.696Z"
   },
   {
    "duration": 10,
    "start_time": "2021-12-02T18:01:28.706Z"
   },
   {
    "duration": 14,
    "start_time": "2021-12-02T18:02:40.266Z"
   },
   {
    "duration": 2,
    "start_time": "2021-12-02T18:02:44.187Z"
   },
   {
    "duration": 60,
    "start_time": "2021-12-02T18:02:44.191Z"
   },
   {
    "duration": 10,
    "start_time": "2021-12-02T18:02:44.253Z"
   },
   {
    "duration": 9,
    "start_time": "2021-12-02T18:02:44.265Z"
   },
   {
    "duration": 21,
    "start_time": "2021-12-02T18:02:44.276Z"
   },
   {
    "duration": 11,
    "start_time": "2021-12-02T18:02:44.299Z"
   },
   {
    "duration": 9,
    "start_time": "2021-12-02T18:02:44.312Z"
   },
   {
    "duration": 9,
    "start_time": "2021-12-02T18:02:44.323Z"
   },
   {
    "duration": 3,
    "start_time": "2021-12-02T18:02:58.927Z"
   },
   {
    "duration": 9,
    "start_time": "2021-12-02T18:05:19.573Z"
   },
   {
    "duration": 3,
    "start_time": "2021-12-02T18:05:24.304Z"
   },
   {
    "duration": 57,
    "start_time": "2021-12-02T18:05:24.310Z"
   },
   {
    "duration": 9,
    "start_time": "2021-12-02T18:05:24.369Z"
   },
   {
    "duration": 8,
    "start_time": "2021-12-02T18:05:24.380Z"
   },
   {
    "duration": 3,
    "start_time": "2021-12-02T18:05:24.389Z"
   },
   {
    "duration": 8,
    "start_time": "2021-12-02T18:05:24.394Z"
   },
   {
    "duration": 7,
    "start_time": "2021-12-02T18:05:24.403Z"
   },
   {
    "duration": 7,
    "start_time": "2021-12-02T18:05:24.412Z"
   },
   {
    "duration": 7,
    "start_time": "2021-12-02T18:08:39.549Z"
   },
   {
    "duration": 8,
    "start_time": "2021-12-02T18:08:41.298Z"
   },
   {
    "duration": 4,
    "start_time": "2021-12-02T18:09:32.604Z"
   },
   {
    "duration": 9,
    "start_time": "2021-12-02T18:09:34.100Z"
   },
   {
    "duration": 13,
    "start_time": "2021-12-02T18:10:08.200Z"
   },
   {
    "duration": 8,
    "start_time": "2021-12-02T18:10:57.970Z"
   },
   {
    "duration": 236,
    "start_time": "2021-12-02T18:15:17.120Z"
   },
   {
    "duration": 320,
    "start_time": "2021-12-02T18:15:29.816Z"
   },
   {
    "duration": 9,
    "start_time": "2021-12-02T18:15:39.673Z"
   },
   {
    "duration": 12,
    "start_time": "2021-12-02T18:15:46.303Z"
   },
   {
    "duration": 324,
    "start_time": "2021-12-02T18:16:00.810Z"
   },
   {
    "duration": 12,
    "start_time": "2021-12-02T18:16:01.439Z"
   },
   {
    "duration": 3,
    "start_time": "2021-12-02T18:16:13.437Z"
   },
   {
    "duration": 59,
    "start_time": "2021-12-02T18:16:13.441Z"
   },
   {
    "duration": 10,
    "start_time": "2021-12-02T18:16:13.502Z"
   },
   {
    "duration": 8,
    "start_time": "2021-12-02T18:16:13.514Z"
   },
   {
    "duration": 375,
    "start_time": "2021-12-02T18:16:13.523Z"
   },
   {
    "duration": 12,
    "start_time": "2021-12-02T18:16:13.900Z"
   },
   {
    "duration": 10,
    "start_time": "2021-12-02T18:16:13.913Z"
   },
   {
    "duration": 6,
    "start_time": "2021-12-02T18:17:04.370Z"
   },
   {
    "duration": 7,
    "start_time": "2021-12-02T18:17:11.209Z"
   },
   {
    "duration": 6,
    "start_time": "2021-12-02T18:18:02.665Z"
   },
   {
    "duration": 7,
    "start_time": "2021-12-02T18:18:05.697Z"
   },
   {
    "duration": 321,
    "start_time": "2021-12-02T18:18:06.798Z"
   },
   {
    "duration": 3,
    "start_time": "2021-12-02T18:18:09.078Z"
   },
   {
    "duration": 57,
    "start_time": "2021-12-02T18:18:09.083Z"
   },
   {
    "duration": 10,
    "start_time": "2021-12-02T18:18:09.142Z"
   },
   {
    "duration": 9,
    "start_time": "2021-12-02T18:18:09.153Z"
   },
   {
    "duration": 5,
    "start_time": "2021-12-02T18:18:09.164Z"
   },
   {
    "duration": 367,
    "start_time": "2021-12-02T18:18:09.171Z"
   },
   {
    "duration": 3,
    "start_time": "2021-12-02T18:18:10.943Z"
   },
   {
    "duration": 58,
    "start_time": "2021-12-02T18:18:10.947Z"
   },
   {
    "duration": 9,
    "start_time": "2021-12-02T18:18:11.007Z"
   },
   {
    "duration": 10,
    "start_time": "2021-12-02T18:18:11.018Z"
   },
   {
    "duration": 6,
    "start_time": "2021-12-02T18:18:11.029Z"
   },
   {
    "duration": 374,
    "start_time": "2021-12-02T18:18:11.036Z"
   },
   {
    "duration": 12,
    "start_time": "2021-12-02T18:18:11.412Z"
   },
   {
    "duration": 10,
    "start_time": "2021-12-02T18:18:11.425Z"
   },
   {
    "duration": 6,
    "start_time": "2021-12-02T18:18:23.537Z"
   },
   {
    "duration": 6,
    "start_time": "2021-12-02T18:18:42.097Z"
   },
   {
    "duration": 6,
    "start_time": "2021-12-02T18:18:53.752Z"
   },
   {
    "duration": 3,
    "start_time": "2021-12-02T18:19:01.683Z"
   },
   {
    "duration": 63,
    "start_time": "2021-12-02T18:19:01.687Z"
   },
   {
    "duration": 10,
    "start_time": "2021-12-02T18:19:01.753Z"
   },
   {
    "duration": 8,
    "start_time": "2021-12-02T18:19:01.765Z"
   },
   {
    "duration": 15,
    "start_time": "2021-12-02T18:19:01.774Z"
   },
   {
    "duration": 367,
    "start_time": "2021-12-02T18:19:01.790Z"
   },
   {
    "duration": 12,
    "start_time": "2021-12-02T18:19:02.159Z"
   },
   {
    "duration": 18,
    "start_time": "2021-12-02T18:19:02.173Z"
   },
   {
    "duration": 2,
    "start_time": "2021-12-02T18:25:40.065Z"
   },
   {
    "duration": 60,
    "start_time": "2021-12-02T18:25:40.069Z"
   },
   {
    "duration": 9,
    "start_time": "2021-12-02T18:25:40.130Z"
   },
   {
    "duration": 7,
    "start_time": "2021-12-02T18:25:40.141Z"
   },
   {
    "duration": 10,
    "start_time": "2021-12-02T18:25:40.149Z"
   },
   {
    "duration": 9,
    "start_time": "2021-12-02T18:25:40.160Z"
   },
   {
    "duration": 389,
    "start_time": "2021-12-02T18:25:40.170Z"
   },
   {
    "duration": 11,
    "start_time": "2021-12-02T18:25:40.561Z"
   },
   {
    "duration": 16,
    "start_time": "2021-12-02T18:25:40.574Z"
   },
   {
    "duration": 5,
    "start_time": "2021-12-02T18:32:05.354Z"
   },
   {
    "duration": 7,
    "start_time": "2021-12-02T18:32:10.580Z"
   },
   {
    "duration": 322,
    "start_time": "2021-12-02T18:32:11.250Z"
   },
   {
    "duration": 3,
    "start_time": "2021-12-02T18:32:13.217Z"
   },
   {
    "duration": 64,
    "start_time": "2021-12-02T18:32:13.222Z"
   },
   {
    "duration": 10,
    "start_time": "2021-12-02T18:32:13.288Z"
   },
   {
    "duration": 18,
    "start_time": "2021-12-02T18:32:13.299Z"
   },
   {
    "duration": 7,
    "start_time": "2021-12-02T18:32:13.319Z"
   },
   {
    "duration": 6,
    "start_time": "2021-12-02T18:32:13.328Z"
   },
   {
    "duration": 7,
    "start_time": "2021-12-02T18:32:13.335Z"
   },
   {
    "duration": 381,
    "start_time": "2021-12-02T18:32:13.344Z"
   },
   {
    "duration": 12,
    "start_time": "2021-12-02T18:32:13.727Z"
   },
   {
    "duration": 10,
    "start_time": "2021-12-02T18:32:13.741Z"
   },
   {
    "duration": 2,
    "start_time": "2021-12-02T18:32:28.501Z"
   },
   {
    "duration": 62,
    "start_time": "2021-12-02T18:32:28.505Z"
   },
   {
    "duration": 9,
    "start_time": "2021-12-02T18:32:28.569Z"
   },
   {
    "duration": 9,
    "start_time": "2021-12-02T18:32:28.580Z"
   },
   {
    "duration": 5,
    "start_time": "2021-12-02T18:32:28.590Z"
   },
   {
    "duration": 7,
    "start_time": "2021-12-02T18:32:28.596Z"
   },
   {
    "duration": 372,
    "start_time": "2021-12-02T18:32:28.605Z"
   },
   {
    "duration": 12,
    "start_time": "2021-12-02T18:32:28.979Z"
   },
   {
    "duration": 14,
    "start_time": "2021-12-02T18:32:28.993Z"
   },
   {
    "duration": 2,
    "start_time": "2021-12-02T18:33:22.688Z"
   },
   {
    "duration": 57,
    "start_time": "2021-12-02T18:33:22.692Z"
   },
   {
    "duration": 11,
    "start_time": "2021-12-02T18:33:22.751Z"
   },
   {
    "duration": 7,
    "start_time": "2021-12-02T18:33:22.764Z"
   },
   {
    "duration": 15,
    "start_time": "2021-12-02T18:33:22.773Z"
   },
   {
    "duration": 6,
    "start_time": "2021-12-02T18:33:22.789Z"
   },
   {
    "duration": 375,
    "start_time": "2021-12-02T18:33:22.796Z"
   },
   {
    "duration": 16,
    "start_time": "2021-12-02T18:33:23.172Z"
   },
   {
    "duration": 10,
    "start_time": "2021-12-02T18:33:23.190Z"
   },
   {
    "duration": 3,
    "start_time": "2021-12-02T18:33:41.031Z"
   },
   {
    "duration": 57,
    "start_time": "2021-12-02T18:33:41.036Z"
   },
   {
    "duration": 10,
    "start_time": "2021-12-02T18:33:41.095Z"
   },
   {
    "duration": 8,
    "start_time": "2021-12-02T18:33:41.108Z"
   },
   {
    "duration": 3,
    "start_time": "2021-12-02T18:33:41.118Z"
   },
   {
    "duration": 8,
    "start_time": "2021-12-02T18:33:41.123Z"
   },
   {
    "duration": 389,
    "start_time": "2021-12-02T18:33:41.132Z"
   },
   {
    "duration": 13,
    "start_time": "2021-12-02T18:33:41.522Z"
   },
   {
    "duration": 10,
    "start_time": "2021-12-02T18:33:41.537Z"
   },
   {
    "duration": 2,
    "start_time": "2021-12-02T18:34:29.120Z"
   },
   {
    "duration": 59,
    "start_time": "2021-12-02T18:34:29.124Z"
   },
   {
    "duration": 9,
    "start_time": "2021-12-02T18:34:29.185Z"
   },
   {
    "duration": 8,
    "start_time": "2021-12-02T18:34:29.196Z"
   },
   {
    "duration": 297,
    "start_time": "2021-12-02T18:34:29.205Z"
   },
   {
    "duration": 59908,
    "start_time": "2021-12-02T18:33:29.596Z"
   },
   {
    "duration": 59904,
    "start_time": "2021-12-02T18:33:29.601Z"
   },
   {
    "duration": 59899,
    "start_time": "2021-12-02T18:33:29.606Z"
   },
   {
    "duration": 59898,
    "start_time": "2021-12-02T18:33:29.608Z"
   },
   {
    "duration": 3,
    "start_time": "2021-12-02T18:35:12.792Z"
   },
   {
    "duration": 6,
    "start_time": "2021-12-02T18:35:14.763Z"
   },
   {
    "duration": 3,
    "start_time": "2021-12-02T18:35:32.269Z"
   },
   {
    "duration": 59,
    "start_time": "2021-12-02T18:35:32.273Z"
   },
   {
    "duration": 9,
    "start_time": "2021-12-02T18:35:32.334Z"
   },
   {
    "duration": 8,
    "start_time": "2021-12-02T18:35:32.345Z"
   },
   {
    "duration": 3,
    "start_time": "2021-12-02T18:35:32.355Z"
   },
   {
    "duration": 28,
    "start_time": "2021-12-02T18:35:32.360Z"
   },
   {
    "duration": 609,
    "start_time": "2021-12-02T18:35:32.389Z"
   },
   {
    "duration": 19,
    "start_time": "2021-12-02T18:35:33.000Z"
   },
   {
    "duration": 13,
    "start_time": "2021-12-02T18:35:33.021Z"
   },
   {
    "duration": 2,
    "start_time": "2021-12-02T18:42:03.054Z"
   },
   {
    "duration": 77,
    "start_time": "2021-12-02T18:42:03.057Z"
   },
   {
    "duration": 9,
    "start_time": "2021-12-02T18:42:03.135Z"
   },
   {
    "duration": 9,
    "start_time": "2021-12-02T18:42:03.145Z"
   },
   {
    "duration": 2,
    "start_time": "2021-12-02T18:42:03.155Z"
   },
   {
    "duration": 4,
    "start_time": "2021-12-02T18:42:03.159Z"
   },
   {
    "duration": 32,
    "start_time": "2021-12-02T18:42:03.164Z"
   },
   {
    "duration": 401,
    "start_time": "2021-12-02T18:42:03.198Z"
   },
   {
    "duration": 12,
    "start_time": "2021-12-02T18:42:03.602Z"
   },
   {
    "duration": 10,
    "start_time": "2021-12-02T18:42:03.615Z"
   },
   {
    "duration": 3,
    "start_time": "2021-12-02T18:42:16.367Z"
   },
   {
    "duration": 12,
    "start_time": "2021-12-02T18:42:16.896Z"
   },
   {
    "duration": 8,
    "start_time": "2021-12-02T18:42:20.996Z"
   },
   {
    "duration": 60,
    "start_time": "2021-12-02T18:42:21.006Z"
   },
   {
    "duration": 9,
    "start_time": "2021-12-02T18:42:21.068Z"
   },
   {
    "duration": 18,
    "start_time": "2021-12-02T18:42:21.079Z"
   },
   {
    "duration": 4,
    "start_time": "2021-12-02T18:42:21.111Z"
   },
   {
    "duration": 263,
    "start_time": "2021-12-02T18:42:21.116Z"
   },
   {
    "duration": 59967,
    "start_time": "2021-12-02T18:41:21.413Z"
   },
   {
    "duration": 59964,
    "start_time": "2021-12-02T18:41:21.417Z"
   },
   {
    "duration": 59961,
    "start_time": "2021-12-02T18:41:21.421Z"
   },
   {
    "duration": 59958,
    "start_time": "2021-12-02T18:41:21.425Z"
   },
   {
    "duration": 2,
    "start_time": "2021-12-02T18:42:58.372Z"
   },
   {
    "duration": 65,
    "start_time": "2021-12-02T18:42:58.376Z"
   },
   {
    "duration": 10,
    "start_time": "2021-12-02T18:42:58.443Z"
   },
   {
    "duration": 9,
    "start_time": "2021-12-02T18:42:58.456Z"
   },
   {
    "duration": 22,
    "start_time": "2021-12-02T18:42:58.467Z"
   },
   {
    "duration": 4,
    "start_time": "2021-12-02T18:42:58.491Z"
   },
   {
    "duration": 10,
    "start_time": "2021-12-02T18:42:58.497Z"
   },
   {
    "duration": 399,
    "start_time": "2021-12-02T18:42:58.509Z"
   },
   {
    "duration": 12,
    "start_time": "2021-12-02T18:42:58.910Z"
   },
   {
    "duration": 11,
    "start_time": "2021-12-02T18:42:58.924Z"
   },
   {
    "duration": 4,
    "start_time": "2021-12-02T18:44:02.365Z"
   },
   {
    "duration": 3,
    "start_time": "2021-12-02T18:44:14.308Z"
   },
   {
    "duration": 56,
    "start_time": "2021-12-02T18:44:14.313Z"
   },
   {
    "duration": 9,
    "start_time": "2021-12-02T18:44:14.370Z"
   },
   {
    "duration": 8,
    "start_time": "2021-12-02T18:44:14.381Z"
   },
   {
    "duration": 4,
    "start_time": "2021-12-02T18:44:14.391Z"
   },
   {
    "duration": 5,
    "start_time": "2021-12-02T18:44:14.397Z"
   },
   {
    "duration": 10,
    "start_time": "2021-12-02T18:44:14.403Z"
   },
   {
    "duration": 376,
    "start_time": "2021-12-02T18:44:14.414Z"
   },
   {
    "duration": 19,
    "start_time": "2021-12-02T18:44:14.793Z"
   },
   {
    "duration": 11,
    "start_time": "2021-12-02T18:44:14.814Z"
   },
   {
    "duration": 10,
    "start_time": "2021-12-02T18:44:37.823Z"
   },
   {
    "duration": 10,
    "start_time": "2021-12-02T18:44:53.309Z"
   },
   {
    "duration": 2,
    "start_time": "2021-12-02T18:45:10.779Z"
   },
   {
    "duration": 57,
    "start_time": "2021-12-02T18:45:10.783Z"
   },
   {
    "duration": 9,
    "start_time": "2021-12-02T18:45:10.842Z"
   },
   {
    "duration": 12,
    "start_time": "2021-12-02T18:45:10.853Z"
   },
   {
    "duration": 4,
    "start_time": "2021-12-02T18:45:10.866Z"
   },
   {
    "duration": 18,
    "start_time": "2021-12-02T18:45:10.871Z"
   },
   {
    "duration": 13,
    "start_time": "2021-12-02T18:45:10.890Z"
   },
   {
    "duration": 357,
    "start_time": "2021-12-02T18:45:10.905Z"
   },
   {
    "duration": 12,
    "start_time": "2021-12-02T18:45:11.264Z"
   },
   {
    "duration": 18,
    "start_time": "2021-12-02T18:45:11.278Z"
   },
   {
    "duration": 2,
    "start_time": "2021-12-02T18:46:01.220Z"
   },
   {
    "duration": 76,
    "start_time": "2021-12-02T18:46:01.224Z"
   },
   {
    "duration": 12,
    "start_time": "2021-12-02T18:46:01.303Z"
   },
   {
    "duration": 28,
    "start_time": "2021-12-02T18:46:01.317Z"
   },
   {
    "duration": 15,
    "start_time": "2021-12-02T18:46:01.346Z"
   },
   {
    "duration": 620,
    "start_time": "2021-12-02T18:46:01.362Z"
   },
   {
    "duration": 59972,
    "start_time": "2021-12-02T18:45:02.011Z"
   },
   {
    "duration": 59969,
    "start_time": "2021-12-02T18:45:02.015Z"
   },
   {
    "duration": 59967,
    "start_time": "2021-12-02T18:45:02.018Z"
   },
   {
    "duration": 59965,
    "start_time": "2021-12-02T18:45:02.021Z"
   },
   {
    "duration": 2,
    "start_time": "2021-12-02T18:46:22.489Z"
   },
   {
    "duration": 62,
    "start_time": "2021-12-02T18:46:22.504Z"
   },
   {
    "duration": 9,
    "start_time": "2021-12-02T18:46:22.568Z"
   },
   {
    "duration": 12,
    "start_time": "2021-12-02T18:46:22.579Z"
   },
   {
    "duration": 21,
    "start_time": "2021-12-02T18:46:22.593Z"
   },
   {
    "duration": 598,
    "start_time": "2021-12-02T18:46:22.615Z"
   },
   {
    "duration": 60006,
    "start_time": "2021-12-02T18:45:23.208Z"
   },
   {
    "duration": 60004,
    "start_time": "2021-12-02T18:45:23.211Z"
   },
   {
    "duration": 60003,
    "start_time": "2021-12-02T18:45:23.213Z"
   },
   {
    "duration": 59991,
    "start_time": "2021-12-02T18:45:23.226Z"
   },
   {
    "duration": 2,
    "start_time": "2021-12-02T18:51:37.402Z"
   },
   {
    "duration": 59,
    "start_time": "2021-12-02T18:51:37.406Z"
   },
   {
    "duration": 9,
    "start_time": "2021-12-02T18:51:37.467Z"
   },
   {
    "duration": 8,
    "start_time": "2021-12-02T18:51:37.477Z"
   },
   {
    "duration": 3,
    "start_time": "2021-12-02T18:51:37.486Z"
   },
   {
    "duration": 10,
    "start_time": "2021-12-02T18:51:37.491Z"
   },
   {
    "duration": 390,
    "start_time": "2021-12-02T18:51:37.503Z"
   },
   {
    "duration": 14,
    "start_time": "2021-12-02T18:51:37.894Z"
   },
   {
    "duration": 11,
    "start_time": "2021-12-02T18:51:37.910Z"
   },
   {
    "duration": 14,
    "start_time": "2021-12-02T18:51:58.362Z"
   },
   {
    "duration": 4,
    "start_time": "2021-12-02T18:53:38.619Z"
   },
   {
    "duration": 5,
    "start_time": "2021-12-02T18:53:43.777Z"
   },
   {
    "duration": 12,
    "start_time": "2021-12-02T19:46:02.481Z"
   },
   {
    "duration": 3,
    "start_time": "2021-12-02T19:46:07.463Z"
   },
   {
    "duration": 57,
    "start_time": "2021-12-02T19:46:07.468Z"
   },
   {
    "duration": 9,
    "start_time": "2021-12-02T19:46:07.527Z"
   },
   {
    "duration": 8,
    "start_time": "2021-12-02T19:46:07.537Z"
   },
   {
    "duration": 4,
    "start_time": "2021-12-02T19:46:07.546Z"
   },
   {
    "duration": 8,
    "start_time": "2021-12-02T19:46:07.551Z"
   },
   {
    "duration": 387,
    "start_time": "2021-12-02T19:46:07.560Z"
   },
   {
    "duration": 12,
    "start_time": "2021-12-02T19:46:07.949Z"
   },
   {
    "duration": 24,
    "start_time": "2021-12-02T19:46:07.963Z"
   },
   {
    "duration": 5,
    "start_time": "2021-12-02T19:46:07.989Z"
   },
   {
    "duration": 2,
    "start_time": "2021-12-02T19:49:36.792Z"
   },
   {
    "duration": 64,
    "start_time": "2021-12-02T19:49:36.796Z"
   },
   {
    "duration": 10,
    "start_time": "2021-12-02T19:49:36.862Z"
   },
   {
    "duration": 14,
    "start_time": "2021-12-02T19:49:36.874Z"
   },
   {
    "duration": 4,
    "start_time": "2021-12-02T19:49:36.890Z"
   },
   {
    "duration": 12,
    "start_time": "2021-12-02T19:49:36.896Z"
   },
   {
    "duration": 385,
    "start_time": "2021-12-02T19:49:36.909Z"
   },
   {
    "duration": 13,
    "start_time": "2021-12-02T19:49:37.296Z"
   },
   {
    "duration": 10,
    "start_time": "2021-12-02T19:49:37.311Z"
   },
   {
    "duration": 6,
    "start_time": "2021-12-02T19:49:37.323Z"
   },
   {
    "duration": 3,
    "start_time": "2021-12-02T20:48:11.387Z"
   },
   {
    "duration": 70,
    "start_time": "2021-12-02T20:48:11.391Z"
   },
   {
    "duration": 9,
    "start_time": "2021-12-02T20:48:11.462Z"
   },
   {
    "duration": 14,
    "start_time": "2021-12-02T20:48:11.473Z"
   },
   {
    "duration": 12,
    "start_time": "2021-12-02T20:48:11.488Z"
   },
   {
    "duration": 26,
    "start_time": "2021-12-02T20:48:11.501Z"
   },
   {
    "duration": 361,
    "start_time": "2021-12-02T20:48:11.528Z"
   },
   {
    "duration": 12,
    "start_time": "2021-12-02T20:48:11.890Z"
   },
   {
    "duration": 614,
    "start_time": "2021-12-02T20:48:11.904Z"
   },
   {
    "duration": 13,
    "start_time": "2021-12-02T20:48:12.520Z"
   },
   {
    "duration": 6,
    "start_time": "2021-12-02T20:48:12.534Z"
   },
   {
    "duration": 3,
    "start_time": "2021-12-02T20:48:37.937Z"
   },
   {
    "duration": 57,
    "start_time": "2021-12-02T20:48:37.942Z"
   },
   {
    "duration": 10,
    "start_time": "2021-12-02T20:48:38.001Z"
   },
   {
    "duration": 9,
    "start_time": "2021-12-02T20:48:38.013Z"
   },
   {
    "duration": 4,
    "start_time": "2021-12-02T20:48:38.023Z"
   },
   {
    "duration": 12,
    "start_time": "2021-12-02T20:48:38.029Z"
   },
   {
    "duration": 617,
    "start_time": "2021-12-02T20:48:38.043Z"
   },
   {
    "duration": 16,
    "start_time": "2021-12-02T20:48:38.662Z"
   },
   {
    "duration": 13,
    "start_time": "2021-12-02T20:48:38.681Z"
   },
   {
    "duration": 393,
    "start_time": "2021-12-02T20:48:38.696Z"
   },
   {
    "duration": 8,
    "start_time": "2021-12-02T20:48:39.090Z"
   },
   {
    "duration": 7,
    "start_time": "2021-12-02T20:48:39.099Z"
   },
   {
    "duration": 75,
    "start_time": "2021-12-02T20:50:09.514Z"
   },
   {
    "duration": 408,
    "start_time": "2021-12-02T20:50:30.436Z"
   },
   {
    "duration": 226,
    "start_time": "2021-12-02T20:50:41.091Z"
   },
   {
    "duration": 237,
    "start_time": "2021-12-02T20:50:54.240Z"
   },
   {
    "duration": 82,
    "start_time": "2021-12-02T20:51:09.531Z"
   },
   {
    "duration": 88,
    "start_time": "2021-12-02T20:51:34.362Z"
   },
   {
    "duration": 285,
    "start_time": "2021-12-02T20:51:50.394Z"
   },
   {
    "duration": 106,
    "start_time": "2021-12-02T20:53:53.359Z"
   },
   {
    "duration": 246,
    "start_time": "2021-12-02T20:53:57.368Z"
   },
   {
    "duration": 254,
    "start_time": "2021-12-02T20:55:15.065Z"
   },
   {
    "duration": 229,
    "start_time": "2021-12-02T20:55:28.672Z"
   },
   {
    "duration": 235,
    "start_time": "2021-12-02T20:58:08.516Z"
   },
   {
    "duration": 12,
    "start_time": "2021-12-02T20:58:45.119Z"
   },
   {
    "duration": 20,
    "start_time": "2021-12-02T20:58:58.285Z"
   },
   {
    "duration": 19,
    "start_time": "2021-12-02T20:59:45.230Z"
   },
   {
    "duration": 3,
    "start_time": "2021-12-02T21:05:36.441Z"
   },
   {
    "duration": 6,
    "start_time": "2021-12-02T21:05:44.927Z"
   },
   {
    "duration": 4,
    "start_time": "2021-12-02T21:06:02.654Z"
   },
   {
    "duration": 6,
    "start_time": "2021-12-02T21:06:03.822Z"
   },
   {
    "duration": 6,
    "start_time": "2021-12-02T21:06:40.957Z"
   },
   {
    "duration": 7,
    "start_time": "2021-12-02T21:06:53.885Z"
   },
   {
    "duration": 6,
    "start_time": "2021-12-02T21:07:15.845Z"
   },
   {
    "duration": 8,
    "start_time": "2021-12-02T21:08:30.774Z"
   },
   {
    "duration": 3,
    "start_time": "2021-12-02T21:08:33.870Z"
   },
   {
    "duration": 81,
    "start_time": "2021-12-02T21:08:33.875Z"
   },
   {
    "duration": 10,
    "start_time": "2021-12-02T21:08:33.958Z"
   },
   {
    "duration": 19,
    "start_time": "2021-12-02T21:08:33.969Z"
   },
   {
    "duration": 3,
    "start_time": "2021-12-02T21:08:33.990Z"
   },
   {
    "duration": 9,
    "start_time": "2021-12-02T21:08:33.994Z"
   },
   {
    "duration": 421,
    "start_time": "2021-12-02T21:08:34.005Z"
   },
   {
    "duration": 9,
    "start_time": "2021-12-02T21:08:34.428Z"
   },
   {
    "duration": 678,
    "start_time": "2021-12-02T21:08:34.441Z"
   },
   {
    "duration": 12,
    "start_time": "2021-12-02T21:08:35.121Z"
   },
   {
    "duration": 8,
    "start_time": "2021-12-02T21:08:35.135Z"
   },
   {
    "duration": 4,
    "start_time": "2021-12-02T21:08:35.145Z"
   },
   {
    "duration": 7,
    "start_time": "2021-12-02T21:08:35.150Z"
   },
   {
    "duration": 7,
    "start_time": "2021-12-02T21:08:52.236Z"
   },
   {
    "duration": 5,
    "start_time": "2021-12-02T21:09:49.293Z"
   },
   {
    "duration": 6,
    "start_time": "2021-12-02T21:11:09.169Z"
   },
   {
    "duration": 506,
    "start_time": "2021-12-02T21:12:39.415Z"
   },
   {
    "duration": 7,
    "start_time": "2021-12-02T21:12:52.931Z"
   },
   {
    "duration": 2,
    "start_time": "2021-12-02T21:12:57.025Z"
   },
   {
    "duration": 68,
    "start_time": "2021-12-02T21:12:57.029Z"
   },
   {
    "duration": 11,
    "start_time": "2021-12-02T21:12:57.099Z"
   },
   {
    "duration": 8,
    "start_time": "2021-12-02T21:12:57.112Z"
   },
   {
    "duration": 3,
    "start_time": "2021-12-02T21:12:57.121Z"
   },
   {
    "duration": 10,
    "start_time": "2021-12-02T21:12:57.125Z"
   },
   {
    "duration": 701,
    "start_time": "2021-12-02T21:12:57.137Z"
   },
   {
    "duration": 8,
    "start_time": "2021-12-02T21:12:57.841Z"
   },
   {
    "duration": 375,
    "start_time": "2021-12-02T21:12:57.851Z"
   },
   {
    "duration": 9,
    "start_time": "2021-12-02T21:12:58.228Z"
   },
   {
    "duration": 7,
    "start_time": "2021-12-02T21:12:58.238Z"
   },
   {
    "duration": 4,
    "start_time": "2021-12-02T21:12:58.247Z"
   },
   {
    "duration": 7,
    "start_time": "2021-12-02T21:12:58.253Z"
   },
   {
    "duration": 827,
    "start_time": "2021-12-02T21:12:58.261Z"
   },
   {
    "duration": 8,
    "start_time": "2021-12-02T21:12:59.090Z"
   },
   {
    "duration": 331,
    "start_time": "2021-12-02T21:13:35.259Z"
   },
   {
    "duration": 8,
    "start_time": "2021-12-02T21:13:38.642Z"
   },
   {
    "duration": 12,
    "start_time": "2021-12-02T21:13:54.487Z"
   },
   {
    "duration": 264,
    "start_time": "2021-12-02T21:14:25.250Z"
   },
   {
    "duration": 4,
    "start_time": "2021-12-02T21:14:51.858Z"
   },
   {
    "duration": 11,
    "start_time": "2021-12-02T21:14:53.152Z"
   },
   {
    "duration": 7,
    "start_time": "2021-12-02T21:15:47.626Z"
   },
   {
    "duration": 7,
    "start_time": "2021-12-02T21:16:43.961Z"
   },
   {
    "duration": 7,
    "start_time": "2021-12-02T21:16:59.639Z"
   },
   {
    "duration": 304,
    "start_time": "2021-12-03T16:39:35.354Z"
   },
   {
    "duration": 602,
    "start_time": "2021-12-03T16:39:44.856Z"
   },
   {
    "duration": 71,
    "start_time": "2021-12-03T16:39:45.461Z"
   },
   {
    "duration": 12,
    "start_time": "2021-12-03T16:39:45.535Z"
   },
   {
    "duration": 20,
    "start_time": "2021-12-03T16:39:45.549Z"
   },
   {
    "duration": 21,
    "start_time": "2021-12-03T16:39:45.571Z"
   },
   {
    "duration": 23,
    "start_time": "2021-12-03T16:39:45.594Z"
   },
   {
    "duration": 387,
    "start_time": "2021-12-03T16:39:45.618Z"
   },
   {
    "duration": 7,
    "start_time": "2021-12-03T16:39:46.007Z"
   },
   {
    "duration": 405,
    "start_time": "2021-12-03T16:39:46.016Z"
   },
   {
    "duration": 10,
    "start_time": "2021-12-03T16:39:46.423Z"
   },
   {
    "duration": 10,
    "start_time": "2021-12-03T16:39:46.434Z"
   },
   {
    "duration": 23,
    "start_time": "2021-12-03T16:39:46.445Z"
   },
   {
    "duration": 6,
    "start_time": "2021-12-03T16:39:46.470Z"
   },
   {
    "duration": 356,
    "start_time": "2021-12-03T16:39:46.478Z"
   },
   {
    "duration": 4,
    "start_time": "2021-12-03T16:39:46.836Z"
   },
   {
    "duration": 24,
    "start_time": "2021-12-03T16:39:46.841Z"
   },
   {
    "duration": 10,
    "start_time": "2021-12-03T16:39:46.867Z"
   },
   {
    "duration": 267,
    "start_time": "2021-12-03T16:39:46.879Z"
   },
   {
    "duration": 9,
    "start_time": "2021-12-03T16:40:05.401Z"
   },
   {
    "duration": 8,
    "start_time": "2021-12-03T16:41:58.384Z"
   },
   {
    "duration": -64,
    "start_time": "2021-12-03T16:42:35.143Z"
   },
   {
    "duration": 8,
    "start_time": "2021-12-03T16:42:40.535Z"
   },
   {
    "duration": 9,
    "start_time": "2021-12-03T16:43:52.471Z"
   },
   {
    "duration": 23,
    "start_time": "2021-12-03T16:44:03.910Z"
   },
   {
    "duration": 3,
    "start_time": "2021-12-03T16:44:26.797Z"
   },
   {
    "duration": 67,
    "start_time": "2021-12-03T16:44:26.801Z"
   },
   {
    "duration": 9,
    "start_time": "2021-12-03T16:44:26.870Z"
   },
   {
    "duration": 9,
    "start_time": "2021-12-03T16:44:26.881Z"
   },
   {
    "duration": 9,
    "start_time": "2021-12-03T16:44:26.891Z"
   },
   {
    "duration": 10,
    "start_time": "2021-12-03T16:44:26.901Z"
   },
   {
    "duration": 405,
    "start_time": "2021-12-03T16:44:26.913Z"
   },
   {
    "duration": 7,
    "start_time": "2021-12-03T16:44:27.320Z"
   },
   {
    "duration": 408,
    "start_time": "2021-12-03T16:44:27.331Z"
   },
   {
    "duration": 11,
    "start_time": "2021-12-03T16:44:27.741Z"
   },
   {
    "duration": 6,
    "start_time": "2021-12-03T16:44:27.762Z"
   },
   {
    "duration": 5,
    "start_time": "2021-12-03T16:44:27.770Z"
   },
   {
    "duration": 8,
    "start_time": "2021-12-03T16:44:27.777Z"
   },
   {
    "duration": 424,
    "start_time": "2021-12-03T16:44:27.786Z"
   },
   {
    "duration": 3,
    "start_time": "2021-12-03T16:44:28.212Z"
   },
   {
    "duration": 14,
    "start_time": "2021-12-03T16:44:28.217Z"
   },
   {
    "duration": 7,
    "start_time": "2021-12-03T16:44:28.233Z"
   },
   {
    "duration": 24,
    "start_time": "2021-12-03T16:44:28.241Z"
   },
   {
    "duration": 31,
    "start_time": "2021-12-03T16:44:28.266Z"
   },
   {
    "duration": 12,
    "start_time": "2021-12-03T16:44:28.299Z"
   },
   {
    "duration": 16,
    "start_time": "2021-12-03T16:44:28.313Z"
   },
   {
    "duration": 27,
    "start_time": "2021-12-03T16:44:28.331Z"
   },
   {
    "duration": 6,
    "start_time": "2021-12-03T16:45:07.158Z"
   },
   {
    "duration": 244,
    "start_time": "2021-12-03T16:45:38.322Z"
   },
   {
    "duration": 14,
    "start_time": "2021-12-03T16:45:45.494Z"
   },
   {
    "duration": 22,
    "start_time": "2021-12-03T16:45:55.295Z"
   },
   {
    "duration": 23,
    "start_time": "2021-12-03T16:46:06.389Z"
   },
   {
    "duration": 23,
    "start_time": "2021-12-03T16:46:12.030Z"
   },
   {
    "duration": 20,
    "start_time": "2021-12-03T16:46:17.559Z"
   },
   {
    "duration": 7,
    "start_time": "2021-12-03T16:46:38.646Z"
   },
   {
    "duration": 6,
    "start_time": "2021-12-03T16:47:20.133Z"
   },
   {
    "duration": 6,
    "start_time": "2021-12-03T16:47:53.062Z"
   },
   {
    "duration": 7,
    "start_time": "2021-12-03T16:47:58.526Z"
   },
   {
    "duration": 8,
    "start_time": "2021-12-03T16:49:07.387Z"
   },
   {
    "duration": 8,
    "start_time": "2021-12-03T16:49:52.324Z"
   },
   {
    "duration": 5,
    "start_time": "2021-12-03T16:51:10.508Z"
   },
   {
    "duration": 5,
    "start_time": "2021-12-03T16:52:50.604Z"
   },
   {
    "duration": 7,
    "start_time": "2021-12-03T16:53:19.604Z"
   },
   {
    "duration": 9,
    "start_time": "2021-12-03T16:53:30.932Z"
   },
   {
    "duration": 13,
    "start_time": "2021-12-03T16:54:12.564Z"
   },
   {
    "duration": 13,
    "start_time": "2021-12-03T17:10:37.026Z"
   },
   {
    "duration": 10,
    "start_time": "2021-12-03T17:11:25.142Z"
   },
   {
    "duration": 251,
    "start_time": "2021-12-03T17:11:59.158Z"
   },
   {
    "duration": 9,
    "start_time": "2021-12-03T17:12:08.261Z"
   },
   {
    "duration": 11,
    "start_time": "2021-12-03T17:12:35.832Z"
   },
   {
    "duration": 2,
    "start_time": "2021-12-03T17:12:51.834Z"
   },
   {
    "duration": 66,
    "start_time": "2021-12-03T17:12:51.838Z"
   },
   {
    "duration": 11,
    "start_time": "2021-12-03T17:12:51.906Z"
   },
   {
    "duration": 9,
    "start_time": "2021-12-03T17:12:51.919Z"
   },
   {
    "duration": 4,
    "start_time": "2021-12-03T17:12:51.929Z"
   },
   {
    "duration": 34,
    "start_time": "2021-12-03T17:12:51.934Z"
   },
   {
    "duration": 406,
    "start_time": "2021-12-03T17:12:51.970Z"
   },
   {
    "duration": 7,
    "start_time": "2021-12-03T17:12:52.379Z"
   },
   {
    "duration": 403,
    "start_time": "2021-12-03T17:12:52.388Z"
   },
   {
    "duration": 9,
    "start_time": "2021-12-03T17:12:52.792Z"
   },
   {
    "duration": 7,
    "start_time": "2021-12-03T17:12:52.803Z"
   },
   {
    "duration": 6,
    "start_time": "2021-12-03T17:12:52.811Z"
   },
   {
    "duration": 7,
    "start_time": "2021-12-03T17:12:52.818Z"
   },
   {
    "duration": 391,
    "start_time": "2021-12-03T17:12:52.827Z"
   },
   {
    "duration": 4,
    "start_time": "2021-12-03T17:12:53.220Z"
   },
   {
    "duration": 14,
    "start_time": "2021-12-03T17:12:53.226Z"
   },
   {
    "duration": 21,
    "start_time": "2021-12-03T17:12:53.242Z"
   },
   {
    "duration": 8,
    "start_time": "2021-12-03T17:12:53.265Z"
   },
   {
    "duration": 14,
    "start_time": "2021-12-03T17:12:53.275Z"
   },
   {
    "duration": 10,
    "start_time": "2021-12-03T17:12:53.291Z"
   },
   {
    "duration": 16,
    "start_time": "2021-12-03T17:12:53.303Z"
   },
   {
    "duration": 47,
    "start_time": "2021-12-03T17:12:53.320Z"
   },
   {
    "duration": 10,
    "start_time": "2021-12-03T17:12:53.369Z"
   },
   {
    "duration": 8,
    "start_time": "2021-12-03T17:12:53.381Z"
   },
   {
    "duration": 14,
    "start_time": "2021-12-03T17:12:53.391Z"
   },
   {
    "duration": 16,
    "start_time": "2021-12-03T17:12:53.407Z"
   },
   {
    "duration": 18,
    "start_time": "2021-12-03T17:12:53.425Z"
   },
   {
    "duration": 14,
    "start_time": "2021-12-03T17:12:53.445Z"
   },
   {
    "duration": 23,
    "start_time": "2021-12-03T17:12:53.460Z"
   },
   {
    "duration": 19,
    "start_time": "2021-12-03T17:12:53.485Z"
   },
   {
    "duration": 9,
    "start_time": "2021-12-03T17:12:53.506Z"
   },
   {
    "duration": 9,
    "start_time": "2021-12-03T17:12:53.517Z"
   },
   {
    "duration": 12,
    "start_time": "2021-12-03T17:13:05.897Z"
   },
   {
    "duration": 6,
    "start_time": "2021-12-03T17:13:15.563Z"
   },
   {
    "duration": 12,
    "start_time": "2021-12-03T17:13:17.324Z"
   },
   {
    "duration": 13,
    "start_time": "2021-12-03T17:13:24.914Z"
   },
   {
    "duration": 3,
    "start_time": "2021-12-03T17:14:18.097Z"
   },
   {
    "duration": 77,
    "start_time": "2021-12-03T17:14:18.102Z"
   },
   {
    "duration": 11,
    "start_time": "2021-12-03T17:14:18.182Z"
   },
   {
    "duration": 24,
    "start_time": "2021-12-03T17:14:18.196Z"
   },
   {
    "duration": 15,
    "start_time": "2021-12-03T17:14:18.223Z"
   },
   {
    "duration": 24,
    "start_time": "2021-12-03T17:14:18.240Z"
   },
   {
    "duration": 503,
    "start_time": "2021-12-03T17:14:18.266Z"
   },
   {
    "duration": 7,
    "start_time": "2021-12-03T17:14:18.770Z"
   },
   {
    "duration": 428,
    "start_time": "2021-12-03T17:14:18.780Z"
   },
   {
    "duration": 10,
    "start_time": "2021-12-03T17:14:19.210Z"
   },
   {
    "duration": 15,
    "start_time": "2021-12-03T17:14:19.222Z"
   },
   {
    "duration": 15,
    "start_time": "2021-12-03T17:14:19.239Z"
   },
   {
    "duration": 15,
    "start_time": "2021-12-03T17:14:19.255Z"
   },
   {
    "duration": 380,
    "start_time": "2021-12-03T17:14:19.272Z"
   },
   {
    "duration": 4,
    "start_time": "2021-12-03T17:14:19.654Z"
   },
   {
    "duration": 24,
    "start_time": "2021-12-03T17:14:19.659Z"
   },
   {
    "duration": 24,
    "start_time": "2021-12-03T17:14:19.685Z"
   },
   {
    "duration": 13,
    "start_time": "2021-12-03T17:14:19.710Z"
   },
   {
    "duration": 15,
    "start_time": "2021-12-03T17:14:19.724Z"
   },
   {
    "duration": 17,
    "start_time": "2021-12-03T17:14:19.741Z"
   },
   {
    "duration": 22,
    "start_time": "2021-12-03T17:14:19.760Z"
   },
   {
    "duration": 22,
    "start_time": "2021-12-03T17:14:19.784Z"
   },
   {
    "duration": 8,
    "start_time": "2021-12-03T17:14:19.807Z"
   },
   {
    "duration": 21,
    "start_time": "2021-12-03T17:14:19.817Z"
   },
   {
    "duration": 11,
    "start_time": "2021-12-03T17:14:19.840Z"
   },
   {
    "duration": 18,
    "start_time": "2021-12-03T17:14:19.853Z"
   },
   {
    "duration": 10,
    "start_time": "2021-12-03T17:14:19.875Z"
   },
   {
    "duration": 11,
    "start_time": "2021-12-03T17:14:19.887Z"
   },
   {
    "duration": 15,
    "start_time": "2021-12-03T17:14:19.900Z"
   },
   {
    "duration": 23,
    "start_time": "2021-12-03T17:14:19.917Z"
   },
   {
    "duration": 9,
    "start_time": "2021-12-03T17:14:19.942Z"
   },
   {
    "duration": 13,
    "start_time": "2021-12-03T17:14:19.963Z"
   },
   {
    "duration": 18,
    "start_time": "2021-12-03T17:15:10.811Z"
   },
   {
    "duration": 21,
    "start_time": "2021-12-03T17:15:21.810Z"
   },
   {
    "duration": 36,
    "start_time": "2021-12-03T17:16:15.005Z"
   },
   {
    "duration": 16,
    "start_time": "2021-12-03T17:16:30.223Z"
   },
   {
    "duration": 3,
    "start_time": "2021-12-03T17:16:32.696Z"
   },
   {
    "duration": 71,
    "start_time": "2021-12-03T17:16:32.701Z"
   },
   {
    "duration": 11,
    "start_time": "2021-12-03T17:16:32.775Z"
   },
   {
    "duration": 11,
    "start_time": "2021-12-03T17:16:32.788Z"
   },
   {
    "duration": 7,
    "start_time": "2021-12-03T17:16:32.801Z"
   },
   {
    "duration": 13,
    "start_time": "2021-12-03T17:16:32.809Z"
   },
   {
    "duration": 425,
    "start_time": "2021-12-03T17:16:32.824Z"
   },
   {
    "duration": 13,
    "start_time": "2021-12-03T17:16:33.251Z"
   },
   {
    "duration": 408,
    "start_time": "2021-12-03T17:16:33.266Z"
   },
   {
    "duration": 10,
    "start_time": "2021-12-03T17:16:33.677Z"
   },
   {
    "duration": 11,
    "start_time": "2021-12-03T17:16:33.689Z"
   },
   {
    "duration": 7,
    "start_time": "2021-12-03T17:16:33.702Z"
   },
   {
    "duration": 12,
    "start_time": "2021-12-03T17:16:33.711Z"
   },
   {
    "duration": 365,
    "start_time": "2021-12-03T17:16:33.725Z"
   },
   {
    "duration": 3,
    "start_time": "2021-12-03T17:16:34.092Z"
   },
   {
    "duration": 76,
    "start_time": "2021-12-03T17:16:34.097Z"
   },
   {
    "duration": 64,
    "start_time": "2021-12-03T17:16:34.174Z"
   },
   {
    "duration": 11,
    "start_time": "2021-12-03T17:16:34.240Z"
   },
   {
    "duration": 31,
    "start_time": "2021-12-03T17:16:34.252Z"
   },
   {
    "duration": 9,
    "start_time": "2021-12-03T17:16:34.285Z"
   },
   {
    "duration": 14,
    "start_time": "2021-12-03T17:16:34.296Z"
   },
   {
    "duration": 9,
    "start_time": "2021-12-03T17:16:34.311Z"
   },
   {
    "duration": 8,
    "start_time": "2021-12-03T17:16:34.322Z"
   },
   {
    "duration": 6,
    "start_time": "2021-12-03T17:16:34.332Z"
   },
   {
    "duration": 23,
    "start_time": "2021-12-03T17:16:34.340Z"
   },
   {
    "duration": 6,
    "start_time": "2021-12-03T17:16:34.365Z"
   },
   {
    "duration": 9,
    "start_time": "2021-12-03T17:16:34.374Z"
   },
   {
    "duration": 10,
    "start_time": "2021-12-03T17:16:34.385Z"
   },
   {
    "duration": 15,
    "start_time": "2021-12-03T17:16:34.397Z"
   },
   {
    "duration": 15,
    "start_time": "2021-12-03T17:16:34.414Z"
   },
   {
    "duration": 6,
    "start_time": "2021-12-03T17:16:34.430Z"
   },
   {
    "duration": 35,
    "start_time": "2021-12-03T17:16:34.437Z"
   },
   {
    "duration": 17,
    "start_time": "2021-12-03T17:16:34.474Z"
   },
   {
    "duration": 30,
    "start_time": "2021-12-03T17:16:34.493Z"
   },
   {
    "duration": 40,
    "start_time": "2021-12-03T17:16:34.525Z"
   },
   {
    "duration": 18,
    "start_time": "2021-12-03T17:16:41.570Z"
   },
   {
    "duration": 16,
    "start_time": "2021-12-03T17:16:43.400Z"
   },
   {
    "duration": 6,
    "start_time": "2021-12-03T17:26:20.766Z"
   },
   {
    "duration": 251,
    "start_time": "2021-12-03T17:27:01.624Z"
   },
   {
    "duration": 522,
    "start_time": "2021-12-03T17:31:23.419Z"
   },
   {
    "duration": 3,
    "start_time": "2021-12-03T17:31:47.298Z"
   },
   {
    "duration": 82,
    "start_time": "2021-12-03T17:31:47.303Z"
   },
   {
    "duration": 10,
    "start_time": "2021-12-03T17:31:47.387Z"
   },
   {
    "duration": 10,
    "start_time": "2021-12-03T17:31:47.399Z"
   },
   {
    "duration": 5,
    "start_time": "2021-12-03T17:31:47.411Z"
   },
   {
    "duration": 26,
    "start_time": "2021-12-03T17:31:47.417Z"
   },
   {
    "duration": 428,
    "start_time": "2021-12-03T17:31:47.445Z"
   },
   {
    "duration": 9,
    "start_time": "2021-12-03T17:31:47.875Z"
   },
   {
    "duration": 420,
    "start_time": "2021-12-03T17:31:47.888Z"
   },
   {
    "duration": 11,
    "start_time": "2021-12-03T17:31:48.311Z"
   },
   {
    "duration": 8,
    "start_time": "2021-12-03T17:31:48.324Z"
   },
   {
    "duration": 12,
    "start_time": "2021-12-03T17:31:48.334Z"
   },
   {
    "duration": 7,
    "start_time": "2021-12-03T17:31:48.364Z"
   },
   {
    "duration": 369,
    "start_time": "2021-12-03T17:31:48.373Z"
   },
   {
    "duration": 4,
    "start_time": "2021-12-03T17:31:48.744Z"
   },
   {
    "duration": 22,
    "start_time": "2021-12-03T17:31:48.750Z"
   },
   {
    "duration": 7,
    "start_time": "2021-12-03T17:31:48.774Z"
   },
   {
    "duration": 11,
    "start_time": "2021-12-03T17:31:48.782Z"
   },
   {
    "duration": 9,
    "start_time": "2021-12-03T17:31:48.794Z"
   },
   {
    "duration": 10,
    "start_time": "2021-12-03T17:31:48.805Z"
   },
   {
    "duration": 13,
    "start_time": "2021-12-03T17:31:48.816Z"
   },
   {
    "duration": 38,
    "start_time": "2021-12-03T17:31:48.831Z"
   },
   {
    "duration": 8,
    "start_time": "2021-12-03T17:31:48.871Z"
   },
   {
    "duration": 8,
    "start_time": "2021-12-03T17:31:48.881Z"
   },
   {
    "duration": 9,
    "start_time": "2021-12-03T17:31:48.891Z"
   },
   {
    "duration": 14,
    "start_time": "2021-12-03T17:31:48.902Z"
   },
   {
    "duration": 14,
    "start_time": "2021-12-03T17:31:48.918Z"
   },
   {
    "duration": 29,
    "start_time": "2021-12-03T17:31:48.934Z"
   },
   {
    "duration": 14,
    "start_time": "2021-12-03T17:31:48.966Z"
   },
   {
    "duration": 14,
    "start_time": "2021-12-03T17:31:48.982Z"
   },
   {
    "duration": 5,
    "start_time": "2021-12-03T17:31:48.998Z"
   },
   {
    "duration": 21,
    "start_time": "2021-12-03T17:31:49.005Z"
   },
   {
    "duration": 46,
    "start_time": "2021-12-03T17:31:49.028Z"
   },
   {
    "duration": 20,
    "start_time": "2021-12-03T17:31:49.076Z"
   },
   {
    "duration": 17,
    "start_time": "2021-12-03T17:31:49.098Z"
   },
   {
    "duration": 3,
    "start_time": "2021-12-03T17:31:49.117Z"
   },
   {
    "duration": 247,
    "start_time": "2021-12-03T17:31:49.121Z"
   },
   {
    "duration": 3,
    "start_time": "2021-12-03T17:32:05.198Z"
   },
   {
    "duration": 293,
    "start_time": "2021-12-03T17:33:21.529Z"
   },
   {
    "duration": 2997,
    "start_time": "2021-12-03T17:33:47.422Z"
   },
   {
    "duration": 286,
    "start_time": "2021-12-03T17:43:34.354Z"
   },
   {
    "duration": 30,
    "start_time": "2021-12-03T17:43:44.983Z"
   },
   {
    "duration": 18,
    "start_time": "2021-12-03T19:35:26.233Z"
   },
   {
    "duration": 3,
    "start_time": "2021-12-03T19:36:06.589Z"
   },
   {
    "duration": 3,
    "start_time": "2021-12-03T19:36:08.275Z"
   },
   {
    "duration": 245,
    "start_time": "2021-12-03T19:38:33.236Z"
   },
   {
    "duration": 246,
    "start_time": "2021-12-03T19:42:50.507Z"
   },
   {
    "duration": 5988,
    "start_time": "2021-12-03T19:42:56.498Z"
   },
   {
    "duration": 388,
    "start_time": "2021-12-03T19:43:07.296Z"
   },
   {
    "duration": 34,
    "start_time": "2021-12-03T19:44:24.586Z"
   },
   {
    "duration": 33,
    "start_time": "2021-12-03T19:44:57.600Z"
   },
   {
    "duration": 33,
    "start_time": "2021-12-03T19:54:46.975Z"
   },
   {
    "duration": 39,
    "start_time": "2021-12-03T19:56:52.132Z"
   },
   {
    "duration": 3,
    "start_time": "2021-12-03T19:56:55.346Z"
   },
   {
    "duration": 67,
    "start_time": "2021-12-03T19:56:55.351Z"
   },
   {
    "duration": 20,
    "start_time": "2021-12-03T19:56:55.421Z"
   },
   {
    "duration": 11,
    "start_time": "2021-12-03T19:56:55.464Z"
   },
   {
    "duration": 4,
    "start_time": "2021-12-03T19:56:55.476Z"
   },
   {
    "duration": 9,
    "start_time": "2021-12-03T19:56:55.481Z"
   },
   {
    "duration": 407,
    "start_time": "2021-12-03T19:56:55.491Z"
   },
   {
    "duration": 7,
    "start_time": "2021-12-03T19:56:55.900Z"
   },
   {
    "duration": 408,
    "start_time": "2021-12-03T19:56:55.910Z"
   },
   {
    "duration": 10,
    "start_time": "2021-12-03T19:56:56.321Z"
   },
   {
    "duration": 7,
    "start_time": "2021-12-03T19:56:56.332Z"
   },
   {
    "duration": 7,
    "start_time": "2021-12-03T19:56:56.341Z"
   },
   {
    "duration": 6,
    "start_time": "2021-12-03T19:56:56.363Z"
   },
   {
    "duration": 349,
    "start_time": "2021-12-03T19:56:56.371Z"
   },
   {
    "duration": 3,
    "start_time": "2021-12-03T19:56:56.722Z"
   },
   {
    "duration": 15,
    "start_time": "2021-12-03T19:56:56.727Z"
   },
   {
    "duration": 22,
    "start_time": "2021-12-03T19:56:56.743Z"
   },
   {
    "duration": 11,
    "start_time": "2021-12-03T19:56:56.766Z"
   },
   {
    "duration": 9,
    "start_time": "2021-12-03T19:56:56.778Z"
   },
   {
    "duration": 12,
    "start_time": "2021-12-03T19:56:56.788Z"
   },
   {
    "duration": 13,
    "start_time": "2021-12-03T19:56:56.802Z"
   },
   {
    "duration": 13,
    "start_time": "2021-12-03T19:56:56.817Z"
   },
   {
    "duration": 11,
    "start_time": "2021-12-03T19:56:56.831Z"
   },
   {
    "duration": 25,
    "start_time": "2021-12-03T19:56:56.843Z"
   },
   {
    "duration": 7,
    "start_time": "2021-12-03T19:56:56.870Z"
   },
   {
    "duration": 11,
    "start_time": "2021-12-03T19:56:56.879Z"
   },
   {
    "duration": 4,
    "start_time": "2021-12-03T19:56:56.894Z"
   },
   {
    "duration": 16,
    "start_time": "2021-12-03T19:56:56.900Z"
   },
   {
    "duration": 16,
    "start_time": "2021-12-03T19:56:56.918Z"
   },
   {
    "duration": 32,
    "start_time": "2021-12-03T19:56:56.936Z"
   },
   {
    "duration": 5,
    "start_time": "2021-12-03T19:56:56.970Z"
   },
   {
    "duration": 30,
    "start_time": "2021-12-03T19:56:56.977Z"
   },
   {
    "duration": 35,
    "start_time": "2021-12-03T19:56:57.009Z"
   },
   {
    "duration": 17,
    "start_time": "2021-12-03T19:56:57.046Z"
   },
   {
    "duration": 17,
    "start_time": "2021-12-03T19:56:57.065Z"
   },
   {
    "duration": 28,
    "start_time": "2021-12-03T19:56:57.083Z"
   },
   {
    "duration": 4152,
    "start_time": "2021-12-03T19:56:57.112Z"
   },
   {
    "duration": 19,
    "start_time": "2021-12-03T19:57:01.266Z"
   },
   {
    "duration": 66,
    "start_time": "2021-12-03T19:57:01.360Z"
   },
   {
    "duration": 240,
    "start_time": "2021-12-03T19:58:31.998Z"
   },
   {
    "duration": 1188,
    "start_time": "2021-12-03T19:58:42.117Z"
   },
   {
    "duration": 249,
    "start_time": "2021-12-03T20:05:46.409Z"
   },
   {
    "duration": 40,
    "start_time": "2021-12-03T20:06:24.842Z"
   },
   {
    "duration": 2952,
    "start_time": "2021-12-03T20:09:29.281Z"
   },
   {
    "duration": 15,
    "start_time": "2021-12-03T20:09:32.235Z"
   },
   {
    "duration": 91,
    "start_time": "2021-12-03T20:10:01.551Z"
   },
   {
    "duration": 3028,
    "start_time": "2021-12-03T20:10:27.786Z"
   },
   {
    "duration": 17,
    "start_time": "2021-12-03T20:10:30.816Z"
   },
   {
    "duration": 274,
    "start_time": "2021-12-03T20:11:06.783Z"
   },
   {
    "duration": 39,
    "start_time": "2021-12-03T20:11:14.841Z"
   },
   {
    "duration": 99,
    "start_time": "2021-12-03T20:11:44.096Z"
   },
   {
    "duration": 338,
    "start_time": "2021-12-03T20:12:32.993Z"
   },
   {
    "duration": 104,
    "start_time": "2021-12-03T20:14:16.800Z"
   },
   {
    "duration": 3032,
    "start_time": "2021-12-03T20:41:51.056Z"
   },
   {
    "duration": 363,
    "start_time": "2021-12-03T20:43:08.530Z"
   },
   {
    "duration": 304,
    "start_time": "2021-12-03T20:45:53.767Z"
   },
   {
    "duration": 496,
    "start_time": "2021-12-03T20:46:07.438Z"
   },
   {
    "duration": 262,
    "start_time": "2021-12-03T20:46:18.014Z"
   },
   {
    "duration": 4,
    "start_time": "2021-12-03T20:46:56.650Z"
   },
   {
    "duration": 104,
    "start_time": "2021-12-03T20:46:56.657Z"
   },
   {
    "duration": 13,
    "start_time": "2021-12-03T20:46:56.763Z"
   },
   {
    "duration": 28,
    "start_time": "2021-12-03T20:46:56.779Z"
   },
   {
    "duration": 4,
    "start_time": "2021-12-03T20:46:56.809Z"
   },
   {
    "duration": 23,
    "start_time": "2021-12-03T20:46:56.814Z"
   },
   {
    "duration": 415,
    "start_time": "2021-12-03T20:46:56.839Z"
   },
   {
    "duration": 9,
    "start_time": "2021-12-03T20:46:57.256Z"
   },
   {
    "duration": 490,
    "start_time": "2021-12-03T20:46:57.269Z"
   },
   {
    "duration": 13,
    "start_time": "2021-12-03T20:46:57.765Z"
   },
   {
    "duration": 7,
    "start_time": "2021-12-03T20:46:57.780Z"
   },
   {
    "duration": 5,
    "start_time": "2021-12-03T20:46:57.789Z"
   },
   {
    "duration": 15,
    "start_time": "2021-12-03T20:46:57.796Z"
   },
   {
    "duration": 378,
    "start_time": "2021-12-03T20:46:57.812Z"
   },
   {
    "duration": 4,
    "start_time": "2021-12-03T20:46:58.193Z"
   },
   {
    "duration": 26,
    "start_time": "2021-12-03T20:46:58.199Z"
   },
   {
    "duration": 17,
    "start_time": "2021-12-03T20:46:58.227Z"
   },
   {
    "duration": 21,
    "start_time": "2021-12-03T20:46:58.246Z"
   },
   {
    "duration": 17,
    "start_time": "2021-12-03T20:46:58.269Z"
   },
   {
    "duration": 8,
    "start_time": "2021-12-03T20:46:58.287Z"
   },
   {
    "duration": 14,
    "start_time": "2021-12-03T20:46:58.297Z"
   },
   {
    "duration": 11,
    "start_time": "2021-12-03T20:46:58.312Z"
   },
   {
    "duration": 32,
    "start_time": "2021-12-03T20:46:58.324Z"
   },
   {
    "duration": 6,
    "start_time": "2021-12-03T20:46:58.358Z"
   },
   {
    "duration": 8,
    "start_time": "2021-12-03T20:46:58.366Z"
   },
   {
    "duration": 6,
    "start_time": "2021-12-03T20:46:58.375Z"
   },
   {
    "duration": 6,
    "start_time": "2021-12-03T20:46:58.384Z"
   },
   {
    "duration": 13,
    "start_time": "2021-12-03T20:46:58.392Z"
   },
   {
    "duration": 22,
    "start_time": "2021-12-03T20:46:58.406Z"
   },
   {
    "duration": 33,
    "start_time": "2021-12-03T20:46:58.430Z"
   },
   {
    "duration": 6,
    "start_time": "2021-12-03T20:46:58.465Z"
   },
   {
    "duration": 14,
    "start_time": "2021-12-03T20:46:58.473Z"
   },
   {
    "duration": 17,
    "start_time": "2021-12-03T20:46:58.489Z"
   },
   {
    "duration": 16,
    "start_time": "2021-12-03T20:46:58.508Z"
   },
   {
    "duration": 52,
    "start_time": "2021-12-03T20:46:58.525Z"
   },
   {
    "duration": 29,
    "start_time": "2021-12-03T20:46:58.578Z"
   },
   {
    "duration": 3931,
    "start_time": "2021-12-03T20:46:58.609Z"
   },
   {
    "duration": 27,
    "start_time": "2021-12-03T20:47:02.542Z"
   },
   {
    "duration": 76,
    "start_time": "2021-12-03T20:47:02.571Z"
   },
   {
    "duration": 356,
    "start_time": "2021-12-03T20:48:17.214Z"
   },
   {
    "duration": 56,
    "start_time": "2021-12-03T20:48:46.277Z"
   },
   {
    "duration": 224,
    "start_time": "2021-12-03T20:49:05.236Z"
   },
   {
    "duration": 73,
    "start_time": "2021-12-03T20:52:31.681Z"
   },
   {
    "duration": -171,
    "start_time": "2021-12-03T20:59:47.434Z"
   },
   {
    "duration": 107,
    "start_time": "2021-12-03T21:00:11.807Z"
   },
   {
    "duration": 30,
    "start_time": "2021-12-03T21:00:22.160Z"
   },
   {
    "duration": 90,
    "start_time": "2021-12-03T21:01:13.607Z"
   },
   {
    "duration": 168,
    "start_time": "2021-12-03T21:01:28.999Z"
   },
   {
    "duration": 111,
    "start_time": "2021-12-03T21:01:46.352Z"
   },
   {
    "duration": 141,
    "start_time": "2021-12-03T21:02:10.702Z"
   },
   {
    "duration": 136,
    "start_time": "2021-12-03T21:03:45.584Z"
   },
   {
    "duration": 56,
    "start_time": "2021-12-03T21:04:12.344Z"
   },
   {
    "duration": 124,
    "start_time": "2021-12-03T21:04:23.236Z"
   },
   {
    "duration": 35,
    "start_time": "2021-12-03T21:05:27.216Z"
   },
   {
    "duration": 18,
    "start_time": "2021-12-03T21:06:05.622Z"
   },
   {
    "duration": 408,
    "start_time": "2021-12-06T18:01:49.852Z"
   },
   {
    "duration": 786,
    "start_time": "2021-12-06T18:01:53.861Z"
   },
   {
    "duration": 146,
    "start_time": "2021-12-06T18:01:54.650Z"
   },
   {
    "duration": 33,
    "start_time": "2021-12-06T18:01:54.803Z"
   },
   {
    "duration": 21,
    "start_time": "2021-12-06T18:01:54.840Z"
   },
   {
    "duration": 6,
    "start_time": "2021-12-06T18:01:54.865Z"
   },
   {
    "duration": 52,
    "start_time": "2021-12-06T18:01:54.874Z"
   },
   {
    "duration": 1419,
    "start_time": "2021-12-06T18:01:54.929Z"
   },
   {
    "duration": 16,
    "start_time": "2021-12-06T18:01:56.351Z"
   },
   {
    "duration": 2266,
    "start_time": "2021-12-06T18:01:56.374Z"
   },
   {
    "duration": 21,
    "start_time": "2021-12-06T18:01:58.646Z"
   },
   {
    "duration": 8,
    "start_time": "2021-12-06T18:01:58.669Z"
   },
   {
    "duration": 40,
    "start_time": "2021-12-06T18:01:58.680Z"
   },
   {
    "duration": 18,
    "start_time": "2021-12-06T18:01:58.722Z"
   },
   {
    "duration": 614,
    "start_time": "2021-12-06T18:01:58.743Z"
   },
   {
    "duration": 5,
    "start_time": "2021-12-06T18:01:59.360Z"
   },
   {
    "duration": 21,
    "start_time": "2021-12-06T18:01:59.368Z"
   },
   {
    "duration": 31,
    "start_time": "2021-12-06T18:01:59.392Z"
   },
   {
    "duration": 15,
    "start_time": "2021-12-06T18:01:59.426Z"
   },
   {
    "duration": 11,
    "start_time": "2021-12-06T18:01:59.444Z"
   },
   {
    "duration": 59,
    "start_time": "2021-12-06T18:01:59.458Z"
   },
   {
    "duration": 17,
    "start_time": "2021-12-06T18:01:59.520Z"
   },
   {
    "duration": 16,
    "start_time": "2021-12-06T18:01:59.539Z"
   },
   {
    "duration": 11,
    "start_time": "2021-12-06T18:01:59.558Z"
   },
   {
    "duration": 47,
    "start_time": "2021-12-06T18:01:59.572Z"
   },
   {
    "duration": 11,
    "start_time": "2021-12-06T18:01:59.621Z"
   },
   {
    "duration": 13,
    "start_time": "2021-12-06T18:01:59.637Z"
   },
   {
    "duration": 8,
    "start_time": "2021-12-06T18:01:59.662Z"
   },
   {
    "duration": 18,
    "start_time": "2021-12-06T18:01:59.720Z"
   },
   {
    "duration": 36,
    "start_time": "2021-12-06T18:01:59.742Z"
   },
   {
    "duration": 59,
    "start_time": "2021-12-06T18:01:59.781Z"
   },
   {
    "duration": 11,
    "start_time": "2021-12-06T18:01:59.844Z"
   },
   {
    "duration": 34,
    "start_time": "2021-12-06T18:01:59.859Z"
   },
   {
    "duration": 27,
    "start_time": "2021-12-06T18:01:59.918Z"
   },
   {
    "duration": 29,
    "start_time": "2021-12-06T18:01:59.948Z"
   },
   {
    "duration": 58,
    "start_time": "2021-12-06T18:01:59.980Z"
   },
   {
    "duration": 11,
    "start_time": "2021-12-06T18:02:00.041Z"
   },
   {
    "duration": 5404,
    "start_time": "2021-12-06T18:02:00.054Z"
   },
   {
    "duration": 32,
    "start_time": "2021-12-06T18:02:05.461Z"
   },
   {
    "duration": 43,
    "start_time": "2021-12-06T18:02:05.496Z"
   },
   {
    "duration": 81,
    "start_time": "2021-12-06T18:02:05.543Z"
   },
   {
    "duration": 1250,
    "start_time": "2021-12-06T18:07:39.536Z"
   },
   {
    "duration": 5,
    "start_time": "2021-12-06T18:09:37.463Z"
   },
   {
    "duration": 969,
    "start_time": "2021-12-06T18:09:38.753Z"
   },
   {
    "duration": 847,
    "start_time": "2021-12-06T18:11:22.879Z"
   },
   {
    "duration": 995,
    "start_time": "2021-12-06T18:11:49.135Z"
   },
   {
    "duration": 856,
    "start_time": "2021-12-06T18:12:18.316Z"
   },
   {
    "duration": 28,
    "start_time": "2021-12-06T18:17:07.062Z"
   },
   {
    "duration": 14,
    "start_time": "2021-12-06T18:17:25.026Z"
   },
   {
    "duration": 15,
    "start_time": "2021-12-06T18:18:30.217Z"
   },
   {
    "duration": 10,
    "start_time": "2021-12-06T18:21:10.203Z"
   },
   {
    "duration": 21,
    "start_time": "2021-12-06T18:21:55.837Z"
   },
   {
    "duration": 847,
    "start_time": "2021-12-06T18:23:48.309Z"
   },
   {
    "duration": 877,
    "start_time": "2021-12-06T18:24:09.611Z"
   },
   {
    "duration": 10,
    "start_time": "2021-12-06T18:25:01.111Z"
   },
   {
    "duration": 4,
    "start_time": "2021-12-06T18:25:08.321Z"
   },
   {
    "duration": 993,
    "start_time": "2021-12-06T18:25:08.896Z"
   },
   {
    "duration": 823,
    "start_time": "2021-12-06T18:25:48.520Z"
   },
   {
    "duration": 5,
    "start_time": "2021-12-06T18:37:31.163Z"
   },
   {
    "duration": 1001,
    "start_time": "2021-12-06T18:37:31.622Z"
   },
   {
    "duration": 1438,
    "start_time": "2021-12-06T18:41:09.032Z"
   },
   {
    "duration": 5,
    "start_time": "2021-12-06T18:41:22.844Z"
   },
   {
    "duration": 129,
    "start_time": "2021-12-06T18:41:22.853Z"
   },
   {
    "duration": 39,
    "start_time": "2021-12-06T18:41:22.986Z"
   },
   {
    "duration": 21,
    "start_time": "2021-12-06T18:41:23.029Z"
   },
   {
    "duration": 7,
    "start_time": "2021-12-06T18:41:23.053Z"
   },
   {
    "duration": 55,
    "start_time": "2021-12-06T18:41:23.062Z"
   },
   {
    "duration": 860,
    "start_time": "2021-12-06T18:41:23.122Z"
   },
   {
    "duration": 14,
    "start_time": "2021-12-06T18:41:23.986Z"
   },
   {
    "duration": 964,
    "start_time": "2021-12-06T18:41:24.022Z"
   },
   {
    "duration": 31,
    "start_time": "2021-12-06T18:41:24.991Z"
   },
   {
    "duration": 13,
    "start_time": "2021-12-06T18:41:25.026Z"
   },
   {
    "duration": 7,
    "start_time": "2021-12-06T18:41:25.043Z"
   },
   {
    "duration": 14,
    "start_time": "2021-12-06T18:41:25.054Z"
   },
   {
    "duration": 1670,
    "start_time": "2021-12-06T18:41:25.071Z"
   },
   {
    "duration": 7,
    "start_time": "2021-12-06T18:41:26.745Z"
   },
   {
    "duration": 25,
    "start_time": "2021-12-06T18:41:26.755Z"
   },
   {
    "duration": 44,
    "start_time": "2021-12-06T18:41:26.783Z"
   },
   {
    "duration": 15,
    "start_time": "2021-12-06T18:41:26.830Z"
   },
   {
    "duration": 16,
    "start_time": "2021-12-06T18:41:26.849Z"
   },
   {
    "duration": 57,
    "start_time": "2021-12-06T18:41:26.869Z"
   },
   {
    "duration": 18,
    "start_time": "2021-12-06T18:41:26.929Z"
   },
   {
    "duration": 22,
    "start_time": "2021-12-06T18:41:26.951Z"
   },
   {
    "duration": 47,
    "start_time": "2021-12-06T18:41:26.977Z"
   },
   {
    "duration": 11,
    "start_time": "2021-12-06T18:41:27.026Z"
   },
   {
    "duration": 14,
    "start_time": "2021-12-06T18:41:27.040Z"
   },
   {
    "duration": 59,
    "start_time": "2021-12-06T18:41:27.058Z"
   },
   {
    "duration": 9,
    "start_time": "2021-12-06T18:41:27.126Z"
   },
   {
    "duration": 15,
    "start_time": "2021-12-06T18:41:27.140Z"
   },
   {
    "duration": 63,
    "start_time": "2021-12-06T18:41:27.159Z"
   },
   {
    "duration": 20,
    "start_time": "2021-12-06T18:41:27.225Z"
   },
   {
    "duration": 10,
    "start_time": "2021-12-06T18:41:27.249Z"
   },
   {
    "duration": 63,
    "start_time": "2021-12-06T18:41:27.262Z"
   },
   {
    "duration": 46,
    "start_time": "2021-12-06T18:41:27.328Z"
   },
   {
    "duration": 73,
    "start_time": "2021-12-06T18:41:27.377Z"
   },
   {
    "duration": 41,
    "start_time": "2021-12-06T18:41:27.454Z"
   },
   {
    "duration": 31,
    "start_time": "2021-12-06T18:41:27.518Z"
   },
   {
    "duration": 6390,
    "start_time": "2021-12-06T18:41:27.552Z"
   },
   {
    "duration": 30,
    "start_time": "2021-12-06T18:41:33.945Z"
   },
   {
    "duration": 85,
    "start_time": "2021-12-06T18:41:33.978Z"
   },
   {
    "duration": 27,
    "start_time": "2021-12-06T18:41:34.067Z"
   },
   {
    "duration": 7,
    "start_time": "2021-12-06T18:41:34.117Z"
   },
   {
    "duration": 1281,
    "start_time": "2021-12-06T18:41:34.127Z"
   },
   {
    "duration": 5608,
    "start_time": "2021-12-06T18:42:47.665Z"
   },
   {
    "duration": 4332,
    "start_time": "2021-12-06T18:43:04.726Z"
   },
   {
    "duration": 29,
    "start_time": "2021-12-06T18:43:18.398Z"
   },
   {
    "duration": 24,
    "start_time": "2021-12-06T18:43:31.974Z"
   },
   {
    "duration": 5325,
    "start_time": "2021-12-06T18:43:46.893Z"
   },
   {
    "duration": 15,
    "start_time": "2021-12-06T18:45:55.440Z"
   },
   {
    "duration": 4,
    "start_time": "2021-12-06T18:45:58.585Z"
   },
   {
    "duration": 5,
    "start_time": "2021-12-06T18:45:59.143Z"
   },
   {
    "duration": 13,
    "start_time": "2021-12-06T18:46:09.485Z"
   },
   {
    "duration": 17,
    "start_time": "2021-12-06T18:58:08.390Z"
   },
   {
    "duration": 311,
    "start_time": "2021-12-06T18:58:48.378Z"
   },
   {
    "duration": 971,
    "start_time": "2021-12-06T18:59:50.074Z"
   },
   {
    "duration": 8,
    "start_time": "2021-12-06T19:00:47.890Z"
   },
   {
    "duration": 15,
    "start_time": "2021-12-06T19:02:44.152Z"
   },
   {
    "duration": 5,
    "start_time": "2021-12-06T19:05:32.175Z"
   },
   {
    "duration": 4905,
    "start_time": "2021-12-06T19:06:17.656Z"
   },
   {
    "duration": 27,
    "start_time": "2021-12-06T19:06:34.477Z"
   },
   {
    "duration": 5,
    "start_time": "2021-12-06T19:06:36.808Z"
   },
   {
    "duration": 12,
    "start_time": "2021-12-06T19:06:37.888Z"
   },
   {
    "duration": 22,
    "start_time": "2021-12-06T19:06:45.740Z"
   },
   {
    "duration": 96,
    "start_time": "2021-12-06T19:12:30.766Z"
   },
   {
    "duration": -313,
    "start_time": "2021-12-06T19:12:40.787Z"
   },
   {
    "duration": 4,
    "start_time": "2021-12-06T19:12:46.499Z"
   },
   {
    "duration": 129,
    "start_time": "2021-12-06T19:12:46.506Z"
   },
   {
    "duration": 16,
    "start_time": "2021-12-06T19:12:46.638Z"
   },
   {
    "duration": 14,
    "start_time": "2021-12-06T19:12:46.657Z"
   },
   {
    "duration": 4,
    "start_time": "2021-12-06T19:12:46.674Z"
   },
   {
    "duration": 53,
    "start_time": "2021-12-06T19:12:46.681Z"
   },
   {
    "duration": 886,
    "start_time": "2021-12-06T19:12:46.737Z"
   },
   {
    "duration": 10,
    "start_time": "2021-12-06T19:12:47.627Z"
   },
   {
    "duration": 840,
    "start_time": "2021-12-06T19:12:47.641Z"
   },
   {
    "duration": 13,
    "start_time": "2021-12-06T19:12:48.483Z"
   },
   {
    "duration": 22,
    "start_time": "2021-12-06T19:12:48.498Z"
   },
   {
    "duration": 7,
    "start_time": "2021-12-06T19:12:48.533Z"
   },
   {
    "duration": 10,
    "start_time": "2021-12-06T19:12:48.542Z"
   },
   {
    "duration": 640,
    "start_time": "2021-12-06T19:12:48.554Z"
   },
   {
    "duration": 5,
    "start_time": "2021-12-06T19:12:49.197Z"
   },
   {
    "duration": 29,
    "start_time": "2021-12-06T19:12:49.205Z"
   },
   {
    "duration": 14,
    "start_time": "2021-12-06T19:12:49.237Z"
   },
   {
    "duration": 23,
    "start_time": "2021-12-06T19:12:49.254Z"
   },
   {
    "duration": 42,
    "start_time": "2021-12-06T19:12:49.280Z"
   },
   {
    "duration": 11,
    "start_time": "2021-12-06T19:12:49.325Z"
   },
   {
    "duration": 21,
    "start_time": "2021-12-06T19:12:49.339Z"
   },
   {
    "duration": 17,
    "start_time": "2021-12-06T19:12:49.362Z"
   },
   {
    "duration": 37,
    "start_time": "2021-12-06T19:12:49.387Z"
   },
   {
    "duration": 19,
    "start_time": "2021-12-06T19:12:49.427Z"
   },
   {
    "duration": 16,
    "start_time": "2021-12-06T19:12:49.449Z"
   },
   {
    "duration": 14,
    "start_time": "2021-12-06T19:12:49.467Z"
   },
   {
    "duration": 36,
    "start_time": "2021-12-06T19:12:49.483Z"
   },
   {
    "duration": 12,
    "start_time": "2021-12-06T19:12:49.523Z"
   },
   {
    "duration": 24,
    "start_time": "2021-12-06T19:12:49.538Z"
   },
   {
    "duration": 16,
    "start_time": "2021-12-06T19:12:49.564Z"
   },
   {
    "duration": 40,
    "start_time": "2021-12-06T19:12:49.582Z"
   },
   {
    "duration": 22,
    "start_time": "2021-12-06T19:12:49.624Z"
   },
   {
    "duration": 26,
    "start_time": "2021-12-06T19:12:49.648Z"
   },
   {
    "duration": 57,
    "start_time": "2021-12-06T19:12:49.677Z"
   },
   {
    "duration": 24,
    "start_time": "2021-12-06T19:12:49.737Z"
   },
   {
    "duration": 26,
    "start_time": "2021-12-06T19:12:49.763Z"
   },
   {
    "duration": 4642,
    "start_time": "2021-12-06T19:12:49.792Z"
   },
   {
    "duration": 29,
    "start_time": "2021-12-06T19:12:54.437Z"
   },
   {
    "duration": 53,
    "start_time": "2021-12-06T19:12:54.469Z"
   },
   {
    "duration": 23,
    "start_time": "2021-12-06T19:12:54.526Z"
   },
   {
    "duration": 5,
    "start_time": "2021-12-06T19:12:54.553Z"
   },
   {
    "duration": 13,
    "start_time": "2021-12-06T19:12:54.561Z"
   },
   {
    "duration": 61,
    "start_time": "2021-12-06T19:12:54.577Z"
   },
   {
    "duration": 5,
    "start_time": "2021-12-06T19:12:54.641Z"
   },
   {
    "duration": 27,
    "start_time": "2021-12-06T19:12:54.650Z"
   },
   {
    "duration": 4833,
    "start_time": "2021-12-06T19:12:54.680Z"
   },
   {
    "duration": 13,
    "start_time": "2021-12-06T19:14:13.681Z"
   },
   {
    "duration": -252,
    "start_time": "2021-12-06T19:19:18.213Z"
   },
   {
    "duration": 12165,
    "start_time": "2021-12-06T19:19:24.581Z"
   },
   {
    "duration": 23,
    "start_time": "2021-12-06T19:21:56.010Z"
   },
   {
    "duration": 36,
    "start_time": "2021-12-06T19:23:16.107Z"
   },
   {
    "duration": 6,
    "start_time": "2021-12-06T19:24:33.898Z"
   },
   {
    "duration": 34,
    "start_time": "2021-12-06T19:24:34.786Z"
   },
   {
    "duration": 376,
    "start_time": "2021-12-06T19:24:36.378Z"
   },
   {
    "duration": 4,
    "start_time": "2021-12-06T19:24:44.871Z"
   },
   {
    "duration": 89,
    "start_time": "2021-12-06T19:24:44.877Z"
   },
   {
    "duration": 15,
    "start_time": "2021-12-06T19:24:44.969Z"
   },
   {
    "duration": 14,
    "start_time": "2021-12-06T19:24:45.017Z"
   },
   {
    "duration": 11,
    "start_time": "2021-12-06T19:24:45.034Z"
   },
   {
    "duration": 19,
    "start_time": "2021-12-06T19:24:45.047Z"
   },
   {
    "duration": 795,
    "start_time": "2021-12-06T19:24:45.069Z"
   },
   {
    "duration": 11,
    "start_time": "2021-12-06T19:24:45.867Z"
   },
   {
    "duration": 749,
    "start_time": "2021-12-06T19:24:45.883Z"
   },
   {
    "duration": 17,
    "start_time": "2021-12-06T19:24:46.635Z"
   },
   {
    "duration": 10,
    "start_time": "2021-12-06T19:24:46.655Z"
   },
   {
    "duration": 16,
    "start_time": "2021-12-06T19:24:46.667Z"
   },
   {
    "duration": 41,
    "start_time": "2021-12-06T19:24:46.686Z"
   },
   {
    "duration": 867,
    "start_time": "2021-12-06T19:24:46.730Z"
   },
   {
    "duration": 5,
    "start_time": "2021-12-06T19:24:47.600Z"
   },
   {
    "duration": 27,
    "start_time": "2021-12-06T19:24:47.618Z"
   },
   {
    "duration": 15,
    "start_time": "2021-12-06T19:24:47.648Z"
   },
   {
    "duration": 53,
    "start_time": "2021-12-06T19:24:47.666Z"
   },
   {
    "duration": 15,
    "start_time": "2021-12-06T19:24:47.722Z"
   },
   {
    "duration": 15,
    "start_time": "2021-12-06T19:24:47.741Z"
   },
   {
    "duration": 60,
    "start_time": "2021-12-06T19:24:47.759Z"
   },
   {
    "duration": 18,
    "start_time": "2021-12-06T19:24:47.824Z"
   },
   {
    "duration": 12,
    "start_time": "2021-12-06T19:24:47.846Z"
   },
   {
    "duration": 11,
    "start_time": "2021-12-06T19:24:47.860Z"
   },
   {
    "duration": 50,
    "start_time": "2021-12-06T19:24:47.874Z"
   },
   {
    "duration": 11,
    "start_time": "2021-12-06T19:24:47.927Z"
   },
   {
    "duration": 8,
    "start_time": "2021-12-06T19:24:47.947Z"
   },
   {
    "duration": 13,
    "start_time": "2021-12-06T19:24:47.957Z"
   },
   {
    "duration": 31,
    "start_time": "2021-12-06T19:24:48.017Z"
   },
   {
    "duration": 24,
    "start_time": "2021-12-06T19:24:48.051Z"
   },
   {
    "duration": 8,
    "start_time": "2021-12-06T19:24:48.077Z"
   },
   {
    "duration": 25,
    "start_time": "2021-12-06T19:24:48.119Z"
   },
   {
    "duration": 37,
    "start_time": "2021-12-06T19:24:48.147Z"
   },
   {
    "duration": 65,
    "start_time": "2021-12-06T19:24:48.187Z"
   },
   {
    "duration": 34,
    "start_time": "2021-12-06T19:24:48.255Z"
   },
   {
    "duration": 56,
    "start_time": "2021-12-06T19:24:48.291Z"
   },
   {
    "duration": 5818,
    "start_time": "2021-12-06T19:24:48.349Z"
   },
   {
    "duration": 50,
    "start_time": "2021-12-06T19:24:54.169Z"
   },
   {
    "duration": 51,
    "start_time": "2021-12-06T19:24:54.222Z"
   },
   {
    "duration": 62,
    "start_time": "2021-12-06T19:24:54.276Z"
   },
   {
    "duration": 5,
    "start_time": "2021-12-06T19:24:54.342Z"
   },
   {
    "duration": 25,
    "start_time": "2021-12-06T19:24:54.351Z"
   },
   {
    "duration": 50,
    "start_time": "2021-12-06T19:24:54.380Z"
   },
   {
    "duration": 44,
    "start_time": "2021-12-06T19:24:54.434Z"
   },
   {
    "duration": 6,
    "start_time": "2021-12-06T19:24:54.482Z"
   },
   {
    "duration": 50,
    "start_time": "2021-12-06T19:24:54.491Z"
   },
   {
    "duration": 52,
    "start_time": "2021-12-06T19:24:54.544Z"
   },
   {
    "duration": 347,
    "start_time": "2021-12-06T19:25:18.023Z"
   },
   {
    "duration": 7,
    "start_time": "2021-12-06T19:25:27.295Z"
   },
   {
    "duration": 86,
    "start_time": "2021-12-06T19:25:27.304Z"
   },
   {
    "duration": 38,
    "start_time": "2021-12-06T19:25:27.393Z"
   },
   {
    "duration": 14,
    "start_time": "2021-12-06T19:25:27.434Z"
   },
   {
    "duration": 5,
    "start_time": "2021-12-06T19:25:27.450Z"
   },
   {
    "duration": 66,
    "start_time": "2021-12-06T19:25:27.458Z"
   },
   {
    "duration": 1442,
    "start_time": "2021-12-06T19:25:27.527Z"
   },
   {
    "duration": 14,
    "start_time": "2021-12-06T19:25:28.973Z"
   },
   {
    "duration": 1443,
    "start_time": "2021-12-06T19:25:28.994Z"
   },
   {
    "duration": 19,
    "start_time": "2021-12-06T19:25:30.442Z"
   },
   {
    "duration": 16,
    "start_time": "2021-12-06T19:25:30.464Z"
   },
   {
    "duration": 35,
    "start_time": "2021-12-06T19:25:30.483Z"
   },
   {
    "duration": 19,
    "start_time": "2021-12-06T19:25:30.521Z"
   },
   {
    "duration": 630,
    "start_time": "2021-12-06T19:25:30.543Z"
   },
   {
    "duration": 5,
    "start_time": "2021-12-06T19:25:31.176Z"
   },
   {
    "duration": 37,
    "start_time": "2021-12-06T19:25:31.183Z"
   },
   {
    "duration": 14,
    "start_time": "2021-12-06T19:25:31.222Z"
   },
   {
    "duration": 19,
    "start_time": "2021-12-06T19:25:31.239Z"
   },
   {
    "duration": 13,
    "start_time": "2021-12-06T19:25:31.261Z"
   },
   {
    "duration": 56,
    "start_time": "2021-12-06T19:25:31.277Z"
   },
   {
    "duration": 21,
    "start_time": "2021-12-06T19:25:31.335Z"
   },
   {
    "duration": 14,
    "start_time": "2021-12-06T19:25:31.359Z"
   },
   {
    "duration": 12,
    "start_time": "2021-12-06T19:25:31.376Z"
   },
   {
    "duration": 34,
    "start_time": "2021-12-06T19:25:31.391Z"
   },
   {
    "duration": 13,
    "start_time": "2021-12-06T19:25:31.427Z"
   },
   {
    "duration": 12,
    "start_time": "2021-12-06T19:25:31.443Z"
   },
   {
    "duration": 55,
    "start_time": "2021-12-06T19:25:31.462Z"
   },
   {
    "duration": 11,
    "start_time": "2021-12-06T19:25:31.521Z"
   },
   {
    "duration": 32,
    "start_time": "2021-12-06T19:25:31.535Z"
   },
   {
    "duration": 56,
    "start_time": "2021-12-06T19:25:31.571Z"
   },
   {
    "duration": 10,
    "start_time": "2021-12-06T19:25:31.630Z"
   },
   {
    "duration": 18,
    "start_time": "2021-12-06T19:25:31.643Z"
   },
   {
    "duration": 55,
    "start_time": "2021-12-06T19:25:31.664Z"
   },
   {
    "duration": 26,
    "start_time": "2021-12-06T19:25:31.722Z"
   },
   {
    "duration": 23,
    "start_time": "2021-12-06T19:25:31.750Z"
   },
   {
    "duration": 63,
    "start_time": "2021-12-06T19:25:31.775Z"
   },
   {
    "duration": 5321,
    "start_time": "2021-12-06T19:25:31.841Z"
   },
   {
    "duration": 29,
    "start_time": "2021-12-06T19:25:37.165Z"
   },
   {
    "duration": 49,
    "start_time": "2021-12-06T19:25:37.198Z"
   },
   {
    "duration": 18,
    "start_time": "2021-12-06T19:25:37.250Z"
   },
   {
    "duration": 5,
    "start_time": "2021-12-06T19:25:37.270Z"
   },
   {
    "duration": 50,
    "start_time": "2021-12-06T19:25:37.277Z"
   },
   {
    "duration": 24,
    "start_time": "2021-12-06T19:25:37.331Z"
   },
   {
    "duration": 70,
    "start_time": "2021-12-06T19:25:37.358Z"
   },
   {
    "duration": 6,
    "start_time": "2021-12-06T19:25:37.431Z"
   },
   {
    "duration": 24,
    "start_time": "2021-12-06T19:25:37.439Z"
   },
   {
    "duration": 109,
    "start_time": "2021-12-06T19:25:37.467Z"
   },
   {
    "duration": 550,
    "start_time": "2021-12-06T19:44:12.969Z"
   },
   {
    "duration": 4,
    "start_time": "2021-12-06T19:44:18.910Z"
   },
   {
    "duration": 117,
    "start_time": "2021-12-06T19:44:18.917Z"
   },
   {
    "duration": 14,
    "start_time": "2021-12-06T19:44:19.037Z"
   },
   {
    "duration": 12,
    "start_time": "2021-12-06T19:44:19.054Z"
   },
   {
    "duration": 7,
    "start_time": "2021-12-06T19:44:19.069Z"
   },
   {
    "duration": 46,
    "start_time": "2021-12-06T19:44:19.079Z"
   },
   {
    "duration": 763,
    "start_time": "2021-12-06T19:44:19.129Z"
   },
   {
    "duration": 23,
    "start_time": "2021-12-06T19:44:19.895Z"
   },
   {
    "duration": 737,
    "start_time": "2021-12-06T19:44:19.924Z"
   },
   {
    "duration": 15,
    "start_time": "2021-12-06T19:44:20.665Z"
   },
   {
    "duration": 9,
    "start_time": "2021-12-06T19:44:20.682Z"
   },
   {
    "duration": 28,
    "start_time": "2021-12-06T19:44:20.693Z"
   },
   {
    "duration": 11,
    "start_time": "2021-12-06T19:44:20.724Z"
   },
   {
    "duration": 618,
    "start_time": "2021-12-06T19:44:20.738Z"
   },
   {
    "duration": 5,
    "start_time": "2021-12-06T19:44:21.359Z"
   },
   {
    "duration": 18,
    "start_time": "2021-12-06T19:44:21.367Z"
   },
   {
    "duration": 36,
    "start_time": "2021-12-06T19:44:21.388Z"
   },
   {
    "duration": 13,
    "start_time": "2021-12-06T19:44:21.426Z"
   },
   {
    "duration": 9,
    "start_time": "2021-12-06T19:44:21.442Z"
   },
   {
    "duration": 10,
    "start_time": "2021-12-06T19:44:21.454Z"
   },
   {
    "duration": 52,
    "start_time": "2021-12-06T19:44:21.466Z"
   },
   {
    "duration": 12,
    "start_time": "2021-12-06T19:44:21.521Z"
   },
   {
    "duration": 11,
    "start_time": "2021-12-06T19:44:21.536Z"
   },
   {
    "duration": 8,
    "start_time": "2021-12-06T19:44:21.550Z"
   },
   {
    "duration": 9,
    "start_time": "2021-12-06T19:44:21.560Z"
   },
   {
    "duration": 51,
    "start_time": "2021-12-06T19:44:21.572Z"
   },
   {
    "duration": 6,
    "start_time": "2021-12-06T19:44:21.628Z"
   },
   {
    "duration": 13,
    "start_time": "2021-12-06T19:44:21.638Z"
   },
   {
    "duration": 23,
    "start_time": "2021-12-06T19:44:21.654Z"
   },
   {
    "duration": 18,
    "start_time": "2021-12-06T19:44:21.718Z"
   },
   {
    "duration": 8,
    "start_time": "2021-12-06T19:44:21.739Z"
   },
   {
    "duration": 22,
    "start_time": "2021-12-06T19:44:21.750Z"
   },
   {
    "duration": 60,
    "start_time": "2021-12-06T19:44:21.775Z"
   },
   {
    "duration": 24,
    "start_time": "2021-12-06T19:44:21.838Z"
   },
   {
    "duration": 57,
    "start_time": "2021-12-06T19:44:21.864Z"
   },
   {
    "duration": 38,
    "start_time": "2021-12-06T19:44:21.923Z"
   },
   {
    "duration": 5721,
    "start_time": "2021-12-06T19:44:21.964Z"
   },
   {
    "duration": 36,
    "start_time": "2021-12-06T19:44:27.687Z"
   },
   {
    "duration": 36,
    "start_time": "2021-12-06T19:44:27.726Z"
   },
   {
    "duration": 21,
    "start_time": "2021-12-06T19:44:27.764Z"
   },
   {
    "duration": 5,
    "start_time": "2021-12-06T19:44:27.787Z"
   },
   {
    "duration": 39,
    "start_time": "2021-12-06T19:44:27.794Z"
   },
   {
    "duration": 34,
    "start_time": "2021-12-06T19:44:27.835Z"
   },
   {
    "duration": 4,
    "start_time": "2021-12-06T19:44:27.872Z"
   },
   {
    "duration": 24,
    "start_time": "2021-12-06T19:44:27.878Z"
   },
   {
    "duration": 44,
    "start_time": "2021-12-06T19:44:27.904Z"
   },
   {
    "duration": 4,
    "start_time": "2021-12-06T19:44:42.135Z"
   },
   {
    "duration": 96,
    "start_time": "2021-12-06T19:44:42.142Z"
   },
   {
    "duration": 15,
    "start_time": "2021-12-06T19:44:42.241Z"
   },
   {
    "duration": 12,
    "start_time": "2021-12-06T19:44:42.259Z"
   },
   {
    "duration": 5,
    "start_time": "2021-12-06T19:44:42.273Z"
   },
   {
    "duration": 46,
    "start_time": "2021-12-06T19:44:42.280Z"
   },
   {
    "duration": 712,
    "start_time": "2021-12-06T19:44:42.329Z"
   },
   {
    "duration": 10,
    "start_time": "2021-12-06T19:44:43.043Z"
   },
   {
    "duration": 725,
    "start_time": "2021-12-06T19:44:43.057Z"
   },
   {
    "duration": 12,
    "start_time": "2021-12-06T19:44:43.785Z"
   },
   {
    "duration": 8,
    "start_time": "2021-12-06T19:44:43.816Z"
   },
   {
    "duration": 7,
    "start_time": "2021-12-06T19:44:43.826Z"
   },
   {
    "duration": 9,
    "start_time": "2021-12-06T19:44:43.835Z"
   },
   {
    "duration": 638,
    "start_time": "2021-12-06T19:44:43.846Z"
   },
   {
    "duration": 4,
    "start_time": "2021-12-06T19:44:44.487Z"
   },
   {
    "duration": 32,
    "start_time": "2021-12-06T19:44:44.494Z"
   },
   {
    "duration": 9,
    "start_time": "2021-12-06T19:44:44.528Z"
   },
   {
    "duration": 14,
    "start_time": "2021-12-06T19:44:44.540Z"
   },
   {
    "duration": 10,
    "start_time": "2021-12-06T19:44:44.556Z"
   },
   {
    "duration": 57,
    "start_time": "2021-12-06T19:44:44.568Z"
   },
   {
    "duration": 18,
    "start_time": "2021-12-06T19:44:44.627Z"
   },
   {
    "duration": 13,
    "start_time": "2021-12-06T19:44:44.647Z"
   },
   {
    "duration": 10,
    "start_time": "2021-12-06T19:44:44.662Z"
   },
   {
    "duration": 48,
    "start_time": "2021-12-06T19:44:44.674Z"
   },
   {
    "duration": 11,
    "start_time": "2021-12-06T19:44:44.725Z"
   },
   {
    "duration": 10,
    "start_time": "2021-12-06T19:44:44.739Z"
   },
   {
    "duration": 8,
    "start_time": "2021-12-06T19:44:44.758Z"
   },
   {
    "duration": 56,
    "start_time": "2021-12-06T19:44:44.768Z"
   },
   {
    "duration": 27,
    "start_time": "2021-12-06T19:44:44.827Z"
   },
   {
    "duration": 18,
    "start_time": "2021-12-06T19:44:44.857Z"
   },
   {
    "duration": 9,
    "start_time": "2021-12-06T19:44:44.878Z"
   },
   {
    "duration": 42,
    "start_time": "2021-12-06T19:44:44.890Z"
   },
   {
    "duration": 24,
    "start_time": "2021-12-06T19:44:44.934Z"
   },
   {
    "duration": 26,
    "start_time": "2021-12-06T19:44:44.961Z"
   },
   {
    "duration": 24,
    "start_time": "2021-12-06T19:44:45.018Z"
   },
   {
    "duration": 29,
    "start_time": "2021-12-06T19:44:45.045Z"
   },
   {
    "duration": 5115,
    "start_time": "2021-12-06T19:44:45.077Z"
   },
   {
    "duration": 44,
    "start_time": "2021-12-06T19:44:50.194Z"
   },
   {
    "duration": 34,
    "start_time": "2021-12-06T19:44:50.240Z"
   },
   {
    "duration": 42,
    "start_time": "2021-12-06T19:44:50.277Z"
   },
   {
    "duration": 6,
    "start_time": "2021-12-06T19:44:50.322Z"
   },
   {
    "duration": 59,
    "start_time": "2021-12-06T19:44:50.331Z"
   },
   {
    "duration": 59,
    "start_time": "2021-12-06T19:44:50.393Z"
   },
   {
    "duration": 5,
    "start_time": "2021-12-06T19:44:50.456Z"
   },
   {
    "duration": 61,
    "start_time": "2021-12-06T19:44:50.463Z"
   },
   {
    "duration": 44,
    "start_time": "2021-12-06T19:44:50.527Z"
   },
   {
    "duration": 3,
    "start_time": "2021-12-06T19:45:52.160Z"
   },
   {
    "duration": 92,
    "start_time": "2021-12-06T19:45:52.167Z"
   },
   {
    "duration": 15,
    "start_time": "2021-12-06T19:45:52.263Z"
   },
   {
    "duration": 47,
    "start_time": "2021-12-06T19:45:52.281Z"
   },
   {
    "duration": 6,
    "start_time": "2021-12-06T19:45:52.331Z"
   },
   {
    "duration": 14,
    "start_time": "2021-12-06T19:45:52.340Z"
   },
   {
    "duration": 743,
    "start_time": "2021-12-06T19:45:52.357Z"
   },
   {
    "duration": 16,
    "start_time": "2021-12-06T19:45:53.102Z"
   },
   {
    "duration": 703,
    "start_time": "2021-12-06T19:45:53.122Z"
   },
   {
    "duration": 12,
    "start_time": "2021-12-06T19:45:53.828Z"
   },
   {
    "duration": 8,
    "start_time": "2021-12-06T19:45:53.842Z"
   },
   {
    "duration": 6,
    "start_time": "2021-12-06T19:45:53.852Z"
   },
   {
    "duration": 11,
    "start_time": "2021-12-06T19:45:53.861Z"
   },
   {
    "duration": 689,
    "start_time": "2021-12-06T19:45:53.874Z"
   },
   {
    "duration": 6,
    "start_time": "2021-12-06T19:45:54.566Z"
   },
   {
    "duration": 42,
    "start_time": "2021-12-06T19:45:54.575Z"
   },
   {
    "duration": 11,
    "start_time": "2021-12-06T19:45:54.619Z"
   },
   {
    "duration": 13,
    "start_time": "2021-12-06T19:45:54.633Z"
   },
   {
    "duration": 10,
    "start_time": "2021-12-06T19:45:54.648Z"
   },
   {
    "duration": 9,
    "start_time": "2021-12-06T19:45:54.661Z"
   },
   {
    "duration": 16,
    "start_time": "2021-12-06T19:45:54.717Z"
   },
   {
    "duration": 15,
    "start_time": "2021-12-06T19:45:54.736Z"
   },
   {
    "duration": 11,
    "start_time": "2021-12-06T19:45:54.753Z"
   },
   {
    "duration": 10,
    "start_time": "2021-12-06T19:45:54.766Z"
   },
   {
    "duration": 9,
    "start_time": "2021-12-06T19:45:54.819Z"
   },
   {
    "duration": 8,
    "start_time": "2021-12-06T19:45:54.831Z"
   },
   {
    "duration": 7,
    "start_time": "2021-12-06T19:45:54.844Z"
   },
   {
    "duration": 11,
    "start_time": "2021-12-06T19:45:54.855Z"
   },
   {
    "duration": 67,
    "start_time": "2021-12-06T19:45:54.869Z"
   },
   {
    "duration": 26,
    "start_time": "2021-12-06T19:45:54.940Z"
   },
   {
    "duration": 8,
    "start_time": "2021-12-06T19:45:54.968Z"
   },
   {
    "duration": 49,
    "start_time": "2021-12-06T19:45:54.979Z"
   },
   {
    "duration": 26,
    "start_time": "2021-12-06T19:45:55.031Z"
   },
   {
    "duration": 65,
    "start_time": "2021-12-06T19:45:55.060Z"
   },
   {
    "duration": 24,
    "start_time": "2021-12-06T19:45:55.128Z"
   },
   {
    "duration": 29,
    "start_time": "2021-12-06T19:45:55.154Z"
   },
   {
    "duration": 5211,
    "start_time": "2021-12-06T19:45:55.186Z"
   },
   {
    "duration": 43,
    "start_time": "2021-12-06T19:46:00.401Z"
   },
   {
    "duration": 35,
    "start_time": "2021-12-06T19:46:00.446Z"
   },
   {
    "duration": 46,
    "start_time": "2021-12-06T19:46:00.483Z"
   },
   {
    "duration": 4,
    "start_time": "2021-12-06T19:46:00.532Z"
   },
   {
    "duration": 40,
    "start_time": "2021-12-06T19:46:00.539Z"
   },
   {
    "duration": 55,
    "start_time": "2021-12-06T19:46:00.581Z"
   },
   {
    "duration": 3,
    "start_time": "2021-12-06T19:46:00.639Z"
   },
   {
    "duration": 77,
    "start_time": "2021-12-06T19:46:00.645Z"
   },
   {
    "duration": 66,
    "start_time": "2021-12-06T19:50:05.852Z"
   },
   {
    "duration": 317,
    "start_time": "2021-12-06T19:50:28.663Z"
   },
   {
    "duration": 22,
    "start_time": "2021-12-06T19:50:36.166Z"
   },
   {
    "duration": 23,
    "start_time": "2021-12-06T19:50:59.047Z"
   },
   {
    "duration": 25,
    "start_time": "2021-12-06T19:51:37.336Z"
   },
   {
    "duration": 20,
    "start_time": "2021-12-06T19:52:54.066Z"
   },
   {
    "duration": 21,
    "start_time": "2021-12-06T19:53:34.967Z"
   },
   {
    "duration": 15,
    "start_time": "2021-12-06T19:55:39.910Z"
   },
   {
    "duration": 22,
    "start_time": "2021-12-06T19:56:05.575Z"
   },
   {
    "duration": 17,
    "start_time": "2021-12-06T19:56:18.998Z"
   },
   {
    "duration": 23,
    "start_time": "2021-12-06T19:56:34.421Z"
   },
   {
    "duration": 5,
    "start_time": "2021-12-06T20:32:35.340Z"
   },
   {
    "duration": 4,
    "start_time": "2021-12-06T20:32:38.805Z"
   },
   {
    "duration": 39,
    "start_time": "2021-12-06T20:34:56.523Z"
   },
   {
    "duration": 58,
    "start_time": "2021-12-06T20:35:03.603Z"
   },
   {
    "duration": 32,
    "start_time": "2021-12-06T20:35:54.799Z"
   },
   {
    "duration": 39,
    "start_time": "2021-12-06T20:36:28.767Z"
   },
   {
    "duration": 40,
    "start_time": "2021-12-06T20:37:01.494Z"
   },
   {
    "duration": 50,
    "start_time": "2021-12-06T20:38:36.494Z"
   },
   {
    "duration": 1409,
    "start_time": "2021-12-06T20:41:40.787Z"
   },
   {
    "duration": 39,
    "start_time": "2021-12-06T20:42:28.361Z"
   },
   {
    "duration": 39,
    "start_time": "2021-12-06T20:43:52.473Z"
   },
   {
    "duration": 1188,
    "start_time": "2021-12-06T21:26:44.293Z"
   },
   {
    "duration": 105,
    "start_time": "2021-12-06T21:27:54.989Z"
   },
   {
    "duration": 43,
    "start_time": "2021-12-06T21:28:14.750Z"
   },
   {
    "duration": 4,
    "start_time": "2021-12-06T21:28:39.403Z"
   },
   {
    "duration": 86,
    "start_time": "2021-12-06T21:28:39.410Z"
   },
   {
    "duration": 16,
    "start_time": "2021-12-06T21:28:39.520Z"
   },
   {
    "duration": 20,
    "start_time": "2021-12-06T21:28:39.540Z"
   },
   {
    "duration": 5,
    "start_time": "2021-12-06T21:28:39.563Z"
   },
   {
    "duration": 54,
    "start_time": "2021-12-06T21:28:39.572Z"
   },
   {
    "duration": 713,
    "start_time": "2021-12-06T21:28:39.629Z"
   },
   {
    "duration": 10,
    "start_time": "2021-12-06T21:28:40.344Z"
   },
   {
    "duration": 717,
    "start_time": "2021-12-06T21:28:40.358Z"
   },
   {
    "duration": 14,
    "start_time": "2021-12-06T21:28:41.079Z"
   },
   {
    "duration": 22,
    "start_time": "2021-12-06T21:28:41.096Z"
   },
   {
    "duration": 6,
    "start_time": "2021-12-06T21:28:41.120Z"
   },
   {
    "duration": 11,
    "start_time": "2021-12-06T21:28:41.129Z"
   },
   {
    "duration": 621,
    "start_time": "2021-12-06T21:28:41.143Z"
   },
   {
    "duration": 5,
    "start_time": "2021-12-06T21:28:41.767Z"
   },
   {
    "duration": 20,
    "start_time": "2021-12-06T21:28:41.774Z"
   },
   {
    "duration": 26,
    "start_time": "2021-12-06T21:28:41.796Z"
   },
   {
    "duration": 15,
    "start_time": "2021-12-06T21:28:41.824Z"
   },
   {
    "duration": 11,
    "start_time": "2021-12-06T21:28:41.841Z"
   },
   {
    "duration": 11,
    "start_time": "2021-12-06T21:28:41.855Z"
   },
   {
    "duration": 60,
    "start_time": "2021-12-06T21:28:41.869Z"
   },
   {
    "duration": 13,
    "start_time": "2021-12-06T21:28:41.932Z"
   },
   {
    "duration": 10,
    "start_time": "2021-12-06T21:28:41.947Z"
   },
   {
    "duration": 8,
    "start_time": "2021-12-06T21:28:41.959Z"
   },
   {
    "duration": 50,
    "start_time": "2021-12-06T21:28:41.970Z"
   },
   {
    "duration": 11,
    "start_time": "2021-12-06T21:28:42.023Z"
   },
   {
    "duration": 7,
    "start_time": "2021-12-06T21:28:42.043Z"
   },
   {
    "duration": 11,
    "start_time": "2021-12-06T21:28:42.053Z"
   },
   {
    "duration": 61,
    "start_time": "2021-12-06T21:28:42.066Z"
   },
   {
    "duration": 17,
    "start_time": "2021-12-06T21:28:42.129Z"
   },
   {
    "duration": 7,
    "start_time": "2021-12-06T21:28:42.148Z"
   },
   {
    "duration": 17,
    "start_time": "2021-12-06T21:28:42.157Z"
   },
   {
    "duration": 61,
    "start_time": "2021-12-06T21:28:42.176Z"
   },
   {
    "duration": 25,
    "start_time": "2021-12-06T21:28:42.240Z"
   },
   {
    "duration": 24,
    "start_time": "2021-12-06T21:28:42.268Z"
   },
   {
    "duration": 51,
    "start_time": "2021-12-06T21:28:42.294Z"
   },
   {
    "duration": 5170,
    "start_time": "2021-12-06T21:28:42.347Z"
   },
   {
    "duration": 30,
    "start_time": "2021-12-06T21:28:47.521Z"
   },
   {
    "duration": 37,
    "start_time": "2021-12-06T21:28:47.554Z"
   },
   {
    "duration": 6,
    "start_time": "2021-12-06T21:28:47.619Z"
   },
   {
    "duration": 41,
    "start_time": "2021-12-06T21:28:47.628Z"
   },
   {
    "duration": 4,
    "start_time": "2021-12-06T21:28:47.672Z"
   },
   {
    "duration": 82,
    "start_time": "2021-12-06T21:28:47.678Z"
   },
   {
    "duration": 5,
    "start_time": "2021-12-06T21:28:47.762Z"
   },
   {
    "duration": 320,
    "start_time": "2021-12-06T21:28:47.769Z"
   },
   {
    "duration": -304,
    "start_time": "2021-12-06T21:28:48.395Z"
   },
   {
    "duration": -314,
    "start_time": "2021-12-06T21:28:48.407Z"
   },
   {
    "duration": -316,
    "start_time": "2021-12-06T21:28:48.410Z"
   },
   {
    "duration": 593,
    "start_time": "2021-12-06T21:30:18.603Z"
   },
   {
    "duration": 854,
    "start_time": "2021-12-06T21:30:40.018Z"
   },
   {
    "duration": 315,
    "start_time": "2021-12-06T21:31:15.066Z"
   },
   {
    "duration": 322,
    "start_time": "2021-12-06T21:31:26.638Z"
   },
   {
    "duration": 328,
    "start_time": "2021-12-06T21:32:47.777Z"
   },
   {
    "duration": -339,
    "start_time": "2021-12-06T21:33:41.734Z"
   },
   {
    "duration": -341,
    "start_time": "2021-12-06T21:33:41.738Z"
   },
   {
    "duration": -342,
    "start_time": "2021-12-06T21:33:41.741Z"
   },
   {
    "duration": -343,
    "start_time": "2021-12-06T21:33:41.744Z"
   },
   {
    "duration": -345,
    "start_time": "2021-12-06T21:33:41.748Z"
   },
   {
    "duration": -346,
    "start_time": "2021-12-06T21:33:41.750Z"
   },
   {
    "duration": -347,
    "start_time": "2021-12-06T21:33:41.753Z"
   },
   {
    "duration": -347,
    "start_time": "2021-12-06T21:33:41.755Z"
   },
   {
    "duration": -348,
    "start_time": "2021-12-06T21:33:41.758Z"
   },
   {
    "duration": -348,
    "start_time": "2021-12-06T21:33:41.760Z"
   },
   {
    "duration": -348,
    "start_time": "2021-12-06T21:33:41.762Z"
   },
   {
    "duration": -350,
    "start_time": "2021-12-06T21:33:41.766Z"
   },
   {
    "duration": -350,
    "start_time": "2021-12-06T21:33:41.768Z"
   },
   {
    "duration": -349,
    "start_time": "2021-12-06T21:33:41.770Z"
   },
   {
    "duration": -352,
    "start_time": "2021-12-06T21:33:41.774Z"
   },
   {
    "duration": -355,
    "start_time": "2021-12-06T21:33:41.779Z"
   },
   {
    "duration": -367,
    "start_time": "2021-12-06T21:33:41.792Z"
   },
   {
    "duration": -370,
    "start_time": "2021-12-06T21:33:41.797Z"
   },
   {
    "duration": -373,
    "start_time": "2021-12-06T21:33:41.802Z"
   },
   {
    "duration": -374,
    "start_time": "2021-12-06T21:33:41.805Z"
   },
   {
    "duration": -374,
    "start_time": "2021-12-06T21:33:41.807Z"
   },
   {
    "duration": -377,
    "start_time": "2021-12-06T21:33:41.812Z"
   },
   {
    "duration": -378,
    "start_time": "2021-12-06T21:33:41.815Z"
   },
   {
    "duration": -378,
    "start_time": "2021-12-06T21:33:41.817Z"
   },
   {
    "duration": -379,
    "start_time": "2021-12-06T21:33:41.820Z"
   },
   {
    "duration": -380,
    "start_time": "2021-12-06T21:33:41.823Z"
   },
   {
    "duration": -380,
    "start_time": "2021-12-06T21:33:41.825Z"
   },
   {
    "duration": -380,
    "start_time": "2021-12-06T21:33:41.827Z"
   },
   {
    "duration": -382,
    "start_time": "2021-12-06T21:33:41.831Z"
   },
   {
    "duration": -382,
    "start_time": "2021-12-06T21:33:41.833Z"
   },
   {
    "duration": -381,
    "start_time": "2021-12-06T21:33:41.835Z"
   },
   {
    "duration": -382,
    "start_time": "2021-12-06T21:33:41.838Z"
   },
   {
    "duration": -383,
    "start_time": "2021-12-06T21:33:41.841Z"
   },
   {
    "duration": -385,
    "start_time": "2021-12-06T21:33:41.845Z"
   },
   {
    "duration": -387,
    "start_time": "2021-12-06T21:33:41.849Z"
   },
   {
    "duration": -335,
    "start_time": "2021-12-06T21:33:41.853Z"
   },
   {
    "duration": -336,
    "start_time": "2021-12-06T21:33:41.856Z"
   },
   {
    "duration": -336,
    "start_time": "2021-12-06T21:33:41.858Z"
   },
   {
    "duration": -339,
    "start_time": "2021-12-06T21:33:41.862Z"
   },
   {
    "duration": -339,
    "start_time": "2021-12-06T21:33:41.864Z"
   },
   {
    "duration": -342,
    "start_time": "2021-12-06T21:33:41.868Z"
   },
   {
    "duration": -359,
    "start_time": "2021-12-06T21:33:41.887Z"
   },
   {
    "duration": -358,
    "start_time": "2021-12-06T21:33:41.889Z"
   },
   {
    "duration": -358,
    "start_time": "2021-12-06T21:33:41.891Z"
   },
   {
    "duration": -360,
    "start_time": "2021-12-06T21:33:41.895Z"
   },
   {
    "duration": -359,
    "start_time": "2021-12-06T21:33:41.897Z"
   },
   {
    "duration": -362,
    "start_time": "2021-12-06T21:33:41.902Z"
   },
   {
    "duration": 4,
    "start_time": "2021-12-06T21:33:46.574Z"
   },
   {
    "duration": 89,
    "start_time": "2021-12-06T21:33:46.580Z"
   },
   {
    "duration": 48,
    "start_time": "2021-12-06T21:33:46.673Z"
   },
   {
    "duration": 14,
    "start_time": "2021-12-06T21:33:46.724Z"
   },
   {
    "duration": 5,
    "start_time": "2021-12-06T21:33:46.740Z"
   },
   {
    "duration": 13,
    "start_time": "2021-12-06T21:33:46.748Z"
   },
   {
    "duration": 775,
    "start_time": "2021-12-06T21:33:46.764Z"
   },
   {
    "duration": 12,
    "start_time": "2021-12-06T21:33:47.542Z"
   },
   {
    "duration": 913,
    "start_time": "2021-12-06T21:33:47.557Z"
   },
   {
    "duration": 14,
    "start_time": "2021-12-06T21:33:48.473Z"
   },
   {
    "duration": 30,
    "start_time": "2021-12-06T21:33:48.490Z"
   },
   {
    "duration": 6,
    "start_time": "2021-12-06T21:33:48.523Z"
   },
   {
    "duration": 10,
    "start_time": "2021-12-06T21:33:48.532Z"
   },
   {
    "duration": 723,
    "start_time": "2021-12-06T21:33:48.544Z"
   },
   {
    "duration": 5,
    "start_time": "2021-12-06T21:33:49.269Z"
   },
   {
    "duration": 20,
    "start_time": "2021-12-06T21:33:49.277Z"
   },
   {
    "duration": 24,
    "start_time": "2021-12-06T21:33:49.300Z"
   },
   {
    "duration": 12,
    "start_time": "2021-12-06T21:33:49.327Z"
   },
   {
    "duration": 12,
    "start_time": "2021-12-06T21:33:49.342Z"
   },
   {
    "duration": 14,
    "start_time": "2021-12-06T21:33:49.357Z"
   },
   {
    "duration": 26,
    "start_time": "2021-12-06T21:33:49.418Z"
   },
   {
    "duration": 19,
    "start_time": "2021-12-06T21:33:49.447Z"
   },
   {
    "duration": 42,
    "start_time": "2021-12-06T21:33:49.475Z"
   },
   {
    "duration": 12,
    "start_time": "2021-12-06T21:33:49.521Z"
   },
   {
    "duration": 9,
    "start_time": "2021-12-06T21:33:49.536Z"
   },
   {
    "duration": 11,
    "start_time": "2021-12-06T21:33:49.548Z"
   },
   {
    "duration": 8,
    "start_time": "2021-12-06T21:33:49.561Z"
   },
   {
    "duration": 53,
    "start_time": "2021-12-06T21:33:49.572Z"
   },
   {
    "duration": 24,
    "start_time": "2021-12-06T21:33:49.627Z"
   },
   {
    "duration": 19,
    "start_time": "2021-12-06T21:33:49.653Z"
   },
   {
    "duration": 7,
    "start_time": "2021-12-06T21:33:49.675Z"
   },
   {
    "duration": 57,
    "start_time": "2021-12-06T21:33:49.684Z"
   },
   {
    "duration": 38,
    "start_time": "2021-12-06T21:33:49.744Z"
   },
   {
    "duration": 62,
    "start_time": "2021-12-06T21:33:49.785Z"
   },
   {
    "duration": 35,
    "start_time": "2021-12-06T21:33:49.850Z"
   },
   {
    "duration": 28,
    "start_time": "2021-12-06T21:33:49.888Z"
   },
   {
    "duration": 5153,
    "start_time": "2021-12-06T21:33:49.920Z"
   },
   {
    "duration": 43,
    "start_time": "2021-12-06T21:33:55.076Z"
   },
   {
    "duration": 35,
    "start_time": "2021-12-06T21:33:55.122Z"
   },
   {
    "duration": 5,
    "start_time": "2021-12-06T21:33:55.160Z"
   },
   {
    "duration": 68,
    "start_time": "2021-12-06T21:33:55.168Z"
   },
   {
    "duration": 5,
    "start_time": "2021-12-06T21:33:55.239Z"
   },
   {
    "duration": 74,
    "start_time": "2021-12-06T21:33:55.247Z"
   },
   {
    "duration": 30272,
    "start_time": "2021-12-06T21:33:55.324Z"
   },
   {
    "duration": -308,
    "start_time": "2021-12-06T21:34:25.908Z"
   },
   {
    "duration": -313,
    "start_time": "2021-12-06T21:34:25.915Z"
   },
   {
    "duration": -316,
    "start_time": "2021-12-06T21:34:25.920Z"
   },
   {
    "duration": 306,
    "start_time": "2021-12-06T21:37:04.688Z"
   },
   {
    "duration": 310,
    "start_time": "2021-12-06T21:37:17.848Z"
   },
   {
    "duration": 108,
    "start_time": "2021-12-06T21:39:04.037Z"
   },
   {
    "duration": 316,
    "start_time": "2021-12-06T21:40:45.774Z"
   },
   {
    "duration": 136,
    "start_time": "2021-12-06T21:40:52.984Z"
   },
   {
    "duration": 139,
    "start_time": "2021-12-06T21:41:39.712Z"
   },
   {
    "duration": 793,
    "start_time": "2021-12-06T21:43:51.661Z"
   },
   {
    "duration": 502,
    "start_time": "2021-12-06T21:44:06.556Z"
   },
   {
    "duration": 4,
    "start_time": "2021-12-06T21:44:10.397Z"
   },
   {
    "duration": 113,
    "start_time": "2021-12-06T21:44:10.404Z"
   },
   {
    "duration": 18,
    "start_time": "2021-12-06T21:44:10.520Z"
   },
   {
    "duration": 14,
    "start_time": "2021-12-06T21:44:10.541Z"
   },
   {
    "duration": 5,
    "start_time": "2021-12-06T21:44:10.557Z"
   },
   {
    "duration": 11,
    "start_time": "2021-12-06T21:44:10.565Z"
   },
   {
    "duration": 802,
    "start_time": "2021-12-06T21:44:10.623Z"
   },
   {
    "duration": 12,
    "start_time": "2021-12-06T21:44:11.427Z"
   },
   {
    "duration": 722,
    "start_time": "2021-12-06T21:44:11.445Z"
   },
   {
    "duration": 14,
    "start_time": "2021-12-06T21:44:12.171Z"
   },
   {
    "duration": 31,
    "start_time": "2021-12-06T21:44:12.188Z"
   },
   {
    "duration": 8,
    "start_time": "2021-12-06T21:44:12.222Z"
   },
   {
    "duration": 11,
    "start_time": "2021-12-06T21:44:12.232Z"
   },
   {
    "duration": 644,
    "start_time": "2021-12-06T21:44:12.246Z"
   },
   {
    "duration": 4,
    "start_time": "2021-12-06T21:44:12.893Z"
   },
   {
    "duration": 31,
    "start_time": "2021-12-06T21:44:12.899Z"
   },
   {
    "duration": 9,
    "start_time": "2021-12-06T21:44:12.933Z"
   },
   {
    "duration": 17,
    "start_time": "2021-12-06T21:44:12.944Z"
   },
   {
    "duration": 10,
    "start_time": "2021-12-06T21:44:12.963Z"
   },
   {
    "duration": 47,
    "start_time": "2021-12-06T21:44:12.976Z"
   },
   {
    "duration": 17,
    "start_time": "2021-12-06T21:44:13.025Z"
   },
   {
    "duration": 18,
    "start_time": "2021-12-06T21:44:13.045Z"
   },
   {
    "duration": 11,
    "start_time": "2021-12-06T21:44:13.065Z"
   },
   {
    "duration": 46,
    "start_time": "2021-12-06T21:44:13.078Z"
   },
   {
    "duration": 11,
    "start_time": "2021-12-06T21:44:13.127Z"
   },
   {
    "duration": 11,
    "start_time": "2021-12-06T21:44:13.141Z"
   },
   {
    "duration": 7,
    "start_time": "2021-12-06T21:44:13.159Z"
   },
   {
    "duration": 49,
    "start_time": "2021-12-06T21:44:13.170Z"
   },
   {
    "duration": 22,
    "start_time": "2021-12-06T21:44:13.222Z"
   },
   {
    "duration": 21,
    "start_time": "2021-12-06T21:44:13.246Z"
   },
   {
    "duration": 8,
    "start_time": "2021-12-06T21:44:13.269Z"
   },
   {
    "duration": 18,
    "start_time": "2021-12-06T21:44:13.316Z"
   },
   {
    "duration": 25,
    "start_time": "2021-12-06T21:44:13.337Z"
   },
   {
    "duration": 54,
    "start_time": "2021-12-06T21:44:13.365Z"
   },
   {
    "duration": 25,
    "start_time": "2021-12-06T21:44:13.422Z"
   },
   {
    "duration": 3,
    "start_time": "2021-12-06T21:44:13.450Z"
   },
   {
    "duration": 4611,
    "start_time": "2021-12-06T21:44:13.457Z"
   },
   {
    "duration": 29,
    "start_time": "2021-12-06T21:44:18.071Z"
   },
   {
    "duration": 36,
    "start_time": "2021-12-06T21:44:18.117Z"
   },
   {
    "duration": 6,
    "start_time": "2021-12-06T21:44:18.156Z"
   },
   {
    "duration": 79,
    "start_time": "2021-12-06T21:44:18.165Z"
   },
   {
    "duration": 6,
    "start_time": "2021-12-06T21:44:18.247Z"
   },
   {
    "duration": 77,
    "start_time": "2021-12-06T21:44:18.255Z"
   },
   {
    "duration": 517,
    "start_time": "2021-12-06T21:44:18.334Z"
   },
   {
    "duration": -334,
    "start_time": "2021-12-06T21:44:19.187Z"
   },
   {
    "duration": -367,
    "start_time": "2021-12-06T21:44:19.222Z"
   },
   {
    "duration": -370,
    "start_time": "2021-12-06T21:44:19.226Z"
   },
   {
    "duration": -373,
    "start_time": "2021-12-06T21:44:19.230Z"
   },
   {
    "duration": 83,
    "start_time": "2021-12-06T21:44:33.536Z"
   },
   {
    "duration": 174,
    "start_time": "2021-12-06T21:44:45.669Z"
   },
   {
    "duration": 219,
    "start_time": "2021-12-06T21:44:49.119Z"
   },
   {
    "duration": 368,
    "start_time": "2021-12-06T21:45:03.950Z"
   },
   {
    "duration": 1069,
    "start_time": "2021-12-06T21:45:08.719Z"
   },
   {
    "duration": 3,
    "start_time": "2021-12-06T21:45:13.709Z"
   },
   {
    "duration": 105,
    "start_time": "2021-12-06T21:45:13.715Z"
   },
   {
    "duration": 18,
    "start_time": "2021-12-06T21:45:13.824Z"
   },
   {
    "duration": 13,
    "start_time": "2021-12-06T21:45:13.845Z"
   },
   {
    "duration": 5,
    "start_time": "2021-12-06T21:45:13.860Z"
   },
   {
    "duration": 66,
    "start_time": "2021-12-06T21:45:13.867Z"
   },
   {
    "duration": 755,
    "start_time": "2021-12-06T21:45:13.936Z"
   },
   {
    "duration": 25,
    "start_time": "2021-12-06T21:45:14.694Z"
   },
   {
    "duration": 761,
    "start_time": "2021-12-06T21:45:14.723Z"
   },
   {
    "duration": 13,
    "start_time": "2021-12-06T21:45:15.487Z"
   },
   {
    "duration": 19,
    "start_time": "2021-12-06T21:45:15.503Z"
   },
   {
    "duration": 7,
    "start_time": "2021-12-06T21:45:15.525Z"
   },
   {
    "duration": 9,
    "start_time": "2021-12-06T21:45:15.534Z"
   },
   {
    "duration": 730,
    "start_time": "2021-12-06T21:45:15.545Z"
   },
   {
    "duration": 5,
    "start_time": "2021-12-06T21:45:16.277Z"
   },
   {
    "duration": 37,
    "start_time": "2021-12-06T21:45:16.285Z"
   },
   {
    "duration": 10,
    "start_time": "2021-12-06T21:45:16.325Z"
   },
   {
    "duration": 12,
    "start_time": "2021-12-06T21:45:16.338Z"
   },
   {
    "duration": 9,
    "start_time": "2021-12-06T21:45:16.353Z"
   },
   {
    "duration": 57,
    "start_time": "2021-12-06T21:45:16.365Z"
   },
   {
    "duration": 20,
    "start_time": "2021-12-06T21:45:16.425Z"
   },
   {
    "duration": 17,
    "start_time": "2021-12-06T21:45:16.447Z"
   },
   {
    "duration": 10,
    "start_time": "2021-12-06T21:45:16.467Z"
   },
   {
    "duration": 9,
    "start_time": "2021-12-06T21:45:16.516Z"
   },
   {
    "duration": 10,
    "start_time": "2021-12-06T21:45:16.527Z"
   },
   {
    "duration": 8,
    "start_time": "2021-12-06T21:45:16.539Z"
   },
   {
    "duration": 8,
    "start_time": "2021-12-06T21:45:16.553Z"
   },
   {
    "duration": 58,
    "start_time": "2021-12-06T21:45:16.565Z"
   },
   {
    "duration": 20,
    "start_time": "2021-12-06T21:45:16.626Z"
   },
   {
    "duration": 18,
    "start_time": "2021-12-06T21:45:16.649Z"
   },
   {
    "duration": 8,
    "start_time": "2021-12-06T21:45:16.670Z"
   },
   {
    "duration": 53,
    "start_time": "2021-12-06T21:45:16.680Z"
   },
   {
    "duration": 25,
    "start_time": "2021-12-06T21:45:16.735Z"
   },
   {
    "duration": 64,
    "start_time": "2021-12-06T21:45:16.762Z"
   },
   {
    "duration": 25,
    "start_time": "2021-12-06T21:45:16.828Z"
   },
   {
    "duration": 29,
    "start_time": "2021-12-06T21:45:16.856Z"
   },
   {
    "duration": 4752,
    "start_time": "2021-12-06T21:45:16.887Z"
   },
   {
    "duration": 29,
    "start_time": "2021-12-06T21:45:21.642Z"
   },
   {
    "duration": 57,
    "start_time": "2021-12-06T21:45:21.674Z"
   },
   {
    "duration": 7,
    "start_time": "2021-12-06T21:45:21.733Z"
   },
   {
    "duration": 48,
    "start_time": "2021-12-06T21:45:21.742Z"
   },
   {
    "duration": 4,
    "start_time": "2021-12-06T21:45:21.793Z"
   },
   {
    "duration": 50,
    "start_time": "2021-12-06T21:45:21.817Z"
   },
   {
    "duration": 91,
    "start_time": "2021-12-06T21:45:21.870Z"
   },
   {
    "duration": 21393,
    "start_time": "2021-12-06T21:45:21.964Z"
   },
   {
    "duration": -331,
    "start_time": "2021-12-06T21:45:43.691Z"
   },
   {
    "duration": -335,
    "start_time": "2021-12-06T21:45:43.696Z"
   },
   {
    "duration": -341,
    "start_time": "2021-12-06T21:45:43.704Z"
   },
   {
    "duration": -226,
    "start_time": "2021-12-06T21:46:50.661Z"
   },
   {
    "duration": -238,
    "start_time": "2021-12-06T21:46:50.675Z"
   },
   {
    "duration": -241,
    "start_time": "2021-12-06T21:46:50.679Z"
   },
   {
    "duration": -245,
    "start_time": "2021-12-06T21:46:50.685Z"
   },
   {
    "duration": -249,
    "start_time": "2021-12-06T21:46:50.690Z"
   },
   {
    "duration": -257,
    "start_time": "2021-12-06T21:46:50.699Z"
   },
   {
    "duration": -261,
    "start_time": "2021-12-06T21:46:50.705Z"
   },
   {
    "duration": -262,
    "start_time": "2021-12-06T21:46:50.707Z"
   },
   {
    "duration": -264,
    "start_time": "2021-12-06T21:46:50.710Z"
   },
   {
    "duration": -264,
    "start_time": "2021-12-06T21:46:50.711Z"
   },
   {
    "duration": -371,
    "start_time": "2021-12-06T21:46:50.820Z"
   },
   {
    "duration": -373,
    "start_time": "2021-12-06T21:46:50.823Z"
   },
   {
    "duration": -375,
    "start_time": "2021-12-06T21:46:50.827Z"
   },
   {
    "duration": -375,
    "start_time": "2021-12-06T21:46:50.829Z"
   },
   {
    "duration": -378,
    "start_time": "2021-12-06T21:46:50.833Z"
   },
   {
    "duration": -378,
    "start_time": "2021-12-06T21:46:50.835Z"
   },
   {
    "duration": -379,
    "start_time": "2021-12-06T21:46:50.838Z"
   },
   {
    "duration": -379,
    "start_time": "2021-12-06T21:46:50.840Z"
   },
   {
    "duration": -379,
    "start_time": "2021-12-06T21:46:50.842Z"
   },
   {
    "duration": -380,
    "start_time": "2021-12-06T21:46:50.845Z"
   },
   {
    "duration": -381,
    "start_time": "2021-12-06T21:46:50.848Z"
   },
   {
    "duration": -389,
    "start_time": "2021-12-06T21:46:50.905Z"
   },
   {
    "duration": -390,
    "start_time": "2021-12-06T21:46:50.908Z"
   },
   {
    "duration": -389,
    "start_time": "2021-12-06T21:46:50.910Z"
   },
   {
    "duration": -391,
    "start_time": "2021-12-06T21:46:50.914Z"
   },
   {
    "duration": -391,
    "start_time": "2021-12-06T21:46:50.916Z"
   },
   {
    "duration": -397,
    "start_time": "2021-12-06T21:46:50.925Z"
   },
   {
    "duration": -402,
    "start_time": "2021-12-06T21:46:50.932Z"
   },
   {
    "duration": -403,
    "start_time": "2021-12-06T21:46:50.935Z"
   },
   {
    "duration": -404,
    "start_time": "2021-12-06T21:46:50.938Z"
   },
   {
    "duration": -397,
    "start_time": "2021-12-06T21:46:50.940Z"
   },
   {
    "duration": -397,
    "start_time": "2021-12-06T21:46:50.942Z"
   },
   {
    "duration": -397,
    "start_time": "2021-12-06T21:46:50.944Z"
   },
   {
    "duration": -396,
    "start_time": "2021-12-06T21:46:50.946Z"
   },
   {
    "duration": -396,
    "start_time": "2021-12-06T21:46:50.948Z"
   },
   {
    "duration": -396,
    "start_time": "2021-12-06T21:46:50.950Z"
   },
   {
    "duration": -398,
    "start_time": "2021-12-06T21:46:50.953Z"
   },
   {
    "duration": -398,
    "start_time": "2021-12-06T21:46:50.954Z"
   },
   {
    "duration": -398,
    "start_time": "2021-12-06T21:46:50.957Z"
   },
   {
    "duration": -495,
    "start_time": "2021-12-06T21:46:51.055Z"
   },
   {
    "duration": -442,
    "start_time": "2021-12-06T21:46:51.059Z"
   },
   {
    "duration": -442,
    "start_time": "2021-12-06T21:46:51.061Z"
   },
   {
    "duration": -444,
    "start_time": "2021-12-06T21:46:51.065Z"
   },
   {
    "duration": -445,
    "start_time": "2021-12-06T21:46:51.067Z"
   },
   {
    "duration": -445,
    "start_time": "2021-12-06T21:46:51.069Z"
   },
   {
    "duration": -445,
    "start_time": "2021-12-06T21:46:51.071Z"
   },
   {
    "duration": -447,
    "start_time": "2021-12-06T21:46:51.074Z"
   },
   {
    "duration": 3,
    "start_time": "2021-12-06T21:46:54.253Z"
   },
   {
    "duration": 125,
    "start_time": "2021-12-06T21:46:54.259Z"
   },
   {
    "duration": 37,
    "start_time": "2021-12-06T21:46:54.389Z"
   },
   {
    "duration": 19,
    "start_time": "2021-12-06T21:46:54.430Z"
   },
   {
    "duration": 5,
    "start_time": "2021-12-06T21:46:54.452Z"
   },
   {
    "duration": 17,
    "start_time": "2021-12-06T21:46:54.460Z"
   },
   {
    "duration": 775,
    "start_time": "2021-12-06T21:46:54.480Z"
   },
   {
    "duration": 12,
    "start_time": "2021-12-06T21:46:55.258Z"
   },
   {
    "duration": 713,
    "start_time": "2021-12-06T21:46:55.274Z"
   },
   {
    "duration": 28,
    "start_time": "2021-12-06T21:46:55.991Z"
   },
   {
    "duration": 8,
    "start_time": "2021-12-06T21:46:56.022Z"
   },
   {
    "duration": 6,
    "start_time": "2021-12-06T21:46:56.033Z"
   },
   {
    "duration": 10,
    "start_time": "2021-12-06T21:46:56.041Z"
   },
   {
    "duration": 639,
    "start_time": "2021-12-06T21:46:56.053Z"
   },
   {
    "duration": 6,
    "start_time": "2021-12-06T21:46:56.695Z"
   },
   {
    "duration": 29,
    "start_time": "2021-12-06T21:46:56.703Z"
   },
   {
    "duration": 10,
    "start_time": "2021-12-06T21:46:56.735Z"
   },
   {
    "duration": 18,
    "start_time": "2021-12-06T21:46:56.748Z"
   },
   {
    "duration": 14,
    "start_time": "2021-12-06T21:46:56.768Z"
   },
   {
    "duration": 10,
    "start_time": "2021-12-06T21:46:56.817Z"
   },
   {
    "duration": 23,
    "start_time": "2021-12-06T21:46:56.830Z"
   },
   {
    "duration": 18,
    "start_time": "2021-12-06T21:46:56.856Z"
   },
   {
    "duration": 16,
    "start_time": "2021-12-06T21:46:56.876Z"
   },
   {
    "duration": 9,
    "start_time": "2021-12-06T21:46:56.916Z"
   },
   {
    "duration": 17,
    "start_time": "2021-12-06T21:46:56.927Z"
   },
   {
    "duration": 30,
    "start_time": "2021-12-06T21:46:56.947Z"
   },
   {
    "duration": 21,
    "start_time": "2021-12-06T21:46:56.986Z"
   },
   {
    "duration": 12,
    "start_time": "2021-12-06T21:46:57.018Z"
   },
   {
    "duration": 22,
    "start_time": "2021-12-06T21:46:57.033Z"
   },
   {
    "duration": 19,
    "start_time": "2021-12-06T21:46:57.057Z"
   },
   {
    "duration": 45,
    "start_time": "2021-12-06T21:46:57.078Z"
   },
   {
    "duration": 17,
    "start_time": "2021-12-06T21:46:57.126Z"
   },
   {
    "duration": 26,
    "start_time": "2021-12-06T21:46:57.146Z"
   },
   {
    "duration": 64,
    "start_time": "2021-12-06T21:46:57.174Z"
   },
   {
    "duration": 26,
    "start_time": "2021-12-06T21:46:57.240Z"
   },
   {
    "duration": 4,
    "start_time": "2021-12-06T21:46:57.269Z"
   },
   {
    "duration": 5465,
    "start_time": "2021-12-06T21:46:57.275Z"
   },
   {
    "duration": 31,
    "start_time": "2021-12-06T21:47:02.743Z"
   },
   {
    "duration": 63,
    "start_time": "2021-12-06T21:47:02.777Z"
   },
   {
    "duration": 5,
    "start_time": "2021-12-06T21:47:02.843Z"
   },
   {
    "duration": 38,
    "start_time": "2021-12-06T21:47:02.850Z"
   },
   {
    "duration": 28,
    "start_time": "2021-12-06T21:47:02.891Z"
   },
   {
    "duration": 108,
    "start_time": "2021-12-06T21:47:02.922Z"
   },
   {
    "duration": 92,
    "start_time": "2021-12-06T21:47:03.034Z"
   },
   {
    "duration": 45,
    "start_time": "2021-12-06T21:47:03.129Z"
   },
   {
    "duration": 52,
    "start_time": "2021-12-06T21:47:03.177Z"
   },
   {
    "duration": 31,
    "start_time": "2021-12-06T21:47:03.233Z"
   },
   {
    "duration": 13,
    "start_time": "2021-12-06T21:48:12.978Z"
   },
   {
    "duration": 22,
    "start_time": "2021-12-06T21:48:44.758Z"
   },
   {
    "duration": 162,
    "start_time": "2021-12-08T17:55:58.556Z"
   },
   {
    "duration": 855,
    "start_time": "2021-12-08T17:59:32.209Z"
   },
   {
    "duration": 104,
    "start_time": "2021-12-08T17:59:33.067Z"
   },
   {
    "duration": 15,
    "start_time": "2021-12-08T17:59:33.174Z"
   },
   {
    "duration": 33,
    "start_time": "2021-12-08T17:59:33.192Z"
   },
   {
    "duration": 35,
    "start_time": "2021-12-08T17:59:33.228Z"
   },
   {
    "duration": 55,
    "start_time": "2021-12-08T17:59:33.265Z"
   },
   {
    "duration": 756,
    "start_time": "2021-12-08T17:59:33.323Z"
   },
   {
    "duration": 10,
    "start_time": "2021-12-08T17:59:34.081Z"
   },
   {
    "duration": 728,
    "start_time": "2021-12-08T17:59:34.095Z"
   },
   {
    "duration": 17,
    "start_time": "2021-12-08T17:59:34.829Z"
   },
   {
    "duration": 12,
    "start_time": "2021-12-08T17:59:34.848Z"
   },
   {
    "duration": 15,
    "start_time": "2021-12-08T17:59:34.862Z"
   },
   {
    "duration": 17,
    "start_time": "2021-12-08T17:59:34.879Z"
   },
   {
    "duration": 640,
    "start_time": "2021-12-08T17:59:34.899Z"
   },
   {
    "duration": 5,
    "start_time": "2021-12-08T17:59:35.541Z"
   },
   {
    "duration": 30,
    "start_time": "2021-12-08T17:59:35.548Z"
   },
   {
    "duration": 12,
    "start_time": "2021-12-08T17:59:35.581Z"
   },
   {
    "duration": 32,
    "start_time": "2021-12-08T17:59:35.595Z"
   },
   {
    "duration": 12,
    "start_time": "2021-12-08T17:59:35.629Z"
   },
   {
    "duration": 28,
    "start_time": "2021-12-08T17:59:35.644Z"
   },
   {
    "duration": 20,
    "start_time": "2021-12-08T17:59:35.674Z"
   },
   {
    "duration": 31,
    "start_time": "2021-12-08T17:59:35.696Z"
   },
   {
    "duration": 27,
    "start_time": "2021-12-08T17:59:35.730Z"
   },
   {
    "duration": 19,
    "start_time": "2021-12-08T17:59:35.759Z"
   },
   {
    "duration": 18,
    "start_time": "2021-12-08T17:59:35.780Z"
   },
   {
    "duration": 18,
    "start_time": "2021-12-08T17:59:35.800Z"
   },
   {
    "duration": 15,
    "start_time": "2021-12-08T17:59:35.824Z"
   },
   {
    "duration": 19,
    "start_time": "2021-12-08T17:59:35.842Z"
   },
   {
    "duration": 38,
    "start_time": "2021-12-08T17:59:35.863Z"
   },
   {
    "duration": 21,
    "start_time": "2021-12-08T17:59:35.903Z"
   },
   {
    "duration": 15,
    "start_time": "2021-12-08T17:59:35.928Z"
   },
   {
    "duration": 21,
    "start_time": "2021-12-08T17:59:35.945Z"
   },
   {
    "duration": 23,
    "start_time": "2021-12-08T17:59:35.969Z"
   },
   {
    "duration": 55,
    "start_time": "2021-12-08T17:59:35.995Z"
   },
   {
    "duration": 24,
    "start_time": "2021-12-08T17:59:36.052Z"
   },
   {
    "duration": 10,
    "start_time": "2021-12-08T17:59:36.079Z"
   },
   {
    "duration": 6090,
    "start_time": "2021-12-08T17:59:36.091Z"
   },
   {
    "duration": 38,
    "start_time": "2021-12-08T17:59:42.184Z"
   },
   {
    "duration": 39,
    "start_time": "2021-12-08T17:59:42.225Z"
   },
   {
    "duration": 33,
    "start_time": "2021-12-08T17:59:42.267Z"
   },
   {
    "duration": 72,
    "start_time": "2021-12-08T17:59:42.303Z"
   },
   {
    "duration": 5,
    "start_time": "2021-12-08T17:59:42.379Z"
   },
   {
    "duration": 101,
    "start_time": "2021-12-08T17:59:42.386Z"
   },
   {
    "duration": 62,
    "start_time": "2021-12-08T17:59:42.490Z"
   },
   {
    "duration": 61,
    "start_time": "2021-12-08T17:59:42.556Z"
   },
   {
    "duration": 59,
    "start_time": "2021-12-08T17:59:42.619Z"
   },
   {
    "duration": 43,
    "start_time": "2021-12-08T17:59:42.681Z"
   },
   {
    "duration": 56,
    "start_time": "2021-12-08T17:59:42.727Z"
   },
   {
    "duration": 97,
    "start_time": "2021-12-08T18:01:35.204Z"
   },
   {
    "duration": 6,
    "start_time": "2021-12-08T18:31:00.584Z"
   },
   {
    "duration": 3,
    "start_time": "2021-12-08T19:24:30.620Z"
   },
   {
    "duration": 90,
    "start_time": "2021-12-08T19:24:30.626Z"
   },
   {
    "duration": 14,
    "start_time": "2021-12-08T19:24:30.724Z"
   },
   {
    "duration": 21,
    "start_time": "2021-12-08T19:24:30.741Z"
   },
   {
    "duration": 8,
    "start_time": "2021-12-08T19:24:30.765Z"
   },
   {
    "duration": 20,
    "start_time": "2021-12-08T19:24:30.776Z"
   },
   {
    "duration": 732,
    "start_time": "2021-12-08T19:24:30.824Z"
   },
   {
    "duration": 12,
    "start_time": "2021-12-08T19:24:31.558Z"
   },
   {
    "duration": 852,
    "start_time": "2021-12-08T19:24:31.574Z"
   },
   {
    "duration": 14,
    "start_time": "2021-12-08T19:24:32.429Z"
   },
   {
    "duration": 28,
    "start_time": "2021-12-08T19:24:32.446Z"
   },
   {
    "duration": 21,
    "start_time": "2021-12-08T19:24:32.477Z"
   },
   {
    "duration": 38,
    "start_time": "2021-12-08T19:24:32.500Z"
   },
   {
    "duration": 601,
    "start_time": "2021-12-08T19:24:32.540Z"
   },
   {
    "duration": 5,
    "start_time": "2021-12-08T19:24:33.144Z"
   },
   {
    "duration": 28,
    "start_time": "2021-12-08T19:24:33.152Z"
   },
   {
    "duration": 33,
    "start_time": "2021-12-08T19:24:33.183Z"
   },
   {
    "duration": 29,
    "start_time": "2021-12-08T19:24:33.219Z"
   },
   {
    "duration": 52,
    "start_time": "2021-12-08T19:24:33.252Z"
   },
   {
    "duration": 76,
    "start_time": "2021-12-08T19:24:33.307Z"
   },
   {
    "duration": 38,
    "start_time": "2021-12-08T19:24:33.385Z"
   },
   {
    "duration": 42,
    "start_time": "2021-12-08T19:24:33.426Z"
   },
   {
    "duration": 45,
    "start_time": "2021-12-08T19:24:33.470Z"
   },
   {
    "duration": 31,
    "start_time": "2021-12-08T19:24:33.518Z"
   },
   {
    "duration": 33,
    "start_time": "2021-12-08T19:24:33.552Z"
   },
   {
    "duration": 29,
    "start_time": "2021-12-08T19:24:33.587Z"
   },
   {
    "duration": 39,
    "start_time": "2021-12-08T19:24:33.623Z"
   },
   {
    "duration": 37,
    "start_time": "2021-12-08T19:24:33.665Z"
   },
   {
    "duration": 51,
    "start_time": "2021-12-08T19:24:33.705Z"
   },
   {
    "duration": 17,
    "start_time": "2021-12-08T19:24:33.759Z"
   },
   {
    "duration": 39,
    "start_time": "2021-12-08T19:24:33.779Z"
   },
   {
    "duration": 39,
    "start_time": "2021-12-08T19:24:33.820Z"
   },
   {
    "duration": 59,
    "start_time": "2021-12-08T19:24:33.861Z"
   },
   {
    "duration": 58,
    "start_time": "2021-12-08T19:24:33.922Z"
   },
   {
    "duration": 37,
    "start_time": "2021-12-08T19:24:33.982Z"
   },
   {
    "duration": 5573,
    "start_time": "2021-12-08T19:24:34.021Z"
   },
   {
    "duration": 40,
    "start_time": "2021-12-08T19:24:39.597Z"
   },
   {
    "duration": 56,
    "start_time": "2021-12-08T19:24:39.640Z"
   },
   {
    "duration": 53,
    "start_time": "2021-12-08T19:24:39.699Z"
   },
   {
    "duration": 67,
    "start_time": "2021-12-08T19:24:39.754Z"
   },
   {
    "duration": 5,
    "start_time": "2021-12-08T19:24:39.824Z"
   },
   {
    "duration": 74,
    "start_time": "2021-12-08T19:24:39.832Z"
   },
   {
    "duration": 43,
    "start_time": "2021-12-08T19:24:39.909Z"
   },
   {
    "duration": 41,
    "start_time": "2021-12-08T19:24:39.954Z"
   },
   {
    "duration": 32,
    "start_time": "2021-12-08T19:24:39.997Z"
   },
   {
    "duration": 52,
    "start_time": "2021-12-08T19:24:40.032Z"
   },
   {
    "duration": 38,
    "start_time": "2021-12-08T19:24:40.086Z"
   },
   {
    "duration": 65,
    "start_time": "2021-12-08T19:37:24.576Z"
   },
   {
    "duration": 3,
    "start_time": "2021-12-08T19:37:52.721Z"
   },
   {
    "duration": 102,
    "start_time": "2021-12-08T19:37:52.726Z"
   },
   {
    "duration": 15,
    "start_time": "2021-12-08T19:37:52.831Z"
   },
   {
    "duration": 35,
    "start_time": "2021-12-08T19:37:52.849Z"
   },
   {
    "duration": 18,
    "start_time": "2021-12-08T19:37:52.887Z"
   },
   {
    "duration": 39,
    "start_time": "2021-12-08T19:37:52.907Z"
   },
   {
    "duration": 745,
    "start_time": "2021-12-08T19:37:52.949Z"
   },
   {
    "duration": 10,
    "start_time": "2021-12-08T19:37:53.697Z"
   },
   {
    "duration": 709,
    "start_time": "2021-12-08T19:37:53.724Z"
   },
   {
    "duration": 13,
    "start_time": "2021-12-08T19:37:54.436Z"
   },
   {
    "duration": 8,
    "start_time": "2021-12-08T19:37:54.451Z"
   },
   {
    "duration": 6,
    "start_time": "2021-12-08T19:37:54.461Z"
   },
   {
    "duration": 8,
    "start_time": "2021-12-08T19:37:54.470Z"
   },
   {
    "duration": 590,
    "start_time": "2021-12-08T19:37:54.524Z"
   },
   {
    "duration": 9,
    "start_time": "2021-12-08T19:37:55.116Z"
   },
   {
    "duration": 15,
    "start_time": "2021-12-08T19:37:55.128Z"
   },
   {
    "duration": 8,
    "start_time": "2021-12-08T19:37:55.145Z"
   },
   {
    "duration": 15,
    "start_time": "2021-12-08T19:37:55.155Z"
   },
   {
    "duration": 11,
    "start_time": "2021-12-08T19:37:55.172Z"
   },
   {
    "duration": 47,
    "start_time": "2021-12-08T19:37:55.186Z"
   },
   {
    "duration": 34,
    "start_time": "2021-12-08T19:37:55.235Z"
   },
   {
    "duration": 35,
    "start_time": "2021-12-08T19:37:55.272Z"
   },
   {
    "duration": 24,
    "start_time": "2021-12-08T19:37:55.309Z"
   },
   {
    "duration": 53,
    "start_time": "2021-12-08T19:37:55.336Z"
   },
   {
    "duration": 27,
    "start_time": "2021-12-08T19:37:55.392Z"
   },
   {
    "duration": 38,
    "start_time": "2021-12-08T19:37:55.421Z"
   },
   {
    "duration": 46,
    "start_time": "2021-12-08T19:37:55.464Z"
   },
   {
    "duration": 31,
    "start_time": "2021-12-08T19:37:55.513Z"
   },
   {
    "duration": 39,
    "start_time": "2021-12-08T19:37:55.547Z"
   },
   {
    "duration": 18,
    "start_time": "2021-12-08T19:37:55.589Z"
   },
   {
    "duration": 51,
    "start_time": "2021-12-08T19:37:55.609Z"
   },
   {
    "duration": 27,
    "start_time": "2021-12-08T19:37:55.662Z"
   },
   {
    "duration": 30,
    "start_time": "2021-12-08T19:37:55.692Z"
   },
   {
    "duration": 34,
    "start_time": "2021-12-08T19:37:55.725Z"
   },
   {
    "duration": 26,
    "start_time": "2021-12-08T19:37:55.761Z"
   },
   {
    "duration": 5279,
    "start_time": "2021-12-08T19:37:55.790Z"
   },
   {
    "duration": 27,
    "start_time": "2021-12-08T19:38:01.072Z"
   },
   {
    "duration": 86,
    "start_time": "2021-12-08T19:38:01.102Z"
   },
   {
    "duration": 20,
    "start_time": "2021-12-08T19:38:01.191Z"
   },
   {
    "duration": 45,
    "start_time": "2021-12-08T19:38:01.213Z"
   },
   {
    "duration": 13,
    "start_time": "2021-12-08T19:38:01.260Z"
   },
   {
    "duration": 95,
    "start_time": "2021-12-08T19:38:01.275Z"
   },
   {
    "duration": 56,
    "start_time": "2021-12-08T19:38:01.372Z"
   },
   {
    "duration": 32,
    "start_time": "2021-12-08T19:38:01.431Z"
   },
   {
    "duration": 35,
    "start_time": "2021-12-08T19:38:01.465Z"
   },
   {
    "duration": 39,
    "start_time": "2021-12-08T19:38:01.502Z"
   },
   {
    "duration": 35,
    "start_time": "2021-12-08T19:38:01.543Z"
   },
   {
    "duration": 4,
    "start_time": "2021-12-08T20:53:44.105Z"
   },
   {
    "duration": 82,
    "start_time": "2021-12-08T20:53:44.111Z"
   },
   {
    "duration": 38,
    "start_time": "2021-12-08T20:53:44.196Z"
   },
   {
    "duration": 12,
    "start_time": "2021-12-08T20:53:44.236Z"
   },
   {
    "duration": 5,
    "start_time": "2021-12-08T20:53:44.250Z"
   },
   {
    "duration": 13,
    "start_time": "2021-12-08T20:53:44.257Z"
   },
   {
    "duration": 707,
    "start_time": "2021-12-08T20:53:44.272Z"
   },
   {
    "duration": 11,
    "start_time": "2021-12-08T20:53:44.982Z"
   },
   {
    "duration": 697,
    "start_time": "2021-12-08T20:53:44.999Z"
   },
   {
    "duration": 11,
    "start_time": "2021-12-08T20:53:45.700Z"
   },
   {
    "duration": 8,
    "start_time": "2021-12-08T20:53:45.723Z"
   },
   {
    "duration": 18,
    "start_time": "2021-12-08T20:53:45.733Z"
   },
   {
    "duration": 26,
    "start_time": "2021-12-08T20:53:45.753Z"
   },
   {
    "duration": 636,
    "start_time": "2021-12-08T20:53:45.781Z"
   },
   {
    "duration": 5,
    "start_time": "2021-12-08T20:53:46.419Z"
   },
   {
    "duration": 21,
    "start_time": "2021-12-08T20:53:46.427Z"
   },
   {
    "duration": 29,
    "start_time": "2021-12-08T20:53:46.450Z"
   },
   {
    "duration": 22,
    "start_time": "2021-12-08T20:53:46.481Z"
   },
   {
    "duration": 21,
    "start_time": "2021-12-08T20:53:46.505Z"
   },
   {
    "duration": 24,
    "start_time": "2021-12-08T20:53:46.529Z"
   },
   {
    "duration": 16,
    "start_time": "2021-12-08T20:53:46.555Z"
   },
   {
    "duration": 28,
    "start_time": "2021-12-08T20:53:46.574Z"
   },
   {
    "duration": 40,
    "start_time": "2021-12-08T20:53:46.605Z"
   },
   {
    "duration": 23,
    "start_time": "2021-12-08T20:53:46.648Z"
   },
   {
    "duration": 42,
    "start_time": "2021-12-08T20:53:46.673Z"
   },
   {
    "duration": 26,
    "start_time": "2021-12-08T20:53:46.718Z"
   },
   {
    "duration": 17,
    "start_time": "2021-12-08T20:53:46.749Z"
   },
   {
    "duration": 30,
    "start_time": "2021-12-08T20:53:46.769Z"
   },
   {
    "duration": 36,
    "start_time": "2021-12-08T20:53:46.802Z"
   },
   {
    "duration": 6,
    "start_time": "2021-12-08T20:53:46.840Z"
   },
   {
    "duration": 28,
    "start_time": "2021-12-08T20:53:46.848Z"
   },
   {
    "duration": 22,
    "start_time": "2021-12-08T20:53:46.878Z"
   },
   {
    "duration": 42,
    "start_time": "2021-12-08T20:53:46.902Z"
   },
   {
    "duration": 21,
    "start_time": "2021-12-08T20:53:46.947Z"
   },
   {
    "duration": 38,
    "start_time": "2021-12-08T20:53:46.970Z"
   },
   {
    "duration": 4644,
    "start_time": "2021-12-08T20:53:47.010Z"
   },
   {
    "duration": 28,
    "start_time": "2021-12-08T20:53:51.657Z"
   },
   {
    "duration": 59,
    "start_time": "2021-12-08T20:53:51.688Z"
   },
   {
    "duration": 11,
    "start_time": "2021-12-08T20:53:51.750Z"
   },
   {
    "duration": 55,
    "start_time": "2021-12-08T20:53:51.763Z"
   },
   {
    "duration": 4,
    "start_time": "2021-12-08T20:53:51.820Z"
   },
   {
    "duration": 58,
    "start_time": "2021-12-08T20:53:51.827Z"
   },
   {
    "duration": 47,
    "start_time": "2021-12-08T20:53:51.887Z"
   },
   {
    "duration": 48,
    "start_time": "2021-12-08T20:53:51.936Z"
   },
   {
    "duration": 20,
    "start_time": "2021-12-08T20:53:51.986Z"
   },
   {
    "duration": 27,
    "start_time": "2021-12-08T20:53:52.009Z"
   },
   {
    "duration": 19,
    "start_time": "2021-12-08T20:53:52.039Z"
   },
   {
    "duration": 3,
    "start_time": "2021-12-08T21:17:22.024Z"
   },
   {
    "duration": 108,
    "start_time": "2021-12-08T21:17:22.030Z"
   },
   {
    "duration": 17,
    "start_time": "2021-12-08T21:17:22.141Z"
   },
   {
    "duration": 13,
    "start_time": "2021-12-08T21:17:22.162Z"
   },
   {
    "duration": 46,
    "start_time": "2021-12-08T21:17:22.178Z"
   },
   {
    "duration": 12,
    "start_time": "2021-12-08T21:17:22.227Z"
   },
   {
    "duration": 703,
    "start_time": "2021-12-08T21:17:22.242Z"
   },
   {
    "duration": 11,
    "start_time": "2021-12-08T21:17:22.947Z"
   },
   {
    "duration": 713,
    "start_time": "2021-12-08T21:17:22.962Z"
   },
   {
    "duration": 11,
    "start_time": "2021-12-08T21:17:23.678Z"
   },
   {
    "duration": 24,
    "start_time": "2021-12-08T21:17:23.692Z"
   },
   {
    "duration": 10,
    "start_time": "2021-12-08T21:17:23.718Z"
   },
   {
    "duration": 34,
    "start_time": "2021-12-08T21:17:23.730Z"
   },
   {
    "duration": 602,
    "start_time": "2021-12-08T21:17:23.766Z"
   },
   {
    "duration": 7,
    "start_time": "2021-12-08T21:17:24.371Z"
   },
   {
    "duration": 12,
    "start_time": "2021-12-08T21:17:24.380Z"
   },
   {
    "duration": 28,
    "start_time": "2021-12-08T21:17:24.395Z"
   },
   {
    "duration": 21,
    "start_time": "2021-12-08T21:17:24.425Z"
   },
   {
    "duration": 16,
    "start_time": "2021-12-08T21:17:24.448Z"
   },
   {
    "duration": 17,
    "start_time": "2021-12-08T21:17:24.467Z"
   },
   {
    "duration": 12,
    "start_time": "2021-12-08T21:17:24.486Z"
   },
   {
    "duration": 28,
    "start_time": "2021-12-08T21:17:24.500Z"
   },
   {
    "duration": 9,
    "start_time": "2021-12-08T21:17:24.531Z"
   },
   {
    "duration": 9,
    "start_time": "2021-12-08T21:17:24.543Z"
   },
   {
    "duration": 10,
    "start_time": "2021-12-08T21:17:24.554Z"
   },
   {
    "duration": 7,
    "start_time": "2021-12-08T21:17:24.566Z"
   },
   {
    "duration": 9,
    "start_time": "2021-12-08T21:17:24.623Z"
   },
   {
    "duration": 19,
    "start_time": "2021-12-08T21:17:24.635Z"
   },
   {
    "duration": 19,
    "start_time": "2021-12-08T21:17:24.656Z"
   },
   {
    "duration": 6,
    "start_time": "2021-12-08T21:17:24.678Z"
   },
   {
    "duration": 48,
    "start_time": "2021-12-08T21:17:24.686Z"
   },
   {
    "duration": 21,
    "start_time": "2021-12-08T21:17:24.737Z"
   },
   {
    "duration": 25,
    "start_time": "2021-12-08T21:17:24.761Z"
   },
   {
    "duration": 57,
    "start_time": "2021-12-08T21:17:24.788Z"
   },
   {
    "duration": 28,
    "start_time": "2021-12-08T21:17:24.848Z"
   },
   {
    "duration": 5030,
    "start_time": "2021-12-08T21:17:24.878Z"
   },
   {
    "duration": 36,
    "start_time": "2021-12-08T21:17:29.911Z"
   },
   {
    "duration": 76,
    "start_time": "2021-12-08T21:17:29.949Z"
   },
   {
    "duration": 41,
    "start_time": "2021-12-08T21:17:30.028Z"
   },
   {
    "duration": 93,
    "start_time": "2021-12-08T21:17:30.071Z"
   },
   {
    "duration": 14,
    "start_time": "2021-12-08T21:17:30.166Z"
   },
   {
    "duration": 68,
    "start_time": "2021-12-08T21:17:30.183Z"
   },
   {
    "duration": 42,
    "start_time": "2021-12-08T21:17:30.254Z"
   },
   {
    "duration": 61,
    "start_time": "2021-12-08T21:17:30.299Z"
   },
   {
    "duration": 25,
    "start_time": "2021-12-08T21:17:30.363Z"
   },
   {
    "duration": 20,
    "start_time": "2021-12-08T21:17:30.390Z"
   },
   {
    "duration": 34,
    "start_time": "2021-12-08T21:17:30.412Z"
   },
   {
    "duration": 504,
    "start_time": "2021-12-09T16:25:16.951Z"
   },
   {
    "duration": 67,
    "start_time": "2021-12-09T16:25:17.456Z"
   },
   {
    "duration": 11,
    "start_time": "2021-12-09T16:25:17.525Z"
   },
   {
    "duration": 11,
    "start_time": "2021-12-09T16:25:17.537Z"
   },
   {
    "duration": 4,
    "start_time": "2021-12-09T16:25:17.549Z"
   },
   {
    "duration": 10,
    "start_time": "2021-12-09T16:25:17.554Z"
   },
   {
    "duration": 411,
    "start_time": "2021-12-09T16:25:17.565Z"
   },
   {
    "duration": 14,
    "start_time": "2021-12-09T16:25:17.978Z"
   },
   {
    "duration": 404,
    "start_time": "2021-12-09T16:25:17.994Z"
   },
   {
    "duration": 10,
    "start_time": "2021-12-09T16:25:18.399Z"
   },
   {
    "duration": 6,
    "start_time": "2021-12-09T16:25:18.410Z"
   },
   {
    "duration": 5,
    "start_time": "2021-12-09T16:25:18.417Z"
   },
   {
    "duration": 6,
    "start_time": "2021-12-09T16:25:18.424Z"
   },
   {
    "duration": 368,
    "start_time": "2021-12-09T16:25:18.432Z"
   },
   {
    "duration": 4,
    "start_time": "2021-12-09T16:25:18.802Z"
   },
   {
    "duration": 17,
    "start_time": "2021-12-09T16:25:18.808Z"
   },
   {
    "duration": 6,
    "start_time": "2021-12-09T16:25:18.827Z"
   },
   {
    "duration": 10,
    "start_time": "2021-12-09T16:25:18.834Z"
   },
   {
    "duration": 9,
    "start_time": "2021-12-09T16:25:18.845Z"
   },
   {
    "duration": 12,
    "start_time": "2021-12-09T16:25:18.855Z"
   },
   {
    "duration": 29,
    "start_time": "2021-12-09T16:25:18.869Z"
   },
   {
    "duration": 23,
    "start_time": "2021-12-09T16:25:18.900Z"
   },
   {
    "duration": 6,
    "start_time": "2021-12-09T16:25:18.927Z"
   },
   {
    "duration": 13,
    "start_time": "2021-12-09T16:25:18.935Z"
   },
   {
    "duration": 7,
    "start_time": "2021-12-09T16:25:18.949Z"
   },
   {
    "duration": 8,
    "start_time": "2021-12-09T16:25:18.958Z"
   },
   {
    "duration": 8,
    "start_time": "2021-12-09T16:25:18.968Z"
   },
   {
    "duration": 25,
    "start_time": "2021-12-09T16:25:18.978Z"
   },
   {
    "duration": 10,
    "start_time": "2021-12-09T16:25:19.004Z"
   },
   {
    "duration": 4,
    "start_time": "2021-12-09T16:25:19.016Z"
   },
   {
    "duration": 11,
    "start_time": "2021-12-09T16:25:19.021Z"
   },
   {
    "duration": 14,
    "start_time": "2021-12-09T16:25:19.034Z"
   },
   {
    "duration": 43,
    "start_time": "2021-12-09T16:25:19.050Z"
   },
   {
    "duration": 15,
    "start_time": "2021-12-09T16:25:19.094Z"
   },
   {
    "duration": 4,
    "start_time": "2021-12-09T16:25:19.110Z"
   },
   {
    "duration": 3400,
    "start_time": "2021-12-09T16:25:19.115Z"
   },
   {
    "duration": 19,
    "start_time": "2021-12-09T16:25:22.517Z"
   },
   {
    "duration": 17,
    "start_time": "2021-12-09T16:25:22.538Z"
   },
   {
    "duration": 4,
    "start_time": "2021-12-09T16:25:22.557Z"
   },
   {
    "duration": 35,
    "start_time": "2021-12-09T16:25:22.563Z"
   },
   {
    "duration": 3,
    "start_time": "2021-12-09T16:25:22.599Z"
   },
   {
    "duration": 24,
    "start_time": "2021-12-09T16:25:22.603Z"
   },
   {
    "duration": 22,
    "start_time": "2021-12-09T16:25:22.629Z"
   },
   {
    "duration": 47,
    "start_time": "2021-12-09T16:25:22.652Z"
   },
   {
    "duration": 13,
    "start_time": "2021-12-09T16:25:22.701Z"
   },
   {
    "duration": 14,
    "start_time": "2021-12-09T16:25:22.716Z"
   },
   {
    "duration": 13,
    "start_time": "2021-12-09T16:25:22.731Z"
   },
   {
    "duration": 7,
    "start_time": "2021-12-09T16:29:31.477Z"
   },
   {
    "duration": 571,
    "start_time": "2022-02-07T22:12:22.977Z"
   },
   {
    "duration": 67,
    "start_time": "2022-02-07T22:12:23.550Z"
   },
   {
    "duration": 10,
    "start_time": "2022-02-07T22:12:23.619Z"
   },
   {
    "duration": 8,
    "start_time": "2022-02-07T22:12:23.632Z"
   },
   {
    "duration": 18,
    "start_time": "2022-02-07T22:12:23.642Z"
   },
   {
    "duration": 10,
    "start_time": "2022-02-07T22:12:23.662Z"
   },
   {
    "duration": 375,
    "start_time": "2022-02-07T22:12:23.674Z"
   },
   {
    "duration": 14,
    "start_time": "2022-02-07T22:12:24.051Z"
   },
   {
    "duration": 10,
    "start_time": "2022-02-07T22:12:24.068Z"
   },
   {
    "duration": 372,
    "start_time": "2022-02-07T22:12:24.080Z"
   },
   {
    "duration": 9,
    "start_time": "2022-02-07T22:12:24.453Z"
   },
   {
    "duration": 8,
    "start_time": "2022-02-07T22:12:24.464Z"
   },
   {
    "duration": 7,
    "start_time": "2022-02-07T22:12:24.473Z"
   },
   {
    "duration": 7,
    "start_time": "2022-02-07T22:12:24.481Z"
   },
   {
    "duration": 343,
    "start_time": "2022-02-07T22:12:24.489Z"
   },
   {
    "duration": 3,
    "start_time": "2022-02-07T22:12:24.834Z"
   },
   {
    "duration": 14,
    "start_time": "2022-02-07T22:12:24.839Z"
   },
   {
    "duration": 13,
    "start_time": "2022-02-07T22:12:24.859Z"
   },
   {
    "duration": 20,
    "start_time": "2022-02-07T22:12:24.873Z"
   },
   {
    "duration": 21,
    "start_time": "2022-02-07T22:12:24.894Z"
   },
   {
    "duration": 32,
    "start_time": "2022-02-07T22:12:24.917Z"
   },
   {
    "duration": 29,
    "start_time": "2022-02-07T22:12:24.950Z"
   },
   {
    "duration": 24,
    "start_time": "2022-02-07T22:12:24.980Z"
   },
   {
    "duration": 15,
    "start_time": "2022-02-07T22:12:25.006Z"
   },
   {
    "duration": 23,
    "start_time": "2022-02-07T22:12:25.023Z"
   },
   {
    "duration": 18,
    "start_time": "2022-02-07T22:12:25.048Z"
   },
   {
    "duration": 4,
    "start_time": "2022-02-07T22:12:25.070Z"
   },
   {
    "duration": 29,
    "start_time": "2022-02-07T22:12:25.076Z"
   },
   {
    "duration": 29,
    "start_time": "2022-02-07T22:12:25.107Z"
   },
   {
    "duration": 20,
    "start_time": "2022-02-07T22:12:25.137Z"
   },
   {
    "duration": 16,
    "start_time": "2022-02-07T22:12:25.158Z"
   },
   {
    "duration": 22,
    "start_time": "2022-02-07T22:12:25.176Z"
   },
   {
    "duration": 24,
    "start_time": "2022-02-07T22:12:25.200Z"
   },
   {
    "duration": 21,
    "start_time": "2022-02-07T22:12:25.226Z"
   },
   {
    "duration": 16,
    "start_time": "2022-02-07T22:12:25.249Z"
   },
   {
    "duration": 5,
    "start_time": "2022-02-07T22:12:25.267Z"
   },
   {
    "duration": 3708,
    "start_time": "2022-02-07T22:12:25.273Z"
   },
   {
    "duration": 17,
    "start_time": "2022-02-07T22:12:28.984Z"
   },
   {
    "duration": 18,
    "start_time": "2022-02-07T22:12:29.002Z"
   },
   {
    "duration": 8,
    "start_time": "2022-02-07T22:12:29.021Z"
   },
   {
    "duration": 37,
    "start_time": "2022-02-07T22:12:29.031Z"
   },
   {
    "duration": 5,
    "start_time": "2022-02-07T22:12:29.070Z"
   },
   {
    "duration": 24,
    "start_time": "2022-02-07T22:12:29.078Z"
   },
   {
    "duration": 7,
    "start_time": "2022-02-07T22:12:29.104Z"
   },
   {
    "duration": 22,
    "start_time": "2022-02-07T22:12:29.112Z"
   },
   {
    "duration": 42,
    "start_time": "2022-02-07T22:12:29.136Z"
   },
   {
    "duration": 13,
    "start_time": "2022-02-07T22:12:29.180Z"
   },
   {
    "duration": 13,
    "start_time": "2022-02-07T22:12:29.194Z"
   },
   {
    "duration": 13,
    "start_time": "2022-02-07T22:12:29.209Z"
   },
   {
    "duration": 4,
    "start_time": "2022-02-07T22:12:53.311Z"
   },
   {
    "duration": 72,
    "start_time": "2022-02-07T22:12:53.317Z"
   },
   {
    "duration": 11,
    "start_time": "2022-02-07T22:12:53.391Z"
   },
   {
    "duration": 9,
    "start_time": "2022-02-07T22:12:53.404Z"
   },
   {
    "duration": 3,
    "start_time": "2022-02-07T22:12:53.415Z"
   },
   {
    "duration": 44,
    "start_time": "2022-02-07T22:12:53.420Z"
   },
   {
    "duration": 394,
    "start_time": "2022-02-07T22:12:53.466Z"
   },
   {
    "duration": 13,
    "start_time": "2022-02-07T22:12:53.861Z"
   },
   {
    "duration": 16,
    "start_time": "2022-02-07T22:12:53.877Z"
   },
   {
    "duration": 881,
    "start_time": "2022-02-07T22:12:53.895Z"
   },
   {
    "duration": 14,
    "start_time": "2022-02-07T22:12:54.778Z"
   },
   {
    "duration": 7,
    "start_time": "2022-02-07T22:12:54.794Z"
   },
   {
    "duration": 7,
    "start_time": "2022-02-07T22:12:54.803Z"
   },
   {
    "duration": 9,
    "start_time": "2022-02-07T22:12:54.812Z"
   },
   {
    "duration": 349,
    "start_time": "2022-02-07T22:12:54.823Z"
   },
   {
    "duration": 5,
    "start_time": "2022-02-07T22:12:55.174Z"
   },
   {
    "duration": 9,
    "start_time": "2022-02-07T22:12:55.180Z"
   },
   {
    "duration": 6,
    "start_time": "2022-02-07T22:12:55.191Z"
   },
   {
    "duration": 8,
    "start_time": "2022-02-07T22:12:55.198Z"
   },
   {
    "duration": 15,
    "start_time": "2022-02-07T22:12:55.208Z"
   },
   {
    "duration": 44,
    "start_time": "2022-02-07T22:12:55.224Z"
   },
   {
    "duration": 11,
    "start_time": "2022-02-07T22:12:55.270Z"
   },
   {
    "duration": 14,
    "start_time": "2022-02-07T22:12:55.283Z"
   },
   {
    "duration": 6,
    "start_time": "2022-02-07T22:12:55.298Z"
   },
   {
    "duration": 11,
    "start_time": "2022-02-07T22:12:55.306Z"
   },
   {
    "duration": 7,
    "start_time": "2022-02-07T22:12:55.319Z"
   },
   {
    "duration": 242,
    "start_time": "2022-02-07T22:12:55.329Z"
   },
   {
    "duration": 37,
    "start_time": "2022-02-07T22:12:55.536Z"
   },
   {
    "duration": 35,
    "start_time": "2022-02-07T22:12:55.539Z"
   },
   {
    "duration": 32,
    "start_time": "2022-02-07T22:12:55.543Z"
   },
   {
    "duration": 30,
    "start_time": "2022-02-07T22:12:55.546Z"
   },
   {
    "duration": 28,
    "start_time": "2022-02-07T22:12:55.549Z"
   },
   {
    "duration": 25,
    "start_time": "2022-02-07T22:12:55.553Z"
   },
   {
    "duration": 23,
    "start_time": "2022-02-07T22:12:55.556Z"
   },
   {
    "duration": 22,
    "start_time": "2022-02-07T22:12:55.559Z"
   },
   {
    "duration": 18,
    "start_time": "2022-02-07T22:12:55.563Z"
   },
   {
    "duration": 16,
    "start_time": "2022-02-07T22:12:55.566Z"
   },
   {
    "duration": 13,
    "start_time": "2022-02-07T22:12:55.570Z"
   },
   {
    "duration": 12,
    "start_time": "2022-02-07T22:12:55.573Z"
   },
   {
    "duration": 8,
    "start_time": "2022-02-07T22:12:55.577Z"
   },
   {
    "duration": 6,
    "start_time": "2022-02-07T22:12:55.580Z"
   },
   {
    "duration": 5,
    "start_time": "2022-02-07T22:12:55.583Z"
   },
   {
    "duration": 2,
    "start_time": "2022-02-07T22:12:55.587Z"
   },
   {
    "duration": 0,
    "start_time": "2022-02-07T22:12:55.590Z"
   },
   {
    "duration": -3,
    "start_time": "2022-02-07T22:12:55.594Z"
   },
   {
    "duration": -5,
    "start_time": "2022-02-07T22:12:55.597Z"
   },
   {
    "duration": -7,
    "start_time": "2022-02-07T22:12:55.600Z"
   },
   {
    "duration": -10,
    "start_time": "2022-02-07T22:12:55.604Z"
   },
   {
    "duration": -12,
    "start_time": "2022-02-07T22:12:55.607Z"
   },
   {
    "duration": 3,
    "start_time": "2022-02-07T22:14:41.209Z"
   },
   {
    "duration": 64,
    "start_time": "2022-02-07T22:14:41.214Z"
   },
   {
    "duration": 11,
    "start_time": "2022-02-07T22:14:41.280Z"
   },
   {
    "duration": 11,
    "start_time": "2022-02-07T22:14:41.293Z"
   },
   {
    "duration": 4,
    "start_time": "2022-02-07T22:14:41.305Z"
   },
   {
    "duration": 14,
    "start_time": "2022-02-07T22:14:41.310Z"
   },
   {
    "duration": 431,
    "start_time": "2022-02-07T22:14:41.325Z"
   },
   {
    "duration": 14,
    "start_time": "2022-02-07T22:14:41.758Z"
   },
   {
    "duration": 15,
    "start_time": "2022-02-07T22:14:41.774Z"
   },
   {
    "duration": 899,
    "start_time": "2022-02-07T22:14:41.791Z"
   },
   {
    "duration": 13,
    "start_time": "2022-02-07T22:14:42.692Z"
   },
   {
    "duration": 6,
    "start_time": "2022-02-07T22:14:42.706Z"
   },
   {
    "duration": 8,
    "start_time": "2022-02-07T22:14:42.714Z"
   },
   {
    "duration": 7,
    "start_time": "2022-02-07T22:14:42.724Z"
   },
   {
    "duration": 352,
    "start_time": "2022-02-07T22:14:42.733Z"
   },
   {
    "duration": 3,
    "start_time": "2022-02-07T22:14:43.087Z"
   },
   {
    "duration": 11,
    "start_time": "2022-02-07T22:14:43.092Z"
   },
   {
    "duration": 7,
    "start_time": "2022-02-07T22:14:43.105Z"
   },
   {
    "duration": 10,
    "start_time": "2022-02-07T22:14:43.114Z"
   },
   {
    "duration": 10,
    "start_time": "2022-02-07T22:14:43.126Z"
   },
   {
    "duration": 35,
    "start_time": "2022-02-07T22:14:43.137Z"
   },
   {
    "duration": 15,
    "start_time": "2022-02-07T22:14:43.174Z"
   },
   {
    "duration": 9,
    "start_time": "2022-02-07T22:14:43.190Z"
   },
   {
    "duration": 10,
    "start_time": "2022-02-07T22:14:43.200Z"
   },
   {
    "duration": 7,
    "start_time": "2022-02-07T22:14:43.212Z"
   },
   {
    "duration": 7,
    "start_time": "2022-02-07T22:14:43.221Z"
   },
   {
    "duration": 261,
    "start_time": "2022-02-07T22:14:43.232Z"
   },
   {
    "duration": 14,
    "start_time": "2022-02-07T22:14:43.481Z"
   },
   {
    "duration": 11,
    "start_time": "2022-02-07T22:14:43.485Z"
   },
   {
    "duration": 8,
    "start_time": "2022-02-07T22:14:43.489Z"
   },
   {
    "duration": 6,
    "start_time": "2022-02-07T22:14:43.492Z"
   },
   {
    "duration": 4,
    "start_time": "2022-02-07T22:14:43.495Z"
   },
   {
    "duration": 1,
    "start_time": "2022-02-07T22:14:43.499Z"
   },
   {
    "duration": -1,
    "start_time": "2022-02-07T22:14:43.502Z"
   },
   {
    "duration": -4,
    "start_time": "2022-02-07T22:14:43.506Z"
   },
   {
    "duration": -7,
    "start_time": "2022-02-07T22:14:43.509Z"
   },
   {
    "duration": -9,
    "start_time": "2022-02-07T22:14:43.512Z"
   },
   {
    "duration": -12,
    "start_time": "2022-02-07T22:14:43.516Z"
   },
   {
    "duration": -13,
    "start_time": "2022-02-07T22:14:43.519Z"
   },
   {
    "duration": -17,
    "start_time": "2022-02-07T22:14:43.523Z"
   },
   {
    "duration": -19,
    "start_time": "2022-02-07T22:14:43.526Z"
   },
   {
    "duration": -21,
    "start_time": "2022-02-07T22:14:43.529Z"
   },
   {
    "duration": -24,
    "start_time": "2022-02-07T22:14:43.533Z"
   },
   {
    "duration": -26,
    "start_time": "2022-02-07T22:14:43.536Z"
   },
   {
    "duration": -29,
    "start_time": "2022-02-07T22:14:43.540Z"
   },
   {
    "duration": -31,
    "start_time": "2022-02-07T22:14:43.543Z"
   },
   {
    "duration": -33,
    "start_time": "2022-02-07T22:14:43.546Z"
   },
   {
    "duration": -35,
    "start_time": "2022-02-07T22:14:43.549Z"
   },
   {
    "duration": -38,
    "start_time": "2022-02-07T22:14:43.553Z"
   },
   {
    "duration": 308,
    "start_time": "2022-02-07T22:25:24.403Z"
   },
   {
    "duration": 2,
    "start_time": "2022-02-07T22:25:28.693Z"
   },
   {
    "duration": 66,
    "start_time": "2022-02-07T22:25:28.697Z"
   },
   {
    "duration": 9,
    "start_time": "2022-02-07T22:25:28.765Z"
   },
   {
    "duration": 8,
    "start_time": "2022-02-07T22:25:28.776Z"
   },
   {
    "duration": 4,
    "start_time": "2022-02-07T22:25:28.785Z"
   },
   {
    "duration": 9,
    "start_time": "2022-02-07T22:25:28.790Z"
   },
   {
    "duration": 404,
    "start_time": "2022-02-07T22:25:28.800Z"
   },
   {
    "duration": 10,
    "start_time": "2022-02-07T22:25:29.206Z"
   },
   {
    "duration": 14,
    "start_time": "2022-02-07T22:25:29.219Z"
   },
   {
    "duration": 856,
    "start_time": "2022-02-07T22:25:29.235Z"
   },
   {
    "duration": 12,
    "start_time": "2022-02-07T22:25:30.093Z"
   },
   {
    "duration": 5,
    "start_time": "2022-02-07T22:25:30.107Z"
   },
   {
    "duration": 9,
    "start_time": "2022-02-07T22:25:30.114Z"
   },
   {
    "duration": 8,
    "start_time": "2022-02-07T22:25:30.124Z"
   },
   {
    "duration": 352,
    "start_time": "2022-02-07T22:25:30.134Z"
   },
   {
    "duration": 3,
    "start_time": "2022-02-07T22:25:30.488Z"
   },
   {
    "duration": 11,
    "start_time": "2022-02-07T22:25:30.493Z"
   },
   {
    "duration": 6,
    "start_time": "2022-02-07T22:25:30.506Z"
   },
   {
    "duration": 12,
    "start_time": "2022-02-07T22:25:30.513Z"
   },
   {
    "duration": 17,
    "start_time": "2022-02-07T22:25:30.526Z"
   },
   {
    "duration": 22,
    "start_time": "2022-02-07T22:25:30.545Z"
   },
   {
    "duration": 8,
    "start_time": "2022-02-07T22:25:30.569Z"
   },
   {
    "duration": 14,
    "start_time": "2022-02-07T22:25:30.578Z"
   },
   {
    "duration": 7,
    "start_time": "2022-02-07T22:25:30.594Z"
   },
   {
    "duration": 14,
    "start_time": "2022-02-07T22:25:30.603Z"
   },
   {
    "duration": 8,
    "start_time": "2022-02-07T22:25:30.618Z"
   },
   {
    "duration": 200,
    "start_time": "2022-02-07T22:25:30.630Z"
   },
   {
    "duration": 27,
    "start_time": "2022-02-07T22:25:30.805Z"
   },
   {
    "duration": 25,
    "start_time": "2022-02-07T22:25:30.808Z"
   },
   {
    "duration": 22,
    "start_time": "2022-02-07T22:25:30.812Z"
   },
   {
    "duration": 19,
    "start_time": "2022-02-07T22:25:30.816Z"
   },
   {
    "duration": 17,
    "start_time": "2022-02-07T22:25:30.819Z"
   },
   {
    "duration": 14,
    "start_time": "2022-02-07T22:25:30.823Z"
   },
   {
    "duration": 11,
    "start_time": "2022-02-07T22:25:30.827Z"
   },
   {
    "duration": 8,
    "start_time": "2022-02-07T22:25:30.831Z"
   },
   {
    "duration": 6,
    "start_time": "2022-02-07T22:25:30.834Z"
   },
   {
    "duration": 3,
    "start_time": "2022-02-07T22:25:30.838Z"
   },
   {
    "duration": 1,
    "start_time": "2022-02-07T22:25:30.841Z"
   },
   {
    "duration": -2,
    "start_time": "2022-02-07T22:25:30.845Z"
   },
   {
    "duration": -4,
    "start_time": "2022-02-07T22:25:30.848Z"
   },
   {
    "duration": -7,
    "start_time": "2022-02-07T22:25:30.852Z"
   },
   {
    "duration": -9,
    "start_time": "2022-02-07T22:25:30.855Z"
   },
   {
    "duration": -12,
    "start_time": "2022-02-07T22:25:30.859Z"
   },
   {
    "duration": -14,
    "start_time": "2022-02-07T22:25:30.862Z"
   },
   {
    "duration": -17,
    "start_time": "2022-02-07T22:25:30.866Z"
   },
   {
    "duration": -20,
    "start_time": "2022-02-07T22:25:30.869Z"
   },
   {
    "duration": -23,
    "start_time": "2022-02-07T22:25:30.873Z"
   },
   {
    "duration": -25,
    "start_time": "2022-02-07T22:25:30.876Z"
   },
   {
    "duration": -27,
    "start_time": "2022-02-07T22:25:30.879Z"
   },
   {
    "duration": 2,
    "start_time": "2022-02-07T22:31:10.670Z"
   },
   {
    "duration": 69,
    "start_time": "2022-02-07T22:31:10.675Z"
   },
   {
    "duration": 12,
    "start_time": "2022-02-07T22:31:10.747Z"
   },
   {
    "duration": 13,
    "start_time": "2022-02-07T22:31:10.760Z"
   },
   {
    "duration": 3,
    "start_time": "2022-02-07T22:31:10.775Z"
   },
   {
    "duration": 24,
    "start_time": "2022-02-07T22:31:10.780Z"
   },
   {
    "duration": 377,
    "start_time": "2022-02-07T22:31:10.806Z"
   },
   {
    "duration": 12,
    "start_time": "2022-02-07T22:31:11.185Z"
   },
   {
    "duration": 26,
    "start_time": "2022-02-07T22:31:11.200Z"
   },
   {
    "duration": 874,
    "start_time": "2022-02-07T22:31:11.228Z"
   },
   {
    "duration": 12,
    "start_time": "2022-02-07T22:31:12.103Z"
   },
   {
    "duration": 9,
    "start_time": "2022-02-07T22:31:12.117Z"
   },
   {
    "duration": 20,
    "start_time": "2022-02-07T22:31:12.127Z"
   },
   {
    "duration": 17,
    "start_time": "2022-02-07T22:31:12.148Z"
   },
   {
    "duration": 319,
    "start_time": "2022-02-07T22:31:12.166Z"
   },
   {
    "duration": 3,
    "start_time": "2022-02-07T22:31:12.487Z"
   },
   {
    "duration": 19,
    "start_time": "2022-02-07T22:31:12.491Z"
   },
   {
    "duration": 7,
    "start_time": "2022-02-07T22:31:12.511Z"
   },
   {
    "duration": 25,
    "start_time": "2022-02-07T22:31:12.519Z"
   },
   {
    "duration": 23,
    "start_time": "2022-02-07T22:31:12.546Z"
   },
   {
    "duration": 25,
    "start_time": "2022-02-07T22:31:12.570Z"
   },
   {
    "duration": 21,
    "start_time": "2022-02-07T22:31:12.597Z"
   },
   {
    "duration": 28,
    "start_time": "2022-02-07T22:31:12.620Z"
   },
   {
    "duration": 25,
    "start_time": "2022-02-07T22:31:12.649Z"
   },
   {
    "duration": 21,
    "start_time": "2022-02-07T22:31:12.676Z"
   },
   {
    "duration": 18,
    "start_time": "2022-02-07T22:31:12.698Z"
   },
   {
    "duration": 190,
    "start_time": "2022-02-07T22:31:12.719Z"
   },
   {
    "duration": -34,
    "start_time": "2022-02-07T22:31:12.945Z"
   },
   {
    "duration": -38,
    "start_time": "2022-02-07T22:31:12.950Z"
   },
   {
    "duration": -41,
    "start_time": "2022-02-07T22:31:12.954Z"
   },
   {
    "duration": -44,
    "start_time": "2022-02-07T22:31:12.958Z"
   },
   {
    "duration": -47,
    "start_time": "2022-02-07T22:31:12.962Z"
   },
   {
    "duration": -50,
    "start_time": "2022-02-07T22:31:12.966Z"
   },
   {
    "duration": -86,
    "start_time": "2022-02-07T22:31:13.003Z"
   },
   {
    "duration": -90,
    "start_time": "2022-02-07T22:31:13.007Z"
   },
   {
    "duration": -93,
    "start_time": "2022-02-07T22:31:13.011Z"
   },
   {
    "duration": -96,
    "start_time": "2022-02-07T22:31:13.015Z"
   },
   {
    "duration": -100,
    "start_time": "2022-02-07T22:31:13.020Z"
   },
   {
    "duration": -104,
    "start_time": "2022-02-07T22:31:13.025Z"
   },
   {
    "duration": -108,
    "start_time": "2022-02-07T22:31:13.029Z"
   },
   {
    "duration": -110,
    "start_time": "2022-02-07T22:31:13.032Z"
   },
   {
    "duration": -113,
    "start_time": "2022-02-07T22:31:13.036Z"
   },
   {
    "duration": -116,
    "start_time": "2022-02-07T22:31:13.040Z"
   },
   {
    "duration": -121,
    "start_time": "2022-02-07T22:31:13.045Z"
   },
   {
    "duration": -124,
    "start_time": "2022-02-07T22:31:13.049Z"
   },
   {
    "duration": -127,
    "start_time": "2022-02-07T22:31:13.053Z"
   },
   {
    "duration": -129,
    "start_time": "2022-02-07T22:31:13.056Z"
   },
   {
    "duration": -132,
    "start_time": "2022-02-07T22:31:13.060Z"
   },
   {
    "duration": -136,
    "start_time": "2022-02-07T22:31:13.064Z"
   },
   {
    "duration": 3,
    "start_time": "2022-02-07T22:57:40.781Z"
   },
   {
    "duration": 67,
    "start_time": "2022-02-07T22:57:40.786Z"
   },
   {
    "duration": 10,
    "start_time": "2022-02-07T22:57:40.855Z"
   },
   {
    "duration": 10,
    "start_time": "2022-02-07T22:57:40.866Z"
   },
   {
    "duration": 4,
    "start_time": "2022-02-07T22:57:40.877Z"
   },
   {
    "duration": 12,
    "start_time": "2022-02-07T22:57:40.882Z"
   },
   {
    "duration": 396,
    "start_time": "2022-02-07T22:57:40.896Z"
   },
   {
    "duration": 11,
    "start_time": "2022-02-07T22:57:41.293Z"
   },
   {
    "duration": 15,
    "start_time": "2022-02-07T22:57:41.307Z"
   },
   {
    "duration": 913,
    "start_time": "2022-02-07T22:57:41.324Z"
   },
   {
    "duration": 12,
    "start_time": "2022-02-07T22:57:42.239Z"
   },
   {
    "duration": 5,
    "start_time": "2022-02-07T22:57:42.259Z"
   },
   {
    "duration": 7,
    "start_time": "2022-02-07T22:57:42.265Z"
   },
   {
    "duration": 8,
    "start_time": "2022-02-07T22:57:42.273Z"
   },
   {
    "duration": 335,
    "start_time": "2022-02-07T22:57:42.283Z"
   },
   {
    "duration": 3,
    "start_time": "2022-02-07T22:57:42.620Z"
   },
   {
    "duration": 9,
    "start_time": "2022-02-07T22:57:42.625Z"
   },
   {
    "duration": 6,
    "start_time": "2022-02-07T22:57:42.635Z"
   },
   {
    "duration": 19,
    "start_time": "2022-02-07T22:57:42.642Z"
   },
   {
    "duration": 8,
    "start_time": "2022-02-07T22:57:42.662Z"
   },
   {
    "duration": 13,
    "start_time": "2022-02-07T22:57:42.671Z"
   },
   {
    "duration": 18,
    "start_time": "2022-02-07T22:57:42.686Z"
   },
   {
    "duration": 9,
    "start_time": "2022-02-07T22:57:42.706Z"
   },
   {
    "duration": 10,
    "start_time": "2022-02-07T22:57:42.716Z"
   },
   {
    "duration": 8,
    "start_time": "2022-02-07T22:57:42.727Z"
   },
   {
    "duration": 6,
    "start_time": "2022-02-07T22:57:42.760Z"
   },
   {
    "duration": 184,
    "start_time": "2022-02-07T22:57:42.769Z"
   },
   {
    "duration": 49,
    "start_time": "2022-02-07T22:57:42.907Z"
   },
   {
    "duration": 45,
    "start_time": "2022-02-07T22:57:42.912Z"
   },
   {
    "duration": 43,
    "start_time": "2022-02-07T22:57:42.916Z"
   },
   {
    "duration": 38,
    "start_time": "2022-02-07T22:57:42.922Z"
   },
   {
    "duration": 35,
    "start_time": "2022-02-07T22:57:42.927Z"
   },
   {
    "duration": 31,
    "start_time": "2022-02-07T22:57:42.932Z"
   },
   {
    "duration": 28,
    "start_time": "2022-02-07T22:57:42.936Z"
   },
   {
    "duration": 26,
    "start_time": "2022-02-07T22:57:42.940Z"
   },
   {
    "duration": 21,
    "start_time": "2022-02-07T22:57:42.946Z"
   },
   {
    "duration": 19,
    "start_time": "2022-02-07T22:57:42.950Z"
   },
   {
    "duration": 16,
    "start_time": "2022-02-07T22:57:42.954Z"
   },
   {
    "duration": 11,
    "start_time": "2022-02-07T22:57:42.960Z"
   },
   {
    "duration": 8,
    "start_time": "2022-02-07T22:57:42.965Z"
   },
   {
    "duration": 5,
    "start_time": "2022-02-07T22:57:42.969Z"
   },
   {
    "duration": 4,
    "start_time": "2022-02-07T22:57:42.972Z"
   },
   {
    "duration": -1,
    "start_time": "2022-02-07T22:57:42.978Z"
   },
   {
    "duration": -3,
    "start_time": "2022-02-07T22:57:42.981Z"
   },
   {
    "duration": -6,
    "start_time": "2022-02-07T22:57:42.986Z"
   },
   {
    "duration": -8,
    "start_time": "2022-02-07T22:57:42.989Z"
   },
   {
    "duration": -13,
    "start_time": "2022-02-07T22:57:42.995Z"
   },
   {
    "duration": -14,
    "start_time": "2022-02-07T22:57:42.998Z"
   },
   {
    "duration": -17,
    "start_time": "2022-02-07T22:57:43.002Z"
   },
   {
    "duration": 15,
    "start_time": "2022-02-07T22:57:56.133Z"
   },
   {
    "duration": 911,
    "start_time": "2022-02-07T22:58:10.888Z"
   },
   {
    "duration": 12,
    "start_time": "2022-02-07T22:58:39.069Z"
   },
   {
    "duration": 1046,
    "start_time": "2022-02-07T22:58:45.700Z"
   },
   {
    "duration": 604,
    "start_time": "2022-02-07T22:59:47.948Z"
   },
   {
    "duration": 3,
    "start_time": "2022-02-07T22:59:58.156Z"
   },
   {
    "duration": 63,
    "start_time": "2022-02-07T22:59:58.161Z"
   },
   {
    "duration": 10,
    "start_time": "2022-02-07T22:59:58.226Z"
   },
   {
    "duration": 29,
    "start_time": "2022-02-07T22:59:58.237Z"
   },
   {
    "duration": 4,
    "start_time": "2022-02-07T22:59:58.268Z"
   },
   {
    "duration": 10,
    "start_time": "2022-02-07T22:59:58.273Z"
   },
   {
    "duration": 381,
    "start_time": "2022-02-07T22:59:58.285Z"
   },
   {
    "duration": 11,
    "start_time": "2022-02-07T22:59:58.668Z"
   },
   {
    "duration": 14,
    "start_time": "2022-02-07T22:59:58.682Z"
   },
   {
    "duration": 7282,
    "start_time": "2022-02-07T22:59:58.698Z"
   },
   {
    "duration": 20,
    "start_time": "2022-02-07T23:00:05.962Z"
   },
   {
    "duration": 17,
    "start_time": "2022-02-07T23:00:05.966Z"
   },
   {
    "duration": 14,
    "start_time": "2022-02-07T23:00:05.970Z"
   },
   {
    "duration": 10,
    "start_time": "2022-02-07T23:00:05.975Z"
   },
   {
    "duration": 7,
    "start_time": "2022-02-07T23:00:05.979Z"
   },
   {
    "duration": 4,
    "start_time": "2022-02-07T23:00:05.983Z"
   },
   {
    "duration": 2,
    "start_time": "2022-02-07T23:00:05.986Z"
   },
   {
    "duration": -2,
    "start_time": "2022-02-07T23:00:05.991Z"
   },
   {
    "duration": -6,
    "start_time": "2022-02-07T23:00:05.996Z"
   },
   {
    "duration": -9,
    "start_time": "2022-02-07T23:00:06.000Z"
   },
   {
    "duration": -11,
    "start_time": "2022-02-07T23:00:06.003Z"
   },
   {
    "duration": -14,
    "start_time": "2022-02-07T23:00:06.007Z"
   },
   {
    "duration": -18,
    "start_time": "2022-02-07T23:00:06.012Z"
   },
   {
    "duration": -22,
    "start_time": "2022-02-07T23:00:06.016Z"
   },
   {
    "duration": -24,
    "start_time": "2022-02-07T23:00:06.019Z"
   },
   {
    "duration": -27,
    "start_time": "2022-02-07T23:00:06.023Z"
   },
   {
    "duration": -32,
    "start_time": "2022-02-07T23:00:06.029Z"
   },
   {
    "duration": -34,
    "start_time": "2022-02-07T23:00:06.032Z"
   },
   {
    "duration": -37,
    "start_time": "2022-02-07T23:00:06.036Z"
   },
   {
    "duration": -40,
    "start_time": "2022-02-07T23:00:06.040Z"
   },
   {
    "duration": -45,
    "start_time": "2022-02-07T23:00:06.046Z"
   },
   {
    "duration": -47,
    "start_time": "2022-02-07T23:00:06.049Z"
   },
   {
    "duration": -50,
    "start_time": "2022-02-07T23:00:06.053Z"
   },
   {
    "duration": -53,
    "start_time": "2022-02-07T23:00:06.057Z"
   },
   {
    "duration": -80,
    "start_time": "2022-02-07T23:00:06.084Z"
   },
   {
    "duration": -83,
    "start_time": "2022-02-07T23:00:06.088Z"
   },
   {
    "duration": -76,
    "start_time": "2022-02-07T23:00:06.095Z"
   },
   {
    "duration": -78,
    "start_time": "2022-02-07T23:00:06.098Z"
   },
   {
    "duration": -80,
    "start_time": "2022-02-07T23:00:06.101Z"
   },
   {
    "duration": -82,
    "start_time": "2022-02-07T23:00:06.104Z"
   },
   {
    "duration": -87,
    "start_time": "2022-02-07T23:00:06.110Z"
   },
   {
    "duration": -91,
    "start_time": "2022-02-07T23:00:06.114Z"
   },
   {
    "duration": -93,
    "start_time": "2022-02-07T23:00:06.117Z"
   },
   {
    "duration": -97,
    "start_time": "2022-02-07T23:00:06.121Z"
   },
   {
    "duration": -102,
    "start_time": "2022-02-07T23:00:06.127Z"
   },
   {
    "duration": -104,
    "start_time": "2022-02-07T23:00:06.130Z"
   },
   {
    "duration": -76,
    "start_time": "2022-02-07T23:00:06.134Z"
   },
   {
    "duration": -78,
    "start_time": "2022-02-07T23:00:06.137Z"
   },
   {
    "duration": -84,
    "start_time": "2022-02-07T23:00:06.144Z"
   },
   {
    "duration": 328,
    "start_time": "2022-02-07T23:00:30.773Z"
   },
   {
    "duration": 69,
    "start_time": "2022-02-07T23:01:03.132Z"
   },
   {
    "duration": 2,
    "start_time": "2022-02-07T23:01:09.182Z"
   },
   {
    "duration": 63,
    "start_time": "2022-02-07T23:01:09.186Z"
   },
   {
    "duration": 10,
    "start_time": "2022-02-07T23:01:09.251Z"
   },
   {
    "duration": 14,
    "start_time": "2022-02-07T23:01:09.262Z"
   },
   {
    "duration": 3,
    "start_time": "2022-02-07T23:01:09.277Z"
   },
   {
    "duration": 9,
    "start_time": "2022-02-07T23:01:09.282Z"
   },
   {
    "duration": 386,
    "start_time": "2022-02-07T23:01:09.292Z"
   },
   {
    "duration": 10,
    "start_time": "2022-02-07T23:01:09.680Z"
   },
   {
    "duration": 16,
    "start_time": "2022-02-07T23:01:09.692Z"
   },
   {
    "duration": 56,
    "start_time": "2022-02-07T23:01:09.710Z"
   },
   {
    "duration": 102,
    "start_time": "2022-02-07T23:01:09.666Z"
   },
   {
    "duration": 98,
    "start_time": "2022-02-07T23:01:09.671Z"
   },
   {
    "duration": 94,
    "start_time": "2022-02-07T23:01:09.676Z"
   },
   {
    "duration": 90,
    "start_time": "2022-02-07T23:01:09.680Z"
   },
   {
    "duration": 87,
    "start_time": "2022-02-07T23:01:09.684Z"
   },
   {
    "duration": 85,
    "start_time": "2022-02-07T23:01:09.687Z"
   },
   {
    "duration": 82,
    "start_time": "2022-02-07T23:01:09.691Z"
   },
   {
    "duration": 80,
    "start_time": "2022-02-07T23:01:09.694Z"
   },
   {
    "duration": 76,
    "start_time": "2022-02-07T23:01:09.698Z"
   },
   {
    "duration": 75,
    "start_time": "2022-02-07T23:01:09.701Z"
   },
   {
    "duration": 63,
    "start_time": "2022-02-07T23:01:09.714Z"
   },
   {
    "duration": 61,
    "start_time": "2022-02-07T23:01:09.717Z"
   },
   {
    "duration": 58,
    "start_time": "2022-02-07T23:01:09.721Z"
   },
   {
    "duration": 56,
    "start_time": "2022-02-07T23:01:09.724Z"
   },
   {
    "duration": 53,
    "start_time": "2022-02-07T23:01:09.728Z"
   },
   {
    "duration": 28,
    "start_time": "2022-02-07T23:01:09.754Z"
   },
   {
    "duration": 23,
    "start_time": "2022-02-07T23:01:09.759Z"
   },
   {
    "duration": 20,
    "start_time": "2022-02-07T23:01:09.763Z"
   },
   {
    "duration": 15,
    "start_time": "2022-02-07T23:01:09.769Z"
   },
   {
    "duration": 14,
    "start_time": "2022-02-07T23:01:09.772Z"
   },
   {
    "duration": 10,
    "start_time": "2022-02-07T23:01:09.776Z"
   },
   {
    "duration": 8,
    "start_time": "2022-02-07T23:01:09.779Z"
   },
   {
    "duration": 5,
    "start_time": "2022-02-07T23:01:09.783Z"
   },
   {
    "duration": 3,
    "start_time": "2022-02-07T23:01:09.786Z"
   },
   {
    "duration": 0,
    "start_time": "2022-02-07T23:01:09.790Z"
   },
   {
    "duration": -2,
    "start_time": "2022-02-07T23:01:09.793Z"
   },
   {
    "duration": -4,
    "start_time": "2022-02-07T23:01:09.796Z"
   },
   {
    "duration": -7,
    "start_time": "2022-02-07T23:01:09.800Z"
   },
   {
    "duration": -9,
    "start_time": "2022-02-07T23:01:09.803Z"
   },
   {
    "duration": -12,
    "start_time": "2022-02-07T23:01:09.807Z"
   },
   {
    "duration": -14,
    "start_time": "2022-02-07T23:01:09.810Z"
   },
   {
    "duration": -17,
    "start_time": "2022-02-07T23:01:09.814Z"
   },
   {
    "duration": -19,
    "start_time": "2022-02-07T23:01:09.817Z"
   },
   {
    "duration": -21,
    "start_time": "2022-02-07T23:01:09.820Z"
   },
   {
    "duration": -24,
    "start_time": "2022-02-07T23:01:09.824Z"
   },
   {
    "duration": -27,
    "start_time": "2022-02-07T23:01:09.828Z"
   },
   {
    "duration": -30,
    "start_time": "2022-02-07T23:01:09.832Z"
   },
   {
    "duration": -32,
    "start_time": "2022-02-07T23:01:09.835Z"
   },
   {
    "duration": -35,
    "start_time": "2022-02-07T23:01:09.839Z"
   },
   {
    "duration": 66,
    "start_time": "2022-02-07T23:08:42.686Z"
   },
   {
    "duration": 938,
    "start_time": "2022-02-08T18:59:49.913Z"
   },
   {
    "duration": 99,
    "start_time": "2022-02-08T18:59:50.854Z"
   },
   {
    "duration": 752,
    "start_time": "2022-02-08T18:59:50.956Z"
   },
   {
    "duration": 15,
    "start_time": "2022-02-08T18:59:51.711Z"
   },
   {
    "duration": 10,
    "start_time": "2022-02-08T18:59:51.729Z"
   },
   {
    "duration": 27,
    "start_time": "2022-02-08T18:59:51.742Z"
   },
   {
    "duration": 826,
    "start_time": "2022-02-08T18:59:51.771Z"
   },
   {
    "duration": 15,
    "start_time": "2022-02-08T18:59:52.601Z"
   },
   {
    "duration": 36,
    "start_time": "2022-02-08T18:59:52.620Z"
   },
   {
    "duration": 15,
    "start_time": "2022-02-08T18:59:52.658Z"
   },
   {
    "duration": 8,
    "start_time": "2022-02-08T18:59:52.676Z"
   },
   {
    "duration": 8,
    "start_time": "2022-02-08T18:59:52.686Z"
   },
   {
    "duration": 16,
    "start_time": "2022-02-08T18:59:52.734Z"
   },
   {
    "duration": 675,
    "start_time": "2022-02-08T18:59:52.753Z"
   },
   {
    "duration": 10,
    "start_time": "2022-02-08T18:59:53.432Z"
   },
   {
    "duration": 18,
    "start_time": "2022-02-08T18:59:53.445Z"
   },
   {
    "duration": 10,
    "start_time": "2022-02-08T18:59:53.465Z"
   },
   {
    "duration": 29,
    "start_time": "2022-02-08T18:59:53.477Z"
   },
   {
    "duration": 33,
    "start_time": "2022-02-08T18:59:53.509Z"
   },
   {
    "duration": 19,
    "start_time": "2022-02-08T18:59:53.546Z"
   },
   {
    "duration": 17,
    "start_time": "2022-02-08T18:59:53.567Z"
   },
   {
    "duration": 14,
    "start_time": "2022-02-08T18:59:53.587Z"
   },
   {
    "duration": 35,
    "start_time": "2022-02-08T18:59:53.609Z"
   },
   {
    "duration": 18,
    "start_time": "2022-02-08T18:59:53.648Z"
   },
   {
    "duration": 19,
    "start_time": "2022-02-08T18:59:53.669Z"
   },
   {
    "duration": 7,
    "start_time": "2022-02-08T18:59:53.691Z"
   },
   {
    "duration": 42,
    "start_time": "2022-02-08T18:59:53.700Z"
   },
   {
    "duration": 33,
    "start_time": "2022-02-08T18:59:53.747Z"
   },
   {
    "duration": 16,
    "start_time": "2022-02-08T18:59:53.782Z"
   },
   {
    "duration": 46,
    "start_time": "2022-02-08T18:59:53.801Z"
   },
   {
    "duration": 29,
    "start_time": "2022-02-08T18:59:53.850Z"
   },
   {
    "duration": 31,
    "start_time": "2022-02-08T18:59:53.882Z"
   },
   {
    "duration": 39,
    "start_time": "2022-02-08T18:59:53.932Z"
   },
   {
    "duration": 23,
    "start_time": "2022-02-08T18:59:53.974Z"
   },
   {
    "duration": 37,
    "start_time": "2022-02-08T18:59:53.999Z"
   },
   {
    "duration": 6131,
    "start_time": "2022-02-08T18:59:54.041Z"
   },
   {
    "duration": 29,
    "start_time": "2022-02-08T19:00:00.175Z"
   },
   {
    "duration": 56,
    "start_time": "2022-02-08T19:00:00.206Z"
   },
   {
    "duration": 9,
    "start_time": "2022-02-08T19:00:00.264Z"
   },
   {
    "duration": 34,
    "start_time": "2022-02-08T19:00:00.275Z"
   },
   {
    "duration": 47,
    "start_time": "2022-02-08T19:00:00.311Z"
   },
   {
    "duration": 53,
    "start_time": "2022-02-08T19:00:00.361Z"
   },
   {
    "duration": 41,
    "start_time": "2022-02-08T19:00:00.416Z"
   },
   {
    "duration": 60,
    "start_time": "2022-02-08T19:00:00.460Z"
   },
   {
    "duration": 51,
    "start_time": "2022-02-08T19:00:00.523Z"
   },
   {
    "duration": 23,
    "start_time": "2022-02-08T19:00:00.576Z"
   },
   {
    "duration": 54,
    "start_time": "2022-02-08T19:00:00.602Z"
   },
   {
    "duration": 38,
    "start_time": "2022-02-08T19:00:00.659Z"
   },
   {
    "duration": 3,
    "start_time": "2022-02-08T20:12:45.537Z"
   },
   {
    "duration": 134,
    "start_time": "2022-02-08T20:12:45.543Z"
   },
   {
    "duration": 15,
    "start_time": "2022-02-08T20:12:45.680Z"
   },
   {
    "duration": 51,
    "start_time": "2022-02-08T20:12:45.697Z"
   },
   {
    "duration": 4,
    "start_time": "2022-02-08T20:12:45.751Z"
   },
   {
    "duration": 15,
    "start_time": "2022-02-08T20:12:45.758Z"
   },
   {
    "duration": 765,
    "start_time": "2022-02-08T20:12:45.775Z"
   },
   {
    "duration": 21,
    "start_time": "2022-02-08T20:12:46.542Z"
   },
   {
    "duration": 20,
    "start_time": "2022-02-08T20:12:46.568Z"
   },
   {
    "duration": 14,
    "start_time": "2022-02-08T20:12:46.591Z"
   },
   {
    "duration": 14,
    "start_time": "2022-02-08T20:12:46.638Z"
   },
   {
    "duration": 11,
    "start_time": "2022-02-08T20:12:46.654Z"
   },
   {
    "duration": 21,
    "start_time": "2022-02-08T20:12:46.668Z"
   },
   {
    "duration": 668,
    "start_time": "2022-02-08T20:12:46.691Z"
   },
   {
    "duration": 4,
    "start_time": "2022-02-08T20:12:47.362Z"
   },
   {
    "duration": 18,
    "start_time": "2022-02-08T20:12:47.369Z"
   },
   {
    "duration": 9,
    "start_time": "2022-02-08T20:12:47.389Z"
   },
   {
    "duration": 40,
    "start_time": "2022-02-08T20:12:47.400Z"
   },
   {
    "duration": 19,
    "start_time": "2022-02-08T20:12:47.443Z"
   },
   {
    "duration": 8,
    "start_time": "2022-02-08T20:12:47.465Z"
   },
   {
    "duration": 11,
    "start_time": "2022-02-08T20:12:47.476Z"
   },
   {
    "duration": 42,
    "start_time": "2022-02-08T20:12:47.490Z"
   },
   {
    "duration": 13,
    "start_time": "2022-02-08T20:12:47.535Z"
   },
   {
    "duration": 15,
    "start_time": "2022-02-08T20:12:47.550Z"
   },
   {
    "duration": 12,
    "start_time": "2022-02-08T20:12:47.568Z"
   },
   {
    "duration": 23,
    "start_time": "2022-02-08T20:12:47.582Z"
   },
   {
    "duration": 22,
    "start_time": "2022-02-08T20:12:47.641Z"
   },
   {
    "duration": 7,
    "start_time": "2022-02-08T20:12:47.666Z"
   },
   {
    "duration": 21,
    "start_time": "2022-02-08T20:12:47.675Z"
   },
   {
    "duration": 59,
    "start_time": "2022-02-08T20:12:47.699Z"
   },
   {
    "duration": 26,
    "start_time": "2022-02-08T20:12:47.761Z"
   },
   {
    "duration": 48,
    "start_time": "2022-02-08T20:12:47.790Z"
   },
   {
    "duration": 31,
    "start_time": "2022-02-08T20:12:47.841Z"
   },
   {
    "duration": 5576,
    "start_time": "2022-02-08T20:12:47.874Z"
   },
   {
    "duration": 26,
    "start_time": "2022-02-08T20:12:53.453Z"
   },
   {
    "duration": 31,
    "start_time": "2022-02-08T20:12:53.482Z"
   },
   {
    "duration": 8,
    "start_time": "2022-02-08T20:12:53.533Z"
   },
   {
    "duration": 38,
    "start_time": "2022-02-08T20:12:53.543Z"
   },
   {
    "duration": 5,
    "start_time": "2022-02-08T20:12:53.583Z"
   },
   {
    "duration": 66,
    "start_time": "2022-02-08T20:12:53.590Z"
   },
   {
    "duration": 12,
    "start_time": "2022-02-08T20:12:53.658Z"
   },
   {
    "duration": 62,
    "start_time": "2022-02-08T20:12:53.672Z"
   },
   {
    "duration": 35,
    "start_time": "2022-02-08T20:12:53.739Z"
   },
   {
    "duration": 21,
    "start_time": "2022-02-08T20:12:53.777Z"
   },
   {
    "duration": 49,
    "start_time": "2022-02-08T20:12:53.800Z"
   },
   {
    "duration": 21,
    "start_time": "2022-02-08T20:12:53.852Z"
   },
   {
    "duration": 109,
    "start_time": "2022-02-08T20:16:07.041Z"
   },
   {
    "duration": 101,
    "start_time": "2022-02-08T20:16:15.300Z"
   },
   {
    "duration": 4,
    "start_time": "2022-02-08T20:16:21.398Z"
   },
   {
    "duration": 93,
    "start_time": "2022-02-08T20:16:21.406Z"
   },
   {
    "duration": 36,
    "start_time": "2022-02-08T20:16:21.503Z"
   },
   {
    "duration": 20,
    "start_time": "2022-02-08T20:16:21.543Z"
   },
   {
    "duration": 8,
    "start_time": "2022-02-08T20:16:21.566Z"
   },
   {
    "duration": 15,
    "start_time": "2022-02-08T20:16:21.577Z"
   },
   {
    "duration": 784,
    "start_time": "2022-02-08T20:16:21.595Z"
   },
   {
    "duration": 17,
    "start_time": "2022-02-08T20:16:22.381Z"
   },
   {
    "duration": 40,
    "start_time": "2022-02-08T20:16:22.402Z"
   },
   {
    "duration": 15,
    "start_time": "2022-02-08T20:16:22.446Z"
   },
   {
    "duration": 8,
    "start_time": "2022-02-08T20:16:22.464Z"
   },
   {
    "duration": 9,
    "start_time": "2022-02-08T20:16:22.475Z"
   },
   {
    "duration": 51,
    "start_time": "2022-02-08T20:16:22.487Z"
   },
   {
    "duration": 647,
    "start_time": "2022-02-08T20:16:22.541Z"
   },
   {
    "duration": 5,
    "start_time": "2022-02-08T20:16:23.190Z"
   },
   {
    "duration": 14,
    "start_time": "2022-02-08T20:16:23.198Z"
   },
   {
    "duration": 19,
    "start_time": "2022-02-08T20:16:23.236Z"
   },
   {
    "duration": 14,
    "start_time": "2022-02-08T20:16:23.257Z"
   },
   {
    "duration": 15,
    "start_time": "2022-02-08T20:16:23.274Z"
   },
   {
    "duration": 11,
    "start_time": "2022-02-08T20:16:23.291Z"
   },
   {
    "duration": 8,
    "start_time": "2022-02-08T20:16:23.304Z"
   },
   {
    "duration": 23,
    "start_time": "2022-02-08T20:16:23.336Z"
   },
   {
    "duration": 17,
    "start_time": "2022-02-08T20:16:23.361Z"
   },
   {
    "duration": 8,
    "start_time": "2022-02-08T20:16:23.381Z"
   },
   {
    "duration": 15,
    "start_time": "2022-02-08T20:16:23.392Z"
   },
   {
    "duration": 49,
    "start_time": "2022-02-08T20:16:23.410Z"
   },
   {
    "duration": 17,
    "start_time": "2022-02-08T20:16:23.466Z"
   },
   {
    "duration": 8,
    "start_time": "2022-02-08T20:16:23.487Z"
   },
   {
    "duration": 24,
    "start_time": "2022-02-08T20:16:23.534Z"
   },
   {
    "duration": 23,
    "start_time": "2022-02-08T20:16:23.561Z"
   },
   {
    "duration": 57,
    "start_time": "2022-02-08T20:16:23.587Z"
   },
   {
    "duration": 28,
    "start_time": "2022-02-08T20:16:23.647Z"
   },
   {
    "duration": 61,
    "start_time": "2022-02-08T20:16:23.678Z"
   },
   {
    "duration": 5609,
    "start_time": "2022-02-08T20:16:23.742Z"
   },
   {
    "duration": 28,
    "start_time": "2022-02-08T20:16:29.354Z"
   },
   {
    "duration": 67,
    "start_time": "2022-02-08T20:16:29.385Z"
   },
   {
    "duration": 8,
    "start_time": "2022-02-08T20:16:29.455Z"
   },
   {
    "duration": 40,
    "start_time": "2022-02-08T20:16:29.465Z"
   },
   {
    "duration": 28,
    "start_time": "2022-02-08T20:16:29.508Z"
   },
   {
    "duration": 47,
    "start_time": "2022-02-08T20:16:29.539Z"
   },
   {
    "duration": 79,
    "start_time": "2022-02-08T20:16:29.588Z"
   },
   {
    "duration": -45,
    "start_time": "2022-02-08T20:16:29.715Z"
   },
   {
    "duration": -47,
    "start_time": "2022-02-08T20:16:29.719Z"
   },
   {
    "duration": -49,
    "start_time": "2022-02-08T20:16:29.723Z"
   },
   {
    "duration": -52,
    "start_time": "2022-02-08T20:16:29.728Z"
   },
   {
    "duration": -54,
    "start_time": "2022-02-08T20:16:29.732Z"
   },
   {
    "duration": -56,
    "start_time": "2022-02-08T20:16:29.736Z"
   },
   {
    "duration": 11,
    "start_time": "2022-02-08T20:17:20.152Z"
   },
   {
    "duration": 5,
    "start_time": "2022-02-08T20:18:46.866Z"
   },
   {
    "duration": 357,
    "start_time": "2022-02-08T20:18:49.286Z"
   },
   {
    "duration": 3,
    "start_time": "2022-02-08T20:19:24.654Z"
   },
   {
    "duration": 81,
    "start_time": "2022-02-08T20:19:24.660Z"
   },
   {
    "duration": 16,
    "start_time": "2022-02-08T20:19:24.745Z"
   },
   {
    "duration": 15,
    "start_time": "2022-02-08T20:19:24.765Z"
   },
   {
    "duration": 53,
    "start_time": "2022-02-08T20:19:24.784Z"
   },
   {
    "duration": 27,
    "start_time": "2022-02-08T20:19:24.839Z"
   },
   {
    "duration": 753,
    "start_time": "2022-02-08T20:19:24.869Z"
   },
   {
    "duration": 33,
    "start_time": "2022-02-08T20:19:25.624Z"
   },
   {
    "duration": 17,
    "start_time": "2022-02-08T20:19:25.664Z"
   },
   {
    "duration": 13,
    "start_time": "2022-02-08T20:19:25.684Z"
   },
   {
    "duration": 39,
    "start_time": "2022-02-08T20:19:25.700Z"
   },
   {
    "duration": 9,
    "start_time": "2022-02-08T20:19:25.742Z"
   },
   {
    "duration": 9,
    "start_time": "2022-02-08T20:19:25.753Z"
   },
   {
    "duration": 664,
    "start_time": "2022-02-08T20:19:25.764Z"
   },
   {
    "duration": 10,
    "start_time": "2022-02-08T20:19:26.430Z"
   },
   {
    "duration": 22,
    "start_time": "2022-02-08T20:19:26.442Z"
   },
   {
    "duration": 9,
    "start_time": "2022-02-08T20:19:26.466Z"
   },
   {
    "duration": 21,
    "start_time": "2022-02-08T20:19:26.478Z"
   },
   {
    "duration": 34,
    "start_time": "2022-02-08T20:19:26.502Z"
   },
   {
    "duration": 19,
    "start_time": "2022-02-08T20:19:26.540Z"
   },
   {
    "duration": 11,
    "start_time": "2022-02-08T20:19:26.561Z"
   },
   {
    "duration": 13,
    "start_time": "2022-02-08T20:19:26.575Z"
   },
   {
    "duration": 8,
    "start_time": "2022-02-08T20:19:26.592Z"
   },
   {
    "duration": 43,
    "start_time": "2022-02-08T20:19:26.602Z"
   },
   {
    "duration": 15,
    "start_time": "2022-02-08T20:19:26.647Z"
   },
   {
    "duration": 21,
    "start_time": "2022-02-08T20:19:26.665Z"
   },
   {
    "duration": 46,
    "start_time": "2022-02-08T20:19:26.693Z"
   },
   {
    "duration": 11,
    "start_time": "2022-02-08T20:19:26.742Z"
   },
   {
    "duration": 19,
    "start_time": "2022-02-08T20:19:26.756Z"
   },
   {
    "duration": 21,
    "start_time": "2022-02-08T20:19:26.778Z"
   },
   {
    "duration": 58,
    "start_time": "2022-02-08T20:19:26.801Z"
   },
   {
    "duration": 30,
    "start_time": "2022-02-08T20:19:26.861Z"
   },
   {
    "duration": 61,
    "start_time": "2022-02-08T20:19:26.894Z"
   },
   {
    "duration": 5607,
    "start_time": "2022-02-08T20:19:26.958Z"
   },
   {
    "duration": 30,
    "start_time": "2022-02-08T20:19:32.568Z"
   },
   {
    "duration": 63,
    "start_time": "2022-02-08T20:19:32.601Z"
   },
   {
    "duration": 5,
    "start_time": "2022-02-08T20:19:32.667Z"
   },
   {
    "duration": 35,
    "start_time": "2022-02-08T20:19:32.674Z"
   },
   {
    "duration": 23,
    "start_time": "2022-02-08T20:19:32.711Z"
   },
   {
    "duration": 46,
    "start_time": "2022-02-08T20:19:32.740Z"
   },
   {
    "duration": 10,
    "start_time": "2022-02-08T20:19:32.789Z"
   },
   {
    "duration": 73,
    "start_time": "2022-02-08T20:19:32.802Z"
   },
   {
    "duration": 33,
    "start_time": "2022-02-08T20:19:32.878Z"
   },
   {
    "duration": 40,
    "start_time": "2022-02-08T20:19:32.913Z"
   },
   {
    "duration": 24,
    "start_time": "2022-02-08T20:19:32.955Z"
   },
   {
    "duration": 51,
    "start_time": "2022-02-08T20:19:32.981Z"
   },
   {
    "duration": 74,
    "start_time": "2022-02-08T20:26:05.331Z"
   },
   {
    "duration": 291,
    "start_time": "2022-02-08T20:27:20.132Z"
   },
   {
    "duration": 47,
    "start_time": "2022-02-08T20:27:27.041Z"
   },
   {
    "duration": 264,
    "start_time": "2022-02-08T20:30:53.021Z"
   },
   {
    "duration": 27,
    "start_time": "2022-02-08T20:31:01.052Z"
   },
   {
    "duration": 284,
    "start_time": "2022-02-08T20:58:50.560Z"
   },
   {
    "duration": 43,
    "start_time": "2022-02-08T21:00:47.607Z"
   },
   {
    "duration": 3,
    "start_time": "2022-02-08T21:00:53.889Z"
   },
   {
    "duration": 84,
    "start_time": "2022-02-08T21:00:53.895Z"
   },
   {
    "duration": 16,
    "start_time": "2022-02-08T21:00:53.982Z"
   },
   {
    "duration": 42,
    "start_time": "2022-02-08T21:00:54.002Z"
   },
   {
    "duration": 5,
    "start_time": "2022-02-08T21:00:54.047Z"
   },
   {
    "duration": 13,
    "start_time": "2022-02-08T21:00:54.054Z"
   },
   {
    "duration": 748,
    "start_time": "2022-02-08T21:00:54.069Z"
   },
   {
    "duration": 23,
    "start_time": "2022-02-08T21:00:54.822Z"
   },
   {
    "duration": 19,
    "start_time": "2022-02-08T21:00:54.850Z"
   },
   {
    "duration": 20,
    "start_time": "2022-02-08T21:00:54.872Z"
   },
   {
    "duration": 39,
    "start_time": "2022-02-08T21:00:54.896Z"
   },
   {
    "duration": 7,
    "start_time": "2022-02-08T21:00:54.938Z"
   },
   {
    "duration": 16,
    "start_time": "2022-02-08T21:00:54.948Z"
   },
   {
    "duration": 1039,
    "start_time": "2022-02-08T21:00:54.967Z"
   },
   {
    "duration": 5,
    "start_time": "2022-02-08T21:00:56.008Z"
   },
   {
    "duration": 17,
    "start_time": "2022-02-08T21:00:56.016Z"
   },
   {
    "duration": 7,
    "start_time": "2022-02-08T21:00:56.036Z"
   },
   {
    "duration": 12,
    "start_time": "2022-02-08T21:00:56.046Z"
   },
   {
    "duration": 13,
    "start_time": "2022-02-08T21:00:56.060Z"
   },
   {
    "duration": 8,
    "start_time": "2022-02-08T21:00:56.076Z"
   },
   {
    "duration": 9,
    "start_time": "2022-02-08T21:00:56.133Z"
   },
   {
    "duration": 11,
    "start_time": "2022-02-08T21:00:56.145Z"
   },
   {
    "duration": 8,
    "start_time": "2022-02-08T21:00:56.161Z"
   },
   {
    "duration": 10,
    "start_time": "2022-02-08T21:00:56.172Z"
   },
   {
    "duration": 49,
    "start_time": "2022-02-08T21:00:56.185Z"
   },
   {
    "duration": 27,
    "start_time": "2022-02-08T21:00:56.236Z"
   },
   {
    "duration": 18,
    "start_time": "2022-02-08T21:00:56.265Z"
   },
   {
    "duration": 7,
    "start_time": "2022-02-08T21:00:56.285Z"
   },
   {
    "duration": 55,
    "start_time": "2022-02-08T21:00:56.295Z"
   },
   {
    "duration": 23,
    "start_time": "2022-02-08T21:00:56.352Z"
   },
   {
    "duration": 54,
    "start_time": "2022-02-08T21:00:56.378Z"
   },
   {
    "duration": 24,
    "start_time": "2022-02-08T21:00:56.435Z"
   },
   {
    "duration": 34,
    "start_time": "2022-02-08T21:00:56.461Z"
   },
   {
    "duration": 5547,
    "start_time": "2022-02-08T21:00:56.497Z"
   },
   {
    "duration": 41,
    "start_time": "2022-02-08T21:01:02.047Z"
   },
   {
    "duration": 71,
    "start_time": "2022-02-08T21:01:02.092Z"
   },
   {
    "duration": 18,
    "start_time": "2022-02-08T21:01:02.166Z"
   },
   {
    "duration": 47,
    "start_time": "2022-02-08T21:01:02.187Z"
   },
   {
    "duration": 7,
    "start_time": "2022-02-08T21:01:02.237Z"
   },
   {
    "duration": 51,
    "start_time": "2022-02-08T21:01:02.247Z"
   },
   {
    "duration": 42,
    "start_time": "2022-02-08T21:01:02.301Z"
   },
   {
    "duration": 53,
    "start_time": "2022-02-08T21:01:02.346Z"
   },
   {
    "duration": 66,
    "start_time": "2022-02-08T21:01:02.402Z"
   },
   {
    "duration": 27,
    "start_time": "2022-02-08T21:01:02.470Z"
   },
   {
    "duration": 46,
    "start_time": "2022-02-08T21:01:02.500Z"
   },
   {
    "duration": 22,
    "start_time": "2022-02-08T21:01:02.549Z"
   },
   {
    "duration": 1140,
    "start_time": "2022-02-08T21:02:24.506Z"
   },
   {
    "duration": 3,
    "start_time": "2022-02-08T21:02:29.345Z"
   },
   {
    "duration": 107,
    "start_time": "2022-02-08T21:02:29.351Z"
   },
   {
    "duration": 27,
    "start_time": "2022-02-08T21:02:29.475Z"
   },
   {
    "duration": 47,
    "start_time": "2022-02-08T21:02:29.512Z"
   },
   {
    "duration": 6,
    "start_time": "2022-02-08T21:02:29.562Z"
   },
   {
    "duration": 18,
    "start_time": "2022-02-08T21:02:29.571Z"
   },
   {
    "duration": 688,
    "start_time": "2022-02-08T21:02:29.592Z"
   },
   {
    "duration": 17,
    "start_time": "2022-02-08T21:02:30.283Z"
   },
   {
    "duration": 35,
    "start_time": "2022-02-08T21:02:30.304Z"
   },
   {
    "duration": 14,
    "start_time": "2022-02-08T21:02:30.342Z"
   },
   {
    "duration": 15,
    "start_time": "2022-02-08T21:02:30.359Z"
   },
   {
    "duration": 16,
    "start_time": "2022-02-08T21:02:30.377Z"
   },
   {
    "duration": 14,
    "start_time": "2022-02-08T21:02:30.395Z"
   },
   {
    "duration": 601,
    "start_time": "2022-02-08T21:02:30.428Z"
   },
   {
    "duration": 5,
    "start_time": "2022-02-08T21:02:31.033Z"
   },
   {
    "duration": 14,
    "start_time": "2022-02-08T21:02:31.041Z"
   },
   {
    "duration": 11,
    "start_time": "2022-02-08T21:02:31.058Z"
   },
   {
    "duration": 13,
    "start_time": "2022-02-08T21:02:31.071Z"
   },
   {
    "duration": 48,
    "start_time": "2022-02-08T21:02:31.086Z"
   },
   {
    "duration": 9,
    "start_time": "2022-02-08T21:02:31.136Z"
   },
   {
    "duration": 13,
    "start_time": "2022-02-08T21:02:31.148Z"
   },
   {
    "duration": 10,
    "start_time": "2022-02-08T21:02:31.164Z"
   },
   {
    "duration": 13,
    "start_time": "2022-02-08T21:02:31.176Z"
   },
   {
    "duration": 42,
    "start_time": "2022-02-08T21:02:31.192Z"
   },
   {
    "duration": 11,
    "start_time": "2022-02-08T21:02:31.236Z"
   },
   {
    "duration": 32,
    "start_time": "2022-02-08T21:02:31.249Z"
   },
   {
    "duration": 31,
    "start_time": "2022-02-08T21:02:31.286Z"
   },
   {
    "duration": 16,
    "start_time": "2022-02-08T21:02:31.320Z"
   },
   {
    "duration": 25,
    "start_time": "2022-02-08T21:02:31.339Z"
   },
   {
    "duration": 31,
    "start_time": "2022-02-08T21:02:31.366Z"
   },
   {
    "duration": 64,
    "start_time": "2022-02-08T21:02:31.400Z"
   },
   {
    "duration": 30,
    "start_time": "2022-02-08T21:02:31.466Z"
   },
   {
    "duration": 57,
    "start_time": "2022-02-08T21:02:31.499Z"
   },
   {
    "duration": 6207,
    "start_time": "2022-02-08T21:02:31.559Z"
   },
   {
    "duration": 28,
    "start_time": "2022-02-08T21:02:37.769Z"
   },
   {
    "duration": 59,
    "start_time": "2022-02-08T21:02:37.799Z"
   },
   {
    "duration": 12,
    "start_time": "2022-02-08T21:02:37.861Z"
   },
   {
    "duration": 56,
    "start_time": "2022-02-08T21:02:37.876Z"
   },
   {
    "duration": 7,
    "start_time": "2022-02-08T21:02:37.935Z"
   },
   {
    "duration": 51,
    "start_time": "2022-02-08T21:02:37.944Z"
   },
   {
    "duration": 36,
    "start_time": "2022-02-08T21:02:37.998Z"
   },
   {
    "duration": 59,
    "start_time": "2022-02-08T21:02:38.037Z"
   },
   {
    "duration": 1118,
    "start_time": "2022-02-08T21:02:38.099Z"
   },
   {
    "duration": 11,
    "start_time": "2022-02-08T21:02:39.209Z"
   },
   {
    "duration": 11,
    "start_time": "2022-02-08T21:02:39.212Z"
   },
   {
    "duration": 10,
    "start_time": "2022-02-08T21:02:39.215Z"
   },
   {
    "duration": 27,
    "start_time": "2022-02-08T21:03:00.711Z"
   },
   {
    "duration": 34,
    "start_time": "2022-02-08T21:04:27.410Z"
   },
   {
    "duration": 45,
    "start_time": "2022-02-08T21:06:44.021Z"
   },
   {
    "duration": 38,
    "start_time": "2022-02-08T21:07:29.149Z"
   },
   {
    "duration": 34,
    "start_time": "2022-02-08T21:08:58.434Z"
   },
   {
    "duration": 34,
    "start_time": "2022-02-08T21:09:20.535Z"
   },
   {
    "duration": 32,
    "start_time": "2022-02-08T21:10:15.991Z"
   },
   {
    "duration": 3,
    "start_time": "2022-02-08T21:10:19.510Z"
   },
   {
    "duration": 84,
    "start_time": "2022-02-08T21:10:19.528Z"
   },
   {
    "duration": 16,
    "start_time": "2022-02-08T21:10:19.632Z"
   },
   {
    "duration": 16,
    "start_time": "2022-02-08T21:10:19.652Z"
   },
   {
    "duration": 7,
    "start_time": "2022-02-08T21:10:19.672Z"
   },
   {
    "duration": 59,
    "start_time": "2022-02-08T21:10:19.681Z"
   },
   {
    "duration": 780,
    "start_time": "2022-02-08T21:10:19.742Z"
   },
   {
    "duration": 21,
    "start_time": "2022-02-08T21:10:20.524Z"
   },
   {
    "duration": 17,
    "start_time": "2022-02-08T21:10:20.549Z"
   },
   {
    "duration": 14,
    "start_time": "2022-02-08T21:10:20.569Z"
   },
   {
    "duration": 10,
    "start_time": "2022-02-08T21:10:20.585Z"
   },
   {
    "duration": 37,
    "start_time": "2022-02-08T21:10:20.598Z"
   },
   {
    "duration": 10,
    "start_time": "2022-02-08T21:10:20.638Z"
   },
   {
    "duration": 671,
    "start_time": "2022-02-08T21:10:20.651Z"
   },
   {
    "duration": 10,
    "start_time": "2022-02-08T21:10:21.326Z"
   },
   {
    "duration": 17,
    "start_time": "2022-02-08T21:10:21.339Z"
   },
   {
    "duration": 12,
    "start_time": "2022-02-08T21:10:21.358Z"
   },
   {
    "duration": 17,
    "start_time": "2022-02-08T21:10:21.373Z"
   },
   {
    "duration": 46,
    "start_time": "2022-02-08T21:10:21.393Z"
   },
   {
    "duration": 8,
    "start_time": "2022-02-08T21:10:21.441Z"
   },
   {
    "duration": 12,
    "start_time": "2022-02-08T21:10:21.451Z"
   },
   {
    "duration": 11,
    "start_time": "2022-02-08T21:10:21.466Z"
   },
   {
    "duration": 9,
    "start_time": "2022-02-08T21:10:21.479Z"
   },
   {
    "duration": 45,
    "start_time": "2022-02-08T21:10:21.494Z"
   },
   {
    "duration": 12,
    "start_time": "2022-02-08T21:10:21.543Z"
   },
   {
    "duration": 23,
    "start_time": "2022-02-08T21:10:21.558Z"
   },
   {
    "duration": 72,
    "start_time": "2022-02-08T21:10:21.584Z"
   },
   {
    "duration": 10,
    "start_time": "2022-02-08T21:10:21.659Z"
   },
   {
    "duration": 28,
    "start_time": "2022-02-08T21:10:21.672Z"
   },
   {
    "duration": 56,
    "start_time": "2022-02-08T21:10:21.703Z"
   },
   {
    "duration": 34,
    "start_time": "2022-02-08T21:10:21.762Z"
   },
   {
    "duration": 48,
    "start_time": "2022-02-08T21:10:21.800Z"
   },
   {
    "duration": 33,
    "start_time": "2022-02-08T21:10:21.850Z"
   },
   {
    "duration": 5462,
    "start_time": "2022-02-08T21:10:21.886Z"
   },
   {
    "duration": 42,
    "start_time": "2022-02-08T21:10:27.351Z"
   },
   {
    "duration": 64,
    "start_time": "2022-02-08T21:10:27.396Z"
   },
   {
    "duration": 4,
    "start_time": "2022-02-08T21:10:27.463Z"
   },
   {
    "duration": 63,
    "start_time": "2022-02-08T21:10:27.470Z"
   },
   {
    "duration": 5,
    "start_time": "2022-02-08T21:10:27.536Z"
   },
   {
    "duration": 50,
    "start_time": "2022-02-08T21:10:27.544Z"
   },
   {
    "duration": 9,
    "start_time": "2022-02-08T21:10:27.597Z"
   },
   {
    "duration": 67,
    "start_time": "2022-02-08T21:10:27.608Z"
   },
   {
    "duration": 68,
    "start_time": "2022-02-08T21:10:27.678Z"
   },
   {
    "duration": 20,
    "start_time": "2022-02-08T21:10:27.748Z"
   },
   {
    "duration": 21,
    "start_time": "2022-02-08T21:10:27.771Z"
   },
   {
    "duration": 52,
    "start_time": "2022-02-08T21:10:27.794Z"
   },
   {
    "duration": 41,
    "start_time": "2022-02-08T21:11:16.137Z"
   },
   {
    "duration": 34,
    "start_time": "2022-02-08T21:11:32.196Z"
   },
   {
    "duration": 3,
    "start_time": "2022-02-08T21:29:23.128Z"
   },
   {
    "duration": 114,
    "start_time": "2022-02-08T21:29:23.134Z"
   },
   {
    "duration": 14,
    "start_time": "2022-02-08T21:29:23.252Z"
   },
   {
    "duration": 13,
    "start_time": "2022-02-08T21:29:23.269Z"
   },
   {
    "duration": 48,
    "start_time": "2022-02-08T21:29:23.285Z"
   },
   {
    "duration": 17,
    "start_time": "2022-02-08T21:29:23.336Z"
   },
   {
    "duration": 1170,
    "start_time": "2022-02-08T21:29:23.356Z"
   },
   {
    "duration": 27,
    "start_time": "2022-02-08T21:29:24.531Z"
   },
   {
    "duration": 19,
    "start_time": "2022-02-08T21:29:24.563Z"
   },
   {
    "duration": 14,
    "start_time": "2022-02-08T21:29:24.586Z"
   },
   {
    "duration": 37,
    "start_time": "2022-02-08T21:29:24.602Z"
   },
   {
    "duration": 11,
    "start_time": "2022-02-08T21:29:24.643Z"
   },
   {
    "duration": 11,
    "start_time": "2022-02-08T21:29:24.657Z"
   },
   {
    "duration": 620,
    "start_time": "2022-02-08T21:29:24.671Z"
   },
   {
    "duration": 4,
    "start_time": "2022-02-08T21:29:25.294Z"
   },
   {
    "duration": 16,
    "start_time": "2022-02-08T21:29:25.300Z"
   },
   {
    "duration": 14,
    "start_time": "2022-02-08T21:29:25.318Z"
   },
   {
    "duration": 9,
    "start_time": "2022-02-08T21:29:25.334Z"
   },
   {
    "duration": 15,
    "start_time": "2022-02-08T21:29:25.346Z"
   },
   {
    "duration": 12,
    "start_time": "2022-02-08T21:29:25.363Z"
   },
   {
    "duration": 9,
    "start_time": "2022-02-08T21:29:25.377Z"
   },
   {
    "duration": 48,
    "start_time": "2022-02-08T21:29:25.389Z"
   },
   {
    "duration": 8,
    "start_time": "2022-02-08T21:29:25.440Z"
   },
   {
    "duration": 7,
    "start_time": "2022-02-08T21:29:25.450Z"
   },
   {
    "duration": 11,
    "start_time": "2022-02-08T21:29:25.459Z"
   },
   {
    "duration": 64,
    "start_time": "2022-02-08T21:29:25.472Z"
   },
   {
    "duration": 17,
    "start_time": "2022-02-08T21:29:25.543Z"
   },
   {
    "duration": 7,
    "start_time": "2022-02-08T21:29:25.564Z"
   },
   {
    "duration": 19,
    "start_time": "2022-02-08T21:29:25.574Z"
   },
   {
    "duration": 58,
    "start_time": "2022-02-08T21:29:25.596Z"
   },
   {
    "duration": 27,
    "start_time": "2022-02-08T21:29:25.656Z"
   },
   {
    "duration": 61,
    "start_time": "2022-02-08T21:29:25.685Z"
   },
   {
    "duration": 33,
    "start_time": "2022-02-08T21:29:25.749Z"
   },
   {
    "duration": 5216,
    "start_time": "2022-02-08T21:29:25.785Z"
   },
   {
    "duration": 43,
    "start_time": "2022-02-08T21:29:31.004Z"
   },
   {
    "duration": 39,
    "start_time": "2022-02-08T21:29:31.050Z"
   },
   {
    "duration": 18,
    "start_time": "2022-02-08T21:29:31.092Z"
   },
   {
    "duration": 46,
    "start_time": "2022-02-08T21:29:31.112Z"
   },
   {
    "duration": 6,
    "start_time": "2022-02-08T21:29:31.161Z"
   },
   {
    "duration": 45,
    "start_time": "2022-02-08T21:29:31.170Z"
   },
   {
    "duration": 25,
    "start_time": "2022-02-08T21:29:31.217Z"
   },
   {
    "duration": 44,
    "start_time": "2022-02-08T21:29:31.245Z"
   },
   {
    "duration": 72,
    "start_time": "2022-02-08T21:29:31.291Z"
   },
   {
    "duration": 20,
    "start_time": "2022-02-08T21:29:31.365Z"
   },
   {
    "duration": 45,
    "start_time": "2022-02-08T21:29:31.388Z"
   },
   {
    "duration": 21,
    "start_time": "2022-02-08T21:29:31.435Z"
   },
   {
    "duration": 37,
    "start_time": "2022-02-08T21:36:36.579Z"
   },
   {
    "duration": 36,
    "start_time": "2022-02-08T21:37:09.584Z"
   },
   {
    "duration": 36,
    "start_time": "2022-02-08T21:39:04.435Z"
   },
   {
    "duration": 36,
    "start_time": "2022-02-08T21:40:24.775Z"
   },
   {
    "duration": 34,
    "start_time": "2022-02-08T21:41:45.374Z"
   },
   {
    "duration": 49,
    "start_time": "2022-02-08T21:42:46.427Z"
   },
   {
    "duration": 34,
    "start_time": "2022-02-08T21:44:56.915Z"
   },
   {
    "duration": 34,
    "start_time": "2022-02-08T21:45:56.498Z"
   },
   {
    "duration": 36,
    "start_time": "2022-02-08T21:46:22.632Z"
   },
   {
    "duration": 33,
    "start_time": "2022-02-08T21:47:14.979Z"
   },
   {
    "duration": 48,
    "start_time": "2022-02-08T21:49:40.489Z"
   },
   {
    "duration": 43,
    "start_time": "2022-02-08T21:50:06.111Z"
   },
   {
    "duration": 33,
    "start_time": "2022-02-08T21:50:34.876Z"
   },
   {
    "duration": 4,
    "start_time": "2022-02-08T21:50:37.396Z"
   },
   {
    "duration": 87,
    "start_time": "2022-02-08T21:50:37.402Z"
   },
   {
    "duration": 48,
    "start_time": "2022-02-08T21:50:37.492Z"
   },
   {
    "duration": 15,
    "start_time": "2022-02-08T21:50:37.543Z"
   },
   {
    "duration": 5,
    "start_time": "2022-02-08T21:50:37.561Z"
   },
   {
    "duration": 14,
    "start_time": "2022-02-08T21:50:37.569Z"
   },
   {
    "duration": 1211,
    "start_time": "2022-02-08T21:50:37.586Z"
   },
   {
    "duration": 31,
    "start_time": "2022-02-08T21:50:38.803Z"
   },
   {
    "duration": 25,
    "start_time": "2022-02-08T21:50:38.837Z"
   },
   {
    "duration": 21,
    "start_time": "2022-02-08T21:50:38.865Z"
   },
   {
    "duration": 12,
    "start_time": "2022-02-08T21:50:38.889Z"
   },
   {
    "duration": 34,
    "start_time": "2022-02-08T21:50:38.904Z"
   },
   {
    "duration": 13,
    "start_time": "2022-02-08T21:50:38.941Z"
   },
   {
    "duration": 648,
    "start_time": "2022-02-08T21:50:38.957Z"
   },
   {
    "duration": 4,
    "start_time": "2022-02-08T21:50:39.608Z"
   },
   {
    "duration": 21,
    "start_time": "2022-02-08T21:50:39.614Z"
   },
   {
    "duration": 7,
    "start_time": "2022-02-08T21:50:39.637Z"
   },
   {
    "duration": 10,
    "start_time": "2022-02-08T21:50:39.646Z"
   },
   {
    "duration": 23,
    "start_time": "2022-02-08T21:50:39.658Z"
   },
   {
    "duration": 14,
    "start_time": "2022-02-08T21:50:39.683Z"
   },
   {
    "duration": 8,
    "start_time": "2022-02-08T21:50:39.733Z"
   },
   {
    "duration": 11,
    "start_time": "2022-02-08T21:50:39.743Z"
   },
   {
    "duration": 6,
    "start_time": "2022-02-08T21:50:39.760Z"
   },
   {
    "duration": 5,
    "start_time": "2022-02-08T21:50:39.770Z"
   },
   {
    "duration": 56,
    "start_time": "2022-02-08T21:50:39.778Z"
   },
   {
    "duration": 30,
    "start_time": "2022-02-08T21:50:39.837Z"
   },
   {
    "duration": 18,
    "start_time": "2022-02-08T21:50:39.869Z"
   },
   {
    "duration": 7,
    "start_time": "2022-02-08T21:50:39.890Z"
   },
   {
    "duration": 18,
    "start_time": "2022-02-08T21:50:39.932Z"
   },
   {
    "duration": 22,
    "start_time": "2022-02-08T21:50:39.952Z"
   },
   {
    "duration": 59,
    "start_time": "2022-02-08T21:50:39.977Z"
   },
   {
    "duration": 25,
    "start_time": "2022-02-08T21:50:40.039Z"
   },
   {
    "duration": 34,
    "start_time": "2022-02-08T21:50:40.066Z"
   },
   {
    "duration": 5547,
    "start_time": "2022-02-08T21:50:40.103Z"
   },
   {
    "duration": 28,
    "start_time": "2022-02-08T21:50:45.653Z"
   },
   {
    "duration": 62,
    "start_time": "2022-02-08T21:50:45.684Z"
   },
   {
    "duration": 6,
    "start_time": "2022-02-08T21:50:45.750Z"
   },
   {
    "duration": 31,
    "start_time": "2022-02-08T21:50:45.759Z"
   },
   {
    "duration": 7,
    "start_time": "2022-02-08T21:50:45.794Z"
   },
   {
    "duration": 35,
    "start_time": "2022-02-08T21:50:45.832Z"
   },
   {
    "duration": 12,
    "start_time": "2022-02-08T21:50:45.871Z"
   },
   {
    "duration": 76,
    "start_time": "2022-02-08T21:50:45.886Z"
   },
   {
    "duration": 44,
    "start_time": "2022-02-08T21:50:45.965Z"
   },
   {
    "duration": 33,
    "start_time": "2022-02-08T21:50:46.032Z"
   },
   {
    "duration": 35,
    "start_time": "2022-02-08T21:50:46.067Z"
   },
   {
    "duration": 59,
    "start_time": "2022-02-08T21:50:46.104Z"
   },
   {
    "duration": 5,
    "start_time": "2022-02-08T22:20:33.161Z"
   },
   {
    "duration": 255,
    "start_time": "2022-02-08T22:20:34.714Z"
   },
   {
    "duration": 4,
    "start_time": "2022-02-08T22:20:39.472Z"
   },
   {
    "duration": 92,
    "start_time": "2022-02-08T22:20:39.479Z"
   },
   {
    "duration": 21,
    "start_time": "2022-02-08T22:20:39.575Z"
   },
   {
    "duration": 55,
    "start_time": "2022-02-08T22:20:39.599Z"
   },
   {
    "duration": 7,
    "start_time": "2022-02-08T22:20:39.657Z"
   },
   {
    "duration": 17,
    "start_time": "2022-02-08T22:20:39.667Z"
   },
   {
    "duration": 793,
    "start_time": "2022-02-08T22:20:39.689Z"
   },
   {
    "duration": 16,
    "start_time": "2022-02-08T22:20:40.485Z"
   },
   {
    "duration": 30,
    "start_time": "2022-02-08T22:20:40.504Z"
   },
   {
    "duration": 13,
    "start_time": "2022-02-08T22:20:40.537Z"
   },
   {
    "duration": 8,
    "start_time": "2022-02-08T22:20:40.552Z"
   },
   {
    "duration": 6,
    "start_time": "2022-02-08T22:20:40.562Z"
   },
   {
    "duration": 16,
    "start_time": "2022-02-08T22:20:40.570Z"
   },
   {
    "duration": 734,
    "start_time": "2022-02-08T22:20:40.588Z"
   },
   {
    "duration": 9,
    "start_time": "2022-02-08T22:20:41.325Z"
   },
   {
    "duration": 15,
    "start_time": "2022-02-08T22:20:41.336Z"
   },
   {
    "duration": 10,
    "start_time": "2022-02-08T22:20:41.353Z"
   },
   {
    "duration": 13,
    "start_time": "2022-02-08T22:20:41.365Z"
   },
   {
    "duration": 49,
    "start_time": "2022-02-08T22:20:41.383Z"
   },
   {
    "duration": 9,
    "start_time": "2022-02-08T22:20:41.435Z"
   },
   {
    "duration": 8,
    "start_time": "2022-02-08T22:20:41.446Z"
   },
   {
    "duration": 9,
    "start_time": "2022-02-08T22:20:41.457Z"
   },
   {
    "duration": 10,
    "start_time": "2022-02-08T22:20:41.468Z"
   },
   {
    "duration": 6,
    "start_time": "2022-02-08T22:20:41.481Z"
   },
   {
    "duration": 10,
    "start_time": "2022-02-08T22:20:41.533Z"
   },
   {
    "duration": 22,
    "start_time": "2022-02-08T22:20:41.545Z"
   },
   {
    "duration": 16,
    "start_time": "2022-02-08T22:20:41.569Z"
   },
   {
    "duration": 49,
    "start_time": "2022-02-08T22:20:41.587Z"
   },
   {
    "duration": 19,
    "start_time": "2022-02-08T22:20:41.638Z"
   },
   {
    "duration": 22,
    "start_time": "2022-02-08T22:20:41.660Z"
   },
   {
    "duration": 59,
    "start_time": "2022-02-08T22:20:41.685Z"
   },
   {
    "duration": 24,
    "start_time": "2022-02-08T22:20:41.747Z"
   },
   {
    "duration": 59,
    "start_time": "2022-02-08T22:20:41.773Z"
   },
   {
    "duration": 5083,
    "start_time": "2022-02-08T22:20:41.835Z"
   },
   {
    "duration": 37,
    "start_time": "2022-02-08T22:20:46.921Z"
   },
   {
    "duration": 36,
    "start_time": "2022-02-08T22:20:46.961Z"
   },
   {
    "duration": 31,
    "start_time": "2022-02-08T22:20:47.000Z"
   },
   {
    "duration": 32,
    "start_time": "2022-02-08T22:20:47.034Z"
   },
   {
    "duration": 4,
    "start_time": "2022-02-08T22:20:47.069Z"
   },
   {
    "duration": 75,
    "start_time": "2022-02-08T22:20:47.076Z"
   },
   {
    "duration": 13,
    "start_time": "2022-02-08T22:20:47.154Z"
   },
   {
    "duration": 73,
    "start_time": "2022-02-08T22:20:47.169Z"
   },
   {
    "duration": 41,
    "start_time": "2022-02-08T22:20:47.244Z"
   },
   {
    "duration": 59,
    "start_time": "2022-02-08T22:20:47.288Z"
   },
   {
    "duration": 37,
    "start_time": "2022-02-08T22:20:47.350Z"
   },
   {
    "duration": 69,
    "start_time": "2022-02-08T22:20:47.390Z"
   },
   {
    "duration": 3,
    "start_time": "2022-02-08T22:31:03.678Z"
   },
   {
    "duration": 82,
    "start_time": "2022-02-08T22:31:03.684Z"
   },
   {
    "duration": 15,
    "start_time": "2022-02-08T22:31:03.769Z"
   },
   {
    "duration": 51,
    "start_time": "2022-02-08T22:31:03.788Z"
   },
   {
    "duration": 4,
    "start_time": "2022-02-08T22:31:03.842Z"
   },
   {
    "duration": 17,
    "start_time": "2022-02-08T22:31:03.848Z"
   },
   {
    "duration": 829,
    "start_time": "2022-02-08T22:31:03.867Z"
   },
   {
    "duration": 18,
    "start_time": "2022-02-08T22:31:04.699Z"
   },
   {
    "duration": 24,
    "start_time": "2022-02-08T22:31:04.721Z"
   },
   {
    "duration": 13,
    "start_time": "2022-02-08T22:31:04.748Z"
   },
   {
    "duration": 8,
    "start_time": "2022-02-08T22:31:04.763Z"
   },
   {
    "duration": 8,
    "start_time": "2022-02-08T22:31:04.774Z"
   },
   {
    "duration": 57,
    "start_time": "2022-02-08T22:31:04.784Z"
   },
   {
    "duration": 993,
    "start_time": "2022-02-08T22:31:04.844Z"
   },
   {
    "duration": 6,
    "start_time": "2022-02-08T22:31:05.840Z"
   },
   {
    "duration": 16,
    "start_time": "2022-02-08T22:31:05.849Z"
   },
   {
    "duration": 7,
    "start_time": "2022-02-08T22:31:05.867Z"
   },
   {
    "duration": 19,
    "start_time": "2022-02-08T22:31:05.877Z"
   },
   {
    "duration": 44,
    "start_time": "2022-02-08T22:31:05.899Z"
   },
   {
    "duration": 11,
    "start_time": "2022-02-08T22:31:05.945Z"
   },
   {
    "duration": 8,
    "start_time": "2022-02-08T22:31:05.958Z"
   },
   {
    "duration": 11,
    "start_time": "2022-02-08T22:31:05.968Z"
   },
   {
    "duration": 50,
    "start_time": "2022-02-08T22:31:05.982Z"
   },
   {
    "duration": 6,
    "start_time": "2022-02-08T22:31:06.035Z"
   },
   {
    "duration": 15,
    "start_time": "2022-02-08T22:31:06.044Z"
   },
   {
    "duration": 29,
    "start_time": "2022-02-08T22:31:06.062Z"
   },
   {
    "duration": 24,
    "start_time": "2022-02-08T22:31:06.132Z"
   },
   {
    "duration": 8,
    "start_time": "2022-02-08T22:31:06.160Z"
   },
   {
    "duration": 23,
    "start_time": "2022-02-08T22:31:06.171Z"
   },
   {
    "duration": 63,
    "start_time": "2022-02-08T22:31:06.197Z"
   },
   {
    "duration": 34,
    "start_time": "2022-02-08T22:31:06.263Z"
   },
   {
    "duration": 57,
    "start_time": "2022-02-08T22:31:06.301Z"
   },
   {
    "duration": 31,
    "start_time": "2022-02-08T22:31:06.361Z"
   },
   {
    "duration": 5322,
    "start_time": "2022-02-08T22:31:06.395Z"
   },
   {
    "duration": 35,
    "start_time": "2022-02-08T22:31:11.719Z"
   },
   {
    "duration": 54,
    "start_time": "2022-02-08T22:31:11.757Z"
   },
   {
    "duration": 4,
    "start_time": "2022-02-08T22:31:11.833Z"
   },
   {
    "duration": 31,
    "start_time": "2022-02-08T22:31:11.839Z"
   },
   {
    "duration": 5,
    "start_time": "2022-02-08T22:31:11.872Z"
   },
   {
    "duration": 60,
    "start_time": "2022-02-08T22:31:11.880Z"
   },
   {
    "duration": 10,
    "start_time": "2022-02-08T22:31:11.943Z"
   },
   {
    "duration": 42,
    "start_time": "2022-02-08T22:31:11.955Z"
   },
   {
    "duration": 75,
    "start_time": "2022-02-08T22:31:12.000Z"
   },
   {
    "duration": 62,
    "start_time": "2022-02-08T22:31:12.078Z"
   },
   {
    "duration": 35,
    "start_time": "2022-02-08T22:31:12.142Z"
   },
   {
    "duration": 54,
    "start_time": "2022-02-08T22:31:12.179Z"
   },
   {
    "duration": 3,
    "start_time": "2022-02-08T22:33:39.127Z"
   },
   {
    "duration": 131,
    "start_time": "2022-02-08T22:33:39.133Z"
   },
   {
    "duration": 19,
    "start_time": "2022-02-08T22:33:39.268Z"
   },
   {
    "duration": 43,
    "start_time": "2022-02-08T22:33:39.290Z"
   },
   {
    "duration": 6,
    "start_time": "2022-02-08T22:33:39.336Z"
   },
   {
    "duration": 13,
    "start_time": "2022-02-08T22:33:39.345Z"
   },
   {
    "duration": 727,
    "start_time": "2022-02-08T22:33:39.360Z"
   },
   {
    "duration": 27,
    "start_time": "2022-02-08T22:33:40.090Z"
   },
   {
    "duration": 24,
    "start_time": "2022-02-08T22:33:40.136Z"
   },
   {
    "duration": 20,
    "start_time": "2022-02-08T22:33:40.164Z"
   },
   {
    "duration": 11,
    "start_time": "2022-02-08T22:33:40.188Z"
   },
   {
    "duration": 36,
    "start_time": "2022-02-08T22:33:40.203Z"
   },
   {
    "duration": 11,
    "start_time": "2022-02-08T22:33:40.242Z"
   },
   {
    "duration": 632,
    "start_time": "2022-02-08T22:33:40.256Z"
   },
   {
    "duration": 6,
    "start_time": "2022-02-08T22:33:40.891Z"
   },
   {
    "duration": 14,
    "start_time": "2022-02-08T22:33:40.900Z"
   },
   {
    "duration": 21,
    "start_time": "2022-02-08T22:33:40.917Z"
   },
   {
    "duration": 17,
    "start_time": "2022-02-08T22:33:40.941Z"
   },
   {
    "duration": 15,
    "start_time": "2022-02-08T22:33:40.962Z"
   },
   {
    "duration": 12,
    "start_time": "2022-02-08T22:33:40.980Z"
   },
   {
    "duration": 44,
    "start_time": "2022-02-08T22:33:40.994Z"
   },
   {
    "duration": 13,
    "start_time": "2022-02-08T22:33:41.041Z"
   },
   {
    "duration": 10,
    "start_time": "2022-02-08T22:33:41.057Z"
   },
   {
    "duration": 6,
    "start_time": "2022-02-08T22:33:41.070Z"
   },
   {
    "duration": 60,
    "start_time": "2022-02-08T22:33:41.080Z"
   },
   {
    "duration": 22,
    "start_time": "2022-02-08T22:33:41.142Z"
   },
   {
    "duration": 23,
    "start_time": "2022-02-08T22:33:41.171Z"
   },
   {
    "duration": 7,
    "start_time": "2022-02-08T22:33:41.197Z"
   },
   {
    "duration": 19,
    "start_time": "2022-02-08T22:33:41.234Z"
   },
   {
    "duration": 24,
    "start_time": "2022-02-08T22:33:41.256Z"
   },
   {
    "duration": 78,
    "start_time": "2022-02-08T22:33:41.283Z"
   },
   {
    "duration": 36,
    "start_time": "2022-02-08T22:33:41.364Z"
   },
   {
    "duration": 51,
    "start_time": "2022-02-08T22:33:41.403Z"
   },
   {
    "duration": 6004,
    "start_time": "2022-02-08T22:33:41.457Z"
   },
   {
    "duration": 27,
    "start_time": "2022-02-08T22:33:47.464Z"
   },
   {
    "duration": 58,
    "start_time": "2022-02-08T22:33:47.493Z"
   },
   {
    "duration": 4,
    "start_time": "2022-02-08T22:33:47.553Z"
   },
   {
    "duration": 33,
    "start_time": "2022-02-08T22:33:47.560Z"
   },
   {
    "duration": 5,
    "start_time": "2022-02-08T22:33:47.595Z"
   },
   {
    "duration": 60,
    "start_time": "2022-02-08T22:33:47.602Z"
   },
   {
    "duration": 10,
    "start_time": "2022-02-08T22:33:47.664Z"
   },
   {
    "duration": 84,
    "start_time": "2022-02-08T22:33:47.677Z"
   },
   {
    "duration": 100,
    "start_time": "2022-02-08T22:33:47.764Z"
   },
   {
    "duration": 81,
    "start_time": "2022-02-08T22:33:47.867Z"
   },
   {
    "duration": 36,
    "start_time": "2022-02-08T22:33:47.951Z"
   },
   {
    "duration": 44,
    "start_time": "2022-02-08T22:33:47.989Z"
   }
  ],
  "kernelspec": {
   "display_name": "Python 3 (ipykernel)",
   "language": "python",
   "name": "python3"
  },
  "language_info": {
   "codemirror_mode": {
    "name": "ipython",
    "version": 3
   },
   "file_extension": ".py",
   "mimetype": "text/x-python",
   "name": "python",
   "nbconvert_exporter": "python",
   "pygments_lexer": "ipython3",
   "version": "3.9.7"
  },
  "toc": {
   "base_numbering": 1,
   "nav_menu": {},
   "number_sections": true,
   "sideBar": true,
   "skip_h1_title": true,
   "title_cell": "Содержание",
   "title_sidebar": "Contents",
   "toc_cell": true,
   "toc_position": {
    "height": "calc(100% - 180px)",
    "left": "10px",
    "top": "150px",
    "width": "238px"
   },
   "toc_section_display": true,
   "toc_window_display": true
  }
 },
 "nbformat": 4,
 "nbformat_minor": 2
}
