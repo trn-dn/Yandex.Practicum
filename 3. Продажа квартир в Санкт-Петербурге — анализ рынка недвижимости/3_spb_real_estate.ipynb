{
 "cells": [
  {
   "cell_type": "markdown",
   "metadata": {
    "toc": true
   },
   "source": [
    "<h1>Содержание<span class=\"tocSkip\"></span></h1>\n",
    "<div class=\"toc\"><ul class=\"toc-item\"><li><span><a href=\"#Изучение-данных-из-файла\" data-toc-modified-id=\"Изучение-данных-из-файла-1\"><span class=\"toc-item-num\">1&nbsp;&nbsp;</span>Изучение данных из файла</a></span><ul class=\"toc-item\"><li><span><a href=\"#Вывод\" data-toc-modified-id=\"Вывод-1.1\"><span class=\"toc-item-num\">1.1&nbsp;&nbsp;</span>Вывод</a></span></li></ul></li><li><span><a href=\"#Предобработка-данных\" data-toc-modified-id=\"Предобработка-данных-2\"><span class=\"toc-item-num\">2&nbsp;&nbsp;</span>Предобработка данных</a></span></li><li><span><a href=\"#Расчёты-и-добавление-результатов-в-таблицу\" data-toc-modified-id=\"Расчёты-и-добавление-результатов-в-таблицу-3\"><span class=\"toc-item-num\">3&nbsp;&nbsp;</span>Расчёты и добавление результатов в таблицу</a></span></li><li><span><a href=\"#Исследовательский-анализ-данных\" data-toc-modified-id=\"Исследовательский-анализ-данных-4\"><span class=\"toc-item-num\">4&nbsp;&nbsp;</span>Исследовательский анализ данных</a></span><ul class=\"toc-item\"><li><span><a href=\"#Изучение-параметров:-площадь,-цена,-число-комнат,-высота-потолков.\" data-toc-modified-id=\"Изучение-параметров:-площадь,-цена,-число-комнат,-высота-потолков.-4.1\"><span class=\"toc-item-num\">4.1&nbsp;&nbsp;</span>Изучение параметров: площадь, цена, число комнат, высота потолков.</a></span></li><li><span><a href=\"#Изучение-времени-продажи-квартиры.\" data-toc-modified-id=\"Изучение-времени-продажи-квартиры.-4.2\"><span class=\"toc-item-num\">4.2&nbsp;&nbsp;</span>Изучение времени продажи квартиры.</a></span></li><li><span><a href=\"#Удаление-редких-и-выбивающиеся-значения.\" data-toc-modified-id=\"Удаление-редких-и-выбивающиеся-значения.-4.3\"><span class=\"toc-item-num\">4.3&nbsp;&nbsp;</span>Удаление редких и выбивающиеся значения.</a></span></li><li><span><a href=\"#Изучение-факторов,-которые-больше-всего-влияют-на-стоимость-квартиры\" data-toc-modified-id=\"Изучение-факторов,-которые-больше-всего-влияют-на-стоимость-квартиры-4.4\"><span class=\"toc-item-num\">4.4&nbsp;&nbsp;</span>Изучение факторов, которые больше всего влияют на стоимость квартиры</a></span></li><li><span><a href=\"#Изучение-предложения-квартир.-Выяснение,-какая-область-входит-в-центр-Санкт-Петербурга.\" data-toc-modified-id=\"Изучение-предложения-квартир.-Выяснение,-какая-область-входит-в-центр-Санкт-Петербурга.-4.5\"><span class=\"toc-item-num\">4.5&nbsp;&nbsp;</span>Изучение предложения квартир. Выяснение, какая область входит в центр Санкт-Петербурга.</a></span></li><li><span><a href=\"#Выделение-сегмента-квартир-в-центре.-Анализ-этой-территории-и-изучение-следующих-параметров:-площадь,-цена,-число-комнат,-высота-потолков.-Выделение-факторов,-которые-влияют-на-стоимость-квартиры-(число-комнат,-этаж,-удалённость-от-центра,-дата-размещения-объявления).\" data-toc-modified-id=\"Выделение-сегмента-квартир-в-центре.-Анализ-этой-территории-и-изучение-следующих-параметров:-площадь,-цена,-число-комнат,-высота-потолков.-Выделение-факторов,-которые-влияют-на-стоимость-квартиры-(число-комнат,-этаж,-удалённость-от-центра,-дата-размещения-объявления).-4.6\"><span class=\"toc-item-num\">4.6&nbsp;&nbsp;</span>Выделение сегмента квартир в центре. Анализ этой территории и изучение следующих параметров: площадь, цена, число комнат, высота потолков. Выделение факторов, которые влияют на стоимость квартиры (число комнат, этаж, удалённость от центра, дата размещения объявления).</a></span></li></ul></li><li><span><a href=\"#Общий-вывод\" data-toc-modified-id=\"Общий-вывод-5\"><span class=\"toc-item-num\">5&nbsp;&nbsp;</span>Общий вывод</a></span></li></ul></div>"
   ]
  },
  {
   "cell_type": "markdown",
   "metadata": {},
   "source": [
    "# Исследование объявлений о продаже квартир\n",
    "\n",
    "В нашем распоряжении данные сервиса Яндекс.Недвижимость — архив объявлений о продаже квартир в Санкт-Петербурге и соседних населённых пунктах за несколько лет. Необходимо научиться определять рыночную стоимость объектов недвижимости. Наша задача — установить параметры. Это позволит построить автоматизированную систему: она отследит аномалии и мошенническую деятельность. \n",
    "\n",
    "По каждой квартире на продажу доступны два вида данных. Первые вписаны пользователем, вторые получены автоматически на основе картографических данных. Например, расстояние до центра, аэропорта, ближайшего парка и водоёма. "
   ]
  },
  {
   "cell_type": "markdown",
   "metadata": {},
   "source": [
    "## Изучение данных из файла"
   ]
  },
  {
   "cell_type": "markdown",
   "metadata": {},
   "source": [
    "Для работы с данными импортируем библиотеки."
   ]
  },
  {
   "cell_type": "code",
   "execution_count": 1,
   "metadata": {},
   "outputs": [],
   "source": [
    "import pandas as pd \n",
    "import numpy as np\n",
    "import matplotlib.pyplot as plt\n",
    "import seaborn as sns\n",
    "\n",
    "import warnings\n",
    "warnings.filterwarnings('ignore')"
   ]
  },
  {
   "cell_type": "markdown",
   "metadata": {},
   "source": [
    "Далее откроем файл `real_estate_data.csv`, сохраним его в переменной `df` и выведем на экран первые 15 строк таблицы"
   ]
  },
  {
   "cell_type": "code",
   "execution_count": 2,
   "metadata": {
    "scrolled": false
   },
   "outputs": [
    {
     "data": {
      "text/html": [
       "<div>\n",
       "<style scoped>\n",
       "    .dataframe tbody tr th:only-of-type {\n",
       "        vertical-align: middle;\n",
       "    }\n",
       "\n",
       "    .dataframe tbody tr th {\n",
       "        vertical-align: top;\n",
       "    }\n",
       "\n",
       "    .dataframe thead th {\n",
       "        text-align: right;\n",
       "    }\n",
       "</style>\n",
       "<table border=\"1\" class=\"dataframe\">\n",
       "  <thead>\n",
       "    <tr style=\"text-align: right;\">\n",
       "      <th></th>\n",
       "      <th>total_images</th>\n",
       "      <th>last_price</th>\n",
       "      <th>total_area</th>\n",
       "      <th>first_day_exposition</th>\n",
       "      <th>rooms</th>\n",
       "      <th>ceiling_height</th>\n",
       "      <th>floors_total</th>\n",
       "      <th>living_area</th>\n",
       "      <th>floor</th>\n",
       "      <th>is_apartment</th>\n",
       "      <th>studio</th>\n",
       "      <th>open_plan</th>\n",
       "      <th>kitchen_area</th>\n",
       "      <th>balcony</th>\n",
       "      <th>locality_name</th>\n",
       "      <th>airports_nearest</th>\n",
       "      <th>cityCenters_nearest</th>\n",
       "      <th>parks_around3000</th>\n",
       "      <th>parks_nearest</th>\n",
       "      <th>ponds_around3000</th>\n",
       "      <th>ponds_nearest</th>\n",
       "      <th>days_exposition</th>\n",
       "    </tr>\n",
       "  </thead>\n",
       "  <tbody>\n",
       "    <tr>\n",
       "      <th>0</th>\n",
       "      <td>20</td>\n",
       "      <td>13000000.0</td>\n",
       "      <td>108.00</td>\n",
       "      <td>2019-03-07T00:00:00</td>\n",
       "      <td>3</td>\n",
       "      <td>2.70</td>\n",
       "      <td>16.0</td>\n",
       "      <td>51.00</td>\n",
       "      <td>8</td>\n",
       "      <td>NaN</td>\n",
       "      <td>False</td>\n",
       "      <td>False</td>\n",
       "      <td>25.00</td>\n",
       "      <td>NaN</td>\n",
       "      <td>Санкт-Петербург</td>\n",
       "      <td>18863.0</td>\n",
       "      <td>16028.0</td>\n",
       "      <td>1.0</td>\n",
       "      <td>482.0</td>\n",
       "      <td>2.0</td>\n",
       "      <td>755.0</td>\n",
       "      <td>NaN</td>\n",
       "    </tr>\n",
       "    <tr>\n",
       "      <th>1</th>\n",
       "      <td>7</td>\n",
       "      <td>3350000.0</td>\n",
       "      <td>40.40</td>\n",
       "      <td>2018-12-04T00:00:00</td>\n",
       "      <td>1</td>\n",
       "      <td>NaN</td>\n",
       "      <td>11.0</td>\n",
       "      <td>18.60</td>\n",
       "      <td>1</td>\n",
       "      <td>NaN</td>\n",
       "      <td>False</td>\n",
       "      <td>False</td>\n",
       "      <td>11.00</td>\n",
       "      <td>2.0</td>\n",
       "      <td>посёлок Шушары</td>\n",
       "      <td>12817.0</td>\n",
       "      <td>18603.0</td>\n",
       "      <td>0.0</td>\n",
       "      <td>NaN</td>\n",
       "      <td>0.0</td>\n",
       "      <td>NaN</td>\n",
       "      <td>81.0</td>\n",
       "    </tr>\n",
       "    <tr>\n",
       "      <th>2</th>\n",
       "      <td>10</td>\n",
       "      <td>5196000.0</td>\n",
       "      <td>56.00</td>\n",
       "      <td>2015-08-20T00:00:00</td>\n",
       "      <td>2</td>\n",
       "      <td>NaN</td>\n",
       "      <td>5.0</td>\n",
       "      <td>34.30</td>\n",
       "      <td>4</td>\n",
       "      <td>NaN</td>\n",
       "      <td>False</td>\n",
       "      <td>False</td>\n",
       "      <td>8.30</td>\n",
       "      <td>0.0</td>\n",
       "      <td>Санкт-Петербург</td>\n",
       "      <td>21741.0</td>\n",
       "      <td>13933.0</td>\n",
       "      <td>1.0</td>\n",
       "      <td>90.0</td>\n",
       "      <td>2.0</td>\n",
       "      <td>574.0</td>\n",
       "      <td>558.0</td>\n",
       "    </tr>\n",
       "    <tr>\n",
       "      <th>3</th>\n",
       "      <td>0</td>\n",
       "      <td>64900000.0</td>\n",
       "      <td>159.00</td>\n",
       "      <td>2015-07-24T00:00:00</td>\n",
       "      <td>3</td>\n",
       "      <td>NaN</td>\n",
       "      <td>14.0</td>\n",
       "      <td>NaN</td>\n",
       "      <td>9</td>\n",
       "      <td>NaN</td>\n",
       "      <td>False</td>\n",
       "      <td>False</td>\n",
       "      <td>NaN</td>\n",
       "      <td>0.0</td>\n",
       "      <td>Санкт-Петербург</td>\n",
       "      <td>28098.0</td>\n",
       "      <td>6800.0</td>\n",
       "      <td>2.0</td>\n",
       "      <td>84.0</td>\n",
       "      <td>3.0</td>\n",
       "      <td>234.0</td>\n",
       "      <td>424.0</td>\n",
       "    </tr>\n",
       "    <tr>\n",
       "      <th>4</th>\n",
       "      <td>2</td>\n",
       "      <td>10000000.0</td>\n",
       "      <td>100.00</td>\n",
       "      <td>2018-06-19T00:00:00</td>\n",
       "      <td>2</td>\n",
       "      <td>3.03</td>\n",
       "      <td>14.0</td>\n",
       "      <td>32.00</td>\n",
       "      <td>13</td>\n",
       "      <td>NaN</td>\n",
       "      <td>False</td>\n",
       "      <td>False</td>\n",
       "      <td>41.00</td>\n",
       "      <td>NaN</td>\n",
       "      <td>Санкт-Петербург</td>\n",
       "      <td>31856.0</td>\n",
       "      <td>8098.0</td>\n",
       "      <td>2.0</td>\n",
       "      <td>112.0</td>\n",
       "      <td>1.0</td>\n",
       "      <td>48.0</td>\n",
       "      <td>121.0</td>\n",
       "    </tr>\n",
       "    <tr>\n",
       "      <th>5</th>\n",
       "      <td>10</td>\n",
       "      <td>2890000.0</td>\n",
       "      <td>30.40</td>\n",
       "      <td>2018-09-10T00:00:00</td>\n",
       "      <td>1</td>\n",
       "      <td>NaN</td>\n",
       "      <td>12.0</td>\n",
       "      <td>14.40</td>\n",
       "      <td>5</td>\n",
       "      <td>NaN</td>\n",
       "      <td>False</td>\n",
       "      <td>False</td>\n",
       "      <td>9.10</td>\n",
       "      <td>NaN</td>\n",
       "      <td>городской посёлок Янино-1</td>\n",
       "      <td>NaN</td>\n",
       "      <td>NaN</td>\n",
       "      <td>NaN</td>\n",
       "      <td>NaN</td>\n",
       "      <td>NaN</td>\n",
       "      <td>NaN</td>\n",
       "      <td>55.0</td>\n",
       "    </tr>\n",
       "    <tr>\n",
       "      <th>6</th>\n",
       "      <td>6</td>\n",
       "      <td>3700000.0</td>\n",
       "      <td>37.30</td>\n",
       "      <td>2017-11-02T00:00:00</td>\n",
       "      <td>1</td>\n",
       "      <td>NaN</td>\n",
       "      <td>26.0</td>\n",
       "      <td>10.60</td>\n",
       "      <td>6</td>\n",
       "      <td>NaN</td>\n",
       "      <td>False</td>\n",
       "      <td>False</td>\n",
       "      <td>14.40</td>\n",
       "      <td>1.0</td>\n",
       "      <td>посёлок Парголово</td>\n",
       "      <td>52996.0</td>\n",
       "      <td>19143.0</td>\n",
       "      <td>0.0</td>\n",
       "      <td>NaN</td>\n",
       "      <td>0.0</td>\n",
       "      <td>NaN</td>\n",
       "      <td>155.0</td>\n",
       "    </tr>\n",
       "    <tr>\n",
       "      <th>7</th>\n",
       "      <td>5</td>\n",
       "      <td>7915000.0</td>\n",
       "      <td>71.60</td>\n",
       "      <td>2019-04-18T00:00:00</td>\n",
       "      <td>2</td>\n",
       "      <td>NaN</td>\n",
       "      <td>24.0</td>\n",
       "      <td>NaN</td>\n",
       "      <td>22</td>\n",
       "      <td>NaN</td>\n",
       "      <td>False</td>\n",
       "      <td>False</td>\n",
       "      <td>18.90</td>\n",
       "      <td>2.0</td>\n",
       "      <td>Санкт-Петербург</td>\n",
       "      <td>23982.0</td>\n",
       "      <td>11634.0</td>\n",
       "      <td>0.0</td>\n",
       "      <td>NaN</td>\n",
       "      <td>0.0</td>\n",
       "      <td>NaN</td>\n",
       "      <td>NaN</td>\n",
       "    </tr>\n",
       "    <tr>\n",
       "      <th>8</th>\n",
       "      <td>20</td>\n",
       "      <td>2900000.0</td>\n",
       "      <td>33.16</td>\n",
       "      <td>2018-05-23T00:00:00</td>\n",
       "      <td>1</td>\n",
       "      <td>NaN</td>\n",
       "      <td>27.0</td>\n",
       "      <td>15.43</td>\n",
       "      <td>26</td>\n",
       "      <td>NaN</td>\n",
       "      <td>False</td>\n",
       "      <td>False</td>\n",
       "      <td>8.81</td>\n",
       "      <td>NaN</td>\n",
       "      <td>посёлок Мурино</td>\n",
       "      <td>NaN</td>\n",
       "      <td>NaN</td>\n",
       "      <td>NaN</td>\n",
       "      <td>NaN</td>\n",
       "      <td>NaN</td>\n",
       "      <td>NaN</td>\n",
       "      <td>189.0</td>\n",
       "    </tr>\n",
       "    <tr>\n",
       "      <th>9</th>\n",
       "      <td>18</td>\n",
       "      <td>5400000.0</td>\n",
       "      <td>61.00</td>\n",
       "      <td>2017-02-26T00:00:00</td>\n",
       "      <td>3</td>\n",
       "      <td>2.50</td>\n",
       "      <td>9.0</td>\n",
       "      <td>43.60</td>\n",
       "      <td>7</td>\n",
       "      <td>NaN</td>\n",
       "      <td>False</td>\n",
       "      <td>False</td>\n",
       "      <td>6.50</td>\n",
       "      <td>2.0</td>\n",
       "      <td>Санкт-Петербург</td>\n",
       "      <td>50898.0</td>\n",
       "      <td>15008.0</td>\n",
       "      <td>0.0</td>\n",
       "      <td>NaN</td>\n",
       "      <td>0.0</td>\n",
       "      <td>NaN</td>\n",
       "      <td>289.0</td>\n",
       "    </tr>\n",
       "    <tr>\n",
       "      <th>10</th>\n",
       "      <td>5</td>\n",
       "      <td>5050000.0</td>\n",
       "      <td>39.60</td>\n",
       "      <td>2017-11-16T00:00:00</td>\n",
       "      <td>1</td>\n",
       "      <td>2.67</td>\n",
       "      <td>12.0</td>\n",
       "      <td>20.30</td>\n",
       "      <td>3</td>\n",
       "      <td>NaN</td>\n",
       "      <td>False</td>\n",
       "      <td>False</td>\n",
       "      <td>8.50</td>\n",
       "      <td>NaN</td>\n",
       "      <td>Санкт-Петербург</td>\n",
       "      <td>38357.0</td>\n",
       "      <td>13878.0</td>\n",
       "      <td>1.0</td>\n",
       "      <td>310.0</td>\n",
       "      <td>2.0</td>\n",
       "      <td>553.0</td>\n",
       "      <td>137.0</td>\n",
       "    </tr>\n",
       "    <tr>\n",
       "      <th>11</th>\n",
       "      <td>9</td>\n",
       "      <td>3300000.0</td>\n",
       "      <td>44.00</td>\n",
       "      <td>2018-08-27T00:00:00</td>\n",
       "      <td>2</td>\n",
       "      <td>NaN</td>\n",
       "      <td>5.0</td>\n",
       "      <td>31.00</td>\n",
       "      <td>4</td>\n",
       "      <td>False</td>\n",
       "      <td>False</td>\n",
       "      <td>False</td>\n",
       "      <td>6.00</td>\n",
       "      <td>1.0</td>\n",
       "      <td>Ломоносов</td>\n",
       "      <td>48252.0</td>\n",
       "      <td>51677.0</td>\n",
       "      <td>0.0</td>\n",
       "      <td>NaN</td>\n",
       "      <td>0.0</td>\n",
       "      <td>NaN</td>\n",
       "      <td>7.0</td>\n",
       "    </tr>\n",
       "    <tr>\n",
       "      <th>12</th>\n",
       "      <td>10</td>\n",
       "      <td>3890000.0</td>\n",
       "      <td>54.00</td>\n",
       "      <td>2016-06-30T00:00:00</td>\n",
       "      <td>2</td>\n",
       "      <td>NaN</td>\n",
       "      <td>5.0</td>\n",
       "      <td>30.00</td>\n",
       "      <td>5</td>\n",
       "      <td>NaN</td>\n",
       "      <td>False</td>\n",
       "      <td>False</td>\n",
       "      <td>9.00</td>\n",
       "      <td>0.0</td>\n",
       "      <td>Сертолово</td>\n",
       "      <td>NaN</td>\n",
       "      <td>NaN</td>\n",
       "      <td>NaN</td>\n",
       "      <td>NaN</td>\n",
       "      <td>NaN</td>\n",
       "      <td>NaN</td>\n",
       "      <td>90.0</td>\n",
       "    </tr>\n",
       "    <tr>\n",
       "      <th>13</th>\n",
       "      <td>20</td>\n",
       "      <td>3550000.0</td>\n",
       "      <td>42.80</td>\n",
       "      <td>2017-07-01T00:00:00</td>\n",
       "      <td>2</td>\n",
       "      <td>2.56</td>\n",
       "      <td>5.0</td>\n",
       "      <td>27.00</td>\n",
       "      <td>5</td>\n",
       "      <td>NaN</td>\n",
       "      <td>False</td>\n",
       "      <td>False</td>\n",
       "      <td>5.20</td>\n",
       "      <td>1.0</td>\n",
       "      <td>Петергоф</td>\n",
       "      <td>37868.0</td>\n",
       "      <td>33058.0</td>\n",
       "      <td>1.0</td>\n",
       "      <td>294.0</td>\n",
       "      <td>3.0</td>\n",
       "      <td>298.0</td>\n",
       "      <td>366.0</td>\n",
       "    </tr>\n",
       "    <tr>\n",
       "      <th>14</th>\n",
       "      <td>1</td>\n",
       "      <td>4400000.0</td>\n",
       "      <td>36.00</td>\n",
       "      <td>2016-06-23T00:00:00</td>\n",
       "      <td>1</td>\n",
       "      <td>NaN</td>\n",
       "      <td>6.0</td>\n",
       "      <td>17.00</td>\n",
       "      <td>1</td>\n",
       "      <td>NaN</td>\n",
       "      <td>False</td>\n",
       "      <td>False</td>\n",
       "      <td>8.00</td>\n",
       "      <td>0.0</td>\n",
       "      <td>Пушкин</td>\n",
       "      <td>20782.0</td>\n",
       "      <td>30759.0</td>\n",
       "      <td>0.0</td>\n",
       "      <td>NaN</td>\n",
       "      <td>1.0</td>\n",
       "      <td>96.0</td>\n",
       "      <td>203.0</td>\n",
       "    </tr>\n",
       "    <tr>\n",
       "      <th>15</th>\n",
       "      <td>16</td>\n",
       "      <td>4650000.0</td>\n",
       "      <td>39.00</td>\n",
       "      <td>2017-11-18T00:00:00</td>\n",
       "      <td>1</td>\n",
       "      <td>NaN</td>\n",
       "      <td>14.0</td>\n",
       "      <td>20.50</td>\n",
       "      <td>5</td>\n",
       "      <td>NaN</td>\n",
       "      <td>False</td>\n",
       "      <td>False</td>\n",
       "      <td>7.60</td>\n",
       "      <td>1.0</td>\n",
       "      <td>Санкт-Петербург</td>\n",
       "      <td>12900.0</td>\n",
       "      <td>14259.0</td>\n",
       "      <td>1.0</td>\n",
       "      <td>590.0</td>\n",
       "      <td>1.0</td>\n",
       "      <td>296.0</td>\n",
       "      <td>19.0</td>\n",
       "    </tr>\n",
       "    <tr>\n",
       "      <th>16</th>\n",
       "      <td>11</td>\n",
       "      <td>6700000.0</td>\n",
       "      <td>82.00</td>\n",
       "      <td>2017-11-23T00:00:00</td>\n",
       "      <td>3</td>\n",
       "      <td>3.05</td>\n",
       "      <td>5.0</td>\n",
       "      <td>55.60</td>\n",
       "      <td>1</td>\n",
       "      <td>NaN</td>\n",
       "      <td>False</td>\n",
       "      <td>False</td>\n",
       "      <td>9.00</td>\n",
       "      <td>NaN</td>\n",
       "      <td>Санкт-Петербург</td>\n",
       "      <td>22108.0</td>\n",
       "      <td>10698.0</td>\n",
       "      <td>3.0</td>\n",
       "      <td>420.0</td>\n",
       "      <td>0.0</td>\n",
       "      <td>NaN</td>\n",
       "      <td>397.0</td>\n",
       "    </tr>\n",
       "    <tr>\n",
       "      <th>17</th>\n",
       "      <td>6</td>\n",
       "      <td>4180000.0</td>\n",
       "      <td>36.00</td>\n",
       "      <td>2016-09-09T00:00:00</td>\n",
       "      <td>1</td>\n",
       "      <td>NaN</td>\n",
       "      <td>17.0</td>\n",
       "      <td>16.50</td>\n",
       "      <td>7</td>\n",
       "      <td>NaN</td>\n",
       "      <td>False</td>\n",
       "      <td>False</td>\n",
       "      <td>11.00</td>\n",
       "      <td>1.0</td>\n",
       "      <td>Санкт-Петербург</td>\n",
       "      <td>33564.0</td>\n",
       "      <td>14616.0</td>\n",
       "      <td>0.0</td>\n",
       "      <td>NaN</td>\n",
       "      <td>1.0</td>\n",
       "      <td>859.0</td>\n",
       "      <td>571.0</td>\n",
       "    </tr>\n",
       "    <tr>\n",
       "      <th>18</th>\n",
       "      <td>8</td>\n",
       "      <td>3250000.0</td>\n",
       "      <td>31.00</td>\n",
       "      <td>2017-01-27T00:00:00</td>\n",
       "      <td>1</td>\n",
       "      <td>2.50</td>\n",
       "      <td>5.0</td>\n",
       "      <td>19.40</td>\n",
       "      <td>2</td>\n",
       "      <td>NaN</td>\n",
       "      <td>False</td>\n",
       "      <td>False</td>\n",
       "      <td>5.60</td>\n",
       "      <td>1.0</td>\n",
       "      <td>Санкт-Петербург</td>\n",
       "      <td>44060.0</td>\n",
       "      <td>10842.0</td>\n",
       "      <td>1.0</td>\n",
       "      <td>759.0</td>\n",
       "      <td>0.0</td>\n",
       "      <td>NaN</td>\n",
       "      <td>168.0</td>\n",
       "    </tr>\n",
       "    <tr>\n",
       "      <th>19</th>\n",
       "      <td>16</td>\n",
       "      <td>14200000.0</td>\n",
       "      <td>121.00</td>\n",
       "      <td>2019-01-09T00:00:00</td>\n",
       "      <td>3</td>\n",
       "      <td>2.75</td>\n",
       "      <td>16.0</td>\n",
       "      <td>76.00</td>\n",
       "      <td>8</td>\n",
       "      <td>NaN</td>\n",
       "      <td>False</td>\n",
       "      <td>False</td>\n",
       "      <td>12.00</td>\n",
       "      <td>NaN</td>\n",
       "      <td>Санкт-Петербург</td>\n",
       "      <td>38900.0</td>\n",
       "      <td>12843.0</td>\n",
       "      <td>0.0</td>\n",
       "      <td>NaN</td>\n",
       "      <td>0.0</td>\n",
       "      <td>NaN</td>\n",
       "      <td>97.0</td>\n",
       "    </tr>\n",
       "    <tr>\n",
       "      <th>20</th>\n",
       "      <td>12</td>\n",
       "      <td>6120000.0</td>\n",
       "      <td>80.00</td>\n",
       "      <td>2017-09-28T00:00:00</td>\n",
       "      <td>3</td>\n",
       "      <td>2.70</td>\n",
       "      <td>27.0</td>\n",
       "      <td>48.00</td>\n",
       "      <td>11</td>\n",
       "      <td>NaN</td>\n",
       "      <td>False</td>\n",
       "      <td>False</td>\n",
       "      <td>12.00</td>\n",
       "      <td>2.0</td>\n",
       "      <td>посёлок Парголово</td>\n",
       "      <td>53134.0</td>\n",
       "      <td>19311.0</td>\n",
       "      <td>0.0</td>\n",
       "      <td>NaN</td>\n",
       "      <td>0.0</td>\n",
       "      <td>NaN</td>\n",
       "      <td>74.0</td>\n",
       "    </tr>\n",
       "    <tr>\n",
       "      <th>21</th>\n",
       "      <td>13</td>\n",
       "      <td>3200000.0</td>\n",
       "      <td>31.60</td>\n",
       "      <td>2018-03-14T00:00:00</td>\n",
       "      <td>1</td>\n",
       "      <td>NaN</td>\n",
       "      <td>5.0</td>\n",
       "      <td>16.90</td>\n",
       "      <td>2</td>\n",
       "      <td>NaN</td>\n",
       "      <td>False</td>\n",
       "      <td>False</td>\n",
       "      <td>5.70</td>\n",
       "      <td>1.0</td>\n",
       "      <td>Санкт-Петербург</td>\n",
       "      <td>36064.0</td>\n",
       "      <td>9722.0</td>\n",
       "      <td>1.0</td>\n",
       "      <td>248.0</td>\n",
       "      <td>0.0</td>\n",
       "      <td>NaN</td>\n",
       "      <td>310.0</td>\n",
       "    </tr>\n",
       "    <tr>\n",
       "      <th>22</th>\n",
       "      <td>20</td>\n",
       "      <td>5000000.0</td>\n",
       "      <td>58.00</td>\n",
       "      <td>2017-04-24T00:00:00</td>\n",
       "      <td>2</td>\n",
       "      <td>2.75</td>\n",
       "      <td>25.0</td>\n",
       "      <td>30.00</td>\n",
       "      <td>15</td>\n",
       "      <td>NaN</td>\n",
       "      <td>False</td>\n",
       "      <td>False</td>\n",
       "      <td>11.00</td>\n",
       "      <td>2.0</td>\n",
       "      <td>деревня Кудрово</td>\n",
       "      <td>NaN</td>\n",
       "      <td>NaN</td>\n",
       "      <td>NaN</td>\n",
       "      <td>NaN</td>\n",
       "      <td>NaN</td>\n",
       "      <td>NaN</td>\n",
       "      <td>60.0</td>\n",
       "    </tr>\n",
       "    <tr>\n",
       "      <th>23</th>\n",
       "      <td>11</td>\n",
       "      <td>2950000.0</td>\n",
       "      <td>32.00</td>\n",
       "      <td>2016-10-29T00:00:00</td>\n",
       "      <td>1</td>\n",
       "      <td>2.60</td>\n",
       "      <td>9.0</td>\n",
       "      <td>17.70</td>\n",
       "      <td>9</td>\n",
       "      <td>NaN</td>\n",
       "      <td>False</td>\n",
       "      <td>False</td>\n",
       "      <td>6.10</td>\n",
       "      <td>NaN</td>\n",
       "      <td>Санкт-Петербург</td>\n",
       "      <td>15414.0</td>\n",
       "      <td>14211.0</td>\n",
       "      <td>2.0</td>\n",
       "      <td>517.0</td>\n",
       "      <td>1.0</td>\n",
       "      <td>190.0</td>\n",
       "      <td>615.0</td>\n",
       "    </tr>\n",
       "    <tr>\n",
       "      <th>24</th>\n",
       "      <td>8</td>\n",
       "      <td>6500000.0</td>\n",
       "      <td>97.20</td>\n",
       "      <td>2015-10-31T00:00:00</td>\n",
       "      <td>2</td>\n",
       "      <td>NaN</td>\n",
       "      <td>3.0</td>\n",
       "      <td>46.50</td>\n",
       "      <td>1</td>\n",
       "      <td>NaN</td>\n",
       "      <td>False</td>\n",
       "      <td>False</td>\n",
       "      <td>19.60</td>\n",
       "      <td>0.0</td>\n",
       "      <td>Санкт-Петербург</td>\n",
       "      <td>20052.0</td>\n",
       "      <td>2336.0</td>\n",
       "      <td>3.0</td>\n",
       "      <td>411.0</td>\n",
       "      <td>3.0</td>\n",
       "      <td>124.0</td>\n",
       "      <td>265.0</td>\n",
       "    </tr>\n",
       "    <tr>\n",
       "      <th>25</th>\n",
       "      <td>3</td>\n",
       "      <td>6800000.0</td>\n",
       "      <td>76.00</td>\n",
       "      <td>2015-10-01T00:00:00</td>\n",
       "      <td>2</td>\n",
       "      <td>2.75</td>\n",
       "      <td>23.0</td>\n",
       "      <td>39.00</td>\n",
       "      <td>18</td>\n",
       "      <td>False</td>\n",
       "      <td>False</td>\n",
       "      <td>False</td>\n",
       "      <td>15.00</td>\n",
       "      <td>2.0</td>\n",
       "      <td>Санкт-Петербург</td>\n",
       "      <td>34967.0</td>\n",
       "      <td>14640.0</td>\n",
       "      <td>0.0</td>\n",
       "      <td>NaN</td>\n",
       "      <td>1.0</td>\n",
       "      <td>564.0</td>\n",
       "      <td>300.0</td>\n",
       "    </tr>\n",
       "    <tr>\n",
       "      <th>26</th>\n",
       "      <td>6</td>\n",
       "      <td>4050000.0</td>\n",
       "      <td>60.00</td>\n",
       "      <td>2017-04-28T00:00:00</td>\n",
       "      <td>4</td>\n",
       "      <td>NaN</td>\n",
       "      <td>5.0</td>\n",
       "      <td>43.00</td>\n",
       "      <td>4</td>\n",
       "      <td>NaN</td>\n",
       "      <td>False</td>\n",
       "      <td>False</td>\n",
       "      <td>7.00</td>\n",
       "      <td>NaN</td>\n",
       "      <td>Санкт-Петербург</td>\n",
       "      <td>11580.0</td>\n",
       "      <td>10510.0</td>\n",
       "      <td>0.0</td>\n",
       "      <td>NaN</td>\n",
       "      <td>1.0</td>\n",
       "      <td>95.0</td>\n",
       "      <td>265.0</td>\n",
       "    </tr>\n",
       "    <tr>\n",
       "      <th>27</th>\n",
       "      <td>20</td>\n",
       "      <td>7100000.0</td>\n",
       "      <td>70.00</td>\n",
       "      <td>2017-05-12T00:00:00</td>\n",
       "      <td>3</td>\n",
       "      <td>2.60</td>\n",
       "      <td>17.0</td>\n",
       "      <td>49.00</td>\n",
       "      <td>11</td>\n",
       "      <td>NaN</td>\n",
       "      <td>False</td>\n",
       "      <td>False</td>\n",
       "      <td>9.20</td>\n",
       "      <td>0.0</td>\n",
       "      <td>Санкт-Петербург</td>\n",
       "      <td>29197.0</td>\n",
       "      <td>11456.0</td>\n",
       "      <td>2.0</td>\n",
       "      <td>452.0</td>\n",
       "      <td>1.0</td>\n",
       "      <td>779.0</td>\n",
       "      <td>151.0</td>\n",
       "    </tr>\n",
       "    <tr>\n",
       "      <th>28</th>\n",
       "      <td>8</td>\n",
       "      <td>4170000.0</td>\n",
       "      <td>44.00</td>\n",
       "      <td>2017-12-13T00:00:00</td>\n",
       "      <td>1</td>\n",
       "      <td>2.90</td>\n",
       "      <td>6.0</td>\n",
       "      <td>20.80</td>\n",
       "      <td>1</td>\n",
       "      <td>NaN</td>\n",
       "      <td>False</td>\n",
       "      <td>False</td>\n",
       "      <td>11.70</td>\n",
       "      <td>1.0</td>\n",
       "      <td>Пушкин</td>\n",
       "      <td>18557.0</td>\n",
       "      <td>30710.0</td>\n",
       "      <td>0.0</td>\n",
       "      <td>NaN</td>\n",
       "      <td>1.0</td>\n",
       "      <td>118.0</td>\n",
       "      <td>74.0</td>\n",
       "    </tr>\n",
       "    <tr>\n",
       "      <th>29</th>\n",
       "      <td>9</td>\n",
       "      <td>8600000.0</td>\n",
       "      <td>100.00</td>\n",
       "      <td>2016-04-09T00:00:00</td>\n",
       "      <td>3</td>\n",
       "      <td>NaN</td>\n",
       "      <td>19.0</td>\n",
       "      <td>52.00</td>\n",
       "      <td>15</td>\n",
       "      <td>False</td>\n",
       "      <td>False</td>\n",
       "      <td>False</td>\n",
       "      <td>11.00</td>\n",
       "      <td>0.0</td>\n",
       "      <td>Санкт-Петербург</td>\n",
       "      <td>30394.0</td>\n",
       "      <td>11526.0</td>\n",
       "      <td>1.0</td>\n",
       "      <td>532.0</td>\n",
       "      <td>1.0</td>\n",
       "      <td>896.0</td>\n",
       "      <td>125.0</td>\n",
       "    </tr>\n",
       "    <tr>\n",
       "      <th>30</th>\n",
       "      <td>12</td>\n",
       "      <td>2200000.0</td>\n",
       "      <td>32.80</td>\n",
       "      <td>2018-02-19T00:00:00</td>\n",
       "      <td>1</td>\n",
       "      <td>NaN</td>\n",
       "      <td>9.0</td>\n",
       "      <td>NaN</td>\n",
       "      <td>2</td>\n",
       "      <td>NaN</td>\n",
       "      <td>False</td>\n",
       "      <td>False</td>\n",
       "      <td>NaN</td>\n",
       "      <td>NaN</td>\n",
       "      <td>Коммунар</td>\n",
       "      <td>NaN</td>\n",
       "      <td>NaN</td>\n",
       "      <td>NaN</td>\n",
       "      <td>NaN</td>\n",
       "      <td>NaN</td>\n",
       "      <td>NaN</td>\n",
       "      <td>63.0</td>\n",
       "    </tr>\n",
       "    <tr>\n",
       "      <th>31</th>\n",
       "      <td>8</td>\n",
       "      <td>7200000.0</td>\n",
       "      <td>67.90</td>\n",
       "      <td>2017-10-26T00:00:00</td>\n",
       "      <td>2</td>\n",
       "      <td>2.80</td>\n",
       "      <td>16.0</td>\n",
       "      <td>38.10</td>\n",
       "      <td>4</td>\n",
       "      <td>NaN</td>\n",
       "      <td>False</td>\n",
       "      <td>False</td>\n",
       "      <td>13.40</td>\n",
       "      <td>2.0</td>\n",
       "      <td>Санкт-Петербург</td>\n",
       "      <td>32888.0</td>\n",
       "      <td>12944.0</td>\n",
       "      <td>0.0</td>\n",
       "      <td>NaN</td>\n",
       "      <td>0.0</td>\n",
       "      <td>NaN</td>\n",
       "      <td>112.0</td>\n",
       "    </tr>\n",
       "    <tr>\n",
       "      <th>32</th>\n",
       "      <td>7</td>\n",
       "      <td>4990000.0</td>\n",
       "      <td>60.00</td>\n",
       "      <td>2016-05-22T00:00:00</td>\n",
       "      <td>3</td>\n",
       "      <td>NaN</td>\n",
       "      <td>5.0</td>\n",
       "      <td>39.00</td>\n",
       "      <td>4</td>\n",
       "      <td>NaN</td>\n",
       "      <td>False</td>\n",
       "      <td>False</td>\n",
       "      <td>6.00</td>\n",
       "      <td>0.0</td>\n",
       "      <td>Санкт-Петербург</td>\n",
       "      <td>11349.0</td>\n",
       "      <td>12889.0</td>\n",
       "      <td>0.0</td>\n",
       "      <td>NaN</td>\n",
       "      <td>1.0</td>\n",
       "      <td>426.0</td>\n",
       "      <td>224.0</td>\n",
       "    </tr>\n",
       "    <tr>\n",
       "      <th>33</th>\n",
       "      <td>8</td>\n",
       "      <td>4800000.0</td>\n",
       "      <td>73.00</td>\n",
       "      <td>2018-10-15T00:00:00</td>\n",
       "      <td>4</td>\n",
       "      <td>NaN</td>\n",
       "      <td>9.0</td>\n",
       "      <td>51.60</td>\n",
       "      <td>5</td>\n",
       "      <td>NaN</td>\n",
       "      <td>False</td>\n",
       "      <td>False</td>\n",
       "      <td>6.50</td>\n",
       "      <td>NaN</td>\n",
       "      <td>Колпино</td>\n",
       "      <td>26535.0</td>\n",
       "      <td>32321.0</td>\n",
       "      <td>0.0</td>\n",
       "      <td>NaN</td>\n",
       "      <td>0.0</td>\n",
       "      <td>NaN</td>\n",
       "      <td>92.0</td>\n",
       "    </tr>\n",
       "    <tr>\n",
       "      <th>34</th>\n",
       "      <td>3</td>\n",
       "      <td>3290000.0</td>\n",
       "      <td>33.00</td>\n",
       "      <td>2018-02-04T00:00:00</td>\n",
       "      <td>1</td>\n",
       "      <td>2.55</td>\n",
       "      <td>16.0</td>\n",
       "      <td>14.00</td>\n",
       "      <td>3</td>\n",
       "      <td>NaN</td>\n",
       "      <td>False</td>\n",
       "      <td>False</td>\n",
       "      <td>8.00</td>\n",
       "      <td>NaN</td>\n",
       "      <td>Санкт-Петербург</td>\n",
       "      <td>13943.0</td>\n",
       "      <td>12739.0</td>\n",
       "      <td>0.0</td>\n",
       "      <td>NaN</td>\n",
       "      <td>0.0</td>\n",
       "      <td>NaN</td>\n",
       "      <td>15.0</td>\n",
       "    </tr>\n",
       "    <tr>\n",
       "      <th>35</th>\n",
       "      <td>6</td>\n",
       "      <td>15500000.0</td>\n",
       "      <td>149.00</td>\n",
       "      <td>2017-06-26T00:00:00</td>\n",
       "      <td>5</td>\n",
       "      <td>NaN</td>\n",
       "      <td>5.0</td>\n",
       "      <td>104.00</td>\n",
       "      <td>4</td>\n",
       "      <td>NaN</td>\n",
       "      <td>False</td>\n",
       "      <td>False</td>\n",
       "      <td>17.00</td>\n",
       "      <td>NaN</td>\n",
       "      <td>Санкт-Петербург</td>\n",
       "      <td>23670.0</td>\n",
       "      <td>3502.0</td>\n",
       "      <td>0.0</td>\n",
       "      <td>NaN</td>\n",
       "      <td>1.0</td>\n",
       "      <td>779.0</td>\n",
       "      <td>644.0</td>\n",
       "    </tr>\n",
       "    <tr>\n",
       "      <th>36</th>\n",
       "      <td>13</td>\n",
       "      <td>3790000.0</td>\n",
       "      <td>45.00</td>\n",
       "      <td>2017-01-25T00:00:00</td>\n",
       "      <td>2</td>\n",
       "      <td>NaN</td>\n",
       "      <td>9.0</td>\n",
       "      <td>27.00</td>\n",
       "      <td>9</td>\n",
       "      <td>False</td>\n",
       "      <td>False</td>\n",
       "      <td>False</td>\n",
       "      <td>6.30</td>\n",
       "      <td>2.0</td>\n",
       "      <td>Санкт-Петербург</td>\n",
       "      <td>49574.0</td>\n",
       "      <td>16461.0</td>\n",
       "      <td>1.0</td>\n",
       "      <td>459.0</td>\n",
       "      <td>0.0</td>\n",
       "      <td>NaN</td>\n",
       "      <td>139.0</td>\n",
       "    </tr>\n",
       "    <tr>\n",
       "      <th>37</th>\n",
       "      <td>10</td>\n",
       "      <td>1990000.0</td>\n",
       "      <td>45.80</td>\n",
       "      <td>2017-10-28T00:00:00</td>\n",
       "      <td>2</td>\n",
       "      <td>2.50</td>\n",
       "      <td>5.0</td>\n",
       "      <td>NaN</td>\n",
       "      <td>1</td>\n",
       "      <td>NaN</td>\n",
       "      <td>False</td>\n",
       "      <td>False</td>\n",
       "      <td>NaN</td>\n",
       "      <td>NaN</td>\n",
       "      <td>поселок городского типа Красный Бор</td>\n",
       "      <td>NaN</td>\n",
       "      <td>NaN</td>\n",
       "      <td>NaN</td>\n",
       "      <td>NaN</td>\n",
       "      <td>NaN</td>\n",
       "      <td>NaN</td>\n",
       "      <td>196.0</td>\n",
       "    </tr>\n",
       "    <tr>\n",
       "      <th>38</th>\n",
       "      <td>10</td>\n",
       "      <td>3150000.0</td>\n",
       "      <td>40.00</td>\n",
       "      <td>2018-03-29T00:00:00</td>\n",
       "      <td>1</td>\n",
       "      <td>2.75</td>\n",
       "      <td>18.0</td>\n",
       "      <td>16.30</td>\n",
       "      <td>9</td>\n",
       "      <td>NaN</td>\n",
       "      <td>False</td>\n",
       "      <td>False</td>\n",
       "      <td>11.60</td>\n",
       "      <td>NaN</td>\n",
       "      <td>посёлок Мурино</td>\n",
       "      <td>NaN</td>\n",
       "      <td>NaN</td>\n",
       "      <td>NaN</td>\n",
       "      <td>NaN</td>\n",
       "      <td>NaN</td>\n",
       "      <td>NaN</td>\n",
       "      <td>103.0</td>\n",
       "    </tr>\n",
       "    <tr>\n",
       "      <th>39</th>\n",
       "      <td>15</td>\n",
       "      <td>5200000.0</td>\n",
       "      <td>54.40</td>\n",
       "      <td>2018-11-29T00:00:00</td>\n",
       "      <td>2</td>\n",
       "      <td>2.75</td>\n",
       "      <td>9.0</td>\n",
       "      <td>29.70</td>\n",
       "      <td>2</td>\n",
       "      <td>NaN</td>\n",
       "      <td>False</td>\n",
       "      <td>False</td>\n",
       "      <td>8.80</td>\n",
       "      <td>2.0</td>\n",
       "      <td>Санкт-Петербург</td>\n",
       "      <td>13413.0</td>\n",
       "      <td>12209.0</td>\n",
       "      <td>0.0</td>\n",
       "      <td>NaN</td>\n",
       "      <td>1.0</td>\n",
       "      <td>1175.0</td>\n",
       "      <td>29.0</td>\n",
       "    </tr>\n",
       "    <tr>\n",
       "      <th>40</th>\n",
       "      <td>9</td>\n",
       "      <td>3590000.0</td>\n",
       "      <td>36.00</td>\n",
       "      <td>2017-03-15T00:00:00</td>\n",
       "      <td>1</td>\n",
       "      <td>2.60</td>\n",
       "      <td>26.0</td>\n",
       "      <td>15.00</td>\n",
       "      <td>22</td>\n",
       "      <td>NaN</td>\n",
       "      <td>False</td>\n",
       "      <td>False</td>\n",
       "      <td>10.00</td>\n",
       "      <td>2.0</td>\n",
       "      <td>посёлок Парголово</td>\n",
       "      <td>52996.0</td>\n",
       "      <td>19143.0</td>\n",
       "      <td>0.0</td>\n",
       "      <td>NaN</td>\n",
       "      <td>0.0</td>\n",
       "      <td>NaN</td>\n",
       "      <td>430.0</td>\n",
       "    </tr>\n",
       "    <tr>\n",
       "      <th>41</th>\n",
       "      <td>16</td>\n",
       "      <td>7900000.0</td>\n",
       "      <td>74.00</td>\n",
       "      <td>2016-05-04T00:00:00</td>\n",
       "      <td>3</td>\n",
       "      <td>NaN</td>\n",
       "      <td>14.0</td>\n",
       "      <td>59.00</td>\n",
       "      <td>8</td>\n",
       "      <td>False</td>\n",
       "      <td>False</td>\n",
       "      <td>False</td>\n",
       "      <td>12.00</td>\n",
       "      <td>5.0</td>\n",
       "      <td>Санкт-Петербург</td>\n",
       "      <td>37715.0</td>\n",
       "      <td>12612.0</td>\n",
       "      <td>1.0</td>\n",
       "      <td>725.0</td>\n",
       "      <td>1.0</td>\n",
       "      <td>759.0</td>\n",
       "      <td>179.0</td>\n",
       "    </tr>\n",
       "    <tr>\n",
       "      <th>42</th>\n",
       "      <td>13</td>\n",
       "      <td>22000000.0</td>\n",
       "      <td>161.80</td>\n",
       "      <td>2015-07-08T00:00:00</td>\n",
       "      <td>4</td>\n",
       "      <td>2.80</td>\n",
       "      <td>4.0</td>\n",
       "      <td>80.90</td>\n",
       "      <td>2</td>\n",
       "      <td>False</td>\n",
       "      <td>False</td>\n",
       "      <td>False</td>\n",
       "      <td>17.60</td>\n",
       "      <td>5.0</td>\n",
       "      <td>Петергоф</td>\n",
       "      <td>35416.0</td>\n",
       "      <td>30605.0</td>\n",
       "      <td>2.0</td>\n",
       "      <td>47.0</td>\n",
       "      <td>1.0</td>\n",
       "      <td>907.0</td>\n",
       "      <td>987.0</td>\n",
       "    </tr>\n",
       "    <tr>\n",
       "      <th>43</th>\n",
       "      <td>13</td>\n",
       "      <td>9330000.0</td>\n",
       "      <td>48.00</td>\n",
       "      <td>2017-01-10T00:00:00</td>\n",
       "      <td>2</td>\n",
       "      <td>3.00</td>\n",
       "      <td>4.0</td>\n",
       "      <td>28.00</td>\n",
       "      <td>4</td>\n",
       "      <td>NaN</td>\n",
       "      <td>False</td>\n",
       "      <td>False</td>\n",
       "      <td>7.50</td>\n",
       "      <td>NaN</td>\n",
       "      <td>Санкт-Петербург</td>\n",
       "      <td>15016.0</td>\n",
       "      <td>10822.0</td>\n",
       "      <td>0.0</td>\n",
       "      <td>NaN</td>\n",
       "      <td>1.0</td>\n",
       "      <td>492.0</td>\n",
       "      <td>763.0</td>\n",
       "    </tr>\n",
       "    <tr>\n",
       "      <th>44</th>\n",
       "      <td>13</td>\n",
       "      <td>5350000.0</td>\n",
       "      <td>40.00</td>\n",
       "      <td>2018-11-18T00:00:00</td>\n",
       "      <td>1</td>\n",
       "      <td>NaN</td>\n",
       "      <td>22.0</td>\n",
       "      <td>NaN</td>\n",
       "      <td>3</td>\n",
       "      <td>NaN</td>\n",
       "      <td>False</td>\n",
       "      <td>False</td>\n",
       "      <td>NaN</td>\n",
       "      <td>1.0</td>\n",
       "      <td>Санкт-Петербург</td>\n",
       "      <td>30471.0</td>\n",
       "      <td>11603.0</td>\n",
       "      <td>1.0</td>\n",
       "      <td>620.0</td>\n",
       "      <td>1.0</td>\n",
       "      <td>1152.0</td>\n",
       "      <td>NaN</td>\n",
       "    </tr>\n",
       "    <tr>\n",
       "      <th>45</th>\n",
       "      <td>17</td>\n",
       "      <td>5200000.0</td>\n",
       "      <td>50.60</td>\n",
       "      <td>2018-12-02T00:00:00</td>\n",
       "      <td>2</td>\n",
       "      <td>2.65</td>\n",
       "      <td>9.0</td>\n",
       "      <td>30.30</td>\n",
       "      <td>7</td>\n",
       "      <td>NaN</td>\n",
       "      <td>False</td>\n",
       "      <td>False</td>\n",
       "      <td>7.00</td>\n",
       "      <td>NaN</td>\n",
       "      <td>Санкт-Петербург</td>\n",
       "      <td>30011.0</td>\n",
       "      <td>12872.0</td>\n",
       "      <td>0.0</td>\n",
       "      <td>NaN</td>\n",
       "      <td>0.0</td>\n",
       "      <td>NaN</td>\n",
       "      <td>NaN</td>\n",
       "    </tr>\n",
       "    <tr>\n",
       "      <th>46</th>\n",
       "      <td>17</td>\n",
       "      <td>6600000.0</td>\n",
       "      <td>52.10</td>\n",
       "      <td>2019-01-31T00:00:00</td>\n",
       "      <td>2</td>\n",
       "      <td>2.60</td>\n",
       "      <td>24.0</td>\n",
       "      <td>29.70</td>\n",
       "      <td>9</td>\n",
       "      <td>NaN</td>\n",
       "      <td>False</td>\n",
       "      <td>False</td>\n",
       "      <td>8.30</td>\n",
       "      <td>2.0</td>\n",
       "      <td>Санкт-Петербург</td>\n",
       "      <td>15114.0</td>\n",
       "      <td>12702.0</td>\n",
       "      <td>0.0</td>\n",
       "      <td>NaN</td>\n",
       "      <td>0.0</td>\n",
       "      <td>NaN</td>\n",
       "      <td>NaN</td>\n",
       "    </tr>\n",
       "    <tr>\n",
       "      <th>47</th>\n",
       "      <td>17</td>\n",
       "      <td>3600000.0</td>\n",
       "      <td>56.10</td>\n",
       "      <td>2018-10-18T00:00:00</td>\n",
       "      <td>3</td>\n",
       "      <td>NaN</td>\n",
       "      <td>4.0</td>\n",
       "      <td>42.50</td>\n",
       "      <td>3</td>\n",
       "      <td>NaN</td>\n",
       "      <td>False</td>\n",
       "      <td>False</td>\n",
       "      <td>5.70</td>\n",
       "      <td>1.0</td>\n",
       "      <td>Гатчина</td>\n",
       "      <td>NaN</td>\n",
       "      <td>NaN</td>\n",
       "      <td>NaN</td>\n",
       "      <td>NaN</td>\n",
       "      <td>NaN</td>\n",
       "      <td>NaN</td>\n",
       "      <td>179.0</td>\n",
       "    </tr>\n",
       "    <tr>\n",
       "      <th>48</th>\n",
       "      <td>10</td>\n",
       "      <td>3600000.0</td>\n",
       "      <td>33.83</td>\n",
       "      <td>2017-10-03T00:00:00</td>\n",
       "      <td>1</td>\n",
       "      <td>NaN</td>\n",
       "      <td>24.0</td>\n",
       "      <td>15.35</td>\n",
       "      <td>6</td>\n",
       "      <td>NaN</td>\n",
       "      <td>False</td>\n",
       "      <td>False</td>\n",
       "      <td>9.50</td>\n",
       "      <td>NaN</td>\n",
       "      <td>Санкт-Петербург</td>\n",
       "      <td>21460.0</td>\n",
       "      <td>16788.0</td>\n",
       "      <td>0.0</td>\n",
       "      <td>NaN</td>\n",
       "      <td>1.0</td>\n",
       "      <td>170.0</td>\n",
       "      <td>322.0</td>\n",
       "    </tr>\n",
       "    <tr>\n",
       "      <th>49</th>\n",
       "      <td>1</td>\n",
       "      <td>3050000.0</td>\n",
       "      <td>30.80</td>\n",
       "      <td>2018-11-22T00:00:00</td>\n",
       "      <td>1</td>\n",
       "      <td>2.50</td>\n",
       "      <td>9.0</td>\n",
       "      <td>18.00</td>\n",
       "      <td>7</td>\n",
       "      <td>NaN</td>\n",
       "      <td>False</td>\n",
       "      <td>False</td>\n",
       "      <td>6.00</td>\n",
       "      <td>NaN</td>\n",
       "      <td>Санкт-Петербург</td>\n",
       "      <td>45341.0</td>\n",
       "      <td>16603.0</td>\n",
       "      <td>1.0</td>\n",
       "      <td>675.0</td>\n",
       "      <td>0.0</td>\n",
       "      <td>NaN</td>\n",
       "      <td>NaN</td>\n",
       "    </tr>\n",
       "  </tbody>\n",
       "</table>\n",
       "</div>"
      ],
      "text/plain": [
       "    total_images  last_price  total_area first_day_exposition  rooms  \\\n",
       "0             20  13000000.0      108.00  2019-03-07T00:00:00      3   \n",
       "1              7   3350000.0       40.40  2018-12-04T00:00:00      1   \n",
       "2             10   5196000.0       56.00  2015-08-20T00:00:00      2   \n",
       "3              0  64900000.0      159.00  2015-07-24T00:00:00      3   \n",
       "4              2  10000000.0      100.00  2018-06-19T00:00:00      2   \n",
       "5             10   2890000.0       30.40  2018-09-10T00:00:00      1   \n",
       "6              6   3700000.0       37.30  2017-11-02T00:00:00      1   \n",
       "7              5   7915000.0       71.60  2019-04-18T00:00:00      2   \n",
       "8             20   2900000.0       33.16  2018-05-23T00:00:00      1   \n",
       "9             18   5400000.0       61.00  2017-02-26T00:00:00      3   \n",
       "10             5   5050000.0       39.60  2017-11-16T00:00:00      1   \n",
       "11             9   3300000.0       44.00  2018-08-27T00:00:00      2   \n",
       "12            10   3890000.0       54.00  2016-06-30T00:00:00      2   \n",
       "13            20   3550000.0       42.80  2017-07-01T00:00:00      2   \n",
       "14             1   4400000.0       36.00  2016-06-23T00:00:00      1   \n",
       "15            16   4650000.0       39.00  2017-11-18T00:00:00      1   \n",
       "16            11   6700000.0       82.00  2017-11-23T00:00:00      3   \n",
       "17             6   4180000.0       36.00  2016-09-09T00:00:00      1   \n",
       "18             8   3250000.0       31.00  2017-01-27T00:00:00      1   \n",
       "19            16  14200000.0      121.00  2019-01-09T00:00:00      3   \n",
       "20            12   6120000.0       80.00  2017-09-28T00:00:00      3   \n",
       "21            13   3200000.0       31.60  2018-03-14T00:00:00      1   \n",
       "22            20   5000000.0       58.00  2017-04-24T00:00:00      2   \n",
       "23            11   2950000.0       32.00  2016-10-29T00:00:00      1   \n",
       "24             8   6500000.0       97.20  2015-10-31T00:00:00      2   \n",
       "25             3   6800000.0       76.00  2015-10-01T00:00:00      2   \n",
       "26             6   4050000.0       60.00  2017-04-28T00:00:00      4   \n",
       "27            20   7100000.0       70.00  2017-05-12T00:00:00      3   \n",
       "28             8   4170000.0       44.00  2017-12-13T00:00:00      1   \n",
       "29             9   8600000.0      100.00  2016-04-09T00:00:00      3   \n",
       "30            12   2200000.0       32.80  2018-02-19T00:00:00      1   \n",
       "31             8   7200000.0       67.90  2017-10-26T00:00:00      2   \n",
       "32             7   4990000.0       60.00  2016-05-22T00:00:00      3   \n",
       "33             8   4800000.0       73.00  2018-10-15T00:00:00      4   \n",
       "34             3   3290000.0       33.00  2018-02-04T00:00:00      1   \n",
       "35             6  15500000.0      149.00  2017-06-26T00:00:00      5   \n",
       "36            13   3790000.0       45.00  2017-01-25T00:00:00      2   \n",
       "37            10   1990000.0       45.80  2017-10-28T00:00:00      2   \n",
       "38            10   3150000.0       40.00  2018-03-29T00:00:00      1   \n",
       "39            15   5200000.0       54.40  2018-11-29T00:00:00      2   \n",
       "40             9   3590000.0       36.00  2017-03-15T00:00:00      1   \n",
       "41            16   7900000.0       74.00  2016-05-04T00:00:00      3   \n",
       "42            13  22000000.0      161.80  2015-07-08T00:00:00      4   \n",
       "43            13   9330000.0       48.00  2017-01-10T00:00:00      2   \n",
       "44            13   5350000.0       40.00  2018-11-18T00:00:00      1   \n",
       "45            17   5200000.0       50.60  2018-12-02T00:00:00      2   \n",
       "46            17   6600000.0       52.10  2019-01-31T00:00:00      2   \n",
       "47            17   3600000.0       56.10  2018-10-18T00:00:00      3   \n",
       "48            10   3600000.0       33.83  2017-10-03T00:00:00      1   \n",
       "49             1   3050000.0       30.80  2018-11-22T00:00:00      1   \n",
       "\n",
       "    ceiling_height  floors_total  living_area  floor is_apartment  studio  \\\n",
       "0             2.70          16.0        51.00      8          NaN   False   \n",
       "1              NaN          11.0        18.60      1          NaN   False   \n",
       "2              NaN           5.0        34.30      4          NaN   False   \n",
       "3              NaN          14.0          NaN      9          NaN   False   \n",
       "4             3.03          14.0        32.00     13          NaN   False   \n",
       "5              NaN          12.0        14.40      5          NaN   False   \n",
       "6              NaN          26.0        10.60      6          NaN   False   \n",
       "7              NaN          24.0          NaN     22          NaN   False   \n",
       "8              NaN          27.0        15.43     26          NaN   False   \n",
       "9             2.50           9.0        43.60      7          NaN   False   \n",
       "10            2.67          12.0        20.30      3          NaN   False   \n",
       "11             NaN           5.0        31.00      4        False   False   \n",
       "12             NaN           5.0        30.00      5          NaN   False   \n",
       "13            2.56           5.0        27.00      5          NaN   False   \n",
       "14             NaN           6.0        17.00      1          NaN   False   \n",
       "15             NaN          14.0        20.50      5          NaN   False   \n",
       "16            3.05           5.0        55.60      1          NaN   False   \n",
       "17             NaN          17.0        16.50      7          NaN   False   \n",
       "18            2.50           5.0        19.40      2          NaN   False   \n",
       "19            2.75          16.0        76.00      8          NaN   False   \n",
       "20            2.70          27.0        48.00     11          NaN   False   \n",
       "21             NaN           5.0        16.90      2          NaN   False   \n",
       "22            2.75          25.0        30.00     15          NaN   False   \n",
       "23            2.60           9.0        17.70      9          NaN   False   \n",
       "24             NaN           3.0        46.50      1          NaN   False   \n",
       "25            2.75          23.0        39.00     18        False   False   \n",
       "26             NaN           5.0        43.00      4          NaN   False   \n",
       "27            2.60          17.0        49.00     11          NaN   False   \n",
       "28            2.90           6.0        20.80      1          NaN   False   \n",
       "29             NaN          19.0        52.00     15        False   False   \n",
       "30             NaN           9.0          NaN      2          NaN   False   \n",
       "31            2.80          16.0        38.10      4          NaN   False   \n",
       "32             NaN           5.0        39.00      4          NaN   False   \n",
       "33             NaN           9.0        51.60      5          NaN   False   \n",
       "34            2.55          16.0        14.00      3          NaN   False   \n",
       "35             NaN           5.0       104.00      4          NaN   False   \n",
       "36             NaN           9.0        27.00      9        False   False   \n",
       "37            2.50           5.0          NaN      1          NaN   False   \n",
       "38            2.75          18.0        16.30      9          NaN   False   \n",
       "39            2.75           9.0        29.70      2          NaN   False   \n",
       "40            2.60          26.0        15.00     22          NaN   False   \n",
       "41             NaN          14.0        59.00      8        False   False   \n",
       "42            2.80           4.0        80.90      2        False   False   \n",
       "43            3.00           4.0        28.00      4          NaN   False   \n",
       "44             NaN          22.0          NaN      3          NaN   False   \n",
       "45            2.65           9.0        30.30      7          NaN   False   \n",
       "46            2.60          24.0        29.70      9          NaN   False   \n",
       "47             NaN           4.0        42.50      3          NaN   False   \n",
       "48             NaN          24.0        15.35      6          NaN   False   \n",
       "49            2.50           9.0        18.00      7          NaN   False   \n",
       "\n",
       "    open_plan  kitchen_area  balcony                        locality_name  \\\n",
       "0       False         25.00      NaN                      Санкт-Петербург   \n",
       "1       False         11.00      2.0                       посёлок Шушары   \n",
       "2       False          8.30      0.0                      Санкт-Петербург   \n",
       "3       False           NaN      0.0                      Санкт-Петербург   \n",
       "4       False         41.00      NaN                      Санкт-Петербург   \n",
       "5       False          9.10      NaN            городской посёлок Янино-1   \n",
       "6       False         14.40      1.0                    посёлок Парголово   \n",
       "7       False         18.90      2.0                      Санкт-Петербург   \n",
       "8       False          8.81      NaN                       посёлок Мурино   \n",
       "9       False          6.50      2.0                      Санкт-Петербург   \n",
       "10      False          8.50      NaN                      Санкт-Петербург   \n",
       "11      False          6.00      1.0                            Ломоносов   \n",
       "12      False          9.00      0.0                            Сертолово   \n",
       "13      False          5.20      1.0                             Петергоф   \n",
       "14      False          8.00      0.0                               Пушкин   \n",
       "15      False          7.60      1.0                      Санкт-Петербург   \n",
       "16      False          9.00      NaN                      Санкт-Петербург   \n",
       "17      False         11.00      1.0                      Санкт-Петербург   \n",
       "18      False          5.60      1.0                      Санкт-Петербург   \n",
       "19      False         12.00      NaN                      Санкт-Петербург   \n",
       "20      False         12.00      2.0                    посёлок Парголово   \n",
       "21      False          5.70      1.0                      Санкт-Петербург   \n",
       "22      False         11.00      2.0                      деревня Кудрово   \n",
       "23      False          6.10      NaN                      Санкт-Петербург   \n",
       "24      False         19.60      0.0                      Санкт-Петербург   \n",
       "25      False         15.00      2.0                      Санкт-Петербург   \n",
       "26      False          7.00      NaN                      Санкт-Петербург   \n",
       "27      False          9.20      0.0                      Санкт-Петербург   \n",
       "28      False         11.70      1.0                               Пушкин   \n",
       "29      False         11.00      0.0                      Санкт-Петербург   \n",
       "30      False           NaN      NaN                             Коммунар   \n",
       "31      False         13.40      2.0                      Санкт-Петербург   \n",
       "32      False          6.00      0.0                      Санкт-Петербург   \n",
       "33      False          6.50      NaN                              Колпино   \n",
       "34      False          8.00      NaN                      Санкт-Петербург   \n",
       "35      False         17.00      NaN                      Санкт-Петербург   \n",
       "36      False          6.30      2.0                      Санкт-Петербург   \n",
       "37      False           NaN      NaN  поселок городского типа Красный Бор   \n",
       "38      False         11.60      NaN                       посёлок Мурино   \n",
       "39      False          8.80      2.0                      Санкт-Петербург   \n",
       "40      False         10.00      2.0                    посёлок Парголово   \n",
       "41      False         12.00      5.0                      Санкт-Петербург   \n",
       "42      False         17.60      5.0                             Петергоф   \n",
       "43      False          7.50      NaN                      Санкт-Петербург   \n",
       "44      False           NaN      1.0                      Санкт-Петербург   \n",
       "45      False          7.00      NaN                      Санкт-Петербург   \n",
       "46      False          8.30      2.0                      Санкт-Петербург   \n",
       "47      False          5.70      1.0                              Гатчина   \n",
       "48      False          9.50      NaN                      Санкт-Петербург   \n",
       "49      False          6.00      NaN                      Санкт-Петербург   \n",
       "\n",
       "    airports_nearest  cityCenters_nearest  parks_around3000  parks_nearest  \\\n",
       "0            18863.0              16028.0               1.0          482.0   \n",
       "1            12817.0              18603.0               0.0            NaN   \n",
       "2            21741.0              13933.0               1.0           90.0   \n",
       "3            28098.0               6800.0               2.0           84.0   \n",
       "4            31856.0               8098.0               2.0          112.0   \n",
       "5                NaN                  NaN               NaN            NaN   \n",
       "6            52996.0              19143.0               0.0            NaN   \n",
       "7            23982.0              11634.0               0.0            NaN   \n",
       "8                NaN                  NaN               NaN            NaN   \n",
       "9            50898.0              15008.0               0.0            NaN   \n",
       "10           38357.0              13878.0               1.0          310.0   \n",
       "11           48252.0              51677.0               0.0            NaN   \n",
       "12               NaN                  NaN               NaN            NaN   \n",
       "13           37868.0              33058.0               1.0          294.0   \n",
       "14           20782.0              30759.0               0.0            NaN   \n",
       "15           12900.0              14259.0               1.0          590.0   \n",
       "16           22108.0              10698.0               3.0          420.0   \n",
       "17           33564.0              14616.0               0.0            NaN   \n",
       "18           44060.0              10842.0               1.0          759.0   \n",
       "19           38900.0              12843.0               0.0            NaN   \n",
       "20           53134.0              19311.0               0.0            NaN   \n",
       "21           36064.0               9722.0               1.0          248.0   \n",
       "22               NaN                  NaN               NaN            NaN   \n",
       "23           15414.0              14211.0               2.0          517.0   \n",
       "24           20052.0               2336.0               3.0          411.0   \n",
       "25           34967.0              14640.0               0.0            NaN   \n",
       "26           11580.0              10510.0               0.0            NaN   \n",
       "27           29197.0              11456.0               2.0          452.0   \n",
       "28           18557.0              30710.0               0.0            NaN   \n",
       "29           30394.0              11526.0               1.0          532.0   \n",
       "30               NaN                  NaN               NaN            NaN   \n",
       "31           32888.0              12944.0               0.0            NaN   \n",
       "32           11349.0              12889.0               0.0            NaN   \n",
       "33           26535.0              32321.0               0.0            NaN   \n",
       "34           13943.0              12739.0               0.0            NaN   \n",
       "35           23670.0               3502.0               0.0            NaN   \n",
       "36           49574.0              16461.0               1.0          459.0   \n",
       "37               NaN                  NaN               NaN            NaN   \n",
       "38               NaN                  NaN               NaN            NaN   \n",
       "39           13413.0              12209.0               0.0            NaN   \n",
       "40           52996.0              19143.0               0.0            NaN   \n",
       "41           37715.0              12612.0               1.0          725.0   \n",
       "42           35416.0              30605.0               2.0           47.0   \n",
       "43           15016.0              10822.0               0.0            NaN   \n",
       "44           30471.0              11603.0               1.0          620.0   \n",
       "45           30011.0              12872.0               0.0            NaN   \n",
       "46           15114.0              12702.0               0.0            NaN   \n",
       "47               NaN                  NaN               NaN            NaN   \n",
       "48           21460.0              16788.0               0.0            NaN   \n",
       "49           45341.0              16603.0               1.0          675.0   \n",
       "\n",
       "    ponds_around3000  ponds_nearest  days_exposition  \n",
       "0                2.0          755.0              NaN  \n",
       "1                0.0            NaN             81.0  \n",
       "2                2.0          574.0            558.0  \n",
       "3                3.0          234.0            424.0  \n",
       "4                1.0           48.0            121.0  \n",
       "5                NaN            NaN             55.0  \n",
       "6                0.0            NaN            155.0  \n",
       "7                0.0            NaN              NaN  \n",
       "8                NaN            NaN            189.0  \n",
       "9                0.0            NaN            289.0  \n",
       "10               2.0          553.0            137.0  \n",
       "11               0.0            NaN              7.0  \n",
       "12               NaN            NaN             90.0  \n",
       "13               3.0          298.0            366.0  \n",
       "14               1.0           96.0            203.0  \n",
       "15               1.0          296.0             19.0  \n",
       "16               0.0            NaN            397.0  \n",
       "17               1.0          859.0            571.0  \n",
       "18               0.0            NaN            168.0  \n",
       "19               0.0            NaN             97.0  \n",
       "20               0.0            NaN             74.0  \n",
       "21               0.0            NaN            310.0  \n",
       "22               NaN            NaN             60.0  \n",
       "23               1.0          190.0            615.0  \n",
       "24               3.0          124.0            265.0  \n",
       "25               1.0          564.0            300.0  \n",
       "26               1.0           95.0            265.0  \n",
       "27               1.0          779.0            151.0  \n",
       "28               1.0          118.0             74.0  \n",
       "29               1.0          896.0            125.0  \n",
       "30               NaN            NaN             63.0  \n",
       "31               0.0            NaN            112.0  \n",
       "32               1.0          426.0            224.0  \n",
       "33               0.0            NaN             92.0  \n",
       "34               0.0            NaN             15.0  \n",
       "35               1.0          779.0            644.0  \n",
       "36               0.0            NaN            139.0  \n",
       "37               NaN            NaN            196.0  \n",
       "38               NaN            NaN            103.0  \n",
       "39               1.0         1175.0             29.0  \n",
       "40               0.0            NaN            430.0  \n",
       "41               1.0          759.0            179.0  \n",
       "42               1.0          907.0            987.0  \n",
       "43               1.0          492.0            763.0  \n",
       "44               1.0         1152.0              NaN  \n",
       "45               0.0            NaN              NaN  \n",
       "46               0.0            NaN              NaN  \n",
       "47               NaN            NaN            179.0  \n",
       "48               1.0          170.0            322.0  \n",
       "49               0.0            NaN              NaN  "
      ]
     },
     "execution_count": 2,
     "metadata": {},
     "output_type": "execute_result"
    }
   ],
   "source": [
    "try:\n",
    "    df = pd.read_csv('/Users/trndn/Desktop/DataScience/projects/real_estate_data.csv', sep='\\t')\n",
    "except:\n",
    "    df = pd.read_csv('/datasets/real_estate_data.csv', sep='\\t')\n",
    "\n",
    "pd.options.display.max_columns = None   #команада для отображения всех столбцов датафрейма \n",
    "df.head(50)"
   ]
  },
  {
   "cell_type": "markdown",
   "metadata": {},
   "source": [
    "Далее выведем на экран общую информацию о таблице с помощью метода `info`"
   ]
  },
  {
   "cell_type": "code",
   "execution_count": 3,
   "metadata": {},
   "outputs": [
    {
     "name": "stdout",
     "output_type": "stream",
     "text": [
      "<class 'pandas.core.frame.DataFrame'>\n",
      "RangeIndex: 23699 entries, 0 to 23698\n",
      "Data columns (total 22 columns):\n",
      " #   Column                Non-Null Count  Dtype  \n",
      "---  ------                --------------  -----  \n",
      " 0   total_images          23699 non-null  int64  \n",
      " 1   last_price            23699 non-null  float64\n",
      " 2   total_area            23699 non-null  float64\n",
      " 3   first_day_exposition  23699 non-null  object \n",
      " 4   rooms                 23699 non-null  int64  \n",
      " 5   ceiling_height        14504 non-null  float64\n",
      " 6   floors_total          23613 non-null  float64\n",
      " 7   living_area           21796 non-null  float64\n",
      " 8   floor                 23699 non-null  int64  \n",
      " 9   is_apartment          2775 non-null   object \n",
      " 10  studio                23699 non-null  bool   \n",
      " 11  open_plan             23699 non-null  bool   \n",
      " 12  kitchen_area          21421 non-null  float64\n",
      " 13  balcony               12180 non-null  float64\n",
      " 14  locality_name         23650 non-null  object \n",
      " 15  airports_nearest      18157 non-null  float64\n",
      " 16  cityCenters_nearest   18180 non-null  float64\n",
      " 17  parks_around3000      18181 non-null  float64\n",
      " 18  parks_nearest         8079 non-null   float64\n",
      " 19  ponds_around3000      18181 non-null  float64\n",
      " 20  ponds_nearest         9110 non-null   float64\n",
      " 21  days_exposition       20518 non-null  float64\n",
      "dtypes: bool(2), float64(14), int64(3), object(3)\n",
      "memory usage: 3.7+ MB\n"
     ]
    }
   ],
   "source": [
    "df.info()"
   ]
  },
  {
   "cell_type": "markdown",
   "metadata": {},
   "source": [
    "Согласно документации к данным:\n",
    "\n",
    "* `airports_nearest` — расстояние до ближайшего аэропорта в метрах (м)\n",
    "* `balcony` — число балконов\n",
    "* `ceiling_height` — высота потолков (м)\n",
    "* `cityCenters_nearest` — расстояние до центра города (м)\n",
    "* `days_exposition` — сколько дней было размещено объявление (от публикации до снятия)\n",
    "* `first_day_exposition` — дата публикации\n",
    "* `floor` — этаж\n",
    "* `floors_total` — всего этажей в доме\n",
    "* `is_apartment` — апартаменты (булев тип)\n",
    "* `kitchen_area` — площадь кухни в квадратных метрах (м²)\n",
    "* `last_price` — цена на момент снятия с публикации\n",
    "* `living_area` — жилая площадь в квадратных метрах (м²)\n",
    "* `locality_name` — название населённого пункта\n",
    "* `open_plan` — свободная планировка (булев тип)\n",
    "* `parks_around3000` — число парков в радиусе 3 км\n",
    "* `parks_nearest` — расстояние до ближайшего парка (м)\n",
    "* `ponds_around3000` — число водоёмов в радиусе 3 км\n",
    "* `ponds_nearest` — расстояние до ближайшего водоёма (м)\n",
    "* `rooms` — число комнат\n",
    "* `studio` — квартира-студия (булев тип)\n",
    "* `total_area` — площадь квартиры в квадратных метрах (м²)\n",
    "* `total_images` — число фотографий квартиры в объявлении\n"
   ]
  },
  {
   "cell_type": "markdown",
   "metadata": {},
   "source": [
    "### Вывод"
   ]
  },
  {
   "cell_type": "markdown",
   "metadata": {},
   "source": [
    "Получив первоначальную информацию, можно сделать следуюшие выводы.\n",
    "Датафрейм состоит из 22 столбцов и 23699 строк. \n",
    "\n",
    "Вывев первые 15 строк датафрейма, уже заметно, что имеется большое количество пропусков.\n",
    "\n",
    "Далее разберём по столбцам какие недочёты были замечены:\n",
    "* `total_images` - пропусков не обнаружено, тип данных корректный\n",
    "* `last_price` - пропусков не обнаружено, тип данных надо изменить на int\n",
    "* `total_area` - пропусков не обнаружено, тип данных корректный\n",
    "* `first_day_exposition` - пропусков не обнаружено, необходимо отформатировать значения даты \n",
    "* `rooms` - пропусков не обнаружено, тип данных корректный \n",
    "* `ceiling_height` - имеются пропуски, тип данных корректный \n",
    "* `floors_total` - имеются пропуски, тип данных надо изменить на int\n",
    "* `living_area` - имеются пропуски, тип данных корректный \n",
    "* `floor` - пропусков не обнаружено, тип данных корректный \n",
    "* `is_apartment` - имеются пропуски, тип данных надо изменить на bool\n",
    "* `studio` - пропусков не обнаружено, тип данных корректный \n",
    "* `open_plan` - пропусков не обнаружено, тип данных корректный\n",
    "* `kitchen_area` - имеются пропуски, тип данных корректный \n",
    "* `balcony` - имеются пропуски, тип данных надо изменить на int\n",
    "* `locality_name` - имеются пропуски, тип данных корректный \n",
    "* ` airports_nearest` - имеются пропуски, тип данных надо изменить на int\n",
    "* `cityCenters_nearest` - имеются пропуски, тип данных надо изменить на int\n",
    "* `parks_around3000` - имеются пропуски, тип данных надо изменить на int\n",
    "* `parks_nearest` - имеются пропуски, тип данных надо изменить на int\n",
    "* `ponds_around3000` - имеются пропуски, тип данных надо изменить на int\n",
    "* `ponds_neares` - имеются пропуски, тип данных надо изменить на int\n",
    "* `days_exposition` - имеются пропуски, тип данных необходимо изменить на int"
   ]
  },
  {
   "cell_type": "markdown",
   "metadata": {},
   "source": [
    "## Предобработка данных"
   ]
  },
  {
   "cell_type": "markdown",
   "metadata": {},
   "source": [
    "Для начала посчитаем, сколько в каждом столбце пропусков."
   ]
  },
  {
   "cell_type": "code",
   "execution_count": 4,
   "metadata": {
    "scrolled": false
   },
   "outputs": [
    {
     "data": {
      "text/plain": [
       "total_images                0\n",
       "last_price                  0\n",
       "total_area                  0\n",
       "first_day_exposition        0\n",
       "rooms                       0\n",
       "ceiling_height           9195\n",
       "floors_total               86\n",
       "living_area              1903\n",
       "floor                       0\n",
       "is_apartment            20924\n",
       "studio                      0\n",
       "open_plan                   0\n",
       "kitchen_area             2278\n",
       "balcony                 11519\n",
       "locality_name              49\n",
       "airports_nearest         5542\n",
       "cityCenters_nearest      5519\n",
       "parks_around3000         5518\n",
       "parks_nearest           15620\n",
       "ponds_around3000         5518\n",
       "ponds_nearest           14589\n",
       "days_exposition          3181\n",
       "dtype: int64"
      ]
     },
     "execution_count": 4,
     "metadata": {},
     "output_type": "execute_result"
    }
   ],
   "source": [
    "df.isna().sum()"
   ]
  },
  {
   "cell_type": "markdown",
   "metadata": {},
   "source": [
    "Предлгаю начать заполнять пропуски со столбца `balcony`, потому что наличие пропусков здесь можно объяснить тем, что пользователи могли не указать наличие балкона из-за его отсутствия. Поэтому заменинм пропуски на 0."
   ]
  },
  {
   "cell_type": "code",
   "execution_count": 5,
   "metadata": {},
   "outputs": [],
   "source": [
    "df['balcony'] = df['balcony'].fillna(0)"
   ]
  },
  {
   "cell_type": "markdown",
   "metadata": {},
   "source": [
    "Также сразу заменин тип данных столбца `balcony` на `int`."
   ]
  },
  {
   "cell_type": "code",
   "execution_count": 6,
   "metadata": {},
   "outputs": [],
   "source": [
    "df['balcony'] = df['balcony'].astype(int)"
   ]
  },
  {
   "cell_type": "markdown",
   "metadata": {},
   "source": [
    "По той же аналогии можно заменить и пропуски в столбце `is_apartment`. Если пользователь не указал тип недвижимости, можно предположить, что он мог просто пропустить данный шаг, например, из-за незнания опредления слова \"апартаменты\" или просто у него квартира, и пользователь не посчитал нужным этого делать. По-моему мнению, люди, продающие апартаменты, знают особенности данног типа недвижимости, и , скорее всего, они бы указали корректный тип недвижимости. Поэтому считаю, что будет заменить пропуски на значение `False`. Но прежде всего изменим тип данных на `bool`. "
   ]
  },
  {
   "cell_type": "code",
   "execution_count": 7,
   "metadata": {},
   "outputs": [],
   "source": [
    "df['is_apartment'] = df['is_apartment'].astype(bool)\n",
    "df['is_apartment'] = df['is_apartment'].fillna(False)"
   ]
  },
  {
   "cell_type": "markdown",
   "metadata": {},
   "source": [
    "Далее взглянем на пропуски в столбце `locality_name`, попробуя установить взаимосвязь."
   ]
  },
  {
   "cell_type": "code",
   "execution_count": 8,
   "metadata": {
    "scrolled": false
   },
   "outputs": [
    {
     "data": {
      "text/html": [
       "<div>\n",
       "<style scoped>\n",
       "    .dataframe tbody tr th:only-of-type {\n",
       "        vertical-align: middle;\n",
       "    }\n",
       "\n",
       "    .dataframe tbody tr th {\n",
       "        vertical-align: top;\n",
       "    }\n",
       "\n",
       "    .dataframe thead th {\n",
       "        text-align: right;\n",
       "    }\n",
       "</style>\n",
       "<table border=\"1\" class=\"dataframe\">\n",
       "  <thead>\n",
       "    <tr style=\"text-align: right;\">\n",
       "      <th></th>\n",
       "      <th>total_images</th>\n",
       "      <th>last_price</th>\n",
       "      <th>total_area</th>\n",
       "      <th>first_day_exposition</th>\n",
       "      <th>rooms</th>\n",
       "      <th>ceiling_height</th>\n",
       "      <th>floors_total</th>\n",
       "      <th>living_area</th>\n",
       "      <th>floor</th>\n",
       "      <th>is_apartment</th>\n",
       "      <th>studio</th>\n",
       "      <th>open_plan</th>\n",
       "      <th>kitchen_area</th>\n",
       "      <th>balcony</th>\n",
       "      <th>locality_name</th>\n",
       "      <th>airports_nearest</th>\n",
       "      <th>cityCenters_nearest</th>\n",
       "      <th>parks_around3000</th>\n",
       "      <th>parks_nearest</th>\n",
       "      <th>ponds_around3000</th>\n",
       "      <th>ponds_nearest</th>\n",
       "      <th>days_exposition</th>\n",
       "    </tr>\n",
       "  </thead>\n",
       "  <tbody>\n",
       "    <tr>\n",
       "      <th>1097</th>\n",
       "      <td>3</td>\n",
       "      <td>8600000.0</td>\n",
       "      <td>81.70</td>\n",
       "      <td>2016-04-15T00:00:00</td>\n",
       "      <td>3</td>\n",
       "      <td>3.55</td>\n",
       "      <td>5.0</td>\n",
       "      <td>50.80</td>\n",
       "      <td>2</td>\n",
       "      <td>True</td>\n",
       "      <td>False</td>\n",
       "      <td>False</td>\n",
       "      <td>8.80</td>\n",
       "      <td>0</td>\n",
       "      <td>NaN</td>\n",
       "      <td>23478.0</td>\n",
       "      <td>4258.0</td>\n",
       "      <td>0.0</td>\n",
       "      <td>NaN</td>\n",
       "      <td>0.0</td>\n",
       "      <td>NaN</td>\n",
       "      <td>147.0</td>\n",
       "    </tr>\n",
       "    <tr>\n",
       "      <th>2033</th>\n",
       "      <td>6</td>\n",
       "      <td>5398000.0</td>\n",
       "      <td>80.00</td>\n",
       "      <td>2017-05-30T00:00:00</td>\n",
       "      <td>3</td>\n",
       "      <td>NaN</td>\n",
       "      <td>4.0</td>\n",
       "      <td>42.60</td>\n",
       "      <td>2</td>\n",
       "      <td>True</td>\n",
       "      <td>False</td>\n",
       "      <td>False</td>\n",
       "      <td>18.60</td>\n",
       "      <td>0</td>\n",
       "      <td>NaN</td>\n",
       "      <td>NaN</td>\n",
       "      <td>NaN</td>\n",
       "      <td>NaN</td>\n",
       "      <td>NaN</td>\n",
       "      <td>NaN</td>\n",
       "      <td>NaN</td>\n",
       "      <td>34.0</td>\n",
       "    </tr>\n",
       "    <tr>\n",
       "      <th>2603</th>\n",
       "      <td>20</td>\n",
       "      <td>3351765.0</td>\n",
       "      <td>42.70</td>\n",
       "      <td>2015-09-20T00:00:00</td>\n",
       "      <td>1</td>\n",
       "      <td>NaN</td>\n",
       "      <td>24.0</td>\n",
       "      <td>15.60</td>\n",
       "      <td>3</td>\n",
       "      <td>True</td>\n",
       "      <td>False</td>\n",
       "      <td>False</td>\n",
       "      <td>10.70</td>\n",
       "      <td>0</td>\n",
       "      <td>NaN</td>\n",
       "      <td>22041.0</td>\n",
       "      <td>17369.0</td>\n",
       "      <td>0.0</td>\n",
       "      <td>NaN</td>\n",
       "      <td>1.0</td>\n",
       "      <td>374.0</td>\n",
       "      <td>276.0</td>\n",
       "    </tr>\n",
       "    <tr>\n",
       "      <th>2632</th>\n",
       "      <td>2</td>\n",
       "      <td>5130593.0</td>\n",
       "      <td>62.40</td>\n",
       "      <td>2015-10-11T00:00:00</td>\n",
       "      <td>2</td>\n",
       "      <td>NaN</td>\n",
       "      <td>24.0</td>\n",
       "      <td>33.10</td>\n",
       "      <td>21</td>\n",
       "      <td>True</td>\n",
       "      <td>False</td>\n",
       "      <td>False</td>\n",
       "      <td>8.20</td>\n",
       "      <td>0</td>\n",
       "      <td>NaN</td>\n",
       "      <td>22041.0</td>\n",
       "      <td>17369.0</td>\n",
       "      <td>0.0</td>\n",
       "      <td>NaN</td>\n",
       "      <td>1.0</td>\n",
       "      <td>374.0</td>\n",
       "      <td>256.0</td>\n",
       "    </tr>\n",
       "    <tr>\n",
       "      <th>3574</th>\n",
       "      <td>10</td>\n",
       "      <td>4200000.0</td>\n",
       "      <td>46.50</td>\n",
       "      <td>2016-05-28T00:00:00</td>\n",
       "      <td>2</td>\n",
       "      <td>NaN</td>\n",
       "      <td>5.0</td>\n",
       "      <td>30.80</td>\n",
       "      <td>5</td>\n",
       "      <td>True</td>\n",
       "      <td>False</td>\n",
       "      <td>False</td>\n",
       "      <td>6.50</td>\n",
       "      <td>0</td>\n",
       "      <td>NaN</td>\n",
       "      <td>27419.0</td>\n",
       "      <td>8127.0</td>\n",
       "      <td>0.0</td>\n",
       "      <td>NaN</td>\n",
       "      <td>1.0</td>\n",
       "      <td>603.0</td>\n",
       "      <td>45.0</td>\n",
       "    </tr>\n",
       "    <tr>\n",
       "      <th>4151</th>\n",
       "      <td>17</td>\n",
       "      <td>17600000.0</td>\n",
       "      <td>89.50</td>\n",
       "      <td>2014-12-09T00:00:00</td>\n",
       "      <td>2</td>\n",
       "      <td>3.00</td>\n",
       "      <td>8.0</td>\n",
       "      <td>39.62</td>\n",
       "      <td>7</td>\n",
       "      <td>True</td>\n",
       "      <td>False</td>\n",
       "      <td>False</td>\n",
       "      <td>13.38</td>\n",
       "      <td>0</td>\n",
       "      <td>NaN</td>\n",
       "      <td>25054.0</td>\n",
       "      <td>3902.0</td>\n",
       "      <td>1.0</td>\n",
       "      <td>485.0</td>\n",
       "      <td>3.0</td>\n",
       "      <td>722.0</td>\n",
       "      <td>869.0</td>\n",
       "    </tr>\n",
       "    <tr>\n",
       "      <th>4189</th>\n",
       "      <td>7</td>\n",
       "      <td>9200000.0</td>\n",
       "      <td>80.00</td>\n",
       "      <td>2015-12-10T00:00:00</td>\n",
       "      <td>3</td>\n",
       "      <td>4.00</td>\n",
       "      <td>4.0</td>\n",
       "      <td>52.30</td>\n",
       "      <td>3</td>\n",
       "      <td>False</td>\n",
       "      <td>False</td>\n",
       "      <td>False</td>\n",
       "      <td>10.40</td>\n",
       "      <td>0</td>\n",
       "      <td>NaN</td>\n",
       "      <td>21774.0</td>\n",
       "      <td>3039.0</td>\n",
       "      <td>1.0</td>\n",
       "      <td>690.0</td>\n",
       "      <td>1.0</td>\n",
       "      <td>953.0</td>\n",
       "      <td>223.0</td>\n",
       "    </tr>\n",
       "    <tr>\n",
       "      <th>4670</th>\n",
       "      <td>1</td>\n",
       "      <td>5500000.0</td>\n",
       "      <td>83.00</td>\n",
       "      <td>2015-08-14T00:00:00</td>\n",
       "      <td>3</td>\n",
       "      <td>NaN</td>\n",
       "      <td>7.0</td>\n",
       "      <td>NaN</td>\n",
       "      <td>6</td>\n",
       "      <td>True</td>\n",
       "      <td>False</td>\n",
       "      <td>False</td>\n",
       "      <td>NaN</td>\n",
       "      <td>0</td>\n",
       "      <td>NaN</td>\n",
       "      <td>26534.0</td>\n",
       "      <td>5382.0</td>\n",
       "      <td>1.0</td>\n",
       "      <td>446.0</td>\n",
       "      <td>1.0</td>\n",
       "      <td>376.0</td>\n",
       "      <td>350.0</td>\n",
       "    </tr>\n",
       "    <tr>\n",
       "      <th>5343</th>\n",
       "      <td>19</td>\n",
       "      <td>13540000.0</td>\n",
       "      <td>85.50</td>\n",
       "      <td>2016-01-20T00:00:00</td>\n",
       "      <td>3</td>\n",
       "      <td>NaN</td>\n",
       "      <td>7.0</td>\n",
       "      <td>59.10</td>\n",
       "      <td>5</td>\n",
       "      <td>False</td>\n",
       "      <td>False</td>\n",
       "      <td>False</td>\n",
       "      <td>8.30</td>\n",
       "      <td>4</td>\n",
       "      <td>NaN</td>\n",
       "      <td>10556.0</td>\n",
       "      <td>9538.0</td>\n",
       "      <td>1.0</td>\n",
       "      <td>67.0</td>\n",
       "      <td>0.0</td>\n",
       "      <td>NaN</td>\n",
       "      <td>303.0</td>\n",
       "    </tr>\n",
       "    <tr>\n",
       "      <th>5707</th>\n",
       "      <td>7</td>\n",
       "      <td>3700000.0</td>\n",
       "      <td>30.00</td>\n",
       "      <td>2016-04-29T00:00:00</td>\n",
       "      <td>1</td>\n",
       "      <td>NaN</td>\n",
       "      <td>24.0</td>\n",
       "      <td>20.00</td>\n",
       "      <td>23</td>\n",
       "      <td>True</td>\n",
       "      <td>False</td>\n",
       "      <td>False</td>\n",
       "      <td>NaN</td>\n",
       "      <td>0</td>\n",
       "      <td>NaN</td>\n",
       "      <td>21460.0</td>\n",
       "      <td>16788.0</td>\n",
       "      <td>0.0</td>\n",
       "      <td>NaN</td>\n",
       "      <td>1.0</td>\n",
       "      <td>170.0</td>\n",
       "      <td>49.0</td>\n",
       "    </tr>\n",
       "    <tr>\n",
       "      <th>6765</th>\n",
       "      <td>20</td>\n",
       "      <td>4895892.0</td>\n",
       "      <td>60.70</td>\n",
       "      <td>2015-03-12T00:00:00</td>\n",
       "      <td>2</td>\n",
       "      <td>NaN</td>\n",
       "      <td>24.0</td>\n",
       "      <td>31.90</td>\n",
       "      <td>3</td>\n",
       "      <td>True</td>\n",
       "      <td>False</td>\n",
       "      <td>False</td>\n",
       "      <td>12.20</td>\n",
       "      <td>0</td>\n",
       "      <td>NaN</td>\n",
       "      <td>22041.0</td>\n",
       "      <td>17369.0</td>\n",
       "      <td>0.0</td>\n",
       "      <td>NaN</td>\n",
       "      <td>1.0</td>\n",
       "      <td>374.0</td>\n",
       "      <td>468.0</td>\n",
       "    </tr>\n",
       "    <tr>\n",
       "      <th>7114</th>\n",
       "      <td>5</td>\n",
       "      <td>4250000.0</td>\n",
       "      <td>56.00</td>\n",
       "      <td>2016-03-16T00:00:00</td>\n",
       "      <td>3</td>\n",
       "      <td>NaN</td>\n",
       "      <td>5.0</td>\n",
       "      <td>40.00</td>\n",
       "      <td>4</td>\n",
       "      <td>True</td>\n",
       "      <td>False</td>\n",
       "      <td>False</td>\n",
       "      <td>6.00</td>\n",
       "      <td>0</td>\n",
       "      <td>NaN</td>\n",
       "      <td>14031.0</td>\n",
       "      <td>8582.0</td>\n",
       "      <td>0.0</td>\n",
       "      <td>NaN</td>\n",
       "      <td>0.0</td>\n",
       "      <td>NaN</td>\n",
       "      <td>96.0</td>\n",
       "    </tr>\n",
       "    <tr>\n",
       "      <th>7330</th>\n",
       "      <td>8</td>\n",
       "      <td>5100000.0</td>\n",
       "      <td>63.00</td>\n",
       "      <td>2015-01-27T00:00:00</td>\n",
       "      <td>3</td>\n",
       "      <td>NaN</td>\n",
       "      <td>5.0</td>\n",
       "      <td>42.00</td>\n",
       "      <td>1</td>\n",
       "      <td>False</td>\n",
       "      <td>False</td>\n",
       "      <td>False</td>\n",
       "      <td>7.50</td>\n",
       "      <td>0</td>\n",
       "      <td>NaN</td>\n",
       "      <td>25925.0</td>\n",
       "      <td>4627.0</td>\n",
       "      <td>2.0</td>\n",
       "      <td>459.0</td>\n",
       "      <td>0.0</td>\n",
       "      <td>NaN</td>\n",
       "      <td>566.0</td>\n",
       "    </tr>\n",
       "    <tr>\n",
       "      <th>7600</th>\n",
       "      <td>8</td>\n",
       "      <td>6800000.0</td>\n",
       "      <td>70.00</td>\n",
       "      <td>2016-01-31T00:00:00</td>\n",
       "      <td>3</td>\n",
       "      <td>NaN</td>\n",
       "      <td>11.0</td>\n",
       "      <td>42.00</td>\n",
       "      <td>9</td>\n",
       "      <td>True</td>\n",
       "      <td>False</td>\n",
       "      <td>False</td>\n",
       "      <td>11.00</td>\n",
       "      <td>1</td>\n",
       "      <td>NaN</td>\n",
       "      <td>37123.0</td>\n",
       "      <td>12332.0</td>\n",
       "      <td>0.0</td>\n",
       "      <td>NaN</td>\n",
       "      <td>0.0</td>\n",
       "      <td>NaN</td>\n",
       "      <td>209.0</td>\n",
       "    </tr>\n",
       "    <tr>\n",
       "      <th>8568</th>\n",
       "      <td>10</td>\n",
       "      <td>16000000.0</td>\n",
       "      <td>155.00</td>\n",
       "      <td>2016-05-09T00:00:00</td>\n",
       "      <td>3</td>\n",
       "      <td>NaN</td>\n",
       "      <td>6.0</td>\n",
       "      <td>94.00</td>\n",
       "      <td>3</td>\n",
       "      <td>True</td>\n",
       "      <td>False</td>\n",
       "      <td>False</td>\n",
       "      <td>23.00</td>\n",
       "      <td>0</td>\n",
       "      <td>NaN</td>\n",
       "      <td>24233.0</td>\n",
       "      <td>4065.0</td>\n",
       "      <td>1.0</td>\n",
       "      <td>547.0</td>\n",
       "      <td>0.0</td>\n",
       "      <td>NaN</td>\n",
       "      <td>248.0</td>\n",
       "    </tr>\n",
       "    <tr>\n",
       "      <th>8986</th>\n",
       "      <td>10</td>\n",
       "      <td>4850000.0</td>\n",
       "      <td>103.10</td>\n",
       "      <td>2018-07-10T00:00:00</td>\n",
       "      <td>3</td>\n",
       "      <td>NaN</td>\n",
       "      <td>NaN</td>\n",
       "      <td>68.10</td>\n",
       "      <td>4</td>\n",
       "      <td>True</td>\n",
       "      <td>False</td>\n",
       "      <td>False</td>\n",
       "      <td>16.70</td>\n",
       "      <td>0</td>\n",
       "      <td>NaN</td>\n",
       "      <td>19659.0</td>\n",
       "      <td>31813.0</td>\n",
       "      <td>0.0</td>\n",
       "      <td>NaN</td>\n",
       "      <td>0.0</td>\n",
       "      <td>NaN</td>\n",
       "      <td>28.0</td>\n",
       "    </tr>\n",
       "    <tr>\n",
       "      <th>9821</th>\n",
       "      <td>13</td>\n",
       "      <td>8000000.0</td>\n",
       "      <td>94.50</td>\n",
       "      <td>2015-01-21T00:00:00</td>\n",
       "      <td>4</td>\n",
       "      <td>3.00</td>\n",
       "      <td>2.0</td>\n",
       "      <td>57.80</td>\n",
       "      <td>2</td>\n",
       "      <td>True</td>\n",
       "      <td>False</td>\n",
       "      <td>False</td>\n",
       "      <td>11.30</td>\n",
       "      <td>0</td>\n",
       "      <td>NaN</td>\n",
       "      <td>24953.0</td>\n",
       "      <td>3801.0</td>\n",
       "      <td>1.0</td>\n",
       "      <td>375.0</td>\n",
       "      <td>2.0</td>\n",
       "      <td>532.0</td>\n",
       "      <td>531.0</td>\n",
       "    </tr>\n",
       "    <tr>\n",
       "      <th>10122</th>\n",
       "      <td>5</td>\n",
       "      <td>8200000.0</td>\n",
       "      <td>83.00</td>\n",
       "      <td>2015-06-24T00:00:00</td>\n",
       "      <td>4</td>\n",
       "      <td>NaN</td>\n",
       "      <td>5.0</td>\n",
       "      <td>53.00</td>\n",
       "      <td>2</td>\n",
       "      <td>True</td>\n",
       "      <td>False</td>\n",
       "      <td>False</td>\n",
       "      <td>10.00</td>\n",
       "      <td>0</td>\n",
       "      <td>NaN</td>\n",
       "      <td>25771.0</td>\n",
       "      <td>4474.0</td>\n",
       "      <td>2.0</td>\n",
       "      <td>374.0</td>\n",
       "      <td>0.0</td>\n",
       "      <td>NaN</td>\n",
       "      <td>364.0</td>\n",
       "    </tr>\n",
       "    <tr>\n",
       "      <th>11248</th>\n",
       "      <td>12</td>\n",
       "      <td>6300000.0</td>\n",
       "      <td>63.10</td>\n",
       "      <td>2015-01-16T00:00:00</td>\n",
       "      <td>4</td>\n",
       "      <td>NaN</td>\n",
       "      <td>8.0</td>\n",
       "      <td>44.00</td>\n",
       "      <td>7</td>\n",
       "      <td>True</td>\n",
       "      <td>False</td>\n",
       "      <td>False</td>\n",
       "      <td>8.70</td>\n",
       "      <td>0</td>\n",
       "      <td>NaN</td>\n",
       "      <td>25221.0</td>\n",
       "      <td>4069.0</td>\n",
       "      <td>0.0</td>\n",
       "      <td>NaN</td>\n",
       "      <td>2.0</td>\n",
       "      <td>653.0</td>\n",
       "      <td>551.0</td>\n",
       "    </tr>\n",
       "    <tr>\n",
       "      <th>12879</th>\n",
       "      <td>12</td>\n",
       "      <td>4400000.0</td>\n",
       "      <td>39.20</td>\n",
       "      <td>2016-04-26T00:00:00</td>\n",
       "      <td>1</td>\n",
       "      <td>NaN</td>\n",
       "      <td>12.0</td>\n",
       "      <td>20.00</td>\n",
       "      <td>12</td>\n",
       "      <td>False</td>\n",
       "      <td>False</td>\n",
       "      <td>False</td>\n",
       "      <td>7.90</td>\n",
       "      <td>0</td>\n",
       "      <td>NaN</td>\n",
       "      <td>37123.0</td>\n",
       "      <td>12332.0</td>\n",
       "      <td>0.0</td>\n",
       "      <td>NaN</td>\n",
       "      <td>0.0</td>\n",
       "      <td>NaN</td>\n",
       "      <td>179.0</td>\n",
       "    </tr>\n",
       "    <tr>\n",
       "      <th>12936</th>\n",
       "      <td>6</td>\n",
       "      <td>6800000.0</td>\n",
       "      <td>73.00</td>\n",
       "      <td>2015-11-01T00:00:00</td>\n",
       "      <td>3</td>\n",
       "      <td>NaN</td>\n",
       "      <td>5.0</td>\n",
       "      <td>53.10</td>\n",
       "      <td>2</td>\n",
       "      <td>True</td>\n",
       "      <td>False</td>\n",
       "      <td>False</td>\n",
       "      <td>8.20</td>\n",
       "      <td>0</td>\n",
       "      <td>NaN</td>\n",
       "      <td>25680.0</td>\n",
       "      <td>4383.0</td>\n",
       "      <td>3.0</td>\n",
       "      <td>336.0</td>\n",
       "      <td>0.0</td>\n",
       "      <td>NaN</td>\n",
       "      <td>542.0</td>\n",
       "    </tr>\n",
       "    <tr>\n",
       "      <th>13223</th>\n",
       "      <td>1</td>\n",
       "      <td>2919911.0</td>\n",
       "      <td>29.40</td>\n",
       "      <td>2015-03-12T00:00:00</td>\n",
       "      <td>1</td>\n",
       "      <td>2.75</td>\n",
       "      <td>24.0</td>\n",
       "      <td>21.10</td>\n",
       "      <td>2</td>\n",
       "      <td>True</td>\n",
       "      <td>False</td>\n",
       "      <td>False</td>\n",
       "      <td>NaN</td>\n",
       "      <td>0</td>\n",
       "      <td>NaN</td>\n",
       "      <td>22041.0</td>\n",
       "      <td>17369.0</td>\n",
       "      <td>0.0</td>\n",
       "      <td>NaN</td>\n",
       "      <td>1.0</td>\n",
       "      <td>374.0</td>\n",
       "      <td>470.0</td>\n",
       "    </tr>\n",
       "    <tr>\n",
       "      <th>13690</th>\n",
       "      <td>7</td>\n",
       "      <td>3500000.0</td>\n",
       "      <td>71.00</td>\n",
       "      <td>2016-06-23T00:00:00</td>\n",
       "      <td>3</td>\n",
       "      <td>2.75</td>\n",
       "      <td>2.0</td>\n",
       "      <td>45.60</td>\n",
       "      <td>1</td>\n",
       "      <td>False</td>\n",
       "      <td>False</td>\n",
       "      <td>False</td>\n",
       "      <td>8.00</td>\n",
       "      <td>2</td>\n",
       "      <td>NaN</td>\n",
       "      <td>20234.0</td>\n",
       "      <td>23659.0</td>\n",
       "      <td>0.0</td>\n",
       "      <td>NaN</td>\n",
       "      <td>2.0</td>\n",
       "      <td>296.0</td>\n",
       "      <td>92.0</td>\n",
       "    </tr>\n",
       "    <tr>\n",
       "      <th>14273</th>\n",
       "      <td>2</td>\n",
       "      <td>4422000.0</td>\n",
       "      <td>60.00</td>\n",
       "      <td>2016-03-23T00:00:00</td>\n",
       "      <td>2</td>\n",
       "      <td>2.75</td>\n",
       "      <td>23.0</td>\n",
       "      <td>32.00</td>\n",
       "      <td>14</td>\n",
       "      <td>True</td>\n",
       "      <td>False</td>\n",
       "      <td>False</td>\n",
       "      <td>11.90</td>\n",
       "      <td>0</td>\n",
       "      <td>NaN</td>\n",
       "      <td>22041.0</td>\n",
       "      <td>17369.0</td>\n",
       "      <td>0.0</td>\n",
       "      <td>NaN</td>\n",
       "      <td>1.0</td>\n",
       "      <td>374.0</td>\n",
       "      <td>90.0</td>\n",
       "    </tr>\n",
       "    <tr>\n",
       "      <th>14342</th>\n",
       "      <td>3</td>\n",
       "      <td>3611000.0</td>\n",
       "      <td>53.50</td>\n",
       "      <td>2017-04-27T00:00:00</td>\n",
       "      <td>1</td>\n",
       "      <td>NaN</td>\n",
       "      <td>4.0</td>\n",
       "      <td>25.80</td>\n",
       "      <td>3</td>\n",
       "      <td>False</td>\n",
       "      <td>False</td>\n",
       "      <td>False</td>\n",
       "      <td>NaN</td>\n",
       "      <td>1</td>\n",
       "      <td>NaN</td>\n",
       "      <td>NaN</td>\n",
       "      <td>NaN</td>\n",
       "      <td>NaN</td>\n",
       "      <td>NaN</td>\n",
       "      <td>NaN</td>\n",
       "      <td>NaN</td>\n",
       "      <td>92.0</td>\n",
       "    </tr>\n",
       "    <tr>\n",
       "      <th>15686</th>\n",
       "      <td>13</td>\n",
       "      <td>4700000.0</td>\n",
       "      <td>44.00</td>\n",
       "      <td>2015-12-01T00:00:00</td>\n",
       "      <td>2</td>\n",
       "      <td>NaN</td>\n",
       "      <td>5.0</td>\n",
       "      <td>28.00</td>\n",
       "      <td>3</td>\n",
       "      <td>True</td>\n",
       "      <td>False</td>\n",
       "      <td>False</td>\n",
       "      <td>5.00</td>\n",
       "      <td>0</td>\n",
       "      <td>NaN</td>\n",
       "      <td>35920.0</td>\n",
       "      <td>9633.0</td>\n",
       "      <td>2.0</td>\n",
       "      <td>472.0</td>\n",
       "      <td>3.0</td>\n",
       "      <td>535.0</td>\n",
       "      <td>280.0</td>\n",
       "    </tr>\n",
       "    <tr>\n",
       "      <th>15866</th>\n",
       "      <td>10</td>\n",
       "      <td>3950000.0</td>\n",
       "      <td>44.00</td>\n",
       "      <td>2016-04-16T00:00:00</td>\n",
       "      <td>2</td>\n",
       "      <td>2.70</td>\n",
       "      <td>5.0</td>\n",
       "      <td>28.50</td>\n",
       "      <td>5</td>\n",
       "      <td>False</td>\n",
       "      <td>False</td>\n",
       "      <td>False</td>\n",
       "      <td>5.50</td>\n",
       "      <td>1</td>\n",
       "      <td>NaN</td>\n",
       "      <td>36380.0</td>\n",
       "      <td>9497.0</td>\n",
       "      <td>1.0</td>\n",
       "      <td>634.0</td>\n",
       "      <td>3.0</td>\n",
       "      <td>513.0</td>\n",
       "      <td>85.0</td>\n",
       "    </tr>\n",
       "    <tr>\n",
       "      <th>16499</th>\n",
       "      <td>2</td>\n",
       "      <td>4995573.0</td>\n",
       "      <td>56.90</td>\n",
       "      <td>2016-06-17T00:00:00</td>\n",
       "      <td>2</td>\n",
       "      <td>NaN</td>\n",
       "      <td>24.0</td>\n",
       "      <td>29.20</td>\n",
       "      <td>14</td>\n",
       "      <td>True</td>\n",
       "      <td>False</td>\n",
       "      <td>False</td>\n",
       "      <td>10.90</td>\n",
       "      <td>0</td>\n",
       "      <td>NaN</td>\n",
       "      <td>22041.0</td>\n",
       "      <td>17369.0</td>\n",
       "      <td>0.0</td>\n",
       "      <td>NaN</td>\n",
       "      <td>1.0</td>\n",
       "      <td>374.0</td>\n",
       "      <td>4.0</td>\n",
       "    </tr>\n",
       "    <tr>\n",
       "      <th>16561</th>\n",
       "      <td>3</td>\n",
       "      <td>2450000.0</td>\n",
       "      <td>30.00</td>\n",
       "      <td>2016-06-02T00:00:00</td>\n",
       "      <td>1</td>\n",
       "      <td>NaN</td>\n",
       "      <td>4.0</td>\n",
       "      <td>17.00</td>\n",
       "      <td>2</td>\n",
       "      <td>True</td>\n",
       "      <td>False</td>\n",
       "      <td>False</td>\n",
       "      <td>6.00</td>\n",
       "      <td>1</td>\n",
       "      <td>NaN</td>\n",
       "      <td>21731.0</td>\n",
       "      <td>8619.0</td>\n",
       "      <td>0.0</td>\n",
       "      <td>NaN</td>\n",
       "      <td>3.0</td>\n",
       "      <td>162.0</td>\n",
       "      <td>140.0</td>\n",
       "    </tr>\n",
       "    <tr>\n",
       "      <th>16610</th>\n",
       "      <td>11</td>\n",
       "      <td>11940000.0</td>\n",
       "      <td>112.00</td>\n",
       "      <td>2015-11-19T00:00:00</td>\n",
       "      <td>3</td>\n",
       "      <td>3.00</td>\n",
       "      <td>5.0</td>\n",
       "      <td>64.00</td>\n",
       "      <td>2</td>\n",
       "      <td>True</td>\n",
       "      <td>False</td>\n",
       "      <td>False</td>\n",
       "      <td>23.00</td>\n",
       "      <td>0</td>\n",
       "      <td>NaN</td>\n",
       "      <td>21219.0</td>\n",
       "      <td>1322.0</td>\n",
       "      <td>1.0</td>\n",
       "      <td>740.0</td>\n",
       "      <td>3.0</td>\n",
       "      <td>365.0</td>\n",
       "      <td>319.0</td>\n",
       "    </tr>\n",
       "    <tr>\n",
       "      <th>17535</th>\n",
       "      <td>2</td>\n",
       "      <td>5985000.0</td>\n",
       "      <td>79.80</td>\n",
       "      <td>2018-07-30T00:00:00</td>\n",
       "      <td>3</td>\n",
       "      <td>NaN</td>\n",
       "      <td>9.0</td>\n",
       "      <td>NaN</td>\n",
       "      <td>2</td>\n",
       "      <td>False</td>\n",
       "      <td>False</td>\n",
       "      <td>False</td>\n",
       "      <td>NaN</td>\n",
       "      <td>0</td>\n",
       "      <td>NaN</td>\n",
       "      <td>NaN</td>\n",
       "      <td>NaN</td>\n",
       "      <td>NaN</td>\n",
       "      <td>NaN</td>\n",
       "      <td>NaN</td>\n",
       "      <td>NaN</td>\n",
       "      <td>213.0</td>\n",
       "    </tr>\n",
       "    <tr>\n",
       "      <th>17764</th>\n",
       "      <td>9</td>\n",
       "      <td>8400000.0</td>\n",
       "      <td>94.00</td>\n",
       "      <td>2016-01-24T00:00:00</td>\n",
       "      <td>3</td>\n",
       "      <td>NaN</td>\n",
       "      <td>23.0</td>\n",
       "      <td>52.00</td>\n",
       "      <td>5</td>\n",
       "      <td>True</td>\n",
       "      <td>False</td>\n",
       "      <td>False</td>\n",
       "      <td>NaN</td>\n",
       "      <td>0</td>\n",
       "      <td>NaN</td>\n",
       "      <td>36865.0</td>\n",
       "      <td>10976.0</td>\n",
       "      <td>0.0</td>\n",
       "      <td>NaN</td>\n",
       "      <td>1.0</td>\n",
       "      <td>856.0</td>\n",
       "      <td>305.0</td>\n",
       "    </tr>\n",
       "    <tr>\n",
       "      <th>18526</th>\n",
       "      <td>3</td>\n",
       "      <td>10800000.0</td>\n",
       "      <td>86.00</td>\n",
       "      <td>2016-06-24T00:00:00</td>\n",
       "      <td>4</td>\n",
       "      <td>3.20</td>\n",
       "      <td>7.0</td>\n",
       "      <td>48.00</td>\n",
       "      <td>2</td>\n",
       "      <td>True</td>\n",
       "      <td>False</td>\n",
       "      <td>False</td>\n",
       "      <td>12.00</td>\n",
       "      <td>0</td>\n",
       "      <td>NaN</td>\n",
       "      <td>11206.0</td>\n",
       "      <td>8943.0</td>\n",
       "      <td>0.0</td>\n",
       "      <td>NaN</td>\n",
       "      <td>0.0</td>\n",
       "      <td>NaN</td>\n",
       "      <td>65.0</td>\n",
       "    </tr>\n",
       "    <tr>\n",
       "      <th>18917</th>\n",
       "      <td>3</td>\n",
       "      <td>2660000.0</td>\n",
       "      <td>37.99</td>\n",
       "      <td>2017-08-17T00:00:00</td>\n",
       "      <td>1</td>\n",
       "      <td>NaN</td>\n",
       "      <td>4.0</td>\n",
       "      <td>13.00</td>\n",
       "      <td>1</td>\n",
       "      <td>True</td>\n",
       "      <td>False</td>\n",
       "      <td>False</td>\n",
       "      <td>12.40</td>\n",
       "      <td>0</td>\n",
       "      <td>NaN</td>\n",
       "      <td>21540.0</td>\n",
       "      <td>8429.0</td>\n",
       "      <td>0.0</td>\n",
       "      <td>NaN</td>\n",
       "      <td>3.0</td>\n",
       "      <td>142.0</td>\n",
       "      <td>15.0</td>\n",
       "    </tr>\n",
       "    <tr>\n",
       "      <th>19045</th>\n",
       "      <td>6</td>\n",
       "      <td>4650000.0</td>\n",
       "      <td>48.00</td>\n",
       "      <td>2016-01-25T00:00:00</td>\n",
       "      <td>2</td>\n",
       "      <td>3.12</td>\n",
       "      <td>5.0</td>\n",
       "      <td>26.20</td>\n",
       "      <td>1</td>\n",
       "      <td>False</td>\n",
       "      <td>False</td>\n",
       "      <td>False</td>\n",
       "      <td>8.00</td>\n",
       "      <td>0</td>\n",
       "      <td>NaN</td>\n",
       "      <td>21654.0</td>\n",
       "      <td>3312.0</td>\n",
       "      <td>1.0</td>\n",
       "      <td>549.0</td>\n",
       "      <td>1.0</td>\n",
       "      <td>858.0</td>\n",
       "      <td>254.0</td>\n",
       "    </tr>\n",
       "    <tr>\n",
       "      <th>19972</th>\n",
       "      <td>20</td>\n",
       "      <td>4361004.0</td>\n",
       "      <td>62.40</td>\n",
       "      <td>2015-09-20T00:00:00</td>\n",
       "      <td>2</td>\n",
       "      <td>NaN</td>\n",
       "      <td>24.0</td>\n",
       "      <td>33.10</td>\n",
       "      <td>21</td>\n",
       "      <td>True</td>\n",
       "      <td>False</td>\n",
       "      <td>False</td>\n",
       "      <td>8.20</td>\n",
       "      <td>0</td>\n",
       "      <td>NaN</td>\n",
       "      <td>22041.0</td>\n",
       "      <td>17369.0</td>\n",
       "      <td>0.0</td>\n",
       "      <td>NaN</td>\n",
       "      <td>1.0</td>\n",
       "      <td>374.0</td>\n",
       "      <td>278.0</td>\n",
       "    </tr>\n",
       "    <tr>\n",
       "      <th>20057</th>\n",
       "      <td>13</td>\n",
       "      <td>11500000.0</td>\n",
       "      <td>102.00</td>\n",
       "      <td>2015-10-14T00:00:00</td>\n",
       "      <td>2</td>\n",
       "      <td>NaN</td>\n",
       "      <td>5.0</td>\n",
       "      <td>70.00</td>\n",
       "      <td>2</td>\n",
       "      <td>True</td>\n",
       "      <td>False</td>\n",
       "      <td>False</td>\n",
       "      <td>NaN</td>\n",
       "      <td>0</td>\n",
       "      <td>NaN</td>\n",
       "      <td>23478.0</td>\n",
       "      <td>4258.0</td>\n",
       "      <td>0.0</td>\n",
       "      <td>NaN</td>\n",
       "      <td>0.0</td>\n",
       "      <td>NaN</td>\n",
       "      <td>325.0</td>\n",
       "    </tr>\n",
       "    <tr>\n",
       "      <th>20382</th>\n",
       "      <td>8</td>\n",
       "      <td>1750000.0</td>\n",
       "      <td>72.90</td>\n",
       "      <td>2018-10-27T00:00:00</td>\n",
       "      <td>3</td>\n",
       "      <td>NaN</td>\n",
       "      <td>5.0</td>\n",
       "      <td>47.30</td>\n",
       "      <td>2</td>\n",
       "      <td>True</td>\n",
       "      <td>False</td>\n",
       "      <td>False</td>\n",
       "      <td>8.30</td>\n",
       "      <td>0</td>\n",
       "      <td>NaN</td>\n",
       "      <td>NaN</td>\n",
       "      <td>NaN</td>\n",
       "      <td>NaN</td>\n",
       "      <td>NaN</td>\n",
       "      <td>NaN</td>\n",
       "      <td>NaN</td>\n",
       "      <td>NaN</td>\n",
       "    </tr>\n",
       "    <tr>\n",
       "      <th>20590</th>\n",
       "      <td>7</td>\n",
       "      <td>3380000.0</td>\n",
       "      <td>56.00</td>\n",
       "      <td>2017-11-06T00:00:00</td>\n",
       "      <td>2</td>\n",
       "      <td>2.70</td>\n",
       "      <td>4.0</td>\n",
       "      <td>29.00</td>\n",
       "      <td>3</td>\n",
       "      <td>True</td>\n",
       "      <td>False</td>\n",
       "      <td>False</td>\n",
       "      <td>10.00</td>\n",
       "      <td>1</td>\n",
       "      <td>NaN</td>\n",
       "      <td>NaN</td>\n",
       "      <td>NaN</td>\n",
       "      <td>NaN</td>\n",
       "      <td>NaN</td>\n",
       "      <td>NaN</td>\n",
       "      <td>NaN</td>\n",
       "      <td>78.0</td>\n",
       "    </tr>\n",
       "    <tr>\n",
       "      <th>20654</th>\n",
       "      <td>7</td>\n",
       "      <td>6100000.0</td>\n",
       "      <td>43.00</td>\n",
       "      <td>2016-01-13T00:00:00</td>\n",
       "      <td>1</td>\n",
       "      <td>NaN</td>\n",
       "      <td>5.0</td>\n",
       "      <td>21.00</td>\n",
       "      <td>3</td>\n",
       "      <td>True</td>\n",
       "      <td>False</td>\n",
       "      <td>False</td>\n",
       "      <td>12.00</td>\n",
       "      <td>1</td>\n",
       "      <td>NaN</td>\n",
       "      <td>24385.0</td>\n",
       "      <td>4604.0</td>\n",
       "      <td>1.0</td>\n",
       "      <td>700.0</td>\n",
       "      <td>0.0</td>\n",
       "      <td>NaN</td>\n",
       "      <td>164.0</td>\n",
       "    </tr>\n",
       "    <tr>\n",
       "      <th>21119</th>\n",
       "      <td>8</td>\n",
       "      <td>3500000.0</td>\n",
       "      <td>43.20</td>\n",
       "      <td>2018-11-11T00:00:00</td>\n",
       "      <td>2</td>\n",
       "      <td>NaN</td>\n",
       "      <td>4.0</td>\n",
       "      <td>NaN</td>\n",
       "      <td>2</td>\n",
       "      <td>True</td>\n",
       "      <td>False</td>\n",
       "      <td>False</td>\n",
       "      <td>NaN</td>\n",
       "      <td>0</td>\n",
       "      <td>NaN</td>\n",
       "      <td>19744.0</td>\n",
       "      <td>31897.0</td>\n",
       "      <td>0.0</td>\n",
       "      <td>NaN</td>\n",
       "      <td>0.0</td>\n",
       "      <td>NaN</td>\n",
       "      <td>9.0</td>\n",
       "    </tr>\n",
       "    <tr>\n",
       "      <th>21276</th>\n",
       "      <td>0</td>\n",
       "      <td>17122148.0</td>\n",
       "      <td>178.30</td>\n",
       "      <td>2017-02-10T00:00:00</td>\n",
       "      <td>1</td>\n",
       "      <td>NaN</td>\n",
       "      <td>3.0</td>\n",
       "      <td>NaN</td>\n",
       "      <td>1</td>\n",
       "      <td>True</td>\n",
       "      <td>False</td>\n",
       "      <td>False</td>\n",
       "      <td>41.60</td>\n",
       "      <td>1</td>\n",
       "      <td>NaN</td>\n",
       "      <td>60195.0</td>\n",
       "      <td>41294.0</td>\n",
       "      <td>0.0</td>\n",
       "      <td>NaN</td>\n",
       "      <td>0.0</td>\n",
       "      <td>NaN</td>\n",
       "      <td>4.0</td>\n",
       "    </tr>\n",
       "    <tr>\n",
       "      <th>21333</th>\n",
       "      <td>10</td>\n",
       "      <td>5900000.0</td>\n",
       "      <td>58.00</td>\n",
       "      <td>2015-03-12T00:00:00</td>\n",
       "      <td>3</td>\n",
       "      <td>NaN</td>\n",
       "      <td>6.0</td>\n",
       "      <td>35.20</td>\n",
       "      <td>6</td>\n",
       "      <td>False</td>\n",
       "      <td>False</td>\n",
       "      <td>False</td>\n",
       "      <td>11.00</td>\n",
       "      <td>0</td>\n",
       "      <td>NaN</td>\n",
       "      <td>26090.0</td>\n",
       "      <td>4805.0</td>\n",
       "      <td>0.0</td>\n",
       "      <td>NaN</td>\n",
       "      <td>1.0</td>\n",
       "      <td>943.0</td>\n",
       "      <td>486.0</td>\n",
       "    </tr>\n",
       "    <tr>\n",
       "      <th>21715</th>\n",
       "      <td>2</td>\n",
       "      <td>6047550.0</td>\n",
       "      <td>80.10</td>\n",
       "      <td>2018-07-30T00:00:00</td>\n",
       "      <td>2</td>\n",
       "      <td>NaN</td>\n",
       "      <td>9.0</td>\n",
       "      <td>30.50</td>\n",
       "      <td>2</td>\n",
       "      <td>False</td>\n",
       "      <td>False</td>\n",
       "      <td>False</td>\n",
       "      <td>29.20</td>\n",
       "      <td>0</td>\n",
       "      <td>NaN</td>\n",
       "      <td>NaN</td>\n",
       "      <td>NaN</td>\n",
       "      <td>NaN</td>\n",
       "      <td>NaN</td>\n",
       "      <td>NaN</td>\n",
       "      <td>NaN</td>\n",
       "      <td>176.0</td>\n",
       "    </tr>\n",
       "    <tr>\n",
       "      <th>21898</th>\n",
       "      <td>2</td>\n",
       "      <td>5886750.0</td>\n",
       "      <td>83.50</td>\n",
       "      <td>2018-07-30T00:00:00</td>\n",
       "      <td>2</td>\n",
       "      <td>NaN</td>\n",
       "      <td>9.0</td>\n",
       "      <td>36.60</td>\n",
       "      <td>2</td>\n",
       "      <td>False</td>\n",
       "      <td>False</td>\n",
       "      <td>False</td>\n",
       "      <td>29.70</td>\n",
       "      <td>0</td>\n",
       "      <td>NaN</td>\n",
       "      <td>NaN</td>\n",
       "      <td>NaN</td>\n",
       "      <td>NaN</td>\n",
       "      <td>NaN</td>\n",
       "      <td>NaN</td>\n",
       "      <td>NaN</td>\n",
       "      <td>169.0</td>\n",
       "    </tr>\n",
       "    <tr>\n",
       "      <th>22474</th>\n",
       "      <td>7</td>\n",
       "      <td>24000000.0</td>\n",
       "      <td>128.00</td>\n",
       "      <td>2015-07-24T00:00:00</td>\n",
       "      <td>4</td>\n",
       "      <td>2.75</td>\n",
       "      <td>6.0</td>\n",
       "      <td>68.40</td>\n",
       "      <td>6</td>\n",
       "      <td>False</td>\n",
       "      <td>False</td>\n",
       "      <td>False</td>\n",
       "      <td>16.50</td>\n",
       "      <td>0</td>\n",
       "      <td>NaN</td>\n",
       "      <td>23297.0</td>\n",
       "      <td>1780.0</td>\n",
       "      <td>3.0</td>\n",
       "      <td>277.0</td>\n",
       "      <td>3.0</td>\n",
       "      <td>561.0</td>\n",
       "      <td>436.0</td>\n",
       "    </tr>\n",
       "    <tr>\n",
       "      <th>22717</th>\n",
       "      <td>9</td>\n",
       "      <td>3000000.0</td>\n",
       "      <td>35.00</td>\n",
       "      <td>2018-01-02T00:00:00</td>\n",
       "      <td>1</td>\n",
       "      <td>2.60</td>\n",
       "      <td>16.0</td>\n",
       "      <td>16.00</td>\n",
       "      <td>7</td>\n",
       "      <td>False</td>\n",
       "      <td>False</td>\n",
       "      <td>False</td>\n",
       "      <td>10.00</td>\n",
       "      <td>1</td>\n",
       "      <td>NaN</td>\n",
       "      <td>NaN</td>\n",
       "      <td>NaN</td>\n",
       "      <td>NaN</td>\n",
       "      <td>NaN</td>\n",
       "      <td>NaN</td>\n",
       "      <td>NaN</td>\n",
       "      <td>75.0</td>\n",
       "    </tr>\n",
       "    <tr>\n",
       "      <th>22933</th>\n",
       "      <td>20</td>\n",
       "      <td>3176015.0</td>\n",
       "      <td>33.30</td>\n",
       "      <td>2015-04-22T00:00:00</td>\n",
       "      <td>1</td>\n",
       "      <td>NaN</td>\n",
       "      <td>23.0</td>\n",
       "      <td>15.40</td>\n",
       "      <td>22</td>\n",
       "      <td>True</td>\n",
       "      <td>False</td>\n",
       "      <td>False</td>\n",
       "      <td>9.00</td>\n",
       "      <td>0</td>\n",
       "      <td>NaN</td>\n",
       "      <td>22041.0</td>\n",
       "      <td>17369.0</td>\n",
       "      <td>0.0</td>\n",
       "      <td>NaN</td>\n",
       "      <td>1.0</td>\n",
       "      <td>374.0</td>\n",
       "      <td>427.0</td>\n",
       "    </tr>\n",
       "    <tr>\n",
       "      <th>23214</th>\n",
       "      <td>3</td>\n",
       "      <td>7990000.0</td>\n",
       "      <td>56.00</td>\n",
       "      <td>2016-05-31T00:00:00</td>\n",
       "      <td>2</td>\n",
       "      <td>NaN</td>\n",
       "      <td>6.0</td>\n",
       "      <td>NaN</td>\n",
       "      <td>5</td>\n",
       "      <td>False</td>\n",
       "      <td>False</td>\n",
       "      <td>False</td>\n",
       "      <td>NaN</td>\n",
       "      <td>0</td>\n",
       "      <td>NaN</td>\n",
       "      <td>11206.0</td>\n",
       "      <td>8943.0</td>\n",
       "      <td>0.0</td>\n",
       "      <td>NaN</td>\n",
       "      <td>0.0</td>\n",
       "      <td>NaN</td>\n",
       "      <td>70.0</td>\n",
       "    </tr>\n",
       "  </tbody>\n",
       "</table>\n",
       "</div>"
      ],
      "text/plain": [
       "       total_images  last_price  total_area first_day_exposition  rooms  \\\n",
       "1097              3   8600000.0       81.70  2016-04-15T00:00:00      3   \n",
       "2033              6   5398000.0       80.00  2017-05-30T00:00:00      3   \n",
       "2603             20   3351765.0       42.70  2015-09-20T00:00:00      1   \n",
       "2632              2   5130593.0       62.40  2015-10-11T00:00:00      2   \n",
       "3574             10   4200000.0       46.50  2016-05-28T00:00:00      2   \n",
       "4151             17  17600000.0       89.50  2014-12-09T00:00:00      2   \n",
       "4189              7   9200000.0       80.00  2015-12-10T00:00:00      3   \n",
       "4670              1   5500000.0       83.00  2015-08-14T00:00:00      3   \n",
       "5343             19  13540000.0       85.50  2016-01-20T00:00:00      3   \n",
       "5707              7   3700000.0       30.00  2016-04-29T00:00:00      1   \n",
       "6765             20   4895892.0       60.70  2015-03-12T00:00:00      2   \n",
       "7114              5   4250000.0       56.00  2016-03-16T00:00:00      3   \n",
       "7330              8   5100000.0       63.00  2015-01-27T00:00:00      3   \n",
       "7600              8   6800000.0       70.00  2016-01-31T00:00:00      3   \n",
       "8568             10  16000000.0      155.00  2016-05-09T00:00:00      3   \n",
       "8986             10   4850000.0      103.10  2018-07-10T00:00:00      3   \n",
       "9821             13   8000000.0       94.50  2015-01-21T00:00:00      4   \n",
       "10122             5   8200000.0       83.00  2015-06-24T00:00:00      4   \n",
       "11248            12   6300000.0       63.10  2015-01-16T00:00:00      4   \n",
       "12879            12   4400000.0       39.20  2016-04-26T00:00:00      1   \n",
       "12936             6   6800000.0       73.00  2015-11-01T00:00:00      3   \n",
       "13223             1   2919911.0       29.40  2015-03-12T00:00:00      1   \n",
       "13690             7   3500000.0       71.00  2016-06-23T00:00:00      3   \n",
       "14273             2   4422000.0       60.00  2016-03-23T00:00:00      2   \n",
       "14342             3   3611000.0       53.50  2017-04-27T00:00:00      1   \n",
       "15686            13   4700000.0       44.00  2015-12-01T00:00:00      2   \n",
       "15866            10   3950000.0       44.00  2016-04-16T00:00:00      2   \n",
       "16499             2   4995573.0       56.90  2016-06-17T00:00:00      2   \n",
       "16561             3   2450000.0       30.00  2016-06-02T00:00:00      1   \n",
       "16610            11  11940000.0      112.00  2015-11-19T00:00:00      3   \n",
       "17535             2   5985000.0       79.80  2018-07-30T00:00:00      3   \n",
       "17764             9   8400000.0       94.00  2016-01-24T00:00:00      3   \n",
       "18526             3  10800000.0       86.00  2016-06-24T00:00:00      4   \n",
       "18917             3   2660000.0       37.99  2017-08-17T00:00:00      1   \n",
       "19045             6   4650000.0       48.00  2016-01-25T00:00:00      2   \n",
       "19972            20   4361004.0       62.40  2015-09-20T00:00:00      2   \n",
       "20057            13  11500000.0      102.00  2015-10-14T00:00:00      2   \n",
       "20382             8   1750000.0       72.90  2018-10-27T00:00:00      3   \n",
       "20590             7   3380000.0       56.00  2017-11-06T00:00:00      2   \n",
       "20654             7   6100000.0       43.00  2016-01-13T00:00:00      1   \n",
       "21119             8   3500000.0       43.20  2018-11-11T00:00:00      2   \n",
       "21276             0  17122148.0      178.30  2017-02-10T00:00:00      1   \n",
       "21333            10   5900000.0       58.00  2015-03-12T00:00:00      3   \n",
       "21715             2   6047550.0       80.10  2018-07-30T00:00:00      2   \n",
       "21898             2   5886750.0       83.50  2018-07-30T00:00:00      2   \n",
       "22474             7  24000000.0      128.00  2015-07-24T00:00:00      4   \n",
       "22717             9   3000000.0       35.00  2018-01-02T00:00:00      1   \n",
       "22933            20   3176015.0       33.30  2015-04-22T00:00:00      1   \n",
       "23214             3   7990000.0       56.00  2016-05-31T00:00:00      2   \n",
       "\n",
       "       ceiling_height  floors_total  living_area  floor  is_apartment  studio  \\\n",
       "1097             3.55           5.0        50.80      2          True   False   \n",
       "2033              NaN           4.0        42.60      2          True   False   \n",
       "2603              NaN          24.0        15.60      3          True   False   \n",
       "2632              NaN          24.0        33.10     21          True   False   \n",
       "3574              NaN           5.0        30.80      5          True   False   \n",
       "4151             3.00           8.0        39.62      7          True   False   \n",
       "4189             4.00           4.0        52.30      3         False   False   \n",
       "4670              NaN           7.0          NaN      6          True   False   \n",
       "5343              NaN           7.0        59.10      5         False   False   \n",
       "5707              NaN          24.0        20.00     23          True   False   \n",
       "6765              NaN          24.0        31.90      3          True   False   \n",
       "7114              NaN           5.0        40.00      4          True   False   \n",
       "7330              NaN           5.0        42.00      1         False   False   \n",
       "7600              NaN          11.0        42.00      9          True   False   \n",
       "8568              NaN           6.0        94.00      3          True   False   \n",
       "8986              NaN           NaN        68.10      4          True   False   \n",
       "9821             3.00           2.0        57.80      2          True   False   \n",
       "10122             NaN           5.0        53.00      2          True   False   \n",
       "11248             NaN           8.0        44.00      7          True   False   \n",
       "12879             NaN          12.0        20.00     12         False   False   \n",
       "12936             NaN           5.0        53.10      2          True   False   \n",
       "13223            2.75          24.0        21.10      2          True   False   \n",
       "13690            2.75           2.0        45.60      1         False   False   \n",
       "14273            2.75          23.0        32.00     14          True   False   \n",
       "14342             NaN           4.0        25.80      3         False   False   \n",
       "15686             NaN           5.0        28.00      3          True   False   \n",
       "15866            2.70           5.0        28.50      5         False   False   \n",
       "16499             NaN          24.0        29.20     14          True   False   \n",
       "16561             NaN           4.0        17.00      2          True   False   \n",
       "16610            3.00           5.0        64.00      2          True   False   \n",
       "17535             NaN           9.0          NaN      2         False   False   \n",
       "17764             NaN          23.0        52.00      5          True   False   \n",
       "18526            3.20           7.0        48.00      2          True   False   \n",
       "18917             NaN           4.0        13.00      1          True   False   \n",
       "19045            3.12           5.0        26.20      1         False   False   \n",
       "19972             NaN          24.0        33.10     21          True   False   \n",
       "20057             NaN           5.0        70.00      2          True   False   \n",
       "20382             NaN           5.0        47.30      2          True   False   \n",
       "20590            2.70           4.0        29.00      3          True   False   \n",
       "20654             NaN           5.0        21.00      3          True   False   \n",
       "21119             NaN           4.0          NaN      2          True   False   \n",
       "21276             NaN           3.0          NaN      1          True   False   \n",
       "21333             NaN           6.0        35.20      6         False   False   \n",
       "21715             NaN           9.0        30.50      2         False   False   \n",
       "21898             NaN           9.0        36.60      2         False   False   \n",
       "22474            2.75           6.0        68.40      6         False   False   \n",
       "22717            2.60          16.0        16.00      7         False   False   \n",
       "22933             NaN          23.0        15.40     22          True   False   \n",
       "23214             NaN           6.0          NaN      5         False   False   \n",
       "\n",
       "       open_plan  kitchen_area  balcony locality_name  airports_nearest  \\\n",
       "1097       False          8.80        0           NaN           23478.0   \n",
       "2033       False         18.60        0           NaN               NaN   \n",
       "2603       False         10.70        0           NaN           22041.0   \n",
       "2632       False          8.20        0           NaN           22041.0   \n",
       "3574       False          6.50        0           NaN           27419.0   \n",
       "4151       False         13.38        0           NaN           25054.0   \n",
       "4189       False         10.40        0           NaN           21774.0   \n",
       "4670       False           NaN        0           NaN           26534.0   \n",
       "5343       False          8.30        4           NaN           10556.0   \n",
       "5707       False           NaN        0           NaN           21460.0   \n",
       "6765       False         12.20        0           NaN           22041.0   \n",
       "7114       False          6.00        0           NaN           14031.0   \n",
       "7330       False          7.50        0           NaN           25925.0   \n",
       "7600       False         11.00        1           NaN           37123.0   \n",
       "8568       False         23.00        0           NaN           24233.0   \n",
       "8986       False         16.70        0           NaN           19659.0   \n",
       "9821       False         11.30        0           NaN           24953.0   \n",
       "10122      False         10.00        0           NaN           25771.0   \n",
       "11248      False          8.70        0           NaN           25221.0   \n",
       "12879      False          7.90        0           NaN           37123.0   \n",
       "12936      False          8.20        0           NaN           25680.0   \n",
       "13223      False           NaN        0           NaN           22041.0   \n",
       "13690      False          8.00        2           NaN           20234.0   \n",
       "14273      False         11.90        0           NaN           22041.0   \n",
       "14342      False           NaN        1           NaN               NaN   \n",
       "15686      False          5.00        0           NaN           35920.0   \n",
       "15866      False          5.50        1           NaN           36380.0   \n",
       "16499      False         10.90        0           NaN           22041.0   \n",
       "16561      False          6.00        1           NaN           21731.0   \n",
       "16610      False         23.00        0           NaN           21219.0   \n",
       "17535      False           NaN        0           NaN               NaN   \n",
       "17764      False           NaN        0           NaN           36865.0   \n",
       "18526      False         12.00        0           NaN           11206.0   \n",
       "18917      False         12.40        0           NaN           21540.0   \n",
       "19045      False          8.00        0           NaN           21654.0   \n",
       "19972      False          8.20        0           NaN           22041.0   \n",
       "20057      False           NaN        0           NaN           23478.0   \n",
       "20382      False          8.30        0           NaN               NaN   \n",
       "20590      False         10.00        1           NaN               NaN   \n",
       "20654      False         12.00        1           NaN           24385.0   \n",
       "21119      False           NaN        0           NaN           19744.0   \n",
       "21276      False         41.60        1           NaN           60195.0   \n",
       "21333      False         11.00        0           NaN           26090.0   \n",
       "21715      False         29.20        0           NaN               NaN   \n",
       "21898      False         29.70        0           NaN               NaN   \n",
       "22474      False         16.50        0           NaN           23297.0   \n",
       "22717      False         10.00        1           NaN               NaN   \n",
       "22933      False          9.00        0           NaN           22041.0   \n",
       "23214      False           NaN        0           NaN           11206.0   \n",
       "\n",
       "       cityCenters_nearest  parks_around3000  parks_nearest  ponds_around3000  \\\n",
       "1097                4258.0               0.0            NaN               0.0   \n",
       "2033                   NaN               NaN            NaN               NaN   \n",
       "2603               17369.0               0.0            NaN               1.0   \n",
       "2632               17369.0               0.0            NaN               1.0   \n",
       "3574                8127.0               0.0            NaN               1.0   \n",
       "4151                3902.0               1.0          485.0               3.0   \n",
       "4189                3039.0               1.0          690.0               1.0   \n",
       "4670                5382.0               1.0          446.0               1.0   \n",
       "5343                9538.0               1.0           67.0               0.0   \n",
       "5707               16788.0               0.0            NaN               1.0   \n",
       "6765               17369.0               0.0            NaN               1.0   \n",
       "7114                8582.0               0.0            NaN               0.0   \n",
       "7330                4627.0               2.0          459.0               0.0   \n",
       "7600               12332.0               0.0            NaN               0.0   \n",
       "8568                4065.0               1.0          547.0               0.0   \n",
       "8986               31813.0               0.0            NaN               0.0   \n",
       "9821                3801.0               1.0          375.0               2.0   \n",
       "10122               4474.0               2.0          374.0               0.0   \n",
       "11248               4069.0               0.0            NaN               2.0   \n",
       "12879              12332.0               0.0            NaN               0.0   \n",
       "12936               4383.0               3.0          336.0               0.0   \n",
       "13223              17369.0               0.0            NaN               1.0   \n",
       "13690              23659.0               0.0            NaN               2.0   \n",
       "14273              17369.0               0.0            NaN               1.0   \n",
       "14342                  NaN               NaN            NaN               NaN   \n",
       "15686               9633.0               2.0          472.0               3.0   \n",
       "15866               9497.0               1.0          634.0               3.0   \n",
       "16499              17369.0               0.0            NaN               1.0   \n",
       "16561               8619.0               0.0            NaN               3.0   \n",
       "16610               1322.0               1.0          740.0               3.0   \n",
       "17535                  NaN               NaN            NaN               NaN   \n",
       "17764              10976.0               0.0            NaN               1.0   \n",
       "18526               8943.0               0.0            NaN               0.0   \n",
       "18917               8429.0               0.0            NaN               3.0   \n",
       "19045               3312.0               1.0          549.0               1.0   \n",
       "19972              17369.0               0.0            NaN               1.0   \n",
       "20057               4258.0               0.0            NaN               0.0   \n",
       "20382                  NaN               NaN            NaN               NaN   \n",
       "20590                  NaN               NaN            NaN               NaN   \n",
       "20654               4604.0               1.0          700.0               0.0   \n",
       "21119              31897.0               0.0            NaN               0.0   \n",
       "21276              41294.0               0.0            NaN               0.0   \n",
       "21333               4805.0               0.0            NaN               1.0   \n",
       "21715                  NaN               NaN            NaN               NaN   \n",
       "21898                  NaN               NaN            NaN               NaN   \n",
       "22474               1780.0               3.0          277.0               3.0   \n",
       "22717                  NaN               NaN            NaN               NaN   \n",
       "22933              17369.0               0.0            NaN               1.0   \n",
       "23214               8943.0               0.0            NaN               0.0   \n",
       "\n",
       "       ponds_nearest  days_exposition  \n",
       "1097             NaN            147.0  \n",
       "2033             NaN             34.0  \n",
       "2603           374.0            276.0  \n",
       "2632           374.0            256.0  \n",
       "3574           603.0             45.0  \n",
       "4151           722.0            869.0  \n",
       "4189           953.0            223.0  \n",
       "4670           376.0            350.0  \n",
       "5343             NaN            303.0  \n",
       "5707           170.0             49.0  \n",
       "6765           374.0            468.0  \n",
       "7114             NaN             96.0  \n",
       "7330             NaN            566.0  \n",
       "7600             NaN            209.0  \n",
       "8568             NaN            248.0  \n",
       "8986             NaN             28.0  \n",
       "9821           532.0            531.0  \n",
       "10122            NaN            364.0  \n",
       "11248          653.0            551.0  \n",
       "12879            NaN            179.0  \n",
       "12936            NaN            542.0  \n",
       "13223          374.0            470.0  \n",
       "13690          296.0             92.0  \n",
       "14273          374.0             90.0  \n",
       "14342            NaN             92.0  \n",
       "15686          535.0            280.0  \n",
       "15866          513.0             85.0  \n",
       "16499          374.0              4.0  \n",
       "16561          162.0            140.0  \n",
       "16610          365.0            319.0  \n",
       "17535            NaN            213.0  \n",
       "17764          856.0            305.0  \n",
       "18526            NaN             65.0  \n",
       "18917          142.0             15.0  \n",
       "19045          858.0            254.0  \n",
       "19972          374.0            278.0  \n",
       "20057            NaN            325.0  \n",
       "20382            NaN              NaN  \n",
       "20590            NaN             78.0  \n",
       "20654            NaN            164.0  \n",
       "21119            NaN              9.0  \n",
       "21276            NaN              4.0  \n",
       "21333          943.0            486.0  \n",
       "21715            NaN            176.0  \n",
       "21898            NaN            169.0  \n",
       "22474          561.0            436.0  \n",
       "22717            NaN             75.0  \n",
       "22933          374.0            427.0  \n",
       "23214            NaN             70.0  "
      ]
     },
     "execution_count": 8,
     "metadata": {},
     "output_type": "execute_result"
    }
   ],
   "source": [
    "df[df['locality_name'].isna()]"
   ]
  },
  {
   "cell_type": "markdown",
   "metadata": {},
   "source": [
    "К сожалению, установить природу и взаимосвязь пропусков в столбце `locality_name` не получилось. Следовательно будет разумно оставить пропуски."
   ]
  },
  {
   "cell_type": "markdown",
   "metadata": {},
   "source": [
    " Попроубем сократить количество пропусков в столбцах `airports_nearest`, `cityCenters_nearest`, `parks_around3000`, `parks_nearest`, `ponds_around3000`, `ponds_nearest`. Будем это делать подстановокй уже известных значений по населенным пунктам. "
   ]
  },
  {
   "cell_type": "code",
   "execution_count": 9,
   "metadata": {},
   "outputs": [],
   "source": [
    "df['airports_nearest'] = df['airports_nearest'].fillna(df.groupby('locality_name')['airports_nearest'].transform('median'))\n",
    "df['cityCenters_nearest'] = df['cityCenters_nearest'].fillna(df.groupby('locality_name')['cityCenters_nearest'].transform('median'))\n",
    "df['parks_around3000'] = df['parks_around3000'].fillna(df.groupby('locality_name')['parks_around3000'].transform('median'))\n",
    "df['parks_nearest'] = df['parks_nearest'].fillna(df.groupby('locality_name')['parks_nearest'].transform('median'))\n",
    "df['ponds_around3000'] = df['ponds_around3000'].fillna(df.groupby('locality_name')['ponds_around3000'].transform('median'))\n",
    "df['ponds_nearest'] = df['ponds_nearest'].fillna(df.groupby('locality_name')['ponds_nearest'].transform('median'))\n"
   ]
  },
  {
   "cell_type": "markdown",
   "metadata": {},
   "source": [
    "Пропуски сократились. К сожалению, дозаполнить остальные нет возможности из-за нехватки данных, оставим тогда так. По первым 50 строкам датафрейма можно заметить, что встречатся такие населенные пункты, по которым во всех шести столбцах пропуски. \n",
    "\n",
    "Чуть ниже изменим тип данных для данных столбцов на целочисленный. "
   ]
  },
  {
   "cell_type": "code",
   "execution_count": 10,
   "metadata": {},
   "outputs": [],
   "source": [
    "df['airports_nearest'] = np.floor(pd.to_numeric(df['airports_nearest'], errors='coerce')).astype('Int64')\n",
    "df['cityCenters_nearest'] = np.floor(pd.to_numeric(df['cityCenters_nearest'], errors='coerce')).astype('Int64')\n",
    "df['parks_around3000'] = np.floor(pd.to_numeric(df['parks_around3000'], errors='coerce')).astype('Int64')\n",
    "df['parks_nearest'] = np.floor(pd.to_numeric(df['parks_nearest'], errors='coerce')).astype('Int64')\n",
    "df['ponds_around3000'] = np.floor(pd.to_numeric(df['ponds_around3000'], errors='coerce')).astype('Int64')\n",
    "df['ponds_nearest'] = np.floor(pd.to_numeric(df['ponds_nearest'], errors='coerce')).astype('Int64')\n"
   ]
  },
  {
   "cell_type": "markdown",
   "metadata": {},
   "source": [
    "Далее постараемся заполнить пропуски в столбцах `living_area` и `kitchen_area`. Чтобы заполнить данные пропуски, посчитаем сколько в среденем занимает жилая площадь и площадь кухни от общей площади в процентах."
   ]
  },
  {
   "cell_type": "code",
   "execution_count": 11,
   "metadata": {
    "scrolled": true
   },
   "outputs": [
    {
     "data": {
      "text/plain": [
       "0.5647655216993298"
      ]
     },
     "metadata": {},
     "output_type": "display_data"
    },
    {
     "data": {
      "text/plain": [
       "0.18735473877173864"
      ]
     },
     "metadata": {},
     "output_type": "display_data"
    }
   ],
   "source": [
    "df['living_area_ratio'] = (df['living_area'] / df['total_area']) \n",
    "df['kitchen_area_ratio'] = (df['kitchen_area'] / df['total_area'])\n",
    "living_area_ratio_mean = df['living_area_ratio'].mean()\n",
    "kitchen_area_ratio_mean = df['kitchen_area_ratio'].mean()\n",
    "display(living_area_ratio_mean)\n",
    "display(kitchen_area_ratio_mean)"
   ]
  },
  {
   "cell_type": "markdown",
   "metadata": {},
   "source": [
    "Мы получили среднее отношение жилой площади/кухни к общей площади и теперь можем заполнить пропуски:"
   ]
  },
  {
   "cell_type": "code",
   "execution_count": 12,
   "metadata": {
    "scrolled": true
   },
   "outputs": [],
   "source": [
    "df['living_area'] = df['living_area'].fillna(df['total_area'] * living_area_ratio_mean)\n",
    "df['kitchen_area'] = df['kitchen_area'].fillna(df['total_area'] * kitchen_area_ratio_mean)"
   ]
  },
  {
   "cell_type": "markdown",
   "metadata": {},
   "source": [
    "Отформатирует значения даты в столбце `first_day_exposition`, чтобы дата выглядела корректной."
   ]
  },
  {
   "cell_type": "code",
   "execution_count": 13,
   "metadata": {
    "scrolled": true
   },
   "outputs": [],
   "source": [
    "df['first_day_exposition'] = pd.to_datetime(df['first_day_exposition'], format='%Y-%m-%d')"
   ]
  },
  {
   "cell_type": "markdown",
   "metadata": {},
   "source": [
    "Что касается пропусков в столбце `floors_total`. Установить взаимосвязь с другимии столбцами для заполнения пропусков не удаётся. К тому же, данный столбец не понадобится для дальнейшего исследовательского анализа и количесвто пропусков очень маленькое. Можно просто удалить данные проупски. \n",
    "\n",
    "Но для данного столбца стоит изменить тип данных, т. к. этажи описыватся целыми числами."
   ]
  },
  {
   "cell_type": "code",
   "execution_count": 14,
   "metadata": {},
   "outputs": [],
   "source": [
    "df = df.dropna(axis='index', how='any', subset=['floors_total'])"
   ]
  },
  {
   "cell_type": "code",
   "execution_count": 15,
   "metadata": {},
   "outputs": [],
   "source": [
    "df['floors_total'] = df['floors_total'].astype('Int64')"
   ]
  },
  {
   "cell_type": "markdown",
   "metadata": {},
   "source": [
    "Аналогично и со столбцом `days_exposition`. Природа данных пропусков нам не известна, пропуски остаются.\n",
    "\n",
    "Также изменим тип данных на целочисленный ниже."
   ]
  },
  {
   "cell_type": "markdown",
   "metadata": {},
   "source": [
    "Далее попробуем разобраться со столбцом `ceiling_height`. Для начала посмотрим на его числовое описание."
   ]
  },
  {
   "cell_type": "code",
   "execution_count": 16,
   "metadata": {},
   "outputs": [
    {
     "data": {
      "text/plain": [
       "count    14495.000000\n",
       "mean         2.771495\n",
       "std          1.261445\n",
       "min          1.000000\n",
       "25%          2.520000\n",
       "50%          2.650000\n",
       "75%          2.800000\n",
       "max        100.000000\n",
       "Name: ceiling_height, dtype: float64"
      ]
     },
     "execution_count": 16,
     "metadata": {},
     "output_type": "execute_result"
    }
   ],
   "source": [
    "df['ceiling_height'].describe()"
   ]
  },
  {
   "cell_type": "markdown",
   "metadata": {},
   "source": [
    "Мы видим, что максимальное значение в данном столбце достигает аж 100. Ну не бывает потолков высотой в 100 метров.\n",
    "\n",
    "Предлагаю посомтреть, может это единичное такое аномалие."
   ]
  },
  {
   "cell_type": "code",
   "execution_count": 17,
   "metadata": {
    "scrolled": false
   },
   "outputs": [
    {
     "data": {
      "text/html": [
       "<div>\n",
       "<style scoped>\n",
       "    .dataframe tbody tr th:only-of-type {\n",
       "        vertical-align: middle;\n",
       "    }\n",
       "\n",
       "    .dataframe tbody tr th {\n",
       "        vertical-align: top;\n",
       "    }\n",
       "\n",
       "    .dataframe thead th {\n",
       "        text-align: right;\n",
       "    }\n",
       "</style>\n",
       "<table border=\"1\" class=\"dataframe\">\n",
       "  <thead>\n",
       "    <tr style=\"text-align: right;\">\n",
       "      <th></th>\n",
       "      <th>total_images</th>\n",
       "      <th>last_price</th>\n",
       "      <th>total_area</th>\n",
       "      <th>first_day_exposition</th>\n",
       "      <th>rooms</th>\n",
       "      <th>ceiling_height</th>\n",
       "      <th>floors_total</th>\n",
       "      <th>living_area</th>\n",
       "      <th>floor</th>\n",
       "      <th>is_apartment</th>\n",
       "      <th>studio</th>\n",
       "      <th>open_plan</th>\n",
       "      <th>kitchen_area</th>\n",
       "      <th>balcony</th>\n",
       "      <th>locality_name</th>\n",
       "      <th>airports_nearest</th>\n",
       "      <th>cityCenters_nearest</th>\n",
       "      <th>parks_around3000</th>\n",
       "      <th>parks_nearest</th>\n",
       "      <th>ponds_around3000</th>\n",
       "      <th>ponds_nearest</th>\n",
       "      <th>days_exposition</th>\n",
       "      <th>living_area_ratio</th>\n",
       "      <th>kitchen_area_ratio</th>\n",
       "    </tr>\n",
       "  </thead>\n",
       "  <tbody>\n",
       "    <tr>\n",
       "      <th>22869</th>\n",
       "      <td>0</td>\n",
       "      <td>15000000.0</td>\n",
       "      <td>25.0</td>\n",
       "      <td>2018-07-25</td>\n",
       "      <td>1</td>\n",
       "      <td>100.0</td>\n",
       "      <td>5</td>\n",
       "      <td>14.0</td>\n",
       "      <td>5</td>\n",
       "      <td>True</td>\n",
       "      <td>False</td>\n",
       "      <td>False</td>\n",
       "      <td>11.000000</td>\n",
       "      <td>5</td>\n",
       "      <td>Санкт-Петербург</td>\n",
       "      <td>34963</td>\n",
       "      <td>8283</td>\n",
       "      <td>1</td>\n",
       "      <td>223</td>\n",
       "      <td>3</td>\n",
       "      <td>30</td>\n",
       "      <td>19.0</td>\n",
       "      <td>0.560000</td>\n",
       "      <td>0.440000</td>\n",
       "    </tr>\n",
       "    <tr>\n",
       "      <th>3148</th>\n",
       "      <td>14</td>\n",
       "      <td>2900000.0</td>\n",
       "      <td>75.0</td>\n",
       "      <td>2018-11-12</td>\n",
       "      <td>3</td>\n",
       "      <td>32.0</td>\n",
       "      <td>3</td>\n",
       "      <td>53.0</td>\n",
       "      <td>2</td>\n",
       "      <td>True</td>\n",
       "      <td>False</td>\n",
       "      <td>False</td>\n",
       "      <td>8.000000</td>\n",
       "      <td>0</td>\n",
       "      <td>Волхов</td>\n",
       "      <td>&lt;NA&gt;</td>\n",
       "      <td>&lt;NA&gt;</td>\n",
       "      <td>&lt;NA&gt;</td>\n",
       "      <td>&lt;NA&gt;</td>\n",
       "      <td>&lt;NA&gt;</td>\n",
       "      <td>&lt;NA&gt;</td>\n",
       "      <td>NaN</td>\n",
       "      <td>0.706667</td>\n",
       "      <td>0.106667</td>\n",
       "    </tr>\n",
       "    <tr>\n",
       "      <th>22336</th>\n",
       "      <td>19</td>\n",
       "      <td>9999000.0</td>\n",
       "      <td>92.4</td>\n",
       "      <td>2019-04-05</td>\n",
       "      <td>2</td>\n",
       "      <td>32.0</td>\n",
       "      <td>6</td>\n",
       "      <td>55.5</td>\n",
       "      <td>5</td>\n",
       "      <td>False</td>\n",
       "      <td>False</td>\n",
       "      <td>False</td>\n",
       "      <td>16.500000</td>\n",
       "      <td>4</td>\n",
       "      <td>Санкт-Петербург</td>\n",
       "      <td>18838</td>\n",
       "      <td>3506</td>\n",
       "      <td>0</td>\n",
       "      <td>460</td>\n",
       "      <td>3</td>\n",
       "      <td>511</td>\n",
       "      <td>NaN</td>\n",
       "      <td>0.600649</td>\n",
       "      <td>0.178571</td>\n",
       "    </tr>\n",
       "    <tr>\n",
       "      <th>21377</th>\n",
       "      <td>19</td>\n",
       "      <td>4900000.0</td>\n",
       "      <td>42.0</td>\n",
       "      <td>2017-04-18</td>\n",
       "      <td>1</td>\n",
       "      <td>27.5</td>\n",
       "      <td>24</td>\n",
       "      <td>37.7</td>\n",
       "      <td>19</td>\n",
       "      <td>False</td>\n",
       "      <td>False</td>\n",
       "      <td>False</td>\n",
       "      <td>11.000000</td>\n",
       "      <td>2</td>\n",
       "      <td>Санкт-Петербург</td>\n",
       "      <td>42742</td>\n",
       "      <td>9760</td>\n",
       "      <td>0</td>\n",
       "      <td>460</td>\n",
       "      <td>0</td>\n",
       "      <td>503</td>\n",
       "      <td>61.0</td>\n",
       "      <td>0.897619</td>\n",
       "      <td>0.261905</td>\n",
       "    </tr>\n",
       "    <tr>\n",
       "      <th>20478</th>\n",
       "      <td>11</td>\n",
       "      <td>8000000.0</td>\n",
       "      <td>45.0</td>\n",
       "      <td>2017-07-18</td>\n",
       "      <td>1</td>\n",
       "      <td>27.0</td>\n",
       "      <td>4</td>\n",
       "      <td>22.0</td>\n",
       "      <td>2</td>\n",
       "      <td>True</td>\n",
       "      <td>False</td>\n",
       "      <td>False</td>\n",
       "      <td>10.000000</td>\n",
       "      <td>1</td>\n",
       "      <td>Санкт-Петербург</td>\n",
       "      <td>18975</td>\n",
       "      <td>3246</td>\n",
       "      <td>0</td>\n",
       "      <td>460</td>\n",
       "      <td>3</td>\n",
       "      <td>449</td>\n",
       "      <td>429.0</td>\n",
       "      <td>0.488889</td>\n",
       "      <td>0.222222</td>\n",
       "    </tr>\n",
       "    <tr>\n",
       "      <th>4876</th>\n",
       "      <td>7</td>\n",
       "      <td>3000000.0</td>\n",
       "      <td>25.0</td>\n",
       "      <td>2017-09-27</td>\n",
       "      <td>0</td>\n",
       "      <td>27.0</td>\n",
       "      <td>25</td>\n",
       "      <td>17.0</td>\n",
       "      <td>17</td>\n",
       "      <td>True</td>\n",
       "      <td>False</td>\n",
       "      <td>True</td>\n",
       "      <td>4.683868</td>\n",
       "      <td>2</td>\n",
       "      <td>посёлок Мурино</td>\n",
       "      <td>&lt;NA&gt;</td>\n",
       "      <td>&lt;NA&gt;</td>\n",
       "      <td>&lt;NA&gt;</td>\n",
       "      <td>&lt;NA&gt;</td>\n",
       "      <td>&lt;NA&gt;</td>\n",
       "      <td>&lt;NA&gt;</td>\n",
       "      <td>28.0</td>\n",
       "      <td>0.680000</td>\n",
       "      <td>NaN</td>\n",
       "    </tr>\n",
       "    <tr>\n",
       "      <th>17857</th>\n",
       "      <td>1</td>\n",
       "      <td>3900000.0</td>\n",
       "      <td>56.0</td>\n",
       "      <td>2017-12-22</td>\n",
       "      <td>3</td>\n",
       "      <td>27.0</td>\n",
       "      <td>5</td>\n",
       "      <td>33.0</td>\n",
       "      <td>4</td>\n",
       "      <td>False</td>\n",
       "      <td>False</td>\n",
       "      <td>False</td>\n",
       "      <td>10.491865</td>\n",
       "      <td>0</td>\n",
       "      <td>Санкт-Петербург</td>\n",
       "      <td>41030</td>\n",
       "      <td>15543</td>\n",
       "      <td>0</td>\n",
       "      <td>460</td>\n",
       "      <td>0</td>\n",
       "      <td>503</td>\n",
       "      <td>73.0</td>\n",
       "      <td>0.589286</td>\n",
       "      <td>NaN</td>\n",
       "    </tr>\n",
       "    <tr>\n",
       "      <th>10773</th>\n",
       "      <td>8</td>\n",
       "      <td>3800000.0</td>\n",
       "      <td>58.0</td>\n",
       "      <td>2017-10-13</td>\n",
       "      <td>2</td>\n",
       "      <td>27.0</td>\n",
       "      <td>10</td>\n",
       "      <td>30.1</td>\n",
       "      <td>3</td>\n",
       "      <td>False</td>\n",
       "      <td>False</td>\n",
       "      <td>False</td>\n",
       "      <td>8.100000</td>\n",
       "      <td>2</td>\n",
       "      <td>посёлок Мурино</td>\n",
       "      <td>&lt;NA&gt;</td>\n",
       "      <td>&lt;NA&gt;</td>\n",
       "      <td>&lt;NA&gt;</td>\n",
       "      <td>&lt;NA&gt;</td>\n",
       "      <td>&lt;NA&gt;</td>\n",
       "      <td>&lt;NA&gt;</td>\n",
       "      <td>71.0</td>\n",
       "      <td>0.518966</td>\n",
       "      <td>0.139655</td>\n",
       "    </tr>\n",
       "    <tr>\n",
       "      <th>5807</th>\n",
       "      <td>17</td>\n",
       "      <td>8150000.0</td>\n",
       "      <td>80.0</td>\n",
       "      <td>2019-01-09</td>\n",
       "      <td>2</td>\n",
       "      <td>27.0</td>\n",
       "      <td>36</td>\n",
       "      <td>41.0</td>\n",
       "      <td>13</td>\n",
       "      <td>True</td>\n",
       "      <td>False</td>\n",
       "      <td>False</td>\n",
       "      <td>12.000000</td>\n",
       "      <td>5</td>\n",
       "      <td>Санкт-Петербург</td>\n",
       "      <td>18732</td>\n",
       "      <td>20444</td>\n",
       "      <td>0</td>\n",
       "      <td>460</td>\n",
       "      <td>3</td>\n",
       "      <td>80</td>\n",
       "      <td>38.0</td>\n",
       "      <td>0.512500</td>\n",
       "      <td>0.150000</td>\n",
       "    </tr>\n",
       "    <tr>\n",
       "      <th>5246</th>\n",
       "      <td>0</td>\n",
       "      <td>2500000.0</td>\n",
       "      <td>54.0</td>\n",
       "      <td>2017-10-13</td>\n",
       "      <td>2</td>\n",
       "      <td>27.0</td>\n",
       "      <td>5</td>\n",
       "      <td>30.0</td>\n",
       "      <td>3</td>\n",
       "      <td>True</td>\n",
       "      <td>False</td>\n",
       "      <td>False</td>\n",
       "      <td>9.000000</td>\n",
       "      <td>2</td>\n",
       "      <td>деревня Мины</td>\n",
       "      <td>&lt;NA&gt;</td>\n",
       "      <td>&lt;NA&gt;</td>\n",
       "      <td>&lt;NA&gt;</td>\n",
       "      <td>&lt;NA&gt;</td>\n",
       "      <td>&lt;NA&gt;</td>\n",
       "      <td>&lt;NA&gt;</td>\n",
       "      <td>540.0</td>\n",
       "      <td>0.555556</td>\n",
       "      <td>0.166667</td>\n",
       "    </tr>\n",
       "    <tr>\n",
       "      <th>21824</th>\n",
       "      <td>20</td>\n",
       "      <td>2450000.0</td>\n",
       "      <td>44.0</td>\n",
       "      <td>2019-02-12</td>\n",
       "      <td>2</td>\n",
       "      <td>27.0</td>\n",
       "      <td>2</td>\n",
       "      <td>38.0</td>\n",
       "      <td>2</td>\n",
       "      <td>False</td>\n",
       "      <td>False</td>\n",
       "      <td>False</td>\n",
       "      <td>8.600000</td>\n",
       "      <td>2</td>\n",
       "      <td>городской поселок Большая Ижора</td>\n",
       "      <td>&lt;NA&gt;</td>\n",
       "      <td>&lt;NA&gt;</td>\n",
       "      <td>&lt;NA&gt;</td>\n",
       "      <td>&lt;NA&gt;</td>\n",
       "      <td>&lt;NA&gt;</td>\n",
       "      <td>&lt;NA&gt;</td>\n",
       "      <td>NaN</td>\n",
       "      <td>0.863636</td>\n",
       "      <td>0.195455</td>\n",
       "    </tr>\n",
       "    <tr>\n",
       "      <th>22938</th>\n",
       "      <td>14</td>\n",
       "      <td>4000000.0</td>\n",
       "      <td>98.0</td>\n",
       "      <td>2018-03-15</td>\n",
       "      <td>4</td>\n",
       "      <td>27.0</td>\n",
       "      <td>2</td>\n",
       "      <td>73.0</td>\n",
       "      <td>2</td>\n",
       "      <td>True</td>\n",
       "      <td>False</td>\n",
       "      <td>False</td>\n",
       "      <td>9.000000</td>\n",
       "      <td>1</td>\n",
       "      <td>деревня Нижняя</td>\n",
       "      <td>&lt;NA&gt;</td>\n",
       "      <td>&lt;NA&gt;</td>\n",
       "      <td>&lt;NA&gt;</td>\n",
       "      <td>&lt;NA&gt;</td>\n",
       "      <td>&lt;NA&gt;</td>\n",
       "      <td>&lt;NA&gt;</td>\n",
       "      <td>27.0</td>\n",
       "      <td>0.744898</td>\n",
       "      <td>0.091837</td>\n",
       "    </tr>\n",
       "    <tr>\n",
       "      <th>5669</th>\n",
       "      <td>4</td>\n",
       "      <td>4400000.0</td>\n",
       "      <td>50.0</td>\n",
       "      <td>2017-08-08</td>\n",
       "      <td>2</td>\n",
       "      <td>26.0</td>\n",
       "      <td>9</td>\n",
       "      <td>21.3</td>\n",
       "      <td>3</td>\n",
       "      <td>True</td>\n",
       "      <td>False</td>\n",
       "      <td>False</td>\n",
       "      <td>7.000000</td>\n",
       "      <td>2</td>\n",
       "      <td>Санкт-Петербург</td>\n",
       "      <td>28981</td>\n",
       "      <td>10912</td>\n",
       "      <td>1</td>\n",
       "      <td>305</td>\n",
       "      <td>0</td>\n",
       "      <td>503</td>\n",
       "      <td>267.0</td>\n",
       "      <td>0.426000</td>\n",
       "      <td>0.140000</td>\n",
       "    </tr>\n",
       "    <tr>\n",
       "      <th>14382</th>\n",
       "      <td>9</td>\n",
       "      <td>1700000.0</td>\n",
       "      <td>35.0</td>\n",
       "      <td>2015-12-04</td>\n",
       "      <td>1</td>\n",
       "      <td>25.0</td>\n",
       "      <td>5</td>\n",
       "      <td>20.0</td>\n",
       "      <td>2</td>\n",
       "      <td>False</td>\n",
       "      <td>False</td>\n",
       "      <td>False</td>\n",
       "      <td>8.000000</td>\n",
       "      <td>1</td>\n",
       "      <td>поселок Новый Свет</td>\n",
       "      <td>&lt;NA&gt;</td>\n",
       "      <td>&lt;NA&gt;</td>\n",
       "      <td>&lt;NA&gt;</td>\n",
       "      <td>&lt;NA&gt;</td>\n",
       "      <td>&lt;NA&gt;</td>\n",
       "      <td>&lt;NA&gt;</td>\n",
       "      <td>206.0</td>\n",
       "      <td>0.571429</td>\n",
       "      <td>0.228571</td>\n",
       "    </tr>\n",
       "    <tr>\n",
       "      <th>18545</th>\n",
       "      <td>6</td>\n",
       "      <td>3750000.0</td>\n",
       "      <td>43.0</td>\n",
       "      <td>2019-03-18</td>\n",
       "      <td>2</td>\n",
       "      <td>25.0</td>\n",
       "      <td>5</td>\n",
       "      <td>29.0</td>\n",
       "      <td>3</td>\n",
       "      <td>False</td>\n",
       "      <td>False</td>\n",
       "      <td>False</td>\n",
       "      <td>8.056254</td>\n",
       "      <td>0</td>\n",
       "      <td>Санкт-Петербург</td>\n",
       "      <td>27054</td>\n",
       "      <td>8033</td>\n",
       "      <td>1</td>\n",
       "      <td>540</td>\n",
       "      <td>0</td>\n",
       "      <td>503</td>\n",
       "      <td>12.0</td>\n",
       "      <td>0.674419</td>\n",
       "      <td>NaN</td>\n",
       "    </tr>\n",
       "  </tbody>\n",
       "</table>\n",
       "</div>"
      ],
      "text/plain": [
       "       total_images  last_price  total_area first_day_exposition  rooms  \\\n",
       "22869             0  15000000.0        25.0           2018-07-25      1   \n",
       "3148             14   2900000.0        75.0           2018-11-12      3   \n",
       "22336            19   9999000.0        92.4           2019-04-05      2   \n",
       "21377            19   4900000.0        42.0           2017-04-18      1   \n",
       "20478            11   8000000.0        45.0           2017-07-18      1   \n",
       "4876              7   3000000.0        25.0           2017-09-27      0   \n",
       "17857             1   3900000.0        56.0           2017-12-22      3   \n",
       "10773             8   3800000.0        58.0           2017-10-13      2   \n",
       "5807             17   8150000.0        80.0           2019-01-09      2   \n",
       "5246              0   2500000.0        54.0           2017-10-13      2   \n",
       "21824            20   2450000.0        44.0           2019-02-12      2   \n",
       "22938            14   4000000.0        98.0           2018-03-15      4   \n",
       "5669              4   4400000.0        50.0           2017-08-08      2   \n",
       "14382             9   1700000.0        35.0           2015-12-04      1   \n",
       "18545             6   3750000.0        43.0           2019-03-18      2   \n",
       "\n",
       "       ceiling_height  floors_total  living_area  floor  is_apartment  studio  \\\n",
       "22869           100.0             5         14.0      5          True   False   \n",
       "3148             32.0             3         53.0      2          True   False   \n",
       "22336            32.0             6         55.5      5         False   False   \n",
       "21377            27.5            24         37.7     19         False   False   \n",
       "20478            27.0             4         22.0      2          True   False   \n",
       "4876             27.0            25         17.0     17          True   False   \n",
       "17857            27.0             5         33.0      4         False   False   \n",
       "10773            27.0            10         30.1      3         False   False   \n",
       "5807             27.0            36         41.0     13          True   False   \n",
       "5246             27.0             5         30.0      3          True   False   \n",
       "21824            27.0             2         38.0      2         False   False   \n",
       "22938            27.0             2         73.0      2          True   False   \n",
       "5669             26.0             9         21.3      3          True   False   \n",
       "14382            25.0             5         20.0      2         False   False   \n",
       "18545            25.0             5         29.0      3         False   False   \n",
       "\n",
       "       open_plan  kitchen_area  balcony                    locality_name  \\\n",
       "22869      False     11.000000        5                  Санкт-Петербург   \n",
       "3148       False      8.000000        0                           Волхов   \n",
       "22336      False     16.500000        4                  Санкт-Петербург   \n",
       "21377      False     11.000000        2                  Санкт-Петербург   \n",
       "20478      False     10.000000        1                  Санкт-Петербург   \n",
       "4876        True      4.683868        2                   посёлок Мурино   \n",
       "17857      False     10.491865        0                  Санкт-Петербург   \n",
       "10773      False      8.100000        2                   посёлок Мурино   \n",
       "5807       False     12.000000        5                  Санкт-Петербург   \n",
       "5246       False      9.000000        2                     деревня Мины   \n",
       "21824      False      8.600000        2  городской поселок Большая Ижора   \n",
       "22938      False      9.000000        1                   деревня Нижняя   \n",
       "5669       False      7.000000        2                  Санкт-Петербург   \n",
       "14382      False      8.000000        1               поселок Новый Свет   \n",
       "18545      False      8.056254        0                  Санкт-Петербург   \n",
       "\n",
       "       airports_nearest  cityCenters_nearest  parks_around3000  parks_nearest  \\\n",
       "22869             34963                 8283                 1            223   \n",
       "3148               <NA>                 <NA>              <NA>           <NA>   \n",
       "22336             18838                 3506                 0            460   \n",
       "21377             42742                 9760                 0            460   \n",
       "20478             18975                 3246                 0            460   \n",
       "4876               <NA>                 <NA>              <NA>           <NA>   \n",
       "17857             41030                15543                 0            460   \n",
       "10773              <NA>                 <NA>              <NA>           <NA>   \n",
       "5807              18732                20444                 0            460   \n",
       "5246               <NA>                 <NA>              <NA>           <NA>   \n",
       "21824              <NA>                 <NA>              <NA>           <NA>   \n",
       "22938              <NA>                 <NA>              <NA>           <NA>   \n",
       "5669              28981                10912                 1            305   \n",
       "14382              <NA>                 <NA>              <NA>           <NA>   \n",
       "18545             27054                 8033                 1            540   \n",
       "\n",
       "       ponds_around3000  ponds_nearest  days_exposition  living_area_ratio  \\\n",
       "22869                 3             30             19.0           0.560000   \n",
       "3148               <NA>           <NA>              NaN           0.706667   \n",
       "22336                 3            511              NaN           0.600649   \n",
       "21377                 0            503             61.0           0.897619   \n",
       "20478                 3            449            429.0           0.488889   \n",
       "4876               <NA>           <NA>             28.0           0.680000   \n",
       "17857                 0            503             73.0           0.589286   \n",
       "10773              <NA>           <NA>             71.0           0.518966   \n",
       "5807                  3             80             38.0           0.512500   \n",
       "5246               <NA>           <NA>            540.0           0.555556   \n",
       "21824              <NA>           <NA>              NaN           0.863636   \n",
       "22938              <NA>           <NA>             27.0           0.744898   \n",
       "5669                  0            503            267.0           0.426000   \n",
       "14382              <NA>           <NA>            206.0           0.571429   \n",
       "18545                 0            503             12.0           0.674419   \n",
       "\n",
       "       kitchen_area_ratio  \n",
       "22869            0.440000  \n",
       "3148             0.106667  \n",
       "22336            0.178571  \n",
       "21377            0.261905  \n",
       "20478            0.222222  \n",
       "4876                  NaN  \n",
       "17857                 NaN  \n",
       "10773            0.139655  \n",
       "5807             0.150000  \n",
       "5246             0.166667  \n",
       "21824            0.195455  \n",
       "22938            0.091837  \n",
       "5669             0.140000  \n",
       "14382            0.228571  \n",
       "18545                 NaN  "
      ]
     },
     "execution_count": 17,
     "metadata": {},
     "output_type": "execute_result"
    }
   ],
   "source": [
    "df[df['ceiling_height'] <= 100].sort_values(by='ceiling_height', ascending=False).head(15)"
   ]
  },
  {
   "cell_type": "markdown",
   "metadata": {},
   "source": [
    "Отсюда мы видим, что это неединичное аномальное значение. Потолки в 20 метров тоже кажутся неправдоподобными. Оставим пока пропуски, чуть ниже разберемся с выбросами."
   ]
  },
  {
   "cell_type": "markdown",
   "metadata": {},
   "source": [
    "Осталось изменить тип данных в столбце `last_price` на целочисленный."
   ]
  },
  {
   "cell_type": "code",
   "execution_count": 18,
   "metadata": {},
   "outputs": [],
   "source": [
    "df['last_price'] = df['last_price'].astype(int)"
   ]
  },
  {
   "cell_type": "markdown",
   "metadata": {},
   "source": [
    "Взглянем на проделанную работу работу с пропусками и по изменению типа данных."
   ]
  },
  {
   "cell_type": "code",
   "execution_count": 19,
   "metadata": {
    "scrolled": false
   },
   "outputs": [
    {
     "data": {
      "text/plain": [
       "total_images               0\n",
       "last_price                 0\n",
       "total_area                 0\n",
       "first_day_exposition       0\n",
       "rooms                      0\n",
       "ceiling_height          9118\n",
       "floors_total               0\n",
       "living_area                0\n",
       "floor                      0\n",
       "is_apartment               0\n",
       "studio                     0\n",
       "open_plan                  0\n",
       "kitchen_area               0\n",
       "balcony                    0\n",
       "locality_name             48\n",
       "airports_nearest        5386\n",
       "cityCenters_nearest     5386\n",
       "parks_around3000        5386\n",
       "parks_nearest           6019\n",
       "ponds_around3000        5386\n",
       "ponds_nearest           5508\n",
       "days_exposition         3172\n",
       "living_area_ratio       1870\n",
       "kitchen_area_ratio      2231\n",
       "dtype: int64"
      ]
     },
     "execution_count": 19,
     "metadata": {},
     "output_type": "execute_result"
    }
   ],
   "source": [
    "df.isna().sum()"
   ]
  },
  {
   "cell_type": "code",
   "execution_count": 20,
   "metadata": {
    "scrolled": false
   },
   "outputs": [
    {
     "name": "stdout",
     "output_type": "stream",
     "text": [
      "<class 'pandas.core.frame.DataFrame'>\n",
      "Int64Index: 23613 entries, 0 to 23698\n",
      "Data columns (total 24 columns):\n",
      " #   Column                Non-Null Count  Dtype         \n",
      "---  ------                --------------  -----         \n",
      " 0   total_images          23613 non-null  int64         \n",
      " 1   last_price            23613 non-null  int64         \n",
      " 2   total_area            23613 non-null  float64       \n",
      " 3   first_day_exposition  23613 non-null  datetime64[ns]\n",
      " 4   rooms                 23613 non-null  int64         \n",
      " 5   ceiling_height        14495 non-null  float64       \n",
      " 6   floors_total          23613 non-null  Int64         \n",
      " 7   living_area           23613 non-null  float64       \n",
      " 8   floor                 23613 non-null  int64         \n",
      " 9   is_apartment          23613 non-null  bool          \n",
      " 10  studio                23613 non-null  bool          \n",
      " 11  open_plan             23613 non-null  bool          \n",
      " 12  kitchen_area          23613 non-null  float64       \n",
      " 13  balcony               23613 non-null  int64         \n",
      " 14  locality_name         23565 non-null  object        \n",
      " 15  airports_nearest      18227 non-null  Int64         \n",
      " 16  cityCenters_nearest   18227 non-null  Int64         \n",
      " 17  parks_around3000      18227 non-null  Int64         \n",
      " 18  parks_nearest         17594 non-null  Int64         \n",
      " 19  ponds_around3000      18227 non-null  Int64         \n",
      " 20  ponds_nearest         18105 non-null  Int64         \n",
      " 21  days_exposition       20441 non-null  float64       \n",
      " 22  living_area_ratio     21743 non-null  float64       \n",
      " 23  kitchen_area_ratio    21382 non-null  float64       \n",
      "dtypes: Int64(7), bool(3), datetime64[ns](1), float64(7), int64(5), object(1)\n",
      "memory usage: 4.2+ MB\n"
     ]
    }
   ],
   "source": [
    "df.info()"
   ]
  },
  {
   "cell_type": "markdown",
   "metadata": {},
   "source": [
    "Отлично! Количество пропусков сократилось. Типы данных корректны."
   ]
  },
  {
   "cell_type": "markdown",
   "metadata": {},
   "source": [
    "## Расчёты и добавление результатов в таблицу"
   ]
  },
  {
   "cell_type": "markdown",
   "metadata": {},
   "source": [
    "Посчитаем цену одного квадратного метра: разделим стоимость квартиры на общую площадь. "
   ]
  },
  {
   "cell_type": "code",
   "execution_count": 21,
   "metadata": {},
   "outputs": [],
   "source": [
    "price_per_squaremeter = df['last_price'] / df['total_area']\n",
    "df.insert(loc=3, column='price_per_square_meter', value=price_per_squaremeter)\n",
    "df['price_per_square_meter'] = df['price_per_square_meter'].astype(int)"
   ]
  },
  {
   "cell_type": "markdown",
   "metadata": {},
   "source": [
    "Посчитаем и добавим в таблицу: день недели, месяц и год публикации объявления"
   ]
  },
  {
   "cell_type": "code",
   "execution_count": 22,
   "metadata": {
    "scrolled": false
   },
   "outputs": [],
   "source": [
    "weekday = df['first_day_exposition'].dt.weekday\n",
    "df.insert(loc=5, column='weekday_exposition', value=weekday)\n",
    "\n",
    "month = df['first_day_exposition'].dt.month\n",
    "df.insert(loc=6, column='month_exposition', value=month)\n",
    "\n",
    "year = df['first_day_exposition'].dt.year\n",
    "df.insert(loc=7, column='year_exposition', value=year)"
   ]
  },
  {
   "cell_type": "code",
   "execution_count": 23,
   "metadata": {},
   "outputs": [
    {
     "data": {
      "text/plain": [
       "total_images                 0\n",
       "last_price                   0\n",
       "total_area                   0\n",
       "price_per_square_meter       0\n",
       "first_day_exposition         0\n",
       "weekday_exposition           0\n",
       "month_exposition             0\n",
       "year_exposition              0\n",
       "rooms                        0\n",
       "ceiling_height            9118\n",
       "floors_total                 0\n",
       "living_area                  0\n",
       "floor                        0\n",
       "is_apartment                 0\n",
       "studio                       0\n",
       "open_plan                    0\n",
       "kitchen_area                 0\n",
       "balcony                      0\n",
       "locality_name               48\n",
       "airports_nearest          5386\n",
       "cityCenters_nearest       5386\n",
       "parks_around3000          5386\n",
       "parks_nearest             6019\n",
       "ponds_around3000          5386\n",
       "ponds_nearest             5508\n",
       "days_exposition           3172\n",
       "living_area_ratio         1870\n",
       "kitchen_area_ratio        2231\n",
       "dtype: int64"
      ]
     },
     "execution_count": 23,
     "metadata": {},
     "output_type": "execute_result"
    }
   ],
   "source": [
    "df.isna().sum()"
   ]
  },
  {
   "cell_type": "markdown",
   "metadata": {},
   "source": [
    "Посчитаем и добавим в таблицу: этаж квартиры; варианты — первый, последний, другой"
   ]
  },
  {
   "cell_type": "code",
   "execution_count": 24,
   "metadata": {},
   "outputs": [],
   "source": [
    "def floor_category(row):\n",
    "    floors_total = row['floors_total']\n",
    "    floor = row['floor']\n",
    "    if floor == 1:\n",
    "        return 'первый'\n",
    "    elif floor == floors_total:\n",
    "        return 'последний'\n",
    "    elif 1 < floor < floors_total:\n",
    "        return 'другой'\n",
    "    else:\n",
    "        return 'последний'\n",
    "    \n",
    "df['floor_category'] = df.apply(floor_category, axis = 1)"
   ]
  },
  {
   "cell_type": "code",
   "execution_count": 25,
   "metadata": {},
   "outputs": [],
   "source": [
    "df['first']=df['floor_category'].apply(lambda x: 1 if x == 'первый' else 0)\n",
    "df['last']=df['floor_category'].apply(lambda x: 1 if x == 'последний' else 0)\n",
    "df['else']=df['floor_category'].apply(lambda x: 1 if x == 'другой' else 0)"
   ]
  },
  {
   "cell_type": "markdown",
   "metadata": {},
   "source": [
    "Расчёт отношения кухни и жилой площади к общей площади был произведён в пункте 2. Результаты расчётов находятся в столбцах `living_area_ratio` и `kitchen_area_ratio`."
   ]
  },
  {
   "cell_type": "markdown",
   "metadata": {},
   "source": [
    "## Исследовательский анализ данных"
   ]
  },
  {
   "cell_type": "markdown",
   "metadata": {},
   "source": [
    "###  Изучение параметров: площадь, цена, число комнат, высота потолков."
   ]
  },
  {
   "cell_type": "markdown",
   "metadata": {},
   "source": [
    "Изучим параметры площадь, цена, число комнат, высота потолков, используя метод `describe`."
   ]
  },
  {
   "cell_type": "code",
   "execution_count": 26,
   "metadata": {
    "scrolled": false
   },
   "outputs": [
    {
     "data": {
      "text/html": [
       "<div>\n",
       "<style scoped>\n",
       "    .dataframe tbody tr th:only-of-type {\n",
       "        vertical-align: middle;\n",
       "    }\n",
       "\n",
       "    .dataframe tbody tr th {\n",
       "        vertical-align: top;\n",
       "    }\n",
       "\n",
       "    .dataframe thead th {\n",
       "        text-align: right;\n",
       "    }\n",
       "</style>\n",
       "<table border=\"1\" class=\"dataframe\">\n",
       "  <thead>\n",
       "    <tr style=\"text-align: right;\">\n",
       "      <th></th>\n",
       "      <th>total_area</th>\n",
       "      <th>last_price</th>\n",
       "      <th>rooms</th>\n",
       "      <th>ceiling_height</th>\n",
       "    </tr>\n",
       "  </thead>\n",
       "  <tbody>\n",
       "    <tr>\n",
       "      <th>count</th>\n",
       "      <td>23613.000000</td>\n",
       "      <td>2.361300e+04</td>\n",
       "      <td>23613.000000</td>\n",
       "      <td>14495.000000</td>\n",
       "    </tr>\n",
       "    <tr>\n",
       "      <th>mean</th>\n",
       "      <td>60.340678</td>\n",
       "      <td>6.540555e+06</td>\n",
       "      <td>2.071147</td>\n",
       "      <td>2.771495</td>\n",
       "    </tr>\n",
       "    <tr>\n",
       "      <th>std</th>\n",
       "      <td>35.648988</td>\n",
       "      <td>1.090172e+07</td>\n",
       "      <td>1.078380</td>\n",
       "      <td>1.261445</td>\n",
       "    </tr>\n",
       "    <tr>\n",
       "      <th>min</th>\n",
       "      <td>12.000000</td>\n",
       "      <td>1.219000e+04</td>\n",
       "      <td>0.000000</td>\n",
       "      <td>1.000000</td>\n",
       "    </tr>\n",
       "    <tr>\n",
       "      <th>25%</th>\n",
       "      <td>40.000000</td>\n",
       "      <td>3.400000e+06</td>\n",
       "      <td>1.000000</td>\n",
       "      <td>2.520000</td>\n",
       "    </tr>\n",
       "    <tr>\n",
       "      <th>50%</th>\n",
       "      <td>52.000000</td>\n",
       "      <td>4.650000e+06</td>\n",
       "      <td>2.000000</td>\n",
       "      <td>2.650000</td>\n",
       "    </tr>\n",
       "    <tr>\n",
       "      <th>75%</th>\n",
       "      <td>69.800000</td>\n",
       "      <td>6.799000e+06</td>\n",
       "      <td>3.000000</td>\n",
       "      <td>2.800000</td>\n",
       "    </tr>\n",
       "    <tr>\n",
       "      <th>max</th>\n",
       "      <td>900.000000</td>\n",
       "      <td>7.630000e+08</td>\n",
       "      <td>19.000000</td>\n",
       "      <td>100.000000</td>\n",
       "    </tr>\n",
       "  </tbody>\n",
       "</table>\n",
       "</div>"
      ],
      "text/plain": [
       "         total_area    last_price         rooms  ceiling_height\n",
       "count  23613.000000  2.361300e+04  23613.000000    14495.000000\n",
       "mean      60.340678  6.540555e+06      2.071147        2.771495\n",
       "std       35.648988  1.090172e+07      1.078380        1.261445\n",
       "min       12.000000  1.219000e+04      0.000000        1.000000\n",
       "25%       40.000000  3.400000e+06      1.000000        2.520000\n",
       "50%       52.000000  4.650000e+06      2.000000        2.650000\n",
       "75%       69.800000  6.799000e+06      3.000000        2.800000\n",
       "max      900.000000  7.630000e+08     19.000000      100.000000"
      ]
     },
     "execution_count": 26,
     "metadata": {},
     "output_type": "execute_result"
    }
   ],
   "source": [
    "df.loc[:, ['total_area', 'last_price', 'rooms', 'ceiling_height']].describe()"
   ]
  },
  {
   "cell_type": "markdown",
   "metadata": {},
   "source": [
    " Далее построим гистрограммы для каждого из параметров."
   ]
  },
  {
   "cell_type": "code",
   "execution_count": 27,
   "metadata": {},
   "outputs": [
    {
     "data": {
      "image/png": "[encoded data removed]",
      "text/plain": [
       "<Figure size 432x288 with 1 Axes>"
      ]
     },
     "metadata": {
      "needs_background": "light"
     },
     "output_type": "display_data"
    }
   ],
   "source": [
    "plt.hist(df['total_area'], range=(0, 600), color='darkviolet', bins=150)\n",
    "plt.show()"
   ]
  },
  {
   "cell_type": "code",
   "execution_count": 28,
   "metadata": {},
   "outputs": [
    {
     "data": {
      "image/png": "[encoded data removed]",
      "text/plain": [
       "<Figure size 432x288 with 1 Axes>"
      ]
     },
     "metadata": {
      "needs_background": "light"
     },
     "output_type": "display_data"
    }
   ],
   "source": [
    "plt.hist(df['last_price'], range=(0, 100000000),color='darkviolet', bins=150)\n",
    "plt.show()"
   ]
  },
  {
   "cell_type": "code",
   "execution_count": 29,
   "metadata": {},
   "outputs": [
    {
     "data": {
      "image/png": "[encoded data removed]",
      "text/plain": [
       "<Figure size 432x288 with 1 Axes>"
      ]
     },
     "metadata": {
      "needs_background": "light"
     },
     "output_type": "display_data"
    }
   ],
   "source": [
    "plt.hist(df['rooms'], color='darkviolet', bins=30)\n",
    "plt.show()"
   ]
  },
  {
   "cell_type": "code",
   "execution_count": 30,
   "metadata": {
    "scrolled": true
   },
   "outputs": [
    {
     "data": {
      "image/png": "[encoded data removed]",
      "text/plain": [
       "<Figure size 432x288 with 1 Axes>"
      ]
     },
     "metadata": {
      "needs_background": "light"
     },
     "output_type": "display_data"
    }
   ],
   "source": [
    "plt.hist(df['ceiling_height'], range=(0, 6), color='darkviolet', bins=150)\n",
    "plt.show()"
   ]
  },
  {
   "cell_type": "markdown",
   "metadata": {},
   "source": [
    "**Вывод**\n",
    "\n",
    "По полученной информации можно сделать вывод:\n",
    "1. Значения общей площади квартиры находтся в диапозоне от 60 до 900 квадратных метров. Среднее значение равно 36 квадратным метрам, а медиана - 52. Распределение нормальное.\n",
    "2. Распредление цены недвижимости также нормальное. Среднее значение достигается в отметке 6,5 млн, а медианное - 4,65 млн.\n",
    "3. Количество комнат находится в диапозоне от 0 до 19 (возможны выбросы). На рынке недвижимости преобладают однокомнатные и двухкомнатные квартиры.\n",
    "4. В значениях для высоты потолков имеются выбросы. В целом, среднее значение составляет 2.77, а медианное - 2.65.\n",
    "\n",
    "Подводя итоги, можно отметить, что в данных параметрах имеются выбросы, природу которых на данно этапе выяснить невозможно, для этого следует обратиться к сотрудникам, которые предоставляли данные, для уточнения причины таких выбросов. "
   ]
  },
  {
   "cell_type": "markdown",
   "metadata": {},
   "source": [
    "### Изучение времени продажи квартиры."
   ]
  },
  {
   "cell_type": "code",
   "execution_count": 31,
   "metadata": {},
   "outputs": [
    {
     "data": {
      "image/png": "[encoded data removed]",
      "text/plain": [
       "<Figure size 432x288 with 1 Axes>"
      ]
     },
     "metadata": {
      "needs_background": "light"
     },
     "output_type": "display_data"
    }
   ],
   "source": [
    "plt.hist(df['days_exposition'],\n",
    "        color='darkviolet', bins=100)\n",
    "plt.show()"
   ]
  },
  {
   "cell_type": "code",
   "execution_count": 32,
   "metadata": {},
   "outputs": [
    {
     "name": "stdout",
     "output_type": "stream",
     "text": [
      "Среднее число дней продажи: 180.885\n",
      "Медианные число дней продажи: 95.0\n"
     ]
    }
   ],
   "source": [
    "print('Среднее число дней продажи: ' + str(round(np.mean(df['days_exposition']), 3)))\n",
    "print('Медианные число дней продажи: ' + str(round(np.nanmedian(df['days_exposition']), 3)))"
   ]
  },
  {
   "cell_type": "code",
   "execution_count": 33,
   "metadata": {},
   "outputs": [
    {
     "data": {
      "image/png": "[encoded data removed]",
      "text/plain": [
       "<Figure size 432x288 with 1 Axes>"
      ]
     },
     "metadata": {
      "needs_background": "light"
     },
     "output_type": "display_data"
    }
   ],
   "source": [
    "plt.boxplot(df[df['days_exposition'].isna()==False]['days_exposition'])\n",
    "plt.show()"
   ]
  },
  {
   "cell_type": "code",
   "execution_count": 34,
   "metadata": {},
   "outputs": [
    {
     "data": {
      "text/plain": [
       "count    20441.000000\n",
       "mean       180.884839\n",
       "std        219.685543\n",
       "min          1.000000\n",
       "25%         45.000000\n",
       "50%         95.000000\n",
       "75%        232.000000\n",
       "max       1580.000000\n",
       "Name: days_exposition, dtype: float64"
      ]
     },
     "execution_count": 34,
     "metadata": {},
     "output_type": "execute_result"
    }
   ],
   "source": [
    "df['days_exposition'].describe()"
   ]
  },
  {
   "cell_type": "markdown",
   "metadata": {},
   "source": [
    "**Вывод:**\n",
    "\n",
    "В среднем квартира продается за 180 дней. 50% квартир были проданы менее: чем за 95 дней. При значении больше 232 можно считать, что продажии шли очень долго, меньше 45 дней - очень быстро."
   ]
  },
  {
   "cell_type": "markdown",
   "metadata": {},
   "source": [
    "### Удаление редких и выбивающиеся значения."
   ]
  },
  {
   "cell_type": "code",
   "execution_count": 35,
   "metadata": {},
   "outputs": [],
   "source": [
    "cols = ['last_price', 'total_area', 'rooms', 'ceiling_height', 'days_exposition']"
   ]
  },
  {
   "cell_type": "code",
   "execution_count": 36,
   "metadata": {},
   "outputs": [
    {
     "data": {
      "text/html": [
       "<div>\n",
       "<style scoped>\n",
       "    .dataframe tbody tr th:only-of-type {\n",
       "        vertical-align: middle;\n",
       "    }\n",
       "\n",
       "    .dataframe tbody tr th {\n",
       "        vertical-align: top;\n",
       "    }\n",
       "\n",
       "    .dataframe thead th {\n",
       "        text-align: right;\n",
       "    }\n",
       "</style>\n",
       "<table border=\"1\" class=\"dataframe\">\n",
       "  <thead>\n",
       "    <tr style=\"text-align: right;\">\n",
       "      <th></th>\n",
       "      <th>last_price</th>\n",
       "      <th>total_area</th>\n",
       "      <th>rooms</th>\n",
       "      <th>ceiling_height</th>\n",
       "      <th>days_exposition</th>\n",
       "    </tr>\n",
       "  </thead>\n",
       "  <tbody>\n",
       "    <tr>\n",
       "      <th>count</th>\n",
       "      <td>2.361300e+04</td>\n",
       "      <td>23613.000000</td>\n",
       "      <td>23613.000000</td>\n",
       "      <td>14495.000000</td>\n",
       "      <td>20441.000000</td>\n",
       "    </tr>\n",
       "    <tr>\n",
       "      <th>mean</th>\n",
       "      <td>6.540555e+06</td>\n",
       "      <td>60.340678</td>\n",
       "      <td>2.071147</td>\n",
       "      <td>2.771495</td>\n",
       "      <td>180.884839</td>\n",
       "    </tr>\n",
       "    <tr>\n",
       "      <th>std</th>\n",
       "      <td>1.090172e+07</td>\n",
       "      <td>35.648988</td>\n",
       "      <td>1.078380</td>\n",
       "      <td>1.261445</td>\n",
       "      <td>219.685543</td>\n",
       "    </tr>\n",
       "    <tr>\n",
       "      <th>min</th>\n",
       "      <td>1.219000e+04</td>\n",
       "      <td>12.000000</td>\n",
       "      <td>0.000000</td>\n",
       "      <td>1.000000</td>\n",
       "      <td>1.000000</td>\n",
       "    </tr>\n",
       "    <tr>\n",
       "      <th>2.5%</th>\n",
       "      <td>1.433000e+06</td>\n",
       "      <td>29.100000</td>\n",
       "      <td>1.000000</td>\n",
       "      <td>2.500000</td>\n",
       "      <td>6.000000</td>\n",
       "    </tr>\n",
       "    <tr>\n",
       "      <th>50%</th>\n",
       "      <td>4.650000e+06</td>\n",
       "      <td>52.000000</td>\n",
       "      <td>2.000000</td>\n",
       "      <td>2.650000</td>\n",
       "      <td>95.000000</td>\n",
       "    </tr>\n",
       "    <tr>\n",
       "      <th>97.5%</th>\n",
       "      <td>2.240000e+07</td>\n",
       "      <td>149.000000</td>\n",
       "      <td>4.000000</td>\n",
       "      <td>3.500000</td>\n",
       "      <td>845.000000</td>\n",
       "    </tr>\n",
       "    <tr>\n",
       "      <th>max</th>\n",
       "      <td>7.630000e+08</td>\n",
       "      <td>900.000000</td>\n",
       "      <td>19.000000</td>\n",
       "      <td>100.000000</td>\n",
       "      <td>1580.000000</td>\n",
       "    </tr>\n",
       "  </tbody>\n",
       "</table>\n",
       "</div>"
      ],
      "text/plain": [
       "         last_price    total_area         rooms  ceiling_height  \\\n",
       "count  2.361300e+04  23613.000000  23613.000000    14495.000000   \n",
       "mean   6.540555e+06     60.340678      2.071147        2.771495   \n",
       "std    1.090172e+07     35.648988      1.078380        1.261445   \n",
       "min    1.219000e+04     12.000000      0.000000        1.000000   \n",
       "2.5%   1.433000e+06     29.100000      1.000000        2.500000   \n",
       "50%    4.650000e+06     52.000000      2.000000        2.650000   \n",
       "97.5%  2.240000e+07    149.000000      4.000000        3.500000   \n",
       "max    7.630000e+08    900.000000     19.000000      100.000000   \n",
       "\n",
       "       days_exposition  \n",
       "count     20441.000000  \n",
       "mean        180.884839  \n",
       "std         219.685543  \n",
       "min           1.000000  \n",
       "2.5%          6.000000  \n",
       "50%          95.000000  \n",
       "97.5%       845.000000  \n",
       "max        1580.000000  "
      ]
     },
     "execution_count": 36,
     "metadata": {},
     "output_type": "execute_result"
    }
   ],
   "source": [
    "desc_df = df.loc[:, cols].describe(percentiles=[0.025, 0.975])\n",
    "desc_df"
   ]
  },
  {
   "cell_type": "code",
   "execution_count": 37,
   "metadata": {},
   "outputs": [],
   "source": [
    "restr_df = df[((df[cols[0]]>=desc_df[cols[0]]['2.5%'])&(df[cols[0]]<=desc_df[cols[0]]['97.5%'])) &\n",
    "             ((df[cols[1]]>=desc_df[cols[1]]['2.5%'])&(df[cols[1]]<=desc_df[cols[1]]['97.5%'])) &\n",
    "             ((df[cols[2]]>=desc_df[cols[2]]['2.5%'])&(df[cols[2]]<=desc_df[cols[2]]['97.5%'])) &\n",
    "             ((df[cols[3]]>=desc_df[cols[3]]['2.5%'])&(df[cols[3]]<=desc_df[cols[3]]['97.5%']))]"
   ]
  },
  {
   "cell_type": "code",
   "execution_count": 38,
   "metadata": {
    "scrolled": true
   },
   "outputs": [
    {
     "data": {
      "text/html": [
       "<div>\n",
       "<style scoped>\n",
       "    .dataframe tbody tr th:only-of-type {\n",
       "        vertical-align: middle;\n",
       "    }\n",
       "\n",
       "    .dataframe tbody tr th {\n",
       "        vertical-align: top;\n",
       "    }\n",
       "\n",
       "    .dataframe thead th {\n",
       "        text-align: right;\n",
       "    }\n",
       "</style>\n",
       "<table border=\"1\" class=\"dataframe\">\n",
       "  <thead>\n",
       "    <tr style=\"text-align: right;\">\n",
       "      <th></th>\n",
       "      <th>total_images</th>\n",
       "      <th>last_price</th>\n",
       "      <th>total_area</th>\n",
       "      <th>price_per_square_meter</th>\n",
       "      <th>weekday_exposition</th>\n",
       "      <th>month_exposition</th>\n",
       "      <th>year_exposition</th>\n",
       "      <th>rooms</th>\n",
       "      <th>ceiling_height</th>\n",
       "      <th>floors_total</th>\n",
       "      <th>living_area</th>\n",
       "      <th>floor</th>\n",
       "      <th>kitchen_area</th>\n",
       "      <th>balcony</th>\n",
       "      <th>airports_nearest</th>\n",
       "      <th>cityCenters_nearest</th>\n",
       "      <th>parks_around3000</th>\n",
       "      <th>parks_nearest</th>\n",
       "      <th>ponds_around3000</th>\n",
       "      <th>ponds_nearest</th>\n",
       "      <th>days_exposition</th>\n",
       "      <th>living_area_ratio</th>\n",
       "      <th>kitchen_area_ratio</th>\n",
       "      <th>first</th>\n",
       "      <th>last</th>\n",
       "      <th>else</th>\n",
       "    </tr>\n",
       "  </thead>\n",
       "  <tbody>\n",
       "    <tr>\n",
       "      <th>count</th>\n",
       "      <td>12984.000000</td>\n",
       "      <td>1.298400e+04</td>\n",
       "      <td>12984.000000</td>\n",
       "      <td>12984.000000</td>\n",
       "      <td>12984.000000</td>\n",
       "      <td>12984.000000</td>\n",
       "      <td>12984.000000</td>\n",
       "      <td>12984.000000</td>\n",
       "      <td>12984.000000</td>\n",
       "      <td>12984.000000</td>\n",
       "      <td>12984.000000</td>\n",
       "      <td>12984.000000</td>\n",
       "      <td>12984.000000</td>\n",
       "      <td>12984.000000</td>\n",
       "      <td>10501.000000</td>\n",
       "      <td>10501.000000</td>\n",
       "      <td>10501.000000</td>\n",
       "      <td>10196.000000</td>\n",
       "      <td>10501.000000</td>\n",
       "      <td>10435.000000</td>\n",
       "      <td>10879.000000</td>\n",
       "      <td>12319.000000</td>\n",
       "      <td>12301.000000</td>\n",
       "      <td>12984.000000</td>\n",
       "      <td>12984.000000</td>\n",
       "      <td>12984.000000</td>\n",
       "    </tr>\n",
       "    <tr>\n",
       "      <th>mean</th>\n",
       "      <td>10.311845</td>\n",
       "      <td>5.653850e+06</td>\n",
       "      <td>57.005969</td>\n",
       "      <td>98078.591651</td>\n",
       "      <td>2.502157</td>\n",
       "      <td>6.321704</td>\n",
       "      <td>2017.522027</td>\n",
       "      <td>2.043515</td>\n",
       "      <td>2.692844</td>\n",
       "      <td>10.452711</td>\n",
       "      <td>32.747077</td>\n",
       "      <td>5.727203</td>\n",
       "      <td>10.089345</td>\n",
       "      <td>0.697705</td>\n",
       "      <td>29113.634511</td>\n",
       "      <td>14657.273022</td>\n",
       "      <td>0.592705</td>\n",
       "      <td>470.069733</td>\n",
       "      <td>0.733549</td>\n",
       "      <td>514.102635</td>\n",
       "      <td>184.841530</td>\n",
       "      <td>0.566402</td>\n",
       "      <td>0.185490</td>\n",
       "      <td>0.124153</td>\n",
       "      <td>0.137631</td>\n",
       "      <td>0.738216</td>\n",
       "    </tr>\n",
       "    <tr>\n",
       "      <th>std</th>\n",
       "      <td>5.552092</td>\n",
       "      <td>3.171907e+06</td>\n",
       "      <td>21.189081</td>\n",
       "      <td>31458.236372</td>\n",
       "      <td>1.794279</td>\n",
       "      <td>3.499796</td>\n",
       "      <td>1.019101</td>\n",
       "      <td>0.888466</td>\n",
       "      <td>0.208093</td>\n",
       "      <td>6.220319</td>\n",
       "      <td>14.384686</td>\n",
       "      <td>4.664280</td>\n",
       "      <td>4.692958</td>\n",
       "      <td>1.020716</td>\n",
       "      <td>12908.330532</td>\n",
       "      <td>8635.449501</td>\n",
       "      <td>0.782974</td>\n",
       "      <td>219.489583</td>\n",
       "      <td>0.920066</td>\n",
       "      <td>197.154500</td>\n",
       "      <td>223.912088</td>\n",
       "      <td>0.100925</td>\n",
       "      <td>0.070684</td>\n",
       "      <td>0.329768</td>\n",
       "      <td>0.344525</td>\n",
       "      <td>0.439622</td>\n",
       "    </tr>\n",
       "    <tr>\n",
       "      <th>min</th>\n",
       "      <td>0.000000</td>\n",
       "      <td>1.449900e+06</td>\n",
       "      <td>29.100000</td>\n",
       "      <td>17391.000000</td>\n",
       "      <td>0.000000</td>\n",
       "      <td>1.000000</td>\n",
       "      <td>2014.000000</td>\n",
       "      <td>1.000000</td>\n",
       "      <td>2.500000</td>\n",
       "      <td>1.000000</td>\n",
       "      <td>2.000000</td>\n",
       "      <td>1.000000</td>\n",
       "      <td>3.200000</td>\n",
       "      <td>0.000000</td>\n",
       "      <td>0.000000</td>\n",
       "      <td>287.000000</td>\n",
       "      <td>0.000000</td>\n",
       "      <td>3.000000</td>\n",
       "      <td>0.000000</td>\n",
       "      <td>16.000000</td>\n",
       "      <td>1.000000</td>\n",
       "      <td>0.038462</td>\n",
       "      <td>0.055556</td>\n",
       "      <td>0.000000</td>\n",
       "      <td>0.000000</td>\n",
       "      <td>0.000000</td>\n",
       "    </tr>\n",
       "    <tr>\n",
       "      <th>25%</th>\n",
       "      <td>6.000000</td>\n",
       "      <td>3.600000e+06</td>\n",
       "      <td>41.400000</td>\n",
       "      <td>78909.750000</td>\n",
       "      <td>1.000000</td>\n",
       "      <td>3.000000</td>\n",
       "      <td>2017.000000</td>\n",
       "      <td>1.000000</td>\n",
       "      <td>2.500000</td>\n",
       "      <td>5.000000</td>\n",
       "      <td>19.703502</td>\n",
       "      <td>2.000000</td>\n",
       "      <td>7.000000</td>\n",
       "      <td>0.000000</td>\n",
       "      <td>18233.000000</td>\n",
       "      <td>10197.000000</td>\n",
       "      <td>0.000000</td>\n",
       "      <td>428.000000</td>\n",
       "      <td>0.000000</td>\n",
       "      <td>478.000000</td>\n",
       "      <td>44.000000</td>\n",
       "      <td>0.500000</td>\n",
       "      <td>0.133333</td>\n",
       "      <td>0.000000</td>\n",
       "      <td>0.000000</td>\n",
       "      <td>0.000000</td>\n",
       "    </tr>\n",
       "    <tr>\n",
       "      <th>50%</th>\n",
       "      <td>10.000000</td>\n",
       "      <td>4.800000e+06</td>\n",
       "      <td>52.500000</td>\n",
       "      <td>96250.000000</td>\n",
       "      <td>2.000000</td>\n",
       "      <td>6.000000</td>\n",
       "      <td>2018.000000</td>\n",
       "      <td>2.000000</td>\n",
       "      <td>2.650000</td>\n",
       "      <td>9.000000</td>\n",
       "      <td>30.200000</td>\n",
       "      <td>4.000000</td>\n",
       "      <td>9.000000</td>\n",
       "      <td>0.000000</td>\n",
       "      <td>27381.000000</td>\n",
       "      <td>13282.000000</td>\n",
       "      <td>0.000000</td>\n",
       "      <td>460.000000</td>\n",
       "      <td>0.000000</td>\n",
       "      <td>503.000000</td>\n",
       "      <td>99.000000</td>\n",
       "      <td>0.571429</td>\n",
       "      <td>0.170213</td>\n",
       "      <td>0.000000</td>\n",
       "      <td>0.000000</td>\n",
       "      <td>1.000000</td>\n",
       "    </tr>\n",
       "    <tr>\n",
       "      <th>75%</th>\n",
       "      <td>14.000000</td>\n",
       "      <td>6.650000e+06</td>\n",
       "      <td>68.000000</td>\n",
       "      <td>114545.000000</td>\n",
       "      <td>4.000000</td>\n",
       "      <td>10.000000</td>\n",
       "      <td>2018.000000</td>\n",
       "      <td>3.000000</td>\n",
       "      <td>2.770000</td>\n",
       "      <td>14.000000</td>\n",
       "      <td>42.000000</td>\n",
       "      <td>8.000000</td>\n",
       "      <td>11.500000</td>\n",
       "      <td>1.000000</td>\n",
       "      <td>37504.000000</td>\n",
       "      <td>16242.000000</td>\n",
       "      <td>1.000000</td>\n",
       "      <td>460.000000</td>\n",
       "      <td>1.000000</td>\n",
       "      <td>553.000000</td>\n",
       "      <td>237.000000</td>\n",
       "      <td>0.636364</td>\n",
       "      <td>0.227273</td>\n",
       "      <td>0.000000</td>\n",
       "      <td>0.000000</td>\n",
       "      <td>1.000000</td>\n",
       "    </tr>\n",
       "    <tr>\n",
       "      <th>max</th>\n",
       "      <td>35.000000</td>\n",
       "      <td>2.240000e+07</td>\n",
       "      <td>149.000000</td>\n",
       "      <td>355555.000000</td>\n",
       "      <td>6.000000</td>\n",
       "      <td>12.000000</td>\n",
       "      <td>2019.000000</td>\n",
       "      <td>4.000000</td>\n",
       "      <td>3.500000</td>\n",
       "      <td>60.000000</td>\n",
       "      <td>128.000000</td>\n",
       "      <td>30.000000</td>\n",
       "      <td>64.000000</td>\n",
       "      <td>5.000000</td>\n",
       "      <td>84869.000000</td>\n",
       "      <td>65968.000000</td>\n",
       "      <td>3.000000</td>\n",
       "      <td>3190.000000</td>\n",
       "      <td>3.000000</td>\n",
       "      <td>1344.000000</td>\n",
       "      <td>1580.000000</td>\n",
       "      <td>0.973262</td>\n",
       "      <td>0.715232</td>\n",
       "      <td>1.000000</td>\n",
       "      <td>1.000000</td>\n",
       "      <td>1.000000</td>\n",
       "    </tr>\n",
       "  </tbody>\n",
       "</table>\n",
       "</div>"
      ],
      "text/plain": [
       "       total_images    last_price    total_area  price_per_square_meter  \\\n",
       "count  12984.000000  1.298400e+04  12984.000000            12984.000000   \n",
       "mean      10.311845  5.653850e+06     57.005969            98078.591651   \n",
       "std        5.552092  3.171907e+06     21.189081            31458.236372   \n",
       "min        0.000000  1.449900e+06     29.100000            17391.000000   \n",
       "25%        6.000000  3.600000e+06     41.400000            78909.750000   \n",
       "50%       10.000000  4.800000e+06     52.500000            96250.000000   \n",
       "75%       14.000000  6.650000e+06     68.000000           114545.000000   \n",
       "max       35.000000  2.240000e+07    149.000000           355555.000000   \n",
       "\n",
       "       weekday_exposition  month_exposition  year_exposition         rooms  \\\n",
       "count        12984.000000      12984.000000     12984.000000  12984.000000   \n",
       "mean             2.502157          6.321704      2017.522027      2.043515   \n",
       "std              1.794279          3.499796         1.019101      0.888466   \n",
       "min              0.000000          1.000000      2014.000000      1.000000   \n",
       "25%              1.000000          3.000000      2017.000000      1.000000   \n",
       "50%              2.000000          6.000000      2018.000000      2.000000   \n",
       "75%              4.000000         10.000000      2018.000000      3.000000   \n",
       "max              6.000000         12.000000      2019.000000      4.000000   \n",
       "\n",
       "       ceiling_height  floors_total   living_area         floor  kitchen_area  \\\n",
       "count    12984.000000  12984.000000  12984.000000  12984.000000  12984.000000   \n",
       "mean         2.692844     10.452711     32.747077      5.727203     10.089345   \n",
       "std          0.208093      6.220319     14.384686      4.664280      4.692958   \n",
       "min          2.500000      1.000000      2.000000      1.000000      3.200000   \n",
       "25%          2.500000      5.000000     19.703502      2.000000      7.000000   \n",
       "50%          2.650000      9.000000     30.200000      4.000000      9.000000   \n",
       "75%          2.770000     14.000000     42.000000      8.000000     11.500000   \n",
       "max          3.500000     60.000000    128.000000     30.000000     64.000000   \n",
       "\n",
       "            balcony  airports_nearest  cityCenters_nearest  parks_around3000  \\\n",
       "count  12984.000000      10501.000000         10501.000000      10501.000000   \n",
       "mean       0.697705      29113.634511         14657.273022          0.592705   \n",
       "std        1.020716      12908.330532          8635.449501          0.782974   \n",
       "min        0.000000          0.000000           287.000000          0.000000   \n",
       "25%        0.000000      18233.000000         10197.000000          0.000000   \n",
       "50%        0.000000      27381.000000         13282.000000          0.000000   \n",
       "75%        1.000000      37504.000000         16242.000000          1.000000   \n",
       "max        5.000000      84869.000000         65968.000000          3.000000   \n",
       "\n",
       "       parks_nearest  ponds_around3000  ponds_nearest  days_exposition  \\\n",
       "count   10196.000000      10501.000000   10435.000000     10879.000000   \n",
       "mean      470.069733          0.733549     514.102635       184.841530   \n",
       "std       219.489583          0.920066     197.154500       223.912088   \n",
       "min         3.000000          0.000000      16.000000         1.000000   \n",
       "25%       428.000000          0.000000     478.000000        44.000000   \n",
       "50%       460.000000          0.000000     503.000000        99.000000   \n",
       "75%       460.000000          1.000000     553.000000       237.000000   \n",
       "max      3190.000000          3.000000    1344.000000      1580.000000   \n",
       "\n",
       "       living_area_ratio  kitchen_area_ratio         first          last  \\\n",
       "count       12319.000000        12301.000000  12984.000000  12984.000000   \n",
       "mean            0.566402            0.185490      0.124153      0.137631   \n",
       "std             0.100925            0.070684      0.329768      0.344525   \n",
       "min             0.038462            0.055556      0.000000      0.000000   \n",
       "25%             0.500000            0.133333      0.000000      0.000000   \n",
       "50%             0.571429            0.170213      0.000000      0.000000   \n",
       "75%             0.636364            0.227273      0.000000      0.000000   \n",
       "max             0.973262            0.715232      1.000000      1.000000   \n",
       "\n",
       "               else  \n",
       "count  12984.000000  \n",
       "mean       0.738216  \n",
       "std        0.439622  \n",
       "min        0.000000  \n",
       "25%        0.000000  \n",
       "50%        1.000000  \n",
       "75%        1.000000  \n",
       "max        1.000000  "
      ]
     },
     "execution_count": 38,
     "metadata": {},
     "output_type": "execute_result"
    }
   ],
   "source": [
    "restr_df.describe()"
   ]
  },
  {
   "cell_type": "markdown",
   "metadata": {},
   "source": [
    "**Вывод:**\n",
    "\n",
    "Убрав редкие и выбивающиеся значения в параметрах, можно заметить, что сдвинулись значения медианны и среднего значения. Такие данные будут отражать более реалистичную картину. "
   ]
  },
  {
   "cell_type": "markdown",
   "metadata": {},
   "source": [
    "### Изучение факторов, которые больше всего влияют на стоимость квартиры"
   ]
  },
  {
   "cell_type": "markdown",
   "metadata": {},
   "source": [
    "Для начала изучим, зависит ли цена от следующих параметров: площадь квартиры, число комнат, этаж, удаленность от центра."
   ]
  },
  {
   "cell_type": "code",
   "execution_count": 39,
   "metadata": {
    "scrolled": true
   },
   "outputs": [
    {
     "data": {
      "text/html": [
       "<div>\n",
       "<style scoped>\n",
       "    .dataframe tbody tr th:only-of-type {\n",
       "        vertical-align: middle;\n",
       "    }\n",
       "\n",
       "    .dataframe tbody tr th {\n",
       "        vertical-align: top;\n",
       "    }\n",
       "\n",
       "    .dataframe thead th {\n",
       "        text-align: right;\n",
       "    }\n",
       "</style>\n",
       "<table border=\"1\" class=\"dataframe\">\n",
       "  <thead>\n",
       "    <tr style=\"text-align: right;\">\n",
       "      <th></th>\n",
       "      <th>last_price</th>\n",
       "      <th>total_area</th>\n",
       "      <th>rooms</th>\n",
       "      <th>cityCenters_nearest</th>\n",
       "      <th>first</th>\n",
       "      <th>last</th>\n",
       "    </tr>\n",
       "  </thead>\n",
       "  <tbody>\n",
       "    <tr>\n",
       "      <th>last_price</th>\n",
       "      <td>1.000000</td>\n",
       "      <td>0.653581</td>\n",
       "      <td>0.363124</td>\n",
       "      <td>-0.206461</td>\n",
       "      <td>-0.059710</td>\n",
       "      <td>0.030527</td>\n",
       "    </tr>\n",
       "    <tr>\n",
       "      <th>total_area</th>\n",
       "      <td>0.653581</td>\n",
       "      <td>1.000000</td>\n",
       "      <td>0.758324</td>\n",
       "      <td>-0.230886</td>\n",
       "      <td>-0.042313</td>\n",
       "      <td>0.055110</td>\n",
       "    </tr>\n",
       "    <tr>\n",
       "      <th>rooms</th>\n",
       "      <td>0.363124</td>\n",
       "      <td>0.758324</td>\n",
       "      <td>1.000000</td>\n",
       "      <td>-0.185872</td>\n",
       "      <td>0.026230</td>\n",
       "      <td>0.063553</td>\n",
       "    </tr>\n",
       "    <tr>\n",
       "      <th>cityCenters_nearest</th>\n",
       "      <td>-0.206461</td>\n",
       "      <td>-0.230886</td>\n",
       "      <td>-0.185872</td>\n",
       "      <td>1.000000</td>\n",
       "      <td>0.059950</td>\n",
       "      <td>0.012522</td>\n",
       "    </tr>\n",
       "    <tr>\n",
       "      <th>first</th>\n",
       "      <td>-0.059710</td>\n",
       "      <td>-0.042313</td>\n",
       "      <td>0.026230</td>\n",
       "      <td>0.059950</td>\n",
       "      <td>1.000000</td>\n",
       "      <td>-0.152188</td>\n",
       "    </tr>\n",
       "    <tr>\n",
       "      <th>last</th>\n",
       "      <td>0.030527</td>\n",
       "      <td>0.055110</td>\n",
       "      <td>0.063553</td>\n",
       "      <td>0.012522</td>\n",
       "      <td>-0.152188</td>\n",
       "      <td>1.000000</td>\n",
       "    </tr>\n",
       "  </tbody>\n",
       "</table>\n",
       "</div>"
      ],
      "text/plain": [
       "                     last_price  total_area     rooms  cityCenters_nearest  \\\n",
       "last_price             1.000000    0.653581  0.363124            -0.206461   \n",
       "total_area             0.653581    1.000000  0.758324            -0.230886   \n",
       "rooms                  0.363124    0.758324  1.000000            -0.185872   \n",
       "cityCenters_nearest   -0.206461   -0.230886 -0.185872             1.000000   \n",
       "first                 -0.059710   -0.042313  0.026230             0.059950   \n",
       "last                   0.030527    0.055110  0.063553             0.012522   \n",
       "\n",
       "                        first      last  \n",
       "last_price          -0.059710  0.030527  \n",
       "total_area          -0.042313  0.055110  \n",
       "rooms                0.026230  0.063553  \n",
       "cityCenters_nearest  0.059950  0.012522  \n",
       "first                1.000000 -0.152188  \n",
       "last                -0.152188  1.000000  "
      ]
     },
     "execution_count": 39,
     "metadata": {},
     "output_type": "execute_result"
    }
   ],
   "source": [
    "df.loc[:, ['last_price', 'total_area', 'rooms', 'cityCenters_nearest', 'first', 'last']].corr()"
   ]
  },
  {
   "cell_type": "code",
   "execution_count": 40,
   "metadata": {
    "scrolled": true
   },
   "outputs": [
    {
     "data": {
      "text/plain": [
       "<AxesSubplot:xlabel='last_price', ylabel='total_area'>"
      ]
     },
     "execution_count": 40,
     "metadata": {},
     "output_type": "execute_result"
    },
    {
     "data": {
      "image/png": "[encoded data removed]",
      "text/plain": [
       "<Figure size 432x288 with 1 Axes>"
      ]
     },
     "metadata": {
      "needs_background": "light"
     },
     "output_type": "display_data"
    }
   ],
   "source": [
    "df.plot(kind='scatter', x='last_price', y='total_area')"
   ]
  },
  {
   "cell_type": "code",
   "execution_count": 41,
   "metadata": {
    "scrolled": true
   },
   "outputs": [
    {
     "data": {
      "text/plain": [
       "<AxesSubplot:xlabel='last_price', ylabel='rooms'>"
      ]
     },
     "execution_count": 41,
     "metadata": {},
     "output_type": "execute_result"
    },
    {
     "data": {
      "image/png": "[encoded data removed]",
      "text/plain": [
       "<Figure size 432x288 with 1 Axes>"
      ]
     },
     "metadata": {
      "needs_background": "light"
     },
     "output_type": "display_data"
    }
   ],
   "source": [
    "df.plot(kind='scatter', x='last_price', y='rooms')"
   ]
  },
  {
   "cell_type": "code",
   "execution_count": 42,
   "metadata": {
    "scrolled": true
   },
   "outputs": [
    {
     "data": {
      "text/plain": [
       "<AxesSubplot:xlabel='last_price', ylabel='cityCenters_nearest'>"
      ]
     },
     "execution_count": 42,
     "metadata": {},
     "output_type": "execute_result"
    },
    {
     "data": {
      "image/png": "[encoded data removed]",
      "text/plain": [
       "<Figure size 432x288 with 1 Axes>"
      ]
     },
     "metadata": {
      "needs_background": "light"
     },
     "output_type": "display_data"
    }
   ],
   "source": [
    "df.plot(kind='scatter', x='last_price', y='cityCenters_nearest')"
   ]
  },
  {
   "cell_type": "markdown",
   "metadata": {},
   "source": [
    "Далее изучим зависимость от даты размещения: дня недели, месяца и года. "
   ]
  },
  {
   "cell_type": "code",
   "execution_count": 43,
   "metadata": {
    "scrolled": false
   },
   "outputs": [
    {
     "data": {
      "text/html": [
       "<div>\n",
       "<style scoped>\n",
       "    .dataframe tbody tr th:only-of-type {\n",
       "        vertical-align: middle;\n",
       "    }\n",
       "\n",
       "    .dataframe tbody tr th {\n",
       "        vertical-align: top;\n",
       "    }\n",
       "\n",
       "    .dataframe thead th {\n",
       "        text-align: right;\n",
       "    }\n",
       "</style>\n",
       "<table border=\"1\" class=\"dataframe\">\n",
       "  <thead>\n",
       "    <tr style=\"text-align: right;\">\n",
       "      <th></th>\n",
       "      <th>last_price</th>\n",
       "      <th>weekday_exposition</th>\n",
       "      <th>month_exposition</th>\n",
       "      <th>year_exposition</th>\n",
       "    </tr>\n",
       "  </thead>\n",
       "  <tbody>\n",
       "    <tr>\n",
       "      <th>last_price</th>\n",
       "      <td>1.000000</td>\n",
       "      <td>0.001295</td>\n",
       "      <td>0.002765</td>\n",
       "      <td>-0.043023</td>\n",
       "    </tr>\n",
       "    <tr>\n",
       "      <th>weekday_exposition</th>\n",
       "      <td>0.001295</td>\n",
       "      <td>1.000000</td>\n",
       "      <td>0.012166</td>\n",
       "      <td>-0.003927</td>\n",
       "    </tr>\n",
       "    <tr>\n",
       "      <th>month_exposition</th>\n",
       "      <td>0.002765</td>\n",
       "      <td>0.012166</td>\n",
       "      <td>1.000000</td>\n",
       "      <td>-0.270031</td>\n",
       "    </tr>\n",
       "    <tr>\n",
       "      <th>year_exposition</th>\n",
       "      <td>-0.043023</td>\n",
       "      <td>-0.003927</td>\n",
       "      <td>-0.270031</td>\n",
       "      <td>1.000000</td>\n",
       "    </tr>\n",
       "  </tbody>\n",
       "</table>\n",
       "</div>"
      ],
      "text/plain": [
       "                    last_price  weekday_exposition  month_exposition  \\\n",
       "last_price            1.000000            0.001295          0.002765   \n",
       "weekday_exposition    0.001295            1.000000          0.012166   \n",
       "month_exposition      0.002765            0.012166          1.000000   \n",
       "year_exposition      -0.043023           -0.003927         -0.270031   \n",
       "\n",
       "                    year_exposition  \n",
       "last_price                -0.043023  \n",
       "weekday_exposition        -0.003927  \n",
       "month_exposition          -0.270031  \n",
       "year_exposition            1.000000  "
      ]
     },
     "execution_count": 43,
     "metadata": {},
     "output_type": "execute_result"
    }
   ],
   "source": [
    "df.loc[:, ['last_price', 'weekday_exposition', 'month_exposition', 'year_exposition']].corr()"
   ]
  },
  {
   "cell_type": "code",
   "execution_count": 44,
   "metadata": {
    "scrolled": true
   },
   "outputs": [
    {
     "data": {
      "text/plain": [
       "<AxesSubplot:xlabel='last_price', ylabel='weekday_exposition'>"
      ]
     },
     "execution_count": 44,
     "metadata": {},
     "output_type": "execute_result"
    },
    {
     "data": {
      "image/png": "[encoded data removed]",
      "text/plain": [
       "<Figure size 432x288 with 1 Axes>"
      ]
     },
     "metadata": {
      "needs_background": "light"
     },
     "output_type": "display_data"
    }
   ],
   "source": [
    "df.plot(kind='scatter', x='last_price', y='weekday_exposition')"
   ]
  },
  {
   "cell_type": "code",
   "execution_count": 45,
   "metadata": {
    "scrolled": true
   },
   "outputs": [
    {
     "data": {
      "text/plain": [
       "<AxesSubplot:xlabel='last_price', ylabel='month_exposition'>"
      ]
     },
     "execution_count": 45,
     "metadata": {},
     "output_type": "execute_result"
    },
    {
     "data": {
      "image/png": "[encoded data removed]",
      "text/plain": [
       "<Figure size 432x288 with 1 Axes>"
      ]
     },
     "metadata": {
      "needs_background": "light"
     },
     "output_type": "display_data"
    }
   ],
   "source": [
    "df.plot(kind='scatter', x='last_price', y='month_exposition')"
   ]
  },
  {
   "cell_type": "code",
   "execution_count": 46,
   "metadata": {},
   "outputs": [
    {
     "data": {
      "text/plain": [
       "<AxesSubplot:xlabel='last_price', ylabel='year_exposition'>"
      ]
     },
     "execution_count": 46,
     "metadata": {},
     "output_type": "execute_result"
    },
    {
     "data": {
      "image/png": "[encoded data removed]",
      "text/plain": [
       "<Figure size 432x288 with 1 Axes>"
      ]
     },
     "metadata": {
      "needs_background": "light"
     },
     "output_type": "display_data"
    }
   ],
   "source": [
    "df.plot(kind='scatter', x='last_price', y='year_exposition')"
   ]
  },
  {
   "cell_type": "markdown",
   "metadata": {},
   "source": [
    "Затем посчитаем среднюю цену за квадратный метр в десяти населенных пунктах с бОльшим числом объявлений. "
   ]
  },
  {
   "cell_type": "code",
   "execution_count": 47,
   "metadata": {
    "scrolled": true
   },
   "outputs": [
    {
     "data": {
      "text/html": [
       "<div>\n",
       "<style scoped>\n",
       "    .dataframe tbody tr th:only-of-type {\n",
       "        vertical-align: middle;\n",
       "    }\n",
       "\n",
       "    .dataframe tbody tr th {\n",
       "        vertical-align: top;\n",
       "    }\n",
       "\n",
       "    .dataframe thead th {\n",
       "        text-align: right;\n",
       "    }\n",
       "</style>\n",
       "<table border=\"1\" class=\"dataframe\">\n",
       "  <thead>\n",
       "    <tr style=\"text-align: right;\">\n",
       "      <th></th>\n",
       "      <th>locality_name</th>\n",
       "      <th>last_price</th>\n",
       "      <th>price_per_square_meter</th>\n",
       "    </tr>\n",
       "  </thead>\n",
       "  <tbody>\n",
       "    <tr>\n",
       "      <th>33</th>\n",
       "      <td>Санкт-Петербург</td>\n",
       "      <td>15651</td>\n",
       "      <td>114868.433902</td>\n",
       "    </tr>\n",
       "    <tr>\n",
       "      <th>32</th>\n",
       "      <td>Пушкин</td>\n",
       "      <td>369</td>\n",
       "      <td>103125.373984</td>\n",
       "    </tr>\n",
       "    <tr>\n",
       "      <th>93</th>\n",
       "      <td>деревня Кудрово</td>\n",
       "      <td>299</td>\n",
       "      <td>92473.086957</td>\n",
       "    </tr>\n",
       "    <tr>\n",
       "      <th>296</th>\n",
       "      <td>посёлок Парголово</td>\n",
       "      <td>327</td>\n",
       "      <td>90175.489297</td>\n",
       "    </tr>\n",
       "    <tr>\n",
       "      <th>291</th>\n",
       "      <td>посёлок Мурино</td>\n",
       "      <td>520</td>\n",
       "      <td>85672.803846</td>\n",
       "    </tr>\n",
       "    <tr>\n",
       "      <th>326</th>\n",
       "      <td>посёлок Шушары</td>\n",
       "      <td>439</td>\n",
       "      <td>78550.883827</td>\n",
       "    </tr>\n",
       "    <tr>\n",
       "      <th>13</th>\n",
       "      <td>Колпино</td>\n",
       "      <td>338</td>\n",
       "      <td>75424.150888</td>\n",
       "    </tr>\n",
       "    <tr>\n",
       "      <th>6</th>\n",
       "      <td>Гатчина</td>\n",
       "      <td>307</td>\n",
       "      <td>68745.693811</td>\n",
       "    </tr>\n",
       "    <tr>\n",
       "      <th>3</th>\n",
       "      <td>Всеволожск</td>\n",
       "      <td>398</td>\n",
       "      <td>68654.007538</td>\n",
       "    </tr>\n",
       "    <tr>\n",
       "      <th>4</th>\n",
       "      <td>Выборг</td>\n",
       "      <td>237</td>\n",
       "      <td>58141.489451</td>\n",
       "    </tr>\n",
       "  </tbody>\n",
       "</table>\n",
       "</div>"
      ],
      "text/plain": [
       "         locality_name  last_price  price_per_square_meter\n",
       "33     Санкт-Петербург       15651           114868.433902\n",
       "32              Пушкин         369           103125.373984\n",
       "93     деревня Кудрово         299            92473.086957\n",
       "296  посёлок Парголово         327            90175.489297\n",
       "291     посёлок Мурино         520            85672.803846\n",
       "326     посёлок Шушары         439            78550.883827\n",
       "13             Колпино         338            75424.150888\n",
       "6              Гатчина         307            68745.693811\n",
       "3           Всеволожск         398            68654.007538\n",
       "4               Выборг         237            58141.489451"
      ]
     },
     "execution_count": 47,
     "metadata": {},
     "output_type": "execute_result"
    }
   ],
   "source": [
    "df.groupby('locality_name').agg({'last_price': 'count',\n",
    "                                'price_per_square_meter': 'mean'}).reset_index().sort_values(by='last_price', ascending=False).head(10).sort_values(by='price_per_square_meter', ascending=False)"
   ]
  },
  {
   "cell_type": "markdown",
   "metadata": {},
   "source": [
    "**Вывод**\n",
    "\n",
    "Из проведенных выше исследований можно сделать следующие выводы:\n",
    "1. На цену квартиры влияет общая площадь помещения и количество комнат. Общая площадь имеет бОльшее значение при выставлении цены. Также продавцы хотят больше денег за квартиры, которые находятся на последнем этаже. А вот близость к центру и первый этаж не особо влияют на выставление цены. \n",
    "\n",
    "2. Изучив зависимость цены от даты размещения, можно отметить, что продавцы, выставлявшие свои квартиры во второй половине недели, хотят больше за неё денег. Также здесь прослеживается, что цены на квартиры выше в нелетний сезон выше. Видимо это от того, что летом все думают об отдыхе, а не о продаже/покупке квартиры. Год не влияет на цену продажи.\n",
    "\n",
    "3. Выбрав 10 населенных пунктов с наибольшим числом публикаций, мы посчитали среднюю цену за квадратный метр, и оказалось, что в Санкт-Петербурге самая высокая цена за 1 кв. м, а вот в Выборге, наоборот, самая низкая. "
   ]
  },
  {
   "cell_type": "markdown",
   "metadata": {},
   "source": [
    "### Изучение предложения квартир. Выяснение, какая область входит в центр Санкт-Петербурга. "
   ]
  },
  {
   "cell_type": "code",
   "execution_count": 48,
   "metadata": {},
   "outputs": [
    {
     "data": {
      "text/html": [
       "<div>\n",
       "<style scoped>\n",
       "    .dataframe tbody tr th:only-of-type {\n",
       "        vertical-align: middle;\n",
       "    }\n",
       "\n",
       "    .dataframe tbody tr th {\n",
       "        vertical-align: top;\n",
       "    }\n",
       "\n",
       "    .dataframe thead th {\n",
       "        text-align: right;\n",
       "    }\n",
       "</style>\n",
       "<table border=\"1\" class=\"dataframe\">\n",
       "  <thead>\n",
       "    <tr style=\"text-align: right;\">\n",
       "      <th></th>\n",
       "      <th>round_center</th>\n",
       "      <th>last_price</th>\n",
       "    </tr>\n",
       "  </thead>\n",
       "  <tbody>\n",
       "    <tr>\n",
       "      <th>0</th>\n",
       "      <td>0</td>\n",
       "      <td>3.144912e+07</td>\n",
       "    </tr>\n",
       "    <tr>\n",
       "      <th>1</th>\n",
       "      <td>1</td>\n",
       "      <td>2.120672e+07</td>\n",
       "    </tr>\n",
       "    <tr>\n",
       "      <th>2</th>\n",
       "      <td>2</td>\n",
       "      <td>1.778832e+07</td>\n",
       "    </tr>\n",
       "    <tr>\n",
       "      <th>3</th>\n",
       "      <td>3</td>\n",
       "      <td>1.113739e+07</td>\n",
       "    </tr>\n",
       "    <tr>\n",
       "      <th>4</th>\n",
       "      <td>4</td>\n",
       "      <td>1.330428e+07</td>\n",
       "    </tr>\n",
       "    <tr>\n",
       "      <th>5</th>\n",
       "      <td>5</td>\n",
       "      <td>1.445600e+07</td>\n",
       "    </tr>\n",
       "    <tr>\n",
       "      <th>6</th>\n",
       "      <td>6</td>\n",
       "      <td>1.533842e+07</td>\n",
       "    </tr>\n",
       "    <tr>\n",
       "      <th>7</th>\n",
       "      <td>7</td>\n",
       "      <td>1.477515e+07</td>\n",
       "    </tr>\n",
       "    <tr>\n",
       "      <th>8</th>\n",
       "      <td>8</td>\n",
       "      <td>9.949111e+06</td>\n",
       "    </tr>\n",
       "    <tr>\n",
       "      <th>9</th>\n",
       "      <td>9</td>\n",
       "      <td>6.956583e+06</td>\n",
       "    </tr>\n",
       "    <tr>\n",
       "      <th>10</th>\n",
       "      <td>10</td>\n",
       "      <td>6.500434e+06</td>\n",
       "    </tr>\n",
       "    <tr>\n",
       "      <th>11</th>\n",
       "      <td>11</td>\n",
       "      <td>6.228108e+06</td>\n",
       "    </tr>\n",
       "    <tr>\n",
       "      <th>12</th>\n",
       "      <td>12</td>\n",
       "      <td>6.197926e+06</td>\n",
       "    </tr>\n",
       "    <tr>\n",
       "      <th>13</th>\n",
       "      <td>13</td>\n",
       "      <td>6.077643e+06</td>\n",
       "    </tr>\n",
       "    <tr>\n",
       "      <th>14</th>\n",
       "      <td>14</td>\n",
       "      <td>5.625173e+06</td>\n",
       "    </tr>\n",
       "    <tr>\n",
       "      <th>15</th>\n",
       "      <td>15</td>\n",
       "      <td>5.876323e+06</td>\n",
       "    </tr>\n",
       "    <tr>\n",
       "      <th>16</th>\n",
       "      <td>16</td>\n",
       "      <td>5.373131e+06</td>\n",
       "    </tr>\n",
       "    <tr>\n",
       "      <th>17</th>\n",
       "      <td>17</td>\n",
       "      <td>5.299496e+06</td>\n",
       "    </tr>\n",
       "    <tr>\n",
       "      <th>18</th>\n",
       "      <td>18</td>\n",
       "      <td>5.091331e+06</td>\n",
       "    </tr>\n",
       "    <tr>\n",
       "      <th>19</th>\n",
       "      <td>19</td>\n",
       "      <td>5.051410e+06</td>\n",
       "    </tr>\n",
       "    <tr>\n",
       "      <th>20</th>\n",
       "      <td>20</td>\n",
       "      <td>5.951465e+06</td>\n",
       "    </tr>\n",
       "    <tr>\n",
       "      <th>21</th>\n",
       "      <td>21</td>\n",
       "      <td>5.493469e+06</td>\n",
       "    </tr>\n",
       "    <tr>\n",
       "      <th>22</th>\n",
       "      <td>22</td>\n",
       "      <td>5.415524e+06</td>\n",
       "    </tr>\n",
       "    <tr>\n",
       "      <th>23</th>\n",
       "      <td>23</td>\n",
       "      <td>4.985376e+06</td>\n",
       "    </tr>\n",
       "    <tr>\n",
       "      <th>24</th>\n",
       "      <td>24</td>\n",
       "      <td>3.854430e+06</td>\n",
       "    </tr>\n",
       "    <tr>\n",
       "      <th>25</th>\n",
       "      <td>25</td>\n",
       "      <td>4.052840e+06</td>\n",
       "    </tr>\n",
       "    <tr>\n",
       "      <th>26</th>\n",
       "      <td>26</td>\n",
       "      <td>4.014287e+06</td>\n",
       "    </tr>\n",
       "    <tr>\n",
       "      <th>27</th>\n",
       "      <td>27</td>\n",
       "      <td>8.300000e+06</td>\n",
       "    </tr>\n",
       "    <tr>\n",
       "      <th>28</th>\n",
       "      <td>28</td>\n",
       "      <td>5.026429e+06</td>\n",
       "    </tr>\n",
       "    <tr>\n",
       "      <th>29</th>\n",
       "      <td>29</td>\n",
       "      <td>4.236667e+06</td>\n",
       "    </tr>\n",
       "  </tbody>\n",
       "</table>\n",
       "</div>"
      ],
      "text/plain": [
       "    round_center    last_price\n",
       "0              0  3.144912e+07\n",
       "1              1  2.120672e+07\n",
       "2              2  1.778832e+07\n",
       "3              3  1.113739e+07\n",
       "4              4  1.330428e+07\n",
       "5              5  1.445600e+07\n",
       "6              6  1.533842e+07\n",
       "7              7  1.477515e+07\n",
       "8              8  9.949111e+06\n",
       "9              9  6.956583e+06\n",
       "10            10  6.500434e+06\n",
       "11            11  6.228108e+06\n",
       "12            12  6.197926e+06\n",
       "13            13  6.077643e+06\n",
       "14            14  5.625173e+06\n",
       "15            15  5.876323e+06\n",
       "16            16  5.373131e+06\n",
       "17            17  5.299496e+06\n",
       "18            18  5.091331e+06\n",
       "19            19  5.051410e+06\n",
       "20            20  5.951465e+06\n",
       "21            21  5.493469e+06\n",
       "22            22  5.415524e+06\n",
       "23            23  4.985376e+06\n",
       "24            24  3.854430e+06\n",
       "25            25  4.052840e+06\n",
       "26            26  4.014287e+06\n",
       "27            27  8.300000e+06\n",
       "28            28  5.026429e+06\n",
       "29            29  4.236667e+06"
      ]
     },
     "execution_count": 48,
     "metadata": {},
     "output_type": "execute_result"
    }
   ],
   "source": [
    "spb_data = df[df['locality_name']=='Санкт-Петербург']\n",
    "spb_data['round_center']=spb_data['cityCenters_nearest'].apply(lambda x: round(x/1000) if x >=0 else np.nan)\n",
    "spb_center_price = spb_data.groupby('round_center').mean()['last_price'].reset_index()\n",
    "spb_center_price"
   ]
  },
  {
   "cell_type": "code",
   "execution_count": 49,
   "metadata": {
    "scrolled": false
   },
   "outputs": [
    {
     "data": {
      "image/png": "[encoded data removed]",
      "text/plain": [
       "<Figure size 864x864 with 1 Axes>"
      ]
     },
     "metadata": {
      "needs_background": "light"
     },
     "output_type": "display_data"
    }
   ],
   "source": [
    "plt.figure(figsize=(12, 12))\n",
    "plt.plot(spb_center_price['round_center'],spb_center_price['last_price'], \n",
    "           color='darkviolet')\n",
    "plt.xlabel('distance')\n",
    "plt.xticks(np.arange(0, len(spb_center_price['round_center'])+1, 1))\n",
    "plt.ylabel('last')\n",
    "plt.show()"
   ]
  },
  {
   "cell_type": "markdown",
   "metadata": {},
   "source": [
    "**Вывод:**\n",
    "\n",
    "По графику видно, что снижение цены происходит на отметке в 6 км. Отсюда будем считать, что центр Санкт-Петербурга находится в радиусе 6 км. "
   ]
  },
  {
   "cell_type": "markdown",
   "metadata": {},
   "source": [
    "### Выделение сегмента квартир в центре. Анализ этой территории и изучение следующих параметров: площадь, цена, число комнат, высота потолков. Выделение факторов, которые влияют на стоимость квартиры (число комнат, этаж, удалённость от центра, дата размещения объявления)."
   ]
  },
  {
   "cell_type": "code",
   "execution_count": 50,
   "metadata": {
    "scrolled": true
   },
   "outputs": [
    {
     "data": {
      "text/html": [
       "<div>\n",
       "<style scoped>\n",
       "    .dataframe tbody tr th:only-of-type {\n",
       "        vertical-align: middle;\n",
       "    }\n",
       "\n",
       "    .dataframe tbody tr th {\n",
       "        vertical-align: top;\n",
       "    }\n",
       "\n",
       "    .dataframe thead th {\n",
       "        text-align: right;\n",
       "    }\n",
       "</style>\n",
       "<table border=\"1\" class=\"dataframe\">\n",
       "  <thead>\n",
       "    <tr style=\"text-align: right;\">\n",
       "      <th></th>\n",
       "      <th>last_price</th>\n",
       "      <th>total_area</th>\n",
       "      <th>rooms</th>\n",
       "      <th>ceiling_height</th>\n",
       "    </tr>\n",
       "  </thead>\n",
       "  <tbody>\n",
       "    <tr>\n",
       "      <th>count</th>\n",
       "      <td>3.098000e+03</td>\n",
       "      <td>3098.000000</td>\n",
       "      <td>3098.000000</td>\n",
       "      <td>2019.000000</td>\n",
       "    </tr>\n",
       "    <tr>\n",
       "      <th>mean</th>\n",
       "      <td>1.490340e+07</td>\n",
       "      <td>94.578037</td>\n",
       "      <td>2.888315</td>\n",
       "      <td>3.147192</td>\n",
       "    </tr>\n",
       "    <tr>\n",
       "      <th>std</th>\n",
       "      <td>2.512454e+07</td>\n",
       "      <td>60.271127</td>\n",
       "      <td>1.489752</td>\n",
       "      <td>0.915351</td>\n",
       "    </tr>\n",
       "    <tr>\n",
       "      <th>min</th>\n",
       "      <td>1.600000e+06</td>\n",
       "      <td>12.000000</td>\n",
       "      <td>0.000000</td>\n",
       "      <td>2.400000</td>\n",
       "    </tr>\n",
       "    <tr>\n",
       "      <th>25%</th>\n",
       "      <td>6.800000e+06</td>\n",
       "      <td>58.700000</td>\n",
       "      <td>2.000000</td>\n",
       "      <td>2.880000</td>\n",
       "    </tr>\n",
       "    <tr>\n",
       "      <th>50%</th>\n",
       "      <td>9.359950e+06</td>\n",
       "      <td>80.000000</td>\n",
       "      <td>3.000000</td>\n",
       "      <td>3.050000</td>\n",
       "    </tr>\n",
       "    <tr>\n",
       "      <th>75%</th>\n",
       "      <td>1.437500e+07</td>\n",
       "      <td>110.600000</td>\n",
       "      <td>4.000000</td>\n",
       "      <td>3.300000</td>\n",
       "    </tr>\n",
       "    <tr>\n",
       "      <th>max</th>\n",
       "      <td>7.630000e+08</td>\n",
       "      <td>631.200000</td>\n",
       "      <td>19.000000</td>\n",
       "      <td>32.000000</td>\n",
       "    </tr>\n",
       "  </tbody>\n",
       "</table>\n",
       "</div>"
      ],
      "text/plain": [
       "         last_price   total_area        rooms  ceiling_height\n",
       "count  3.098000e+03  3098.000000  3098.000000     2019.000000\n",
       "mean   1.490340e+07    94.578037     2.888315        3.147192\n",
       "std    2.512454e+07    60.271127     1.489752        0.915351\n",
       "min    1.600000e+06    12.000000     0.000000        2.400000\n",
       "25%    6.800000e+06    58.700000     2.000000        2.880000\n",
       "50%    9.359950e+06    80.000000     3.000000        3.050000\n",
       "75%    1.437500e+07   110.600000     4.000000        3.300000\n",
       "max    7.630000e+08   631.200000    19.000000       32.000000"
      ]
     },
     "execution_count": 50,
     "metadata": {},
     "output_type": "execute_result"
    }
   ],
   "source": [
    "center_df = spb_data[spb_data['round_center']<=6]\n",
    "center_df.loc[:, ['last_price', 'total_area', 'rooms', 'ceiling_height']].describe()"
   ]
  },
  {
   "cell_type": "code",
   "execution_count": 51,
   "metadata": {},
   "outputs": [
    {
     "data": {
      "text/html": [
       "<div>\n",
       "<style scoped>\n",
       "    .dataframe tbody tr th:only-of-type {\n",
       "        vertical-align: middle;\n",
       "    }\n",
       "\n",
       "    .dataframe tbody tr th {\n",
       "        vertical-align: top;\n",
       "    }\n",
       "\n",
       "    .dataframe thead th {\n",
       "        text-align: right;\n",
       "    }\n",
       "</style>\n",
       "<table border=\"1\" class=\"dataframe\">\n",
       "  <thead>\n",
       "    <tr style=\"text-align: right;\">\n",
       "      <th></th>\n",
       "      <th>last_price</th>\n",
       "      <th>total_area</th>\n",
       "      <th>rooms</th>\n",
       "      <th>ceiling_height</th>\n",
       "    </tr>\n",
       "  </thead>\n",
       "  <tbody>\n",
       "    <tr>\n",
       "      <th>count</th>\n",
       "      <td>1.565100e+04</td>\n",
       "      <td>15651.000000</td>\n",
       "      <td>15651.000000</td>\n",
       "      <td>10096.000000</td>\n",
       "    </tr>\n",
       "    <tr>\n",
       "      <th>mean</th>\n",
       "      <td>8.064895e+06</td>\n",
       "      <td>64.746341</td>\n",
       "      <td>2.172385</td>\n",
       "      <td>2.803717</td>\n",
       "    </tr>\n",
       "    <tr>\n",
       "      <th>std</th>\n",
       "      <td>1.303626e+07</td>\n",
       "      <td>40.426740</td>\n",
       "      <td>1.148437</td>\n",
       "      <td>1.297423</td>\n",
       "    </tr>\n",
       "    <tr>\n",
       "      <th>min</th>\n",
       "      <td>1.219000e+04</td>\n",
       "      <td>12.000000</td>\n",
       "      <td>0.000000</td>\n",
       "      <td>1.000000</td>\n",
       "    </tr>\n",
       "    <tr>\n",
       "      <th>25%</th>\n",
       "      <td>4.200000e+06</td>\n",
       "      <td>42.000000</td>\n",
       "      <td>1.000000</td>\n",
       "      <td>2.550000</td>\n",
       "    </tr>\n",
       "    <tr>\n",
       "      <th>50%</th>\n",
       "      <td>5.500000e+06</td>\n",
       "      <td>55.000000</td>\n",
       "      <td>2.000000</td>\n",
       "      <td>2.700000</td>\n",
       "    </tr>\n",
       "    <tr>\n",
       "      <th>75%</th>\n",
       "      <td>8.150000e+06</td>\n",
       "      <td>74.550000</td>\n",
       "      <td>3.000000</td>\n",
       "      <td>2.870000</td>\n",
       "    </tr>\n",
       "    <tr>\n",
       "      <th>max</th>\n",
       "      <td>7.630000e+08</td>\n",
       "      <td>900.000000</td>\n",
       "      <td>19.000000</td>\n",
       "      <td>100.000000</td>\n",
       "    </tr>\n",
       "  </tbody>\n",
       "</table>\n",
       "</div>"
      ],
      "text/plain": [
       "         last_price    total_area         rooms  ceiling_height\n",
       "count  1.565100e+04  15651.000000  15651.000000    10096.000000\n",
       "mean   8.064895e+06     64.746341      2.172385        2.803717\n",
       "std    1.303626e+07     40.426740      1.148437        1.297423\n",
       "min    1.219000e+04     12.000000      0.000000        1.000000\n",
       "25%    4.200000e+06     42.000000      1.000000        2.550000\n",
       "50%    5.500000e+06     55.000000      2.000000        2.700000\n",
       "75%    8.150000e+06     74.550000      3.000000        2.870000\n",
       "max    7.630000e+08    900.000000     19.000000      100.000000"
      ]
     },
     "execution_count": 51,
     "metadata": {},
     "output_type": "execute_result"
    }
   ],
   "source": [
    "spb_data.loc[:, ['last_price', 'total_area', 'rooms', 'ceiling_height']].describe()"
   ]
  },
  {
   "cell_type": "code",
   "execution_count": 52,
   "metadata": {
    "scrolled": true
   },
   "outputs": [
    {
     "data": {
      "text/html": [
       "<div>\n",
       "<style scoped>\n",
       "    .dataframe tbody tr th:only-of-type {\n",
       "        vertical-align: middle;\n",
       "    }\n",
       "\n",
       "    .dataframe tbody tr th {\n",
       "        vertical-align: top;\n",
       "    }\n",
       "\n",
       "    .dataframe thead th {\n",
       "        text-align: right;\n",
       "    }\n",
       "</style>\n",
       "<table border=\"1\" class=\"dataframe\">\n",
       "  <thead>\n",
       "    <tr style=\"text-align: right;\">\n",
       "      <th></th>\n",
       "      <th>last_price</th>\n",
       "      <th>rooms</th>\n",
       "      <th>first</th>\n",
       "      <th>last</th>\n",
       "      <th>else</th>\n",
       "      <th>cityCenters_nearest</th>\n",
       "      <th>weekday_exposition</th>\n",
       "      <th>month_exposition</th>\n",
       "      <th>year_exposition</th>\n",
       "    </tr>\n",
       "  </thead>\n",
       "  <tbody>\n",
       "    <tr>\n",
       "      <th>last_price</th>\n",
       "      <td>1.000000</td>\n",
       "      <td>0.303899</td>\n",
       "      <td>-0.079085</td>\n",
       "      <td>0.071329</td>\n",
       "      <td>-0.005368</td>\n",
       "      <td>-0.050683</td>\n",
       "      <td>0.026574</td>\n",
       "      <td>-0.010521</td>\n",
       "      <td>-0.031870</td>\n",
       "    </tr>\n",
       "    <tr>\n",
       "      <th>rooms</th>\n",
       "      <td>0.303899</td>\n",
       "      <td>1.000000</td>\n",
       "      <td>-0.082235</td>\n",
       "      <td>0.081444</td>\n",
       "      <td>-0.011738</td>\n",
       "      <td>-0.141932</td>\n",
       "      <td>-0.010340</td>\n",
       "      <td>-0.032876</td>\n",
       "      <td>-0.050149</td>\n",
       "    </tr>\n",
       "    <tr>\n",
       "      <th>first</th>\n",
       "      <td>-0.079085</td>\n",
       "      <td>-0.082235</td>\n",
       "      <td>1.000000</td>\n",
       "      <td>-0.169731</td>\n",
       "      <td>-0.551761</td>\n",
       "      <td>-0.056624</td>\n",
       "      <td>-0.009436</td>\n",
       "      <td>0.011375</td>\n",
       "      <td>0.032142</td>\n",
       "    </tr>\n",
       "    <tr>\n",
       "      <th>last</th>\n",
       "      <td>0.071329</td>\n",
       "      <td>0.081444</td>\n",
       "      <td>-0.169731</td>\n",
       "      <td>1.000000</td>\n",
       "      <td>-0.728250</td>\n",
       "      <td>-0.089052</td>\n",
       "      <td>0.021831</td>\n",
       "      <td>-0.012638</td>\n",
       "      <td>0.004661</td>\n",
       "    </tr>\n",
       "    <tr>\n",
       "      <th>else</th>\n",
       "      <td>-0.005368</td>\n",
       "      <td>-0.011738</td>\n",
       "      <td>-0.551761</td>\n",
       "      <td>-0.728250</td>\n",
       "      <td>1.000000</td>\n",
       "      <td>0.114739</td>\n",
       "      <td>-0.011913</td>\n",
       "      <td>0.002785</td>\n",
       "      <td>-0.026296</td>\n",
       "    </tr>\n",
       "    <tr>\n",
       "      <th>cityCenters_nearest</th>\n",
       "      <td>-0.050683</td>\n",
       "      <td>-0.141932</td>\n",
       "      <td>-0.056624</td>\n",
       "      <td>-0.089052</td>\n",
       "      <td>0.114739</td>\n",
       "      <td>1.000000</td>\n",
       "      <td>-0.011468</td>\n",
       "      <td>-0.004369</td>\n",
       "      <td>0.032187</td>\n",
       "    </tr>\n",
       "    <tr>\n",
       "      <th>weekday_exposition</th>\n",
       "      <td>0.026574</td>\n",
       "      <td>-0.010340</td>\n",
       "      <td>-0.009436</td>\n",
       "      <td>0.021831</td>\n",
       "      <td>-0.011913</td>\n",
       "      <td>-0.011468</td>\n",
       "      <td>1.000000</td>\n",
       "      <td>0.024678</td>\n",
       "      <td>0.002815</td>\n",
       "    </tr>\n",
       "    <tr>\n",
       "      <th>month_exposition</th>\n",
       "      <td>-0.010521</td>\n",
       "      <td>-0.032876</td>\n",
       "      <td>0.011375</td>\n",
       "      <td>-0.012638</td>\n",
       "      <td>0.002785</td>\n",
       "      <td>-0.004369</td>\n",
       "      <td>0.024678</td>\n",
       "      <td>1.000000</td>\n",
       "      <td>-0.241728</td>\n",
       "    </tr>\n",
       "    <tr>\n",
       "      <th>year_exposition</th>\n",
       "      <td>-0.031870</td>\n",
       "      <td>-0.050149</td>\n",
       "      <td>0.032142</td>\n",
       "      <td>0.004661</td>\n",
       "      <td>-0.026296</td>\n",
       "      <td>0.032187</td>\n",
       "      <td>0.002815</td>\n",
       "      <td>-0.241728</td>\n",
       "      <td>1.000000</td>\n",
       "    </tr>\n",
       "  </tbody>\n",
       "</table>\n",
       "</div>"
      ],
      "text/plain": [
       "                     last_price     rooms     first      last      else  \\\n",
       "last_price             1.000000  0.303899 -0.079085  0.071329 -0.005368   \n",
       "rooms                  0.303899  1.000000 -0.082235  0.081444 -0.011738   \n",
       "first                 -0.079085 -0.082235  1.000000 -0.169731 -0.551761   \n",
       "last                   0.071329  0.081444 -0.169731  1.000000 -0.728250   \n",
       "else                  -0.005368 -0.011738 -0.551761 -0.728250  1.000000   \n",
       "cityCenters_nearest   -0.050683 -0.141932 -0.056624 -0.089052  0.114739   \n",
       "weekday_exposition     0.026574 -0.010340 -0.009436  0.021831 -0.011913   \n",
       "month_exposition      -0.010521 -0.032876  0.011375 -0.012638  0.002785   \n",
       "year_exposition       -0.031870 -0.050149  0.032142  0.004661 -0.026296   \n",
       "\n",
       "                     cityCenters_nearest  weekday_exposition  \\\n",
       "last_price                     -0.050683            0.026574   \n",
       "rooms                          -0.141932           -0.010340   \n",
       "first                          -0.056624           -0.009436   \n",
       "last                           -0.089052            0.021831   \n",
       "else                            0.114739           -0.011913   \n",
       "cityCenters_nearest             1.000000           -0.011468   \n",
       "weekday_exposition             -0.011468            1.000000   \n",
       "month_exposition               -0.004369            0.024678   \n",
       "year_exposition                 0.032187            0.002815   \n",
       "\n",
       "                     month_exposition  year_exposition  \n",
       "last_price                  -0.010521        -0.031870  \n",
       "rooms                       -0.032876        -0.050149  \n",
       "first                        0.011375         0.032142  \n",
       "last                        -0.012638         0.004661  \n",
       "else                         0.002785        -0.026296  \n",
       "cityCenters_nearest         -0.004369         0.032187  \n",
       "weekday_exposition           0.024678         0.002815  \n",
       "month_exposition             1.000000        -0.241728  \n",
       "year_exposition             -0.241728         1.000000  "
      ]
     },
     "execution_count": 52,
     "metadata": {},
     "output_type": "execute_result"
    }
   ],
   "source": [
    "center_df.loc[:, ['last_price', 'rooms', 'first', 'last', 'else', 'cityCenters_nearest', 'weekday_exposition', 'month_exposition',\n",
    "       'year_exposition']].corr()"
   ]
  },
  {
   "cell_type": "code",
   "execution_count": 53,
   "metadata": {
    "scrolled": true
   },
   "outputs": [
    {
     "data": {
      "text/html": [
       "<div>\n",
       "<style scoped>\n",
       "    .dataframe tbody tr th:only-of-type {\n",
       "        vertical-align: middle;\n",
       "    }\n",
       "\n",
       "    .dataframe tbody tr th {\n",
       "        vertical-align: top;\n",
       "    }\n",
       "\n",
       "    .dataframe thead th {\n",
       "        text-align: right;\n",
       "    }\n",
       "</style>\n",
       "<table border=\"1\" class=\"dataframe\">\n",
       "  <thead>\n",
       "    <tr style=\"text-align: right;\">\n",
       "      <th></th>\n",
       "      <th>last_price</th>\n",
       "      <th>rooms</th>\n",
       "      <th>first</th>\n",
       "      <th>last</th>\n",
       "      <th>else</th>\n",
       "      <th>cityCenters_nearest</th>\n",
       "      <th>weekday_exposition</th>\n",
       "      <th>month_exposition</th>\n",
       "      <th>year_exposition</th>\n",
       "    </tr>\n",
       "  </thead>\n",
       "  <tbody>\n",
       "    <tr>\n",
       "      <th>last_price</th>\n",
       "      <td>1.000000</td>\n",
       "      <td>0.372108</td>\n",
       "      <td>-0.048811</td>\n",
       "      <td>0.065248</td>\n",
       "      <td>-0.015684</td>\n",
       "      <td>-0.257536</td>\n",
       "      <td>0.006046</td>\n",
       "      <td>-0.000022</td>\n",
       "      <td>-0.044603</td>\n",
       "    </tr>\n",
       "    <tr>\n",
       "      <th>rooms</th>\n",
       "      <td>0.372108</td>\n",
       "      <td>1.000000</td>\n",
       "      <td>0.028172</td>\n",
       "      <td>0.082096</td>\n",
       "      <td>-0.084845</td>\n",
       "      <td>-0.293029</td>\n",
       "      <td>-0.008843</td>\n",
       "      <td>-0.007859</td>\n",
       "      <td>-0.061406</td>\n",
       "    </tr>\n",
       "    <tr>\n",
       "      <th>first</th>\n",
       "      <td>-0.048811</td>\n",
       "      <td>0.028172</td>\n",
       "      <td>1.000000</td>\n",
       "      <td>-0.125466</td>\n",
       "      <td>-0.628416</td>\n",
       "      <td>-0.013269</td>\n",
       "      <td>-0.007694</td>\n",
       "      <td>-0.007357</td>\n",
       "      <td>-0.008715</td>\n",
       "    </tr>\n",
       "    <tr>\n",
       "      <th>last</th>\n",
       "      <td>0.065248</td>\n",
       "      <td>0.082096</td>\n",
       "      <td>-0.125466</td>\n",
       "      <td>1.000000</td>\n",
       "      <td>-0.692886</td>\n",
       "      <td>-0.087421</td>\n",
       "      <td>0.006403</td>\n",
       "      <td>-0.003993</td>\n",
       "      <td>-0.009743</td>\n",
       "    </tr>\n",
       "    <tr>\n",
       "      <th>else</th>\n",
       "      <td>-0.015684</td>\n",
       "      <td>-0.084845</td>\n",
       "      <td>-0.628416</td>\n",
       "      <td>-0.692886</td>\n",
       "      <td>1.000000</td>\n",
       "      <td>0.078188</td>\n",
       "      <td>0.000572</td>\n",
       "      <td>0.008478</td>\n",
       "      <td>0.013973</td>\n",
       "    </tr>\n",
       "    <tr>\n",
       "      <th>cityCenters_nearest</th>\n",
       "      <td>-0.257536</td>\n",
       "      <td>-0.293029</td>\n",
       "      <td>-0.013269</td>\n",
       "      <td>-0.087421</td>\n",
       "      <td>0.078188</td>\n",
       "      <td>1.000000</td>\n",
       "      <td>0.000382</td>\n",
       "      <td>0.007305</td>\n",
       "      <td>0.085437</td>\n",
       "    </tr>\n",
       "    <tr>\n",
       "      <th>weekday_exposition</th>\n",
       "      <td>0.006046</td>\n",
       "      <td>-0.008843</td>\n",
       "      <td>-0.007694</td>\n",
       "      <td>0.006403</td>\n",
       "      <td>0.000572</td>\n",
       "      <td>0.000382</td>\n",
       "      <td>1.000000</td>\n",
       "      <td>0.003689</td>\n",
       "      <td>-0.001939</td>\n",
       "    </tr>\n",
       "    <tr>\n",
       "      <th>month_exposition</th>\n",
       "      <td>-0.000022</td>\n",
       "      <td>-0.007859</td>\n",
       "      <td>-0.007357</td>\n",
       "      <td>-0.003993</td>\n",
       "      <td>0.008478</td>\n",
       "      <td>0.007305</td>\n",
       "      <td>0.003689</td>\n",
       "      <td>1.000000</td>\n",
       "      <td>-0.278403</td>\n",
       "    </tr>\n",
       "    <tr>\n",
       "      <th>year_exposition</th>\n",
       "      <td>-0.044603</td>\n",
       "      <td>-0.061406</td>\n",
       "      <td>-0.008715</td>\n",
       "      <td>-0.009743</td>\n",
       "      <td>0.013973</td>\n",
       "      <td>0.085437</td>\n",
       "      <td>-0.001939</td>\n",
       "      <td>-0.278403</td>\n",
       "      <td>1.000000</td>\n",
       "    </tr>\n",
       "  </tbody>\n",
       "</table>\n",
       "</div>"
      ],
      "text/plain": [
       "                     last_price     rooms     first      last      else  \\\n",
       "last_price             1.000000  0.372108 -0.048811  0.065248 -0.015684   \n",
       "rooms                  0.372108  1.000000  0.028172  0.082096 -0.084845   \n",
       "first                 -0.048811  0.028172  1.000000 -0.125466 -0.628416   \n",
       "last                   0.065248  0.082096 -0.125466  1.000000 -0.692886   \n",
       "else                  -0.015684 -0.084845 -0.628416 -0.692886  1.000000   \n",
       "cityCenters_nearest   -0.257536 -0.293029 -0.013269 -0.087421  0.078188   \n",
       "weekday_exposition     0.006046 -0.008843 -0.007694  0.006403  0.000572   \n",
       "month_exposition      -0.000022 -0.007859 -0.007357 -0.003993  0.008478   \n",
       "year_exposition       -0.044603 -0.061406 -0.008715 -0.009743  0.013973   \n",
       "\n",
       "                     cityCenters_nearest  weekday_exposition  \\\n",
       "last_price                     -0.257536            0.006046   \n",
       "rooms                          -0.293029           -0.008843   \n",
       "first                          -0.013269           -0.007694   \n",
       "last                           -0.087421            0.006403   \n",
       "else                            0.078188            0.000572   \n",
       "cityCenters_nearest             1.000000            0.000382   \n",
       "weekday_exposition              0.000382            1.000000   \n",
       "month_exposition                0.007305            0.003689   \n",
       "year_exposition                 0.085437           -0.001939   \n",
       "\n",
       "                     month_exposition  year_exposition  \n",
       "last_price                  -0.000022        -0.044603  \n",
       "rooms                       -0.007859        -0.061406  \n",
       "first                       -0.007357        -0.008715  \n",
       "last                        -0.003993        -0.009743  \n",
       "else                         0.008478         0.013973  \n",
       "cityCenters_nearest          0.007305         0.085437  \n",
       "weekday_exposition           0.003689        -0.001939  \n",
       "month_exposition             1.000000        -0.278403  \n",
       "year_exposition             -0.278403         1.000000  "
      ]
     },
     "execution_count": 53,
     "metadata": {},
     "output_type": "execute_result"
    }
   ],
   "source": [
    "spb_data.loc[:, ['last_price', 'rooms', 'first', 'last', 'else', 'cityCenters_nearest', 'weekday_exposition', 'month_exposition',\n",
    "       'year_exposition']].corr()"
   ]
  },
  {
   "cell_type": "markdown",
   "metadata": {},
   "source": [
    "**Вывод:**\n",
    "\n",
    "1. Изучая параметры по центру Санкт-Петербурга и по всему городу, можно заметить, что все изученные параметры(цена, площадь, количество комнат и высота потолков) имеют большие значения, чем по всему городу. \n",
    "\n",
    "2. Что касается зависимостей, то стоит отметить, что на цену в центре влияют следующие показатели: количество комнат, последний ли этаж, день недели размещения. Если смотреть на зависимости по всему городу, то в этот список стоит добавить еще и месяц размещения, но влияние очень маленькое. Что для центра и что для города в целом, большее значение имеет количество комнат. Также стоит отметить, что при размещении в центре города, последний этаж играет большую роль, чем по городу в целом при опредлении уены продажи. "
   ]
  },
  {
   "cell_type": "markdown",
   "metadata": {},
   "source": [
    "**Визуализация данных по параметру 'цена'**"
   ]
  },
  {
   "cell_type": "code",
   "execution_count": 54,
   "metadata": {
    "scrolled": false
   },
   "outputs": [
    {
     "data": {
      "text/plain": [
       "<AxesSubplot:ylabel='Frequency'>"
      ]
     },
     "execution_count": 54,
     "metadata": {},
     "output_type": "execute_result"
    },
    {
     "data": {
      "image/png": "[encoded data removed]",
      "text/plain": [
       "<Figure size 432x288 with 1 Axes>"
      ]
     },
     "metadata": {
      "needs_background": "light"
     },
     "output_type": "display_data"
    }
   ],
   "source": [
    "center_hist_last_price = center_df.plot(\n",
    "    kind='hist', \n",
    "    y='last_price', \n",
    "    histtype='step', \n",
    "    bins = 150,\n",
    "    range = (20000, 15000000),\n",
    "    linewidth=1,\n",
    "    alpha=0.7,\n",
    "    label='center of spb'\n",
    ")\n",
    "\n",
    "spb_data.plot(\n",
    "    kind='hist',\n",
    "    y='last_price',\n",
    "    histtype='step',\n",
    "    bins=150,\n",
    "    range = (20000, 15000000),\n",
    "    linewidth=1,\n",
    "    alpha=0.7,\n",
    "    label='total spb',\n",
    "    ax=center_hist_last_price ,\n",
    "    grid=True,\n",
    "    legend=True\n",
    ")"
   ]
  },
  {
   "cell_type": "markdown",
   "metadata": {},
   "source": [
    "**Визуализация данных по параметру 'площадь'**"
   ]
  },
  {
   "cell_type": "code",
   "execution_count": 55,
   "metadata": {
    "scrolled": true
   },
   "outputs": [
    {
     "data": {
      "text/plain": [
       "<AxesSubplot:ylabel='Frequency'>"
      ]
     },
     "execution_count": 55,
     "metadata": {},
     "output_type": "execute_result"
    },
    {
     "data": {
      "image/png": "[encoded data removed]",
      "text/plain": [
       "<Figure size 432x288 with 1 Axes>"
      ]
     },
     "metadata": {
      "needs_background": "light"
     },
     "output_type": "display_data"
    }
   ],
   "source": [
    "center_hist_total_area = center_df.plot(\n",
    "    kind='hist', \n",
    "    y='total_area', \n",
    "    histtype='step', \n",
    "    bins = 150,\n",
    "    range=(0, 250),\n",
    "    linewidth=1,\n",
    "    alpha=0.7,\n",
    "    label='center of spb'\n",
    ")\n",
    "\n",
    "spb_data.plot(\n",
    "    kind='hist',\n",
    "    y='total_area',\n",
    "    histtype='step',\n",
    "    bins=150,\n",
    "    range=(0, 250),\n",
    "    linewidth=1,\n",
    "    alpha=0.7,\n",
    "    label='total spb',\n",
    "    ax=center_hist_total_area,\n",
    "    grid=True,\n",
    "    legend=True\n",
    ")"
   ]
  },
  {
   "cell_type": "markdown",
   "metadata": {},
   "source": [
    "**Визуализация данных по параметру 'количество комнат'**"
   ]
  },
  {
   "cell_type": "code",
   "execution_count": 56,
   "metadata": {
    "scrolled": false
   },
   "outputs": [
    {
     "data": {
      "text/plain": [
       "<AxesSubplot:ylabel='Frequency'>"
      ]
     },
     "execution_count": 56,
     "metadata": {},
     "output_type": "execute_result"
    },
    {
     "data": {
      "image/png": "[encoded data removed]",
      "text/plain": [
       "<Figure size 432x288 with 1 Axes>"
      ]
     },
     "metadata": {
      "needs_background": "light"
     },
     "output_type": "display_data"
    }
   ],
   "source": [
    "center_hist_rooms = center_df.plot(\n",
    "    kind='hist', \n",
    "    y='rooms', \n",
    "    histtype='step', \n",
    "    bins = 15,\n",
    "    range=(0, 10),\n",
    "    linewidth=5,\n",
    "    alpha=0.7,\n",
    "    label='center of spb'\n",
    ")\n",
    "\n",
    "spb_data.plot(\n",
    "    kind='hist',\n",
    "    y='rooms',\n",
    "    histtype='step',\n",
    "    bins=15,\n",
    "    range=(0, 10),\n",
    "    linewidth=5,\n",
    "    alpha=0.7,\n",
    "    label='total spb',\n",
    "    ax=center_hist_rooms,\n",
    "    grid=True,\n",
    "    legend=True\n",
    ")"
   ]
  },
  {
   "cell_type": "markdown",
   "metadata": {},
   "source": [
    "**Визуализация данных по параметру 'высота потолков'**"
   ]
  },
  {
   "cell_type": "code",
   "execution_count": 57,
   "metadata": {},
   "outputs": [
    {
     "data": {
      "text/plain": [
       "<AxesSubplot:ylabel='Frequency'>"
      ]
     },
     "execution_count": 57,
     "metadata": {},
     "output_type": "execute_result"
    },
    {
     "data": {
      "image/png": "[encoded data removed]",
      "text/plain": [
       "<Figure size 432x288 with 1 Axes>"
      ]
     },
     "metadata": {
      "needs_background": "light"
     },
     "output_type": "display_data"
    }
   ],
   "source": [
    "center_hist_ceiling_height = center_df.plot(\n",
    "    kind='hist', \n",
    "    y='ceiling_height', \n",
    "    histtype='step', \n",
    "    bins = 50,\n",
    "    range=(2, 5),\n",
    "    linewidth=3,\n",
    "    alpha=0.6,\n",
    "    label='center of spb'\n",
    ")\n",
    "\n",
    "spb_data.plot(\n",
    "    kind='hist',\n",
    "    y='ceiling_height',\n",
    "    histtype='step',\n",
    "    bins=50,\n",
    "    range=(2, 5),\n",
    "    linewidth=3,\n",
    "    alpha=0.6,\n",
    "    label='total spb',\n",
    "    ax=center_hist_ceiling_height,\n",
    "    grid=True,\n",
    "    legend=True\n",
    ")"
   ]
  },
  {
   "cell_type": "markdown",
   "metadata": {},
   "source": [
    "**Вывод:**\n",
    "\n",
    "1. Изучая параметры по центру Санкт-Петербурга и по всему городу, можно заметить, что все изученные параметры(цена, площадь, количество комнат и высота потолков) имеют большие значения, чем по всему городу. \n",
    "\n",
    "2. Что касается зависимостей, то стоит отметить, что на цену в центре влияют следующие показатели: количество комнат, последний ли этаж, день недели размещения. Если смотреть на зависимости по всему городу, то в этот список стоит добавить еще и месяц размещения, но влияние очень маленькое. Что для центра и что для города в целом, большее значение имеет количество комнат. Также стоит отметить, что при размещении в центре города, последний этаж играет большую роль, чем по городу в целом при опредлении уены продажи. "
   ]
  },
  {
   "cell_type": "markdown",
   "metadata": {},
   "source": [
    "## Общий вывод"
   ]
  },
  {
   "cell_type": "markdown",
   "metadata": {},
   "source": [
    "Был проведён исследовательский анализ архива объявлений о продаже квартир в Санкт-Петербурге и соседних населённых пунктах за несколько лет. Перед провдением самого анализа была произведена предобработка данных: устранены пропуски, где это было возможно, изменён тип данных для удобства дальнейшей работы с даннными. К сожалению, не все пропуски удалось заполнить: из-за аномалий в значений или просто не удалось установить взаимосвязь для устранения пропусков в другими параметрами. Если бы мы хотели заполнить все пропуски, нам бы стоило обратиться к сотрудникам, которые предоставили данный датасет для выявления таких проблем. Затем были произвдены расчёты для дальнейшего исследования: цена за 1 квадратный метр, дата публикации, категоризация этажа квартиры, соотношние жилой площади/кухни и общей площади. \n",
    "\n",
    "Проведя исследовательский анализ, мы получили следующие результаты. В среднем площадь недвижимости составляет 36 кв. м, цена - 6.5 млн, а на рынке преобладают одно- и двухкомнатные квартиры. В среднем квартира продается за 180 дней. 50% квартир были проданы менее: чем за 95 дней. При значении больше 232 можно считать, что продажии шли очень долго, меньше 45 дней - очень быстро. В данных имелось достаточное количество выбросов, которые были устранены, значения медианны и средней после данной манипуляции сместились. Средняя цена уменьшилась до 5,64 млн, а средняя площадь, наоборот, увеличилась до 56 кв. м. Далее изучили, какие параметры влияют на цену квартиры. На цену квартиры влияет общая площадь помещения и количество комнат. Изучая населенные пункты, мы отметили, что в Санкт-Петербуге самая высокая цена за один квадратный метр, а в Выборге самая низкая. Следующим этапом выяснили, что в центр Санкт-Петербурга входит область радиусом 6 км. И вот после этого проанализировали параметры по центру города и города в целом. И получили, что все изученные параметры(цена, площадь, количество комнат и высота потолков) имеют большие значения, чем по всему городу."
   ]
  }
 ],
 "metadata": {
  "ExecuteTimeLog": [
   {
    "duration": 761,
    "start_time": "2022-02-09T19:19:28.916Z"
   },
   {
    "duration": 93,
    "start_time": "2022-02-09T19:19:29.680Z"
   },
   {
    "duration": 81,
    "start_time": "2022-02-09T19:20:06.213Z"
   },
   {
    "duration": 4,
    "start_time": "2022-02-09T19:32:37.002Z"
   },
   {
    "duration": 129,
    "start_time": "2022-02-09T19:32:37.009Z"
   },
   {
    "duration": 74,
    "start_time": "2022-02-09T19:32:54.915Z"
   },
   {
    "duration": 96,
    "start_time": "2022-02-09T19:33:07.977Z"
   },
   {
    "duration": 123,
    "start_time": "2022-02-09T19:34:06.337Z"
   },
   {
    "duration": 115,
    "start_time": "2022-02-09T19:35:39.787Z"
   },
   {
    "duration": 17,
    "start_time": "2022-02-09T19:39:17.606Z"
   },
   {
    "duration": 14,
    "start_time": "2022-02-09T19:44:53.671Z"
   },
   {
    "duration": 13,
    "start_time": "2022-02-09T21:11:38.310Z"
   },
   {
    "duration": 10,
    "start_time": "2022-02-09T21:13:00.106Z"
   },
   {
    "duration": 545,
    "start_time": "2022-02-10T18:52:08.734Z"
   },
   {
    "duration": 87,
    "start_time": "2022-02-10T18:52:09.281Z"
   },
   {
    "duration": 10,
    "start_time": "2022-02-10T18:52:09.370Z"
   },
   {
    "duration": 8,
    "start_time": "2022-02-10T18:52:09.381Z"
   },
   {
    "duration": 24,
    "start_time": "2022-02-10T18:52:09.391Z"
   },
   {
    "duration": 257,
    "start_time": "2022-02-10T18:52:33.557Z"
   },
   {
    "duration": 9,
    "start_time": "2022-02-10T18:52:38.688Z"
   },
   {
    "duration": 576,
    "start_time": "2022-02-12T21:04:30.207Z"
   },
   {
    "duration": 95,
    "start_time": "2022-02-12T21:04:30.785Z"
   },
   {
    "duration": 11,
    "start_time": "2022-02-12T21:04:30.882Z"
   },
   {
    "duration": 8,
    "start_time": "2022-02-12T21:04:30.894Z"
   },
   {
    "duration": 9,
    "start_time": "2022-02-12T21:04:30.904Z"
   },
   {
    "duration": 4,
    "start_time": "2022-02-12T21:09:57.875Z"
   },
   {
    "duration": 9,
    "start_time": "2022-02-12T21:10:10.016Z"
   },
   {
    "duration": 4,
    "start_time": "2022-02-12T21:11:55.206Z"
   },
   {
    "duration": 2,
    "start_time": "2022-02-12T21:39:41.659Z"
   },
   {
    "duration": 79,
    "start_time": "2022-02-12T21:39:41.663Z"
   },
   {
    "duration": 9,
    "start_time": "2022-02-12T21:39:41.743Z"
   },
   {
    "duration": 8,
    "start_time": "2022-02-12T21:39:41.754Z"
   },
   {
    "duration": 3,
    "start_time": "2022-02-12T21:39:41.772Z"
   },
   {
    "duration": 4,
    "start_time": "2022-02-12T21:39:41.777Z"
   },
   {
    "duration": 4,
    "start_time": "2022-02-12T21:39:41.783Z"
   },
   {
    "duration": 4,
    "start_time": "2022-02-12T21:40:11.896Z"
   },
   {
    "duration": 2,
    "start_time": "2022-02-12T21:40:18.162Z"
   },
   {
    "duration": 83,
    "start_time": "2022-02-12T21:40:18.167Z"
   },
   {
    "duration": 9,
    "start_time": "2022-02-12T21:40:18.251Z"
   },
   {
    "duration": 11,
    "start_time": "2022-02-12T21:40:18.263Z"
   },
   {
    "duration": 3,
    "start_time": "2022-02-12T21:40:18.275Z"
   },
   {
    "duration": 7,
    "start_time": "2022-02-12T21:40:18.280Z"
   },
   {
    "duration": 4,
    "start_time": "2022-02-12T21:40:18.289Z"
   },
   {
    "duration": 8,
    "start_time": "2022-02-12T21:41:06.686Z"
   },
   {
    "duration": 9,
    "start_time": "2022-02-12T21:41:27.576Z"
   },
   {
    "duration": 367,
    "start_time": "2022-02-12T21:42:25.105Z"
   },
   {
    "duration": 3,
    "start_time": "2022-02-12T21:42:30.214Z"
   },
   {
    "duration": 85,
    "start_time": "2022-02-12T21:42:30.219Z"
   },
   {
    "duration": 8,
    "start_time": "2022-02-12T21:42:30.306Z"
   },
   {
    "duration": 8,
    "start_time": "2022-02-12T21:42:30.316Z"
   },
   {
    "duration": 3,
    "start_time": "2022-02-12T21:42:30.326Z"
   },
   {
    "duration": 7,
    "start_time": "2022-02-12T21:42:30.330Z"
   },
   {
    "duration": 8,
    "start_time": "2022-02-12T21:42:30.338Z"
   },
   {
    "duration": 384,
    "start_time": "2022-02-12T21:42:30.372Z"
   },
   {
    "duration": 37,
    "start_time": "2022-02-12T21:45:09.496Z"
   },
   {
    "duration": 334,
    "start_time": "2022-02-12T21:59:29.944Z"
   },
   {
    "duration": 7,
    "start_time": "2022-02-12T22:01:59.563Z"
   },
   {
    "duration": 2,
    "start_time": "2022-02-12T22:02:03.938Z"
   },
   {
    "duration": 80,
    "start_time": "2022-02-12T22:02:03.942Z"
   },
   {
    "duration": 9,
    "start_time": "2022-02-12T22:02:04.024Z"
   },
   {
    "duration": 8,
    "start_time": "2022-02-12T22:02:04.034Z"
   },
   {
    "duration": 3,
    "start_time": "2022-02-12T22:02:04.043Z"
   },
   {
    "duration": 25,
    "start_time": "2022-02-12T22:02:04.048Z"
   },
   {
    "duration": 4,
    "start_time": "2022-02-12T22:02:04.075Z"
   },
   {
    "duration": 4,
    "start_time": "2022-02-12T22:02:04.081Z"
   },
   {
    "duration": 42,
    "start_time": "2022-02-12T22:02:04.087Z"
   },
   {
    "duration": 4,
    "start_time": "2022-02-12T22:02:31.349Z"
   },
   {
    "duration": 37,
    "start_time": "2022-02-12T22:02:31.884Z"
   },
   {
    "duration": 2,
    "start_time": "2022-02-12T22:02:36.810Z"
   },
   {
    "duration": 84,
    "start_time": "2022-02-12T22:02:36.816Z"
   },
   {
    "duration": 10,
    "start_time": "2022-02-12T22:02:36.901Z"
   },
   {
    "duration": 8,
    "start_time": "2022-02-12T22:02:36.913Z"
   },
   {
    "duration": 3,
    "start_time": "2022-02-12T22:02:36.923Z"
   },
   {
    "duration": 6,
    "start_time": "2022-02-12T22:02:36.927Z"
   },
   {
    "duration": 5,
    "start_time": "2022-02-12T22:02:36.934Z"
   },
   {
    "duration": 32,
    "start_time": "2022-02-12T22:02:36.940Z"
   },
   {
    "duration": 42,
    "start_time": "2022-02-12T22:02:36.973Z"
   },
   {
    "duration": 3,
    "start_time": "2022-02-12T22:03:22.270Z"
   },
   {
    "duration": 78,
    "start_time": "2022-02-12T22:03:22.275Z"
   },
   {
    "duration": 20,
    "start_time": "2022-02-12T22:03:22.355Z"
   },
   {
    "duration": 8,
    "start_time": "2022-02-12T22:03:22.376Z"
   },
   {
    "duration": 3,
    "start_time": "2022-02-12T22:03:22.385Z"
   },
   {
    "duration": 5,
    "start_time": "2022-02-12T22:03:22.389Z"
   },
   {
    "duration": 5,
    "start_time": "2022-02-12T22:03:22.396Z"
   },
   {
    "duration": 5,
    "start_time": "2022-02-12T22:03:22.403Z"
   },
   {
    "duration": 70,
    "start_time": "2022-02-12T22:03:22.410Z"
   },
   {
    "duration": 3,
    "start_time": "2022-02-12T22:11:53.745Z"
   },
   {
    "duration": 79,
    "start_time": "2022-02-12T22:11:53.749Z"
   },
   {
    "duration": 8,
    "start_time": "2022-02-12T22:11:53.830Z"
   },
   {
    "duration": 7,
    "start_time": "2022-02-12T22:11:53.840Z"
   },
   {
    "duration": 3,
    "start_time": "2022-02-12T22:11:53.848Z"
   },
   {
    "duration": 20,
    "start_time": "2022-02-12T22:11:53.852Z"
   },
   {
    "duration": 4,
    "start_time": "2022-02-12T22:11:53.873Z"
   },
   {
    "duration": 5,
    "start_time": "2022-02-12T22:11:53.879Z"
   },
   {
    "duration": 25,
    "start_time": "2022-02-12T22:11:53.885Z"
   },
   {
    "duration": 36,
    "start_time": "2022-02-12T22:11:53.911Z"
   },
   {
    "duration": 11,
    "start_time": "2022-02-12T22:12:30.538Z"
   },
   {
    "duration": 2,
    "start_time": "2022-02-12T22:13:43.233Z"
   },
   {
    "duration": 82,
    "start_time": "2022-02-12T22:13:43.237Z"
   },
   {
    "duration": 10,
    "start_time": "2022-02-12T22:13:43.320Z"
   },
   {
    "duration": 7,
    "start_time": "2022-02-12T22:13:43.331Z"
   },
   {
    "duration": 2,
    "start_time": "2022-02-12T22:13:43.340Z"
   },
   {
    "duration": 6,
    "start_time": "2022-02-12T22:13:43.344Z"
   },
   {
    "duration": 21,
    "start_time": "2022-02-12T22:13:43.351Z"
   },
   {
    "duration": 5,
    "start_time": "2022-02-12T22:13:43.374Z"
   },
   {
    "duration": 26,
    "start_time": "2022-02-12T22:13:43.381Z"
   },
   {
    "duration": 30,
    "start_time": "2022-02-12T22:13:43.408Z"
   },
   {
    "duration": 53,
    "start_time": "2022-02-12T22:13:43.440Z"
   },
   {
    "duration": 29,
    "start_time": "2022-02-12T22:14:53.196Z"
   },
   {
    "duration": 300,
    "start_time": "2022-02-12T22:15:46.925Z"
   },
   {
    "duration": 3,
    "start_time": "2022-02-12T22:15:52.043Z"
   },
   {
    "duration": 81,
    "start_time": "2022-02-12T22:15:52.049Z"
   },
   {
    "duration": 10,
    "start_time": "2022-02-12T22:15:52.132Z"
   },
   {
    "duration": 7,
    "start_time": "2022-02-12T22:15:52.143Z"
   },
   {
    "duration": 3,
    "start_time": "2022-02-12T22:15:52.152Z"
   },
   {
    "duration": 4,
    "start_time": "2022-02-12T22:15:52.171Z"
   },
   {
    "duration": 4,
    "start_time": "2022-02-12T22:15:52.176Z"
   },
   {
    "duration": 5,
    "start_time": "2022-02-12T22:15:52.182Z"
   },
   {
    "duration": 25,
    "start_time": "2022-02-12T22:15:52.189Z"
   },
   {
    "duration": 7,
    "start_time": "2022-02-12T22:15:52.216Z"
   },
   {
    "duration": 309,
    "start_time": "2022-02-12T22:15:52.225Z"
   },
   {
    "duration": -95,
    "start_time": "2022-02-12T22:15:52.631Z"
   },
   {
    "duration": 6,
    "start_time": "2022-02-12T22:16:03.537Z"
   },
   {
    "duration": 3,
    "start_time": "2022-02-12T22:17:14.386Z"
   },
   {
    "duration": 79,
    "start_time": "2022-02-12T22:17:14.391Z"
   },
   {
    "duration": 9,
    "start_time": "2022-02-12T22:17:14.472Z"
   },
   {
    "duration": 7,
    "start_time": "2022-02-12T22:17:14.482Z"
   },
   {
    "duration": 3,
    "start_time": "2022-02-12T22:17:14.491Z"
   },
   {
    "duration": 4,
    "start_time": "2022-02-12T22:17:14.495Z"
   },
   {
    "duration": 4,
    "start_time": "2022-02-12T22:17:14.500Z"
   },
   {
    "duration": 6,
    "start_time": "2022-02-12T22:17:14.505Z"
   },
   {
    "duration": 28,
    "start_time": "2022-02-12T22:17:14.513Z"
   },
   {
    "duration": 337,
    "start_time": "2022-02-12T22:17:14.542Z"
   },
   {
    "duration": -86,
    "start_time": "2022-02-12T22:17:14.967Z"
   },
   {
    "duration": -87,
    "start_time": "2022-02-12T22:17:14.969Z"
   },
   {
    "duration": 9,
    "start_time": "2022-02-12T22:18:18.513Z"
   },
   {
    "duration": 3,
    "start_time": "2022-02-12T22:18:22.499Z"
   },
   {
    "duration": 83,
    "start_time": "2022-02-12T22:18:22.504Z"
   },
   {
    "duration": 9,
    "start_time": "2022-02-12T22:18:22.589Z"
   },
   {
    "duration": 8,
    "start_time": "2022-02-12T22:18:22.599Z"
   },
   {
    "duration": 3,
    "start_time": "2022-02-12T22:18:22.609Z"
   },
   {
    "duration": 8,
    "start_time": "2022-02-12T22:18:22.613Z"
   },
   {
    "duration": 5,
    "start_time": "2022-02-12T22:18:22.622Z"
   },
   {
    "duration": 9,
    "start_time": "2022-02-12T22:18:22.628Z"
   },
   {
    "duration": 48,
    "start_time": "2022-02-12T22:18:22.639Z"
   },
   {
    "duration": 9,
    "start_time": "2022-02-12T22:18:22.689Z"
   },
   {
    "duration": 8,
    "start_time": "2022-02-12T22:18:22.700Z"
   },
   {
    "duration": 66,
    "start_time": "2022-02-12T22:18:22.710Z"
   },
   {
    "duration": 34,
    "start_time": "2022-02-12T22:19:04.674Z"
   },
   {
    "duration": 2,
    "start_time": "2022-02-12T22:36:23.763Z"
   },
   {
    "duration": 79,
    "start_time": "2022-02-12T22:36:23.769Z"
   },
   {
    "duration": 10,
    "start_time": "2022-02-12T22:36:23.851Z"
   },
   {
    "duration": 14,
    "start_time": "2022-02-12T22:36:23.863Z"
   },
   {
    "duration": 4,
    "start_time": "2022-02-12T22:36:23.878Z"
   },
   {
    "duration": 4,
    "start_time": "2022-02-12T22:36:23.883Z"
   },
   {
    "duration": 4,
    "start_time": "2022-02-12T22:36:23.889Z"
   },
   {
    "duration": 35,
    "start_time": "2022-02-12T22:36:23.895Z"
   },
   {
    "duration": 3,
    "start_time": "2022-02-12T22:39:20.122Z"
   },
   {
    "duration": 103,
    "start_time": "2022-02-12T22:39:20.126Z"
   },
   {
    "duration": 11,
    "start_time": "2022-02-12T22:39:20.231Z"
   },
   {
    "duration": 18,
    "start_time": "2022-02-12T22:39:20.243Z"
   },
   {
    "duration": 3,
    "start_time": "2022-02-12T22:39:20.271Z"
   },
   {
    "duration": 10,
    "start_time": "2022-02-12T22:39:20.276Z"
   },
   {
    "duration": 17,
    "start_time": "2022-02-12T22:39:20.287Z"
   },
   {
    "duration": 55,
    "start_time": "2022-02-12T22:39:20.305Z"
   },
   {
    "duration": 5,
    "start_time": "2022-02-12T22:45:17.939Z"
   },
   {
    "duration": 2,
    "start_time": "2022-02-12T22:48:14.575Z"
   },
   {
    "duration": 90,
    "start_time": "2022-02-12T22:48:14.581Z"
   },
   {
    "duration": 9,
    "start_time": "2022-02-12T22:48:14.672Z"
   },
   {
    "duration": 7,
    "start_time": "2022-02-12T22:48:14.682Z"
   },
   {
    "duration": 3,
    "start_time": "2022-02-12T22:48:14.691Z"
   },
   {
    "duration": 5,
    "start_time": "2022-02-12T22:48:14.695Z"
   },
   {
    "duration": 5,
    "start_time": "2022-02-12T22:48:14.701Z"
   },
   {
    "duration": 36,
    "start_time": "2022-02-12T22:48:14.707Z"
   },
   {
    "duration": 243,
    "start_time": "2022-02-12T22:48:14.773Z"
   },
   {
    "duration": 226,
    "start_time": "2022-02-12T22:48:36.383Z"
   },
   {
    "duration": 233,
    "start_time": "2022-02-12T22:58:37.234Z"
   },
   {
    "duration": 274,
    "start_time": "2022-02-12T22:58:58.517Z"
   },
   {
    "duration": 263,
    "start_time": "2022-02-12T22:59:09.851Z"
   },
   {
    "duration": 304,
    "start_time": "2022-02-12T22:59:18.112Z"
   },
   {
    "duration": 355,
    "start_time": "2022-02-12T22:59:26.352Z"
   },
   {
    "duration": 348,
    "start_time": "2022-02-12T23:00:12.943Z"
   },
   {
    "duration": 376,
    "start_time": "2022-02-12T23:00:24.919Z"
   },
   {
    "duration": 27,
    "start_time": "2022-02-12T23:24:32.973Z"
   },
   {
    "duration": 299,
    "start_time": "2022-02-12T23:25:33.677Z"
   },
   {
    "duration": 297,
    "start_time": "2022-02-12T23:26:22.116Z"
   },
   {
    "duration": 36,
    "start_time": "2022-02-12T23:26:27.833Z"
   },
   {
    "duration": 16,
    "start_time": "2022-02-12T23:26:57.604Z"
   },
   {
    "duration": 22,
    "start_time": "2022-02-12T23:27:16.564Z"
   },
   {
    "duration": 319,
    "start_time": "2022-02-12T23:28:04.783Z"
   },
   {
    "duration": 310,
    "start_time": "2022-02-12T23:28:27.822Z"
   },
   {
    "duration": 2,
    "start_time": "2022-02-12T23:28:56.673Z"
   },
   {
    "duration": 95,
    "start_time": "2022-02-12T23:28:56.679Z"
   },
   {
    "duration": 10,
    "start_time": "2022-02-12T23:28:56.776Z"
   },
   {
    "duration": 7,
    "start_time": "2022-02-12T23:28:56.788Z"
   },
   {
    "duration": 3,
    "start_time": "2022-02-12T23:28:56.797Z"
   },
   {
    "duration": 4,
    "start_time": "2022-02-12T23:28:56.802Z"
   },
   {
    "duration": 4,
    "start_time": "2022-02-12T23:28:56.807Z"
   },
   {
    "duration": 72,
    "start_time": "2022-02-12T23:28:56.813Z"
   },
   {
    "duration": 395,
    "start_time": "2022-02-12T23:28:56.888Z"
   },
   {
    "duration": 12,
    "start_time": "2022-02-12T23:28:57.272Z"
   },
   {
    "duration": 10,
    "start_time": "2022-02-12T23:28:57.275Z"
   },
   {
    "duration": 111,
    "start_time": "2022-02-12T23:29:15.637Z"
   },
   {
    "duration": 97,
    "start_time": "2022-02-12T23:29:47.921Z"
   },
   {
    "duration": 6,
    "start_time": "2022-02-12T23:30:02.598Z"
   },
   {
    "duration": 3,
    "start_time": "2022-02-12T23:32:47.243Z"
   },
   {
    "duration": 97,
    "start_time": "2022-02-12T23:32:47.247Z"
   },
   {
    "duration": 10,
    "start_time": "2022-02-12T23:32:47.346Z"
   },
   {
    "duration": 8,
    "start_time": "2022-02-12T23:32:47.371Z"
   },
   {
    "duration": 3,
    "start_time": "2022-02-12T23:32:47.381Z"
   },
   {
    "duration": 4,
    "start_time": "2022-02-12T23:32:47.386Z"
   },
   {
    "duration": 3,
    "start_time": "2022-02-12T23:32:47.393Z"
   },
   {
    "duration": 39,
    "start_time": "2022-02-12T23:32:47.398Z"
   },
   {
    "duration": 6,
    "start_time": "2022-02-12T23:32:47.439Z"
   },
   {
    "duration": 102,
    "start_time": "2022-02-12T23:32:47.472Z"
   },
   {
    "duration": -84,
    "start_time": "2022-02-12T23:32:47.660Z"
   },
   {
    "duration": -86,
    "start_time": "2022-02-12T23:32:47.663Z"
   },
   {
    "duration": 342,
    "start_time": "2022-02-12T23:32:54.317Z"
   },
   {
    "duration": 2220,
    "start_time": "2022-02-12T23:33:07.770Z"
   },
   {
    "duration": 333,
    "start_time": "2022-02-12T23:33:30.411Z"
   },
   {
    "duration": 356,
    "start_time": "2022-02-12T23:34:11.900Z"
   },
   {
    "duration": 327,
    "start_time": "2022-02-12T23:34:18.889Z"
   },
   {
    "duration": 744,
    "start_time": "2022-02-12T23:35:29.117Z"
   },
   {
    "duration": 3787,
    "start_time": "2022-02-12T23:36:00.628Z"
   },
   {
    "duration": 3,
    "start_time": "2022-02-12T23:36:06.370Z"
   },
   {
    "duration": 94,
    "start_time": "2022-02-12T23:36:06.374Z"
   },
   {
    "duration": 9,
    "start_time": "2022-02-12T23:36:06.470Z"
   },
   {
    "duration": 7,
    "start_time": "2022-02-12T23:36:06.481Z"
   },
   {
    "duration": 3,
    "start_time": "2022-02-12T23:36:06.489Z"
   },
   {
    "duration": 5,
    "start_time": "2022-02-12T23:36:06.493Z"
   },
   {
    "duration": 4,
    "start_time": "2022-02-12T23:36:06.500Z"
   },
   {
    "duration": 36,
    "start_time": "2022-02-12T23:36:06.505Z"
   },
   {
    "duration": 32,
    "start_time": "2022-02-12T23:36:06.543Z"
   },
   {
    "duration": 2329,
    "start_time": "2022-02-12T23:36:06.577Z"
   },
   {
    "duration": -124,
    "start_time": "2022-02-12T23:36:09.032Z"
   },
   {
    "duration": -126,
    "start_time": "2022-02-12T23:36:09.035Z"
   },
   {
    "duration": 2249,
    "start_time": "2022-02-12T23:38:54.802Z"
   },
   {
    "duration": 325,
    "start_time": "2022-02-12T23:39:13.233Z"
   },
   {
    "duration": 2182,
    "start_time": "2022-02-12T23:39:20.749Z"
   },
   {
    "duration": 116,
    "start_time": "2022-02-12T23:39:57.889Z"
   },
   {
    "duration": 11,
    "start_time": "2022-02-12T23:40:03.235Z"
   },
   {
    "duration": 11,
    "start_time": "2022-02-12T23:40:14.648Z"
   },
   {
    "duration": 383,
    "start_time": "2022-02-12T23:40:27.647Z"
   },
   {
    "duration": 309,
    "start_time": "2022-02-12T23:41:54.089Z"
   },
   {
    "duration": 2,
    "start_time": "2022-02-12T23:42:09.293Z"
   },
   {
    "duration": 92,
    "start_time": "2022-02-12T23:42:09.301Z"
   },
   {
    "duration": 12,
    "start_time": "2022-02-12T23:42:09.395Z"
   },
   {
    "duration": 8,
    "start_time": "2022-02-12T23:42:09.409Z"
   },
   {
    "duration": 3,
    "start_time": "2022-02-12T23:42:09.419Z"
   },
   {
    "duration": 4,
    "start_time": "2022-02-12T23:42:09.424Z"
   },
   {
    "duration": 4,
    "start_time": "2022-02-12T23:42:09.430Z"
   },
   {
    "duration": 71,
    "start_time": "2022-02-12T23:42:09.435Z"
   },
   {
    "duration": 5,
    "start_time": "2022-02-12T23:42:09.509Z"
   },
   {
    "duration": 307,
    "start_time": "2022-02-12T23:42:09.516Z"
   },
   {
    "duration": -13,
    "start_time": "2022-02-12T23:42:09.838Z"
   },
   {
    "duration": -14,
    "start_time": "2022-02-12T23:42:09.840Z"
   },
   {
    "duration": 102,
    "start_time": "2022-02-12T23:42:48.103Z"
   },
   {
    "duration": 305,
    "start_time": "2022-02-12T23:42:54.357Z"
   },
   {
    "duration": 11,
    "start_time": "2022-02-12T23:47:55.244Z"
   },
   {
    "duration": 31,
    "start_time": "2022-02-12T23:48:59.784Z"
   },
   {
    "duration": 2,
    "start_time": "2022-02-12T23:49:02.749Z"
   },
   {
    "duration": 93,
    "start_time": "2022-02-12T23:49:02.753Z"
   },
   {
    "duration": 10,
    "start_time": "2022-02-12T23:49:02.848Z"
   },
   {
    "duration": 16,
    "start_time": "2022-02-12T23:49:02.859Z"
   },
   {
    "duration": 3,
    "start_time": "2022-02-12T23:49:02.876Z"
   },
   {
    "duration": 4,
    "start_time": "2022-02-12T23:49:02.881Z"
   },
   {
    "duration": 4,
    "start_time": "2022-02-12T23:49:02.887Z"
   },
   {
    "duration": 37,
    "start_time": "2022-02-12T23:49:02.892Z"
   },
   {
    "duration": 5,
    "start_time": "2022-02-12T23:49:02.930Z"
   },
   {
    "duration": 60,
    "start_time": "2022-02-12T23:49:02.937Z"
   },
   {
    "duration": 298,
    "start_time": "2022-02-12T23:49:02.998Z"
   },
   {
    "duration": -25,
    "start_time": "2022-02-12T23:49:03.323Z"
   },
   {
    "duration": -27,
    "start_time": "2022-02-12T23:49:03.326Z"
   },
   {
    "duration": 3,
    "start_time": "2022-02-12T23:50:01.851Z"
   },
   {
    "duration": 103,
    "start_time": "2022-02-12T23:50:01.856Z"
   },
   {
    "duration": 10,
    "start_time": "2022-02-12T23:50:01.961Z"
   },
   {
    "duration": 8,
    "start_time": "2022-02-12T23:50:01.973Z"
   },
   {
    "duration": 3,
    "start_time": "2022-02-12T23:50:01.983Z"
   },
   {
    "duration": 7,
    "start_time": "2022-02-12T23:50:01.987Z"
   },
   {
    "duration": 9,
    "start_time": "2022-02-12T23:50:01.996Z"
   },
   {
    "duration": 40,
    "start_time": "2022-02-12T23:50:02.007Z"
   },
   {
    "duration": 28,
    "start_time": "2022-02-12T23:50:02.048Z"
   },
   {
    "duration": 302,
    "start_time": "2022-02-12T23:50:02.078Z"
   },
   {
    "duration": -88,
    "start_time": "2022-02-12T23:50:02.470Z"
   },
   {
    "duration": -89,
    "start_time": "2022-02-12T23:50:02.472Z"
   },
   {
    "duration": 327,
    "start_time": "2022-02-12T23:51:56.057Z"
   },
   {
    "duration": 386,
    "start_time": "2022-02-12T23:54:22.133Z"
   },
   {
    "duration": 9,
    "start_time": "2022-02-12T23:55:37.033Z"
   },
   {
    "duration": 8,
    "start_time": "2022-02-12T23:56:04.325Z"
   },
   {
    "duration": 27,
    "start_time": "2022-02-13T00:01:01.974Z"
   },
   {
    "duration": 8,
    "start_time": "2022-02-13T00:01:03.909Z"
   },
   {
    "duration": 26,
    "start_time": "2022-02-13T00:05:18.157Z"
   },
   {
    "duration": 5,
    "start_time": "2022-02-13T00:29:17.317Z"
   },
   {
    "duration": 20,
    "start_time": "2022-02-13T00:29:25.338Z"
   },
   {
    "duration": 323,
    "start_time": "2022-02-13T00:32:23.216Z"
   },
   {
    "duration": 9,
    "start_time": "2022-02-13T00:32:39.844Z"
   },
   {
    "duration": 2,
    "start_time": "2022-02-13T00:33:52.291Z"
   },
   {
    "duration": 94,
    "start_time": "2022-02-13T00:33:52.297Z"
   },
   {
    "duration": 10,
    "start_time": "2022-02-13T00:33:52.392Z"
   },
   {
    "duration": 7,
    "start_time": "2022-02-13T00:33:52.404Z"
   },
   {
    "duration": 4,
    "start_time": "2022-02-13T00:33:52.413Z"
   },
   {
    "duration": 5,
    "start_time": "2022-02-13T00:33:52.418Z"
   },
   {
    "duration": 4,
    "start_time": "2022-02-13T00:33:52.424Z"
   },
   {
    "duration": 58,
    "start_time": "2022-02-13T00:33:52.429Z"
   },
   {
    "duration": 6,
    "start_time": "2022-02-13T00:33:52.489Z"
   },
   {
    "duration": 327,
    "start_time": "2022-02-13T00:33:52.497Z"
   },
   {
    "duration": -76,
    "start_time": "2022-02-13T00:33:52.902Z"
   },
   {
    "duration": -78,
    "start_time": "2022-02-13T00:33:52.905Z"
   },
   {
    "duration": -79,
    "start_time": "2022-02-13T00:33:52.907Z"
   },
   {
    "duration": -81,
    "start_time": "2022-02-13T00:33:52.910Z"
   },
   {
    "duration": 2,
    "start_time": "2022-02-13T00:34:17.684Z"
   },
   {
    "duration": 103,
    "start_time": "2022-02-13T00:34:17.692Z"
   },
   {
    "duration": 11,
    "start_time": "2022-02-13T00:34:17.797Z"
   },
   {
    "duration": 9,
    "start_time": "2022-02-13T00:34:17.810Z"
   },
   {
    "duration": 3,
    "start_time": "2022-02-13T00:34:17.821Z"
   },
   {
    "duration": 4,
    "start_time": "2022-02-13T00:34:17.825Z"
   },
   {
    "duration": 41,
    "start_time": "2022-02-13T00:34:17.831Z"
   },
   {
    "duration": 35,
    "start_time": "2022-02-13T00:34:17.874Z"
   },
   {
    "duration": 5,
    "start_time": "2022-02-13T00:34:17.911Z"
   },
   {
    "duration": 313,
    "start_time": "2022-02-13T00:34:17.918Z"
   },
   {
    "duration": -65,
    "start_time": "2022-02-13T00:34:18.298Z"
   },
   {
    "duration": -68,
    "start_time": "2022-02-13T00:34:18.302Z"
   },
   {
    "duration": -70,
    "start_time": "2022-02-13T00:34:18.305Z"
   },
   {
    "duration": -72,
    "start_time": "2022-02-13T00:34:18.308Z"
   },
   {
    "duration": 3,
    "start_time": "2022-02-13T00:34:26.969Z"
   },
   {
    "duration": 108,
    "start_time": "2022-02-13T00:34:26.973Z"
   },
   {
    "duration": 11,
    "start_time": "2022-02-13T00:34:27.084Z"
   },
   {
    "duration": 18,
    "start_time": "2022-02-13T00:34:27.097Z"
   },
   {
    "duration": 4,
    "start_time": "2022-02-13T00:34:27.117Z"
   },
   {
    "duration": 5,
    "start_time": "2022-02-13T00:34:27.122Z"
   },
   {
    "duration": 4,
    "start_time": "2022-02-13T00:34:27.128Z"
   },
   {
    "duration": 58,
    "start_time": "2022-02-13T00:34:27.133Z"
   },
   {
    "duration": 6,
    "start_time": "2022-02-13T00:34:27.193Z"
   },
   {
    "duration": 371,
    "start_time": "2022-02-13T00:34:27.200Z"
   },
   {
    "duration": 27,
    "start_time": "2022-02-13T00:34:27.573Z"
   },
   {
    "duration": 8,
    "start_time": "2022-02-13T00:34:27.601Z"
   },
   {
    "duration": 9,
    "start_time": "2022-02-13T00:34:27.611Z"
   },
   {
    "duration": 7,
    "start_time": "2022-02-13T00:34:49.132Z"
   },
   {
    "duration": 8,
    "start_time": "2022-02-13T00:35:21.615Z"
   },
   {
    "duration": 7,
    "start_time": "2022-02-13T00:35:50.823Z"
   },
   {
    "duration": 7,
    "start_time": "2022-02-13T00:36:49.731Z"
   },
   {
    "duration": 5,
    "start_time": "2022-02-13T00:38:11.684Z"
   },
   {
    "duration": 100,
    "start_time": "2022-02-13T00:38:33.432Z"
   },
   {
    "duration": 11,
    "start_time": "2022-02-13T00:38:38.465Z"
   },
   {
    "duration": 27,
    "start_time": "2022-02-13T00:38:51.440Z"
   },
   {
    "duration": 6,
    "start_time": "2022-02-13T00:39:44.784Z"
   },
   {
    "duration": 27,
    "start_time": "2022-02-13T00:39:46.311Z"
   },
   {
    "duration": 2,
    "start_time": "2022-02-13T00:40:05.270Z"
   },
   {
    "duration": 108,
    "start_time": "2022-02-13T00:40:05.276Z"
   },
   {
    "duration": 9,
    "start_time": "2022-02-13T00:40:05.386Z"
   },
   {
    "duration": 14,
    "start_time": "2022-02-13T00:40:05.397Z"
   },
   {
    "duration": 13,
    "start_time": "2022-02-13T00:40:05.412Z"
   },
   {
    "duration": 14,
    "start_time": "2022-02-13T00:40:05.426Z"
   },
   {
    "duration": 27,
    "start_time": "2022-02-13T00:40:05.441Z"
   },
   {
    "duration": 47,
    "start_time": "2022-02-13T00:40:05.469Z"
   },
   {
    "duration": 5,
    "start_time": "2022-02-13T00:40:05.518Z"
   },
   {
    "duration": 363,
    "start_time": "2022-02-13T00:40:05.524Z"
   },
   {
    "duration": 27,
    "start_time": "2022-02-13T00:40:05.889Z"
   },
   {
    "duration": 7,
    "start_time": "2022-02-13T00:40:05.918Z"
   },
   {
    "duration": 17,
    "start_time": "2022-02-13T00:40:05.926Z"
   },
   {
    "duration": 21,
    "start_time": "2022-02-13T00:40:05.944Z"
   },
   {
    "duration": 53,
    "start_time": "2022-02-13T00:40:05.967Z"
   },
   {
    "duration": 8,
    "start_time": "2022-02-13T00:41:31.096Z"
   },
   {
    "duration": 5,
    "start_time": "2022-02-13T00:49:42.983Z"
   },
   {
    "duration": 8,
    "start_time": "2022-02-13T00:49:45.004Z"
   },
   {
    "duration": 25,
    "start_time": "2022-02-13T00:50:01.803Z"
   },
   {
    "duration": 140,
    "start_time": "2022-02-13T00:55:58.613Z"
   },
   {
    "duration": 10,
    "start_time": "2022-02-13T00:56:16.708Z"
   },
   {
    "duration": 8,
    "start_time": "2022-02-13T00:57:41.280Z"
   },
   {
    "duration": 19,
    "start_time": "2022-02-13T00:57:52.223Z"
   },
   {
    "duration": 4,
    "start_time": "2022-02-13T01:00:00.943Z"
   },
   {
    "duration": 373,
    "start_time": "2022-02-13T01:02:57.000Z"
   },
   {
    "duration": 3,
    "start_time": "2022-02-13T01:03:16.037Z"
   },
   {
    "duration": 99,
    "start_time": "2022-02-13T01:03:16.041Z"
   },
   {
    "duration": 12,
    "start_time": "2022-02-13T01:03:16.142Z"
   },
   {
    "duration": 11,
    "start_time": "2022-02-13T01:03:16.171Z"
   },
   {
    "duration": 4,
    "start_time": "2022-02-13T01:03:16.184Z"
   },
   {
    "duration": 6,
    "start_time": "2022-02-13T01:03:16.190Z"
   },
   {
    "duration": 5,
    "start_time": "2022-02-13T01:03:16.198Z"
   },
   {
    "duration": 37,
    "start_time": "2022-02-13T01:03:16.205Z"
   },
   {
    "duration": 8,
    "start_time": "2022-02-13T01:03:16.271Z"
   },
   {
    "duration": 369,
    "start_time": "2022-02-13T01:03:16.281Z"
   },
   {
    "duration": 50,
    "start_time": "2022-02-13T01:03:16.653Z"
   },
   {
    "duration": 7,
    "start_time": "2022-02-13T01:03:16.705Z"
   },
   {
    "duration": 6,
    "start_time": "2022-02-13T01:03:16.713Z"
   },
   {
    "duration": 23,
    "start_time": "2022-02-13T01:03:16.721Z"
   },
   {
    "duration": 38,
    "start_time": "2022-02-13T01:03:16.745Z"
   },
   {
    "duration": 121,
    "start_time": "2022-02-13T01:03:16.785Z"
   },
   {
    "duration": 4,
    "start_time": "2022-02-13T01:03:16.908Z"
   },
   {
    "duration": 317,
    "start_time": "2022-02-13T01:03:31.848Z"
   },
   {
    "duration": 317,
    "start_time": "2022-02-13T01:03:55.308Z"
   },
   {
    "duration": 2,
    "start_time": "2022-02-13T01:04:19.475Z"
   },
   {
    "duration": 95,
    "start_time": "2022-02-13T01:04:19.479Z"
   },
   {
    "duration": 9,
    "start_time": "2022-02-13T01:04:19.576Z"
   },
   {
    "duration": 7,
    "start_time": "2022-02-13T01:04:19.587Z"
   },
   {
    "duration": 6,
    "start_time": "2022-02-13T01:04:19.595Z"
   },
   {
    "duration": 5,
    "start_time": "2022-02-13T01:04:19.602Z"
   },
   {
    "duration": 4,
    "start_time": "2022-02-13T01:04:19.608Z"
   },
   {
    "duration": 59,
    "start_time": "2022-02-13T01:04:19.614Z"
   },
   {
    "duration": 5,
    "start_time": "2022-02-13T01:04:19.675Z"
   },
   {
    "duration": 369,
    "start_time": "2022-02-13T01:04:19.682Z"
   },
   {
    "duration": 31,
    "start_time": "2022-02-13T01:04:20.052Z"
   },
   {
    "duration": 7,
    "start_time": "2022-02-13T01:04:20.084Z"
   },
   {
    "duration": 6,
    "start_time": "2022-02-13T01:04:20.093Z"
   },
   {
    "duration": 24,
    "start_time": "2022-02-13T01:04:20.101Z"
   },
   {
    "duration": 10,
    "start_time": "2022-02-13T01:04:20.126Z"
   },
   {
    "duration": 51,
    "start_time": "2022-02-13T01:04:20.137Z"
   },
   {
    "duration": 19,
    "start_time": "2022-02-13T01:04:20.189Z"
   },
   {
    "duration": 312,
    "start_time": "2022-02-13T01:05:28.940Z"
   },
   {
    "duration": 3,
    "start_time": "2022-02-13T01:05:35.509Z"
   },
   {
    "duration": 93,
    "start_time": "2022-02-13T01:05:35.513Z"
   },
   {
    "duration": 9,
    "start_time": "2022-02-13T01:05:35.608Z"
   },
   {
    "duration": 7,
    "start_time": "2022-02-13T01:05:35.619Z"
   },
   {
    "duration": 3,
    "start_time": "2022-02-13T01:05:35.627Z"
   },
   {
    "duration": 5,
    "start_time": "2022-02-13T01:05:35.631Z"
   },
   {
    "duration": 5,
    "start_time": "2022-02-13T01:05:35.638Z"
   },
   {
    "duration": 56,
    "start_time": "2022-02-13T01:05:35.644Z"
   },
   {
    "duration": 5,
    "start_time": "2022-02-13T01:05:35.702Z"
   },
   {
    "duration": 373,
    "start_time": "2022-02-13T01:05:35.709Z"
   },
   {
    "duration": 26,
    "start_time": "2022-02-13T01:05:36.084Z"
   },
   {
    "duration": 7,
    "start_time": "2022-02-13T01:05:36.112Z"
   },
   {
    "duration": 6,
    "start_time": "2022-02-13T01:05:36.121Z"
   },
   {
    "duration": 49,
    "start_time": "2022-02-13T01:05:36.129Z"
   },
   {
    "duration": 10,
    "start_time": "2022-02-13T01:05:36.179Z"
   },
   {
    "duration": 22,
    "start_time": "2022-02-13T01:05:36.191Z"
   },
   {
    "duration": 19,
    "start_time": "2022-02-13T01:05:36.214Z"
   },
   {
    "duration": 5,
    "start_time": "2022-02-13T01:11:16.232Z"
   },
   {
    "duration": 3,
    "start_time": "2022-02-13T01:12:05.673Z"
   },
   {
    "duration": 101,
    "start_time": "2022-02-13T01:12:05.677Z"
   },
   {
    "duration": 9,
    "start_time": "2022-02-13T01:12:05.781Z"
   },
   {
    "duration": 7,
    "start_time": "2022-02-13T01:12:05.792Z"
   },
   {
    "duration": 3,
    "start_time": "2022-02-13T01:12:05.801Z"
   },
   {
    "duration": 6,
    "start_time": "2022-02-13T01:12:05.805Z"
   },
   {
    "duration": 4,
    "start_time": "2022-02-13T01:12:05.813Z"
   },
   {
    "duration": 70,
    "start_time": "2022-02-13T01:12:05.818Z"
   },
   {
    "duration": 5,
    "start_time": "2022-02-13T01:12:05.891Z"
   },
   {
    "duration": 376,
    "start_time": "2022-02-13T01:12:05.898Z"
   },
   {
    "duration": 26,
    "start_time": "2022-02-13T01:12:06.275Z"
   },
   {
    "duration": 7,
    "start_time": "2022-02-13T01:12:06.303Z"
   },
   {
    "duration": 6,
    "start_time": "2022-02-13T01:12:06.311Z"
   },
   {
    "duration": 22,
    "start_time": "2022-02-13T01:12:06.319Z"
   },
   {
    "duration": 33,
    "start_time": "2022-02-13T01:12:06.343Z"
   },
   {
    "duration": 22,
    "start_time": "2022-02-13T01:12:06.378Z"
   },
   {
    "duration": 4,
    "start_time": "2022-02-13T01:12:06.401Z"
   },
   {
    "duration": 21,
    "start_time": "2022-02-13T01:12:06.407Z"
   },
   {
    "duration": 2,
    "start_time": "2022-02-13T01:14:09.608Z"
   },
   {
    "duration": 93,
    "start_time": "2022-02-13T01:14:09.612Z"
   },
   {
    "duration": 9,
    "start_time": "2022-02-13T01:14:09.707Z"
   },
   {
    "duration": 9,
    "start_time": "2022-02-13T01:14:09.717Z"
   },
   {
    "duration": 2,
    "start_time": "2022-02-13T01:14:09.728Z"
   },
   {
    "duration": 6,
    "start_time": "2022-02-13T01:14:09.732Z"
   },
   {
    "duration": 4,
    "start_time": "2022-02-13T01:14:09.739Z"
   },
   {
    "duration": 61,
    "start_time": "2022-02-13T01:14:09.744Z"
   },
   {
    "duration": 5,
    "start_time": "2022-02-13T01:14:09.807Z"
   },
   {
    "duration": 369,
    "start_time": "2022-02-13T01:14:09.814Z"
   },
   {
    "duration": 26,
    "start_time": "2022-02-13T01:14:10.184Z"
   },
   {
    "duration": 6,
    "start_time": "2022-02-13T01:14:10.212Z"
   },
   {
    "duration": 5,
    "start_time": "2022-02-13T01:14:10.220Z"
   },
   {
    "duration": 45,
    "start_time": "2022-02-13T01:14:10.227Z"
   },
   {
    "duration": 9,
    "start_time": "2022-02-13T01:14:10.274Z"
   },
   {
    "duration": 21,
    "start_time": "2022-02-13T01:14:10.284Z"
   },
   {
    "duration": 4,
    "start_time": "2022-02-13T01:14:10.306Z"
   },
   {
    "duration": 28,
    "start_time": "2022-02-13T01:14:10.311Z"
   },
   {
    "duration": 2,
    "start_time": "2022-02-13T01:25:38.719Z"
   },
   {
    "duration": 93,
    "start_time": "2022-02-13T01:25:38.725Z"
   },
   {
    "duration": 8,
    "start_time": "2022-02-13T01:25:38.820Z"
   },
   {
    "duration": 7,
    "start_time": "2022-02-13T01:25:38.830Z"
   },
   {
    "duration": 2,
    "start_time": "2022-02-13T01:25:38.839Z"
   },
   {
    "duration": 7,
    "start_time": "2022-02-13T01:25:38.843Z"
   },
   {
    "duration": 6,
    "start_time": "2022-02-13T01:25:38.851Z"
   },
   {
    "duration": 38,
    "start_time": "2022-02-13T01:25:38.872Z"
   },
   {
    "duration": 5,
    "start_time": "2022-02-13T01:25:38.912Z"
   },
   {
    "duration": 363,
    "start_time": "2022-02-13T01:25:38.919Z"
   },
   {
    "duration": 26,
    "start_time": "2022-02-13T01:25:39.284Z"
   },
   {
    "duration": 6,
    "start_time": "2022-02-13T01:25:39.312Z"
   },
   {
    "duration": 5,
    "start_time": "2022-02-13T01:25:39.320Z"
   },
   {
    "duration": 48,
    "start_time": "2022-02-13T01:25:39.327Z"
   },
   {
    "duration": 10,
    "start_time": "2022-02-13T01:25:39.376Z"
   },
   {
    "duration": 21,
    "start_time": "2022-02-13T01:25:39.387Z"
   },
   {
    "duration": 4,
    "start_time": "2022-02-13T01:25:39.409Z"
   },
   {
    "duration": 26,
    "start_time": "2022-02-13T01:25:39.415Z"
   },
   {
    "duration": 385,
    "start_time": "2022-02-13T16:53:55.046Z"
   },
   {
    "duration": 850,
    "start_time": "2022-02-13T16:54:01.003Z"
   },
   {
    "duration": 172,
    "start_time": "2022-02-13T16:54:01.857Z"
   },
   {
    "duration": 228,
    "start_time": "2022-02-13T16:54:02.032Z"
   },
   {
    "duration": 20,
    "start_time": "2022-02-13T16:54:02.981Z"
   },
   {
    "duration": 6,
    "start_time": "2022-02-13T16:54:03.284Z"
   },
   {
    "duration": 11,
    "start_time": "2022-02-13T16:54:03.702Z"
   },
   {
    "duration": 10,
    "start_time": "2022-02-13T16:54:03.999Z"
   },
   {
    "duration": 106,
    "start_time": "2022-02-13T16:54:04.281Z"
   },
   {
    "duration": 326,
    "start_time": "2022-02-13T16:54:04.409Z"
   },
   {
    "duration": 1390,
    "start_time": "2022-02-13T16:54:04.739Z"
   },
   {
    "duration": 56,
    "start_time": "2022-02-13T16:54:06.432Z"
   },
   {
    "duration": 228,
    "start_time": "2022-02-13T16:54:06.592Z"
   },
   {
    "duration": 20,
    "start_time": "2022-02-13T16:54:07.095Z"
   },
   {
    "duration": 200,
    "start_time": "2022-02-13T16:54:07.261Z"
   },
   {
    "duration": 238,
    "start_time": "2022-02-13T16:54:07.465Z"
   },
   {
    "duration": 300,
    "start_time": "2022-02-13T16:54:07.706Z"
   },
   {
    "duration": 294,
    "start_time": "2022-02-13T16:54:08.083Z"
   },
   {
    "duration": 343,
    "start_time": "2022-02-13T16:54:08.380Z"
   },
   {
    "duration": 231,
    "start_time": "2022-02-13T16:54:08.726Z"
   },
   {
    "duration": 279,
    "start_time": "2022-02-13T16:54:27.503Z"
   },
   {
    "duration": 268,
    "start_time": "2022-02-13T16:54:44.143Z"
   },
   {
    "duration": 4,
    "start_time": "2022-02-13T16:54:58.961Z"
   },
   {
    "duration": 301,
    "start_time": "2022-02-13T16:55:19.159Z"
   },
   {
    "duration": 310,
    "start_time": "2022-02-13T16:55:30.102Z"
   },
   {
    "duration": 269,
    "start_time": "2022-02-13T16:55:35.377Z"
   },
   {
    "duration": 255,
    "start_time": "2022-02-13T16:55:38.790Z"
   },
   {
    "duration": 363,
    "start_time": "2022-02-13T16:55:51.208Z"
   },
   {
    "duration": 5579,
    "start_time": "2022-02-13T16:55:54.953Z"
   },
   {
    "duration": 403,
    "start_time": "2022-02-13T16:56:07.745Z"
   },
   {
    "duration": 9,
    "start_time": "2022-02-13T16:56:21.618Z"
   },
   {
    "duration": 262,
    "start_time": "2022-02-13T16:56:34.705Z"
   },
   {
    "duration": 3,
    "start_time": "2022-02-13T16:56:44.216Z"
   },
   {
    "duration": 8,
    "start_time": "2022-02-13T16:56:46.551Z"
   },
   {
    "duration": 7,
    "start_time": "2022-02-13T16:57:10.617Z"
   },
   {
    "duration": 7,
    "start_time": "2022-02-13T16:57:14.236Z"
   },
   {
    "duration": 8,
    "start_time": "2022-02-13T16:57:24.677Z"
   },
   {
    "duration": 7,
    "start_time": "2022-02-13T16:57:29.136Z"
   },
   {
    "duration": 448,
    "start_time": "2022-02-13T16:57:51.923Z"
   },
   {
    "duration": 222,
    "start_time": "2022-02-13T16:58:18.324Z"
   },
   {
    "duration": 226,
    "start_time": "2022-02-13T16:58:42.147Z"
   },
   {
    "duration": 9,
    "start_time": "2022-02-13T17:00:07.516Z"
   },
   {
    "duration": 11,
    "start_time": "2022-02-13T17:00:22.424Z"
   },
   {
    "duration": 9,
    "start_time": "2022-02-13T17:00:29.710Z"
   },
   {
    "duration": 10,
    "start_time": "2022-02-13T17:00:33.193Z"
   },
   {
    "duration": 279,
    "start_time": "2022-02-13T17:02:46.049Z"
   },
   {
    "duration": 290,
    "start_time": "2022-02-13T17:02:57.023Z"
   },
   {
    "duration": 821,
    "start_time": "2022-02-13T17:03:10.423Z"
   },
   {
    "duration": 276,
    "start_time": "2022-02-13T17:03:38.163Z"
   },
   {
    "duration": 700,
    "start_time": "2022-02-13T17:04:18.978Z"
   },
   {
    "duration": 422,
    "start_time": "2022-02-13T17:04:28.284Z"
   },
   {
    "duration": 342,
    "start_time": "2022-02-13T17:04:45.211Z"
   },
   {
    "duration": 405,
    "start_time": "2022-02-13T17:05:03.685Z"
   },
   {
    "duration": 433,
    "start_time": "2022-02-13T17:05:16.742Z"
   },
   {
    "duration": 503,
    "start_time": "2022-02-13T17:05:42.631Z"
   },
   {
    "duration": 266,
    "start_time": "2022-02-13T17:06:07.385Z"
   },
   {
    "duration": 408,
    "start_time": "2022-02-13T17:06:11.319Z"
   },
   {
    "duration": 424,
    "start_time": "2022-02-13T17:06:35.613Z"
   },
   {
    "duration": 494,
    "start_time": "2022-02-13T17:07:19.869Z"
   },
   {
    "duration": 250,
    "start_time": "2022-02-13T17:07:33.060Z"
   },
   {
    "duration": 510,
    "start_time": "2022-02-13T17:07:38.222Z"
   },
   {
    "duration": 436,
    "start_time": "2022-02-13T17:07:43.366Z"
   },
   {
    "duration": 409,
    "start_time": "2022-02-13T17:07:58.147Z"
   },
   {
    "duration": 434,
    "start_time": "2022-02-13T17:08:54.044Z"
   },
   {
    "duration": 630,
    "start_time": "2022-02-13T17:09:06.265Z"
   },
   {
    "duration": 451,
    "start_time": "2022-02-13T17:09:15.493Z"
   },
   {
    "duration": 458,
    "start_time": "2022-02-13T17:09:20.105Z"
   },
   {
    "duration": 435,
    "start_time": "2022-02-13T17:10:18.256Z"
   },
   {
    "duration": 299,
    "start_time": "2022-02-13T17:10:35.501Z"
   },
   {
    "duration": 299,
    "start_time": "2022-02-13T17:11:29.821Z"
   },
   {
    "duration": 597,
    "start_time": "2022-02-13T17:11:43.172Z"
   },
   {
    "duration": 320,
    "start_time": "2022-02-13T17:12:02.093Z"
   },
   {
    "duration": 524,
    "start_time": "2022-02-13T17:12:13.512Z"
   },
   {
    "duration": 519,
    "start_time": "2022-02-13T17:12:21.452Z"
   },
   {
    "duration": 586,
    "start_time": "2022-02-13T17:12:43.049Z"
   },
   {
    "duration": 6,
    "start_time": "2022-02-13T17:13:01.071Z"
   },
   {
    "duration": 411,
    "start_time": "2022-02-13T17:16:32.091Z"
   },
   {
    "duration": 102,
    "start_time": "2022-02-13T17:16:42.466Z"
   },
   {
    "duration": 479,
    "start_time": "2022-02-13T17:16:57.141Z"
   },
   {
    "duration": 667,
    "start_time": "2022-02-13T17:17:08.173Z"
   },
   {
    "duration": 671,
    "start_time": "2022-02-13T17:17:29.712Z"
   },
   {
    "duration": 677,
    "start_time": "2022-02-13T17:17:54.519Z"
   },
   {
    "duration": 688,
    "start_time": "2022-02-13T17:18:05.849Z"
   },
   {
    "duration": 905,
    "start_time": "2022-02-13T17:18:53.464Z"
   },
   {
    "duration": 947,
    "start_time": "2022-02-13T17:19:01.970Z"
   },
   {
    "duration": 98,
    "start_time": "2022-02-13T17:19:07.919Z"
   },
   {
    "duration": 700,
    "start_time": "2022-02-13T17:19:12.499Z"
   },
   {
    "duration": 666,
    "start_time": "2022-02-13T17:19:39.803Z"
   },
   {
    "duration": 666,
    "start_time": "2022-02-13T17:19:44.422Z"
   },
   {
    "duration": 684,
    "start_time": "2022-02-13T17:19:48.742Z"
   },
   {
    "duration": 854,
    "start_time": "2022-02-13T17:19:56.741Z"
   },
   {
    "duration": 698,
    "start_time": "2022-02-13T17:20:03.019Z"
   },
   {
    "duration": 683,
    "start_time": "2022-02-13T17:22:28.236Z"
   },
   {
    "duration": 796,
    "start_time": "2022-02-13T17:22:39.906Z"
   },
   {
    "duration": 737,
    "start_time": "2022-02-13T17:22:53.202Z"
   },
   {
    "duration": 708,
    "start_time": "2022-02-13T17:23:00.075Z"
   },
   {
    "duration": 999,
    "start_time": "2022-02-13T17:23:04.577Z"
   },
   {
    "duration": 671,
    "start_time": "2022-02-13T17:23:12.989Z"
   },
   {
    "duration": 314,
    "start_time": "2022-02-13T17:23:20.970Z"
   },
   {
    "duration": 301,
    "start_time": "2022-02-13T17:23:30.126Z"
   },
   {
    "duration": 317,
    "start_time": "2022-02-13T17:23:34.785Z"
   },
   {
    "duration": 421,
    "start_time": "2022-02-13T17:23:39.870Z"
   },
   {
    "duration": 1269,
    "start_time": "2022-02-13T17:23:45.487Z"
   },
   {
    "duration": 408,
    "start_time": "2022-02-13T17:23:50.190Z"
   },
   {
    "duration": 857,
    "start_time": "2022-02-13T17:24:04.718Z"
   },
   {
    "duration": 714,
    "start_time": "2022-02-13T17:24:10.527Z"
   },
   {
    "duration": 677,
    "start_time": "2022-02-13T17:24:15.907Z"
   },
   {
    "duration": 730,
    "start_time": "2022-02-13T17:24:24.264Z"
   },
   {
    "duration": 62,
    "start_time": "2022-02-13T17:26:28.283Z"
   },
   {
    "duration": 6465,
    "start_time": "2022-02-13T17:32:34.146Z"
   },
   {
    "duration": 308,
    "start_time": "2022-02-13T17:32:58.835Z"
   },
   {
    "duration": 533,
    "start_time": "2022-02-13T17:33:11.055Z"
   },
   {
    "duration": 664,
    "start_time": "2022-02-13T17:33:40.956Z"
   },
   {
    "duration": 6,
    "start_time": "2022-02-13T17:35:02.407Z"
   },
   {
    "duration": 6,
    "start_time": "2022-02-13T17:35:18.372Z"
   },
   {
    "duration": 7,
    "start_time": "2022-02-13T17:35:43.343Z"
   },
   {
    "duration": 8,
    "start_time": "2022-02-13T17:35:51.511Z"
   },
   {
    "duration": 239,
    "start_time": "2022-02-13T17:36:50.930Z"
   },
   {
    "duration": 283,
    "start_time": "2022-02-13T17:37:21.355Z"
   },
   {
    "duration": 221,
    "start_time": "2022-02-13T17:37:35.530Z"
   },
   {
    "duration": 237,
    "start_time": "2022-02-13T17:37:52.938Z"
   },
   {
    "duration": 154,
    "start_time": "2022-02-13T17:42:00.166Z"
   },
   {
    "duration": 6733,
    "start_time": "2022-02-13T17:42:27.235Z"
   },
   {
    "duration": 14,
    "start_time": "2022-02-13T17:42:42.610Z"
   },
   {
    "duration": 4,
    "start_time": "2022-02-13T17:49:11.180Z"
   },
   {
    "duration": 45,
    "start_time": "2022-02-13T17:50:09.197Z"
   },
   {
    "duration": 258,
    "start_time": "2022-02-13T17:50:56.100Z"
   },
   {
    "duration": 263,
    "start_time": "2022-02-13T17:50:59.069Z"
   },
   {
    "duration": 43,
    "start_time": "2022-02-13T17:51:03.518Z"
   },
   {
    "duration": 42,
    "start_time": "2022-02-13T17:51:17.427Z"
   },
   {
    "duration": 48,
    "start_time": "2022-02-13T17:53:46.210Z"
   },
   {
    "duration": 6,
    "start_time": "2022-02-13T17:53:58.422Z"
   },
   {
    "duration": 51,
    "start_time": "2022-02-13T17:53:59.012Z"
   },
   {
    "duration": 275,
    "start_time": "2022-02-13T17:54:26.098Z"
   },
   {
    "duration": 48,
    "start_time": "2022-02-13T17:54:29.705Z"
   },
   {
    "duration": 295,
    "start_time": "2022-02-13T17:56:32.426Z"
   },
   {
    "duration": 7,
    "start_time": "2022-02-13T17:56:48.250Z"
   },
   {
    "duration": 54,
    "start_time": "2022-02-13T17:56:58.593Z"
   },
   {
    "duration": 9,
    "start_time": "2022-02-13T17:57:09.577Z"
   },
   {
    "duration": 58,
    "start_time": "2022-02-13T17:57:09.941Z"
   },
   {
    "duration": 11,
    "start_time": "2022-02-13T17:57:57.152Z"
   },
   {
    "duration": 54,
    "start_time": "2022-02-13T17:57:58.061Z"
   },
   {
    "duration": 90,
    "start_time": "2022-02-13T17:58:05.796Z"
   },
   {
    "duration": 15,
    "start_time": "2022-02-13T17:58:29.531Z"
   },
   {
    "duration": 54,
    "start_time": "2022-02-13T17:58:30.562Z"
   },
   {
    "duration": 22,
    "start_time": "2022-02-13T17:59:28.018Z"
   },
   {
    "duration": 20,
    "start_time": "2022-02-13T17:59:42.058Z"
   },
   {
    "duration": 84,
    "start_time": "2022-02-13T17:59:42.888Z"
   },
   {
    "duration": 128,
    "start_time": "2022-02-13T18:14:39.480Z"
   },
   {
    "duration": 301,
    "start_time": "2022-02-13T18:15:33.863Z"
   },
   {
    "duration": 895,
    "start_time": "2022-02-13T18:15:40.381Z"
   },
   {
    "duration": 1154,
    "start_time": "2022-02-13T18:16:03.751Z"
   },
   {
    "duration": 24,
    "start_time": "2022-02-13T18:17:05.901Z"
   },
   {
    "duration": 7,
    "start_time": "2022-02-13T18:17:16.382Z"
   },
   {
    "duration": 22,
    "start_time": "2022-02-13T18:17:27.671Z"
   },
   {
    "duration": 18,
    "start_time": "2022-02-13T18:17:37.258Z"
   },
   {
    "duration": 18,
    "start_time": "2022-02-13T18:17:39.828Z"
   },
   {
    "duration": 3,
    "start_time": "2022-02-13T18:23:47.094Z"
   },
   {
    "duration": 353,
    "start_time": "2022-02-13T18:23:47.103Z"
   },
   {
    "duration": 233,
    "start_time": "2022-02-13T18:23:47.459Z"
   },
   {
    "duration": 176,
    "start_time": "2022-02-13T18:23:47.696Z"
   },
   {
    "duration": 189,
    "start_time": "2022-02-13T18:23:47.875Z"
   },
   {
    "duration": 307,
    "start_time": "2022-02-13T18:23:48.066Z"
   },
   {
    "duration": 303,
    "start_time": "2022-02-13T18:23:48.375Z"
   },
   {
    "duration": 365,
    "start_time": "2022-02-13T18:23:48.680Z"
   },
   {
    "duration": 168,
    "start_time": "2022-02-13T18:23:49.048Z"
   },
   {
    "duration": 1052,
    "start_time": "2022-02-13T18:23:49.220Z"
   },
   {
    "duration": 99,
    "start_time": "2022-02-13T18:23:50.275Z"
   },
   {
    "duration": 118,
    "start_time": "2022-02-13T18:23:50.376Z"
   },
   {
    "duration": 280,
    "start_time": "2022-02-13T18:23:50.497Z"
   },
   {
    "duration": 360,
    "start_time": "2022-02-13T18:23:50.779Z"
   },
   {
    "duration": 232,
    "start_time": "2022-02-13T18:23:51.141Z"
   },
   {
    "duration": 350,
    "start_time": "2022-02-13T18:23:51.375Z"
   },
   {
    "duration": 270,
    "start_time": "2022-02-13T18:23:51.727Z"
   },
   {
    "duration": 219,
    "start_time": "2022-02-13T18:23:52.000Z"
   },
   {
    "duration": 1871,
    "start_time": "2022-02-13T18:23:52.222Z"
   },
   {
    "duration": 8,
    "start_time": "2022-02-13T18:23:54.089Z"
   },
   {
    "duration": 7,
    "start_time": "2022-02-13T18:23:54.092Z"
   },
   {
    "duration": 5,
    "start_time": "2022-02-13T18:23:54.095Z"
   },
   {
    "duration": 5,
    "start_time": "2022-02-13T18:23:54.097Z"
   },
   {
    "duration": 3,
    "start_time": "2022-02-13T18:23:54.100Z"
   },
   {
    "duration": -5,
    "start_time": "2022-02-13T18:23:54.110Z"
   },
   {
    "duration": -7,
    "start_time": "2022-02-13T18:23:54.113Z"
   },
   {
    "duration": -10,
    "start_time": "2022-02-13T18:23:54.117Z"
   },
   {
    "duration": -11,
    "start_time": "2022-02-13T18:23:54.119Z"
   },
   {
    "duration": -12,
    "start_time": "2022-02-13T18:23:54.122Z"
   },
   {
    "duration": -14,
    "start_time": "2022-02-13T18:23:54.125Z"
   },
   {
    "duration": -16,
    "start_time": "2022-02-13T18:23:54.128Z"
   },
   {
    "duration": -18,
    "start_time": "2022-02-13T18:23:54.132Z"
   },
   {
    "duration": -20,
    "start_time": "2022-02-13T18:23:54.135Z"
   },
   {
    "duration": -21,
    "start_time": "2022-02-13T18:23:54.138Z"
   },
   {
    "duration": -24,
    "start_time": "2022-02-13T18:23:54.143Z"
   },
   {
    "duration": -25,
    "start_time": "2022-02-13T18:23:54.146Z"
   },
   {
    "duration": 1145,
    "start_time": "2022-02-13T18:24:01.447Z"
   },
   {
    "duration": 45,
    "start_time": "2022-02-13T18:24:14.059Z"
   },
   {
    "duration": 4,
    "start_time": "2022-02-13T18:24:36.876Z"
   },
   {
    "duration": 324,
    "start_time": "2022-02-13T18:24:36.883Z"
   },
   {
    "duration": 59,
    "start_time": "2022-02-13T18:24:37.210Z"
   },
   {
    "duration": 268,
    "start_time": "2022-02-13T18:24:37.272Z"
   },
   {
    "duration": 233,
    "start_time": "2022-02-13T18:24:37.542Z"
   },
   {
    "duration": 270,
    "start_time": "2022-02-13T18:24:37.778Z"
   },
   {
    "duration": 277,
    "start_time": "2022-02-13T18:24:38.051Z"
   },
   {
    "duration": 300,
    "start_time": "2022-02-13T18:24:38.333Z"
   },
   {
    "duration": 273,
    "start_time": "2022-02-13T18:24:38.636Z"
   },
   {
    "duration": 921,
    "start_time": "2022-02-13T18:24:38.911Z"
   },
   {
    "duration": 78,
    "start_time": "2022-02-13T18:24:39.836Z"
   },
   {
    "duration": 229,
    "start_time": "2022-02-13T18:24:39.916Z"
   },
   {
    "duration": 230,
    "start_time": "2022-02-13T18:24:40.147Z"
   },
   {
    "duration": 270,
    "start_time": "2022-02-13T18:24:40.380Z"
   },
   {
    "duration": 200,
    "start_time": "2022-02-13T18:24:40.652Z"
   },
   {
    "duration": 503,
    "start_time": "2022-02-13T18:24:40.854Z"
   },
   {
    "duration": 20,
    "start_time": "2022-02-13T18:24:41.360Z"
   },
   {
    "duration": 270,
    "start_time": "2022-02-13T18:24:41.383Z"
   },
   {
    "duration": 995,
    "start_time": "2022-02-13T18:24:41.655Z"
   },
   {
    "duration": 42,
    "start_time": "2022-02-13T18:24:42.654Z"
   },
   {
    "duration": 181,
    "start_time": "2022-02-13T18:24:42.699Z"
   },
   {
    "duration": 1028,
    "start_time": "2022-02-13T18:24:42.883Z"
   },
   {
    "duration": 726,
    "start_time": "2022-02-13T18:24:43.918Z"
   },
   {
    "duration": 378,
    "start_time": "2022-02-13T18:24:44.647Z"
   },
   {
    "duration": 714,
    "start_time": "2022-02-13T18:24:45.027Z"
   },
   {
    "duration": 6,
    "start_time": "2022-02-13T18:24:45.744Z"
   },
   {
    "duration": 995,
    "start_time": "2022-02-13T18:24:45.752Z"
   },
   {
    "duration": 20,
    "start_time": "2022-02-13T18:24:46.750Z"
   },
   {
    "duration": 387,
    "start_time": "2022-02-13T18:24:46.772Z"
   },
   {
    "duration": 16,
    "start_time": "2022-02-13T18:24:47.161Z"
   },
   {
    "duration": 279,
    "start_time": "2022-02-13T18:24:47.179Z"
   },
   {
    "duration": 234,
    "start_time": "2022-02-13T18:24:47.460Z"
   },
   {
    "duration": 189,
    "start_time": "2022-02-13T18:24:47.697Z"
   },
   {
    "duration": 378,
    "start_time": "2022-02-13T18:24:47.889Z"
   },
   {
    "duration": 100,
    "start_time": "2022-02-13T18:24:48.270Z"
   },
   {
    "duration": 257,
    "start_time": "2022-02-13T18:24:48.372Z"
   },
   {
    "duration": 264,
    "start_time": "2022-02-13T18:24:48.631Z"
   },
   {
    "duration": 16,
    "start_time": "2022-02-13T18:25:11.961Z"
   },
   {
    "duration": 16,
    "start_time": "2022-02-13T18:25:18.936Z"
   },
   {
    "duration": 61,
    "start_time": "2022-02-13T18:31:51.916Z"
   },
   {
    "duration": 5,
    "start_time": "2022-02-13T18:33:49.649Z"
   },
   {
    "duration": 491,
    "start_time": "2022-02-13T18:35:17.883Z"
   },
   {
    "duration": 348,
    "start_time": "2022-02-13T18:35:31.371Z"
   },
   {
    "duration": 4,
    "start_time": "2022-02-13T18:35:53.800Z"
   },
   {
    "duration": 526,
    "start_time": "2022-02-13T18:35:54.113Z"
   },
   {
    "duration": 347,
    "start_time": "2022-02-13T18:35:54.642Z"
   },
   {
    "duration": 50,
    "start_time": "2022-02-13T18:35:55.295Z"
   },
   {
    "duration": 53,
    "start_time": "2022-02-13T18:35:55.602Z"
   },
   {
    "duration": 38,
    "start_time": "2022-02-13T18:35:55.915Z"
   },
   {
    "duration": 44,
    "start_time": "2022-02-13T18:35:56.258Z"
   },
   {
    "duration": 67,
    "start_time": "2022-02-13T18:35:57.146Z"
   },
   {
    "duration": 9,
    "start_time": "2022-02-13T18:35:57.574Z"
   },
   {
    "duration": 821,
    "start_time": "2022-02-13T18:35:57.695Z"
   },
   {
    "duration": 47,
    "start_time": "2022-02-13T18:35:58.953Z"
   },
   {
    "duration": 54,
    "start_time": "2022-02-13T18:35:59.116Z"
   },
   {
    "duration": 279,
    "start_time": "2022-02-13T18:35:59.625Z"
   },
   {
    "duration": 365,
    "start_time": "2022-02-13T18:35:59.908Z"
   },
   {
    "duration": 200,
    "start_time": "2022-02-13T18:36:00.277Z"
   },
   {
    "duration": 223,
    "start_time": "2022-02-13T18:36:00.479Z"
   },
   {
    "duration": 8,
    "start_time": "2022-02-13T18:36:01.395Z"
   },
   {
    "duration": 54,
    "start_time": "2022-02-13T18:36:01.604Z"
   },
   {
    "duration": 852,
    "start_time": "2022-02-13T18:36:01.878Z"
   },
   {
    "duration": 58,
    "start_time": "2022-02-13T18:36:19.555Z"
   },
   {
    "duration": 6,
    "start_time": "2022-02-13T18:36:20.482Z"
   },
   {
    "duration": 4,
    "start_time": "2022-02-13T18:36:21.179Z"
   },
   {
    "duration": 943,
    "start_time": "2022-02-13T18:36:21.596Z"
   },
   {
    "duration": 931,
    "start_time": "2022-02-13T18:36:22.542Z"
   },
   {
    "duration": 484,
    "start_time": "2022-02-13T18:36:23.477Z"
   },
   {
    "duration": 999,
    "start_time": "2022-02-13T18:36:23.970Z"
   },
   {
    "duration": 6,
    "start_time": "2022-02-13T18:36:24.971Z"
   },
   {
    "duration": 1749,
    "start_time": "2022-02-13T18:36:24.979Z"
   },
   {
    "duration": 8,
    "start_time": "2022-02-13T18:36:33.440Z"
   },
   {
    "duration": 218,
    "start_time": "2022-02-13T18:36:34.215Z"
   },
   {
    "duration": 12,
    "start_time": "2022-02-13T18:37:08.945Z"
   },
   {
    "duration": 3,
    "start_time": "2022-02-13T18:37:14.940Z"
   },
   {
    "duration": 44,
    "start_time": "2022-02-13T18:37:15.288Z"
   },
   {
    "duration": 19,
    "start_time": "2022-02-13T18:37:15.708Z"
   },
   {
    "duration": 202,
    "start_time": "2022-02-13T18:37:15.980Z"
   },
   {
    "duration": 17,
    "start_time": "2022-02-13T18:37:21.828Z"
   },
   {
    "duration": 9,
    "start_time": "2022-02-13T18:37:30.064Z"
   },
   {
    "duration": 20,
    "start_time": "2022-02-13T18:39:18.460Z"
   },
   {
    "duration": 16,
    "start_time": "2022-02-13T18:39:55.595Z"
   },
   {
    "duration": 21,
    "start_time": "2022-02-13T18:44:18.135Z"
   },
   {
    "duration": 264,
    "start_time": "2022-02-13T18:44:33.968Z"
   },
   {
    "duration": 30,
    "start_time": "2022-02-13T18:44:43.148Z"
   },
   {
    "duration": 31,
    "start_time": "2022-02-13T18:45:01.655Z"
   },
   {
    "duration": 45,
    "start_time": "2022-02-13T18:45:07.375Z"
   },
   {
    "duration": 38,
    "start_time": "2022-02-13T18:45:16.024Z"
   },
   {
    "duration": 24,
    "start_time": "2022-02-13T18:46:00.781Z"
   },
   {
    "duration": 8,
    "start_time": "2022-02-13T18:46:05.896Z"
   },
   {
    "duration": 6,
    "start_time": "2022-02-13T18:46:10.424Z"
   },
   {
    "duration": 11,
    "start_time": "2022-02-13T18:46:14.896Z"
   },
   {
    "duration": 32,
    "start_time": "2022-02-13T18:46:21.977Z"
   },
   {
    "duration": 8,
    "start_time": "2022-02-13T18:46:25.268Z"
   },
   {
    "duration": 291,
    "start_time": "2022-02-13T18:47:16.437Z"
   },
   {
    "duration": 297,
    "start_time": "2022-02-13T18:47:23.207Z"
   },
   {
    "duration": 22,
    "start_time": "2022-02-13T18:48:20.102Z"
   },
   {
    "duration": 24,
    "start_time": "2022-02-13T18:48:28.861Z"
   },
   {
    "duration": 32,
    "start_time": "2022-02-13T18:48:59.137Z"
   },
   {
    "duration": 22,
    "start_time": "2022-02-13T18:49:14.193Z"
   },
   {
    "duration": 23,
    "start_time": "2022-02-13T18:50:26.942Z"
   },
   {
    "duration": 175,
    "start_time": "2022-02-13T18:55:29.174Z"
   },
   {
    "duration": 111,
    "start_time": "2022-02-13T18:57:59.962Z"
   },
   {
    "duration": 1250,
    "start_time": "2022-02-13T18:58:07.839Z"
   },
   {
    "duration": 1287,
    "start_time": "2022-02-13T18:58:36.949Z"
   },
   {
    "duration": 1342,
    "start_time": "2022-02-13T18:58:48.284Z"
   },
   {
    "duration": 1233,
    "start_time": "2022-02-13T18:59:05.770Z"
   },
   {
    "duration": 1275,
    "start_time": "2022-02-13T18:59:30.431Z"
   },
   {
    "duration": 57,
    "start_time": "2022-02-13T18:59:43.726Z"
   },
   {
    "duration": 71,
    "start_time": "2022-02-13T19:00:03.685Z"
   },
   {
    "duration": 45,
    "start_time": "2022-02-13T19:01:44.235Z"
   },
   {
    "duration": 266,
    "start_time": "2022-02-13T19:02:06.051Z"
   },
   {
    "duration": 259,
    "start_time": "2022-02-13T19:02:51.131Z"
   },
   {
    "duration": 428,
    "start_time": "2022-02-13T19:03:02.145Z"
   },
   {
    "duration": 749,
    "start_time": "2022-02-13T19:03:29.169Z"
   },
   {
    "duration": 702,
    "start_time": "2022-02-13T19:04:14.891Z"
   },
   {
    "duration": 906,
    "start_time": "2022-02-13T19:04:23.750Z"
   },
   {
    "duration": 713,
    "start_time": "2022-02-13T19:04:30.675Z"
   },
   {
    "duration": 279,
    "start_time": "2022-02-13T19:05:17.061Z"
   },
   {
    "duration": 822,
    "start_time": "2022-02-13T19:05:23.158Z"
   },
   {
    "duration": 820,
    "start_time": "2022-02-13T19:06:26.569Z"
   },
   {
    "duration": 300,
    "start_time": "2022-02-13T19:06:44.327Z"
   },
   {
    "duration": 752,
    "start_time": "2022-02-13T19:06:52.302Z"
   },
   {
    "duration": 626,
    "start_time": "2022-02-13T19:08:30.459Z"
   },
   {
    "duration": 1078,
    "start_time": "2022-02-13T19:11:08.886Z"
   },
   {
    "duration": 710,
    "start_time": "2022-02-13T19:12:14.985Z"
   },
   {
    "duration": 726,
    "start_time": "2022-02-13T19:12:36.764Z"
   },
   {
    "duration": 743,
    "start_time": "2022-02-13T19:12:45.190Z"
   },
   {
    "duration": 993,
    "start_time": "2022-02-13T19:13:08.923Z"
   },
   {
    "duration": 1025,
    "start_time": "2022-02-13T19:13:17.211Z"
   },
   {
    "duration": 464,
    "start_time": "2022-02-13T19:13:45.485Z"
   },
   {
    "duration": 589,
    "start_time": "2022-02-13T19:15:13.370Z"
   },
   {
    "duration": 7185,
    "start_time": "2022-02-13T19:16:58.850Z"
   },
   {
    "duration": 8676,
    "start_time": "2022-02-13T19:17:30.878Z"
   },
   {
    "duration": 6,
    "start_time": "2022-02-13T19:17:40.868Z"
   },
   {
    "duration": 8,
    "start_time": "2022-02-13T19:17:43.003Z"
   },
   {
    "duration": 42,
    "start_time": "2022-02-13T19:18:30.262Z"
   },
   {
    "duration": 17,
    "start_time": "2022-02-13T19:18:58.766Z"
   },
   {
    "duration": 17,
    "start_time": "2022-02-13T19:19:27.897Z"
   },
   {
    "duration": 282,
    "start_time": "2022-02-13T22:12:06.533Z"
   },
   {
    "duration": 614,
    "start_time": "2022-02-13T22:12:11.149Z"
   },
   {
    "duration": 123,
    "start_time": "2022-02-13T22:12:11.766Z"
   },
   {
    "duration": 23,
    "start_time": "2022-02-13T22:12:11.892Z"
   },
   {
    "duration": 11,
    "start_time": "2022-02-13T22:12:11.918Z"
   },
   {
    "duration": 5,
    "start_time": "2022-02-13T22:12:11.932Z"
   },
   {
    "duration": 6,
    "start_time": "2022-02-13T22:12:11.938Z"
   },
   {
    "duration": 8,
    "start_time": "2022-02-13T22:12:11.946Z"
   },
   {
    "duration": 79,
    "start_time": "2022-02-13T22:12:11.957Z"
   },
   {
    "duration": 35,
    "start_time": "2022-02-13T22:12:12.038Z"
   },
   {
    "duration": 11,
    "start_time": "2022-02-13T22:12:12.075Z"
   },
   {
    "duration": 31,
    "start_time": "2022-02-13T22:12:12.108Z"
   },
   {
    "duration": 14,
    "start_time": "2022-02-13T22:12:12.141Z"
   },
   {
    "duration": 55,
    "start_time": "2022-02-13T22:12:12.157Z"
   },
   {
    "duration": 7,
    "start_time": "2022-02-13T22:12:12.214Z"
   },
   {
    "duration": 37,
    "start_time": "2022-02-13T22:12:12.223Z"
   },
   {
    "duration": 541,
    "start_time": "2022-02-13T22:12:12.262Z"
   },
   {
    "duration": 41,
    "start_time": "2022-02-13T22:12:12.805Z"
   },
   {
    "duration": 4,
    "start_time": "2022-02-13T22:12:12.848Z"
   },
   {
    "duration": 586,
    "start_time": "2022-02-13T22:12:12.853Z"
   },
   {
    "duration": 419,
    "start_time": "2022-02-13T22:12:13.441Z"
   },
   {
    "duration": 519,
    "start_time": "2022-02-13T22:12:13.862Z"
   },
   {
    "duration": 247,
    "start_time": "2022-02-13T22:12:14.383Z"
   },
   {
    "duration": 435,
    "start_time": "2022-02-13T22:12:14.634Z"
   },
   {
    "duration": 6,
    "start_time": "2022-02-13T22:12:15.072Z"
   },
   {
    "duration": 346,
    "start_time": "2022-02-13T22:12:15.080Z"
   },
   {
    "duration": 8,
    "start_time": "2022-02-13T22:12:15.428Z"
   },
   {
    "duration": 159,
    "start_time": "2022-02-13T22:12:15.438Z"
   },
   {
    "duration": 15,
    "start_time": "2022-02-13T22:12:15.600Z"
   },
   {
    "duration": 3,
    "start_time": "2022-02-13T22:12:15.617Z"
   },
   {
    "duration": 35,
    "start_time": "2022-02-13T22:12:15.622Z"
   },
   {
    "duration": 13,
    "start_time": "2022-02-13T22:12:15.659Z"
   },
   {
    "duration": 110,
    "start_time": "2022-02-13T22:12:15.674Z"
   },
   {
    "duration": 26,
    "start_time": "2022-02-13T22:12:15.786Z"
   },
   {
    "duration": 12,
    "start_time": "2022-02-13T22:12:15.813Z"
   },
   {
    "duration": 17,
    "start_time": "2022-02-13T22:12:15.827Z"
   },
   {
    "duration": 67,
    "start_time": "2022-02-13T22:12:15.845Z"
   },
   {
    "duration": 360,
    "start_time": "2022-02-13T22:12:15.914Z"
   },
   {
    "duration": 39,
    "start_time": "2022-02-13T22:12:16.276Z"
   },
   {
    "duration": 11,
    "start_time": "2022-02-13T22:12:16.318Z"
   },
   {
    "duration": 17,
    "start_time": "2022-02-13T22:12:16.330Z"
   },
   {
    "duration": 5,
    "start_time": "2022-02-13T22:12:16.349Z"
   },
   {
    "duration": 10,
    "start_time": "2022-02-13T22:18:39.156Z"
   },
   {
    "duration": 342,
    "start_time": "2022-02-13T22:21:27.093Z"
   },
   {
    "duration": 6,
    "start_time": "2022-02-13T22:22:27.515Z"
   },
   {
    "duration": 8,
    "start_time": "2022-02-13T22:22:46.302Z"
   },
   {
    "duration": 44,
    "start_time": "2022-02-13T22:23:32.687Z"
   },
   {
    "duration": 322,
    "start_time": "2022-02-13T22:24:02.964Z"
   },
   {
    "duration": 44,
    "start_time": "2022-02-13T22:24:23.182Z"
   },
   {
    "duration": 39,
    "start_time": "2022-02-13T22:24:39.265Z"
   },
   {
    "duration": 11,
    "start_time": "2022-02-13T22:27:08.820Z"
   },
   {
    "duration": 11,
    "start_time": "2022-02-13T22:27:29.706Z"
   },
   {
    "duration": 9,
    "start_time": "2022-02-13T22:31:00.254Z"
   },
   {
    "duration": 58,
    "start_time": "2022-02-13T22:34:10.382Z"
   },
   {
    "duration": 3,
    "start_time": "2022-02-13T22:37:34.857Z"
   },
   {
    "duration": 161,
    "start_time": "2022-02-13T22:37:34.862Z"
   },
   {
    "duration": 12,
    "start_time": "2022-02-13T22:37:35.025Z"
   },
   {
    "duration": 21,
    "start_time": "2022-02-13T22:37:35.039Z"
   },
   {
    "duration": 13,
    "start_time": "2022-02-13T22:37:35.062Z"
   },
   {
    "duration": 24,
    "start_time": "2022-02-13T22:37:35.077Z"
   },
   {
    "duration": 26,
    "start_time": "2022-02-13T22:37:35.103Z"
   },
   {
    "duration": 79,
    "start_time": "2022-02-13T22:37:35.132Z"
   },
   {
    "duration": 33,
    "start_time": "2022-02-13T22:37:35.213Z"
   },
   {
    "duration": 32,
    "start_time": "2022-02-13T22:37:35.248Z"
   },
   {
    "duration": 18,
    "start_time": "2022-02-13T22:37:35.282Z"
   },
   {
    "duration": 43,
    "start_time": "2022-02-13T22:37:35.314Z"
   },
   {
    "duration": 251,
    "start_time": "2022-02-13T22:37:35.515Z"
   },
   {
    "duration": -124,
    "start_time": "2022-02-13T22:37:35.893Z"
   },
   {
    "duration": 37,
    "start_time": "2022-02-13T22:37:35.770Z"
   },
   {
    "duration": 9,
    "start_time": "2022-02-13T22:37:35.809Z"
   },
   {
    "duration": 15,
    "start_time": "2022-02-13T22:37:35.820Z"
   },
   {
    "duration": 58,
    "start_time": "2022-02-13T22:37:35.837Z"
   },
   {
    "duration": 602,
    "start_time": "2022-02-13T22:37:35.897Z"
   },
   {
    "duration": 45,
    "start_time": "2022-02-13T22:37:36.502Z"
   },
   {
    "duration": 4,
    "start_time": "2022-02-13T22:37:36.549Z"
   },
   {
    "duration": 11,
    "start_time": "2022-02-13T22:37:36.556Z"
   },
   {
    "duration": 438,
    "start_time": "2022-02-13T22:37:36.569Z"
   },
   {
    "duration": 427,
    "start_time": "2022-02-13T22:37:37.009Z"
   },
   {
    "duration": 241,
    "start_time": "2022-02-13T22:37:37.438Z"
   },
   {
    "duration": 432,
    "start_time": "2022-02-13T22:37:37.681Z"
   },
   {
    "duration": 5,
    "start_time": "2022-02-13T22:37:38.116Z"
   },
   {
    "duration": 363,
    "start_time": "2022-02-13T22:37:38.123Z"
   },
   {
    "duration": 6,
    "start_time": "2022-02-13T22:37:38.488Z"
   },
   {
    "duration": 247,
    "start_time": "2022-02-13T22:37:38.507Z"
   },
   {
    "duration": 9,
    "start_time": "2022-02-13T22:37:38.756Z"
   },
   {
    "duration": 22,
    "start_time": "2022-02-13T22:37:38.767Z"
   },
   {
    "duration": 50,
    "start_time": "2022-02-13T22:37:38.791Z"
   },
   {
    "duration": 13,
    "start_time": "2022-02-13T22:37:38.843Z"
   },
   {
    "duration": 102,
    "start_time": "2022-02-13T22:37:38.858Z"
   },
   {
    "duration": 11,
    "start_time": "2022-02-13T22:37:38.963Z"
   },
   {
    "duration": 16,
    "start_time": "2022-02-13T22:37:38.978Z"
   },
   {
    "duration": 32,
    "start_time": "2022-02-13T22:37:38.996Z"
   },
   {
    "duration": 42,
    "start_time": "2022-02-13T22:37:39.030Z"
   },
   {
    "duration": 354,
    "start_time": "2022-02-13T22:37:39.074Z"
   },
   {
    "duration": 25,
    "start_time": "2022-02-13T22:37:39.430Z"
   },
   {
    "duration": 21,
    "start_time": "2022-02-13T22:37:39.457Z"
   },
   {
    "duration": 30,
    "start_time": "2022-02-13T22:37:39.480Z"
   },
   {
    "duration": 10,
    "start_time": "2022-02-13T22:37:39.512Z"
   },
   {
    "duration": 5,
    "start_time": "2022-02-13T22:39:22.987Z"
   },
   {
    "duration": 263,
    "start_time": "2022-02-13T22:42:56.210Z"
   },
   {
    "duration": 260,
    "start_time": "2022-02-13T22:44:05.699Z"
   },
   {
    "duration": 3,
    "start_time": "2022-02-13T22:46:22.116Z"
   },
   {
    "duration": 110,
    "start_time": "2022-02-13T22:46:22.124Z"
   },
   {
    "duration": 15,
    "start_time": "2022-02-13T22:46:22.237Z"
   },
   {
    "duration": 11,
    "start_time": "2022-02-13T22:46:22.255Z"
   },
   {
    "duration": 4,
    "start_time": "2022-02-13T22:46:22.269Z"
   },
   {
    "duration": 34,
    "start_time": "2022-02-13T22:46:22.276Z"
   },
   {
    "duration": 8,
    "start_time": "2022-02-13T22:46:22.312Z"
   },
   {
    "duration": 50,
    "start_time": "2022-02-13T22:46:22.322Z"
   },
   {
    "duration": 63,
    "start_time": "2022-02-13T22:46:22.375Z"
   },
   {
    "duration": 263,
    "start_time": "2022-02-13T22:46:22.441Z"
   },
   {
    "duration": -55,
    "start_time": "2022-02-13T22:46:22.762Z"
   },
   {
    "duration": -58,
    "start_time": "2022-02-13T22:46:22.766Z"
   },
   {
    "duration": -62,
    "start_time": "2022-02-13T22:46:22.771Z"
   },
   {
    "duration": -64,
    "start_time": "2022-02-13T22:46:22.774Z"
   },
   {
    "duration": -66,
    "start_time": "2022-02-13T22:46:22.777Z"
   },
   {
    "duration": -69,
    "start_time": "2022-02-13T22:46:22.780Z"
   },
   {
    "duration": -71,
    "start_time": "2022-02-13T22:46:22.783Z"
   },
   {
    "duration": -72,
    "start_time": "2022-02-13T22:46:22.785Z"
   },
   {
    "duration": -74,
    "start_time": "2022-02-13T22:46:22.788Z"
   },
   {
    "duration": -76,
    "start_time": "2022-02-13T22:46:22.791Z"
   },
   {
    "duration": -77,
    "start_time": "2022-02-13T22:46:22.793Z"
   },
   {
    "duration": -79,
    "start_time": "2022-02-13T22:46:22.796Z"
   },
   {
    "duration": -81,
    "start_time": "2022-02-13T22:46:22.799Z"
   },
   {
    "duration": -82,
    "start_time": "2022-02-13T22:46:22.801Z"
   },
   {
    "duration": -84,
    "start_time": "2022-02-13T22:46:22.804Z"
   },
   {
    "duration": -88,
    "start_time": "2022-02-13T22:46:22.808Z"
   },
   {
    "duration": -89,
    "start_time": "2022-02-13T22:46:22.810Z"
   },
   {
    "duration": -91,
    "start_time": "2022-02-13T22:46:22.813Z"
   },
   {
    "duration": -93,
    "start_time": "2022-02-13T22:46:22.816Z"
   },
   {
    "duration": -95,
    "start_time": "2022-02-13T22:46:22.819Z"
   },
   {
    "duration": -96,
    "start_time": "2022-02-13T22:46:22.821Z"
   },
   {
    "duration": -99,
    "start_time": "2022-02-13T22:46:22.825Z"
   },
   {
    "duration": -100,
    "start_time": "2022-02-13T22:46:22.827Z"
   },
   {
    "duration": -101,
    "start_time": "2022-02-13T22:46:22.829Z"
   },
   {
    "duration": -103,
    "start_time": "2022-02-13T22:46:22.832Z"
   },
   {
    "duration": -105,
    "start_time": "2022-02-13T22:46:22.835Z"
   },
   {
    "duration": -107,
    "start_time": "2022-02-13T22:46:22.837Z"
   },
   {
    "duration": -110,
    "start_time": "2022-02-13T22:46:22.841Z"
   },
   {
    "duration": -111,
    "start_time": "2022-02-13T22:46:22.843Z"
   },
   {
    "duration": -113,
    "start_time": "2022-02-13T22:46:22.846Z"
   },
   {
    "duration": -115,
    "start_time": "2022-02-13T22:46:22.849Z"
   },
   {
    "duration": -116,
    "start_time": "2022-02-13T22:46:22.851Z"
   },
   {
    "duration": -118,
    "start_time": "2022-02-13T22:46:22.854Z"
   },
   {
    "duration": -121,
    "start_time": "2022-02-13T22:46:22.857Z"
   },
   {
    "duration": -138,
    "start_time": "2022-02-13T22:46:22.875Z"
   },
   {
    "duration": 6,
    "start_time": "2022-02-13T22:47:09.701Z"
   },
   {
    "duration": 22,
    "start_time": "2022-02-13T22:47:24.083Z"
   },
   {
    "duration": 36,
    "start_time": "2022-02-13T22:47:35.768Z"
   },
   {
    "duration": 17,
    "start_time": "2022-02-13T22:49:19.373Z"
   },
   {
    "duration": 6,
    "start_time": "2022-02-13T22:56:00.495Z"
   },
   {
    "duration": 3,
    "start_time": "2022-02-13T22:57:44.780Z"
   },
   {
    "duration": 110,
    "start_time": "2022-02-13T22:57:44.785Z"
   },
   {
    "duration": 16,
    "start_time": "2022-02-13T22:57:44.898Z"
   },
   {
    "duration": 13,
    "start_time": "2022-02-13T22:57:44.917Z"
   },
   {
    "duration": 9,
    "start_time": "2022-02-13T22:57:44.932Z"
   },
   {
    "duration": 8,
    "start_time": "2022-02-13T22:57:44.943Z"
   },
   {
    "duration": 7,
    "start_time": "2022-02-13T22:57:44.953Z"
   },
   {
    "duration": 73,
    "start_time": "2022-02-13T22:57:44.962Z"
   },
   {
    "duration": 36,
    "start_time": "2022-02-13T22:57:45.037Z"
   },
   {
    "duration": 19,
    "start_time": "2022-02-13T22:57:45.108Z"
   },
   {
    "duration": 10,
    "start_time": "2022-02-13T22:57:45.128Z"
   },
   {
    "duration": 9,
    "start_time": "2022-02-13T22:57:45.139Z"
   },
   {
    "duration": 30,
    "start_time": "2022-02-13T22:57:45.150Z"
   },
   {
    "duration": 5,
    "start_time": "2022-02-13T22:57:45.208Z"
   },
   {
    "duration": 8,
    "start_time": "2022-02-13T22:57:45.215Z"
   },
   {
    "duration": 17,
    "start_time": "2022-02-13T22:57:45.225Z"
   },
   {
    "duration": 38,
    "start_time": "2022-02-13T22:57:45.244Z"
   },
   {
    "duration": 4,
    "start_time": "2022-02-13T22:57:45.308Z"
   },
   {
    "duration": 13,
    "start_time": "2022-02-13T22:57:45.314Z"
   },
   {
    "duration": 6,
    "start_time": "2022-02-13T22:57:45.329Z"
   },
   {
    "duration": 41,
    "start_time": "2022-02-13T22:57:45.337Z"
   },
   {
    "duration": 508,
    "start_time": "2022-02-13T22:57:45.380Z"
   },
   {
    "duration": 48,
    "start_time": "2022-02-13T22:57:45.889Z"
   },
   {
    "duration": 4,
    "start_time": "2022-02-13T22:57:45.939Z"
   },
   {
    "duration": 12,
    "start_time": "2022-02-13T22:57:45.945Z"
   },
   {
    "duration": 418,
    "start_time": "2022-02-13T22:57:45.959Z"
   },
   {
    "duration": 422,
    "start_time": "2022-02-13T22:57:46.380Z"
   },
   {
    "duration": 404,
    "start_time": "2022-02-13T22:57:46.807Z"
   },
   {
    "duration": 601,
    "start_time": "2022-02-13T22:57:47.213Z"
   },
   {
    "duration": 5,
    "start_time": "2022-02-13T22:57:47.816Z"
   },
   {
    "duration": 352,
    "start_time": "2022-02-13T22:57:47.823Z"
   },
   {
    "duration": 416,
    "start_time": "2022-02-13T22:57:48.178Z"
   },
   {
    "duration": -9,
    "start_time": "2022-02-13T22:57:48.605Z"
   },
   {
    "duration": -10,
    "start_time": "2022-02-13T22:57:48.608Z"
   },
   {
    "duration": -12,
    "start_time": "2022-02-13T22:57:48.611Z"
   },
   {
    "duration": -14,
    "start_time": "2022-02-13T22:57:48.615Z"
   },
   {
    "duration": -14,
    "start_time": "2022-02-13T22:57:48.617Z"
   },
   {
    "duration": -16,
    "start_time": "2022-02-13T22:57:48.621Z"
   },
   {
    "duration": -19,
    "start_time": "2022-02-13T22:57:48.625Z"
   },
   {
    "duration": -22,
    "start_time": "2022-02-13T22:57:48.629Z"
   },
   {
    "duration": -25,
    "start_time": "2022-02-13T22:57:48.633Z"
   },
   {
    "duration": -27,
    "start_time": "2022-02-13T22:57:48.636Z"
   },
   {
    "duration": -31,
    "start_time": "2022-02-13T22:57:48.640Z"
   },
   {
    "duration": -33,
    "start_time": "2022-02-13T22:57:48.643Z"
   },
   {
    "duration": -35,
    "start_time": "2022-02-13T22:57:48.646Z"
   },
   {
    "duration": -38,
    "start_time": "2022-02-13T22:57:48.650Z"
   },
   {
    "duration": -40,
    "start_time": "2022-02-13T22:57:48.653Z"
   },
   {
    "duration": 13,
    "start_time": "2022-02-13T22:58:35.022Z"
   },
   {
    "duration": 330,
    "start_time": "2022-02-13T22:59:35.770Z"
   },
   {
    "duration": 4,
    "start_time": "2022-02-13T22:59:42.680Z"
   },
   {
    "duration": 3,
    "start_time": "2022-02-13T23:03:18.612Z"
   },
   {
    "duration": 119,
    "start_time": "2022-02-13T23:03:18.617Z"
   },
   {
    "duration": 11,
    "start_time": "2022-02-13T23:03:18.738Z"
   },
   {
    "duration": 9,
    "start_time": "2022-02-13T23:03:18.752Z"
   },
   {
    "duration": 12,
    "start_time": "2022-02-13T23:03:18.763Z"
   },
   {
    "duration": 9,
    "start_time": "2022-02-13T23:03:18.777Z"
   },
   {
    "duration": 22,
    "start_time": "2022-02-13T23:03:18.788Z"
   },
   {
    "duration": 48,
    "start_time": "2022-02-13T23:03:18.812Z"
   },
   {
    "duration": 54,
    "start_time": "2022-02-13T23:03:18.863Z"
   },
   {
    "duration": 17,
    "start_time": "2022-02-13T23:03:18.920Z"
   },
   {
    "duration": 10,
    "start_time": "2022-02-13T23:03:18.939Z"
   },
   {
    "duration": 13,
    "start_time": "2022-02-13T23:03:18.950Z"
   },
   {
    "duration": 58,
    "start_time": "2022-02-13T23:03:18.965Z"
   },
   {
    "duration": 5,
    "start_time": "2022-02-13T23:03:19.025Z"
   },
   {
    "duration": 11,
    "start_time": "2022-02-13T23:03:19.032Z"
   },
   {
    "duration": 19,
    "start_time": "2022-02-13T23:03:19.045Z"
   },
   {
    "duration": 54,
    "start_time": "2022-02-13T23:03:19.066Z"
   },
   {
    "duration": 4,
    "start_time": "2022-02-13T23:03:19.122Z"
   },
   {
    "duration": 14,
    "start_time": "2022-02-13T23:03:19.128Z"
   },
   {
    "duration": 12,
    "start_time": "2022-02-13T23:03:19.144Z"
   },
   {
    "duration": 6,
    "start_time": "2022-02-13T23:03:19.159Z"
   },
   {
    "duration": 67,
    "start_time": "2022-02-13T23:03:19.168Z"
   },
   {
    "duration": 506,
    "start_time": "2022-02-13T23:03:19.236Z"
   },
   {
    "duration": 41,
    "start_time": "2022-02-13T23:03:19.744Z"
   },
   {
    "duration": 4,
    "start_time": "2022-02-13T23:03:19.787Z"
   },
   {
    "duration": 18,
    "start_time": "2022-02-13T23:03:19.793Z"
   },
   {
    "duration": 420,
    "start_time": "2022-02-13T23:03:19.813Z"
   },
   {
    "duration": 421,
    "start_time": "2022-02-13T23:03:20.235Z"
   },
   {
    "duration": 238,
    "start_time": "2022-02-13T23:03:20.658Z"
   },
   {
    "duration": 545,
    "start_time": "2022-02-13T23:03:20.898Z"
   },
   {
    "duration": 5,
    "start_time": "2022-02-13T23:03:21.446Z"
   },
   {
    "duration": 356,
    "start_time": "2022-02-13T23:03:21.453Z"
   },
   {
    "duration": 429,
    "start_time": "2022-02-13T23:03:21.812Z"
   },
   {
    "duration": -62,
    "start_time": "2022-02-13T23:03:22.306Z"
   },
   {
    "duration": -65,
    "start_time": "2022-02-13T23:03:22.310Z"
   },
   {
    "duration": -67,
    "start_time": "2022-02-13T23:03:22.314Z"
   },
   {
    "duration": -68,
    "start_time": "2022-02-13T23:03:22.317Z"
   },
   {
    "duration": -71,
    "start_time": "2022-02-13T23:03:22.321Z"
   },
   {
    "duration": -72,
    "start_time": "2022-02-13T23:03:22.323Z"
   },
   {
    "duration": -75,
    "start_time": "2022-02-13T23:03:22.327Z"
   },
   {
    "duration": -77,
    "start_time": "2022-02-13T23:03:22.330Z"
   },
   {
    "duration": -80,
    "start_time": "2022-02-13T23:03:22.335Z"
   },
   {
    "duration": -81,
    "start_time": "2022-02-13T23:03:22.337Z"
   },
   {
    "duration": -83,
    "start_time": "2022-02-13T23:03:22.340Z"
   },
   {
    "duration": -85,
    "start_time": "2022-02-13T23:03:22.343Z"
   },
   {
    "duration": -89,
    "start_time": "2022-02-13T23:03:22.348Z"
   },
   {
    "duration": -92,
    "start_time": "2022-02-13T23:03:22.352Z"
   },
   {
    "duration": -94,
    "start_time": "2022-02-13T23:03:22.355Z"
   },
   {
    "duration": 5,
    "start_time": "2022-02-13T23:04:22.446Z"
   },
   {
    "duration": 3,
    "start_time": "2022-02-13T23:04:40.390Z"
   },
   {
    "duration": 143,
    "start_time": "2022-02-13T23:04:40.398Z"
   },
   {
    "duration": 12,
    "start_time": "2022-02-13T23:04:40.543Z"
   },
   {
    "duration": 21,
    "start_time": "2022-02-13T23:04:40.557Z"
   },
   {
    "duration": 6,
    "start_time": "2022-02-13T23:04:40.580Z"
   },
   {
    "duration": 22,
    "start_time": "2022-02-13T23:04:40.587Z"
   },
   {
    "duration": 23,
    "start_time": "2022-02-13T23:04:40.611Z"
   },
   {
    "duration": 57,
    "start_time": "2022-02-13T23:04:40.636Z"
   },
   {
    "duration": 33,
    "start_time": "2022-02-13T23:04:40.695Z"
   },
   {
    "duration": 20,
    "start_time": "2022-02-13T23:04:40.732Z"
   },
   {
    "duration": 14,
    "start_time": "2022-02-13T23:04:40.754Z"
   },
   {
    "duration": 21,
    "start_time": "2022-02-13T23:04:40.770Z"
   },
   {
    "duration": 18,
    "start_time": "2022-02-13T23:04:40.793Z"
   },
   {
    "duration": 23,
    "start_time": "2022-02-13T23:04:40.813Z"
   },
   {
    "duration": 25,
    "start_time": "2022-02-13T23:04:40.838Z"
   },
   {
    "duration": 45,
    "start_time": "2022-02-13T23:04:40.865Z"
   },
   {
    "duration": 4,
    "start_time": "2022-02-13T23:04:40.912Z"
   },
   {
    "duration": 25,
    "start_time": "2022-02-13T23:04:40.918Z"
   },
   {
    "duration": 21,
    "start_time": "2022-02-13T23:04:40.944Z"
   },
   {
    "duration": 22,
    "start_time": "2022-02-13T23:04:40.967Z"
   },
   {
    "duration": 51,
    "start_time": "2022-02-13T23:04:40.991Z"
   },
   {
    "duration": 617,
    "start_time": "2022-02-13T23:04:41.044Z"
   },
   {
    "duration": 47,
    "start_time": "2022-02-13T23:04:41.663Z"
   },
   {
    "duration": 4,
    "start_time": "2022-02-13T23:04:41.712Z"
   },
   {
    "duration": 16,
    "start_time": "2022-02-13T23:04:41.718Z"
   },
   {
    "duration": 449,
    "start_time": "2022-02-13T23:04:41.736Z"
   },
   {
    "duration": 433,
    "start_time": "2022-02-13T23:04:42.187Z"
   },
   {
    "duration": 351,
    "start_time": "2022-02-13T23:04:42.625Z"
   },
   {
    "duration": 423,
    "start_time": "2022-02-13T23:04:42.979Z"
   },
   {
    "duration": 4,
    "start_time": "2022-02-13T23:04:43.407Z"
   },
   {
    "duration": 345,
    "start_time": "2022-02-13T23:04:43.412Z"
   },
   {
    "duration": 6,
    "start_time": "2022-02-13T23:04:43.759Z"
   },
   {
    "duration": 155,
    "start_time": "2022-02-13T23:04:43.767Z"
   },
   {
    "duration": 10,
    "start_time": "2022-02-13T23:04:43.924Z"
   },
   {
    "duration": 3,
    "start_time": "2022-02-13T23:04:43.936Z"
   },
   {
    "duration": 34,
    "start_time": "2022-02-13T23:04:43.940Z"
   },
   {
    "duration": 41,
    "start_time": "2022-02-13T23:04:43.976Z"
   },
   {
    "duration": 137,
    "start_time": "2022-02-13T23:04:44.019Z"
   },
   {
    "duration": 17,
    "start_time": "2022-02-13T23:04:44.158Z"
   },
   {
    "duration": 12,
    "start_time": "2022-02-13T23:04:44.176Z"
   },
   {
    "duration": 16,
    "start_time": "2022-02-13T23:04:44.207Z"
   },
   {
    "duration": 194,
    "start_time": "2022-02-13T23:04:44.225Z"
   },
   {
    "duration": 363,
    "start_time": "2022-02-13T23:04:44.421Z"
   },
   {
    "duration": 39,
    "start_time": "2022-02-13T23:04:44.786Z"
   },
   {
    "duration": 10,
    "start_time": "2022-02-13T23:04:44.827Z"
   },
   {
    "duration": 14,
    "start_time": "2022-02-13T23:04:44.839Z"
   },
   {
    "duration": 4,
    "start_time": "2022-02-13T23:04:44.855Z"
   },
   {
    "duration": 3,
    "start_time": "2022-02-13T23:10:08.712Z"
   },
   {
    "duration": 124,
    "start_time": "2022-02-13T23:10:08.717Z"
   },
   {
    "duration": 13,
    "start_time": "2022-02-13T23:10:08.844Z"
   },
   {
    "duration": 10,
    "start_time": "2022-02-13T23:10:08.859Z"
   },
   {
    "duration": 8,
    "start_time": "2022-02-13T23:10:08.871Z"
   },
   {
    "duration": 27,
    "start_time": "2022-02-13T23:10:08.881Z"
   },
   {
    "duration": 5,
    "start_time": "2022-02-13T23:10:08.910Z"
   },
   {
    "duration": 49,
    "start_time": "2022-02-13T23:10:08.917Z"
   },
   {
    "duration": 60,
    "start_time": "2022-02-13T23:10:08.969Z"
   },
   {
    "duration": 16,
    "start_time": "2022-02-13T23:10:09.032Z"
   },
   {
    "duration": 13,
    "start_time": "2022-02-13T23:10:09.051Z"
   },
   {
    "duration": 8,
    "start_time": "2022-02-13T23:10:09.066Z"
   },
   {
    "duration": 31,
    "start_time": "2022-02-13T23:10:09.076Z"
   },
   {
    "duration": 6,
    "start_time": "2022-02-13T23:10:09.109Z"
   },
   {
    "duration": 13,
    "start_time": "2022-02-13T23:10:09.116Z"
   },
   {
    "duration": 36,
    "start_time": "2022-02-13T23:10:09.131Z"
   },
   {
    "duration": 4,
    "start_time": "2022-02-13T23:10:09.169Z"
   },
   {
    "duration": 37,
    "start_time": "2022-02-13T23:10:09.175Z"
   },
   {
    "duration": 11,
    "start_time": "2022-02-13T23:10:09.215Z"
   },
   {
    "duration": 5,
    "start_time": "2022-02-13T23:10:09.229Z"
   },
   {
    "duration": 21,
    "start_time": "2022-02-13T23:10:09.236Z"
   },
   {
    "duration": 567,
    "start_time": "2022-02-13T23:10:09.260Z"
   },
   {
    "duration": 43,
    "start_time": "2022-02-13T23:10:09.829Z"
   },
   {
    "duration": 3,
    "start_time": "2022-02-13T23:10:09.874Z"
   },
   {
    "duration": 536,
    "start_time": "2022-02-13T23:10:09.879Z"
   },
   {
    "duration": 548,
    "start_time": "2022-02-13T23:10:10.418Z"
   },
   {
    "duration": 280,
    "start_time": "2022-02-13T23:10:10.968Z"
   },
   {
    "duration": 485,
    "start_time": "2022-02-13T23:10:11.250Z"
   },
   {
    "duration": 5,
    "start_time": "2022-02-13T23:10:11.737Z"
   },
   {
    "duration": 588,
    "start_time": "2022-02-13T23:10:11.744Z"
   },
   {
    "duration": 7,
    "start_time": "2022-02-13T23:10:12.334Z"
   },
   {
    "duration": 167,
    "start_time": "2022-02-13T23:10:12.342Z"
   },
   {
    "duration": 10,
    "start_time": "2022-02-13T23:10:12.513Z"
   },
   {
    "duration": 14,
    "start_time": "2022-02-13T23:10:12.525Z"
   },
   {
    "duration": 48,
    "start_time": "2022-02-13T23:10:12.541Z"
   },
   {
    "duration": 16,
    "start_time": "2022-02-13T23:10:12.591Z"
   },
   {
    "duration": 145,
    "start_time": "2022-02-13T23:10:12.609Z"
   },
   {
    "duration": 17,
    "start_time": "2022-02-13T23:10:12.757Z"
   },
   {
    "duration": 12,
    "start_time": "2022-02-13T23:10:12.776Z"
   },
   {
    "duration": 33,
    "start_time": "2022-02-13T23:10:12.790Z"
   },
   {
    "duration": 189,
    "start_time": "2022-02-13T23:10:12.825Z"
   },
   {
    "duration": 366,
    "start_time": "2022-02-13T23:10:13.016Z"
   },
   {
    "duration": 35,
    "start_time": "2022-02-13T23:10:13.384Z"
   },
   {
    "duration": 11,
    "start_time": "2022-02-13T23:10:13.421Z"
   },
   {
    "duration": 14,
    "start_time": "2022-02-13T23:10:13.434Z"
   },
   {
    "duration": 7,
    "start_time": "2022-02-13T23:10:13.450Z"
   },
   {
    "duration": 28,
    "start_time": "2022-02-13T23:25:41.808Z"
   },
   {
    "duration": 1956,
    "start_time": "2022-02-14T00:07:40.906Z"
   },
   {
    "duration": 1890,
    "start_time": "2022-02-14T00:08:01.560Z"
   },
   {
    "duration": 1922,
    "start_time": "2022-02-14T00:08:46.866Z"
   },
   {
    "duration": 528,
    "start_time": "2022-02-14T00:10:28.210Z"
   },
   {
    "duration": 530,
    "start_time": "2022-02-14T00:10:54.657Z"
   },
   {
    "duration": 524,
    "start_time": "2022-02-14T00:11:42.443Z"
   },
   {
    "duration": 532,
    "start_time": "2022-02-14T00:13:33.751Z"
   },
   {
    "duration": 526,
    "start_time": "2022-02-14T00:14:59.855Z"
   },
   {
    "duration": 530,
    "start_time": "2022-02-14T00:15:36.926Z"
   },
   {
    "duration": 83,
    "start_time": "2022-02-14T00:17:33.199Z"
   },
   {
    "duration": 23,
    "start_time": "2022-02-14T00:21:43.761Z"
   },
   {
    "duration": 21,
    "start_time": "2022-02-14T00:21:53.890Z"
   },
   {
    "duration": 558,
    "start_time": "2022-02-14T00:23:32.616Z"
   },
   {
    "duration": 26,
    "start_time": "2022-02-14T00:44:50.627Z"
   },
   {
    "duration": 18,
    "start_time": "2022-02-14T00:46:44.255Z"
   },
   {
    "duration": 24,
    "start_time": "2022-02-14T00:46:59.753Z"
   },
   {
    "duration": 4,
    "start_time": "2022-02-14T01:12:41.366Z"
   },
   {
    "duration": 147,
    "start_time": "2022-02-14T01:12:41.375Z"
   },
   {
    "duration": 13,
    "start_time": "2022-02-14T01:12:41.524Z"
   },
   {
    "duration": 10,
    "start_time": "2022-02-14T01:12:41.540Z"
   },
   {
    "duration": 4,
    "start_time": "2022-02-14T01:12:41.552Z"
   },
   {
    "duration": 13,
    "start_time": "2022-02-14T01:12:41.558Z"
   },
   {
    "duration": 35,
    "start_time": "2022-02-14T01:12:41.573Z"
   },
   {
    "duration": 42,
    "start_time": "2022-02-14T01:12:41.611Z"
   },
   {
    "duration": 55,
    "start_time": "2022-02-14T01:12:41.655Z"
   },
   {
    "duration": 18,
    "start_time": "2022-02-14T01:12:41.713Z"
   },
   {
    "duration": 10,
    "start_time": "2022-02-14T01:12:41.734Z"
   },
   {
    "duration": 6,
    "start_time": "2022-02-14T01:12:41.746Z"
   },
   {
    "duration": 12,
    "start_time": "2022-02-14T01:12:41.754Z"
   },
   {
    "duration": 39,
    "start_time": "2022-02-14T01:12:41.768Z"
   },
   {
    "duration": 10,
    "start_time": "2022-02-14T01:12:41.809Z"
   },
   {
    "duration": 46,
    "start_time": "2022-02-14T01:12:41.821Z"
   },
   {
    "duration": 4,
    "start_time": "2022-02-14T01:12:41.869Z"
   },
   {
    "duration": 15,
    "start_time": "2022-02-14T01:12:41.875Z"
   },
   {
    "duration": 23,
    "start_time": "2022-02-14T01:12:41.892Z"
   },
   {
    "duration": 6,
    "start_time": "2022-02-14T01:12:41.917Z"
   },
   {
    "duration": 21,
    "start_time": "2022-02-14T01:12:41.925Z"
   },
   {
    "duration": 638,
    "start_time": "2022-02-14T01:12:41.948Z"
   },
   {
    "duration": 45,
    "start_time": "2022-02-14T01:12:42.588Z"
   },
   {
    "duration": 26,
    "start_time": "2022-02-14T01:12:42.635Z"
   },
   {
    "duration": 426,
    "start_time": "2022-02-14T01:12:42.663Z"
   },
   {
    "duration": 416,
    "start_time": "2022-02-14T01:12:43.091Z"
   },
   {
    "duration": 227,
    "start_time": "2022-02-14T01:12:43.509Z"
   },
   {
    "duration": 424,
    "start_time": "2022-02-14T01:12:43.740Z"
   },
   {
    "duration": 351,
    "start_time": "2022-02-14T01:12:44.167Z"
   },
   {
    "duration": 5,
    "start_time": "2022-02-14T01:12:44.520Z"
   },
   {
    "duration": 326,
    "start_time": "2022-02-14T01:12:44.527Z"
   },
   {
    "duration": 10,
    "start_time": "2022-02-14T01:12:44.855Z"
   },
   {
    "duration": 10,
    "start_time": "2022-02-14T01:12:44.868Z"
   },
   {
    "duration": 47,
    "start_time": "2022-02-14T01:12:44.880Z"
   },
   {
    "duration": 18,
    "start_time": "2022-02-14T01:12:44.930Z"
   },
   {
    "duration": 159,
    "start_time": "2022-02-14T01:12:44.950Z"
   },
   {
    "duration": 23,
    "start_time": "2022-02-14T01:12:45.111Z"
   },
   {
    "duration": 571,
    "start_time": "2022-02-14T01:12:45.136Z"
   },
   {
    "duration": 561,
    "start_time": "2022-02-14T01:12:45.709Z"
   },
   {
    "duration": 530,
    "start_time": "2022-02-14T01:12:46.272Z"
   },
   {
    "duration": 12,
    "start_time": "2022-02-14T01:12:46.804Z"
   },
   {
    "duration": 592,
    "start_time": "2022-02-14T01:12:46.817Z"
   },
   {
    "duration": 540,
    "start_time": "2022-02-14T01:12:47.411Z"
   },
   {
    "duration": 556,
    "start_time": "2022-02-14T01:12:47.953Z"
   },
   {
    "duration": 16,
    "start_time": "2022-02-14T01:12:48.511Z"
   },
   {
    "duration": 185,
    "start_time": "2022-02-14T01:12:48.529Z"
   },
   {
    "duration": 362,
    "start_time": "2022-02-14T01:12:48.716Z"
   },
   {
    "duration": 35,
    "start_time": "2022-02-14T01:12:49.080Z"
   },
   {
    "duration": 26,
    "start_time": "2022-02-14T01:12:49.117Z"
   },
   {
    "duration": 16,
    "start_time": "2022-02-14T01:12:49.145Z"
   },
   {
    "duration": 49,
    "start_time": "2022-02-14T01:12:49.163Z"
   },
   {
    "duration": 29,
    "start_time": "2022-02-14T01:13:42.245Z"
   },
   {
    "duration": 1380,
    "start_time": "2022-02-20T18:42:02.386Z"
   },
   {
    "duration": 147,
    "start_time": "2022-02-20T18:42:03.768Z"
   },
   {
    "duration": 14,
    "start_time": "2022-02-20T18:42:03.917Z"
   },
   {
    "duration": 16,
    "start_time": "2022-02-20T18:42:03.933Z"
   },
   {
    "duration": 6,
    "start_time": "2022-02-20T18:42:03.951Z"
   },
   {
    "duration": 7,
    "start_time": "2022-02-20T18:42:03.959Z"
   },
   {
    "duration": 5,
    "start_time": "2022-02-20T18:42:03.967Z"
   },
   {
    "duration": 76,
    "start_time": "2022-02-20T18:42:03.974Z"
   },
   {
    "duration": 23,
    "start_time": "2022-02-20T18:42:04.052Z"
   },
   {
    "duration": 14,
    "start_time": "2022-02-20T18:42:04.077Z"
   },
   {
    "duration": 8,
    "start_time": "2022-02-20T18:42:04.093Z"
   },
   {
    "duration": 12,
    "start_time": "2022-02-20T18:42:04.103Z"
   },
   {
    "duration": 31,
    "start_time": "2022-02-20T18:42:04.117Z"
   },
   {
    "duration": 7,
    "start_time": "2022-02-20T18:42:04.149Z"
   },
   {
    "duration": 14,
    "start_time": "2022-02-20T18:42:04.157Z"
   },
   {
    "duration": 34,
    "start_time": "2022-02-20T18:42:04.172Z"
   },
   {
    "duration": 3,
    "start_time": "2022-02-20T18:42:04.208Z"
   },
   {
    "duration": 14,
    "start_time": "2022-02-20T18:42:04.213Z"
   },
   {
    "duration": 25,
    "start_time": "2022-02-20T18:42:04.228Z"
   },
   {
    "duration": 5,
    "start_time": "2022-02-20T18:42:04.254Z"
   },
   {
    "duration": 15,
    "start_time": "2022-02-20T18:42:04.260Z"
   },
   {
    "duration": 1922,
    "start_time": "2022-02-20T18:42:04.276Z"
   },
   {
    "duration": -194,
    "start_time": "2022-02-20T18:42:06.394Z"
   },
   {
    "duration": -196,
    "start_time": "2022-02-20T18:42:06.397Z"
   },
   {
    "duration": -196,
    "start_time": "2022-02-20T18:42:06.398Z"
   },
   {
    "duration": -197,
    "start_time": "2022-02-20T18:42:06.400Z"
   },
   {
    "duration": -197,
    "start_time": "2022-02-20T18:42:06.401Z"
   },
   {
    "duration": -197,
    "start_time": "2022-02-20T18:42:06.402Z"
   },
   {
    "duration": -198,
    "start_time": "2022-02-20T18:42:06.404Z"
   },
   {
    "duration": -198,
    "start_time": "2022-02-20T18:42:06.405Z"
   },
   {
    "duration": -198,
    "start_time": "2022-02-20T18:42:06.406Z"
   },
   {
    "duration": -199,
    "start_time": "2022-02-20T18:42:06.408Z"
   },
   {
    "duration": -199,
    "start_time": "2022-02-20T18:42:06.409Z"
   },
   {
    "duration": -200,
    "start_time": "2022-02-20T18:42:06.411Z"
   },
   {
    "duration": -199,
    "start_time": "2022-02-20T18:42:06.412Z"
   },
   {
    "duration": -199,
    "start_time": "2022-02-20T18:42:06.413Z"
   },
   {
    "duration": -199,
    "start_time": "2022-02-20T18:42:06.414Z"
   },
   {
    "duration": -199,
    "start_time": "2022-02-20T18:42:06.416Z"
   },
   {
    "duration": -199,
    "start_time": "2022-02-20T18:42:06.417Z"
   },
   {
    "duration": -199,
    "start_time": "2022-02-20T18:42:06.418Z"
   },
   {
    "duration": -199,
    "start_time": "2022-02-20T18:42:06.420Z"
   },
   {
    "duration": -199,
    "start_time": "2022-02-20T18:42:06.421Z"
   },
   {
    "duration": -200,
    "start_time": "2022-02-20T18:42:06.423Z"
   },
   {
    "duration": -204,
    "start_time": "2022-02-20T18:42:06.429Z"
   },
   {
    "duration": -206,
    "start_time": "2022-02-20T18:42:06.432Z"
   },
   {
    "duration": -207,
    "start_time": "2022-02-20T18:42:06.434Z"
   },
   {
    "duration": -208,
    "start_time": "2022-02-20T18:42:06.436Z"
   },
   {
    "duration": -209,
    "start_time": "2022-02-20T18:42:06.438Z"
   },
   {
    "duration": -209,
    "start_time": "2022-02-20T18:42:06.439Z"
   },
   {
    "duration": -209,
    "start_time": "2022-02-20T18:42:06.441Z"
   },
   {
    "duration": -209,
    "start_time": "2022-02-20T18:42:06.442Z"
   },
   {
    "duration": 1282,
    "start_time": "2022-02-20T19:08:03.561Z"
   },
   {
    "duration": 117,
    "start_time": "2022-02-20T19:08:04.845Z"
   },
   {
    "duration": 13,
    "start_time": "2022-02-20T19:08:04.965Z"
   },
   {
    "duration": 28,
    "start_time": "2022-02-20T19:08:04.981Z"
   },
   {
    "duration": 4,
    "start_time": "2022-02-20T19:08:05.011Z"
   },
   {
    "duration": 11,
    "start_time": "2022-02-20T19:08:05.017Z"
   },
   {
    "duration": 10,
    "start_time": "2022-02-20T19:08:05.030Z"
   },
   {
    "duration": 59,
    "start_time": "2022-02-20T19:08:05.043Z"
   },
   {
    "duration": 31,
    "start_time": "2022-02-20T19:08:05.105Z"
   },
   {
    "duration": 38,
    "start_time": "2022-02-20T19:08:05.138Z"
   },
   {
    "duration": 11,
    "start_time": "2022-02-20T19:08:05.178Z"
   },
   {
    "duration": 8,
    "start_time": "2022-02-20T19:08:05.190Z"
   },
   {
    "duration": 13,
    "start_time": "2022-02-20T19:08:05.200Z"
   },
   {
    "duration": 6,
    "start_time": "2022-02-20T19:08:05.215Z"
   },
   {
    "duration": 12,
    "start_time": "2022-02-20T19:08:05.222Z"
   },
   {
    "duration": 61,
    "start_time": "2022-02-20T19:08:05.236Z"
   },
   {
    "duration": 5,
    "start_time": "2022-02-20T19:08:05.299Z"
   },
   {
    "duration": 12,
    "start_time": "2022-02-20T19:08:05.305Z"
   },
   {
    "duration": 10,
    "start_time": "2022-02-20T19:08:05.318Z"
   },
   {
    "duration": 6,
    "start_time": "2022-02-20T19:08:05.330Z"
   },
   {
    "duration": 17,
    "start_time": "2022-02-20T19:08:05.369Z"
   },
   {
    "duration": 575,
    "start_time": "2022-02-20T19:08:05.388Z"
   },
   {
    "duration": 31,
    "start_time": "2022-02-20T19:08:05.966Z"
   },
   {
    "duration": 32,
    "start_time": "2022-02-20T19:08:06.000Z"
   },
   {
    "duration": 535,
    "start_time": "2022-02-20T19:08:06.034Z"
   },
   {
    "duration": 521,
    "start_time": "2022-02-20T19:08:06.571Z"
   },
   {
    "duration": 326,
    "start_time": "2022-02-20T19:08:07.094Z"
   },
   {
    "duration": 490,
    "start_time": "2022-02-20T19:08:07.421Z"
   },
   {
    "duration": 401,
    "start_time": "2022-02-20T19:08:07.913Z"
   },
   {
    "duration": 6,
    "start_time": "2022-02-20T19:08:08.316Z"
   },
   {
    "duration": 172,
    "start_time": "2022-02-20T19:08:08.324Z"
   },
   {
    "duration": 9,
    "start_time": "2022-02-20T19:08:08.498Z"
   },
   {
    "duration": 13,
    "start_time": "2022-02-20T19:08:08.508Z"
   },
   {
    "duration": 38,
    "start_time": "2022-02-20T19:08:08.523Z"
   },
   {
    "duration": 15,
    "start_time": "2022-02-20T19:08:08.569Z"
   },
   {
    "duration": 155,
    "start_time": "2022-02-20T19:08:08.586Z"
   },
   {
    "duration": 32,
    "start_time": "2022-02-20T19:08:08.744Z"
   },
   {
    "duration": 616,
    "start_time": "2022-02-20T19:08:08.778Z"
   },
   {
    "duration": 600,
    "start_time": "2022-02-20T19:08:09.396Z"
   },
   {
    "duration": 587,
    "start_time": "2022-02-20T19:08:09.999Z"
   },
   {
    "duration": 12,
    "start_time": "2022-02-20T19:08:10.587Z"
   },
   {
    "duration": 623,
    "start_time": "2022-02-20T19:08:10.601Z"
   },
   {
    "duration": 582,
    "start_time": "2022-02-20T19:08:11.226Z"
   },
   {
    "duration": 683,
    "start_time": "2022-02-20T19:08:11.810Z"
   },
   {
    "duration": 23,
    "start_time": "2022-02-20T19:08:12.496Z"
   },
   {
    "duration": 193,
    "start_time": "2022-02-20T19:08:12.521Z"
   },
   {
    "duration": 402,
    "start_time": "2022-02-20T19:08:12.716Z"
   },
   {
    "duration": 27,
    "start_time": "2022-02-20T19:08:13.120Z"
   },
   {
    "duration": 39,
    "start_time": "2022-02-20T19:08:13.149Z"
   },
   {
    "duration": 17,
    "start_time": "2022-02-20T19:08:13.190Z"
   },
   {
    "duration": 25,
    "start_time": "2022-02-20T19:08:13.209Z"
   },
   {
    "duration": 1196,
    "start_time": "2022-02-20T22:04:23.024Z"
   },
   {
    "duration": 135,
    "start_time": "2022-02-20T22:04:24.222Z"
   },
   {
    "duration": 16,
    "start_time": "2022-02-20T22:04:24.360Z"
   },
   {
    "duration": 9,
    "start_time": "2022-02-20T22:04:24.378Z"
   },
   {
    "duration": 4,
    "start_time": "2022-02-20T22:04:24.389Z"
   },
   {
    "duration": 9,
    "start_time": "2022-02-20T22:04:24.394Z"
   },
   {
    "duration": 5,
    "start_time": "2022-02-20T22:04:24.405Z"
   },
   {
    "duration": 77,
    "start_time": "2022-02-20T22:04:24.413Z"
   },
   {
    "duration": 33,
    "start_time": "2022-02-20T22:04:24.493Z"
   },
   {
    "duration": 20,
    "start_time": "2022-02-20T22:04:24.528Z"
   },
   {
    "duration": 28,
    "start_time": "2022-02-20T22:04:24.550Z"
   },
   {
    "duration": 6,
    "start_time": "2022-02-20T22:04:24.580Z"
   },
   {
    "duration": 12,
    "start_time": "2022-02-20T22:04:24.587Z"
   },
   {
    "duration": 11,
    "start_time": "2022-02-20T22:04:24.601Z"
   },
   {
    "duration": 11,
    "start_time": "2022-02-20T22:04:24.614Z"
   },
   {
    "duration": 71,
    "start_time": "2022-02-20T22:04:24.627Z"
   },
   {
    "duration": 5,
    "start_time": "2022-02-20T22:04:24.700Z"
   },
   {
    "duration": 10,
    "start_time": "2022-02-20T22:04:24.707Z"
   },
   {
    "duration": 11,
    "start_time": "2022-02-20T22:04:24.718Z"
   },
   {
    "duration": 7,
    "start_time": "2022-02-20T22:04:24.731Z"
   },
   {
    "duration": 42,
    "start_time": "2022-02-20T22:04:24.740Z"
   },
   {
    "duration": 527,
    "start_time": "2022-02-20T22:04:24.784Z"
   },
   {
    "duration": 29,
    "start_time": "2022-02-20T22:04:25.314Z"
   },
   {
    "duration": 45,
    "start_time": "2022-02-20T22:04:25.346Z"
   },
   {
    "duration": 492,
    "start_time": "2022-02-20T22:04:25.392Z"
   },
   {
    "duration": 507,
    "start_time": "2022-02-20T22:04:25.885Z"
   },
   {
    "duration": 353,
    "start_time": "2022-02-20T22:04:26.394Z"
   },
   {
    "duration": 501,
    "start_time": "2022-02-20T22:04:26.749Z"
   },
   {
    "duration": 395,
    "start_time": "2022-02-20T22:04:27.252Z"
   },
   {
    "duration": 5,
    "start_time": "2022-02-20T22:04:27.650Z"
   },
   {
    "duration": 178,
    "start_time": "2022-02-20T22:04:27.657Z"
   },
   {
    "duration": 11,
    "start_time": "2022-02-20T22:04:27.837Z"
   },
   {
    "duration": 6,
    "start_time": "2022-02-20T22:04:27.849Z"
   },
   {
    "duration": 37,
    "start_time": "2022-02-20T22:04:27.870Z"
   },
   {
    "duration": 14,
    "start_time": "2022-02-20T22:04:27.909Z"
   },
   {
    "duration": 145,
    "start_time": "2022-02-20T22:04:27.925Z"
   },
   {
    "duration": 24,
    "start_time": "2022-02-20T22:04:28.071Z"
   },
   {
    "duration": 591,
    "start_time": "2022-02-20T22:04:28.097Z"
   },
   {
    "duration": 606,
    "start_time": "2022-02-20T22:04:28.690Z"
   },
   {
    "duration": 581,
    "start_time": "2022-02-20T22:04:29.298Z"
   },
   {
    "duration": 12,
    "start_time": "2022-02-20T22:04:29.881Z"
   },
   {
    "duration": 579,
    "start_time": "2022-02-20T22:04:29.895Z"
   },
   {
    "duration": 590,
    "start_time": "2022-02-20T22:04:30.476Z"
   },
   {
    "duration": 618,
    "start_time": "2022-02-20T22:04:31.067Z"
   },
   {
    "duration": 16,
    "start_time": "2022-02-20T22:04:31.687Z"
   },
   {
    "duration": 193,
    "start_time": "2022-02-20T22:04:31.705Z"
   },
   {
    "duration": 396,
    "start_time": "2022-02-20T22:04:31.900Z"
   },
   {
    "duration": 26,
    "start_time": "2022-02-20T22:04:32.297Z"
   },
   {
    "duration": 25,
    "start_time": "2022-02-20T22:04:32.324Z"
   },
   {
    "duration": 17,
    "start_time": "2022-02-20T22:04:32.370Z"
   },
   {
    "duration": 24,
    "start_time": "2022-02-20T22:04:32.389Z"
   },
   {
    "duration": 1198,
    "start_time": "2022-02-21T09:59:38.702Z"
   },
   {
    "duration": 129,
    "start_time": "2022-02-21T09:59:39.902Z"
   },
   {
    "duration": 13,
    "start_time": "2022-02-21T09:59:40.036Z"
   },
   {
    "duration": 25,
    "start_time": "2022-02-21T09:59:40.051Z"
   },
   {
    "duration": 4,
    "start_time": "2022-02-21T09:59:40.078Z"
   },
   {
    "duration": 12,
    "start_time": "2022-02-21T09:59:40.084Z"
   },
   {
    "duration": 5,
    "start_time": "2022-02-21T09:59:40.099Z"
   },
   {
    "duration": 73,
    "start_time": "2022-02-21T09:59:40.106Z"
   },
   {
    "duration": 32,
    "start_time": "2022-02-21T09:59:40.181Z"
   },
   {
    "duration": 18,
    "start_time": "2022-02-21T09:59:40.215Z"
   },
   {
    "duration": 10,
    "start_time": "2022-02-21T09:59:40.235Z"
   },
   {
    "duration": 5,
    "start_time": "2022-02-21T09:59:40.270Z"
   },
   {
    "duration": 12,
    "start_time": "2022-02-21T09:59:40.277Z"
   },
   {
    "duration": 5,
    "start_time": "2022-02-21T09:59:40.290Z"
   },
   {
    "duration": 10,
    "start_time": "2022-02-21T09:59:40.297Z"
   },
   {
    "duration": 64,
    "start_time": "2022-02-21T09:59:40.309Z"
   },
   {
    "duration": 4,
    "start_time": "2022-02-21T09:59:40.375Z"
   },
   {
    "duration": 19,
    "start_time": "2022-02-21T09:59:40.381Z"
   },
   {
    "duration": 10,
    "start_time": "2022-02-21T09:59:40.402Z"
   },
   {
    "duration": 5,
    "start_time": "2022-02-21T09:59:40.414Z"
   },
   {
    "duration": 15,
    "start_time": "2022-02-21T09:59:40.421Z"
   },
   {
    "duration": 548,
    "start_time": "2022-02-21T09:59:40.439Z"
   },
   {
    "duration": 29,
    "start_time": "2022-02-21T09:59:40.990Z"
   },
   {
    "duration": 31,
    "start_time": "2022-02-21T09:59:41.021Z"
   },
   {
    "duration": 497,
    "start_time": "2022-02-21T09:59:41.070Z"
   },
   {
    "duration": 503,
    "start_time": "2022-02-21T09:59:41.570Z"
   },
   {
    "duration": 330,
    "start_time": "2022-02-21T09:59:42.075Z"
   },
   {
    "duration": 507,
    "start_time": "2022-02-21T09:59:42.407Z"
   },
   {
    "duration": 393,
    "start_time": "2022-02-21T09:59:42.916Z"
   },
   {
    "duration": 5,
    "start_time": "2022-02-21T09:59:43.311Z"
   },
   {
    "duration": 200,
    "start_time": "2022-02-21T09:59:43.318Z"
   },
   {
    "duration": 9,
    "start_time": "2022-02-21T09:59:43.520Z"
   },
   {
    "duration": 19,
    "start_time": "2022-02-21T09:59:43.531Z"
   },
   {
    "duration": 75,
    "start_time": "2022-02-21T09:59:43.552Z"
   },
   {
    "duration": 13,
    "start_time": "2022-02-21T09:59:43.629Z"
   },
   {
    "duration": 157,
    "start_time": "2022-02-21T09:59:43.644Z"
   },
   {
    "duration": 24,
    "start_time": "2022-02-21T09:59:43.803Z"
   },
   {
    "duration": 564,
    "start_time": "2022-02-21T09:59:43.830Z"
   },
   {
    "duration": 582,
    "start_time": "2022-02-21T09:59:44.397Z"
   },
   {
    "duration": 562,
    "start_time": "2022-02-21T09:59:44.980Z"
   },
   {
    "duration": 12,
    "start_time": "2022-02-21T09:59:45.544Z"
   },
   {
    "duration": 555,
    "start_time": "2022-02-21T09:59:45.557Z"
   },
   {
    "duration": 559,
    "start_time": "2022-02-21T09:59:46.113Z"
   },
   {
    "duration": 641,
    "start_time": "2022-02-21T09:59:46.673Z"
   },
   {
    "duration": 16,
    "start_time": "2022-02-21T09:59:47.316Z"
   },
   {
    "duration": 191,
    "start_time": "2022-02-21T09:59:47.334Z"
   },
   {
    "duration": 411,
    "start_time": "2022-02-21T09:59:47.527Z"
   },
   {
    "duration": 34,
    "start_time": "2022-02-21T09:59:47.940Z"
   },
   {
    "duration": 27,
    "start_time": "2022-02-21T09:59:47.976Z"
   },
   {
    "duration": 17,
    "start_time": "2022-02-21T09:59:48.004Z"
   },
   {
    "duration": 22,
    "start_time": "2022-02-21T09:59:48.023Z"
   },
   {
    "duration": 83,
    "start_time": "2022-02-21T12:13:41.125Z"
   },
   {
    "duration": 81,
    "start_time": "2022-02-21T12:14:20.873Z"
   },
   {
    "duration": 87,
    "start_time": "2022-02-21T12:16:37.890Z"
   },
   {
    "duration": 1298,
    "start_time": "2022-02-21T12:19:50.646Z"
   },
   {
    "duration": 138,
    "start_time": "2022-02-21T12:19:51.946Z"
   },
   {
    "duration": 13,
    "start_time": "2022-02-21T12:19:52.086Z"
   },
   {
    "duration": 11,
    "start_time": "2022-02-21T12:19:52.101Z"
   },
   {
    "duration": 4,
    "start_time": "2022-02-21T12:19:52.113Z"
   },
   {
    "duration": 9,
    "start_time": "2022-02-21T12:19:52.119Z"
   },
   {
    "duration": 38,
    "start_time": "2022-02-21T12:19:52.130Z"
   },
   {
    "duration": 49,
    "start_time": "2022-02-21T12:19:52.172Z"
   },
   {
    "duration": 53,
    "start_time": "2022-02-21T12:19:52.223Z"
   },
   {
    "duration": 22,
    "start_time": "2022-02-21T12:19:52.278Z"
   },
   {
    "duration": 12,
    "start_time": "2022-02-21T12:19:52.301Z"
   },
   {
    "duration": 6,
    "start_time": "2022-02-21T12:19:52.314Z"
   },
   {
    "duration": 18,
    "start_time": "2022-02-21T12:19:52.322Z"
   },
   {
    "duration": 27,
    "start_time": "2022-02-21T12:19:52.342Z"
   },
   {
    "duration": 20,
    "start_time": "2022-02-21T12:19:52.372Z"
   },
   {
    "duration": 51,
    "start_time": "2022-02-21T12:19:52.394Z"
   },
   {
    "duration": 25,
    "start_time": "2022-02-21T12:19:52.447Z"
   },
   {
    "duration": 9,
    "start_time": "2022-02-21T12:19:52.474Z"
   },
   {
    "duration": 14,
    "start_time": "2022-02-21T12:19:52.485Z"
   },
   {
    "duration": 6,
    "start_time": "2022-02-21T12:19:52.501Z"
   },
   {
    "duration": 22,
    "start_time": "2022-02-21T12:19:52.509Z"
   },
   {
    "duration": 573,
    "start_time": "2022-02-21T12:19:52.533Z"
   },
   {
    "duration": 32,
    "start_time": "2022-02-21T12:19:53.110Z"
   },
   {
    "duration": 49,
    "start_time": "2022-02-21T12:19:53.144Z"
   },
   {
    "duration": 534,
    "start_time": "2022-02-21T12:19:53.195Z"
   },
   {
    "duration": 519,
    "start_time": "2022-02-21T12:19:53.732Z"
   },
   {
    "duration": 358,
    "start_time": "2022-02-21T12:19:54.253Z"
   },
   {
    "duration": 507,
    "start_time": "2022-02-21T12:19:54.613Z"
   },
   {
    "duration": 412,
    "start_time": "2022-02-21T12:19:55.122Z"
   },
   {
    "duration": 7,
    "start_time": "2022-02-21T12:19:55.536Z"
   },
   {
    "duration": 186,
    "start_time": "2022-02-21T12:19:55.545Z"
   },
   {
    "duration": 10,
    "start_time": "2022-02-21T12:19:55.733Z"
   },
   {
    "duration": 3,
    "start_time": "2022-02-21T12:19:55.745Z"
   },
   {
    "duration": 51,
    "start_time": "2022-02-21T12:19:55.750Z"
   },
   {
    "duration": 15,
    "start_time": "2022-02-21T12:19:55.803Z"
   },
   {
    "duration": 159,
    "start_time": "2022-02-21T12:19:55.820Z"
   },
   {
    "duration": 25,
    "start_time": "2022-02-21T12:19:55.981Z"
   },
   {
    "duration": 648,
    "start_time": "2022-02-21T12:19:56.008Z"
   },
   {
    "duration": 611,
    "start_time": "2022-02-21T12:19:56.658Z"
   },
   {
    "duration": 590,
    "start_time": "2022-02-21T12:19:57.271Z"
   },
   {
    "duration": 17,
    "start_time": "2022-02-21T12:19:57.864Z"
   },
   {
    "duration": 621,
    "start_time": "2022-02-21T12:19:57.884Z"
   },
   {
    "duration": 579,
    "start_time": "2022-02-21T12:19:58.507Z"
   },
   {
    "duration": 711,
    "start_time": "2022-02-21T12:19:59.088Z"
   },
   {
    "duration": 18,
    "start_time": "2022-02-21T12:19:59.802Z"
   },
   {
    "duration": 205,
    "start_time": "2022-02-21T12:19:59.822Z"
   },
   {
    "duration": 426,
    "start_time": "2022-02-21T12:20:00.029Z"
   },
   {
    "duration": 34,
    "start_time": "2022-02-21T12:20:00.457Z"
   },
   {
    "duration": 29,
    "start_time": "2022-02-21T12:20:00.493Z"
   },
   {
    "duration": 45,
    "start_time": "2022-02-21T12:20:00.525Z"
   },
   {
    "duration": 27,
    "start_time": "2022-02-21T12:20:00.572Z"
   },
   {
    "duration": 1112,
    "start_time": "2022-02-21T21:07:19.775Z"
   },
   {
    "duration": 97,
    "start_time": "2022-02-21T21:07:20.889Z"
   },
   {
    "duration": 9,
    "start_time": "2022-02-21T21:07:20.988Z"
   },
   {
    "duration": 7,
    "start_time": "2022-02-21T21:07:20.999Z"
   },
   {
    "duration": 3,
    "start_time": "2022-02-21T21:07:21.008Z"
   },
   {
    "duration": 7,
    "start_time": "2022-02-21T21:07:21.012Z"
   },
   {
    "duration": 6,
    "start_time": "2022-02-21T21:07:21.020Z"
   },
   {
    "duration": 51,
    "start_time": "2022-02-21T21:07:21.028Z"
   },
   {
    "duration": 26,
    "start_time": "2022-02-21T21:07:21.081Z"
   },
   {
    "duration": 16,
    "start_time": "2022-02-21T21:07:21.108Z"
   },
   {
    "duration": 28,
    "start_time": "2022-02-21T21:07:21.125Z"
   },
   {
    "duration": 16,
    "start_time": "2022-02-21T21:07:21.154Z"
   },
   {
    "duration": 10,
    "start_time": "2022-02-21T21:07:21.172Z"
   },
   {
    "duration": 17,
    "start_time": "2022-02-21T21:07:21.184Z"
   },
   {
    "duration": 26,
    "start_time": "2022-02-21T21:07:21.202Z"
   },
   {
    "duration": 34,
    "start_time": "2022-02-21T21:07:21.229Z"
   },
   {
    "duration": 3,
    "start_time": "2022-02-21T21:07:21.265Z"
   },
   {
    "duration": 17,
    "start_time": "2022-02-21T21:07:21.270Z"
   },
   {
    "duration": 11,
    "start_time": "2022-02-21T21:07:21.289Z"
   },
   {
    "duration": 6,
    "start_time": "2022-02-21T21:07:21.302Z"
   },
   {
    "duration": 16,
    "start_time": "2022-02-21T21:07:21.310Z"
   },
   {
    "duration": 447,
    "start_time": "2022-02-21T21:07:21.327Z"
   },
   {
    "duration": 24,
    "start_time": "2022-02-21T21:07:21.777Z"
   },
   {
    "duration": 26,
    "start_time": "2022-02-21T21:07:21.803Z"
   },
   {
    "duration": 374,
    "start_time": "2022-02-21T21:07:21.830Z"
   },
   {
    "duration": 385,
    "start_time": "2022-02-21T21:07:22.206Z"
   },
   {
    "duration": 446,
    "start_time": "2022-02-21T21:07:22.592Z"
   },
   {
    "duration": 363,
    "start_time": "2022-02-21T21:07:23.040Z"
   },
   {
    "duration": 307,
    "start_time": "2022-02-21T21:07:23.405Z"
   },
   {
    "duration": 5,
    "start_time": "2022-02-21T21:07:23.713Z"
   },
   {
    "duration": 130,
    "start_time": "2022-02-21T21:07:23.720Z"
   },
   {
    "duration": 8,
    "start_time": "2022-02-21T21:07:23.852Z"
   },
   {
    "duration": 2,
    "start_time": "2022-02-21T21:07:23.861Z"
   },
   {
    "duration": 25,
    "start_time": "2022-02-21T21:07:23.865Z"
   },
   {
    "duration": 12,
    "start_time": "2022-02-21T21:07:23.892Z"
   },
   {
    "duration": 129,
    "start_time": "2022-02-21T21:07:23.905Z"
   },
   {
    "duration": 26,
    "start_time": "2022-02-21T21:07:24.035Z"
   },
   {
    "duration": 510,
    "start_time": "2022-02-21T21:07:24.062Z"
   },
   {
    "duration": 663,
    "start_time": "2022-02-21T21:07:24.574Z"
   },
   {
    "duration": 449,
    "start_time": "2022-02-21T21:07:25.240Z"
   },
   {
    "duration": 9,
    "start_time": "2022-02-21T21:07:25.691Z"
   },
   {
    "duration": 479,
    "start_time": "2022-02-21T21:07:25.702Z"
   },
   {
    "duration": 488,
    "start_time": "2022-02-21T21:07:26.183Z"
   },
   {
    "duration": 562,
    "start_time": "2022-02-21T21:07:26.673Z"
   },
   {
    "duration": 18,
    "start_time": "2022-02-21T21:07:27.237Z"
   },
   {
    "duration": 149,
    "start_time": "2022-02-21T21:07:27.256Z"
   },
   {
    "duration": 296,
    "start_time": "2022-02-21T21:07:27.407Z"
   },
   {
    "duration": 20,
    "start_time": "2022-02-21T21:07:27.705Z"
   },
   {
    "duration": 32,
    "start_time": "2022-02-21T21:07:27.726Z"
   },
   {
    "duration": 13,
    "start_time": "2022-02-21T21:07:27.759Z"
   },
   {
    "duration": 18,
    "start_time": "2022-02-21T21:07:27.773Z"
   },
   {
    "duration": 546,
    "start_time": "2022-02-21T21:07:27.793Z"
   },
   {
    "duration": 195,
    "start_time": "2022-02-21T21:07:39.038Z"
   },
   {
    "duration": 146,
    "start_time": "2022-02-21T21:08:13.402Z"
   },
   {
    "duration": 3,
    "start_time": "2022-02-21T21:08:19.133Z"
   },
   {
    "duration": 91,
    "start_time": "2022-02-21T21:08:19.140Z"
   },
   {
    "duration": 9,
    "start_time": "2022-02-21T21:08:19.246Z"
   },
   {
    "duration": 7,
    "start_time": "2022-02-21T21:08:19.257Z"
   },
   {
    "duration": 4,
    "start_time": "2022-02-21T21:08:19.266Z"
   },
   {
    "duration": 7,
    "start_time": "2022-02-21T21:08:19.271Z"
   },
   {
    "duration": 5,
    "start_time": "2022-02-21T21:08:19.280Z"
   },
   {
    "duration": 63,
    "start_time": "2022-02-21T21:08:19.286Z"
   },
   {
    "duration": 27,
    "start_time": "2022-02-21T21:08:19.351Z"
   },
   {
    "duration": 14,
    "start_time": "2022-02-21T21:08:19.379Z"
   },
   {
    "duration": 7,
    "start_time": "2022-02-21T21:08:19.394Z"
   },
   {
    "duration": 8,
    "start_time": "2022-02-21T21:08:19.402Z"
   },
   {
    "duration": 11,
    "start_time": "2022-02-21T21:08:19.411Z"
   },
   {
    "duration": 22,
    "start_time": "2022-02-21T21:08:19.424Z"
   },
   {
    "duration": 11,
    "start_time": "2022-02-21T21:08:19.447Z"
   },
   {
    "duration": 30,
    "start_time": "2022-02-21T21:08:19.460Z"
   },
   {
    "duration": 3,
    "start_time": "2022-02-21T21:08:19.491Z"
   },
   {
    "duration": 9,
    "start_time": "2022-02-21T21:08:19.495Z"
   },
   {
    "duration": 11,
    "start_time": "2022-02-21T21:08:19.505Z"
   },
   {
    "duration": 30,
    "start_time": "2022-02-21T21:08:19.517Z"
   },
   {
    "duration": 12,
    "start_time": "2022-02-21T21:08:19.548Z"
   },
   {
    "duration": 429,
    "start_time": "2022-02-21T21:08:19.561Z"
   },
   {
    "duration": 24,
    "start_time": "2022-02-21T21:08:19.991Z"
   },
   {
    "duration": 37,
    "start_time": "2022-02-21T21:08:20.018Z"
   },
   {
    "duration": 334,
    "start_time": "2022-02-21T21:08:20.057Z"
   },
   {
    "duration": 344,
    "start_time": "2022-02-21T21:08:20.393Z"
   },
   {
    "duration": 265,
    "start_time": "2022-02-21T21:08:20.739Z"
   },
   {
    "duration": 341,
    "start_time": "2022-02-21T21:08:21.005Z"
   },
   {
    "duration": 277,
    "start_time": "2022-02-21T21:08:21.347Z"
   },
   {
    "duration": 4,
    "start_time": "2022-02-21T21:08:21.626Z"
   },
   {
    "duration": 124,
    "start_time": "2022-02-21T21:08:21.632Z"
   },
   {
    "duration": 8,
    "start_time": "2022-02-21T21:08:21.758Z"
   },
   {
    "duration": 2,
    "start_time": "2022-02-21T21:08:21.768Z"
   },
   {
    "duration": 29,
    "start_time": "2022-02-21T21:08:21.771Z"
   },
   {
    "duration": 12,
    "start_time": "2022-02-21T21:08:21.801Z"
   },
   {
    "duration": 125,
    "start_time": "2022-02-21T21:08:21.815Z"
   },
   {
    "duration": 19,
    "start_time": "2022-02-21T21:08:21.942Z"
   },
   {
    "duration": 460,
    "start_time": "2022-02-21T21:08:21.962Z"
   },
   {
    "duration": 470,
    "start_time": "2022-02-21T21:08:22.424Z"
   },
   {
    "duration": 469,
    "start_time": "2022-02-21T21:08:22.895Z"
   },
   {
    "duration": 11,
    "start_time": "2022-02-21T21:08:23.366Z"
   },
   {
    "duration": 501,
    "start_time": "2022-02-21T21:08:23.378Z"
   },
   {
    "duration": 489,
    "start_time": "2022-02-21T21:08:23.880Z"
   },
   {
    "duration": 583,
    "start_time": "2022-02-21T21:08:24.371Z"
   },
   {
    "duration": 14,
    "start_time": "2022-02-21T21:08:24.955Z"
   },
   {
    "duration": 151,
    "start_time": "2022-02-21T21:08:24.970Z"
   },
   {
    "duration": 295,
    "start_time": "2022-02-21T21:08:25.122Z"
   },
   {
    "duration": 29,
    "start_time": "2022-02-21T21:08:25.419Z"
   },
   {
    "duration": 19,
    "start_time": "2022-02-21T21:08:25.450Z"
   },
   {
    "duration": 13,
    "start_time": "2022-02-21T21:08:25.471Z"
   },
   {
    "duration": 19,
    "start_time": "2022-02-21T21:08:25.485Z"
   },
   {
    "duration": 108,
    "start_time": "2022-02-21T21:08:25.505Z"
   },
   {
    "duration": 106,
    "start_time": "2022-02-21T21:08:34.094Z"
   },
   {
    "duration": 186,
    "start_time": "2022-02-21T21:08:45.819Z"
   },
   {
    "duration": 169,
    "start_time": "2022-02-21T21:09:15.052Z"
   },
   {
    "duration": 182,
    "start_time": "2022-02-21T21:09:22.825Z"
   },
   {
    "duration": 187,
    "start_time": "2022-02-21T21:09:38.372Z"
   },
   {
    "duration": 190,
    "start_time": "2022-02-21T21:10:01.574Z"
   },
   {
    "duration": 190,
    "start_time": "2022-02-21T21:10:48.651Z"
   },
   {
    "duration": 222,
    "start_time": "2022-02-21T21:11:25.001Z"
   },
   {
    "duration": 173,
    "start_time": "2022-02-21T21:12:36.202Z"
   },
   {
    "duration": 179,
    "start_time": "2022-02-21T21:13:54.830Z"
   },
   {
    "duration": 169,
    "start_time": "2022-02-21T21:14:11.813Z"
   },
   {
    "duration": 222,
    "start_time": "2022-02-21T21:15:42.459Z"
   },
   {
    "duration": 247,
    "start_time": "2022-02-21T21:15:55.131Z"
   },
   {
    "duration": 179,
    "start_time": "2022-02-21T21:16:07.330Z"
   },
   {
    "duration": 172,
    "start_time": "2022-02-21T21:16:35.158Z"
   },
   {
    "duration": -68,
    "start_time": "2022-02-21T21:18:32.381Z"
   },
   {
    "duration": 170,
    "start_time": "2022-02-21T21:18:40.101Z"
   },
   {
    "duration": 181,
    "start_time": "2022-02-21T21:19:00.825Z"
   },
   {
    "duration": 272,
    "start_time": "2022-02-21T21:19:09.794Z"
   },
   {
    "duration": 170,
    "start_time": "2022-02-21T21:19:26.284Z"
   },
   {
    "duration": 182,
    "start_time": "2022-02-21T21:19:38.404Z"
   },
   {
    "duration": 172,
    "start_time": "2022-02-21T21:19:48.217Z"
   },
   {
    "duration": 9,
    "start_time": "2022-02-21T21:28:42.733Z"
   },
   {
    "duration": 533,
    "start_time": "2022-02-21T21:28:51.705Z"
   },
   {
    "duration": 9,
    "start_time": "2022-02-21T21:28:58.101Z"
   },
   {
    "duration": 9,
    "start_time": "2022-02-21T21:29:42.579Z"
   },
   {
    "duration": 1102,
    "start_time": "2022-02-21T21:39:27.477Z"
   },
   {
    "duration": 97,
    "start_time": "2022-02-21T21:39:28.581Z"
   },
   {
    "duration": 9,
    "start_time": "2022-02-21T21:39:28.680Z"
   },
   {
    "duration": 7,
    "start_time": "2022-02-21T21:39:28.691Z"
   },
   {
    "duration": 7,
    "start_time": "2022-02-21T21:39:28.700Z"
   },
   {
    "duration": 7,
    "start_time": "2022-02-21T21:39:28.708Z"
   },
   {
    "duration": 4,
    "start_time": "2022-02-21T21:39:28.716Z"
   },
   {
    "duration": 55,
    "start_time": "2022-02-21T21:39:28.722Z"
   },
   {
    "duration": 26,
    "start_time": "2022-02-21T21:39:28.778Z"
   },
   {
    "duration": 16,
    "start_time": "2022-02-21T21:39:28.805Z"
   },
   {
    "duration": 26,
    "start_time": "2022-02-21T21:39:28.822Z"
   },
   {
    "duration": 5,
    "start_time": "2022-02-21T21:39:28.849Z"
   },
   {
    "duration": 9,
    "start_time": "2022-02-21T21:39:28.855Z"
   },
   {
    "duration": 5,
    "start_time": "2022-02-21T21:39:28.866Z"
   },
   {
    "duration": 10,
    "start_time": "2022-02-21T21:39:28.872Z"
   },
   {
    "duration": 31,
    "start_time": "2022-02-21T21:39:28.883Z"
   },
   {
    "duration": 32,
    "start_time": "2022-02-21T21:39:28.915Z"
   },
   {
    "duration": 8,
    "start_time": "2022-02-21T21:39:28.949Z"
   },
   {
    "duration": 10,
    "start_time": "2022-02-21T21:39:28.959Z"
   },
   {
    "duration": 5,
    "start_time": "2022-02-21T21:39:28.970Z"
   },
   {
    "duration": 19,
    "start_time": "2022-02-21T21:39:28.977Z"
   },
   {
    "duration": 450,
    "start_time": "2022-02-21T21:39:28.997Z"
   },
   {
    "duration": 24,
    "start_time": "2022-02-21T21:39:29.450Z"
   },
   {
    "duration": 24,
    "start_time": "2022-02-21T21:39:29.476Z"
   },
   {
    "duration": 370,
    "start_time": "2022-02-21T21:39:29.502Z"
   },
   {
    "duration": 474,
    "start_time": "2022-02-21T21:39:29.874Z"
   },
   {
    "duration": 259,
    "start_time": "2022-02-21T21:39:30.350Z"
   },
   {
    "duration": 370,
    "start_time": "2022-02-21T21:39:30.611Z"
   },
   {
    "duration": 288,
    "start_time": "2022-02-21T21:39:30.983Z"
   },
   {
    "duration": 5,
    "start_time": "2022-02-21T21:39:31.272Z"
   },
   {
    "duration": 132,
    "start_time": "2022-02-21T21:39:31.279Z"
   },
   {
    "duration": 9,
    "start_time": "2022-02-21T21:39:31.412Z"
   },
   {
    "duration": 8,
    "start_time": "2022-02-21T21:39:31.423Z"
   },
   {
    "duration": 38,
    "start_time": "2022-02-21T21:39:31.432Z"
   },
   {
    "duration": 16,
    "start_time": "2022-02-21T21:39:31.472Z"
   },
   {
    "duration": 122,
    "start_time": "2022-02-21T21:39:31.490Z"
   },
   {
    "duration": 17,
    "start_time": "2022-02-21T21:39:31.614Z"
   },
   {
    "duration": 456,
    "start_time": "2022-02-21T21:39:31.633Z"
   },
   {
    "duration": 476,
    "start_time": "2022-02-21T21:39:32.091Z"
   },
   {
    "duration": 595,
    "start_time": "2022-02-21T21:39:32.569Z"
   },
   {
    "duration": 28,
    "start_time": "2022-02-21T21:39:33.166Z"
   },
   {
    "duration": 562,
    "start_time": "2022-02-21T21:39:33.196Z"
   },
   {
    "duration": 470,
    "start_time": "2022-02-21T21:39:33.759Z"
   },
   {
    "duration": 543,
    "start_time": "2022-02-21T21:39:34.230Z"
   },
   {
    "duration": 13,
    "start_time": "2022-02-21T21:39:34.775Z"
   },
   {
    "duration": 151,
    "start_time": "2022-02-21T21:39:34.789Z"
   },
   {
    "duration": 286,
    "start_time": "2022-02-21T21:39:34.942Z"
   },
   {
    "duration": 27,
    "start_time": "2022-02-21T21:39:35.230Z"
   },
   {
    "duration": 19,
    "start_time": "2022-02-21T21:39:35.259Z"
   },
   {
    "duration": 12,
    "start_time": "2022-02-21T21:39:35.280Z"
   },
   {
    "duration": 18,
    "start_time": "2022-02-21T21:39:35.293Z"
   },
   {
    "duration": 213,
    "start_time": "2022-02-21T21:39:35.312Z"
   },
   {
    "duration": 171,
    "start_time": "2022-02-21T21:39:35.527Z"
   },
   {
    "duration": 183,
    "start_time": "2022-02-21T21:39:35.700Z"
   },
   {
    "duration": 180,
    "start_time": "2022-02-21T21:39:35.885Z"
   }
  ],
  "kernelspec": {
   "display_name": "Python 3 (ipykernel)",
   "language": "python",
   "name": "python3"
  },
  "language_info": {
   "codemirror_mode": {
    "name": "ipython",
    "version": 3
   },
   "file_extension": ".py",
   "mimetype": "text/x-python",
   "name": "python",
   "nbconvert_exporter": "python",
   "pygments_lexer": "ipython3",
   "version": "3.9.7"
  },
  "toc": {
   "base_numbering": 1,
   "nav_menu": {},
   "number_sections": true,
   "sideBar": true,
   "skip_h1_title": true,
   "title_cell": "Содержание",
   "title_sidebar": "Contents",
   "toc_cell": true,
   "toc_position": {
    "height": "calc(100% - 180px)",
    "left": "10px",
    "top": "150px",
    "width": "199px"
   },
   "toc_section_display": true,
   "toc_window_display": true
  }
 },
 "nbformat": 4,
 "nbformat_minor": 2
}
